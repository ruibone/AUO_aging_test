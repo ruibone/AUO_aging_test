{
 "cells": [
  {
   "cell_type": "code",
   "execution_count": 3,
   "metadata": {
    "ExecuteTime": {
     "end_time": "2021-09-27T08:22:11.128511Z",
     "start_time": "2021-09-27T08:22:11.103870Z"
    },
    "scrolled": true
   },
   "outputs": [
    {
     "data": {
      "text/plain": [
       "'C:\\\\Users\\\\user\\\\Desktop\\\\Darui_R08621110'"
      ]
     },
     "execution_count": 3,
     "metadata": {},
     "output_type": "execute_result"
    }
   ],
   "source": [
    "import os\n",
    "import time\n",
    "import itertools\n",
    "import numpy as np\n",
    "import pandas as pd\n",
    "import matplotlib.pyplot as plt\n",
    "import pickle\n",
    "from tqdm.auto import tqdm\n",
    "import openpyxl\n",
    "\n",
    "from sklearn.linear_model import LogisticRegression, RidgeCV, Ridge\n",
    "from sklearn.tree import DecisionTreeClassifier, DecisionTreeRegressor\n",
    "from sklearn.ensemble import ExtraTreesClassifier, ExtraTreesRegressor\n",
    "from sklearn.model_selection import train_test_split\n",
    "from catboost import CatBoostClassifier, CatBoostRegressor\n",
    "from lightgbm import LGBMClassifier, LGBMRegressor\n",
    "from xgboost import XGBClassifier, XGBRegressor\n",
    "\n",
    "from Dataset_Construction import Balance_Ratio \n",
    "from Sampling import label_divide\n",
    "from AdaClassifier import train_set, multiple_set, print_badC, bad_plot, line_chart, cf_matrix, runall_AdaBoostC\n",
    "from AdaRegressor import AUC, PR_curve, multiple_curve, PR_matrix, best_threshold, runall_AdaBoostR\n",
    "from Aging_Score import score1\n",
    "from XGBoost import optuna_history, runall_XGBoostC, runall_XGBoostR\n",
    "from CatBoost import runall_CatBoostC, runall_CatBoostR\n",
    "from Light_GBM import runall_LightGBMC, runall_LightGBMR\n",
    "from Random_Forest import runall_ForestC, runall_ForestR\n",
    "from Extra_Trees import runall_ExtraTreesC, runall_ExtraTreesR\n",
    "\n",
    "os.chdir('C:/Users/user/Desktop/Darui_R08621110')  \n",
    "os.getcwd()"
   ]
  },
  {
   "cell_type": "markdown",
   "metadata": {},
   "source": [
    "### Load all hyperparamters"
   ]
  },
  {
   "cell_type": "code",
   "execution_count": 4,
   "metadata": {
    "ExecuteTime": {
     "end_time": "2021-09-27T08:22:13.336379Z",
     "start_time": "2021-09-27T08:22:13.330068Z"
    },
    "scrolled": true
   },
   "outputs": [],
   "source": [
    "def load_hyper(num_set, date, model_list, iter_list, filename, mode, sampler) :\n",
    "    \n",
    "    allset_dict = {}\n",
    "    for j in range(num_set) :\n",
    "\n",
    "        oneset_dict = {}\n",
    "        for i, model in enumerate(model_list) :\n",
    "\n",
    "            with open(f'hyperparameter/{date}/{filename}_{model}{mode}_{sampler}_{iter_list[i]}.data', 'rb') as f :\n",
    "                temp_dict = pickle.load(f)\n",
    "                oneset_dict[model] = temp_dict[f'set{j}']\n",
    "        allset_dict[f'set{j}'] = oneset_dict\n",
    "        \n",
    "    return allset_dict\n",
    "\n",
    "\n",
    "def tableau_hyper(num_set, date, model_list, iter_list, filename, mode, sampler_list) :\n",
    "    \n",
    "    model_dict = {}\n",
    "    for j, model in enumerate(model_list) :\n",
    "\n",
    "        sampler_dict = {}\n",
    "        for i, sampler in enumerate(sampler_list) :\n",
    "\n",
    "            with open(f'hyperparameter/{date}/{filename}_{model}{mode}_{sampler}_{iter_list[j]}.data', 'rb') as f :\n",
    "                temp_dict = pickle.load(f)\n",
    "                sampler_dict[sampler] = temp_dict\n",
    "                \n",
    "        model_dict[model] = sampler_dict\n",
    "\n",
    "    return model_dict"
   ]
  },
  {
   "cell_type": "code",
   "execution_count": 5,
   "metadata": {
    "ExecuteTime": {
     "end_time": "2021-09-27T08:22:14.964203Z",
     "start_time": "2021-09-27T08:22:14.936516Z"
    }
   },
   "outputs": [],
   "source": [
    "hyper_infoC = {\n",
    "    'num_set': 10,\n",
    "    'date': '20210928',\n",
    "    'model_list': ['LightGBM', 'XGBoost', 'CatBoost', 'AdaBoost', 'RandomForest', 'ExtraTrees'],\n",
    "    'iter_list': [200, 200, 200, 25, 50, 50],\n",
    "    'filename': 'runhist_array_m2m5_4selection',\n",
    "    'mode': 'C',\n",
    "    'sampler_list': ['univariate-TPE', 'multivariate-TPE']\n",
    "}\n",
    "\n",
    "output_hyper = tableau_hyper(**hyper_infoC)"
   ]
  },
  {
   "cell_type": "markdown",
   "metadata": {},
   "source": [
    "## Data Processing"
   ]
  },
  {
   "cell_type": "markdown",
   "metadata": {},
   "source": [
    "### Runhist data"
   ]
  },
  {
   "cell_type": "code",
   "execution_count": 6,
   "metadata": {
    "ExecuteTime": {
     "end_time": "2021-09-27T08:22:24.512843Z",
     "start_time": "2021-09-27T08:22:20.833300Z"
    }
   },
   "outputs": [
    {
     "name": "stdout",
     "output_type": "stream",
     "text": [
      "Total bad types: 62\n",
      "\n",
      "training data: (77138, 83) \n",
      "Balance Ratio: 18.17902\n",
      "\n",
      "testing data: (55903, 83) \n",
      "Balance Ratio: 3104.72222\n",
      "Dimension of dataset 0 : (157145, 118)  balance ratio: 558.23488\n",
      "Dimension of dataset 1 : (4980, 118)  balance ratio: 1.0\n",
      "Dimension of dataset 2 : (4340, 118)  balance ratio: 1.0\n",
      "Dimension of dataset 3 : (5572, 118)  balance ratio: 1.0\n",
      "Dimension of dataset 4 : (5018, 118)  balance ratio: 1.0\n",
      "Dimension of dataset 5 : (5131, 118)  balance ratio: 0.99107\n",
      "Dimension of dataset 6 : (4979, 118)  balance ratio: 1.29553\n",
      "Dimension of dataset 7 : (5108, 118)  balance ratio: 1.0\n",
      "Dimension of dataset 8 : (5108, 118)  balance ratio: 1.0\n",
      "Dimension of dataset 9 : (2835, 118)  balance ratio: 9.08897\n",
      "\n",
      " 10 datasets are loaded.\n",
      "\n",
      "Labels of  10 datasets are divided.\n",
      "\n",
      " Dimension of run test: (48649, 118)\n"
     ]
    }
   ],
   "source": [
    "###bad types###\n",
    "bad = pd.read_csv('event/Bad_Types.csv').iloc[:, 1:]\n",
    "Bad_Types = {bad.cb[i]:i for i in range (len(bad))}\n",
    "print('Total bad types:', len(bad))\n",
    "\n",
    "###single dataset###\n",
    "test = pd.read_csv('event/TestingSet_0.csv').iloc[:, 2:]\n",
    "train = pd.read_csv('event/TrainingSet_new.csv').iloc[:, 2:]\n",
    "print('\\ntraining data:', train.shape, '\\nBalance Ratio:', Balance_Ratio(train))\n",
    "print('\\ntesting data:', test.shape, '\\nBalance Ratio:', Balance_Ratio(test))\n",
    "\n",
    "train_x, train_y, test_x, test_y = label_divide(train, test, 'GB')\n",
    "\n",
    "###multiple dataset###\n",
    "data_dict = multiple_set(num_set = 10)\n",
    "trainset_x, trainset_y = train_set(data_dict, num_set = 10, label = 'GB')\n",
    "test_x, test_y = label_divide(test, None, 'GB', train_only = True)\n",
    "\n",
    "\n",
    "#####for runhist dataset#####\n",
    "# bad = pd.read_csv('run_bad_types.csv').iloc[:, 1:]\n",
    "# Bad_Types = {bad.cb[i]:i for i in range (len(bad))}\n",
    "# print('Total bad types:', len(bad))\n",
    "\n",
    "run_test = pd.read_csv('test_runhist.csv').iloc[:, 2:]\n",
    "run_test_x, run_test_y = label_divide(run_test, None, 'GB', train_only = True)\n",
    "print('\\n', 'Dimension of run test:', run_test.shape)"
   ]
  },
  {
   "cell_type": "markdown",
   "metadata": {},
   "source": [
    "## Output for Tableau"
   ]
  },
  {
   "cell_type": "markdown",
   "metadata": {},
   "source": [
    "### Classifier"
   ]
  },
  {
   "cell_type": "code",
   "execution_count": 9,
   "metadata": {
    "ExecuteTime": {
     "end_time": "2021-09-27T08:35:55.477409Z",
     "start_time": "2021-09-27T08:35:55.468434Z"
    },
    "scrolled": true
   },
   "outputs": [],
   "source": [
    "def tableau_classifier(hyper, num_set, trainset_x, trainset_y, test_x, test_y) :\n",
    "    \n",
    "    temp_models = pd.DataFrame()\n",
    "    for model in tqdm(hyper.keys()):\n",
    "    \n",
    "        if model == 'XGBoost' :\n",
    "\n",
    "            temp_uni = runall_XGBoostC(num_set, trainset_x, test_x, trainset_y, test_y, \n",
    "                                       hyper['XGBoost']['univariate-TPE'], record_bad = False)\n",
    "            temp_multi = runall_XGBoostC(num_set, trainset_x, test_x, trainset_y, test_y, \n",
    "                                         hyper['XGBoost']['multivariate-TPE'], record_bad = False)\n",
    "            \n",
    "        elif model == 'LightGBM' :\n",
    "            \n",
    "            temp_uni = runall_LightGBMC(num_set, trainset_x, test_x, trainset_y, test_y, \n",
    "                                        hyper['LightGBM']['univariate-TPE'], record_bad = False)\n",
    "            temp_multi = runall_LightGBMC(num_set, trainset_x, test_x, trainset_y, test_y, \n",
    "                                          hyper['LightGBM']['multivariate-TPE'], record_bad = False)\n",
    "            \n",
    "        elif model == 'CatBoost' :\n",
    "            \n",
    "            temp_uni = runall_CatBoostC(num_set, trainset_x, test_x, trainset_y, test_y, \n",
    "                                        hyper['CatBoost']['univariate-TPE'], cat_feature = [], record_bad = False)\n",
    "            temp_multi = runall_CatBoostC(num_set, trainset_x, test_x, trainset_y, test_y, \n",
    "                                          hyper['CatBoost']['multivariate-TPE'], cat_feature = [], record_bad = False)\n",
    "            \n",
    "        elif model == 'AdaBoost' :\n",
    "            \n",
    "            temp_uni = runall_AdaBoostC(num_set, trainset_x, test_x, trainset_y, test_y, \n",
    "                                        hyper['AdaBoost']['univariate-TPE'], record_bad = False)\n",
    "            temp_multi = runall_AdaBoostC(num_set, trainset_x, test_x, trainset_y, test_y, \n",
    "                                          hyper['AdaBoost']['multivariate-TPE'], record_bad = False)\n",
    "            \n",
    "        elif model == 'RandomForest' :\n",
    "            \n",
    "            temp_uni = runall_ForestC(num_set, trainset_x, test_x, trainset_y, test_y, \n",
    "                                        hyper['RandomForest']['univariate-TPE'], record_bad = False)\n",
    "            temp_multi = runall_ForestC(num_set, trainset_x, test_x, trainset_y, test_y, \n",
    "                                          hyper['RandomForest']['multivariate-TPE'], record_bad = False)\n",
    "            \n",
    "        elif model == 'ExtraTrees' :\n",
    "            \n",
    "            temp_uni = runall_ExtraTreesC(num_set, trainset_x, test_x, trainset_y, test_y, \n",
    "                                        hyper['ExtraTrees']['univariate-TPE'], record_bad = False)\n",
    "            temp_multi = runall_ExtraTreesC(num_set, trainset_x, test_x, trainset_y, test_y, \n",
    "                                          hyper['ExtraTrees']['multivariate-TPE'], record_bad = False)\n",
    "            \n",
    "        temp_uni['Sampler'] = 'univariate-TPE'\n",
    "        temp_uni['Model'] = model\n",
    "        temp_multi['Sampler'] = 'multivaraite-TPE'\n",
    "        temp_multi['Model'] = model\n",
    "        \n",
    "        temp_samplers = pd.concat([temp_uni, temp_multi], axis = 0)\n",
    "        temp_models = pd.concat([temp_models, temp_samplers], axis = 0)\n",
    "        final_models = temp_models.reset_index().rename(columns = {'index': 'dataset'})\n",
    "        \n",
    "    return final_models   "
   ]
  },
  {
   "cell_type": "code",
   "execution_count": 10,
   "metadata": {
    "ExecuteTime": {
     "end_time": "2021-09-27T08:47:31.595947Z",
     "start_time": "2021-09-27T08:35:59.190274Z"
    }
   },
   "outputs": [
    {
     "data": {
      "application/vnd.jupyter.widget-view+json": {
       "model_id": "388e6bdcf4914d708a261668980dc273",
       "version_major": 2,
       "version_minor": 0
      },
      "text/plain": [
       "  0%|          | 0/6 [00:00<?, ?it/s]"
      ]
     },
     "metadata": {},
     "output_type": "display_data"
    },
    {
     "name": "stdout",
     "output_type": "stream",
     "text": [
      "\n",
      " Dataset 0:\n"
     ]
    },
    {
     "name": "stderr",
     "output_type": "stream",
     "text": [
      "C:\\Users\\user\\anaconda3\\envs\\aging\\lib\\site-packages\\pandas\\core\\computation\\expressions.py:205: UserWarning: evaluating in Python space because the '*' operator is not supported by numexpr for the bool dtype, use '&' instead\n",
      "  f\"evaluating in Python space because the {repr(op_str)} \"\n",
      "C:\\Users\\user\\anaconda3\\envs\\aging\\lib\\site-packages\\pandas\\core\\computation\\expressions.py:205: UserWarning: evaluating in Python space because the '*' operator is not supported by numexpr for the bool dtype, use '&' instead\n",
      "  f\"evaluating in Python space because the {repr(op_str)} \"\n"
     ]
    },
    {
     "name": "stdout",
     "output_type": "stream",
     "text": [
      "Precision: 0.0 \n",
      "Recall: 0.0 \n",
      "Aging Rate: 0.00010277703549918806\n",
      "\n",
      " Dataset 1:\n"
     ]
    },
    {
     "name": "stderr",
     "output_type": "stream",
     "text": [
      "C:\\Users\\user\\anaconda3\\envs\\aging\\lib\\site-packages\\pandas\\core\\computation\\expressions.py:205: UserWarning: evaluating in Python space because the '*' operator is not supported by numexpr for the bool dtype, use '&' instead\n",
      "  f\"evaluating in Python space because the {repr(op_str)} \"\n",
      "C:\\Users\\user\\anaconda3\\envs\\aging\\lib\\site-packages\\pandas\\core\\computation\\expressions.py:205: UserWarning: evaluating in Python space because the '*' operator is not supported by numexpr for the bool dtype, use '&' instead\n",
      "  f\"evaluating in Python space because the {repr(op_str)} \"\n"
     ]
    },
    {
     "name": "stdout",
     "output_type": "stream",
     "text": [
      "Precision: 0.0012929057012970764 \n",
      "Recall: 0.6078431372549019 \n",
      "Aging Rate: 0.4928569960328064\n",
      "\n",
      " Dataset 2:\n"
     ]
    },
    {
     "name": "stderr",
     "output_type": "stream",
     "text": [
      "C:\\Users\\user\\anaconda3\\envs\\aging\\lib\\site-packages\\pandas\\core\\computation\\expressions.py:205: UserWarning: evaluating in Python space because the '*' operator is not supported by numexpr for the bool dtype, use '&' instead\n",
      "  f\"evaluating in Python space because the {repr(op_str)} \"\n",
      "C:\\Users\\user\\anaconda3\\envs\\aging\\lib\\site-packages\\pandas\\core\\computation\\expressions.py:205: UserWarning: evaluating in Python space because the '*' operator is not supported by numexpr for the bool dtype, use '&' instead\n",
      "  f\"evaluating in Python space because the {repr(op_str)} \"\n"
     ]
    },
    {
     "name": "stdout",
     "output_type": "stream",
     "text": [
      "Precision: 0.0011664074650077762 \n",
      "Recall: 0.7058823529411765 \n",
      "Aging Rate: 0.6344220847293881\n",
      "\n",
      " Dataset 3:\n"
     ]
    },
    {
     "name": "stderr",
     "output_type": "stream",
     "text": [
      "C:\\Users\\user\\anaconda3\\envs\\aging\\lib\\site-packages\\pandas\\core\\computation\\expressions.py:205: UserWarning: evaluating in Python space because the '*' operator is not supported by numexpr for the bool dtype, use '&' instead\n",
      "  f\"evaluating in Python space because the {repr(op_str)} \"\n",
      "C:\\Users\\user\\anaconda3\\envs\\aging\\lib\\site-packages\\pandas\\core\\computation\\expressions.py:205: UserWarning: evaluating in Python space because the '*' operator is not supported by numexpr for the bool dtype, use '&' instead\n",
      "  f\"evaluating in Python space because the {repr(op_str)} \"\n"
     ]
    },
    {
     "name": "stdout",
     "output_type": "stream",
     "text": [
      "Precision: 0.0011080978625375442 \n",
      "Recall: 0.7450980392156863 \n",
      "Aging Rate: 0.7049065756747313\n",
      "\n",
      " Dataset 4:\n"
     ]
    },
    {
     "name": "stderr",
     "output_type": "stream",
     "text": [
      "C:\\Users\\user\\anaconda3\\envs\\aging\\lib\\site-packages\\pandas\\core\\computation\\expressions.py:205: UserWarning: evaluating in Python space because the '*' operator is not supported by numexpr for the bool dtype, use '&' instead\n",
      "  f\"evaluating in Python space because the {repr(op_str)} \"\n",
      "C:\\Users\\user\\anaconda3\\envs\\aging\\lib\\site-packages\\pandas\\core\\computation\\expressions.py:205: UserWarning: evaluating in Python space because the '*' operator is not supported by numexpr for the bool dtype, use '&' instead\n",
      "  f\"evaluating in Python space because the {repr(op_str)} \"\n"
     ]
    },
    {
     "name": "stdout",
     "output_type": "stream",
     "text": [
      "Precision: 0.0012309207287050715 \n",
      "Recall: 0.6862745098039216 \n",
      "Aging Rate: 0.5844724454767827\n",
      "\n",
      " Dataset 5:\n"
     ]
    },
    {
     "name": "stderr",
     "output_type": "stream",
     "text": [
      "C:\\Users\\user\\anaconda3\\envs\\aging\\lib\\site-packages\\pandas\\core\\computation\\expressions.py:205: UserWarning: evaluating in Python space because the '*' operator is not supported by numexpr for the bool dtype, use '&' instead\n",
      "  f\"evaluating in Python space because the {repr(op_str)} \"\n",
      "C:\\Users\\user\\anaconda3\\envs\\aging\\lib\\site-packages\\pandas\\core\\computation\\expressions.py:205: UserWarning: evaluating in Python space because the '*' operator is not supported by numexpr for the bool dtype, use '&' instead\n",
      "  f\"evaluating in Python space because the {repr(op_str)} \"\n"
     ]
    },
    {
     "name": "stdout",
     "output_type": "stream",
     "text": [
      "Precision: 0.0011653738300739284 \n",
      "Recall: 0.6274509803921569 \n",
      "Aging Rate: 0.564430923554441\n",
      "\n",
      " Dataset 6:\n"
     ]
    },
    {
     "name": "stderr",
     "output_type": "stream",
     "text": [
      "C:\\Users\\user\\anaconda3\\envs\\aging\\lib\\site-packages\\pandas\\core\\computation\\expressions.py:205: UserWarning: evaluating in Python space because the '*' operator is not supported by numexpr for the bool dtype, use '&' instead\n",
      "  f\"evaluating in Python space because the {repr(op_str)} \"\n",
      "C:\\Users\\user\\anaconda3\\envs\\aging\\lib\\site-packages\\pandas\\core\\computation\\expressions.py:205: UserWarning: evaluating in Python space because the '*' operator is not supported by numexpr for the bool dtype, use '&' instead\n",
      "  f\"evaluating in Python space because the {repr(op_str)} \"\n"
     ]
    },
    {
     "name": "stdout",
     "output_type": "stream",
     "text": [
      "Precision: 0.0012690355329949238 \n",
      "Recall: 0.6470588235294118 \n",
      "Aging Rate: 0.5345228062241772\n",
      "\n",
      " Dataset 7:\n"
     ]
    },
    {
     "name": "stderr",
     "output_type": "stream",
     "text": [
      "C:\\Users\\user\\anaconda3\\envs\\aging\\lib\\site-packages\\pandas\\core\\computation\\expressions.py:205: UserWarning: evaluating in Python space because the '*' operator is not supported by numexpr for the bool dtype, use '&' instead\n",
      "  f\"evaluating in Python space because the {repr(op_str)} \"\n",
      "C:\\Users\\user\\anaconda3\\envs\\aging\\lib\\site-packages\\pandas\\core\\computation\\expressions.py:205: UserWarning: evaluating in Python space because the '*' operator is not supported by numexpr for the bool dtype, use '&' instead\n",
      "  f\"evaluating in Python space because the {repr(op_str)} \"\n"
     ]
    },
    {
     "name": "stdout",
     "output_type": "stream",
     "text": [
      "Precision: 0.0012087787557133684 \n",
      "Recall: 0.6274509803921569 \n",
      "Aging Rate: 0.544163292154001\n",
      "\n",
      " Dataset 8:\n"
     ]
    },
    {
     "name": "stderr",
     "output_type": "stream",
     "text": [
      "C:\\Users\\user\\anaconda3\\envs\\aging\\lib\\site-packages\\pandas\\core\\computation\\expressions.py:205: UserWarning: evaluating in Python space because the '*' operator is not supported by numexpr for the bool dtype, use '&' instead\n",
      "  f\"evaluating in Python space because the {repr(op_str)} \"\n",
      "C:\\Users\\user\\anaconda3\\envs\\aging\\lib\\site-packages\\pandas\\core\\computation\\expressions.py:205: UserWarning: evaluating in Python space because the '*' operator is not supported by numexpr for the bool dtype, use '&' instead\n",
      "  f\"evaluating in Python space because the {repr(op_str)} \"\n"
     ]
    },
    {
     "name": "stdout",
     "output_type": "stream",
     "text": [
      "Precision: 0.0013556258472661546 \n",
      "Recall: 0.7058823529411765 \n",
      "Aging Rate: 0.5458693909432877\n",
      "\n",
      " Dataset 9:\n"
     ]
    },
    {
     "name": "stderr",
     "output_type": "stream",
     "text": [
      "C:\\Users\\user\\anaconda3\\envs\\aging\\lib\\site-packages\\pandas\\core\\computation\\expressions.py:205: UserWarning: evaluating in Python space because the '*' operator is not supported by numexpr for the bool dtype, use '&' instead\n",
      "  f\"evaluating in Python space because the {repr(op_str)} \"\n",
      "C:\\Users\\user\\anaconda3\\envs\\aging\\lib\\site-packages\\pandas\\core\\computation\\expressions.py:205: UserWarning: evaluating in Python space because the '*' operator is not supported by numexpr for the bool dtype, use '&' instead\n",
      "  f\"evaluating in Python space because the {repr(op_str)} \"\n"
     ]
    },
    {
     "name": "stdout",
     "output_type": "stream",
     "text": [
      "Precision: 0.0013116474291710388 \n",
      "Recall: 0.6862745098039216 \n",
      "Aging Rate: 0.5485004830520669\n",
      "\n",
      " Dataset 0:\n"
     ]
    },
    {
     "name": "stderr",
     "output_type": "stream",
     "text": [
      "C:\\Users\\user\\anaconda3\\envs\\aging\\lib\\site-packages\\pandas\\core\\computation\\expressions.py:205: UserWarning: evaluating in Python space because the '*' operator is not supported by numexpr for the bool dtype, use '&' instead\n",
      "  f\"evaluating in Python space because the {repr(op_str)} \"\n",
      "C:\\Users\\user\\anaconda3\\envs\\aging\\lib\\site-packages\\pandas\\core\\computation\\expressions.py:205: UserWarning: evaluating in Python space because the '*' operator is not supported by numexpr for the bool dtype, use '&' instead\n",
      "  f\"evaluating in Python space because the {repr(op_str)} \"\n"
     ]
    },
    {
     "name": "stdout",
     "output_type": "stream",
     "text": [
      "Precision: 0.0 \n",
      "Recall: 0.0 \n",
      "Aging Rate: 4.111081419967522e-05\n",
      "\n",
      " Dataset 1:\n"
     ]
    },
    {
     "name": "stderr",
     "output_type": "stream",
     "text": [
      "C:\\Users\\user\\anaconda3\\envs\\aging\\lib\\site-packages\\pandas\\core\\computation\\expressions.py:205: UserWarning: evaluating in Python space because the '*' operator is not supported by numexpr for the bool dtype, use '&' instead\n",
      "  f\"evaluating in Python space because the {repr(op_str)} \"\n",
      "C:\\Users\\user\\anaconda3\\envs\\aging\\lib\\site-packages\\pandas\\core\\computation\\expressions.py:205: UserWarning: evaluating in Python space because the '*' operator is not supported by numexpr for the bool dtype, use '&' instead\n",
      "  f\"evaluating in Python space because the {repr(op_str)} \"\n"
     ]
    },
    {
     "name": "stdout",
     "output_type": "stream",
     "text": [
      "Precision: 0.0013494689186836148 \n",
      "Recall: 0.6078431372549019 \n",
      "Aging Rate: 0.47219881189746965\n",
      "\n",
      " Dataset 2:\n"
     ]
    },
    {
     "name": "stderr",
     "output_type": "stream",
     "text": [
      "C:\\Users\\user\\anaconda3\\envs\\aging\\lib\\site-packages\\pandas\\core\\computation\\expressions.py:205: UserWarning: evaluating in Python space because the '*' operator is not supported by numexpr for the bool dtype, use '&' instead\n",
      "  f\"evaluating in Python space because the {repr(op_str)} \"\n",
      "C:\\Users\\user\\anaconda3\\envs\\aging\\lib\\site-packages\\pandas\\core\\computation\\expressions.py:205: UserWarning: evaluating in Python space because the '*' operator is not supported by numexpr for the bool dtype, use '&' instead\n",
      "  f\"evaluating in Python space because the {repr(op_str)} \"\n"
     ]
    },
    {
     "name": "stdout",
     "output_type": "stream",
     "text": [
      "Precision: 0.0011038635223281485 \n",
      "Recall: 0.6470588235294118 \n",
      "Aging Rate: 0.6145038952496454\n",
      "\n",
      " Dataset 3:\n"
     ]
    },
    {
     "name": "stderr",
     "output_type": "stream",
     "text": [
      "C:\\Users\\user\\anaconda3\\envs\\aging\\lib\\site-packages\\pandas\\core\\computation\\expressions.py:205: UserWarning: evaluating in Python space because the '*' operator is not supported by numexpr for the bool dtype, use '&' instead\n",
      "  f\"evaluating in Python space because the {repr(op_str)} \"\n",
      "C:\\Users\\user\\anaconda3\\envs\\aging\\lib\\site-packages\\pandas\\core\\computation\\expressions.py:205: UserWarning: evaluating in Python space because the '*' operator is not supported by numexpr for the bool dtype, use '&' instead\n",
      "  f\"evaluating in Python space because the {repr(op_str)} \"\n"
     ]
    },
    {
     "name": "stdout",
     "output_type": "stream",
     "text": [
      "Precision: 0.001001152842667314 \n",
      "Recall: 0.6470588235294118 \n",
      "Aging Rate: 0.6775473288248474\n",
      "\n",
      " Dataset 4:\n"
     ]
    },
    {
     "name": "stderr",
     "output_type": "stream",
     "text": [
      "C:\\Users\\user\\anaconda3\\envs\\aging\\lib\\site-packages\\pandas\\core\\computation\\expressions.py:205: UserWarning: evaluating in Python space because the '*' operator is not supported by numexpr for the bool dtype, use '&' instead\n",
      "  f\"evaluating in Python space because the {repr(op_str)} \"\n",
      "C:\\Users\\user\\anaconda3\\envs\\aging\\lib\\site-packages\\pandas\\core\\computation\\expressions.py:205: UserWarning: evaluating in Python space because the '*' operator is not supported by numexpr for the bool dtype, use '&' instead\n",
      "  f\"evaluating in Python space because the {repr(op_str)} \"\n"
     ]
    },
    {
     "name": "stdout",
     "output_type": "stream",
     "text": [
      "Precision: 0.0011553180735071125 \n",
      "Recall: 0.6274509803921569 \n",
      "Aging Rate: 0.5693436658513021\n",
      "\n",
      " Dataset 5:\n"
     ]
    },
    {
     "name": "stderr",
     "output_type": "stream",
     "text": [
      "C:\\Users\\user\\anaconda3\\envs\\aging\\lib\\site-packages\\pandas\\core\\computation\\expressions.py:205: UserWarning: evaluating in Python space because the '*' operator is not supported by numexpr for the bool dtype, use '&' instead\n",
      "  f\"evaluating in Python space because the {repr(op_str)} \"\n",
      "C:\\Users\\user\\anaconda3\\envs\\aging\\lib\\site-packages\\pandas\\core\\computation\\expressions.py:205: UserWarning: evaluating in Python space because the '*' operator is not supported by numexpr for the bool dtype, use '&' instead\n",
      "  f\"evaluating in Python space because the {repr(op_str)} \"\n"
     ]
    },
    {
     "name": "stdout",
     "output_type": "stream",
     "text": [
      "Precision: 0.0012994044396318354 \n",
      "Recall: 0.7058823529411765 \n",
      "Aging Rate: 0.569487553701001\n",
      "\n",
      " Dataset 6:\n"
     ]
    },
    {
     "name": "stderr",
     "output_type": "stream",
     "text": [
      "C:\\Users\\user\\anaconda3\\envs\\aging\\lib\\site-packages\\pandas\\core\\computation\\expressions.py:205: UserWarning: evaluating in Python space because the '*' operator is not supported by numexpr for the bool dtype, use '&' instead\n",
      "  f\"evaluating in Python space because the {repr(op_str)} \"\n",
      "C:\\Users\\user\\anaconda3\\envs\\aging\\lib\\site-packages\\pandas\\core\\computation\\expressions.py:205: UserWarning: evaluating in Python space because the '*' operator is not supported by numexpr for the bool dtype, use '&' instead\n",
      "  f\"evaluating in Python space because the {repr(op_str)} \"\n"
     ]
    },
    {
     "name": "stdout",
     "output_type": "stream",
     "text": [
      "Precision: 0.0012144955925563173 \n",
      "Recall: 0.6078431372549019 \n",
      "Aging Rate: 0.524676766223355\n",
      "\n",
      " Dataset 7:\n"
     ]
    },
    {
     "name": "stderr",
     "output_type": "stream",
     "text": [
      "C:\\Users\\user\\anaconda3\\envs\\aging\\lib\\site-packages\\pandas\\core\\computation\\expressions.py:205: UserWarning: evaluating in Python space because the '*' operator is not supported by numexpr for the bool dtype, use '&' instead\n",
      "  f\"evaluating in Python space because the {repr(op_str)} \"\n",
      "C:\\Users\\user\\anaconda3\\envs\\aging\\lib\\site-packages\\pandas\\core\\computation\\expressions.py:205: UserWarning: evaluating in Python space because the '*' operator is not supported by numexpr for the bool dtype, use '&' instead\n",
      "  f\"evaluating in Python space because the {repr(op_str)} \"\n"
     ]
    },
    {
     "name": "stdout",
     "output_type": "stream",
     "text": [
      "Precision: 0.0012413948764247828 \n",
      "Recall: 0.6470588235294118 \n",
      "Aging Rate: 0.5464243869349833\n",
      "\n",
      " Dataset 8:\n"
     ]
    },
    {
     "name": "stderr",
     "output_type": "stream",
     "text": [
      "C:\\Users\\user\\anaconda3\\envs\\aging\\lib\\site-packages\\pandas\\core\\computation\\expressions.py:205: UserWarning: evaluating in Python space because the '*' operator is not supported by numexpr for the bool dtype, use '&' instead\n",
      "  f\"evaluating in Python space because the {repr(op_str)} \"\n",
      "C:\\Users\\user\\anaconda3\\envs\\aging\\lib\\site-packages\\pandas\\core\\computation\\expressions.py:205: UserWarning: evaluating in Python space because the '*' operator is not supported by numexpr for the bool dtype, use '&' instead\n",
      "  f\"evaluating in Python space because the {repr(op_str)} \"\n"
     ]
    },
    {
     "name": "stdout",
     "output_type": "stream",
     "text": [
      "Precision: 0.001292466765140325 \n",
      "Recall: 0.6862745098039216 \n",
      "Aging Rate: 0.5566404242636025\n",
      "\n",
      " Dataset 9:\n"
     ]
    },
    {
     "name": "stderr",
     "output_type": "stream",
     "text": [
      "C:\\Users\\user\\anaconda3\\envs\\aging\\lib\\site-packages\\pandas\\core\\computation\\expressions.py:205: UserWarning: evaluating in Python space because the '*' operator is not supported by numexpr for the bool dtype, use '&' instead\n",
      "  f\"evaluating in Python space because the {repr(op_str)} \"\n",
      "C:\\Users\\user\\anaconda3\\envs\\aging\\lib\\site-packages\\pandas\\core\\computation\\expressions.py:205: UserWarning: evaluating in Python space because the '*' operator is not supported by numexpr for the bool dtype, use '&' instead\n",
      "  f\"evaluating in Python space because the {repr(op_str)} \"\n",
      "C:\\Users\\user\\anaconda3\\envs\\aging\\lib\\site-packages\\xgboost\\sklearn.py:1146: UserWarning: The use of label encoder in XGBClassifier is deprecated and will be removed in a future release. To remove this warning, do the following: 1) Pass option use_label_encoder=False when constructing XGBClassifier object; and 2) Encode your labels (y) as integers starting with 0, i.e. 0, 1, 2, ..., [num_class - 1].\n",
      "  warnings.warn(label_encoder_deprecation_msg, UserWarning)\n"
     ]
    },
    {
     "name": "stdout",
     "output_type": "stream",
     "text": [
      "Precision: 0.0013006976469197116 \n",
      "Recall: 0.6470588235294118 \n",
      "Aging Rate: 0.5215112335299801\n",
      "\n",
      " Dataset 0:\n",
      "[16:36:07] WARNING: C:/Users/Administrator/workspace/xgboost-win64_release_1.4.0/src/learner.cc:1095: Starting in XGBoost 1.3.0, the default evaluation metric used with the objective 'binary:logistic' was changed from 'error' to 'logloss'. Explicitly set eval_metric if you'd like to restore the old behavior.\n"
     ]
    },
    {
     "name": "stderr",
     "output_type": "stream",
     "text": [
      "C:\\Users\\user\\anaconda3\\envs\\aging\\lib\\site-packages\\pandas\\core\\computation\\expressions.py:205: UserWarning: evaluating in Python space because the '*' operator is not supported by numexpr for the bool dtype, use '&' instead\n",
      "  f\"evaluating in Python space because the {repr(op_str)} \"\n",
      "C:\\Users\\user\\anaconda3\\envs\\aging\\lib\\site-packages\\pandas\\core\\computation\\expressions.py:205: UserWarning: evaluating in Python space because the '*' operator is not supported by numexpr for the bool dtype, use '&' instead\n",
      "  f\"evaluating in Python space because the {repr(op_str)} \"\n",
      "C:\\Users\\user\\anaconda3\\envs\\aging\\lib\\site-packages\\xgboost\\sklearn.py:1146: UserWarning: The use of label encoder in XGBClassifier is deprecated and will be removed in a future release. To remove this warning, do the following: 1) Pass option use_label_encoder=False when constructing XGBClassifier object; and 2) Encode your labels (y) as integers starting with 0, i.e. 0, 1, 2, ..., [num_class - 1].\n",
      "  warnings.warn(label_encoder_deprecation_msg, UserWarning)\n"
     ]
    },
    {
     "name": "stdout",
     "output_type": "stream",
     "text": [
      "Precision: 0.0 \n",
      "Recall: 0.0 \n",
      "Aging Rate: 4.111081419967522e-05\n",
      "\n",
      " Dataset 1:\n",
      "[16:36:38] WARNING: C:/Users/Administrator/workspace/xgboost-win64_release_1.4.0/src/learner.cc:1095: Starting in XGBoost 1.3.0, the default evaluation metric used with the objective 'binary:logistic' was changed from 'error' to 'logloss'. Explicitly set eval_metric if you'd like to restore the old behavior.\n"
     ]
    },
    {
     "name": "stderr",
     "output_type": "stream",
     "text": [
      "C:\\Users\\user\\anaconda3\\envs\\aging\\lib\\site-packages\\pandas\\core\\computation\\expressions.py:205: UserWarning: evaluating in Python space because the '*' operator is not supported by numexpr for the bool dtype, use '&' instead\n",
      "  f\"evaluating in Python space because the {repr(op_str)} \"\n",
      "C:\\Users\\user\\anaconda3\\envs\\aging\\lib\\site-packages\\pandas\\core\\computation\\expressions.py:205: UserWarning: evaluating in Python space because the '*' operator is not supported by numexpr for the bool dtype, use '&' instead\n",
      "  f\"evaluating in Python space because the {repr(op_str)} \"\n",
      "C:\\Users\\user\\anaconda3\\envs\\aging\\lib\\site-packages\\xgboost\\sklearn.py:1146: UserWarning: The use of label encoder in XGBClassifier is deprecated and will be removed in a future release. To remove this warning, do the following: 1) Pass option use_label_encoder=False when constructing XGBClassifier object; and 2) Encode your labels (y) as integers starting with 0, i.e. 0, 1, 2, ..., [num_class - 1].\n",
      "  warnings.warn(label_encoder_deprecation_msg, UserWarning)\n"
     ]
    },
    {
     "name": "stdout",
     "output_type": "stream",
     "text": [
      "Precision: 0.0013081451271594014 \n",
      "Recall: 0.6666666666666666 \n",
      "Aging Rate: 0.5342555859318794\n",
      "\n",
      " Dataset 2:\n",
      "[16:36:38] WARNING: C:/Users/Administrator/workspace/xgboost-win64_release_1.4.0/src/learner.cc:1095: Starting in XGBoost 1.3.0, the default evaluation metric used with the objective 'binary:logistic' was changed from 'error' to 'logloss'. Explicitly set eval_metric if you'd like to restore the old behavior.\n"
     ]
    },
    {
     "name": "stderr",
     "output_type": "stream",
     "text": [
      "C:\\Users\\user\\anaconda3\\envs\\aging\\lib\\site-packages\\pandas\\core\\computation\\expressions.py:205: UserWarning: evaluating in Python space because the '*' operator is not supported by numexpr for the bool dtype, use '&' instead\n",
      "  f\"evaluating in Python space because the {repr(op_str)} \"\n",
      "C:\\Users\\user\\anaconda3\\envs\\aging\\lib\\site-packages\\pandas\\core\\computation\\expressions.py:205: UserWarning: evaluating in Python space because the '*' operator is not supported by numexpr for the bool dtype, use '&' instead\n",
      "  f\"evaluating in Python space because the {repr(op_str)} \"\n",
      "C:\\Users\\user\\anaconda3\\envs\\aging\\lib\\site-packages\\xgboost\\sklearn.py:1146: UserWarning: The use of label encoder in XGBClassifier is deprecated and will be removed in a future release. To remove this warning, do the following: 1) Pass option use_label_encoder=False when constructing XGBClassifier object; and 2) Encode your labels (y) as integers starting with 0, i.e. 0, 1, 2, ..., [num_class - 1].\n",
      "  warnings.warn(label_encoder_deprecation_msg, UserWarning)\n"
     ]
    },
    {
     "name": "stdout",
     "output_type": "stream",
     "text": [
      "Precision: 0.001135143426905967 \n",
      "Recall: 0.7254901960784313 \n",
      "Aging Rate: 0.6700034944192069\n",
      "\n",
      " Dataset 3:\n",
      "[16:36:39] WARNING: C:/Users/Administrator/workspace/xgboost-win64_release_1.4.0/src/learner.cc:1095: Starting in XGBoost 1.3.0, the default evaluation metric used with the objective 'binary:logistic' was changed from 'error' to 'logloss'. Explicitly set eval_metric if you'd like to restore the old behavior.\n"
     ]
    },
    {
     "name": "stderr",
     "output_type": "stream",
     "text": [
      "C:\\Users\\user\\anaconda3\\envs\\aging\\lib\\site-packages\\pandas\\core\\computation\\expressions.py:205: UserWarning: evaluating in Python space because the '*' operator is not supported by numexpr for the bool dtype, use '&' instead\n",
      "  f\"evaluating in Python space because the {repr(op_str)} \"\n",
      "C:\\Users\\user\\anaconda3\\envs\\aging\\lib\\site-packages\\pandas\\core\\computation\\expressions.py:205: UserWarning: evaluating in Python space because the '*' operator is not supported by numexpr for the bool dtype, use '&' instead\n",
      "  f\"evaluating in Python space because the {repr(op_str)} \"\n",
      "C:\\Users\\user\\anaconda3\\envs\\aging\\lib\\site-packages\\xgboost\\sklearn.py:1146: UserWarning: The use of label encoder in XGBClassifier is deprecated and will be removed in a future release. To remove this warning, do the following: 1) Pass option use_label_encoder=False when constructing XGBClassifier object; and 2) Encode your labels (y) as integers starting with 0, i.e. 0, 1, 2, ..., [num_class - 1].\n",
      "  warnings.warn(label_encoder_deprecation_msg, UserWarning)\n"
     ]
    },
    {
     "name": "stdout",
     "output_type": "stream",
     "text": [
      "Precision: 0.0011523060524875406 \n",
      "Recall: 0.7843137254901961 \n",
      "Aging Rate: 0.713539846656663\n",
      "\n",
      " Dataset 4:\n",
      "[16:36:40] WARNING: C:/Users/Administrator/workspace/xgboost-win64_release_1.4.0/src/learner.cc:1095: Starting in XGBoost 1.3.0, the default evaluation metric used with the objective 'binary:logistic' was changed from 'error' to 'logloss'. Explicitly set eval_metric if you'd like to restore the old behavior.\n"
     ]
    },
    {
     "name": "stderr",
     "output_type": "stream",
     "text": [
      "C:\\Users\\user\\anaconda3\\envs\\aging\\lib\\site-packages\\pandas\\core\\computation\\expressions.py:205: UserWarning: evaluating in Python space because the '*' operator is not supported by numexpr for the bool dtype, use '&' instead\n",
      "  f\"evaluating in Python space because the {repr(op_str)} \"\n",
      "C:\\Users\\user\\anaconda3\\envs\\aging\\lib\\site-packages\\pandas\\core\\computation\\expressions.py:205: UserWarning: evaluating in Python space because the '*' operator is not supported by numexpr for the bool dtype, use '&' instead\n",
      "  f\"evaluating in Python space because the {repr(op_str)} \"\n",
      "C:\\Users\\user\\anaconda3\\envs\\aging\\lib\\site-packages\\xgboost\\sklearn.py:1146: UserWarning: The use of label encoder in XGBClassifier is deprecated and will be removed in a future release. To remove this warning, do the following: 1) Pass option use_label_encoder=False when constructing XGBClassifier object; and 2) Encode your labels (y) as integers starting with 0, i.e. 0, 1, 2, ..., [num_class - 1].\n",
      "  warnings.warn(label_encoder_deprecation_msg, UserWarning)\n"
     ]
    },
    {
     "name": "stdout",
     "output_type": "stream",
     "text": [
      "Precision: 0.0011803327062815832 \n",
      "Recall: 0.6274509803921569 \n",
      "Aging Rate: 0.5572776418836975\n",
      "\n",
      " Dataset 5:\n",
      "[16:36:41] WARNING: C:/Users/Administrator/workspace/xgboost-win64_release_1.4.0/src/learner.cc:1095: Starting in XGBoost 1.3.0, the default evaluation metric used with the objective 'binary:logistic' was changed from 'error' to 'logloss'. Explicitly set eval_metric if you'd like to restore the old behavior.\n"
     ]
    },
    {
     "name": "stderr",
     "output_type": "stream",
     "text": [
      "C:\\Users\\user\\anaconda3\\envs\\aging\\lib\\site-packages\\pandas\\core\\computation\\expressions.py:205: UserWarning: evaluating in Python space because the '*' operator is not supported by numexpr for the bool dtype, use '&' instead\n",
      "  f\"evaluating in Python space because the {repr(op_str)} \"\n",
      "C:\\Users\\user\\anaconda3\\envs\\aging\\lib\\site-packages\\pandas\\core\\computation\\expressions.py:205: UserWarning: evaluating in Python space because the '*' operator is not supported by numexpr for the bool dtype, use '&' instead\n",
      "  f\"evaluating in Python space because the {repr(op_str)} \"\n",
      "C:\\Users\\user\\anaconda3\\envs\\aging\\lib\\site-packages\\xgboost\\sklearn.py:1146: UserWarning: The use of label encoder in XGBClassifier is deprecated and will be removed in a future release. To remove this warning, do the following: 1) Pass option use_label_encoder=False when constructing XGBClassifier object; and 2) Encode your labels (y) as integers starting with 0, i.e. 0, 1, 2, ..., [num_class - 1].\n",
      "  warnings.warn(label_encoder_deprecation_msg, UserWarning)\n"
     ]
    },
    {
     "name": "stdout",
     "output_type": "stream",
     "text": [
      "Precision: 0.0012268167713069206 \n",
      "Recall: 0.6666666666666666 \n",
      "Aging Rate: 0.5696725523648996\n",
      "\n",
      " Dataset 6:\n",
      "[16:36:41] WARNING: C:/Users/Administrator/workspace/xgboost-win64_release_1.4.0/src/learner.cc:1095: Starting in XGBoost 1.3.0, the default evaluation metric used with the objective 'binary:logistic' was changed from 'error' to 'logloss'. Explicitly set eval_metric if you'd like to restore the old behavior.\n"
     ]
    },
    {
     "name": "stderr",
     "output_type": "stream",
     "text": [
      "C:\\Users\\user\\anaconda3\\envs\\aging\\lib\\site-packages\\pandas\\core\\computation\\expressions.py:205: UserWarning: evaluating in Python space because the '*' operator is not supported by numexpr for the bool dtype, use '&' instead\n",
      "  f\"evaluating in Python space because the {repr(op_str)} \"\n",
      "C:\\Users\\user\\anaconda3\\envs\\aging\\lib\\site-packages\\pandas\\core\\computation\\expressions.py:205: UserWarning: evaluating in Python space because the '*' operator is not supported by numexpr for the bool dtype, use '&' instead\n",
      "  f\"evaluating in Python space because the {repr(op_str)} \"\n",
      "C:\\Users\\user\\anaconda3\\envs\\aging\\lib\\site-packages\\xgboost\\sklearn.py:1146: UserWarning: The use of label encoder in XGBClassifier is deprecated and will be removed in a future release. To remove this warning, do the following: 1) Pass option use_label_encoder=False when constructing XGBClassifier object; and 2) Encode your labels (y) as integers starting with 0, i.e. 0, 1, 2, ..., [num_class - 1].\n",
      "  warnings.warn(label_encoder_deprecation_msg, UserWarning)\n"
     ]
    },
    {
     "name": "stdout",
     "output_type": "stream",
     "text": [
      "Precision: 0.001156515034695451 \n",
      "Recall: 0.6470588235294118 \n",
      "Aging Rate: 0.5865279861867664\n",
      "\n",
      " Dataset 7:\n",
      "[16:36:42] WARNING: C:/Users/Administrator/workspace/xgboost-win64_release_1.4.0/src/learner.cc:1095: Starting in XGBoost 1.3.0, the default evaluation metric used with the objective 'binary:logistic' was changed from 'error' to 'logloss'. Explicitly set eval_metric if you'd like to restore the old behavior.\n"
     ]
    },
    {
     "name": "stderr",
     "output_type": "stream",
     "text": [
      "C:\\Users\\user\\anaconda3\\envs\\aging\\lib\\site-packages\\pandas\\core\\computation\\expressions.py:205: UserWarning: evaluating in Python space because the '*' operator is not supported by numexpr for the bool dtype, use '&' instead\n",
      "  f\"evaluating in Python space because the {repr(op_str)} \"\n",
      "C:\\Users\\user\\anaconda3\\envs\\aging\\lib\\site-packages\\pandas\\core\\computation\\expressions.py:205: UserWarning: evaluating in Python space because the '*' operator is not supported by numexpr for the bool dtype, use '&' instead\n",
      "  f\"evaluating in Python space because the {repr(op_str)} \"\n",
      "C:\\Users\\user\\anaconda3\\envs\\aging\\lib\\site-packages\\xgboost\\sklearn.py:1146: UserWarning: The use of label encoder in XGBClassifier is deprecated and will be removed in a future release. To remove this warning, do the following: 1) Pass option use_label_encoder=False when constructing XGBClassifier object; and 2) Encode your labels (y) as integers starting with 0, i.e. 0, 1, 2, ..., [num_class - 1].\n",
      "  warnings.warn(label_encoder_deprecation_msg, UserWarning)\n"
     ]
    },
    {
     "name": "stdout",
     "output_type": "stream",
     "text": [
      "Precision: 0.0012375800007071885 \n",
      "Recall: 0.6862745098039216 \n",
      "Aging Rate: 0.5813274681905075\n",
      "\n",
      " Dataset 8:\n",
      "[16:36:43] WARNING: C:/Users/Administrator/workspace/xgboost-win64_release_1.4.0/src/learner.cc:1095: Starting in XGBoost 1.3.0, the default evaluation metric used with the objective 'binary:logistic' was changed from 'error' to 'logloss'. Explicitly set eval_metric if you'd like to restore the old behavior.\n"
     ]
    },
    {
     "name": "stderr",
     "output_type": "stream",
     "text": [
      "C:\\Users\\user\\anaconda3\\envs\\aging\\lib\\site-packages\\pandas\\core\\computation\\expressions.py:205: UserWarning: evaluating in Python space because the '*' operator is not supported by numexpr for the bool dtype, use '&' instead\n",
      "  f\"evaluating in Python space because the {repr(op_str)} \"\n",
      "C:\\Users\\user\\anaconda3\\envs\\aging\\lib\\site-packages\\pandas\\core\\computation\\expressions.py:205: UserWarning: evaluating in Python space because the '*' operator is not supported by numexpr for the bool dtype, use '&' instead\n",
      "  f\"evaluating in Python space because the {repr(op_str)} \"\n",
      "C:\\Users\\user\\anaconda3\\envs\\aging\\lib\\site-packages\\xgboost\\sklearn.py:1146: UserWarning: The use of label encoder in XGBClassifier is deprecated and will be removed in a future release. To remove this warning, do the following: 1) Pass option use_label_encoder=False when constructing XGBClassifier object; and 2) Encode your labels (y) as integers starting with 0, i.e. 0, 1, 2, ..., [num_class - 1].\n",
      "  warnings.warn(label_encoder_deprecation_msg, UserWarning)\n"
     ]
    },
    {
     "name": "stdout",
     "output_type": "stream",
     "text": [
      "Precision: 0.0012458619584949987 \n",
      "Recall: 0.6862745098039216 \n",
      "Aging Rate: 0.5774630516557381\n",
      "\n",
      " Dataset 9:\n",
      "[16:36:43] WARNING: C:/Users/Administrator/workspace/xgboost-win64_release_1.4.0/src/learner.cc:1095: Starting in XGBoost 1.3.0, the default evaluation metric used with the objective 'binary:logistic' was changed from 'error' to 'logloss'. Explicitly set eval_metric if you'd like to restore the old behavior.\n"
     ]
    },
    {
     "name": "stderr",
     "output_type": "stream",
     "text": [
      "C:\\Users\\user\\anaconda3\\envs\\aging\\lib\\site-packages\\pandas\\core\\computation\\expressions.py:205: UserWarning: evaluating in Python space because the '*' operator is not supported by numexpr for the bool dtype, use '&' instead\n",
      "  f\"evaluating in Python space because the {repr(op_str)} \"\n",
      "C:\\Users\\user\\anaconda3\\envs\\aging\\lib\\site-packages\\pandas\\core\\computation\\expressions.py:205: UserWarning: evaluating in Python space because the '*' operator is not supported by numexpr for the bool dtype, use '&' instead\n",
      "  f\"evaluating in Python space because the {repr(op_str)} \"\n",
      "C:\\Users\\user\\anaconda3\\envs\\aging\\lib\\site-packages\\xgboost\\sklearn.py:1146: UserWarning: The use of label encoder in XGBClassifier is deprecated and will be removed in a future release. To remove this warning, do the following: 1) Pass option use_label_encoder=False when constructing XGBClassifier object; and 2) Encode your labels (y) as integers starting with 0, i.e. 0, 1, 2, ..., [num_class - 1].\n",
      "  warnings.warn(label_encoder_deprecation_msg, UserWarning)\n"
     ]
    },
    {
     "name": "stdout",
     "output_type": "stream",
     "text": [
      "Precision: 0.0011826261467889909 \n",
      "Recall: 0.6470588235294118 \n",
      "Aging Rate: 0.5735780797138688\n",
      "\n",
      " Dataset 0:\n",
      "[16:36:44] WARNING: C:/Users/Administrator/workspace/xgboost-win64_release_1.4.0/src/learner.cc:1095: Starting in XGBoost 1.3.0, the default evaluation metric used with the objective 'binary:logistic' was changed from 'error' to 'logloss'. Explicitly set eval_metric if you'd like to restore the old behavior.\n"
     ]
    },
    {
     "name": "stderr",
     "output_type": "stream",
     "text": [
      "C:\\Users\\user\\anaconda3\\envs\\aging\\lib\\site-packages\\pandas\\core\\computation\\expressions.py:205: UserWarning: evaluating in Python space because the '*' operator is not supported by numexpr for the bool dtype, use '&' instead\n",
      "  f\"evaluating in Python space because the {repr(op_str)} \"\n",
      "C:\\Users\\user\\anaconda3\\envs\\aging\\lib\\site-packages\\pandas\\core\\computation\\expressions.py:205: UserWarning: evaluating in Python space because the '*' operator is not supported by numexpr for the bool dtype, use '&' instead\n",
      "  f\"evaluating in Python space because the {repr(op_str)} \"\n",
      "C:\\Users\\user\\anaconda3\\envs\\aging\\lib\\site-packages\\xgboost\\sklearn.py:1146: UserWarning: The use of label encoder in XGBClassifier is deprecated and will be removed in a future release. To remove this warning, do the following: 1) Pass option use_label_encoder=False when constructing XGBClassifier object; and 2) Encode your labels (y) as integers starting with 0, i.e. 0, 1, 2, ..., [num_class - 1].\n",
      "  warnings.warn(label_encoder_deprecation_msg, UserWarning)\n"
     ]
    },
    {
     "name": "stdout",
     "output_type": "stream",
     "text": [
      "Precision: 0.0 \n",
      "Recall: 0.0 \n",
      "Aging Rate: 6.166622129951284e-05\n",
      "\n",
      " Dataset 1:\n",
      "[16:37:07] WARNING: C:/Users/Administrator/workspace/xgboost-win64_release_1.4.0/src/learner.cc:1095: Starting in XGBoost 1.3.0, the default evaluation metric used with the objective 'binary:logistic' was changed from 'error' to 'logloss'. Explicitly set eval_metric if you'd like to restore the old behavior.\n"
     ]
    },
    {
     "name": "stderr",
     "output_type": "stream",
     "text": [
      "C:\\Users\\user\\anaconda3\\envs\\aging\\lib\\site-packages\\pandas\\core\\computation\\expressions.py:205: UserWarning: evaluating in Python space because the '*' operator is not supported by numexpr for the bool dtype, use '&' instead\n",
      "  f\"evaluating in Python space because the {repr(op_str)} \"\n",
      "C:\\Users\\user\\anaconda3\\envs\\aging\\lib\\site-packages\\pandas\\core\\computation\\expressions.py:205: UserWarning: evaluating in Python space because the '*' operator is not supported by numexpr for the bool dtype, use '&' instead\n",
      "  f\"evaluating in Python space because the {repr(op_str)} \"\n",
      "C:\\Users\\user\\anaconda3\\envs\\aging\\lib\\site-packages\\xgboost\\sklearn.py:1146: UserWarning: The use of label encoder in XGBClassifier is deprecated and will be removed in a future release. To remove this warning, do the following: 1) Pass option use_label_encoder=False when constructing XGBClassifier object; and 2) Encode your labels (y) as integers starting with 0, i.e. 0, 1, 2, ..., [num_class - 1].\n",
      "  warnings.warn(label_encoder_deprecation_msg, UserWarning)\n"
     ]
    },
    {
     "name": "stdout",
     "output_type": "stream",
     "text": [
      "Precision: 0.0013087997536376935 \n",
      "Recall: 0.6666666666666666 \n",
      "Aging Rate: 0.5339883656395815\n",
      "\n",
      " Dataset 2:\n",
      "[16:37:08] WARNING: C:/Users/Administrator/workspace/xgboost-win64_release_1.4.0/src/learner.cc:1095: Starting in XGBoost 1.3.0, the default evaluation metric used with the objective 'binary:logistic' was changed from 'error' to 'logloss'. Explicitly set eval_metric if you'd like to restore the old behavior.\n"
     ]
    },
    {
     "name": "stderr",
     "output_type": "stream",
     "text": [
      "C:\\Users\\user\\anaconda3\\envs\\aging\\lib\\site-packages\\pandas\\core\\computation\\expressions.py:205: UserWarning: evaluating in Python space because the '*' operator is not supported by numexpr for the bool dtype, use '&' instead\n",
      "  f\"evaluating in Python space because the {repr(op_str)} \"\n",
      "C:\\Users\\user\\anaconda3\\envs\\aging\\lib\\site-packages\\pandas\\core\\computation\\expressions.py:205: UserWarning: evaluating in Python space because the '*' operator is not supported by numexpr for the bool dtype, use '&' instead\n",
      "  f\"evaluating in Python space because the {repr(op_str)} \"\n",
      "C:\\Users\\user\\anaconda3\\envs\\aging\\lib\\site-packages\\xgboost\\sklearn.py:1146: UserWarning: The use of label encoder in XGBClassifier is deprecated and will be removed in a future release. To remove this warning, do the following: 1) Pass option use_label_encoder=False when constructing XGBClassifier object; and 2) Encode your labels (y) as integers starting with 0, i.e. 0, 1, 2, ..., [num_class - 1].\n",
      "  warnings.warn(label_encoder_deprecation_msg, UserWarning)\n"
     ]
    },
    {
     "name": "stdout",
     "output_type": "stream",
     "text": [
      "Precision: 0.001100244498777506 \n",
      "Recall: 0.7058823529411765 \n",
      "Aging Rate: 0.6725729203066867\n",
      "\n",
      " Dataset 3:\n",
      "[16:37:08] WARNING: C:/Users/Administrator/workspace/xgboost-win64_release_1.4.0/src/learner.cc:1095: Starting in XGBoost 1.3.0, the default evaluation metric used with the objective 'binary:logistic' was changed from 'error' to 'logloss'. Explicitly set eval_metric if you'd like to restore the old behavior.\n"
     ]
    },
    {
     "name": "stderr",
     "output_type": "stream",
     "text": [
      "C:\\Users\\user\\anaconda3\\envs\\aging\\lib\\site-packages\\pandas\\core\\computation\\expressions.py:205: UserWarning: evaluating in Python space because the '*' operator is not supported by numexpr for the bool dtype, use '&' instead\n",
      "  f\"evaluating in Python space because the {repr(op_str)} \"\n",
      "C:\\Users\\user\\anaconda3\\envs\\aging\\lib\\site-packages\\pandas\\core\\computation\\expressions.py:205: UserWarning: evaluating in Python space because the '*' operator is not supported by numexpr for the bool dtype, use '&' instead\n",
      "  f\"evaluating in Python space because the {repr(op_str)} \"\n",
      "C:\\Users\\user\\anaconda3\\envs\\aging\\lib\\site-packages\\xgboost\\sklearn.py:1146: UserWarning: The use of label encoder in XGBClassifier is deprecated and will be removed in a future release. To remove this warning, do the following: 1) Pass option use_label_encoder=False when constructing XGBClassifier object; and 2) Encode your labels (y) as integers starting with 0, i.e. 0, 1, 2, ..., [num_class - 1].\n",
      "  warnings.warn(label_encoder_deprecation_msg, UserWarning)\n"
     ]
    },
    {
     "name": "stdout",
     "output_type": "stream",
     "text": [
      "Precision: 0.001035494448599206 \n",
      "Recall: 0.7058823529411765 \n",
      "Aging Rate: 0.7146292832329544\n",
      "\n",
      " Dataset 4:\n",
      "[16:37:09] WARNING: C:/Users/Administrator/workspace/xgboost-win64_release_1.4.0/src/learner.cc:1095: Starting in XGBoost 1.3.0, the default evaluation metric used with the objective 'binary:logistic' was changed from 'error' to 'logloss'. Explicitly set eval_metric if you'd like to restore the old behavior.\n"
     ]
    },
    {
     "name": "stderr",
     "output_type": "stream",
     "text": [
      "C:\\Users\\user\\anaconda3\\envs\\aging\\lib\\site-packages\\pandas\\core\\computation\\expressions.py:205: UserWarning: evaluating in Python space because the '*' operator is not supported by numexpr for the bool dtype, use '&' instead\n",
      "  f\"evaluating in Python space because the {repr(op_str)} \"\n",
      "C:\\Users\\user\\anaconda3\\envs\\aging\\lib\\site-packages\\pandas\\core\\computation\\expressions.py:205: UserWarning: evaluating in Python space because the '*' operator is not supported by numexpr for the bool dtype, use '&' instead\n",
      "  f\"evaluating in Python space because the {repr(op_str)} \"\n",
      "C:\\Users\\user\\anaconda3\\envs\\aging\\lib\\site-packages\\xgboost\\sklearn.py:1146: UserWarning: The use of label encoder in XGBClassifier is deprecated and will be removed in a future release. To remove this warning, do the following: 1) Pass option use_label_encoder=False when constructing XGBClassifier object; and 2) Encode your labels (y) as integers starting with 0, i.e. 0, 1, 2, ..., [num_class - 1].\n",
      "  warnings.warn(label_encoder_deprecation_msg, UserWarning)\n"
     ]
    },
    {
     "name": "stdout",
     "output_type": "stream",
     "text": [
      "Precision: 0.0011773100249732429 \n",
      "Recall: 0.6470588235294118 \n",
      "Aging Rate: 0.5761680610084483\n",
      "\n",
      " Dataset 5:\n",
      "[16:37:10] WARNING: C:/Users/Administrator/workspace/xgboost-win64_release_1.4.0/src/learner.cc:1095: Starting in XGBoost 1.3.0, the default evaluation metric used with the objective 'binary:logistic' was changed from 'error' to 'logloss'. Explicitly set eval_metric if you'd like to restore the old behavior.\n"
     ]
    },
    {
     "name": "stderr",
     "output_type": "stream",
     "text": [
      "C:\\Users\\user\\anaconda3\\envs\\aging\\lib\\site-packages\\pandas\\core\\computation\\expressions.py:205: UserWarning: evaluating in Python space because the '*' operator is not supported by numexpr for the bool dtype, use '&' instead\n",
      "  f\"evaluating in Python space because the {repr(op_str)} \"\n",
      "C:\\Users\\user\\anaconda3\\envs\\aging\\lib\\site-packages\\pandas\\core\\computation\\expressions.py:205: UserWarning: evaluating in Python space because the '*' operator is not supported by numexpr for the bool dtype, use '&' instead\n",
      "  f\"evaluating in Python space because the {repr(op_str)} \"\n",
      "C:\\Users\\user\\anaconda3\\envs\\aging\\lib\\site-packages\\xgboost\\sklearn.py:1146: UserWarning: The use of label encoder in XGBClassifier is deprecated and will be removed in a future release. To remove this warning, do the following: 1) Pass option use_label_encoder=False when constructing XGBClassifier object; and 2) Encode your labels (y) as integers starting with 0, i.e. 0, 1, 2, ..., [num_class - 1].\n",
      "  warnings.warn(label_encoder_deprecation_msg, UserWarning)\n"
     ]
    },
    {
     "name": "stdout",
     "output_type": "stream",
     "text": [
      "Precision: 0.001257500089821435 \n",
      "Recall: 0.6862745098039216 \n",
      "Aging Rate: 0.5721186458097802\n",
      "\n",
      " Dataset 6:\n",
      "[16:37:10] WARNING: C:/Users/Administrator/workspace/xgboost-win64_release_1.4.0/src/learner.cc:1095: Starting in XGBoost 1.3.0, the default evaluation metric used with the objective 'binary:logistic' was changed from 'error' to 'logloss'. Explicitly set eval_metric if you'd like to restore the old behavior.\n"
     ]
    },
    {
     "name": "stderr",
     "output_type": "stream",
     "text": [
      "C:\\Users\\user\\anaconda3\\envs\\aging\\lib\\site-packages\\pandas\\core\\computation\\expressions.py:205: UserWarning: evaluating in Python space because the '*' operator is not supported by numexpr for the bool dtype, use '&' instead\n",
      "  f\"evaluating in Python space because the {repr(op_str)} \"\n",
      "C:\\Users\\user\\anaconda3\\envs\\aging\\lib\\site-packages\\pandas\\core\\computation\\expressions.py:205: UserWarning: evaluating in Python space because the '*' operator is not supported by numexpr for the bool dtype, use '&' instead\n",
      "  f\"evaluating in Python space because the {repr(op_str)} \"\n",
      "C:\\Users\\user\\anaconda3\\envs\\aging\\lib\\site-packages\\xgboost\\sklearn.py:1146: UserWarning: The use of label encoder in XGBClassifier is deprecated and will be removed in a future release. To remove this warning, do the following: 1) Pass option use_label_encoder=False when constructing XGBClassifier object; and 2) Encode your labels (y) as integers starting with 0, i.e. 0, 1, 2, ..., [num_class - 1].\n",
      "  warnings.warn(label_encoder_deprecation_msg, UserWarning)\n"
     ]
    },
    {
     "name": "stdout",
     "output_type": "stream",
     "text": [
      "Precision: 0.0012273039021044652 \n",
      "Recall: 0.6666666666666666 \n",
      "Aging Rate: 0.5694464428868014\n",
      "\n",
      " Dataset 7:\n",
      "[16:37:11] WARNING: C:/Users/Administrator/workspace/xgboost-win64_release_1.4.0/src/learner.cc:1095: Starting in XGBoost 1.3.0, the default evaluation metric used with the objective 'binary:logistic' was changed from 'error' to 'logloss'. Explicitly set eval_metric if you'd like to restore the old behavior.\n"
     ]
    },
    {
     "name": "stderr",
     "output_type": "stream",
     "text": [
      "C:\\Users\\user\\anaconda3\\envs\\aging\\lib\\site-packages\\pandas\\core\\computation\\expressions.py:205: UserWarning: evaluating in Python space because the '*' operator is not supported by numexpr for the bool dtype, use '&' instead\n",
      "  f\"evaluating in Python space because the {repr(op_str)} \"\n",
      "C:\\Users\\user\\anaconda3\\envs\\aging\\lib\\site-packages\\pandas\\core\\computation\\expressions.py:205: UserWarning: evaluating in Python space because the '*' operator is not supported by numexpr for the bool dtype, use '&' instead\n",
      "  f\"evaluating in Python space because the {repr(op_str)} \"\n",
      "C:\\Users\\user\\anaconda3\\envs\\aging\\lib\\site-packages\\xgboost\\sklearn.py:1146: UserWarning: The use of label encoder in XGBClassifier is deprecated and will be removed in a future release. To remove this warning, do the following: 1) Pass option use_label_encoder=False when constructing XGBClassifier object; and 2) Encode your labels (y) as integers starting with 0, i.e. 0, 1, 2, ..., [num_class - 1].\n",
      "  warnings.warn(label_encoder_deprecation_msg, UserWarning)\n"
     ]
    },
    {
     "name": "stdout",
     "output_type": "stream",
     "text": [
      "Precision: 0.0011657893807185502 \n",
      "Recall: 0.6470588235294118 \n",
      "Aging Rate: 0.5818619087751032\n",
      "\n",
      " Dataset 8:\n",
      "[16:37:11] WARNING: C:/Users/Administrator/workspace/xgboost-win64_release_1.4.0/src/learner.cc:1095: Starting in XGBoost 1.3.0, the default evaluation metric used with the objective 'binary:logistic' was changed from 'error' to 'logloss'. Explicitly set eval_metric if you'd like to restore the old behavior.\n"
     ]
    },
    {
     "name": "stderr",
     "output_type": "stream",
     "text": [
      "C:\\Users\\user\\anaconda3\\envs\\aging\\lib\\site-packages\\pandas\\core\\computation\\expressions.py:205: UserWarning: evaluating in Python space because the '*' operator is not supported by numexpr for the bool dtype, use '&' instead\n",
      "  f\"evaluating in Python space because the {repr(op_str)} \"\n",
      "C:\\Users\\user\\anaconda3\\envs\\aging\\lib\\site-packages\\pandas\\core\\computation\\expressions.py:205: UserWarning: evaluating in Python space because the '*' operator is not supported by numexpr for the bool dtype, use '&' instead\n",
      "  f\"evaluating in Python space because the {repr(op_str)} \"\n",
      "C:\\Users\\user\\anaconda3\\envs\\aging\\lib\\site-packages\\xgboost\\sklearn.py:1146: UserWarning: The use of label encoder in XGBClassifier is deprecated and will be removed in a future release. To remove this warning, do the following: 1) Pass option use_label_encoder=False when constructing XGBClassifier object; and 2) Encode your labels (y) as integers starting with 0, i.e. 0, 1, 2, ..., [num_class - 1].\n",
      "  warnings.warn(label_encoder_deprecation_msg, UserWarning)\n"
     ]
    },
    {
     "name": "stdout",
     "output_type": "stream",
     "text": [
      "Precision: 0.0012296564195298373 \n",
      "Recall: 0.6666666666666666 \n",
      "Aging Rate: 0.56835700631051\n",
      "\n",
      " Dataset 9:\n",
      "[16:37:12] WARNING: C:/Users/Administrator/workspace/xgboost-win64_release_1.4.0/src/learner.cc:1095: Starting in XGBoost 1.3.0, the default evaluation metric used with the objective 'binary:logistic' was changed from 'error' to 'logloss'. Explicitly set eval_metric if you'd like to restore the old behavior.\n"
     ]
    },
    {
     "name": "stderr",
     "output_type": "stream",
     "text": [
      "C:\\Users\\user\\anaconda3\\envs\\aging\\lib\\site-packages\\pandas\\core\\computation\\expressions.py:205: UserWarning: evaluating in Python space because the '*' operator is not supported by numexpr for the bool dtype, use '&' instead\n",
      "  f\"evaluating in Python space because the {repr(op_str)} \"\n",
      "C:\\Users\\user\\anaconda3\\envs\\aging\\lib\\site-packages\\pandas\\core\\computation\\expressions.py:205: UserWarning: evaluating in Python space because the '*' operator is not supported by numexpr for the bool dtype, use '&' instead\n",
      "  f\"evaluating in Python space because the {repr(op_str)} \"\n"
     ]
    },
    {
     "name": "stdout",
     "output_type": "stream",
     "text": [
      "Precision: 0.0012393832245835307 \n",
      "Recall: 0.6666666666666666 \n",
      "Aging Rate: 0.5638964829698452\n",
      "\n",
      " Dataset 0:\n"
     ]
    },
    {
     "name": "stderr",
     "output_type": "stream",
     "text": [
      "C:\\Users\\user\\anaconda3\\envs\\aging\\lib\\site-packages\\pandas\\core\\computation\\expressions.py:205: UserWarning: evaluating in Python space because the '*' operator is not supported by numexpr for the bool dtype, use '&' instead\n",
      "  f\"evaluating in Python space because the {repr(op_str)} \"\n",
      "C:\\Users\\user\\anaconda3\\envs\\aging\\lib\\site-packages\\pandas\\core\\computation\\expressions.py:205: UserWarning: evaluating in Python space because the '*' operator is not supported by numexpr for the bool dtype, use '&' instead\n",
      "  f\"evaluating in Python space because the {repr(op_str)} \"\n"
     ]
    },
    {
     "name": "stdout",
     "output_type": "stream",
     "text": [
      "Precision: 0.0 \n",
      "Recall: 0.0 \n",
      "Aging Rate: 4.111081419967522e-05\n",
      "\n",
      " Dataset 1:\n"
     ]
    },
    {
     "name": "stderr",
     "output_type": "stream",
     "text": [
      "C:\\Users\\user\\anaconda3\\envs\\aging\\lib\\site-packages\\pandas\\core\\computation\\expressions.py:205: UserWarning: evaluating in Python space because the '*' operator is not supported by numexpr for the bool dtype, use '&' instead\n",
      "  f\"evaluating in Python space because the {repr(op_str)} \"\n",
      "C:\\Users\\user\\anaconda3\\envs\\aging\\lib\\site-packages\\pandas\\core\\computation\\expressions.py:205: UserWarning: evaluating in Python space because the '*' operator is not supported by numexpr for the bool dtype, use '&' instead\n",
      "  f\"evaluating in Python space because the {repr(op_str)} \"\n"
     ]
    },
    {
     "name": "stdout",
     "output_type": "stream",
     "text": [
      "Precision: 0.0012871287128712872 \n",
      "Recall: 0.5098039215686274 \n",
      "Aging Rate: 0.41521922341671974\n",
      "\n",
      " Dataset 2:\n"
     ]
    },
    {
     "name": "stderr",
     "output_type": "stream",
     "text": [
      "C:\\Users\\user\\anaconda3\\envs\\aging\\lib\\site-packages\\pandas\\core\\computation\\expressions.py:205: UserWarning: evaluating in Python space because the '*' operator is not supported by numexpr for the bool dtype, use '&' instead\n",
      "  f\"evaluating in Python space because the {repr(op_str)} \"\n",
      "C:\\Users\\user\\anaconda3\\envs\\aging\\lib\\site-packages\\pandas\\core\\computation\\expressions.py:205: UserWarning: evaluating in Python space because the '*' operator is not supported by numexpr for the bool dtype, use '&' instead\n",
      "  f\"evaluating in Python space because the {repr(op_str)} \"\n"
     ]
    },
    {
     "name": "stdout",
     "output_type": "stream",
     "text": [
      "Precision: 0.0011286283638415689 \n",
      "Recall: 0.6274509803921569 \n",
      "Aging Rate: 0.5828074575016958\n",
      "\n",
      " Dataset 3:\n"
     ]
    },
    {
     "name": "stderr",
     "output_type": "stream",
     "text": [
      "C:\\Users\\user\\anaconda3\\envs\\aging\\lib\\site-packages\\pandas\\core\\computation\\expressions.py:205: UserWarning: evaluating in Python space because the '*' operator is not supported by numexpr for the bool dtype, use '&' instead\n",
      "  f\"evaluating in Python space because the {repr(op_str)} \"\n",
      "C:\\Users\\user\\anaconda3\\envs\\aging\\lib\\site-packages\\pandas\\core\\computation\\expressions.py:205: UserWarning: evaluating in Python space because the '*' operator is not supported by numexpr for the bool dtype, use '&' instead\n",
      "  f\"evaluating in Python space because the {repr(op_str)} \"\n"
     ]
    },
    {
     "name": "stdout",
     "output_type": "stream",
     "text": [
      "Precision: 0.0010157743785850861 \n",
      "Recall: 0.6666666666666666 \n",
      "Aging Rate: 0.6880305864457645\n",
      "\n",
      " Dataset 4:\n"
     ]
    },
    {
     "name": "stderr",
     "output_type": "stream",
     "text": [
      "C:\\Users\\user\\anaconda3\\envs\\aging\\lib\\site-packages\\pandas\\core\\computation\\expressions.py:205: UserWarning: evaluating in Python space because the '*' operator is not supported by numexpr for the bool dtype, use '&' instead\n",
      "  f\"evaluating in Python space because the {repr(op_str)} \"\n",
      "C:\\Users\\user\\anaconda3\\envs\\aging\\lib\\site-packages\\pandas\\core\\computation\\expressions.py:205: UserWarning: evaluating in Python space because the '*' operator is not supported by numexpr for the bool dtype, use '&' instead\n",
      "  f\"evaluating in Python space because the {repr(op_str)} \"\n"
     ]
    },
    {
     "name": "stdout",
     "output_type": "stream",
     "text": [
      "Precision: 0.0011860311882275422 \n",
      "Recall: 0.5294117647058824 \n",
      "Aging Rate: 0.46794384262780325\n",
      "\n",
      " Dataset 5:\n"
     ]
    },
    {
     "name": "stderr",
     "output_type": "stream",
     "text": [
      "C:\\Users\\user\\anaconda3\\envs\\aging\\lib\\site-packages\\pandas\\core\\computation\\expressions.py:205: UserWarning: evaluating in Python space because the '*' operator is not supported by numexpr for the bool dtype, use '&' instead\n",
      "  f\"evaluating in Python space because the {repr(op_str)} \"\n",
      "C:\\Users\\user\\anaconda3\\envs\\aging\\lib\\site-packages\\pandas\\core\\computation\\expressions.py:205: UserWarning: evaluating in Python space because the '*' operator is not supported by numexpr for the bool dtype, use '&' instead\n",
      "  f\"evaluating in Python space because the {repr(op_str)} \"\n"
     ]
    },
    {
     "name": "stdout",
     "output_type": "stream",
     "text": [
      "Precision: 0.0012276968407267965 \n",
      "Recall: 0.5882352941176471 \n",
      "Aging Rate: 0.5022919278916319\n",
      "\n",
      " Dataset 6:\n"
     ]
    },
    {
     "name": "stderr",
     "output_type": "stream",
     "text": [
      "C:\\Users\\user\\anaconda3\\envs\\aging\\lib\\site-packages\\pandas\\core\\computation\\expressions.py:205: UserWarning: evaluating in Python space because the '*' operator is not supported by numexpr for the bool dtype, use '&' instead\n",
      "  f\"evaluating in Python space because the {repr(op_str)} \"\n",
      "C:\\Users\\user\\anaconda3\\envs\\aging\\lib\\site-packages\\pandas\\core\\computation\\expressions.py:205: UserWarning: evaluating in Python space because the '*' operator is not supported by numexpr for the bool dtype, use '&' instead\n",
      "  f\"evaluating in Python space because the {repr(op_str)} \"\n"
     ]
    },
    {
     "name": "stdout",
     "output_type": "stream",
     "text": [
      "Precision: 0.0012342345817101864 \n",
      "Recall: 0.6274509803921569 \n",
      "Aging Rate: 0.5329400398774897\n",
      "\n",
      " Dataset 7:\n"
     ]
    },
    {
     "name": "stderr",
     "output_type": "stream",
     "text": [
      "C:\\Users\\user\\anaconda3\\envs\\aging\\lib\\site-packages\\pandas\\core\\computation\\expressions.py:205: UserWarning: evaluating in Python space because the '*' operator is not supported by numexpr for the bool dtype, use '&' instead\n",
      "  f\"evaluating in Python space because the {repr(op_str)} \"\n",
      "C:\\Users\\user\\anaconda3\\envs\\aging\\lib\\site-packages\\pandas\\core\\computation\\expressions.py:205: UserWarning: evaluating in Python space because the '*' operator is not supported by numexpr for the bool dtype, use '&' instead\n",
      "  f\"evaluating in Python space because the {repr(op_str)} \"\n"
     ]
    },
    {
     "name": "stdout",
     "output_type": "stream",
     "text": [
      "Precision: 0.0012867341856217832 \n",
      "Recall: 0.6078431372549019 \n",
      "Aging Rate: 0.49522086784928776\n",
      "\n",
      " Dataset 8:\n"
     ]
    },
    {
     "name": "stderr",
     "output_type": "stream",
     "text": [
      "C:\\Users\\user\\anaconda3\\envs\\aging\\lib\\site-packages\\pandas\\core\\computation\\expressions.py:205: UserWarning: evaluating in Python space because the '*' operator is not supported by numexpr for the bool dtype, use '&' instead\n",
      "  f\"evaluating in Python space because the {repr(op_str)} \"\n",
      "C:\\Users\\user\\anaconda3\\envs\\aging\\lib\\site-packages\\pandas\\core\\computation\\expressions.py:205: UserWarning: evaluating in Python space because the '*' operator is not supported by numexpr for the bool dtype, use '&' instead\n",
      "  f\"evaluating in Python space because the {repr(op_str)} \"\n"
     ]
    },
    {
     "name": "stdout",
     "output_type": "stream",
     "text": [
      "Precision: 0.0012545575724310974 \n",
      "Recall: 0.6274509803921569 \n",
      "Aging Rate: 0.5243067688955579\n",
      "\n",
      " Dataset 9:\n"
     ]
    },
    {
     "name": "stderr",
     "output_type": "stream",
     "text": [
      "C:\\Users\\user\\anaconda3\\envs\\aging\\lib\\site-packages\\pandas\\core\\computation\\expressions.py:205: UserWarning: evaluating in Python space because the '*' operator is not supported by numexpr for the bool dtype, use '&' instead\n",
      "  f\"evaluating in Python space because the {repr(op_str)} \"\n",
      "C:\\Users\\user\\anaconda3\\envs\\aging\\lib\\site-packages\\pandas\\core\\computation\\expressions.py:205: UserWarning: evaluating in Python space because the '*' operator is not supported by numexpr for the bool dtype, use '&' instead\n",
      "  f\"evaluating in Python space because the {repr(op_str)} \"\n"
     ]
    },
    {
     "name": "stdout",
     "output_type": "stream",
     "text": [
      "Precision: 0.0013291391608701432 \n",
      "Recall: 0.5882352941176471 \n",
      "Aging Rate: 0.4639560936504347\n",
      "\n",
      " Dataset 0:\n"
     ]
    },
    {
     "name": "stderr",
     "output_type": "stream",
     "text": [
      "C:\\Users\\user\\anaconda3\\envs\\aging\\lib\\site-packages\\pandas\\core\\computation\\expressions.py:205: UserWarning: evaluating in Python space because the '*' operator is not supported by numexpr for the bool dtype, use '&' instead\n",
      "  f\"evaluating in Python space because the {repr(op_str)} \"\n",
      "C:\\Users\\user\\anaconda3\\envs\\aging\\lib\\site-packages\\pandas\\core\\computation\\expressions.py:205: UserWarning: evaluating in Python space because the '*' operator is not supported by numexpr for the bool dtype, use '&' instead\n",
      "  f\"evaluating in Python space because the {repr(op_str)} \"\n"
     ]
    },
    {
     "name": "stdout",
     "output_type": "stream",
     "text": [
      "Precision: 0.0 \n",
      "Recall: 0.0 \n",
      "Aging Rate: 6.166622129951284e-05\n",
      "\n",
      " Dataset 1:\n"
     ]
    },
    {
     "name": "stderr",
     "output_type": "stream",
     "text": [
      "C:\\Users\\user\\anaconda3\\envs\\aging\\lib\\site-packages\\pandas\\core\\computation\\expressions.py:205: UserWarning: evaluating in Python space because the '*' operator is not supported by numexpr for the bool dtype, use '&' instead\n",
      "  f\"evaluating in Python space because the {repr(op_str)} \"\n",
      "C:\\Users\\user\\anaconda3\\envs\\aging\\lib\\site-packages\\pandas\\core\\computation\\expressions.py:205: UserWarning: evaluating in Python space because the '*' operator is not supported by numexpr for the bool dtype, use '&' instead\n",
      "  f\"evaluating in Python space because the {repr(op_str)} \"\n"
     ]
    },
    {
     "name": "stdout",
     "output_type": "stream",
     "text": [
      "Precision: 0.000988314632870182 \n",
      "Recall: 0.3333333333333333 \n",
      "Aging Rate: 0.35357355752430675\n",
      "\n",
      " Dataset 2:\n"
     ]
    },
    {
     "name": "stderr",
     "output_type": "stream",
     "text": [
      "C:\\Users\\user\\anaconda3\\envs\\aging\\lib\\site-packages\\pandas\\core\\computation\\expressions.py:205: UserWarning: evaluating in Python space because the '*' operator is not supported by numexpr for the bool dtype, use '&' instead\n",
      "  f\"evaluating in Python space because the {repr(op_str)} \"\n",
      "C:\\Users\\user\\anaconda3\\envs\\aging\\lib\\site-packages\\pandas\\core\\computation\\expressions.py:205: UserWarning: evaluating in Python space because the '*' operator is not supported by numexpr for the bool dtype, use '&' instead\n",
      "  f\"evaluating in Python space because the {repr(op_str)} \"\n"
     ]
    },
    {
     "name": "stdout",
     "output_type": "stream",
     "text": [
      "Precision: 0.0012513904338153504 \n",
      "Recall: 0.7058823529411765 \n",
      "Aging Rate: 0.5913379514481284\n",
      "\n",
      " Dataset 3:\n"
     ]
    },
    {
     "name": "stderr",
     "output_type": "stream",
     "text": [
      "C:\\Users\\user\\anaconda3\\envs\\aging\\lib\\site-packages\\pandas\\core\\computation\\expressions.py:205: UserWarning: evaluating in Python space because the '*' operator is not supported by numexpr for the bool dtype, use '&' instead\n",
      "  f\"evaluating in Python space because the {repr(op_str)} \"\n",
      "C:\\Users\\user\\anaconda3\\envs\\aging\\lib\\site-packages\\pandas\\core\\computation\\expressions.py:205: UserWarning: evaluating in Python space because the '*' operator is not supported by numexpr for the bool dtype, use '&' instead\n",
      "  f\"evaluating in Python space because the {repr(op_str)} \"\n"
     ]
    },
    {
     "name": "stdout",
     "output_type": "stream",
     "text": [
      "Precision: 0.0010354646647683149 \n",
      "Recall: 0.6274509803921569 \n",
      "Aging Rate: 0.6352443010133816\n",
      "\n",
      " Dataset 4:\n"
     ]
    },
    {
     "name": "stderr",
     "output_type": "stream",
     "text": [
      "C:\\Users\\user\\anaconda3\\envs\\aging\\lib\\site-packages\\pandas\\core\\computation\\expressions.py:205: UserWarning: evaluating in Python space because the '*' operator is not supported by numexpr for the bool dtype, use '&' instead\n",
      "  f\"evaluating in Python space because the {repr(op_str)} \"\n",
      "C:\\Users\\user\\anaconda3\\envs\\aging\\lib\\site-packages\\pandas\\core\\computation\\expressions.py:205: UserWarning: evaluating in Python space because the '*' operator is not supported by numexpr for the bool dtype, use '&' instead\n",
      "  f\"evaluating in Python space because the {repr(op_str)} \"\n"
     ]
    },
    {
     "name": "stdout",
     "output_type": "stream",
     "text": [
      "Precision: 0.0012311315704956643 \n",
      "Recall: 0.45098039215686275 \n",
      "Aging Rate: 0.38401611543916625\n",
      "\n",
      " Dataset 5:\n"
     ]
    },
    {
     "name": "stderr",
     "output_type": "stream",
     "text": [
      "C:\\Users\\user\\anaconda3\\envs\\aging\\lib\\site-packages\\pandas\\core\\computation\\expressions.py:205: UserWarning: evaluating in Python space because the '*' operator is not supported by numexpr for the bool dtype, use '&' instead\n",
      "  f\"evaluating in Python space because the {repr(op_str)} \"\n",
      "C:\\Users\\user\\anaconda3\\envs\\aging\\lib\\site-packages\\pandas\\core\\computation\\expressions.py:205: UserWarning: evaluating in Python space because the '*' operator is not supported by numexpr for the bool dtype, use '&' instead\n",
      "  f\"evaluating in Python space because the {repr(op_str)} \"\n"
     ]
    },
    {
     "name": "stdout",
     "output_type": "stream",
     "text": [
      "Precision: 0.001336898395721925 \n",
      "Recall: 0.5686274509803921 \n",
      "Aging Rate: 0.4458878908096775\n",
      "\n",
      " Dataset 6:\n"
     ]
    },
    {
     "name": "stderr",
     "output_type": "stream",
     "text": [
      "C:\\Users\\user\\anaconda3\\envs\\aging\\lib\\site-packages\\pandas\\core\\computation\\expressions.py:205: UserWarning: evaluating in Python space because the '*' operator is not supported by numexpr for the bool dtype, use '&' instead\n",
      "  f\"evaluating in Python space because the {repr(op_str)} \"\n",
      "C:\\Users\\user\\anaconda3\\envs\\aging\\lib\\site-packages\\pandas\\core\\computation\\expressions.py:205: UserWarning: evaluating in Python space because the '*' operator is not supported by numexpr for the bool dtype, use '&' instead\n",
      "  f\"evaluating in Python space because the {repr(op_str)} \"\n"
     ]
    },
    {
     "name": "stdout",
     "output_type": "stream",
     "text": [
      "Precision: 0.00113333990341973 \n",
      "Recall: 0.45098039215686275 \n",
      "Aging Rate: 0.4171514316841045\n",
      "\n",
      " Dataset 7:\n"
     ]
    },
    {
     "name": "stderr",
     "output_type": "stream",
     "text": [
      "C:\\Users\\user\\anaconda3\\envs\\aging\\lib\\site-packages\\pandas\\core\\computation\\expressions.py:205: UserWarning: evaluating in Python space because the '*' operator is not supported by numexpr for the bool dtype, use '&' instead\n",
      "  f\"evaluating in Python space because the {repr(op_str)} \"\n",
      "C:\\Users\\user\\anaconda3\\envs\\aging\\lib\\site-packages\\pandas\\core\\computation\\expressions.py:205: UserWarning: evaluating in Python space because the '*' operator is not supported by numexpr for the bool dtype, use '&' instead\n",
      "  f\"evaluating in Python space because the {repr(op_str)} \"\n"
     ]
    },
    {
     "name": "stdout",
     "output_type": "stream",
     "text": [
      "Precision: 0.0013939342738869646 \n",
      "Recall: 0.6470588235294118 \n",
      "Aging Rate: 0.48662870768155564\n",
      "\n",
      " Dataset 8:\n"
     ]
    },
    {
     "name": "stderr",
     "output_type": "stream",
     "text": [
      "C:\\Users\\user\\anaconda3\\envs\\aging\\lib\\site-packages\\pandas\\core\\computation\\expressions.py:205: UserWarning: evaluating in Python space because the '*' operator is not supported by numexpr for the bool dtype, use '&' instead\n",
      "  f\"evaluating in Python space because the {repr(op_str)} \"\n",
      "C:\\Users\\user\\anaconda3\\envs\\aging\\lib\\site-packages\\pandas\\core\\computation\\expressions.py:205: UserWarning: evaluating in Python space because the '*' operator is not supported by numexpr for the bool dtype, use '&' instead\n",
      "  f\"evaluating in Python space because the {repr(op_str)} \"\n"
     ]
    },
    {
     "name": "stdout",
     "output_type": "stream",
     "text": [
      "Precision: 0.0013218469392406217 \n",
      "Recall: 0.5686274509803921 \n",
      "Aging Rate: 0.4509650763633374\n",
      "\n",
      " Dataset 9:\n",
      "Precision: 0.0013691241754138488 \n",
      "Recall: 0.6470588235294118 \n",
      "Aging Rate: 0.49544697732738596\n"
     ]
    },
    {
     "name": "stderr",
     "output_type": "stream",
     "text": [
      "C:\\Users\\user\\anaconda3\\envs\\aging\\lib\\site-packages\\pandas\\core\\computation\\expressions.py:205: UserWarning: evaluating in Python space because the '*' operator is not supported by numexpr for the bool dtype, use '&' instead\n",
      "  f\"evaluating in Python space because the {repr(op_str)} \"\n",
      "C:\\Users\\user\\anaconda3\\envs\\aging\\lib\\site-packages\\pandas\\core\\computation\\expressions.py:205: UserWarning: evaluating in Python space because the '*' operator is not supported by numexpr for the bool dtype, use '&' instead\n",
      "  f\"evaluating in Python space because the {repr(op_str)} \"\n"
     ]
    },
    {
     "data": {
      "application/vnd.jupyter.widget-view+json": {
       "model_id": "96880c2650a7405693bd485d58fcb1c8",
       "version_major": 2,
       "version_minor": 0
      },
      "text/plain": [
       "  0%|          | 0/10 [00:00<?, ?it/s]"
      ]
     },
     "metadata": {},
     "output_type": "display_data"
    },
    {
     "name": "stdout",
     "output_type": "stream",
     "text": [
      "\n",
      " Dataset 0:\n"
     ]
    },
    {
     "name": "stderr",
     "output_type": "stream",
     "text": [
      "C:\\Users\\user\\anaconda3\\envs\\aging\\lib\\site-packages\\pandas\\core\\computation\\expressions.py:205: UserWarning: evaluating in Python space because the '*' operator is not supported by numexpr for the bool dtype, use '&' instead\n",
      "  f\"evaluating in Python space because the {repr(op_str)} \"\n",
      "C:\\Users\\user\\anaconda3\\envs\\aging\\lib\\site-packages\\pandas\\core\\computation\\expressions.py:205: UserWarning: evaluating in Python space because the '*' operator is not supported by numexpr for the bool dtype, use '&' instead\n",
      "  f\"evaluating in Python space because the {repr(op_str)} \"\n"
     ]
    },
    {
     "name": "stdout",
     "output_type": "stream",
     "text": [
      "Precision: 0.0 \n",
      "Recall: 0.0 \n",
      "Aging Rate: 0.00041110814199675223\n",
      "\n",
      " Dataset 1:\n"
     ]
    },
    {
     "name": "stderr",
     "output_type": "stream",
     "text": [
      "C:\\Users\\user\\anaconda3\\envs\\aging\\lib\\site-packages\\pandas\\core\\computation\\expressions.py:205: UserWarning: evaluating in Python space because the '*' operator is not supported by numexpr for the bool dtype, use '&' instead\n",
      "  f\"evaluating in Python space because the {repr(op_str)} \"\n",
      "C:\\Users\\user\\anaconda3\\envs\\aging\\lib\\site-packages\\pandas\\core\\computation\\expressions.py:205: UserWarning: evaluating in Python space because the '*' operator is not supported by numexpr for the bool dtype, use '&' instead\n",
      "  f\"evaluating in Python space because the {repr(op_str)} \"\n"
     ]
    },
    {
     "name": "stdout",
     "output_type": "stream",
     "text": [
      "Precision: 0.001077244788036246 \n",
      "Recall: 0.3333333333333333 \n",
      "Aging Rate: 0.32438487944253735\n",
      "\n",
      " Dataset 2:\n"
     ]
    },
    {
     "name": "stderr",
     "output_type": "stream",
     "text": [
      "C:\\Users\\user\\anaconda3\\envs\\aging\\lib\\site-packages\\pandas\\core\\computation\\expressions.py:205: UserWarning: evaluating in Python space because the '*' operator is not supported by numexpr for the bool dtype, use '&' instead\n",
      "  f\"evaluating in Python space because the {repr(op_str)} \"\n",
      "C:\\Users\\user\\anaconda3\\envs\\aging\\lib\\site-packages\\pandas\\core\\computation\\expressions.py:205: UserWarning: evaluating in Python space because the '*' operator is not supported by numexpr for the bool dtype, use '&' instead\n",
      "  f\"evaluating in Python space because the {repr(op_str)} \"\n"
     ]
    },
    {
     "name": "stdout",
     "output_type": "stream",
     "text": [
      "Precision: 0.0011747660257665348 \n",
      "Recall: 0.5882352941176471 \n",
      "Aging Rate: 0.5249234311085531\n",
      "\n",
      " Dataset 3:\n"
     ]
    },
    {
     "name": "stderr",
     "output_type": "stream",
     "text": [
      "C:\\Users\\user\\anaconda3\\envs\\aging\\lib\\site-packages\\pandas\\core\\computation\\expressions.py:205: UserWarning: evaluating in Python space because the '*' operator is not supported by numexpr for the bool dtype, use '&' instead\n",
      "  f\"evaluating in Python space because the {repr(op_str)} \"\n",
      "C:\\Users\\user\\anaconda3\\envs\\aging\\lib\\site-packages\\pandas\\core\\computation\\expressions.py:205: UserWarning: evaluating in Python space because the '*' operator is not supported by numexpr for the bool dtype, use '&' instead\n",
      "  f\"evaluating in Python space because the {repr(op_str)} \"\n"
     ]
    },
    {
     "name": "stdout",
     "output_type": "stream",
     "text": [
      "Precision: 0.0009777649018613747 \n",
      "Recall: 0.5294117647058824 \n",
      "Aging Rate: 0.5676170116549158\n",
      "\n",
      " Dataset 4:\n"
     ]
    },
    {
     "name": "stderr",
     "output_type": "stream",
     "text": [
      "C:\\Users\\user\\anaconda3\\envs\\aging\\lib\\site-packages\\pandas\\core\\computation\\expressions.py:205: UserWarning: evaluating in Python space because the '*' operator is not supported by numexpr for the bool dtype, use '&' instead\n",
      "  f\"evaluating in Python space because the {repr(op_str)} \"\n",
      "C:\\Users\\user\\anaconda3\\envs\\aging\\lib\\site-packages\\pandas\\core\\computation\\expressions.py:205: UserWarning: evaluating in Python space because the '*' operator is not supported by numexpr for the bool dtype, use '&' instead\n",
      "  f\"evaluating in Python space because the {repr(op_str)} \"\n"
     ]
    },
    {
     "name": "stdout",
     "output_type": "stream",
     "text": [
      "Precision: 0.001139715741485653 \n",
      "Recall: 0.3333333333333333 \n",
      "Aging Rate: 0.30660445230117783\n",
      "\n",
      " Dataset 5:\n"
     ]
    },
    {
     "name": "stderr",
     "output_type": "stream",
     "text": [
      "C:\\Users\\user\\anaconda3\\envs\\aging\\lib\\site-packages\\pandas\\core\\computation\\expressions.py:205: UserWarning: evaluating in Python space because the '*' operator is not supported by numexpr for the bool dtype, use '&' instead\n",
      "  f\"evaluating in Python space because the {repr(op_str)} \"\n",
      "C:\\Users\\user\\anaconda3\\envs\\aging\\lib\\site-packages\\pandas\\core\\computation\\expressions.py:205: UserWarning: evaluating in Python space because the '*' operator is not supported by numexpr for the bool dtype, use '&' instead\n",
      "  f\"evaluating in Python space because the {repr(op_str)} \"\n"
     ]
    },
    {
     "name": "stdout",
     "output_type": "stream",
     "text": [
      "Precision: 0.001389631213254944 \n",
      "Recall: 0.5098039215686274 \n",
      "Aging Rate: 0.3845916668379617\n",
      "\n",
      " Dataset 6:\n"
     ]
    },
    {
     "name": "stderr",
     "output_type": "stream",
     "text": [
      "C:\\Users\\user\\anaconda3\\envs\\aging\\lib\\site-packages\\pandas\\core\\computation\\expressions.py:205: UserWarning: evaluating in Python space because the '*' operator is not supported by numexpr for the bool dtype, use '&' instead\n",
      "  f\"evaluating in Python space because the {repr(op_str)} \"\n",
      "C:\\Users\\user\\anaconda3\\envs\\aging\\lib\\site-packages\\pandas\\core\\computation\\expressions.py:205: UserWarning: evaluating in Python space because the '*' operator is not supported by numexpr for the bool dtype, use '&' instead\n",
      "  f\"evaluating in Python space because the {repr(op_str)} \"\n"
     ]
    },
    {
     "name": "stdout",
     "output_type": "stream",
     "text": [
      "Precision: 0.0012713088702687085 \n",
      "Recall: 0.43137254901960786 \n",
      "Aging Rate: 0.3557113198626899\n",
      "\n",
      " Dataset 7:\n"
     ]
    },
    {
     "name": "stderr",
     "output_type": "stream",
     "text": [
      "C:\\Users\\user\\anaconda3\\envs\\aging\\lib\\site-packages\\pandas\\core\\computation\\expressions.py:205: UserWarning: evaluating in Python space because the '*' operator is not supported by numexpr for the bool dtype, use '&' instead\n",
      "  f\"evaluating in Python space because the {repr(op_str)} \"\n",
      "C:\\Users\\user\\anaconda3\\envs\\aging\\lib\\site-packages\\pandas\\core\\computation\\expressions.py:205: UserWarning: evaluating in Python space because the '*' operator is not supported by numexpr for the bool dtype, use '&' instead\n",
      "  f\"evaluating in Python space because the {repr(op_str)} \"\n"
     ]
    },
    {
     "name": "stdout",
     "output_type": "stream",
     "text": [
      "Precision: 0.0011482775836245632 \n",
      "Recall: 0.45098039215686275 \n",
      "Aging Rate: 0.4117248042097474\n",
      "\n",
      " Dataset 8:\n"
     ]
    },
    {
     "name": "stderr",
     "output_type": "stream",
     "text": [
      "C:\\Users\\user\\anaconda3\\envs\\aging\\lib\\site-packages\\pandas\\core\\computation\\expressions.py:205: UserWarning: evaluating in Python space because the '*' operator is not supported by numexpr for the bool dtype, use '&' instead\n",
      "  f\"evaluating in Python space because the {repr(op_str)} \"\n",
      "C:\\Users\\user\\anaconda3\\envs\\aging\\lib\\site-packages\\pandas\\core\\computation\\expressions.py:205: UserWarning: evaluating in Python space because the '*' operator is not supported by numexpr for the bool dtype, use '&' instead\n",
      "  f\"evaluating in Python space because the {repr(op_str)} \"\n"
     ]
    },
    {
     "name": "stdout",
     "output_type": "stream",
     "text": [
      "Precision: 0.0011211905004586689 \n",
      "Recall: 0.43137254901960786 \n",
      "Aging Rate: 0.40333819811301364\n",
      "\n",
      " Dataset 9:\n",
      "Precision: 0.0013290188373974343 \n",
      "Recall: 0.45098039215686275 \n",
      "Aging Rate: 0.3557318752697897\n"
     ]
    },
    {
     "name": "stderr",
     "output_type": "stream",
     "text": [
      "C:\\Users\\user\\anaconda3\\envs\\aging\\lib\\site-packages\\pandas\\core\\computation\\expressions.py:205: UserWarning: evaluating in Python space because the '*' operator is not supported by numexpr for the bool dtype, use '&' instead\n",
      "  f\"evaluating in Python space because the {repr(op_str)} \"\n",
      "C:\\Users\\user\\anaconda3\\envs\\aging\\lib\\site-packages\\pandas\\core\\computation\\expressions.py:205: UserWarning: evaluating in Python space because the '*' operator is not supported by numexpr for the bool dtype, use '&' instead\n",
      "  f\"evaluating in Python space because the {repr(op_str)} \"\n"
     ]
    },
    {
     "data": {
      "application/vnd.jupyter.widget-view+json": {
       "model_id": "5a1ce4f584164dd7bf89d88f7344c808",
       "version_major": 2,
       "version_minor": 0
      },
      "text/plain": [
       "  0%|          | 0/10 [00:00<?, ?it/s]"
      ]
     },
     "metadata": {},
     "output_type": "display_data"
    },
    {
     "name": "stdout",
     "output_type": "stream",
     "text": [
      "\n",
      " Dataset 0:\n"
     ]
    },
    {
     "name": "stderr",
     "output_type": "stream",
     "text": [
      "C:\\Users\\user\\anaconda3\\envs\\aging\\lib\\site-packages\\pandas\\core\\computation\\expressions.py:205: UserWarning: evaluating in Python space because the '*' operator is not supported by numexpr for the bool dtype, use '&' instead\n",
      "  f\"evaluating in Python space because the {repr(op_str)} \"\n",
      "C:\\Users\\user\\anaconda3\\envs\\aging\\lib\\site-packages\\pandas\\core\\computation\\expressions.py:205: UserWarning: evaluating in Python space because the '*' operator is not supported by numexpr for the bool dtype, use '&' instead\n",
      "  f\"evaluating in Python space because the {repr(op_str)} \"\n"
     ]
    },
    {
     "name": "stdout",
     "output_type": "stream",
     "text": [
      "Precision: 0.0 \n",
      "Recall: 0.0 \n",
      "Aging Rate: 0.00028777569939772657\n",
      "\n",
      " Dataset 1:\n"
     ]
    },
    {
     "name": "stderr",
     "output_type": "stream",
     "text": [
      "C:\\Users\\user\\anaconda3\\envs\\aging\\lib\\site-packages\\pandas\\core\\computation\\expressions.py:205: UserWarning: evaluating in Python space because the '*' operator is not supported by numexpr for the bool dtype, use '&' instead\n",
      "  f\"evaluating in Python space because the {repr(op_str)} \"\n",
      "C:\\Users\\user\\anaconda3\\envs\\aging\\lib\\site-packages\\pandas\\core\\computation\\expressions.py:205: UserWarning: evaluating in Python space because the '*' operator is not supported by numexpr for the bool dtype, use '&' instead\n",
      "  f\"evaluating in Python space because the {repr(op_str)} \"\n"
     ]
    },
    {
     "name": "stdout",
     "output_type": "stream",
     "text": [
      "Precision: 0.0011989754210038695 \n",
      "Recall: 0.43137254901960786 \n",
      "Aging Rate: 0.37717116487492036\n",
      "\n",
      " Dataset 2:\n"
     ]
    },
    {
     "name": "stderr",
     "output_type": "stream",
     "text": [
      "C:\\Users\\user\\anaconda3\\envs\\aging\\lib\\site-packages\\pandas\\core\\computation\\expressions.py:205: UserWarning: evaluating in Python space because the '*' operator is not supported by numexpr for the bool dtype, use '&' instead\n",
      "  f\"evaluating in Python space because the {repr(op_str)} \"\n",
      "C:\\Users\\user\\anaconda3\\envs\\aging\\lib\\site-packages\\pandas\\core\\computation\\expressions.py:205: UserWarning: evaluating in Python space because the '*' operator is not supported by numexpr for the bool dtype, use '&' instead\n",
      "  f\"evaluating in Python space because the {repr(op_str)} \"\n"
     ]
    },
    {
     "name": "stdout",
     "output_type": "stream",
     "text": [
      "Precision: 0.0008315662550413705 \n",
      "Recall: 0.39215686274509803 \n",
      "Aging Rate: 0.4943780961581944\n",
      "\n",
      " Dataset 3:\n"
     ]
    },
    {
     "name": "stderr",
     "output_type": "stream",
     "text": [
      "C:\\Users\\user\\anaconda3\\envs\\aging\\lib\\site-packages\\pandas\\core\\computation\\expressions.py:205: UserWarning: evaluating in Python space because the '*' operator is not supported by numexpr for the bool dtype, use '&' instead\n",
      "  f\"evaluating in Python space because the {repr(op_str)} \"\n",
      "C:\\Users\\user\\anaconda3\\envs\\aging\\lib\\site-packages\\pandas\\core\\computation\\expressions.py:205: UserWarning: evaluating in Python space because the '*' operator is not supported by numexpr for the bool dtype, use '&' instead\n",
      "  f\"evaluating in Python space because the {repr(op_str)} \"\n"
     ]
    },
    {
     "name": "stdout",
     "output_type": "stream",
     "text": [
      "Precision: 0.001081081081081081 \n",
      "Recall: 0.5686274509803921 \n",
      "Aging Rate: 0.551398795453144\n",
      "\n",
      " Dataset 4:\n"
     ]
    },
    {
     "name": "stderr",
     "output_type": "stream",
     "text": [
      "C:\\Users\\user\\anaconda3\\envs\\aging\\lib\\site-packages\\pandas\\core\\computation\\expressions.py:205: UserWarning: evaluating in Python space because the '*' operator is not supported by numexpr for the bool dtype, use '&' instead\n",
      "  f\"evaluating in Python space because the {repr(op_str)} \"\n",
      "C:\\Users\\user\\anaconda3\\envs\\aging\\lib\\site-packages\\pandas\\core\\computation\\expressions.py:205: UserWarning: evaluating in Python space because the '*' operator is not supported by numexpr for the bool dtype, use '&' instead\n",
      "  f\"evaluating in Python space because the {repr(op_str)} \"\n"
     ]
    },
    {
     "name": "stdout",
     "output_type": "stream",
     "text": [
      "Precision: 0.0008480657577141366 \n",
      "Recall: 0.2549019607843137 \n",
      "Aging Rate: 0.31509383543341074\n",
      "\n",
      " Dataset 5:\n"
     ]
    },
    {
     "name": "stderr",
     "output_type": "stream",
     "text": [
      "C:\\Users\\user\\anaconda3\\envs\\aging\\lib\\site-packages\\pandas\\core\\computation\\expressions.py:205: UserWarning: evaluating in Python space because the '*' operator is not supported by numexpr for the bool dtype, use '&' instead\n",
      "  f\"evaluating in Python space because the {repr(op_str)} \"\n",
      "C:\\Users\\user\\anaconda3\\envs\\aging\\lib\\site-packages\\pandas\\core\\computation\\expressions.py:205: UserWarning: evaluating in Python space because the '*' operator is not supported by numexpr for the bool dtype, use '&' instead\n",
      "  f\"evaluating in Python space because the {repr(op_str)} \"\n"
     ]
    },
    {
     "name": "stdout",
     "output_type": "stream",
     "text": [
      "Precision: 0.0014218595450049456 \n",
      "Recall: 0.45098039215686275 \n",
      "Aging Rate: 0.33250426524697324\n",
      "\n",
      " Dataset 6:\n"
     ]
    },
    {
     "name": "stderr",
     "output_type": "stream",
     "text": [
      "C:\\Users\\user\\anaconda3\\envs\\aging\\lib\\site-packages\\pandas\\core\\computation\\expressions.py:205: UserWarning: evaluating in Python space because the '*' operator is not supported by numexpr for the bool dtype, use '&' instead\n",
      "  f\"evaluating in Python space because the {repr(op_str)} \"\n",
      "C:\\Users\\user\\anaconda3\\envs\\aging\\lib\\site-packages\\pandas\\core\\computation\\expressions.py:205: UserWarning: evaluating in Python space because the '*' operator is not supported by numexpr for the bool dtype, use '&' instead\n",
      "  f\"evaluating in Python space because the {repr(op_str)} \"\n"
     ]
    },
    {
     "name": "stdout",
     "output_type": "stream",
     "text": [
      "Precision: 0.0011091652072387625 \n",
      "Recall: 0.37254901960784315 \n",
      "Aging Rate: 0.3521141236202183\n",
      "\n",
      " Dataset 7:\n"
     ]
    },
    {
     "name": "stderr",
     "output_type": "stream",
     "text": [
      "C:\\Users\\user\\anaconda3\\envs\\aging\\lib\\site-packages\\pandas\\core\\computation\\expressions.py:205: UserWarning: evaluating in Python space because the '*' operator is not supported by numexpr for the bool dtype, use '&' instead\n",
      "  f\"evaluating in Python space because the {repr(op_str)} \"\n",
      "C:\\Users\\user\\anaconda3\\envs\\aging\\lib\\site-packages\\pandas\\core\\computation\\expressions.py:205: UserWarning: evaluating in Python space because the '*' operator is not supported by numexpr for the bool dtype, use '&' instead\n",
      "  f\"evaluating in Python space because the {repr(op_str)} \"\n"
     ]
    },
    {
     "name": "stdout",
     "output_type": "stream",
     "text": [
      "Precision: 0.001208911404064245 \n",
      "Recall: 0.4117647058823529 \n",
      "Aging Rate: 0.35706797673127916\n",
      "\n",
      " Dataset 8:\n"
     ]
    },
    {
     "name": "stderr",
     "output_type": "stream",
     "text": [
      "C:\\Users\\user\\anaconda3\\envs\\aging\\lib\\site-packages\\pandas\\core\\computation\\expressions.py:205: UserWarning: evaluating in Python space because the '*' operator is not supported by numexpr for the bool dtype, use '&' instead\n",
      "  f\"evaluating in Python space because the {repr(op_str)} \"\n",
      "C:\\Users\\user\\anaconda3\\envs\\aging\\lib\\site-packages\\pandas\\core\\computation\\expressions.py:205: UserWarning: evaluating in Python space because the '*' operator is not supported by numexpr for the bool dtype, use '&' instead\n",
      "  f\"evaluating in Python space because the {repr(op_str)} \"\n"
     ]
    },
    {
     "name": "stdout",
     "output_type": "stream",
     "text": [
      "Precision: 0.0008288928359976317 \n",
      "Recall: 0.27450980392156865 \n",
      "Aging Rate: 0.34718082591625726\n",
      "\n",
      " Dataset 9:\n"
     ]
    },
    {
     "name": "stderr",
     "output_type": "stream",
     "text": [
      "C:\\Users\\user\\anaconda3\\envs\\aging\\lib\\site-packages\\pandas\\core\\computation\\expressions.py:205: UserWarning: evaluating in Python space because the '*' operator is not supported by numexpr for the bool dtype, use '&' instead\n",
      "  f\"evaluating in Python space because the {repr(op_str)} \"\n",
      "C:\\Users\\user\\anaconda3\\envs\\aging\\lib\\site-packages\\pandas\\core\\computation\\expressions.py:205: UserWarning: evaluating in Python space because the '*' operator is not supported by numexpr for the bool dtype, use '&' instead\n",
      "  f\"evaluating in Python space because the {repr(op_str)} \"\n"
     ]
    },
    {
     "name": "stdout",
     "output_type": "stream",
     "text": [
      "Precision: 0.0012892927308447938 \n",
      "Recall: 0.4117647058823529 \n",
      "Aging Rate: 0.33480647084215504\n",
      "\n",
      " Dataset 0:\n"
     ]
    },
    {
     "name": "stderr",
     "output_type": "stream",
     "text": [
      "C:\\Users\\user\\anaconda3\\envs\\aging\\lib\\site-packages\\pandas\\core\\computation\\expressions.py:205: UserWarning: evaluating in Python space because the '*' operator is not supported by numexpr for the bool dtype, use '&' instead\n",
      "  f\"evaluating in Python space because the {repr(op_str)} \"\n",
      "C:\\Users\\user\\anaconda3\\envs\\aging\\lib\\site-packages\\pandas\\core\\computation\\expressions.py:205: UserWarning: evaluating in Python space because the '*' operator is not supported by numexpr for the bool dtype, use '&' instead\n",
      "  f\"evaluating in Python space because the {repr(op_str)} \"\n"
     ]
    },
    {
     "name": "stdout",
     "output_type": "stream",
     "text": [
      "Precision: 0.0 \n",
      "Recall: 0.0 \n",
      "Aging Rate: 2.055540709983761e-05\n",
      "\n",
      " Dataset 1:\n"
     ]
    },
    {
     "name": "stderr",
     "output_type": "stream",
     "text": [
      "C:\\Users\\user\\anaconda3\\envs\\aging\\lib\\site-packages\\pandas\\core\\computation\\expressions.py:205: UserWarning: evaluating in Python space because the '*' operator is not supported by numexpr for the bool dtype, use '&' instead\n",
      "  f\"evaluating in Python space because the {repr(op_str)} \"\n",
      "C:\\Users\\user\\anaconda3\\envs\\aging\\lib\\site-packages\\pandas\\core\\computation\\expressions.py:205: UserWarning: evaluating in Python space because the '*' operator is not supported by numexpr for the bool dtype, use '&' instead\n",
      "  f\"evaluating in Python space because the {repr(op_str)} \"\n"
     ]
    },
    {
     "name": "stdout",
     "output_type": "stream",
     "text": [
      "Precision: 0.0013940139401394014 \n",
      "Recall: 0.3333333333333333 \n",
      "Aging Rate: 0.25067318958251966\n",
      "\n",
      " Dataset 2:\n"
     ]
    },
    {
     "name": "stderr",
     "output_type": "stream",
     "text": [
      "C:\\Users\\user\\anaconda3\\envs\\aging\\lib\\site-packages\\pandas\\core\\computation\\expressions.py:205: UserWarning: evaluating in Python space because the '*' operator is not supported by numexpr for the bool dtype, use '&' instead\n",
      "  f\"evaluating in Python space because the {repr(op_str)} \"\n",
      "C:\\Users\\user\\anaconda3\\envs\\aging\\lib\\site-packages\\pandas\\core\\computation\\expressions.py:205: UserWarning: evaluating in Python space because the '*' operator is not supported by numexpr for the bool dtype, use '&' instead\n",
      "  f\"evaluating in Python space because the {repr(op_str)} \"\n"
     ]
    },
    {
     "name": "stdout",
     "output_type": "stream",
     "text": [
      "Precision: 0.0011279700178292034 \n",
      "Recall: 0.6078431372549019 \n",
      "Aging Rate: 0.5649242533248371\n",
      "\n",
      " Dataset 3:\n"
     ]
    },
    {
     "name": "stderr",
     "output_type": "stream",
     "text": [
      "C:\\Users\\user\\anaconda3\\envs\\aging\\lib\\site-packages\\pandas\\core\\computation\\expressions.py:205: UserWarning: evaluating in Python space because the '*' operator is not supported by numexpr for the bool dtype, use '&' instead\n",
      "  f\"evaluating in Python space because the {repr(op_str)} \"\n",
      "C:\\Users\\user\\anaconda3\\envs\\aging\\lib\\site-packages\\pandas\\core\\computation\\expressions.py:205: UserWarning: evaluating in Python space because the '*' operator is not supported by numexpr for the bool dtype, use '&' instead\n",
      "  f\"evaluating in Python space because the {repr(op_str)} \"\n"
     ]
    },
    {
     "name": "stdout",
     "output_type": "stream",
     "text": [
      "Precision: 0.0009879795817553103 \n",
      "Recall: 0.5882352941176471 \n",
      "Aging Rate: 0.6241649365865691\n",
      "\n",
      " Dataset 4:\n"
     ]
    },
    {
     "name": "stderr",
     "output_type": "stream",
     "text": [
      "C:\\Users\\user\\anaconda3\\envs\\aging\\lib\\site-packages\\pandas\\core\\computation\\expressions.py:205: UserWarning: evaluating in Python space because the '*' operator is not supported by numexpr for the bool dtype, use '&' instead\n",
      "  f\"evaluating in Python space because the {repr(op_str)} \"\n",
      "C:\\Users\\user\\anaconda3\\envs\\aging\\lib\\site-packages\\pandas\\core\\computation\\expressions.py:205: UserWarning: evaluating in Python space because the '*' operator is not supported by numexpr for the bool dtype, use '&' instead\n",
      "  f\"evaluating in Python space because the {repr(op_str)} \"\n"
     ]
    },
    {
     "name": "stdout",
     "output_type": "stream",
     "text": [
      "Precision: 0.0010783124410297883 \n",
      "Recall: 0.3137254901960784 \n",
      "Aging Rate: 0.3050011305473905\n",
      "\n",
      " Dataset 5:\n"
     ]
    },
    {
     "name": "stderr",
     "output_type": "stream",
     "text": [
      "C:\\Users\\user\\anaconda3\\envs\\aging\\lib\\site-packages\\pandas\\core\\computation\\expressions.py:205: UserWarning: evaluating in Python space because the '*' operator is not supported by numexpr for the bool dtype, use '&' instead\n",
      "  f\"evaluating in Python space because the {repr(op_str)} \"\n",
      "C:\\Users\\user\\anaconda3\\envs\\aging\\lib\\site-packages\\pandas\\core\\computation\\expressions.py:205: UserWarning: evaluating in Python space because the '*' operator is not supported by numexpr for the bool dtype, use '&' instead\n",
      "  f\"evaluating in Python space because the {repr(op_str)} \"\n"
     ]
    },
    {
     "name": "stdout",
     "output_type": "stream",
     "text": [
      "Precision: 0.001088139281828074 \n",
      "Recall: 0.35294117647058826 \n",
      "Aging Rate: 0.3400275442455138\n",
      "\n",
      " Dataset 6:\n"
     ]
    },
    {
     "name": "stderr",
     "output_type": "stream",
     "text": [
      "C:\\Users\\user\\anaconda3\\envs\\aging\\lib\\site-packages\\pandas\\core\\computation\\expressions.py:205: UserWarning: evaluating in Python space because the '*' operator is not supported by numexpr for the bool dtype, use '&' instead\n",
      "  f\"evaluating in Python space because the {repr(op_str)} \"\n",
      "C:\\Users\\user\\anaconda3\\envs\\aging\\lib\\site-packages\\pandas\\core\\computation\\expressions.py:205: UserWarning: evaluating in Python space because the '*' operator is not supported by numexpr for the bool dtype, use '&' instead\n",
      "  f\"evaluating in Python space because the {repr(op_str)} \"\n"
     ]
    },
    {
     "name": "stdout",
     "output_type": "stream",
     "text": [
      "Precision: 0.0011465260261407934 \n",
      "Recall: 0.49019607843137253 \n",
      "Aging Rate: 0.4482106518119591\n",
      "\n",
      " Dataset 7:\n"
     ]
    },
    {
     "name": "stderr",
     "output_type": "stream",
     "text": [
      "C:\\Users\\user\\anaconda3\\envs\\aging\\lib\\site-packages\\pandas\\core\\computation\\expressions.py:205: UserWarning: evaluating in Python space because the '*' operator is not supported by numexpr for the bool dtype, use '&' instead\n",
      "  f\"evaluating in Python space because the {repr(op_str)} \"\n",
      "C:\\Users\\user\\anaconda3\\envs\\aging\\lib\\site-packages\\pandas\\core\\computation\\expressions.py:205: UserWarning: evaluating in Python space because the '*' operator is not supported by numexpr for the bool dtype, use '&' instead\n",
      "  f\"evaluating in Python space because the {repr(op_str)} \"\n"
     ]
    },
    {
     "name": "stdout",
     "output_type": "stream",
     "text": [
      "Precision: 0.0013410818059901655 \n",
      "Recall: 0.47058823529411764 \n",
      "Aging Rate: 0.3678595654586939\n",
      "\n",
      " Dataset 8:\n"
     ]
    },
    {
     "name": "stderr",
     "output_type": "stream",
     "text": [
      "C:\\Users\\user\\anaconda3\\envs\\aging\\lib\\site-packages\\pandas\\core\\computation\\expressions.py:205: UserWarning: evaluating in Python space because the '*' operator is not supported by numexpr for the bool dtype, use '&' instead\n",
      "  f\"evaluating in Python space because the {repr(op_str)} \"\n",
      "C:\\Users\\user\\anaconda3\\envs\\aging\\lib\\site-packages\\pandas\\core\\computation\\expressions.py:205: UserWarning: evaluating in Python space because the '*' operator is not supported by numexpr for the bool dtype, use '&' instead\n",
      "  f\"evaluating in Python space because the {repr(op_str)} \"\n"
     ]
    },
    {
     "name": "stdout",
     "output_type": "stream",
     "text": [
      "Precision: 0.0011087242741320768 \n",
      "Recall: 0.3137254901960784 \n",
      "Aging Rate: 0.29663507985775656\n",
      "\n",
      " Dataset 9:\n"
     ]
    },
    {
     "name": "stderr",
     "output_type": "stream",
     "text": [
      "C:\\Users\\user\\anaconda3\\envs\\aging\\lib\\site-packages\\pandas\\core\\computation\\expressions.py:205: UserWarning: evaluating in Python space because the '*' operator is not supported by numexpr for the bool dtype, use '&' instead\n",
      "  f\"evaluating in Python space because the {repr(op_str)} \"\n",
      "C:\\Users\\user\\anaconda3\\envs\\aging\\lib\\site-packages\\pandas\\core\\computation\\expressions.py:205: UserWarning: evaluating in Python space because the '*' operator is not supported by numexpr for the bool dtype, use '&' instead\n",
      "  f\"evaluating in Python space because the {repr(op_str)} \"\n"
     ]
    },
    {
     "name": "stdout",
     "output_type": "stream",
     "text": [
      "Precision: 0.001362650975534221 \n",
      "Recall: 0.43137254901960786 \n",
      "Aging Rate: 0.33186704762687824\n",
      "\n",
      " Dataset 0:\n"
     ]
    },
    {
     "name": "stderr",
     "output_type": "stream",
     "text": [
      "C:\\Users\\user\\anaconda3\\envs\\aging\\lib\\site-packages\\pandas\\core\\computation\\expressions.py:205: UserWarning: evaluating in Python space because the '*' operator is not supported by numexpr for the bool dtype, use '&' instead\n",
      "  f\"evaluating in Python space because the {repr(op_str)} \"\n",
      "C:\\Users\\user\\anaconda3\\envs\\aging\\lib\\site-packages\\pandas\\core\\computation\\expressions.py:205: UserWarning: evaluating in Python space because the '*' operator is not supported by numexpr for the bool dtype, use '&' instead\n",
      "  f\"evaluating in Python space because the {repr(op_str)} \"\n"
     ]
    },
    {
     "name": "stdout",
     "output_type": "stream",
     "text": [
      "Precision: 0.0 \n",
      "Recall: 0.0 \n",
      "Aging Rate: 2.055540709983761e-05\n",
      "\n",
      " Dataset 1:\n"
     ]
    },
    {
     "name": "stderr",
     "output_type": "stream",
     "text": [
      "C:\\Users\\user\\anaconda3\\envs\\aging\\lib\\site-packages\\pandas\\core\\computation\\expressions.py:205: UserWarning: evaluating in Python space because the '*' operator is not supported by numexpr for the bool dtype, use '&' instead\n",
      "  f\"evaluating in Python space because the {repr(op_str)} \"\n",
      "C:\\Users\\user\\anaconda3\\envs\\aging\\lib\\site-packages\\pandas\\core\\computation\\expressions.py:205: UserWarning: evaluating in Python space because the '*' operator is not supported by numexpr for the bool dtype, use '&' instead\n",
      "  f\"evaluating in Python space because the {repr(op_str)} \"\n"
     ]
    },
    {
     "name": "stdout",
     "output_type": "stream",
     "text": [
      "Precision: 0.0012088766082376306 \n",
      "Recall: 0.27450980392156865 \n",
      "Aging Rate: 0.2380521696232194\n",
      "\n",
      " Dataset 2:\n"
     ]
    },
    {
     "name": "stderr",
     "output_type": "stream",
     "text": [
      "C:\\Users\\user\\anaconda3\\envs\\aging\\lib\\site-packages\\pandas\\core\\computation\\expressions.py:205: UserWarning: evaluating in Python space because the '*' operator is not supported by numexpr for the bool dtype, use '&' instead\n",
      "  f\"evaluating in Python space because the {repr(op_str)} \"\n",
      "C:\\Users\\user\\anaconda3\\envs\\aging\\lib\\site-packages\\pandas\\core\\computation\\expressions.py:205: UserWarning: evaluating in Python space because the '*' operator is not supported by numexpr for the bool dtype, use '&' instead\n",
      "  f\"evaluating in Python space because the {repr(op_str)} \"\n"
     ]
    },
    {
     "name": "stdout",
     "output_type": "stream",
     "text": [
      "Precision: 0.0010216740859665767 \n",
      "Recall: 0.5490196078431373 \n",
      "Aging Rate: 0.5633414869781496\n",
      "\n",
      " Dataset 3:\n"
     ]
    },
    {
     "name": "stderr",
     "output_type": "stream",
     "text": [
      "C:\\Users\\user\\anaconda3\\envs\\aging\\lib\\site-packages\\pandas\\core\\computation\\expressions.py:205: UserWarning: evaluating in Python space because the '*' operator is not supported by numexpr for the bool dtype, use '&' instead\n",
      "  f\"evaluating in Python space because the {repr(op_str)} \"\n",
      "C:\\Users\\user\\anaconda3\\envs\\aging\\lib\\site-packages\\pandas\\core\\computation\\expressions.py:205: UserWarning: evaluating in Python space because the '*' operator is not supported by numexpr for the bool dtype, use '&' instead\n",
      "  f\"evaluating in Python space because the {repr(op_str)} \"\n"
     ]
    },
    {
     "name": "stdout",
     "output_type": "stream",
     "text": [
      "Precision: 0.001022292573539111 \n",
      "Recall: 0.6078431372549019 \n",
      "Aging Rate: 0.6233221648954758\n",
      "\n",
      " Dataset 4:\n"
     ]
    },
    {
     "name": "stderr",
     "output_type": "stream",
     "text": [
      "C:\\Users\\user\\anaconda3\\envs\\aging\\lib\\site-packages\\pandas\\core\\computation\\expressions.py:205: UserWarning: evaluating in Python space because the '*' operator is not supported by numexpr for the bool dtype, use '&' instead\n",
      "  f\"evaluating in Python space because the {repr(op_str)} \"\n",
      "C:\\Users\\user\\anaconda3\\envs\\aging\\lib\\site-packages\\pandas\\core\\computation\\expressions.py:205: UserWarning: evaluating in Python space because the '*' operator is not supported by numexpr for the bool dtype, use '&' instead\n",
      "  f\"evaluating in Python space because the {repr(op_str)} \"\n"
     ]
    },
    {
     "name": "stdout",
     "output_type": "stream",
     "text": [
      "Precision: 0.0012189645217168153 \n",
      "Recall: 0.37254901960784315 \n",
      "Aging Rate: 0.3203971304651689\n",
      "\n",
      " Dataset 5:\n"
     ]
    },
    {
     "name": "stderr",
     "output_type": "stream",
     "text": [
      "C:\\Users\\user\\anaconda3\\envs\\aging\\lib\\site-packages\\pandas\\core\\computation\\expressions.py:205: UserWarning: evaluating in Python space because the '*' operator is not supported by numexpr for the bool dtype, use '&' instead\n",
      "  f\"evaluating in Python space because the {repr(op_str)} \"\n",
      "C:\\Users\\user\\anaconda3\\envs\\aging\\lib\\site-packages\\pandas\\core\\computation\\expressions.py:205: UserWarning: evaluating in Python space because the '*' operator is not supported by numexpr for the bool dtype, use '&' instead\n",
      "  f\"evaluating in Python space because the {repr(op_str)} \"\n"
     ]
    },
    {
     "name": "stdout",
     "output_type": "stream",
     "text": [
      "Precision: 0.0013806350921423856 \n",
      "Recall: 0.45098039215686275 \n",
      "Aging Rate: 0.3424325268761948\n",
      "\n",
      " Dataset 6:\n"
     ]
    },
    {
     "name": "stderr",
     "output_type": "stream",
     "text": [
      "C:\\Users\\user\\anaconda3\\envs\\aging\\lib\\site-packages\\pandas\\core\\computation\\expressions.py:205: UserWarning: evaluating in Python space because the '*' operator is not supported by numexpr for the bool dtype, use '&' instead\n",
      "  f\"evaluating in Python space because the {repr(op_str)} \"\n",
      "C:\\Users\\user\\anaconda3\\envs\\aging\\lib\\site-packages\\pandas\\core\\computation\\expressions.py:205: UserWarning: evaluating in Python space because the '*' operator is not supported by numexpr for the bool dtype, use '&' instead\n",
      "  f\"evaluating in Python space because the {repr(op_str)} \"\n"
     ]
    },
    {
     "name": "stdout",
     "output_type": "stream",
     "text": [
      "Precision: 0.0012288367012561442 \n",
      "Recall: 0.5294117647058824 \n",
      "Aging Rate: 0.45164340479763204\n",
      "\n",
      " Dataset 7:\n"
     ]
    },
    {
     "name": "stderr",
     "output_type": "stream",
     "text": [
      "C:\\Users\\user\\anaconda3\\envs\\aging\\lib\\site-packages\\pandas\\core\\computation\\expressions.py:205: UserWarning: evaluating in Python space because the '*' operator is not supported by numexpr for the bool dtype, use '&' instead\n",
      "  f\"evaluating in Python space because the {repr(op_str)} \"\n",
      "C:\\Users\\user\\anaconda3\\envs\\aging\\lib\\site-packages\\pandas\\core\\computation\\expressions.py:205: UserWarning: evaluating in Python space because the '*' operator is not supported by numexpr for the bool dtype, use '&' instead\n",
      "  f\"evaluating in Python space because the {repr(op_str)} \"\n"
     ]
    },
    {
     "name": "stdout",
     "output_type": "stream",
     "text": [
      "Precision: 0.0013455328310010765 \n",
      "Recall: 0.49019607843137253 \n",
      "Aging Rate: 0.3819194639149828\n",
      "\n",
      " Dataset 8:\n"
     ]
    },
    {
     "name": "stderr",
     "output_type": "stream",
     "text": [
      "C:\\Users\\user\\anaconda3\\envs\\aging\\lib\\site-packages\\pandas\\core\\computation\\expressions.py:205: UserWarning: evaluating in Python space because the '*' operator is not supported by numexpr for the bool dtype, use '&' instead\n",
      "  f\"evaluating in Python space because the {repr(op_str)} \"\n",
      "C:\\Users\\user\\anaconda3\\envs\\aging\\lib\\site-packages\\pandas\\core\\computation\\expressions.py:205: UserWarning: evaluating in Python space because the '*' operator is not supported by numexpr for the bool dtype, use '&' instead\n",
      "  f\"evaluating in Python space because the {repr(op_str)} \"\n"
     ]
    },
    {
     "name": "stdout",
     "output_type": "stream",
     "text": [
      "Precision: 0.001333827343460541 \n",
      "Recall: 0.35294117647058826 \n",
      "Aging Rate: 0.27739521881230855\n",
      "\n",
      " Dataset 9:\n"
     ]
    },
    {
     "name": "stderr",
     "output_type": "stream",
     "text": [
      "C:\\Users\\user\\anaconda3\\envs\\aging\\lib\\site-packages\\pandas\\core\\computation\\expressions.py:205: UserWarning: evaluating in Python space because the '*' operator is not supported by numexpr for the bool dtype, use '&' instead\n",
      "  f\"evaluating in Python space because the {repr(op_str)} \"\n",
      "C:\\Users\\user\\anaconda3\\envs\\aging\\lib\\site-packages\\pandas\\core\\computation\\expressions.py:205: UserWarning: evaluating in Python space because the '*' operator is not supported by numexpr for the bool dtype, use '&' instead\n",
      "  f\"evaluating in Python space because the {repr(op_str)} \"\n"
     ]
    },
    {
     "name": "stdout",
     "output_type": "stream",
     "text": [
      "Precision: 0.0011996880810989142 \n",
      "Recall: 0.39215686274509803 \n",
      "Aging Rate: 0.34267919176139283\n",
      "\n",
      " Dataset 0:\n"
     ]
    },
    {
     "name": "stderr",
     "output_type": "stream",
     "text": [
      "C:\\Users\\user\\anaconda3\\envs\\aging\\lib\\site-packages\\pandas\\core\\computation\\expressions.py:205: UserWarning: evaluating in Python space because the '*' operator is not supported by numexpr for the bool dtype, use '&' instead\n",
      "  f\"evaluating in Python space because the {repr(op_str)} \"\n",
      "C:\\Users\\user\\anaconda3\\envs\\aging\\lib\\site-packages\\pandas\\core\\computation\\expressions.py:205: UserWarning: evaluating in Python space because the '*' operator is not supported by numexpr for the bool dtype, use '&' instead\n",
      "  f\"evaluating in Python space because the {repr(op_str)} \"\n"
     ]
    },
    {
     "name": "stdout",
     "output_type": "stream",
     "text": [
      "Precision: 0.0 \n",
      "Recall: 0.0 \n",
      "Aging Rate: 2.055540709983761e-05\n",
      "\n",
      " Dataset 1:\n"
     ]
    },
    {
     "name": "stderr",
     "output_type": "stream",
     "text": [
      "C:\\Users\\user\\anaconda3\\envs\\aging\\lib\\site-packages\\pandas\\core\\computation\\expressions.py:205: UserWarning: evaluating in Python space because the '*' operator is not supported by numexpr for the bool dtype, use '&' instead\n",
      "  f\"evaluating in Python space because the {repr(op_str)} \"\n",
      "C:\\Users\\user\\anaconda3\\envs\\aging\\lib\\site-packages\\pandas\\core\\computation\\expressions.py:205: UserWarning: evaluating in Python space because the '*' operator is not supported by numexpr for the bool dtype, use '&' instead\n",
      "  f\"evaluating in Python space because the {repr(op_str)} \"\n"
     ]
    },
    {
     "name": "stdout",
     "output_type": "stream",
     "text": [
      "Precision: 0.0011979068154593026 \n",
      "Recall: 0.37254901960784315 \n",
      "Aging Rate: 0.3260293120105244\n",
      "\n",
      " Dataset 2:\n"
     ]
    },
    {
     "name": "stderr",
     "output_type": "stream",
     "text": [
      "C:\\Users\\user\\anaconda3\\envs\\aging\\lib\\site-packages\\pandas\\core\\computation\\expressions.py:205: UserWarning: evaluating in Python space because the '*' operator is not supported by numexpr for the bool dtype, use '&' instead\n",
      "  f\"evaluating in Python space because the {repr(op_str)} \"\n",
      "C:\\Users\\user\\anaconda3\\envs\\aging\\lib\\site-packages\\pandas\\core\\computation\\expressions.py:205: UserWarning: evaluating in Python space because the '*' operator is not supported by numexpr for the bool dtype, use '&' instead\n",
      "  f\"evaluating in Python space because the {repr(op_str)} \"\n"
     ]
    },
    {
     "name": "stdout",
     "output_type": "stream",
     "text": [
      "Precision: 0.0010816052513799791 \n",
      "Recall: 0.5686274509803921 \n",
      "Aging Rate: 0.5511315751608461\n",
      "\n",
      " Dataset 3:\n"
     ]
    },
    {
     "name": "stderr",
     "output_type": "stream",
     "text": [
      "C:\\Users\\user\\anaconda3\\envs\\aging\\lib\\site-packages\\pandas\\core\\computation\\expressions.py:205: UserWarning: evaluating in Python space because the '*' operator is not supported by numexpr for the bool dtype, use '&' instead\n",
      "  f\"evaluating in Python space because the {repr(op_str)} \"\n",
      "C:\\Users\\user\\anaconda3\\envs\\aging\\lib\\site-packages\\pandas\\core\\computation\\expressions.py:205: UserWarning: evaluating in Python space because the '*' operator is not supported by numexpr for the bool dtype, use '&' instead\n",
      "  f\"evaluating in Python space because the {repr(op_str)} \"\n"
     ]
    },
    {
     "name": "stdout",
     "output_type": "stream",
     "text": [
      "Precision: 0.0008736676568233444 \n",
      "Recall: 0.49019607843137253 \n",
      "Aging Rate: 0.5881929741618532\n",
      "\n",
      " Dataset 4:\n"
     ]
    },
    {
     "name": "stderr",
     "output_type": "stream",
     "text": [
      "C:\\Users\\user\\anaconda3\\envs\\aging\\lib\\site-packages\\pandas\\core\\computation\\expressions.py:205: UserWarning: evaluating in Python space because the '*' operator is not supported by numexpr for the bool dtype, use '&' instead\n",
      "  f\"evaluating in Python space because the {repr(op_str)} \"\n",
      "C:\\Users\\user\\anaconda3\\envs\\aging\\lib\\site-packages\\pandas\\core\\computation\\expressions.py:205: UserWarning: evaluating in Python space because the '*' operator is not supported by numexpr for the bool dtype, use '&' instead\n",
      "  f\"evaluating in Python space because the {repr(op_str)} \"\n"
     ]
    },
    {
     "name": "stdout",
     "output_type": "stream",
     "text": [
      "Precision: 0.0012282629775680393 \n",
      "Recall: 0.37254901960784315 \n",
      "Aging Rate: 0.31797159242738804\n",
      "\n",
      " Dataset 5:\n"
     ]
    },
    {
     "name": "stderr",
     "output_type": "stream",
     "text": [
      "C:\\Users\\user\\anaconda3\\envs\\aging\\lib\\site-packages\\pandas\\core\\computation\\expressions.py:205: UserWarning: evaluating in Python space because the '*' operator is not supported by numexpr for the bool dtype, use '&' instead\n",
      "  f\"evaluating in Python space because the {repr(op_str)} \"\n",
      "C:\\Users\\user\\anaconda3\\envs\\aging\\lib\\site-packages\\pandas\\core\\computation\\expressions.py:205: UserWarning: evaluating in Python space because the '*' operator is not supported by numexpr for the bool dtype, use '&' instead\n",
      "  f\"evaluating in Python space because the {repr(op_str)} \"\n"
     ]
    },
    {
     "name": "stdout",
     "output_type": "stream",
     "text": [
      "Precision: 0.0013733977026802065 \n",
      "Recall: 0.6470588235294118 \n",
      "Aging Rate: 0.49390532179489816\n",
      "\n",
      " Dataset 6:\n"
     ]
    },
    {
     "name": "stderr",
     "output_type": "stream",
     "text": [
      "C:\\Users\\user\\anaconda3\\envs\\aging\\lib\\site-packages\\pandas\\core\\computation\\expressions.py:205: UserWarning: evaluating in Python space because the '*' operator is not supported by numexpr for the bool dtype, use '&' instead\n",
      "  f\"evaluating in Python space because the {repr(op_str)} \"\n",
      "C:\\Users\\user\\anaconda3\\envs\\aging\\lib\\site-packages\\pandas\\core\\computation\\expressions.py:205: UserWarning: evaluating in Python space because the '*' operator is not supported by numexpr for the bool dtype, use '&' instead\n",
      "  f\"evaluating in Python space because the {repr(op_str)} \"\n"
     ]
    },
    {
     "name": "stdout",
     "output_type": "stream",
     "text": [
      "Precision: 0.001198348941458435 \n",
      "Recall: 0.5294117647058824 \n",
      "Aging Rate: 0.46313387736644124\n",
      "\n",
      " Dataset 7:\n"
     ]
    },
    {
     "name": "stderr",
     "output_type": "stream",
     "text": [
      "C:\\Users\\user\\anaconda3\\envs\\aging\\lib\\site-packages\\pandas\\core\\computation\\expressions.py:205: UserWarning: evaluating in Python space because the '*' operator is not supported by numexpr for the bool dtype, use '&' instead\n",
      "  f\"evaluating in Python space because the {repr(op_str)} \"\n",
      "C:\\Users\\user\\anaconda3\\envs\\aging\\lib\\site-packages\\pandas\\core\\computation\\expressions.py:205: UserWarning: evaluating in Python space because the '*' operator is not supported by numexpr for the bool dtype, use '&' instead\n",
      "  f\"evaluating in Python space because the {repr(op_str)} \"\n"
     ]
    },
    {
     "name": "stdout",
     "output_type": "stream",
     "text": [
      "Precision: 0.0011419870574800152 \n",
      "Recall: 0.29411764705882354 \n",
      "Aging Rate: 0.26999527225636705\n",
      "\n",
      " Dataset 8:\n"
     ]
    },
    {
     "name": "stderr",
     "output_type": "stream",
     "text": [
      "C:\\Users\\user\\anaconda3\\envs\\aging\\lib\\site-packages\\pandas\\core\\computation\\expressions.py:205: UserWarning: evaluating in Python space because the '*' operator is not supported by numexpr for the bool dtype, use '&' instead\n",
      "  f\"evaluating in Python space because the {repr(op_str)} \"\n",
      "C:\\Users\\user\\anaconda3\\envs\\aging\\lib\\site-packages\\pandas\\core\\computation\\expressions.py:205: UserWarning: evaluating in Python space because the '*' operator is not supported by numexpr for the bool dtype, use '&' instead\n",
      "  f\"evaluating in Python space because the {repr(op_str)} \"\n"
     ]
    },
    {
     "name": "stdout",
     "output_type": "stream",
     "text": [
      "Precision: 0.001212034792528162 \n",
      "Recall: 0.3333333333333333 \n",
      "Aging Rate: 0.28831013998232236\n",
      "\n",
      " Dataset 9:\n"
     ]
    },
    {
     "name": "stderr",
     "output_type": "stream",
     "text": [
      "C:\\Users\\user\\anaconda3\\envs\\aging\\lib\\site-packages\\pandas\\core\\computation\\expressions.py:205: UserWarning: evaluating in Python space because the '*' operator is not supported by numexpr for the bool dtype, use '&' instead\n",
      "  f\"evaluating in Python space because the {repr(op_str)} \"\n",
      "C:\\Users\\user\\anaconda3\\envs\\aging\\lib\\site-packages\\pandas\\core\\computation\\expressions.py:205: UserWarning: evaluating in Python space because the '*' operator is not supported by numexpr for the bool dtype, use '&' instead\n",
      "  f\"evaluating in Python space because the {repr(op_str)} \"\n"
     ]
    },
    {
     "name": "stdout",
     "output_type": "stream",
     "text": [
      "Precision: 0.0012043356081894822 \n",
      "Recall: 0.4117647058823529 \n",
      "Aging Rate: 0.3584246335998684\n",
      "\n",
      " Dataset 0:\n"
     ]
    },
    {
     "name": "stderr",
     "output_type": "stream",
     "text": [
      "C:\\Users\\user\\anaconda3\\envs\\aging\\lib\\site-packages\\pandas\\core\\computation\\expressions.py:205: UserWarning: evaluating in Python space because the '*' operator is not supported by numexpr for the bool dtype, use '&' instead\n",
      "  f\"evaluating in Python space because the {repr(op_str)} \"\n",
      "C:\\Users\\user\\anaconda3\\envs\\aging\\lib\\site-packages\\pandas\\core\\computation\\expressions.py:205: UserWarning: evaluating in Python space because the '*' operator is not supported by numexpr for the bool dtype, use '&' instead\n",
      "  f\"evaluating in Python space because the {repr(op_str)} \"\n"
     ]
    },
    {
     "name": "stdout",
     "output_type": "stream",
     "text": [
      "Precision: 0.0 \n",
      "Recall: 0.0 \n",
      "Aging Rate: 2.055540709983761e-05\n",
      "\n",
      " Dataset 1:\n"
     ]
    },
    {
     "name": "stderr",
     "output_type": "stream",
     "text": [
      "C:\\Users\\user\\anaconda3\\envs\\aging\\lib\\site-packages\\pandas\\core\\computation\\expressions.py:205: UserWarning: evaluating in Python space because the '*' operator is not supported by numexpr for the bool dtype, use '&' instead\n",
      "  f\"evaluating in Python space because the {repr(op_str)} \"\n",
      "C:\\Users\\user\\anaconda3\\envs\\aging\\lib\\site-packages\\pandas\\core\\computation\\expressions.py:205: UserWarning: evaluating in Python space because the '*' operator is not supported by numexpr for the bool dtype, use '&' instead\n",
      "  f\"evaluating in Python space because the {repr(op_str)} \"\n"
     ]
    },
    {
     "name": "stdout",
     "output_type": "stream",
     "text": [
      "Precision: 0.0012426991425375916 \n",
      "Recall: 0.39215686274509803 \n",
      "Aging Rate: 0.33081872186478656\n",
      "\n",
      " Dataset 2:\n"
     ]
    },
    {
     "name": "stderr",
     "output_type": "stream",
     "text": [
      "C:\\Users\\user\\anaconda3\\envs\\aging\\lib\\site-packages\\pandas\\core\\computation\\expressions.py:205: UserWarning: evaluating in Python space because the '*' operator is not supported by numexpr for the bool dtype, use '&' instead\n",
      "  f\"evaluating in Python space because the {repr(op_str)} \"\n",
      "C:\\Users\\user\\anaconda3\\envs\\aging\\lib\\site-packages\\pandas\\core\\computation\\expressions.py:205: UserWarning: evaluating in Python space because the '*' operator is not supported by numexpr for the bool dtype, use '&' instead\n",
      "  f\"evaluating in Python space because the {repr(op_str)} \"\n"
     ]
    },
    {
     "name": "stdout",
     "output_type": "stream",
     "text": [
      "Precision: 0.0011197803785580119 \n",
      "Recall: 0.6078431372549019 \n",
      "Aging Rate: 0.5690558901519045\n",
      "\n",
      " Dataset 3:\n"
     ]
    },
    {
     "name": "stderr",
     "output_type": "stream",
     "text": [
      "C:\\Users\\user\\anaconda3\\envs\\aging\\lib\\site-packages\\pandas\\core\\computation\\expressions.py:205: UserWarning: evaluating in Python space because the '*' operator is not supported by numexpr for the bool dtype, use '&' instead\n",
      "  f\"evaluating in Python space because the {repr(op_str)} \"\n",
      "C:\\Users\\user\\anaconda3\\envs\\aging\\lib\\site-packages\\pandas\\core\\computation\\expressions.py:205: UserWarning: evaluating in Python space because the '*' operator is not supported by numexpr for the bool dtype, use '&' instead\n",
      "  f\"evaluating in Python space because the {repr(op_str)} \"\n"
     ]
    },
    {
     "name": "stdout",
     "output_type": "stream",
     "text": [
      "Precision: 0.0010004829917891396 \n",
      "Recall: 0.5686274509803921 \n",
      "Aging Rate: 0.595819030195893\n",
      "\n",
      " Dataset 4:\n"
     ]
    },
    {
     "name": "stderr",
     "output_type": "stream",
     "text": [
      "C:\\Users\\user\\anaconda3\\envs\\aging\\lib\\site-packages\\pandas\\core\\computation\\expressions.py:205: UserWarning: evaluating in Python space because the '*' operator is not supported by numexpr for the bool dtype, use '&' instead\n",
      "  f\"evaluating in Python space because the {repr(op_str)} \"\n",
      "C:\\Users\\user\\anaconda3\\envs\\aging\\lib\\site-packages\\pandas\\core\\computation\\expressions.py:205: UserWarning: evaluating in Python space because the '*' operator is not supported by numexpr for the bool dtype, use '&' instead\n",
      "  f\"evaluating in Python space because the {repr(op_str)} \"\n"
     ]
    },
    {
     "name": "stdout",
     "output_type": "stream",
     "text": [
      "Precision: 0.0012867398076662603 \n",
      "Recall: 0.37254901960784315 \n",
      "Aging Rate: 0.30352114123620216\n",
      "\n",
      " Dataset 5:\n"
     ]
    },
    {
     "name": "stderr",
     "output_type": "stream",
     "text": [
      "C:\\Users\\user\\anaconda3\\envs\\aging\\lib\\site-packages\\pandas\\core\\computation\\expressions.py:205: UserWarning: evaluating in Python space because the '*' operator is not supported by numexpr for the bool dtype, use '&' instead\n",
      "  f\"evaluating in Python space because the {repr(op_str)} \"\n",
      "C:\\Users\\user\\anaconda3\\envs\\aging\\lib\\site-packages\\pandas\\core\\computation\\expressions.py:205: UserWarning: evaluating in Python space because the '*' operator is not supported by numexpr for the bool dtype, use '&' instead\n",
      "  f\"evaluating in Python space because the {repr(op_str)} \"\n"
     ]
    },
    {
     "name": "stdout",
     "output_type": "stream",
     "text": [
      "Precision: 0.001442221020371372 \n",
      "Recall: 0.6274509803921569 \n",
      "Aging Rate: 0.4560833727311969\n",
      "\n",
      " Dataset 6:\n"
     ]
    },
    {
     "name": "stderr",
     "output_type": "stream",
     "text": [
      "C:\\Users\\user\\anaconda3\\envs\\aging\\lib\\site-packages\\pandas\\core\\computation\\expressions.py:205: UserWarning: evaluating in Python space because the '*' operator is not supported by numexpr for the bool dtype, use '&' instead\n",
      "  f\"evaluating in Python space because the {repr(op_str)} \"\n",
      "C:\\Users\\user\\anaconda3\\envs\\aging\\lib\\site-packages\\pandas\\core\\computation\\expressions.py:205: UserWarning: evaluating in Python space because the '*' operator is not supported by numexpr for the bool dtype, use '&' instead\n",
      "  f\"evaluating in Python space because the {repr(op_str)} \"\n"
     ]
    },
    {
     "name": "stdout",
     "output_type": "stream",
     "text": [
      "Precision: 0.0013102606966972393 \n",
      "Recall: 0.5686274509803921 \n",
      "Aging Rate: 0.45495282534070586\n",
      "\n",
      " Dataset 7:\n"
     ]
    },
    {
     "name": "stderr",
     "output_type": "stream",
     "text": [
      "C:\\Users\\user\\anaconda3\\envs\\aging\\lib\\site-packages\\pandas\\core\\computation\\expressions.py:205: UserWarning: evaluating in Python space because the '*' operator is not supported by numexpr for the bool dtype, use '&' instead\n",
      "  f\"evaluating in Python space because the {repr(op_str)} \"\n",
      "C:\\Users\\user\\anaconda3\\envs\\aging\\lib\\site-packages\\pandas\\core\\computation\\expressions.py:205: UserWarning: evaluating in Python space because the '*' operator is not supported by numexpr for the bool dtype, use '&' instead\n",
      "  f\"evaluating in Python space because the {repr(op_str)} \"\n"
     ]
    },
    {
     "name": "stdout",
     "output_type": "stream",
     "text": [
      "Precision: 0.0009891196834817012 \n",
      "Recall: 0.2549019607843137 \n",
      "Aging Rate: 0.27015971551316575\n",
      "\n",
      " Dataset 8:\n"
     ]
    },
    {
     "name": "stderr",
     "output_type": "stream",
     "text": [
      "C:\\Users\\user\\anaconda3\\envs\\aging\\lib\\site-packages\\pandas\\core\\computation\\expressions.py:205: UserWarning: evaluating in Python space because the '*' operator is not supported by numexpr for the bool dtype, use '&' instead\n",
      "  f\"evaluating in Python space because the {repr(op_str)} \"\n",
      "C:\\Users\\user\\anaconda3\\envs\\aging\\lib\\site-packages\\pandas\\core\\computation\\expressions.py:205: UserWarning: evaluating in Python space because the '*' operator is not supported by numexpr for the bool dtype, use '&' instead\n",
      "  f\"evaluating in Python space because the {repr(op_str)} \"\n"
     ]
    },
    {
     "name": "stdout",
     "output_type": "stream",
     "text": [
      "Precision: 0.0010826695537854768 \n",
      "Recall: 0.27450980392156865 \n",
      "Aging Rate: 0.26580196920800014\n",
      "\n",
      " Dataset 9:\n",
      "Precision: 0.0013239696062629519 \n",
      "Recall: 0.45098039215686275 \n",
      "Aging Rate: 0.357088532138379\n"
     ]
    },
    {
     "name": "stderr",
     "output_type": "stream",
     "text": [
      "C:\\Users\\user\\anaconda3\\envs\\aging\\lib\\site-packages\\pandas\\core\\computation\\expressions.py:205: UserWarning: evaluating in Python space because the '*' operator is not supported by numexpr for the bool dtype, use '&' instead\n",
      "  f\"evaluating in Python space because the {repr(op_str)} \"\n",
      "C:\\Users\\user\\anaconda3\\envs\\aging\\lib\\site-packages\\pandas\\core\\computation\\expressions.py:205: UserWarning: evaluating in Python space because the '*' operator is not supported by numexpr for the bool dtype, use '&' instead\n",
      "  f\"evaluating in Python space because the {repr(op_str)} \"\n"
     ]
    }
   ],
   "source": [
    "hyper_infoC = {\n",
    "    'num_set': 10,\n",
    "    'date': '20210928',\n",
    "    'model_list': ['LightGBM', 'XGBoost', 'CatBoost', 'AdaBoost', 'RandomForest', 'ExtraTrees'],\n",
    "    'iter_list': [200, 200, 200, 25, 50, 50],\n",
    "    'filename': 'runhist_array_m2m5_4selection',\n",
    "    'mode': 'C',\n",
    "    'sampler_list': ['univariate-TPE', 'multivariate-TPE']\n",
    "}\n",
    "\n",
    "output_hyper = tableau_hyper(**hyper_infoC)\n",
    "        \n",
    "table_C = tableau_classifier(output_hyper, 10, trainset_x, trainset_y, run_test_x, run_test_y)   "
   ]
  },
  {
   "cell_type": "markdown",
   "metadata": {},
   "source": [
    "### Regressor"
   ]
  },
  {
   "cell_type": "code",
   "execution_count": 12,
   "metadata": {
    "ExecuteTime": {
     "end_time": "2021-09-27T08:53:41.538839Z",
     "start_time": "2021-09-27T08:53:41.513181Z"
    }
   },
   "outputs": [],
   "source": [
    "def tableau_regressor(hyper, num_set, trainset_x, trainset_y, test_x, test_y, thres_target, threshold) :\n",
    "    \n",
    "    temp_models = pd.DataFrame()\n",
    "    for model in tqdm(hyper.keys()):\n",
    "    \n",
    "        if model == 'XGBoost' :\n",
    "\n",
    "            _, temp_uni = runall_XGBoostR(num_set, trainset_x, test_x, trainset_y, test_y, \n",
    "                                          hyper['XGBoost']['univariate-TPE'], thres_target = thres_target, \n",
    "                                          threshold = threshold, record_bad = False)\n",
    "            _, temp_multi = runall_XGBoostR(num_set, trainset_x, test_x, trainset_y, test_y, \n",
    "                                            hyper['XGBoost']['multivariate-TPE'], thres_target = thres_target, \n",
    "                                            threshold = threshold, record_bad = False)\n",
    "            \n",
    "        elif model == 'LightGBM' :\n",
    "            \n",
    "            _, temp_uni = runall_LightGBMR(num_set, trainset_x, test_x, trainset_y, test_y, \n",
    "                                           hyper['LightGBM']['univariate-TPE'], thres_target = thres_target, \n",
    "                                           threshold = threshold, record_bad = False)\n",
    "            _, temp_multi = runall_LightGBMR(num_set, trainset_x, test_x, trainset_y, test_y, \n",
    "                                             hyper['LightGBM']['multivariate-TPE'], thres_target = thres_target, \n",
    "                                             threshold = threshold, record_bad = False)\n",
    "            \n",
    "        elif model == 'CatBoost' :\n",
    "            \n",
    "            _, temp_uni = runall_CatBoostR(num_set, trainset_x, test_x, trainset_y, test_y, \n",
    "                                           hyper['CatBoost']['univariate-TPE'], cat_feature = [], \n",
    "                                           thres_target = thres_target, threshold = threshold, record_bad = False)\n",
    "            _, temp_multi = runall_CatBoostR(num_set, trainset_x, test_x, trainset_y, test_y, \n",
    "                                             hyper['CatBoost']['multivariate-TPE'], cat_feature = [], \n",
    "                                             thres_target = thres_target, threshold = threshold, record_bad = False)\n",
    "            \n",
    "        elif model == 'AdaBoost' :\n",
    "            \n",
    "            _, temp_uni = runall_AdaBoostR(num_set, trainset_x, test_x, trainset_y, test_y, \n",
    "                                           hyper['AdaBoost']['univariate-TPE'],  \n",
    "                                           thres_target = thres_target, threshold = threshold, record_bad = False)\n",
    "            _, temp_multi = runall_AdaBoostR(num_set, trainset_x, test_x, trainset_y, test_y, \n",
    "                                             hyper['AdaBoost']['multivariate-TPE'], \n",
    "                                             thres_target = thres_target, threshold = threshold, record_bad = False)\n",
    "            \n",
    "        elif model == 'RandomForest' :\n",
    "            \n",
    "            _, temp_uni = runall_ForestR(num_set, trainset_x, test_x, trainset_y, test_y, \n",
    "                                         hyper['RandomForest']['univariate-TPE'], \n",
    "                                         thres_target = thres_target, threshold = threshold, record_bad = False)\n",
    "            _, temp_multi = runall_ForestR(num_set, trainset_x, test_x, trainset_y, test_y, \n",
    "                                           hyper['RandomForest']['multivariate-TPE'], \n",
    "                                           thres_target = thres_target, threshold = threshold, record_bad = False)\n",
    "            \n",
    "        elif model == 'ExtraTrees' :\n",
    "            \n",
    "            _, temp_uni = runall_ExtraTreesR(num_set, trainset_x, test_x, trainset_y, test_y, \n",
    "                                             hyper['ExtraTrees']['univariate-TPE'], \n",
    "                                             thres_target = thres_target, threshold = threshold, record_bad = False)\n",
    "            _, temp_multi = runall_ExtraTreesR(num_set, trainset_x, test_x, trainset_y, test_y, \n",
    "                                               hyper['ExtraTrees']['multivariate-TPE'],  \n",
    "                                               thres_target = thres_target, threshold = threshold, record_bad = False)\n",
    "            \n",
    "        temp_uni['Sampler'] = 'univariate-TPE'\n",
    "        temp_uni['Model'] = model\n",
    "        temp_multi['Sampler'] = 'multivaraite-TPE'\n",
    "        temp_multi['Model'] = model\n",
    "        \n",
    "        temp_samplers = pd.concat([temp_uni, temp_multi], axis = 0)\n",
    "        temp_models = pd.concat([temp_models, temp_samplers], axis = 0)\n",
    "        final_models = temp_models.reset_index().rename(columns = {'index': 'Dataset'})\n",
    "        \n",
    "    return final_models   "
   ]
  },
  {
   "cell_type": "code",
   "execution_count": 13,
   "metadata": {
    "ExecuteTime": {
     "end_time": "2021-09-27T09:13:07.489996Z",
     "start_time": "2021-09-27T08:53:45.265467Z"
    }
   },
   "outputs": [
    {
     "data": {
      "application/vnd.jupyter.widget-view+json": {
       "model_id": "b38e829b16374f5b8bc7e6fc816aa153",
       "version_major": 2,
       "version_minor": 0
      },
      "text/plain": [
       "  0%|          | 0/6 [00:00<?, ?it/s]"
      ]
     },
     "metadata": {},
     "output_type": "display_data"
    },
    {
     "name": "stdout",
     "output_type": "stream",
     "text": [
      "\n",
      " Dataset 0:\n",
      "Best Threshold: 0.00022395866935720824 \n",
      "\n",
      "Recall: [0.70588235] ,   Precision: [0.00122104] ,   Aging Rate: [0.60603507]\n",
      "\n",
      " Dataset 1:\n",
      "Best Threshold: 0.45984386823093837 \n",
      "\n",
      "Recall: [0.70588235] ,   Precision: [0.00139557] ,   Aging Rate: [0.53024728]\n",
      "\n",
      " Dataset 2:\n",
      "Best Threshold: 0.3837351390227882 \n",
      "\n",
      "Recall: [0.70588235] ,   Precision: [0.00106179] ,   Aging Rate: [0.69693108]\n",
      "\n",
      " Dataset 3:\n",
      "Best Threshold: 0.24399206358621756 \n",
      "\n",
      "Recall: [0.70588235] ,   Precision: [0.0009846] ,   Aging Rate: [0.75156735]\n",
      "\n",
      " Dataset 4:\n",
      "Best Threshold: 0.4591893914865951 \n",
      "\n",
      "Recall: [0.70588235] ,   Precision: [0.00121482] ,   Aging Rate: [0.60913893]\n",
      "\n",
      " Dataset 5:\n",
      "Best Threshold: 0.2730642585531949 \n",
      "\n",
      "Recall: [0.70588235] ,   Precision: [0.00119486] ,   Aging Rate: [0.61931386]\n",
      "\n",
      " Dataset 6:\n",
      "Best Threshold: 0.4441764691066892 \n",
      "\n",
      "Recall: [0.70588235] ,   Precision: [0.00122511] ,   Aging Rate: [0.60402064]\n",
      "\n",
      " Dataset 7:\n",
      "Best Threshold: 0.4477871694246262 \n",
      "\n",
      "Recall: [0.70588235] ,   Precision: [0.00137494] ,   Aging Rate: [0.53820222]\n",
      "\n",
      " Dataset 8:\n",
      "Best Threshold: 0.48850842655089355 \n",
      "\n",
      "Recall: [0.70588235] ,   Precision: [0.00133393] ,   Aging Rate: [0.55474933]\n",
      "\n",
      " Dataset 9:\n",
      "Best Threshold: 0.16040989688569712 \n",
      "\n",
      "Recall: [0.70588235] ,   Precision: [0.00110779] ,   Aging Rate: [0.66798906]\n",
      "\n",
      " Dataset 0:\n",
      "Best Threshold: 0.0009282488838072138 \n",
      "\n",
      "Recall: [0.70588235] ,   Precision: [0.00102035] ,   Aging Rate: [0.72523587]\n",
      "\n",
      " Dataset 1:\n",
      "Best Threshold: 0.4639457897179609 \n",
      "\n",
      "Recall: [0.70588235] ,   Precision: [0.00153315] ,   Aging Rate: [0.48266151]\n",
      "\n",
      " Dataset 2:\n",
      "Best Threshold: 0.6668838177008704 \n",
      "\n",
      "Recall: [0.70588235] ,   Precision: [0.00119633] ,   Aging Rate: [0.61855331]\n",
      "\n",
      " Dataset 3:\n",
      "Best Threshold: 0.2519079854966769 \n",
      "\n",
      "Recall: [0.70588235] ,   Precision: [0.00104115] ,   Aging Rate: [0.71074431]\n",
      "\n",
      " Dataset 4:\n",
      "Best Threshold: 0.17909266104335875 \n",
      "\n",
      "Recall: [0.70588235] ,   Precision: [0.00108673] ,   Aging Rate: [0.68093897]\n",
      "\n",
      " Dataset 5:\n",
      "Best Threshold: 0.4389213003345826 \n",
      "\n",
      "Recall: [0.70588235] ,   Precision: [0.00123554] ,   Aging Rate: [0.5989229]\n",
      "\n",
      " Dataset 6:\n",
      "Best Threshold: 0.44877609847459954 \n",
      "\n",
      "Recall: [0.70588235] ,   Precision: [0.00125668] ,   Aging Rate: [0.58885075]\n",
      "\n",
      " Dataset 7:\n",
      "Best Threshold: 0.3375532739700725 \n",
      "\n",
      "Recall: [0.70588235] ,   Precision: [0.00127119] ,   Aging Rate: [0.58212913]\n",
      "\n",
      " Dataset 8:\n",
      "Best Threshold: 0.5321440982435393 \n",
      "\n",
      "Recall: [0.70588235] ,   Precision: [0.00134973] ,   Aging Rate: [0.54825382]\n",
      "\n",
      " Dataset 9:\n",
      "Best Threshold: 0.5897189702081819 \n",
      "\n",
      "Recall: [0.70588235] ,   Precision: [0.00144312] ,   Aging Rate: [0.51277519]\n",
      "\n",
      " Dataset 0:\n",
      "Best Threshold: -0.0013913830043748021 \n",
      "\n",
      "Recall: [0.70588235] ,   Precision: [0.00142518] ,   Aging Rate: [0.51922958]\n",
      "\n",
      " Dataset 1:\n",
      "Best Threshold: 0.33354195952415466 \n",
      "\n",
      "Recall: [0.70588235] ,   Precision: [0.00120389] ,   Aging Rate: [0.61466834]\n",
      "\n",
      " Dataset 2:\n",
      "Best Threshold: 0.33145540952682495 \n",
      "\n",
      "Recall: [0.70588235] ,   Precision: [0.00104965] ,   Aging Rate: [0.7049888]\n",
      "\n",
      " Dataset 3:\n",
      "Best Threshold: 0.5150144100189209 \n",
      "\n",
      "Recall: [0.70588235] ,   Precision: [0.00121151] ,   Aging Rate: [0.61080392]\n",
      "\n",
      " Dataset 4:\n",
      "Best Threshold: 0.2942523956298828 \n",
      "\n",
      "Recall: [0.70588235] ,   Precision: [0.00109636] ,   Aging Rate: [0.67495735]\n",
      "\n",
      " Dataset 5:\n",
      "Best Threshold: 0.2927899956703186 \n",
      "\n",
      "Recall: [0.70588235] ,   Precision: [0.00112938] ,   Aging Rate: [0.65522416]\n",
      "\n",
      " Dataset 6:\n",
      "Best Threshold: 0.45553553104400635 \n",
      "\n",
      "Recall: [0.70588235] ,   Precision: [0.00135481] ,   Aging Rate: [0.54619828]\n",
      "\n",
      " Dataset 7:\n",
      "Best Threshold: 0.43534964323043823 \n",
      "\n",
      "Recall: [0.70588235] ,   Precision: [0.00129129] ,   Aging Rate: [0.57306419]\n",
      "\n",
      " Dataset 8:\n",
      "Best Threshold: 0.3336023986339569 \n",
      "\n",
      "Recall: [0.70588235] ,   Precision: [0.00122599] ,   Aging Rate: [0.60358897]\n",
      "\n",
      " Dataset 9:\n",
      "Best Threshold: 0.3056938648223877 \n",
      "\n",
      "Recall: [0.70588235] ,   Precision: [0.0011484] ,   Aging Rate: [0.6443709]\n",
      "\n",
      " Dataset 0:\n",
      "Best Threshold: -0.004595964215695858 \n",
      "\n",
      "Recall: [0.70588235] ,   Precision: [0.0010029] ,   Aging Rate: [0.73785689]\n",
      "\n",
      " Dataset 1:\n",
      "Best Threshold: 0.21680814027786255 \n",
      "\n",
      "Recall: [0.70588235] ,   Precision: [0.00107533] ,   Aging Rate: [0.68815392]\n",
      "\n",
      " Dataset 2:\n",
      "Best Threshold: 0.3413679003715515 \n",
      "\n",
      "Recall: [0.70588235] ,   Precision: [0.00109904] ,   Aging Rate: [0.67331291]\n",
      "\n",
      " Dataset 3:\n",
      "Best Threshold: 0.509101390838623 \n",
      "\n",
      "Recall: [0.70588235] ,   Precision: [0.00112609] ,   Aging Rate: [0.65713581]\n",
      "\n",
      " Dataset 4:\n",
      "Best Threshold: 0.3289896249771118 \n",
      "\n",
      "Recall: [0.70588235] ,   Precision: [0.00112952] ,   Aging Rate: [0.65514194]\n",
      "\n",
      " Dataset 5:\n",
      "Best Threshold: 0.34934985637664795 \n",
      "\n",
      "Recall: [0.70588235] ,   Precision: [0.00115507] ,   Aging Rate: [0.64065037]\n",
      "\n",
      " Dataset 6:\n",
      "Best Threshold: 0.2992699146270752 \n",
      "\n",
      "Recall: [0.70588235] ,   Precision: [0.00108748] ,   Aging Rate: [0.6804662]\n",
      "\n",
      " Dataset 7:\n",
      "Best Threshold: 0.369346559047699 \n",
      "\n",
      "Recall: [0.70588235] ,   Precision: [0.00117855] ,   Aging Rate: [0.62788547]\n",
      "\n",
      " Dataset 8:\n",
      "Best Threshold: 0.3402409553527832 \n",
      "\n",
      "Recall: [0.70588235] ,   Precision: [0.0011469] ,   Aging Rate: [0.64521367]\n",
      "\n",
      " Dataset 9:\n",
      "Best Threshold: 0.4195253252983093 \n",
      "\n",
      "Recall: [0.70588235] ,   Precision: [0.00127092] ,   Aging Rate: [0.58225246]\n",
      "\n",
      " Dataset 0:\n",
      "Best Threshold: -0.0006909876859679345 \n",
      "\n",
      "Recall: [0.70588235] ,   Precision: [0.00113147] ,   Aging Rate: [0.65401139]\n",
      "\n",
      " Dataset 1:\n",
      "Best Threshold: 0.41751239987168265 \n",
      "\n",
      "Recall: [0.70588235] ,   Precision: [0.00124005] ,   Aging Rate: [0.59674402]\n",
      "\n",
      " Dataset 2:\n",
      "Best Threshold: 0.4119040207571659 \n",
      "\n",
      "Recall: [0.70588235] ,   Precision: [0.001183] ,   Aging Rate: [0.62552159]\n",
      "\n",
      " Dataset 3:\n",
      "Best Threshold: 0.38821432099360875 \n",
      "\n",
      "Recall: [0.70588235] ,   Precision: [0.0010343] ,   Aging Rate: [0.7154515]\n",
      "\n",
      " Dataset 4:\n",
      "Best Threshold: 0.32288200877816053 \n",
      "\n",
      "Recall: [0.70588235] ,   Precision: [0.00104941] ,   Aging Rate: [0.70515324]\n",
      "\n",
      " Dataset 5:\n",
      "Best Threshold: 0.3576864554860916 \n",
      "\n",
      "Recall: [0.70588235] ,   Precision: [0.00113651] ,   Aging Rate: [0.65111308]\n",
      "\n",
      " Dataset 6:\n",
      "Best Threshold: 0.39931578807662665 \n",
      "\n",
      "Recall: [0.70588235] ,   Precision: [0.00116618] ,   Aging Rate: [0.63454542]\n",
      "\n",
      " Dataset 7:\n",
      "Best Threshold: 0.4166556114469934 \n",
      "\n",
      "Recall: [0.70588235] ,   Precision: [0.00124314] ,   Aging Rate: [0.59526403]\n",
      "\n",
      " Dataset 8:\n",
      "Best Threshold: 0.3092538016491624 \n",
      "\n",
      "Recall: [0.70588235] ,   Precision: [0.00110196] ,   Aging Rate: [0.67152459]\n",
      "\n",
      " Dataset 9:\n",
      "Best Threshold: 0.2619129576899135 \n",
      "\n",
      "Recall: [0.70588235] ,   Precision: [0.00125857] ,   Aging Rate: [0.58796686]\n",
      "\n",
      " Dataset 0:\n",
      "Best Threshold: -0.0015309932151363653 \n",
      "\n",
      "Recall: [0.70588235] ,   Precision: [0.00109659] ,   Aging Rate: [0.67481346]\n",
      "\n",
      " Dataset 1:\n",
      "Best Threshold: 0.3335171196516419 \n",
      "\n",
      "Recall: [0.70588235] ,   Precision: [0.00111923] ,   Aging Rate: [0.66116467]\n",
      "\n",
      " Dataset 2:\n",
      "Best Threshold: 0.45123448644325403 \n",
      "\n",
      "Recall: [0.70588235] ,   Precision: [0.0012129] ,   Aging Rate: [0.61010504]\n",
      "\n",
      " Dataset 3:\n",
      "Best Threshold: 0.4555012771056331 \n",
      "\n",
      "Recall: [0.70588235] ,   Precision: [0.00106195] ,   Aging Rate: [0.6968283]\n",
      "\n",
      " Dataset 4:\n",
      "Best Threshold: 0.4436086634974101 \n",
      "\n",
      "Recall: [0.70588235] ,   Precision: [0.00122603] ,   Aging Rate: [0.60356842]\n",
      "\n",
      " Dataset 5:\n",
      "Best Threshold: 0.27456735906093355 \n",
      "\n",
      "Recall: [0.70588235] ,   Precision: [0.00115145] ,   Aging Rate: [0.6426648]\n",
      "\n",
      " Dataset 6:\n",
      "Best Threshold: 0.3404759505622166 \n",
      "\n",
      "Recall: [0.70588235] ,   Precision: [0.00115692] ,   Aging Rate: [0.6396226]\n",
      "\n",
      " Dataset 7:\n",
      "Best Threshold: 0.3565979613452279 \n",
      "\n",
      "Recall: [0.70588235] ,   Precision: [0.00129576] ,   Aging Rate: [0.57109088]\n",
      "\n",
      " Dataset 8:\n",
      "Best Threshold: 0.3684290750142529 \n",
      "\n",
      "Recall: [0.70588235] ,   Precision: [0.00121774] ,   Aging Rate: [0.6076795]\n",
      "\n",
      " Dataset 9:\n",
      "Best Threshold: 0.363273542044126 \n",
      "\n",
      "Recall: [0.70588235] ,   Precision: [0.00122055] ,   Aging Rate: [0.60628173]\n",
      "\n",
      " Dataset 0:\n",
      "Best Threshold: 0.024749744362520854 \n",
      "\n",
      "Recall: [0.88235294] ,   Precision: [0.00107291] ,   Aging Rate: [0.86213488]\n",
      "\n",
      " Dataset 1:\n",
      "Best Threshold: 0.37777777777777777 \n",
      "\n",
      "Recall: [0.7254902] ,   Precision: [0.00114893] ,   Aging Rate: [0.66196633]\n",
      "\n",
      " Dataset 2:\n",
      "Best Threshold: 0.480225988700565 \n",
      "\n",
      "Recall: [0.70588235] ,   Precision: [0.00125611] ,   Aging Rate: [0.58911797]\n",
      "\n",
      " Dataset 3:\n",
      "Best Threshold: 0.2975164723770907 \n",
      "\n",
      "Recall: [0.82352941] ,   Precision: [0.00112284] ,   Aging Rate: [0.768875]\n",
      "\n",
      " Dataset 4:\n"
     ]
    },
    {
     "name": "stdout",
     "output_type": "stream",
     "text": [
      "Best Threshold: 0.5102487018311014 \n",
      "\n",
      "Recall: [0.7254902] ,   Precision: [0.00126375] ,   Aging Rate: [0.60182121]\n",
      "\n",
      " Dataset 5:\n",
      "Best Threshold: 0.47375820056232426 \n",
      "\n",
      "Recall: [0.70588235] ,   Precision: [0.00126556] ,   Aging Rate: [0.58471911]\n",
      "\n",
      " Dataset 6:\n",
      "Best Threshold: 0.3935897435897436 \n",
      "\n",
      "Recall: [0.70588235] ,   Precision: [0.00114406] ,   Aging Rate: [0.646817]\n",
      "\n",
      " Dataset 7:\n",
      "Best Threshold: 0.2058526740665994 \n",
      "\n",
      "Recall: [1.] ,   Precision: [0.00104833] ,   Aging Rate: [1.]\n",
      "\n",
      " Dataset 8:\n",
      "Best Threshold: 0.4755244755244755 \n",
      "\n",
      "Recall: [0.70588235] ,   Precision: [0.0011658] ,   Aging Rate: [0.63475097]\n",
      "\n",
      " Dataset 9:\n",
      "Best Threshold: 0.24583333333333332 \n",
      "\n",
      "Recall: [0.76470588] ,   Precision: [0.00123543] ,   Aging Rate: [0.64889309]\n",
      "\n",
      " Dataset 0:\n",
      "Best Threshold: 0.022046181815190476 \n",
      "\n",
      "Recall: [0.8627451] ,   Precision: [0.00107907] ,   Aging Rate: [0.83816728]\n",
      "\n",
      " Dataset 1:\n",
      "Best Threshold: 0.4664712348845731 \n",
      "\n",
      "Recall: [0.70588235] ,   Precision: [0.00123673] ,   Aging Rate: [0.59834735]\n",
      "\n",
      " Dataset 2:\n",
      "Best Threshold: 0.45506912442396313 \n",
      "\n",
      "Recall: [0.7254902] ,   Precision: [0.00114572] ,   Aging Rate: [0.66381632]\n",
      "\n",
      " Dataset 3:\n",
      "Best Threshold: 0.28045977011494255 \n",
      "\n",
      "Recall: [0.98039216] ,   Precision: [0.00103575] ,   Aging Rate: [0.99229172]\n",
      "\n",
      " Dataset 4:\n",
      "Best Threshold: 0.4976282880551962 \n",
      "\n",
      "Recall: [0.7254902] ,   Precision: [0.00116819] ,   Aging Rate: [0.65105141]\n",
      "\n",
      " Dataset 5:\n",
      "Best Threshold: 0.3610719322990127 \n",
      "\n",
      "Recall: [0.74509804] ,   Precision: [0.00103432] ,   Aging Rate: [0.7551851]\n",
      "\n",
      " Dataset 6:\n",
      "Best Threshold: 0.408 \n",
      "\n",
      "Recall: [0.76470588] ,   Precision: [0.00126059] ,   Aging Rate: [0.63594318]\n",
      "\n",
      " Dataset 7:\n",
      "Best Threshold: 0.28593319031566045 \n",
      "\n",
      "Recall: [1.] ,   Precision: [0.00104833] ,   Aging Rate: [1.]\n",
      "\n",
      " Dataset 8:\n",
      "Best Threshold: 0.5120481927710844 \n",
      "\n",
      "Recall: [0.7254902] ,   Precision: [0.00121755] ,   Aging Rate: [0.62465827]\n",
      "\n",
      " Dataset 9:\n",
      "Best Threshold: 0.30597014925373134 \n",
      "\n",
      "Recall: [0.7254902] ,   Precision: [0.00136446] ,   Aging Rate: [0.55740097]\n",
      "\n",
      " Dataset 0:\n",
      "Best Threshold: 0.0008949758031683959 \n",
      "\n",
      "Recall: [0.70588235] ,   Precision: [0.00110599] ,   Aging Rate: [0.6690785]\n",
      "\n",
      " Dataset 1:\n",
      "Best Threshold: 0.08666666666666667 \n",
      "\n",
      "Recall: [0.70588235] ,   Precision: [0.00093777] ,   Aging Rate: [0.78910152]\n",
      "\n",
      " Dataset 2:\n",
      "Best Threshold: 0.41835209226191883 \n",
      "\n",
      "Recall: [0.70588235] ,   Precision: [0.00111607] ,   Aging Rate: [0.66303521]\n",
      "\n",
      " Dataset 3:\n",
      "Best Threshold: 0.06871156732818985 \n",
      "\n",
      "Recall: [0.70588235] ,   Precision: [0.00094882] ,   Aging Rate: [0.77991326]\n",
      "\n",
      " Dataset 4:\n",
      "Best Threshold: 0.26015924780056576 \n",
      "\n",
      "Recall: [0.70588235] ,   Precision: [0.00104402] ,   Aging Rate: [0.70879155]\n",
      "\n",
      " Dataset 5:\n",
      "Best Threshold: 0.18597098244276697 \n",
      "\n",
      "Recall: [0.70588235] ,   Precision: [0.00101574] ,   Aging Rate: [0.72852474]\n",
      "\n",
      " Dataset 6:\n",
      "Best Threshold: 0.3684066827296999 \n",
      "\n",
      "Recall: [0.70588235] ,   Precision: [0.00111476] ,   Aging Rate: [0.66381632]\n",
      "\n",
      " Dataset 7:\n",
      "Best Threshold: 0.17646982496899816 \n",
      "\n",
      "Recall: [0.70588235] ,   Precision: [0.00134123] ,   Aging Rate: [0.55172768]\n",
      "\n",
      " Dataset 8:\n",
      "Best Threshold: 0.4242148567951231 \n",
      "\n",
      "Recall: [0.70588235] ,   Precision: [0.00124892] ,   Aging Rate: [0.59250961]\n",
      "\n",
      " Dataset 9:\n",
      "Best Threshold: 0.44 \n",
      "\n",
      "Recall: [0.70588235] ,   Precision: [0.00134529] ,   Aging Rate: [0.55006269]\n",
      "\n",
      " Dataset 0:\n",
      "Best Threshold: 5.36646707507447e-05 \n",
      "\n",
      "Recall: [0.70588235] ,   Precision: [0.00102299] ,   Aging Rate: [0.72336533]\n",
      "\n",
      " Dataset 1:\n",
      "Best Threshold: 0.16946365914786965 \n",
      "\n",
      "Recall: [0.70588235] ,   Precision: [0.00101839] ,   Aging Rate: [0.72663364]\n",
      "\n",
      " Dataset 2:\n",
      "Best Threshold: 0.4115036306806827 \n",
      "\n",
      "Recall: [0.70588235] ,   Precision: [0.00110004] ,   Aging Rate: [0.67269625]\n",
      "\n",
      " Dataset 3:\n",
      "Best Threshold: 0.06838320966003335 \n",
      "\n",
      "Recall: [0.70588235] ,   Precision: [0.00093633] ,   Aging Rate: [0.79031429]\n",
      "\n",
      " Dataset 4:\n",
      "Best Threshold: 0.29452282909727295 \n",
      "\n",
      "Recall: [0.70588235] ,   Precision: [0.00109436] ,   Aging Rate: [0.67619067]\n",
      "\n",
      " Dataset 5:\n",
      "Best Threshold: 0.17003502212703392 \n",
      "\n",
      "Recall: [0.70588235] ,   Precision: [0.00102804] ,   Aging Rate: [0.71980925]\n",
      "\n",
      " Dataset 6:\n",
      "Best Threshold: 0.3686689088781053 \n",
      "\n",
      "Recall: [0.70588235] ,   Precision: [0.00115525] ,   Aging Rate: [0.6405476]\n",
      "\n",
      " Dataset 7:\n",
      "Best Threshold: 0.06185190146969563 \n",
      "\n",
      "Recall: [0.76470588] ,   Precision: [0.00107827] ,   Aging Rate: [0.74346852]\n",
      "\n",
      " Dataset 8:\n",
      "Best Threshold: 0.4511818908111307 \n",
      "\n",
      "Recall: [0.70588235] ,   Precision: [0.00126334] ,   Aging Rate: [0.58574688]\n",
      "\n",
      " Dataset 9:\n",
      "Best Threshold: 0.44 \n",
      "\n",
      "Recall: [0.70588235] ,   Precision: [0.00131651] ,   Aging Rate: [0.56208761]\n",
      "\n",
      " Dataset 0:\n",
      "Best Threshold: 0.0 \n",
      "\n",
      "Recall: [1.] ,   Precision: [0.00104833] ,   Aging Rate: [1.]\n",
      "\n",
      " Dataset 1:\n",
      "Best Threshold: 0.25825290573142134 \n",
      "\n",
      "Recall: [0.70588235] ,   Precision: [0.00111951] ,   Aging Rate: [0.66100023]\n",
      "\n",
      " Dataset 2:\n",
      "Best Threshold: 0.1503456221198154 \n",
      "\n",
      "Recall: [0.76470588] ,   Precision: [0.00094539] ,   Aging Rate: [0.84797221]\n",
      "\n",
      " Dataset 3:\n",
      "Best Threshold: 0.30671502333049977 \n",
      "\n",
      "Recall: [0.70588235] ,   Precision: [0.00104672] ,   Aging Rate: [0.70696212]\n",
      "\n",
      " Dataset 4:\n",
      "Best Threshold: 0.0 \n",
      "\n",
      "Recall: [1.] ,   Precision: [0.00104833] ,   Aging Rate: [1.]\n",
      "\n",
      " Dataset 5:\n",
      "Best Threshold: 0.2941668075054409 \n",
      "\n",
      "Recall: [0.70588235] ,   Precision: [0.00105646] ,   Aging Rate: [0.70044605]\n",
      "\n",
      " Dataset 6:\n",
      "Best Threshold: 0.09765625 \n",
      "\n",
      "Recall: [0.70588235] ,   Precision: [0.00099615] ,   Aging Rate: [0.74285186]\n",
      "\n",
      " Dataset 7:\n",
      "Best Threshold: 0.36365795486578784 \n",
      "\n",
      "Recall: [0.70588235] ,   Precision: [0.00121939] ,   Aging Rate: [0.60685728]\n",
      "\n",
      " Dataset 8:\n",
      "Best Threshold: 0.2425 \n",
      "\n",
      "Recall: [0.70588235] ,   Precision: [0.00118281] ,   Aging Rate: [0.62562437]\n",
      "\n",
      " Dataset 9:\n",
      "Best Threshold: 0.0 \n",
      "\n",
      "Recall: [1.] ,   Precision: [0.00104833] ,   Aging Rate: [1.]\n",
      "\n",
      " Dataset 0:\n",
      "Best Threshold: 0.0 \n",
      "\n",
      "Recall: [1.] ,   Precision: [0.00104833] ,   Aging Rate: [1.]\n",
      "\n",
      " Dataset 1:\n",
      "Best Threshold: 0.2764781105735494 \n",
      "\n",
      "Recall: [0.70588235] ,   Precision: [0.00110419] ,   Aging Rate: [0.67016794]\n",
      "\n",
      " Dataset 2:\n",
      "Best Threshold: 0.07692307692307669 \n",
      "\n",
      "Recall: [0.70588235] ,   Precision: [0.00098863] ,   Aging Rate: [0.74850459]\n",
      "\n",
      " Dataset 3:\n",
      "Best Threshold: 0.4769329699841628 \n",
      "\n",
      "Recall: [0.70588235] ,   Precision: [0.00105275] ,   Aging Rate: [0.7029127]\n",
      "\n",
      " Dataset 4:\n",
      "Best Threshold: 0.004587155963302738 \n",
      "\n",
      "Recall: [0.70588235] ,   Precision: [0.00099179] ,   Aging Rate: [0.74612017]\n",
      "\n",
      " Dataset 5:\n",
      "Best Threshold: 0.2807061092299442 \n",
      "\n",
      "Recall: [0.70588235] ,   Precision: [0.00104776] ,   Aging Rate: [0.70626323]\n",
      "\n",
      " Dataset 6:\n",
      "Best Threshold: 0.09765625 \n",
      "\n",
      "Recall: [0.7254902] ,   Precision: [0.00101259] ,   Aging Rate: [0.75109458]\n",
      "\n",
      " Dataset 7:\n",
      "Best Threshold: 0.3480551470588235 \n",
      "\n",
      "Recall: [0.70588235] ,   Precision: [0.00117778] ,   Aging Rate: [0.62829657]\n",
      "\n",
      " Dataset 8:\n",
      "Best Threshold: 0.1875 \n",
      "\n",
      "Recall: [0.7254902] ,   Precision: [0.00117237] ,   Aging Rate: [0.64872865]\n",
      "\n",
      " Dataset 9:\n",
      "Best Threshold: 0.0 \n",
      "\n",
      "Recall: [1.] ,   Precision: [0.00104833] ,   Aging Rate: [1.]\n"
     ]
    },
    {
     "data": {
      "application/vnd.jupyter.widget-view+json": {
       "model_id": "70bcf44de7d34e3d8fdaf9456c25158b",
       "version_major": 2,
       "version_minor": 0
      },
      "text/plain": [
       "  0%|          | 0/6 [00:00<?, ?it/s]"
      ]
     },
     "metadata": {},
     "output_type": "display_data"
    },
    {
     "name": "stdout",
     "output_type": "stream",
     "text": [
      "\n",
      " Dataset 0:\n",
      "Best Threshold: 0.0001776645513791339 \n",
      "\n",
      "Recall: [0.80392157] ,   Precision: [0.00123149] ,   Aging Rate: [0.68435117]\n",
      "\n",
      " Dataset 1:\n",
      "Best Threshold: 0.06896268672871572 \n",
      "\n",
      "Recall: [0.80392157] ,   Precision: [0.00112879] ,   Aging Rate: [0.7466135]\n",
      "\n",
      " Dataset 2:\n",
      "Best Threshold: 0.19377405247704657 \n",
      "\n",
      "Recall: [0.80392157] ,   Precision: [0.00107016] ,   Aging Rate: [0.78751876]\n",
      "\n",
      " Dataset 3:\n",
      "Best Threshold: 0.14185720697337711 \n",
      "\n",
      "Recall: [0.80392157] ,   Precision: [0.00106135] ,   Aging Rate: [0.79405538]\n",
      "\n",
      " Dataset 4:\n",
      "Best Threshold: 0.24674751330794426 \n",
      "\n",
      "Recall: [0.80392157] ,   Precision: [0.0011802] ,   Aging Rate: [0.71409484]\n",
      "\n",
      " Dataset 5:\n",
      "Best Threshold: 0.03875558889128168 \n",
      "\n",
      "Recall: [0.80392157] ,   Precision: [0.00113715] ,   Aging Rate: [0.7411252]\n",
      "\n",
      " Dataset 6:\n",
      "Best Threshold: 0.15713089245115092 \n",
      "\n",
      "Recall: [0.80392157] ,   Precision: [0.00113492] ,   Aging Rate: [0.74258464]\n",
      "\n",
      " Dataset 7:\n",
      "Best Threshold: 0.22185655847262004 \n",
      "\n",
      "Recall: [0.80392157] ,   Precision: [0.00128656] ,   Aging Rate: [0.65505971]\n",
      "\n",
      " Dataset 8:\n",
      "Best Threshold: 0.057541895111725125 \n",
      "\n",
      "Recall: [0.80392157] ,   Precision: [0.00111903] ,   Aging Rate: [0.75312956]\n",
      "\n",
      " Dataset 9:\n",
      "Best Threshold: 0.05673456472370722 \n",
      "\n",
      "Recall: [0.80392157] ,   Precision: [0.00112406] ,   Aging Rate: [0.74975847]\n",
      "\n",
      " Dataset 0:\n",
      "Best Threshold: 0.0007919169378729237 \n",
      "\n",
      "Recall: [0.80392157] ,   Precision: [0.0010616] ,   Aging Rate: [0.79387038]\n",
      "\n",
      " Dataset 1:\n",
      "Best Threshold: 0.006242248228646905 \n",
      "\n",
      "Recall: [0.80392157] ,   Precision: [0.0011719] ,   Aging Rate: [0.71915147]\n",
      "\n",
      " Dataset 2:\n",
      "Best Threshold: 0.3733479789356379 \n",
      "\n",
      "Recall: [0.80392157] ,   Precision: [0.00117772] ,   Aging Rate: [0.71559539]\n",
      "\n",
      " Dataset 3:\n",
      "Best Threshold: 0.03524771891081992 \n",
      "\n",
      "Recall: [0.80392157] ,   Precision: [0.00109523] ,   Aging Rate: [0.76949166]\n",
      "\n",
      " Dataset 4:\n",
      "Best Threshold: 0.09670241839416137 \n",
      "\n",
      "Recall: [0.80392157] ,   Precision: [0.00109787] ,   Aging Rate: [0.76764168]\n",
      "\n",
      " Dataset 5:\n",
      "Best Threshold: 0.22681259258245343 \n",
      "\n",
      "Recall: [0.80392157] ,   Precision: [0.00122998] ,   Aging Rate: [0.68519394]\n",
      "\n",
      " Dataset 6:\n",
      "Best Threshold: 0.05298647285292425 \n",
      "\n",
      "Recall: [0.80392157] ,   Precision: [0.00113194] ,   Aging Rate: [0.7445374]\n",
      "\n",
      " Dataset 7:\n",
      "Best Threshold: 0.06950692641496842 \n",
      "\n",
      "Recall: [0.80392157] ,   Precision: [0.00116892] ,   Aging Rate: [0.7209809]\n",
      "\n",
      " Dataset 8:\n",
      "Best Threshold: 0.09646263049739436 \n",
      "\n",
      "Recall: [0.80392157] ,   Precision: [0.00124779] ,   Aging Rate: [0.67540957]\n",
      "\n",
      " Dataset 9:\n",
      "Best Threshold: 0.05887346652441099 \n",
      "\n",
      "Recall: [0.80392157] ,   Precision: [0.00113401] ,   Aging Rate: [0.74318074]\n",
      "\n",
      " Dataset 0:\n",
      "Best Threshold: -0.0052674440667033195 \n",
      "\n",
      "Recall: [0.80392157] ,   Precision: [0.00108872] ,   Aging Rate: [0.77409608]\n",
      "\n",
      " Dataset 1:\n",
      "Best Threshold: 0.19203248620033264 \n",
      "\n",
      "Recall: [0.80392157] ,   Precision: [0.00112095] ,   Aging Rate: [0.75183457]\n",
      "\n",
      " Dataset 2:\n",
      "Best Threshold: 0.25642961263656616 \n",
      "\n",
      "Recall: [0.80392157] ,   Precision: [0.001101] ,   Aging Rate: [0.7654628]\n",
      "\n",
      " Dataset 3:\n",
      "Best Threshold: 0.3508906364440918 \n",
      "\n",
      "Recall: [0.80392157] ,   Precision: [0.00114158] ,   Aging Rate: [0.73824745]\n",
      "\n",
      " Dataset 4:\n",
      "Best Threshold: 0.2293231189250946 \n",
      "\n",
      "Recall: [0.80392157] ,   Precision: [0.00113747] ,   Aging Rate: [0.74091965]\n",
      "\n",
      " Dataset 5:\n",
      "Best Threshold: 0.2109868973493576 \n",
      "\n",
      "Recall: [0.80392157] ,   Precision: [0.00114836] ,   Aging Rate: [0.7338897]\n",
      "\n",
      " Dataset 6:\n",
      "Best Threshold: 0.20205634832382202 \n",
      "\n",
      "Recall: [0.80392157] ,   Precision: [0.00107005] ,   Aging Rate: [0.78760098]\n",
      "\n",
      " Dataset 7:\n",
      "Best Threshold: 0.2601739764213562 \n",
      "\n",
      "Recall: [0.80392157] ,   Precision: [0.00115904] ,   Aging Rate: [0.72712697]\n",
      "\n",
      " Dataset 8:\n",
      "Best Threshold: 0.23708407580852509 \n",
      "\n",
      "Recall: [0.80392157] ,   Precision: [0.00122038] ,   Aging Rate: [0.69057946]\n",
      "\n",
      " Dataset 9:\n",
      "Best Threshold: 0.13816142082214355 \n",
      "\n",
      "Recall: [0.80392157] ,   Precision: [0.00106997] ,   Aging Rate: [0.78766264]\n",
      "\n",
      " Dataset 0:\n",
      "Best Threshold: -0.006975913420319557 \n",
      "\n",
      "Recall: [0.80392157] ,   Precision: [0.00104501] ,   Aging Rate: [0.80647084]\n",
      "\n",
      " Dataset 1:\n",
      "Best Threshold: 0.14475099742412567 \n",
      "\n",
      "Recall: [0.80392157] ,   Precision: [0.00111559] ,   Aging Rate: [0.75545232]\n",
      "\n",
      " Dataset 2:\n",
      "Best Threshold: 0.2831405699253082 \n",
      "\n",
      "Recall: [0.80392157] ,   Precision: [0.00117505] ,   Aging Rate: [0.71721926]\n",
      "\n",
      " Dataset 3:\n",
      "Best Threshold: 0.3291218876838684 \n",
      "\n",
      "Recall: [0.80392157] ,   Precision: [0.00110334] ,   Aging Rate: [0.76383893]\n",
      "\n",
      " Dataset 4:\n",
      "Best Threshold: 0.22921466827392578 \n",
      "\n",
      "Recall: [0.80392157] ,   Precision: [0.00111686] ,   Aging Rate: [0.75458899]\n",
      "\n",
      " Dataset 5:\n",
      "Best Threshold: 0.23993033170700073 \n",
      "\n",
      "Recall: [0.80392157] ,   Precision: [0.00113816] ,   Aging Rate: [0.74046743]\n",
      "\n",
      " Dataset 6:\n",
      "Best Threshold: 0.19631899893283844 \n",
      "\n",
      "Recall: [0.80392157] ,   Precision: [0.00109949] ,   Aging Rate: [0.76651113]\n",
      "\n",
      " Dataset 7:\n",
      "Best Threshold: 0.268035888671875 \n",
      "\n",
      "Recall: [0.80392157] ,   Precision: [0.00116391] ,   Aging Rate: [0.72408477]\n",
      "\n",
      " Dataset 8:\n",
      "Best Threshold: 0.2996099889278412 \n",
      "\n",
      "Recall: [0.80392157] ,   Precision: [0.00122729] ,   Aging Rate: [0.68669448]\n",
      "\n",
      " Dataset 9:\n",
      "Best Threshold: 0.30859389901161194 \n",
      "\n",
      "Recall: [0.80392157] ,   Precision: [0.00128037] ,   Aging Rate: [0.65822525]\n",
      "\n",
      " Dataset 0:\n",
      "Best Threshold: -0.0014363239356614708 \n",
      "\n",
      "Recall: [0.80392157] ,   Precision: [0.001079] ,   Aging Rate: [0.78106436]\n",
      "\n",
      " Dataset 1:\n",
      "Best Threshold: 0.39633537345394365 \n",
      "\n",
      "Recall: [0.80392157] ,   Precision: [0.00135309] ,   Aging Rate: [0.62284939]\n",
      "\n",
      " Dataset 2:\n",
      "Best Threshold: 0.3106168265499928 \n",
      "\n",
      "Recall: [0.80392157] ,   Precision: [0.00112529] ,   Aging Rate: [0.74893626]\n",
      "\n",
      " Dataset 3:\n",
      "Best Threshold: 0.28048578432319465 \n",
      "\n",
      "Recall: [0.80392157] ,   Precision: [0.00107069] ,   Aging Rate: [0.7871282]\n",
      "\n",
      " Dataset 4:\n",
      "Best Threshold: 0.25983897589555194 \n",
      "\n",
      "Recall: [0.80392157] ,   Precision: [0.00107533] ,   Aging Rate: [0.78373656]\n",
      "\n",
      " Dataset 5:\n",
      "Best Threshold: 0.253128085597964 \n",
      "\n",
      "Recall: [0.80392157] ,   Precision: [0.00113001] ,   Aging Rate: [0.74581184]\n",
      "\n",
      " Dataset 6:\n",
      "Best Threshold: 0.2860380226184131 \n",
      "\n",
      "Recall: [0.80392157] ,   Precision: [0.0011273] ,   Aging Rate: [0.74760016]\n",
      "\n",
      " Dataset 7:\n",
      "Best Threshold: 0.31920270143438034 \n",
      "\n",
      "Recall: [0.80392157] ,   Precision: [0.00122158] ,   Aging Rate: [0.68990113]\n",
      "\n",
      " Dataset 8:\n",
      "Best Threshold: 0.282982035365819 \n",
      "\n",
      "Recall: [0.80392157] ,   Precision: [0.00119474] ,   Aging Rate: [0.70539991]\n",
      "\n",
      " Dataset 9:\n",
      "Best Threshold: 0.16096051445054133 \n",
      "\n",
      "Recall: [0.80392157] ,   Precision: [0.00114512] ,   Aging Rate: [0.7359658]\n",
      "\n",
      " Dataset 0:\n",
      "Best Threshold: -0.0021493324056555694 \n",
      "\n",
      "Recall: [0.80392157] ,   Precision: [0.0011034] ,   Aging Rate: [0.76379782]\n",
      "\n",
      " Dataset 1:\n",
      "Best Threshold: 0.23062276610813937 \n",
      "\n",
      "Recall: [0.80392157] ,   Precision: [0.0010854] ,   Aging Rate: [0.77645995]\n",
      "\n",
      " Dataset 2:\n",
      "Best Threshold: 0.39902002774941087 \n",
      "\n",
      "Recall: [0.80392157] ,   Precision: [0.00124912] ,   Aging Rate: [0.67469013]\n",
      "\n",
      " Dataset 3:\n",
      "Best Threshold: 0.308404128918299 \n",
      "\n",
      "Recall: [0.80392157] ,   Precision: [0.00106988] ,   Aging Rate: [0.78772431]\n",
      "\n",
      " Dataset 4:\n",
      "Best Threshold: 0.36214488502642994 \n",
      "\n",
      "Recall: [0.80392157] ,   Precision: [0.00120712] ,   Aging Rate: [0.6981644]\n",
      "\n",
      " Dataset 5:\n",
      "Best Threshold: 0.09962583932139302 \n",
      "\n",
      "Recall: [0.80392157] ,   Precision: [0.00106077] ,   Aging Rate: [0.79448704]\n",
      "\n",
      " Dataset 6:\n",
      "Best Threshold: 0.21728209066777215 \n",
      "\n",
      "Recall: [0.80392157] ,   Precision: [0.00109705] ,   Aging Rate: [0.76821723]\n",
      "\n",
      " Dataset 7:\n",
      "Best Threshold: 0.2637396760826557 \n",
      "\n",
      "Recall: [0.80392157] ,   Precision: [0.00121676] ,   Aging Rate: [0.692635]\n",
      "\n",
      " Dataset 8:\n",
      "Best Threshold: 0.25106939609672263 \n",
      "\n",
      "Recall: [0.80392157] ,   Precision: [0.00116789] ,   Aging Rate: [0.72161812]\n",
      "\n",
      " Dataset 9:\n",
      "Best Threshold: 0.3066225640107163 \n",
      "\n",
      "Recall: [0.80392157] ,   Precision: [0.00127294] ,   Aging Rate: [0.66206911]\n",
      "\n",
      " Dataset 0:\n",
      "Best Threshold: 0.02178302168079397 \n",
      "\n",
      "Recall: [0.8627451] ,   Precision: [0.00108318] ,   Aging Rate: [0.83498119]\n",
      "\n",
      " Dataset 1:\n",
      "Best Threshold: 0.3786880549985677 \n",
      "\n",
      "Recall: [0.82352941] ,   Precision: [0.0011857] ,   Aging Rate: [0.72811363]\n",
      "\n",
      " Dataset 2:\n",
      "Best Threshold: 0.46673387096774194 \n",
      "\n",
      "Recall: [0.80392157] ,   Precision: [0.00121579] ,   Aging Rate: [0.69318999]\n",
      "\n",
      " Dataset 3:\n",
      "Best Threshold: 0.2968253968253968 \n",
      "\n",
      "Recall: [0.80392157] ,   Precision: [0.00116753] ,   Aging Rate: [0.72184423]\n",
      "\n",
      " Dataset 4:\n"
     ]
    },
    {
     "name": "stdout",
     "output_type": "stream",
     "text": [
      "Best Threshold: 0.48484848484848486 \n",
      "\n",
      "Recall: [0.80392157] ,   Precision: [0.00130807] ,   Aging Rate: [0.64428868]\n",
      "\n",
      " Dataset 5:\n",
      "Best Threshold: 0.37397179788484136 \n",
      "\n",
      "Recall: [0.84313725] ,   Precision: [0.00114359] ,   Aging Rate: [0.77290386]\n",
      "\n",
      " Dataset 6:\n",
      "Best Threshold: 0.42944444444444446 \n",
      "\n",
      "Recall: [0.80392157] ,   Precision: [0.00128374] ,   Aging Rate: [0.65649859]\n",
      "\n",
      " Dataset 7:\n",
      "Best Threshold: 0.179405180684362 \n",
      "\n",
      "Recall: [1.] ,   Precision: [0.00104833] ,   Aging Rate: [1.]\n",
      "\n",
      " Dataset 8:\n",
      "Best Threshold: 0.4953422438234103 \n",
      "\n",
      "Recall: [0.80392157] ,   Precision: [0.00117233] ,   Aging Rate: [0.71888425]\n",
      "\n",
      " Dataset 9:\n",
      "Best Threshold: 0.2864321608040201 \n",
      "\n",
      "Recall: [0.80392157] ,   Precision: [0.00118961] ,   Aging Rate: [0.70844211]\n",
      "\n",
      " Dataset 0:\n",
      "Best Threshold: 0.0214240490083677 \n",
      "\n",
      "Recall: [0.8627451] ,   Precision: [0.00106905] ,   Aging Rate: [0.84601945]\n",
      "\n",
      " Dataset 1:\n",
      "Best Threshold: 0.3572557698387607 \n",
      "\n",
      "Recall: [0.82352941] ,   Precision: [0.00111569] ,   Aging Rate: [0.7738083]\n",
      "\n",
      " Dataset 2:\n",
      "Best Threshold: 0.4601990049751244 \n",
      "\n",
      "Recall: [0.80392157] ,   Precision: [0.00121973] ,   Aging Rate: [0.69094945]\n",
      "\n",
      " Dataset 3:\n",
      "Best Threshold: 0.3201311117181098 \n",
      "\n",
      "Recall: [0.84313725] ,   Precision: [0.00106761] ,   Aging Rate: [0.82791013]\n",
      "\n",
      " Dataset 4:\n",
      "Best Threshold: 0.34120982986767484 \n",
      "\n",
      "Recall: [0.82352941] ,   Precision: [0.00109807] ,   Aging Rate: [0.78622377]\n",
      "\n",
      " Dataset 5:\n",
      "Best Threshold: 0.3776595744680851 \n",
      "\n",
      "Recall: [0.82352941] ,   Precision: [0.00115299] ,   Aging Rate: [0.74877181]\n",
      "\n",
      " Dataset 6:\n",
      "Best Threshold: 0.40077014218009477 \n",
      "\n",
      "Recall: [0.80392157] ,   Precision: [0.0011564] ,   Aging Rate: [0.72879196]\n",
      "\n",
      " Dataset 7:\n",
      "Best Threshold: 0.28583690987124466 \n",
      "\n",
      "Recall: [1.] ,   Precision: [0.00104833] ,   Aging Rate: [1.]\n",
      "\n",
      " Dataset 8:\n",
      "Best Threshold: 0.4447513812154696 \n",
      "\n",
      "Recall: [0.80392157] ,   Precision: [0.00116812] ,   Aging Rate: [0.72147423]\n",
      "\n",
      " Dataset 9:\n",
      "Best Threshold: 0.20618556701030927 \n",
      "\n",
      "Recall: [0.80392157] ,   Precision: [0.00119705] ,   Aging Rate: [0.70404325]\n",
      "\n",
      " Dataset 0:\n",
      "Best Threshold: 0.0007789592332977161 \n",
      "\n",
      "Recall: [0.80392157] ,   Precision: [0.00102741] ,   Aging Rate: [0.82028408]\n",
      "\n",
      " Dataset 1:\n",
      "Best Threshold: 0.04579575385328533 \n",
      "\n",
      "Recall: [0.80392157] ,   Precision: [0.00101608] ,   Aging Rate: [0.82943123]\n",
      "\n",
      " Dataset 2:\n",
      "Best Threshold: 0.2711047592881439 \n",
      "\n",
      "Recall: [0.80392157] ,   Precision: [0.00111638] ,   Aging Rate: [0.75491788]\n",
      "\n",
      " Dataset 3:\n",
      "Best Threshold: 0.0652845508762571 \n",
      "\n",
      "Recall: [0.90196078] ,   Precision: [0.00108342] ,   Aging Rate: [0.87274147]\n",
      "\n",
      " Dataset 4:\n",
      "Best Threshold: 0.19813893558970436 \n",
      "\n",
      "Recall: [0.80392157] ,   Precision: [0.00109034] ,   Aging Rate: [0.77294497]\n",
      "\n",
      " Dataset 5:\n",
      "Best Threshold: 0.0730193698756031 \n",
      "\n",
      "Recall: [0.80392157] ,   Precision: [0.00101005] ,   Aging Rate: [0.83438508]\n",
      "\n",
      " Dataset 6:\n",
      "Best Threshold: 0.1661056795463735 \n",
      "\n",
      "Recall: [0.80392157] ,   Precision: [0.00103855] ,   Aging Rate: [0.81148636]\n",
      "\n",
      " Dataset 7:\n",
      "Best Threshold: 0.09739795366951393 \n",
      "\n",
      "Recall: [0.80392157] ,   Precision: [0.00113182] ,   Aging Rate: [0.74461962]\n",
      "\n",
      " Dataset 8:\n",
      "Best Threshold: 0.348286586312475 \n",
      "\n",
      "Recall: [0.80392157] ,   Precision: [0.00127873] ,   Aging Rate: [0.65906802]\n",
      "\n",
      " Dataset 9:\n",
      "Best Threshold: 0.22019762845849805 \n",
      "\n",
      "Recall: [0.80392157] ,   Precision: [0.00113993] ,   Aging Rate: [0.73931633]\n",
      "\n",
      " Dataset 0:\n",
      "Best Threshold: 3.3433628532450055e-05 \n",
      "\n",
      "Recall: [0.80392157] ,   Precision: [0.00106419] ,   Aging Rate: [0.79193817]\n",
      "\n",
      " Dataset 1:\n",
      "Best Threshold: 0.052610444988734476 \n",
      "\n",
      "Recall: [0.80392157] ,   Precision: [0.00099728] ,   Aging Rate: [0.8450739]\n",
      "\n",
      " Dataset 2:\n",
      "Best Threshold: 0.27761002438105886 \n",
      "\n",
      "Recall: [0.80392157] ,   Precision: [0.00111483] ,   Aging Rate: [0.75596621]\n",
      "\n",
      " Dataset 3:\n",
      "Best Threshold: 0.06912533594456981 \n",
      "\n",
      "Recall: [0.88235294] ,   Precision: [0.00108183] ,   Aging Rate: [0.85502271]\n",
      "\n",
      " Dataset 4:\n",
      "Best Threshold: 0.19811616178337843 \n",
      "\n",
      "Recall: [0.80392157] ,   Precision: [0.00109263] ,   Aging Rate: [0.7713211]\n",
      "\n",
      " Dataset 5:\n",
      "Best Threshold: 0.061288888888888886 \n",
      "\n",
      "Recall: [0.80392157] ,   Precision: [0.00099959] ,   Aging Rate: [0.84312113]\n",
      "\n",
      " Dataset 6:\n",
      "Best Threshold: 0.16645039223254093 \n",
      "\n",
      "Recall: [0.80392157] ,   Precision: [0.00105632] ,   Aging Rate: [0.79783757]\n",
      "\n",
      " Dataset 7:\n",
      "Best Threshold: 0.062091416165148156 \n",
      "\n",
      "Recall: [0.80392157] ,   Precision: [0.00118896] ,   Aging Rate: [0.70883266]\n",
      "\n",
      " Dataset 8:\n",
      "Best Threshold: 0.369015919840382 \n",
      "\n",
      "Recall: [0.80392157] ,   Precision: [0.0012924] ,   Aging Rate: [0.65209973]\n",
      "\n",
      " Dataset 9:\n",
      "Best Threshold: 0.25 \n",
      "\n",
      "Recall: [0.80392157] ,   Precision: [0.00118903] ,   Aging Rate: [0.70879155]\n",
      "\n",
      " Dataset 0:\n",
      "Best Threshold: 0.0 \n",
      "\n",
      "Recall: [1.] ,   Precision: [0.00104833] ,   Aging Rate: [1.]\n",
      "\n",
      " Dataset 1:\n",
      "Best Threshold: 0.15674544813358404 \n",
      "\n",
      "Recall: [0.80392157] ,   Precision: [0.00106997] ,   Aging Rate: [0.78766264]\n",
      "\n",
      " Dataset 2:\n",
      "Best Threshold: 0.04000000000000003 \n",
      "\n",
      "Recall: [0.8627451] ,   Precision: [0.0010064] ,   Aging Rate: [0.8986824]\n",
      "\n",
      " Dataset 3:\n",
      "Best Threshold: 0.13822935500693903 \n",
      "\n",
      "Recall: [0.80392157] ,   Precision: [0.00105869] ,   Aging Rate: [0.79604925]\n",
      "\n",
      " Dataset 4:\n",
      "Best Threshold: 0.0 \n",
      "\n",
      "Recall: [1.] ,   Precision: [0.00104833] ,   Aging Rate: [1.]\n",
      "\n",
      " Dataset 5:\n",
      "Best Threshold: 0.213652145330754 \n",
      "\n",
      "Recall: [0.80392157] ,   Precision: [0.00108652] ,   Aging Rate: [0.77565829]\n",
      "\n",
      " Dataset 6:\n",
      "Best Threshold: 0.07567185289957495 \n",
      "\n",
      "Recall: [0.80392157] ,   Precision: [0.00095929] ,   Aging Rate: [0.8785381]\n",
      "\n",
      " Dataset 7:\n",
      "Best Threshold: 0.22256681112035476 \n",
      "\n",
      "Recall: [0.80392157] ,   Precision: [0.00120161] ,   Aging Rate: [0.70137105]\n",
      "\n",
      " Dataset 8:\n",
      "Best Threshold: 0.0 \n",
      "\n",
      "Recall: [1.] ,   Precision: [0.00104833] ,   Aging Rate: [1.]\n",
      "\n",
      " Dataset 9:\n",
      "Best Threshold: 0.0 \n",
      "\n",
      "Recall: [1.] ,   Precision: [0.00104833] ,   Aging Rate: [1.]\n",
      "\n",
      " Dataset 0:\n",
      "Best Threshold: 0.0 \n",
      "\n",
      "Recall: [1.] ,   Precision: [0.00104833] ,   Aging Rate: [1.]\n",
      "\n",
      " Dataset 1:\n",
      "Best Threshold: 0.16504375415464945 \n",
      "\n",
      "Recall: [0.80392157] ,   Precision: [0.00104132] ,   Aging Rate: [0.80932804]\n",
      "\n",
      " Dataset 2:\n",
      "Best Threshold: 0.0 \n",
      "\n",
      "Recall: [1.] ,   Precision: [0.00104833] ,   Aging Rate: [1.]\n",
      "\n",
      " Dataset 3:\n",
      "Best Threshold: 0.17732578810535155 \n",
      "\n",
      "Recall: [0.80392157] ,   Precision: [0.00103918] ,   Aging Rate: [0.81099303]\n",
      "\n",
      " Dataset 4:\n",
      "Best Threshold: 0.0 \n",
      "\n",
      "Recall: [1.] ,   Precision: [0.00104833] ,   Aging Rate: [1.]\n",
      "\n",
      " Dataset 5:\n",
      "Best Threshold: 0.1989800072433586 \n",
      "\n",
      "Recall: [0.80392157] ,   Precision: [0.00106621] ,   Aging Rate: [0.79043762]\n",
      "\n",
      " Dataset 6:\n",
      "Best Threshold: 0.07567185289957502 \n",
      "\n",
      "Recall: [0.82352941] ,   Precision: [0.00097355] ,   Aging Rate: [0.88678082]\n",
      "\n",
      " Dataset 7:\n",
      "Best Threshold: 0.17108326707468308 \n",
      "\n",
      "Recall: [0.80392157] ,   Precision: [0.00112678] ,   Aging Rate: [0.7479496]\n",
      "\n",
      " Dataset 8:\n",
      "Best Threshold: 0.04726536124240375 \n",
      "\n",
      "Recall: [0.80392157] ,   Precision: [0.00112474] ,   Aging Rate: [0.74930626]\n",
      "\n",
      " Dataset 9:\n",
      "Best Threshold: 0.0 \n",
      "\n",
      "Recall: [1.] ,   Precision: [0.00104833] ,   Aging Rate: [1.]\n"
     ]
    }
   ],
   "source": [
    "hyper_infoR = {\n",
    "    'num_set': 10,\n",
    "    'date': '20210928',\n",
    "    'model_list': ['LightGBM', 'XGBoost', 'CatBoost', 'AdaBoost', 'RandomForest', 'ExtraTrees'],\n",
    "    'iter_list': [200, 200, 200, 25, 50, 50],\n",
    "    'filename': 'runhist_array_m2m5_4selection',\n",
    "    'mode': 'R',\n",
    "    'sampler_list': ['univariate-TPE', 'multivariate-TPE']\n",
    "}\n",
    "\n",
    "output_hyper = tableau_hyper(**hyper_infoR)\n",
    "        \n",
    "table_7 = tableau_regressor(output_hyper, 10, trainset_x, trainset_y, run_test_x, run_test_y, 'Recall', threshold = 0.7)\n",
    "table_8 = tableau_regressor(output_hyper, 10, trainset_x, trainset_y, run_test_x, run_test_y, 'Recall', threshold = 0.8)"
   ]
  },
  {
   "cell_type": "markdown",
   "metadata": {},
   "source": [
    "### Combine & output"
   ]
  },
  {
   "cell_type": "code",
   "execution_count": 18,
   "metadata": {
    "ExecuteTime": {
     "end_time": "2021-09-27T09:18:18.523762Z",
     "start_time": "2021-09-27T09:18:18.253754Z"
    }
   },
   "outputs": [],
   "source": [
    "with pd.ExcelWriter(f'{hyper_infoC[\"filename\"]}_result_table.xlsx') as writer :  \n",
    "    table_C.to_excel(writer, sheet_name = 'classifier')\n",
    "    table_7.to_excel(writer, sheet_name = 'regressor_7')\n",
    "    table_8.to_excel(writer, sheet_name = 'regressor_8')"
   ]
  }
 ],
 "metadata": {
  "hide_input": false,
  "kernelspec": {
   "display_name": "Python [conda env:aging]",
   "language": "python",
   "name": "conda-env-aging-py"
  },
  "language_info": {
   "codemirror_mode": {
    "name": "ipython",
    "version": 3
   },
   "file_extension": ".py",
   "mimetype": "text/x-python",
   "name": "python",
   "nbconvert_exporter": "python",
   "pygments_lexer": "ipython3",
   "version": "3.7.10"
  },
  "toc": {
   "base_numbering": 1,
   "nav_menu": {},
   "number_sections": true,
   "sideBar": true,
   "skip_h1_title": false,
   "title_cell": "Table of Contents",
   "title_sidebar": "Contents",
   "toc_cell": false,
   "toc_position": {
    "height": "calc(100% - 180px)",
    "left": "10px",
    "top": "150px",
    "width": "275.2px"
   },
   "toc_section_display": true,
   "toc_window_display": true
  },
  "varInspector": {
   "cols": {
    "lenName": 16,
    "lenType": 16,
    "lenVar": 40
   },
   "kernels_config": {
    "python": {
     "delete_cmd_postfix": "",
     "delete_cmd_prefix": "del ",
     "library": "var_list.py",
     "varRefreshCmd": "print(var_dic_list())"
    },
    "r": {
     "delete_cmd_postfix": ") ",
     "delete_cmd_prefix": "rm(",
     "library": "var_list.r",
     "varRefreshCmd": "cat(var_dic_list()) "
    }
   },
   "types_to_exclude": [
    "module",
    "function",
    "builtin_function_or_method",
    "instance",
    "_Feature"
   ],
   "window_display": false
  }
 },
 "nbformat": 4,
 "nbformat_minor": 4
}
