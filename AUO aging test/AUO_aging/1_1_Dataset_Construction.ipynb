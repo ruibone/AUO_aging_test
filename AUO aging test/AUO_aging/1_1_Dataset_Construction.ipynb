{
 "cells": [
  {
   "cell_type": "code",
   "execution_count": 3,
   "metadata": {},
   "outputs": [
    {
     "data": {
      "text/plain": [
       "'C:\\\\Users\\\\Darui Yen\\\\OneDrive\\\\桌面\\\\data_after_mid'"
      ]
     },
     "execution_count": 3,
     "metadata": {},
     "output_type": "execute_result"
    }
   ],
   "source": [
    "import os\n",
    "import time\n",
    "import itertools\n",
    "import numpy as np\n",
    "import pandas as pd\n",
    "import matplotlib.pyplot as plt\n",
    "\n",
    "os.chdir('C:/Users/Darui Yen/OneDrive/桌面/data_after_mid')\n",
    "os.getcwd()"
   ]
  },
  {
   "cell_type": "markdown",
   "metadata": {},
   "source": [
    "### Preprocessing and combining 5 raw dataframe "
   ]
  },
  {
   "cell_type": "code",
   "execution_count": 40,
   "metadata": {},
   "outputs": [],
   "source": [
    "def array_f(array_repair):\n",
    "\n",
    "    ## reorder cols\n",
    "    cols = array_repair.columns.tolist() #store colnames\n",
    "    cols = cols[3:4]+cols[1:3] #select id, tool_id(2), dft_mode(7)\n",
    "    array_repair=array_repair[cols] #discard chip_id, rp_end_time\n",
    "\n",
    "    ## dummy tool & dft (同一個 ID 中只要有用到就是1 沒有就是0)\n",
    "    array_repair_dummy = pd.get_dummies(array_repair, columns = ['tool_id', 'dft_mode'])\n",
    "    array_repair_dummy = array_repair_dummy.groupby(['id']).max().reset_index() #order by id\n",
    "    \n",
    "    return array_repair_dummy\n",
    "\n",
    "\n",
    "def cell_test_f(cell_test):\n",
    "    \n",
    "    ## delete the tft_chip_id\n",
    "    cols = cell_test.columns.tolist()\n",
    "    cols = cols[-1:] + cols[1:3] \n",
    "    cell_test = cell_test[cols] # select id, test_user(1) and grade(7)\n",
    "\n",
    "    ## dummy test_user & grade\n",
    "    cell_test_dummy = pd.get_dummies(cell_test, columns = ['test_user', 'grade'])\n",
    "    cell_test_dummy = cell_test_dummy.groupby(['id']).max().reset_index()\n",
    "    \n",
    "    return cell_test_dummy\n",
    "\n",
    "\n",
    "def cell_repair_f(cell_repair):\n",
    "    \n",
    "    # delete the tft_chip_id and reorder\n",
    "    cell_repair = cell_repair.iloc[:,2:] # discard tft_chip_id & product_code\n",
    "    cols = cell_repair.columns.tolist()\n",
    "    cols = cols[-1:] + cols[0:-2] # discard rework_time\n",
    "    cell_repair = cell_repair[cols] # select id, eqp_id(2) and test_defect_code_desc(33)\n",
    "\n",
    "    ## dummy eqp_id and test_defect_code_desc\n",
    "    cell_repair_dummy = pd.get_dummies(cell_repair, columns = ['eqp_id', 'test_defect_code_desc'])\n",
    "    cell_repair_dummy = cell_repair_dummy.groupby(['id']).max().reset_index()\n",
    "\n",
    "    return cell_repair_dummy\n",
    "\n",
    "\n",
    "def risk_db_f(risk_db):\n",
    "    \n",
    "    cols = risk_db.columns.tolist()\n",
    "    cols = cols[-1:] + cols[-2:-1] + cols[0:2] # only reorder\n",
    "    risk_db = risk_db[cols] # select id, lot_no, event_name(15) and process_stage(4)\n",
    "\n",
    "    ## dummy stage_event\n",
    "    risk_db['Stage_Event'] = risk_db['process_stage'].str.cat(risk_db[['event_name']], sep=' - ') # combine two variable\n",
    "    risk_db = risk_db[['id', 'Stage_Event']] # only keep id and stage_event(16)\n",
    "    risk_dummy = pd.get_dummies(risk_db, columns = ['Stage_Event'])\n",
    "    risk_dummy = risk_dummy.groupby(['id']).max().reset_index()\n",
    "    \n",
    "    return risk_dummy\n",
    "\n",
    "\n",
    "def module_f(Module):\n",
    "    \n",
    "    cols = Module.columns.tolist()\n",
    "    cols = cols[2:5]+cols[1:2] # discard lot_no & cell_chip_id\n",
    "    Module = Module[cols] # select shift_date, id, model_no(17) & GB\n",
    "\n",
    "    ## dummy model_no\n",
    "    Module_dummy = pd.get_dummies(Module, columns = ['model_no'])\n",
    "    Module_dummy = Module_dummy.groupby(['id']).max().reset_index() #take a long while\n",
    "\n",
    "    ## reorder\n",
    "    cols = Module_dummy.columns.tolist()\n",
    "    cols = cols[3:] + cols[0:3]\n",
    "    Module_dummy = Module_dummy[cols]\n",
    "   \n",
    "    return Module_dummy\n",
    "\n",
    "\n",
    "def runhist_array_f(runhist_array, id_mapping, combine = False):\n",
    "    \n",
    "    new_array = runhist_array.merge(id_mapping, on = 'sheet_id', how = 'left') # all sheet_id in runhist_array are kept\n",
    "    col = new_array.columns.tolist()\n",
    "    col = col[5:6] + col[1:4] # discard lot_no\n",
    "    new_array = new_array[col]\n",
    "    new_array['new_eqp'] = [x.split('_')[0] for x in new_array.eqp_id_info]\n",
    "    new_array = new_array.drop(columns = ['create_time', 'eqp_id_info'])\n",
    "    \n",
    "    if combine == False:\n",
    "        array_dummy = pd.get_dummies(new_array, columns = ['new_eqp', 'op_id_info']) # eqp_id_info(348/57), op_id_info(54)\n",
    "        array_dummy = array_dummy.groupby(['id']).max().reset_index()\n",
    "    \n",
    "    elif combine == True:\n",
    "        new_array['op_eqp'] = new_array.op_id_info + '_' + new_array.new_eqp\n",
    "        pair_array = new_array.drop(columns = ['op_id_info', 'new_eqp'])\n",
    "        array_dummy = pd.get_dummies(pair_array, columns = ['op_eqp'])\n",
    "        array_dummy = array_dummy.groupby(['id']).max().reset_index()\n",
    "    \n",
    "    return array_dummy \n",
    "\n",
    "\n",
    "def runhist_cell_f(runhist_cell, id_mapping):\n",
    "    \n",
    "    new_cell = runhist_cell.merge(id_mapping.iloc[:,1:], on = 'sheet_id', how = 'left') # combine only id\n",
    "    col = new_cell.columns.tolist()\n",
    "    col = col[4:5] + col[1:3] # discard sheet_id, create_time\n",
    "    new_cell = new_cell[col]\n",
    "\n",
    "    cell_dummy = pd.get_dummies(new_cell, columns = ['eqp_id_info', 'op_id_info'])\n",
    "    cell_dummy = cell_dummy.groupby(['id']).max().reset_index()\n",
    "    \n",
    "    return cell_dummy\n",
    "\n",
    "\n",
    "def DataSet_Sorted(array_repair, cell_test, cell_repair, risk_db, Module, id_mapping, runhist_array, runhist_cell):\n",
    "    \n",
    "    #global DataSet\n",
    "    pd.options.mode.chained_assignment = None\n",
    "    \n",
    "    cell_test_dummy = cell_test_f(cell_test)\n",
    "    cell_repair_dummy = cell_repair_f(cell_repair)\n",
    "    risk_dummy = risk_db_f(risk_db)\n",
    "    array_repair_dummy = array_f(array_repair)\n",
    "    Module_dummy = module_f(Module)\n",
    "    runhist_array_dummy = runhist_array_f(runhist_array, id_mapping)\n",
    "\n",
    "    #merge data\n",
    "    CTC = cell_test_dummy.merge(cell_repair_dummy, how = 'outer', on = 'id')\n",
    "    CTCR = CTC.merge(risk_dummy, how = 'outer',on = 'id')\n",
    "    CTCRA = CTCR.merge(array_repair_dummy, how = 'inner',on = 'id')\n",
    "    CTCRAM = CTCRA.merge(Module_dummy, how = 'inner', on = 'id')\n",
    "    CTCRAMA = CTCRAM.merge(runhist_array, how = 'left', on = 'id')\n",
    "    DataSet = CTCRAMA.merge(runhist_cell, how = 'left', on = 'id').fillna(0)\n",
    "    \n",
    "    #drop not unique columns\n",
    "    cols = DataSet.columns[DataSet.nunique() == 1]\n",
    "    DataSet = DataSet.drop(cols, axis = 1)\n",
    "    \n",
    "    return DataSet"
   ]
  },
  {
   "cell_type": "markdown",
   "metadata": {},
   "source": [
    "### Dividing train & test data (by date)"
   ]
  },
  {
   "cell_type": "code",
   "execution_count": 5,
   "metadata": {},
   "outputs": [],
   "source": [
    "def Train_Test(DataSet, y_1 = 2021, m_1 = 1, d_1 = 31, y_2 = 2021, m_2 = 3, d_2 = 31):\n",
    "    \n",
    "    data = DataSet.copy()\n",
    "    \n",
    "    date = data['shift_date'].str.split(\"/\",expand = True) # divide day, month and year\n",
    "    date = date.astype(int)\n",
    "    date.columns = ['month', 'day', 'year']\n",
    "    DataSet_split = pd.concat([data,date], axis = 1) #combine with original dataframe\n",
    "    DataSet_split = DataSet_split.drop('shift_date', axis = 1)  \n",
    "    DataSet_split = DataSet_split.sort_values(by = ['year', 'month', 'day'])\n",
    "    DataSet_split = DataSet_split.reset_index(drop = True)\n",
    "    count_1 = DataSet_split[(DataSet_split.year==y_1)&(DataSet_split.month==m_1)&(DataSet_split.day<=d_1)].tail(1).index.item()\n",
    "    count_2 = DataSet_split[(DataSet_split.year==y_2)&(DataSet_split.month==m_2)&(DataSet_split.day<=d_2)].tail(1).index.item()\n",
    "    # search for counts of target date interval\n",
    "    TrainingSet_0 = DataSet_split.iloc[:count_1+1, :-3]\n",
    "    TestingSet_0 = DataSet_split.iloc[count_1+1:count_2+1, :-3]\n",
    "    \n",
    "    return TrainingSet_0, TestingSet_0, DataSet_split"
   ]
  },
  {
   "cell_type": "markdown",
   "metadata": {},
   "source": [
    "### Viewing bad data\n",
    "1. number of bad types, mean of each type, data counts in each type (in 'Bad_Types')\n",
    "2. record all variable-combination of bad types (in 'Bad')\n",
    "3. print out the id of all bad types in each month "
   ]
  },
  {
   "cell_type": "code",
   "execution_count": 6,
   "metadata": {},
   "outputs": [],
   "source": [
    "def Balance_Ratio(data, label = 'GB', n = 5):\n",
    "    \n",
    "    r = len(data[data[label] == 0]) / len(data[data[label] == 1])\n",
    "    r = np.around(r, decimals = n)\n",
    "    \n",
    "    return r\n",
    "\n",
    "\n",
    "def Bad_Type_def(DataSet_All, label = 'GB'):\n",
    "    \n",
    "    Data = DataSet_All.copy()\n",
    "    Data['cb'] = Data[Data.columns[1:-1]].apply(lambda x:'_'.join(x.astype(str)), axis = 1) #join all the variable into a string\n",
    "    Data[f'{label}_mean'] = Data.groupby('cb')[label].transform('mean') \n",
    "    #calculate mean of GB based on 'cb' variable each data possesses\n",
    "    Data[f'{label}_count'] = Data.groupby('cb')[label].transform('count') # calculate data numbers share the same 'cb' variable\n",
    "    Data['Bad_count'] = Data.groupby('cb')[label].transform('sum') # calculate #bad data (baesd on GB) \n",
    "    All_Bad = Data[Data[label] == 1]\n",
    "    print('Number of Bad:', len(All_Bad))\n",
    "    All_Bad = All_Bad.sort_values(['Bad_count', f'{label}_mean'], ascending = [False, False])\n",
    "    Bad_Types = All_Bad.drop_duplicates(subset = 'cb')\n",
    "    Bad_Types = Bad_Types[['cb', f'{label}_mean', 'Bad_count']].reset_index(drop = True) \n",
    "    # bad type number based on how many kinds of'cb' \n",
    "    print('Types of Bad:', len(Bad_Types), '\\n')\n",
    "    \n",
    "    return Bad_Types\n",
    "\n",
    "\n",
    "def TypeOfBad(df, Bad_Types, sorting = True, label = 'GB'):\n",
    "    \n",
    "    Set_Bad = df[df[label] == 1]\n",
    "    Bad = []\n",
    "    for j in range(len(Set_Bad)):\n",
    "        Key = Set_Bad.iloc[:, 1:-1].apply(lambda x:'_'.join(x.astype(str)),axis = 1) # concatenate variables as a string\n",
    "        index = Bad_Types[Bad_Types['cb'] == Key.values[j]].index.item()\n",
    "        Bad.append(index)\n",
    "        if sorting: \n",
    "            Bad.sort() # sorting = True\n",
    "\n",
    "    print('Types of Bad :\\n',Bad,'\\n')\n",
    "    \n",
    "    return Bad\n",
    "\n",
    "    \n",
    "def Bad_Type_by_Time(DataSet_split, Bad_Types, label = 'GB'):\n",
    "    \n",
    "    data = DataSet_split\n",
    "    \n",
    "    TimeSeries = data.sort_values(['year', 'month', 'day']) ## BAD ID of each month\n",
    "    for i in TimeSeries['month'].unique():\n",
    "\n",
    "        print('Month',i,':\\n')\n",
    "        TS = TimeSeries[TimeSeries.month == i].iloc[:, :-3] #exclude day, month and year\n",
    "        TypeOfBad(TS, Bad_Types, sorting = False, label = label) # view id of bad type in each month"
   ]
  },
  {
   "cell_type": "markdown",
   "metadata": {},
   "source": [
    "## Data Processing\n",
    "1. read 7 raw data\n",
    "2. combine 7 dataframe \n",
    "3. split training & testing data by specific date  \n",
    "4. view variables in runhist_array\n",
    "5. identify bad data"
   ]
  },
  {
   "cell_type": "code",
   "execution_count": 7,
   "metadata": {
    "scrolled": true
   },
   "outputs": [
    {
     "name": "stdout",
     "output_type": "stream",
     "text": [
      "DataSet: (136298, 84)\n",
      "Array_repair: (610816, 5) \n",
      "Cell_test: (388895, 4) \n",
      "Cell_repair: (10854, 6) \n",
      "Risk_db: (582277, 4) \n",
      "Module: (212958, 6) \n",
      "Runhist_array: (2930416, 4) \n",
      "ID_mapping: (212958, 3) \n",
      "Runhist_cell: (2554745, 4)\n",
      "\n",
      "Run Time：7.699767 seconds\n"
     ]
    }
   ],
   "source": [
    "start = time.time()\n",
    "\n",
    "Module = pd.read_csv(\"original_data/Module_all.csv\").iloc[:,1:]\n",
    "risk_db = pd.read_csv(\"original_data/risk_db_all.csv\").iloc[:,1:]\n",
    "array_repair = pd.read_csv(\"original_data/array_repair_all.csv\").iloc[:,1:]\n",
    "cell_repair = pd.read_csv(\"original_data/cell_repair_all.csv\").iloc[:,1:]\n",
    "cell_test = pd.read_csv(\"original_data/cell_test_all.csv\").iloc[:,1:]\n",
    "\n",
    "runhist_array_m1 = pd.read_csv('ARRAY_RunHist/runhist_array_m1.csv')\n",
    "runhist_array_m2 = pd.read_csv('ARRAY_RunHist/runhist_array_m2m3.csv')\n",
    "runhist_array_m8 = pd.read_csv('ARRAY_RunHist/runhist_array_m8m9m10m11.csv')\n",
    "runhist_array_m12 = pd.read_csv('ARRAY_RunHist/runhist_array_m12.csv')\n",
    "id_mapping_m1 = pd.read_csv('ARRAY_RunHist/id_mapping_m1.csv')\n",
    "id_mapping_m2 = pd.read_csv('ARRAY_RunHist/id_mapping_m2m3.csv')\n",
    "id_mapping_m8 = pd.read_csv('ARRAY_RunHist/id_mapping_m8m9m10m11.csv')\n",
    "id_mapping_m12 = pd.read_csv('ARRAY_RunHist/id_mapping_m12.csv')\n",
    "runhist_cell_m1 = pd.read_csv('ARRAY_RunHist/runhist_cell_m1.csv')\n",
    "runhist_cell_m2 = pd.read_csv('ARRAY_RunHist/runhist_cell_m2m3.csv')\n",
    "runhist_cell_m8 = pd.read_csv('ARRAY_RunHist/runhist_cell_m8m9m10m11.csv')\n",
    "runhist_cell_m12 = pd.read_csv('ARRAY_RunHist/runhist_cell_m12.csv')\n",
    "\n",
    "DataSet = pd.read_csv(\"original_data/DataSet.csv\").iloc[:,1:]\n",
    "print('DataSet:', DataSet.shape)\n",
    "\n",
    "runhist_array = pd.concat([runhist_array_m8, runhist_array_m12, runhist_array_m1, runhist_array_m2])\n",
    "id_mapping = pd.concat([id_mapping_m8, id_mapping_m12, id_mapping_m1, id_mapping_m2])\n",
    "runhist_cell = pd.concat([runhist_cell_m8, runhist_cell_m12, runhist_cell_m1, runhist_cell_m2])\n",
    "\n",
    "print('Array_repair:', array_repair.shape,'\\nCell_test:',cell_test.shape, '\\nCell_repair:', cell_repair.shape, '\\nRisk_db:', \\\n",
    "      risk_db.shape, '\\nModule:', Module.shape, '\\nRunhist_array:', runhist_array.shape, '\\nID_mapping:', id_mapping.shape, \\\n",
    "     '\\nRunhist_cell:', runhist_cell.shape)\n",
    "\n",
    "end = time.time()\n",
    "print(\"\\nRun Time：%f seconds\" % (end - start))"
   ]
  },
  {
   "cell_type": "markdown",
   "metadata": {},
   "source": [
    "### Event data"
   ]
  },
  {
   "cell_type": "code",
   "execution_count": 91,
   "metadata": {
    "scrolled": true
   },
   "outputs": [
    {
     "name": "stdout",
     "output_type": "stream",
     "text": [
      "Dimension of Merged Data: (136298, 85) \n",
      "BR: 2033.29851\n",
      "\n",
      "Run Time：320.239666 seconds\n"
     ]
    }
   ],
   "source": [
    "start = time.time()\n",
    "\n",
    "DataSet = DataSet_Sorted(array_repair, cell_test, cell_repair, risk_db, Module, id_mapping, runhist_array)\n",
    "print('Dimension of Merged Data:', DataSet.shape, '\\nBR:', Balance_Ratio(DataSet))\n",
    "DataSet_All = DataSet.copy()\n",
    "DataSet_All = DataSet_All.drop('shift_date', axis = 1)\n",
    "\n",
    "end = time.time()\n",
    "print(\"\\nRun Time：%f seconds\" % (end - start))"
   ]
  },
  {
   "cell_type": "code",
   "execution_count": 13,
   "metadata": {
    "collapsed": true
   },
   "outputs": [
    {
     "ename": "KeyError",
     "evalue": "'shift_date'",
     "output_type": "error",
     "traceback": [
      "\u001b[1;31m---------------------------------------------------------------------------\u001b[0m",
      "\u001b[1;31mKeyError\u001b[0m                                  Traceback (most recent call last)",
      "\u001b[1;32m~\\Anaconda3\\lib\\site-packages\\pandas\\core\\indexes\\base.py\u001b[0m in \u001b[0;36mget_loc\u001b[1;34m(self, key, method, tolerance)\u001b[0m\n\u001b[0;32m   3080\u001b[0m             \u001b[1;32mtry\u001b[0m\u001b[1;33m:\u001b[0m\u001b[1;33m\u001b[0m\u001b[1;33m\u001b[0m\u001b[0m\n\u001b[1;32m-> 3081\u001b[1;33m                 \u001b[1;32mreturn\u001b[0m \u001b[0mself\u001b[0m\u001b[1;33m.\u001b[0m\u001b[0m_engine\u001b[0m\u001b[1;33m.\u001b[0m\u001b[0mget_loc\u001b[0m\u001b[1;33m(\u001b[0m\u001b[0mcasted_key\u001b[0m\u001b[1;33m)\u001b[0m\u001b[1;33m\u001b[0m\u001b[1;33m\u001b[0m\u001b[0m\n\u001b[0m\u001b[0;32m   3082\u001b[0m             \u001b[1;32mexcept\u001b[0m \u001b[0mKeyError\u001b[0m \u001b[1;32mas\u001b[0m \u001b[0merr\u001b[0m\u001b[1;33m:\u001b[0m\u001b[1;33m\u001b[0m\u001b[1;33m\u001b[0m\u001b[0m\n",
      "\u001b[1;32mpandas\\_libs\\index.pyx\u001b[0m in \u001b[0;36mpandas._libs.index.IndexEngine.get_loc\u001b[1;34m()\u001b[0m\n",
      "\u001b[1;32mpandas\\_libs\\index.pyx\u001b[0m in \u001b[0;36mpandas._libs.index.IndexEngine.get_loc\u001b[1;34m()\u001b[0m\n",
      "\u001b[1;32mpandas\\_libs\\hashtable_class_helper.pxi\u001b[0m in \u001b[0;36mpandas._libs.hashtable.PyObjectHashTable.get_item\u001b[1;34m()\u001b[0m\n",
      "\u001b[1;32mpandas\\_libs\\hashtable_class_helper.pxi\u001b[0m in \u001b[0;36mpandas._libs.hashtable.PyObjectHashTable.get_item\u001b[1;34m()\u001b[0m\n",
      "\u001b[1;31mKeyError\u001b[0m: 'shift_date'",
      "\nThe above exception was the direct cause of the following exception:\n",
      "\u001b[1;31mKeyError\u001b[0m                                  Traceback (most recent call last)",
      "\u001b[1;32m<ipython-input-13-cd2ae4f43485>\u001b[0m in \u001b[0;36m<module>\u001b[1;34m\u001b[0m\n\u001b[0;32m      1\u001b[0m \u001b[0mstart\u001b[0m \u001b[1;33m=\u001b[0m \u001b[0mtime\u001b[0m\u001b[1;33m.\u001b[0m\u001b[0mtime\u001b[0m\u001b[1;33m(\u001b[0m\u001b[1;33m)\u001b[0m\u001b[1;33m\u001b[0m\u001b[1;33m\u001b[0m\u001b[0m\n\u001b[0;32m      2\u001b[0m \u001b[1;33m\u001b[0m\u001b[0m\n\u001b[1;32m----> 3\u001b[1;33m \u001b[0mTrainingSet_0\u001b[0m\u001b[1;33m,\u001b[0m \u001b[0mTestingSet_0\u001b[0m\u001b[1;33m,\u001b[0m \u001b[0mDataSet_split\u001b[0m \u001b[1;33m=\u001b[0m \u001b[0mTrain_Test\u001b[0m\u001b[1;33m(\u001b[0m\u001b[0mDataSet\u001b[0m\u001b[1;33m)\u001b[0m\u001b[1;33m\u001b[0m\u001b[1;33m\u001b[0m\u001b[0m\n\u001b[0m\u001b[0;32m      4\u001b[0m print('TrainingSet_0:', TrainingSet_0.shape, ', Balance Ratio:', Balance_Ratio(TrainingSet_0), \\\n\u001b[0;32m      5\u001b[0m       '\\nTestingSet_0:', TestingSet_0.shape, ', Balance Ratio:', Balance_Ratio(TestingSet_0),'\\n')\n",
      "\u001b[1;32m<ipython-input-5-e8f0877aa694>\u001b[0m in \u001b[0;36mTrain_Test\u001b[1;34m(DataSet, y_1, m_1, d_1, y_2, m_2, d_2)\u001b[0m\n\u001b[0;32m      3\u001b[0m     \u001b[0mdata\u001b[0m \u001b[1;33m=\u001b[0m \u001b[0mDataSet\u001b[0m\u001b[1;33m.\u001b[0m\u001b[0mcopy\u001b[0m\u001b[1;33m(\u001b[0m\u001b[1;33m)\u001b[0m\u001b[1;33m\u001b[0m\u001b[1;33m\u001b[0m\u001b[0m\n\u001b[0;32m      4\u001b[0m \u001b[1;33m\u001b[0m\u001b[0m\n\u001b[1;32m----> 5\u001b[1;33m     \u001b[0mdate\u001b[0m \u001b[1;33m=\u001b[0m \u001b[0mdata\u001b[0m\u001b[1;33m[\u001b[0m\u001b[1;34m'shift_date'\u001b[0m\u001b[1;33m]\u001b[0m\u001b[1;33m.\u001b[0m\u001b[0mstr\u001b[0m\u001b[1;33m.\u001b[0m\u001b[0msplit\u001b[0m\u001b[1;33m(\u001b[0m\u001b[1;34m\"/\"\u001b[0m\u001b[1;33m,\u001b[0m\u001b[0mexpand\u001b[0m \u001b[1;33m=\u001b[0m \u001b[1;32mTrue\u001b[0m\u001b[1;33m)\u001b[0m \u001b[1;31m# divide day, month and year\u001b[0m\u001b[1;33m\u001b[0m\u001b[1;33m\u001b[0m\u001b[0m\n\u001b[0m\u001b[0;32m      6\u001b[0m     \u001b[0mdate\u001b[0m \u001b[1;33m=\u001b[0m \u001b[0mdate\u001b[0m\u001b[1;33m.\u001b[0m\u001b[0mastype\u001b[0m\u001b[1;33m(\u001b[0m\u001b[0mint\u001b[0m\u001b[1;33m)\u001b[0m\u001b[1;33m\u001b[0m\u001b[1;33m\u001b[0m\u001b[0m\n\u001b[0;32m      7\u001b[0m     \u001b[0mdate\u001b[0m\u001b[1;33m.\u001b[0m\u001b[0mcolumns\u001b[0m \u001b[1;33m=\u001b[0m \u001b[1;33m[\u001b[0m\u001b[1;34m'month'\u001b[0m\u001b[1;33m,\u001b[0m \u001b[1;34m'day'\u001b[0m\u001b[1;33m,\u001b[0m \u001b[1;34m'year'\u001b[0m\u001b[1;33m]\u001b[0m\u001b[1;33m\u001b[0m\u001b[1;33m\u001b[0m\u001b[0m\n",
      "\u001b[1;32m~\\Anaconda3\\lib\\site-packages\\pandas\\core\\frame.py\u001b[0m in \u001b[0;36m__getitem__\u001b[1;34m(self, key)\u001b[0m\n\u001b[0;32m   3022\u001b[0m             \u001b[1;32mif\u001b[0m \u001b[0mself\u001b[0m\u001b[1;33m.\u001b[0m\u001b[0mcolumns\u001b[0m\u001b[1;33m.\u001b[0m\u001b[0mnlevels\u001b[0m \u001b[1;33m>\u001b[0m \u001b[1;36m1\u001b[0m\u001b[1;33m:\u001b[0m\u001b[1;33m\u001b[0m\u001b[1;33m\u001b[0m\u001b[0m\n\u001b[0;32m   3023\u001b[0m                 \u001b[1;32mreturn\u001b[0m \u001b[0mself\u001b[0m\u001b[1;33m.\u001b[0m\u001b[0m_getitem_multilevel\u001b[0m\u001b[1;33m(\u001b[0m\u001b[0mkey\u001b[0m\u001b[1;33m)\u001b[0m\u001b[1;33m\u001b[0m\u001b[1;33m\u001b[0m\u001b[0m\n\u001b[1;32m-> 3024\u001b[1;33m             \u001b[0mindexer\u001b[0m \u001b[1;33m=\u001b[0m \u001b[0mself\u001b[0m\u001b[1;33m.\u001b[0m\u001b[0mcolumns\u001b[0m\u001b[1;33m.\u001b[0m\u001b[0mget_loc\u001b[0m\u001b[1;33m(\u001b[0m\u001b[0mkey\u001b[0m\u001b[1;33m)\u001b[0m\u001b[1;33m\u001b[0m\u001b[1;33m\u001b[0m\u001b[0m\n\u001b[0m\u001b[0;32m   3025\u001b[0m             \u001b[1;32mif\u001b[0m \u001b[0mis_integer\u001b[0m\u001b[1;33m(\u001b[0m\u001b[0mindexer\u001b[0m\u001b[1;33m)\u001b[0m\u001b[1;33m:\u001b[0m\u001b[1;33m\u001b[0m\u001b[1;33m\u001b[0m\u001b[0m\n\u001b[0;32m   3026\u001b[0m                 \u001b[0mindexer\u001b[0m \u001b[1;33m=\u001b[0m \u001b[1;33m[\u001b[0m\u001b[0mindexer\u001b[0m\u001b[1;33m]\u001b[0m\u001b[1;33m\u001b[0m\u001b[1;33m\u001b[0m\u001b[0m\n",
      "\u001b[1;32m~\\Anaconda3\\lib\\site-packages\\pandas\\core\\indexes\\base.py\u001b[0m in \u001b[0;36mget_loc\u001b[1;34m(self, key, method, tolerance)\u001b[0m\n\u001b[0;32m   3081\u001b[0m                 \u001b[1;32mreturn\u001b[0m \u001b[0mself\u001b[0m\u001b[1;33m.\u001b[0m\u001b[0m_engine\u001b[0m\u001b[1;33m.\u001b[0m\u001b[0mget_loc\u001b[0m\u001b[1;33m(\u001b[0m\u001b[0mcasted_key\u001b[0m\u001b[1;33m)\u001b[0m\u001b[1;33m\u001b[0m\u001b[1;33m\u001b[0m\u001b[0m\n\u001b[0;32m   3082\u001b[0m             \u001b[1;32mexcept\u001b[0m \u001b[0mKeyError\u001b[0m \u001b[1;32mas\u001b[0m \u001b[0merr\u001b[0m\u001b[1;33m:\u001b[0m\u001b[1;33m\u001b[0m\u001b[1;33m\u001b[0m\u001b[0m\n\u001b[1;32m-> 3083\u001b[1;33m                 \u001b[1;32mraise\u001b[0m \u001b[0mKeyError\u001b[0m\u001b[1;33m(\u001b[0m\u001b[0mkey\u001b[0m\u001b[1;33m)\u001b[0m \u001b[1;32mfrom\u001b[0m \u001b[0merr\u001b[0m\u001b[1;33m\u001b[0m\u001b[1;33m\u001b[0m\u001b[0m\n\u001b[0m\u001b[0;32m   3084\u001b[0m \u001b[1;33m\u001b[0m\u001b[0m\n\u001b[0;32m   3085\u001b[0m         \u001b[1;32mif\u001b[0m \u001b[0mtolerance\u001b[0m \u001b[1;32mis\u001b[0m \u001b[1;32mnot\u001b[0m \u001b[1;32mNone\u001b[0m\u001b[1;33m:\u001b[0m\u001b[1;33m\u001b[0m\u001b[1;33m\u001b[0m\u001b[0m\n",
      "\u001b[1;31mKeyError\u001b[0m: 'shift_date'"
     ]
    }
   ],
   "source": [
    "start = time.time()\n",
    "\n",
    "TrainingSet_0, TestingSet_0, DataSet_split = Train_Test(DataSet)\n",
    "print('TrainingSet_0:', TrainingSet_0.shape, ', Balance Ratio:', Balance_Ratio(TrainingSet_0), \\\n",
    "      '\\nTestingSet_0:', TestingSet_0.shape, ', Balance Ratio:', Balance_Ratio(TestingSet_0),'\\n')\n",
    "\n",
    "DataSet = pd.concat([TrainingSet_0, TestingSet_0])\n",
    "DataSet.to_csv('DataSet.csv')\n",
    "TrainingSet_0.to_csv('TrainingSet_0.csv')\n",
    "TestingSet_0.to_csv('TestingSet_0.csv')\n",
    "\n",
    "end = time.time()\n",
    "print(\"\\nRun Time：%f seconds\" % (end - start))"
   ]
  },
  {
   "cell_type": "code",
   "execution_count": 94,
   "metadata": {
    "collapsed": true
   },
   "outputs": [
    {
     "name": "stdout",
     "output_type": "stream",
     "text": [
      "Number of Bad: 67\n",
      "Types of Bad: 62 \n",
      "\n",
      "Month 8 :\n",
      "\n",
      "Types of Bad :\n",
      " [29, 12, 50, 35, 44] \n",
      "\n",
      "Month 9 :\n",
      "\n",
      "Types of Bad :\n",
      " [0, 14, 60, 16, 20, 30, 13, 47, 8] \n",
      "\n",
      "Month 10 :\n",
      "\n",
      "Types of Bad :\n",
      " [0, 18, 0, 54, 61, 34, 51, 59, 19, 41, 43] \n",
      "\n",
      "Month 11 :\n",
      "\n",
      "Types of Bad :\n",
      " [1, 32, 24, 31, 37, 56, 52, 26] \n",
      "\n",
      "Month 12 :\n",
      "\n",
      "Types of Bad :\n",
      " [25, 36, 28, 27, 38, 58, 1, 3, 57, 55, 3] \n",
      "\n",
      "Month 1 :\n",
      "\n",
      "Types of Bad :\n",
      " [21, 46, 9, 10, 53] \n",
      "\n",
      "Month 2 :\n",
      "\n",
      "Types of Bad :\n",
      " [4, 39, 17, 11, 5, 48] \n",
      "\n",
      "Month 3 :\n",
      "\n",
      "Types of Bad :\n",
      " [49, 40, 15, 6, 45, 33, 42, 22, 23, 2, 2, 7] \n",
      "\n",
      "\n",
      "TrainingSet:\n",
      "Types of Bad :\n",
      " [0, 0, 0, 1, 1, 3, 3, 8, 9, 10, 12, 13, 14, 16, 18, 19, 20, 21, 24, 25, 26, 27, 28, 29, 30, 31, 32, 34, 35, 36, 37, 38, 41, 43, 44, 46, 47, 50, 51, 52, 53, 54, 55, 56, 57, 58, 59, 60, 61] \n",
      "\n",
      "\n",
      "TestingSet:\n",
      "Types of Bad :\n",
      " [2, 2, 4, 5, 6, 7, 11, 15, 17, 22, 23, 33, 39, 40, 42, 45, 48, 49] \n",
      "\n"
     ]
    }
   ],
   "source": [
    "Bad_Types = Bad_Type_def(DataSet_All)\n",
    "Bad_Types.to_csv('Bad_Types.csv')\n",
    "\n",
    "Bad_Type_by_Time(DataSet_split, Bad_Types)\n",
    "print('\\nTrainingSet:')\n",
    "train_bad = TypeOfBad(TrainingSet_0, Bad_Types, sorting = True)\n",
    "print('\\nTestingSet:')\n",
    "test_bad = TypeOfBad(TestingSet_0, Bad_Types, sorting = True)"
   ]
  },
  {
   "cell_type": "markdown",
   "metadata": {},
   "source": [
    "### Runhist data"
   ]
  },
  {
   "cell_type": "code",
   "execution_count": 42,
   "metadata": {},
   "outputs": [],
   "source": [
    "#train_0 = pd.read_csv('original_data/TrainingSet_0.csv')\n",
    "#test_0 = pd.read_csv('original_data/TestingSet_0.csv')\n",
    "GB = DataSet[['GB', 'id']]\n",
    "array = runhist_array_f(runhist_array, id_mapping, combine = True)\n",
    "\n",
    "runhist = GB.merge(array, how = 'inner', on = 'id')\n",
    "cols = runhist.columns.to_list()\n",
    "cols = cols[1:] + cols[0:1]\n",
    "runhist = runhist[cols]\n",
    "\n",
    "#train_id = train_0[['id']]\n",
    "#test_id = test_0[['id']]\n",
    "#train_runhist = train_id.merge(runhist, how = 'left', on = 'id').fillna(0)\n",
    "#test_runhist = test_id.merge(runhist, how = 'left', on = 'id').fillna(0)\n",
    "#train_runhist.to_csv('train_runhist.csv')\n",
    "#test_runhist.to_csv('test_runhist.csv')"
   ]
  },
  {
   "cell_type": "code",
   "execution_count": 41,
   "metadata": {},
   "outputs": [
    {
     "data": {
      "text/plain": [
       "Text(0.5, 1.0, 'Distributuion of op_id_info')"
      ]
     },
     "execution_count": 41,
     "metadata": {},
     "output_type": "execute_result"
    },
    {
     "data": {
      "image/png": "[encoded data removed]",
      "text/plain": [
       "<Figure size 864x288 with 2 Axes>"
      ]
     },
     "metadata": {
      "needs_background": "light"
     },
     "output_type": "display_data"
    },
    {
     "data": {
      "image/png": "[encoded data removed]",
      "text/plain": [
       "<Figure size 864x288 with 2 Axes>"
      ]
     },
     "metadata": {
      "needs_background": "light"
     },
     "output_type": "display_data"
    }
   ],
   "source": [
    "# array = runhist_array_f(runhist_array, id_mapping)\n",
    "variable = runhist.iloc[:,1:].drop(columns = 'GB').apply(np.mean, axis = 0)\n",
    "eqp1 = variable[:57]\n",
    "op1 = variable[57:111]\n",
    "eqp2 = variable[111:686]\n",
    "op2 = variable[686:]\n",
    "\n",
    "fig, axs = plt.subplots(1, 2, figsize = (12, 4))\n",
    "fig.suptitle('Runhist_Array')\n",
    "axs[0].plot(list(range(len(eqp1))), eqp1, 'b.')\n",
    "axs[0].set_xlabel('Variable Index')\n",
    "axs[0].set_ylabel('Probability')\n",
    "axs[0].set_title('Distributuion of new_eqp')\n",
    "axs[1].plot(list(range(len(op1))), op1, 'r.')\n",
    "axs[1].set_xlabel('Variable Index')\n",
    "axs[1].set_ylabel('Probability')\n",
    "axs[1].set_title('Distributuion of op_id_info')\n",
    "\n",
    "fig, axs = plt.subplots(1, 2, figsize = (12, 4))\n",
    "fig.suptitle('Runhist_Cell')\n",
    "axs[0].plot(list(range(len(eqp2))), eqp2, 'b.')\n",
    "axs[0].set_xlabel('Variable Index')\n",
    "axs[0].set_ylabel('Probability')\n",
    "axs[0].set_title('Distributuion of eqp_id_info')\n",
    "axs[1].plot(list(range(len(op2))), op2, 'r.')\n",
    "axs[1].set_xlabel('Variable Index')\n",
    "axs[1].set_ylabel('Probability')\n",
    "axs[1].set_title('Distributuion of op_id_info')"
   ]
  },
  {
   "cell_type": "code",
   "execution_count": 13,
   "metadata": {},
   "outputs": [
    {
     "name": "stdout",
     "output_type": "stream",
     "text": [
      "Number of Bad: 67\n",
      "Types of Bad: 67 \n",
      "\n"
     ]
    }
   ],
   "source": [
    "run_bad_types = Bad_Type_def(runhist)\n",
    "#run_bad_types.to_csv('run_bad_types.csv')"
   ]
  }
 ],
 "metadata": {
  "kernelspec": {
   "display_name": "Python [conda env:aging_test]",
   "language": "python",
   "name": "conda-env-aging_test-py"
  },
  "language_info": {
   "codemirror_mode": {
    "name": "ipython",
    "version": 3
   },
   "file_extension": ".py",
   "mimetype": "text/x-python",
   "name": "python",
   "nbconvert_exporter": "python",
   "pygments_lexer": "ipython3",
   "version": "3.8.10"
  }
 },
 "nbformat": 4,
 "nbformat_minor": 2
}
