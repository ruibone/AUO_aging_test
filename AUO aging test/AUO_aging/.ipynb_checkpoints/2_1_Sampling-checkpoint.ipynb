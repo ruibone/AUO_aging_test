{
 "cells": [
  {
   "cell_type": "code",
   "execution_count": 4,
   "metadata": {},
   "outputs": [
    {
     "data": {
      "text/plain": [
       "'C:\\\\Users\\\\Darui Yen\\\\OneDrive\\\\桌面\\\\data_after_mid'"
      ]
     },
     "execution_count": 4,
     "metadata": {},
     "output_type": "execute_result"
    }
   ],
   "source": [
    "import os\n",
    "import time\n",
    "import numpy as np\n",
    "import pandas as pd\n",
    "\n",
    "import smote_variants as sv\n",
    "from imblearn import FunctionSampler\n",
    "from imblearn.under_sampling import RandomUnderSampler, TomekLinks, InstanceHardnessThreshold, NearMiss\n",
    "from imblearn.over_sampling import SMOTEN\n",
    "\n",
    "from Dataset_Construction import Balance_Ratio\n",
    "\n",
    "os.chdir('C:/Users/Darui Yen/OneDrive/桌面/data_after_mid')\n",
    "os.getcwd()"
   ]
  },
  {
   "cell_type": "code",
   "execution_count": 5,
   "metadata": {},
   "outputs": [],
   "source": [
    "def label_divide(train, test, label = 'GB', train_only = False):\n",
    "    \n",
    "    train_x = train.drop(columns = label)\n",
    "    train_y = train[label]\n",
    "    \n",
    "    if not train_only:\n",
    "        test_x = test.drop(columns = label)\n",
    "        test_y = test[label]    \n",
    "        return train_x, train_y, test_x, test_y\n",
    "    else:\n",
    "        return train_x, train_y"
   ]
  },
  {
   "cell_type": "markdown",
   "metadata": {},
   "source": [
    "### Oversampling "
   ]
  },
  {
   "cell_type": "code",
   "execution_count": 6,
   "metadata": {},
   "outputs": [],
   "source": [
    "def before_over(dataset, label = 'GB'):\n",
    "    \n",
    "    colnames = dataset.columns\n",
    "    Y = dataset[label]\n",
    "    Y = Y.reset_index(drop = True)\n",
    "    Y = np.array(Y)\n",
    "    X = dataset.drop(columns = [label])\n",
    "    X = X.reset_index(drop = True)\n",
    "    X = X.to_numpy()\n",
    "    \n",
    "    return X, Y, colnames\n",
    "\n",
    "\n",
    "def after_over(X, Y, colnames):\n",
    "    \n",
    "    colnames = colnames[:X.shape[1]]\n",
    "    X = pd.DataFrame(X, columns = colnames)\n",
    "    Y = pd.Series(Y)\n",
    "    \n",
    "    return X, Y\n",
    "\n",
    "\n",
    "def over_sample(X, Y, method, proportion = 0.5, n_neighbors = 5, *args):\n",
    "    \n",
    "    method_list = ['NoSMOTE', 'SMOTE', 'MSMOTE', 'ROSE', 'SMOTEN']\n",
    "    if method not in method_list:\n",
    "        raise Exception('Invalid method !')\n",
    "    \n",
    "    if method == method_list[0]:\n",
    "        over_sampler = sv.NoSMOTE()\n",
    "    elif method == method_list[1]:\n",
    "        over_sampler = sv.SMOTE(proportion, n_neighbors)\n",
    "    elif method == method_list[2]:\n",
    "        over_sampler = sv.MSMOTE(proportion, n_neighbors)\n",
    "    elif method == method_list[3]:\n",
    "        over_sampler = sv.ROSE(proportion)   \n",
    "    elif method == method_list[4]:\n",
    "        over_sampler = SMOTEN(sampling_strategy = proportion, k_neighbors = n_neighbors)\n",
    "    \n",
    "    if method in method_list[0:4]:\n",
    "        over_X, over_Y = over_sampler.sample(X, Y)\n",
    "    else:\n",
    "        over_X, over_Y = over_sampler.fit_resample(X, Y)\n",
    "    \n",
    "    if method == 'ROSE':\n",
    "        for i in range(over_X.shape[0]):\n",
    "            for j in range(over_X.shape[1]):\n",
    "                if over_X[i, j] > 1:\n",
    "                    over_X[i, j] = 1\n",
    "                elif over_X[i, j] < -1:\n",
    "                    over_X[i, j] = -1\n",
    "    \n",
    "    return over_X, over_Y"
   ]
  },
  {
   "cell_type": "markdown",
   "metadata": {},
   "source": [
    "### Undersampling"
   ]
  },
  {
   "cell_type": "code",
   "execution_count": 7,
   "metadata": {},
   "outputs": [],
   "source": [
    "def before_under(dataset, label = 'GB'):\n",
    "    \n",
    "    Y = dataset[label]\n",
    "    X = dataset.drop(columns = [label])\n",
    "    \n",
    "    return X, Y\n",
    "\n",
    "\n",
    "def under_sample(X, Y, method, proportion = 0.2, *args):\n",
    "    \n",
    "    method_list = [None, 'random', 'Tomek', 'IHT', 'NM']\n",
    "    if method not in method_list:\n",
    "        raise Exception('Invalid method !')\n",
    "    \n",
    "    if method == method_list[0]:\n",
    "        return X, Y\n",
    "        \n",
    "    elif method == method_list[1]:\n",
    "        under_sampler = RandomUnderSampler(sampling_strategy = proportion)    \n",
    "    elif method == method_list[2]:\n",
    "        under_sampler = TomekLinks(sampling_strategy = 'majority')\n",
    "    elif method == method_list[3]:\n",
    "        under_sampler = InstanceHardnessThreshold(sampling_strategy = proportion, cv = 5)\n",
    "    elif method == method_list[4]:\n",
    "        under_sampler = NearMiss(sampling_strategy = proportion, version = 2)\n",
    "    \n",
    "    under_X, under_Y = under_sampler.fit_resample(X, Y)\n",
    "    return under_X, under_Y\n",
    "\n",
    "\n",
    "def over_under(dataset, over_method, under_method, *args, label = 'GB'):\n",
    "    \n",
    "    #under\n",
    "    if under_method != None:\n",
    "        X, Y = before_under(dataset, label)\n",
    "        Y = Y.astype(int)\n",
    "        print('Size before Undersampling:', len(Y))\n",
    "        under_X, under_Y = under_sample(X, Y, under_method)\n",
    "        dataset = pd.concat([under_X, under_Y], axis = 1)\n",
    "        print('Size after Undersampling:', len(under_Y))\n",
    "    \n",
    "    #over\n",
    "    temp_X, temp_Y, colnames = before_over(dataset, label)\n",
    "    print('Size before Oversampling:', len(temp_Y))\n",
    "    over_X, over_Y = over_sample(temp_X, temp_Y, over_method)\n",
    "    X, Y = after_over(over_X, over_Y, colnames)\n",
    "    print('Size after Oversampling:', len(Y), '\\n')\n",
    "        \n",
    "    return X, Y"
   ]
  },
  {
   "cell_type": "markdown",
   "metadata": {},
   "source": [
    "### Generate multiple dataset file"
   ]
  },
  {
   "cell_type": "code",
   "execution_count": 8,
   "metadata": {},
   "outputs": [],
   "source": [
    "def generate_set(train_data, over_method, under_method, index, label = 'GB'):\n",
    "    \n",
    "    train_x, train_y = over_under(train_data, over_method, under_method, label)\n",
    "    train = pd.concat([train_x, train_y], axis = 1)\n",
    "    train = train.rename(columns = {0: label})\n",
    "    train.to_csv(f'dataset_{index}.csv')\n",
    "    \n",
    "    return train"
   ]
  },
  {
   "cell_type": "markdown",
   "metadata": {},
   "source": [
    "## Data processing\n"
   ]
  },
  {
   "cell_type": "code",
   "execution_count": 9,
   "metadata": {},
   "outputs": [
    {
     "name": "stdout",
     "output_type": "stream",
     "text": [
      "Dimension of Data: (77138, 83) \n",
      "Balance Ratio: 18.17902\n",
      "Bad Kinds: (6093, 86)\n"
     ]
    }
   ],
   "source": [
    "panel = pd.read_csv('original_data/TrainingSet_new.csv', index_col = 'id').iloc[:, 1:]\n",
    "bad_kinds = pd.read_csv('original_data/Kinds.csv').iloc[:, 2:]\n",
    "print('Dimension of Data:', panel.shape, '\\nBalance Ratio:', Balance_Ratio(panel))\n",
    "print('Bad Kinds:', bad_kinds.shape)\n",
    "\n",
    "sub_panel = bad_kinds[bad_kinds.GB_count <= 2].iloc[:, :-3]"
   ]
  },
  {
   "cell_type": "code",
   "execution_count": 10,
   "metadata": {},
   "outputs": [
    {
     "name": "stderr",
     "output_type": "stream",
     "text": [
      "2021-07-05 23:04:04,382:INFO:NoSMOTE: Running sampling via ('NoSMOTE', '{}')\n"
     ]
    },
    {
     "name": "stdout",
     "output_type": "stream",
     "text": [
      "Size before Oversampling: 77138\n",
      "Size after Oversampling: 77138 \n",
      "\n",
      "Dimension: \n",
      "train x: (77138, 82) \n",
      "train y: (77138,) \n",
      "Balance Ratio: 18.17902\n"
     ]
    }
   ],
   "source": [
    "###for single dataset###\n",
    "train_x, train_y = over_under(panel, 'NoSMOTE', None)\n",
    "train = pd.concat([train_x, train_y], axis = 1)\n",
    "train = train.rename(columns = {0: 'GB'})\n",
    "train.to_csv('Train_sample.csv')\n",
    "\n",
    "print('Dimension:', '\\ntrain x:', train_x.shape, '\\ntrain y:', train_y.shape, '\\nBalance Ratio:', Balance_Ratio(train))"
   ]
  },
  {
   "cell_type": "code",
   "execution_count": 12,
   "metadata": {
    "scrolled": true
   },
   "outputs": [
    {
     "name": "stderr",
     "output_type": "stream",
     "text": [
      "2021-07-05 23:04:43,150:INFO:NoSMOTE: Running sampling via ('NoSMOTE', '{}')\n"
     ]
    },
    {
     "name": "stdout",
     "output_type": "stream",
     "text": [
      "Size before Oversampling: 77138\n",
      "Size after Oversampling: 77138 \n",
      "\n"
     ]
    },
    {
     "name": "stderr",
     "output_type": "stream",
     "text": [
      "2021-07-05 23:04:45,969:INFO:SMOTE: Running sampling via ('SMOTE', \"{'proportion': 0.5, 'n_neighbors': 5, 'n_jobs': 1, 'random_state': None}\")\n"
     ]
    },
    {
     "name": "stdout",
     "output_type": "stream",
     "text": [
      "Size before Oversampling: 77138\n",
      "Size after Oversampling: 111685 \n",
      "\n"
     ]
    },
    {
     "name": "stderr",
     "output_type": "stream",
     "text": [
      "2021-07-05 23:04:50,853:INFO:MSMOTE: Running sampling via ('MSMOTE', \"{'proportion': 0.5, 'n_neighbors': 5, 'n_jobs': 1, 'random_state': None}\")\n"
     ]
    },
    {
     "name": "stdout",
     "output_type": "stream",
     "text": [
      "Size before Oversampling: 77138\n",
      "Size after Oversampling: 111685 \n",
      "\n"
     ]
    },
    {
     "name": "stderr",
     "output_type": "stream",
     "text": [
      "2021-07-05 23:05:02,026:INFO:ROSE: Running sampling via ('ROSE', \"{'proportion': 0.5, 'random_state': None}\")\n"
     ]
    },
    {
     "name": "stdout",
     "output_type": "stream",
     "text": [
      "Size before Oversampling: 77138\n",
      "Size after Oversampling: 111685 \n",
      "\n",
      "Size before Oversampling: 77138\n",
      "Size after Oversampling: 109674 \n",
      "\n",
      "Size before Undersampling: 77138\n"
     ]
    },
    {
     "name": "stderr",
     "output_type": "stream",
     "text": [
      "2021-07-05 23:07:52,345:INFO:SMOTE: Running sampling via ('SMOTE', \"{'proportion': 0.5, 'n_neighbors': 5, 'n_jobs': 1, 'random_state': None}\")\n"
     ]
    },
    {
     "name": "stdout",
     "output_type": "stream",
     "text": [
      "Size after Undersampling: 24132\n",
      "Size before Oversampling: 24132\n",
      "Size after Oversampling: 32176 \n",
      "\n",
      "Size before Undersampling: 77138\n"
     ]
    },
    {
     "name": "stderr",
     "output_type": "stream",
     "text": [
      "2021-07-05 23:08:15,737:INFO:MSMOTE: Running sampling via ('MSMOTE', \"{'proportion': 0.5, 'n_neighbors': 5, 'n_jobs': 1, 'random_state': None}\")\n"
     ]
    },
    {
     "name": "stdout",
     "output_type": "stream",
     "text": [
      "Size after Undersampling: 24132\n",
      "Size before Oversampling: 24132\n",
      "Size after Oversampling: 32176 \n",
      "\n",
      "Size before Undersampling: 77138\n"
     ]
    },
    {
     "name": "stderr",
     "output_type": "stream",
     "text": [
      "2021-07-05 23:08:40,440:INFO:ROSE: Running sampling via ('ROSE', \"{'proportion': 0.5, 'random_state': None}\")\n"
     ]
    },
    {
     "name": "stdout",
     "output_type": "stream",
     "text": [
      "Size after Undersampling: 24132\n",
      "Size before Oversampling: 24132\n",
      "Size after Oversampling: 32176 \n",
      "\n",
      "Size before Undersampling: 77138\n",
      "Size after Undersampling: 24132\n",
      "Size before Oversampling: 24132\n",
      "Size after Oversampling: 30165 \n",
      "\n",
      "\n",
      "Run Time：326.670034 seconds\n"
     ]
    }
   ],
   "source": [
    "start = time.time()\n",
    "\n",
    "dataset_0 = generate_set(panel, 'NoSMOTE', None, 0)\n",
    "\n",
    "dataset_1 = generate_set(panel, 'SMOTE', None, 1)\n",
    "dataset_2 = generate_set(panel, 'MSMOTE', None, 2)\n",
    "dataset_3 = generate_set(panel, 'ROSE', None, 3)\n",
    "dataset_4 = generate_set(panel, 'SMOTEN', None, 4)\n",
    "\n",
    "dataset_5 = generate_set(panel, 'SMOTE', 'NM', 5)\n",
    "dataset_6 = generate_set(panel, 'MSMOTE', 'NM', 6)\n",
    "dataset_7 = generate_set(panel, 'ROSE', 'NM', 7)\n",
    "dataset_8 = generate_set(panel, 'SMOTEN', 'NM', 8)\n",
    "\n",
    "end = time.time()\n",
    "print(\"\\nRun Time：%f seconds\" % (end - start))"
   ]
  }
 ],
 "metadata": {
  "kernelspec": {
   "display_name": "Python [conda env:root] *",
   "language": "python",
   "name": "conda-root-py"
  },
  "language_info": {
   "codemirror_mode": {
    "name": "ipython",
    "version": 3
   },
   "file_extension": ".py",
   "mimetype": "text/x-python",
   "name": "python",
   "nbconvert_exporter": "python",
   "pygments_lexer": "ipython3",
   "version": "3.7.3"
  }
 },
 "nbformat": 4,
 "nbformat_minor": 2
}
