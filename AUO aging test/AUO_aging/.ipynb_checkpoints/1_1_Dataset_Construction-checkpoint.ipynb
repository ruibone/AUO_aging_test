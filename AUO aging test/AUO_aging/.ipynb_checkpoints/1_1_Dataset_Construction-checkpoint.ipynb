{
 "cells": [
  {
   "cell_type": "code",
   "execution_count": 1,
   "metadata": {
    "ExecuteTime": {
     "end_time": "2021-08-27T14:10:37.056504Z",
     "start_time": "2021-08-27T14:10:36.225387Z"
    }
   },
   "outputs": [
    {
     "data": {
      "text/plain": [
       "'C:\\\\Users\\\\user\\\\Desktop\\\\Darui_R08621110'"
      ]
     },
     "execution_count": 1,
     "metadata": {},
     "output_type": "execute_result"
    }
   ],
   "source": [
    "import os\n",
    "import time\n",
    "import itertools\n",
    "import numpy as np\n",
    "import pandas as pd\n",
    "import seaborn as sns\n",
    "import matplotlib.pyplot as plt\n",
    "import category_encoders as ce\n",
    "from tqdm.auto import tqdm\n",
    "\n",
    "from Training_Data_Processing import Corner, Kind\n",
    "\n",
    "os.chdir('C:/Users/user/Desktop/Darui_R08621110')\n",
    "os.getcwd()"
   ]
  },
  {
   "cell_type": "markdown",
   "metadata": {},
   "source": [
    "### Preprocessing event data "
   ]
  },
  {
   "cell_type": "code",
   "execution_count": 2,
   "metadata": {
    "ExecuteTime": {
     "end_time": "2021-08-27T14:10:38.195835Z",
     "start_time": "2021-08-27T14:10:38.175906Z"
    }
   },
   "outputs": [],
   "source": [
    "def array_f(array_repair):\n",
    "\n",
    "    ## reorder cols\n",
    "    cols = array_repair.columns.tolist() #store colnames\n",
    "    cols = cols[3:4]+cols[1:3] #select id, tool_id(2), dft_mode(7)\n",
    "    array_repair=array_repair[cols] #discard chip_id, rp_end_time\n",
    "\n",
    "    ## dummy tool & dft (同一個 ID 中只要有用到就是1 沒有就是0)\n",
    "    array_repair_dummy = pd.get_dummies(array_repair, columns = ['tool_id', 'dft_mode'])\n",
    "    array_repair_dummy = array_repair_dummy.groupby(['id']).max().reset_index() #order by id\n",
    "    \n",
    "    return array_repair_dummy\n",
    "\n",
    "\n",
    "def cell_test_f(cell_test):\n",
    "    \n",
    "    ## delete the tft_chip_id\n",
    "    cols = cell_test.columns.tolist()\n",
    "    cols = cols[-1:] + cols[1:3] \n",
    "    cell_test = cell_test[cols] # select id, test_user(1) and grade(7)\n",
    "\n",
    "    ## dummy test_user & grade\n",
    "    cell_test_dummy = pd.get_dummies(cell_test, columns = ['test_user', 'grade'])\n",
    "    cell_test_dummy = cell_test_dummy.groupby(['id']).max().reset_index()\n",
    "    \n",
    "    return cell_test_dummy\n",
    "\n",
    "\n",
    "def cell_repair_f(cell_repair):\n",
    "    \n",
    "    # delete the tft_chip_id and reorder\n",
    "    cell_repair = cell_repair.iloc[:,2:] # discard tft_chip_id & product_code\n",
    "    cols = cell_repair.columns.tolist()\n",
    "    cols = cols[-1:] + cols[0:-2] # discard rework_time\n",
    "    cell_repair = cell_repair[cols] # select id, eqp_id(2) and test_defect_code_desc(33)\n",
    "\n",
    "    ## dummy eqp_id and test_defect_code_desc\n",
    "    cell_repair_dummy = pd.get_dummies(cell_repair, columns = ['eqp_id', 'test_defect_code_desc'])\n",
    "    cell_repair_dummy = cell_repair_dummy.groupby(['id']).max().reset_index()\n",
    "\n",
    "    return cell_repair_dummy\n",
    "\n",
    "\n",
    "def risk_db_f(risk_db):\n",
    "    \n",
    "    cols = risk_db.columns.tolist()\n",
    "    cols = cols[-1:] + cols[-2:-1] + cols[0:2] # only reorder\n",
    "    risk_db = risk_db[cols] # select id, lot_no, event_name(15) and process_stage(4)\n",
    "\n",
    "    ## dummy stage_event\n",
    "    risk_db['Stage_Event'] = risk_db['process_stage'].str.cat(risk_db[['event_name']], sep=' - ') # combine two variable\n",
    "    risk_db = risk_db[['id', 'Stage_Event']] # only keep id and stage_event(16)\n",
    "    risk_dummy = pd.get_dummies(risk_db, columns = ['Stage_Event'])\n",
    "    risk_dummy = risk_dummy.groupby(['id']).max().reset_index()\n",
    "    \n",
    "    return risk_dummy\n",
    "\n",
    "\n",
    "def module_f(Module):\n",
    "    \n",
    "    cols = Module.columns.tolist()\n",
    "    cols = cols[2:5]+cols[1:2] # discard lot_no & cell_chip_id\n",
    "    Module = Module[cols] # select shift_date, id, model_no(17) & GB\n",
    "\n",
    "    ## dummy model_no\n",
    "    Module_dummy = pd.get_dummies(Module, columns = ['model_no'])\n",
    "    Module_dummy = Module_dummy.groupby(['id']).max().reset_index()\n",
    "\n",
    "    ## reorder\n",
    "    cols = Module_dummy.columns.tolist()\n",
    "    cols = cols[3:] + cols[0:3]\n",
    "    Module_dummy = Module_dummy[cols]\n",
    "   \n",
    "    return Module_dummy\n",
    "\n",
    "\n",
    "def DataSet_Sorted(array_repair, cell_test, cell_repair, risk_db, Module):\n",
    "    \n",
    "    #global DataSet\n",
    "    pd.options.mode.chained_assignment = None\n",
    "    \n",
    "    cell_test_dummy = cell_test_f(cell_test)\n",
    "    cell_repair_dummy = cell_repair_f(cell_repair)\n",
    "    risk_dummy = risk_db_f(risk_db)\n",
    "    array_repair_dummy = array_f(array_repair)\n",
    "    Module_dummy = module_f(Module)\n",
    "    runhist_array_dummy = runhist_array_f(runhist_array, id_mapping)\n",
    "\n",
    "    #merge data\n",
    "    CTC = cell_test_dummy.merge(cell_repair_dummy, how = 'outer', on = 'id')\n",
    "    CTCR = CTC.merge(risk_dummy, how = 'outer',on = 'id')\n",
    "    CTCRA = CTCR.merge(array_repair_dummy, how = 'inner',on = 'id')\n",
    "    DataSet = CTCRA.merge(Module_dummy, how = 'inner', on = 'id').fillna(0)\n",
    "    \n",
    "    #drop not unique columns\n",
    "    cols = DataSet.columns[DataSet.nunique() == 1]\n",
    "    DataSet = DataSet.drop(cols, axis = 1)\n",
    "    \n",
    "    return DataSet"
   ]
  },
  {
   "cell_type": "markdown",
   "metadata": {},
   "source": [
    "### Dividing train & test data (by date)"
   ]
  },
  {
   "cell_type": "code",
   "execution_count": 3,
   "metadata": {
    "ExecuteTime": {
     "end_time": "2021-08-27T14:10:39.634732Z",
     "start_time": "2021-08-27T14:10:39.616791Z"
    }
   },
   "outputs": [],
   "source": [
    "def Train_Test(DataSet, y_1 = 2021, m_1 = 1, d_1 = 31, y_2 = 2021, m_2 = 3, d_2 = 31):\n",
    "    \n",
    "    data = DataSet.copy()\n",
    "    \n",
    "    date = data['shift_date'].str.split(\"/\",expand = True) # divide day, month and year\n",
    "    date = date.astype(int)\n",
    "    date.columns = ['month', 'day', 'year']\n",
    "    DataSet_split = pd.concat([data,date], axis = 1) #combine with original dataframe\n",
    "    DataSet_split = DataSet_split.drop('shift_date', axis = 1)  \n",
    "    DataSet_split = DataSet_split.sort_values(by = ['year', 'month', 'day'])\n",
    "    DataSet_split = DataSet_split.reset_index(drop = True)\n",
    "    count_1 = DataSet_split[(DataSet_split.year==y_1)&(DataSet_split.month==m_1)&(DataSet_split.day<=d_1)].tail(1).index.item()\n",
    "    count_2 = DataSet_split[(DataSet_split.year==y_2)&(DataSet_split.month==m_2)&(DataSet_split.day<=d_2)].tail(1).index.item()\n",
    "    # search for counts of target date interval\n",
    "    TrainingSet_0 = DataSet_split.iloc[:count_1+1, :-3]\n",
    "    TestingSet_0 = DataSet_split.iloc[count_1+1:count_2+1, :-3]\n",
    "    \n",
    "    return TrainingSet_0, TestingSet_0, DataSet_split\n",
    "\n",
    "\n",
    "def split_module(module, sep_date = '2021-05-01') :\n",
    "    \n",
    "    # define train & test by date in module data\n",
    "    module_time = order_module(module, drop_time = False)\n",
    "    \n",
    "    # define the date\n",
    "    divide = module_time[module_time['shift_date'] == sep_date].index.min()\n",
    "    module_train  = module_time.loc[: divide-1].drop(columns = ['shift_date', 'year', 'month', 'day'])\n",
    "    module_test = module_time.loc[divide:].drop(columns = ['shift_date', 'year', 'month', 'day']).reset_index(drop = True)\n",
    "    print('Dimension of unique id in module_train:', module_train.shape,\n",
    "         '\\nDimension of unique id in module_test:', module_test.shape)\n",
    "    \n",
    "    return module_train, module_test\n",
    "\n",
    "\n",
    "def order_module(module, drop_time = True) :\n",
    "    \n",
    "    module_drop = module[['id', 'GB', 'shift_date']]\n",
    "    module_dupli = module_drop.groupby(['id']).max().reset_index()\n",
    "    date = module_dupli['shift_date'].str.split(\"-\", expand = True)\n",
    "    date = date.astype(int)\n",
    "    module_time = pd.concat([module_dupli, date], axis = 1)\n",
    "    module_time = module_time.rename(columns = {0: 'year', 1: 'month', 2: 'day'})\n",
    "    module_time = module_time.sort_values(by = ['year', 'month', 'day']).reset_index(drop = True)\n",
    "    \n",
    "    if drop_time :\n",
    "        module_time = module_time.drop(columns = ['month', 'year', 'day'])\n",
    "        \n",
    "    return module_time"
   ]
  },
  {
   "cell_type": "markdown",
   "metadata": {
    "ExecuteTime": {
     "end_time": "2021-08-04T03:16:59.021086Z",
     "start_time": "2021-08-04T03:16:59.004132Z"
    }
   },
   "source": [
    "### Preprocessing runhist data"
   ]
  },
  {
   "cell_type": "code",
   "execution_count": 12,
   "metadata": {
    "ExecuteTime": {
     "end_time": "2021-08-27T14:14:47.462503Z",
     "start_time": "2021-08-27T14:14:47.446776Z"
    }
   },
   "outputs": [],
   "source": [
    "def new_shift(old_module) :\n",
    "    \n",
    "    old = old_module.copy()\n",
    "    date = old['shift_date'].str.split('/', expand = True)\n",
    "    date.columns = ['month', 'day', 'year']\n",
    "    date['new_shift'] = date['year'] + '-' + date['month'] + '-' + date['day']\n",
    "    del old['shift_date']\n",
    "    old['shift_date'] = date['new_shift']\n",
    "    \n",
    "    return old\n",
    "\n",
    "\n",
    "def dataset_index(runhist_target, array_repair, cell_repair, cell_test, risk_db, module) :\n",
    "    \n",
    "    outer_temp = cell_repair[['id']].merge(cell_test.id, on = 'id', how = 'outer').groupby('id').max()\n",
    "    outer = outer_temp.merge(risk_db.id, on = 'id', how = 'outer').groupby('id').max()\n",
    "    inner_temp = outer.merge(array_repair.id, on = 'id', how = 'inner').groupby('id').max()\n",
    "    inner = inner_temp.merge(module.id, on = 'id', how = 'inner').groupby('id').max()\n",
    "    final = runhist_target.merge(inner, on = 'id', how = 'inner')\n",
    "    \n",
    "    return final\n",
    "\n",
    "\n",
    "def feature_filter(train, test) :\n",
    "\n",
    "    col_train = train.columns.to_list()\n",
    "    lack_col = [x for x in col_train if x not in test.columns]\n",
    "    test_temp = test.copy()\n",
    "    test_temp[lack_col] = 0\n",
    "    test_final = test_temp[col_train]\n",
    "\n",
    "    return test_final"
   ]
  },
  {
   "cell_type": "code",
   "execution_count": 11,
   "metadata": {
    "ExecuteTime": {
     "end_time": "2021-08-27T14:14:45.465084Z",
     "start_time": "2021-08-27T14:14:45.440422Z"
    }
   },
   "outputs": [],
   "source": [
    "def runhist_array_m2to7(runhist_array, id_mapping, module, sep_date = '2021-05-01', no_dummy = False) :   \n",
    "\n",
    "    # transform sheet_id to id\n",
    "    new_array = runhist_array.merge(id_mapping, on = 'sheet_id', how = 'left')\n",
    "    new_array = new_array.drop(columns = ['sheet_id', 'create_time', 'lot_no'])\n",
    "    cols = new_array.columns.tolist()\n",
    "    cols = cols[2:3] + cols[0:2]\n",
    "    new_array = new_array[cols]\n",
    "    \n",
    "    # combine the carrier features \n",
    "    carrier_list = ['ADSPT'+ str(x) for x in list(range(100, 1000, 100))]\n",
    "    new_array['eqp_split'] = [x.split('_')[0] for x in new_array['eqp_id_info']]\n",
    "\n",
    "    label_eqp = []\n",
    "    for i in range(len(new_array)) :\n",
    "        if new_array['eqp_split'][i] in carrier_list :\n",
    "            label_eqp.append(new_array['eqp_split'][i])\n",
    "        else :\n",
    "            label_eqp.append(new_array['eqp_id_info'][i])\n",
    "\n",
    "    new_array['label_eqp'] = label_eqp\n",
    "    array_nodummy = new_array.drop(columns = ['eqp_id_info', 'eqp_split'])\n",
    "\n",
    "    # one-hot encoding\n",
    "    if no_dummy == False :\n",
    "        array_dummy = pd.get_dummies(array_nodummy, columns = ['label_eqp', 'op_id_info']) \n",
    "        #eqp_id_info(124), op_id_info(39)\n",
    "\n",
    "    elif no_dummy =='eqp' :\n",
    "        array_dummy = pd.get_dummies(array_nodummy, columns = ['op_id_info'])\n",
    "\n",
    "    elif no_dummy == 'op' :\n",
    "        array_dummy = pd.get_dummies(array_nodummy, columns = ['label_eqp'])\n",
    "            \n",
    "    array_done = array_dummy.groupby(['id']).max().reset_index()\n",
    "    print('Dimension of unique id in runhist_array:', array_done.shape)\n",
    "    \n",
    "    # divide train/test & add GB\n",
    "    module_train, module_test = split_module(module, sep_date)\n",
    "    array_train = array_done.merge(module_train, on = 'id', how = 'inner')\n",
    "    array_test = array_done.merge(module_test, on = 'id', how = 'inner').reset_index(drop = True)\n",
    "    all_array = pd.concat([array_train, array_test]).reset_index(drop = True)\n",
    "    print('Dimension of unique id in runhist_array_train:', array_train.shape,\n",
    "         '\\nDimension of unique id in runhist_array_test:', array_test.shape)\n",
    "\n",
    "    return array_train, array_test, all_array\n",
    "\n",
    "\n",
    "def runhist_array_m8to1(runhist_array, id_mapping, module, do_dummy = True) :\n",
    "    \n",
    "    # transform sheet-id to id\n",
    "    new_array = runhist_array.merge(id_mapping, on = 'sheet_id', how = 'left') # all sheet_id in runhist_array are kept\n",
    "    col = new_array.columns.tolist()\n",
    "    col = col[5:6] + col[1:4] # discard lot_no\n",
    "    new_array = new_array[col]\n",
    "    \n",
    "    # combine carrier features\n",
    "    carrier_list = ['ADSPT'+ str(x) for x in list(range(100, 1000, 100))]\n",
    "    new_array['eqp_split'] = [x.split('_')[0] for x in new_array['eqp_id_info']]\n",
    "\n",
    "    label_eqp = []\n",
    "    for i in range(len(new_array)) :\n",
    "        if new_array['eqp_split'][i] in carrier_list :\n",
    "            label_eqp.append(new_array['eqp_split'][i])\n",
    "        else :\n",
    "            label_eqp.append(new_array['eqp_id_info'][i])\n",
    "\n",
    "    new_array['label_eqp'] = label_eqp\n",
    "    array_nodummy = new_array.drop(columns = ['create_time', 'eqp_id_info', 'eqp_split'])\n",
    "\n",
    "    # one-hot encoding\n",
    "    if do_dummy :\n",
    "        array_dummy = pd.get_dummies(array_nodummy, columns = ['label_eqp', 'op_id_info']) \n",
    "        #eqp_id_info(124), op_id_info(54)\n",
    "        array_dummy = array_dummy.groupby(['id']).max().reset_index()\n",
    "    \n",
    "    # merge with module\n",
    "    module_drop = module[['id', 'GB']]\n",
    "    module_dupli = module_drop.groupby(['id']).max().reset_index()\n",
    "    all_array = array_dummy.merge(module_dupli, on = 'id', how = 'inner')\n",
    "    print('Dimension of unique id in runhist_array:', all_array.shape)\n",
    "\n",
    "    return all_array\n",
    "\n",
    "\n",
    "def runhist_array_old(runhist_array, id_mapping, combine = False):\n",
    "    \n",
    "    new_array = runhist_array.merge(id_mapping, on = 'sheet_id', how = 'left') # all sheet_id in runhist_array are kept\n",
    "    col = new_array.columns.tolist()\n",
    "    col = col[5:6] + col[1:4] # discard lot_no\n",
    "    new_array = new_array[col]\n",
    "    new_array['new_eqp'] = [x.split('_')[0] for x in new_array.eqp_id_info]\n",
    "    new_array = new_array.drop(columns = ['create_time', 'eqp_id_info'])\n",
    "    \n",
    "    if combine == False:\n",
    "        array_dummy = pd.get_dummies(new_array, columns = ['new_eqp', 'op_id_info']) \n",
    "        # eqp_id_info(348/57), op_id_info(54)\n",
    "        array_dummy = array_dummy.groupby(['id']).max().reset_index()\n",
    "    \n",
    "    elif combine == True:\n",
    "        new_array['op_eqp'] = new_array.op_id_info + '_' + new_array.new_eqp\n",
    "        pair_array = new_array.drop(columns = ['op_id_info', 'new_eqp'])\n",
    "        array_dummy = pd.get_dummies(pair_array, columns = ['op_eqp'])\n",
    "        array_dummy = array_dummy.groupby(['id']).max().reset_index()\n",
    "    \n",
    "    return array_dummy \n",
    "\n",
    "\n",
    "def runhist_cell_old(runhist_cell, id_mapping) :\n",
    "    \n",
    "    new_cell = runhist_cell.merge(id_mapping.iloc[:,1:], on = 'sheet_id', how = 'left') # combine only id\n",
    "    col = new_cell.columns.tolist()\n",
    "    col = col[4:5] + col[1:3] # discard sheet_id, create_time\n",
    "    new_cell = new_cell[col]\n",
    "\n",
    "    cell_dummy = pd.get_dummies(new_cell, columns = ['eqp_id_info', 'op_id_info'])\n",
    "    cell_dummy = cell_dummy.groupby(['id']).max().reset_index()\n",
    "    \n",
    "    return cell_dummy\n",
    "\n",
    "\n",
    "def runhist_cell_m2to7(runhist_cell, id_mapping, module, sep_date = '2021-05-01', no_dummy = False) :\n",
    "    \n",
    "    # transform sheet_id to id\n",
    "    id_array = runhist_cell_m2_m5.merge(id_mapping_m2_m5, on = 'sheet_id', how = 'inner')\n",
    "    reduce_array = id_array.drop(columns = ['sheet_id', 'create_time', 'abbr_cat', 'lot_no'])\n",
    "    new_array = reduce_array[['id', 'eqp_id_info', 'op_id_info']]\n",
    "\n",
    "    # transform eqp features\n",
    "    new_label = new_array['eqp_id_info'].copy()\n",
    "    table = new_label.str.split('_', expand = True)\n",
    "    for i in range(len(table)) :\n",
    "\n",
    "        if table[2][i] in ['COOLING', 'HEATING', 'Cooling', 'Coater Unit', 'Pre Bake No'] :\n",
    "            new_label[i] = table[0][i] + '_' + table[2][i]        \n",
    "\n",
    "        elif all([table[2][i] == 'Oven', table[3][i] == 'L']) :\n",
    "            new_label[i] = table[0][i] + '_Oven_L'\n",
    "\n",
    "        elif table[3][i] == 'Unit' :\n",
    "            new_label[i] = table[0][i][:8]\n",
    "\n",
    "        elif table[3][i] == 'VA' :\n",
    "            new_label[i] = table[0][i][:8] + table[3][i]\n",
    "\n",
    "    new_array['label_eqp'] = new_label         \n",
    "    array_nodummy = new_array.drop(columns = ['eqp_id_info', 'op_id_info'])\n",
    "\n",
    "    # one-hot encoding\n",
    "    if no_dummy == False :\n",
    "        array_dummy = pd.get_dummies(array_nodummy, columns = ['label_eqp']) # 72\n",
    "    else :\n",
    "        array_dummy = array_nodummy\n",
    "\n",
    "    array_done = array_dummy.groupby(['id']).max().reset_index()\n",
    "    print('Dimension of unique id in runhist_array:', array_done.shape)\n",
    "\n",
    "    # divide train/test & add GB\n",
    "    module_train, module_test = split_module(module, sep_date)\n",
    "    array_train = array_done.merge(module_train, on = 'id', how = 'inner')\n",
    "    array_test = array_done.merge(module_test, on = 'id', how = 'inner').reset_index(drop = True)\n",
    "    all_array = pd.concat([array_train, array_test]).reset_index(drop = True)\n",
    "    print('Dimension of unique id in runhist_array_train:', array_train.shape,\n",
    "         '\\nDimension of unique id in runhist_array_test:', array_test.shape)\n",
    "\n",
    "    return array_train, array_test, all_array\n",
    "\n",
    "\n",
    "def array_cell(train_array, test_array, train_cell, test_cell, module, sep_date = '2021-05-01') :\n",
    "    \n",
    "    #merge array & cell\n",
    "    array_GB = sum(train_array.GB) + sum(test_array.GB)\n",
    "    cell_GB = sum(train_cell.GB) + sum(test_cell.GB)\n",
    "    \n",
    "    if array_GB >= cell_GB :\n",
    "        join = 'left'\n",
    "        train_cell = train_cell.drop(columns = ['GB'])\n",
    "        test_cell = test_cell.drop(columns = ['GB'])\n",
    "        \n",
    "    else :\n",
    "        join = 'right'\n",
    "        train_array = train_array.drop(columns = ['GB'])\n",
    "        test_array = test_array.drop(columns = ['GB'])\n",
    " \n",
    "    test_runhist = test_array.merge(test_cell, on = 'id', how = join).fillna(0).reset_index(drop = True)\n",
    "    train_runhist = train_array.merge(train_cell, on = 'id', how = join).fillna(0).reset_index(drop = True)\n",
    "    \n",
    "    # shift GB columns to be the last column\n",
    "    cols = train_runhist.columns.to_list()\n",
    "    GB_posi = np.where(train_runhist.columns == 'GB')[0][0]\n",
    "    new_cols = cols[:GB_posi] + cols[(GB_posi + 1):] + cols[GB_posi:(GB_posi + 1)]\n",
    "    \n",
    "    train_runhist = train_runhist[new_cols]\n",
    "    test_runhist = test_runhist[new_cols]\n",
    "    \n",
    "    return train_runhist, test_runhist"
   ]
  },
  {
   "cell_type": "markdown",
   "metadata": {},
   "source": [
    "### Runhist data plot"
   ]
  },
  {
   "cell_type": "code",
   "execution_count": 70,
   "metadata": {
    "ExecuteTime": {
     "end_time": "2021-08-27T15:01:39.859690Z",
     "start_time": "2021-08-27T15:01:39.832064Z"
    }
   },
   "outputs": [],
   "source": [
    "def feature_distribution(runhist) :   \n",
    "    \n",
    "    # select index for label(array), op, label(cell)\n",
    "    variable_no = [x for x in enumerate(runhist.columns)][1:]\n",
    "    for i in range(len(variable_no)) :\n",
    "        if variable_no[i][1][:2] == 'op' :\n",
    "            index_op = i \n",
    "            break\n",
    "    if variable_no[-1][1][:5] == 'label' :\n",
    "        for i in range(len(variable_no)) :\n",
    "            if variable_no[index_op + i][1][:5] == 'label' :\n",
    "                index_eqp = index_op + i\n",
    "                break\n",
    "    \n",
    "    variables = runhist.iloc[:,1:].drop(columns = 'GB').apply(np.mean, axis = 0)\n",
    "    eqp1 = variables[:index_op]\n",
    "    op1 = variables[index_op:index_eqp] if variable_no[-1][1][:5] == 'label' else variables[index_op:]\n",
    "\n",
    "    fig, axs = plt.subplots(2, 2, figsize = (12, 8), sharex = False)\n",
    "    fig.suptitle('Features of Runhist Data')\n",
    "    axs[0, 0].plot(list(range(len(eqp1))), eqp1, 'b.')\n",
    "    #axs[0, 0].set_xlabel('Feature Index')\n",
    "    axs[0, 0].set_ylabel('Probability')\n",
    "    axs[0, 0].set_title('Distribution of label_eqp in array')\n",
    "    axs[0, 1].plot(list(range(len(op1))), op1, 'r.')\n",
    "    #axs[0, 1].set_xlabel('Feature Index')\n",
    "    axs[0, 1].set_ylabel('Probability')\n",
    "    axs[0, 1].set_title('Distribution of op_id_info in array')\n",
    "        \n",
    "    if variable_no[-1][1][:5] == 'label' :\n",
    "        eqp2 = variables[index_eqp:]\n",
    "        axs[1, 0].plot(list(range(len(eqp2))), eqp2, 'g.')\n",
    "        axs[1, 0].set_xlabel('Feature Index')\n",
    "        axs[1, 0].set_ylabel('Probability')\n",
    "        axs[1, 0].set_title('Distribution of label_eqp in cell')\n",
    "        axs[1, 1].plot(list(range(len(variables))), variables, 'y.')\n",
    "        axs[1, 1].set_xlabel('Feature Index')\n",
    "        axs[1, 1].set_ylabel('Probability')\n",
    "        axs[1, 1].set_title('Distribution of All Features')\n",
    "    \n",
    "    \n",
    "def distance_histogram(runhist) :    \n",
    "    \n",
    "    good = runhist[runhist.GB == 0].drop(columns = ['id', 'GB'])\n",
    "    bad = runhist[runhist.GB == 1].drop(columns = ['id', 'GB'])\n",
    "    good = np.array(good)\n",
    "    bad = np.array(bad)\n",
    "\n",
    "    gb_matrix = (bad[:, None, :] != good).sum(2)\n",
    "    bb_matrix = (bad[:, None, :] != bad).sum(2)\n",
    "\n",
    "    fig, axs = plt.subplots(ncols = 2, figsize = (12, 6))\n",
    "    ax = sns.histplot(gb_matrix.flatten(), bins = 40, color = 'purple', ax = axs[0])\n",
    "    ax.set(title = 'Distribution of Distance between Good & Bad Instances', xlabel = 'Hamming Distance')\n",
    "    ax = sns.histplot(bb_matrix.flatten(), bins = 25, color = 'red', ax = axs[1])\n",
    "    ax.set(title = 'Distribution of Distance between Bad Instances', xlabel = 'Hamming Distance')\n",
    "    \n",
    "    \n",
    "def distance_heatmap(runhist, bad_in_month) :    \n",
    "    \n",
    "    good = runhist[runhist.GB == 0].drop(columns = ['id', 'GB'])\n",
    "    bad = runhist[runhist.GB == 1].drop(columns = ['id', 'GB'])\n",
    "    good = np.array(good)\n",
    "    bad = np.array(bad)\n",
    "\n",
    "    dis_matrix = (bad[:, None, :] != bad).sum(2)\n",
    "\n",
    "    sns.set(rc = {'figure.figsize':(10,8)})\n",
    "    sns.color_palette(\"vlag\", as_cmap = True)\n",
    "    ax = sns.heatmap(dis_matrix, cmap = 'vlag')\n",
    "    cumsum = list(np.cumsum(bad_in_month))\n",
    "    ax.hlines(cumsum, *ax.get_xlim(), color = 'black', linewidth = 0.6)\n",
    "    ax.vlines(cumsum, *ax.get_xlim(), color = 'black', linewidth = 0.6)"
   ]
  },
  {
   "cell_type": "markdown",
   "metadata": {},
   "source": [
    "### Viewing bad data\n",
    "1. number of bad types, mean of each type, data counts in each type (in 'Bad_Types')\n",
    "2. record all variable-combination of bad types (in 'Bad')\n",
    "3. print out the id of all bad types in each month "
   ]
  },
  {
   "cell_type": "code",
   "execution_count": 6,
   "metadata": {
    "ExecuteTime": {
     "end_time": "2021-08-27T14:10:43.227327Z",
     "start_time": "2021-08-27T14:10:43.217390Z"
    }
   },
   "outputs": [],
   "source": [
    "def Balance_Ratio(data, label = 'GB', n = 5):\n",
    "    \n",
    "    r = len(data[data[label] == 0]) / len(data[data[label] == 1])\n",
    "    r = np.around(r, decimals = n)\n",
    "    \n",
    "    return r\n",
    "\n",
    "\n",
    "def Bad_Type_def(DataSet_All, label = 'GB'):\n",
    "    \n",
    "    Data = DataSet_All.copy()\n",
    "    Data['cb'] = Data[Data.columns[1:-1]].apply(lambda x:'_'.join(x.astype(str)), axis = 1) #join all the variable into a string\n",
    "    Data[f'{label}_mean'] = Data.groupby('cb')[label].transform('mean') \n",
    "    #calculate mean of GB based on 'cb' variable each data possesses\n",
    "    Data[f'{label}_count'] = Data.groupby('cb')[label].transform('count') # calculate data numbers share the same 'cb' variable\n",
    "    Data['Bad_count'] = Data.groupby('cb')[label].transform('sum') # calculate #bad data (baesd on GB) \n",
    "    All_Bad = Data[Data[label] == 1]\n",
    "    print('Number of Bad:', len(All_Bad))\n",
    "    All_Bad = All_Bad.sort_values(['Bad_count', f'{label}_mean'], ascending = [False, False])\n",
    "    Bad_Types = All_Bad.drop_duplicates(subset = 'cb')\n",
    "    Bad_Types = Bad_Types[['cb', f'{label}_mean', 'Bad_count']].reset_index(drop = True) \n",
    "    # bad type number based on how many kinds of'cb' \n",
    "    print('Types of Bad:', len(Bad_Types), '\\n')\n",
    "    \n",
    "    return Bad_Types\n",
    "\n",
    "\n",
    "def TypeOfBad(df, Bad_Types, sorting = True, label = 'GB'):\n",
    "    \n",
    "    Set_Bad = df[df[label] == 1]\n",
    "    Bad = []\n",
    "    for j in range(len(Set_Bad)):\n",
    "        Key = Set_Bad.iloc[:, 1:-1].apply(lambda x:'_'.join(x.astype(str)),axis = 1) # concatenate variables as a string\n",
    "        index = Bad_Types[Bad_Types['cb'] == Key.values[j]].index.item()\n",
    "        Bad.append(index)\n",
    "        if sorting: \n",
    "            Bad.sort() # sorting = True\n",
    "\n",
    "    print('Types of Bad :\\n',Bad,'\\n')\n",
    "    \n",
    "    return Bad\n",
    "\n",
    "    \n",
    "def Bad_Type_by_Time(DataSet_split, Bad_Types, label = 'GB'):\n",
    "    \n",
    "    data = DataSet_split\n",
    "    \n",
    "    TimeSeries = data.sort_values(['year', 'month', 'day']) ## BAD ID of each month\n",
    "    for i in TimeSeries['month'].unique():\n",
    "\n",
    "        print('Month',i,':\\n')\n",
    "        TS = TimeSeries[TimeSeries.month == i].iloc[:, :-3] #exclude day, month and year\n",
    "        TypeOfBad(TS, Bad_Types, sorting = False, label = label) # view id of bad type in each month"
   ]
  },
  {
   "cell_type": "markdown",
   "metadata": {},
   "source": [
    "## Data Processing\n",
    "1. read 7 raw data\n",
    "2. combine 7 dataframe \n",
    "3. split training & testing data by specific date  \n",
    "4. view variables in runhist_array\n",
    "5. identify bad data"
   ]
  },
  {
   "cell_type": "code",
   "execution_count": 7,
   "metadata": {
    "ExecuteTime": {
     "end_time": "2021-08-27T14:10:53.392725Z",
     "start_time": "2021-08-27T14:10:44.416747Z"
    },
    "scrolled": true
   },
   "outputs": [
    {
     "name": "stdout",
     "output_type": "stream",
     "text": [
      "DataSet: (136298, 84)\n",
      "\n",
      "runhist_cell_boru: (133600, 76) \n",
      "\n",
      "Array_repair_m8_m3: (610816, 5) \n",
      "Cell_test_m8_m3: (388895, 4) \n",
      "Cell_repair_m8_m3: (10854, 6) \n",
      "Risk_db_m8_m3: (582277, 4) \n",
      "Module_m8_m3: (212958, 6) \n",
      "Module_m2_m7: (278282, 6) \n",
      "Runhist_array_m8_m1: (1767053, 4) \n",
      "Runhist_array_m2_m7: (3286465, 4) \n",
      "ID_mapping_m8_m1: (120289, 3) \n",
      "ID_mapping_m2_m7: (278282, 3) \n",
      "Runhist_cell_m8_m1: (1505312, 4) \n",
      "Runhist_cell_m2_m7: (2943513, 5)\n"
     ]
    }
   ],
   "source": [
    "##### event data######\n",
    "module = pd.read_csv(\"event/Module_all.csv\").iloc[:,1:]\n",
    "risk_db = pd.read_csv(\"event/risk_db_all.csv\").iloc[:,1:]\n",
    "array_repair = pd.read_csv(\"event/array_repair_all.csv\").iloc[:,1:]\n",
    "cell_repair = pd.read_csv(\"event/cell_repair_all.csv\").iloc[:,1:]\n",
    "cell_test = pd.read_csv(\"event/cell_test_all.csv\").iloc[:,1:]\n",
    "DataSet = pd.read_csv(\"event/DataSet.csv\").iloc[:,1:]\n",
    "print('DataSet:', DataSet.shape)\n",
    "\n",
    "array_repair_m23 = pd.read_csv('event/data_m2m3/array_repair.csv')\n",
    "array_repair_m45 = pd.read_csv('event/data_m4m5/array_repair.csv')\n",
    "array_repair_m67 = pd.read_csv('event/data_m6m7/array_repair.csv')\n",
    "array_repair_m2_m7 = pd.concat([array_repair_m23, array_repair_m45, array_repair_m67])\n",
    "cell_repair_m23 = pd.read_csv('event/data_m2m3/cell_repair.csv')\n",
    "cell_repair_m45 = pd.read_csv('event/data_m4m5/cell_repair.csv')\n",
    "cell_repair_m67 = pd.read_csv('event/data_m6m7/cell_repair.csv')\n",
    "cell_repair_m2_m7 = pd.concat([cell_repair_m23, cell_repair_m45, cell_repair_m67])\n",
    "cell_test_m23 = pd.read_csv('event/data_m2m3/cell_test.csv')\n",
    "cell_test_m45 = pd.read_csv('event/data_m4m5/cell_test.csv')\n",
    "cell_test_m67 = pd.read_csv('event/data_m6m7/cell_test.csv')\n",
    "cell_test_m2_m7 = pd.concat([cell_test_m23, cell_test_m45, cell_test_m67])\n",
    "risk_db_m23 = pd.read_csv('event/data_m2m3/risk_db.csv')\n",
    "risk_db_m45 = pd.read_csv('event/data_m4m5/risk_db.csv')\n",
    "risk_db_m67 = pd.read_csv('event/data_m6m7/risk_db.csv')\n",
    "risk_db_m2_m7 = pd.concat([risk_db_m23, risk_db_m45, risk_db_m67])\n",
    "module_m23 = pd.read_csv('event/data_m2m3/module.csv')\n",
    "module_m45 = pd.read_csv('event/data_m4m5/module.csv')\n",
    "module_m67 = pd.read_csv('event/data_m6m7/module.csv')\n",
    "module_m2_m7 = pd.concat([module_m23, module_m45, module_m67])\n",
    "\n",
    "##### runhist data #####\n",
    "runhist_array_m1 = pd.read_csv('ARRAY_RunHist/runhist_array_m1.csv')\n",
    "runhist_array_m2 = pd.read_csv('ARRAY_RunHist/runhist_array_m2m3.csv')\n",
    "runhist_array_m8 = pd.read_csv('ARRAY_RunHist/runhist_array_m8m9m10m11.csv')\n",
    "runhist_array_m12 = pd.read_csv('ARRAY_RunHist/runhist_array_m12.csv')\n",
    "runhist_array_m8_m1 = pd.concat([runhist_array_m8, runhist_array_m12, runhist_array_m1])\n",
    "runhist_array_m23 = pd.read_csv('ARRAY_RunHist/data_runhist_array_m2m3/runhist_array.csv')\n",
    "runhist_array_m45 = pd.read_csv('ARRAY_RunHist/data_runhist_array_m4m5/runhist_array.csv')\n",
    "runhist_array_m67 = pd.read_csv('ARRAY_RunHist/data_runhist_array_m6m7/runhist_array.csv')\n",
    "runhist_array_m2_m7 = pd.concat([runhist_array_m23, runhist_array_m45, runhist_array_m67])\n",
    "id_mapping_m23 = pd.read_csv('ARRAY_RunHist/data_runhist_array_m2m3/id_mapping.csv')\n",
    "id_mapping_m45 = pd.read_csv('ARRAY_RunHist/data_runhist_array_m4m5/id_mapping.csv')\n",
    "id_mapping_m67 = pd.read_csv('ARRAY_RunHist/data_runhist_array_m6m7/id_mapping.csv')\n",
    "id_mapping_m2_m7 = pd.concat([id_mapping_m23, id_mapping_m45, id_mapping_m67])\n",
    "id_mapping_m1 = pd.read_csv('ARRAY_RunHist/id_mapping_m1.csv')\n",
    "id_mapping_m2 = pd.read_csv('ARRAY_RunHist/id_mapping_m2m3.csv')\n",
    "id_mapping_m8 = pd.read_csv('ARRAY_RunHist/id_mapping_m8m9m10m11.csv')\n",
    "id_mapping_m12 = pd.read_csv('ARRAY_RunHist/id_mapping_m12.csv')\n",
    "id_mapping_m8_m1 = pd.concat([id_mapping_m8, id_mapping_m12, id_mapping_m1])\n",
    "runhist_cell_m1 = pd.read_csv('ARRAY_RunHist/runhist_cell_m1.csv')\n",
    "runhist_cell_m2 = pd.read_csv('ARRAY_RunHist/runhist_cell_m2m3.csv')\n",
    "runhist_cell_m8 = pd.read_csv('ARRAY_RunHist/runhist_cell_m8m9m10m11.csv')\n",
    "runhist_cell_m12 = pd.read_csv('ARRAY_RunHist/runhist_cell_m12.csv')\n",
    "runhist_cell_m8_m1 = pd.concat([runhist_cell_m8, runhist_cell_m12, runhist_cell_m1])\n",
    "runhist_cell_m23 = pd.read_csv('ARRAY_RunHist/data_runhist_cell_m2m3/runhist_cell.csv')\n",
    "runhist_cell_m45 = pd.read_csv('ARRAY_RunHist/data_runhist_cell_m4m5/runhist_cell_m4m5.csv')\n",
    "runhist_cell_m67 = pd.read_csv('ARRAY_RunHist/data_runhist_cell_m6m7/runhist_cell.csv')\n",
    "runhist_cell_m2_m7 = pd.concat([runhist_cell_m23, runhist_cell_m45, runhist_cell_m67])\n",
    "\n",
    "runhist_cell_boru = pd.read_csv('ARRAY_RunHist/binary_encoding_RunHistoryCell_label.csv').iloc[:, :76]\n",
    "print('\\nrunhist_cell_boru:', runhist_cell_boru.shape, '\\n')\n",
    "\n",
    "##### dimension of all the dataframes ######\n",
    "print('Array_repair_m8_m3:', array_repair.shape,\n",
    "      '\\nCell_test_m8_m3:',cell_test.shape, \n",
    "      '\\nCell_repair_m8_m3:', cell_repair.shape, \n",
    "      '\\nRisk_db_m8_m3:', risk_db.shape, \n",
    "      '\\nModule_m8_m3:', module.shape, \n",
    "      '\\nModule_m2_m7:', module_m2_m7.shape, \n",
    "      '\\nRunhist_array_m8_m1:', runhist_array_m8_m1.shape,\n",
    "      '\\nRunhist_array_m2_m7:', runhist_array_m2_m7.shape,\n",
    "      '\\nID_mapping_m8_m1:', id_mapping_m8_m1.shape, \n",
    "      '\\nID_mapping_m2_m7:', id_mapping_m2_m7.shape, \n",
    "      '\\nRunhist_cell_m8_m1:', runhist_cell_m8_m1.shape,\n",
    "      '\\nRunhist_cell_m2_m7:', runhist_cell_m2_m7.shape\n",
    ")"
   ]
  },
  {
   "cell_type": "markdown",
   "metadata": {},
   "source": [
    "### Event data"
   ]
  },
  {
   "cell_type": "code",
   "execution_count": null,
   "metadata": {
    "scrolled": true
   },
   "outputs": [],
   "source": [
    "##### merge 5 dataframes #####\n",
    "DataSet = DataSet_Sorted(array_repair, cell_test, cell_repair, risk_db, Module, id_mapping, runhist_array)\n",
    "print('Dimension of Merged Data:', DataSet.shape, '\\nBR:', Balance_Ratio(DataSet))\n",
    "DataSet_All = DataSet.copy()\n",
    "DataSet_All = DataSet_All.drop('shift_date', axis = 1)"
   ]
  },
  {
   "cell_type": "code",
   "execution_count": null,
   "metadata": {},
   "outputs": [],
   "source": [
    "##### output the event data #####\n",
    "TrainingSet_0, TestingSet_0, DataSet_split = Train_Test(DataSet)\n",
    "print('TrainingSet_0:', TrainingSet_0.shape, ', Balance Ratio:', Balance_Ratio(TrainingSet_0), \\\n",
    "      '\\nTestingSet_0:', TestingSet_0.shape, ', Balance Ratio:', Balance_Ratio(TestingSet_0),'\\n')\n",
    "\n",
    "DataSet = pd.concat([TrainingSet_0, TestingSet_0])\n",
    "DataSet.to_csv('DataSet.csv')\n",
    "TrainingSet_0.to_csv('TrainingSet_0.csv')\n",
    "TestingSet_0.to_csv('TestingSet_0.csv')"
   ]
  },
  {
   "cell_type": "code",
   "execution_count": null,
   "metadata": {},
   "outputs": [],
   "source": [
    "##### output bad types #####\n",
    "Bad_Types = Bad_Type_def(DataSet_All)\n",
    "Bad_Types.to_csv('Bad_Types.csv')\n",
    "\n",
    "Bad_Type_by_Time(DataSet_split, Bad_Types)\n",
    "print('\\nTrainingSet:')\n",
    "train_bad = TypeOfBad(TrainingSet_0, Bad_Types, sorting = True)\n",
    "print('\\nTestingSet:')\n",
    "test_bad = TypeOfBad(TestingSet_0, Bad_Types, sorting = True)"
   ]
  },
  {
   "cell_type": "markdown",
   "metadata": {},
   "source": [
    "### Runhist data"
   ]
  },
  {
   "cell_type": "markdown",
   "metadata": {},
   "source": [
    "#### Feature infos in each month"
   ]
  },
  {
   "cell_type": "code",
   "execution_count": null,
   "metadata": {
    "ExecuteTime": {
     "end_time": "2021-08-27T07:32:53.048258Z",
     "start_time": "2021-08-27T07:28:43.015812Z"
    }
   },
   "outputs": [],
   "source": [
    "##### split the runhist data to one-month #####\n",
    "# count list of m8 - m1 = [22817, 44206, 62346, 81380, 101997, 119545, _, _]\n",
    "# count list of m2 - m7 = [39193, 100305, 160099, 210932, 220610]\n",
    "old_module = new_shift(module)\n",
    "old_module = order_module(old_module)\n",
    "new_module = order_module(module_m2_m7)\n",
    "\n",
    "module_m8 = old_module.loc[:22817]\n",
    "module_m9 = old_module.loc[22817:44206]\n",
    "module_m10 = old_module.loc[44206:62346]\n",
    "module_m11 = old_module.loc[62346:81380]\n",
    "module_m12 = old_module.loc[81380:101997]\n",
    "module_m1 = old_module.loc[101997:119545]\n",
    "\n",
    "array_m8, _, _ = runhist_array_m2to7(runhist_array_m8, id_mapping_m8, module_m8, sep_date = '2020-9-1')\n",
    "array_m9, _, _ = runhist_array_m2to7(runhist_array_m8, id_mapping_m8, module_m9, sep_date = '2020-10-1')\n",
    "array_m10, _, _ = runhist_array_m2to7(runhist_array_m8, id_mapping_m8, module_m10, sep_date = '2020-11-1')\n",
    "array_m11, _, _ = runhist_array_m2to7(runhist_array_m8, id_mapping_m8, module_m11, sep_date = '2020-12-1')\n",
    "array_m12, _, _ = runhist_array_m2to7(runhist_array_m12, id_mapping_m12, module_m12, sep_date = '2020-1-1')\n",
    "array_m1, _, _ = runhist_array_m2to7(runhist_array_m1, id_mapping_m1, module_m1, sep_date = '2021-2-1')\n",
    "\n",
    "array_m2, array_m3, _ = runhist_array_m2to7(runhist_array_m23, id_mapping_m23, module_m23, sep_date = '2021-03-01')\n",
    "array_m4, array_m5, _ = runhist_array_m2to7(runhist_array_m45, id_mapping_m45, module_m45, sep_date = '2021-05-01')\n",
    "array_m6, array_m7, _ = runhist_array_m2to7(runhist_array_m67, id_mapping_m67, module_m67, sep_date = '2021-07-01')"
   ]
  },
  {
   "cell_type": "code",
   "execution_count": null,
   "metadata": {
    "ExecuteTime": {
     "end_time": "2021-08-27T08:19:12.189711Z",
     "start_time": "2021-08-27T08:19:11.831537Z"
    }
   },
   "outputs": [],
   "source": [
    "##### to see features that actually shows variation in specific month #####\n",
    "def actual_features(target_array, print_features = True) :\n",
    "    \n",
    "    sumup = target_array.iloc[:, 1:-1].apply(sum, axis = 0)\n",
    "    mask = [sumup != 0][0]\n",
    "    cols = target_array.iloc[:, 1:-1].columns[mask]\n",
    "    if print_features :\n",
    "        for x, y in enumerate(cols) :\n",
    "            print(x, y)\n",
    "    \n",
    "    return cols\n",
    "\n",
    "##### count the numbers of rework(+) in the features #####\n",
    "def count_rework(month_cols) :\n",
    "\n",
    "    eqp_list = []\n",
    "    op_list = []\n",
    "    rework_list = []\n",
    "\n",
    "    for i, name in enumerate(month_cols) :\n",
    "        split = name.split('_')\n",
    "        if split[1] == 'eqp' :\n",
    "            eqp_list.append(name)\n",
    "        elif split[0] == 'op' :\n",
    "            op_list.append(name)\n",
    "            if '+' in split[3] :\n",
    "                rework_list.append(name)\n",
    "\n",
    "    print('counts of equipment:', len(eqp_list), \n",
    "          '\\ncounts of operation:', len(op_list), \n",
    "          '\\ncounts of rework:', len(rework_list))\n",
    "    \n",
    "    return rework_list\n",
    "\n",
    "#       \n",
    "feature_cols = actual_features(array_m7, print_features = False)\n",
    "rework_list = count_rework(feature_cols)"
   ]
  },
  {
   "cell_type": "markdown",
   "metadata": {
    "ExecuteTime": {
     "end_time": "2021-08-09T07:12:10.542428Z",
     "start_time": "2021-08-09T07:12:10.535447Z"
    }
   },
   "source": [
    "#### runhist array"
   ]
  },
  {
   "cell_type": "code",
   "execution_count": 54,
   "metadata": {
    "ExecuteTime": {
     "end_time": "2021-08-27T14:48:59.166738Z",
     "start_time": "2021-08-27T14:44:49.549324Z"
    }
   },
   "outputs": [
    {
     "name": "stdout",
     "output_type": "stream",
     "text": [
      "Dimension of unique id in runhist_array: (120255, 177)\n",
      "Dimension of unique id in runhist_array: (256799, 164)\n",
      "Dimension of unique id in module_train: (160099, 2) \n",
      "Dimension of unique id in module_test: (118148, 2)\n",
      "Dimension of unique id in runhist_array_train: (157114, 165) \n",
      "Dimension of unique id in runhist_array_test: (99685, 165)\n",
      "Dimension of unique id in runhist_array: (99400, 158)\n",
      "Dimension of unique id in module_train: (39153, 2) \n",
      "Dimension of unique id in module_test: (61181, 2)\n",
      "Dimension of unique id in runhist_array_train: (39004, 159) \n",
      "Dimension of unique id in runhist_array_test: (60396, 159)\n",
      "Dimension of unique id in runhist_array: (106392, 160)\n",
      "Dimension of unique id in module_train: (59794, 2) \n",
      "Dimension of unique id in module_test: (50833, 2)\n",
      "Dimension of unique id in runhist_array_train: (57743, 161) \n",
      "Dimension of unique id in runhist_array_test: (48649, 161)\n",
      "Dimension of unique id in runhist_array: (51035, 163)\n",
      "Dimension of unique id in module_train: (9678, 2) \n",
      "Dimension of unique id in module_test: (57637, 2)\n",
      "Dimension of unique id in runhist_array_train: (7792, 164) \n",
      "Dimension of unique id in runhist_array_test: (43243, 164)\n"
     ]
    }
   ],
   "source": [
    "##### combine runhist array m8m1 & m2m7 #####\n",
    "# preprocessing m8 - m1\n",
    "array_m8_m1 = runhist_array_m8to1(runhist_array_m8_m1, id_mapping_m8_m1, module, do_dummy = True)\n",
    "\n",
    "array_m2_m4, array_m5_m7, array_m2_m7 = runhist_array_m2to7(runhist_array_m2_m7, id_mapping_m2_m7, module_m2_m7, \n",
    "                                                         sep_date = '2021-05-01', no_dummy = False)\n",
    "\n",
    "# preprocessing m2 - m3, m4 -m5, m6 -m7 individually \n",
    "array_m2, array_m3, array_m2_m3 = runhist_array_m2to7(runhist_array_m23, id_mapping_m23, module_m23, \n",
    "                                                      sep_date = '2021-03-01', no_dummy = False)\n",
    "array_m4, array_m5, array_m4_m5 = runhist_array_m2to7(runhist_array_m45, id_mapping_m45, module_m45, \n",
    "                                                      sep_date = '2021-05-01', no_dummy = False)\n",
    "array_m6, array_m7, array_m6_m7 = runhist_array_m2to7(runhist_array_m67, id_mapping_m67, module_m67, \n",
    "                                                      sep_date = '2021-07-01', no_dummy = False)"
   ]
  },
  {
   "cell_type": "code",
   "execution_count": null,
   "metadata": {
    "ExecuteTime": {
     "end_time": "2021-08-21T15:49:01.956781Z",
     "start_time": "2021-08-21T15:48:45.423280Z"
    }
   },
   "outputs": [],
   "source": [
    "########## for whole-year data combination only ##########\n",
    "##### split runhist array data of whole year in to training & testing #####\n",
    "# first combine m23 & m4 as part of training data\n",
    "array_m2_m4 = pd.concat([array_m2_m3, array_m4], axis = 0).fillna(0)\n",
    "\n",
    "# put the order of columns right (id => cols in m81 => cols only in m24 => GB) \n",
    "col_m81 = array_m8_m1.columns.to_list()\n",
    "m81_lack = [x for x in array_m2_m4.columns if x not in col_m81]\n",
    "combine_col = col_m81[:-1] + m81_lack + col_m81[-1:]\n",
    "\n",
    "# combine training data (m8m1 + m2m4)\n",
    "train_combine = pd.concat([array_m8_m1, array_m2_m4], axis = 0).fillna(0)\n",
    "train_sort = train_combine[combine_col]\n",
    "train_uni = train_sort.groupby('id').max().reset_index()\n",
    "\n",
    "# find cols exist in training data but not testing data\n",
    "m57_lack = [x for x in combine_col if x not in array_m5_m7.columns]\n",
    "test_fill = test_array.copy()\n",
    "test_fill[m57_lack] = 0\n",
    "test_sort = test_fill[combine_col]\n",
    "test_uni = test_sort.groupby('id').max().reset_index()\n",
    "\n",
    "# combine all runhist array\n",
    "all_sort = pd.concat([train_uni, test_uni], axis = 0)"
   ]
  },
  {
   "cell_type": "code",
   "execution_count": 10,
   "metadata": {
    "ExecuteTime": {
     "end_time": "2021-08-27T14:13:21.086861Z",
     "start_time": "2021-08-27T14:13:21.076933Z"
    }
   },
   "outputs": [],
   "source": [
    "##### only keep the instances exist in event data #####\n",
    "#it means every id must present in module & array_repair, and at least exist once in cell_repair, cell_test or risk_db\n",
    "train_m81_dset = dataset_index(array_m8_m1, array_repair, cell_repair, cell_test, risk_db, module)\n",
    "test_m23_dset = dataset_index(array_m2_m3, array_repair_m23, cell_repair_m23, cell_test_m23, risk_db_m23, module_m23) \n",
    "test_m45_dset = dataset_index(array_m4_m5, array_repair_m45, cell_repair_m45, cell_test_m45, risk_db_m45, module_m45)\n",
    "test_m67_dset = dataset_index(array_m6_m7, array_repair_m67, cell_repair_m67, cell_test_m67, risk_db_m67, module_m67)"
   ]
  },
  {
   "cell_type": "code",
   "execution_count": 59,
   "metadata": {
    "ExecuteTime": {
     "end_time": "2021-08-27T14:53:06.180289Z",
     "start_time": "2021-08-27T14:53:04.507086Z"
    },
    "scrolled": false
   },
   "outputs": [],
   "source": [
    "##### only keep the equipment & operation id info exist in training data #####\n",
    "train_array = dataset_index(array_m8_m1, array_repair, cell_repair, cell_test, risk_db, module)\n",
    "test_array = feature_filter(array_m8_m1, m23_old)"
   ]
  },
  {
   "cell_type": "markdown",
   "metadata": {},
   "source": [
    "#### Comparison between new & old m2m3 "
   ]
  },
  {
   "cell_type": "code",
   "execution_count": 13,
   "metadata": {
    "ExecuteTime": {
     "end_time": "2021-08-27T14:16:22.884047Z",
     "start_time": "2021-08-27T14:15:10.649990Z"
    },
    "collapsed": true
   },
   "outputs": [
    {
     "name": "stdout",
     "output_type": "stream",
     "text": [
      "Dimension of unique id in runhist_array: (92668, 156)\n",
      "Dimension of unique id in runhist_array: (99400, 158)\n",
      "Dimension of unique id in module_train: (39153, 2) \n",
      "Dimension of unique id in module_test: (61181, 2)\n",
      "Dimension of unique id in runhist_array_train: (39004, 159) \n",
      "Dimension of unique id in runhist_array_test: (60396, 159)\n"
     ]
    },
    {
     "data": {
      "text/plain": [
       "Index(['label_eqp_ADCVDB00_D'], dtype='object')"
      ]
     },
     "execution_count": 13,
     "metadata": {},
     "output_type": "execute_result"
    }
   ],
   "source": [
    "#### Comparison between new & old m2m3 data #####\n",
    "#combine with module\n",
    "m23_old = runhist_array_m8to1(runhist_array_m2, id_mapping_m2, module, do_dummy = True)\n",
    "_, _, m23_new = runhist_array_m2to7(runhist_array_m23, id_mapping_m23, module_m23, sep_date = '2021-03-01'\n",
    "                                    , no_dummy = False)\n",
    "\n",
    "# combine with all the other event data\n",
    "old_dset = dataset_index(m23_old, array_repair, cell_repair, cell_test, risk_db, module)\n",
    "new_dset = dataset_index(m23_new, array_repair_m23, cell_repair_m23, cell_test_m23, risk_db_m23, module_m23)\n",
    "\n",
    "# instances that exist in both new & old datasets (or difference between two datasets)\n",
    "old_lack = [(x not in old_dset.id.values) for x in new_dset.id]\n",
    "new_lack = [(x not in new_dset.id.values) for x in old_dset.id]\n",
    "\n",
    "# sum up each feature's value to examine whether the feature exhibit variation\n",
    "sumup = new_dset.iloc[:, 1:].apply(sum, axis = 0) == 0\n",
    "no_variation = new_dset.iloc[:, 1:].columns[sumup]"
   ]
  },
  {
   "cell_type": "markdown",
   "metadata": {},
   "source": [
    "#### runhist cell"
   ]
  },
  {
   "cell_type": "code",
   "execution_count": null,
   "metadata": {
    "ExecuteTime": {
     "end_time": "2021-08-16T15:07:53.845893Z",
     "start_time": "2021-08-16T15:05:07.252253Z"
    }
   },
   "outputs": [],
   "source": [
    "##### merge runhist cell (m2-m7) #####\n",
    "runhist_cell_m2_m5 = pd.concat([runhist_cell_m23, runhist_cell_m45])\n",
    "id_mapping_m2_m5 = pd.concat([id_mapping_m23, id_mapping_m45])\n",
    "module_m2_m5 = pd.concat([module_m23, module_m45])\n",
    "\n",
    "train_cell, test_cell, all_cell = runhist_cell_m2to7(runhist_cell_m2_m5, id_mapping_m2_m5, module_m2_m5, \n",
    "                                                     sep_date = '2021-05-01', no_dummy = False)"
   ]
  },
  {
   "cell_type": "code",
   "execution_count": null,
   "metadata": {
    "ExecuteTime": {
     "end_time": "2021-08-16T15:08:07.137403Z",
     "start_time": "2021-08-16T15:07:54.237801Z"
    }
   },
   "outputs": [],
   "source": [
    "##### merge runhist array & cell #####\n",
    "train_runhist, test_runhist = array_cell(train_array, test_array, train_cell, test_cell, module, sep_date = '2021-05-01')\n",
    "all_runhist = pd.concat([train_runhist, test_runhist])\n",
    "\n",
    "print('Balance Ratio of all runhist data:', Balance_Ratio(all_runhist))\n",
    "train_runhist.to_csv('train_runhist.csv')\n",
    "test_runhist.to_csv('test_runhist.csv')\n",
    "all_runhist.to_csv('runhist.csv')"
   ]
  },
  {
   "cell_type": "markdown",
   "metadata": {},
   "source": [
    "#### plot features"
   ]
  },
  {
   "cell_type": "code",
   "execution_count": null,
   "metadata": {
    "ExecuteTime": {
     "end_time": "2021-08-20T13:07:05.040435Z",
     "start_time": "2021-08-20T13:07:04.155577Z"
    },
    "scrolled": true
   },
   "outputs": [],
   "source": [
    "##### plot distribution of features #####\n",
    "feature_distribution(all_array)"
   ]
  },
  {
   "cell_type": "code",
   "execution_count": null,
   "metadata": {
    "ExecuteTime": {
     "end_time": "2021-07-28T08:05:03.746809Z",
     "start_time": "2021-07-28T08:05:03.458230Z"
    }
   },
   "outputs": [],
   "source": [
    "##### for machine without chamber number (m8-m3) #####\n",
    "no_number = ['ADRIE100', 'ADRIE200', 'ADRIE300', 'ADRIE400', 'ADRIE500', 'ADRIE600', 'ADRIE800', 'ADRIE900', 'ADRIEA00']\n",
    "no_number2 = ['ADCVD100', 'ADCVD200', 'ADCVD300', 'ADCVD600', 'ADCVD700', 'ADCVD800', 'ADCVD900', 'ADCVDA00', 'ADCVDB00']\n",
    "no_number.extend(no_number2)\n",
    "col_target = ['label_eqp_' + x for x in no_number]\n",
    "\n",
    "runhist_chamber = runhist[col_target]\n",
    "bad_count = runhist_chamber.apply(lambda x : sum(x*runhist.GB), axis = 0)\n",
    "chamber_mean = runhist_chamber.apply(np.sum, axis = 0)\n",
    "\n",
    "fig, axs = plt.subplots(1, 2, figsize = (12, 4))\n",
    "fig.suptitle('Machine without Chamber Number in Runhist_Array')\n",
    "axs[0].plot(range(len(chamber_mean)), chamber_mean, 'b.', markersize = 15)\n",
    "axs[0].set_xlabel('Variable Index')\n",
    "axs[0].set_ylabel('Count')\n",
    "axs[0].set_title('Counts in Each Machine')\n",
    "axs[1].plot(range(len(bad_count)), bad_count, 'r.', markersize = 15)\n",
    "axs[1].set_xlabel('Variable Index')\n",
    "axs[1].set_ylabel('Count')\n",
    "axs[1].set_title('Bad Counts in Each Machine')"
   ]
  },
  {
   "cell_type": "markdown",
   "metadata": {},
   "source": [
    "#### plot distance"
   ]
  },
  {
   "cell_type": "code",
   "execution_count": null,
   "metadata": {
    "ExecuteTime": {
     "end_time": "2021-08-11T12:32:50.757167Z",
     "start_time": "2021-08-11T12:32:46.762065Z"
    },
    "scrolled": true
   },
   "outputs": [],
   "source": [
    "##### bad counts in module in each month #####\n",
    "GB_inner_m8_m1 = module.merge(array_old['id'], on = 'id', how = 'inner')\n",
    "date_m8_m1 = GB_inner_m8_m1.shift_date.str.split('/', expand = True).astype(int)\n",
    "date_m8_m1.columns = ['month', 'day', 'year']\n",
    "\n",
    "GB_inner_m2_m7 = module_m2_m7.merge(all_array['id'], on = 'id', how = 'inner')\n",
    "date_m2_m7 = GB_inner_m2_m7.shift_date.str.split('-', expand = True).astype(int)\n",
    "date_m2_m7.columns = ['year', 'month', 'day']\n",
    "\n",
    "bad_counts = []\n",
    "all_month = list(range(8, 13)) + list(range(1, 8))\n",
    "for index, months in enumerate(all_month) :\n",
    "    if index < 6 :\n",
    "        month_index = np.logical_and(GB_inner_m8_m1.GB == 1, date_m8_m1.month == months)\n",
    "        length = len(GB_inner_m8_m1[month_index])\n",
    "    else :\n",
    "        month_index = np.logical_and(GB_inner_m2_m7.GB == 1, date_m2_m7.month == months)\n",
    "        length = len(GB_inner_m2_m7[month_index])\n",
    "    \n",
    "    bad_counts.append(length)\n",
    "# all bad_counts = [8, 12, 13, 8, 17, 7, 31, 46, 54, 51, 7, 37]"
   ]
  },
  {
   "cell_type": "code",
   "execution_count": null,
   "metadata": {
    "ExecuteTime": {
     "end_time": "2021-08-11T12:34:17.198559Z",
     "start_time": "2021-08-11T12:34:15.995277Z"
    },
    "scrolled": true
   },
   "outputs": [],
   "source": [
    "##### cauculate distance between bad instances #####\n",
    "bad_counts = [8, 12, 13, 8, 17, 7, 31, 46, 54, 51, 7, 37]\n",
    "distance_heatmap(all_runhist, bad_counts[6:10])"
   ]
  },
  {
   "cell_type": "code",
   "execution_count": 71,
   "metadata": {
    "ExecuteTime": {
     "end_time": "2021-08-27T15:01:54.337023Z",
     "start_time": "2021-08-27T15:01:45.392624Z"
    },
    "scrolled": true
   },
   "outputs": [
    {
     "data": {
      "image/png": "[encoded data removed]",
      "text/plain": [
       "<Figure size 864x432 with 2 Axes>"
      ]
     },
     "metadata": {
      "needs_background": "light"
     },
     "output_type": "display_data"
    }
   ],
   "source": [
    "##### plot distance between instances #####\n",
    "distance_histogram(all_runhist)"
   ]
  },
  {
   "cell_type": "markdown",
   "metadata": {},
   "source": [
    "#### bad types"
   ]
  },
  {
   "cell_type": "code",
   "execution_count": 95,
   "metadata": {
    "ExecuteTime": {
     "end_time": "2021-08-27T15:13:58.727926Z",
     "start_time": "2021-08-27T15:13:49.574028Z"
    }
   },
   "outputs": [
    {
     "name": "stdout",
     "output_type": "stream",
     "text": [
      "Number of Bad: 33\n",
      "Types of Bad: 33 \n",
      "\n"
     ]
    }
   ],
   "source": [
    "run_bad_types = Bad_Type_def(test_array)\n",
    "#run_bad_types.to_csv('run_bad_types.csv')"
   ]
  }
 ],
 "metadata": {
  "hide_input": false,
  "kernelspec": {
   "display_name": "Python [conda env:aging]",
   "language": "python",
   "name": "conda-env-aging-py"
  },
  "language_info": {
   "codemirror_mode": {
    "name": "ipython",
    "version": 3
   },
   "file_extension": ".py",
   "mimetype": "text/x-python",
   "name": "python",
   "nbconvert_exporter": "python",
   "pygments_lexer": "ipython3",
   "version": "3.7.10"
  },
  "toc": {
   "base_numbering": 1,
   "nav_menu": {},
   "number_sections": true,
   "sideBar": true,
   "skip_h1_title": false,
   "title_cell": "Table of Contents",
   "title_sidebar": "Contents",
   "toc_cell": false,
   "toc_position": {
    "height": "calc(100% - 180px)",
    "left": "10px",
    "top": "150px",
    "width": "307.2px"
   },
   "toc_section_display": true,
   "toc_window_display": true
  },
  "varInspector": {
   "cols": {
    "lenName": 16,
    "lenType": 16,
    "lenVar": 40
   },
   "kernels_config": {
    "python": {
     "delete_cmd_postfix": "",
     "delete_cmd_prefix": "del ",
     "library": "var_list.py",
     "varRefreshCmd": "print(var_dic_list())"
    },
    "r": {
     "delete_cmd_postfix": ") ",
     "delete_cmd_prefix": "rm(",
     "library": "var_list.r",
     "varRefreshCmd": "cat(var_dic_list()) "
    }
   },
   "types_to_exclude": [
    "module",
    "function",
    "builtin_function_or_method",
    "instance",
    "_Feature"
   ],
   "window_display": false
  }
 },
 "nbformat": 4,
 "nbformat_minor": 2
}
