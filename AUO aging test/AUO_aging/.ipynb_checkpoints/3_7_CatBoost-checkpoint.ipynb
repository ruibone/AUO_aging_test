{
 "cells": [
  {
   "cell_type": "code",
   "execution_count": null,
   "metadata": {
    "ExecuteTime": {
     "end_time": "2021-08-08T12:24:34.823170Z",
     "start_time": "2021-08-08T12:24:33.737635Z"
    }
   },
   "outputs": [],
   "source": [
    "import os\n",
    "import time\n",
    "import itertools\n",
    "import numpy as np\n",
    "import pandas as pd\n",
    "import pickle\n",
    "from tqdm.auto import tqdm\n",
    "import matplotlib.pyplot as plt\n",
    "\n",
    "import catboost\n",
    "from catboost import CatBoostClassifier, CatBoostRegressor\n",
    "import optuna\n",
    "from sklearn.model_selection import train_test_split, KFold\n",
    "\n",
    "from Dataset_Construction import Balance_Ratio \n",
    "from Sampling import label_divide\n",
    "from AdaClassifier import train_set, multiple_set, print_badC, bad_plot, line_chart, cf_matrix\n",
    "from AdaRegressor import AUC, PR_curve, multiple_curve, PR_matrix, best_threshold \n",
    "from Aging_Score import score1\n",
    "\n",
    "os.chdir('C:/Users/user/Desktop/Darui_R08621110') \n",
    "os.getcwd()"
   ]
  },
  {
   "cell_type": "markdown",
   "metadata": {},
   "source": [
    "### Boosting model"
   ]
  },
  {
   "cell_type": "code",
   "execution_count": null,
   "metadata": {
    "ExecuteTime": {
     "end_time": "2021-08-08T12:24:37.140916Z",
     "start_time": "2021-08-08T12:24:37.120807Z"
    }
   },
   "outputs": [],
   "source": [
    "def CatBoostC(train_x, test_x, train_y, test_y, config, cat_feature):\n",
    "    \n",
    "    clf = CatBoostClassifier(**config, verbose = 0)\n",
    "    clf.fit(train_x, train_y, cat_features = cat_feature)\n",
    "    predict_y = clf.predict(test_x)\n",
    "    result = pd.DataFrame({'truth': test_y, 'predict': predict_y})\n",
    "    \n",
    "    return result\n",
    "\n",
    "\n",
    "def CatBoostR(train_x, test_x, train_y, test_y, config, cat_feature):\n",
    "    \n",
    "    reg = CatBoostRegressor(**config, verbose = 0)\n",
    "    reg.fit(train_x, train_y, cat_features = cat_feature)\n",
    "    predict_y = reg.predict(test_x)\n",
    "    result = pd.DataFrame({'truth': test_y, 'predict': predict_y})\n",
    "\n",
    "    return result"
   ]
  },
  {
   "cell_type": "markdown",
   "metadata": {},
   "source": [
    "### Run all dataset"
   ]
  },
  {
   "cell_type": "code",
   "execution_count": null,
   "metadata": {
    "ExecuteTime": {
     "end_time": "2021-08-08T12:24:38.527993Z",
     "start_time": "2021-08-08T12:24:38.501178Z"
    }
   },
   "outputs": [],
   "source": [
    "def runall_CatBoostC(num_set, trainset_x, test_x, trainset_y, test_y, config, cat_feature, record_bad = True):\n",
    "    \n",
    "    table_set = pd.DataFrame()\n",
    "    bad_set = pd.DataFrame()\n",
    "    judge = list(config.keys())[0]\n",
    "\n",
    "    for i in range(num_set):\n",
    "        print('\\n', f'Dataset {i}:')\n",
    "        \n",
    "        if isinstance(config[judge], dict) :\n",
    "            best_config = config[f'set{i}']\n",
    "        else :\n",
    "            best_config = config\n",
    "        \n",
    "        result = CatBoostC(trainset_x[f'set{i}'], test_x, trainset_y[f'set{i}'], test_y, best_config, cat_feature)\n",
    "        table = cf_matrix(result, trainset_y[f'set{i}'])\n",
    "        table_set = pd.concat([table_set, table]).rename(index = {0: f'dataset {i}'})\n",
    "        \n",
    "        if record_bad:\n",
    "            bad_table = print_badC(result, test_x, Bad_Types) \n",
    "            bad_set = pd.concat([bad_set, bad_table]).rename(index = {0: f'dataset {i}'})\n",
    "\n",
    "    if record_bad:\n",
    "        return table_set, bad_set\n",
    "    else:\n",
    "        return table_set\n",
    "    \n",
    "    \n",
    "def runall_CatBoostR(num_set, trainset_x, test_x, trainset_y, test_y, config, cat_feature, thres_target = 'Recall', \n",
    "                     threshold = 0.8, record_bad = True):\n",
    "    \n",
    "    table_set = pd.DataFrame()\n",
    "    bad_set = pd.DataFrame()\n",
    "    pr_dict = {}\n",
    "    judge = list(config.keys())[0]\n",
    "\n",
    "    for i in range(num_set):\n",
    "        print('\\n', f'Dataset {i}:')\n",
    "        \n",
    "        if isinstance(config[judge], dict) :\n",
    "            best_config = config[f'set{i}']\n",
    "        else :\n",
    "            best_config = config\n",
    "\n",
    "        predict = CatBoostR(trainset_x[f'set{i}'], test_x, trainset_y[f'set{i}'], test_y, best_config, cat_feature)\n",
    "        pr_matrix = PR_matrix(predict, trainset_y[f'set{i}'])\n",
    "        pr_dict[f'set{i}'] = pr_matrix\n",
    "        \n",
    "        best_data, best_thres = best_threshold(pr_matrix, target = thres_target, threshold = threshold)\n",
    "        table_set = pd.concat([table_set, best_data]).rename(index = {best_data.index.values[0]: f'dataset {i}'})\n",
    "        \n",
    "        if record_bad:\n",
    "            bad_table = print_badC(predict, test_x, Bad_Types, threshold = best_thres)\n",
    "            bad_set = pd.concat([bad_set, bad_table]).rename(index = {0: f'dataset {i}'})\n",
    "    \n",
    "    if record_bad:\n",
    "        return pr_dict, table_set, bad_set\n",
    "    else:\n",
    "        return pr_dict, table_set"
   ]
  },
  {
   "cell_type": "markdown",
   "metadata": {},
   "source": [
    "## Data Processing"
   ]
  },
  {
   "cell_type": "code",
   "execution_count": null,
   "metadata": {
    "ExecuteTime": {
     "end_time": "2021-08-08T12:24:42.519203Z",
     "start_time": "2021-08-08T12:24:39.996112Z"
    }
   },
   "outputs": [],
   "source": [
    "###bad types###\n",
    "bad = pd.read_csv('event/Bad_Types.csv').iloc[:, 1:]\n",
    "Bad_Types = {bad.cb[i]:i for i in range (len(bad))}\n",
    "print('Total bad types:', len(bad))\n",
    "\n",
    "###single dataset###\n",
    "test = pd.read_csv('event/TestingSet_0.csv').iloc[:, 2:]\n",
    "train = pd.read_csv('event/TrainingSet_new.csv').iloc[:, 2:]\n",
    "print('\\ntraining data:', train.shape, '\\nBalance Ratio:', Balance_Ratio(train))\n",
    "print('\\ntesting data:', test.shape, '\\nBalance Ratio:', Balance_Ratio(test))\n",
    "\n",
    "train_x, train_y, test_x, test_y = label_divide(train, test, 'GB')\n",
    "\n",
    "###multiple dataset###\n",
    "data_dict = multiple_set(num_set = 9)\n",
    "trainset_x, trainset_y = train_set(data_dict, num_set = 9, label = 'GB')\n",
    "test_x, test_y = label_divide(test, None, 'GB', train_only = True)\n",
    "\n",
    "\n",
    "#####for runhist dataset#####\n",
    "# bad = pd.read_csv('run_bad_types.csv').iloc[:, 1:]\n",
    "# Bad_Types = {bad.cb[i]:i for i in range (len(bad))}\n",
    "# print('Total bad types:', len(bad))\n",
    "\n",
    "run_test = pd.read_csv('test_runhist.csv').iloc[:, 2:]\n",
    "run_test_x, run_test_y = label_divide(run_test, None, 'GB', train_only = True)\n",
    "print('\\n', 'Dimension of run test:', run_test.shape)"
   ]
  },
  {
   "cell_type": "markdown",
   "metadata": {},
   "source": [
    "### Classifier"
   ]
  },
  {
   "cell_type": "code",
   "execution_count": null,
   "metadata": {
    "ExecuteTime": {
     "end_time": "2021-08-08T12:33:22.246004Z",
     "start_time": "2021-08-08T12:32:18.809609Z"
    }
   },
   "outputs": [],
   "source": [
    "#table_set1, bad_set1 = runall_CatBoostC(9, trainset_x, test_x, trainset_y, test_y, cat_feature = [], event_clf_param)\n",
    "table_set1 = runall_CatBoostC(9, trainset_x, run_test_x, trainset_y, run_test_y, best_paramC, cat_feature = [],\n",
    "                              record_bad = False)\n",
    "line_chart(table_set1, title = 'CatBoost Classifier')\n",
    "#bad_plot(bad_set1)"
   ]
  },
  {
   "cell_type": "code",
   "execution_count": null,
   "metadata": {
    "ExecuteTime": {
     "end_time": "2021-08-08T12:34:10.620979Z",
     "start_time": "2021-08-08T12:34:10.597330Z"
    }
   },
   "outputs": [],
   "source": [
    "table_set1"
   ]
  },
  {
   "cell_type": "markdown",
   "metadata": {},
   "source": [
    "### Regressor"
   ]
  },
  {
   "cell_type": "code",
   "execution_count": null,
   "metadata": {
    "ExecuteTime": {
     "end_time": "2021-08-08T12:41:59.511645Z",
     "start_time": "2021-08-08T12:40:21.834565Z"
    },
    "scrolled": true
   },
   "outputs": [],
   "source": [
    "# pr_dict, table_set2, bad_set2 = runall_CatBoostR(9, trainset_x, test_x, trainset_y, test_y, event_reg_param, \n",
    "#                                                  thres_target = 'Recall', threshold = 0.8)\n",
    "pr_dict, table_set2 = runall_CatBoostR(9, trainset_x, run_test_x, trainset_y, run_test_y, best_paramR, cat_feature = [], \n",
    "                                       thres_target = 'Recall', threshold = 0.7, record_bad = False)\n",
    "line_chart(table_set2, title = 'CatBoost Regressor')\n",
    "#bad_plot(bad_set2)"
   ]
  },
  {
   "cell_type": "code",
   "execution_count": null,
   "metadata": {
    "ExecuteTime": {
     "end_time": "2021-08-08T12:42:08.756187Z",
     "start_time": "2021-08-08T12:42:06.564183Z"
    }
   },
   "outputs": [],
   "source": [
    "multiple_curve(3, 3, pr_dict, table_set2, target = 'Aging Rate')\n",
    "multiple_curve(3, 3, pr_dict, table_set2, target = 'Precision')\n",
    "table_set2"
   ]
  },
  {
   "cell_type": "markdown",
   "metadata": {},
   "source": [
    "## Optimization"
   ]
  },
  {
   "cell_type": "markdown",
   "metadata": {},
   "source": [
    "### Optuna"
   ]
  },
  {
   "cell_type": "code",
   "execution_count": null,
   "metadata": {
    "ExecuteTime": {
     "end_time": "2021-08-06T15:50:46.848308Z",
     "start_time": "2021-08-06T15:50:46.823375Z"
    }
   },
   "outputs": [],
   "source": [
    "def objective_creator(train_data, mode, cat_feature, num_valid = 3, label = 'GB') :\n",
    "\n",
    "    def objective(trial) :\n",
    "    \n",
    "        param_1 = {\n",
    "            #'objective': 'CrossEntropy',\n",
    "            'grow_policy': trial.suggest_categorical('grow_policy', ['SymmetricTree', 'Depthwise', 'Lossguide']),\n",
    "            'iterations': trial.suggest_int('iterations', 100, 300, step = 50),\n",
    "            'depth': trial.suggest_int('depth', 2, 12, step = 2),\n",
    "            'learning_rate': trial.suggest_float('learning_rate', 0.025, 0.325, step = 0.05),\n",
    "            'subsample': trial.suggest_float('subsample', 0.5, 0.9, step = 0.2),\n",
    "            'l2_leaf_reg': trial.suggest_loguniform('l2_leaf_reg', 1e-4, 10) # lambda\n",
    "        }\n",
    "        \n",
    "        if param_1['grow_policy'] == 'Depthwise' :\n",
    "            param_2 = {\n",
    "                'min_data_in_leaf': trial.suggest_int('min_data_in_leaf', 3, 30, step = 3)\n",
    "            }\n",
    "            param = {**param_1, **param_2}\n",
    "        \n",
    "        elif param_1['grow_policy'] == 'Lossguide' :\n",
    "            param_3 = {\n",
    "                'min_data_in_leaf': trial.suggest_int('min_data_in_leaf', 3, 30, step = 3),\n",
    "                'max_leaves': trial.suggest_int('max_leaves', 15, 50, step = 5)\n",
    "            }\n",
    "            param = {**param_1, **param_3}\n",
    "        \n",
    "        else :\n",
    "            param = param_1\n",
    "\n",
    "        result_list = []\n",
    "        for i in range(num_valid):\n",
    "\n",
    "            train_x, train_y = label_divide(train_data, None, label, train_only = True)\n",
    "            train_x, valid_x, train_y, valid_y = train_test_split(train_x, train_y, test_size = 0.25)\n",
    "\n",
    "            if mode == 'C':\n",
    "                result = CatBoostC(train_x, valid_x, train_y, valid_y, param, cat_feature)\n",
    "                table = cf_matrix(result, valid_y)\n",
    "                recall = table['Recall']\n",
    "                aging = table['Aging Rate']\n",
    "                effi = table['Efficiency']\n",
    "            \n",
    "                #result_list.append(effi)\n",
    "                result_list.append(recall - 0.1*aging)\n",
    "\n",
    "            elif mode == 'R':\n",
    "                result = CatBoostR(train_x, valid_x, train_y, valid_y, param, cat_feature)\n",
    "                pr_matrix = PR_matrix(result, valid_y)\n",
    "\n",
    "                #best_data, _ = best_threshold(pr_matrix, target = 'Recall', threshold = 0.8)\n",
    "                #aging = best_data['Aging Rate']\n",
    "                #result_list.append((-1)*aging)\n",
    "\n",
    "                auc = AUC(pr_matrix['Recall'], pr_matrix['Aging Rate'])\n",
    "                result_list.append((-1)*auc)\n",
    "\n",
    "        return np.mean(result_list)\n",
    "\n",
    "    return objective\n",
    "\n",
    "\n",
    "def all_optuna(num_set, all_data, mode, cat_feature, TPE_multi, n_iter, num_valid = 3, return_addition = True) :\n",
    "\n",
    "    best_param = {}\n",
    "    #all_study = {}\n",
    "    all_score = {}\n",
    "    for i in tqdm(range(num_set)) :\n",
    "        \n",
    "        ##### define objective function and change optimized target dataset in each loop #####\n",
    "        objective = objective_creator(train_data = data_dict[f'set{i}'], mode = mode, cat_feature = cat_feature,\n",
    "                                      num_valid = num_valid)\n",
    "        \n",
    "        ##### optimize one dataset in each loop #####\n",
    "        print(f'Dataset{i} :')\n",
    "        \n",
    "        study = optuna.create_study(sampler = optuna.samplers.TPESampler(multivariate = TPE_multi), \n",
    "                                       direction = 'maximize')\n",
    "        study.optimize(objective, n_trials = n_iter, show_progress_bar = True, gc_after_trial = True)\n",
    "        #n_trials or timeout\n",
    "        best_param[f'set{i}'] = study.best_trial.params\n",
    "        \n",
    "        ##### return score and entire params for score plot or feature importance #####\n",
    "        if return_addition :\n",
    "            collect_score = []\n",
    "            [collect_score.append(x.values) for x in study.trials]\n",
    "            #all_study[f'set{i}'] = study\n",
    "            all_score[f'set{i}'] = collect_score \n",
    "        \n",
    "        print(f\"Sampler is {study.sampler.__class__.__name__}\")\n",
    "    \n",
    "    ##### store the best hyperparameters #####\n",
    "    multi_mode = 'multivariate' if TPE_multi else 'univariate'\n",
    "    with open(f'runhist_array_label_CatBoost{mode}_{multi_mode}-TPE_{n_iter}.data', 'wb') as f:\n",
    "        pickle.dump(best_param, f)\n",
    "    \n",
    "    if return_addition :\n",
    "        return best_param, all_score, #all_study\n",
    "    else :\n",
    "        return best_param"
   ]
  },
  {
   "cell_type": "code",
   "execution_count": null,
   "metadata": {
    "ExecuteTime": {
     "end_time": "2021-08-07T21:15:14.019532Z",
     "start_time": "2021-08-06T15:50:53.505431Z"
    }
   },
   "outputs": [],
   "source": [
    "# best_paramC, all_scoreC = all_optuna(num_set = 9, all_data = data_dict, mode = 'C', cat_feature = [],\n",
    "#                                      TPE_multi = False, n_iter = 250)\n",
    "best_paramR, all_scoreR = all_optuna(num_set = 9, all_data = data_dict, mode = 'R', cat_feature = [],\n",
    "                                     TPE_multi = False, n_iter = 250)"
   ]
  },
  {
   "cell_type": "code",
   "execution_count": null,
   "metadata": {
    "ExecuteTime": {
     "end_time": "2021-08-06T15:48:39.223718Z",
     "start_time": "2021-08-06T15:48:38.110697Z"
    }
   },
   "outputs": [],
   "source": [
    "##### optimization history plot #####\n",
    "best_param, all_score = best_paramC, all_scoreC\n",
    "\n",
    "fig, axs = plt.subplots(3, 3, figsize = (30,15))\n",
    "plt.suptitle('Optimization History of CatBoost Classifier', y = 0.94, fontsize = 25)    \n",
    "for row in range(3):\n",
    "    for col in range(3):\n",
    "        index = 3*row + col\n",
    "        axs[row, col].plot(range(len(all_score[f'set{index}'])), all_score[f'set{index}'], 'b-', linewidth = 1)\n",
    "        axs[row, col].set_title(f'Dataset {index}')\n",
    "        axs[row, col].set_xlabel('Iterations')\n",
    "        axs[row, col].set_ylabel('Values')\n",
    "        \n",
    "##### best hyperparameter table #####\n",
    "param_table = pd.DataFrame(best_param).T\n",
    "param_table"
   ]
  }
 ],
 "metadata": {
  "hide_input": false,
  "kernelspec": {
   "display_name": "Python [conda env:aging]",
   "language": "python",
   "name": "conda-env-aging-py"
  },
  "language_info": {
   "codemirror_mode": {
    "name": "ipython",
    "version": 3
   },
   "file_extension": ".py",
   "mimetype": "text/x-python",
   "name": "python",
   "nbconvert_exporter": "python",
   "pygments_lexer": "ipython3",
   "version": "3.7.10"
  },
  "toc": {
   "base_numbering": 1,
   "nav_menu": {},
   "number_sections": true,
   "sideBar": true,
   "skip_h1_title": false,
   "title_cell": "Table of Contents",
   "title_sidebar": "Contents",
   "toc_cell": false,
   "toc_position": {},
   "toc_section_display": true,
   "toc_window_display": true
  },
  "varInspector": {
   "cols": {
    "lenName": 16,
    "lenType": 16,
    "lenVar": 40
   },
   "kernels_config": {
    "python": {
     "delete_cmd_postfix": "",
     "delete_cmd_prefix": "del ",
     "library": "var_list.py",
     "varRefreshCmd": "print(var_dic_list())"
    },
    "r": {
     "delete_cmd_postfix": ") ",
     "delete_cmd_prefix": "rm(",
     "library": "var_list.r",
     "varRefreshCmd": "cat(var_dic_list()) "
    }
   },
   "types_to_exclude": [
    "module",
    "function",
    "builtin_function_or_method",
    "instance",
    "_Feature"
   ],
   "window_display": false
  }
 },
 "nbformat": 4,
 "nbformat_minor": 5
}
