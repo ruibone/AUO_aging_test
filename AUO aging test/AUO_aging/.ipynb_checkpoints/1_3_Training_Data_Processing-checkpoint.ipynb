{
 "cells": [
  {
   "cell_type": "code",
   "execution_count": 1,
   "metadata": {
    "ExecuteTime": {
     "end_time": "2021-09-07T10:09:25.190743Z",
     "start_time": "2021-09-07T10:09:24.871910Z"
    }
   },
   "outputs": [
    {
     "data": {
      "text/plain": [
       "'C:\\\\Users\\\\user\\\\Desktop\\\\Darui_R08621110'"
      ]
     },
     "execution_count": 1,
     "metadata": {},
     "output_type": "execute_result"
    }
   ],
   "source": [
    "import os\n",
    "import time\n",
    "import itertools\n",
    "import numpy as np\n",
    "import pandas as pd\n",
    "import matplotlib.pyplot as plt\n",
    "\n",
    "from Dataset_Construction import Balance_Ratio \n",
    "\n",
    "os.chdir('C:/Users/user/Desktop/Darui_R08621110') \n",
    "os.getcwd()"
   ]
  },
  {
   "cell_type": "markdown",
   "metadata": {},
   "source": [
    "### Identification of all kinds of  dimensional overlapping data\n",
    "1. Corner : add 'cb', 'GB_mean' and 'GB_count' to dataset\n",
    "2. Kind : only keep 'cb' which GB_mean = 0 or GB = 1 (data belong to good but overlap with bad are excluded)\n",
    "3. Dictionary_Build : add G_count (amount of majority overlapping corner???)"
   ]
  },
  {
   "cell_type": "code",
   "execution_count": 3,
   "metadata": {
    "ExecuteTime": {
     "end_time": "2021-09-07T10:09:51.066426Z",
     "start_time": "2021-09-07T10:09:51.035640Z"
    }
   },
   "outputs": [],
   "source": [
    "def Corner(D, label = 'GB'):\n",
    "    \n",
    "    Data = D.copy()\n",
    "    Data['cb'] = Data[Data.columns[1:-1]].apply(lambda x: '_'.join(x.astype(str)), axis = 1)\n",
    "    Data[f'{label}_mean'] = Data.groupby('cb')[label].transform('mean')\n",
    "    Data[f'{label}_count'] = Data.groupby('cb')[label].transform('count')\n",
    "    Corner_overlap = Data.copy() \n",
    "    \n",
    "    return Corner_overlap\n",
    "\n",
    "\n",
    "def Kind(Corner_overlap, label = 'GB'):\n",
    "\n",
    "    Data = Corner_overlap\n",
    "    \n",
    "    Kinds_0 = Data[Data[f'{label}_mean'] == 0].sort_values(f'{label}_count') # represent all data in the same cb are good  \n",
    "    Kinds_1 = Data[Data[label] == 1].sort_values(f'{label}_count') # represent bad data\n",
    "    Kinds = pd.concat([Kinds_1, Kinds_0]) # reprecent all types of 'cb'\n",
    "    Kinds_after_duplicate = Kinds.drop_duplicates(subset = ['cb']).reset_index(drop = True) \n",
    "    # each 'cb' only keep one data(the first)\n",
    "    \n",
    "    return Kinds_after_duplicate\n",
    "\n",
    "\n",
    "def Dictionary_Build(Data):\n",
    "    \n",
    "    Corner_overlap = Corner(Data)\n",
    "    Kinds = Kind(Corner_overlap).copy()\n",
    "\n",
    "    ## reorder cols\n",
    "    cols = Kinds.columns.tolist()\n",
    "    cols = cols[0:1] + cols[-4:] \n",
    "    Dictionary = Kinds[cols] #select id, GB, cb, GB_mean, GB_count\n",
    "    Dictionary['G_count'] = 0 # add new column \n",
    "    Dictionary=Dictionary.reset_index(drop=True)\n",
    "    for i in range(len(Dictionary)):\n",
    "        Dictionary['G_count'][i] = Dictionary.GB_count[i] - Dictionary.GB[i] # represent??\n",
    "    \n",
    "    return Dictionary"
   ]
  },
  {
   "cell_type": "markdown",
   "metadata": {},
   "source": [
    "### Relabel dimensional overlapping data\n",
    "1. remove data located in non-overlap corner\n",
    "2. relabel all data in specific corner by bad ratio\n",
    "3. ideal PR curve due to corner overlap"
   ]
  },
  {
   "cell_type": "code",
   "execution_count": 4,
   "metadata": {
    "ExecuteTime": {
     "end_time": "2021-09-07T10:09:53.417499Z",
     "start_time": "2021-09-07T10:09:53.393276Z"
    }
   },
   "outputs": [],
   "source": [
    "def Remove_SD(Data, count = 1, label = 'GB'):\n",
    "    \n",
    "    Corner_Overlap = Data\n",
    "    RSD = pd.concat([Data[Data[label] == 1], Data[(Data[label] == 0) & (Data[f'{label}_count'] > count)]]) \n",
    "    # remove good data that only show once\n",
    "    return RSD\n",
    "\n",
    "\n",
    "def Corner_Blend(Data, ratio = 0.002, label = 'GB'):\n",
    "    \n",
    "    D_1 = Data[(Data[f'{label}_mean'] <= 1) & (Data[f'{label}_mean'] >= ratio)].sort_values(f'{label}_count') # not relabel case\n",
    "    D_1[[label]] = 1  #if G_mean > ratio ==> relabel all data as bad\n",
    "    D_2 = Data[(Data[f'{label}_mean'] < ratio)].sort_values(f'{label}_count')\n",
    "    D_2[[label]] = 0  # otherwise relabel all data as good\n",
    "    Training_new = pd.concat([D_1,D_2]).iloc[:,:-3]\n",
    "    \n",
    "    return Training_new\n",
    "\n",
    "\n",
    "def AUC(x,y):\n",
    "    \n",
    "    area=0\n",
    "    for i in range(1,len(x)):\n",
    "        height=x[i]-x[i-1]\n",
    "        area=area+height*(y[i-1]+y[i])/2\n",
    "        \n",
    "    return area\n",
    "\n",
    "\n",
    "def Idea_PR(D):\n",
    "    \n",
    "    Data = Corner(D)\n",
    "\n",
    "    Kinds_0=Data[Data.GB_mean==0].sort_values('GB_count')\n",
    "    Kinds_1=Data[Data.GB==1].sort_values('GB_count') # \n",
    "    Kinds=pd.concat([Kinds_1,Kinds_0])\n",
    "    Test_Kinds=Kinds.drop_duplicates(subset=['cb']).reset_index(drop=True)\n",
    "    print('num of Bad (test)',len(Kinds_1))\n",
    "    print('Number of kinds in the testing data',len(Test_Kinds))\n",
    "    \n",
    "    Aging_amount=Test_Kinds[Test_Kinds.GB==1].GB_count.sum()\n",
    "    Precision=np.cumsum(Test_Kinds[Test_Kinds.GB==1].GB)/np.cumsum(Test_Kinds[Test_Kinds.GB==1].GB_count)\n",
    "    Recall=np.cumsum(Test_Kinds[Test_Kinds.GB==1].GB)/Test_Kinds[Test_Kinds.GB==1].GB.sum()\n",
    "    area=AUC(Recall.values,Precision.values)\n",
    "    ar=Aging_amount/len(Data)\n",
    "    fig = plt.figure()\n",
    "    ax = plt.axes()\n",
    "    plt.title('AUC : %.3f \\n\\n Optimum_Aging_rate %.3f'%(area,ar))\n",
    "    ax.plot(Recall,Precision)\n",
    "    plt.xlabel('Recall')\n",
    "    plt.ylabel('Precision')\n",
    "    plt.show()"
   ]
  },
  {
   "cell_type": "markdown",
   "metadata": {},
   "source": [
    "## Data Processing\n",
    "1. Read data from 1.1\n",
    "2. Remove single & relabel overlapping corner\n",
    "3. Kinds & dictionary construction"
   ]
  },
  {
   "cell_type": "markdown",
   "metadata": {
    "heading_collapsed": true
   },
   "source": [
    "### Event data"
   ]
  },
  {
   "cell_type": "code",
   "execution_count": null,
   "metadata": {
    "ExecuteTime": {
     "end_time": "2021-07-28T09:34:48.532114Z",
     "start_time": "2021-07-28T09:34:47.619794Z"
    },
    "hidden": true,
    "scrolled": true
   },
   "outputs": [],
   "source": [
    "TrainingSet_0 = pd.read_csv('original_data/TrainingSet_0.csv').iloc[:, 1:]\n",
    "TestingSet_0 = pd.read_csv('original_data/TestingSet_0.csv').iloc[:, 1:]\n",
    "DataSet = pd.read_csv('original_data/DataSet.csv').iloc[:, 1:]\n",
    "\n",
    "print('Training Set:', TrainingSet_0.shape, '\\nTesting Set:', TestingSet_0.shape, '\\nDataSet:', DataSet.shape)\n",
    "\n",
    "train_bad = sum(TrainingSet_0['GB'])\n",
    "test_bad = sum(TestingSet_0['GB'])\n",
    "print('\\nNumber of bad data:', '\\nTraining Data:', train_bad, ',  Testing Data:', test_bad)"
   ]
  },
  {
   "cell_type": "code",
   "execution_count": null,
   "metadata": {
    "hidden": true
   },
   "outputs": [],
   "source": [
    "Corner_overlap = Corner(TrainingSet_0)\n",
    "\n",
    "RSD = Remove_SD(Corner_overlap, 1)\n",
    "Training_new = Corner_Blend(RSD, 1/500)\n",
    "Training_new.to_csv('TrainingSet_new.csv')\n",
    "print('After Remove Single & Overlap Relabel :', Training_new.shape, ', Balance Ratio:', Balance_Ratio(Training_new))"
   ]
  },
  {
   "cell_type": "code",
   "execution_count": null,
   "metadata": {
    "hidden": true
   },
   "outputs": [],
   "source": [
    "Kinds = Kind(Corner_overlap).copy()\n",
    "Kinds.to_csv('Kinds.csv')\n",
    "print('Number of kinds:', len(Kinds))\n",
    "\n",
    "Dictionary = Dictionary_Build(DataSet)\n",
    "Dictionary.to_csv('Dictionary.csv')"
   ]
  },
  {
   "cell_type": "code",
   "execution_count": null,
   "metadata": {
    "hidden": true
   },
   "outputs": [],
   "source": [
    "Idea_PR(TestingSet_0)"
   ]
  },
  {
   "cell_type": "markdown",
   "metadata": {},
   "source": [
    "### Runhist data"
   ]
  },
  {
   "cell_type": "code",
   "execution_count": 5,
   "metadata": {
    "ExecuteTime": {
     "end_time": "2021-09-07T10:10:21.441373Z",
     "start_time": "2021-09-07T10:09:58.285737Z"
    }
   },
   "outputs": [
    {
     "name": "stdout",
     "output_type": "stream",
     "text": [
      "After Overlap Relabel : (80518, 142) , Balance Ratio: 1101.9863 , # Bad: 73\n"
     ]
    }
   ],
   "source": [
    "train_runhist = pd.read_csv('train_runhist.csv').iloc[:, 1:]\n",
    "test_runhist = pd.read_csv('test_runhist.csv').iloc[:, 1:]\n",
    "runhist = pd.concat([train_runhist, test_runhist], axis = 0).reset_index(drop = True)\n",
    "\n",
    "overlap_all = Corner(runhist)\n",
    "overlap = Corner(train_runhist)\n",
    "new_runhist = Corner_Blend(overlap, 1/10000)\n",
    "new_runhist.to_csv('train_runhist_new.csv')\n",
    "bad_count = len(new_runhist[new_runhist.GB == 1])\n",
    "\n",
    "print('After Overlap Relabel :', new_runhist.shape, ', Balance Ratio:', Balance_Ratio(new_runhist), ', # Bad:', bad_count)"
   ]
  },
  {
   "cell_type": "code",
   "execution_count": 6,
   "metadata": {
    "ExecuteTime": {
     "end_time": "2021-09-07T10:11:00.809458Z",
     "start_time": "2021-09-07T10:10:34.265736Z"
    },
    "scrolled": true
   },
   "outputs": [
    {
     "name": "stderr",
     "output_type": "stream",
     "text": [
      "C:\\Users\\user\\anaconda3\\envs\\aging\\lib\\site-packages\\ipykernel_launcher.py:34: SettingWithCopyWarning: \n",
      "A value is trying to be set on a copy of a slice from a DataFrame.\n",
      "Try using .loc[row_indexer,col_indexer] = value instead\n",
      "\n",
      "See the caveats in the documentation: https://pandas.pydata.org/pandas-docs/stable/user_guide/indexing.html#returning-a-view-versus-a-copy\n",
      "C:\\Users\\user\\anaconda3\\envs\\aging\\lib\\site-packages\\ipykernel_launcher.py:37: SettingWithCopyWarning: \n",
      "A value is trying to be set on a copy of a slice from a DataFrame\n",
      "\n",
      "See the caveats in the documentation: https://pandas.pydata.org/pandas-docs/stable/user_guide/indexing.html#returning-a-view-versus-a-copy\n"
     ]
    },
    {
     "name": "stdout",
     "output_type": "stream",
     "text": [
      "Number of kinds in training data: 63061\n",
      "Number of kinds in the whole data: 95852\n",
      "num of Bad (test) 34\n",
      "Number of kinds in the testing data 34737\n"
     ]
    },
    {
     "data": {
      "image/png": "[encoded data removed]",
      "text/plain": [
       "<Figure size 432x288 with 1 Axes>"
      ]
     },
     "metadata": {
      "needs_background": "light"
     },
     "output_type": "display_data"
    }
   ],
   "source": [
    "run_dictionary = Dictionary_Build(train_runhist)\n",
    "# run_dictionary.to_csv('run_dictionary.csv')\n",
    "\n",
    "run_kind = Kind(overlap)\n",
    "all_kind = Kind(overlap_all)\n",
    "\n",
    "run_kind.to_csv('run_kind.csv')\n",
    "print('Number of kinds in training data:', len(run_kind))\n",
    "print('Number of kinds in the whole data:', len(all_kind))\n",
    "\n",
    "Idea_PR(test_runhist)"
   ]
  },
  {
   "cell_type": "markdown",
   "metadata": {},
   "source": [
    "### for encoding data"
   ]
  },
  {
   "cell_type": "code",
   "execution_count": 20,
   "metadata": {
    "ExecuteTime": {
     "end_time": "2021-08-29T17:25:44.719123Z",
     "start_time": "2021-08-29T17:25:34.563400Z"
    }
   },
   "outputs": [
    {
     "name": "stdout",
     "output_type": "stream",
     "text": [
      "After Overlap Relabel : (80518, 123) , Balance Ratio: 1101.9863 , # Bad: 73\n"
     ]
    }
   ],
   "source": [
    "##### preprocessing encoding data #####\n",
    "train_encode = pd.read_csv('train_encode.csv').iloc[:, 1:]\n",
    "test_encode = pd.read_csv('test_encode.csv').iloc[:, 1:]\n",
    "\n",
    "encode_name = 'op_catboost'\n",
    "encode_feature = train_encode[encode_name]\n",
    "train_cate = train_encode.drop(columns = encode_name)\n",
    "\n",
    "##### relabel overlapping data #####\n",
    "overlap = Corner(train_cate)\n",
    "new_cate = Corner_Blend(overlap, 1/10000)\n",
    "bad_cate = sum(new_cate.GB)\n",
    "\n",
    "print('After Overlap Relabel :', new_cate.shape, ', Balance Ratio:', Balance_Ratio(new_cate), ', # Bad:', bad_cate)\n",
    "\n",
    "combine_train = pd.concat([train_encode[['id']], encode_feature, new_cate.iloc[:, 1:]], axis = 1)\n",
    "combine_train = combine_train.rename(columns = {0: encode_name})\n",
    "\n",
    "combine_train.to_csv('train_runhist_new.csv')"
   ]
  }
 ],
 "metadata": {
  "hide_input": false,
  "kernelspec": {
   "display_name": "Python [conda env:aging]",
   "language": "python",
   "name": "conda-env-aging-py"
  },
  "language_info": {
   "codemirror_mode": {
    "name": "ipython",
    "version": 3
   },
   "file_extension": ".py",
   "mimetype": "text/x-python",
   "name": "python",
   "nbconvert_exporter": "python",
   "pygments_lexer": "ipython3",
   "version": "3.7.10"
  },
  "toc": {
   "base_numbering": 1,
   "nav_menu": {},
   "number_sections": true,
   "sideBar": true,
   "skip_h1_title": false,
   "title_cell": "Table of Contents",
   "title_sidebar": "Contents",
   "toc_cell": false,
   "toc_position": {},
   "toc_section_display": true,
   "toc_window_display": true
  },
  "varInspector": {
   "cols": {
    "lenName": 16,
    "lenType": 16,
    "lenVar": 40
   },
   "kernels_config": {
    "python": {
     "delete_cmd_postfix": "",
     "delete_cmd_prefix": "del ",
     "library": "var_list.py",
     "varRefreshCmd": "print(var_dic_list())"
    },
    "r": {
     "delete_cmd_postfix": ") ",
     "delete_cmd_prefix": "rm(",
     "library": "var_list.r",
     "varRefreshCmd": "cat(var_dic_list()) "
    }
   },
   "types_to_exclude": [
    "module",
    "function",
    "builtin_function_or_method",
    "instance",
    "_Feature"
   ],
   "window_display": false
  }
 },
 "nbformat": 4,
 "nbformat_minor": 2
}
