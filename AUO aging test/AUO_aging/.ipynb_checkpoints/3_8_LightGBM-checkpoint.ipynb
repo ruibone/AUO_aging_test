{
 "cells": [
  {
   "cell_type": "code",
   "execution_count": 1,
   "id": "e0d58017",
   "metadata": {},
   "outputs": [
    {
     "data": {
      "text/plain": [
       "'C:\\\\Users\\\\Darui Yen\\\\OneDrive\\\\桌面\\\\data_after_mid'"
      ]
     },
     "execution_count": 1,
     "metadata": {},
     "output_type": "execute_result"
    }
   ],
   "source": [
    "import os\n",
    "import time\n",
    "import itertools\n",
    "import numpy as np\n",
    "import pandas as pd\n",
    "import matplotlib.pyplot as plt\n",
    "\n",
    "import lightgbm as lgb\n",
    "from lightgbm import LGBMClassifier, LGBMRegressor\n",
    "import optuna\n",
    "from sklearn.model_selection import train_test_split, KFold\n",
    "\n",
    "from Dataset_Construction import Balance_Ratio \n",
    "from Sampling import label_divide\n",
    "from AdaClassifier import train_set, multiple_set, print_badC, bad_plot, line_chart, cf_matrix\n",
    "from AdaRegressor import AUC, PR_curve, multiple_curve, PR_matrix, best_threshold \n",
    "from Aging_Score import score1\n",
    "\n",
    "os.chdir('C:/Users/Darui Yen/OneDrive/桌面/data_after_mid') \n",
    "os.getcwd()"
   ]
  },
  {
   "cell_type": "markdown",
   "id": "1469dffa",
   "metadata": {},
   "source": [
    "### Boosting model"
   ]
  },
  {
   "cell_type": "code",
   "execution_count": 2,
   "id": "30a318b7",
   "metadata": {},
   "outputs": [],
   "source": [
    "def LightGBMC(train_x, test_x, train_y, test_y, config):\n",
    "    \n",
    "    clf = LGBMClassifier(**config)\n",
    "    clf.fit(train_x, train_y)\n",
    "    predict_y = clf.predict(test_x)\n",
    "    result = pd.DataFrame({'truth': test_y, 'predict': predict_y})\n",
    "    \n",
    "    return result\n",
    "\n",
    "\n",
    "def LightGBMR(train_x, test_x, train_y, test_y, config):\n",
    "    \n",
    "    reg = LGBMRegressor(**config)\n",
    "    reg.fit(train_x, train_y)\n",
    "    predict_y = reg.predict(test_x)\n",
    "    result = pd.DataFrame({'truth': test_y, 'predict': predict_y})\n",
    "    \n",
    "    return result"
   ]
  },
  {
   "cell_type": "markdown",
   "id": "9422afba",
   "metadata": {},
   "source": [
    "### Run all dataset"
   ]
  },
  {
   "cell_type": "code",
   "execution_count": 3,
   "id": "51338ffc",
   "metadata": {},
   "outputs": [],
   "source": [
    "def runall_LightGBMC(num_set, trainset_x, test_x, trainset_y, test_y, config, record_bad = True):\n",
    "    \n",
    "    table_set = pd.DataFrame()\n",
    "    bad_set = pd.DataFrame()\n",
    "\n",
    "    for i in range(num_set):\n",
    "        print('\\n', f'Dataset {i}:')\n",
    "        \n",
    "        result = LightGBMC(trainset_x[f'set{i}'], test_x, trainset_y[f'set{i}'], test_y, config)\n",
    "        table = cf_matrix(result, trainset_y[f'set{i}'])\n",
    "        table_set = pd.concat([table_set, table]).rename(index = {0: f'dataset {i}'})\n",
    "        \n",
    "        if record_bad:\n",
    "            bad_table = print_badC(result, test_x, Bad_Types) \n",
    "            bad_set = pd.concat([bad_set, bad_table]).rename(index = {0: f'dataset {i}'})\n",
    "\n",
    "    if record_bad:\n",
    "        return table_set, bad_set\n",
    "    else:\n",
    "        return table_set\n",
    "    \n",
    "    \n",
    "def runall_LightGBMR(num_set, trainset_x, test_x, trainset_y, test_y, config, thres_target = 'Recall', threshold = 0.8, \n",
    "                     record_bad = True):\n",
    "    \n",
    "    table_set = pd.DataFrame()\n",
    "    bad_set = pd.DataFrame()\n",
    "    pr_dict = {}\n",
    "\n",
    "    for i in range(num_set):\n",
    "        print('\\n', f'Dataset {i}:')\n",
    "\n",
    "        predict = LightGBMR(trainset_x[f'set{i}'], test_x, trainset_y[f'set{i}'], test_y)\n",
    "        pr_matrix = PR_matrix(predict, trainset_y[f'set{i}'])\n",
    "        pr_dict[f'set{i}'] = pr_matrix\n",
    "        \n",
    "        best_data, best_thres = best_threshold(pr_matrix, target = thres_target, threshold = threshold)\n",
    "        table_set = pd.concat([table_set, best_data]).rename(index = {best_data.index.values[0]: f'dataset {i}'})\n",
    "        \n",
    "        if record_bad:\n",
    "            bad_table = print_badC(predict, test_x, Bad_Types, threshold = best_thres)\n",
    "            bad_set = pd.concat([bad_set, bad_table]).rename(index = {0: f'dataset {i}'})\n",
    "    \n",
    "    if record_bad:\n",
    "        return pr_dict, table_set, bad_set\n",
    "    else:\n",
    "        return pr_dict, table_set"
   ]
  },
  {
   "cell_type": "markdown",
   "id": "773a2f97",
   "metadata": {},
   "source": [
    "## Data Processing"
   ]
  },
  {
   "cell_type": "code",
   "execution_count": 4,
   "id": "48ffbe8f",
   "metadata": {},
   "outputs": [
    {
     "name": "stdout",
     "output_type": "stream",
     "text": [
      "Total bad types: 62\n",
      "\n",
      "training data: (77138, 83) \n",
      "Balance Ratio: 18.17902\n",
      "\n",
      "testing data: (55903, 83) \n",
      "Balance Ratio: 3104.72222\n",
      "Dimension of dataset 0 : (80395, 112)  balance ratio: 122.11639\n",
      "Dimension of dataset 1 : (119611, 112)  balance ratio: 2.0001\n",
      "Dimension of dataset 2 : (119939, 112)  balance ratio: 1.98378\n",
      "Dimension of dataset 3 : (119939, 112)  balance ratio: 1.98378\n",
      "Dimension of dataset 4 : (119613, 112)  balance ratio: 2.0\n",
      "Dimension of dataset 5 : (4902, 112)  balance ratio: 1.9945\n",
      "Dimension of dataset 6 : (5224, 112)  balance ratio: 1.66667\n",
      "Dimension of dataset 7 : (5224, 112)  balance ratio: 1.66667\n",
      "Dimension of dataset 8 : (4897, 112)  balance ratio: 2.00061\n",
      "\n",
      " 9 datasets are loaded.\n",
      "\n",
      "Labels of  9 datasets are divided.\n"
     ]
    }
   ],
   "source": [
    "###bad types###\n",
    "bad = pd.read_csv('original_data/Bad_Types.csv').iloc[:, 1:]\n",
    "Bad_Types = {bad.cb[i]:i for i in range (len(bad))}\n",
    "print('Total bad types:', len(bad))\n",
    "\n",
    "###single dataset###\n",
    "test = pd.read_csv('original_data/TestingSet_0.csv').iloc[:, 2:]\n",
    "train = pd.read_csv('original_data/TrainingSet_new.csv').iloc[:, 2:]\n",
    "print('\\ntraining data:', train.shape, '\\nBalance Ratio:', Balance_Ratio(train))\n",
    "print('\\ntesting data:', test.shape, '\\nBalance Ratio:', Balance_Ratio(test))\n",
    "\n",
    "train_x, train_y, test_x, test_y = label_divide(train, test, 'GB')\n",
    "\n",
    "###multiple dataset###\n",
    "data_dict = multiple_set(num_set = 9)\n",
    "trainset_x, trainset_y = train_set(data_dict, num_set = 9, label = 'GB')\n",
    "test_x, test_y = label_divide(test, None, 'GB', train_only = True)\n",
    "\n",
    "\n",
    "#####for runhist dataset#####\n",
    "# bad = pd.read_csv('run_bad_types.csv').iloc[:, 1:]\n",
    "# Bad_Types = {bad.cb[i]:i for i in range (len(bad))}\n",
    "# print('Total bad types:', len(bad))\n",
    "\n",
    "run_test = pd.read_csv('test_runhist.csv').iloc[:, 2:]\n",
    "run_test_x, run_test_y = label_divide(run_test, None, 'GB', train_only = True)"
   ]
  },
  {
   "cell_type": "markdown",
   "id": "465011ac",
   "metadata": {},
   "source": [
    "### Classifier"
   ]
  },
  {
   "cell_type": "code",
   "execution_count": 8,
   "id": "811b51d7",
   "metadata": {},
   "outputs": [
    {
     "name": "stdout",
     "output_type": "stream",
     "text": [
      "\n",
      " Dataset 0:\n",
      "[LightGBM] [Warning] lambda_l1 is set=0.001, reg_alpha=0.0 will be ignored. Current value: lambda_l1=0.001\n",
      "[LightGBM] [Warning] lambda_l2 is set=0.001, reg_lambda=0.0 will be ignored. Current value: lambda_l2=0.001\n"
     ]
    },
    {
     "name": "stderr",
     "output_type": "stream",
     "text": [
      "C:\\Users\\Darui Yen\\Anaconda3\\envs\\aging_test\\lib\\site-packages\\lightgbm\\engine.py:148: UserWarning: Found `num_iterations` in params. Will use it instead of argument\n",
      "  _log_warning(\"Found `{}` in params. Will use it instead of argument\".format(alias))\n"
     ]
    },
    {
     "name": "stdout",
     "output_type": "stream",
     "text": [
      "Precision: 0.0 \n",
      "Recall: 0.0 \n",
      "Aging Rate: 0.006099851528540507\n",
      "\n",
      " Dataset 1:\n",
      "[LightGBM] [Warning] lambda_l1 is set=0.001, reg_alpha=0.0 will be ignored. Current value: lambda_l1=0.001\n"
     ]
    },
    {
     "name": "stderr",
     "output_type": "stream",
     "text": [
      "C:\\Users\\Darui Yen\\Anaconda3\\envs\\aging_test\\lib\\site-packages\\lightgbm\\engine.py:148: UserWarning: Found `num_iterations` in params. Will use it instead of argument\n",
      "  _log_warning(\"Found `{}` in params. Will use it instead of argument\".format(alias))\n"
     ]
    },
    {
     "name": "stdout",
     "output_type": "stream",
     "text": [
      "[LightGBM] [Warning] lambda_l2 is set=0.001, reg_lambda=0.0 will be ignored. Current value: lambda_l2=0.001\n",
      "Precision: 0.0 \n",
      "Recall: 0.0 \n",
      "Aging Rate: 0.0003040981700445414\n",
      "\n",
      " Dataset 2:\n",
      "[LightGBM] [Warning] lambda_l1 is set=0.001, reg_alpha=0.0 will be ignored. Current value: lambda_l1=0.001\n",
      "[LightGBM] [Warning] lambda_l2 is set=0.001, reg_lambda=0.0 will be ignored. Current value: lambda_l2=0.001\n"
     ]
    },
    {
     "name": "stderr",
     "output_type": "stream",
     "text": [
      "C:\\Users\\Darui Yen\\Anaconda3\\envs\\aging_test\\lib\\site-packages\\lightgbm\\engine.py:148: UserWarning: Found `num_iterations` in params. Will use it instead of argument\n",
      "  _log_warning(\"Found `{}` in params. Will use it instead of argument\".format(alias))\n"
     ]
    },
    {
     "name": "stdout",
     "output_type": "stream",
     "text": [
      "Precision: 0.0 \n",
      "Recall: 0.0 \n",
      "Aging Rate: 0.0005008675741910094\n",
      "\n",
      " Dataset 3:\n",
      "[LightGBM] [Warning] lambda_l1 is set=0.001, reg_alpha=0.0 will be ignored. Current value: lambda_l1=0.001\n",
      "[LightGBM] [Warning] lambda_l2 is set=0.001, reg_lambda=0.0 will be ignored. Current value: lambda_l2=0.001\n"
     ]
    },
    {
     "name": "stderr",
     "output_type": "stream",
     "text": [
      "C:\\Users\\Darui Yen\\Anaconda3\\envs\\aging_test\\lib\\site-packages\\lightgbm\\engine.py:148: UserWarning: Found `num_iterations` in params. Will use it instead of argument\n",
      "  _log_warning(\"Found `{}` in params. Will use it instead of argument\".format(alias))\n"
     ]
    },
    {
     "name": "stdout",
     "output_type": "stream",
     "text": [
      "Precision: 0.0 \n",
      "Recall: 0.0 \n",
      "Aging Rate: 0.0003040981700445414\n",
      "\n",
      " Dataset 4:\n",
      "[LightGBM] [Warning] lambda_l1 is set=0.001, reg_alpha=0.0 will be ignored. Current value: lambda_l1=0.001\n"
     ]
    },
    {
     "name": "stderr",
     "output_type": "stream",
     "text": [
      "C:\\Users\\Darui Yen\\Anaconda3\\envs\\aging_test\\lib\\site-packages\\lightgbm\\engine.py:148: UserWarning: Found `num_iterations` in params. Will use it instead of argument\n",
      "  _log_warning(\"Found `{}` in params. Will use it instead of argument\".format(alias))\n"
     ]
    },
    {
     "name": "stdout",
     "output_type": "stream",
     "text": [
      "[LightGBM] [Warning] lambda_l2 is set=0.001, reg_lambda=0.0 will be ignored. Current value: lambda_l2=0.001\n",
      "Precision: 0.0 \n",
      "Recall: 0.0 \n",
      "Aging Rate: 0.00032198629769422037\n",
      "\n",
      " Dataset 5:\n",
      "[LightGBM] [Warning] lambda_l1 is set=0.001, reg_alpha=0.0 will be ignored. Current value: lambda_l1=0.001\n",
      "[LightGBM] [Warning] lambda_l2 is set=0.001, reg_lambda=0.0 will be ignored. Current value: lambda_l2=0.001\n"
     ]
    },
    {
     "name": "stderr",
     "output_type": "stream",
     "text": [
      "C:\\Users\\Darui Yen\\Anaconda3\\envs\\aging_test\\lib\\site-packages\\lightgbm\\engine.py:148: UserWarning: Found `num_iterations` in params. Will use it instead of argument\n",
      "  _log_warning(\"Found `{}` in params. Will use it instead of argument\".format(alias))\n"
     ]
    },
    {
     "name": "stdout",
     "output_type": "stream",
     "text": [
      "Precision: 0.0005318520269471694 \n",
      "Recall: 0.5 \n",
      "Aging Rate: 0.3027028960878665\n",
      "\n",
      " Dataset 6:\n",
      "[LightGBM] [Warning] lambda_l1 is set=0.001, reg_alpha=0.0 will be ignored. Current value: lambda_l1=0.001\n",
      "[LightGBM] [Warning] lambda_l2 is set=0.001, reg_lambda=0.0 will be ignored. Current value: lambda_l2=0.001\n"
     ]
    },
    {
     "name": "stderr",
     "output_type": "stream",
     "text": [
      "C:\\Users\\Darui Yen\\Anaconda3\\envs\\aging_test\\lib\\site-packages\\lightgbm\\engine.py:148: UserWarning: Found `num_iterations` in params. Will use it instead of argument\n",
      "  _log_warning(\"Found `{}` in params. Will use it instead of argument\".format(alias))\n"
     ]
    },
    {
     "name": "stdout",
     "output_type": "stream",
     "text": [
      "Precision: 0.0002433326844461748 \n",
      "Recall: 0.2777777777777778 \n",
      "Aging Rate: 0.3675652469456022\n",
      "\n",
      " Dataset 7:\n",
      "[LightGBM] [Warning] lambda_l1 is set=0.001, reg_alpha=0.0 will be ignored. Current value: lambda_l1=0.001\n",
      "[LightGBM] [Warning] lambda_l2 is set=0.001, reg_lambda=0.0 will be ignored. Current value: lambda_l2=0.001\n"
     ]
    },
    {
     "name": "stderr",
     "output_type": "stream",
     "text": [
      "C:\\Users\\Darui Yen\\Anaconda3\\envs\\aging_test\\lib\\site-packages\\lightgbm\\engine.py:148: UserWarning: Found `num_iterations` in params. Will use it instead of argument\n",
      "  _log_warning(\"Found `{}` in params. Will use it instead of argument\".format(alias))\n"
     ]
    },
    {
     "name": "stdout",
     "output_type": "stream",
     "text": [
      "Precision: 0.0003920223452736806 \n",
      "Recall: 0.4444444444444444 \n",
      "Aging Rate: 0.3650430209469975\n",
      "\n",
      " Dataset 8:\n",
      "[LightGBM] [Warning] lambda_l1 is set=0.001, reg_alpha=0.0 will be ignored. Current value: lambda_l1=0.001\n",
      "[LightGBM] [Warning] lambda_l2 is set=0.001, reg_lambda=0.0 will be ignored. Current value: lambda_l2=0.001\n"
     ]
    },
    {
     "name": "stderr",
     "output_type": "stream",
     "text": [
      "C:\\Users\\Darui Yen\\Anaconda3\\envs\\aging_test\\lib\\site-packages\\lightgbm\\engine.py:148: UserWarning: Found `num_iterations` in params. Will use it instead of argument\n",
      "  _log_warning(\"Found `{}` in params. Will use it instead of argument\".format(alias))\n"
     ]
    },
    {
     "name": "stdout",
     "output_type": "stream",
     "text": [
      "Precision: 0.00042708679352726237 \n",
      "Recall: 0.5 \n",
      "Aging Rate: 0.3769565139616836\n"
     ]
    },
    {
     "data": {
      "image/png": "[encoded data removed]",
      "text/plain": [
       "<Figure size 1080x576 with 2 Axes>"
      ]
     },
     "metadata": {
      "needs_background": "light"
     },
     "output_type": "display_data"
    },
    {
     "name": "stdout",
     "output_type": "stream",
     "text": [
      "\n",
      "Run Time：31.881970 seconds\n"
     ]
    }
   ],
   "source": [
    "start = time.time()\n",
    "\n",
    "clf_param = {\n",
    "        'objective': 'binary',\n",
    "        'metric': 'binary_logloss',\n",
    "        'boosting_type': 'gbdt',\n",
    "        'num_iterations': 250,\n",
    "        'subsample': 0.6,\n",
    "        'num_leaves': 35,\n",
    "        'min_child_samples': 15,\n",
    "        'max_depth': 5,\n",
    "        'learning_rate': 0.25,\n",
    "        'lambda_l1': 0.001,\n",
    "        'lambda_l2': 0.001\n",
    "}\n",
    "\n",
    "#table_set1, bad_set1 = runall_LightGBMC(9, trainset_x, test_x, trainset_y, test_y)\n",
    "table_set1 = runall_LightGBMC(9, trainset_x, run_test_x, trainset_y, run_test_y, clf_param, record_bad = False)\n",
    "line_chart(table_set1, title = 'LightGBM Classifier')\n",
    "#bad_plot(bad_set1)\n",
    "\n",
    "end = time.time()\n",
    "print(\"\\nRun Time：%f seconds\" % (end - start))"
   ]
  },
  {
   "cell_type": "code",
   "execution_count": null,
   "id": "8ddc5747",
   "metadata": {},
   "outputs": [],
   "source": [
    "table_set1"
   ]
  },
  {
   "cell_type": "markdown",
   "id": "d38e4452",
   "metadata": {},
   "source": [
    "### Tree-structured Parzen estimators"
   ]
  },
  {
   "cell_type": "code",
   "execution_count": 5,
   "id": "3a3fc941",
   "metadata": {},
   "outputs": [],
   "source": [
    "def objective(trial, train_data = train, mode = 'C', num_valid = 3):\n",
    "    \n",
    "    param = {\n",
    "        'objective': 'binary',\n",
    "        'metric': 'binary_logloss',\n",
    "        'boosting_type': trial.suggest_categorical('boosting_type', ['gbdt', 'goss']),\n",
    "        'num_iterations': trial.suggest_int('num_iterations', 50, 300, step = 50),\n",
    "        'subsample': trial.suggest_float('subsample', 0.4, 1.0, step = 0.1),\n",
    "        'num_leaves': trial.suggest_int('num_leaves', 5, 50, step = 5),\n",
    "        'min_child_samples': trial.suggest_int('min_child_samples', 3, 30, step = 3),\n",
    "        'max_depth': trial.suggest_int('max_depth', 3, 15, step = 2),\n",
    "        'learning_rate': trial.suggest_float('learning_rate', 0.025, 0.525, step = 0.05),\n",
    "        'lambda_l1': trial.suggest_loguniform('lambda_l1', 1e-4, 10),\n",
    "        'lambda_l2': trial.suggest_loguniform('lambda_l2', 1e-4, 10)\n",
    "    }\n",
    "\n",
    "    result_list = []\n",
    "    for i in range(num_valid):\n",
    "        \n",
    "        train_x, train_y = label_divide(train_data, None, 'GB', train_only = True)\n",
    "        train_x, valid_x, train_y, valid_y = train_test_split(train_x, train_y, test_size = 0.25)\n",
    "        dtrain = lgb.Dataset(train_x, label=train_y)\n",
    "\n",
    "        if mode == 'C':\n",
    "            result = LightGBMC(train_x, valid_x, train_y, valid_y, param)\n",
    "            table = cf_matrix(result, valid_y)\n",
    "            result_list.append(table['Recall'])\n",
    "\n",
    "        elif mode == 'R':\n",
    "            result = LightGBMR(train_x, valid_x, train_y, valid_y)\n",
    "            pr_matrix = PR_matrix(result, valid_y)\n",
    "            auc = AUC(pr_matrix.Recall, pr_matrix.Precision)\n",
    "            result_list.append((-1)*auc)\n",
    "\n",
    "            \n",
    "    return np.mean(result_list)"
   ]
  },
  {
   "cell_type": "code",
   "execution_count": 6,
   "id": "5828d363",
   "metadata": {},
   "outputs": [
    {
     "name": "stderr",
     "output_type": "stream",
     "text": [
      "\u001b[32m[I 2021-07-18 15:05:09,357]\u001b[0m A new study created in memory with name: no-name-baab7591-3fa9-4957-acb3-5336fb9f9f8f\u001b[0m\n",
      "C:\\Users\\Darui Yen\\Anaconda3\\envs\\aging_test\\lib\\site-packages\\lightgbm\\engine.py:148: UserWarning: Found `num_iterations` in params. Will use it instead of argument\n",
      "  _log_warning(\"Found `{}` in params. Will use it instead of argument\".format(alias))\n"
     ]
    },
    {
     "name": "stdout",
     "output_type": "stream",
     "text": [
      "[LightGBM] [Warning] lambda_l1 is set=0.02905958184413639, reg_alpha=0.0 will be ignored. Current value: lambda_l1=0.02905958184413639\n",
      "[LightGBM] [Warning] lambda_l2 is set=0.0040631584445665276, reg_lambda=0.0 will be ignored. Current value: lambda_l2=0.0040631584445665276\n",
      "Precision: 0.9147005444646098 \n",
      "Recall: 0.49363369245837413 \n",
      "Aging Rate: 0.02857142857142857\n",
      "[LightGBM] [Warning] lambda_l1 is set=0.02905958184413639, reg_alpha=0.0 will be ignored. Current value: lambda_l1=0.02905958184413639\n",
      "[LightGBM] [Warning] lambda_l2 is set=0.0040631584445665276, reg_lambda=0.0 will be ignored. Current value: lambda_l2=0.0040631584445665276\n"
     ]
    },
    {
     "name": "stderr",
     "output_type": "stream",
     "text": [
      "C:\\Users\\Darui Yen\\Anaconda3\\envs\\aging_test\\lib\\site-packages\\lightgbm\\engine.py:148: UserWarning: Found `num_iterations` in params. Will use it instead of argument\n",
      "  _log_warning(\"Found `{}` in params. Will use it instead of argument\".format(alias))\n"
     ]
    },
    {
     "name": "stdout",
     "output_type": "stream",
     "text": [
      "Precision: 0.9206730769230769 \n",
      "Recall: 0.3845381526104418 \n",
      "Aging Rate: 0.02157116930256676\n",
      "[LightGBM] [Warning] lambda_l1 is set=0.02905958184413639, reg_alpha=0.0 will be ignored. Current value: lambda_l1=0.02905958184413639\n",
      "[LightGBM] [Warning] lambda_l2 is set=0.0040631584445665276, reg_lambda=0.0 will be ignored. Current value: lambda_l2=0.0040631584445665276\n"
     ]
    },
    {
     "name": "stderr",
     "output_type": "stream",
     "text": [
      "C:\\Users\\Darui Yen\\Anaconda3\\envs\\aging_test\\lib\\site-packages\\lightgbm\\engine.py:148: UserWarning: Found `num_iterations` in params. Will use it instead of argument\n",
      "  _log_warning(\"Found `{}` in params. Will use it instead of argument\".format(alias))\n",
      "\u001b[32m[I 2021-07-18 15:05:11,319]\u001b[0m Trial 0 finished with value: 0.45346176126799786 and parameters: {'boosting_type': 'gbdt', 'num_iterations': 50, 'subsample': 0.5, 'num_leaves': 40, 'min_child_samples': 12, 'max_depth': 3, 'learning_rate': 0.32500000000000007, 'lambda_l1': 0.02905958184413639, 'lambda_l2': 0.0040631584445665276}. Best is trial 0 with value: 0.45346176126799786.\u001b[0m\n"
     ]
    },
    {
     "name": "stdout",
     "output_type": "stream",
     "text": [
      "Precision: 0.9384615384615385 \n",
      "Recall: 0.48221343873517786 \n",
      "Aging Rate: 0.026963961628208452\n",
      "[LightGBM] [Warning] lambda_l1 is set=0.050097791046544396, reg_alpha=0.0 will be ignored. Current value: lambda_l1=0.050097791046544396\n",
      "[LightGBM] [Warning] lambda_l2 is set=0.0013358950854221276, reg_lambda=0.0 will be ignored. Current value: lambda_l2=0.0013358950854221276\n"
     ]
    },
    {
     "name": "stderr",
     "output_type": "stream",
     "text": [
      "C:\\Users\\Darui Yen\\Anaconda3\\envs\\aging_test\\lib\\site-packages\\lightgbm\\engine.py:148: UserWarning: Found `num_iterations` in params. Will use it instead of argument\n",
      "  _log_warning(\"Found `{}` in params. Will use it instead of argument\".format(alias))\n"
     ]
    },
    {
     "name": "stdout",
     "output_type": "stream",
     "text": [
      "Precision: 0.4200404858299595 \n",
      "Recall: 0.4166666666666667 \n",
      "Aging Rate: 0.05123152709359606\n",
      "[LightGBM] [Warning] lambda_l1 is set=0.050097791046544396, reg_alpha=0.0 will be ignored. Current value: lambda_l1=0.050097791046544396\n",
      "[LightGBM] [Warning] lambda_l2 is set=0.0013358950854221276, reg_lambda=0.0 will be ignored. Current value: lambda_l2=0.0013358950854221276\n"
     ]
    },
    {
     "name": "stderr",
     "output_type": "stream",
     "text": [
      "C:\\Users\\Darui Yen\\Anaconda3\\envs\\aging_test\\lib\\site-packages\\lightgbm\\engine.py:148: UserWarning: Found `num_iterations` in params. Will use it instead of argument\n",
      "  _log_warning(\"Found `{}` in params. Will use it instead of argument\".format(alias))\n"
     ]
    },
    {
     "name": "stdout",
     "output_type": "stream",
     "text": [
      "Precision: 0.0415929203539823 \n",
      "Recall: 0.047910295616717634 \n",
      "Aging Rate: 0.05859476276899144\n",
      "[LightGBM] [Warning] lambda_l1 is set=0.050097791046544396, reg_alpha=0.0 will be ignored. Current value: lambda_l1=0.050097791046544396\n",
      "[LightGBM] [Warning] lambda_l2 is set=0.0013358950854221276, reg_lambda=0.0 will be ignored. Current value: lambda_l2=0.0013358950854221276\n"
     ]
    },
    {
     "name": "stderr",
     "output_type": "stream",
     "text": [
      "C:\\Users\\Darui Yen\\Anaconda3\\envs\\aging_test\\lib\\site-packages\\lightgbm\\engine.py:148: UserWarning: Found `num_iterations` in params. Will use it instead of argument\n",
      "  _log_warning(\"Found `{}` in params. Will use it instead of argument\".format(alias))\n",
      "\u001b[32m[I 2021-07-18 15:05:15,246]\u001b[0m Trial 1 finished with value: 0.27024360281241017 and parameters: {'boosting_type': 'gbdt', 'num_iterations': 150, 'subsample': 1.0, 'num_leaves': 45, 'min_child_samples': 21, 'max_depth': 15, 'learning_rate': 0.47500000000000003, 'lambda_l1': 0.050097791046544396, 'lambda_l2': 0.0013358950854221276}. Best is trial 0 with value: 0.45346176126799786.\u001b[0m\n"
     ]
    },
    {
     "name": "stdout",
     "output_type": "stream",
     "text": [
      "Precision: 0.17096931320019484 \n",
      "Recall: 0.34615384615384615 \n",
      "Aging Rate: 0.10645579465906145\n",
      "[LightGBM] [Warning] lambda_l1 is set=0.38459275780702895, reg_alpha=0.0 will be ignored. Current value: lambda_l1=0.38459275780702895\n",
      "[LightGBM] [Warning] lambda_l2 is set=0.0007046417681187809, reg_lambda=0.0 will be ignored. Current value: lambda_l2=0.0007046417681187809\n"
     ]
    },
    {
     "name": "stderr",
     "output_type": "stream",
     "text": [
      "C:\\Users\\Darui Yen\\Anaconda3\\envs\\aging_test\\lib\\site-packages\\lightgbm\\engine.py:148: UserWarning: Found `num_iterations` in params. Will use it instead of argument\n",
      "  _log_warning(\"Found `{}` in params. Will use it instead of argument\".format(alias))\n"
     ]
    },
    {
     "name": "stdout",
     "output_type": "stream",
     "text": [
      "Precision: 0.9883227176220807 \n",
      "Recall: 0.95097037793667 \n",
      "Aging Rate: 0.04884625356494685\n",
      "[LightGBM] [Warning] lambda_l1 is set=0.38459275780702895, reg_alpha=0.0 will be ignored. Current value: lambda_l1=0.38459275780702895\n",
      "[LightGBM] [Warning] lambda_l2 is set=0.0007046417681187809, reg_lambda=0.0 will be ignored. Current value: lambda_l2=0.0007046417681187809\n"
     ]
    },
    {
     "name": "stderr",
     "output_type": "stream",
     "text": [
      "C:\\Users\\Darui Yen\\Anaconda3\\envs\\aging_test\\lib\\site-packages\\lightgbm\\engine.py:148: UserWarning: Found `num_iterations` in params. Will use it instead of argument\n",
      "  _log_warning(\"Found `{}` in params. Will use it instead of argument\".format(alias))\n"
     ]
    },
    {
     "name": "stdout",
     "output_type": "stream",
     "text": [
      "Precision: 0.9821428571428571 \n",
      "Recall: 0.9406438631790744 \n",
      "Aging Rate: 0.049364791288566245\n",
      "[LightGBM] [Warning] lambda_l1 is set=0.38459275780702895, reg_alpha=0.0 will be ignored. Current value: lambda_l1=0.38459275780702895\n",
      "[LightGBM] [Warning] lambda_l2 is set=0.0007046417681187809, reg_lambda=0.0 will be ignored. Current value: lambda_l2=0.0007046417681187809\n"
     ]
    },
    {
     "name": "stderr",
     "output_type": "stream",
     "text": [
      "C:\\Users\\Darui Yen\\Anaconda3\\envs\\aging_test\\lib\\site-packages\\lightgbm\\engine.py:148: UserWarning: Found `num_iterations` in params. Will use it instead of argument\n",
      "  _log_warning(\"Found `{}` in params. Will use it instead of argument\".format(alias))\n",
      "\u001b[32m[I 2021-07-18 15:05:19,036]\u001b[0m Trial 2 finished with value: 0.940814760213812 and parameters: {'boosting_type': 'gbdt', 'num_iterations': 300, 'subsample': 0.9, 'num_leaves': 5, 'min_child_samples': 6, 'max_depth': 5, 'learning_rate': 0.225, 'lambda_l1': 0.38459275780702895, 'lambda_l2': 0.0007046417681187809}. Best is trial 2 with value: 0.940814760213812.\u001b[0m\n"
     ]
    },
    {
     "name": "stdout",
     "output_type": "stream",
     "text": [
      "Precision: 0.9711340206185567 \n",
      "Recall: 0.9308300395256917 \n",
      "Aging Rate: 0.05029815919108115\n",
      "[LightGBM] [Warning] lambda_l1 is set=2.839779309671354, reg_alpha=0.0 will be ignored. Current value: lambda_l1=2.839779309671354\n",
      "[LightGBM] [Warning] lambda_l2 is set=1.3423972813673855, reg_lambda=0.0 will be ignored. Current value: lambda_l2=1.3423972813673855\n"
     ]
    },
    {
     "name": "stderr",
     "output_type": "stream",
     "text": [
      "C:\\Users\\Darui Yen\\Anaconda3\\envs\\aging_test\\lib\\site-packages\\lightgbm\\engine.py:148: UserWarning: Found `num_iterations` in params. Will use it instead of argument\n",
      "  _log_warning(\"Found `{}` in params. Will use it instead of argument\".format(alias))\n"
     ]
    },
    {
     "name": "stdout",
     "output_type": "stream",
     "text": [
      "Precision: 0.9864864864864865 \n",
      "Recall: 0.9509018036072144 \n",
      "Aging Rate: 0.04988332901218564\n",
      "[LightGBM] [Warning] lambda_l1 is set=2.839779309671354, reg_alpha=0.0 will be ignored. Current value: lambda_l1=2.839779309671354\n",
      "[LightGBM] [Warning] lambda_l2 is set=1.3423972813673855, reg_lambda=0.0 will be ignored. Current value: lambda_l2=1.3423972813673855\n"
     ]
    },
    {
     "name": "stderr",
     "output_type": "stream",
     "text": [
      "C:\\Users\\Darui Yen\\Anaconda3\\envs\\aging_test\\lib\\site-packages\\lightgbm\\engine.py:148: UserWarning: Found `num_iterations` in params. Will use it instead of argument\n",
      "  _log_warning(\"Found `{}` in params. Will use it instead of argument\".format(alias))\n"
     ]
    },
    {
     "name": "stdout",
     "output_type": "stream",
     "text": [
      "Precision: 0.9854469854469855 \n",
      "Recall: 0.9527638190954774 \n",
      "Aging Rate: 0.04988332901218564\n",
      "[LightGBM] [Warning] lambda_l1 is set=2.839779309671354, reg_alpha=0.0 will be ignored. Current value: lambda_l1=2.839779309671354\n",
      "[LightGBM] [Warning] lambda_l2 is set=1.3423972813673855, reg_lambda=0.0 will be ignored. Current value: lambda_l2=1.3423972813673855\n"
     ]
    },
    {
     "name": "stderr",
     "output_type": "stream",
     "text": [
      "C:\\Users\\Darui Yen\\Anaconda3\\envs\\aging_test\\lib\\site-packages\\lightgbm\\engine.py:148: UserWarning: Found `num_iterations` in params. Will use it instead of argument\n",
      "  _log_warning(\"Found `{}` in params. Will use it instead of argument\".format(alias))\n",
      "\u001b[32m[I 2021-07-18 15:05:24,137]\u001b[0m Trial 3 finished with value: 0.9460414703944425 and parameters: {'boosting_type': 'goss', 'num_iterations': 200, 'subsample': 0.7000000000000001, 'num_leaves': 20, 'min_child_samples': 21, 'max_depth': 7, 'learning_rate': 0.275, 'lambda_l1': 2.839779309671354, 'lambda_l2': 1.3423972813673855}. Best is trial 3 with value: 0.9460414703944425.\u001b[0m\n"
     ]
    },
    {
     "name": "stdout",
     "output_type": "stream",
     "text": [
      "Precision: 0.9731127197518097 \n",
      "Recall: 0.9344587884806356 \n",
      "Aging Rate: 0.05014259787399533\n",
      "[LightGBM] [Warning] lambda_l1 is set=6.062086425492299, reg_alpha=0.0 will be ignored. Current value: lambda_l1=6.062086425492299\n",
      "[LightGBM] [Warning] lambda_l2 is set=0.16772057087715814, reg_lambda=0.0 will be ignored. Current value: lambda_l2=0.16772057087715814\n"
     ]
    },
    {
     "name": "stderr",
     "output_type": "stream",
     "text": [
      "C:\\Users\\Darui Yen\\Anaconda3\\envs\\aging_test\\lib\\site-packages\\lightgbm\\engine.py:148: UserWarning: Found `num_iterations` in params. Will use it instead of argument\n",
      "  _log_warning(\"Found `{}` in params. Will use it instead of argument\".format(alias))\n"
     ]
    },
    {
     "name": "stdout",
     "output_type": "stream",
     "text": [
      "Precision: 0.9792122538293216 \n",
      "Recall: 0.9013091641490433 \n",
      "Aging Rate: 0.04739434793881255\n",
      "[LightGBM] [Warning] lambda_l1 is set=6.062086425492299, reg_alpha=0.0 will be ignored. Current value: lambda_l1=6.062086425492299\n",
      "[LightGBM] [Warning] lambda_l2 is set=0.16772057087715814, reg_lambda=0.0 will be ignored. Current value: lambda_l2=0.16772057087715814\n"
     ]
    },
    {
     "name": "stderr",
     "output_type": "stream",
     "text": [
      "C:\\Users\\Darui Yen\\Anaconda3\\envs\\aging_test\\lib\\site-packages\\lightgbm\\engine.py:148: UserWarning: Found `num_iterations` in params. Will use it instead of argument\n",
      "  _log_warning(\"Found `{}` in params. Will use it instead of argument\".format(alias))\n"
     ]
    },
    {
     "name": "stdout",
     "output_type": "stream",
     "text": [
      "Precision: 0.9837662337662337 \n",
      "Recall: 0.907185628742515 \n",
      "Aging Rate: 0.047912885662431945\n",
      "[LightGBM] [Warning] lambda_l1 is set=6.062086425492299, reg_alpha=0.0 will be ignored. Current value: lambda_l1=6.062086425492299\n",
      "[LightGBM] [Warning] lambda_l2 is set=0.16772057087715814, reg_lambda=0.0 will be ignored. Current value: lambda_l2=0.16772057087715814\n"
     ]
    },
    {
     "name": "stderr",
     "output_type": "stream",
     "text": [
      "C:\\Users\\Darui Yen\\Anaconda3\\envs\\aging_test\\lib\\site-packages\\lightgbm\\engine.py:148: UserWarning: Found `num_iterations` in params. Will use it instead of argument\n",
      "  _log_warning(\"Found `{}` in params. Will use it instead of argument\".format(alias))\n",
      "\u001b[32m[I 2021-07-18 15:05:28,970]\u001b[0m Trial 4 finished with value: 0.8990535969618468 and parameters: {'boosting_type': 'goss', 'num_iterations': 200, 'subsample': 0.7000000000000001, 'num_leaves': 40, 'min_child_samples': 6, 'max_depth': 7, 'learning_rate': 0.225, 'lambda_l1': 6.062086425492299, 'lambda_l2': 0.16772057087715814}. Best is trial 3 with value: 0.9460414703944425.\u001b[0m\n"
     ]
    },
    {
     "name": "stdout",
     "output_type": "stream",
     "text": [
      "Precision: 0.9486081370449678 \n",
      "Recall: 0.8886659979939819 \n",
      "Aging Rate: 0.04843142338605134\n",
      "[LightGBM] [Warning] lambda_l1 is set=1.938004642988548, reg_alpha=0.0 will be ignored. Current value: lambda_l1=1.938004642988548\n",
      "[LightGBM] [Warning] lambda_l2 is set=0.006312854818609378, reg_lambda=0.0 will be ignored. Current value: lambda_l2=0.006312854818609378\n"
     ]
    },
    {
     "name": "stderr",
     "output_type": "stream",
     "text": [
      "C:\\Users\\Darui Yen\\Anaconda3\\envs\\aging_test\\lib\\site-packages\\lightgbm\\engine.py:148: UserWarning: Found `num_iterations` in params. Will use it instead of argument\n",
      "  _log_warning(\"Found `{}` in params. Will use it instead of argument\".format(alias))\n"
     ]
    },
    {
     "name": "stdout",
     "output_type": "stream",
     "text": [
      "Precision: 0.9208972845336482 \n",
      "Recall: 0.7587548638132295 \n",
      "Aging Rate: 0.043920145190562615\n",
      "[LightGBM] [Warning] lambda_l1 is set=1.938004642988548, reg_alpha=0.0 will be ignored. Current value: lambda_l1=1.938004642988548\n",
      "[LightGBM] [Warning] lambda_l2 is set=0.006312854818609378, reg_lambda=0.0 will be ignored. Current value: lambda_l2=0.006312854818609378\n"
     ]
    },
    {
     "name": "stderr",
     "output_type": "stream",
     "text": [
      "C:\\Users\\Darui Yen\\Anaconda3\\envs\\aging_test\\lib\\site-packages\\lightgbm\\engine.py:148: UserWarning: Found `num_iterations` in params. Will use it instead of argument\n",
      "  _log_warning(\"Found `{}` in params. Will use it instead of argument\".format(alias))\n"
     ]
    },
    {
     "name": "stdout",
     "output_type": "stream",
     "text": [
      "Precision: 0.9546666666666667 \n",
      "Recall: 0.6924564796905223 \n",
      "Aging Rate: 0.0388903292714545\n",
      "[LightGBM] [Warning] lambda_l1 is set=1.938004642988548, reg_alpha=0.0 will be ignored. Current value: lambda_l1=1.938004642988548\n",
      "[LightGBM] [Warning] lambda_l2 is set=0.006312854818609378, reg_lambda=0.0 will be ignored. Current value: lambda_l2=0.006312854818609378\n"
     ]
    },
    {
     "name": "stderr",
     "output_type": "stream",
     "text": [
      "C:\\Users\\Darui Yen\\Anaconda3\\envs\\aging_test\\lib\\site-packages\\lightgbm\\engine.py:148: UserWarning: Found `num_iterations` in params. Will use it instead of argument\n",
      "  _log_warning(\"Found `{}` in params. Will use it instead of argument\".format(alias))\n",
      "\u001b[32m[I 2021-07-18 15:05:30,831]\u001b[0m Trial 5 finished with value: 0.6754951736571164 and parameters: {'boosting_type': 'gbdt', 'num_iterations': 50, 'subsample': 0.6000000000000001, 'num_leaves': 5, 'min_child_samples': 3, 'max_depth': 7, 'learning_rate': 0.525, 'lambda_l1': 1.938004642988548, 'lambda_l2': 0.006312854818609378}. Best is trial 3 with value: 0.9460414703944425.\u001b[0m\n"
     ]
    },
    {
     "name": "stdout",
     "output_type": "stream",
     "text": [
      "Precision: 0.8460410557184751 \n",
      "Recall: 0.5752741774675972 \n",
      "Aging Rate: 0.035364272750842626\n",
      "[LightGBM] [Warning] lambda_l1 is set=0.4168396417923538, reg_alpha=0.0 will be ignored. Current value: lambda_l1=0.4168396417923538\n",
      "[LightGBM] [Warning] lambda_l2 is set=5.426093742453119, reg_lambda=0.0 will be ignored. Current value: lambda_l2=5.426093742453119\n"
     ]
    },
    {
     "name": "stderr",
     "output_type": "stream",
     "text": [
      "C:\\Users\\Darui Yen\\Anaconda3\\envs\\aging_test\\lib\\site-packages\\lightgbm\\engine.py:148: UserWarning: Found `num_iterations` in params. Will use it instead of argument\n",
      "  _log_warning(\"Found `{}` in params. Will use it instead of argument\".format(alias))\n"
     ]
    },
    {
     "name": "stdout",
     "output_type": "stream",
     "text": [
      "Precision: 0.9934782608695653 \n",
      "Recall: 0.955067920585162 \n",
      "Aging Rate: 0.04770547057298419\n",
      "[LightGBM] [Warning] lambda_l1 is set=0.4168396417923538, reg_alpha=0.0 will be ignored. Current value: lambda_l1=0.4168396417923538\n",
      "[LightGBM] [Warning] lambda_l2 is set=5.426093742453119, reg_lambda=0.0 will be ignored. Current value: lambda_l2=5.426093742453119\n"
     ]
    },
    {
     "name": "stderr",
     "output_type": "stream",
     "text": [
      "C:\\Users\\Darui Yen\\Anaconda3\\envs\\aging_test\\lib\\site-packages\\lightgbm\\engine.py:148: UserWarning: Found `num_iterations` in params. Will use it instead of argument\n",
      "  _log_warning(\"Found `{}` in params. Will use it instead of argument\".format(alias))\n"
     ]
    },
    {
     "name": "stdout",
     "output_type": "stream",
     "text": [
      "Precision: 0.9856850715746421 \n",
      "Recall: 0.9432485322896281 \n",
      "Aging Rate: 0.05071298936997667\n",
      "[LightGBM] [Warning] lambda_l1 is set=0.4168396417923538, reg_alpha=0.0 will be ignored. Current value: lambda_l1=0.4168396417923538\n",
      "[LightGBM] [Warning] lambda_l2 is set=5.426093742453119, reg_lambda=0.0 will be ignored. Current value: lambda_l2=5.426093742453119\n"
     ]
    },
    {
     "name": "stderr",
     "output_type": "stream",
     "text": [
      "C:\\Users\\Darui Yen\\Anaconda3\\envs\\aging_test\\lib\\site-packages\\lightgbm\\engine.py:148: UserWarning: Found `num_iterations` in params. Will use it instead of argument\n",
      "  _log_warning(\"Found `{}` in params. Will use it instead of argument\".format(alias))\n",
      "\u001b[32m[I 2021-07-18 15:05:35,168]\u001b[0m Trial 6 finished with value: 0.9420369053268752 and parameters: {'boosting_type': 'gbdt', 'num_iterations': 200, 'subsample': 0.8, 'num_leaves': 35, 'min_child_samples': 12, 'max_depth': 9, 'learning_rate': 0.07500000000000001, 'lambda_l1': 0.4168396417923538, 'lambda_l2': 5.426093742453119}. Best is trial 3 with value: 0.9460414703944425.\u001b[0m\n"
     ]
    },
    {
     "name": "stdout",
     "output_type": "stream",
     "text": [
      "Precision: 0.9946977730646872 \n",
      "Recall: 0.9277942631058358 \n",
      "Aging Rate: 0.04889810733730879\n",
      "[LightGBM] [Warning] lambda_l1 is set=5.642495709448535, reg_alpha=0.0 will be ignored. Current value: lambda_l1=5.642495709448535\n",
      "[LightGBM] [Warning] lambda_l2 is set=0.0023178516113455476, reg_lambda=0.0 will be ignored. Current value: lambda_l2=0.0023178516113455476\n"
     ]
    },
    {
     "name": "stderr",
     "output_type": "stream",
     "text": [
      "C:\\Users\\Darui Yen\\Anaconda3\\envs\\aging_test\\lib\\site-packages\\lightgbm\\engine.py:148: UserWarning: Found `num_iterations` in params. Will use it instead of argument\n",
      "  _log_warning(\"Found `{}` in params. Will use it instead of argument\".format(alias))\n"
     ]
    },
    {
     "name": "stdout",
     "output_type": "stream",
     "text": [
      "Precision: 0.94921875 \n",
      "Recall: 0.9501466275659824 \n",
      "Aging Rate: 0.053098262898625875\n",
      "[LightGBM] [Warning] lambda_l1 is set=5.642495709448535, reg_alpha=0.0 will be ignored. Current value: lambda_l1=5.642495709448535\n",
      "[LightGBM] [Warning] lambda_l2 is set=0.0023178516113455476, reg_lambda=0.0 will be ignored. Current value: lambda_l2=0.0023178516113455476\n"
     ]
    },
    {
     "name": "stderr",
     "output_type": "stream",
     "text": [
      "C:\\Users\\Darui Yen\\Anaconda3\\envs\\aging_test\\lib\\site-packages\\lightgbm\\engine.py:148: UserWarning: Found `num_iterations` in params. Will use it instead of argument\n",
      "  _log_warning(\"Found `{}` in params. Will use it instead of argument\".format(alias))\n"
     ]
    },
    {
     "name": "stdout",
     "output_type": "stream",
     "text": [
      "Precision: 0.9355860612460402 \n",
      "Recall: 0.9105858170606372 \n",
      "Aging Rate: 0.049105522426756545\n",
      "[LightGBM] [Warning] lambda_l1 is set=5.642495709448535, reg_alpha=0.0 will be ignored. Current value: lambda_l1=5.642495709448535\n",
      "[LightGBM] [Warning] lambda_l2 is set=0.0023178516113455476, reg_lambda=0.0 will be ignored. Current value: lambda_l2=0.0023178516113455476\n"
     ]
    },
    {
     "name": "stderr",
     "output_type": "stream",
     "text": [
      "C:\\Users\\Darui Yen\\Anaconda3\\envs\\aging_test\\lib\\site-packages\\lightgbm\\engine.py:148: UserWarning: Found `num_iterations` in params. Will use it instead of argument\n",
      "  _log_warning(\"Found `{}` in params. Will use it instead of argument\".format(alias))\n",
      "\u001b[32m[I 2021-07-18 15:05:38,333]\u001b[0m Trial 7 finished with value: 0.9208453506136829 and parameters: {'boosting_type': 'goss', 'num_iterations': 100, 'subsample': 0.7000000000000001, 'num_leaves': 35, 'min_child_samples': 12, 'max_depth': 7, 'learning_rate': 0.525, 'lambda_l1': 5.642495709448535, 'lambda_l2': 0.0023178516113455476}. Best is trial 3 with value: 0.9460414703944425.\u001b[0m\n"
     ]
    },
    {
     "name": "stdout",
     "output_type": "stream",
     "text": [
      "Precision: 0.9345794392523364 \n",
      "Recall: 0.9018036072144289 \n",
      "Aging Rate: 0.049935182784547574\n",
      "[LightGBM] [Warning] lambda_l1 is set=0.016542390384759784, reg_alpha=0.0 will be ignored. Current value: lambda_l1=0.016542390384759784\n",
      "[LightGBM] [Warning] lambda_l2 is set=0.6401442042804966, reg_lambda=0.0 will be ignored. Current value: lambda_l2=0.6401442042804966\n"
     ]
    },
    {
     "name": "stderr",
     "output_type": "stream",
     "text": [
      "C:\\Users\\Darui Yen\\Anaconda3\\envs\\aging_test\\lib\\site-packages\\lightgbm\\engine.py:148: UserWarning: Found `num_iterations` in params. Will use it instead of argument\n",
      "  _log_warning(\"Found `{}` in params. Will use it instead of argument\".format(alias))\n"
     ]
    },
    {
     "name": "stdout",
     "output_type": "stream",
     "text": [
      "Precision: 1.0 \n",
      "Recall: 0.9959798994974874 \n",
      "Aging Rate: 0.051387088410681875\n",
      "[LightGBM] [Warning] lambda_l1 is set=0.016542390384759784, reg_alpha=0.0 will be ignored. Current value: lambda_l1=0.016542390384759784\n",
      "[LightGBM] [Warning] lambda_l2 is set=0.6401442042804966, reg_lambda=0.0 will be ignored. Current value: lambda_l2=0.6401442042804966\n"
     ]
    },
    {
     "name": "stderr",
     "output_type": "stream",
     "text": [
      "C:\\Users\\Darui Yen\\Anaconda3\\envs\\aging_test\\lib\\site-packages\\lightgbm\\engine.py:148: UserWarning: Found `num_iterations` in params. Will use it instead of argument\n",
      "  _log_warning(\"Found `{}` in params. Will use it instead of argument\".format(alias))\n"
     ]
    },
    {
     "name": "stdout",
     "output_type": "stream",
     "text": [
      "Precision: 1.0 \n",
      "Recall: 0.9959636730575177 \n",
      "Aging Rate: 0.05117967332123412\n",
      "[LightGBM] [Warning] lambda_l1 is set=0.016542390384759784, reg_alpha=0.0 will be ignored. Current value: lambda_l1=0.016542390384759784\n",
      "[LightGBM] [Warning] lambda_l2 is set=0.6401442042804966, reg_lambda=0.0 will be ignored. Current value: lambda_l2=0.6401442042804966\n"
     ]
    },
    {
     "name": "stderr",
     "output_type": "stream",
     "text": [
      "C:\\Users\\Darui Yen\\Anaconda3\\envs\\aging_test\\lib\\site-packages\\lightgbm\\engine.py:148: UserWarning: Found `num_iterations` in params. Will use it instead of argument\n",
      "  _log_warning(\"Found `{}` in params. Will use it instead of argument\".format(alias))\n",
      "\u001b[32m[I 2021-07-18 15:05:44,962]\u001b[0m Trial 8 finished with value: 0.9969632772584124 and parameters: {'boosting_type': 'goss', 'num_iterations': 250, 'subsample': 0.9, 'num_leaves': 25, 'min_child_samples': 24, 'max_depth': 9, 'learning_rate': 0.47500000000000003, 'lambda_l1': 0.016542390384759784, 'lambda_l2': 0.6401442042804966}. Best is trial 8 with value: 0.9969632772584124.\u001b[0m\n"
     ]
    },
    {
     "name": "stdout",
     "output_type": "stream",
     "text": [
      "Precision: 1.0 \n",
      "Recall: 0.9989462592202318 \n",
      "Aging Rate: 0.04915737619911849\n",
      "[LightGBM] [Warning] lambda_l1 is set=0.017014416157561024, reg_alpha=0.0 will be ignored. Current value: lambda_l1=0.017014416157561024\n",
      "[LightGBM] [Warning] lambda_l2 is set=9.453285442342853, reg_lambda=0.0 will be ignored. Current value: lambda_l2=9.453285442342853\n"
     ]
    },
    {
     "name": "stderr",
     "output_type": "stream",
     "text": [
      "C:\\Users\\Darui Yen\\Anaconda3\\envs\\aging_test\\lib\\site-packages\\lightgbm\\engine.py:148: UserWarning: Found `num_iterations` in params. Will use it instead of argument\n",
      "  _log_warning(\"Found `{}` in params. Will use it instead of argument\".format(alias))\n"
     ]
    },
    {
     "name": "stdout",
     "output_type": "stream",
     "text": [
      "Precision: 0.9906347554630593 \n",
      "Recall: 0.9529529529529529 \n",
      "Aging Rate: 0.049831475239823696\n",
      "[LightGBM] [Warning] lambda_l1 is set=0.017014416157561024, reg_alpha=0.0 will be ignored. Current value: lambda_l1=0.017014416157561024\n",
      "[LightGBM] [Warning] lambda_l2 is set=9.453285442342853, reg_lambda=0.0 will be ignored. Current value: lambda_l2=9.453285442342853\n"
     ]
    },
    {
     "name": "stderr",
     "output_type": "stream",
     "text": [
      "C:\\Users\\Darui Yen\\Anaconda3\\envs\\aging_test\\lib\\site-packages\\lightgbm\\engine.py:148: UserWarning: Found `num_iterations` in params. Will use it instead of argument\n",
      "  _log_warning(\"Found `{}` in params. Will use it instead of argument\".format(alias))\n"
     ]
    },
    {
     "name": "stdout",
     "output_type": "stream",
     "text": [
      "Precision: 0.9940119760479041 \n",
      "Recall: 0.9764705882352941 \n",
      "Aging Rate: 0.05195747990666321\n",
      "[LightGBM] [Warning] lambda_l1 is set=0.017014416157561024, reg_alpha=0.0 will be ignored. Current value: lambda_l1=0.017014416157561024\n",
      "[LightGBM] [Warning] lambda_l2 is set=9.453285442342853, reg_lambda=0.0 will be ignored. Current value: lambda_l2=9.453285442342853\n"
     ]
    },
    {
     "name": "stderr",
     "output_type": "stream",
     "text": [
      "C:\\Users\\Darui Yen\\Anaconda3\\envs\\aging_test\\lib\\site-packages\\lightgbm\\engine.py:148: UserWarning: Found `num_iterations` in params. Will use it instead of argument\n",
      "  _log_warning(\"Found `{}` in params. Will use it instead of argument\".format(alias))\n",
      "\u001b[32m[I 2021-07-18 15:05:48,817]\u001b[0m Trial 9 finished with value: 0.957321287922964 and parameters: {'boosting_type': 'gbdt', 'num_iterations': 200, 'subsample': 0.9, 'num_leaves': 25, 'min_child_samples': 6, 'max_depth': 11, 'learning_rate': 0.07500000000000001, 'lambda_l1': 0.017014416157561024, 'lambda_l2': 9.453285442342853}. Best is trial 8 with value: 0.9969632772584124.\u001b[0m\n"
     ]
    },
    {
     "name": "stdout",
     "output_type": "stream",
     "text": [
      "Precision: 0.9915164369034994 \n",
      "Recall: 0.9425403225806451 \n",
      "Aging Rate: 0.04889810733730879\n",
      "Sampler is TPESampler\n",
      "Number of finished trials: 10\n",
      "Best trial: {'boosting_type': 'goss', 'num_iterations': 250, 'subsample': 0.9, 'num_leaves': 25, 'min_child_samples': 24, 'max_depth': 9, 'learning_rate': 0.47500000000000003, 'lambda_l1': 0.016542390384759784, 'lambda_l2': 0.6401442042804966}\n",
      "\n",
      "Run Time：39.463510 seconds\n"
     ]
    }
   ],
   "source": [
    "start = time.time()\n",
    "\n",
    "study = optuna.create_study(direction = 'maximize')\n",
    "study.optimize(objective, n_trials = 10)\n",
    " \n",
    "print(f\"Sampler is {study.sampler.__class__.__name__}\")\n",
    "print('Number of finished trials:', len(study.trials))\n",
    "print('Best trial:', study.best_trial.params)\n",
    "\n",
    "end = time.time()\n",
    "print(\"\\nRun Time：%f seconds\" % (end - start))"
   ]
  },
  {
   "cell_type": "markdown",
   "id": "68ccd3be",
   "metadata": {},
   "source": [
    "### Regressor"
   ]
  },
  {
   "cell_type": "code",
   "execution_count": 12,
   "id": "8b0213d8",
   "metadata": {},
   "outputs": [
    {
     "name": "stdout",
     "output_type": "stream",
     "text": [
      "\n",
      " Dataset 0:\n",
      "Best Threshold: -0.0022181980885554054 \n",
      "\n",
      "Recall: [0.83333333] ,   Precision: [0.00035191] ,   Aging Rate: [0.76246355]\n",
      "\n",
      " Dataset 1:\n",
      "Best Threshold: -0.003475413149833584 \n",
      "\n",
      "Recall: [0.83333333] ,   Precision: [0.00035397] ,   Aging Rate: [0.7580273]\n",
      "\n",
      " Dataset 2:\n",
      "Best Threshold: -0.024027813974004143 \n",
      "\n",
      "Recall: [0.83333333] ,   Precision: [0.00040222] ,   Aging Rate: [0.66710194]\n",
      "\n",
      " Dataset 3:\n",
      "Best Threshold: -0.0032463508159883167 \n",
      "\n",
      "Recall: [0.83333333] ,   Precision: [0.0003006] ,   Aging Rate: [0.89263546]\n",
      "\n",
      " Dataset 4:\n",
      "Best Threshold: -0.017811344081361678 \n",
      "\n",
      "Recall: [0.83333333] ,   Precision: [0.00040613] ,   Aging Rate: [0.66068011]\n",
      "\n",
      " Dataset 5:\n",
      "Best Threshold: -0.016395933070389695 \n",
      "\n",
      "Recall: [0.83333333] ,   Precision: [0.00029923] ,   Aging Rate: [0.89671395]\n",
      "\n",
      " Dataset 6:\n",
      "Best Threshold: 0.07817292807575214 \n",
      "\n",
      "Recall: [0.83333333] ,   Precision: [0.00036608] ,   Aging Rate: [0.73296603]\n",
      "\n",
      " Dataset 7:\n",
      "Best Threshold: 0.03529127734764323 \n",
      "\n",
      "Recall: [0.83333333] ,   Precision: [0.00033055] ,   Aging Rate: [0.81174534]\n",
      "\n",
      " Dataset 8:\n",
      "Best Threshold: -0.00496012939715779 \n",
      "\n",
      "Recall: [0.83333333] ,   Precision: [0.00029858] ,   Aging Rate: [0.89864587]\n"
     ]
    },
    {
     "data": {
      "image/png": "[encoded data removed]",
      "text/plain": [
       "<Figure size 1080x576 with 2 Axes>"
      ]
     },
     "metadata": {
      "needs_background": "light"
     },
     "output_type": "display_data"
    },
    {
     "name": "stdout",
     "output_type": "stream",
     "text": [
      "\n",
      "Run Time：18.372068 seconds\n"
     ]
    }
   ],
   "source": [
    "start = time.time()\n",
    "\n",
    "reg_param = {\n",
    "        'objective': 'binary',\n",
    "        'metric': 'binary_logloss',\n",
    "        'boosting_type': 'gbdt',\n",
    "        'num_iterations': 250,\n",
    "        'subsample': 0.6,\n",
    "        'num_leaves': 35,\n",
    "        'min_child_samples': 15,\n",
    "        'max_depth': 5,\n",
    "        'learning_rate': 0.25,\n",
    "        'lambda_l1': 0.001,\n",
    "        'lambda_l2': 0.001\n",
    "}\n",
    "\n",
    "#pr_dict, table_set2, bad_set2 = runall_LightGBMR(9, trainset_x, test_x, trainset_y, test_y, thres_target = 'Recall', \n",
    "#                                                 threshold = 0.8)\n",
    "pr_dict, table_set2 = runall_LightGBMR(9, trainset_x, run_test_x, trainset_y, run_test_y, reg_param, thres_target = 'Recall', \n",
    "                                       threshold = 0.8, record_bad = False)\n",
    "line_chart(table_set2, title = 'LightGBM Regressor')\n",
    "#bad_plot(bad_set2)\n",
    "\n",
    "end = time.time()\n",
    "print(\"\\nRun Time：%f seconds\" % (end - start))"
   ]
  },
  {
   "cell_type": "code",
   "execution_count": null,
   "id": "50fe6e4b",
   "metadata": {},
   "outputs": [],
   "source": [
    "multiple_curve(3, 3, pr_dict, table_set2, target = 'Aging Rate')\n",
    "multiple_curve(3, 3, pr_dict, table_set2, target = 'Precision')\n",
    "table_set2"
   ]
  }
 ],
 "metadata": {
  "kernelspec": {
   "display_name": "Python [conda env:aging_test]",
   "language": "python",
   "name": "conda-env-aging_test-py"
  },
  "language_info": {
   "codemirror_mode": {
    "name": "ipython",
    "version": 3
   },
   "file_extension": ".py",
   "mimetype": "text/x-python",
   "name": "python",
   "nbconvert_exporter": "python",
   "pygments_lexer": "ipython3",
   "version": "3.8.10"
  }
 },
 "nbformat": 4,
 "nbformat_minor": 5
}
