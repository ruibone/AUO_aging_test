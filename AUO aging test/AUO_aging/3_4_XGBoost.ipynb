{
 "cells": [
  {
   "cell_type": "code",
   "execution_count": null,
   "metadata": {
    "ExecuteTime": {
     "end_time": "2021-07-31T11:16:19.690203Z",
     "start_time": "2021-07-31T11:16:18.096819Z"
    }
   },
   "outputs": [],
   "source": [
    "import os\n",
    "import time\n",
    "import itertools\n",
    "import numpy as np\n",
    "import pandas as pd\n",
    "import pickle\n",
    "from tqdm.auto import tqdm\n",
    "import plotly\n",
    "import matplotlib.pyplot as plt\n",
    "\n",
    "import xgboost as xgb\n",
    "import optuna\n",
    "from sklearn.model_selection import GridSearchCV, train_test_split\n",
    "\n",
    "from Dataset_Construction import Balance_Ratio \n",
    "from Sampling import label_divide\n",
    "from AdaClassifier import train_set, multiple_set, print_badC, bad_plot, line_chart, cf_matrix\n",
    "from AdaRegressor import AUC, PR_curve, multiple_curve, PR_matrix, best_threshold \n",
    "from Aging_Score import score1\n",
    "\n",
    "os.chdir('C:/Users/user/Desktop/Darui_R08621110') \n",
    "os.getcwd()"
   ]
  },
  {
   "cell_type": "markdown",
   "metadata": {},
   "source": [
    "### Boosting model"
   ]
  },
  {
   "cell_type": "code",
   "execution_count": null,
   "metadata": {
    "ExecuteTime": {
     "end_time": "2021-07-31T11:16:21.666486Z",
     "start_time": "2021-07-31T11:16:21.654518Z"
    }
   },
   "outputs": [],
   "source": [
    "def XGBoostC(train_x, test_x, train_y, test_y, config):\n",
    "    \n",
    "    clf = xgb.XGBClassifier(**config, n_jobs = -1)\n",
    "    clf.fit(train_x, train_y)\n",
    "    predict_y = clf.predict(test_x)\n",
    "    result = pd.DataFrame({'truth': test_y, 'predict': predict_y})\n",
    "    \n",
    "    return result\n",
    "    \n",
    "    \n",
    "def XGBoostR(train_x, test_x, train_y, test_y, config):\n",
    "    \n",
    "    reg = xgb.XGBRegressor(**config, n_jobs = -1)\n",
    "    reg.fit(train_x, train_y)\n",
    "    predict_y = reg.predict(test_x)\n",
    "    result = pd.DataFrame({'truth': test_y, 'predict': predict_y})\n",
    "\n",
    "    return result"
   ]
  },
  {
   "cell_type": "markdown",
   "metadata": {},
   "source": [
    "### Run all dataset"
   ]
  },
  {
   "cell_type": "code",
   "execution_count": null,
   "metadata": {
    "ExecuteTime": {
     "end_time": "2021-07-31T11:16:23.791453Z",
     "start_time": "2021-07-31T11:16:23.779446Z"
    }
   },
   "outputs": [],
   "source": [
    "def runall_XGBoostC(num_set, trainset_x, test_x, trainset_y, test_y, config, record_bad = True):\n",
    "    \n",
    "    table_set = pd.DataFrame()\n",
    "    bad_set = pd.DataFrame()\n",
    "    judge = list(config.keys())[0]\n",
    "\n",
    "    for i in range(num_set):\n",
    "        print('\\n', f'Dataset {i}:')\n",
    "\n",
    "        if isinstance(config[judge], dict) :\n",
    "            best_config = config[f'set{i}']\n",
    "        else :\n",
    "            best_config = config\n",
    "            \n",
    "        result = XGBoostC(trainset_x[f'set{i}'], test_x, trainset_y[f'set{i}'], test_y, best_config)    \n",
    "        table = cf_matrix(result, trainset_y[f'set{i}'])\n",
    "        table_set = pd.concat([table_set, table]).rename(index = {0: f'dataset {i}'})\n",
    "        \n",
    "        if record_bad:\n",
    "            bad_table = print_badC(result, test_x, Bad_Types) \n",
    "            bad_set = pd.concat([bad_set, bad_table]).rename(index = {0: f'dataset {i}'})\n",
    "\n",
    "    if record_bad:\n",
    "        return table_set, bad_set\n",
    "    else:\n",
    "        return table_set\n",
    "    \n",
    "    \n",
    "def runall_XGBoostR(num_set, trainset_x, test_x, trainset_y, test_y, config, thres_target = 'Recall', threshold = 0.8, \n",
    "                          record_bad = True):\n",
    "    \n",
    "    table_set = pd.DataFrame()\n",
    "    bad_set = pd.DataFrame()\n",
    "    pr_dict = {}\n",
    "    judge = list(config.keys())[0]\n",
    "\n",
    "    for i in range(num_set):\n",
    "        print('\\n', f'Dataset {i}:')\n",
    "\n",
    "        if isinstance(config[judge], dict) :\n",
    "            best_config = config[f'set{i}']\n",
    "        else :\n",
    "            best_config = config\n",
    "\n",
    "        predict = XGBoostR(trainset_x[f'set{i}'], test_x, trainset_y[f'set{i}'], test_y, best_config)     \n",
    "        pr_matrix = PR_matrix(predict, trainset_y[f'set{i}'])\n",
    "        pr_dict[f'set{i}'] = pr_matrix\n",
    "        \n",
    "        best_data, best_thres = best_threshold(pr_matrix, target = thres_target, threshold = threshold)\n",
    "        table_set = pd.concat([table_set, best_data]).rename(index = {best_data.index.values[0]: f'dataset {i}'})\n",
    "        \n",
    "        if record_bad:\n",
    "            bad_table = print_badC(predict, test_x, Bad_Types, threshold = best_thres)\n",
    "            bad_set = pd.concat([bad_set, bad_table]).rename(index = {0: f'dataset {i}'})\n",
    "    \n",
    "    if record_bad:\n",
    "        return pr_dict, table_set, bad_set\n",
    "    else:\n",
    "        return pr_dict, table_set"
   ]
  },
  {
   "cell_type": "markdown",
   "metadata": {},
   "source": [
    "## Data Processing"
   ]
  },
  {
   "cell_type": "code",
   "execution_count": null,
   "metadata": {
    "ExecuteTime": {
     "end_time": "2021-07-31T11:16:29.104105Z",
     "start_time": "2021-07-31T11:16:27.043470Z"
    }
   },
   "outputs": [],
   "source": [
    "###bad types###\n",
    "bad = pd.read_csv('original_data/Bad_Types.csv').iloc[:, 1:]\n",
    "Bad_Types = {bad.cb[i]:i for i in range (len(bad))}\n",
    "print('Total bad types:', len(bad))\n",
    "\n",
    "###single dataset###\n",
    "test = pd.read_csv('original_data/TestingSet_0.csv').iloc[:, 2:]\n",
    "train = pd.read_csv('original_data/TrainingSet_new.csv').iloc[:, 2:]\n",
    "print('\\ntraining data:', train.shape, '\\nBalance Ratio:', Balance_Ratio(train))\n",
    "print('\\ntesting data:', test.shape, '\\nBalance Ratio:', Balance_Ratio(test), '\\n')\n",
    "\n",
    "train_x, train_y, test_x, test_y = label_divide(train, test, 'GB')\n",
    "\n",
    "###multiple dataset###\n",
    "data_dict = multiple_set(num_set = 9)\n",
    "trainset_x, trainset_y = train_set(data_dict, num_set = 9, label = 'GB')\n",
    "test_x, test_y = label_divide(test, None, 'GB', train_only = True)\n",
    "\n",
    "\n",
    "#####for runhist dataset#####\n",
    "# bad = pd.read_csv('run_bad_types.csv').iloc[:, 1:]\n",
    "# Bad_Types = {bad.cb[i]:i for i in range (len(bad))}\n",
    "# print('Total bad types:', len(bad))\n",
    "\n",
    "run_test = pd.read_csv('test_runhist.csv').iloc[:, 2:]\n",
    "run_test_x, run_test_y = label_divide(run_test, None, 'GB', train_only = True)\n",
    "print('\\n', 'Dimension of run test:', run_test.shape)"
   ]
  },
  {
   "cell_type": "markdown",
   "metadata": {},
   "source": [
    "### Classifier"
   ]
  },
  {
   "cell_type": "code",
   "execution_count": null,
   "metadata": {
    "ExecuteTime": {
     "end_time": "2021-07-31T02:09:50.102667Z",
     "start_time": "2021-07-31T02:09:34.388575Z"
    }
   },
   "outputs": [],
   "source": [
    "# run_clf_param = {\n",
    "#         'objective': 'binary:logistic',\n",
    "#         'eval_metric': 'logloss',\n",
    "#         'n_estimators': 200,\n",
    "#         'subsample': 0.5,\n",
    "#         'min_child_weight': 3,\n",
    "#         'max_depth': 7,\n",
    "#         'learning_rate': 0.425,\n",
    "#         'reg_alpha': 0.001,\n",
    "#         'reg_lambda': 0.0005,\n",
    "# } ###tpe/recall-0.1*aging/set6\n",
    "\n",
    "#table_set1, bad_set1 = runall_XGBoostC(9, trainset_x, test_x, trainset_y, test_y, event_clf_param)\n",
    "table_set1 = runall_XGBoostC(9, trainset_x, run_test_x, trainset_y, run_test_y, best_paramC, record_bad = False)\n",
    "line_chart(table_set1, title = 'XGBoost Classfifer')\n",
    "#bad_plot(bad_set1)"
   ]
  },
  {
   "cell_type": "code",
   "execution_count": null,
   "metadata": {
    "ExecuteTime": {
     "end_time": "2021-07-31T02:59:28.189256Z",
     "start_time": "2021-07-31T02:59:28.161564Z"
    }
   },
   "outputs": [],
   "source": [
    "table_set1"
   ]
  },
  {
   "cell_type": "markdown",
   "metadata": {},
   "source": [
    "### Regression"
   ]
  },
  {
   "cell_type": "code",
   "execution_count": null,
   "metadata": {
    "ExecuteTime": {
     "end_time": "2021-07-31T18:22:11.051963Z",
     "start_time": "2021-07-31T18:21:50.921993Z"
    }
   },
   "outputs": [],
   "source": [
    "# run_reg_param = {\n",
    "#         'objective': 'binary:logistic',\n",
    "#         'eval_metric': 'logloss',\n",
    "#         'n_estimators': 150,\n",
    "#         'subsample': 0.7,\n",
    "#         'min_child_weight': 9,\n",
    "#         'max_depth': 7,\n",
    "#         'learning_rate': 0.325,\n",
    "#         'reg_alpha': 0.25,\n",
    "#         'reg_lambda': 0.06\n",
    "# } #tpe/auc/set6\n",
    "\n",
    "# pr_dict, table_set2, bad_set2 = runall_XGBoostR(9, trainset_x, test_x, trainset_y, test_y, event_reg_param, \n",
    "#                                                 thres_target = 'Recall', threshold = 0.8)\n",
    "pr_dict, table_set2 = runall_XGBoostR(9, trainset_x, run_test_x, trainset_y, run_test_y, best_paramR, \n",
    "                                       thres_target = 'Recall', threshold = 0.7, record_bad = False)\n",
    "line_chart(table_set2, title = 'XGBoost Regressor')\n",
    "#bad_plot(bad_set2)"
   ]
  },
  {
   "cell_type": "code",
   "execution_count": null,
   "metadata": {
    "ExecuteTime": {
     "end_time": "2021-07-31T18:23:07.583134Z",
     "start_time": "2021-07-31T18:23:04.165995Z"
    }
   },
   "outputs": [],
   "source": [
    "multiple_curve(3, 3, pr_dict, table_set2, target = 'Aging Rate')\n",
    "multiple_curve(3, 3, pr_dict, table_set2, target = 'Precision')\n",
    "table_set2"
   ]
  },
  {
   "cell_type": "markdown",
   "metadata": {},
   "source": [
    "## Optimization"
   ]
  },
  {
   "cell_type": "markdown",
   "metadata": {
    "hide_input": true
   },
   "source": [
    "### Optuna"
   ]
  },
  {
   "cell_type": "code",
   "execution_count": null,
   "metadata": {
    "ExecuteTime": {
     "end_time": "2021-07-31T11:16:34.048360Z",
     "start_time": "2021-07-31T11:16:34.020944Z"
    }
   },
   "outputs": [],
   "source": [
    "def objective_creator(train_data, mode, num_valid = 3) :\n",
    "    \n",
    "    def objective(trial) :\n",
    "\n",
    "        param = {\n",
    "            'objective': 'binary:logistic',\n",
    "            'eval_metric': 'logloss',\n",
    "            'n_estimators': trial.suggest_int('n_estimators', 100, 300, step = 50),\n",
    "            'subsample': trial.suggest_float('subsample', 0.5, 0.9, step = 0.2),\n",
    "            'min_child_weight': trial.suggest_int('min_child_weight', 3, 24, step = 3),\n",
    "            'max_depth': trial.suggest_int('max_depth', 3, 13, step = 2),\n",
    "            'learning_rate': trial.suggest_float('learning_rate', 0.025, 0.425, step = 0.05),\n",
    "            'reg_alpha': trial.suggest_loguniform('reg_alpha', 1e-4, 2), # alpha\n",
    "            'reg_lambda': trial.suggest_loguniform('reg_lambda', 1e-4, 2) # lambda\n",
    "        }\n",
    "\n",
    "        result_list = []\n",
    "        for i in range(num_valid):\n",
    "\n",
    "            train_x, train_y = label_divide(train_data, None, 'GB', train_only = True)\n",
    "            train_x, valid_x, train_y, valid_y = train_test_split(train_x, train_y, test_size = 0.25)\n",
    "\n",
    "            if mode == 'C':\n",
    "                result = XGBoostC(train_x, valid_x, train_y, valid_y, param)\n",
    "                table = cf_matrix(result, valid_y)\n",
    "                recall = table['Recall']\n",
    "                aging = table['Aging Rate']\n",
    "                effi = table['Efficiency']\n",
    "\n",
    "                #result_list.append(effi)\n",
    "                result_list.append(recall - 0.1*aging)\n",
    "\n",
    "            elif mode == 'R':\n",
    "                result = XGBoostR(train_x, valid_x, train_y, valid_y, param)\n",
    "                pr_matrix = PR_matrix(result, valid_y)\n",
    "\n",
    "                #best_data, _ = best_threshold(pr_matrix, target = 'Recall', threshold = 0.8)\n",
    "                #aging = best_data['Aging Rate']\n",
    "                #result_list.append((-1)*aging)\n",
    "\n",
    "                auc = AUC(pr_matrix['Recall'], pr_matrix['Aging Rate'])\n",
    "                result_list.append((-1)*auc)\n",
    "\n",
    "        return np.mean(result_list)\n",
    "    \n",
    "    return objective\n",
    "\n",
    "\n",
    "def all_optuna(num_set, all_data, mode, TPE_multi, n_iter, num_valid = 3, return_addition = True) :\n",
    "\n",
    "    best_param = {}\n",
    "    all_study = {}\n",
    "    all_score = {}\n",
    "    for i in tqdm(range(num_set)) :\n",
    "        \n",
    "        ##### define objective function and change optimized target dataset in each loop #####\n",
    "        objective = objective_creator(train_data = data_dict[f'set{i}'], mode = mode, num_valid = num_valid)\n",
    "        \n",
    "        ##### optimize one dataset in each loop #####\n",
    "        print(f'Dataset{i} :')\n",
    "        \n",
    "        study = optuna.create_study(sampler = optuna.samplers.TPESampler(multivariate = TPE_multi), \n",
    "                                       direction = 'maximize')\n",
    "        study.optimize(objective, n_trials = n_iter, show_progress_bar = True, gc_after_trial = True)\n",
    "        #n_trials or timeout\n",
    "        best_param[f'set{i}'] = study.best_trial.params\n",
    "        \n",
    "        ##### return score and entire params for score plot or feature importance\n",
    "        if return_addition :\n",
    "            collect_score = []\n",
    "            [collect_score.append(x.values) for x in study.trials]\n",
    "            all_study[f'set{i}'] = study\n",
    "            all_score[f'set{i}'] = collect_score \n",
    "        \n",
    "        print(f\"Sampler is {study.sampler.__class__.__name__}\")\n",
    "    \n",
    "    ##### store the best hyperparameters #####\n",
    "    multi_mode = 'multivariate' if TPE_multi else 'univariate'\n",
    "    with open(f'runhist_array_label_XGBoost{mode}_{multi_mode}-TPE_{n_iter}.data', 'wb') as f:\n",
    "        pickle.dump(best_param, f)\n",
    "    \n",
    "    if return_addition :\n",
    "        return best_param, all_score, all_study\n",
    "    else :\n",
    "        return best_param"
   ]
  },
  {
   "cell_type": "code",
   "execution_count": null,
   "metadata": {
    "ExecuteTime": {
     "end_time": "2021-07-29T14:46:45.950572Z",
     "start_time": "2021-07-29T14:46:42.702821Z"
    }
   },
   "outputs": [],
   "source": [
    "#####for single dataset#####\n",
    "study = optuna.create_study(sampler = optuna.samplers.TPESampler(multivariate = False), direction = 'maximize') \n",
    "#TPE, Random, Grid, CmaEs#\n",
    "objective = objective_creator(train_data = data_dict['set6'], mode = 'C', num_valid = 3)\n",
    "study.optimize(objective, n_trials = 5, show_progress_bar = True, gc_after_trial = True) #n_trials or timeout\n",
    "\n",
    "#####store the result#####\n",
    "with open(f'one_study.data', 'wb') as f:\n",
    "    pickle.dump(study, f)\n",
    "    \n",
    "# with open(f'one_study.data', 'rb') as f:\n",
    "#     load_study = pickle.load(study, f)\n",
    "    \n",
    "##### hyperparameter importance #####\n",
    "#importances = optuna.importance.get_param_importances(study)\n",
    "#importances.optuna.importance.get_param_importances(study, evaluator = optuna.importance.FanovaImportanceEvaluator())\n",
    "importance_fig = optuna.visualization.plot_param_importances(study)\n",
    "slice_fig = optuna.visualization.plot_slice(study)\n",
    "importance_fig.show()\n",
    "slice_fig.show()\n",
    "\n",
    "##### top 20 hyper-parameters#####\n",
    "all_value = []\n",
    "[all_value.append(x.values) for x in study.trials]\n",
    "val = np.array(all_value)\n",
    "best_val = np.flip(val.argsort(axis = 0))[0:20]\n",
    "val_table = pd.DataFrame()\n",
    "for i in best_val:\n",
    "    temp_table = pd.DataFrame(pd.Series(study.trials[i[0]].params)).T\n",
    "    temp_table['value'] = study.trials[i[0]].value\n",
    "    val_table = pd.concat([val_table, temp_table])\n",
    "\n",
    "val_table = val_table.reset_index(drop = True)\n",
    "\n",
    "##### value loss plot #####\n",
    "val_tpe = val\n",
    "#val_mtpe = val\n",
    "\n",
    "fig = plt.figure(figsize = (15,8))\n",
    "plt.plot(val_tpe, 'b--', linewidth = 0.2, label = 'TPE')\n",
    "#plt.plot(val_mtpe, 'r--', linewidth = 0.2, label = 'MTPE')\n",
    "plt.title('Optimized Values of XGBoost Regressor (aging rate)')\n",
    "plt.xlabel('Iterations')\n",
    "plt.ylabel('Values')\n",
    "#plt.ylim((0.94, 0.97))\n",
    "plt.legend(loc = 'lower right', frameon = False)"
   ]
  },
  {
   "cell_type": "code",
   "execution_count": null,
   "metadata": {
    "ExecuteTime": {
     "end_time": "2021-07-31T18:18:03.789627Z",
     "start_time": "2021-07-31T12:09:30.228745Z"
    }
   },
   "outputs": [],
   "source": [
    "# best_paramC, all_scoreC, all_studyC = all_optuna(num_set = 9, all_data = data_dict, mode = 'C', TPE_multi = True, \n",
    "#                                                  n_iter = 1000)\n",
    "best_paramR, all_scoreR, all_studyR = all_optuna(num_set = 9, all_data = data_dict, mode = 'R', TPE_multi = False, \n",
    "                                                 n_iter = 1000)"
   ]
  },
  {
   "cell_type": "code",
   "execution_count": null,
   "metadata": {
    "ExecuteTime": {
     "end_time": "2021-07-31T18:18:05.753016Z",
     "start_time": "2021-07-31T18:18:04.737598Z"
    }
   },
   "outputs": [],
   "source": [
    "##### optimization history plot #####\n",
    "fig, axs = plt.subplots(3, 3, figsize = (30,15))\n",
    "plt.suptitle('Optimization History of XGBoost Regressor', y = 0.94, fontsize = 25)    \n",
    "for row in range(3):\n",
    "    for col in range(3):\n",
    "        index = 3*row + col\n",
    "        axs[row, col].plot(range(len(all_scoreR[f'set{index}'])), all_scoreR[f'set{index}'], 'r-', linewidth = 1)\n",
    "        axs[row, col].set_title(f'Dataset {index}')\n",
    "        axs[row, col].set_xlabel('Iterations')\n",
    "        axs[row, col].set_ylabel('Values')\n",
    "        \n",
    "##### best hyperparameter table #####\n",
    "param_table = pd.DataFrame(best_paramR).T\n",
    "param_table"
   ]
  },
  {
   "cell_type": "markdown",
   "metadata": {},
   "source": [
    "### Grid Search"
   ]
  },
  {
   "cell_type": "code",
   "execution_count": null,
   "metadata": {
    "scrolled": true
   },
   "outputs": [],
   "source": [
    "start = time.time()\n",
    "\n",
    "clf = xgb.XGBClassifier(n_estimators = 50, \n",
    "                        learning_rate = 0.1, \n",
    "                        min_child_weight = 4, \n",
    "                        subsample = 0.7, \n",
    "                        max_depth = 9, \n",
    "                        reg_lambda = 0.2\n",
    "                       )\n",
    "\n",
    "reg = xgb.XGBRegressor(n_estimators = 200, \n",
    "                        learning_rate = 0.1, \n",
    "                        min_child_weight = 4, \n",
    "                        subsample = 0.7, \n",
    "                        max_depth = 7, \n",
    "                        reg_lambda = 0.2\n",
    "                       )\n",
    "\n",
    "param_dict = {\n",
    "            'n_estimators': [100, 150,200],\n",
    "            'learning_rate': [0.1, 0.2],\n",
    "            'min_child_weight': [4, 5, 6, 7, 8],\n",
    "            'subsample': [0.7],\n",
    "            'max_depth': [3, 5, 7, 9],\n",
    "            'reg_lambda':np.array([0.2])\n",
    "            }\n",
    "\n",
    "fit_params = {'early_stopping_rounds': 10}\n",
    "\n",
    "grid_search = GridSearchCV(clf, param_grid = param_dict, scoring = 'precision', cv = 3, verbose = 10, n_jobs = -1)\n",
    "\n",
    "train_x, train_y = label_divide(data_dict['set5'], None, train_only = True)\n",
    "result = grid_search.fit(train_x, train_y)\n",
    "\n",
    "end = time.time()\n",
    "print(\"\\nRun Time：%f seconds\" % (end - start))"
   ]
  }
 ],
 "metadata": {
  "hide_input": false,
  "kernelspec": {
   "display_name": "Python [conda env:aging]",
   "language": "python",
   "name": "conda-env-aging-py"
  },
  "language_info": {
   "codemirror_mode": {
    "name": "ipython",
    "version": 3
   },
   "file_extension": ".py",
   "mimetype": "text/x-python",
   "name": "python",
   "nbconvert_exporter": "python",
   "pygments_lexer": "ipython3",
   "version": "3.7.10"
  },
  "toc": {
   "base_numbering": 1,
   "nav_menu": {},
   "number_sections": true,
   "sideBar": true,
   "skip_h1_title": false,
   "title_cell": "Table of Contents",
   "title_sidebar": "Contents",
   "toc_cell": false,
   "toc_position": {},
   "toc_section_display": true,
   "toc_window_display": true
  },
  "varInspector": {
   "cols": {
    "lenName": 16,
    "lenType": 16,
    "lenVar": 40
   },
   "kernels_config": {
    "python": {
     "delete_cmd_postfix": "",
     "delete_cmd_prefix": "del ",
     "library": "var_list.py",
     "varRefreshCmd": "print(var_dic_list())"
    },
    "r": {
     "delete_cmd_postfix": ") ",
     "delete_cmd_prefix": "rm(",
     "library": "var_list.r",
     "varRefreshCmd": "cat(var_dic_list()) "
    }
   },
   "position": {
    "height": "392.4px",
    "left": "1149.2px",
    "right": "20px",
    "top": "120px",
    "width": "350px"
   },
   "types_to_exclude": [
    "module",
    "function",
    "builtin_function_or_method",
    "instance",
    "_Feature"
   ],
   "window_display": false
  }
 },
 "nbformat": 4,
 "nbformat_minor": 2
}
