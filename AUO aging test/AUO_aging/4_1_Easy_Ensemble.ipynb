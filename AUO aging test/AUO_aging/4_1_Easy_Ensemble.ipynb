{
 "cells": [
  {
   "cell_type": "code",
   "execution_count": 1,
   "metadata": {},
   "outputs": [
    {
     "data": {
      "text/plain": [
       "'C:\\\\Users\\\\Darui Yen\\\\OneDrive\\\\桌面\\\\data_after_mid'"
      ]
     },
     "execution_count": 1,
     "metadata": {},
     "output_type": "execute_result"
    }
   ],
   "source": [
    "import os\n",
    "import time\n",
    "import itertools\n",
    "import numpy as np\n",
    "import pandas as pd\n",
    "import matplotlib.pyplot as plt\n",
    "\n",
    "from imblearn.ensemble import EasyEnsembleClassifier\n",
    "\n",
    "from Dataset_Construction import Balance_Ratio \n",
    "from Sampling import label_divide\n",
    "from AdaClassifier import train_set, multiple_set, print_badC, bad_plot, line_chart, cf_matrix\n",
    "from Aging_Score import score1\n",
    "\n",
    "os.chdir('C:/Users/Darui Yen/OneDrive/桌面/data_after_mid') \n",
    "os.getcwd()"
   ]
  },
  {
   "cell_type": "markdown",
   "metadata": {},
   "source": [
    "### Ensemble model"
   ]
  },
  {
   "cell_type": "code",
   "execution_count": 16,
   "metadata": {},
   "outputs": [],
   "source": [
    "def EasyEnsembleC(train_x, test_x, train_y, test_y, n_estimator = 10, proportion = 0.6):\n",
    "\n",
    "    clf = EasyEnsembleClassifier(n_estimators = n_estimator, sampling_strategy = proportion)\n",
    "    clf.fit(train_x, train_y)\n",
    "    predict_y = clf.predict(test_x)\n",
    "    result = pd.DataFrame({'truth': test_y, 'predict': predict_y})\n",
    "    \n",
    "    return result"
   ]
  },
  {
   "cell_type": "code",
   "execution_count": 12,
   "metadata": {},
   "outputs": [],
   "source": [
    "def runall_EasyEnsembleC(num_set, trainset_x, test_x, trainset_y, test_y, record_bad = True):\n",
    "    \n",
    "    table_set = pd.DataFrame()\n",
    "    bad_set = pd.DataFrame()\n",
    "\n",
    "    for i in range(num_set):\n",
    "        print('\\n', f'Dataset {i}:')\n",
    "        \n",
    "        result = EasyEnsembleC(trainset_x[f'set{i}'], test_x, trainset_y[f'set{i}'], test_y)\n",
    "        table = cf_matrix(result, trainset_y[f'set{i}'])\n",
    "        table_set = pd.concat([table_set, table]).rename(index = {0: f'dataset {i}'})\n",
    "        \n",
    "        if record_bad:\n",
    "            bad_table = print_badC(result, test_x, Bad_Types) \n",
    "            bad_set = pd.concat([bad_set, bad_table]).rename(index = {0: f'dataset {i}'})\n",
    "\n",
    "    if record_bad:\n",
    "        return table_set, bad_set\n",
    "    else:\n",
    "        return table_set"
   ]
  },
  {
   "cell_type": "markdown",
   "metadata": {},
   "source": [
    "## Data Processing"
   ]
  },
  {
   "cell_type": "code",
   "execution_count": 3,
   "metadata": {},
   "outputs": [
    {
     "name": "stdout",
     "output_type": "stream",
     "text": [
      "Total bad types: 62\n",
      "\n",
      "training data: (77138, 83) \n",
      "Balance Ratio: 18.17902\n",
      "\n",
      "testing data: (55903, 83) \n",
      "Balance Ratio: 3104.72222\n",
      "Dimension of dataset 0 : (77138, 83)  balance ratio: 18.17902\n",
      "Dimension of dataset 1 : (111685, 83)  balance ratio: 1.89572\n",
      "Dimension of dataset 2 : (111685, 83)  balance ratio: 1.89572\n",
      "Dimension of dataset 3 : (111685, 83)  balance ratio: 1.89572\n",
      "Dimension of dataset 4 : (109674, 83)  balance ratio: 2.0\n",
      "Dimension of dataset 5 : (32176, 83)  balance ratio: 1.66667\n",
      "Dimension of dataset 6 : (32176, 83)  balance ratio: 1.66667\n",
      "Dimension of dataset 7 : (32176, 83)  balance ratio: 1.66667\n",
      "Dimension of dataset 8 : (30165, 83)  balance ratio: 2.0\n",
      "\n",
      " 9 datasets are loaded.\n",
      "\n",
      "Labels of  9 datasets are divided.\n"
     ]
    }
   ],
   "source": [
    "###bad types###\n",
    "bad = pd.read_csv('original_data/Bad_Types.csv').iloc[:, 1:]\n",
    "Bad_Types = {bad.cb[i]:i for i in range (len(bad))}\n",
    "print('Total bad types:', len(bad))\n",
    "\n",
    "###single dataset###\n",
    "test = pd.read_csv('original_data/TestingSet_0.csv').iloc[:, 2:]\n",
    "train = pd.read_csv('original_data/TrainingSet_new.csv').iloc[:, 2:]\n",
    "print('\\ntraining data:', train.shape, '\\nBalance Ratio:', Balance_Ratio(train))\n",
    "print('\\ntesting data:', test.shape, '\\nBalance Ratio:', Balance_Ratio(test))\n",
    "\n",
    "train_x, train_y, test_x, test_y = label_divide(train, test, 'GB')\n",
    "\n",
    "###multiple dataset###\n",
    "data_dict = multiple_set(num_set = 9)\n",
    "trainset_x, trainset_y = train_set(data_dict, num_set = 9, label = 'GB')\n",
    "test_x, test_y = label_divide(test, None, 'GB', train_only = True)"
   ]
  },
  {
   "cell_type": "code",
   "execution_count": 17,
   "metadata": {},
   "outputs": [
    {
     "name": "stdout",
     "output_type": "stream",
     "text": [
      "\n",
      " Dataset 0:\n",
      "Precision: 0.00047607712449416806 \n",
      "Recall: 0.1111111111111111 \n",
      "Aging Rate: 0.0751480242563011\n",
      "Types of Bad found: [22, 33]\n",
      "Types of Bad not found: [2, 2, 4, 5, 6, 7, 11, 15, 17, 23, 39, 40, 42, 45, 48, 49]\n",
      "\n",
      " Dataset 1:\n",
      "Precision: 0.00037900322152738296 \n",
      "Recall: 0.1111111111111111 \n",
      "Aging Rate: 0.0943956496073556\n",
      "Types of Bad found: [22, 33]\n",
      "Types of Bad not found: [2, 2, 4, 5, 6, 7, 11, 15, 17, 23, 39, 40, 42, 45, 48, 49]\n",
      "\n",
      " Dataset 2:\n",
      "Precision: 0.00037313432835820896 \n",
      "Recall: 0.1111111111111111 \n",
      "Aging Rate: 0.09588036420227895\n",
      "Types of Bad found: [22, 33]\n",
      "Types of Bad not found: [2, 2, 4, 5, 6, 7, 11, 15, 17, 23, 39, 40, 42, 45, 48, 49]\n",
      "\n",
      " Dataset 3:\n",
      "Precision: 0.0 \n",
      "Recall: 0.0 \n",
      "Aging Rate: 0.0023791209774072946\n",
      "Types of Bad found: []\n",
      "Types of Bad not found: [2, 2, 4, 5, 6, 7, 11, 15, 17, 22, 23, 33, 39, 40, 42, 45, 48, 49]\n",
      "\n",
      " Dataset 4:\n",
      "Precision: 0.0003699593044765076 \n",
      "Recall: 0.1111111111111111 \n",
      "Aging Rate: 0.09670321807416418\n",
      "Types of Bad found: [22, 33]\n",
      "Types of Bad not found: [2, 2, 4, 5, 6, 7, 11, 15, 17, 23, 39, 40, 42, 45, 48, 49]\n",
      "\n",
      " Dataset 5:\n",
      "Precision: 0.00030731407498463427 \n",
      "Recall: 0.3888888888888889 \n",
      "Aging Rate: 0.4074557716043862\n",
      "Types of Bad found: [4, 5, 11, 22, 33, 42, 45]\n",
      "Types of Bad not found: [2, 2, 6, 7, 15, 17, 23, 39, 40, 48, 49]\n",
      "\n",
      " Dataset 6:\n",
      "Precision: 0.00030857394754242893 \n",
      "Recall: 0.3888888888888889 \n",
      "Aging Rate: 0.40579217573296605\n",
      "Types of Bad found: [4, 5, 11, 22, 33, 42, 45]\n",
      "Types of Bad not found: [2, 2, 6, 7, 15, 17, 23, 39, 40, 48, 49]\n",
      "\n",
      " Dataset 7:\n",
      "Precision: 0.00031603564882118704 \n",
      "Recall: 0.2777777777777778 \n",
      "Aging Rate: 0.28300806754557\n",
      "Types of Bad found: [4, 5, 22, 33, 42]\n",
      "Types of Bad not found: [2, 2, 6, 7, 11, 15, 17, 23, 39, 40, 45, 48, 49]\n",
      "\n",
      " Dataset 8:\n",
      "Precision: 0.0003677243118302164 \n",
      "Recall: 0.3888888888888889 \n",
      "Aging Rate: 0.3405183979392877\n",
      "Types of Bad found: [4, 5, 11, 22, 33, 42, 45]\n",
      "Types of Bad not found: [2, 2, 6, 7, 15, 17, 23, 39, 40, 48, 49]\n"
     ]
    },
    {
     "name": "stderr",
     "output_type": "stream",
     "text": [
      "C:\\Users\\Darui Yen\\Anaconda3\\lib\\site-packages\\matplotlib\\cbook\\__init__.py:1402: FutureWarning: Support for multi-dimensional indexing (e.g. `obj[:, None]`) is deprecated and will be removed in a future version.  Convert to a numpy array before indexing instead.\n",
      "  x[:, None]\n",
      "C:\\Users\\Darui Yen\\Anaconda3\\lib\\site-packages\\matplotlib\\axes\\_base.py:278: FutureWarning: Support for multi-dimensional indexing (e.g. `obj[:, None]`) is deprecated and will be removed in a future version.  Convert to a numpy array before indexing instead.\n",
      "  y = y[:, np.newaxis]\n"
     ]
    },
    {
     "data": {
      "image/png": "[encoded data removed]",
      "text/plain": [
       "<Figure size 1080x576 with 2 Axes>"
      ]
     },
     "metadata": {
      "needs_background": "light"
     },
     "output_type": "display_data"
    },
    {
     "data": {
      "image/png": "[encoded data removed]",
      "text/plain": [
       "<Figure size 432x288 with 1 Axes>"
      ]
     },
     "metadata": {
      "needs_background": "light"
     },
     "output_type": "display_data"
    },
    {
     "name": "stdout",
     "output_type": "stream",
     "text": [
      "\n",
      "Run Time：2027.643335 seconds\n"
     ]
    }
   ],
   "source": [
    "start = time.time()\n",
    "\n",
    "table_set, bad_set = runall_EasyEnsembleC(9, trainset_x, test_x, trainset_y, test_y)\n",
    "line_chart(table_set)\n",
    "bad_plot(bad_set)\n",
    "\n",
    "end = time.time()\n",
    "print(\"\\nRun Time：%f seconds\" % (end - start))"
   ]
  },
  {
   "cell_type": "code",
   "execution_count": 19,
   "metadata": {},
   "outputs": [
    {
     "data": {
      "text/html": [
       "<div>\n",
       "<style scoped>\n",
       "    .dataframe tbody tr th:only-of-type {\n",
       "        vertical-align: middle;\n",
       "    }\n",
       "\n",
       "    .dataframe tbody tr th {\n",
       "        vertical-align: top;\n",
       "    }\n",
       "\n",
       "    .dataframe thead th {\n",
       "        text-align: right;\n",
       "    }\n",
       "</style>\n",
       "<table border=\"1\" class=\"dataframe\">\n",
       "  <thead>\n",
       "    <tr style=\"text-align: right;\">\n",
       "      <th></th>\n",
       "      <th>Balance Ratio</th>\n",
       "      <th>Train_OK</th>\n",
       "      <th>Train_NG</th>\n",
       "      <th>TP</th>\n",
       "      <th>FP</th>\n",
       "      <th>FN</th>\n",
       "      <th>TN</th>\n",
       "      <th>Precision</th>\n",
       "      <th>Recall</th>\n",
       "      <th>Aging Rate</th>\n",
       "      <th>Efficiency</th>\n",
       "      <th>Score</th>\n",
       "    </tr>\n",
       "  </thead>\n",
       "  <tbody>\n",
       "    <tr>\n",
       "      <th>dataset 0</th>\n",
       "      <td>18.179015</td>\n",
       "      <td>73116.0</td>\n",
       "      <td>4022.0</td>\n",
       "      <td>2.0</td>\n",
       "      <td>4199.0</td>\n",
       "      <td>16.0</td>\n",
       "      <td>51686.0</td>\n",
       "      <td>0.000476</td>\n",
       "      <td>0.111111</td>\n",
       "      <td>0.075148</td>\n",
       "      <td>1.478563</td>\n",
       "      <td>0.100853</td>\n",
       "    </tr>\n",
       "    <tr>\n",
       "      <th>dataset 1</th>\n",
       "      <td>1.895719</td>\n",
       "      <td>73116.0</td>\n",
       "      <td>38569.0</td>\n",
       "      <td>2.0</td>\n",
       "      <td>5275.0</td>\n",
       "      <td>16.0</td>\n",
       "      <td>50610.0</td>\n",
       "      <td>0.000379</td>\n",
       "      <td>0.111111</td>\n",
       "      <td>0.094396</td>\n",
       "      <td>1.177079</td>\n",
       "      <td>0.086443</td>\n",
       "    </tr>\n",
       "    <tr>\n",
       "      <th>dataset 2</th>\n",
       "      <td>1.895719</td>\n",
       "      <td>73116.0</td>\n",
       "      <td>38569.0</td>\n",
       "      <td>2.0</td>\n",
       "      <td>5358.0</td>\n",
       "      <td>16.0</td>\n",
       "      <td>50527.0</td>\n",
       "      <td>0.000373</td>\n",
       "      <td>0.111111</td>\n",
       "      <td>0.095880</td>\n",
       "      <td>1.158852</td>\n",
       "      <td>0.085508</td>\n",
       "    </tr>\n",
       "    <tr>\n",
       "      <th>dataset 3</th>\n",
       "      <td>1.895719</td>\n",
       "      <td>73116.0</td>\n",
       "      <td>38569.0</td>\n",
       "      <td>0.0</td>\n",
       "      <td>133.0</td>\n",
       "      <td>18.0</td>\n",
       "      <td>55752.0</td>\n",
       "      <td>0.000000</td>\n",
       "      <td>0.000000</td>\n",
       "      <td>0.002379</td>\n",
       "      <td>0.000000</td>\n",
       "      <td>0.000000</td>\n",
       "    </tr>\n",
       "    <tr>\n",
       "      <th>dataset 4</th>\n",
       "      <td>2.000000</td>\n",
       "      <td>73116.0</td>\n",
       "      <td>36558.0</td>\n",
       "      <td>2.0</td>\n",
       "      <td>5404.0</td>\n",
       "      <td>16.0</td>\n",
       "      <td>50481.0</td>\n",
       "      <td>0.000370</td>\n",
       "      <td>0.111111</td>\n",
       "      <td>0.096703</td>\n",
       "      <td>1.148991</td>\n",
       "      <td>0.085000</td>\n",
       "    </tr>\n",
       "    <tr>\n",
       "      <th>dataset 5</th>\n",
       "      <td>1.666667</td>\n",
       "      <td>20110.0</td>\n",
       "      <td>12066.0</td>\n",
       "      <td>7.0</td>\n",
       "      <td>22771.0</td>\n",
       "      <td>11.0</td>\n",
       "      <td>33114.0</td>\n",
       "      <td>0.000307</td>\n",
       "      <td>0.388889</td>\n",
       "      <td>0.407456</td>\n",
       "      <td>0.954432</td>\n",
       "      <td>0.000000</td>\n",
       "    </tr>\n",
       "    <tr>\n",
       "      <th>dataset 6</th>\n",
       "      <td>1.666667</td>\n",
       "      <td>20110.0</td>\n",
       "      <td>12066.0</td>\n",
       "      <td>7.0</td>\n",
       "      <td>22678.0</td>\n",
       "      <td>11.0</td>\n",
       "      <td>33207.0</td>\n",
       "      <td>0.000309</td>\n",
       "      <td>0.388889</td>\n",
       "      <td>0.405792</td>\n",
       "      <td>0.958345</td>\n",
       "      <td>0.000000</td>\n",
       "    </tr>\n",
       "    <tr>\n",
       "      <th>dataset 7</th>\n",
       "      <td>1.666667</td>\n",
       "      <td>20110.0</td>\n",
       "      <td>12066.0</td>\n",
       "      <td>5.0</td>\n",
       "      <td>15816.0</td>\n",
       "      <td>13.0</td>\n",
       "      <td>40069.0</td>\n",
       "      <td>0.000316</td>\n",
       "      <td>0.277778</td>\n",
       "      <td>0.283008</td>\n",
       "      <td>0.981519</td>\n",
       "      <td>0.000000</td>\n",
       "    </tr>\n",
       "    <tr>\n",
       "      <th>dataset 8</th>\n",
       "      <td>2.000000</td>\n",
       "      <td>20110.0</td>\n",
       "      <td>10055.0</td>\n",
       "      <td>7.0</td>\n",
       "      <td>19029.0</td>\n",
       "      <td>11.0</td>\n",
       "      <td>36856.0</td>\n",
       "      <td>0.000368</td>\n",
       "      <td>0.388889</td>\n",
       "      <td>0.340518</td>\n",
       "      <td>1.142050</td>\n",
       "      <td>0.296241</td>\n",
       "    </tr>\n",
       "  </tbody>\n",
       "</table>\n",
       "</div>"
      ],
      "text/plain": [
       "           Balance Ratio  Train_OK  Train_NG   TP       FP    FN       TN  \\\n",
       "dataset 0      18.179015   73116.0    4022.0  2.0   4199.0  16.0  51686.0   \n",
       "dataset 1       1.895719   73116.0   38569.0  2.0   5275.0  16.0  50610.0   \n",
       "dataset 2       1.895719   73116.0   38569.0  2.0   5358.0  16.0  50527.0   \n",
       "dataset 3       1.895719   73116.0   38569.0  0.0    133.0  18.0  55752.0   \n",
       "dataset 4       2.000000   73116.0   36558.0  2.0   5404.0  16.0  50481.0   \n",
       "dataset 5       1.666667   20110.0   12066.0  7.0  22771.0  11.0  33114.0   \n",
       "dataset 6       1.666667   20110.0   12066.0  7.0  22678.0  11.0  33207.0   \n",
       "dataset 7       1.666667   20110.0   12066.0  5.0  15816.0  13.0  40069.0   \n",
       "dataset 8       2.000000   20110.0   10055.0  7.0  19029.0  11.0  36856.0   \n",
       "\n",
       "           Precision    Recall  Aging Rate  Efficiency     Score  \n",
       "dataset 0   0.000476  0.111111    0.075148    1.478563  0.100853  \n",
       "dataset 1   0.000379  0.111111    0.094396    1.177079  0.086443  \n",
       "dataset 2   0.000373  0.111111    0.095880    1.158852  0.085508  \n",
       "dataset 3   0.000000  0.000000    0.002379    0.000000  0.000000  \n",
       "dataset 4   0.000370  0.111111    0.096703    1.148991  0.085000  \n",
       "dataset 5   0.000307  0.388889    0.407456    0.954432  0.000000  \n",
       "dataset 6   0.000309  0.388889    0.405792    0.958345  0.000000  \n",
       "dataset 7   0.000316  0.277778    0.283008    0.981519  0.000000  \n",
       "dataset 8   0.000368  0.388889    0.340518    1.142050  0.296241  "
      ]
     },
     "execution_count": 19,
     "metadata": {},
     "output_type": "execute_result"
    }
   ],
   "source": [
    "table_set"
   ]
  }
 ],
 "metadata": {
  "hide_input": false,
  "kernelspec": {
   "display_name": "Python [conda env:aging]",
   "language": "python",
   "name": "conda-env-aging-py"
  },
  "language_info": {
   "codemirror_mode": {
    "name": "ipython",
    "version": 3
   },
   "file_extension": ".py",
   "mimetype": "text/x-python",
   "name": "python",
   "nbconvert_exporter": "python",
   "pygments_lexer": "ipython3",
   "version": "3.7.10"
  },
  "toc": {
   "base_numbering": 1,
   "nav_menu": {},
   "number_sections": true,
   "sideBar": true,
   "skip_h1_title": false,
   "title_cell": "Table of Contents",
   "title_sidebar": "Contents",
   "toc_cell": false,
   "toc_position": {},
   "toc_section_display": true,
   "toc_window_display": false
  },
  "varInspector": {
   "cols": {
    "lenName": 16,
    "lenType": 16,
    "lenVar": 40
   },
   "kernels_config": {
    "python": {
     "delete_cmd_postfix": "",
     "delete_cmd_prefix": "del ",
     "library": "var_list.py",
     "varRefreshCmd": "print(var_dic_list())"
    },
    "r": {
     "delete_cmd_postfix": ") ",
     "delete_cmd_prefix": "rm(",
     "library": "var_list.r",
     "varRefreshCmd": "cat(var_dic_list()) "
    }
   },
   "types_to_exclude": [
    "module",
    "function",
    "builtin_function_or_method",
    "instance",
    "_Feature"
   ],
   "window_display": false
  }
 },
 "nbformat": 4,
 "nbformat_minor": 2
}
