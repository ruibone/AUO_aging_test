{
 "cells": [
  {
   "cell_type": "code",
   "execution_count": 1,
   "metadata": {
    "ExecuteTime": {
     "end_time": "2021-09-14T03:00:36.240907Z",
     "start_time": "2021-09-14T03:00:35.258222Z"
    }
   },
   "outputs": [
    {
     "data": {
      "text/plain": [
       "'C:\\\\Users\\\\user\\\\Desktop\\\\Darui_R08621110'"
      ]
     },
     "execution_count": 1,
     "metadata": {},
     "output_type": "execute_result"
    }
   ],
   "source": [
    "import os\n",
    "import time\n",
    "import math\n",
    "import random\n",
    "import numpy as np\n",
    "import pandas as pd\n",
    "import itertools\n",
    "from tqdm.auto import tqdm\n",
    "import matplotlib.pyplot as plt\n",
    "\n",
    "import smote_variants as sv\n",
    "#from imblearn import FunctionSampler\n",
    "from imblearn.under_sampling import RandomUnderSampler, TomekLinks, InstanceHardnessThreshold, NearMiss\n",
    "from imblearn.over_sampling import ADASYN, SMOTEN\n",
    "\n",
    "from Dataset_Construction import Balance_Ratio\n",
    "from Training_Data_Processing import Corner, Kind\n",
    "\n",
    "os.chdir('C:/Users/user/Desktop/Darui_R08621110')\n",
    "os.getcwd()"
   ]
  },
  {
   "cell_type": "code",
   "execution_count": 2,
   "metadata": {
    "ExecuteTime": {
     "end_time": "2021-09-14T03:00:37.335193Z",
     "start_time": "2021-09-14T03:00:37.326217Z"
    }
   },
   "outputs": [],
   "source": [
    "def label_divide(train, test, label = 'GB', train_only = False):\n",
    "    \n",
    "    train_x = train.drop(columns = label)\n",
    "    train_y = train[label]\n",
    "    \n",
    "    if not train_only:\n",
    "        test_x = test.drop(columns = label)\n",
    "        test_y = test[label]    \n",
    "        return train_x, train_y, test_x, test_y\n",
    "    else:\n",
    "        return train_x, train_y"
   ]
  },
  {
   "cell_type": "markdown",
   "metadata": {},
   "source": [
    "### Self-defined Oversampling"
   ]
  },
  {
   "cell_type": "code",
   "execution_count": 3,
   "metadata": {
    "ExecuteTime": {
     "end_time": "2021-09-14T03:00:38.851427Z",
     "start_time": "2021-09-14T03:00:38.831448Z"
    }
   },
   "outputs": [],
   "source": [
    "'''DEF 1'''\n",
    "## Input : X+Y(146 cols)\n",
    "## 計算距離 data1 及 data2 的距離\n",
    "## Output : 資料點之間的距離\n",
    "def Distance(data1, data2):\n",
    "    \n",
    "    data1 = data1.iloc[:,:-1].values\n",
    "    data2 = data2.iloc[:,:-1].values\n",
    "\n",
    "    df=pd.DataFrame()\n",
    "    for i in tqdm(range(len(data1))):\n",
    "        \n",
    "        hamming_set=[]\n",
    "        for j in range(len(data2)):\n",
    "            \n",
    "            hamming = abs(data1[i] - data2[j]).sum()\n",
    "            hamming_set=np.append(hamming_set,hamming)\n",
    "            \n",
    "        hamming_set=pd.DataFrame(hamming_set).T\n",
    "        df=pd.concat([df,hamming_set])\n",
    "        \n",
    "    dis_df = df.reset_index().iloc[:,1:]\n",
    "    \n",
    "    return dis_df\n",
    "\n",
    "\n",
    "'''DEF 2'''\n",
    "## 給定 df 和 value 找出其 row 和 col\n",
    "def getIndexes(dfObj, value):\n",
    "    ''' Get index positions of value in dataframe i.e. dfObj.'''\n",
    "    listOfPos = list()\n",
    "    # Get bool dataframe with True at positions where the given value exists\n",
    "    result = dfObj.isin([value])\n",
    "    # Get list of columns that contains the value\n",
    "    seriesObj = result.any()\n",
    "    columnNames = list(seriesObj[seriesObj == True].index)\n",
    "    # Iterate over list of columns and fetch the rows indexes where value exists\n",
    "    for col in columnNames:\n",
    "        rows = list(result[col][result[col] == True].index)\n",
    "        for row in rows:\n",
    "            listOfPos.append((row, col))\n",
    "    # Return a list of tuples indicating the positions of value in the dataframe\n",
    "    \n",
    "    return listOfPos\n",
    "\n",
    "\n",
    "'''DEF 3'''\n",
    "## Input : X+Y(level)\n",
    "#給定一個 資料集 和 值 後, 找出相對應的位置\n",
    "def ID_Given_Distance_2(data1, data2, d):\n",
    "    \n",
    "    D_Matrix = Distance(data1, data2)\n",
    "    ##數量不同 無法使用上三角\n",
    "    D_Matrix = D_Matrix.where(np.triu(np.ones(D_Matrix.shape)).astype(np.bool))\n",
    "    combine = getIndexes(D_Matrix, d)\n",
    "    \n",
    "    return combine\n",
    "\n",
    "\n",
    "'''DEF 4'''\n",
    "# 2個以上不同 的排列組合\n",
    "def perm(cols):\n",
    "    \n",
    "    from itertools import permutations\n",
    "    s=set()\n",
    "    num=cols-1 \n",
    "\n",
    "    random_list = []\n",
    "    for i in range(3) :\n",
    "        TF_list_1 = [True]*(cols-1-i) + [False]*(i+1)\n",
    "        TF_list_2 = [False]*(cols-1-i) + [True]*(i+1)\n",
    "        shuffle_time = [1, 3, 6]\n",
    "        \n",
    "        for j in range(shuffle_time[i]) :\n",
    "            temp1 = TF_list_1.copy()\n",
    "            temp2 = TF_list_2.copy()\n",
    "            random.shuffle(temp1)\n",
    "            random.shuffle(temp2)\n",
    "            random_list.append(temp1)\n",
    "            random_list.append(temp2)\n",
    "            \n",
    "    return(random_list)\n",
    "    \n",
    "\n",
    "'''DEF 7'''\n",
    "#找到各組間隔為 rank 的座標\n",
    "def cumu_conbine(data, rank, level = 'GB'):\n",
    "    \n",
    "    data1=data[data[level]==1]\n",
    "    data2=data[data[level]==0]\n",
    "    combine=[]\n",
    "    \n",
    "    for i in range(rank):\n",
    "        combine=combine+ID_Given_Distance_2(data1,data2,i+1)\n",
    "        \n",
    "    return combine\n",
    "\n",
    "\n",
    "'''Main Function 1'''\n",
    "def Border(data, Near_Minor = 3, Major_Ratio_max = 0.5, n_major_corner = 20, level = 'GB'):\n",
    "    \n",
    "    data1=data[data[level]==1]\n",
    "    data2=data[data[level]==0]\n",
    "    d=data.iloc[:,:-1].copy()\n",
    "    training_df=pd.DataFrame()\n",
    "    \n",
    "    for a in tqdm(range(2,Near_Minor+1)):\n",
    "\n",
    "        combine=ID_Given_Distance_2(data1, data1, a)\n",
    "        smote_df=pd.DataFrame()\n",
    "        if len(combine)!=0:\n",
    "\n",
    "            for b in tqdm(range(len(combine))):\n",
    "\n",
    "                ##選定一組數字,一個當中心點\n",
    "                a_pair=combine[b]\n",
    "                point_0=a_pair[0]\n",
    "                point_1=a_pair[1]\n",
    "\n",
    "                # d_smote 的初始值和中心點一樣\n",
    "                d_smote=d.loc[point_0].copy()\n",
    "\n",
    "                # 找出有差異處的 cols\n",
    "                d_X=d.loc[point_0]-d.loc[point_1]\n",
    "                cols=d_X[d_X!=0].index\n",
    "\n",
    "                ## L為距離 2 的點之間的排列組合\n",
    "                L=perm(len(cols))\n",
    "\n",
    "                '''創造DATA_SMOTE(給定中心點:d_smote 和 L)'''\n",
    "                s_df=pd.DataFrame()\n",
    "\n",
    "                for i in tqdm(range(len(L))):\n",
    "\n",
    "                    cb=L[i]\n",
    "                    s=pd.DataFrame([d_smote]).copy()\n",
    "\n",
    "                    for j in range(len(cb)):\n",
    "                        if cb[j]==True:\n",
    "                            s[cols[j]]=1-d_smote[cols[j]]\n",
    "                        elif cb[j]==False:\n",
    "                            s[cols[j]]=d_smote[cols[j]]\n",
    "                    s_df=pd.concat([s_df,s])\n",
    "                s_df=s_df.reset_index(drop=True)\n",
    "\n",
    "                smote_df = pd.concat([smote_df, s_df]) #new added\n",
    "                smote_df['GB'] = 1 #new_added\n",
    "\n",
    "        smote_df=smote_df.drop_duplicates().reset_index(drop=True)\n",
    "        training_df=pd.concat([training_df,smote_df])\n",
    "\n",
    "    training_df=training_df.drop_duplicates().reset_index(drop=True)\n",
    "    \n",
    "    return training_df"
   ]
  },
  {
   "cell_type": "markdown",
   "metadata": {},
   "source": [
    "### Oversampling "
   ]
  },
  {
   "cell_type": "code",
   "execution_count": 4,
   "metadata": {
    "ExecuteTime": {
     "end_time": "2021-09-14T03:00:40.179680Z",
     "start_time": "2021-09-14T03:00:40.151920Z"
    }
   },
   "outputs": [],
   "source": [
    "def before_over(dataset, label = 'GB'):\n",
    "    \n",
    "    colnames = dataset.columns\n",
    "    Y = dataset[label]\n",
    "    Y = Y.reset_index(drop = True)\n",
    "    Y = np.array(Y)\n",
    "    X = dataset.drop(columns = [label])\n",
    "    X = X.reset_index(drop = True)\n",
    "    X = X.to_numpy()\n",
    "    \n",
    "    return X, Y, colnames\n",
    "\n",
    "\n",
    "def after_over(X, Y, colnames, back_to_category = False):\n",
    "    \n",
    "    colnames = colnames[:X.shape[1]]\n",
    "    X = pd.DataFrame(X, columns = colnames)\n",
    "    \n",
    "    if back_to_category:\n",
    "        for j in tqdm(range(X.shape[1])):\n",
    "            colvalue = X.iloc[:, j]\n",
    "            upper = np.array(colvalue[colvalue < 1])\n",
    "            lower = np.array(upper[upper > 0])\n",
    "            colmean = np.mean(lower)\n",
    "            \n",
    "            mask = colvalue >= colmean\n",
    "            X.iloc[mask, j] = 1\n",
    "            X.iloc[~mask, j] = 0\n",
    "    \n",
    "    Y = pd.Series(Y)\n",
    "    \n",
    "    return X, Y\n",
    "\n",
    "\n",
    "def over_sample(X, Y, method, ratio, n_neighbors = 5, *args):\n",
    "    \n",
    "    method_list = ['NoSMOTE', 'SMOTE', 'MSMOTE', 'ROSE', 'SMOTEN', 'ADASYN']\n",
    "    if method not in method_list:\n",
    "        raise Exception('Invalid method !')\n",
    "    \n",
    "    if method == method_list[0]:\n",
    "        over_sampler = sv.NoSMOTE()\n",
    "    elif method == method_list[1]:\n",
    "        over_sampler = sv.SMOTE(ratio, n_neighbors)\n",
    "    elif method == method_list[2]:\n",
    "        over_sampler = sv.MSMOTE(ratio, n_neighbors)\n",
    "    elif method == method_list[3]:\n",
    "        over_sampler = sv.ROSE(ratio)   \n",
    "    elif method == method_list[4]:\n",
    "        over_sampler = SMOTEN(sampling_strategy = ratio, k_neighbors = n_neighbors)\n",
    "    elif method == method_list[5]:\n",
    "        over_sampler = ADASYN(sampling_strategy = ratio, n_neighbors = n_neighbors)    \n",
    "    \n",
    "    if method in method_list[0:4]:\n",
    "        over_X, over_Y = over_sampler.sample(X, Y)\n",
    "    else:\n",
    "        over_X, over_Y = over_sampler.fit_resample(X, Y)\n",
    "    \n",
    "#     if method == 'ROSE':\n",
    "#         for i in range(over_X.shape[0]):\n",
    "#             for j in range(over_X.shape[1]):\n",
    "#                 if over_X[i, j] > 1:\n",
    "#                     over_X[i, j] = 1\n",
    "#                 elif over_X[i, j] < -1:\n",
    "#                     over_X[i, j] = -1\n",
    "    \n",
    "    return over_X, over_Y"
   ]
  },
  {
   "cell_type": "markdown",
   "metadata": {},
   "source": [
    "### Undersampling"
   ]
  },
  {
   "cell_type": "code",
   "execution_count": 5,
   "metadata": {
    "ExecuteTime": {
     "end_time": "2021-09-14T03:00:41.292042Z",
     "start_time": "2021-09-14T03:00:41.270197Z"
    }
   },
   "outputs": [],
   "source": [
    "def before_under(dataset, label = 'GB'):\n",
    "    \n",
    "    Y = dataset[label]\n",
    "    X = dataset.drop(columns = [label])\n",
    "    \n",
    "    return X, Y\n",
    "\n",
    "\n",
    "def under_sample(X, Y, method, ratio, *args):\n",
    "    \n",
    "    method_list = [None, 'random', 'Tomek', 'IHT', 'NM', 'one-sided', 'r-one-sided']\n",
    "    if method not in method_list:\n",
    "        raise Exception('Invalid method !')\n",
    "    \n",
    "    if method == method_list[0]:\n",
    "        return X, Y\n",
    "        \n",
    "    elif method == method_list[1]:\n",
    "        under_sampler = RandomUnderSampler(sampling_strategy = ratio)    \n",
    "    elif method == method_list[2]:\n",
    "        under_sampler = TomekLinks(sampling_strategy = 'majority')\n",
    "    elif method == method_list[3]:\n",
    "        under_sampler = InstanceHardnessThreshold(sampling_strategy = ratio, cv = 5, n_jobs = -1)\n",
    "    elif method in (method_list[4] + method_list[5]):\n",
    "        under_sampler = NearMiss(sampling_strategy = ratio, version = 2, n_jobs = -1)\n",
    "    elif method == method_list[6]:\n",
    "        under_sampler = InstanceHardnessThreshold(sampling_strategy = 1, cv = 5, n_jobs = -1)\n",
    "    \n",
    "    under_X, under_Y = under_sampler.fit_resample(X, Y)\n",
    "    \n",
    "    if method == method_list[5]:\n",
    "        second_sampler = InstanceHardnessThreshold(sampling_strategy = 1, cv = 5, n_jobs = -1)\n",
    "        under_X, under_Y = second_sampler.fit_resample(under_X, under_Y)\n",
    "    elif method == method_list[6]:\n",
    "        second_sampler = NearMiss(sampling_strategy = ratio, version = 2, n_jobs = -1)\n",
    "        under_X, under_Y = second_sampler.fit_resample(under_X, under_Y)\n",
    "    \n",
    "    return under_X, under_Y"
   ]
  },
  {
   "cell_type": "markdown",
   "metadata": {},
   "source": [
    "### Generate multiple dataset file"
   ]
  },
  {
   "cell_type": "code",
   "execution_count": 6,
   "metadata": {
    "ExecuteTime": {
     "end_time": "2021-09-14T03:00:42.397249Z",
     "start_time": "2021-09-14T03:00:42.388273Z"
    }
   },
   "outputs": [],
   "source": [
    "def under_over(dataset, over_method, under_method, over_ratio, under_ratio, label = 'GB'):\n",
    "    \n",
    "    #undersampling\n",
    "    if under_method != None:\n",
    "        X, Y = before_under(dataset, label)\n",
    "        Y = Y.astype(int)\n",
    "        print('Size before Undersampling:', len(Y))\n",
    "        under_X, under_Y = under_sample(X, Y, under_method, under_ratio)\n",
    "        dataset = pd.concat([under_X, under_Y], axis = 1)\n",
    "        print('Size after Undersampling:', len(under_Y))\n",
    "    \n",
    "    #oversampling\n",
    "    temp_X, temp_Y, colnames = before_over(dataset, label)\n",
    "    print('Size before Oversampling:', len(temp_Y))\n",
    "    over_X, over_Y = over_sample(temp_X, temp_Y, over_method, over_ratio)\n",
    "    X, Y = after_over(over_X, over_Y, colnames)\n",
    "    print('Size after Oversampling:', len(Y))\n",
    "        \n",
    "    return X, Y\n",
    "\n",
    "\n",
    "def over_under(dataset, over_method, under_method, over_ratio, under_ratio, label = 'GB') :\n",
    "    \n",
    "    #oversampling\n",
    "    if over_method != None :\n",
    "        X, Y, colnames = before_over(dataset, label)\n",
    "        print('Size before Oversampling:', len(Y))\n",
    "        temp_X, temp_Y = over_sample(X, Y, over_method, over_ratio)\n",
    "        over_X, over_Y = after_over(temp_X, temp_Y, colnames)\n",
    "        print('Size after Oversampling:', len(over_Y))\n",
    "        over_dataset = pd.concat([over_X, over_Y], axis = 1)\n",
    "        dataset = over_dataset.rename(columns = {0 : label})\n",
    "\n",
    "    #undersampling\n",
    "    X, Y = before_under(dataset, label)\n",
    "    Y = Y.astype(int)\n",
    "    under_X, under_Y = under_sample(X, Y, under_method, under_ratio)\n",
    "    print('Size after Undersampling:', len(under_Y))\n",
    "    \n",
    "    return under_X, under_Y\n",
    "    \n",
    "    \n",
    "def generate_set(train_data, over_method, under_method, index, over_ratio, under_ratio, order, label = 'GB'):\n",
    "    \n",
    "    print('\\n', f'Generating Dataset {index}')\n",
    "    \n",
    "    if order == 'under' :\n",
    "        train_x, train_y = under_over(train_data, over_method, under_method, over_ratio, under_ratio, label)\n",
    "    elif order == 'over' :\n",
    "        train_x, train_y = over_under(train_data, over_method, under_method, over_ratio, under_ratio, label)\n",
    "        \n",
    "    train = pd.concat([train_x, train_y], axis = 1)\n",
    "    train = train.rename(columns = {0: label})\n",
    "    train.to_csv(f'dataset_{index}.csv')\n",
    "    \n",
    "    return train"
   ]
  },
  {
   "cell_type": "markdown",
   "metadata": {},
   "source": [
    "## Data processing\n"
   ]
  },
  {
   "cell_type": "markdown",
   "metadata": {
    "heading_collapsed": true
   },
   "source": [
    "### Event data"
   ]
  },
  {
   "cell_type": "code",
   "execution_count": null,
   "metadata": {
    "ExecuteTime": {
     "end_time": "2021-08-02T17:11:36.316998Z",
     "start_time": "2021-08-02T17:11:35.935132Z"
    },
    "hidden": true
   },
   "outputs": [],
   "source": [
    "panel = pd.read_csv('original_data/TrainingSet_new.csv', index_col = 'id').iloc[:, 1:]\n",
    "kinds = pd.read_csv('original_data/Kinds.csv').iloc[:, 2:]\n",
    "print('Dimension of Data:', panel.shape, '\\nBalance Ratio:', Balance_Ratio(panel))\n",
    "print('Kinds:', kinds.shape)\n",
    "\n",
    "#sub_panel = kinds[kinds.GB_count <= 2].iloc[:, :-3]"
   ]
  },
  {
   "cell_type": "code",
   "execution_count": null,
   "metadata": {
    "hidden": true
   },
   "outputs": [],
   "source": [
    "###for single dataset###\n",
    "train_x, train_y = over_under(panel, 'NoSMOTE', None)\n",
    "train = pd.concat([train_x, train_y], axis = 1)\n",
    "train = train.rename(columns = {0: 'GB'})\n",
    "train.to_csv('Train_sample.csv')\n",
    "\n",
    "print('Dimension:', '\\ntrain x:', train_x.shape, '\\ntrain y:', train_y.shape, '\\nBalance Ratio:', Balance_Ratio(train))"
   ]
  },
  {
   "cell_type": "code",
   "execution_count": null,
   "metadata": {
    "hidden": true,
    "scrolled": true
   },
   "outputs": [],
   "source": [
    "###for multiole datasets###\n",
    "dataset_0 = generate_set(panel, 'NoSMOTE', None, 0)\n",
    "\n",
    "dataset_1 = generate_set(panel, 'ADASYN', None, 1)\n",
    "dataset_2 = generate_set(panel, 'MSMOTE', None, 2)\n",
    "dataset_3 = generate_set(panel, 'ROSE', None, 3)\n",
    "dataset_4 = generate_set(panel, 'SMOTEN', None, 4)\n",
    "\n",
    "dataset_5 = generate_set(panel, 'ADASYN', 'NM', 5)\n",
    "dataset_6 = generate_set(panel, 'MSMOTE', 'NM', 6)\n",
    "dataset_7 = generate_set(panel, 'ROSE', 'NM', 7)\n",
    "dataset_8 = generate_set(panel, 'SMOTEN', 'NM', 8)"
   ]
  },
  {
   "cell_type": "markdown",
   "metadata": {},
   "source": [
    "### Runhist data"
   ]
  },
  {
   "cell_type": "code",
   "execution_count": 7,
   "metadata": {
    "ExecuteTime": {
     "end_time": "2021-09-14T03:00:45.319093Z",
     "start_time": "2021-09-14T03:00:44.511606Z"
    }
   },
   "outputs": [
    {
     "name": "stdout",
     "output_type": "stream",
     "text": [
      "Dimension of Data: (80518, 141) \n",
      "Balance Ratio: 1101.9863\n",
      "Kinds: (63061, 141)\n"
     ]
    }
   ],
   "source": [
    "runhist = pd.read_csv('train_runhist_new.csv', index_col = 'id').iloc[:, 1:]\n",
    "run_kind = pd.read_csv('run_kind.csv').iloc[:, 2:-3]\n",
    "# run_dic = pd.read_csv('run_dictionary.csv').iloc[:, 1:]\n",
    "\n",
    "print('Dimension of Data:', runhist.shape, '\\nBalance Ratio:', Balance_Ratio(runhist))\n",
    "print('Kinds:', run_kind.shape)"
   ]
  },
  {
   "cell_type": "code",
   "execution_count": null,
   "metadata": {
    "ExecuteTime": {
     "end_time": "2021-08-04T08:43:08.144757Z",
     "start_time": "2021-08-04T08:43:07.694490Z"
    }
   },
   "outputs": [],
   "source": [
    "# ##### distance evaluated by hamming distance ##### (very slow)\n",
    "g_runkind = run_kind[run_kind.GB == 0].iloc[:, :-1]\n",
    "b_runkind = run_kind[run_kind.GB == 1].iloc[:, :-1]\n",
    "dis_goodbad = Distance(g_runkind, b_runkind)\n",
    "dis_bad = Distance(b_runkind, b_runkind)\n",
    "all_goodbad = dis_goodbad.values.flatten()\n",
    "all_bad = dis_bad.values.flatten()\n",
    "\n",
    "fig, axs = plt.subplots(1, 2, figsize = (12, 4))\n",
    "axs[0].hist(all_goodbad, bins = 40, color = 'red')\n",
    "axs[0].set_title('Distance between Good & Bad Instances')\n",
    "axs[0].set_xlabel('Hamming Distance')\n",
    "axs[0].set_ylabel('Counts')\n",
    "axs[1].hist(all_bad, bins = 40, color = 'blue')\n",
    "axs[1].set_title('Distance between Bad Instances')\n",
    "axs[1].set_xlabel('Hamming Distance')\n",
    "axs[1].set_ylabel('Counts')"
   ]
  },
  {
   "cell_type": "markdown",
   "metadata": {},
   "source": [
    "#### oversampling by self-defined method"
   ]
  },
  {
   "cell_type": "code",
   "execution_count": 10,
   "metadata": {
    "ExecuteTime": {
     "end_time": "2021-09-14T07:02:01.381464Z",
     "start_time": "2021-09-14T07:01:41.572684Z"
    }
   },
   "outputs": [
    {
     "data": {
      "application/vnd.jupyter.widget-view+json": {
       "model_id": "c145a8fd94da44d7b2a1e6fef524587a",
       "version_major": 2,
       "version_minor": 0
      },
      "text/plain": [
       "  0%|          | 0/14 [00:00<?, ?it/s]"
      ]
     },
     "metadata": {},
     "output_type": "display_data"
    },
    {
     "data": {
      "application/vnd.jupyter.widget-view+json": {
       "model_id": "07bd8a4dded84188b2099931d76a76e0",
       "version_major": 2,
       "version_minor": 0
      },
      "text/plain": [
       "  0%|          | 0/49 [00:00<?, ?it/s]"
      ]
     },
     "metadata": {},
     "output_type": "display_data"
    },
    {
     "name": "stderr",
     "output_type": "stream",
     "text": [
      "<ipython-input-3-892ca573241a>:54: DeprecationWarning: `np.bool` is a deprecated alias for the builtin `bool`. To silence this warning, use `bool` by itself. Doing this will not modify any behavior and is safe. If you specifically wanted the numpy scalar type, use `np.bool_` here.\n",
      "Deprecated in NumPy 1.20; for more details and guidance: https://numpy.org/devdocs/release/1.20.0-notes.html#deprecations\n",
      "  D_Matrix = D_Matrix.where(np.triu(np.ones(D_Matrix.shape)).astype(np.bool))\n"
     ]
    },
    {
     "data": {
      "application/vnd.jupyter.widget-view+json": {
       "model_id": "f9f9b74821634ae5ad9149ccf28e28a8",
       "version_major": 2,
       "version_minor": 0
      },
      "text/plain": [
       "  0%|          | 0/49 [00:00<?, ?it/s]"
      ]
     },
     "metadata": {},
     "output_type": "display_data"
    },
    {
     "data": {
      "application/vnd.jupyter.widget-view+json": {
       "model_id": "c11d001ee4dc444299791a7db3548ee8",
       "version_major": 2,
       "version_minor": 0
      },
      "text/plain": [
       "  0%|          | 0/49 [00:00<?, ?it/s]"
      ]
     },
     "metadata": {},
     "output_type": "display_data"
    },
    {
     "data": {
      "application/vnd.jupyter.widget-view+json": {
       "model_id": "5e1e3f3790284b8896ce1660b96dea4a",
       "version_major": 2,
       "version_minor": 0
      },
      "text/plain": [
       "  0%|          | 0/49 [00:00<?, ?it/s]"
      ]
     },
     "metadata": {},
     "output_type": "display_data"
    },
    {
     "data": {
      "application/vnd.jupyter.widget-view+json": {
       "model_id": "797cc13ba75f4d7285f122b6040fe0de",
       "version_major": 2,
       "version_minor": 0
      },
      "text/plain": [
       "  0%|          | 0/49 [00:00<?, ?it/s]"
      ]
     },
     "metadata": {},
     "output_type": "display_data"
    },
    {
     "data": {
      "application/vnd.jupyter.widget-view+json": {
       "model_id": "8bf1ee9837c340de9d8242c52cdd0b3f",
       "version_major": 2,
       "version_minor": 0
      },
      "text/plain": [
       "  0%|          | 0/49 [00:00<?, ?it/s]"
      ]
     },
     "metadata": {},
     "output_type": "display_data"
    },
    {
     "data": {
      "application/vnd.jupyter.widget-view+json": {
       "model_id": "89ac804b33a34737948e28dca1fcd217",
       "version_major": 2,
       "version_minor": 0
      },
      "text/plain": [
       "  0%|          | 0/49 [00:00<?, ?it/s]"
      ]
     },
     "metadata": {},
     "output_type": "display_data"
    },
    {
     "data": {
      "application/vnd.jupyter.widget-view+json": {
       "model_id": "24ef5b254e654cd29b9a386c7b062c2b",
       "version_major": 2,
       "version_minor": 0
      },
      "text/plain": [
       "  0%|          | 0/49 [00:00<?, ?it/s]"
      ]
     },
     "metadata": {},
     "output_type": "display_data"
    },
    {
     "data": {
      "application/vnd.jupyter.widget-view+json": {
       "model_id": "8f31d84a7fe64b07b139a52618dc653f",
       "version_major": 2,
       "version_minor": 0
      },
      "text/plain": [
       "  0%|          | 0/49 [00:00<?, ?it/s]"
      ]
     },
     "metadata": {},
     "output_type": "display_data"
    },
    {
     "data": {
      "application/vnd.jupyter.widget-view+json": {
       "model_id": "889827140cf2449baf482b2397dcf7e4",
       "version_major": 2,
       "version_minor": 0
      },
      "text/plain": [
       "  0%|          | 0/2 [00:00<?, ?it/s]"
      ]
     },
     "metadata": {},
     "output_type": "display_data"
    },
    {
     "data": {
      "application/vnd.jupyter.widget-view+json": {
       "model_id": "29fbcd6d141d49d18e9ca58a937fb624",
       "version_major": 2,
       "version_minor": 0
      },
      "text/plain": [
       "  0%|          | 0/20 [00:00<?, ?it/s]"
      ]
     },
     "metadata": {},
     "output_type": "display_data"
    },
    {
     "data": {
      "application/vnd.jupyter.widget-view+json": {
       "model_id": "da91c8e758f1401ebcb5a7d43ca6e7f1",
       "version_major": 2,
       "version_minor": 0
      },
      "text/plain": [
       "  0%|          | 0/20 [00:00<?, ?it/s]"
      ]
     },
     "metadata": {},
     "output_type": "display_data"
    },
    {
     "data": {
      "application/vnd.jupyter.widget-view+json": {
       "model_id": "cf9d605ccf744a7388f05a75a52784c4",
       "version_major": 2,
       "version_minor": 0
      },
      "text/plain": [
       "  0%|          | 0/49 [00:00<?, ?it/s]"
      ]
     },
     "metadata": {},
     "output_type": "display_data"
    },
    {
     "data": {
      "application/vnd.jupyter.widget-view+json": {
       "model_id": "14339e448ca848d9a62b6e9883178f0a",
       "version_major": 2,
       "version_minor": 0
      },
      "text/plain": [
       "  0%|          | 0/49 [00:00<?, ?it/s]"
      ]
     },
     "metadata": {},
     "output_type": "display_data"
    },
    {
     "data": {
      "application/vnd.jupyter.widget-view+json": {
       "model_id": "bcf5f107183642a5bc5b563a9fe78927",
       "version_major": 2,
       "version_minor": 0
      },
      "text/plain": [
       "  0%|          | 0/3 [00:00<?, ?it/s]"
      ]
     },
     "metadata": {},
     "output_type": "display_data"
    },
    {
     "data": {
      "application/vnd.jupyter.widget-view+json": {
       "model_id": "7823764ea8ff48c29e6778b1f57b58a4",
       "version_major": 2,
       "version_minor": 0
      },
      "text/plain": [
       "  0%|          | 0/20 [00:00<?, ?it/s]"
      ]
     },
     "metadata": {},
     "output_type": "display_data"
    },
    {
     "data": {
      "application/vnd.jupyter.widget-view+json": {
       "model_id": "83e410bc29884b71ab0479895a879615",
       "version_major": 2,
       "version_minor": 0
      },
      "text/plain": [
       "  0%|          | 0/20 [00:00<?, ?it/s]"
      ]
     },
     "metadata": {},
     "output_type": "display_data"
    },
    {
     "data": {
      "application/vnd.jupyter.widget-view+json": {
       "model_id": "8eafa38f0cb34a7d8c06f6186a92ce26",
       "version_major": 2,
       "version_minor": 0
      },
      "text/plain": [
       "  0%|          | 0/20 [00:00<?, ?it/s]"
      ]
     },
     "metadata": {},
     "output_type": "display_data"
    },
    {
     "data": {
      "application/vnd.jupyter.widget-view+json": {
       "model_id": "dd1ec808e6374a55833e11552765bfa2",
       "version_major": 2,
       "version_minor": 0
      },
      "text/plain": [
       "  0%|          | 0/49 [00:00<?, ?it/s]"
      ]
     },
     "metadata": {},
     "output_type": "display_data"
    },
    {
     "data": {
      "application/vnd.jupyter.widget-view+json": {
       "model_id": "f1985cb461614025a95a98178a27cbb7",
       "version_major": 2,
       "version_minor": 0
      },
      "text/plain": [
       "  0%|          | 0/3 [00:00<?, ?it/s]"
      ]
     },
     "metadata": {},
     "output_type": "display_data"
    },
    {
     "data": {
      "application/vnd.jupyter.widget-view+json": {
       "model_id": "23a3919bbbd347929fb2f93724554047",
       "version_major": 2,
       "version_minor": 0
      },
      "text/plain": [
       "  0%|          | 0/20 [00:00<?, ?it/s]"
      ]
     },
     "metadata": {},
     "output_type": "display_data"
    },
    {
     "data": {
      "application/vnd.jupyter.widget-view+json": {
       "model_id": "f71959eb72fa4751a14772b33abb0b03",
       "version_major": 2,
       "version_minor": 0
      },
      "text/plain": [
       "  0%|          | 0/20 [00:00<?, ?it/s]"
      ]
     },
     "metadata": {},
     "output_type": "display_data"
    },
    {
     "data": {
      "application/vnd.jupyter.widget-view+json": {
       "model_id": "49bf1d99e1af4c449f2e506157e5cd47",
       "version_major": 2,
       "version_minor": 0
      },
      "text/plain": [
       "  0%|          | 0/20 [00:00<?, ?it/s]"
      ]
     },
     "metadata": {},
     "output_type": "display_data"
    },
    {
     "data": {
      "application/vnd.jupyter.widget-view+json": {
       "model_id": "f2e57d34a56d4fe5bcce80e366773df1",
       "version_major": 2,
       "version_minor": 0
      },
      "text/plain": [
       "  0%|          | 0/49 [00:00<?, ?it/s]"
      ]
     },
     "metadata": {},
     "output_type": "display_data"
    },
    {
     "data": {
      "application/vnd.jupyter.widget-view+json": {
       "model_id": "8eda11a32278499dbc1b38648932f4f3",
       "version_major": 2,
       "version_minor": 0
      },
      "text/plain": [
       "  0%|          | 0/13 [00:00<?, ?it/s]"
      ]
     },
     "metadata": {},
     "output_type": "display_data"
    },
    {
     "data": {
      "application/vnd.jupyter.widget-view+json": {
       "model_id": "bed687fba9a54496853443a5a6528957",
       "version_major": 2,
       "version_minor": 0
      },
      "text/plain": [
       "  0%|          | 0/20 [00:00<?, ?it/s]"
      ]
     },
     "metadata": {},
     "output_type": "display_data"
    },
    {
     "data": {
      "application/vnd.jupyter.widget-view+json": {
       "model_id": "433702a58d0a4335a44888663678ad6b",
       "version_major": 2,
       "version_minor": 0
      },
      "text/plain": [
       "  0%|          | 0/20 [00:00<?, ?it/s]"
      ]
     },
     "metadata": {},
     "output_type": "display_data"
    },
    {
     "data": {
      "application/vnd.jupyter.widget-view+json": {
       "model_id": "bc73dfd553594bd2aedeb4a714433ce4",
       "version_major": 2,
       "version_minor": 0
      },
      "text/plain": [
       "  0%|          | 0/20 [00:00<?, ?it/s]"
      ]
     },
     "metadata": {},
     "output_type": "display_data"
    },
    {
     "data": {
      "application/vnd.jupyter.widget-view+json": {
       "model_id": "492c4799e83c43289374e28c520d684f",
       "version_major": 2,
       "version_minor": 0
      },
      "text/plain": [
       "  0%|          | 0/20 [00:00<?, ?it/s]"
      ]
     },
     "metadata": {},
     "output_type": "display_data"
    },
    {
     "data": {
      "application/vnd.jupyter.widget-view+json": {
       "model_id": "1005e228b1e2400f947188ee33159113",
       "version_major": 2,
       "version_minor": 0
      },
      "text/plain": [
       "  0%|          | 0/20 [00:00<?, ?it/s]"
      ]
     },
     "metadata": {},
     "output_type": "display_data"
    },
    {
     "data": {
      "application/vnd.jupyter.widget-view+json": {
       "model_id": "bf6c416ae6a4428e9caedb9c0885b433",
       "version_major": 2,
       "version_minor": 0
      },
      "text/plain": [
       "  0%|          | 0/20 [00:00<?, ?it/s]"
      ]
     },
     "metadata": {},
     "output_type": "display_data"
    },
    {
     "data": {
      "application/vnd.jupyter.widget-view+json": {
       "model_id": "a2377a56c3684d36892a29fbe6d29087",
       "version_major": 2,
       "version_minor": 0
      },
      "text/plain": [
       "  0%|          | 0/20 [00:00<?, ?it/s]"
      ]
     },
     "metadata": {},
     "output_type": "display_data"
    },
    {
     "data": {
      "application/vnd.jupyter.widget-view+json": {
       "model_id": "32a13eacf59842988723bbcf1e8c48c7",
       "version_major": 2,
       "version_minor": 0
      },
      "text/plain": [
       "  0%|          | 0/20 [00:00<?, ?it/s]"
      ]
     },
     "metadata": {},
     "output_type": "display_data"
    },
    {
     "data": {
      "application/vnd.jupyter.widget-view+json": {
       "model_id": "cb5635ffac2045338fdcb5a34360af16",
       "version_major": 2,
       "version_minor": 0
      },
      "text/plain": [
       "  0%|          | 0/20 [00:00<?, ?it/s]"
      ]
     },
     "metadata": {},
     "output_type": "display_data"
    },
    {
     "data": {
      "application/vnd.jupyter.widget-view+json": {
       "model_id": "89b1377459ee47bc8c2705b0fcbe9bf8",
       "version_major": 2,
       "version_minor": 0
      },
      "text/plain": [
       "  0%|          | 0/20 [00:00<?, ?it/s]"
      ]
     },
     "metadata": {},
     "output_type": "display_data"
    },
    {
     "data": {
      "application/vnd.jupyter.widget-view+json": {
       "model_id": "a74e32302be547e38fb580a951cd573b",
       "version_major": 2,
       "version_minor": 0
      },
      "text/plain": [
       "  0%|          | 0/20 [00:00<?, ?it/s]"
      ]
     },
     "metadata": {},
     "output_type": "display_data"
    },
    {
     "data": {
      "application/vnd.jupyter.widget-view+json": {
       "model_id": "d3babf709d174e0883e4d08311074388",
       "version_major": 2,
       "version_minor": 0
      },
      "text/plain": [
       "  0%|          | 0/20 [00:00<?, ?it/s]"
      ]
     },
     "metadata": {},
     "output_type": "display_data"
    },
    {
     "data": {
      "application/vnd.jupyter.widget-view+json": {
       "model_id": "16c56e915f3f42ae9cd460363dd9a08d",
       "version_major": 2,
       "version_minor": 0
      },
      "text/plain": [
       "  0%|          | 0/20 [00:00<?, ?it/s]"
      ]
     },
     "metadata": {},
     "output_type": "display_data"
    },
    {
     "data": {
      "application/vnd.jupyter.widget-view+json": {
       "model_id": "ea34e9a88a2747a5aafb5adba53c5c2c",
       "version_major": 2,
       "version_minor": 0
      },
      "text/plain": [
       "  0%|          | 0/49 [00:00<?, ?it/s]"
      ]
     },
     "metadata": {},
     "output_type": "display_data"
    },
    {
     "data": {
      "application/vnd.jupyter.widget-view+json": {
       "model_id": "7a852e170b7246bb827f1aa52b655ff4",
       "version_major": 2,
       "version_minor": 0
      },
      "text/plain": [
       "  0%|          | 0/13 [00:00<?, ?it/s]"
      ]
     },
     "metadata": {},
     "output_type": "display_data"
    },
    {
     "data": {
      "application/vnd.jupyter.widget-view+json": {
       "model_id": "6a5aa1c9524643d8a2deccc827c39675",
       "version_major": 2,
       "version_minor": 0
      },
      "text/plain": [
       "  0%|          | 0/20 [00:00<?, ?it/s]"
      ]
     },
     "metadata": {},
     "output_type": "display_data"
    },
    {
     "data": {
      "application/vnd.jupyter.widget-view+json": {
       "model_id": "d64f242fc0704fdc93292a1447801cc2",
       "version_major": 2,
       "version_minor": 0
      },
      "text/plain": [
       "  0%|          | 0/20 [00:00<?, ?it/s]"
      ]
     },
     "metadata": {},
     "output_type": "display_data"
    },
    {
     "data": {
      "application/vnd.jupyter.widget-view+json": {
       "model_id": "129193599ee84ad1842f8f4c2a9f9f64",
       "version_major": 2,
       "version_minor": 0
      },
      "text/plain": [
       "  0%|          | 0/20 [00:00<?, ?it/s]"
      ]
     },
     "metadata": {},
     "output_type": "display_data"
    },
    {
     "data": {
      "application/vnd.jupyter.widget-view+json": {
       "model_id": "770368cfdfdd4ab69d76eaae9b065b28",
       "version_major": 2,
       "version_minor": 0
      },
      "text/plain": [
       "  0%|          | 0/20 [00:00<?, ?it/s]"
      ]
     },
     "metadata": {},
     "output_type": "display_data"
    },
    {
     "data": {
      "application/vnd.jupyter.widget-view+json": {
       "model_id": "6e1e64c60fec407da5cad5d8d72a3eec",
       "version_major": 2,
       "version_minor": 0
      },
      "text/plain": [
       "  0%|          | 0/20 [00:00<?, ?it/s]"
      ]
     },
     "metadata": {},
     "output_type": "display_data"
    },
    {
     "data": {
      "application/vnd.jupyter.widget-view+json": {
       "model_id": "4789cdeec0c14fe0af42bd7c09260353",
       "version_major": 2,
       "version_minor": 0
      },
      "text/plain": [
       "  0%|          | 0/20 [00:00<?, ?it/s]"
      ]
     },
     "metadata": {},
     "output_type": "display_data"
    },
    {
     "data": {
      "application/vnd.jupyter.widget-view+json": {
       "model_id": "dcaf921bb190488d9bcf12113df17cef",
       "version_major": 2,
       "version_minor": 0
      },
      "text/plain": [
       "  0%|          | 0/20 [00:00<?, ?it/s]"
      ]
     },
     "metadata": {},
     "output_type": "display_data"
    },
    {
     "data": {
      "application/vnd.jupyter.widget-view+json": {
       "model_id": "59be7d9d47434c6bb1bbc789dfa5d9c3",
       "version_major": 2,
       "version_minor": 0
      },
      "text/plain": [
       "  0%|          | 0/20 [00:00<?, ?it/s]"
      ]
     },
     "metadata": {},
     "output_type": "display_data"
    },
    {
     "data": {
      "application/vnd.jupyter.widget-view+json": {
       "model_id": "b95853c9fa0d48eeb03beda34ad36d14",
       "version_major": 2,
       "version_minor": 0
      },
      "text/plain": [
       "  0%|          | 0/20 [00:00<?, ?it/s]"
      ]
     },
     "metadata": {},
     "output_type": "display_data"
    },
    {
     "data": {
      "application/vnd.jupyter.widget-view+json": {
       "model_id": "8c551dc1745e4565a1345ffce38142e4",
       "version_major": 2,
       "version_minor": 0
      },
      "text/plain": [
       "  0%|          | 0/20 [00:00<?, ?it/s]"
      ]
     },
     "metadata": {},
     "output_type": "display_data"
    },
    {
     "data": {
      "application/vnd.jupyter.widget-view+json": {
       "model_id": "e65c042174b74e76a7178d049cd975b0",
       "version_major": 2,
       "version_minor": 0
      },
      "text/plain": [
       "  0%|          | 0/20 [00:00<?, ?it/s]"
      ]
     },
     "metadata": {},
     "output_type": "display_data"
    },
    {
     "data": {
      "application/vnd.jupyter.widget-view+json": {
       "model_id": "7282bf1b54d14432a374664b1d48ebd4",
       "version_major": 2,
       "version_minor": 0
      },
      "text/plain": [
       "  0%|          | 0/20 [00:00<?, ?it/s]"
      ]
     },
     "metadata": {},
     "output_type": "display_data"
    },
    {
     "data": {
      "application/vnd.jupyter.widget-view+json": {
       "model_id": "8f94facb77924303a993b613c0adf32d",
       "version_major": 2,
       "version_minor": 0
      },
      "text/plain": [
       "  0%|          | 0/20 [00:00<?, ?it/s]"
      ]
     },
     "metadata": {},
     "output_type": "display_data"
    },
    {
     "name": "stdout",
     "output_type": "stream",
     "text": [
      "\n",
      " Generating Dataset 2\n",
      "Size after Undersampling: 1498\n",
      "Size of dataset2: (1498, 141) , Balance Ratio: 1.0\n",
      "\n",
      " Generating Dataset 6\n",
      "Size after Undersampling: 884\n"
     ]
    },
    {
     "data": {
      "application/vnd.jupyter.widget-view+json": {
       "model_id": "df9e867cbf394789b0f517d6ba6de936",
       "version_major": 2,
       "version_minor": 0
      },
      "text/plain": [
       "  0%|          | 0/14 [00:00<?, ?it/s]"
      ]
     },
     "metadata": {},
     "output_type": "display_data"
    },
    {
     "data": {
      "application/vnd.jupyter.widget-view+json": {
       "model_id": "d253ab7fae4c461d8dca6601a4321e1d",
       "version_major": 2,
       "version_minor": 0
      },
      "text/plain": [
       "  0%|          | 0/49 [00:00<?, ?it/s]"
      ]
     },
     "metadata": {},
     "output_type": "display_data"
    },
    {
     "name": "stderr",
     "output_type": "stream",
     "text": [
      "<ipython-input-3-892ca573241a>:54: DeprecationWarning: `np.bool` is a deprecated alias for the builtin `bool`. To silence this warning, use `bool` by itself. Doing this will not modify any behavior and is safe. If you specifically wanted the numpy scalar type, use `np.bool_` here.\n",
      "Deprecated in NumPy 1.20; for more details and guidance: https://numpy.org/devdocs/release/1.20.0-notes.html#deprecations\n",
      "  D_Matrix = D_Matrix.where(np.triu(np.ones(D_Matrix.shape)).astype(np.bool))\n"
     ]
    },
    {
     "data": {
      "application/vnd.jupyter.widget-view+json": {
       "model_id": "08fb272b9df54753a00ba273c86a7e5e",
       "version_major": 2,
       "version_minor": 0
      },
      "text/plain": [
       "  0%|          | 0/49 [00:00<?, ?it/s]"
      ]
     },
     "metadata": {},
     "output_type": "display_data"
    },
    {
     "data": {
      "application/vnd.jupyter.widget-view+json": {
       "model_id": "e3c71bca87d04391ae2f0243a31b0eb5",
       "version_major": 2,
       "version_minor": 0
      },
      "text/plain": [
       "  0%|          | 0/49 [00:00<?, ?it/s]"
      ]
     },
     "metadata": {},
     "output_type": "display_data"
    },
    {
     "data": {
      "application/vnd.jupyter.widget-view+json": {
       "model_id": "62724cd4709847439bd16564cd0828fd",
       "version_major": 2,
       "version_minor": 0
      },
      "text/plain": [
       "  0%|          | 0/49 [00:00<?, ?it/s]"
      ]
     },
     "metadata": {},
     "output_type": "display_data"
    },
    {
     "data": {
      "application/vnd.jupyter.widget-view+json": {
       "model_id": "981633b5bfc346f78c476a41d3f273b9",
       "version_major": 2,
       "version_minor": 0
      },
      "text/plain": [
       "  0%|          | 0/49 [00:00<?, ?it/s]"
      ]
     },
     "metadata": {},
     "output_type": "display_data"
    },
    {
     "data": {
      "application/vnd.jupyter.widget-view+json": {
       "model_id": "c938a12b08bf4459b448b652019687ee",
       "version_major": 2,
       "version_minor": 0
      },
      "text/plain": [
       "  0%|          | 0/49 [00:00<?, ?it/s]"
      ]
     },
     "metadata": {},
     "output_type": "display_data"
    },
    {
     "data": {
      "application/vnd.jupyter.widget-view+json": {
       "model_id": "6be1e369be7f402d89f5a127516c36a7",
       "version_major": 2,
       "version_minor": 0
      },
      "text/plain": [
       "  0%|          | 0/49 [00:00<?, ?it/s]"
      ]
     },
     "metadata": {},
     "output_type": "display_data"
    },
    {
     "data": {
      "application/vnd.jupyter.widget-view+json": {
       "model_id": "fbec136a593a414389983880b2594c39",
       "version_major": 2,
       "version_minor": 0
      },
      "text/plain": [
       "  0%|          | 0/49 [00:00<?, ?it/s]"
      ]
     },
     "metadata": {},
     "output_type": "display_data"
    },
    {
     "data": {
      "application/vnd.jupyter.widget-view+json": {
       "model_id": "3cf62ebb5b39467c8868bb0d604d262c",
       "version_major": 2,
       "version_minor": 0
      },
      "text/plain": [
       "  0%|          | 0/49 [00:00<?, ?it/s]"
      ]
     },
     "metadata": {},
     "output_type": "display_data"
    },
    {
     "data": {
      "application/vnd.jupyter.widget-view+json": {
       "model_id": "a0096e5e52ef46cb9c3791c022ed084f",
       "version_major": 2,
       "version_minor": 0
      },
      "text/plain": [
       "  0%|          | 0/2 [00:00<?, ?it/s]"
      ]
     },
     "metadata": {},
     "output_type": "display_data"
    },
    {
     "data": {
      "application/vnd.jupyter.widget-view+json": {
       "model_id": "0fabc22ec9954e59a3ddcbb813e3c12b",
       "version_major": 2,
       "version_minor": 0
      },
      "text/plain": [
       "  0%|          | 0/20 [00:00<?, ?it/s]"
      ]
     },
     "metadata": {},
     "output_type": "display_data"
    },
    {
     "data": {
      "application/vnd.jupyter.widget-view+json": {
       "model_id": "c8479e3d76ad437281722382cb70845f",
       "version_major": 2,
       "version_minor": 0
      },
      "text/plain": [
       "  0%|          | 0/20 [00:00<?, ?it/s]"
      ]
     },
     "metadata": {},
     "output_type": "display_data"
    },
    {
     "data": {
      "application/vnd.jupyter.widget-view+json": {
       "model_id": "df4c615c2f714dde9ccab71e8f9ce4c8",
       "version_major": 2,
       "version_minor": 0
      },
      "text/plain": [
       "  0%|          | 0/49 [00:00<?, ?it/s]"
      ]
     },
     "metadata": {},
     "output_type": "display_data"
    },
    {
     "data": {
      "application/vnd.jupyter.widget-view+json": {
       "model_id": "43c282c1ec7a4a229e3b8c9c2ec6cc6b",
       "version_major": 2,
       "version_minor": 0
      },
      "text/plain": [
       "  0%|          | 0/49 [00:00<?, ?it/s]"
      ]
     },
     "metadata": {},
     "output_type": "display_data"
    },
    {
     "data": {
      "application/vnd.jupyter.widget-view+json": {
       "model_id": "e4f4fdfc9ff740bdad852c5f62555d4b",
       "version_major": 2,
       "version_minor": 0
      },
      "text/plain": [
       "  0%|          | 0/3 [00:00<?, ?it/s]"
      ]
     },
     "metadata": {},
     "output_type": "display_data"
    },
    {
     "data": {
      "application/vnd.jupyter.widget-view+json": {
       "model_id": "7390b69ca46d4839ac8b829da3d1729b",
       "version_major": 2,
       "version_minor": 0
      },
      "text/plain": [
       "  0%|          | 0/20 [00:00<?, ?it/s]"
      ]
     },
     "metadata": {},
     "output_type": "display_data"
    },
    {
     "data": {
      "application/vnd.jupyter.widget-view+json": {
       "model_id": "3a3a83cd7fa7478bafec20f553099406",
       "version_major": 2,
       "version_minor": 0
      },
      "text/plain": [
       "  0%|          | 0/20 [00:00<?, ?it/s]"
      ]
     },
     "metadata": {},
     "output_type": "display_data"
    },
    {
     "data": {
      "application/vnd.jupyter.widget-view+json": {
       "model_id": "44a844e8bf174b25b57599824cbec824",
       "version_major": 2,
       "version_minor": 0
      },
      "text/plain": [
       "  0%|          | 0/20 [00:00<?, ?it/s]"
      ]
     },
     "metadata": {},
     "output_type": "display_data"
    },
    {
     "data": {
      "application/vnd.jupyter.widget-view+json": {
       "model_id": "d3d4372668244d7d909cd0e208525b3e",
       "version_major": 2,
       "version_minor": 0
      },
      "text/plain": [
       "  0%|          | 0/49 [00:00<?, ?it/s]"
      ]
     },
     "metadata": {},
     "output_type": "display_data"
    },
    {
     "data": {
      "application/vnd.jupyter.widget-view+json": {
       "model_id": "d1e932b71a484095a9edea9b817a9f48",
       "version_major": 2,
       "version_minor": 0
      },
      "text/plain": [
       "  0%|          | 0/3 [00:00<?, ?it/s]"
      ]
     },
     "metadata": {},
     "output_type": "display_data"
    },
    {
     "data": {
      "application/vnd.jupyter.widget-view+json": {
       "model_id": "39057660d03d4056b8bd3656966e70a6",
       "version_major": 2,
       "version_minor": 0
      },
      "text/plain": [
       "  0%|          | 0/20 [00:00<?, ?it/s]"
      ]
     },
     "metadata": {},
     "output_type": "display_data"
    },
    {
     "data": {
      "application/vnd.jupyter.widget-view+json": {
       "model_id": "2b63c4ef058e43c087714d451ea07eea",
       "version_major": 2,
       "version_minor": 0
      },
      "text/plain": [
       "  0%|          | 0/20 [00:00<?, ?it/s]"
      ]
     },
     "metadata": {},
     "output_type": "display_data"
    },
    {
     "data": {
      "application/vnd.jupyter.widget-view+json": {
       "model_id": "26a1949ab49d4024b731ac30aba9cdcc",
       "version_major": 2,
       "version_minor": 0
      },
      "text/plain": [
       "  0%|          | 0/20 [00:00<?, ?it/s]"
      ]
     },
     "metadata": {},
     "output_type": "display_data"
    },
    {
     "data": {
      "application/vnd.jupyter.widget-view+json": {
       "model_id": "b55dc9a529304010bf4eca85744f1dc9",
       "version_major": 2,
       "version_minor": 0
      },
      "text/plain": [
       "  0%|          | 0/49 [00:00<?, ?it/s]"
      ]
     },
     "metadata": {},
     "output_type": "display_data"
    },
    {
     "data": {
      "application/vnd.jupyter.widget-view+json": {
       "model_id": "2e1f6baf6a034124ad9a969715a76478",
       "version_major": 2,
       "version_minor": 0
      },
      "text/plain": [
       "  0%|          | 0/13 [00:00<?, ?it/s]"
      ]
     },
     "metadata": {},
     "output_type": "display_data"
    },
    {
     "data": {
      "application/vnd.jupyter.widget-view+json": {
       "model_id": "0ee91a2f8ca24594b1cdd110be2883ff",
       "version_major": 2,
       "version_minor": 0
      },
      "text/plain": [
       "  0%|          | 0/20 [00:00<?, ?it/s]"
      ]
     },
     "metadata": {},
     "output_type": "display_data"
    },
    {
     "data": {
      "application/vnd.jupyter.widget-view+json": {
       "model_id": "aa4b58a970524cd1b3477aaa66530d86",
       "version_major": 2,
       "version_minor": 0
      },
      "text/plain": [
       "  0%|          | 0/20 [00:00<?, ?it/s]"
      ]
     },
     "metadata": {},
     "output_type": "display_data"
    },
    {
     "data": {
      "application/vnd.jupyter.widget-view+json": {
       "model_id": "0a1560733db141a4be8ed7f8c709792e",
       "version_major": 2,
       "version_minor": 0
      },
      "text/plain": [
       "  0%|          | 0/20 [00:00<?, ?it/s]"
      ]
     },
     "metadata": {},
     "output_type": "display_data"
    },
    {
     "data": {
      "application/vnd.jupyter.widget-view+json": {
       "model_id": "53d6843c80c74a8894306924d05f7847",
       "version_major": 2,
       "version_minor": 0
      },
      "text/plain": [
       "  0%|          | 0/20 [00:00<?, ?it/s]"
      ]
     },
     "metadata": {},
     "output_type": "display_data"
    },
    {
     "data": {
      "application/vnd.jupyter.widget-view+json": {
       "model_id": "35af13bcc8254ea7a9dc73b343264195",
       "version_major": 2,
       "version_minor": 0
      },
      "text/plain": [
       "  0%|          | 0/20 [00:00<?, ?it/s]"
      ]
     },
     "metadata": {},
     "output_type": "display_data"
    },
    {
     "data": {
      "application/vnd.jupyter.widget-view+json": {
       "model_id": "45685e0477374a37ae493a91989cdddf",
       "version_major": 2,
       "version_minor": 0
      },
      "text/plain": [
       "  0%|          | 0/20 [00:00<?, ?it/s]"
      ]
     },
     "metadata": {},
     "output_type": "display_data"
    },
    {
     "data": {
      "application/vnd.jupyter.widget-view+json": {
       "model_id": "c82d9fae298046f09fc479696ab6ad7d",
       "version_major": 2,
       "version_minor": 0
      },
      "text/plain": [
       "  0%|          | 0/20 [00:00<?, ?it/s]"
      ]
     },
     "metadata": {},
     "output_type": "display_data"
    },
    {
     "data": {
      "application/vnd.jupyter.widget-view+json": {
       "model_id": "3144fd30c3844d74bec40d90530f3cbc",
       "version_major": 2,
       "version_minor": 0
      },
      "text/plain": [
       "  0%|          | 0/20 [00:00<?, ?it/s]"
      ]
     },
     "metadata": {},
     "output_type": "display_data"
    },
    {
     "data": {
      "application/vnd.jupyter.widget-view+json": {
       "model_id": "f22da8e50aa74d9f8327fb32ca82a305",
       "version_major": 2,
       "version_minor": 0
      },
      "text/plain": [
       "  0%|          | 0/20 [00:00<?, ?it/s]"
      ]
     },
     "metadata": {},
     "output_type": "display_data"
    },
    {
     "data": {
      "application/vnd.jupyter.widget-view+json": {
       "model_id": "5d336494b7c04fa1b7219211f9972388",
       "version_major": 2,
       "version_minor": 0
      },
      "text/plain": [
       "  0%|          | 0/20 [00:00<?, ?it/s]"
      ]
     },
     "metadata": {},
     "output_type": "display_data"
    },
    {
     "data": {
      "application/vnd.jupyter.widget-view+json": {
       "model_id": "548bb35e140448c2a28617dbd1684ade",
       "version_major": 2,
       "version_minor": 0
      },
      "text/plain": [
       "  0%|          | 0/20 [00:00<?, ?it/s]"
      ]
     },
     "metadata": {},
     "output_type": "display_data"
    },
    {
     "data": {
      "application/vnd.jupyter.widget-view+json": {
       "model_id": "5a18b49d4fd242568c46e8d7de17f0b8",
       "version_major": 2,
       "version_minor": 0
      },
      "text/plain": [
       "  0%|          | 0/20 [00:00<?, ?it/s]"
      ]
     },
     "metadata": {},
     "output_type": "display_data"
    },
    {
     "data": {
      "application/vnd.jupyter.widget-view+json": {
       "model_id": "334d43d5331141d4b20b45d433c108d7",
       "version_major": 2,
       "version_minor": 0
      },
      "text/plain": [
       "  0%|          | 0/20 [00:00<?, ?it/s]"
      ]
     },
     "metadata": {},
     "output_type": "display_data"
    },
    {
     "data": {
      "application/vnd.jupyter.widget-view+json": {
       "model_id": "9320b4a36e8147bc9e6a604535f7c95f",
       "version_major": 2,
       "version_minor": 0
      },
      "text/plain": [
       "  0%|          | 0/49 [00:00<?, ?it/s]"
      ]
     },
     "metadata": {},
     "output_type": "display_data"
    },
    {
     "data": {
      "application/vnd.jupyter.widget-view+json": {
       "model_id": "2db6d3d662934656814d021ef3919753",
       "version_major": 2,
       "version_minor": 0
      },
      "text/plain": [
       "  0%|          | 0/13 [00:00<?, ?it/s]"
      ]
     },
     "metadata": {},
     "output_type": "display_data"
    },
    {
     "data": {
      "application/vnd.jupyter.widget-view+json": {
       "model_id": "90eaa2b1b7934f5eb8e1af028e38be71",
       "version_major": 2,
       "version_minor": 0
      },
      "text/plain": [
       "  0%|          | 0/20 [00:00<?, ?it/s]"
      ]
     },
     "metadata": {},
     "output_type": "display_data"
    },
    {
     "data": {
      "application/vnd.jupyter.widget-view+json": {
       "model_id": "a5ece928c8cd400a9525e3ee370da5aa",
       "version_major": 2,
       "version_minor": 0
      },
      "text/plain": [
       "  0%|          | 0/20 [00:00<?, ?it/s]"
      ]
     },
     "metadata": {},
     "output_type": "display_data"
    },
    {
     "data": {
      "application/vnd.jupyter.widget-view+json": {
       "model_id": "f80e8d715f064bfe8478b5f1db56184a",
       "version_major": 2,
       "version_minor": 0
      },
      "text/plain": [
       "  0%|          | 0/20 [00:00<?, ?it/s]"
      ]
     },
     "metadata": {},
     "output_type": "display_data"
    },
    {
     "data": {
      "application/vnd.jupyter.widget-view+json": {
       "model_id": "e262e981040a406b9f8bc96bca513ea3",
       "version_major": 2,
       "version_minor": 0
      },
      "text/plain": [
       "  0%|          | 0/20 [00:00<?, ?it/s]"
      ]
     },
     "metadata": {},
     "output_type": "display_data"
    },
    {
     "data": {
      "application/vnd.jupyter.widget-view+json": {
       "model_id": "fef08377fd7a4b2ea626cd0bf9b6da42",
       "version_major": 2,
       "version_minor": 0
      },
      "text/plain": [
       "  0%|          | 0/20 [00:00<?, ?it/s]"
      ]
     },
     "metadata": {},
     "output_type": "display_data"
    },
    {
     "data": {
      "application/vnd.jupyter.widget-view+json": {
       "model_id": "5b9f9de3d5e74666a6f332eebb1cf59a",
       "version_major": 2,
       "version_minor": 0
      },
      "text/plain": [
       "  0%|          | 0/20 [00:00<?, ?it/s]"
      ]
     },
     "metadata": {},
     "output_type": "display_data"
    },
    {
     "data": {
      "application/vnd.jupyter.widget-view+json": {
       "model_id": "1a61787679df4515b66b2553ddbf04aa",
       "version_major": 2,
       "version_minor": 0
      },
      "text/plain": [
       "  0%|          | 0/20 [00:00<?, ?it/s]"
      ]
     },
     "metadata": {},
     "output_type": "display_data"
    },
    {
     "data": {
      "application/vnd.jupyter.widget-view+json": {
       "model_id": "8bd59dbeaa994028b91445ba81056f63",
       "version_major": 2,
       "version_minor": 0
      },
      "text/plain": [
       "  0%|          | 0/20 [00:00<?, ?it/s]"
      ]
     },
     "metadata": {},
     "output_type": "display_data"
    },
    {
     "data": {
      "application/vnd.jupyter.widget-view+json": {
       "model_id": "fffbc71075004e76a043348176ed5ecb",
       "version_major": 2,
       "version_minor": 0
      },
      "text/plain": [
       "  0%|          | 0/20 [00:00<?, ?it/s]"
      ]
     },
     "metadata": {},
     "output_type": "display_data"
    },
    {
     "data": {
      "application/vnd.jupyter.widget-view+json": {
       "model_id": "a034e36a3b74467e8cef6c562e34b5d1",
       "version_major": 2,
       "version_minor": 0
      },
      "text/plain": [
       "  0%|          | 0/20 [00:00<?, ?it/s]"
      ]
     },
     "metadata": {},
     "output_type": "display_data"
    },
    {
     "data": {
      "application/vnd.jupyter.widget-view+json": {
       "model_id": "c7a88cb705794d5395a6c80ad6b141b0",
       "version_major": 2,
       "version_minor": 0
      },
      "text/plain": [
       "  0%|          | 0/20 [00:00<?, ?it/s]"
      ]
     },
     "metadata": {},
     "output_type": "display_data"
    },
    {
     "data": {
      "application/vnd.jupyter.widget-view+json": {
       "model_id": "90b322e6fd4e43628b78d40c5eb24a9e",
       "version_major": 2,
       "version_minor": 0
      },
      "text/plain": [
       "  0%|          | 0/20 [00:00<?, ?it/s]"
      ]
     },
     "metadata": {},
     "output_type": "display_data"
    },
    {
     "data": {
      "application/vnd.jupyter.widget-view+json": {
       "model_id": "a744871c1d224d17997651957247aa34",
       "version_major": 2,
       "version_minor": 0
      },
      "text/plain": [
       "  0%|          | 0/20 [00:00<?, ?it/s]"
      ]
     },
     "metadata": {},
     "output_type": "display_data"
    },
    {
     "name": "stdout",
     "output_type": "stream",
     "text": [
      "Size of dataset6: (1558, 141) , Balance Ratio: 1.08568\n"
     ]
    }
   ],
   "source": [
    "##### oversampling first #####\n",
    "OS_B = Border(run_kind, Near_Minor = 15)\n",
    "self_runhist = pd.concat([runhist, OS_B], axis = 0).reset_index(drop = True)\n",
    "\n",
    "dataset_2 = generate_set(self_runhist, None, 'NM', 2, over_ratio = None, under_ratio = 1, order = 'over')\n",
    "print('Size of dataset2:', dataset_2.shape, ', Balance Ratio:', Balance_Ratio(dataset_2))\n",
    "dataset_2.to_csv('dataset_2.csv')\n",
    "\n",
    "##### undersampling first #####\n",
    "self_under = generate_set(runhist, None, 'NM', 6, over_ratio = None, under_ratio = 0.09, order = 'over')\n",
    "\n",
    "corner_overlap = Corner(self_under)\n",
    "under_kind = Kind(corner_overlap).iloc[:, :-3]\n",
    "\n",
    "US_B = Border(under_kind, Near_Minor = 15)\n",
    "dataset_6 = pd.concat([self_under, US_B], axis = 0).reset_index(drop = True)\n",
    "print('Size of dataset6:', dataset_6.shape, ', Balance Ratio:', Balance_Ratio(dataset_6))\n",
    "dataset_6.to_csv('dataset_6.csv')"
   ]
  },
  {
   "cell_type": "markdown",
   "metadata": {},
   "source": [
    "#### oversampling & undersampling "
   ]
  },
  {
   "cell_type": "code",
   "execution_count": 11,
   "metadata": {
    "ExecuteTime": {
     "end_time": "2021-09-14T07:02:49.241509Z",
     "start_time": "2021-09-14T07:02:01.966424Z"
    }
   },
   "outputs": [
    {
     "name": "stderr",
     "output_type": "stream",
     "text": [
      "2021-09-14 15:02:02,049:INFO:NoSMOTE: Running sampling via ('NoSMOTE', '{}')\n"
     ]
    },
    {
     "name": "stdout",
     "output_type": "stream",
     "text": [
      "\n",
      " Generating Dataset 0\n",
      "Size before Oversampling: 80518\n",
      "Size after Oversampling: 80518\n",
      "Size after Undersampling: 80518\n",
      "\n",
      " Generating Dataset 1\n",
      "Size before Oversampling: 80518\n",
      "Size after Oversampling: 81262\n",
      "Size after Undersampling: 1634\n",
      "\n",
      " Generating Dataset 3\n"
     ]
    },
    {
     "name": "stderr",
     "output_type": "stream",
     "text": [
      "2021-09-14 15:02:14,625:INFO:ROSE: Running sampling via ('ROSE', \"{'proportion': 0.01, 'random_state': None}\")\n"
     ]
    },
    {
     "name": "stdout",
     "output_type": "stream",
     "text": [
      "Size before Oversampling: 80518\n",
      "Size after Oversampling: 81321\n",
      "Size after Undersampling: 1752\n",
      "\n",
      " Generating Dataset 4\n",
      "Size before Oversampling: 80518\n",
      "Size after Oversampling: 81249\n",
      "Size after Undersampling: 1608\n",
      "\n",
      " Generating Dataset 5\n",
      "Size before Undersampling: 80518\n",
      "Size after Undersampling: 884\n",
      "Size before Oversampling: 884\n",
      "Size after Oversampling: 1618\n",
      "\n",
      " Generating Dataset 7\n",
      "Size before Undersampling: 80518\n"
     ]
    },
    {
     "name": "stderr",
     "output_type": "stream",
     "text": [
      "2021-09-14 15:02:42,709:INFO:ROSE: Running sampling via ('ROSE', \"{'proportion': 1, 'random_state': None}\")\n"
     ]
    },
    {
     "name": "stdout",
     "output_type": "stream",
     "text": [
      "Size after Undersampling: 884\n",
      "Size before Oversampling: 884\n",
      "Size after Oversampling: 1622\n",
      "\n",
      " Generating Dataset 8\n",
      "Size before Undersampling: 80518\n",
      "Size after Undersampling: 884\n",
      "Size before Oversampling: 884\n",
      "Size after Oversampling: 1622\n",
      "\n",
      " Generating Dataset 9\n",
      "Size after Undersampling: 803\n"
     ]
    }
   ],
   "source": [
    "##### generate datasets #####\n",
    "dataset_0 = generate_set(runhist, 'NoSMOTE', None, 0, over_ratio = None, under_ratio = None, order = 'over')\n",
    "\n",
    "dataset_1 = generate_set(runhist, 'ADASYN', 'NM', 1, over_ratio = 0.01, under_ratio = 1, order = 'over')\n",
    "#dataset_2 = generate_set(runhist, 'MSMOTE', 'NM', 2, over_ratio = 0.01, under_ratio = 1, order = 'over')\n",
    "dataset_3 = generate_set(runhist, 'ROSE', 'NM', 3, over_ratio = 0.01, under_ratio = 1, order = 'over')\n",
    "dataset_4 = generate_set(runhist, 'SMOTEN', 'NM', 4, over_ratio = 0.01, under_ratio = 1, order = 'over')\n",
    "\n",
    "dataset_5 = generate_set(runhist, 'ADASYN', 'NM', 5, over_ratio = 1, under_ratio = 0.09, order = 'under')\n",
    "#dataset_6 = generate_set(runhist, 'MSMOTE', 'NM', 6, over_ratio = 1, under_ratio = 0.09, order = 'under')\n",
    "dataset_7 = generate_set(runhist, 'ROSE', 'NM', 7, over_ratio = 1, under_ratio = 0.09, order = 'under')\n",
    "dataset_8 = generate_set(runhist, 'SMOTEN', 'NM', 8, over_ratio = 1, under_ratio = 0.09, order = 'under')\n",
    "\n",
    "dataset_9 = generate_set(runhist, None, 'NM', 9, over_ratio = None, under_ratio = 0.1, order = 'over')"
   ]
  },
  {
   "cell_type": "markdown",
   "metadata": {
    "ExecuteTime": {
     "end_time": "2021-09-02T06:28:03.833396Z",
     "start_time": "2021-09-02T06:28:02.046210Z"
    }
   },
   "source": [
    "#### onde-sided selection "
   ]
  },
  {
   "cell_type": "code",
   "execution_count": 9,
   "metadata": {
    "ExecuteTime": {
     "end_time": "2021-09-11T16:13:21.216585Z",
     "start_time": "2021-09-11T16:12:56.703974Z"
    }
   },
   "outputs": [
    {
     "name": "stderr",
     "output_type": "stream",
     "text": [
      "2021-09-12 00:12:56,733:INFO:NoSMOTE: Running sampling via ('NoSMOTE', '{}')\n"
     ]
    },
    {
     "name": "stdout",
     "output_type": "stream",
     "text": [
      "\n",
      " Generating Dataset 0\n",
      "Size before Oversampling: 80518\n",
      "Size after Oversampling: 80518\n",
      "Size after Undersampling: 80518\n",
      "\n",
      " Generating Dataset 1\n",
      "Size before Oversampling: 80518\n",
      "Size after Oversampling: 81262\n"
     ]
    },
    {
     "name": "stderr",
     "output_type": "stream",
     "text": [
      "2021-09-12 00:13:02,546:INFO:ROSE: Running sampling via ('ROSE', \"{'proportion': 0.01, 'random_state': None}\")\n"
     ]
    },
    {
     "name": "stdout",
     "output_type": "stream",
     "text": [
      "Size after Undersampling: 1634\n",
      "\n",
      " Generating Dataset 3\n",
      "Size before Oversampling: 80518\n",
      "Size after Oversampling: 81321\n",
      "Size after Undersampling: 1752\n",
      "\n",
      " Generating Dataset 4\n",
      "Size before Oversampling: 80518\n",
      "Size after Oversampling: 81249\n",
      "Size after Undersampling: 1608\n",
      "\n",
      " Generating Dataset 5\n",
      "Size before Undersampling: 80518\n",
      "Size after Undersampling: 845\n",
      "Size before Oversampling: 845\n",
      "Size after Oversampling: 1551\n",
      "\n",
      " Generating Dataset 7\n",
      "Size before Undersampling: 80518\n"
     ]
    },
    {
     "name": "stderr",
     "output_type": "stream",
     "text": [
      "2021-09-12 00:13:17,091:INFO:ROSE: Running sampling via ('ROSE', \"{'proportion': 1, 'random_state': None}\")\n"
     ]
    },
    {
     "name": "stdout",
     "output_type": "stream",
     "text": [
      "Size after Undersampling: 828\n",
      "Size before Oversampling: 828\n",
      "Size after Oversampling: 1510\n",
      "\n",
      " Generating Dataset 8\n",
      "Size before Undersampling: 80518\n",
      "Size after Undersampling: 836\n",
      "Size before Oversampling: 836\n",
      "Size after Oversampling: 1526\n",
      "\n",
      " Generating Dataset 9\n",
      "Size after Undersampling: 831\n"
     ]
    }
   ],
   "source": [
    "##### onde-sided selection #####\n",
    "dataset_0 = generate_set(runhist, 'NoSMOTE', None, 0, over_ratio = None, under_ratio = None, order = 'over')\n",
    "\n",
    "dataset_1 = generate_set(runhist, 'ADASYN', 'one-sided', 1, over_ratio = 0.01, under_ratio = 1, order = 'over')\n",
    "#dataset_2 = generate_set(runhist, 'MSMOTE', 'one-sided', 2, over_ratio = 0.01, under_ratio = 1, order = 'over')\n",
    "dataset_3 = generate_set(runhist, 'ROSE', 'one-sided', 3, over_ratio = 0.01, under_ratio = 1, order = 'over')\n",
    "dataset_4 = generate_set(runhist, 'SMOTEN', 'one-sided', 4, over_ratio = 0.01, under_ratio = 1, order = 'over')\n",
    "\n",
    "dataset_5 = generate_set(runhist, 'ADASYN', 'one-sided', 5, over_ratio = 1, under_ratio = 0.05, order = 'under')\n",
    "#dataset_6 = generate_set(runhist, 'MSMOTE', 'one-sided', 6, over_ratio = 1, under_ratio = 0.05, order = 'under')\n",
    "dataset_7 = generate_set(runhist, 'ROSE', 'one-sided', 7, over_ratio = 1, under_ratio = 0.05, order = 'under')\n",
    "dataset_8 = generate_set(runhist, 'SMOTEN', 'one-sided', 8, over_ratio = 1, under_ratio = 0.05, order = 'under')\n",
    "\n",
    "dataset_9 = generate_set(runhist, None, 'one-sided', 9, over_ratio = None, under_ratio = 0.05, order = 'over')"
   ]
  }
 ],
 "metadata": {
  "hide_input": false,
  "kernelspec": {
   "display_name": "Python [conda env:smote_variants]",
   "language": "python",
   "name": "conda-env-smote_variants-py"
  },
  "language_info": {
   "codemirror_mode": {
    "name": "ipython",
    "version": 3
   },
   "file_extension": ".py",
   "mimetype": "text/x-python",
   "name": "python",
   "nbconvert_exporter": "python",
   "pygments_lexer": "ipython3",
   "version": "3.8.10"
  },
  "toc": {
   "base_numbering": 1,
   "nav_menu": {},
   "number_sections": true,
   "sideBar": true,
   "skip_h1_title": false,
   "title_cell": "Table of Contents",
   "title_sidebar": "Contents",
   "toc_cell": false,
   "toc_position": {
    "height": "calc(100% - 180px)",
    "left": "10px",
    "top": "150px",
    "width": "223.002px"
   },
   "toc_section_display": true,
   "toc_window_display": true
  },
  "varInspector": {
   "cols": {
    "lenName": 16,
    "lenType": 16,
    "lenVar": 40
   },
   "kernels_config": {
    "python": {
     "delete_cmd_postfix": "",
     "delete_cmd_prefix": "del ",
     "library": "var_list.py",
     "varRefreshCmd": "print(var_dic_list())"
    },
    "r": {
     "delete_cmd_postfix": ") ",
     "delete_cmd_prefix": "rm(",
     "library": "var_list.r",
     "varRefreshCmd": "cat(var_dic_list()) "
    }
   },
   "position": {
    "height": "575px",
    "left": "1550px",
    "right": "20px",
    "top": "120px",
    "width": "350px"
   },
   "types_to_exclude": [
    "module",
    "function",
    "builtin_function_or_method",
    "instance",
    "_Feature"
   ],
   "window_display": false
  }
 },
 "nbformat": 4,
 "nbformat_minor": 2
}
