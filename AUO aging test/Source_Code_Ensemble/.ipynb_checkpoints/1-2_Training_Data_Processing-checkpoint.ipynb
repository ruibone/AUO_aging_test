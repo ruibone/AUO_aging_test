{
 "cells": [
  {
   "cell_type": "code",
   "execution_count": 1,
   "metadata": {
    "ExecuteTime": {
     "end_time": "2022-05-26T07:02:31.561388Z",
     "start_time": "2022-05-26T07:02:28.713984Z"
    }
   },
   "outputs": [
    {
     "data": {
      "text/plain": [
       "'C:\\\\Users\\\\user\\\\Desktop\\\\Darui_R08621110'"
      ]
     },
     "execution_count": 1,
     "metadata": {},
     "output_type": "execute_result"
    }
   ],
   "source": [
    "import os\n",
    "import numpy as np\n",
    "import pandas as pd\n",
    "\n",
    "from library.Data_Preprocessing import Balance_Ratio, training_def\n",
    "\n",
    "os.chdir('C:/Users/user/Desktop/Darui_R08621110') \n",
    "os.getcwd()"
   ]
  },
  {
   "cell_type": "markdown",
   "metadata": {},
   "source": [
    "## Function Definition"
   ]
  },
  {
   "cell_type": "markdown",
   "metadata": {},
   "source": [
    "### Identify All Kinds of Feature Combinations"
   ]
  },
  {
   "cell_type": "code",
   "execution_count": 2,
   "metadata": {
    "ExecuteTime": {
     "end_time": "2022-05-26T07:02:48.489655Z",
     "start_time": "2022-05-26T07:02:48.475692Z"
    }
   },
   "outputs": [],
   "source": [
    "# add three more feature to discribe the feature combination\n",
    "def Corner(D, label = 'GB'):\n",
    "    \n",
    "    Data = D.copy()\n",
    "    Data['cb'] = Data[Data.columns[1:-1]].apply(lambda x: '_'.join(x.astype(str)), axis = 1)\n",
    "    Data[f'{label}_mean'] = Data.groupby('cb')[label].transform('mean')\n",
    "    Data[f'{label}_count'] = Data.groupby('cb')[label].transform('count')\n",
    "    Corner_overlap = Data.copy() \n",
    "    \n",
    "    return Corner_overlap\n",
    "\n",
    "\n",
    "# keep every unique feature combination in the dataset\n",
    "def Kind(Corner_overlap, label = 'GB'):\n",
    "\n",
    "    Data = Corner_overlap\n",
    "    \n",
    "    Kinds_0 = Data[Data[f'{label}_mean'] == 0].sort_values(f'{label}_count') # represent all data in the same cb are good  \n",
    "    Kinds_1 = Data[Data[label] == 1].sort_values(f'{label}_count') # represent bad data\n",
    "    Kinds = pd.concat([Kinds_1, Kinds_0]) # reprecent all types of 'cb'\n",
    "    Kinds_after_duplicate = Kinds.drop_duplicates(subset = ['cb']).reset_index(drop = True) \n",
    "    # each 'cb' only keep one data(the first)\n",
    "    \n",
    "    return Kinds_after_duplicate\n",
    "\n",
    "\n",
    "# optional\n",
    "def Dictionary_Build(Data):\n",
    "    \n",
    "    Corner_overlap = Corner(Data)\n",
    "    Kinds = Kind(Corner_overlap).copy()\n",
    "\n",
    "    ## reorder cols\n",
    "    cols = Kinds.columns.tolist()\n",
    "    cols = cols[0:1] + cols[-4:] \n",
    "    Dictionary = Kinds[cols] #select id, GB, cb, GB_mean, GB_count\n",
    "    Dictionary['G_count'] = 0 # add new column \n",
    "    Dictionary=Dictionary.reset_index(drop=True)\n",
    "    for i in range(len(Dictionary)):\n",
    "        Dictionary['G_count'][i] = Dictionary.GB_count[i] - Dictionary.GB[i]\n",
    "    \n",
    "    return Dictionary"
   ]
  },
  {
   "cell_type": "markdown",
   "metadata": {},
   "source": [
    "### Relabel Dimensionally Overlapping Data"
   ]
  },
  {
   "cell_type": "code",
   "execution_count": 3,
   "metadata": {
    "ExecuteTime": {
     "end_time": "2022-05-26T07:02:51.727347Z",
     "start_time": "2022-05-26T07:02:51.710682Z"
    }
   },
   "outputs": [],
   "source": [
    "# remove the good instances that show up only once\n",
    "def Remove_SD(Data, count = 1, label = 'GB'):\n",
    "    \n",
    "    Corner_Overlap = Data\n",
    "    RSD = pd.concat([Data[Data[label] == 1], Data[(Data[label] == 0) & (Data[f'{label}_count'] > count)]]) \n",
    "    # remove good data that only show once\n",
    "    return RSD\n",
    "\n",
    "\n",
    "# relabel the instances to 'bad' if there are good instances share exactly the same feature combination with any bad \n",
    "# instance\n",
    "def Corner_Blend(Data, ratio = 0.002, label = 'GB'):\n",
    "    \n",
    "    D_1 = Data[(Data[f'{label}_mean'] <= 1) & (Data[f'{label}_mean'] >= ratio)].sort_values(f'{label}_count') # not relabel case\n",
    "    D_1[[label]] = 1  #if G_mean > ratio ==> relabel all data as bad\n",
    "    D_2 = Data[(Data[f'{label}_mean'] < ratio)].sort_values(f'{label}_count')\n",
    "    D_2[[label]] = 0  # otherwise relabel all data as good\n",
    "    Training_new = pd.concat([D_1,D_2]).iloc[:,:-3]\n",
    "    \n",
    "    return Training_new"
   ]
  },
  {
   "cell_type": "markdown",
   "metadata": {},
   "source": [
    "## Overlap Relabel"
   ]
  },
  {
   "cell_type": "markdown",
   "metadata": {},
   "source": [
    "### Loading Preprocessed Training Data"
   ]
  },
  {
   "cell_type": "code",
   "execution_count": 4,
   "metadata": {
    "ExecuteTime": {
     "end_time": "2022-05-26T07:07:24.700606Z",
     "start_time": "2022-05-26T07:07:22.191138Z"
    },
    "scrolled": false
   },
   "outputs": [
    {
     "name": "stdout",
     "output_type": "stream",
     "text": [
      "Dimension of month 2: (39009, 89)\n",
      "Dimension of month 3: (60396, 98)\n",
      "Dimension of month 4: (57743, 101)\n",
      "\n",
      "Dimension of training data: (157148, 129) \n",
      "Dimension of testing data: (48649, 129)\n"
     ]
    }
   ],
   "source": [
    "##### training data of each month #####\n",
    "training_month = range(2, 5)\n",
    "train_runhist = {}\n",
    "for i in training_month:\n",
    "    train_runhist[f'm{i}'] = pd.read_csv(f'selected_runhist_m{i}.csv').iloc[:, 1:]\n",
    "    print(f'Dimension of month {i}:', train_runhist[f'm{i}'].shape)\n",
    "train_runhist['all'] = training_def(train_runhist, training_month)\n",
    "\n",
    "##### training & testing data #####\n",
    "test_runhist = pd.read_csv('test_runhist.csv').iloc[:, 1:]\n",
    "print('\\nDimension of training data:', train_runhist['all'].shape,\n",
    "      '\\nDimension of testing data:', test_runhist.shape)"
   ]
  },
  {
   "cell_type": "markdown",
   "metadata": {},
   "source": [
    "### Relabel the Training Data in Each Month"
   ]
  },
  {
   "cell_type": "code",
   "execution_count": 5,
   "metadata": {
    "ExecuteTime": {
     "end_time": "2022-05-26T07:08:00.374910Z",
     "start_time": "2022-05-26T07:07:30.121786Z"
    },
    "scrolled": true
   },
   "outputs": [
    {
     "name": "stdout",
     "output_type": "stream",
     "text": [
      "Month 2:\n",
      "balance ratio: 564.35 # original bad: 31 # total bad: 69\n",
      "Month 3:\n",
      "balance ratio: 533.48 # original bad: 46 # total bad: 113\n",
      "Month 4:\n",
      "balance ratio: 472.3 # original bad: 54 # total bad: 122\n",
      "\n",
      "All training data after overlap relabel: (157148, 129) , balance ratio: 515.93 , # total bad: 304\n"
     ]
    }
   ],
   "source": [
    "##### training data of each month #####\n",
    "new_runhist = {}\n",
    "for i in training_month:\n",
    "    overlap = Corner(train_runhist[f'm{i}'])\n",
    "    new_runhist[f'm{i}'] = Corner_Blend(overlap, 1/100000)\n",
    "    new_runhist[f'm{i}'].to_csv(f'relabel_runhist_m{i}.csv')\n",
    "    print(f'Month {i}:')\n",
    "    print('balance ratio:', Balance_Ratio(new_runhist[f'm{i}']), \n",
    "          '# original bad:', sum(train_runhist[f'm{i}'].GB), '# total bad:', sum(new_runhist[f'm{i}'].GB))\n",
    "    \n",
    "##### the whole training data #####\n",
    "new_runhist['all'] = training_def(new_runhist, training_month)\n",
    "print('\\nAll training data after overlap relabel:', new_runhist['all'].shape, \n",
    "      ', balance ratio:', Balance_Ratio(new_runhist['all']), ', # total bad:', sum(new_runhist['all'].GB))"
   ]
  },
  {
   "cell_type": "markdown",
   "metadata": {},
   "source": [
    "### Cauculate the Number of Feature Combination "
   ]
  },
  {
   "cell_type": "code",
   "execution_count": 6,
   "metadata": {
    "ExecuteTime": {
     "end_time": "2022-05-26T07:10:05.043807Z",
     "start_time": "2022-05-26T07:09:01.979270Z"
    },
    "scrolled": false
   },
   "outputs": [
    {
     "name": "stdout",
     "output_type": "stream",
     "text": [
      "Month 2:\n",
      "# kinds: 23088 , # bad kinds: 31\n",
      "Month 3:\n",
      "# kinds: 33754 , # bad kinds: 46\n",
      "Month 4:\n",
      "# kinds: 32861 , # bad kinds: 54\n",
      "\n",
      "# kinds in all training data: 87699 , # bad kinds: 131\n",
      "\n",
      "# kinds in testing data: 27219 , # bad kinds: 51\n"
     ]
    }
   ],
   "source": [
    "##### training data in each month #####\n",
    "kinds = {}\n",
    "for i in training_month:\n",
    "    overlap = Corner(train_runhist[f'm{i}'])\n",
    "    kinds[f'm{i}'] = Kind(overlap)\n",
    "    kinds[f'm{i}'].to_csv(f'kind_m{i}.csv')\n",
    "    print(f'Month {i}:')\n",
    "    print('# kinds:', len(kinds[f'm{i}']), ', # bad kinds:', len(kinds[f'm{i}'][kinds[f'm{i}'].GB == 1]))\n",
    "\n",
    "##### the whole training data & testing data #####\n",
    "train_overlap = Corner(train_runhist['all'])\n",
    "kinds['all'] = Kind(train_overlap)\n",
    "test_overlap = Corner(test_runhist)\n",
    "test_kinds = Kind(test_overlap)\n",
    "print('\\n# kinds in all training data:', len(kinds['all']), ', # bad kinds:', len(kinds['all'][kinds['all'].GB == 1]))\n",
    "print('\\n# kinds in testing data:', len(test_kinds), ', # bad kinds:', len(test_kinds[test_kinds.GB == 1]))"
   ]
  }
 ],
 "metadata": {
  "hide_input": false,
  "kernelspec": {
   "display_name": "Python [conda env:aging]",
   "language": "python",
   "name": "conda-env-aging-py"
  },
  "language_info": {
   "codemirror_mode": {
    "name": "ipython",
    "version": 3
   },
   "file_extension": ".py",
   "mimetype": "text/x-python",
   "name": "python",
   "nbconvert_exporter": "python",
   "pygments_lexer": "ipython3",
   "version": "3.7.10"
  },
  "toc": {
   "base_numbering": 1,
   "nav_menu": {},
   "number_sections": true,
   "sideBar": true,
   "skip_h1_title": false,
   "title_cell": "Table of Contents",
   "title_sidebar": "Contents",
   "toc_cell": false,
   "toc_position": {},
   "toc_section_display": true,
   "toc_window_display": false
  },
  "varInspector": {
   "cols": {
    "lenName": 16,
    "lenType": 16,
    "lenVar": 40
   },
   "kernels_config": {
    "python": {
     "delete_cmd_postfix": "",
     "delete_cmd_prefix": "del ",
     "library": "var_list.py",
     "varRefreshCmd": "print(var_dic_list())"
    },
    "r": {
     "delete_cmd_postfix": ") ",
     "delete_cmd_prefix": "rm(",
     "library": "var_list.r",
     "varRefreshCmd": "cat(var_dic_list()) "
    }
   },
   "types_to_exclude": [
    "module",
    "function",
    "builtin_function_or_method",
    "instance",
    "_Feature"
   ],
   "window_display": false
  }
 },
 "nbformat": 4,
 "nbformat_minor": 4
}
