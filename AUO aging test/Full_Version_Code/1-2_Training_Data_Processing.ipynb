{
 "cells": [
  {
   "cell_type": "code",
   "execution_count": 3,
   "metadata": {
    "ExecuteTime": {
     "end_time": "2021-10-08T07:50:37.232121Z",
     "start_time": "2021-10-08T07:50:37.227134Z"
    }
   },
   "outputs": [
    {
     "data": {
      "text/plain": [
       "'C:\\\\Users\\\\user\\\\Desktop\\\\Darui_R08621110'"
      ]
     },
     "execution_count": 3,
     "metadata": {},
     "output_type": "execute_result"
    }
   ],
   "source": [
    "import os\n",
    "import numpy as np\n",
    "import pandas as pd\n",
    "\n",
    "from library.Data_Preprocessing import Balance_Ratio \n",
    "\n",
    "os.chdir('C:/Users/user/Desktop/Darui_R08621110') \n",
    "os.getcwd()"
   ]
  },
  {
   "cell_type": "markdown",
   "metadata": {},
   "source": [
    "## "
   ]
  },
  {
   "cell_type": "markdown",
   "metadata": {},
   "source": [
    "### identfy all kinds of dimensional overlapping data"
   ]
  },
  {
   "cell_type": "code",
   "execution_count": 4,
   "metadata": {
    "ExecuteTime": {
     "end_time": "2021-10-08T07:50:40.543927Z",
     "start_time": "2021-10-08T07:50:40.536962Z"
    }
   },
   "outputs": [],
   "source": [
    "def Corner(D, label = 'GB'):\n",
    "    \n",
    "    Data = D.copy()\n",
    "    Data['cb'] = Data[Data.columns[1:-1]].apply(lambda x: '_'.join(x.astype(str)), axis = 1)\n",
    "    Data[f'{label}_mean'] = Data.groupby('cb')[label].transform('mean')\n",
    "    Data[f'{label}_count'] = Data.groupby('cb')[label].transform('count')\n",
    "    Corner_overlap = Data.copy() \n",
    "    \n",
    "    return Corner_overlap\n",
    "\n",
    "\n",
    "def Kind(Corner_overlap, label = 'GB'):\n",
    "\n",
    "    Data = Corner_overlap\n",
    "    \n",
    "    Kinds_0 = Data[Data[f'{label}_mean'] == 0].sort_values(f'{label}_count') # represent all data in the same cb are good  \n",
    "    Kinds_1 = Data[Data[label] == 1].sort_values(f'{label}_count') # represent bad data\n",
    "    Kinds = pd.concat([Kinds_1, Kinds_0]) # reprecent all types of 'cb'\n",
    "    Kinds_after_duplicate = Kinds.drop_duplicates(subset = ['cb']).reset_index(drop = True) \n",
    "    # each 'cb' only keep one data(the first)\n",
    "    \n",
    "    return Kinds_after_duplicate\n",
    "\n",
    "\n",
    "def Dictionary_Build(Data):\n",
    "    \n",
    "    Corner_overlap = Corner(Data)\n",
    "    Kinds = Kind(Corner_overlap).copy()\n",
    "\n",
    "    ## reorder cols\n",
    "    cols = Kinds.columns.tolist()\n",
    "    cols = cols[0:1] + cols[-4:] \n",
    "    Dictionary = Kinds[cols] #select id, GB, cb, GB_mean, GB_count\n",
    "    Dictionary['G_count'] = 0 # add new column \n",
    "    Dictionary=Dictionary.reset_index(drop=True)\n",
    "    for i in range(len(Dictionary)):\n",
    "        Dictionary['G_count'][i] = Dictionary.GB_count[i] - Dictionary.GB[i] # represent??\n",
    "    \n",
    "    return Dictionary"
   ]
  },
  {
   "cell_type": "markdown",
   "metadata": {},
   "source": [
    "### relabel overlapping data"
   ]
  },
  {
   "cell_type": "code",
   "execution_count": 5,
   "metadata": {
    "ExecuteTime": {
     "end_time": "2021-10-08T07:50:45.154028Z",
     "start_time": "2021-10-08T07:50:45.136401Z"
    }
   },
   "outputs": [],
   "source": [
    "def Remove_SD(Data, count = 1, label = 'GB'):\n",
    "    \n",
    "    Corner_Overlap = Data\n",
    "    RSD = pd.concat([Data[Data[label] == 1], Data[(Data[label] == 0) & (Data[f'{label}_count'] > count)]]) \n",
    "    # remove good data that only show once\n",
    "    return RSD\n",
    "\n",
    "\n",
    "def Corner_Blend(Data, ratio = 0.002, label = 'GB'):\n",
    "    \n",
    "    D_1 = Data[(Data[f'{label}_mean'] <= 1) & (Data[f'{label}_mean'] >= ratio)].sort_values(f'{label}_count') # not relabel case\n",
    "    D_1[[label]] = 1  #if G_mean > ratio ==> relabel all data as bad\n",
    "    D_2 = Data[(Data[f'{label}_mean'] < ratio)].sort_values(f'{label}_count')\n",
    "    D_2[[label]] = 0  # otherwise relabel all data as good\n",
    "    Training_new = pd.concat([D_1,D_2]).iloc[:,:-3]\n",
    "    \n",
    "    return Training_new"
   ]
  },
  {
   "cell_type": "markdown",
   "metadata": {},
   "source": [
    "## "
   ]
  },
  {
   "cell_type": "markdown",
   "metadata": {},
   "source": [
    "### loading training data"
   ]
  },
  {
   "cell_type": "code",
   "execution_count": 32,
   "metadata": {
    "ExecuteTime": {
     "end_time": "2021-10-08T12:13:11.383282Z",
     "start_time": "2021-10-08T12:13:10.032154Z"
    }
   },
   "outputs": [
    {
     "name": "stdout",
     "output_type": "stream",
     "text": [
      "Dimension of month 2: (38022, 97)\n",
      "Dimension of month 3: (60607, 108)\n",
      "Dimension of month 4: (57742, 103)\n",
      "\n",
      "Dimension of training data: (156371, 116) \n",
      "Dimension of testing data: (48654, 116)\n"
     ]
    }
   ],
   "source": [
    "##### training data of each month #####\n",
    "training_month = [2, 3, 4]\n",
    "train_runhist = {}\n",
    "for i in training_month:\n",
    "    train_runhist[f'm{i}'] = pd.read_csv(f'train_runhist_m{i}.csv').iloc[:, 1:]\n",
    "    print(f'Dimension of month {i}:', train_runhist[f'm{i}'].shape)\n",
    "\n",
    "##### training & testing data #####\n",
    "test_runhist = pd.read_csv('test_runhist.csv').iloc[:, 1:]\n",
    "print('\\nDimension of training data:', train_runhist['all'].shape,\n",
    "      '\\nDimension of testing data:', test_runhist.shape)"
   ]
  },
  {
   "cell_type": "markdown",
   "metadata": {},
   "source": [
    "### relabel the training data by month"
   ]
  },
  {
   "cell_type": "code",
   "execution_count": 44,
   "metadata": {
    "ExecuteTime": {
     "end_time": "2021-10-08T12:38:05.475962Z",
     "start_time": "2021-10-08T12:37:32.154764Z"
    }
   },
   "outputs": [
    {
     "name": "stdout",
     "output_type": "stream",
     "text": [
      "Month {i} after overlap relabel: (38022, 97) balance ratio: 863.0 # total bad: 44\n",
      "Month {i} after overlap relabel: (60607, 108) balance ratio: 550.0 # total bad: 110\n",
      "Month {i} after overlap relabel: (57742, 103) balance ratio: 549.0 # total bad: 105\n",
      "\n",
      "All training data after overlap relabel: (156371, 116) , balance ratio: 578.0 , # total bad: 270\n",
      "All runhist data after overlap relabel: (205025, 116) , balance ratio: 561.0 , # total bad: 365\n"
     ]
    }
   ],
   "source": [
    "##### training data of each month #####\n",
    "training_month = [2, 3, 4]\n",
    "\n",
    "overlap = {}\n",
    "new_runhist = pd.DataFrame()\n",
    "for i in training_month:\n",
    "    overlap[f'm{i}'] = Corner(train_runhist[f'm{i}'])\n",
    "    new_runhist[f'm{i}'] = Corner_Blend(overlap[f'm{i}'], 1/10000)\n",
    "    new_runhist[f'm{i}'].to_csv(f'relabel_runhist_m{i}.csv')\n",
    "    print('Month {i} after overlap relabel:', new_runhist[f'm{i}'].shape, 'balance ratio:', \n",
    "          Balance_Ratio(new_runhist[f'm{i}']), '# total bad:', sum(new_runhist[f'm{i}'].GB))\n",
    "    \n",
    "##### the whole training data #####\n",
    "new_train = pd.DataFrame()\n",
    "for i in training_month:\n",
    "    new_train = pd.concat([new_train, new_runhist[f'm{i}']])\n",
    "print('\\nAll training data after overlap relabel:', new_train.shape, ', balance ratio:', Balance_Ratio(new_train), \n",
    "          ', # total bad:', sum(new_train.GB))\n",
    "\n",
    "##### the whole data #####\n",
    "new_all = pd.concat([new_train, test_runhist], axis = 0)\n",
    "print('All runhist data after overlap relabel:', new_all.shape, ', balance ratio:', Balance_Ratio(new_all), \n",
    "          ', # total bad:', sum(new_all.GB))"
   ]
  },
  {
   "cell_type": "markdown",
   "metadata": {},
   "source": [
    "### cauculate the number of combination types "
   ]
  },
  {
   "cell_type": "code",
   "execution_count": 45,
   "metadata": {
    "ExecuteTime": {
     "end_time": "2021-10-08T12:38:27.209491Z",
     "start_time": "2021-10-08T12:38:17.082919Z"
    }
   },
   "outputs": [
    {
     "name": "stdout",
     "output_type": "stream",
     "text": [
      "Number of kinds in month {i}: 24537\n",
      "Number of kinds in month {i}: 36690\n",
      "Number of kinds in month {i}: 34462\n",
      "\n",
      "Number of kinds in all training data: 91515\n",
      "Number of kinds in all testing data: 29967\n",
      "Number of kinds in all runhist data: 121482\n"
     ]
    }
   ],
   "source": [
    "##### training data of each month #####\n",
    "kinds = {}\n",
    "for i in training_month:\n",
    "    kinds[f'm{i}'] = Kind(overlap[f'm{i}'])\n",
    "    kinds[f'm{i}'].to_csv(f'kind_m{i}.csv')\n",
    "    print('Number of kinds in month {i}:', len(kinds[f'm{i}']))\n",
    "\n",
    "##### the whole training data & testing data #####\n",
    "train_kinds = Kind(train_overlap)\n",
    "train_kinds.to_csv('kind.csv')\n",
    "print('\\nNumber of kinds in all training data:', len(train_kinds))\n",
    "\n",
    "test_overlap = Corner(test_runhist)\n",
    "test_kinds = Kind(test_overlap)\n",
    "all_overlap = Corner(new_all)\n",
    "all_kinds = Kind(all_overlap)\n",
    "\n",
    "print('Number of kinds in all testing data:', len(test_kinds))\n",
    "print('Number of kinds in all runhist data:', len(all_kinds))"
   ]
  }
 ],
 "metadata": {
  "hide_input": false,
  "kernelspec": {
   "display_name": "Python [conda env:aging]",
   "language": "python",
   "name": "conda-env-aging-py"
  },
  "language_info": {
   "codemirror_mode": {
    "name": "ipython",
    "version": 3
   },
   "file_extension": ".py",
   "mimetype": "text/x-python",
   "name": "python",
   "nbconvert_exporter": "python",
   "pygments_lexer": "ipython3",
   "version": "3.7.10"
  },
  "toc": {
   "base_numbering": 1,
   "nav_menu": {},
   "number_sections": true,
   "sideBar": true,
   "skip_h1_title": false,
   "title_cell": "Table of Contents",
   "title_sidebar": "Contents",
   "toc_cell": false,
   "toc_position": {},
   "toc_section_display": true,
   "toc_window_display": false
  },
  "varInspector": {
   "cols": {
    "lenName": 16,
    "lenType": 16,
    "lenVar": 40
   },
   "kernels_config": {
    "python": {
     "delete_cmd_postfix": "",
     "delete_cmd_prefix": "del ",
     "library": "var_list.py",
     "varRefreshCmd": "print(var_dic_list())"
    },
    "r": {
     "delete_cmd_postfix": ") ",
     "delete_cmd_prefix": "rm(",
     "library": "var_list.r",
     "varRefreshCmd": "cat(var_dic_list()) "
    }
   },
   "types_to_exclude": [
    "module",
    "function",
    "builtin_function_or_method",
    "instance",
    "_Feature"
   ],
   "window_display": false
  }
 },
 "nbformat": 4,
 "nbformat_minor": 4
}
