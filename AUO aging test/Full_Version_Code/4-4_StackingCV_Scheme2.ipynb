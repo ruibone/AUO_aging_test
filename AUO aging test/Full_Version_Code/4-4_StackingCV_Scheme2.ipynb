{
 "cells": [
  {
   "cell_type": "code",
   "execution_count": 1,
   "metadata": {
    "ExecuteTime": {
     "end_time": "2021-11-22T12:43:52.361357Z",
     "start_time": "2021-11-22T12:43:48.795923Z"
    }
   },
   "outputs": [
    {
     "data": {
      "text/plain": [
       "'C:\\\\Users\\\\user\\\\Desktop\\\\Darui_R08621110'"
      ]
     },
     "execution_count": 1,
     "metadata": {},
     "output_type": "execute_result"
    }
   ],
   "source": [
    "import os\n",
    "import numpy as np\n",
    "import pandas as pd\n",
    "import matplotlib.pyplot as plt\n",
    "import pickle\n",
    "from tqdm.auto import tqdm\n",
    "\n",
    "from sklearn.linear_model import LogisticRegression, Ridge\n",
    "from sklearn.ensemble import ExtraTreesClassifier, ExtraTreesRegressor, RandomForestClassifier, RandomForestRegressor\n",
    "from sklearn.model_selection import train_test_split\n",
    "from catboost import CatBoostClassifier, CatBoostRegressor\n",
    "from lightgbm import LGBMClassifier, LGBMRegressor\n",
    "from xgboost import XGBClassifier, XGBRegressor\n",
    "import optuna\n",
    "\n",
    "from library.Data_Preprocessing import Balance_Ratio, train_col\n",
    "from library.Imbalance_Sampling import label_divide\n",
    "from library.Aging_Score_Contour import score1\n",
    "from library.AdaBoost import train_set, multiple_set, multiple_month, line_chart, cf_matrix, AUC, PR_curve, \\\n",
    "     multiple_curve, PR_matrix, best_threshold, all_optuna, optuna_history\n",
    "from library.XGBoost import XGBoost_creator\n",
    "from library.LightGBM import LightGBM_creator\n",
    "from library.CatBoost import CatBoost_creator\n",
    "from library.Random_Forest import RandomForest_creator\n",
    "from library.Extra_Trees import ExtraTrees_creator\n",
    "from library.StackingCV_Scheme3 import optimize_base, stratified_data, runall_LR, runall_RidgeR, stackingCV_creator, \\\n",
    "    correlation_plot, vif, rank_importance, month_param\n",
    "\n",
    "os.chdir('C:/Users/user/Desktop/Darui_R08621110')  \n",
    "os.getcwd()"
   ]
  },
  {
   "cell_type": "markdown",
   "metadata": {},
   "source": [
    "## "
   ]
  },
  {
   "cell_type": "markdown",
   "metadata": {},
   "source": [
    "### transform data by base learner"
   ]
  },
  {
   "cell_type": "code",
   "execution_count": 2,
   "metadata": {
    "ExecuteTime": {
     "end_time": "2021-11-22T12:43:52.531914Z",
     "start_time": "2021-11-22T12:43:52.501995Z"
    }
   },
   "outputs": [],
   "source": [
    "def transform_train(train_data, mode, base_param, cv):\n",
    "    \n",
    "    num_set = len(train_data.keys())\n",
    "    month_list = list(base_param.keys())\n",
    "    model_list = list(base_param[month_list[0]].keys())\n",
    "    set_dict = {} \n",
    "    for i in tqdm(range(num_set)):\n",
    "        \n",
    "        train_x_dict, train_y_dict, valid_x_dict, valid_y_dict = stratified_data(train_data[f'set{i}'], cv = cv)\n",
    "        all_month = pd.DataFrame()\n",
    "        for month in tqdm(month_list):    \n",
    "            \n",
    "            all_cv = pd.DataFrame()\n",
    "            for j in range(cv):\n",
    "                \n",
    "                model_predict = pd.DataFrame()\n",
    "                if mode == 'C':\n",
    "\n",
    "                    if 'XGBoost' in model_list:                     \n",
    "                        clf = XGBClassifier(**base_param[month]['XGBoost'][f'set{i}'], n_jobs = -1)\n",
    "                        clf.fit(train_x_dict[j], train_y_dict[j])\n",
    "                        predict_y = clf.predict_proba(valid_x_dict[j])\n",
    "                        predict = pd.DataFrame({f'X_{month}': predict_y[:, 0]})\n",
    "                        model_predict = pd.concat([model_predict, predict], axis = 1)\n",
    "\n",
    "                    if 'LightGBM' in model_list:                        \n",
    "                        clf = LGBMClassifier(**base_param[month]['LightGBM'][f'set{i}'])\n",
    "                        clf.fit(train_x_dict[j], train_y_dict[j])\n",
    "                        predict_y = clf.predict_proba(valid_x_dict[j])\n",
    "                        predict = pd.DataFrame({f'L_{month}': predict_y[:, 0]})\n",
    "                        model_predict = pd.concat([model_predict, predict], axis = 1)\n",
    "                        \n",
    "                    if 'CatBoost' in model_list:\n",
    "                        clf = CatBoostClassifier(**base_param[month]['CatBoost'][f'set{i}'])\n",
    "                        clf.fit(train_x_dict[j], train_y_dict[j])\n",
    "                        predict_y = clf.predict_proba(valid_x_dict[j])\n",
    "                        predict = pd.DataFrame({f'C_{month}': predict_y[:, 0]})\n",
    "                        model_predict = pd.concat([model_predict, predict], axis = 1)\n",
    "                        \n",
    "                    if 'RandomForest' in model_list:\n",
    "                        clf = RandomForestClassifier(**base_param[month]['RandomForest'][f'set{i}'])\n",
    "                        clf.fit(train_x_dict[j], train_y_dict[j])\n",
    "                        predict_y = clf.predict_proba(valid_x_dict[j])\n",
    "                        predict = pd.DataFrame({f'R_{month}': predict_y[:, 0]})\n",
    "                        model_predict = pd.concat([model_predict, predict], axis = 1)\n",
    "                        \n",
    "                    if 'ExtraTrees' in model_list:\n",
    "                        clf = ExtraTreesClassifier(**base_param[month]['ExtraTrees'][f'set{i}'])\n",
    "                        clf.fit(train_x_dict[j], train_y_dict[j])\n",
    "                        predict_y = clf.predict_proba(valid_x_dict[j])\n",
    "                        predict = pd.DataFrame({f'E_{month}': predict_y[:, 0]})\n",
    "                        model_predict = pd.concat([model_predict, predict], axis = 1)\n",
    "                        \n",
    "                elif mode == 'R':\n",
    "                    \n",
    "                    if 'XGBoost' in model_list:\n",
    "                        reg = XGBRegressor(**base_param[month]['XGBoost'][f'set{i}'], n_jobs = -1)\n",
    "                        reg.fit(train_x_dict[j], train_y_dict[j])\n",
    "                        predict_y = reg.predict(valid_x_dict[j])\n",
    "                        predict = pd.DataFrame({f'X_{month}': predict_y})\n",
    "                        model_predict = pd.concat([model_predict, predict], axis = 1)\n",
    "\n",
    "                    if 'LightGBM' in model_list:\n",
    "                        reg = LGBMRegressor(**base_param[month]['LightGBM'][f'set{i}'])\n",
    "                        reg.fit(train_x_dict[j], train_y_dict[j])\n",
    "                        predict_y = reg.predict(valid_x_dict[j])\n",
    "                        predict = pd.DataFrame({f'L_{month}': predict_y})\n",
    "                        model_predict = pd.concat([model_predict, predict], axis = 1)\n",
    "                        \n",
    "                    if 'CatBoost' in model_list:\n",
    "                        reg = CatBoostRegressor(**base_param[month]['CatBoost'][f'set{i}'])\n",
    "                        reg.fit(train_x_dict[j], train_y_dict[j])\n",
    "                        predict_y = reg.predict(valid_x_dict[j])\n",
    "                        predict = pd.DataFrame({f'C_{month}': predict_y})\n",
    "                        model_predict = pd.concat([model_predict, predict], axis = 1)\n",
    "                        \n",
    "                    if 'RandomForest' in model_list:\n",
    "                        reg = RandomForestRegressor(**base_param[month]['RandomForest'][f'set{i}'])\n",
    "                        reg.fit(train_x_dict[j], train_y_dict[j])\n",
    "                        predict_y = reg.predict(valid_x_dict[j])\n",
    "                        predict = pd.DataFrame({f'R_{month}': predict_y})\n",
    "                        model_predict = pd.concat([model_predict, predict], axis = 1)\n",
    "                    \n",
    "                    if 'ExtraTrees' in model_list:\n",
    "                        reg = ExtraTreesRegressor(**base_param[month]['ExtraTrees'][f'set{i}'])\n",
    "                        reg.fit(train_x_dict[j], train_y_dict[j])\n",
    "                        predict_y = reg.predict(valid_x_dict[j])\n",
    "                        predict = pd.DataFrame({f'E_{month}': predict_y})\n",
    "                        model_predict = pd.concat([model_predict, predict], axis = 1)\n",
    "                        \n",
    "                test_label = valid_y_dict[j].reset_index(drop = True)\n",
    "                done_cv = pd.concat([model_predict, test_label], axis = 1)\n",
    "                all_cv = pd.concat([all_cv, done_cv], axis = 0)                \n",
    "        \n",
    "            all_month = pd.concat([all_month, all_cv], axis = 1)\n",
    "            if month != month_list[-1]:\n",
    "                all_month = all_month.drop(columns = 'GB')\n",
    "        \n",
    "        set_dict[f'set{i}'] = all_month\n",
    "    \n",
    "    return set_dict\n",
    "\n",
    "\n",
    "def transform_test(train_data, test_data, mode, base_param):\n",
    "    \n",
    "    month_list = list(base_param.keys())\n",
    "    model_list = list(base_param[month_list[0]].keys())\n",
    "    num_set = len(train_data[month_list[0]].keys())\n",
    "    test_dict = {}\n",
    "    for i in tqdm(range(num_set)):\n",
    "        \n",
    "        month_test = pd.DataFrame()\n",
    "        for month in tqdm(month_list):\n",
    "            \n",
    "            select_test = train_col(train_data[month][f'set{i}'], test_data)\n",
    "            train_x, train_y, test_x, test_y = label_divide(train_data[month][f'set{i}'], select_test, train_only = False)\n",
    "            model_predict = pd.DataFrame()\n",
    "            if mode == 'C':\n",
    "\n",
    "                if 'XGBoost' in model_list:\n",
    "                    clf = XGBClassifier(**base_param[month]['XGBoost'][f'set{i}'], n_jobs = -1)\n",
    "                    clf.fit(train_x, train_y)\n",
    "                    predict_y = clf.predict_proba(test_x)\n",
    "                    predict = pd.DataFrame({f'X_{month}': predict_y[:, 0]})\n",
    "                    model_predict = pd.concat([model_predict, predict], axis = 1)\n",
    "\n",
    "                if 'LightGBM' in model_list:\n",
    "                    clf = LGBMClassifier(**base_param[month]['LightGBM'][f'set{i}'])\n",
    "                    clf.fit(train_x, train_y)\n",
    "                    predict_y = clf.predict_proba(test_x)\n",
    "                    predict = pd.DataFrame({f'L_{month}': predict_y[:, 0]})\n",
    "                    model_predict = pd.concat([model_predict, predict], axis = 1)\n",
    "\n",
    "                if 'CatBoost' in model_list:\n",
    "                    clf = CatBoostClassifier(**base_param[month]['CatBoost'][f'set{i}'])\n",
    "                    clf.fit(train_x, train_y)\n",
    "                    predict_y = clf.predict_proba(test_x)\n",
    "                    predict = pd.DataFrame({f'C_{month}': predict_y[:, 0]})\n",
    "                    model_predict = pd.concat([model_predict, predict], axis = 1)\n",
    "\n",
    "                if 'RandomForest' in model_list:\n",
    "                    clf = RandomForestClassifier(**base_param[month]['RandomForest'][f'set{i}'])\n",
    "                    clf.fit(train_x, train_y)\n",
    "                    predict_y = clf.predict_proba(test_x)\n",
    "                    predict = pd.DataFrame({f'R_{month}': predict_y[:, 0]})\n",
    "                    model_predict = pd.concat([model_predict, predict], axis = 1)\n",
    "\n",
    "                if 'ExtraTrees' in model_list:\n",
    "                    clf = ExtraTreesClassifier(**base_param[month]['ExtraTrees'][f'set{i}'])\n",
    "                    clf.fit(train_x, train_y)\n",
    "                    predict_y = clf.predict_proba(test_x)\n",
    "                    predict = pd.DataFrame({f'E_{month}': predict_y[:, 0]})\n",
    "                    model_predict = pd.concat([model_predict, predict], axis = 1)\n",
    "\n",
    "            elif mode == 'R':\n",
    "\n",
    "                if 'XGBoost' in model_list:\n",
    "                    reg = XGBRegressor(**base_param[month]['XGBoost'][f'set{i}'], n_jobs = -1)\n",
    "                    reg.fit(train_x, train_y)\n",
    "                    predict_y = reg.predict(test_x)\n",
    "                    predict = pd.DataFrame({f'X_{month}': predict_y})\n",
    "                    model_predict = pd.concat([model_predict, predict], axis = 1)\n",
    "\n",
    "                if 'LightGBM' in model_list:\n",
    "                    reg = LGBMRegressor(**base_param[month]['LightGBM'][f'set{i}'])\n",
    "                    reg.fit(train_x, train_y)\n",
    "                    predict_y = reg.predict(test_x)\n",
    "                    predict = pd.DataFrame({f'L_{month}': predict_y})\n",
    "                    model_predict = pd.concat([model_predict, predict], axis = 1)\n",
    "\n",
    "                if 'CatBoost' in model_list:\n",
    "                    reg = CatBoostRegressor(**base_param[month]['CatBoost'][f'set{i}'])\n",
    "                    reg.fit(train_x, train_y)\n",
    "                    predict_y = reg.predict(test_x)\n",
    "                    predict = pd.DataFrame({f'C_{month}': predict_y})\n",
    "                    model_predict = pd.concat([model_predict, predict], axis = 1)\n",
    "\n",
    "                if 'RandomForest' in model_list:\n",
    "                    reg = RandomForestRegressor(**base_param[month]['RandomForest'][f'set{i}'])\n",
    "                    reg.fit(train_x, train_y)\n",
    "                    predict_y = reg.predict(test_x)\n",
    "                    predict = pd.DataFrame({f'R_{month}': predict_y})\n",
    "                    model_predict = pd.concat([model_predict, predict], axis = 1)\n",
    "\n",
    "                if 'ExtraTrees' in model_list:\n",
    "                    reg = ExtraTreesRegressor(**base_param[month]['ExtraTrees'][f'set{i}'])\n",
    "                    reg.fit(train_x, train_y)\n",
    "                    predict_y = reg.predict(test_x)\n",
    "                    predict = pd.DataFrame({f'E_{month}': predict_y})\n",
    "                    model_predict = pd.concat([model_predict, predict], axis = 1)\n",
    "\n",
    "            month_test = pd.concat([month_test, model_predict], axis = 1)\n",
    "        month_done = pd.concat([month_test, test_y], axis = 1)\n",
    "        test_dict[f'set{i}'] = month_done\n",
    "        \n",
    "    return test_dict"
   ]
  },
  {
   "cell_type": "markdown",
   "metadata": {
    "heading_collapsed": true
   },
   "source": [
    "### optuna"
   ]
  },
  {
   "cell_type": "code",
   "execution_count": null,
   "metadata": {
    "ExecuteTime": {
     "end_time": "2021-10-12T15:33:24.040156Z",
     "start_time": "2021-10-12T15:33:24.031132Z"
    },
    "hidden": true
   },
   "outputs": [],
   "source": [
    "def stackingCV_creator(train_data, mode, num_valid = 3) :\n",
    "    \n",
    "    def objective(trial) :\n",
    "        # hyperparameters randomize setting\n",
    "        if mode == 'C' :\n",
    "            meta_learner = 'Logistic Regression'\n",
    "            \n",
    "            if meta_learner == 'Logistic Regression' :      \n",
    "                param = {\n",
    "                    'solver': 'lbfgs',\n",
    "                    'C': trial.suggest_categorical('C', [100, 10 ,1 ,0.1, 0.01]),\n",
    "                    'penalty': trial.suggest_categorical('penalty', ['none', 'l2']),\n",
    "                    'n_jobs': -1\n",
    "                }\n",
    "\n",
    "            elif meta_learner == 'Extra Trees' :\n",
    "                param = {\n",
    "                    'n_estimators': trial.suggest_int('n_estimators', 100, 500, step = 100),\n",
    "                    'min_samples_split': trial.suggest_int('min_samples_split', 2, 32, step = 5),\n",
    "                    'max_depth': trial.suggest_int('max_depth', 3, 21, step = 3),\n",
    "                    'n_jobs': -1\n",
    "                }     \n",
    "\n",
    "        elif mode == 'R' :\n",
    "            meta_learner = 'RidgeCV'\n",
    "            \n",
    "            if meta_learner == 'RidgeCV' :\n",
    "                param = {\n",
    "                    'alpha': trial.suggest_float('alpha', 0, 1, step = 0.1)\n",
    "                }\n",
    "            \n",
    "            elif meta_learner == 'Extra Trees' :\n",
    "                param = {\n",
    "                    'n_estimators': trial.suggest_int('n_estimators', 100, 500, step = 100),\n",
    "                    'min_samples_split': trial.suggest_int('min_samples_split', 2, 32, step = 5),\n",
    "                    'max_depth': trial.suggest_int('max_depth', 3, 21, step = 3),\n",
    "                    'n_jobs': -1\n",
    "                }\n",
    "        \n",
    "        # objective function\n",
    "        result_list = []\n",
    "        for i in range(num_valid):\n",
    "\n",
    "            train_x, train_y = label_divide(train_data, None, 'GB', train_only = True)\n",
    "            train_x, valid_x, train_y, valid_y = train_test_split(train_x, train_y, test_size = 0.25)\n",
    "\n",
    "            if mode == 'C':\n",
    "                result, _ = LR(train_x, valid_x, train_y, valid_y, param)\n",
    "                table = cf_matrix(result, valid_y)\n",
    "                recall = table['Recall']\n",
    "                aging = table['Aging Rate']\n",
    "                result_list.append(recall - 0.1*aging)\n",
    "\n",
    "            elif mode == 'R':\n",
    "                result, _ = RidgeR(train_x, valid_x, train_y, valid_y, param)\n",
    "                pr_matrix = PR_matrix(result, valid_y)\n",
    "                auc = AUC(pr_matrix['Recall'], pr_matrix['Aging Rate'])\n",
    "                result_list.append((-1)*auc)\n",
    "\n",
    "        return np.mean(result_list)\n",
    "    \n",
    "    return objective"
   ]
  },
  {
   "cell_type": "markdown",
   "metadata": {},
   "source": [
    "## "
   ]
  },
  {
   "cell_type": "markdown",
   "metadata": {},
   "source": [
    "### loading training & testing data"
   ]
  },
  {
   "cell_type": "code",
   "execution_count": 5,
   "metadata": {
    "ExecuteTime": {
     "end_time": "2021-11-22T12:45:11.063659Z",
     "start_time": "2021-11-22T12:45:07.916035Z"
    },
    "scrolled": true
   },
   "outputs": [
    {
     "name": "stdout",
     "output_type": "stream",
     "text": [
      "\n",
      "Month 4:\n",
      "\n",
      "Dimension of dataset 0 : (57743, 99)  balance ratio: 433.0\n",
      "Dimension of dataset 1 : (2600, 99)  balance ratio: 1.0\n",
      "Dimension of dataset 2 : (3066, 99)  balance ratio: 1.0\n",
      "Dimension of dataset 3 : (2920, 99)  balance ratio: 1.0\n",
      "Dimension of dataset 4 : (2660, 99)  balance ratio: 1.0\n",
      "Dimension of dataset 5 : (2643, 99)  balance ratio: 1.0\n",
      "Dimension of dataset 6 : (2880, 99)  balance ratio: 1.0\n",
      "Dimension of dataset 7 : (2660, 99)  balance ratio: 1.0\n",
      "Dimension of dataset 8 : (2660, 99)  balance ratio: 1.0\n",
      "Dimension of dataset 9 : (1463, 99)  balance ratio: 10.0\n",
      "\n",
      " 10 datasets are loaded.\n",
      "\n",
      "Labels of  10 datasets are divided.\n",
      "\n",
      "Month 5:\n",
      "\n",
      "Dimension of dataset 0 : (48649, 93)  balance ratio: 415.0\n",
      "Dimension of dataset 1 : (2316, 93)  balance ratio: 1.0\n",
      "Dimension of dataset 2 : (3178, 93)  balance ratio: 1.0\n",
      "Dimension of dataset 3 : (2566, 93)  balance ratio: 1.0\n",
      "Dimension of dataset 4 : (2338, 93)  balance ratio: 1.0\n",
      "Dimension of dataset 5 : (2348, 93)  balance ratio: 1.0\n",
      "Dimension of dataset 6 : (2783, 93)  balance ratio: 1.0\n",
      "Dimension of dataset 7 : (2340, 93)  balance ratio: 1.0\n",
      "Dimension of dataset 8 : (2340, 93)  balance ratio: 1.0\n",
      "Dimension of dataset 9 : (1287, 93)  balance ratio: 10.0\n",
      "\n",
      " 10 datasets are loaded.\n",
      "\n",
      "Labels of  10 datasets are divided.\n",
      "\n",
      "Month 6:\n",
      "\n",
      "Dimension of dataset 0 : (7792, 71)  balance ratio: 1112.0\n",
      "Dimension of dataset 1 : (140, 71)  balance ratio: 1.0\n",
      "Dimension of dataset 2 : (164, 71)  balance ratio: 1.0\n",
      "Dimension of dataset 3 : (152, 71)  balance ratio: 1.0\n",
      "Dimension of dataset 4 : (140, 71)  balance ratio: 1.0\n",
      "Dimension of dataset 5 : (138, 71)  balance ratio: 1.0\n",
      "Dimension of dataset 6 : (154, 71)  balance ratio: 1.0\n",
      "Dimension of dataset 7 : (140, 71)  balance ratio: 1.0\n",
      "Dimension of dataset 8 : (140, 71)  balance ratio: 1.0\n",
      "Dimension of dataset 9 : (77, 71)  balance ratio: 10.0\n",
      "\n",
      " 10 datasets are loaded.\n",
      "\n",
      "Labels of  10 datasets are divided.\n",
      "\n",
      "Combined training data:\n",
      "\n",
      "Dimension of dataset 0 : (231324, 134)  balance ratio: 480.0\n",
      "Dimension of dataset 1 : (9548, 134)  balance ratio: 1.0\n",
      "Dimension of dataset 2 : (12552, 134)  balance ratio: 1.0\n",
      "Dimension of dataset 3 : (10556, 134)  balance ratio: 1.0\n",
      "Dimension of dataset 4 : (9618, 134)  balance ratio: 1.0\n",
      "Dimension of dataset 5 : (9608, 134)  balance ratio: 1.0\n",
      "Dimension of dataset 6 : (11150, 134)  balance ratio: 1.0\n",
      "Dimension of dataset 7 : (9620, 134)  balance ratio: 1.0\n",
      "Dimension of dataset 8 : (9620, 134)  balance ratio: 1.0\n",
      "Dimension of dataset 9 : (5291, 134)  balance ratio: 10.0\n",
      "\n",
      " 10 datasets are loaded.\n",
      "\n",
      "Labels of  10 datasets are divided.\n",
      "\n",
      " Dimension of testing data: (43243, 134)\n"
     ]
    }
   ],
   "source": [
    "### training data ### \n",
    "training_month = range(4, 7)\n",
    "\n",
    "data_dict, trainset_x, trainset_y = multiple_month(training_month, num_set = 10, filename = 'dataset')\n",
    "\n",
    "print('\\nCombined training data:\\n')\n",
    "run_train = multiple_set(num_set = 10)\n",
    "run_train_x, run_train_y = train_set(run_train, num_set = 10)\n",
    "\n",
    "### testing data ###\n",
    "run_test = pd.read_csv('test_runhist.csv').iloc[:, 2:]\n",
    "run_test_x, run_test_y = label_divide(run_test, None, 'GB', train_only = True)\n",
    "print('\\n', 'Dimension of testing data:', run_test.shape)"
   ]
  },
  {
   "cell_type": "markdown",
   "metadata": {},
   "source": [
    "## base learner"
   ]
  },
  {
   "cell_type": "markdown",
   "metadata": {},
   "source": [
    "### optimize the base learners by one-month data"
   ]
  },
  {
   "cell_type": "code",
   "execution_count": null,
   "metadata": {
    "ExecuteTime": {
     "end_time": "2021-11-20T13:26:37.580396Z",
     "start_time": "2021-11-20T09:45:25.128223Z"
    },
    "scrolled": true
   },
   "outputs": [],
   "source": [
    "##### for both training & testing data transformation ##### \n",
    "base_param_monthC = optimize_base(num_set = 10, \n",
    "                                  train_data = data_dict, \n",
    "                                  mode = 'C', \n",
    "                                  TPE_multi = False, \n",
    "                                  base_list = ['RandomForest', 'LightGBM'],\n",
    "                                  iter_list = [50, 200],\n",
    "                                  filename = 'runhist_array_m1m6_m7_3criteria')\n",
    " \n",
    "# base_param_monthR = optimize_base(num_set = 10, \n",
    "#                                   train_data = data_dict, \n",
    "#                                   mode = 'R', \n",
    "#                                   TPE_multi = True, \n",
    "#                                   base_list = ['RandomForest', 'LightGBM'],\n",
    "#                                   iter_list = [50, 200],\n",
    "#                                   filename = 'runhist_array_4criteria_m2m5')"
   ]
  },
  {
   "cell_type": "code",
   "execution_count": 11,
   "metadata": {
    "ExecuteTime": {
     "end_time": "2021-11-22T13:28:38.994217Z",
     "start_time": "2021-11-22T13:28:38.984195Z"
    }
   },
   "outputs": [],
   "source": [
    "##### 'OR' by loading from stackingCV scheme 3 #####\n",
    "base_param_monthC = month_param(num_set = 10, \n",
    "                                date = '20211123', \n",
    "                                month_list = list(range(4, 7)), \n",
    "                                model_list = ['RandomForest', 'LightGBM'], \n",
    "                                iter_list = [50, 200], \n",
    "                                filename = 'runhist_array_m1m6_m7_3criteria', \n",
    "                                mode = 'C', \n",
    "                                TPE_multi = True)\n",
    "\n",
    "# base_param_monthR = month_param(num_set = 10, \n",
    "#                                 date = '20211019', \n",
    "#                                 month_list = [2, 3, 4], \n",
    "#                                 model_list = ['XGBoost', 'LightGBM'], \n",
    "#                                 iter_list = [200, 200], \n",
    "#                                 filename = 'runhist_array_4criteria_m2m5', \n",
    "#                                 mode = 'R', \n",
    "#                                 TPE_multi = True)"
   ]
  },
  {
   "cell_type": "markdown",
   "metadata": {},
   "source": [
    "### data transform for scheme 2"
   ]
  },
  {
   "cell_type": "code",
   "execution_count": null,
   "metadata": {
    "ExecuteTime": {
     "start_time": "2021-11-22T13:28:42.648Z"
    },
    "scrolled": true
   },
   "outputs": [
    {
     "data": {
      "application/vnd.jupyter.widget-view+json": {
       "model_id": "499991b5a5954e7da0d2914456bf96ab",
       "version_major": 2,
       "version_minor": 0
      },
      "text/plain": [
       "  0%|          | 0/10 [00:00<?, ?it/s]"
      ]
     },
     "metadata": {},
     "output_type": "display_data"
    },
    {
     "data": {
      "application/vnd.jupyter.widget-view+json": {
       "model_id": "9e3350bedb724060a026b74d949bd3c8",
       "version_major": 2,
       "version_minor": 0
      },
      "text/plain": [
       "  0%|          | 0/3 [00:00<?, ?it/s]"
      ]
     },
     "metadata": {},
     "output_type": "display_data"
    }
   ],
   "source": [
    "train_firstC = transform_train(run_train,  \n",
    "                               mode = 'C', \n",
    "                               base_param = base_param_monthC, \n",
    "                               cv = 5)\n",
    "test_firstC = transform_test(data_dict,\n",
    "                             run_test, \n",
    "                             mode = 'C', \n",
    "                             base_param = base_param_monthC)\n",
    "train_firstC_x, train_firstC_y = train_set(train_firstC, num_set = 10)\n",
    "test_firstC_x, test_firstC_y = train_set(test_firstC, num_set = 10) \n",
    "\n",
    "# train_firstR = transform_train(run_train, \n",
    "#                                mode = 'R', \n",
    "#                                base_param = base_param_monthR, \n",
    "#                                cv = 5)\n",
    "# test_firstR = transform_test(data_dict, \n",
    "#                              run_test, \n",
    "#                              mode = 'R', \n",
    "#                              base_param = base_param_monthR)\n",
    "# train_firstR_x, train_firstR_y = train_set(train_firstR, num_set = 10)\n",
    "# test_firstR_x, test_firstR_y = train_set(test_firstR, num_set = 10) "
   ]
  },
  {
   "cell_type": "markdown",
   "metadata": {},
   "source": [
    "## meta learner"
   ]
  },
  {
   "cell_type": "markdown",
   "metadata": {},
   "source": [
    "### searching for best hyperparameters"
   ]
  },
  {
   "cell_type": "code",
   "execution_count": null,
   "metadata": {
    "ExecuteTime": {
     "start_time": "2021-11-22T13:28:50.111Z"
    },
    "scrolled": true
   },
   "outputs": [],
   "source": [
    "best_paramC, _ = all_optuna(num_set = 10, \n",
    "                            all_data = train_firstC, \n",
    "                            mode = 'C', \n",
    "                            TPE_multi = True, \n",
    "                            n_iter = 10,\n",
    "                            filename = f'runhist_array_m1m6_m7_3criteria_StackingCV2',\n",
    "                            creator = stackingCV_creator\n",
    ")\n",
    "\n",
    "# best_paramR, _ = all_optuna(num_set = 10, \n",
    "#                             all_data = train_firstR, \n",
    "#                             mode = 'R', \n",
    "#                             TPE_multi = True, \n",
    "#                             n_iter = 10,\n",
    "#                             filename = f'runhist_array_4criteria_m2m5_StackingCV2',\n",
    "#                             creator = stackingCV_creator\n",
    "# )"
   ]
  },
  {
   "cell_type": "markdown",
   "metadata": {},
   "source": [
    "### feature selection by feature importance"
   ]
  },
  {
   "cell_type": "code",
   "execution_count": 8,
   "metadata": {
    "ExecuteTime": {
     "end_time": "2021-11-22T13:22:48.426268Z",
     "start_time": "2021-11-22T13:22:33.539136Z"
    }
   },
   "outputs": [
    {
     "data": {
      "image/png": "[encoded data removed]",
      "text/plain": [
       "<Figure size 432x288 with 2 Axes>"
      ]
     },
     "metadata": {
      "needs_background": "light"
     },
     "output_type": "display_data"
    },
    {
     "data": {
      "image/png": "[encoded data removed]",
      "text/plain": [
       "<Figure size 432x288 with 1 Axes>"
      ]
     },
     "metadata": {
      "needs_background": "light"
     },
     "output_type": "display_data"
    },
    {
     "data": {
      "image/png": "[encoded data removed]",
      "text/plain": [
       "<Figure size 432x288 with 1 Axes>"
      ]
     },
     "metadata": {
      "needs_background": "light"
     },
     "output_type": "display_data"
    },
    {
     "data": {
      "image/png": "[encoded data removed]",
      "text/plain": [
       "<Figure size 576x324 with 1 Axes>"
      ]
     },
     "metadata": {},
     "output_type": "display_data"
    },
    {
     "data": {
      "image/png": "[encoded data removed]",
      "text/plain": [
       "<Figure size 576x280.8 with 2 Axes>"
      ]
     },
     "metadata": {
      "needs_background": "light"
     },
     "output_type": "display_data"
    },
    {
     "data": {
      "text/html": [
       "<div>\n",
       "<style scoped>\n",
       "    .dataframe tbody tr th:only-of-type {\n",
       "        vertical-align: middle;\n",
       "    }\n",
       "\n",
       "    .dataframe tbody tr th {\n",
       "        vertical-align: top;\n",
       "    }\n",
       "\n",
       "    .dataframe thead th {\n",
       "        text-align: right;\n",
       "    }\n",
       "</style>\n",
       "<table border=\"1\" class=\"dataframe\">\n",
       "  <thead>\n",
       "    <tr style=\"text-align: right;\">\n",
       "      <th></th>\n",
       "      <th>GLM</th>\n",
       "      <th>forest</th>\n",
       "      <th>permutation</th>\n",
       "      <th>SHAP</th>\n",
       "      <th>total_rank</th>\n",
       "    </tr>\n",
       "  </thead>\n",
       "  <tbody>\n",
       "    <tr>\n",
       "      <th>L_m4</th>\n",
       "      <td>3.0</td>\n",
       "      <td>2.0</td>\n",
       "      <td>1.0</td>\n",
       "      <td>2.0</td>\n",
       "      <td>1.0</td>\n",
       "    </tr>\n",
       "    <tr>\n",
       "      <th>R_m5</th>\n",
       "      <td>1.0</td>\n",
       "      <td>3.0</td>\n",
       "      <td>2.0</td>\n",
       "      <td>3.0</td>\n",
       "      <td>2.0</td>\n",
       "    </tr>\n",
       "    <tr>\n",
       "      <th>L_m5</th>\n",
       "      <td>4.0</td>\n",
       "      <td>1.0</td>\n",
       "      <td>4.0</td>\n",
       "      <td>1.0</td>\n",
       "      <td>3.0</td>\n",
       "    </tr>\n",
       "    <tr>\n",
       "      <th>R_m4</th>\n",
       "      <td>2.0</td>\n",
       "      <td>4.0</td>\n",
       "      <td>3.0</td>\n",
       "      <td>5.0</td>\n",
       "      <td>4.0</td>\n",
       "    </tr>\n",
       "    <tr>\n",
       "      <th>R_m6</th>\n",
       "      <td>5.0</td>\n",
       "      <td>6.0</td>\n",
       "      <td>6.0</td>\n",
       "      <td>4.0</td>\n",
       "      <td>5.0</td>\n",
       "    </tr>\n",
       "    <tr>\n",
       "      <th>L_m6</th>\n",
       "      <td>6.0</td>\n",
       "      <td>5.0</td>\n",
       "      <td>5.0</td>\n",
       "      <td>6.0</td>\n",
       "      <td>6.0</td>\n",
       "    </tr>\n",
       "  </tbody>\n",
       "</table>\n",
       "</div>"
      ],
      "text/plain": [
       "      GLM  forest  permutation  SHAP  total_rank\n",
       "L_m4  3.0     2.0          1.0   2.0         1.0\n",
       "R_m5  1.0     3.0          2.0   3.0         2.0\n",
       "L_m5  4.0     1.0          4.0   1.0         3.0\n",
       "R_m4  2.0     4.0          3.0   5.0         4.0\n",
       "R_m6  5.0     6.0          6.0   4.0         5.0\n",
       "L_m6  6.0     5.0          5.0   6.0         6.0"
      ]
     },
     "execution_count": 8,
     "metadata": {},
     "output_type": "execute_result"
    }
   ],
   "source": [
    "rank_importance(train_firstC['set7'], mode = 'C')"
   ]
  },
  {
   "cell_type": "markdown",
   "metadata": {},
   "source": [
    "### classifier"
   ]
  },
  {
   "cell_type": "code",
   "execution_count": 9,
   "metadata": {
    "ExecuteTime": {
     "end_time": "2021-11-22T13:22:55.170278Z",
     "start_time": "2021-11-22T13:22:54.026335Z"
    }
   },
   "outputs": [
    {
     "data": {
      "application/vnd.jupyter.widget-view+json": {
       "model_id": "a350b737cf274c629148aeb6f20ddeae",
       "version_major": 2,
       "version_minor": 0
      },
      "text/plain": [
       "  0%|          | 0/10 [00:00<?, ?it/s]"
      ]
     },
     "metadata": {},
     "output_type": "display_data"
    },
    {
     "name": "stdout",
     "output_type": "stream",
     "text": [
      "\n",
      " Dataset 0:\n"
     ]
    },
    {
     "name": "stderr",
     "output_type": "stream",
     "text": [
      "invalid value encountered in double_scalars\n",
      "invalid value encountered in double_scalars\n",
      "Setting penalty='none' will ignore the C and l1_ratio parameters\n",
      "Setting penalty='none' will ignore the C and l1_ratio parameters\n",
      "Setting penalty='none' will ignore the C and l1_ratio parameters\n",
      "Setting penalty='none' will ignore the C and l1_ratio parameters\n"
     ]
    },
    {
     "name": "stdout",
     "output_type": "stream",
     "text": [
      "Precision: 0 \n",
      "Recall: 0.0 \n",
      "Aging Rate: 0.0\n",
      "\n",
      " Dataset 1:\n",
      "Precision: 0.0011426939008713042 \n",
      "Recall: 0.21621621621621623 \n",
      "Aging Rate: 0.1618990356820757\n",
      "\n",
      " Dataset 2:\n",
      "Precision: 0.0009675119665953763 \n",
      "Recall: 0.5135135135135135 \n",
      "Aging Rate: 0.45413130448858774\n",
      "\n",
      " Dataset 3:\n",
      "Precision: 0.0008214795278654503 \n",
      "Recall: 0.5135135135135135 \n",
      "Aging Rate: 0.5348611335938764\n",
      "\n",
      " Dataset 4:\n",
      "Precision: 0.0008603383997705764 \n",
      "Recall: 0.32432432432432434 \n",
      "Aging Rate: 0.32254931433989315\n",
      "\n",
      " Dataset 5:\n",
      "Precision: 0.0010791719807711174 \n",
      "Recall: 0.2972972972972973 \n",
      "Aging Rate: 0.2357144508937863\n",
      "\n",
      " Dataset 6:\n",
      "Precision: 0.001188001188001188 \n",
      "Recall: 0.43243243243243246 \n",
      "Aging Rate: 0.3114492519020419\n",
      "\n",
      " Dataset 7:\n",
      "Precision: 0.0009923175416133162 \n",
      "Recall: 0.8378378378378378 \n",
      "Aging Rate: 0.7224290636634831\n",
      "\n",
      " Dataset 8:\n",
      "Precision: 0.0008145975887911372 \n",
      "Recall: 0.13513513513513514 \n",
      "Aging Rate: 0.1419420484240224\n",
      "\n",
      " Dataset 9:\n",
      "Precision: 0.0011023439313065677 \n",
      "Recall: 0.5135135135135135 \n",
      "Aging Rate: 0.398584742039174\n"
     ]
    },
    {
     "name": "stderr",
     "output_type": "stream",
     "text": [
      "Setting penalty='none' will ignore the C and l1_ratio parameters\n"
     ]
    },
    {
     "data": {
      "image/png": "[encoded data removed]",
      "text/plain": [
       "<Figure size 1080x576 with 2 Axes>"
      ]
     },
     "metadata": {
      "needs_background": "light"
     },
     "output_type": "display_data"
    }
   ],
   "source": [
    "table_setC, coefC = runall_LR(10, train_firstC_x, test_firstC_x, train_firstC_y, test_firstC_y, best_paramC)\n",
    "line_chart(table_setC, title = 'StackingCV Classifier (scheme 2)')"
   ]
  },
  {
   "cell_type": "code",
   "execution_count": 10,
   "metadata": {
    "ExecuteTime": {
     "end_time": "2021-11-22T13:23:00.842403Z",
     "start_time": "2021-11-22T13:23:00.826445Z"
    }
   },
   "outputs": [
    {
     "data": {
      "text/html": [
       "<div>\n",
       "<style scoped>\n",
       "    .dataframe tbody tr th:only-of-type {\n",
       "        vertical-align: middle;\n",
       "    }\n",
       "\n",
       "    .dataframe tbody tr th {\n",
       "        vertical-align: top;\n",
       "    }\n",
       "\n",
       "    .dataframe thead th {\n",
       "        text-align: right;\n",
       "    }\n",
       "</style>\n",
       "<table border=\"1\" class=\"dataframe\">\n",
       "  <thead>\n",
       "    <tr style=\"text-align: right;\">\n",
       "      <th></th>\n",
       "      <th>Balance Ratio</th>\n",
       "      <th>Train_OK</th>\n",
       "      <th>Train_NG</th>\n",
       "      <th>TP</th>\n",
       "      <th>FP</th>\n",
       "      <th>FN</th>\n",
       "      <th>TN</th>\n",
       "      <th>Precision</th>\n",
       "      <th>Recall</th>\n",
       "      <th>Aging Rate</th>\n",
       "      <th>Efficiency</th>\n",
       "      <th>Score</th>\n",
       "    </tr>\n",
       "  </thead>\n",
       "  <tbody>\n",
       "    <tr>\n",
       "      <th>dataset 0</th>\n",
       "      <td>479.923077</td>\n",
       "      <td>230843.0</td>\n",
       "      <td>481.0</td>\n",
       "      <td>0.0</td>\n",
       "      <td>0.0</td>\n",
       "      <td>37.0</td>\n",
       "      <td>43206.0</td>\n",
       "      <td>0.000000</td>\n",
       "      <td>0.000000</td>\n",
       "      <td>0.000000</td>\n",
       "      <td>NaN</td>\n",
       "      <td>NaN</td>\n",
       "    </tr>\n",
       "    <tr>\n",
       "      <th>dataset 1</th>\n",
       "      <td>1.000000</td>\n",
       "      <td>4774.0</td>\n",
       "      <td>4774.0</td>\n",
       "      <td>8.0</td>\n",
       "      <td>6993.0</td>\n",
       "      <td>29.0</td>\n",
       "      <td>36213.0</td>\n",
       "      <td>0.001143</td>\n",
       "      <td>0.216216</td>\n",
       "      <td>0.161899</td>\n",
       "      <td>1.335500</td>\n",
       "      <td>0.183400</td>\n",
       "    </tr>\n",
       "    <tr>\n",
       "      <th>dataset 2</th>\n",
       "      <td>1.000000</td>\n",
       "      <td>6276.0</td>\n",
       "      <td>6276.0</td>\n",
       "      <td>19.0</td>\n",
       "      <td>19619.0</td>\n",
       "      <td>18.0</td>\n",
       "      <td>23587.0</td>\n",
       "      <td>0.000968</td>\n",
       "      <td>0.513514</td>\n",
       "      <td>0.454131</td>\n",
       "      <td>1.130760</td>\n",
       "      <td>0.388462</td>\n",
       "    </tr>\n",
       "    <tr>\n",
       "      <th>dataset 3</th>\n",
       "      <td>1.000000</td>\n",
       "      <td>5278.0</td>\n",
       "      <td>5278.0</td>\n",
       "      <td>19.0</td>\n",
       "      <td>23110.0</td>\n",
       "      <td>18.0</td>\n",
       "      <td>20096.0</td>\n",
       "      <td>0.000821</td>\n",
       "      <td>0.513514</td>\n",
       "      <td>0.534861</td>\n",
       "      <td>0.960088</td>\n",
       "      <td>0.000000</td>\n",
       "    </tr>\n",
       "    <tr>\n",
       "      <th>dataset 4</th>\n",
       "      <td>1.000000</td>\n",
       "      <td>4809.0</td>\n",
       "      <td>4809.0</td>\n",
       "      <td>12.0</td>\n",
       "      <td>13936.0</td>\n",
       "      <td>25.0</td>\n",
       "      <td>29270.0</td>\n",
       "      <td>0.000860</td>\n",
       "      <td>0.324324</td>\n",
       "      <td>0.322549</td>\n",
       "      <td>1.005503</td>\n",
       "      <td>0.225696</td>\n",
       "    </tr>\n",
       "    <tr>\n",
       "      <th>dataset 5</th>\n",
       "      <td>1.002501</td>\n",
       "      <td>4810.0</td>\n",
       "      <td>4798.0</td>\n",
       "      <td>11.0</td>\n",
       "      <td>10182.0</td>\n",
       "      <td>26.0</td>\n",
       "      <td>33024.0</td>\n",
       "      <td>0.001079</td>\n",
       "      <td>0.297297</td>\n",
       "      <td>0.235714</td>\n",
       "      <td>1.261260</td>\n",
       "      <td>0.242572</td>\n",
       "    </tr>\n",
       "    <tr>\n",
       "      <th>dataset 6</th>\n",
       "      <td>0.758675</td>\n",
       "      <td>4810.0</td>\n",
       "      <td>6340.0</td>\n",
       "      <td>16.0</td>\n",
       "      <td>13452.0</td>\n",
       "      <td>21.0</td>\n",
       "      <td>29754.0</td>\n",
       "      <td>0.001188</td>\n",
       "      <td>0.432432</td>\n",
       "      <td>0.311449</td>\n",
       "      <td>1.388452</td>\n",
       "      <td>0.376495</td>\n",
       "    </tr>\n",
       "    <tr>\n",
       "      <th>dataset 7</th>\n",
       "      <td>1.000000</td>\n",
       "      <td>4810.0</td>\n",
       "      <td>4810.0</td>\n",
       "      <td>31.0</td>\n",
       "      <td>31209.0</td>\n",
       "      <td>6.0</td>\n",
       "      <td>11997.0</td>\n",
       "      <td>0.000992</td>\n",
       "      <td>0.837838</td>\n",
       "      <td>0.722429</td>\n",
       "      <td>1.159751</td>\n",
       "      <td>0.645129</td>\n",
       "    </tr>\n",
       "    <tr>\n",
       "      <th>dataset 8</th>\n",
       "      <td>1.000000</td>\n",
       "      <td>4810.0</td>\n",
       "      <td>4810.0</td>\n",
       "      <td>5.0</td>\n",
       "      <td>6133.0</td>\n",
       "      <td>32.0</td>\n",
       "      <td>37073.0</td>\n",
       "      <td>0.000815</td>\n",
       "      <td>0.135135</td>\n",
       "      <td>0.141942</td>\n",
       "      <td>0.952044</td>\n",
       "      <td>0.000000</td>\n",
       "    </tr>\n",
       "    <tr>\n",
       "      <th>dataset 9</th>\n",
       "      <td>10.000000</td>\n",
       "      <td>4810.0</td>\n",
       "      <td>481.0</td>\n",
       "      <td>19.0</td>\n",
       "      <td>17217.0</td>\n",
       "      <td>18.0</td>\n",
       "      <td>25989.0</td>\n",
       "      <td>0.001102</td>\n",
       "      <td>0.513514</td>\n",
       "      <td>0.398585</td>\n",
       "      <td>1.288342</td>\n",
       "      <td>0.425101</td>\n",
       "    </tr>\n",
       "  </tbody>\n",
       "</table>\n",
       "</div>"
      ],
      "text/plain": [
       "           Balance Ratio  Train_OK  Train_NG    TP       FP    FN       TN  \\\n",
       "dataset 0     479.923077  230843.0     481.0   0.0      0.0  37.0  43206.0   \n",
       "dataset 1       1.000000    4774.0    4774.0   8.0   6993.0  29.0  36213.0   \n",
       "dataset 2       1.000000    6276.0    6276.0  19.0  19619.0  18.0  23587.0   \n",
       "dataset 3       1.000000    5278.0    5278.0  19.0  23110.0  18.0  20096.0   \n",
       "dataset 4       1.000000    4809.0    4809.0  12.0  13936.0  25.0  29270.0   \n",
       "dataset 5       1.002501    4810.0    4798.0  11.0  10182.0  26.0  33024.0   \n",
       "dataset 6       0.758675    4810.0    6340.0  16.0  13452.0  21.0  29754.0   \n",
       "dataset 7       1.000000    4810.0    4810.0  31.0  31209.0   6.0  11997.0   \n",
       "dataset 8       1.000000    4810.0    4810.0   5.0   6133.0  32.0  37073.0   \n",
       "dataset 9      10.000000    4810.0     481.0  19.0  17217.0  18.0  25989.0   \n",
       "\n",
       "           Precision    Recall  Aging Rate  Efficiency     Score  \n",
       "dataset 0   0.000000  0.000000    0.000000         NaN       NaN  \n",
       "dataset 1   0.001143  0.216216    0.161899    1.335500  0.183400  \n",
       "dataset 2   0.000968  0.513514    0.454131    1.130760  0.388462  \n",
       "dataset 3   0.000821  0.513514    0.534861    0.960088  0.000000  \n",
       "dataset 4   0.000860  0.324324    0.322549    1.005503  0.225696  \n",
       "dataset 5   0.001079  0.297297    0.235714    1.261260  0.242572  \n",
       "dataset 6   0.001188  0.432432    0.311449    1.388452  0.376495  \n",
       "dataset 7   0.000992  0.837838    0.722429    1.159751  0.645129  \n",
       "dataset 8   0.000815  0.135135    0.141942    0.952044  0.000000  \n",
       "dataset 9   0.001102  0.513514    0.398585    1.288342  0.425101  "
      ]
     },
     "execution_count": 10,
     "metadata": {},
     "output_type": "execute_result"
    }
   ],
   "source": [
    "table_setC"
   ]
  },
  {
   "cell_type": "markdown",
   "metadata": {},
   "source": [
    "### regressor"
   ]
  },
  {
   "cell_type": "code",
   "execution_count": null,
   "metadata": {
    "ExecuteTime": {
     "end_time": "2021-10-17T02:28:36.009163Z",
     "start_time": "2021-10-17T02:28:35.375882Z"
    }
   },
   "outputs": [],
   "source": [
    "pr_dict, table_setR, coefR = runall_RidgeR(10, train_firstR_x, test_firstR_x, train_firstR_y, test_firstR_y, \n",
    "                                           best_paramR, thres_target = 'Recall', threshold = 0.7)\n",
    "line_chart(table_setR, title = 'StackingCV Regressor (scheme 2)')"
   ]
  },
  {
   "cell_type": "code",
   "execution_count": null,
   "metadata": {
    "ExecuteTime": {
     "end_time": "2021-10-17T02:28:47.866792Z",
     "start_time": "2021-10-17T02:28:45.025308Z"
    }
   },
   "outputs": [],
   "source": [
    "multiple_curve(4, 3, pr_dict, table_setR, target = 'Aging Rate')\n",
    "multiple_curve(4, 3, pr_dict, table_setR, target = 'Precision')\n",
    "print(coefR)\n",
    "table_setR"
   ]
  },
  {
   "cell_type": "markdown",
   "metadata": {},
   "source": [
    "### export"
   ]
  },
  {
   "cell_type": "code",
   "execution_count": null,
   "metadata": {
    "ExecuteTime": {
     "start_time": "2021-11-22T13:29:10.954Z"
    }
   },
   "outputs": [],
   "source": [
    "savedate = '20211123'\n",
    "TPE_multi = False\n",
    "\n",
    "table_setC['sampler'] = 'multivariate-TPE' if TPE_multi else 'univariate-TPE'\n",
    "table_setC['model'] = 'StackingCV 2(m456)'\n",
    "with pd.ExcelWriter(f'{savedate}_Classifier.xlsx', mode = 'a') as writer:\n",
    "    table_setC.to_excel(writer, sheet_name = 'StackingCV_2(m456)')"
   ]
  }
 ],
 "metadata": {
  "hide_input": false,
  "kernelspec": {
   "display_name": "Python [conda env:aging]",
   "language": "python",
   "name": "conda-env-aging-py"
  },
  "language_info": {
   "codemirror_mode": {
    "name": "ipython",
    "version": 3
   },
   "file_extension": ".py",
   "mimetype": "text/x-python",
   "name": "python",
   "nbconvert_exporter": "python",
   "pygments_lexer": "ipython3",
   "version": "3.7.10"
  },
  "toc": {
   "base_numbering": 1,
   "nav_menu": {},
   "number_sections": true,
   "sideBar": true,
   "skip_h1_title": false,
   "title_cell": "Table of Contents",
   "title_sidebar": "Contents",
   "toc_cell": false,
   "toc_position": {},
   "toc_section_display": true,
   "toc_window_display": false
  },
  "varInspector": {
   "cols": {
    "lenName": 16,
    "lenType": 16,
    "lenVar": 40
   },
   "kernels_config": {
    "python": {
     "delete_cmd_postfix": "",
     "delete_cmd_prefix": "del ",
     "library": "var_list.py",
     "varRefreshCmd": "print(var_dic_list())"
    },
    "r": {
     "delete_cmd_postfix": ") ",
     "delete_cmd_prefix": "rm(",
     "library": "var_list.r",
     "varRefreshCmd": "cat(var_dic_list()) "
    }
   },
   "types_to_exclude": [
    "module",
    "function",
    "builtin_function_or_method",
    "instance",
    "_Feature"
   ],
   "window_display": false
  }
 },
 "nbformat": 4,
 "nbformat_minor": 4
}
