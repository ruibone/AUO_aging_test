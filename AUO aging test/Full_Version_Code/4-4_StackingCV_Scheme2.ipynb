{
 "cells": [
  {
   "cell_type": "code",
   "execution_count": 1,
   "metadata": {
    "ExecuteTime": {
     "end_time": "2021-10-18T15:08:18.610450Z",
     "start_time": "2021-10-18T15:08:17.207170Z"
    }
   },
   "outputs": [
    {
     "data": {
      "text/plain": [
       "'C:\\\\Users\\\\user\\\\Desktop\\\\Darui_R08621110'"
      ]
     },
     "execution_count": 1,
     "metadata": {},
     "output_type": "execute_result"
    }
   ],
   "source": [
    "import os\n",
    "import numpy as np\n",
    "import pandas as pd\n",
    "import matplotlib.pyplot as plt\n",
    "import pickle\n",
    "from tqdm.auto import tqdm\n",
    "\n",
    "from sklearn.linear_model import LogisticRegression, Ridge\n",
    "from sklearn.ensemble import ExtraTreesClassifier, ExtraTreesRegressor, RandomForestClassifier, RandomForestRegressor\n",
    "from sklearn.model_selection import train_test_split\n",
    "from catboost import CatBoostClassifier, CatBoostRegressor\n",
    "from lightgbm import LGBMClassifier, LGBMRegressor\n",
    "from xgboost import XGBClassifier, XGBRegressor\n",
    "import optuna\n",
    "\n",
    "from library.Data_Preprocessing import Balance_Ratio, train_col\n",
    "from library.Imbalance_Sampling import label_divide\n",
    "from library.Aging_Score_Contour import score1\n",
    "from library.AdaBoost import train_set, multiple_set, multiple_month, line_chart, cf_matrix, AUC, PR_curve, \\\n",
    "     multiple_curve, PR_matrix, best_threshold, all_optuna, optuna_history\n",
    "from library.XGBoost import XGBoost_creator\n",
    "from library.LightGBM import LightGBM_creator\n",
    "from library.CatBoost import CatBoost_creator\n",
    "from library.Random_Forest import RandomForest_creator\n",
    "from library.Extra_Trees import ExtraTrees_creator\n",
    "from library.StackingCV_Scheme3 import optimize_base, stratified_data, runall_LR, runall_RidgeR, stackingCV_creator, \\\n",
    "    correlation_plot, vif, rank_importance\n",
    "\n",
    "os.chdir('C:/Users/user/Desktop/Darui_R08621110')  \n",
    "os.getcwd()"
   ]
  },
  {
   "cell_type": "markdown",
   "metadata": {},
   "source": [
    "## "
   ]
  },
  {
   "cell_type": "markdown",
   "metadata": {},
   "source": [
    "### transform data by base learner"
   ]
  },
  {
   "cell_type": "code",
   "execution_count": null,
   "metadata": {
    "ExecuteTime": {
     "end_time": "2021-10-16T15:51:51.322580Z",
     "start_time": "2021-10-16T15:51:51.287791Z"
    }
   },
   "outputs": [],
   "source": [
    "def transform_train(train_data, mode, base_param, cv):\n",
    "    \n",
    "    num_set = len(train_data.keys())\n",
    "    month_list = list(base_param.keys())\n",
    "    model_list = list(base_param[month_list[0]].keys())\n",
    "    set_dict = {} \n",
    "    for i in tqdm(range(num_set)):\n",
    "        \n",
    "        train_x_dict, train_y_dict, valid_x_dict, valid_y_dict = stratified_data(train_data[f'set{i}'], cv = cv)\n",
    "        all_month = pd.DataFrame()\n",
    "        for month in tqdm(month_list):    \n",
    "            \n",
    "            all_cv = pd.DataFrame()\n",
    "            for j in range(cv):\n",
    "                \n",
    "                model_predict = pd.DataFrame()\n",
    "                if mode == 'C':\n",
    "\n",
    "                    if 'XGBoost' in model_list:                     \n",
    "                        clf = XGBClassifier(**base_param[month]['XGBoost'][f'set{i}'], n_jobs = -1)\n",
    "                        clf.fit(train_x_dict[j], train_y_dict[j])\n",
    "                        predict_y = clf.predict_proba(valid_x_dict[j])\n",
    "                        predict = pd.DataFrame({f'X_{month}': predict_y[:, 0]})\n",
    "                        model_predict = pd.concat([model_predict, predict], axis = 1)\n",
    "\n",
    "                    if 'LightGBM' in model_list:                        \n",
    "                        clf = LGBMClassifier(**base_param[month]['LightGBM'][f'set{i}'])\n",
    "                        clf.fit(train_x_dict[j], train_y_dict[j])\n",
    "                        predict_y = clf.predict_proba(valid_x_dict[j])\n",
    "                        predict = pd.DataFrame({f'L_{month}': predict_y[:, 0]})\n",
    "                        model_predict = pd.concat([model_predict, predict], axis = 1)\n",
    "                        \n",
    "                    if 'CatBoost' in model_list:\n",
    "                        clf = CatBoostClassifier(**base_param[month]['CatBoost'][f'set{i}'])\n",
    "                        clf.fit(train_x_dict[j], train_y_dict[j])\n",
    "                        predict_y = clf.predict_proba(valid_x_dict[j])\n",
    "                        predict = pd.DataFrame({f'C_{month}': predict_y[:, 0]})\n",
    "                        model_predict = pd.concat([model_predict, predict], axis = 1)\n",
    "                        \n",
    "                    if 'RandomForest' in model_list:\n",
    "                        clf = RandomForestClassifier(**base_param[month]['RandomForest'][f'set{i}'])\n",
    "                        clf.fit(train_x_dict[j], train_y_dict[j])\n",
    "                        predict_y = clf.predict_proba(valid_x_dict[j])\n",
    "                        predict = pd.DataFrame({f'R_{month}': predict_y[:, 0]})\n",
    "                        model_predict = pd.concat([model_predict, predict], axis = 1)\n",
    "                        \n",
    "                    if 'ExtraTrees' in model_list:\n",
    "                        clf = ExtraTreesClassifier(**base_param[month]['ExtraTrees'][f'set{i}'])\n",
    "                        clf.fit(train_x_dict[j], train_y_dict[j])\n",
    "                        predict_y = clf.predict_proba(valid_x_dict[j])\n",
    "                        predict = pd.DataFrame({f'E_{month}': predict_y[:, 0]})\n",
    "                        model_predict = pd.concat([model_predict, predict], axis = 1)\n",
    "                        \n",
    "                elif mode == 'R':\n",
    "                    \n",
    "                    if 'XGBoost' in model_list:\n",
    "                        reg = XGBRegressor(**base_param[month]['XGBoost'][f'set{i}'], n_jobs = -1)\n",
    "                        reg.fit(train_x_dict[j], train_y_dict[j])\n",
    "                        predict_y = reg.predict(valid_x_dict[j])\n",
    "                        predict = pd.DataFrame({f'X_{month}': predict_y})\n",
    "                        model_predict = pd.concat([model_predict, predict], axis = 1)\n",
    "\n",
    "                    if 'LightGBM' in model_list:\n",
    "                        reg = LGBMRegressor(**base_param[month]['LightGBM'][f'set{i}'])\n",
    "                        reg.fit(train_x_dict[j], train_y_dict[j])\n",
    "                        predict_y = reg.predict(valid_x_dict[j])\n",
    "                        predict = pd.DataFrame({f'L_{month}': predict_y})\n",
    "                        model_predict = pd.concat([model_predict, predict], axis = 1)\n",
    "                        \n",
    "                    if 'CatBoost' in model_list:\n",
    "                        reg = CatBoostRegressor(**base_param[month]['CatBoost'][f'set{i}'])\n",
    "                        reg.fit(train_x_dict[j], train_y_dict[j])\n",
    "                        predict_y = reg.predict(valid_x_dict[j])\n",
    "                        predict = pd.DataFrame({f'C_{month}': predict_y})\n",
    "                        model_predict = pd.concat([model_predict, predict], axis = 1)\n",
    "                        \n",
    "                    if 'RandomForest' in model_list:\n",
    "                        reg = RandomForestRegressor(**base_param[month]['RandomForest'][f'set{i}'])\n",
    "                        reg.fit(train_x_dict[j], train_y_dict[j])\n",
    "                        predict_y = reg.predict(valid_x_dict[j])\n",
    "                        predict = pd.DataFrame({f'R_{month}': predict_y})\n",
    "                        model_predict = pd.concat([model_predict, predict], axis = 1)\n",
    "                    \n",
    "                    if 'ExtraTrees' in model_list:\n",
    "                        reg = ExtraTreesRegressor(**base_param[month]['ExtraTrees'][f'set{i}'])\n",
    "                        reg.fit(train_x_dict[j], train_y_dict[j])\n",
    "                        predict_y = reg.predict(valid_x_dict[j])\n",
    "                        predict = pd.DataFrame({f'E_{month}': predict_y})\n",
    "                        model_predict = pd.concat([model_predict, predict], axis = 1)\n",
    "                        \n",
    "                test_label = valid_y_dict[j].reset_index(drop = True)\n",
    "                done_cv = pd.concat([model_predict, test_label], axis = 1)\n",
    "                all_cv = pd.concat([all_cv, done_cv], axis = 0)                \n",
    "        \n",
    "            all_month = pd.concat([all_month, all_cv], axis = 1)\n",
    "            if month != month_list[-1]:\n",
    "                all_month = all_month.drop(columns = 'GB')\n",
    "        \n",
    "        set_dict[f'set{i}'] = all_month\n",
    "    \n",
    "    return set_dict\n",
    "\n",
    "\n",
    "def transform_test(train_data, test_data, mode, base_param):\n",
    "    \n",
    "    month_list = list(base_param.keys())\n",
    "    model_list = list(base_param[month_list[0]].keys())\n",
    "    num_set = len(train_data[month_list[0]].keys())\n",
    "    test_dict = {}\n",
    "    for i in tqdm(range(num_set)):\n",
    "        \n",
    "        month_test = pd.DataFrame()\n",
    "        for month in tqdm(month_list):\n",
    "            \n",
    "            select_test = train_col(train_data[month][f'set{i}'], test_data)\n",
    "            train_x, train_y, test_x, test_y = label_divide(train_data[month][f'set{i}'], select_test, train_only = False)\n",
    "            model_predict = pd.DataFrame()\n",
    "            if mode == 'C':\n",
    "\n",
    "                if 'XGBoost' in model_list:\n",
    "                    clf = XGBClassifier(**base_param[month]['XGBoost'][f'set{i}'], n_jobs = -1)\n",
    "                    clf.fit(train_x, train_y)\n",
    "                    predict_y = clf.predict_proba(test_x)\n",
    "                    predict = pd.DataFrame({f'X_{month}': predict_y[:, 0]})\n",
    "                    model_predict = pd.concat([model_predict, predict], axis = 1)\n",
    "\n",
    "                if 'LightGBM' in model_list:\n",
    "                    clf = LGBMClassifier(**base_param[month]['LightGBM'][f'set{i}'])\n",
    "                    clf.fit(train_x, train_y)\n",
    "                    predict_y = clf.predict_proba(test_x)\n",
    "                    predict = pd.DataFrame({f'L_{month}': predict_y[:, 0]})\n",
    "                    model_predict = pd.concat([model_predict, predict], axis = 1)\n",
    "\n",
    "                if 'CatBoost' in model_list:\n",
    "                    clf = CatBoostClassifier(**base_param[month]['CatBoost'][f'set{i}'])\n",
    "                    clf.fit(train_x, train_y)\n",
    "                    predict_y = clf.predict_proba(test_x)\n",
    "                    predict = pd.DataFrame({f'C_{month}': predict_y[:, 0]})\n",
    "                    model_predict = pd.concat([model_predict, predict], axis = 1)\n",
    "\n",
    "                if 'RandomForest' in model_list:\n",
    "                    clf = RandomForestClassifier(**base_param[month]['RandomForest'][f'set{i}'])\n",
    "                    clf.fit(train_x, train_y)\n",
    "                    predict_y = clf.predict_proba(test_x)\n",
    "                    predict = pd.DataFrame({f'R_{month}': predict_y[:, 0]})\n",
    "                    model_predict = pd.concat([model_predict, predict], axis = 1)\n",
    "\n",
    "                if 'ExtraTrees' in model_list:\n",
    "                    clf = ExtraTreesClassifier(**base_param[month]['ExtraTrees'][f'set{i}'])\n",
    "                    clf.fit(train_x, train_y)\n",
    "                    predict_y = clf.predict_proba(test_x)\n",
    "                    predict = pd.DataFrame({f'E_{month}': predict_y[:, 0]})\n",
    "                    model_predict = pd.concat([model_predict, predict], axis = 1)\n",
    "\n",
    "            elif mode == 'R':\n",
    "\n",
    "                if 'XGBoost' in model_list:\n",
    "                    reg = XGBRegressor(**base_param[month]['XGBoost'][f'set{i}'], n_jobs = -1)\n",
    "                    reg.fit(train_x, train_y)\n",
    "                    predict_y = reg.predict(test_x)\n",
    "                    predict = pd.DataFrame({f'X_{month}': predict_y})\n",
    "                    model_predict = pd.concat([model_predict, predict], axis = 1)\n",
    "\n",
    "                if 'LightGBM' in model_list:\n",
    "                    reg = LGBMRegressor(**base_param[month]['LightGBM'][f'set{i}'])\n",
    "                    reg.fit(train_x, train_y)\n",
    "                    predict_y = reg.predict(test_x)\n",
    "                    predict = pd.DataFrame({f'L_{month}': predict_y})\n",
    "                    model_predict = pd.concat([model_predict, predict], axis = 1)\n",
    "\n",
    "                if 'CatBoost' in model_list:\n",
    "                    reg = CatBoostRegressor(**base_param[month]['CatBoost'][f'set{i}'])\n",
    "                    reg.fit(train_x, train_y)\n",
    "                    predict_y = reg.predict(test_x)\n",
    "                    predict = pd.DataFrame({f'C_{month}': predict_y})\n",
    "                    model_predict = pd.concat([model_predict, predict], axis = 1)\n",
    "\n",
    "                if 'RandomForest' in model_list:\n",
    "                    reg = RandomForestRegressor(**base_param[month]['RandomForest'][f'set{i}'])\n",
    "                    reg.fit(train_x, train_y)\n",
    "                    predict_y = reg.predict(test_x)\n",
    "                    predict = pd.DataFrame({f'R_{month}': predict_y})\n",
    "                    model_predict = pd.concat([model_predict, predict], axis = 1)\n",
    "\n",
    "                if 'ExtraTrees' in model_list:\n",
    "                    reg = ExtraTreesRegressor(**base_param[month]['ExtraTrees'][f'set{i}'])\n",
    "                    reg.fit(train_x, train_y)\n",
    "                    predict_y = reg.predict(test_x)\n",
    "                    predict = pd.DataFrame({f'E_{month}': predict_y})\n",
    "                    model_predict = pd.concat([model_predict, predict], axis = 1)\n",
    "\n",
    "            month_test = pd.concat([month_test, model_predict], axis = 1)\n",
    "        month_done = pd.concat([month_test, test_y], axis = 1)\n",
    "        test_dict[f'set{i}'] = month_done\n",
    "        \n",
    "    return test_dict"
   ]
  },
  {
   "cell_type": "markdown",
   "metadata": {
    "heading_collapsed": true
   },
   "source": [
    "### optuna"
   ]
  },
  {
   "cell_type": "code",
   "execution_count": null,
   "metadata": {
    "ExecuteTime": {
     "end_time": "2021-10-12T15:33:24.040156Z",
     "start_time": "2021-10-12T15:33:24.031132Z"
    },
    "hidden": true
   },
   "outputs": [],
   "source": [
    "def stackingCV_creator(train_data, mode, num_valid = 3) :\n",
    "    \n",
    "    def objective(trial) :\n",
    "        # hyperparameters randomize setting\n",
    "        if mode == 'C' :\n",
    "            meta_learner = 'Logistic Regression'\n",
    "            \n",
    "            if meta_learner == 'Logistic Regression' :      \n",
    "                param = {\n",
    "                    'solver': 'lbfgs',\n",
    "                    'C': trial.suggest_categorical('C', [100, 10 ,1 ,0.1, 0.01]),\n",
    "                    'penalty': trial.suggest_categorical('penalty', ['none', 'l2']),\n",
    "                    'n_jobs': -1\n",
    "                }\n",
    "\n",
    "            elif meta_learner == 'Extra Trees' :\n",
    "                param = {\n",
    "                    'n_estimators': trial.suggest_int('n_estimators', 100, 500, step = 100),\n",
    "                    'min_samples_split': trial.suggest_int('min_samples_split', 2, 32, step = 5),\n",
    "                    'max_depth': trial.suggest_int('max_depth', 3, 21, step = 3),\n",
    "                    'n_jobs': -1\n",
    "                }     \n",
    "\n",
    "        elif mode == 'R' :\n",
    "            meta_learner = 'RidgeCV'\n",
    "            \n",
    "            if meta_learner == 'RidgeCV' :\n",
    "                param = {\n",
    "                    'alpha': trial.suggest_float('alpha', 0, 1, step = 0.1)\n",
    "                }\n",
    "            \n",
    "            elif meta_learner == 'Extra Trees' :\n",
    "                param = {\n",
    "                    'n_estimators': trial.suggest_int('n_estimators', 100, 500, step = 100),\n",
    "                    'min_samples_split': trial.suggest_int('min_samples_split', 2, 32, step = 5),\n",
    "                    'max_depth': trial.suggest_int('max_depth', 3, 21, step = 3),\n",
    "                    'n_jobs': -1\n",
    "                }\n",
    "        \n",
    "        # objective function\n",
    "        result_list = []\n",
    "        for i in range(num_valid):\n",
    "\n",
    "            train_x, train_y = label_divide(train_data, None, 'GB', train_only = True)\n",
    "            train_x, valid_x, train_y, valid_y = train_test_split(train_x, train_y, test_size = 0.25)\n",
    "\n",
    "            if mode == 'C':\n",
    "                result, _ = LR(train_x, valid_x, train_y, valid_y, param)\n",
    "                table = cf_matrix(result, valid_y)\n",
    "                recall = table['Recall']\n",
    "                aging = table['Aging Rate']\n",
    "                result_list.append(recall - 0.1*aging)\n",
    "\n",
    "            elif mode == 'R':\n",
    "                result, _ = RidgeR(train_x, valid_x, train_y, valid_y, param)\n",
    "                pr_matrix = PR_matrix(result, valid_y)\n",
    "                auc = AUC(pr_matrix['Recall'], pr_matrix['Aging Rate'])\n",
    "                result_list.append((-1)*auc)\n",
    "\n",
    "        return np.mean(result_list)\n",
    "    \n",
    "    return objective"
   ]
  },
  {
   "cell_type": "markdown",
   "metadata": {},
   "source": [
    "## "
   ]
  },
  {
   "cell_type": "markdown",
   "metadata": {},
   "source": [
    "### loading training & testing data"
   ]
  },
  {
   "cell_type": "code",
   "execution_count": null,
   "metadata": {
    "ExecuteTime": {
     "end_time": "2021-10-16T15:51:56.127489Z",
     "start_time": "2021-10-16T15:51:53.930655Z"
    },
    "scrolled": true
   },
   "outputs": [],
   "source": [
    "### training data ### \n",
    "training_month = [2, 3, 4]\n",
    "\n",
    "data_dict, trainset_x, trainset_y = multiple_month(training_month, num_set = 10, filename = 'dataset')\n",
    "\n",
    "print('\\nCombined training data:\\n')\n",
    "run_train = multiple_set(num_set = 10)\n",
    "run_train_x, run_train_y = train_set(run_train, num_set = 10)\n",
    "\n",
    "### testing data ###\n",
    "run_test = pd.read_csv('test_runhist.csv').iloc[:, 2:]\n",
    "run_test_x, run_test_y = label_divide(run_test, None, 'GB', train_only = True)\n",
    "print('\\n', 'Dimension of testing data:', run_test.shape)"
   ]
  },
  {
   "cell_type": "markdown",
   "metadata": {},
   "source": [
    "## base learner"
   ]
  },
  {
   "cell_type": "markdown",
   "metadata": {},
   "source": [
    "### optimize the base learners by one-month data"
   ]
  },
  {
   "cell_type": "code",
   "execution_count": null,
   "metadata": {
    "ExecuteTime": {
     "end_time": "2021-10-16T21:22:11.932068Z",
     "start_time": "2021-10-16T15:52:11.120368Z"
    },
    "scrolled": true
   },
   "outputs": [],
   "source": [
    "##### for both training & testing data transformation ##### \n",
    "base_param_monthC = optimize_base(num_set = 10, \n",
    "                                  train_data = data_dict, \n",
    "                                  mode = 'C', \n",
    "                                  TPE_multi = True, \n",
    "                                  base_list = ['XGBoost', 'LightGBM'],\n",
    "                                  iter_list = [200, 200],\n",
    "                                  filename = 'runhist_array_4criteria_m2m5')\n",
    " \n",
    "base_param_monthR = optimize_base(num_set = 10, \n",
    "                                  train_data = data_dict, \n",
    "                                  mode = 'R', \n",
    "                                  TPE_multi = True, \n",
    "                                  base_list = ['XGBoost', 'LightGBM'],\n",
    "                                  iter_list = [200, 200],\n",
    "                                  filename = 'runhist_array_4criteria_m2m5')"
   ]
  },
  {
   "cell_type": "markdown",
   "metadata": {},
   "source": [
    "### data transform for scheme 2"
   ]
  },
  {
   "cell_type": "code",
   "execution_count": null,
   "metadata": {
    "ExecuteTime": {
     "end_time": "2021-10-16T21:43:06.865781Z",
     "start_time": "2021-10-16T21:22:13.103667Z"
    }
   },
   "outputs": [],
   "source": [
    "train_firstC = transform_train(run_train,  \n",
    "                               mode = 'C', \n",
    "                               base_param = base_param_monthC, \n",
    "                               cv = 5)\n",
    "test_firstC = transform_test(data_dict,\n",
    "                             run_test, \n",
    "                             mode = 'C', \n",
    "                             base_param = base_param_monthC)\n",
    "train_firstC_x, train_firstC_y = train_set(train_firstC, num_set = 10)\n",
    "test_firstC_x, test_firstC_y = train_set(test_firstC, num_set = 10) \n",
    "\n",
    "train_firstR = transform_train(run_train, \n",
    "                               mode = 'R', \n",
    "                               base_param = base_param_monthR, \n",
    "                               cv = 5)\n",
    "test_firstR = transform_test(data_dict, \n",
    "                             run_test, \n",
    "                             mode = 'R', \n",
    "                             base_param = base_param_monthR)\n",
    "train_firstR_x, train_firstR_y = train_set(train_firstR, num_set = 10)\n",
    "test_firstR_x, test_firstR_y = train_set(test_firstR, num_set = 10) "
   ]
  },
  {
   "cell_type": "markdown",
   "metadata": {},
   "source": [
    "## meta learner"
   ]
  },
  {
   "cell_type": "markdown",
   "metadata": {},
   "source": [
    "### searching for best hyperparameters"
   ]
  },
  {
   "cell_type": "code",
   "execution_count": null,
   "metadata": {
    "ExecuteTime": {
     "end_time": "2021-10-16T21:44:14.697555Z",
     "start_time": "2021-10-16T21:43:08.818447Z"
    },
    "scrolled": true
   },
   "outputs": [],
   "source": [
    "best_paramC, _ = all_optuna(num_set = 10, \n",
    "                            all_data = train_firstC, \n",
    "                            mode = 'C', \n",
    "                            TPE_multi = True, \n",
    "                            n_iter = 10,\n",
    "                            filename = f'runhist_array_4criteria_m2m5_StackingCV2',\n",
    "                            creator = stackingCV_creator\n",
    ")\n",
    "\n",
    "best_paramR, _ = all_optuna(num_set = 10, \n",
    "                            all_data = train_firstR, \n",
    "                            mode = 'R', \n",
    "                            TPE_multi = True, \n",
    "                            n_iter = 10,\n",
    "                            filename = f'runhist_array_4criteria_m2m5_StackingCV2',\n",
    "                            creator = stackingCV_creator\n",
    ")"
   ]
  },
  {
   "cell_type": "markdown",
   "metadata": {},
   "source": [
    "### feature selection by feature importance"
   ]
  },
  {
   "cell_type": "code",
   "execution_count": null,
   "metadata": {
    "ExecuteTime": {
     "end_time": "2021-10-18T14:10:25.875489Z",
     "start_time": "2021-10-18T14:10:16.936478Z"
    }
   },
   "outputs": [],
   "source": [
    "rank_importance(train_firstR['set7'], mode = 'R')"
   ]
  },
  {
   "cell_type": "markdown",
   "metadata": {},
   "source": [
    "### classifier"
   ]
  },
  {
   "cell_type": "code",
   "execution_count": null,
   "metadata": {
    "ExecuteTime": {
     "end_time": "2021-10-16T21:44:17.586360Z",
     "start_time": "2021-10-16T21:44:16.674632Z"
    }
   },
   "outputs": [],
   "source": [
    "table_setC, coefC = runall_LR(10, train_firstC_x, test_firstC_x, train_firstC_y, test_firstC_y, best_paramC)\n",
    "line_chart(table_setC, title = 'StackingCV Classifier (scheme 2)')"
   ]
  },
  {
   "cell_type": "code",
   "execution_count": null,
   "metadata": {
    "ExecuteTime": {
     "end_time": "2021-10-16T21:44:19.570277Z",
     "start_time": "2021-10-16T21:44:19.539013Z"
    }
   },
   "outputs": [],
   "source": [
    "print(coefC)\n",
    "table_setC"
   ]
  },
  {
   "cell_type": "markdown",
   "metadata": {},
   "source": [
    "### regressor"
   ]
  },
  {
   "cell_type": "code",
   "execution_count": null,
   "metadata": {
    "ExecuteTime": {
     "end_time": "2021-10-17T02:28:36.009163Z",
     "start_time": "2021-10-17T02:28:35.375882Z"
    }
   },
   "outputs": [],
   "source": [
    "pr_dict, table_setR, coefR = runall_RidgeR(10, train_firstR_x, test_firstR_x, train_firstR_y, test_firstR_y, \n",
    "                                           best_paramR, thres_target = 'Recall', threshold = 0.7)\n",
    "line_chart(table_setR, title = 'StackingCV Regressor (scheme 2)')"
   ]
  },
  {
   "cell_type": "code",
   "execution_count": null,
   "metadata": {
    "ExecuteTime": {
     "end_time": "2021-10-17T02:28:47.866792Z",
     "start_time": "2021-10-17T02:28:45.025308Z"
    }
   },
   "outputs": [],
   "source": [
    "multiple_curve(4, 3, pr_dict, table_setR, target = 'Aging Rate')\n",
    "multiple_curve(4, 3, pr_dict, table_setR, target = 'Precision')\n",
    "print(coefR)\n",
    "table_setR"
   ]
  },
  {
   "cell_type": "markdown",
   "metadata": {},
   "source": [
    "### export"
   ]
  },
  {
   "cell_type": "code",
   "execution_count": null,
   "metadata": {
    "ExecuteTime": {
     "end_time": "2021-10-16T21:44:29.473404Z",
     "start_time": "2021-10-16T21:44:29.066732Z"
    }
   },
   "outputs": [],
   "source": [
    "savedate = '20211019'\n",
    "TPE_multi = True\n",
    "\n",
    "table_setC['sampler'] = 'multivariate-TPE' if TPE_multi else 'univariate-TPE'\n",
    "table_setR['sampler'] = 'multivariate-TPE' if TPE_multi else 'univariate-TPE'\n",
    "table_setC['model'] = 'StackingCV 2'\n",
    "table_setR['model'] = 'StackingCV 2'\n",
    "with pd.ExcelWriter(f'{savedate}_Classifier.xlsx', mode = 'a') as writer:\n",
    "    table_setC.to_excel(writer, sheet_name = 'StackingCV_2')\n",
    "with pd.ExcelWriter(f'{savedate}_Regressor.xlsx', mode = 'a') as writer:\n",
    "    table_setR.to_excel(writer, sheet_name = 'StackingCV_2')"
   ]
  }
 ],
 "metadata": {
  "hide_input": false,
  "kernelspec": {
   "display_name": "Python [conda env:aging]",
   "language": "python",
   "name": "conda-env-aging-py"
  },
  "language_info": {
   "codemirror_mode": {
    "name": "ipython",
    "version": 3
   },
   "file_extension": ".py",
   "mimetype": "text/x-python",
   "name": "python",
   "nbconvert_exporter": "python",
   "pygments_lexer": "ipython3",
   "version": "3.7.10"
  },
  "toc": {
   "base_numbering": 1,
   "nav_menu": {},
   "number_sections": true,
   "sideBar": true,
   "skip_h1_title": false,
   "title_cell": "Table of Contents",
   "title_sidebar": "Contents",
   "toc_cell": false,
   "toc_position": {},
   "toc_section_display": true,
   "toc_window_display": false
  },
  "varInspector": {
   "cols": {
    "lenName": 16,
    "lenType": 16,
    "lenVar": 40
   },
   "kernels_config": {
    "python": {
     "delete_cmd_postfix": "",
     "delete_cmd_prefix": "del ",
     "library": "var_list.py",
     "varRefreshCmd": "print(var_dic_list())"
    },
    "r": {
     "delete_cmd_postfix": ") ",
     "delete_cmd_prefix": "rm(",
     "library": "var_list.r",
     "varRefreshCmd": "cat(var_dic_list()) "
    }
   },
   "types_to_exclude": [
    "module",
    "function",
    "builtin_function_or_method",
    "instance",
    "_Feature"
   ],
   "window_display": false
  }
 },
 "nbformat": 4,
 "nbformat_minor": 4
}
