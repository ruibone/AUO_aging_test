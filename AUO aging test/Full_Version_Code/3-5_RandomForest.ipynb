{
 "cells": [
  {
   "cell_type": "code",
   "execution_count": 1,
   "metadata": {
    "ExecuteTime": {
     "end_time": "2021-12-13T04:21:51.372438Z",
     "start_time": "2021-12-13T04:21:50.063229Z"
    }
   },
   "outputs": [
    {
     "data": {
      "text/plain": [
       "'C:\\\\Users\\\\user\\\\Desktop\\\\Darui_R08621110'"
      ]
     },
     "execution_count": 1,
     "metadata": {},
     "output_type": "execute_result"
    }
   ],
   "source": [
    "import os\n",
    "import numpy as np\n",
    "import pandas as pd\n",
    "import pickle\n",
    "from tqdm.auto import tqdm\n",
    "import matplotlib.pyplot as plt\n",
    "\n",
    "from sklearn.ensemble import RandomForestClassifier, RandomForestRegressor\n",
    "import optuna\n",
    "from sklearn.model_selection import train_test_split\n",
    "\n",
    "from library.Data_Preprocessing import Balance_Ratio\n",
    "from library.Imbalance_Sampling import label_divide\n",
    "from library.Aging_Score_Contour import score1\n",
    "from library.AdaBoost import train_set, multiple_set, multiple_month, line_chart, cf_matrix, AUC, PR_curve, \\\n",
    "     multiple_curve, PR_matrix, best_threshold, all_optuna, optuna_history \n",
    "\n",
    "os.chdir('C:/Users/user/Desktop/Darui_R08621110') \n",
    "os.getcwd()"
   ]
  },
  {
   "cell_type": "markdown",
   "metadata": {},
   "source": [
    "## "
   ]
  },
  {
   "cell_type": "markdown",
   "metadata": {},
   "source": [
    "### random forest"
   ]
  },
  {
   "cell_type": "code",
   "execution_count": 2,
   "metadata": {
    "ExecuteTime": {
     "end_time": "2021-12-13T04:21:51.446845Z",
     "start_time": "2021-12-13T04:21:51.420180Z"
    }
   },
   "outputs": [],
   "source": [
    "def RandomForestC(train_x, test_x, train_y, test_y, config):\n",
    "    \n",
    "    clf = RandomForestClassifier(**config, n_jobs = -1)\n",
    "    clf.fit(train_x, train_y)\n",
    "    predict_y = clf.predict(test_x)\n",
    "    result = pd.DataFrame({'truth': test_y, 'predict': predict_y})\n",
    "    \n",
    "    return result\n",
    "\n",
    "\n",
    "def RandomForestR(train_x, test_x, train_y, test_y, config):\n",
    "    \n",
    "    clf = RandomForestRegressor(**config, n_jobs = -1)\n",
    "    clf.fit(train_x, train_y)\n",
    "    predict_y = clf.predict(test_x)\n",
    "    result = pd.DataFrame({'truth': test_y, 'predict': predict_y})\n",
    "    \n",
    "    return result\n",
    "\n",
    "\n",
    "def runall_ForestC(num_set, trainset_x, test_x, trainset_y, test_y, config):\n",
    "    \n",
    "    table_set = pd.DataFrame()\n",
    "    bad_set = pd.DataFrame()\n",
    "    judge = list(config.keys())[0]\n",
    "\n",
    "    for i in range(num_set):\n",
    "        print('\\n', f'Dataset {i}:')\n",
    "        \n",
    "        if isinstance(config[judge], dict) :\n",
    "            best_config = config[f'set{i}']\n",
    "        else :\n",
    "            best_config = config\n",
    "        \n",
    "        result = RandomForestC(trainset_x[f'set{i}'], test_x, trainset_y[f'set{i}'], test_y, best_config)\n",
    "        table = cf_matrix(result, trainset_y[f'set{i}'])\n",
    "        table_set = pd.concat([table_set, table]).rename(index = {0: f'dataset {i}'})\n",
    "\n",
    "    return table_set\n",
    "    \n",
    "    \n",
    "def runall_ForestR(num_set, trainset_x, test_x, trainset_y, test_y, config, thres_target = 'Recall', threshold = 0.8):\n",
    "    \n",
    "    table_set = pd.DataFrame()\n",
    "    bad_set = pd.DataFrame()\n",
    "    pr_dict = {}\n",
    "    judge = list(config.keys())[0]\n",
    "\n",
    "    for i in range(num_set):\n",
    "        print('\\n', f'Dataset {i}:')\n",
    "        \n",
    "        if isinstance(config[judge], dict) :\n",
    "            best_config = config[f'set{i}']\n",
    "        else :\n",
    "            best_config = config\n",
    "\n",
    "        predict = RandomForestR(trainset_x[f'set{i}'], test_x, trainset_y[f'set{i}'], test_y, best_config)\n",
    "        pr_matrix = PR_matrix(predict, trainset_y[f'set{i}'])\n",
    "        pr_dict[f'set{i}'] = pr_matrix\n",
    "        \n",
    "        best_data, best_thres = best_threshold(pr_matrix, target = thres_target, threshold = threshold)\n",
    "        table_set = pd.concat([table_set, best_data]).rename(index = {best_data.index.values[0]: f'dataset {i}'})\n",
    "\n",
    "    return pr_dict, table_set"
   ]
  },
  {
   "cell_type": "markdown",
   "metadata": {},
   "source": [
    "### optuna"
   ]
  },
  {
   "cell_type": "code",
   "execution_count": 3,
   "metadata": {
    "ExecuteTime": {
     "end_time": "2021-12-13T04:21:52.165564Z",
     "start_time": "2021-12-13T04:21:52.157589Z"
    }
   },
   "outputs": [],
   "source": [
    "def RandomForest_creator(train_data, mode, num_valid = 3, label = 'GB') :\n",
    "    \n",
    "    def objective(trial) :\n",
    "\n",
    "        param = {\n",
    "            'n_estimators': trial.suggest_int('n_estimators', 100, 800, step = 100),\n",
    "            'min_samples_split': trial.suggest_int('min_samples_split', 2, 32, step = 5),\n",
    "            'max_depth': trial.suggest_int('max_depth', 3, 21, step = 3),\n",
    "        }\n",
    "\n",
    "        result_list = []\n",
    "        for i in range(num_valid):\n",
    "\n",
    "            train_good = train_data[train_data.GB == 0]\n",
    "            train_bad = train_data[train_data.GB == 1]\n",
    "            train_good_x, train_good_y = label_divide(train_good, None, label, train_only = True)\n",
    "            train_bad_x, train_bad_y = label_divide(train_bad, None, label, train_only = True)\n",
    "            train_g_x, valid_g_x, train_g_y, valid_g_y = train_test_split(train_good_x, train_good_y, test_size = 0.25)\n",
    "            train_b_x, valid_b_x, train_b_y, valid_b_y = train_test_split(train_bad_x, train_bad_y, test_size = 0.25)\n",
    "            train_x = pd.concat([train_g_x, train_b_x], axis = 0)\n",
    "            train_y = pd.concat([train_g_y, train_b_y], axis = 0)\n",
    "            valid_x = pd.concat([valid_g_x, valid_b_x], axis = 0)\n",
    "            valid_y = pd.concat([valid_g_y, valid_b_y], axis = 0)\n",
    "\n",
    "            if mode == 'C':\n",
    "                result = RandomForestC(train_x, valid_x, train_y, valid_y, param)\n",
    "                table = cf_matrix(result, valid_y)\n",
    "                recall = table['Recall']\n",
    "                precision = table['Precision']\n",
    "                beta = 0.75\n",
    "                fscore = ((1+beta**2)*recall*precision) / (recall+(beta**2)*precision)\n",
    "                result_list.append(fscore)\n",
    "\n",
    "            elif mode == 'R':\n",
    "                result = RandomForestR(train_x, valid_x, train_y, valid_y, param)\n",
    "                pr_matrix = PR_matrix(result, valid_y)\n",
    "                auc = AUC(pr_matrix['Recall'], pr_matrix['Aging Rate'])\n",
    "                result_list.append((-1)*auc)\n",
    "\n",
    "        return np.mean(result_list)\n",
    "    \n",
    "    return objective"
   ]
  },
  {
   "cell_type": "markdown",
   "metadata": {},
   "source": [
    "## "
   ]
  },
  {
   "cell_type": "markdown",
   "metadata": {},
   "source": [
    "### loading training & testing data"
   ]
  },
  {
   "cell_type": "code",
   "execution_count": 4,
   "metadata": {
    "ExecuteTime": {
     "end_time": "2021-12-13T04:21:56.089572Z",
     "start_time": "2021-12-13T04:21:53.661548Z"
    },
    "scrolled": true
   },
   "outputs": [
    {
     "name": "stdout",
     "output_type": "stream",
     "text": [
      "\n",
      "Month 2:\n",
      "\n",
      "Dimension of dataset 0 : (39009, 88)  balance ratio: 564.35\n",
      "Dimension of dataset 1 : (1404, 88)  balance ratio: 1.0\n",
      "Dimension of dataset 2 : (1928, 88)  balance ratio: 1.0\n",
      "Dimension of dataset 3 : (1514, 88)  balance ratio: 1.0\n",
      "Dimension of dataset 4 : (1378, 88)  balance ratio: 1.0\n",
      "Dimension of dataset 5 : (1370, 88)  balance ratio: 1.01\n",
      "Dimension of dataset 6 : (1662, 88)  balance ratio: 0.71\n",
      "Dimension of dataset 7 : (1380, 88)  balance ratio: 1.0\n",
      "Dimension of dataset 8 : (1380, 88)  balance ratio: 1.0\n",
      "Dimension of dataset 9 : (759, 88)  balance ratio: 10.0\n",
      "\n",
      " 10 datasets are loaded.\n",
      "\n",
      "Labels of  10 datasets are divided.\n",
      "\n",
      "Month 3:\n",
      "\n",
      "Dimension of dataset 0 : (60396, 97)  balance ratio: 533.48\n",
      "Dimension of dataset 1 : (2304, 97)  balance ratio: 1.0\n",
      "Dimension of dataset 2 : (3150, 97)  balance ratio: 1.0\n",
      "Dimension of dataset 3 : (2480, 97)  balance ratio: 1.0\n",
      "Dimension of dataset 4 : (2258, 97)  balance ratio: 1.0\n",
      "Dimension of dataset 5 : (2271, 97)  balance ratio: 0.99\n",
      "Dimension of dataset 6 : (2702, 97)  balance ratio: 0.72\n",
      "Dimension of dataset 7 : (2260, 97)  balance ratio: 1.0\n",
      "Dimension of dataset 8 : (2260, 97)  balance ratio: 1.0\n",
      "Dimension of dataset 9 : (1243, 97)  balance ratio: 10.0\n",
      "\n",
      " 10 datasets are loaded.\n",
      "\n",
      "Labels of  10 datasets are divided.\n",
      "\n",
      "Month 4:\n",
      "\n",
      "Dimension of dataset 0 : (57743, 100)  balance ratio: 472.3\n",
      "Dimension of dataset 1 : (2426, 100)  balance ratio: 1.0\n",
      "Dimension of dataset 2 : (3336, 100)  balance ratio: 1.0\n",
      "Dimension of dataset 3 : (2678, 100)  balance ratio: 1.0\n",
      "Dimension of dataset 4 : (2440, 100)  balance ratio: 1.0\n",
      "Dimension of dataset 5 : (2419, 100)  balance ratio: 1.02\n",
      "Dimension of dataset 6 : (2904, 100)  balance ratio: 0.72\n",
      "Dimension of dataset 7 : (2440, 100)  balance ratio: 1.0\n",
      "Dimension of dataset 8 : (2440, 100)  balance ratio: 1.0\n",
      "Dimension of dataset 9 : (1342, 100)  balance ratio: 10.0\n",
      "\n",
      " 10 datasets are loaded.\n",
      "\n",
      "Labels of  10 datasets are divided.\n",
      "\n",
      "Combined training data:\n",
      "\n",
      "Dimension of dataset 0 : (157148, 128)  balance ratio: 515.93\n",
      "Dimension of dataset 1 : (6134, 128)  balance ratio: 1.0\n",
      "Dimension of dataset 2 : (8414, 128)  balance ratio: 1.0\n",
      "Dimension of dataset 3 : (6672, 128)  balance ratio: 1.0\n",
      "Dimension of dataset 4 : (6076, 128)  balance ratio: 1.0\n",
      "Dimension of dataset 5 : (6060, 128)  balance ratio: 1.01\n",
      "Dimension of dataset 6 : (7268, 128)  balance ratio: 0.72\n",
      "Dimension of dataset 7 : (6080, 128)  balance ratio: 1.0\n",
      "Dimension of dataset 8 : (6080, 128)  balance ratio: 1.0\n",
      "Dimension of dataset 9 : (3344, 128)  balance ratio: 10.0\n",
      "\n",
      " 10 datasets are loaded.\n",
      "\n",
      "Labels of  10 datasets are divided.\n",
      "\n",
      " Dimension of testing data: (48649, 128)\n"
     ]
    }
   ],
   "source": [
    "### training data ### \n",
    "training_month = range(2, 5)\n",
    "\n",
    "data_dict, trainset_x, trainset_y = multiple_month(training_month, num_set = 10, filename = 'dataset')\n",
    "\n",
    "print('\\nCombined training data:\\n')\n",
    "run_train = multiple_set(num_set = 10)\n",
    "run_train_x, run_train_y = train_set(run_train, num_set = 10)\n",
    "\n",
    "### testing data ###\n",
    "run_test = pd.read_csv('test_runhist.csv').iloc[:, 2:]\n",
    "run_test_x, run_test_y = label_divide(run_test, None, 'GB', train_only = True)\n",
    "print('\\n', 'Dimension of testing data:', run_test.shape)"
   ]
  },
  {
   "cell_type": "markdown",
   "metadata": {},
   "source": [
    "### search for best hyperparameter"
   ]
  },
  {
   "cell_type": "code",
   "execution_count": 5,
   "metadata": {
    "ExecuteTime": {
     "end_time": "2021-12-13T05:16:27.581788Z",
     "start_time": "2021-12-13T04:21:58.903978Z"
    }
   },
   "outputs": [
    {
     "data": {
      "application/vnd.jupyter.widget-view+json": {
       "model_id": "9dd64c4917704fe091c669c116ba0bb4",
       "version_major": 2,
       "version_minor": 0
      },
      "text/plain": [
       "  0%|          | 0/10 [00:00<?, ?it/s]"
      ]
     },
     "metadata": {},
     "output_type": "display_data"
    },
    {
     "name": "stderr",
     "output_type": "stream",
     "text": [
      "C:\\Users\\user\\anaconda3\\envs\\aging\\lib\\site-packages\\optuna\\samplers\\_tpe\\sampler.py:253: ExperimentalWarning: ``multivariate`` option is an experimental feature. The interface can change in the future.\n",
      "  ExperimentalWarning,\n",
      "\u001b[32m[I 2021-12-13 12:21:58,920]\u001b[0m A new study created in memory with name: no-name-fa879ea1-e59f-483a-bb1a-7116ab2282cc\u001b[0m\n"
     ]
    },
    {
     "name": "stdout",
     "output_type": "stream",
     "text": [
      "Dataset0 :\n"
     ]
    },
    {
     "name": "stderr",
     "output_type": "stream",
     "text": [
      "C:\\Users\\user\\anaconda3\\envs\\aging\\lib\\site-packages\\optuna\\progress_bar.py:47: ExperimentalWarning: Progress bar is experimental (supported from v1.2.0). The interface can change in the future.\n",
      "  self._init_valid()\n"
     ]
    },
    {
     "data": {
      "application/vnd.jupyter.widget-view+json": {
       "model_id": "fd76d97c606449e28405e2f6879c5c82",
       "version_major": 2,
       "version_minor": 0
      },
      "text/plain": [
       "  0%|          | 0/50 [00:00<?, ?it/s]"
      ]
     },
     "metadata": {},
     "output_type": "display_data"
    },
    {
     "name": "stderr",
     "output_type": "stream",
     "text": [
      "C:\\Users\\user\\Desktop\\Darui_R08621110\\Master_Thesis\\AUO aging test\\Full_Version_Code\\library\\Aging_Score_Contour.py:43: RuntimeWarning: invalid value encountered in double_scalars\n",
      "  eff = r/ag\n"
     ]
    },
    {
     "name": "stdout",
     "output_type": "stream",
     "text": [
      "Precision: 0 \n",
      "Recall: 0.0 \n",
      "Aging Rate: 0.0\n"
     ]
    },
    {
     "name": "stderr",
     "output_type": "stream",
     "text": [
      "C:\\Users\\user\\Desktop\\Darui_R08621110\\Master_Thesis\\AUO aging test\\Full_Version_Code\\library\\Aging_Score_Contour.py:43: RuntimeWarning: invalid value encountered in double_scalars\n",
      "  eff = r/ag\n"
     ]
    },
    {
     "name": "stdout",
     "output_type": "stream",
     "text": [
      "Precision: 0 \n",
      "Recall: 0.0 \n",
      "Aging Rate: 0.0\n"
     ]
    },
    {
     "name": "stderr",
     "output_type": "stream",
     "text": [
      "C:\\Users\\user\\Desktop\\Darui_R08621110\\Master_Thesis\\AUO aging test\\Full_Version_Code\\library\\Aging_Score_Contour.py:43: RuntimeWarning: invalid value encountered in double_scalars\n",
      "  eff = r/ag\n"
     ]
    },
    {
     "name": "stdout",
     "output_type": "stream",
     "text": [
      "Precision: 0 \n",
      "Recall: 0.0 \n",
      "Aging Rate: 0.0\n",
      "\u001b[33m[W 2021-12-13 12:22:09,362]\u001b[0m Trial 0 failed, because the objective function returned nan.\u001b[0m\n"
     ]
    },
    {
     "name": "stderr",
     "output_type": "stream",
     "text": [
      "C:\\Users\\user\\Desktop\\Darui_R08621110\\Master_Thesis\\AUO aging test\\Full_Version_Code\\library\\Aging_Score_Contour.py:43: RuntimeWarning: invalid value encountered in double_scalars\n",
      "  eff = r/ag\n"
     ]
    },
    {
     "name": "stdout",
     "output_type": "stream",
     "text": [
      "Precision: 0 \n",
      "Recall: 0.0 \n",
      "Aging Rate: 0.0\n"
     ]
    },
    {
     "name": "stderr",
     "output_type": "stream",
     "text": [
      "C:\\Users\\user\\Desktop\\Darui_R08621110\\Master_Thesis\\AUO aging test\\Full_Version_Code\\library\\Aging_Score_Contour.py:43: RuntimeWarning: invalid value encountered in double_scalars\n",
      "  eff = r/ag\n"
     ]
    },
    {
     "name": "stdout",
     "output_type": "stream",
     "text": [
      "Precision: 0 \n",
      "Recall: 0.0 \n",
      "Aging Rate: 0.0\n"
     ]
    },
    {
     "name": "stderr",
     "output_type": "stream",
     "text": [
      "C:\\Users\\user\\Desktop\\Darui_R08621110\\Master_Thesis\\AUO aging test\\Full_Version_Code\\library\\Aging_Score_Contour.py:43: RuntimeWarning: invalid value encountered in double_scalars\n",
      "  eff = r/ag\n"
     ]
    },
    {
     "name": "stdout",
     "output_type": "stream",
     "text": [
      "Precision: 0 \n",
      "Recall: 0.0 \n",
      "Aging Rate: 0.0\n",
      "\u001b[33m[W 2021-12-13 12:22:36,390]\u001b[0m Trial 1 failed, because the objective function returned nan.\u001b[0m\n"
     ]
    },
    {
     "name": "stderr",
     "output_type": "stream",
     "text": [
      "C:\\Users\\user\\Desktop\\Darui_R08621110\\Master_Thesis\\AUO aging test\\Full_Version_Code\\library\\Aging_Score_Contour.py:43: RuntimeWarning: invalid value encountered in double_scalars\n",
      "  eff = r/ag\n"
     ]
    },
    {
     "name": "stdout",
     "output_type": "stream",
     "text": [
      "Precision: 0 \n",
      "Recall: 0.0 \n",
      "Aging Rate: 0.0\n",
      "Precision: 1.0 \n",
      "Recall: 0.013157894736842105 \n",
      "Aging Rate: 2.5453712423957035e-05\n"
     ]
    },
    {
     "name": "stderr",
     "output_type": "stream",
     "text": [
      "C:\\Users\\user\\Desktop\\Darui_R08621110\\Master_Thesis\\AUO aging test\\Full_Version_Code\\library\\Aging_Score_Contour.py:43: RuntimeWarning: invalid value encountered in double_scalars\n",
      "  eff = r/ag\n"
     ]
    },
    {
     "name": "stdout",
     "output_type": "stream",
     "text": [
      "Precision: 0 \n",
      "Recall: 0.0 \n",
      "Aging Rate: 0.0\n",
      "\u001b[33m[W 2021-12-13 12:22:44,462]\u001b[0m Trial 2 failed, because the objective function returned nan.\u001b[0m\n"
     ]
    },
    {
     "name": "stderr",
     "output_type": "stream",
     "text": [
      "C:\\Users\\user\\Desktop\\Darui_R08621110\\Master_Thesis\\AUO aging test\\Full_Version_Code\\library\\Aging_Score_Contour.py:43: RuntimeWarning: invalid value encountered in double_scalars\n",
      "  eff = r/ag\n"
     ]
    },
    {
     "name": "stdout",
     "output_type": "stream",
     "text": [
      "Precision: 0 \n",
      "Recall: 0.0 \n",
      "Aging Rate: 0.0\n"
     ]
    },
    {
     "name": "stderr",
     "output_type": "stream",
     "text": [
      "C:\\Users\\user\\Desktop\\Darui_R08621110\\Master_Thesis\\AUO aging test\\Full_Version_Code\\library\\Aging_Score_Contour.py:43: RuntimeWarning: invalid value encountered in double_scalars\n",
      "  eff = r/ag\n"
     ]
    },
    {
     "name": "stdout",
     "output_type": "stream",
     "text": [
      "Precision: 0 \n",
      "Recall: 0.0 \n",
      "Aging Rate: 0.0\n"
     ]
    },
    {
     "name": "stderr",
     "output_type": "stream",
     "text": [
      "C:\\Users\\user\\Desktop\\Darui_R08621110\\Master_Thesis\\AUO aging test\\Full_Version_Code\\library\\Aging_Score_Contour.py:43: RuntimeWarning: invalid value encountered in double_scalars\n",
      "  eff = r/ag\n"
     ]
    },
    {
     "name": "stdout",
     "output_type": "stream",
     "text": [
      "Precision: 0 \n",
      "Recall: 0.0 \n",
      "Aging Rate: 0.0\n",
      "\u001b[33m[W 2021-12-13 12:23:22,572]\u001b[0m Trial 3 failed, because the objective function returned nan.\u001b[0m\n"
     ]
    },
    {
     "name": "stderr",
     "output_type": "stream",
     "text": [
      "C:\\Users\\user\\Desktop\\Darui_R08621110\\Master_Thesis\\AUO aging test\\Full_Version_Code\\library\\Aging_Score_Contour.py:43: RuntimeWarning: invalid value encountered in double_scalars\n",
      "  eff = r/ag\n"
     ]
    },
    {
     "name": "stdout",
     "output_type": "stream",
     "text": [
      "Precision: 0 \n",
      "Recall: 0.0 \n",
      "Aging Rate: 0.0\n"
     ]
    },
    {
     "name": "stderr",
     "output_type": "stream",
     "text": [
      "C:\\Users\\user\\Desktop\\Darui_R08621110\\Master_Thesis\\AUO aging test\\Full_Version_Code\\library\\Aging_Score_Contour.py:43: RuntimeWarning: invalid value encountered in double_scalars\n",
      "  eff = r/ag\n"
     ]
    },
    {
     "name": "stdout",
     "output_type": "stream",
     "text": [
      "Precision: 0 \n",
      "Recall: 0.0 \n",
      "Aging Rate: 0.0\n"
     ]
    },
    {
     "name": "stderr",
     "output_type": "stream",
     "text": [
      "C:\\Users\\user\\Desktop\\Darui_R08621110\\Master_Thesis\\AUO aging test\\Full_Version_Code\\library\\Aging_Score_Contour.py:43: RuntimeWarning: invalid value encountered in double_scalars\n",
      "  eff = r/ag\n"
     ]
    },
    {
     "name": "stdout",
     "output_type": "stream",
     "text": [
      "Precision: 0 \n",
      "Recall: 0.0 \n",
      "Aging Rate: 0.0\n",
      "\u001b[33m[W 2021-12-13 12:23:38,340]\u001b[0m Trial 4 failed, because the objective function returned nan.\u001b[0m\n"
     ]
    },
    {
     "name": "stderr",
     "output_type": "stream",
     "text": [
      "C:\\Users\\user\\Desktop\\Darui_R08621110\\Master_Thesis\\AUO aging test\\Full_Version_Code\\library\\Aging_Score_Contour.py:43: RuntimeWarning: invalid value encountered in double_scalars\n",
      "  eff = r/ag\n"
     ]
    },
    {
     "name": "stdout",
     "output_type": "stream",
     "text": [
      "Precision: 0 \n",
      "Recall: 0.0 \n",
      "Aging Rate: 0.0\n"
     ]
    },
    {
     "name": "stderr",
     "output_type": "stream",
     "text": [
      "C:\\Users\\user\\Desktop\\Darui_R08621110\\Master_Thesis\\AUO aging test\\Full_Version_Code\\library\\Aging_Score_Contour.py:43: RuntimeWarning: invalid value encountered in double_scalars\n",
      "  eff = r/ag\n"
     ]
    },
    {
     "name": "stdout",
     "output_type": "stream",
     "text": [
      "Precision: 0 \n",
      "Recall: 0.0 \n",
      "Aging Rate: 0.0\n"
     ]
    },
    {
     "name": "stderr",
     "output_type": "stream",
     "text": [
      "C:\\Users\\user\\Desktop\\Darui_R08621110\\Master_Thesis\\AUO aging test\\Full_Version_Code\\library\\Aging_Score_Contour.py:43: RuntimeWarning: invalid value encountered in double_scalars\n",
      "  eff = r/ag\n"
     ]
    },
    {
     "name": "stdout",
     "output_type": "stream",
     "text": [
      "Precision: 0 \n",
      "Recall: 0.0 \n",
      "Aging Rate: 0.0\n",
      "\u001b[33m[W 2021-12-13 12:24:09,678]\u001b[0m Trial 5 failed, because the objective function returned nan.\u001b[0m\n"
     ]
    },
    {
     "name": "stderr",
     "output_type": "stream",
     "text": [
      "C:\\Users\\user\\Desktop\\Darui_R08621110\\Master_Thesis\\AUO aging test\\Full_Version_Code\\library\\Aging_Score_Contour.py:43: RuntimeWarning: invalid value encountered in double_scalars\n",
      "  eff = r/ag\n"
     ]
    },
    {
     "name": "stdout",
     "output_type": "stream",
     "text": [
      "Precision: 0 \n",
      "Recall: 0.0 \n",
      "Aging Rate: 0.0\n"
     ]
    },
    {
     "name": "stderr",
     "output_type": "stream",
     "text": [
      "C:\\Users\\user\\Desktop\\Darui_R08621110\\Master_Thesis\\AUO aging test\\Full_Version_Code\\library\\Aging_Score_Contour.py:43: RuntimeWarning: invalid value encountered in double_scalars\n",
      "  eff = r/ag\n"
     ]
    },
    {
     "name": "stdout",
     "output_type": "stream",
     "text": [
      "Precision: 0 \n",
      "Recall: 0.0 \n",
      "Aging Rate: 0.0\n"
     ]
    },
    {
     "name": "stderr",
     "output_type": "stream",
     "text": [
      "C:\\Users\\user\\Desktop\\Darui_R08621110\\Master_Thesis\\AUO aging test\\Full_Version_Code\\library\\Aging_Score_Contour.py:43: RuntimeWarning: invalid value encountered in double_scalars\n",
      "  eff = r/ag\n"
     ]
    },
    {
     "name": "stdout",
     "output_type": "stream",
     "text": [
      "Precision: 0 \n",
      "Recall: 0.0 \n",
      "Aging Rate: 0.0\n",
      "\u001b[33m[W 2021-12-13 12:25:02,243]\u001b[0m Trial 6 failed, because the objective function returned nan.\u001b[0m\n"
     ]
    },
    {
     "name": "stderr",
     "output_type": "stream",
     "text": [
      "C:\\Users\\user\\Desktop\\Darui_R08621110\\Master_Thesis\\AUO aging test\\Full_Version_Code\\library\\Aging_Score_Contour.py:43: RuntimeWarning: invalid value encountered in double_scalars\n",
      "  eff = r/ag\n"
     ]
    },
    {
     "name": "stdout",
     "output_type": "stream",
     "text": [
      "Precision: 0 \n",
      "Recall: 0.0 \n",
      "Aging Rate: 0.0\n"
     ]
    },
    {
     "name": "stderr",
     "output_type": "stream",
     "text": [
      "C:\\Users\\user\\Desktop\\Darui_R08621110\\Master_Thesis\\AUO aging test\\Full_Version_Code\\library\\Aging_Score_Contour.py:43: RuntimeWarning: invalid value encountered in double_scalars\n",
      "  eff = r/ag\n"
     ]
    },
    {
     "name": "stdout",
     "output_type": "stream",
     "text": [
      "Precision: 0 \n",
      "Recall: 0.0 \n",
      "Aging Rate: 0.0\n"
     ]
    },
    {
     "name": "stderr",
     "output_type": "stream",
     "text": [
      "C:\\Users\\user\\Desktop\\Darui_R08621110\\Master_Thesis\\AUO aging test\\Full_Version_Code\\library\\Aging_Score_Contour.py:43: RuntimeWarning: invalid value encountered in double_scalars\n",
      "  eff = r/ag\n"
     ]
    },
    {
     "name": "stdout",
     "output_type": "stream",
     "text": [
      "Precision: 0 \n",
      "Recall: 0.0 \n",
      "Aging Rate: 0.0\n",
      "\u001b[33m[W 2021-12-13 12:25:21,485]\u001b[0m Trial 7 failed, because the objective function returned nan.\u001b[0m\n"
     ]
    },
    {
     "name": "stderr",
     "output_type": "stream",
     "text": [
      "C:\\Users\\user\\Desktop\\Darui_R08621110\\Master_Thesis\\AUO aging test\\Full_Version_Code\\library\\Aging_Score_Contour.py:43: RuntimeWarning: invalid value encountered in double_scalars\n",
      "  eff = r/ag\n"
     ]
    },
    {
     "name": "stdout",
     "output_type": "stream",
     "text": [
      "Precision: 0 \n",
      "Recall: 0.0 \n",
      "Aging Rate: 0.0\n"
     ]
    },
    {
     "name": "stderr",
     "output_type": "stream",
     "text": [
      "C:\\Users\\user\\Desktop\\Darui_R08621110\\Master_Thesis\\AUO aging test\\Full_Version_Code\\library\\Aging_Score_Contour.py:43: RuntimeWarning: invalid value encountered in double_scalars\n",
      "  eff = r/ag\n"
     ]
    },
    {
     "name": "stdout",
     "output_type": "stream",
     "text": [
      "Precision: 0 \n",
      "Recall: 0.0 \n",
      "Aging Rate: 0.0\n"
     ]
    },
    {
     "name": "stderr",
     "output_type": "stream",
     "text": [
      "C:\\Users\\user\\Desktop\\Darui_R08621110\\Master_Thesis\\AUO aging test\\Full_Version_Code\\library\\Aging_Score_Contour.py:43: RuntimeWarning: invalid value encountered in double_scalars\n",
      "  eff = r/ag\n"
     ]
    },
    {
     "name": "stdout",
     "output_type": "stream",
     "text": [
      "Precision: 0 \n",
      "Recall: 0.0 \n",
      "Aging Rate: 0.0\n",
      "\u001b[33m[W 2021-12-13 12:25:37,085]\u001b[0m Trial 8 failed, because the objective function returned nan.\u001b[0m\n"
     ]
    },
    {
     "name": "stderr",
     "output_type": "stream",
     "text": [
      "C:\\Users\\user\\Desktop\\Darui_R08621110\\Master_Thesis\\AUO aging test\\Full_Version_Code\\library\\Aging_Score_Contour.py:43: RuntimeWarning: invalid value encountered in double_scalars\n",
      "  eff = r/ag\n"
     ]
    },
    {
     "name": "stdout",
     "output_type": "stream",
     "text": [
      "Precision: 0 \n",
      "Recall: 0.0 \n",
      "Aging Rate: 0.0\n"
     ]
    },
    {
     "name": "stderr",
     "output_type": "stream",
     "text": [
      "C:\\Users\\user\\Desktop\\Darui_R08621110\\Master_Thesis\\AUO aging test\\Full_Version_Code\\library\\Aging_Score_Contour.py:43: RuntimeWarning: invalid value encountered in double_scalars\n",
      "  eff = r/ag\n"
     ]
    },
    {
     "name": "stdout",
     "output_type": "stream",
     "text": [
      "Precision: 0 \n",
      "Recall: 0.0 \n",
      "Aging Rate: 0.0\n"
     ]
    },
    {
     "name": "stderr",
     "output_type": "stream",
     "text": [
      "C:\\Users\\user\\Desktop\\Darui_R08621110\\Master_Thesis\\AUO aging test\\Full_Version_Code\\library\\Aging_Score_Contour.py:43: RuntimeWarning: invalid value encountered in double_scalars\n",
      "  eff = r/ag\n"
     ]
    },
    {
     "name": "stdout",
     "output_type": "stream",
     "text": [
      "Precision: 0 \n",
      "Recall: 0.0 \n",
      "Aging Rate: 0.0\n",
      "\u001b[33m[W 2021-12-13 12:26:45,384]\u001b[0m Trial 9 failed, because the objective function returned nan.\u001b[0m\n"
     ]
    },
    {
     "name": "stderr",
     "output_type": "stream",
     "text": [
      "C:\\Users\\user\\Desktop\\Darui_R08621110\\Master_Thesis\\AUO aging test\\Full_Version_Code\\library\\Aging_Score_Contour.py:43: RuntimeWarning: invalid value encountered in double_scalars\n",
      "  eff = r/ag\n"
     ]
    },
    {
     "name": "stdout",
     "output_type": "stream",
     "text": [
      "Precision: 0 \n",
      "Recall: 0.0 \n",
      "Aging Rate: 0.0\n"
     ]
    },
    {
     "name": "stderr",
     "output_type": "stream",
     "text": [
      "C:\\Users\\user\\Desktop\\Darui_R08621110\\Master_Thesis\\AUO aging test\\Full_Version_Code\\library\\Aging_Score_Contour.py:43: RuntimeWarning: invalid value encountered in double_scalars\n",
      "  eff = r/ag\n"
     ]
    },
    {
     "name": "stdout",
     "output_type": "stream",
     "text": [
      "Precision: 0 \n",
      "Recall: 0.0 \n",
      "Aging Rate: 0.0\n"
     ]
    },
    {
     "name": "stderr",
     "output_type": "stream",
     "text": [
      "C:\\Users\\user\\Desktop\\Darui_R08621110\\Master_Thesis\\AUO aging test\\Full_Version_Code\\library\\Aging_Score_Contour.py:43: RuntimeWarning: invalid value encountered in double_scalars\n",
      "  eff = r/ag\n"
     ]
    },
    {
     "name": "stdout",
     "output_type": "stream",
     "text": [
      "Precision: 0 \n",
      "Recall: 0.0 \n",
      "Aging Rate: 0.0\n",
      "\u001b[33m[W 2021-12-13 12:27:12,525]\u001b[0m Trial 10 failed, because the objective function returned nan.\u001b[0m\n"
     ]
    },
    {
     "name": "stderr",
     "output_type": "stream",
     "text": [
      "C:\\Users\\user\\Desktop\\Darui_R08621110\\Master_Thesis\\AUO aging test\\Full_Version_Code\\library\\Aging_Score_Contour.py:43: RuntimeWarning: invalid value encountered in double_scalars\n",
      "  eff = r/ag\n"
     ]
    },
    {
     "name": "stdout",
     "output_type": "stream",
     "text": [
      "Precision: 0 \n",
      "Recall: 0.0 \n",
      "Aging Rate: 0.0\n"
     ]
    },
    {
     "name": "stderr",
     "output_type": "stream",
     "text": [
      "C:\\Users\\user\\Desktop\\Darui_R08621110\\Master_Thesis\\AUO aging test\\Full_Version_Code\\library\\Aging_Score_Contour.py:43: RuntimeWarning: invalid value encountered in double_scalars\n",
      "  eff = r/ag\n"
     ]
    },
    {
     "name": "stdout",
     "output_type": "stream",
     "text": [
      "Precision: 0 \n",
      "Recall: 0.0 \n",
      "Aging Rate: 0.0\n"
     ]
    },
    {
     "name": "stderr",
     "output_type": "stream",
     "text": [
      "C:\\Users\\user\\Desktop\\Darui_R08621110\\Master_Thesis\\AUO aging test\\Full_Version_Code\\library\\Aging_Score_Contour.py:43: RuntimeWarning: invalid value encountered in double_scalars\n",
      "  eff = r/ag\n"
     ]
    },
    {
     "name": "stdout",
     "output_type": "stream",
     "text": [
      "Precision: 0 \n",
      "Recall: 0.0 \n",
      "Aging Rate: 0.0\n",
      "\u001b[33m[W 2021-12-13 12:27:21,971]\u001b[0m Trial 11 failed, because the objective function returned nan.\u001b[0m\n"
     ]
    },
    {
     "name": "stderr",
     "output_type": "stream",
     "text": [
      "C:\\Users\\user\\Desktop\\Darui_R08621110\\Master_Thesis\\AUO aging test\\Full_Version_Code\\library\\Aging_Score_Contour.py:43: RuntimeWarning: invalid value encountered in double_scalars\n",
      "  eff = r/ag\n"
     ]
    },
    {
     "name": "stdout",
     "output_type": "stream",
     "text": [
      "Precision: 0 \n",
      "Recall: 0.0 \n",
      "Aging Rate: 0.0\n"
     ]
    },
    {
     "name": "stderr",
     "output_type": "stream",
     "text": [
      "C:\\Users\\user\\Desktop\\Darui_R08621110\\Master_Thesis\\AUO aging test\\Full_Version_Code\\library\\Aging_Score_Contour.py:43: RuntimeWarning: invalid value encountered in double_scalars\n",
      "  eff = r/ag\n"
     ]
    },
    {
     "name": "stdout",
     "output_type": "stream",
     "text": [
      "Precision: 0 \n",
      "Recall: 0.0 \n",
      "Aging Rate: 0.0\n"
     ]
    },
    {
     "name": "stderr",
     "output_type": "stream",
     "text": [
      "C:\\Users\\user\\Desktop\\Darui_R08621110\\Master_Thesis\\AUO aging test\\Full_Version_Code\\library\\Aging_Score_Contour.py:43: RuntimeWarning: invalid value encountered in double_scalars\n",
      "  eff = r/ag\n"
     ]
    },
    {
     "name": "stdout",
     "output_type": "stream",
     "text": [
      "Precision: 0 \n",
      "Recall: 0.0 \n",
      "Aging Rate: 0.0\n",
      "\u001b[33m[W 2021-12-13 12:27:46,182]\u001b[0m Trial 12 failed, because the objective function returned nan.\u001b[0m\n"
     ]
    },
    {
     "name": "stderr",
     "output_type": "stream",
     "text": [
      "C:\\Users\\user\\Desktop\\Darui_R08621110\\Master_Thesis\\AUO aging test\\Full_Version_Code\\library\\Aging_Score_Contour.py:43: RuntimeWarning: invalid value encountered in double_scalars\n",
      "  eff = r/ag\n"
     ]
    },
    {
     "name": "stdout",
     "output_type": "stream",
     "text": [
      "Precision: 0 \n",
      "Recall: 0.0 \n",
      "Aging Rate: 0.0\n"
     ]
    },
    {
     "name": "stderr",
     "output_type": "stream",
     "text": [
      "C:\\Users\\user\\Desktop\\Darui_R08621110\\Master_Thesis\\AUO aging test\\Full_Version_Code\\library\\Aging_Score_Contour.py:43: RuntimeWarning: invalid value encountered in double_scalars\n",
      "  eff = r/ag\n"
     ]
    },
    {
     "name": "stdout",
     "output_type": "stream",
     "text": [
      "Precision: 0 \n",
      "Recall: 0.0 \n",
      "Aging Rate: 0.0\n"
     ]
    },
    {
     "name": "stderr",
     "output_type": "stream",
     "text": [
      "C:\\Users\\user\\Desktop\\Darui_R08621110\\Master_Thesis\\AUO aging test\\Full_Version_Code\\library\\Aging_Score_Contour.py:43: RuntimeWarning: invalid value encountered in double_scalars\n",
      "  eff = r/ag\n"
     ]
    },
    {
     "name": "stdout",
     "output_type": "stream",
     "text": [
      "Precision: 0 \n",
      "Recall: 0.0 \n",
      "Aging Rate: 0.0\n",
      "\u001b[33m[W 2021-12-13 12:28:00,556]\u001b[0m Trial 13 failed, because the objective function returned nan.\u001b[0m\n",
      "Precision: 1.0 \n",
      "Recall: 0.02631578947368421 \n",
      "Aging Rate: 5.090742484791407e-05\n",
      "Precision: 1.0 \n",
      "Recall: 0.013157894736842105 \n",
      "Aging Rate: 2.5453712423957035e-05\n",
      "Precision: 0.5 \n",
      "Recall: 0.02631578947368421 \n",
      "Aging Rate: 0.00010181484969582814\n",
      "\u001b[32m[I 2021-12-13 12:28:58,757]\u001b[0m Trial 14 finished with value: 0.05746386924500627 and parameters: {'n_estimators': 600, 'min_samples_split': 2, 'max_depth': 12}. Best is trial 14 with value: 0.05746386924500627.\u001b[0m\n"
     ]
    },
    {
     "name": "stderr",
     "output_type": "stream",
     "text": [
      "C:\\Users\\user\\Desktop\\Darui_R08621110\\Master_Thesis\\AUO aging test\\Full_Version_Code\\library\\Aging_Score_Contour.py:43: RuntimeWarning: invalid value encountered in double_scalars\n",
      "  eff = r/ag\n"
     ]
    },
    {
     "name": "stdout",
     "output_type": "stream",
     "text": [
      "Precision: 0 \n",
      "Recall: 0.0 \n",
      "Aging Rate: 0.0\n"
     ]
    },
    {
     "name": "stderr",
     "output_type": "stream",
     "text": [
      "C:\\Users\\user\\Desktop\\Darui_R08621110\\Master_Thesis\\AUO aging test\\Full_Version_Code\\library\\Aging_Score_Contour.py:43: RuntimeWarning: invalid value encountered in double_scalars\n",
      "  eff = r/ag\n"
     ]
    },
    {
     "name": "stdout",
     "output_type": "stream",
     "text": [
      "Precision: 0 \n",
      "Recall: 0.0 \n",
      "Aging Rate: 0.0\n"
     ]
    },
    {
     "name": "stderr",
     "output_type": "stream",
     "text": [
      "C:\\Users\\user\\Desktop\\Darui_R08621110\\Master_Thesis\\AUO aging test\\Full_Version_Code\\library\\Aging_Score_Contour.py:43: RuntimeWarning: invalid value encountered in double_scalars\n",
      "  eff = r/ag\n"
     ]
    },
    {
     "name": "stdout",
     "output_type": "stream",
     "text": [
      "Precision: 0 \n",
      "Recall: 0.0 \n",
      "Aging Rate: 0.0\n",
      "\u001b[33m[W 2021-12-13 12:29:13,930]\u001b[0m Trial 15 failed, because the objective function returned nan.\u001b[0m\n",
      "Precision: 1.0 \n",
      "Recall: 0.013157894736842105 \n",
      "Aging Rate: 2.5453712423957035e-05\n"
     ]
    },
    {
     "name": "stderr",
     "output_type": "stream",
     "text": [
      "C:\\Users\\user\\Desktop\\Darui_R08621110\\Master_Thesis\\AUO aging test\\Full_Version_Code\\library\\Aging_Score_Contour.py:43: RuntimeWarning: invalid value encountered in double_scalars\n",
      "  eff = r/ag\n"
     ]
    },
    {
     "name": "stdout",
     "output_type": "stream",
     "text": [
      "Precision: 0 \n",
      "Recall: 0.0 \n",
      "Aging Rate: 0.0\n"
     ]
    },
    {
     "name": "stderr",
     "output_type": "stream",
     "text": [
      "C:\\Users\\user\\Desktop\\Darui_R08621110\\Master_Thesis\\AUO aging test\\Full_Version_Code\\library\\Aging_Score_Contour.py:43: RuntimeWarning: invalid value encountered in double_scalars\n",
      "  eff = r/ag\n"
     ]
    },
    {
     "name": "stdout",
     "output_type": "stream",
     "text": [
      "Precision: 0 \n",
      "Recall: 0.0 \n",
      "Aging Rate: 0.0\n",
      "\u001b[33m[W 2021-12-13 12:30:00,210]\u001b[0m Trial 16 failed, because the objective function returned nan.\u001b[0m\n"
     ]
    },
    {
     "name": "stderr",
     "output_type": "stream",
     "text": [
      "C:\\Users\\user\\Desktop\\Darui_R08621110\\Master_Thesis\\AUO aging test\\Full_Version_Code\\library\\Aging_Score_Contour.py:43: RuntimeWarning: invalid value encountered in double_scalars\n",
      "  eff = r/ag\n"
     ]
    },
    {
     "name": "stdout",
     "output_type": "stream",
     "text": [
      "Precision: 0 \n",
      "Recall: 0.0 \n",
      "Aging Rate: 0.0\n"
     ]
    },
    {
     "name": "stderr",
     "output_type": "stream",
     "text": [
      "C:\\Users\\user\\Desktop\\Darui_R08621110\\Master_Thesis\\AUO aging test\\Full_Version_Code\\library\\Aging_Score_Contour.py:43: RuntimeWarning: invalid value encountered in double_scalars\n",
      "  eff = r/ag\n"
     ]
    },
    {
     "name": "stdout",
     "output_type": "stream",
     "text": [
      "Precision: 0 \n",
      "Recall: 0.0 \n",
      "Aging Rate: 0.0\n"
     ]
    },
    {
     "name": "stderr",
     "output_type": "stream",
     "text": [
      "C:\\Users\\user\\Desktop\\Darui_R08621110\\Master_Thesis\\AUO aging test\\Full_Version_Code\\library\\Aging_Score_Contour.py:43: RuntimeWarning: invalid value encountered in double_scalars\n",
      "  eff = r/ag\n"
     ]
    },
    {
     "name": "stdout",
     "output_type": "stream",
     "text": [
      "Precision: 0 \n",
      "Recall: 0.0 \n",
      "Aging Rate: 0.0\n",
      "\u001b[33m[W 2021-12-13 12:30:42,353]\u001b[0m Trial 17 failed, because the objective function returned nan.\u001b[0m\n"
     ]
    },
    {
     "name": "stderr",
     "output_type": "stream",
     "text": [
      "C:\\Users\\user\\Desktop\\Darui_R08621110\\Master_Thesis\\AUO aging test\\Full_Version_Code\\library\\Aging_Score_Contour.py:43: RuntimeWarning: invalid value encountered in double_scalars\n",
      "  eff = r/ag\n"
     ]
    },
    {
     "name": "stdout",
     "output_type": "stream",
     "text": [
      "Precision: 0 \n",
      "Recall: 0.0 \n",
      "Aging Rate: 0.0\n"
     ]
    },
    {
     "name": "stderr",
     "output_type": "stream",
     "text": [
      "C:\\Users\\user\\Desktop\\Darui_R08621110\\Master_Thesis\\AUO aging test\\Full_Version_Code\\library\\Aging_Score_Contour.py:43: RuntimeWarning: invalid value encountered in double_scalars\n",
      "  eff = r/ag\n"
     ]
    },
    {
     "name": "stdout",
     "output_type": "stream",
     "text": [
      "Precision: 0 \n",
      "Recall: 0.0 \n",
      "Aging Rate: 0.0\n"
     ]
    },
    {
     "name": "stderr",
     "output_type": "stream",
     "text": [
      "C:\\Users\\user\\Desktop\\Darui_R08621110\\Master_Thesis\\AUO aging test\\Full_Version_Code\\library\\Aging_Score_Contour.py:43: RuntimeWarning: invalid value encountered in double_scalars\n",
      "  eff = r/ag\n"
     ]
    },
    {
     "name": "stdout",
     "output_type": "stream",
     "text": [
      "Precision: 0 \n",
      "Recall: 0.0 \n",
      "Aging Rate: 0.0\n",
      "\u001b[33m[W 2021-12-13 12:30:54,841]\u001b[0m Trial 18 failed, because the objective function returned nan.\u001b[0m\n"
     ]
    },
    {
     "name": "stderr",
     "output_type": "stream",
     "text": [
      "C:\\Users\\user\\Desktop\\Darui_R08621110\\Master_Thesis\\AUO aging test\\Full_Version_Code\\library\\Aging_Score_Contour.py:43: RuntimeWarning: invalid value encountered in double_scalars\n",
      "  eff = r/ag\n"
     ]
    },
    {
     "name": "stdout",
     "output_type": "stream",
     "text": [
      "Precision: 0 \n",
      "Recall: 0.0 \n",
      "Aging Rate: 0.0\n"
     ]
    },
    {
     "name": "stderr",
     "output_type": "stream",
     "text": [
      "C:\\Users\\user\\Desktop\\Darui_R08621110\\Master_Thesis\\AUO aging test\\Full_Version_Code\\library\\Aging_Score_Contour.py:43: RuntimeWarning: invalid value encountered in double_scalars\n",
      "  eff = r/ag\n"
     ]
    },
    {
     "name": "stdout",
     "output_type": "stream",
     "text": [
      "Precision: 0 \n",
      "Recall: 0.0 \n",
      "Aging Rate: 0.0\n"
     ]
    },
    {
     "name": "stderr",
     "output_type": "stream",
     "text": [
      "C:\\Users\\user\\Desktop\\Darui_R08621110\\Master_Thesis\\AUO aging test\\Full_Version_Code\\library\\Aging_Score_Contour.py:43: RuntimeWarning: invalid value encountered in double_scalars\n",
      "  eff = r/ag\n"
     ]
    },
    {
     "name": "stdout",
     "output_type": "stream",
     "text": [
      "Precision: 0 \n",
      "Recall: 0.0 \n",
      "Aging Rate: 0.0\n",
      "\u001b[33m[W 2021-12-13 12:31:22,305]\u001b[0m Trial 19 failed, because the objective function returned nan.\u001b[0m\n"
     ]
    },
    {
     "name": "stderr",
     "output_type": "stream",
     "text": [
      "C:\\Users\\user\\Desktop\\Darui_R08621110\\Master_Thesis\\AUO aging test\\Full_Version_Code\\library\\Aging_Score_Contour.py:43: RuntimeWarning: invalid value encountered in double_scalars\n",
      "  eff = r/ag\n"
     ]
    },
    {
     "name": "stdout",
     "output_type": "stream",
     "text": [
      "Precision: 0 \n",
      "Recall: 0.0 \n",
      "Aging Rate: 0.0\n"
     ]
    },
    {
     "name": "stderr",
     "output_type": "stream",
     "text": [
      "C:\\Users\\user\\Desktop\\Darui_R08621110\\Master_Thesis\\AUO aging test\\Full_Version_Code\\library\\Aging_Score_Contour.py:43: RuntimeWarning: invalid value encountered in double_scalars\n",
      "  eff = r/ag\n"
     ]
    },
    {
     "name": "stdout",
     "output_type": "stream",
     "text": [
      "Precision: 0 \n",
      "Recall: 0.0 \n",
      "Aging Rate: 0.0\n"
     ]
    },
    {
     "name": "stderr",
     "output_type": "stream",
     "text": [
      "C:\\Users\\user\\Desktop\\Darui_R08621110\\Master_Thesis\\AUO aging test\\Full_Version_Code\\library\\Aging_Score_Contour.py:43: RuntimeWarning: invalid value encountered in double_scalars\n",
      "  eff = r/ag\n"
     ]
    },
    {
     "name": "stdout",
     "output_type": "stream",
     "text": [
      "Precision: 0 \n",
      "Recall: 0.0 \n",
      "Aging Rate: 0.0\n",
      "\u001b[33m[W 2021-12-13 12:32:10,769]\u001b[0m Trial 20 failed, because the objective function returned nan.\u001b[0m\n"
     ]
    },
    {
     "name": "stderr",
     "output_type": "stream",
     "text": [
      "C:\\Users\\user\\Desktop\\Darui_R08621110\\Master_Thesis\\AUO aging test\\Full_Version_Code\\library\\Aging_Score_Contour.py:43: RuntimeWarning: invalid value encountered in double_scalars\n",
      "  eff = r/ag\n"
     ]
    },
    {
     "name": "stdout",
     "output_type": "stream",
     "text": [
      "Precision: 0 \n",
      "Recall: 0.0 \n",
      "Aging Rate: 0.0\n"
     ]
    },
    {
     "name": "stderr",
     "output_type": "stream",
     "text": [
      "C:\\Users\\user\\Desktop\\Darui_R08621110\\Master_Thesis\\AUO aging test\\Full_Version_Code\\library\\Aging_Score_Contour.py:43: RuntimeWarning: invalid value encountered in double_scalars\n",
      "  eff = r/ag\n"
     ]
    },
    {
     "name": "stdout",
     "output_type": "stream",
     "text": [
      "Precision: 0 \n",
      "Recall: 0.0 \n",
      "Aging Rate: 0.0\n"
     ]
    },
    {
     "name": "stderr",
     "output_type": "stream",
     "text": [
      "C:\\Users\\user\\Desktop\\Darui_R08621110\\Master_Thesis\\AUO aging test\\Full_Version_Code\\library\\Aging_Score_Contour.py:43: RuntimeWarning: invalid value encountered in double_scalars\n",
      "  eff = r/ag\n"
     ]
    },
    {
     "name": "stdout",
     "output_type": "stream",
     "text": [
      "Precision: 0 \n",
      "Recall: 0.0 \n",
      "Aging Rate: 0.0\n",
      "\u001b[33m[W 2021-12-13 12:32:31,775]\u001b[0m Trial 21 failed, because the objective function returned nan.\u001b[0m\n"
     ]
    },
    {
     "name": "stderr",
     "output_type": "stream",
     "text": [
      "C:\\Users\\user\\Desktop\\Darui_R08621110\\Master_Thesis\\AUO aging test\\Full_Version_Code\\library\\Aging_Score_Contour.py:43: RuntimeWarning: invalid value encountered in double_scalars\n",
      "  eff = r/ag\n"
     ]
    },
    {
     "name": "stdout",
     "output_type": "stream",
     "text": [
      "Precision: 0 \n",
      "Recall: 0.0 \n",
      "Aging Rate: 0.0\n",
      "Precision: 1.0 \n",
      "Recall: 0.013157894736842105 \n",
      "Aging Rate: 2.5453712423957035e-05\n",
      "Precision: 1.0 \n",
      "Recall: 0.013157894736842105 \n",
      "Aging Rate: 2.5453712423957035e-05\n",
      "\u001b[33m[W 2021-12-13 12:33:29,383]\u001b[0m Trial 22 failed, because the objective function returned nan.\u001b[0m\n"
     ]
    },
    {
     "name": "stderr",
     "output_type": "stream",
     "text": [
      "C:\\Users\\user\\Desktop\\Darui_R08621110\\Master_Thesis\\AUO aging test\\Full_Version_Code\\library\\Aging_Score_Contour.py:43: RuntimeWarning: invalid value encountered in double_scalars\n",
      "  eff = r/ag\n"
     ]
    },
    {
     "name": "stdout",
     "output_type": "stream",
     "text": [
      "Precision: 0 \n",
      "Recall: 0.0 \n",
      "Aging Rate: 0.0\n"
     ]
    },
    {
     "name": "stderr",
     "output_type": "stream",
     "text": [
      "C:\\Users\\user\\Desktop\\Darui_R08621110\\Master_Thesis\\AUO aging test\\Full_Version_Code\\library\\Aging_Score_Contour.py:43: RuntimeWarning: invalid value encountered in double_scalars\n",
      "  eff = r/ag\n"
     ]
    },
    {
     "name": "stdout",
     "output_type": "stream",
     "text": [
      "Precision: 0 \n",
      "Recall: 0.0 \n",
      "Aging Rate: 0.0\n"
     ]
    },
    {
     "name": "stderr",
     "output_type": "stream",
     "text": [
      "C:\\Users\\user\\Desktop\\Darui_R08621110\\Master_Thesis\\AUO aging test\\Full_Version_Code\\library\\Aging_Score_Contour.py:43: RuntimeWarning: invalid value encountered in double_scalars\n",
      "  eff = r/ag\n"
     ]
    },
    {
     "name": "stdout",
     "output_type": "stream",
     "text": [
      "Precision: 0 \n",
      "Recall: 0.0 \n",
      "Aging Rate: 0.0\n",
      "\u001b[33m[W 2021-12-13 12:34:23,676]\u001b[0m Trial 23 failed, because the objective function returned nan.\u001b[0m\n"
     ]
    },
    {
     "name": "stderr",
     "output_type": "stream",
     "text": [
      "C:\\Users\\user\\Desktop\\Darui_R08621110\\Master_Thesis\\AUO aging test\\Full_Version_Code\\library\\Aging_Score_Contour.py:43: RuntimeWarning: invalid value encountered in double_scalars\n",
      "  eff = r/ag\n"
     ]
    },
    {
     "name": "stdout",
     "output_type": "stream",
     "text": [
      "Precision: 0 \n",
      "Recall: 0.0 \n",
      "Aging Rate: 0.0\n"
     ]
    },
    {
     "name": "stderr",
     "output_type": "stream",
     "text": [
      "C:\\Users\\user\\Desktop\\Darui_R08621110\\Master_Thesis\\AUO aging test\\Full_Version_Code\\library\\Aging_Score_Contour.py:43: RuntimeWarning: invalid value encountered in double_scalars\n",
      "  eff = r/ag\n"
     ]
    },
    {
     "name": "stdout",
     "output_type": "stream",
     "text": [
      "Precision: 0 \n",
      "Recall: 0.0 \n",
      "Aging Rate: 0.0\n"
     ]
    },
    {
     "name": "stderr",
     "output_type": "stream",
     "text": [
      "C:\\Users\\user\\Desktop\\Darui_R08621110\\Master_Thesis\\AUO aging test\\Full_Version_Code\\library\\Aging_Score_Contour.py:43: RuntimeWarning: invalid value encountered in double_scalars\n",
      "  eff = r/ag\n"
     ]
    },
    {
     "name": "stdout",
     "output_type": "stream",
     "text": [
      "Precision: 0 \n",
      "Recall: 0.0 \n",
      "Aging Rate: 0.0\n",
      "\u001b[33m[W 2021-12-13 12:34:38,918]\u001b[0m Trial 24 failed, because the objective function returned nan.\u001b[0m\n"
     ]
    },
    {
     "name": "stderr",
     "output_type": "stream",
     "text": [
      "C:\\Users\\user\\Desktop\\Darui_R08621110\\Master_Thesis\\AUO aging test\\Full_Version_Code\\library\\Aging_Score_Contour.py:43: RuntimeWarning: invalid value encountered in double_scalars\n",
      "  eff = r/ag\n"
     ]
    },
    {
     "name": "stdout",
     "output_type": "stream",
     "text": [
      "Precision: 0 \n",
      "Recall: 0.0 \n",
      "Aging Rate: 0.0\n"
     ]
    },
    {
     "name": "stderr",
     "output_type": "stream",
     "text": [
      "C:\\Users\\user\\Desktop\\Darui_R08621110\\Master_Thesis\\AUO aging test\\Full_Version_Code\\library\\Aging_Score_Contour.py:43: RuntimeWarning: invalid value encountered in double_scalars\n",
      "  eff = r/ag\n"
     ]
    },
    {
     "name": "stdout",
     "output_type": "stream",
     "text": [
      "Precision: 0 \n",
      "Recall: 0.0 \n",
      "Aging Rate: 0.0\n"
     ]
    },
    {
     "name": "stderr",
     "output_type": "stream",
     "text": [
      "C:\\Users\\user\\Desktop\\Darui_R08621110\\Master_Thesis\\AUO aging test\\Full_Version_Code\\library\\Aging_Score_Contour.py:43: RuntimeWarning: invalid value encountered in double_scalars\n",
      "  eff = r/ag\n"
     ]
    },
    {
     "name": "stdout",
     "output_type": "stream",
     "text": [
      "Precision: 0 \n",
      "Recall: 0.0 \n",
      "Aging Rate: 0.0\n",
      "\u001b[33m[W 2021-12-13 12:34:57,884]\u001b[0m Trial 25 failed, because the objective function returned nan.\u001b[0m\n"
     ]
    },
    {
     "name": "stderr",
     "output_type": "stream",
     "text": [
      "C:\\Users\\user\\Desktop\\Darui_R08621110\\Master_Thesis\\AUO aging test\\Full_Version_Code\\library\\Aging_Score_Contour.py:43: RuntimeWarning: invalid value encountered in double_scalars\n",
      "  eff = r/ag\n"
     ]
    },
    {
     "name": "stdout",
     "output_type": "stream",
     "text": [
      "Precision: 0 \n",
      "Recall: 0.0 \n",
      "Aging Rate: 0.0\n"
     ]
    },
    {
     "name": "stderr",
     "output_type": "stream",
     "text": [
      "C:\\Users\\user\\Desktop\\Darui_R08621110\\Master_Thesis\\AUO aging test\\Full_Version_Code\\library\\Aging_Score_Contour.py:43: RuntimeWarning: invalid value encountered in double_scalars\n",
      "  eff = r/ag\n"
     ]
    },
    {
     "name": "stdout",
     "output_type": "stream",
     "text": [
      "Precision: 0 \n",
      "Recall: 0.0 \n",
      "Aging Rate: 0.0\n"
     ]
    },
    {
     "name": "stderr",
     "output_type": "stream",
     "text": [
      "C:\\Users\\user\\Desktop\\Darui_R08621110\\Master_Thesis\\AUO aging test\\Full_Version_Code\\library\\Aging_Score_Contour.py:43: RuntimeWarning: invalid value encountered in double_scalars\n",
      "  eff = r/ag\n"
     ]
    },
    {
     "name": "stdout",
     "output_type": "stream",
     "text": [
      "Precision: 0 \n",
      "Recall: 0.0 \n",
      "Aging Rate: 0.0\n",
      "\u001b[33m[W 2021-12-13 12:36:13,147]\u001b[0m Trial 26 failed, because the objective function returned nan.\u001b[0m\n"
     ]
    },
    {
     "name": "stderr",
     "output_type": "stream",
     "text": [
      "C:\\Users\\user\\Desktop\\Darui_R08621110\\Master_Thesis\\AUO aging test\\Full_Version_Code\\library\\Aging_Score_Contour.py:43: RuntimeWarning: invalid value encountered in double_scalars\n",
      "  eff = r/ag\n"
     ]
    },
    {
     "name": "stdout",
     "output_type": "stream",
     "text": [
      "Precision: 0 \n",
      "Recall: 0.0 \n",
      "Aging Rate: 0.0\n"
     ]
    },
    {
     "name": "stderr",
     "output_type": "stream",
     "text": [
      "C:\\Users\\user\\Desktop\\Darui_R08621110\\Master_Thesis\\AUO aging test\\Full_Version_Code\\library\\Aging_Score_Contour.py:43: RuntimeWarning: invalid value encountered in double_scalars\n",
      "  eff = r/ag\n"
     ]
    },
    {
     "name": "stdout",
     "output_type": "stream",
     "text": [
      "Precision: 0 \n",
      "Recall: 0.0 \n",
      "Aging Rate: 0.0\n"
     ]
    },
    {
     "name": "stderr",
     "output_type": "stream",
     "text": [
      "C:\\Users\\user\\Desktop\\Darui_R08621110\\Master_Thesis\\AUO aging test\\Full_Version_Code\\library\\Aging_Score_Contour.py:43: RuntimeWarning: invalid value encountered in double_scalars\n",
      "  eff = r/ag\n"
     ]
    },
    {
     "name": "stdout",
     "output_type": "stream",
     "text": [
      "Precision: 0 \n",
      "Recall: 0.0 \n",
      "Aging Rate: 0.0\n",
      "\u001b[33m[W 2021-12-13 12:36:55,527]\u001b[0m Trial 27 failed, because the objective function returned nan.\u001b[0m\n"
     ]
    },
    {
     "name": "stderr",
     "output_type": "stream",
     "text": [
      "C:\\Users\\user\\Desktop\\Darui_R08621110\\Master_Thesis\\AUO aging test\\Full_Version_Code\\library\\Aging_Score_Contour.py:43: RuntimeWarning: invalid value encountered in double_scalars\n",
      "  eff = r/ag\n"
     ]
    },
    {
     "name": "stdout",
     "output_type": "stream",
     "text": [
      "Precision: 0 \n",
      "Recall: 0.0 \n",
      "Aging Rate: 0.0\n"
     ]
    },
    {
     "name": "stderr",
     "output_type": "stream",
     "text": [
      "C:\\Users\\user\\Desktop\\Darui_R08621110\\Master_Thesis\\AUO aging test\\Full_Version_Code\\library\\Aging_Score_Contour.py:43: RuntimeWarning: invalid value encountered in double_scalars\n",
      "  eff = r/ag\n"
     ]
    },
    {
     "name": "stdout",
     "output_type": "stream",
     "text": [
      "Precision: 0 \n",
      "Recall: 0.0 \n",
      "Aging Rate: 0.0\n"
     ]
    },
    {
     "name": "stderr",
     "output_type": "stream",
     "text": [
      "C:\\Users\\user\\Desktop\\Darui_R08621110\\Master_Thesis\\AUO aging test\\Full_Version_Code\\library\\Aging_Score_Contour.py:43: RuntimeWarning: invalid value encountered in double_scalars\n",
      "  eff = r/ag\n"
     ]
    },
    {
     "name": "stdout",
     "output_type": "stream",
     "text": [
      "Precision: 0 \n",
      "Recall: 0.0 \n",
      "Aging Rate: 0.0\n",
      "\u001b[33m[W 2021-12-13 12:38:12,156]\u001b[0m Trial 28 failed, because the objective function returned nan.\u001b[0m\n",
      "Precision: 1.0 \n",
      "Recall: 0.013157894736842105 \n",
      "Aging Rate: 2.5453712423957035e-05\n"
     ]
    },
    {
     "name": "stderr",
     "output_type": "stream",
     "text": [
      "C:\\Users\\user\\Desktop\\Darui_R08621110\\Master_Thesis\\AUO aging test\\Full_Version_Code\\library\\Aging_Score_Contour.py:43: RuntimeWarning: invalid value encountered in double_scalars\n",
      "  eff = r/ag\n"
     ]
    },
    {
     "name": "stdout",
     "output_type": "stream",
     "text": [
      "Precision: 0 \n",
      "Recall: 0.0 \n",
      "Aging Rate: 0.0\n",
      "Precision: 1.0 \n",
      "Recall: 0.013157894736842105 \n",
      "Aging Rate: 2.5453712423957035e-05\n",
      "\u001b[33m[W 2021-12-13 12:39:12,767]\u001b[0m Trial 29 failed, because the objective function returned nan.\u001b[0m\n"
     ]
    },
    {
     "name": "stderr",
     "output_type": "stream",
     "text": [
      "C:\\Users\\user\\Desktop\\Darui_R08621110\\Master_Thesis\\AUO aging test\\Full_Version_Code\\library\\Aging_Score_Contour.py:43: RuntimeWarning: invalid value encountered in double_scalars\n",
      "  eff = r/ag\n"
     ]
    },
    {
     "name": "stdout",
     "output_type": "stream",
     "text": [
      "Precision: 0 \n",
      "Recall: 0.0 \n",
      "Aging Rate: 0.0\n"
     ]
    },
    {
     "name": "stderr",
     "output_type": "stream",
     "text": [
      "C:\\Users\\user\\Desktop\\Darui_R08621110\\Master_Thesis\\AUO aging test\\Full_Version_Code\\library\\Aging_Score_Contour.py:43: RuntimeWarning: invalid value encountered in double_scalars\n",
      "  eff = r/ag\n"
     ]
    },
    {
     "name": "stdout",
     "output_type": "stream",
     "text": [
      "Precision: 0 \n",
      "Recall: 0.0 \n",
      "Aging Rate: 0.0\n"
     ]
    },
    {
     "name": "stderr",
     "output_type": "stream",
     "text": [
      "C:\\Users\\user\\Desktop\\Darui_R08621110\\Master_Thesis\\AUO aging test\\Full_Version_Code\\library\\Aging_Score_Contour.py:43: RuntimeWarning: invalid value encountered in double_scalars\n",
      "  eff = r/ag\n"
     ]
    },
    {
     "name": "stdout",
     "output_type": "stream",
     "text": [
      "Precision: 0 \n",
      "Recall: 0.0 \n",
      "Aging Rate: 0.0\n",
      "\u001b[33m[W 2021-12-13 12:39:37,098]\u001b[0m Trial 30 failed, because the objective function returned nan.\u001b[0m\n",
      "Precision: 1.0 \n",
      "Recall: 0.013157894736842105 \n",
      "Aging Rate: 2.5453712423957035e-05\n",
      "Precision: 0.0 \n",
      "Recall: 0.0 \n",
      "Aging Rate: 5.090742484791407e-05\n",
      "Precision: 1.0 \n",
      "Recall: 0.013157894736842105 \n",
      "Aging Rate: 2.5453712423957035e-05\n",
      "\u001b[33m[W 2021-12-13 12:39:50,866]\u001b[0m Trial 31 failed, because the objective function returned nan.\u001b[0m\n"
     ]
    },
    {
     "name": "stderr",
     "output_type": "stream",
     "text": [
      "C:\\Users\\user\\Desktop\\Darui_R08621110\\Master_Thesis\\AUO aging test\\Full_Version_Code\\library\\Aging_Score_Contour.py:43: RuntimeWarning: invalid value encountered in double_scalars\n",
      "  eff = r/ag\n"
     ]
    },
    {
     "name": "stdout",
     "output_type": "stream",
     "text": [
      "Precision: 0 \n",
      "Recall: 0.0 \n",
      "Aging Rate: 0.0\n"
     ]
    },
    {
     "name": "stderr",
     "output_type": "stream",
     "text": [
      "C:\\Users\\user\\Desktop\\Darui_R08621110\\Master_Thesis\\AUO aging test\\Full_Version_Code\\library\\Aging_Score_Contour.py:43: RuntimeWarning: invalid value encountered in double_scalars\n",
      "  eff = r/ag\n"
     ]
    },
    {
     "name": "stdout",
     "output_type": "stream",
     "text": [
      "Precision: 0 \n",
      "Recall: 0.0 \n",
      "Aging Rate: 0.0\n"
     ]
    },
    {
     "name": "stderr",
     "output_type": "stream",
     "text": [
      "C:\\Users\\user\\Desktop\\Darui_R08621110\\Master_Thesis\\AUO aging test\\Full_Version_Code\\library\\Aging_Score_Contour.py:43: RuntimeWarning: invalid value encountered in double_scalars\n",
      "  eff = r/ag\n"
     ]
    },
    {
     "name": "stdout",
     "output_type": "stream",
     "text": [
      "Precision: 0 \n",
      "Recall: 0.0 \n",
      "Aging Rate: 0.0\n",
      "\u001b[33m[W 2021-12-13 12:40:04,197]\u001b[0m Trial 32 failed, because the objective function returned nan.\u001b[0m\n",
      "Precision: 0.8297872340425532 \n",
      "Recall: 0.5131578947368421 \n",
      "Aging Rate: 0.0011963244839259806\n",
      "Precision: 0.9545454545454546 \n",
      "Recall: 0.5526315789473685 \n",
      "Aging Rate: 0.0011199633466541096\n",
      "Precision: 0.8604651162790697 \n",
      "Recall: 0.4868421052631579 \n",
      "Aging Rate: 0.0010945096342301526\n",
      "\u001b[32m[I 2021-12-13 12:40:42,481]\u001b[0m Trial 33 finished with value: 0.7032172533054157 and parameters: {'n_estimators': 300, 'min_samples_split': 2, 'max_depth': 21}. Best is trial 33 with value: 0.7032172533054157.\u001b[0m\n"
     ]
    },
    {
     "name": "stderr",
     "output_type": "stream",
     "text": [
      "C:\\Users\\user\\Desktop\\Darui_R08621110\\Master_Thesis\\AUO aging test\\Full_Version_Code\\library\\Aging_Score_Contour.py:43: RuntimeWarning: invalid value encountered in double_scalars\n",
      "  eff = r/ag\n"
     ]
    },
    {
     "name": "stdout",
     "output_type": "stream",
     "text": [
      "Precision: 0 \n",
      "Recall: 0.0 \n",
      "Aging Rate: 0.0\n"
     ]
    },
    {
     "name": "stderr",
     "output_type": "stream",
     "text": [
      "C:\\Users\\user\\Desktop\\Darui_R08621110\\Master_Thesis\\AUO aging test\\Full_Version_Code\\library\\Aging_Score_Contour.py:43: RuntimeWarning: invalid value encountered in double_scalars\n",
      "  eff = r/ag\n"
     ]
    },
    {
     "name": "stdout",
     "output_type": "stream",
     "text": [
      "Precision: 0 \n",
      "Recall: 0.0 \n",
      "Aging Rate: 0.0\n"
     ]
    },
    {
     "name": "stderr",
     "output_type": "stream",
     "text": [
      "C:\\Users\\user\\Desktop\\Darui_R08621110\\Master_Thesis\\AUO aging test\\Full_Version_Code\\library\\Aging_Score_Contour.py:43: RuntimeWarning: invalid value encountered in double_scalars\n",
      "  eff = r/ag\n"
     ]
    },
    {
     "name": "stdout",
     "output_type": "stream",
     "text": [
      "Precision: 0 \n",
      "Recall: 0.0 \n",
      "Aging Rate: 0.0\n",
      "\u001b[33m[W 2021-12-13 12:41:17,427]\u001b[0m Trial 34 failed, because the objective function returned nan.\u001b[0m\n"
     ]
    },
    {
     "name": "stderr",
     "output_type": "stream",
     "text": [
      "C:\\Users\\user\\Desktop\\Darui_R08621110\\Master_Thesis\\AUO aging test\\Full_Version_Code\\library\\Aging_Score_Contour.py:43: RuntimeWarning: invalid value encountered in double_scalars\n",
      "  eff = r/ag\n"
     ]
    },
    {
     "name": "stdout",
     "output_type": "stream",
     "text": [
      "Precision: 0 \n",
      "Recall: 0.0 \n",
      "Aging Rate: 0.0\n"
     ]
    },
    {
     "name": "stderr",
     "output_type": "stream",
     "text": [
      "C:\\Users\\user\\Desktop\\Darui_R08621110\\Master_Thesis\\AUO aging test\\Full_Version_Code\\library\\Aging_Score_Contour.py:43: RuntimeWarning: invalid value encountered in double_scalars\n",
      "  eff = r/ag\n"
     ]
    },
    {
     "name": "stdout",
     "output_type": "stream",
     "text": [
      "Precision: 0 \n",
      "Recall: 0.0 \n",
      "Aging Rate: 0.0\n"
     ]
    },
    {
     "name": "stderr",
     "output_type": "stream",
     "text": [
      "C:\\Users\\user\\Desktop\\Darui_R08621110\\Master_Thesis\\AUO aging test\\Full_Version_Code\\library\\Aging_Score_Contour.py:43: RuntimeWarning: invalid value encountered in double_scalars\n",
      "  eff = r/ag\n"
     ]
    },
    {
     "name": "stdout",
     "output_type": "stream",
     "text": [
      "Precision: 0 \n",
      "Recall: 0.0 \n",
      "Aging Rate: 0.0\n",
      "\u001b[33m[W 2021-12-13 12:41:34,834]\u001b[0m Trial 35 failed, because the objective function returned nan.\u001b[0m\n"
     ]
    },
    {
     "name": "stderr",
     "output_type": "stream",
     "text": [
      "C:\\Users\\user\\Desktop\\Darui_R08621110\\Master_Thesis\\AUO aging test\\Full_Version_Code\\library\\Aging_Score_Contour.py:43: RuntimeWarning: invalid value encountered in double_scalars\n",
      "  eff = r/ag\n"
     ]
    },
    {
     "name": "stdout",
     "output_type": "stream",
     "text": [
      "Precision: 0 \n",
      "Recall: 0.0 \n",
      "Aging Rate: 0.0\n"
     ]
    },
    {
     "name": "stderr",
     "output_type": "stream",
     "text": [
      "C:\\Users\\user\\Desktop\\Darui_R08621110\\Master_Thesis\\AUO aging test\\Full_Version_Code\\library\\Aging_Score_Contour.py:43: RuntimeWarning: invalid value encountered in double_scalars\n",
      "  eff = r/ag\n"
     ]
    },
    {
     "name": "stdout",
     "output_type": "stream",
     "text": [
      "Precision: 0 \n",
      "Recall: 0.0 \n",
      "Aging Rate: 0.0\n"
     ]
    },
    {
     "name": "stderr",
     "output_type": "stream",
     "text": [
      "C:\\Users\\user\\Desktop\\Darui_R08621110\\Master_Thesis\\AUO aging test\\Full_Version_Code\\library\\Aging_Score_Contour.py:43: RuntimeWarning: invalid value encountered in double_scalars\n",
      "  eff = r/ag\n"
     ]
    },
    {
     "name": "stdout",
     "output_type": "stream",
     "text": [
      "Precision: 0 \n",
      "Recall: 0.0 \n",
      "Aging Rate: 0.0\n",
      "\u001b[33m[W 2021-12-13 12:42:41,997]\u001b[0m Trial 36 failed, because the objective function returned nan.\u001b[0m\n"
     ]
    },
    {
     "name": "stderr",
     "output_type": "stream",
     "text": [
      "C:\\Users\\user\\Desktop\\Darui_R08621110\\Master_Thesis\\AUO aging test\\Full_Version_Code\\library\\Aging_Score_Contour.py:43: RuntimeWarning: invalid value encountered in double_scalars\n",
      "  eff = r/ag\n"
     ]
    },
    {
     "name": "stdout",
     "output_type": "stream",
     "text": [
      "Precision: 0 \n",
      "Recall: 0.0 \n",
      "Aging Rate: 0.0\n"
     ]
    },
    {
     "name": "stderr",
     "output_type": "stream",
     "text": [
      "C:\\Users\\user\\Desktop\\Darui_R08621110\\Master_Thesis\\AUO aging test\\Full_Version_Code\\library\\Aging_Score_Contour.py:43: RuntimeWarning: invalid value encountered in double_scalars\n",
      "  eff = r/ag\n"
     ]
    },
    {
     "name": "stdout",
     "output_type": "stream",
     "text": [
      "Precision: 0 \n",
      "Recall: 0.0 \n",
      "Aging Rate: 0.0\n"
     ]
    },
    {
     "name": "stderr",
     "output_type": "stream",
     "text": [
      "C:\\Users\\user\\Desktop\\Darui_R08621110\\Master_Thesis\\AUO aging test\\Full_Version_Code\\library\\Aging_Score_Contour.py:43: RuntimeWarning: invalid value encountered in double_scalars\n",
      "  eff = r/ag\n"
     ]
    },
    {
     "name": "stdout",
     "output_type": "stream",
     "text": [
      "Precision: 0 \n",
      "Recall: 0.0 \n",
      "Aging Rate: 0.0\n",
      "\u001b[33m[W 2021-12-13 12:43:08,472]\u001b[0m Trial 37 failed, because the objective function returned nan.\u001b[0m\n"
     ]
    },
    {
     "name": "stderr",
     "output_type": "stream",
     "text": [
      "C:\\Users\\user\\Desktop\\Darui_R08621110\\Master_Thesis\\AUO aging test\\Full_Version_Code\\library\\Aging_Score_Contour.py:43: RuntimeWarning: invalid value encountered in double_scalars\n",
      "  eff = r/ag\n"
     ]
    },
    {
     "name": "stdout",
     "output_type": "stream",
     "text": [
      "Precision: 0 \n",
      "Recall: 0.0 \n",
      "Aging Rate: 0.0\n"
     ]
    },
    {
     "name": "stderr",
     "output_type": "stream",
     "text": [
      "C:\\Users\\user\\Desktop\\Darui_R08621110\\Master_Thesis\\AUO aging test\\Full_Version_Code\\library\\Aging_Score_Contour.py:43: RuntimeWarning: invalid value encountered in double_scalars\n",
      "  eff = r/ag\n"
     ]
    },
    {
     "name": "stdout",
     "output_type": "stream",
     "text": [
      "Precision: 0 \n",
      "Recall: 0.0 \n",
      "Aging Rate: 0.0\n"
     ]
    },
    {
     "name": "stderr",
     "output_type": "stream",
     "text": [
      "C:\\Users\\user\\Desktop\\Darui_R08621110\\Master_Thesis\\AUO aging test\\Full_Version_Code\\library\\Aging_Score_Contour.py:43: RuntimeWarning: invalid value encountered in double_scalars\n",
      "  eff = r/ag\n"
     ]
    },
    {
     "name": "stdout",
     "output_type": "stream",
     "text": [
      "Precision: 0 \n",
      "Recall: 0.0 \n",
      "Aging Rate: 0.0\n",
      "\u001b[33m[W 2021-12-13 12:43:55,285]\u001b[0m Trial 38 failed, because the objective function returned nan.\u001b[0m\n",
      "Precision: 1.0 \n",
      "Recall: 0.02631578947368421 \n",
      "Aging Rate: 5.090742484791407e-05\n"
     ]
    },
    {
     "name": "stderr",
     "output_type": "stream",
     "text": [
      "C:\\Users\\user\\Desktop\\Darui_R08621110\\Master_Thesis\\AUO aging test\\Full_Version_Code\\library\\Aging_Score_Contour.py:43: RuntimeWarning: invalid value encountered in double_scalars\n",
      "  eff = r/ag\n"
     ]
    },
    {
     "name": "stdout",
     "output_type": "stream",
     "text": [
      "Precision: 0 \n",
      "Recall: 0.0 \n",
      "Aging Rate: 0.0\n",
      "Precision: 0.8571428571428571 \n",
      "Recall: 0.07894736842105263 \n",
      "Aging Rate: 0.00017817598696769923\n",
      "\u001b[33m[W 2021-12-13 12:44:49,294]\u001b[0m Trial 39 failed, because the objective function returned nan.\u001b[0m\n"
     ]
    },
    {
     "name": "stderr",
     "output_type": "stream",
     "text": [
      "C:\\Users\\user\\Desktop\\Darui_R08621110\\Master_Thesis\\AUO aging test\\Full_Version_Code\\library\\Aging_Score_Contour.py:43: RuntimeWarning: invalid value encountered in double_scalars\n",
      "  eff = r/ag\n"
     ]
    },
    {
     "name": "stdout",
     "output_type": "stream",
     "text": [
      "Precision: 0 \n",
      "Recall: 0.0 \n",
      "Aging Rate: 0.0\n"
     ]
    },
    {
     "name": "stderr",
     "output_type": "stream",
     "text": [
      "C:\\Users\\user\\Desktop\\Darui_R08621110\\Master_Thesis\\AUO aging test\\Full_Version_Code\\library\\Aging_Score_Contour.py:43: RuntimeWarning: invalid value encountered in double_scalars\n",
      "  eff = r/ag\n"
     ]
    },
    {
     "name": "stdout",
     "output_type": "stream",
     "text": [
      "Precision: 0 \n",
      "Recall: 0.0 \n",
      "Aging Rate: 0.0\n"
     ]
    },
    {
     "name": "stderr",
     "output_type": "stream",
     "text": [
      "C:\\Users\\user\\Desktop\\Darui_R08621110\\Master_Thesis\\AUO aging test\\Full_Version_Code\\library\\Aging_Score_Contour.py:43: RuntimeWarning: invalid value encountered in double_scalars\n",
      "  eff = r/ag\n"
     ]
    },
    {
     "name": "stdout",
     "output_type": "stream",
     "text": [
      "Precision: 0 \n",
      "Recall: 0.0 \n",
      "Aging Rate: 0.0\n",
      "\u001b[33m[W 2021-12-13 12:45:34,926]\u001b[0m Trial 40 failed, because the objective function returned nan.\u001b[0m\n",
      "Precision: 1.0 \n",
      "Recall: 0.039473684210526314 \n",
      "Aging Rate: 7.63611372718711e-05\n",
      "Precision: 1.0 \n",
      "Recall: 0.02631578947368421 \n",
      "Aging Rate: 5.090742484791407e-05\n",
      "Precision: 1.0 \n",
      "Recall: 0.07894736842105263 \n",
      "Aging Rate: 0.0001527222745437422\n",
      "\u001b[32m[I 2021-12-13 12:46:50,932]\u001b[0m Trial 41 finished with value: 0.1215330369785906 and parameters: {'n_estimators': 700, 'min_samples_split': 7, 'max_depth': 18}. Best is trial 33 with value: 0.7032172533054157.\u001b[0m\n"
     ]
    },
    {
     "name": "stderr",
     "output_type": "stream",
     "text": [
      "C:\\Users\\user\\Desktop\\Darui_R08621110\\Master_Thesis\\AUO aging test\\Full_Version_Code\\library\\Aging_Score_Contour.py:43: RuntimeWarning: invalid value encountered in double_scalars\n",
      "  eff = r/ag\n"
     ]
    },
    {
     "name": "stdout",
     "output_type": "stream",
     "text": [
      "Precision: 0 \n",
      "Recall: 0.0 \n",
      "Aging Rate: 0.0\n",
      "Precision: 1.0 \n",
      "Recall: 0.013157894736842105 \n",
      "Aging Rate: 2.5453712423957035e-05\n"
     ]
    },
    {
     "name": "stderr",
     "output_type": "stream",
     "text": [
      "C:\\Users\\user\\Desktop\\Darui_R08621110\\Master_Thesis\\AUO aging test\\Full_Version_Code\\library\\Aging_Score_Contour.py:43: RuntimeWarning: invalid value encountered in double_scalars\n",
      "  eff = r/ag\n"
     ]
    },
    {
     "name": "stdout",
     "output_type": "stream",
     "text": [
      "Precision: 0 \n",
      "Recall: 0.0 \n",
      "Aging Rate: 0.0\n",
      "\u001b[33m[W 2021-12-13 12:47:23,910]\u001b[0m Trial 42 failed, because the objective function returned nan.\u001b[0m\n"
     ]
    },
    {
     "name": "stderr",
     "output_type": "stream",
     "text": [
      "C:\\Users\\user\\Desktop\\Darui_R08621110\\Master_Thesis\\AUO aging test\\Full_Version_Code\\library\\Aging_Score_Contour.py:43: RuntimeWarning: invalid value encountered in double_scalars\n",
      "  eff = r/ag\n"
     ]
    },
    {
     "name": "stdout",
     "output_type": "stream",
     "text": [
      "Precision: 0 \n",
      "Recall: 0.0 \n",
      "Aging Rate: 0.0\n"
     ]
    },
    {
     "name": "stderr",
     "output_type": "stream",
     "text": [
      "C:\\Users\\user\\Desktop\\Darui_R08621110\\Master_Thesis\\AUO aging test\\Full_Version_Code\\library\\Aging_Score_Contour.py:43: RuntimeWarning: invalid value encountered in double_scalars\n",
      "  eff = r/ag\n"
     ]
    },
    {
     "name": "stdout",
     "output_type": "stream",
     "text": [
      "Precision: 0 \n",
      "Recall: 0.0 \n",
      "Aging Rate: 0.0\n"
     ]
    },
    {
     "name": "stderr",
     "output_type": "stream",
     "text": [
      "C:\\Users\\user\\Desktop\\Darui_R08621110\\Master_Thesis\\AUO aging test\\Full_Version_Code\\library\\Aging_Score_Contour.py:43: RuntimeWarning: invalid value encountered in double_scalars\n",
      "  eff = r/ag\n"
     ]
    },
    {
     "name": "stdout",
     "output_type": "stream",
     "text": [
      "Precision: 0 \n",
      "Recall: 0.0 \n",
      "Aging Rate: 0.0\n",
      "\u001b[33m[W 2021-12-13 12:48:16,898]\u001b[0m Trial 43 failed, because the objective function returned nan.\u001b[0m\n"
     ]
    },
    {
     "name": "stderr",
     "output_type": "stream",
     "text": [
      "C:\\Users\\user\\Desktop\\Darui_R08621110\\Master_Thesis\\AUO aging test\\Full_Version_Code\\library\\Aging_Score_Contour.py:43: RuntimeWarning: invalid value encountered in double_scalars\n",
      "  eff = r/ag\n"
     ]
    },
    {
     "name": "stdout",
     "output_type": "stream",
     "text": [
      "Precision: 0 \n",
      "Recall: 0.0 \n",
      "Aging Rate: 0.0\n"
     ]
    },
    {
     "name": "stderr",
     "output_type": "stream",
     "text": [
      "C:\\Users\\user\\Desktop\\Darui_R08621110\\Master_Thesis\\AUO aging test\\Full_Version_Code\\library\\Aging_Score_Contour.py:43: RuntimeWarning: invalid value encountered in double_scalars\n",
      "  eff = r/ag\n"
     ]
    },
    {
     "name": "stdout",
     "output_type": "stream",
     "text": [
      "Precision: 0 \n",
      "Recall: 0.0 \n",
      "Aging Rate: 0.0\n"
     ]
    },
    {
     "name": "stderr",
     "output_type": "stream",
     "text": [
      "C:\\Users\\user\\Desktop\\Darui_R08621110\\Master_Thesis\\AUO aging test\\Full_Version_Code\\library\\Aging_Score_Contour.py:43: RuntimeWarning: invalid value encountered in double_scalars\n",
      "  eff = r/ag\n"
     ]
    },
    {
     "name": "stdout",
     "output_type": "stream",
     "text": [
      "Precision: 0 \n",
      "Recall: 0.0 \n",
      "Aging Rate: 0.0\n",
      "\u001b[33m[W 2021-12-13 12:48:58,859]\u001b[0m Trial 44 failed, because the objective function returned nan.\u001b[0m\n"
     ]
    },
    {
     "name": "stderr",
     "output_type": "stream",
     "text": [
      "C:\\Users\\user\\Desktop\\Darui_R08621110\\Master_Thesis\\AUO aging test\\Full_Version_Code\\library\\Aging_Score_Contour.py:43: RuntimeWarning: invalid value encountered in double_scalars\n",
      "  eff = r/ag\n"
     ]
    },
    {
     "name": "stdout",
     "output_type": "stream",
     "text": [
      "Precision: 0 \n",
      "Recall: 0.0 \n",
      "Aging Rate: 0.0\n"
     ]
    },
    {
     "name": "stderr",
     "output_type": "stream",
     "text": [
      "C:\\Users\\user\\Desktop\\Darui_R08621110\\Master_Thesis\\AUO aging test\\Full_Version_Code\\library\\Aging_Score_Contour.py:43: RuntimeWarning: invalid value encountered in double_scalars\n",
      "  eff = r/ag\n"
     ]
    },
    {
     "name": "stdout",
     "output_type": "stream",
     "text": [
      "Precision: 0 \n",
      "Recall: 0.0 \n",
      "Aging Rate: 0.0\n"
     ]
    },
    {
     "name": "stderr",
     "output_type": "stream",
     "text": [
      "C:\\Users\\user\\Desktop\\Darui_R08621110\\Master_Thesis\\AUO aging test\\Full_Version_Code\\library\\Aging_Score_Contour.py:43: RuntimeWarning: invalid value encountered in double_scalars\n",
      "  eff = r/ag\n"
     ]
    },
    {
     "name": "stdout",
     "output_type": "stream",
     "text": [
      "Precision: 0 \n",
      "Recall: 0.0 \n",
      "Aging Rate: 0.0\n",
      "\u001b[33m[W 2021-12-13 12:49:22,602]\u001b[0m Trial 45 failed, because the objective function returned nan.\u001b[0m\n",
      "Precision: 1.0 \n",
      "Recall: 0.013157894736842105 \n",
      "Aging Rate: 2.5453712423957035e-05\n"
     ]
    },
    {
     "name": "stderr",
     "output_type": "stream",
     "text": [
      "C:\\Users\\user\\Desktop\\Darui_R08621110\\Master_Thesis\\AUO aging test\\Full_Version_Code\\library\\Aging_Score_Contour.py:43: RuntimeWarning: invalid value encountered in double_scalars\n",
      "  eff = r/ag\n"
     ]
    },
    {
     "name": "stdout",
     "output_type": "stream",
     "text": [
      "Precision: 0 \n",
      "Recall: 0.0 \n",
      "Aging Rate: 0.0\n",
      "Precision: 1.0 \n",
      "Recall: 0.05263157894736842 \n",
      "Aging Rate: 0.00010181484969582814\n",
      "\u001b[33m[W 2021-12-13 12:50:05,348]\u001b[0m Trial 46 failed, because the objective function returned nan.\u001b[0m\n",
      "Precision: 1.0 \n",
      "Recall: 0.02631578947368421 \n",
      "Aging Rate: 5.090742484791407e-05\n",
      "Precision: 1.0 \n",
      "Recall: 0.013157894736842105 \n",
      "Aging Rate: 2.5453712423957035e-05\n"
     ]
    },
    {
     "name": "stderr",
     "output_type": "stream",
     "text": [
      "C:\\Users\\user\\Desktop\\Darui_R08621110\\Master_Thesis\\AUO aging test\\Full_Version_Code\\library\\Aging_Score_Contour.py:43: RuntimeWarning: invalid value encountered in double_scalars\n",
      "  eff = r/ag\n"
     ]
    },
    {
     "name": "stdout",
     "output_type": "stream",
     "text": [
      "Precision: 0 \n",
      "Recall: 0.0 \n",
      "Aging Rate: 0.0\n",
      "\u001b[33m[W 2021-12-13 12:50:21,563]\u001b[0m Trial 47 failed, because the objective function returned nan.\u001b[0m\n"
     ]
    },
    {
     "name": "stderr",
     "output_type": "stream",
     "text": [
      "C:\\Users\\user\\Desktop\\Darui_R08621110\\Master_Thesis\\AUO aging test\\Full_Version_Code\\library\\Aging_Score_Contour.py:43: RuntimeWarning: invalid value encountered in double_scalars\n",
      "  eff = r/ag\n"
     ]
    },
    {
     "name": "stdout",
     "output_type": "stream",
     "text": [
      "Precision: 0 \n",
      "Recall: 0.0 \n",
      "Aging Rate: 0.0\n"
     ]
    },
    {
     "name": "stderr",
     "output_type": "stream",
     "text": [
      "C:\\Users\\user\\Desktop\\Darui_R08621110\\Master_Thesis\\AUO aging test\\Full_Version_Code\\library\\Aging_Score_Contour.py:43: RuntimeWarning: invalid value encountered in double_scalars\n",
      "  eff = r/ag\n"
     ]
    },
    {
     "name": "stdout",
     "output_type": "stream",
     "text": [
      "Precision: 0 \n",
      "Recall: 0.0 \n",
      "Aging Rate: 0.0\n"
     ]
    },
    {
     "name": "stderr",
     "output_type": "stream",
     "text": [
      "C:\\Users\\user\\Desktop\\Darui_R08621110\\Master_Thesis\\AUO aging test\\Full_Version_Code\\library\\Aging_Score_Contour.py:43: RuntimeWarning: invalid value encountered in double_scalars\n",
      "  eff = r/ag\n"
     ]
    },
    {
     "name": "stdout",
     "output_type": "stream",
     "text": [
      "Precision: 0 \n",
      "Recall: 0.0 \n",
      "Aging Rate: 0.0\n",
      "\u001b[33m[W 2021-12-13 12:51:10,609]\u001b[0m Trial 48 failed, because the objective function returned nan.\u001b[0m\n"
     ]
    },
    {
     "name": "stderr",
     "output_type": "stream",
     "text": [
      "C:\\Users\\user\\Desktop\\Darui_R08621110\\Master_Thesis\\AUO aging test\\Full_Version_Code\\library\\Aging_Score_Contour.py:43: RuntimeWarning: invalid value encountered in double_scalars\n",
      "  eff = r/ag\n"
     ]
    },
    {
     "name": "stdout",
     "output_type": "stream",
     "text": [
      "Precision: 0 \n",
      "Recall: 0.0 \n",
      "Aging Rate: 0.0\n"
     ]
    },
    {
     "name": "stderr",
     "output_type": "stream",
     "text": [
      "C:\\Users\\user\\Desktop\\Darui_R08621110\\Master_Thesis\\AUO aging test\\Full_Version_Code\\library\\Aging_Score_Contour.py:43: RuntimeWarning: invalid value encountered in double_scalars\n",
      "  eff = r/ag\n"
     ]
    },
    {
     "name": "stdout",
     "output_type": "stream",
     "text": [
      "Precision: 0 \n",
      "Recall: 0.0 \n",
      "Aging Rate: 0.0\n"
     ]
    },
    {
     "name": "stderr",
     "output_type": "stream",
     "text": [
      "C:\\Users\\user\\Desktop\\Darui_R08621110\\Master_Thesis\\AUO aging test\\Full_Version_Code\\library\\Aging_Score_Contour.py:43: RuntimeWarning: invalid value encountered in double_scalars\n",
      "  eff = r/ag\n"
     ]
    },
    {
     "name": "stdout",
     "output_type": "stream",
     "text": [
      "Precision: 0 \n",
      "Recall: 0.0 \n",
      "Aging Rate: 0.0\n",
      "\u001b[33m[W 2021-12-13 12:51:50,140]\u001b[0m Trial 49 failed, because the objective function returned nan.\u001b[0m\n"
     ]
    },
    {
     "name": "stderr",
     "output_type": "stream",
     "text": [
      "C:\\Users\\user\\anaconda3\\envs\\aging\\lib\\site-packages\\optuna\\samplers\\_tpe\\sampler.py:253: ExperimentalWarning: ``multivariate`` option is an experimental feature. The interface can change in the future.\n",
      "  ExperimentalWarning,\n",
      "\u001b[32m[I 2021-12-13 12:51:50,297]\u001b[0m A new study created in memory with name: no-name-e1754d54-45c1-4b5c-bd7b-78c0020a2687\u001b[0m\n"
     ]
    },
    {
     "name": "stdout",
     "output_type": "stream",
     "text": [
      "Sampler is TPESampler\n",
      "Dataset1 :\n"
     ]
    },
    {
     "name": "stderr",
     "output_type": "stream",
     "text": [
      "C:\\Users\\user\\anaconda3\\envs\\aging\\lib\\site-packages\\optuna\\progress_bar.py:47: ExperimentalWarning: Progress bar is experimental (supported from v1.2.0). The interface can change in the future.\n",
      "  self._init_valid()\n"
     ]
    },
    {
     "data": {
      "application/vnd.jupyter.widget-view+json": {
       "model_id": "301936202985411f830b6a82ddc6fd1e",
       "version_major": 2,
       "version_minor": 0
      },
      "text/plain": [
       "  0%|          | 0/50 [00:00<?, ?it/s]"
      ]
     },
     "metadata": {},
     "output_type": "display_data"
    },
    {
     "name": "stdout",
     "output_type": "stream",
     "text": [
      "Precision: 0.9907651715039578 \n",
      "Recall: 0.9791395045632334 \n",
      "Aging Rate: 0.4941329856584094\n",
      "Precision: 0.9803664921465969 \n",
      "Recall: 0.9765319426336375 \n",
      "Aging Rate: 0.4980443285528031\n",
      "Precision: 0.9790301441677588 \n",
      "Recall: 0.9739243807040417 \n",
      "Aging Rate: 0.4973924380704042\n",
      "\u001b[32m[I 2021-12-13 12:51:56,353]\u001b[0m Trial 0 finished with value: 0.9809055890957717 and parameters: {'n_estimators': 600, 'min_samples_split': 7, 'max_depth': 9}. Best is trial 0 with value: 0.9809055890957717.\u001b[0m\n",
      "Precision: 0.881491344873502 \n",
      "Recall: 0.863102998696219 \n",
      "Aging Rate: 0.4895697522816167\n",
      "Precision: 0.8879892037786775 \n",
      "Recall: 0.8578878748370273 \n",
      "Aging Rate: 0.4830508474576271\n",
      "Precision: 0.8594377510040161 \n",
      "Recall: 0.8370273794002607 \n",
      "Aging Rate: 0.4869621903520209\n",
      "\u001b[32m[I 2021-12-13 12:52:00,405]\u001b[0m Trial 1 finished with value: 0.8676424917546507 and parameters: {'n_estimators': 400, 'min_samples_split': 27, 'max_depth': 3}. Best is trial 0 with value: 0.9809055890957717.\u001b[0m\n",
      "Precision: 0.8710562414266118 \n",
      "Recall: 0.8279009126466753 \n",
      "Aging Rate: 0.47522816166883963\n",
      "Precision: 0.8640646029609691 \n",
      "Recall: 0.8370273794002607 \n",
      "Aging Rate: 0.48435462842242505\n",
      "Precision: 0.8661087866108786 \n",
      "Recall: 0.8096479791395046 \n",
      "Aging Rate: 0.46740547588005216\n",
      "\u001b[32m[I 2021-12-13 12:52:02,879]\u001b[0m Trial 2 finished with value: 0.8513472787481545 and parameters: {'n_estimators': 200, 'min_samples_split': 7, 'max_depth': 3}. Best is trial 0 with value: 0.9809055890957717.\u001b[0m\n",
      "Precision: 0.9921363040629095 \n",
      "Recall: 0.9869621903520208 \n",
      "Aging Rate: 0.4973924380704042\n",
      "Precision: 0.997364953886693 \n",
      "Recall: 0.9869621903520208 \n",
      "Aging Rate: 0.49478487614080835\n",
      "Precision: 0.9973821989528796 \n",
      "Recall: 0.9934810951760105 \n",
      "Aging Rate: 0.4980443285528031\n",
      "\u001b[32m[I 2021-12-13 12:52:05,926]\u001b[0m Trial 3 finished with value: 0.993278818102 and parameters: {'n_estimators': 300, 'min_samples_split': 2, 'max_depth': 15}. Best is trial 3 with value: 0.993278818102.\u001b[0m\n",
      "Precision: 0.9947229551451188 \n",
      "Recall: 0.9830508474576272 \n",
      "Aging Rate: 0.4941329856584094\n",
      "Precision: 0.9960526315789474 \n",
      "Recall: 0.9869621903520208 \n",
      "Aging Rate: 0.4954367666232073\n",
      "Precision: 0.996042216358839 \n",
      "Recall: 0.984354628422425 \n",
      "Aging Rate: 0.4941329856584094\n",
      "\u001b[32m[I 2021-12-13 12:52:11,126]\u001b[0m Trial 4 finished with value: 0.9916842984768754 and parameters: {'n_estimators': 600, 'min_samples_split': 17, 'max_depth': 18}. Best is trial 3 with value: 0.993278818102.\u001b[0m\n",
      "Precision: 0.8756906077348067 \n",
      "Recall: 0.8265971316818774 \n",
      "Aging Rate: 0.47196870925684486\n",
      "Precision: 0.8787061994609164 \n",
      "Recall: 0.8500651890482399 \n",
      "Aging Rate: 0.48370273794002605\n",
      "Precision: 0.8585034013605443 \n",
      "Recall: 0.8226857887874837 \n",
      "Aging Rate: 0.4791395045632334\n",
      "\u001b[32m[I 2021-12-13 12:52:15,908]\u001b[0m Trial 5 finished with value: 0.856930103018778 and parameters: {'n_estimators': 500, 'min_samples_split': 17, 'max_depth': 3}. Best is trial 3 with value: 0.993278818102.\u001b[0m\n",
      "Precision: 0.8903924221921515 \n",
      "Recall: 0.8578878748370273 \n",
      "Aging Rate: 0.4817470664928292\n",
      "Precision: 0.8676056338028169 \n",
      "Recall: 0.803129074315515 \n",
      "Aging Rate: 0.46284224250325945\n",
      "Precision: 0.8811188811188811 \n",
      "Recall: 0.8213820078226858 \n",
      "Aging Rate: 0.4661016949152542\n",
      "\u001b[32m[I 2021-12-13 12:52:22,444]\u001b[0m Trial 6 finished with value: 0.8600946597217223 and parameters: {'n_estimators': 700, 'min_samples_split': 22, 'max_depth': 3}. Best is trial 3 with value: 0.993278818102.\u001b[0m\n",
      "Precision: 0.9921976592977894 \n",
      "Recall: 0.9947848761408083 \n",
      "Aging Rate: 0.5013037809647979\n",
      "Precision: 0.9960629921259843 \n",
      "Recall: 0.9895697522816167 \n",
      "Aging Rate: 0.49674054758800523\n",
      "Precision: 0.996078431372549 \n",
      "Recall: 0.9934810951760105 \n",
      "Aging Rate: 0.49869621903520206\n",
      "\u001b[32m[I 2021-12-13 12:52:26,526]\u001b[0m Trial 7 finished with value: 0.9939949884204023 and parameters: {'n_estimators': 400, 'min_samples_split': 2, 'max_depth': 18}. Best is trial 7 with value: 0.9939949884204023.\u001b[0m\n",
      "Precision: 0.9921259842519685 \n",
      "Recall: 0.9856584093872229 \n",
      "Aging Rate: 0.49674054758800523\n",
      "Precision: 0.9894179894179894 \n",
      "Recall: 0.9752281616688396 \n",
      "Aging Rate: 0.49282920469361147\n",
      "Precision: 0.9908015768725361 \n",
      "Recall: 0.9830508474576272 \n",
      "Aging Rate: 0.49608865710560623\n",
      "\u001b[32m[I 2021-12-13 12:52:28,085]\u001b[0m Trial 8 finished with value: 0.9873491688929579 and parameters: {'n_estimators': 100, 'min_samples_split': 17, 'max_depth': 12}. Best is trial 7 with value: 0.9939949884204023.\u001b[0m\n",
      "Precision: 0.9921052631578947 \n",
      "Recall: 0.9830508474576272 \n",
      "Aging Rate: 0.4954367666232073\n",
      "Precision: 0.9960369881109643 \n",
      "Recall: 0.9830508474576272 \n",
      "Aging Rate: 0.4934810951760104\n",
      "Precision: 0.9856396866840731 \n",
      "Recall: 0.984354628422425 \n",
      "Aging Rate: 0.49934810951760106\n",
      "\u001b[32m[I 2021-12-13 12:52:32,141]\u001b[0m Trial 9 finished with value: 0.9884419473238163 and parameters: {'n_estimators': 400, 'min_samples_split': 27, 'max_depth': 18}. Best is trial 7 with value: 0.9939949884204023.\u001b[0m\n",
      "Precision: 0.9908136482939632 \n",
      "Recall: 0.984354628422425 \n",
      "Aging Rate: 0.49674054758800523\n",
      "Precision: 0.9960474308300395 \n",
      "Recall: 0.9856584093872229 \n",
      "Aging Rate: 0.49478487614080835\n",
      "Precision: 0.9921773142112125 \n",
      "Recall: 0.9921773142112125 \n",
      "Aging Rate: 0.5\n",
      "\u001b[32m[I 2021-12-13 12:52:36,758]\u001b[0m Trial 10 finished with value: 0.9909794075730717 and parameters: {'n_estimators': 400, 'min_samples_split': 7, 'max_depth': 21}. Best is trial 7 with value: 0.9939949884204023.\u001b[0m\n",
      "Precision: 0.9960526315789474 \n",
      "Recall: 0.9869621903520208 \n",
      "Aging Rate: 0.4954367666232073\n",
      "Precision: 0.9960681520314548 \n",
      "Recall: 0.9908735332464146 \n",
      "Aging Rate: 0.4973924380704042\n",
      "Precision: 0.9934725848563969 \n",
      "Recall: 0.9921773142112125 \n",
      "Aging Rate: 0.49934810951760106\n",
      "\u001b[32m[I 2021-12-13 12:52:40,173]\u001b[0m Trial 11 finished with value: 0.9933195234417364 and parameters: {'n_estimators': 200, 'min_samples_split': 2, 'max_depth': 15}. Best is trial 7 with value: 0.9939949884204023.\u001b[0m\n",
      "Precision: 0.9960526315789474 \n",
      "Recall: 0.9869621903520208 \n",
      "Aging Rate: 0.4954367666232073\n",
      "Precision: 0.9973787680209698 \n",
      "Recall: 0.9921773142112125 \n",
      "Aging Rate: 0.4973924380704042\n",
      "Precision: 0.9960732984293194 \n",
      "Recall: 0.9921773142112125 \n",
      "Aging Rate: 0.4980443285528031\n",
      "\u001b[32m[I 2021-12-13 12:52:42,476]\u001b[0m Trial 12 finished with value: 0.9943093479322579 and parameters: {'n_estimators': 100, 'min_samples_split': 7, 'max_depth': 21}. Best is trial 12 with value: 0.9943093479322579.\u001b[0m\n",
      "Precision: 0.9908136482939632 \n",
      "Recall: 0.984354628422425 \n",
      "Aging Rate: 0.49674054758800523\n",
      "Precision: 0.988296488946684 \n",
      "Recall: 0.9908735332464146 \n",
      "Aging Rate: 0.5013037809647979\n",
      "Precision: 0.9947643979057592 \n",
      "Recall: 0.9908735332464146 \n",
      "Aging Rate: 0.4980443285528031\n",
      "\u001b[32m[I 2021-12-13 12:52:44,909]\u001b[0m Trial 13 finished with value: 0.9903538366839232 and parameters: {'n_estimators': 100, 'min_samples_split': 12, 'max_depth': 21}. Best is trial 12 with value: 0.9943093479322579.\u001b[0m\n",
      "Precision: 0.9934640522875817 \n",
      "Recall: 0.9908735332464146 \n",
      "Aging Rate: 0.49869621903520206\n",
      "Precision: 0.9934469200524246 \n",
      "Recall: 0.9882659713168188 \n",
      "Aging Rate: 0.4973924380704042\n",
      "Precision: 0.9908735332464146 \n",
      "Recall: 0.9908735332464146 \n",
      "Aging Rate: 0.5\n",
      "\u001b[32m[I 2021-12-13 12:52:47,609]\u001b[0m Trial 14 finished with value: 0.9916596573851786 and parameters: {'n_estimators': 300, 'min_samples_split': 2, 'max_depth': 21}. Best is trial 12 with value: 0.9943093479322579.\u001b[0m\n",
      "Precision: 0.996078431372549 \n",
      "Recall: 0.9934810951760105 \n",
      "Aging Rate: 0.49869621903520206\n",
      "Precision: 0.993421052631579 \n",
      "Recall: 0.984354628422425 \n",
      "Aging Rate: 0.4954367666232073\n",
      "Precision: 0.994729907773386 \n",
      "Recall: 0.984354628422425 \n",
      "Aging Rate: 0.49478487614080835\n",
      "\u001b[32m[I 2021-12-13 12:52:53,578]\u001b[0m Trial 15 finished with value: 0.9920831658032184 and parameters: {'n_estimators': 600, 'min_samples_split': 7, 'max_depth': 15}. Best is trial 12 with value: 0.9943093479322579.\u001b[0m\n",
      "Precision: 0.988110964332893 \n",
      "Recall: 0.9752281616688396 \n",
      "Aging Rate: 0.4934810951760104\n",
      "Precision: 0.9908735332464146 \n",
      "Recall: 0.9908735332464146 \n",
      "Aging Rate: 0.5\n",
      "Precision: 0.9868766404199475 \n",
      "Recall: 0.9804432855280313 \n",
      "Aging Rate: 0.49674054758800523\n",
      "\u001b[32m[I 2021-12-13 12:53:00,740]\u001b[0m Trial 16 finished with value: 0.9862861979194593 and parameters: {'n_estimators': 800, 'min_samples_split': 32, 'max_depth': 15}. Best is trial 12 with value: 0.9943093479322579.\u001b[0m\n"
     ]
    },
    {
     "name": "stdout",
     "output_type": "stream",
     "text": [
      "Precision: 0.9703989703989704 \n",
      "Recall: 0.9830508474576272 \n",
      "Aging Rate: 0.5065189048239895\n",
      "Precision: 0.9815059445178336 \n",
      "Recall: 0.9687092568448501 \n",
      "Aging Rate: 0.4934810951760104\n",
      "Precision: 0.9855263157894737 \n",
      "Recall: 0.9765319426336375 \n",
      "Aging Rate: 0.4954367666232073\n",
      "\u001b[32m[I 2021-12-13 12:53:03,147]\u001b[0m Trial 17 finished with value: 0.9780152154788677 and parameters: {'n_estimators': 100, 'min_samples_split': 32, 'max_depth': 12}. Best is trial 12 with value: 0.9943093479322579.\u001b[0m\n",
      "Precision: 0.9921875 \n",
      "Recall: 0.9934810951760105 \n",
      "Aging Rate: 0.500651890482399\n",
      "Precision: 0.9986859395532195 \n",
      "Recall: 0.9908735332464146 \n",
      "Aging Rate: 0.49608865710560623\n",
      "Precision: 0.9973753280839895 \n",
      "Recall: 0.9908735332464146 \n",
      "Aging Rate: 0.49674054758800523\n",
      "\u001b[32m[I 2021-12-13 12:53:08,594]\u001b[0m Trial 18 finished with value: 0.9945123344640309 and parameters: {'n_estimators': 600, 'min_samples_split': 2, 'max_depth': 21}. Best is trial 18 with value: 0.9945123344640309.\u001b[0m\n",
      "Precision: 0.9947575360419397 \n",
      "Recall: 0.9895697522816167 \n",
      "Aging Rate: 0.4973924380704042\n",
      "Precision: 0.9986824769433466 \n",
      "Recall: 0.9882659713168188 \n",
      "Aging Rate: 0.49478487614080835\n",
      "Precision: 1.0 \n",
      "Recall: 0.9882659713168188 \n",
      "Aging Rate: 0.4941329856584094\n",
      "\u001b[32m[I 2021-12-13 12:53:14,781]\u001b[0m Trial 19 finished with value: 0.9945116001661094 and parameters: {'n_estimators': 600, 'min_samples_split': 2, 'max_depth': 21}. Best is trial 18 with value: 0.9945123344640309.\u001b[0m\n",
      "Precision: 0.9986893840104849 \n",
      "Recall: 0.9934810951760105 \n",
      "Aging Rate: 0.4973924380704042\n",
      "Precision: 0.9973821989528796 \n",
      "Recall: 0.9934810951760105 \n",
      "Aging Rate: 0.4980443285528031\n",
      "Precision: 0.9947780678851175 \n",
      "Recall: 0.9934810951760105 \n",
      "Aging Rate: 0.49934810951760106\n",
      "\u001b[32m[I 2021-12-13 12:53:20,923]\u001b[0m Trial 20 finished with value: 0.9956977219875309 and parameters: {'n_estimators': 600, 'min_samples_split': 2, 'max_depth': 21}. Best is trial 20 with value: 0.9956977219875309.\u001b[0m\n",
      "Precision: 1.0 \n",
      "Recall: 0.9960886571056062 \n",
      "Aging Rate: 0.4980443285528031\n",
      "Precision: 0.9908496732026144 \n",
      "Recall: 0.9882659713168188 \n",
      "Aging Rate: 0.49869621903520206\n",
      "Precision: 0.9934640522875817 \n",
      "Recall: 0.9908735332464146 \n",
      "Aging Rate: 0.49869621903520206\n",
      "\u001b[32m[I 2021-12-13 12:53:26,901]\u001b[0m Trial 21 finished with value: 0.9936787583647048 and parameters: {'n_estimators': 700, 'min_samples_split': 2, 'max_depth': 21}. Best is trial 20 with value: 0.9956977219875309.\u001b[0m\n",
      "Precision: 0.9895561357702349 \n",
      "Recall: 0.9882659713168188 \n",
      "Aging Rate: 0.49934810951760106\n",
      "Precision: 0.9934123847167325 \n",
      "Recall: 0.9830508474576272 \n",
      "Aging Rate: 0.49478487614080835\n",
      "Precision: 0.9973856209150327 \n",
      "Recall: 0.9947848761408083 \n",
      "Aging Rate: 0.49869621903520206\n",
      "\u001b[32m[I 2021-12-13 12:53:34,138]\u001b[0m Trial 22 finished with value: 0.9917320800834303 and parameters: {'n_estimators': 800, 'min_samples_split': 12, 'max_depth': 21}. Best is trial 20 with value: 0.9956977219875309.\u001b[0m\n",
      "Precision: 0.9934810951760105 \n",
      "Recall: 0.9934810951760105 \n",
      "Aging Rate: 0.5\n",
      "Precision: 0.9871134020618557 \n",
      "Recall: 0.9986962190352021 \n",
      "Aging Rate: 0.5058670143415906\n",
      "Precision: 0.9947916666666666 \n",
      "Recall: 0.9960886571056062 \n",
      "Aging Rate: 0.500651890482399\n",
      "\u001b[32m[I 2021-12-13 12:53:39,938]\u001b[0m Trial 23 finished with value: 0.9933304747749249 and parameters: {'n_estimators': 600, 'min_samples_split': 2, 'max_depth': 21}. Best is trial 20 with value: 0.9956977219875309.\u001b[0m\n",
      "Precision: 0.9947643979057592 \n",
      "Recall: 0.9908735332464146 \n",
      "Aging Rate: 0.4980443285528031\n",
      "Precision: 0.9856957087126138 \n",
      "Recall: 0.9882659713168188 \n",
      "Aging Rate: 0.5013037809647979\n",
      "Precision: 0.9921465968586387 \n",
      "Recall: 0.9882659713168188 \n",
      "Aging Rate: 0.4980443285528031\n",
      "\u001b[32m[I 2021-12-13 12:53:46,760]\u001b[0m Trial 24 finished with value: 0.9902418996369464 and parameters: {'n_estimators': 800, 'min_samples_split': 2, 'max_depth': 15}. Best is trial 20 with value: 0.9956977219875309.\u001b[0m\n",
      "Precision: 0.9973614775725593 \n",
      "Recall: 0.9856584093872229 \n",
      "Aging Rate: 0.4941329856584094\n",
      "Precision: 0.9973787680209698 \n",
      "Recall: 0.9921773142112125 \n",
      "Aging Rate: 0.4973924380704042\n",
      "Precision: 0.9960732984293194 \n",
      "Recall: 0.9921773142112125 \n",
      "Aging Rate: 0.4980443285528031\n",
      "\u001b[32m[I 2021-12-13 12:53:52,745]\u001b[0m Trial 25 finished with value: 0.9944278974402492 and parameters: {'n_estimators': 600, 'min_samples_split': 12, 'max_depth': 21}. Best is trial 20 with value: 0.9956977219875309.\u001b[0m\n",
      "Precision: 1.0 \n",
      "Recall: 0.9882659713168188 \n",
      "Aging Rate: 0.4941329856584094\n",
      "Precision: 0.9960681520314548 \n",
      "Recall: 0.9908735332464146 \n",
      "Aging Rate: 0.4973924380704042\n",
      "Precision: 0.9986893840104849 \n",
      "Recall: 0.9934810951760105 \n",
      "Aging Rate: 0.4973924380704042\n",
      "\u001b[32m[I 2021-12-13 12:53:57,772]\u001b[0m Trial 26 finished with value: 0.9955812447092652 and parameters: {'n_estimators': 500, 'min_samples_split': 2, 'max_depth': 21}. Best is trial 20 with value: 0.9956977219875309.\u001b[0m\n",
      "Precision: 0.9921773142112125 \n",
      "Recall: 0.9921773142112125 \n",
      "Aging Rate: 0.5\n",
      "Precision: 0.9973718791064389 \n",
      "Recall: 0.9895697522816167 \n",
      "Aging Rate: 0.49608865710560623\n",
      "Precision: 0.993455497382199 \n",
      "Recall: 0.9895697522816167 \n",
      "Aging Rate: 0.4980443285528031\n",
      "\u001b[32m[I 2021-12-13 12:54:03,266]\u001b[0m Trial 27 finished with value: 0.9929264711312887 and parameters: {'n_estimators': 600, 'min_samples_split': 2, 'max_depth': 15}. Best is trial 20 with value: 0.9956977219875309.\u001b[0m\n",
      "Precision: 1.0 \n",
      "Recall: 0.9960886571056062 \n",
      "Aging Rate: 0.4980443285528031\n",
      "Precision: 0.9986876640419947 \n",
      "Recall: 0.9921773142112125 \n",
      "Aging Rate: 0.49674054758800523\n",
      "Precision: 0.9960578186596584 \n",
      "Recall: 0.9882659713168188 \n",
      "Aging Rate: 0.49608865710560623\n",
      "\u001b[32m[I 2021-12-13 12:54:07,928]\u001b[0m Trial 28 finished with value: 0.9960537137117259 and parameters: {'n_estimators': 500, 'min_samples_split': 2, 'max_depth': 21}. Best is trial 28 with value: 0.9960537137117259.\u001b[0m\n",
      "Precision: 0.9933598937583001 \n",
      "Recall: 0.9752281616688396 \n",
      "Aging Rate: 0.4908735332464146\n",
      "Precision: 0.9908015768725361 \n",
      "Recall: 0.9830508474576272 \n",
      "Aging Rate: 0.49608865710560623\n",
      "Precision: 0.9880794701986755 \n",
      "Recall: 0.9726205997392438 \n",
      "Aging Rate: 0.4921773142112125\n",
      "\u001b[32m[I 2021-12-13 12:54:08,980]\u001b[0m Trial 29 finished with value: 0.9857368598530595 and parameters: {'n_estimators': 100, 'min_samples_split': 32, 'max_depth': 21}. Best is trial 28 with value: 0.9960537137117259.\u001b[0m\n",
      "Precision: 0.993455497382199 \n",
      "Recall: 0.9895697522816167 \n",
      "Aging Rate: 0.4980443285528031\n",
      "Precision: 0.9973753280839895 \n",
      "Recall: 0.9908735332464146 \n",
      "Aging Rate: 0.49674054758800523\n",
      "Precision: 0.994729907773386 \n",
      "Recall: 0.984354628422425 \n",
      "Aging Rate: 0.49478487614080835\n",
      "\u001b[32m[I 2021-12-13 12:54:14,592]\u001b[0m Trial 30 finished with value: 0.9926825669218232 and parameters: {'n_estimators': 500, 'min_samples_split': 7, 'max_depth': 21}. Best is trial 28 with value: 0.9960537137117259.\u001b[0m\n",
      "Precision: 0.9960886571056062 \n",
      "Recall: 0.9960886571056062 \n",
      "Aging Rate: 0.5\n",
      "Precision: 1.0 \n",
      "Recall: 0.9921773142112125 \n",
      "Aging Rate: 0.49608865710560623\n",
      "Precision: 0.9986928104575163 \n",
      "Recall: 0.9960886571056062 \n",
      "Aging Rate: 0.49869621903520206\n",
      "\u001b[32m[I 2021-12-13 12:54:20,625]\u001b[0m Trial 31 finished with value: 0.9970040227307345 and parameters: {'n_estimators': 500, 'min_samples_split': 2, 'max_depth': 18}. Best is trial 31 with value: 0.9970040227307345.\u001b[0m\n",
      "Precision: 0.9947643979057592 \n",
      "Recall: 0.9908735332464146 \n",
      "Aging Rate: 0.4980443285528031\n",
      "Precision: 0.9973787680209698 \n",
      "Recall: 0.9921773142112125 \n",
      "Aging Rate: 0.4973924380704042\n",
      "Precision: 0.9908854166666666 \n",
      "Recall: 0.9921773142112125 \n",
      "Aging Rate: 0.500651890482399\n",
      "\u001b[32m[I 2021-12-13 12:54:25,362]\u001b[0m Trial 32 finished with value: 0.9934034191180244 and parameters: {'n_estimators': 500, 'min_samples_split': 2, 'max_depth': 18}. Best is trial 31 with value: 0.9970040227307345.\u001b[0m\n",
      "Precision: 0.996078431372549 \n",
      "Recall: 0.9934810951760105 \n",
      "Aging Rate: 0.49869621903520206\n",
      "Precision: 1.0 \n",
      "Recall: 0.9908735332464146 \n",
      "Aging Rate: 0.4954367666232073\n",
      "Precision: 1.0 \n",
      "Recall: 0.9921773142112125 \n",
      "Aging Rate: 0.49608865710560623\n",
      "\u001b[32m[I 2021-12-13 12:54:30,695]\u001b[0m Trial 33 finished with value: 0.9963355529771167 and parameters: {'n_estimators': 500, 'min_samples_split': 2, 'max_depth': 21}. Best is trial 31 with value: 0.9970040227307345.\u001b[0m\n",
      "Precision: 0.9947916666666666 \n",
      "Recall: 0.9960886571056062 \n",
      "Aging Rate: 0.500651890482399\n"
     ]
    },
    {
     "name": "stdout",
     "output_type": "stream",
     "text": [
      "Precision: 0.996078431372549 \n",
      "Recall: 0.9934810951760105 \n",
      "Aging Rate: 0.49869621903520206\n",
      "Precision: 0.996078431372549 \n",
      "Recall: 0.9934810951760105 \n",
      "Aging Rate: 0.49869621903520206\n",
      "\u001b[32m[I 2021-12-13 12:54:34,398]\u001b[0m Trial 34 finished with value: 0.9951806161815568 and parameters: {'n_estimators': 400, 'min_samples_split': 2, 'max_depth': 21}. Best is trial 31 with value: 0.9970040227307345.\u001b[0m\n",
      "Precision: 0.9973890339425587 \n",
      "Recall: 0.9960886571056062 \n",
      "Aging Rate: 0.49934810951760106\n",
      "Precision: 0.9973544973544973 \n",
      "Recall: 0.9830508474576272 \n",
      "Aging Rate: 0.49282920469361147\n",
      "Precision: 0.9947437582128777 \n",
      "Recall: 0.9869621903520208 \n",
      "Aging Rate: 0.49608865710560623\n",
      "\u001b[32m[I 2021-12-13 12:54:40,384]\u001b[0m Trial 35 finished with value: 0.9936687624783122 and parameters: {'n_estimators': 500, 'min_samples_split': 2, 'max_depth': 15}. Best is trial 31 with value: 0.9970040227307345.\u001b[0m\n",
      "Precision: 0.9803407601572739 \n",
      "Recall: 0.9752281616688396 \n",
      "Aging Rate: 0.4973924380704042\n",
      "Precision: 0.979002624671916 \n",
      "Recall: 0.9726205997392438 \n",
      "Aging Rate: 0.49674054758800523\n",
      "Precision: 0.9814077025232404 \n",
      "Recall: 0.9634941329856584 \n",
      "Aging Rate: 0.4908735332464146\n",
      "\u001b[32m[I 2021-12-13 12:54:45,167]\u001b[0m Trial 36 finished with value: 0.9766907076593222 and parameters: {'n_estimators': 500, 'min_samples_split': 12, 'max_depth': 9}. Best is trial 31 with value: 0.9970040227307345.\u001b[0m\n",
      "Precision: 0.9986842105263158 \n",
      "Recall: 0.9895697522816167 \n",
      "Aging Rate: 0.4954367666232073\n",
      "Precision: 0.9896103896103896 \n",
      "Recall: 0.9934810951760105 \n",
      "Aging Rate: 0.5019556714471969\n",
      "Precision: 0.9921671018276762 \n",
      "Recall: 0.9908735332464146 \n",
      "Aging Rate: 0.49934810951760106\n",
      "\u001b[32m[I 2021-12-13 12:54:50,933]\u001b[0m Trial 37 finished with value: 0.9926950400081426 and parameters: {'n_estimators': 600, 'min_samples_split': 2, 'max_depth': 18}. Best is trial 31 with value: 0.9970040227307345.\u001b[0m\n",
      "Precision: 0.9921156373193167 \n",
      "Recall: 0.984354628422425 \n",
      "Aging Rate: 0.49608865710560623\n",
      "Precision: 0.9960681520314548 \n",
      "Recall: 0.9908735332464146 \n",
      "Aging Rate: 0.4973924380704042\n",
      "Precision: 0.9908735332464146 \n",
      "Recall: 0.9908735332464146 \n",
      "Aging Rate: 0.5\n",
      "\u001b[32m[I 2021-12-13 12:54:55,070]\u001b[0m Trial 38 finished with value: 0.9914576585487369 and parameters: {'n_estimators': 400, 'min_samples_split': 12, 'max_depth': 18}. Best is trial 31 with value: 0.9970040227307345.\u001b[0m\n",
      "Precision: 0.9450261780104712 \n",
      "Recall: 0.9413298565840938 \n",
      "Aging Rate: 0.4980443285528031\n",
      "Precision: 0.9425901201602136 \n",
      "Recall: 0.9204693611473272 \n",
      "Aging Rate: 0.48826597131681876\n",
      "Precision: 0.9498018494055482 \n",
      "Recall: 0.9374185136897001 \n",
      "Aging Rate: 0.4934810951760104\n",
      "\u001b[32m[I 2021-12-13 12:54:57,862]\u001b[0m Trial 39 finished with value: 0.9411679050802535 and parameters: {'n_estimators': 300, 'min_samples_split': 22, 'max_depth': 6}. Best is trial 31 with value: 0.9970040227307345.\u001b[0m\n",
      "Precision: 0.9908496732026144 \n",
      "Recall: 0.9882659713168188 \n",
      "Aging Rate: 0.49869621903520206\n",
      "Precision: 0.9947984395318595 \n",
      "Recall: 0.9973924380704041 \n",
      "Aging Rate: 0.5013037809647979\n",
      "Precision: 0.9986893840104849 \n",
      "Recall: 0.9934810951760105 \n",
      "Aging Rate: 0.4973924380704042\n",
      "\u001b[32m[I 2021-12-13 12:55:03,293]\u001b[0m Trial 40 finished with value: 0.9941522766126548 and parameters: {'n_estimators': 500, 'min_samples_split': 2, 'max_depth': 21}. Best is trial 31 with value: 0.9970040227307345.\u001b[0m\n",
      "Precision: 0.9947643979057592 \n",
      "Recall: 0.9908735332464146 \n",
      "Aging Rate: 0.4980443285528031\n",
      "Precision: 0.9986824769433466 \n",
      "Recall: 0.9882659713168188 \n",
      "Aging Rate: 0.49478487614080835\n",
      "Precision: 0.9896103896103896 \n",
      "Recall: 0.9934810951760105 \n",
      "Aging Rate: 0.5019556714471969\n",
      "\u001b[32m[I 2021-12-13 12:55:08,787]\u001b[0m Trial 41 finished with value: 0.9930892900402736 and parameters: {'n_estimators': 500, 'min_samples_split': 2, 'max_depth': 21}. Best is trial 31 with value: 0.9970040227307345.\u001b[0m\n",
      "Precision: 0.9473684210526315 \n",
      "Recall: 0.9387222946544981 \n",
      "Aging Rate: 0.4954367666232073\n",
      "Precision: 0.9557640750670241 \n",
      "Recall: 0.9295958279009127 \n",
      "Aging Rate: 0.4863102998696219\n",
      "Precision: 0.9530638852672751 \n",
      "Recall: 0.9530638852672751 \n",
      "Aging Rate: 0.5\n",
      "\u001b[32m[I 2021-12-13 12:55:14,661]\u001b[0m Trial 42 finished with value: 0.9478256334949537 and parameters: {'n_estimators': 600, 'min_samples_split': 2, 'max_depth': 6}. Best is trial 31 with value: 0.9970040227307345.\u001b[0m\n",
      "Precision: 0.9934640522875817 \n",
      "Recall: 0.9908735332464146 \n",
      "Aging Rate: 0.49869621903520206\n",
      "Precision: 0.9921875 \n",
      "Recall: 0.9934810951760105 \n",
      "Aging Rate: 0.500651890482399\n",
      "Precision: 0.9973856209150327 \n",
      "Recall: 0.9947848761408083 \n",
      "Aging Rate: 0.49869621903520206\n",
      "\u001b[32m[I 2021-12-13 12:55:19,989]\u001b[0m Trial 43 finished with value: 0.9938768333997086 and parameters: {'n_estimators': 500, 'min_samples_split': 2, 'max_depth': 21}. Best is trial 31 with value: 0.9970040227307345.\u001b[0m\n",
      "Precision: 0.996078431372549 \n",
      "Recall: 0.9934810951760105 \n",
      "Aging Rate: 0.49869621903520206\n",
      "Precision: 0.9934640522875817 \n",
      "Recall: 0.9908735332464146 \n",
      "Aging Rate: 0.49869621903520206\n",
      "Precision: 0.9973718791064389 \n",
      "Recall: 0.9895697522816167 \n",
      "Aging Rate: 0.49608865710560623\n",
      "\u001b[32m[I 2021-12-13 12:55:24,072]\u001b[0m Trial 44 finished with value: 0.9940735714491892 and parameters: {'n_estimators': 500, 'min_samples_split': 7, 'max_depth': 18}. Best is trial 31 with value: 0.9970040227307345.\u001b[0m\n",
      "Precision: 0.9973787680209698 \n",
      "Recall: 0.9921773142112125 \n",
      "Aging Rate: 0.4973924380704042\n",
      "Precision: 0.9947780678851175 \n",
      "Recall: 0.9934810951760105 \n",
      "Aging Rate: 0.49934810951760106\n",
      "Precision: 0.993455497382199 \n",
      "Recall: 0.9895697522816167 \n",
      "Aging Rate: 0.4980443285528031\n",
      "\u001b[32m[I 2021-12-13 12:55:27,687]\u001b[0m Trial 45 finished with value: 0.9939546200835165 and parameters: {'n_estimators': 400, 'min_samples_split': 2, 'max_depth': 18}. Best is trial 31 with value: 0.9970040227307345.\u001b[0m\n",
      "Precision: 0.9763157894736842 \n",
      "Recall: 0.9674054758800521 \n",
      "Aging Rate: 0.4954367666232073\n",
      "Precision: 0.9750982961992136 \n",
      "Recall: 0.970013037809648 \n",
      "Aging Rate: 0.4973924380704042\n",
      "Precision: 0.970013037809648 \n",
      "Recall: 0.970013037809648 \n",
      "Aging Rate: 0.5\n",
      "\u001b[32m[I 2021-12-13 12:55:32,606]\u001b[0m Trial 46 finished with value: 0.9721212469021613 and parameters: {'n_estimators': 600, 'min_samples_split': 27, 'max_depth': 9}. Best is trial 31 with value: 0.9970040227307345.\u001b[0m\n",
      "Precision: 0.9855832241153342 \n",
      "Recall: 0.9804432855280313 \n",
      "Aging Rate: 0.4973924380704042\n",
      "Precision: 0.9920424403183024 \n",
      "Recall: 0.9752281616688396 \n",
      "Aging Rate: 0.4915254237288136\n",
      "Precision: 0.9960369881109643 \n",
      "Recall: 0.9830508474576272 \n",
      "Aging Rate: 0.4934810951760104\n",
      "\u001b[32m[I 2021-12-13 12:55:38,200]\u001b[0m Trial 47 finished with value: 0.9869907361160682 and parameters: {'n_estimators': 700, 'min_samples_split': 27, 'max_depth': 21}. Best is trial 31 with value: 0.9970040227307345.\u001b[0m\n",
      "Precision: 0.9947437582128777 \n",
      "Recall: 0.9869621903520208 \n",
      "Aging Rate: 0.49608865710560623\n",
      "Precision: 0.9973856209150327 \n",
      "Recall: 0.9947848761408083 \n",
      "Aging Rate: 0.49869621903520206\n",
      "Precision: 0.9960629921259843 \n",
      "Recall: 0.9895697522816167 \n",
      "Aging Rate: 0.49674054758800523\n",
      "\u001b[32m[I 2021-12-13 12:55:42,294]\u001b[0m Trial 48 finished with value: 0.9940305727321342 and parameters: {'n_estimators': 500, 'min_samples_split': 2, 'max_depth': 21}. Best is trial 31 with value: 0.9970040227307345.\u001b[0m\n",
      "Precision: 0.9867899603698811 \n",
      "Recall: 0.9739243807040417 \n",
      "Aging Rate: 0.4934810951760104\n",
      "Precision: 0.982573726541555 \n",
      "Recall: 0.9556714471968709 \n",
      "Aging Rate: 0.4863102998696219\n"
     ]
    },
    {
     "name": "stderr",
     "output_type": "stream",
     "text": [
      "C:\\Users\\user\\anaconda3\\envs\\aging\\lib\\site-packages\\optuna\\samplers\\_tpe\\sampler.py:253: ExperimentalWarning: ``multivariate`` option is an experimental feature. The interface can change in the future.\n",
      "  ExperimentalWarning,\n",
      "\u001b[32m[I 2021-12-13 12:55:45,264]\u001b[0m A new study created in memory with name: no-name-035c617e-0d86-46fd-b16b-6e6b6639e59d\u001b[0m\n"
     ]
    },
    {
     "name": "stdout",
     "output_type": "stream",
     "text": [
      "Precision: 0.97911227154047 \n",
      "Recall: 0.9778357235984355 \n",
      "Aging Rate: 0.49934810951760106\n",
      "\u001b[32m[I 2021-12-13 12:55:45,124]\u001b[0m Trial 49 finished with value: 0.977829294609761 and parameters: {'n_estimators': 200, 'min_samples_split': 7, 'max_depth': 9}. Best is trial 31 with value: 0.9970040227307345.\u001b[0m\n",
      "Sampler is TPESampler\n",
      "Dataset2 :\n"
     ]
    },
    {
     "name": "stderr",
     "output_type": "stream",
     "text": [
      "C:\\Users\\user\\anaconda3\\envs\\aging\\lib\\site-packages\\optuna\\progress_bar.py:47: ExperimentalWarning: Progress bar is experimental (supported from v1.2.0). The interface can change in the future.\n",
      "  self._init_valid()\n"
     ]
    },
    {
     "data": {
      "application/vnd.jupyter.widget-view+json": {
       "model_id": "6d244b67098e43b59aa566ada208f6a6",
       "version_major": 2,
       "version_minor": 0
      },
      "text/plain": [
       "  0%|          | 0/50 [00:00<?, ?it/s]"
      ]
     },
     "metadata": {},
     "output_type": "display_data"
    },
    {
     "name": "stdout",
     "output_type": "stream",
     "text": [
      "Precision: 0.9705882352941176 \n",
      "Recall: 0.94106463878327 \n",
      "Aging Rate: 0.4847908745247148\n",
      "Precision: 0.9555555555555556 \n",
      "Recall: 0.9401140684410646 \n",
      "Aging Rate: 0.4919201520912547\n",
      "Precision: 0.9558823529411765 \n",
      "Recall: 0.9268060836501901 \n",
      "Aging Rate: 0.4847908745247148\n",
      "\u001b[32m[I 2021-12-13 12:55:49,724]\u001b[0m Trial 0 finished with value: 0.951631440377211 and parameters: {'n_estimators': 400, 'min_samples_split': 17, 'max_depth': 9}. Best is trial 0 with value: 0.951631440377211.\u001b[0m\n",
      "Precision: 0.7947882736156352 \n",
      "Recall: 0.6958174904942965 \n",
      "Aging Rate: 0.4377376425855513\n",
      "Precision: 0.7922912205567452 \n",
      "Recall: 0.7034220532319392 \n",
      "Aging Rate: 0.4439163498098859\n",
      "Precision: 0.7921406411582212 \n",
      "Recall: 0.7281368821292775 \n",
      "Aging Rate: 0.45960076045627374\n",
      "\u001b[32m[I 2021-12-13 12:55:56,034]\u001b[0m Trial 1 finished with value: 0.7605800733497962 and parameters: {'n_estimators': 700, 'min_samples_split': 22, 'max_depth': 3}. Best is trial 0 with value: 0.951631440377211.\u001b[0m\n",
      "Precision: 0.9858088930936613 \n",
      "Recall: 0.9904942965779467 \n",
      "Aging Rate: 0.5023764258555133\n",
      "Precision: 0.9794007490636704 \n",
      "Recall: 0.9942965779467681 \n",
      "Aging Rate: 0.5076045627376425\n",
      "Precision: 0.9802631578947368 \n",
      "Recall: 0.9914448669201521 \n",
      "Aging Rate: 0.5057034220532319\n",
      "\u001b[32m[I 2021-12-13 12:56:00,013]\u001b[0m Trial 2 finished with value: 0.9854871583773891 and parameters: {'n_estimators': 400, 'min_samples_split': 22, 'max_depth': 21}. Best is trial 2 with value: 0.9854871583773891.\u001b[0m\n",
      "Precision: 0.9759384023099134 \n",
      "Recall: 0.9638783269961977 \n",
      "Aging Rate: 0.4938212927756654\n",
      "Precision: 0.975095785440613 \n",
      "Recall: 0.967680608365019 \n",
      "Aging Rate: 0.49619771863117873\n",
      "Precision: 0.9651272384542884 \n",
      "Recall: 0.973384030418251 \n",
      "Aging Rate: 0.504277566539924\n",
      "\u001b[32m[I 2021-12-13 12:56:04,669]\u001b[0m Trial 3 finished with value: 0.9706863093118981 and parameters: {'n_estimators': 400, 'min_samples_split': 27, 'max_depth': 12}. Best is trial 2 with value: 0.9854871583773891.\u001b[0m\n",
      "Precision: 0.9867549668874173 \n",
      "Recall: 0.9914448669201521 \n",
      "Aging Rate: 0.5023764258555133\n",
      "Precision: 0.9812909260991581 \n",
      "Recall: 0.997148288973384 \n",
      "Aging Rate: 0.5080798479087453\n",
      "Precision: 0.9803186504217432 \n",
      "Recall: 0.9942965779467681 \n",
      "Aging Rate: 0.5071292775665399\n",
      "\u001b[32m[I 2021-12-13 12:56:12,890]\u001b[0m Trial 4 finished with value: 0.9868948505050099 and parameters: {'n_estimators': 800, 'min_samples_split': 17, 'max_depth': 21}. Best is trial 4 with value: 0.9868948505050099.\u001b[0m\n",
      "Precision: 0.9794967381174278 \n",
      "Recall: 0.9990494296577946 \n",
      "Aging Rate: 0.5099809885931559\n",
      "Precision: 0.99335232668566 \n",
      "Recall: 0.9942965779467681 \n",
      "Aging Rate: 0.5004752851711026\n",
      "Precision: 0.9840525328330206 \n",
      "Recall: 0.997148288973384 \n",
      "Aging Rate: 0.5066539923954373\n",
      "\u001b[32m[I 2021-12-13 12:56:16,434]\u001b[0m Trial 5 finished with value: 0.9896220516278831 and parameters: {'n_estimators': 200, 'min_samples_split': 2, 'max_depth': 21}. Best is trial 5 with value: 0.9896220516278831.\u001b[0m\n",
      "Precision: 0.9779482262703739 \n",
      "Recall: 0.9695817490494296 \n",
      "Aging Rate: 0.49572243346007605\n",
      "Precision: 0.9732569245463228 \n",
      "Recall: 0.9686311787072244 \n",
      "Aging Rate: 0.4976235741444867\n",
      "Precision: 0.9724334600760456 \n",
      "Recall: 0.9724334600760456 \n",
      "Aging Rate: 0.5\n",
      "\u001b[32m[I 2021-12-13 12:56:23,227]\u001b[0m Trial 6 finished with value: 0.9729799159012655 and parameters: {'n_estimators': 800, 'min_samples_split': 32, 'max_depth': 12}. Best is trial 5 with value: 0.9896220516278831.\u001b[0m\n",
      "Precision: 0.981042654028436 \n",
      "Recall: 0.9838403041825095 \n",
      "Aging Rate: 0.501425855513308\n",
      "Precision: 0.9736346516007532 \n",
      "Recall: 0.9828897338403042 \n",
      "Aging Rate: 0.5047528517110266\n",
      "Precision: 0.9783427495291902 \n",
      "Recall: 0.9876425855513308 \n",
      "Aging Rate: 0.5047528517110266\n",
      "\u001b[32m[I 2021-12-13 12:56:26,814]\u001b[0m Trial 7 finished with value: 0.9802215844420187 and parameters: {'n_estimators': 300, 'min_samples_split': 32, 'max_depth': 21}. Best is trial 5 with value: 0.9896220516278831.\u001b[0m\n",
      "Precision: 0.9616895874263262 \n",
      "Recall: 0.9306083650190115 \n",
      "Aging Rate: 0.4838403041825095\n",
      "Precision: 0.9497584541062802 \n",
      "Recall: 0.9344106463878327 \n",
      "Aging Rate: 0.4919201520912547\n",
      "Precision: 0.9635467980295567 \n",
      "Recall: 0.9296577946768061 \n",
      "Aging Rate: 0.4824144486692015\n",
      "\u001b[32m[I 2021-12-13 12:56:32,579]\u001b[0m Trial 8 finished with value: 0.948501778514696 and parameters: {'n_estimators': 600, 'min_samples_split': 27, 'max_depth': 9}. Best is trial 5 with value: 0.9896220516278831.\u001b[0m\n",
      "Precision: 0.9821092278719398 \n",
      "Recall: 0.9914448669201521 \n",
      "Aging Rate: 0.5047528517110266\n",
      "Precision: 0.9801699716713881 \n",
      "Recall: 0.9866920152091255 \n",
      "Aging Rate: 0.5033269961977186\n",
      "Precision: 0.9729477611940298 \n",
      "Recall: 0.9914448669201521 \n",
      "Aging Rate: 0.5095057034220533\n",
      "\u001b[32m[I 2021-12-13 12:56:37,016]\u001b[0m Trial 9 finished with value: 0.9824947860188541 and parameters: {'n_estimators': 400, 'min_samples_split': 27, 'max_depth': 21}. Best is trial 5 with value: 0.9896220516278831.\u001b[0m\n",
      "Precision: 0.9868049010367578 \n",
      "Recall: 0.9952471482889734 \n",
      "Aging Rate: 0.504277566539924\n",
      "Precision: 0.9895931882686849 \n",
      "Recall: 0.9942965779467681 \n",
      "Aging Rate: 0.5023764258555133\n",
      "Precision: 0.9868049010367578 \n",
      "Recall: 0.9952471482889734 \n",
      "Aging Rate: 0.504277566539924\n",
      "\u001b[32m[I 2021-12-13 12:56:39,734]\u001b[0m Trial 10 finished with value: 0.9903121313154376 and parameters: {'n_estimators': 300, 'min_samples_split': 2, 'max_depth': 18}. Best is trial 10 with value: 0.9903121313154376.\u001b[0m\n",
      "Precision: 0.9840525328330206 \n",
      "Recall: 0.997148288973384 \n",
      "Aging Rate: 0.5066539923954373\n",
      "Precision: 0.9886792452830189 \n",
      "Recall: 0.9961977186311787 \n",
      "Aging Rate: 0.5038022813688213\n",
      "Precision: 0.9867799811142587 \n",
      "Recall: 0.9933460076045627 \n",
      "Aging Rate: 0.5033269961977186\n",
      "\u001b[32m[I 2021-12-13 12:56:42,780]\u001b[0m Trial 11 finished with value: 0.98974456800046 and parameters: {'n_estimators': 200, 'min_samples_split': 2, 'max_depth': 21}. Best is trial 10 with value: 0.9903121313154376.\u001b[0m\n",
      "Precision: 0.980188679245283 \n",
      "Recall: 0.9876425855513308 \n",
      "Aging Rate: 0.5038022813688213\n",
      "Precision: 0.9755409219190969 \n",
      "Recall: 0.9857414448669202 \n",
      "Aging Rate: 0.5052281368821293\n",
      "Precision: 0.9809523809523809 \n",
      "Recall: 0.9790874524714829 \n",
      "Aging Rate: 0.4990494296577947\n",
      "\u001b[32m[I 2021-12-13 12:56:45,926]\u001b[0m Trial 12 finished with value: 0.9807759922891138 and parameters: {'n_estimators': 200, 'min_samples_split': 2, 'max_depth': 12}. Best is trial 10 with value: 0.9903121313154376.\u001b[0m\n",
      "Precision: 0.9820415879017014 \n",
      "Recall: 0.9876425855513308 \n",
      "Aging Rate: 0.502851711026616\n",
      "Precision: 0.9838862559241706 \n",
      "Recall: 0.9866920152091255 \n",
      "Aging Rate: 0.501425855513308\n",
      "Precision: 0.9830348727615457 \n",
      "Recall: 0.9914448669201521 \n",
      "Aging Rate: 0.504277566539924\n",
      "\u001b[32m[I 2021-12-13 12:56:51,302]\u001b[0m Trial 13 finished with value: 0.9849970289469187 and parameters: {'n_estimators': 500, 'min_samples_split': 2, 'max_depth': 15}. Best is trial 10 with value: 0.9903121313154376.\u001b[0m\n",
      "Precision: 0.9886148007590133 \n",
      "Recall: 0.9904942965779467 \n",
      "Aging Rate: 0.5009505703422054\n",
      "Precision: 0.9755639097744361 \n",
      "Recall: 0.9866920152091255 \n",
      "Aging Rate: 0.5057034220532319\n",
      "Precision: 0.9792060491493384 \n",
      "Recall: 0.9847908745247148 \n",
      "Aging Rate: 0.502851711026616\n",
      "\u001b[32m[I 2021-12-13 12:56:53,610]\u001b[0m Trial 14 finished with value: 0.9833469548773902 and parameters: {'n_estimators': 100, 'min_samples_split': 12, 'max_depth': 15}. Best is trial 10 with value: 0.9903121313154376.\u001b[0m\n",
      "Precision: 0.9886792452830189 \n",
      "Recall: 0.9961977186311787 \n",
      "Aging Rate: 0.5038022813688213\n",
      "Precision: 0.9887005649717514 \n",
      "Recall: 0.9980988593155894 \n",
      "Aging Rate: 0.5047528517110266\n",
      "Precision: 0.9830985915492958 \n",
      "Recall: 0.9952471482889734 \n",
      "Aging Rate: 0.5061787072243346\n",
      "\u001b[32m[I 2021-12-13 12:57:00,019]\u001b[0m Trial 15 finished with value: 0.9902913443807422 and parameters: {'n_estimators': 700, 'min_samples_split': 2, 'max_depth': 21}. Best is trial 10 with value: 0.9903121313154376.\u001b[0m\n",
      "Precision: 0.9905571293673276 \n",
      "Recall: 0.997148288973384 \n",
      "Aging Rate: 0.5033269961977186\n",
      "Precision: 0.9802631578947368 \n",
      "Recall: 0.9914448669201521 \n",
      "Aging Rate: 0.5057034220532319\n",
      "Precision: 0.9905033238366572 \n",
      "Recall: 0.9914448669201521 \n",
      "Aging Rate: 0.5004752851711026\n",
      "\u001b[32m[I 2021-12-13 12:57:08,406]\u001b[0m Trial 16 finished with value: 0.9893404524093615 and parameters: {'n_estimators': 800, 'min_samples_split': 2, 'max_depth': 18}. Best is trial 10 with value: 0.9903121313154376.\u001b[0m\n"
     ]
    },
    {
     "name": "stdout",
     "output_type": "stream",
     "text": [
      "Precision: 0.9840674789128397 \n",
      "Recall: 0.9980988593155894 \n",
      "Aging Rate: 0.5071292775665399\n",
      "Precision: 0.9886255924170616 \n",
      "Recall: 0.9914448669201521 \n",
      "Aging Rate: 0.501425855513308\n",
      "Precision: 0.9849624060150376 \n",
      "Recall: 0.9961977186311787 \n",
      "Aging Rate: 0.5057034220532319\n",
      "\u001b[32m[I 2021-12-13 12:57:14,686]\u001b[0m Trial 17 finished with value: 0.9892298613616469 and parameters: {'n_estimators': 600, 'min_samples_split': 2, 'max_depth': 21}. Best is trial 10 with value: 0.9903121313154376.\u001b[0m\n",
      "Precision: 0.7771966527196653 \n",
      "Recall: 0.7062737642585551 \n",
      "Aging Rate: 0.4543726235741445\n",
      "Precision: 0.7937701396348013 \n",
      "Recall: 0.7024714828897338 \n",
      "Aging Rate: 0.44249049429657794\n",
      "Precision: 0.7887473460721869 \n",
      "Recall: 0.7062737642585551 \n",
      "Aging Rate: 0.44771863117870725\n",
      "\u001b[32m[I 2021-12-13 12:57:18,975]\u001b[0m Trial 18 finished with value: 0.7550997162635769 and parameters: {'n_estimators': 400, 'min_samples_split': 2, 'max_depth': 3}. Best is trial 10 with value: 0.9903121313154376.\u001b[0m\n",
      "Precision: 0.962890625 \n",
      "Recall: 0.9372623574144486 \n",
      "Aging Rate: 0.4866920152091255\n",
      "Precision: 0.9655850540806293 \n",
      "Recall: 0.9334600760456274 \n",
      "Aging Rate: 0.4833650190114068\n",
      "Precision: 0.9592628516003879 \n",
      "Recall: 0.9401140684410646 \n",
      "Aging Rate: 0.4900190114068441\n",
      "\u001b[32m[I 2021-12-13 12:57:25,812]\u001b[0m Trial 19 finished with value: 0.9531843661077111 and parameters: {'n_estimators': 800, 'min_samples_split': 12, 'max_depth': 9}. Best is trial 10 with value: 0.9903121313154376.\u001b[0m\n",
      "Precision: 0.9858623939679547 \n",
      "Recall: 0.9942965779467681 \n",
      "Aging Rate: 0.504277566539924\n",
      "Precision: 0.9868544600938968 \n",
      "Recall: 0.9990494296577946 \n",
      "Aging Rate: 0.5061787072243346\n",
      "Precision: 0.9812206572769953 \n",
      "Recall: 0.9933460076045627 \n",
      "Aging Rate: 0.5061787072243346\n",
      "\u001b[32m[I 2021-12-13 12:57:31,770]\u001b[0m Trial 20 finished with value: 0.9885479661313511 and parameters: {'n_estimators': 600, 'min_samples_split': 12, 'max_depth': 21}. Best is trial 10 with value: 0.9903121313154376.\u001b[0m\n",
      "Precision: 0.9868297271872061 \n",
      "Recall: 0.997148288973384 \n",
      "Aging Rate: 0.5052281368821293\n",
      "Precision: 0.9867799811142587 \n",
      "Recall: 0.9933460076045627 \n",
      "Aging Rate: 0.5033269961977186\n",
      "Precision: 0.9802631578947368 \n",
      "Recall: 0.9914448669201521 \n",
      "Aging Rate: 0.5057034220532319\n",
      "\u001b[32m[I 2021-12-13 12:57:36,471]\u001b[0m Trial 21 finished with value: 0.9879709473755978 and parameters: {'n_estimators': 400, 'min_samples_split': 7, 'max_depth': 21}. Best is trial 10 with value: 0.9903121313154376.\u001b[0m\n",
      "Precision: 0.9896226415094339 \n",
      "Recall: 0.997148288973384 \n",
      "Aging Rate: 0.5038022813688213\n",
      "Precision: 0.9896226415094339 \n",
      "Recall: 0.997148288973384 \n",
      "Aging Rate: 0.5038022813688213\n",
      "Precision: 0.9830667920978363 \n",
      "Recall: 0.9933460076045627 \n",
      "Aging Rate: 0.5052281368821293\n",
      "\u001b[32m[I 2021-12-13 12:57:38,972]\u001b[0m Trial 22 finished with value: 0.9904600720183366 and parameters: {'n_estimators': 100, 'min_samples_split': 2, 'max_depth': 18}. Best is trial 22 with value: 0.9904600720183366.\u001b[0m\n",
      "Precision: 0.9820754716981132 \n",
      "Recall: 0.9895437262357415 \n",
      "Aging Rate: 0.5038022813688213\n",
      "Precision: 0.9848628192999054 \n",
      "Recall: 0.9895437262357415 \n",
      "Aging Rate: 0.5023764258555133\n",
      "Precision: 0.9830028328611898 \n",
      "Recall: 0.9895437262357415 \n",
      "Aging Rate: 0.5033269961977186\n",
      "\u001b[32m[I 2021-12-13 12:57:41,549]\u001b[0m Trial 23 finished with value: 0.9855471421372748 and parameters: {'n_estimators': 300, 'min_samples_split': 7, 'max_depth': 15}. Best is trial 22 with value: 0.9904600720183366.\u001b[0m\n",
      "Precision: 0.9830667920978363 \n",
      "Recall: 0.9933460076045627 \n",
      "Aging Rate: 0.5052281368821293\n",
      "Precision: 0.9905482041587902 \n",
      "Recall: 0.9961977186311787 \n",
      "Aging Rate: 0.502851711026616\n",
      "Precision: 0.9859154929577465 \n",
      "Recall: 0.9980988593155894 \n",
      "Aging Rate: 0.5061787072243346\n",
      "\u001b[32m[I 2021-12-13 12:57:44,550]\u001b[0m Trial 24 finished with value: 0.9898614773599718 and parameters: {'n_estimators': 100, 'min_samples_split': 2, 'max_depth': 18}. Best is trial 22 with value: 0.9904600720183366.\u001b[0m\n",
      "Precision: 0.9859154929577465 \n",
      "Recall: 0.9980988593155894 \n",
      "Aging Rate: 0.5061787072243346\n",
      "Precision: 0.9877704609595485 \n",
      "Recall: 0.9980988593155894 \n",
      "Aging Rate: 0.5052281368821293\n",
      "Precision: 0.9877126654064272 \n",
      "Recall: 0.9933460076045627 \n",
      "Aging Rate: 0.502851711026616\n",
      "\u001b[32m[I 2021-12-13 12:57:52,774]\u001b[0m Trial 25 finished with value: 0.9904881164901557 and parameters: {'n_estimators': 800, 'min_samples_split': 2, 'max_depth': 21}. Best is trial 25 with value: 0.9904881164901557.\u001b[0m\n",
      "Precision: 0.980188679245283 \n",
      "Recall: 0.9876425855513308 \n",
      "Aging Rate: 0.5038022813688213\n",
      "Precision: 0.9737089201877934 \n",
      "Recall: 0.9857414448669202 \n",
      "Aging Rate: 0.5061787072243346\n",
      "Precision: 0.9757009345794393 \n",
      "Recall: 0.9923954372623575 \n",
      "Aging Rate: 0.5085551330798479\n",
      "\u001b[32m[I 2021-12-13 12:57:59,414]\u001b[0m Trial 26 finished with value: 0.9808371945410918 and parameters: {'n_estimators': 700, 'min_samples_split': 32, 'max_depth': 21}. Best is trial 25 with value: 0.9904881164901557.\u001b[0m\n",
      "Precision: 0.7659115426105717 \n",
      "Recall: 0.6749049429657795 \n",
      "Aging Rate: 0.4405893536121673\n",
      "Precision: 0.8024819027921406 \n",
      "Recall: 0.7376425855513308 \n",
      "Aging Rate: 0.45960076045627374\n",
      "Precision: 0.7738219895287958 \n",
      "Recall: 0.7024714828897338 \n",
      "Aging Rate: 0.4538973384030418\n",
      "\u001b[32m[I 2021-12-13 12:58:03,441]\u001b[0m Trial 27 finished with value: 0.751614842375079 and parameters: {'n_estimators': 300, 'min_samples_split': 27, 'max_depth': 3}. Best is trial 25 with value: 0.9904881164901557.\u001b[0m\n",
      "Precision: 0.9895833333333334 \n",
      "Recall: 0.9933460076045627 \n",
      "Aging Rate: 0.5019011406844106\n",
      "Precision: 0.9840225563909775 \n",
      "Recall: 0.9952471482889734 \n",
      "Aging Rate: 0.5057034220532319\n",
      "Precision: 0.9849482596425212 \n",
      "Recall: 0.9952471482889734 \n",
      "Aging Rate: 0.5052281368821293\n",
      "\u001b[32m[I 2021-12-13 12:58:05,819]\u001b[0m Trial 28 finished with value: 0.9891999814938975 and parameters: {'n_estimators': 200, 'min_samples_split': 12, 'max_depth': 21}. Best is trial 25 with value: 0.9904881164901557.\u001b[0m\n",
      "Precision: 0.9790874524714829 \n",
      "Recall: 0.9790874524714829 \n",
      "Aging Rate: 0.5\n",
      "Precision: 0.982824427480916 \n",
      "Recall: 0.9790874524714829 \n",
      "Aging Rate: 0.49809885931558934\n",
      "Precision: 0.9771646051379639 \n",
      "Recall: 0.9762357414448669 \n",
      "Aging Rate: 0.4995247148288973\n",
      "\u001b[32m[I 2021-12-13 12:58:10,748]\u001b[0m Trial 29 finished with value: 0.9791310992850852 and parameters: {'n_estimators': 500, 'min_samples_split': 12, 'max_depth': 12}. Best is trial 25 with value: 0.9904881164901557.\u001b[0m\n",
      "Precision: 0.7901098901098901 \n",
      "Recall: 0.6834600760456274 \n",
      "Aging Rate: 0.43250950570342206\n",
      "Precision: 0.7970863683662851 \n",
      "Recall: 0.7281368821292775 \n",
      "Aging Rate: 0.45674904942965777\n",
      "Precision: 0.8076525336091003 \n",
      "Recall: 0.7423954372623575 \n",
      "Aging Rate: 0.45960076045627374\n",
      "\u001b[32m[I 2021-12-13 12:58:13,080]\u001b[0m Trial 30 finished with value: 0.7672581099023191 and parameters: {'n_estimators': 100, 'min_samples_split': 2, 'max_depth': 3}. Best is trial 25 with value: 0.9904881164901557.\u001b[0m\n",
      "Precision: 0.9830827067669173 \n",
      "Recall: 0.9942965779467681 \n",
      "Aging Rate: 0.5057034220532319\n",
      "Precision: 0.9803921568627451 \n",
      "Recall: 0.9980988593155894 \n",
      "Aging Rate: 0.5090304182509505\n",
      "Precision: 0.9813084112149533 \n",
      "Recall: 0.9980988593155894 \n",
      "Aging Rate: 0.5085551330798479\n",
      "\u001b[32m[I 2021-12-13 12:58:21,211]\u001b[0m Trial 31 finished with value: 0.9870238902610943 and parameters: {'n_estimators': 800, 'min_samples_split': 2, 'max_depth': 21}. Best is trial 25 with value: 0.9904881164901557.\u001b[0m\n",
      "Precision: 0.9886685552407932 \n",
      "Recall: 0.9952471482889734 \n",
      "Aging Rate: 0.5033269961977186\n",
      "Precision: 0.9914691943127962 \n",
      "Recall: 0.9942965779467681 \n",
      "Aging Rate: 0.501425855513308\n",
      "Precision: 0.9933586337760911 \n",
      "Recall: 0.9952471482889734 \n",
      "Aging Rate: 0.5009505703422054\n",
      "\u001b[32m[I 2021-12-13 12:58:28,380]\u001b[0m Trial 32 finished with value: 0.9925165589694459 and parameters: {'n_estimators': 700, 'min_samples_split': 2, 'max_depth': 21}. Best is trial 32 with value: 0.9925165589694459.\u001b[0m\n",
      "Precision: 0.9820754716981132 \n",
      "Recall: 0.9895437262357415 \n",
      "Aging Rate: 0.5038022813688213\n",
      "Precision: 0.9810785241248817 \n",
      "Recall: 0.9857414448669202 \n",
      "Aging Rate: 0.5023764258555133\n",
      "Precision: 0.9821260583254939 \n",
      "Recall: 0.9923954372623575 \n",
      "Aging Rate: 0.5052281368821293\n",
      "\u001b[32m[I 2021-12-13 12:58:30,406]\u001b[0m Trial 33 finished with value: 0.9844338551794144 and parameters: {'n_estimators': 100, 'min_samples_split': 2, 'max_depth': 15}. Best is trial 32 with value: 0.9925165589694459.\u001b[0m\n"
     ]
    },
    {
     "name": "stdout",
     "output_type": "stream",
     "text": [
      "Precision: 0.9813084112149533 \n",
      "Recall: 0.9980988593155894 \n",
      "Aging Rate: 0.5085551330798479\n",
      "Precision: 0.9867924528301887 \n",
      "Recall: 0.9942965779467681 \n",
      "Aging Rate: 0.5038022813688213\n",
      "Precision: 0.9859287054409006 \n",
      "Recall: 0.9990494296577946 \n",
      "Aging Rate: 0.5066539923954373\n",
      "\u001b[32m[I 2021-12-13 12:58:37,820]\u001b[0m Trial 34 finished with value: 0.989126875811464 and parameters: {'n_estimators': 800, 'min_samples_split': 7, 'max_depth': 21}. Best is trial 32 with value: 0.9925165589694459.\u001b[0m\n",
      "Precision: 0.9725638599810785 \n",
      "Recall: 0.9771863117870723 \n",
      "Aging Rate: 0.5023764258555133\n",
      "Precision: 0.9753320683111955 \n",
      "Recall: 0.9771863117870723 \n",
      "Aging Rate: 0.5009505703422054\n",
      "Precision: 0.9642521166509878 \n",
      "Recall: 0.9743346007604563 \n",
      "Aging Rate: 0.5052281368821293\n",
      "\u001b[32m[I 2021-12-13 12:58:40,574]\u001b[0m Trial 35 finished with value: 0.9726931211037998 and parameters: {'n_estimators': 100, 'min_samples_split': 32, 'max_depth': 15}. Best is trial 32 with value: 0.9925165589694459.\u001b[0m\n",
      "Precision: 0.9803921568627451 \n",
      "Recall: 0.9980988593155894 \n",
      "Aging Rate: 0.5090304182509505\n",
      "Precision: 0.9830508474576272 \n",
      "Recall: 0.9923954372623575 \n",
      "Aging Rate: 0.5047528517110266\n",
      "Precision: 0.9821930646672915 \n",
      "Recall: 0.9961977186311787 \n",
      "Aging Rate: 0.5071292775665399\n",
      "\u001b[32m[I 2021-12-13 12:58:47,870]\u001b[0m Trial 36 finished with value: 0.9867591455148057 and parameters: {'n_estimators': 700, 'min_samples_split': 2, 'max_depth': 18}. Best is trial 32 with value: 0.9925165589694459.\u001b[0m\n",
      "Precision: 0.9858356940509915 \n",
      "Recall: 0.9923954372623575 \n",
      "Aging Rate: 0.5033269961977186\n",
      "Precision: 0.9839319470699432 \n",
      "Recall: 0.9895437262357415 \n",
      "Aging Rate: 0.502851711026616\n",
      "Precision: 0.9840225563909775 \n",
      "Recall: 0.9952471482889734 \n",
      "Aging Rate: 0.5057034220532319\n",
      "\u001b[32m[I 2021-12-13 12:58:51,851]\u001b[0m Trial 37 finished with value: 0.9873887170927523 and parameters: {'n_estimators': 300, 'min_samples_split': 7, 'max_depth': 18}. Best is trial 32 with value: 0.9925165589694459.\u001b[0m\n",
      "Precision: 0.9868049010367578 \n",
      "Recall: 0.9952471482889734 \n",
      "Aging Rate: 0.504277566539924\n",
      "Precision: 0.9914691943127962 \n",
      "Recall: 0.9942965779467681 \n",
      "Aging Rate: 0.501425855513308\n",
      "Precision: 0.9896030245746692 \n",
      "Recall: 0.9952471482889734 \n",
      "Aging Rate: 0.502851711026616\n",
      "\u001b[32m[I 2021-12-13 12:58:59,337]\u001b[0m Trial 38 finished with value: 0.9913134258552248 and parameters: {'n_estimators': 800, 'min_samples_split': 2, 'max_depth': 21}. Best is trial 32 with value: 0.9925165589694459.\u001b[0m\n",
      "Precision: 0.9858356940509915 \n",
      "Recall: 0.9923954372623575 \n",
      "Aging Rate: 0.5033269961977186\n",
      "Precision: 0.9849765258215962 \n",
      "Recall: 0.997148288973384 \n",
      "Aging Rate: 0.5061787072243346\n",
      "Precision: 0.9812734082397003 \n",
      "Recall: 0.9961977186311787 \n",
      "Aging Rate: 0.5076045627376425\n",
      "\u001b[32m[I 2021-12-13 12:59:07,400]\u001b[0m Trial 39 finished with value: 0.9880351773101932 and parameters: {'n_estimators': 800, 'min_samples_split': 2, 'max_depth': 21}. Best is trial 32 with value: 0.9925165589694459.\u001b[0m\n",
      "Precision: 0.8025343189017952 \n",
      "Recall: 0.7224334600760456 \n",
      "Aging Rate: 0.45009505703422054\n",
      "Precision: 0.7921653971708379 \n",
      "Recall: 0.6920152091254753 \n",
      "Aging Rate: 0.436787072243346\n",
      "Precision: 0.7947019867549668 \n",
      "Recall: 0.6844106463878327 \n",
      "Aging Rate: 0.4306083650190114\n",
      "\u001b[32m[I 2021-12-13 12:59:14,802]\u001b[0m Trial 40 finished with value: 0.7585980911367498 and parameters: {'n_estimators': 800, 'min_samples_split': 2, 'max_depth': 3}. Best is trial 32 with value: 0.9925165589694459.\u001b[0m\n",
      "Precision: 0.7923728813559322 \n",
      "Recall: 0.7110266159695817 \n",
      "Aging Rate: 0.44866920152091255\n",
      "Precision: 0.8064864864864865 \n",
      "Recall: 0.7091254752851711 \n",
      "Aging Rate: 0.439638783269962\n",
      "Precision: 0.8058761804826863 \n",
      "Recall: 0.7300380228136882 \n",
      "Aging Rate: 0.4529467680608365\n",
      "\u001b[32m[I 2021-12-13 12:59:20,921]\u001b[0m Trial 41 finished with value: 0.7687850909593626 and parameters: {'n_estimators': 800, 'min_samples_split': 32, 'max_depth': 3}. Best is trial 32 with value: 0.9925165589694459.\u001b[0m\n",
      "Precision: 0.9905482041587902 \n",
      "Recall: 0.9961977186311787 \n",
      "Aging Rate: 0.502851711026616\n",
      "Precision: 0.9849765258215962 \n",
      "Recall: 0.997148288973384 \n",
      "Aging Rate: 0.5061787072243346\n",
      "Precision: 0.9877010406811731 \n",
      "Recall: 0.9923954372623575 \n",
      "Aging Rate: 0.5023764258555133\n",
      "\u001b[32m[I 2021-12-13 12:59:24,605]\u001b[0m Trial 42 finished with value: 0.9904281695316944 and parameters: {'n_estimators': 300, 'min_samples_split': 2, 'max_depth': 18}. Best is trial 32 with value: 0.9925165589694459.\u001b[0m\n",
      "Precision: 0.9822097378277154 \n",
      "Recall: 0.997148288973384 \n",
      "Aging Rate: 0.5076045627376425\n",
      "Precision: 0.990530303030303 \n",
      "Recall: 0.9942965779467681 \n",
      "Aging Rate: 0.5019011406844106\n",
      "Precision: 0.9877358490566037 \n",
      "Recall: 0.9952471482889734 \n",
      "Aging Rate: 0.5038022813688213\n",
      "\u001b[32m[I 2021-12-13 12:59:32,614]\u001b[0m Trial 43 finished with value: 0.9899484880267687 and parameters: {'n_estimators': 800, 'min_samples_split': 2, 'max_depth': 21}. Best is trial 32 with value: 0.9925165589694459.\u001b[0m\n",
      "Precision: 0.9830827067669173 \n",
      "Recall: 0.9942965779467681 \n",
      "Aging Rate: 0.5057034220532319\n",
      "Precision: 0.9896030245746692 \n",
      "Recall: 0.9952471482889734 \n",
      "Aging Rate: 0.502851711026616\n",
      "Precision: 0.9905571293673276 \n",
      "Recall: 0.997148288973384 \n",
      "Aging Rate: 0.5033269961977186\n",
      "\u001b[32m[I 2021-12-13 12:59:37,900]\u001b[0m Trial 44 finished with value: 0.9905459488732057 and parameters: {'n_estimators': 600, 'min_samples_split': 2, 'max_depth': 21}. Best is trial 32 with value: 0.9925165589694459.\u001b[0m\n",
      "Precision: 0.9739292364990689 \n",
      "Recall: 0.9942965779467681 \n",
      "Aging Rate: 0.5104562737642585\n",
      "Precision: 0.990521327014218 \n",
      "Recall: 0.9933460076045627 \n",
      "Aging Rate: 0.501425855513308\n",
      "Precision: 0.9822097378277154 \n",
      "Recall: 0.997148288973384 \n",
      "Aging Rate: 0.5076045627376425\n",
      "\u001b[32m[I 2021-12-13 12:59:42,903]\u001b[0m Trial 45 finished with value: 0.9867455911693797 and parameters: {'n_estimators': 500, 'min_samples_split': 2, 'max_depth': 21}. Best is trial 32 with value: 0.9925165589694459.\u001b[0m\n",
      "Precision: 0.9802073515551367 \n",
      "Recall: 0.9885931558935361 \n",
      "Aging Rate: 0.504277566539924\n",
      "Precision: 0.9848053181386515 \n",
      "Recall: 0.9857414448669202 \n",
      "Aging Rate: 0.5004752851711026\n",
      "Precision: 0.9783427495291902 \n",
      "Recall: 0.9876425855513308 \n",
      "Aging Rate: 0.5047528517110266\n",
      "\u001b[32m[I 2021-12-13 12:59:50,526]\u001b[0m Trial 46 finished with value: 0.9833407888882063 and parameters: {'n_estimators': 800, 'min_samples_split': 7, 'max_depth': 15}. Best is trial 32 with value: 0.9925165589694459.\u001b[0m\n",
      "Precision: 0.9868421052631579 \n",
      "Recall: 0.9980988593155894 \n",
      "Aging Rate: 0.5057034220532319\n",
      "Precision: 0.9896519285042333 \n",
      "Recall: 1.0 \n",
      "Aging Rate: 0.5052281368821293\n",
      "Precision: 0.9895635673624289 \n",
      "Recall: 0.9914448669201521 \n",
      "Aging Rate: 0.5009505703422054\n",
      "\u001b[32m[I 2021-12-13 12:59:56,639]\u001b[0m Trial 47 finished with value: 0.9914858830523302 and parameters: {'n_estimators': 600, 'min_samples_split': 2, 'max_depth': 21}. Best is trial 32 with value: 0.9925165589694459.\u001b[0m\n",
      "Precision: 0.9840075258701787 \n",
      "Recall: 0.9942965779467681 \n",
      "Aging Rate: 0.5052281368821293\n",
      "Precision: 0.9858490566037735 \n",
      "Recall: 0.9933460076045627 \n",
      "Aging Rate: 0.5038022813688213\n",
      "Precision: 0.984037558685446 \n",
      "Recall: 0.9961977186311787 \n",
      "Aging Rate: 0.5061787072243346\n",
      "\u001b[32m[I 2021-12-13 13:00:01,531]\u001b[0m Trial 48 finished with value: 0.9882009050570408 and parameters: {'n_estimators': 600, 'min_samples_split': 7, 'max_depth': 18}. Best is trial 32 with value: 0.9925165589694459.\u001b[0m\n",
      "Precision: 0.9784845650140318 \n",
      "Recall: 0.9942965779467681 \n",
      "Aging Rate: 0.5080798479087453\n",
      "Precision: 0.9858757062146892 \n",
      "Recall: 0.9952471482889734 \n",
      "Aging Rate: 0.5047528517110266\n"
     ]
    },
    {
     "name": "stderr",
     "output_type": "stream",
     "text": [
      "C:\\Users\\user\\anaconda3\\envs\\aging\\lib\\site-packages\\optuna\\samplers\\_tpe\\sampler.py:253: ExperimentalWarning: ``multivariate`` option is an experimental feature. The interface can change in the future.\n",
      "  ExperimentalWarning,\n",
      "\u001b[32m[I 2021-12-13 13:00:07,414]\u001b[0m A new study created in memory with name: no-name-eeb8860c-039c-4f9e-87da-6febaf0af29b\u001b[0m\n"
     ]
    },
    {
     "name": "stdout",
     "output_type": "stream",
     "text": [
      "Precision: 0.9868049010367578 \n",
      "Recall: 0.9952471482889734 \n",
      "Aging Rate: 0.504277566539924\n",
      "\u001b[32m[I 2021-12-13 13:00:07,242]\u001b[0m Trial 49 finished with value: 0.9877250687250981 and parameters: {'n_estimators': 600, 'min_samples_split': 2, 'max_depth': 21}. Best is trial 32 with value: 0.9925165589694459.\u001b[0m\n",
      "Sampler is TPESampler\n",
      "Dataset3 :\n"
     ]
    },
    {
     "name": "stderr",
     "output_type": "stream",
     "text": [
      "C:\\Users\\user\\anaconda3\\envs\\aging\\lib\\site-packages\\optuna\\progress_bar.py:47: ExperimentalWarning: Progress bar is experimental (supported from v1.2.0). The interface can change in the future.\n",
      "  self._init_valid()\n"
     ]
    },
    {
     "data": {
      "application/vnd.jupyter.widget-view+json": {
       "model_id": "dc163fad10794f45aad16e26c5cea6e0",
       "version_major": 2,
       "version_minor": 0
      },
      "text/plain": [
       "  0%|          | 0/50 [00:00<?, ?it/s]"
      ]
     },
     "metadata": {},
     "output_type": "display_data"
    },
    {
     "name": "stdout",
     "output_type": "stream",
     "text": [
      "Precision: 1.0 \n",
      "Recall: 0.9412470023980816 \n",
      "Aging Rate: 0.4706235011990408\n",
      "Precision: 1.0 \n",
      "Recall: 0.9364508393285371 \n",
      "Aging Rate: 0.46822541966426856\n",
      "Precision: 1.0 \n",
      "Recall: 0.9412470023980816 \n",
      "Aging Rate: 0.4706235011990408\n",
      "\u001b[32m[I 2021-12-13 13:00:09,357]\u001b[0m Trial 0 finished with value: 0.9773991453640444 and parameters: {'n_estimators': 100, 'min_samples_split': 7, 'max_depth': 18}. Best is trial 0 with value: 0.9773991453640444.\u001b[0m\n",
      "Precision: 1.0 \n",
      "Recall: 0.9244604316546763 \n",
      "Aging Rate: 0.46223021582733814\n",
      "Precision: 1.0 \n",
      "Recall: 0.9280575539568345 \n",
      "Aging Rate: 0.46402877697841727\n",
      "Precision: 1.0 \n",
      "Recall: 0.9484412470023981 \n",
      "Aging Rate: 0.47422062350119903\n",
      "\u001b[32m[I 2021-12-13 13:00:10,911]\u001b[0m Trial 1 finished with value: 0.9750268019892768 and parameters: {'n_estimators': 100, 'min_samples_split': 7, 'max_depth': 15}. Best is trial 0 with value: 0.9773991453640444.\u001b[0m\n",
      "Precision: 1.0 \n",
      "Recall: 0.9148681055155875 \n",
      "Aging Rate: 0.45743405275779375\n",
      "Precision: 1.0 \n",
      "Recall: 0.9016786570743405 \n",
      "Aging Rate: 0.45083932853717024\n",
      "Precision: 1.0 \n",
      "Recall: 0.9232613908872902 \n",
      "Aging Rate: 0.4616306954436451\n",
      "\u001b[32m[I 2021-12-13 13:00:15,260]\u001b[0m Trial 2 finished with value: 0.9669203939830601 and parameters: {'n_estimators': 500, 'min_samples_split': 17, 'max_depth': 12}. Best is trial 0 with value: 0.9773991453640444.\u001b[0m\n",
      "Precision: 1.0 \n",
      "Recall: 0.9160671462829736 \n",
      "Aging Rate: 0.4580335731414868\n",
      "Precision: 1.0 \n",
      "Recall: 0.9256594724220624 \n",
      "Aging Rate: 0.4628297362110312\n",
      "Precision: 1.0 \n",
      "Recall: 0.9376498800959233 \n",
      "Aging Rate: 0.46882494004796166\n",
      "\u001b[32m[I 2021-12-13 13:00:19,594]\u001b[0m Trial 3 finished with value: 0.9721968217098386 and parameters: {'n_estimators': 500, 'min_samples_split': 12, 'max_depth': 18}. Best is trial 0 with value: 0.9773991453640444.\u001b[0m\n",
      "Precision: 1.0 \n",
      "Recall: 0.9232613908872902 \n",
      "Aging Rate: 0.4616306954436451\n",
      "Precision: 1.0 \n",
      "Recall: 0.9028776978417267 \n",
      "Aging Rate: 0.45143884892086333\n",
      "Precision: 1.0 \n",
      "Recall: 0.9136690647482014 \n",
      "Aging Rate: 0.4568345323741007\n",
      "\u001b[32m[I 2021-12-13 13:00:24,303]\u001b[0m Trial 4 finished with value: 0.9669230418520008 and parameters: {'n_estimators': 500, 'min_samples_split': 7, 'max_depth': 9}. Best is trial 0 with value: 0.9773991453640444.\u001b[0m\n",
      "Precision: 1.0 \n",
      "Recall: 0.934052757793765 \n",
      "Aging Rate: 0.4670263788968825\n",
      "Precision: 1.0 \n",
      "Recall: 0.9316546762589928 \n",
      "Aging Rate: 0.4658273381294964\n",
      "Precision: 1.0 \n",
      "Recall: 0.947242206235012 \n",
      "Aging Rate: 0.473621103117506\n",
      "\u001b[32m[I 2021-12-13 13:00:28,446]\u001b[0m Trial 5 finished with value: 0.9766088498235145 and parameters: {'n_estimators': 500, 'min_samples_split': 12, 'max_depth': 18}. Best is trial 0 with value: 0.9773991453640444.\u001b[0m\n",
      "Precision: 1.0 \n",
      "Recall: 0.919664268585132 \n",
      "Aging Rate: 0.459832134292566\n",
      "Precision: 1.0 \n",
      "Recall: 0.919664268585132 \n",
      "Aging Rate: 0.459832134292566\n",
      "Precision: 1.0 \n",
      "Recall: 0.89568345323741 \n",
      "Aging Rate: 0.447841726618705\n",
      "\u001b[32m[I 2021-12-13 13:00:32,137]\u001b[0m Trial 6 finished with value: 0.9662608796681088 and parameters: {'n_estimators': 500, 'min_samples_split': 32, 'max_depth': 12}. Best is trial 0 with value: 0.9773991453640444.\u001b[0m\n",
      "Precision: 1.0 \n",
      "Recall: 0.9388489208633094 \n",
      "Aging Rate: 0.4694244604316547\n",
      "Precision: 1.0 \n",
      "Recall: 0.9172661870503597 \n",
      "Aging Rate: 0.45863309352517984\n",
      "Precision: 1.0 \n",
      "Recall: 0.9280575539568345 \n",
      "Aging Rate: 0.46402877697841727\n",
      "\u001b[32m[I 2021-12-13 13:00:35,820]\u001b[0m Trial 7 finished with value: 0.9728300733483873 and parameters: {'n_estimators': 300, 'min_samples_split': 17, 'max_depth': 15}. Best is trial 0 with value: 0.9773991453640444.\u001b[0m\n",
      "Precision: 1.0 \n",
      "Recall: 0.9256594724220624 \n",
      "Aging Rate: 0.4628297362110312\n",
      "Precision: 1.0 \n",
      "Recall: 0.9280575539568345 \n",
      "Aging Rate: 0.46402877697841727\n",
      "Precision: 1.0 \n",
      "Recall: 0.9316546762589928 \n",
      "Aging Rate: 0.4658273381294964\n",
      "\u001b[32m[I 2021-12-13 13:00:38,242]\u001b[0m Trial 8 finished with value: 0.9730071366579646 and parameters: {'n_estimators': 200, 'min_samples_split': 22, 'max_depth': 15}. Best is trial 0 with value: 0.9773991453640444.\u001b[0m\n",
      "Precision: 1.0 \n",
      "Recall: 0.9052757793764988 \n",
      "Aging Rate: 0.4526378896882494\n",
      "Precision: 1.0 \n",
      "Recall: 0.9304556354916067 \n",
      "Aging Rate: 0.46522781774580335\n",
      "Precision: 1.0 \n",
      "Recall: 0.9292565947242206 \n",
      "Aging Rate: 0.4646282973621103\n",
      "\u001b[32m[I 2021-12-13 13:00:43,680]\u001b[0m Trial 9 finished with value: 0.9702736658005845 and parameters: {'n_estimators': 700, 'min_samples_split': 32, 'max_depth': 21}. Best is trial 0 with value: 0.9773991453640444.\u001b[0m\n",
      "Precision: 1.0 \n",
      "Recall: 0.9844124700239808 \n",
      "Aging Rate: 0.4922062350119904\n",
      "Precision: 1.0 \n",
      "Recall: 0.9772182254196643 \n",
      "Aging Rate: 0.48860911270983215\n",
      "Precision: 1.0 \n",
      "Recall: 0.9844124700239808 \n",
      "Aging Rate: 0.4922062350119904\n",
      "\u001b[32m[I 2021-12-13 13:00:46,293]\u001b[0m Trial 10 finished with value: 0.9934470337558134 and parameters: {'n_estimators': 200, 'min_samples_split': 2, 'max_depth': 21}. Best is trial 10 with value: 0.9934470337558134.\u001b[0m\n",
      "Precision: 1.0 \n",
      "Recall: 0.9652278177458034 \n",
      "Aging Rate: 0.4826139088729017\n",
      "Precision: 1.0 \n",
      "Recall: 0.973621103117506 \n",
      "Aging Rate: 0.486810551558753\n",
      "Precision: 1.0 \n",
      "Recall: 0.973621103117506 \n",
      "Aging Rate: 0.486810551558753\n",
      "\u001b[32m[I 2021-12-13 13:00:48,923]\u001b[0m Trial 11 finished with value: 0.9892927126997297 and parameters: {'n_estimators': 200, 'min_samples_split': 2, 'max_depth': 21}. Best is trial 10 with value: 0.9934470337558134.\u001b[0m\n",
      "Precision: 1.0 \n",
      "Recall: 0.9628297362110312 \n",
      "Aging Rate: 0.4814148681055156\n",
      "Precision: 1.0 \n",
      "Recall: 0.9796163069544365 \n",
      "Aging Rate: 0.48980815347721823\n",
      "Precision: 1.0 \n",
      "Recall: 0.9760191846522782 \n",
      "Aging Rate: 0.4880095923261391\n",
      "\u001b[32m[I 2021-12-13 13:00:52,112]\u001b[0m Trial 12 finished with value: 0.9900299462124211 and parameters: {'n_estimators': 300, 'min_samples_split': 2, 'max_depth': 21}. Best is trial 10 with value: 0.9934470337558134.\u001b[0m\n",
      "Precision: 0.9975308641975309 \n",
      "Recall: 0.9688249400479616 \n",
      "Aging Rate: 0.4856115107913669\n",
      "Precision: 1.0 \n",
      "Recall: 0.9820143884892086 \n",
      "Aging Rate: 0.4910071942446043\n",
      "Precision: 0.997539975399754 \n",
      "Recall: 0.9724220623501199 \n",
      "Aging Rate: 0.48741007194244607\n",
      "\u001b[32m[I 2021-12-13 13:00:56,678]\u001b[0m Trial 13 finished with value: 0.9896006785120924 and parameters: {'n_estimators': 600, 'min_samples_split': 2, 'max_depth': 21}. Best is trial 10 with value: 0.9934470337558134.\u001b[0m\n",
      "Precision: 1.0 \n",
      "Recall: 0.9280575539568345 \n",
      "Aging Rate: 0.46402877697841727\n",
      "Precision: 1.0 \n",
      "Recall: 0.9064748201438849 \n",
      "Aging Rate: 0.45323741007194246\n",
      "Precision: 1.0 \n",
      "Recall: 0.8968824940047961 \n",
      "Aging Rate: 0.44844124700239807\n",
      "\u001b[32m[I 2021-12-13 13:00:57,911]\u001b[0m Trial 14 finished with value: 0.9657642350430594 and parameters: {'n_estimators': 100, 'min_samples_split': 12, 'max_depth': 3}. Best is trial 10 with value: 0.9934470337558134.\u001b[0m\n",
      "Precision: 1.0 \n",
      "Recall: 0.9112709832134293 \n",
      "Aging Rate: 0.4556354916067146\n",
      "Precision: 1.0 \n",
      "Recall: 0.9232613908872902 \n",
      "Aging Rate: 0.4616306954436451\n",
      "Precision: 1.0 \n",
      "Recall: 0.9136690647482014 \n",
      "Aging Rate: 0.4568345323741007\n",
      "\u001b[32m[I 2021-12-13 13:01:04,592]\u001b[0m Trial 15 finished with value: 0.9680616484820787 and parameters: {'n_estimators': 800, 'min_samples_split': 22, 'max_depth': 9}. Best is trial 10 with value: 0.9934470337558134.\u001b[0m\n",
      "Precision: 1.0 \n",
      "Recall: 0.9244604316546763 \n",
      "Aging Rate: 0.46223021582733814\n",
      "Precision: 1.0 \n",
      "Recall: 0.919664268585132 \n",
      "Aging Rate: 0.459832134292566\n",
      "Precision: 1.0 \n",
      "Recall: 0.9280575539568345 \n",
      "Aging Rate: 0.46402877697841727\n",
      "\u001b[32m[I 2021-12-13 13:01:08,200]\u001b[0m Trial 16 finished with value: 0.9712621696140543 and parameters: {'n_estimators': 300, 'min_samples_split': 2, 'max_depth': 12}. Best is trial 10 with value: 0.9934470337558134.\u001b[0m\n",
      "Precision: 1.0 \n",
      "Recall: 0.9532374100719424 \n",
      "Aging Rate: 0.4766187050359712\n",
      "Precision: 1.0 \n",
      "Recall: 0.9520383693045563 \n",
      "Aging Rate: 0.47601918465227816\n",
      "Precision: 1.0 \n",
      "Recall: 0.9688249400479616 \n",
      "Aging Rate: 0.4844124700239808\n",
      "\u001b[32m[I 2021-12-13 13:01:12,407]\u001b[0m Trial 17 finished with value: 0.98446054426772 and parameters: {'n_estimators': 400, 'min_samples_split': 2, 'max_depth': 18}. Best is trial 10 with value: 0.9934470337558134.\u001b[0m\n",
      "Precision: 1.0 \n",
      "Recall: 0.9316546762589928 \n",
      "Aging Rate: 0.4658273381294964\n",
      "Precision: 1.0 \n",
      "Recall: 0.9376498800959233 \n",
      "Aging Rate: 0.46882494004796166\n",
      "Precision: 1.0 \n",
      "Recall: 0.9328537170263789 \n",
      "Aging Rate: 0.46642685851318944\n",
      "\u001b[32m[I 2021-12-13 13:01:15,066]\u001b[0m Trial 18 finished with value: 0.9752110617282376 and parameters: {'n_estimators': 100, 'min_samples_split': 22, 'max_depth': 21}. Best is trial 10 with value: 0.9934470337558134.\u001b[0m\n"
     ]
    },
    {
     "name": "stdout",
     "output_type": "stream",
     "text": [
      "Precision: 1.0 \n",
      "Recall: 0.89568345323741 \n",
      "Aging Rate: 0.447841726618705\n",
      "Precision: 1.0 \n",
      "Recall: 0.9016786570743405 \n",
      "Aging Rate: 0.45083932853717024\n",
      "Precision: 1.0 \n",
      "Recall: 0.9172661870503597 \n",
      "Aging Rate: 0.45863309352517984\n",
      "\u001b[32m[I 2021-12-13 13:01:18,213]\u001b[0m Trial 19 finished with value: 0.9635125095593488 and parameters: {'n_estimators': 200, 'min_samples_split': 32, 'max_depth': 3}. Best is trial 10 with value: 0.9934470337558134.\u001b[0m\n",
      "Precision: 1.0 \n",
      "Recall: 0.9748201438848921 \n",
      "Aging Rate: 0.48741007194244607\n",
      "Precision: 0.9975550122249389 \n",
      "Recall: 0.9784172661870504 \n",
      "Aging Rate: 0.4904076738609113\n",
      "Precision: 0.997539975399754 \n",
      "Recall: 0.9724220623501199 \n",
      "Aging Rate: 0.48741007194244607\n",
      "\u001b[32m[I 2021-12-13 13:01:22,309]\u001b[0m Trial 20 finished with value: 0.9899053267290391 and parameters: {'n_estimators': 300, 'min_samples_split': 2, 'max_depth': 21}. Best is trial 10 with value: 0.9934470337558134.\u001b[0m\n",
      "Precision: 1.0 \n",
      "Recall: 0.9520383693045563 \n",
      "Aging Rate: 0.47601918465227816\n",
      "Precision: 1.0 \n",
      "Recall: 0.9616306954436451 \n",
      "Aging Rate: 0.48081534772182255\n",
      "Precision: 1.0 \n",
      "Recall: 0.9520383693045563 \n",
      "Aging Rate: 0.47601918465227816\n",
      "\u001b[32m[I 2021-12-13 13:01:24,906]\u001b[0m Trial 21 finished with value: 0.9834044626027946 and parameters: {'n_estimators': 300, 'min_samples_split': 7, 'max_depth': 21}. Best is trial 10 with value: 0.9934470337558134.\u001b[0m\n",
      "Precision: 1.0 \n",
      "Recall: 0.9712230215827338 \n",
      "Aging Rate: 0.4856115107913669\n",
      "Precision: 1.0 \n",
      "Recall: 0.9712230215827338 \n",
      "Aging Rate: 0.4856115107913669\n",
      "Precision: 1.0 \n",
      "Recall: 0.973621103117506 \n",
      "Aging Rate: 0.486810551558753\n",
      "\u001b[32m[I 2021-12-13 13:01:28,146]\u001b[0m Trial 22 finished with value: 0.9897441138689721 and parameters: {'n_estimators': 300, 'min_samples_split': 2, 'max_depth': 21}. Best is trial 10 with value: 0.9934470337558134.\u001b[0m\n",
      "Precision: 1.0 \n",
      "Recall: 0.9808153477218226 \n",
      "Aging Rate: 0.4904076738609113\n",
      "Precision: 1.0 \n",
      "Recall: 0.973621103117506 \n",
      "Aging Rate: 0.486810551558753\n",
      "Precision: 0.998766954377312 \n",
      "Recall: 0.9712230215827338 \n",
      "Aging Rate: 0.4862110311750599\n",
      "\u001b[32m[I 2021-12-13 13:01:31,018]\u001b[0m Trial 23 finished with value: 0.9906737247727136 and parameters: {'n_estimators': 100, 'min_samples_split': 2, 'max_depth': 21}. Best is trial 10 with value: 0.9934470337558134.\u001b[0m\n",
      "Precision: 1.0 \n",
      "Recall: 0.9592326139088729 \n",
      "Aging Rate: 0.47961630695443647\n",
      "Precision: 1.0 \n",
      "Recall: 0.9496402877697842 \n",
      "Aging Rate: 0.4748201438848921\n",
      "Precision: 1.0 \n",
      "Recall: 0.9676258992805755 \n",
      "Aging Rate: 0.48381294964028776\n",
      "\u001b[32m[I 2021-12-13 13:01:33,971]\u001b[0m Trial 24 finished with value: 0.9847653416472598 and parameters: {'n_estimators': 100, 'min_samples_split': 2, 'max_depth': 21}. Best is trial 10 with value: 0.9934470337558134.\u001b[0m\n",
      "Precision: 1.0 \n",
      "Recall: 0.9016786570743405 \n",
      "Aging Rate: 0.45083932853717024\n",
      "Precision: 1.0 \n",
      "Recall: 0.9172661870503597 \n",
      "Aging Rate: 0.45863309352517984\n",
      "Precision: 1.0 \n",
      "Recall: 0.9088729016786571 \n",
      "Aging Rate: 0.45443645083932854\n",
      "\u001b[32m[I 2021-12-13 13:01:41,261]\u001b[0m Trial 25 finished with value: 0.9653135066591899 and parameters: {'n_estimators': 800, 'min_samples_split': 2, 'max_depth': 9}. Best is trial 10 with value: 0.9934470337558134.\u001b[0m\n",
      "Precision: 1.0 \n",
      "Recall: 0.9460431654676259 \n",
      "Aging Rate: 0.47302158273381295\n",
      "Precision: 1.0 \n",
      "Recall: 0.9400479616306955 \n",
      "Aging Rate: 0.47002398081534774\n",
      "Precision: 1.0 \n",
      "Recall: 0.9328537170263789 \n",
      "Aging Rate: 0.46642685851318944\n",
      "\u001b[32m[I 2021-12-13 13:01:44,604]\u001b[0m Trial 26 finished with value: 0.9773929303577044 and parameters: {'n_estimators': 200, 'min_samples_split': 12, 'max_depth': 21}. Best is trial 10 with value: 0.9934470337558134.\u001b[0m\n",
      "Precision: 1.0 \n",
      "Recall: 0.960431654676259 \n",
      "Aging Rate: 0.4802158273381295\n",
      "Precision: 1.0 \n",
      "Recall: 0.9580335731414868 \n",
      "Aging Rate: 0.4790167865707434\n",
      "Precision: 1.0 \n",
      "Recall: 0.9544364508393285 \n",
      "Aging Rate: 0.47721822541966424\n",
      "\u001b[32m[I 2021-12-13 13:01:47,493]\u001b[0m Trial 27 finished with value: 0.9843216146451167 and parameters: {'n_estimators': 100, 'min_samples_split': 2, 'max_depth': 18}. Best is trial 10 with value: 0.9934470337558134.\u001b[0m\n",
      "Precision: 1.0 \n",
      "Recall: 0.973621103117506 \n",
      "Aging Rate: 0.486810551558753\n",
      "Precision: 1.0 \n",
      "Recall: 0.9388489208633094 \n",
      "Aging Rate: 0.4694244604316547\n",
      "Precision: 1.0 \n",
      "Recall: 0.9484412470023981 \n",
      "Aging Rate: 0.47422062350119903\n",
      "\u001b[32m[I 2021-12-13 13:01:48,529]\u001b[0m Trial 28 finished with value: 0.9827449818202535 and parameters: {'n_estimators': 100, 'min_samples_split': 7, 'max_depth': 21}. Best is trial 10 with value: 0.9934470337558134.\u001b[0m\n",
      "Precision: 1.0 \n",
      "Recall: 0.9580335731414868 \n",
      "Aging Rate: 0.4790167865707434\n",
      "Precision: 1.0 \n",
      "Recall: 0.947242206235012 \n",
      "Aging Rate: 0.473621103117506\n",
      "Precision: 1.0 \n",
      "Recall: 0.9436450839328537 \n",
      "Aging Rate: 0.47182254196642687\n",
      "\u001b[32m[I 2021-12-13 13:01:51,280]\u001b[0m Trial 29 finished with value: 0.981257244353808 and parameters: {'n_estimators': 200, 'min_samples_split': 2, 'max_depth': 15}. Best is trial 10 with value: 0.9934470337558134.\u001b[0m\n",
      "Precision: 1.0 \n",
      "Recall: 0.9184652278177458 \n",
      "Aging Rate: 0.4592326139088729\n",
      "Precision: 1.0 \n",
      "Recall: 0.9160671462829736 \n",
      "Aging Rate: 0.4580335731414868\n",
      "Precision: 1.0 \n",
      "Recall: 0.9220623501199041 \n",
      "Aging Rate: 0.46103117505995206\n",
      "\u001b[32m[I 2021-12-13 13:01:58,261]\u001b[0m Trial 30 finished with value: 0.9691899549928196 and parameters: {'n_estimators': 800, 'min_samples_split': 17, 'max_depth': 15}. Best is trial 10 with value: 0.9934470337558134.\u001b[0m\n",
      "Precision: 1.0 \n",
      "Recall: 0.9160671462829736 \n",
      "Aging Rate: 0.4580335731414868\n",
      "Precision: 1.0 \n",
      "Recall: 0.9148681055155875 \n",
      "Aging Rate: 0.45743405275779375\n",
      "Precision: 1.0 \n",
      "Recall: 0.9100719424460432 \n",
      "Aging Rate: 0.4550359712230216\n",
      "\u001b[32m[I 2021-12-13 13:02:04,296]\u001b[0m Trial 31 finished with value: 0.9671014240950347 and parameters: {'n_estimators': 600, 'min_samples_split': 27, 'max_depth': 3}. Best is trial 10 with value: 0.9934470337558134.\u001b[0m\n",
      "Precision: 1.0 \n",
      "Recall: 0.9772182254196643 \n",
      "Aging Rate: 0.48860911270983215\n",
      "Precision: 1.0 \n",
      "Recall: 0.9808153477218226 \n",
      "Aging Rate: 0.4904076738609113\n",
      "Precision: 1.0 \n",
      "Recall: 0.960431654676259 \n",
      "Aging Rate: 0.4802158273381295\n",
      "\u001b[32m[I 2021-12-13 13:02:07,208]\u001b[0m Trial 32 finished with value: 0.9900233936565641 and parameters: {'n_estimators': 200, 'min_samples_split': 2, 'max_depth': 21}. Best is trial 10 with value: 0.9934470337558134.\u001b[0m\n",
      "Precision: 0.9963235294117647 \n",
      "Recall: 0.9748201438848921 \n",
      "Aging Rate: 0.4892086330935252\n",
      "Precision: 0.9975247524752475 \n",
      "Recall: 0.9664268585131894 \n",
      "Aging Rate: 0.4844124700239808\n",
      "Precision: 1.0 \n",
      "Recall: 0.9724220623501199 \n",
      "Aging Rate: 0.4862110311750599\n",
      "\u001b[32m[I 2021-12-13 13:02:09,951]\u001b[0m Trial 33 finished with value: 0.988156348108407 and parameters: {'n_estimators': 100, 'min_samples_split': 2, 'max_depth': 21}. Best is trial 10 with value: 0.9934470337558134.\u001b[0m\n",
      "Precision: 1.0 \n",
      "Recall: 0.9592326139088729 \n",
      "Aging Rate: 0.47961630695443647\n",
      "Precision: 1.0 \n",
      "Recall: 0.9712230215827338 \n",
      "Aging Rate: 0.4856115107913669\n",
      "Precision: 1.0 \n",
      "Recall: 0.973621103117506 \n",
      "Aging Rate: 0.486810551558753\n",
      "\u001b[32m[I 2021-12-13 13:02:12,402]\u001b[0m Trial 34 finished with value: 0.98823899790401 and parameters: {'n_estimators': 300, 'min_samples_split': 2, 'max_depth': 21}. Best is trial 10 with value: 0.9934470337558134.\u001b[0m\n",
      "Precision: 0.9987730061349693 \n",
      "Recall: 0.9760191846522782 \n",
      "Aging Rate: 0.48860911270983215\n",
      "Precision: 1.0 \n",
      "Recall: 0.973621103117506 \n",
      "Aging Rate: 0.486810551558753\n",
      "Precision: 0.9975698663426489 \n",
      "Recall: 0.9844124700239808 \n",
      "Aging Rate: 0.4934052757793765\n",
      "\u001b[32m[I 2021-12-13 13:02:15,620]\u001b[0m Trial 35 finished with value: 0.9911979437421103 and parameters: {'n_estimators': 200, 'min_samples_split': 2, 'max_depth': 21}. Best is trial 10 with value: 0.9934470337558134.\u001b[0m\n",
      "Precision: 1.0 \n",
      "Recall: 0.9652278177458034 \n",
      "Aging Rate: 0.4826139088729017\n",
      "Precision: 1.0 \n",
      "Recall: 0.9556354916067147 \n",
      "Aging Rate: 0.47781774580335734\n",
      "Precision: 1.0 \n",
      "Recall: 0.9676258992805755 \n",
      "Aging Rate: 0.48381294964028776\n",
      "\u001b[32m[I 2021-12-13 13:02:18,668]\u001b[0m Trial 36 finished with value: 0.9862859606720082 and parameters: {'n_estimators': 200, 'min_samples_split': 2, 'max_depth': 18}. Best is trial 10 with value: 0.9934470337558134.\u001b[0m\n",
      "Precision: 1.0 \n",
      "Recall: 0.9760191846522782 \n",
      "Aging Rate: 0.4880095923261391\n",
      "Precision: 1.0 \n",
      "Recall: 0.9724220623501199 \n",
      "Aging Rate: 0.4862110311750599\n"
     ]
    },
    {
     "name": "stdout",
     "output_type": "stream",
     "text": [
      "Precision: 1.0 \n",
      "Recall: 0.9724220623501199 \n",
      "Aging Rate: 0.4862110311750599\n",
      "\u001b[32m[I 2021-12-13 13:02:21,622]\u001b[0m Trial 37 finished with value: 0.9903398243586269 and parameters: {'n_estimators': 100, 'min_samples_split': 2, 'max_depth': 21}. Best is trial 10 with value: 0.9934470337558134.\u001b[0m\n",
      "Precision: 1.0 \n",
      "Recall: 0.9220623501199041 \n",
      "Aging Rate: 0.46103117505995206\n",
      "Precision: 1.0 \n",
      "Recall: 0.9460431654676259 \n",
      "Aging Rate: 0.47302158273381295\n",
      "Precision: 1.0 \n",
      "Recall: 0.9280575539568345 \n",
      "Aging Rate: 0.46402877697841727\n",
      "\u001b[32m[I 2021-12-13 13:02:24,073]\u001b[0m Trial 38 finished with value: 0.974400304521509 and parameters: {'n_estimators': 100, 'min_samples_split': 12, 'max_depth': 18}. Best is trial 10 with value: 0.9934470337558134.\u001b[0m\n",
      "Precision: 1.0 \n",
      "Recall: 0.9916067146282974 \n",
      "Aging Rate: 0.4958033573141487\n",
      "Precision: 0.9975429975429976 \n",
      "Recall: 0.973621103117506 \n",
      "Aging Rate: 0.4880095923261391\n",
      "Precision: 1.0 \n",
      "Recall: 0.9784172661870504 \n",
      "Aging Rate: 0.4892086330935252\n",
      "\u001b[32m[I 2021-12-13 13:02:26,767]\u001b[0m Trial 39 finished with value: 0.9926267900479274 and parameters: {'n_estimators': 100, 'min_samples_split': 2, 'max_depth': 21}. Best is trial 10 with value: 0.9934470337558134.\u001b[0m\n",
      "Precision: 0.9987325728770595 \n",
      "Recall: 0.9448441247002398 \n",
      "Aging Rate: 0.47302158273381295\n",
      "Precision: 1.0 \n",
      "Recall: 0.9544364508393285 \n",
      "Aging Rate: 0.47721822541966424\n",
      "Precision: 1.0 \n",
      "Recall: 0.9424460431654677 \n",
      "Aging Rate: 0.4712230215827338\n",
      "\u001b[32m[I 2021-12-13 13:02:29,265]\u001b[0m Trial 40 finished with value: 0.9800771607328144 and parameters: {'n_estimators': 100, 'min_samples_split': 7, 'max_depth': 21}. Best is trial 10 with value: 0.9934470337558134.\u001b[0m\n",
      "Precision: 1.0 \n",
      "Recall: 0.9712230215827338 \n",
      "Aging Rate: 0.4856115107913669\n",
      "Precision: 1.0 \n",
      "Recall: 0.9820143884892086 \n",
      "Aging Rate: 0.4910071942446043\n",
      "Precision: 1.0 \n",
      "Recall: 0.9760191846522782 \n",
      "Aging Rate: 0.4880095923261391\n",
      "\u001b[32m[I 2021-12-13 13:02:30,925]\u001b[0m Trial 41 finished with value: 0.9913760116208122 and parameters: {'n_estimators': 100, 'min_samples_split': 2, 'max_depth': 21}. Best is trial 10 with value: 0.9934470337558134.\u001b[0m\n",
      "Precision: 1.0 \n",
      "Recall: 0.9676258992805755 \n",
      "Aging Rate: 0.48381294964028776\n",
      "Precision: 1.0 \n",
      "Recall: 0.9772182254196643 \n",
      "Aging Rate: 0.48860911270983215\n",
      "Precision: 0.9975520195838433 \n",
      "Recall: 0.9772182254196643 \n",
      "Aging Rate: 0.48980815347721823\n",
      "\u001b[32m[I 2021-12-13 13:02:32,854]\u001b[0m Trial 42 finished with value: 0.9899703480839238 and parameters: {'n_estimators': 100, 'min_samples_split': 2, 'max_depth': 21}. Best is trial 10 with value: 0.9934470337558134.\u001b[0m\n",
      "Precision: 1.0 \n",
      "Recall: 0.9244604316546763 \n",
      "Aging Rate: 0.46223021582733814\n",
      "Precision: 1.0 \n",
      "Recall: 0.9304556354916067 \n",
      "Aging Rate: 0.46522781774580335\n",
      "Precision: 1.0 \n",
      "Recall: 0.9256594724220624 \n",
      "Aging Rate: 0.4628297362110312\n",
      "\u001b[32m[I 2021-12-13 13:02:36,927]\u001b[0m Trial 43 finished with value: 0.9723741855187106 and parameters: {'n_estimators': 400, 'min_samples_split': 32, 'max_depth': 21}. Best is trial 10 with value: 0.9934470337558134.\u001b[0m\n",
      "Precision: 1.0 \n",
      "Recall: 0.9508393285371702 \n",
      "Aging Rate: 0.4754196642685851\n",
      "Precision: 1.0 \n",
      "Recall: 0.9436450839328537 \n",
      "Aging Rate: 0.47182254196642687\n",
      "Precision: 1.0 \n",
      "Recall: 0.9304556354916067 \n",
      "Aging Rate: 0.46522781774580335\n",
      "\u001b[32m[I 2021-12-13 13:02:39,673]\u001b[0m Trial 44 finished with value: 0.9781593956153017 and parameters: {'n_estimators': 100, 'min_samples_split': 2, 'max_depth': 15}. Best is trial 10 with value: 0.9934470337558134.\u001b[0m\n",
      "Precision: 1.0 \n",
      "Recall: 0.973621103117506 \n",
      "Aging Rate: 0.486810551558753\n",
      "Precision: 0.9975339087546239 \n",
      "Recall: 0.9700239808153477 \n",
      "Aging Rate: 0.4862110311750599\n",
      "Precision: 1.0 \n",
      "Recall: 0.960431654676259 \n",
      "Aging Rate: 0.4802158273381295\n",
      "\u001b[32m[I 2021-12-13 13:02:42,348]\u001b[0m Trial 45 finished with value: 0.9877260716586793 and parameters: {'n_estimators': 100, 'min_samples_split': 2, 'max_depth': 21}. Best is trial 10 with value: 0.9934470337558134.\u001b[0m\n",
      "Precision: 1.0 \n",
      "Recall: 0.9688249400479616 \n",
      "Aging Rate: 0.4844124700239808\n",
      "Precision: 1.0 \n",
      "Recall: 0.9796163069544365 \n",
      "Aging Rate: 0.48980815347721823\n",
      "Precision: 1.0 \n",
      "Recall: 0.9652278177458034 \n",
      "Aging Rate: 0.4826139088729017\n",
      "\u001b[32m[I 2021-12-13 13:02:44,620]\u001b[0m Trial 46 finished with value: 0.9894368229192274 and parameters: {'n_estimators': 100, 'min_samples_split': 2, 'max_depth': 21}. Best is trial 10 with value: 0.9934470337558134.\u001b[0m\n",
      "Precision: 1.0 \n",
      "Recall: 0.9664268585131894 \n",
      "Aging Rate: 0.4832134292565947\n",
      "Precision: 1.0 \n",
      "Recall: 0.9568345323741008 \n",
      "Aging Rate: 0.4784172661870504\n",
      "Precision: 1.0 \n",
      "Recall: 0.9544364508393285 \n",
      "Aging Rate: 0.47721822541966424\n",
      "\u001b[32m[I 2021-12-13 13:02:47,490]\u001b[0m Trial 47 finished with value: 0.9849238822043134 and parameters: {'n_estimators': 200, 'min_samples_split': 7, 'max_depth': 21}. Best is trial 10 with value: 0.9934470337558134.\u001b[0m\n",
      "Precision: 1.0 \n",
      "Recall: 0.9568345323741008 \n",
      "Aging Rate: 0.4784172661870504\n",
      "Precision: 1.0 \n",
      "Recall: 0.947242206235012 \n",
      "Aging Rate: 0.473621103117506\n",
      "Precision: 1.0 \n",
      "Recall: 0.9520383693045563 \n",
      "Aging Rate: 0.47601918465227816\n",
      "\u001b[32m[I 2021-12-13 13:02:49,155]\u001b[0m Trial 48 finished with value: 0.9821831563801311 and parameters: {'n_estimators': 100, 'min_samples_split': 2, 'max_depth': 18}. Best is trial 10 with value: 0.9934470337558134.\u001b[0m\n",
      "Precision: 1.0 \n",
      "Recall: 0.9292565947242206 \n",
      "Aging Rate: 0.4646282973621103\n",
      "Precision: 1.0 \n",
      "Recall: 0.89568345323741 \n",
      "Aging Rate: 0.447841726618705\n"
     ]
    },
    {
     "name": "stderr",
     "output_type": "stream",
     "text": [
      "C:\\Users\\user\\anaconda3\\envs\\aging\\lib\\site-packages\\optuna\\samplers\\_tpe\\sampler.py:253: ExperimentalWarning: ``multivariate`` option is an experimental feature. The interface can change in the future.\n",
      "  ExperimentalWarning,\n",
      "\u001b[32m[I 2021-12-13 13:02:51,592]\u001b[0m A new study created in memory with name: no-name-7a61a3c2-fa02-4616-ba5e-28d1a0b683c0\u001b[0m\n"
     ]
    },
    {
     "name": "stdout",
     "output_type": "stream",
     "text": [
      "Precision: 1.0 \n",
      "Recall: 0.9160671462829736 \n",
      "Aging Rate: 0.4580335731414868\n",
      "\u001b[32m[I 2021-12-13 13:02:51,436]\u001b[0m Trial 49 finished with value: 0.9670510127549082 and parameters: {'n_estimators': 100, 'min_samples_split': 22, 'max_depth': 9}. Best is trial 10 with value: 0.9934470337558134.\u001b[0m\n",
      "Sampler is TPESampler\n",
      "Dataset4 :\n"
     ]
    },
    {
     "name": "stderr",
     "output_type": "stream",
     "text": [
      "C:\\Users\\user\\anaconda3\\envs\\aging\\lib\\site-packages\\optuna\\progress_bar.py:47: ExperimentalWarning: Progress bar is experimental (supported from v1.2.0). The interface can change in the future.\n",
      "  self._init_valid()\n"
     ]
    },
    {
     "data": {
      "application/vnd.jupyter.widget-view+json": {
       "model_id": "7f94c6c774d443a88c3fff655944ac81",
       "version_major": 2,
       "version_minor": 0
      },
      "text/plain": [
       "  0%|          | 0/50 [00:00<?, ?it/s]"
      ]
     },
     "metadata": {},
     "output_type": "display_data"
    },
    {
     "name": "stdout",
     "output_type": "stream",
     "text": [
      "Precision: 0.9902642559109874 \n",
      "Recall: 0.9368421052631579 \n",
      "Aging Rate: 0.4730263157894737\n",
      "Precision: 0.9916666666666667 \n",
      "Recall: 0.9394736842105263 \n",
      "Aging Rate: 0.47368421052631576\n",
      "Precision: 0.9825970548862115 \n",
      "Recall: 0.9657894736842105 \n",
      "Aging Rate: 0.49144736842105263\n",
      "\u001b[32m[I 2021-12-13 13:02:57,916]\u001b[0m Trial 0 finished with value: 0.9730153673197052 and parameters: {'n_estimators': 700, 'min_samples_split': 17, 'max_depth': 9}. Best is trial 0 with value: 0.9730153673197052.\u001b[0m\n",
      "Precision: 0.9958391123439667 \n",
      "Recall: 0.9447368421052632 \n",
      "Aging Rate: 0.4743421052631579\n",
      "Precision: 0.9986357435197817 \n",
      "Recall: 0.9631578947368421 \n",
      "Aging Rate: 0.48223684210526313\n",
      "Precision: 0.9959128065395095 \n",
      "Recall: 0.9618421052631579 \n",
      "Aging Rate: 0.48289473684210527\n",
      "\u001b[32m[I 2021-12-13 13:03:04,517]\u001b[0m Trial 1 finished with value: 0.981918982698291 and parameters: {'n_estimators': 700, 'min_samples_split': 17, 'max_depth': 12}. Best is trial 1 with value: 0.981918982698291.\u001b[0m\n",
      "Precision: 0.9493670886075949 \n",
      "Recall: 0.8881578947368421 \n",
      "Aging Rate: 0.4677631578947368\n",
      "Precision: 0.9411764705882353 \n",
      "Recall: 0.8631578947368421 \n",
      "Aging Rate: 0.4585526315789474\n",
      "Precision: 0.9582753824756607 \n",
      "Recall: 0.906578947368421 \n",
      "Aging Rate: 0.4730263157894737\n",
      "\u001b[32m[I 2021-12-13 13:03:07,560]\u001b[0m Trial 2 finished with value: 0.9256329188083305 and parameters: {'n_estimators': 200, 'min_samples_split': 2, 'max_depth': 6}. Best is trial 1 with value: 0.981918982698291.\u001b[0m\n",
      "Precision: 0.9435600578871202 \n",
      "Recall: 0.8578947368421053 \n",
      "Aging Rate: 0.45460526315789473\n",
      "Precision: 0.9307909604519774 \n",
      "Recall: 0.8671052631578947 \n",
      "Aging Rate: 0.46578947368421053\n",
      "Precision: 0.9448373408769448 \n",
      "Recall: 0.8789473684210526 \n",
      "Aging Rate: 0.4651315789473684\n",
      "\u001b[32m[I 2021-12-13 13:03:13,114]\u001b[0m Trial 3 finished with value: 0.912547017711077 and parameters: {'n_estimators': 600, 'min_samples_split': 2, 'max_depth': 6}. Best is trial 1 with value: 0.981918982698291.\u001b[0m\n",
      "Precision: 0.821173104434907 \n",
      "Recall: 0.7552631578947369 \n",
      "Aging Rate: 0.4598684210526316\n",
      "Precision: 0.8343465045592705 \n",
      "Recall: 0.7223684210526315 \n",
      "Aging Rate: 0.4328947368421053\n",
      "Precision: 0.8190883190883191 \n",
      "Recall: 0.756578947368421 \n",
      "Aging Rate: 0.4618421052631579\n",
      "\u001b[32m[I 2021-12-13 13:03:18,661]\u001b[0m Trial 4 finished with value: 0.7939454994698224 and parameters: {'n_estimators': 700, 'min_samples_split': 32, 'max_depth': 3}. Best is trial 1 with value: 0.981918982698291.\u001b[0m\n",
      "Precision: 0.9837837837837838 \n",
      "Recall: 0.9578947368421052 \n",
      "Aging Rate: 0.4868421052631579\n",
      "Precision: 0.9917355371900827 \n",
      "Recall: 0.9473684210526315 \n",
      "Aging Rate: 0.4776315789473684\n",
      "Precision: 0.9798115746971736 \n",
      "Recall: 0.9578947368421052 \n",
      "Aging Rate: 0.4888157894736842\n",
      "\u001b[32m[I 2021-12-13 13:03:23,034]\u001b[0m Trial 5 finished with value: 0.9738011921394746 and parameters: {'n_estimators': 500, 'min_samples_split': 12, 'max_depth': 9}. Best is trial 1 with value: 0.981918982698291.\u001b[0m\n",
      "Precision: 0.9945429740791268 \n",
      "Recall: 0.9592105263157895 \n",
      "Aging Rate: 0.48223684210526313\n",
      "Precision: 0.9931787175989086 \n",
      "Recall: 0.9578947368421052 \n",
      "Aging Rate: 0.48223684210526313\n",
      "Precision: 0.9902777777777778 \n",
      "Recall: 0.9381578947368421 \n",
      "Aging Rate: 0.47368421052631576\n",
      "\u001b[32m[I 2021-12-13 13:03:28,061]\u001b[0m Trial 6 finished with value: 0.9775229606100343 and parameters: {'n_estimators': 500, 'min_samples_split': 12, 'max_depth': 9}. Best is trial 1 with value: 0.981918982698291.\u001b[0m\n",
      "Precision: 0.9116022099447514 \n",
      "Recall: 0.868421052631579 \n",
      "Aging Rate: 0.4763157894736842\n",
      "Precision: 0.924822695035461 \n",
      "Recall: 0.8578947368421053 \n",
      "Aging Rate: 0.46381578947368424\n",
      "Precision: 0.9276595744680851 \n",
      "Recall: 0.8605263157894737 \n",
      "Aging Rate: 0.46381578947368424\n",
      "\u001b[32m[I 2021-12-13 13:03:32,482]\u001b[0m Trial 7 finished with value: 0.8991491246820461 and parameters: {'n_estimators': 500, 'min_samples_split': 27, 'max_depth': 6}. Best is trial 1 with value: 0.981918982698291.\u001b[0m\n",
      "Precision: 0.9931129476584022 \n",
      "Recall: 0.9486842105263158 \n",
      "Aging Rate: 0.4776315789473684\n",
      "Precision: 0.9821182943603851 \n",
      "Recall: 0.9394736842105263 \n",
      "Aging Rate: 0.47828947368421054\n",
      "Precision: 0.9875346260387812 \n",
      "Recall: 0.9381578947368421 \n",
      "Aging Rate: 0.475\n",
      "\u001b[32m[I 2021-12-13 13:03:39,727]\u001b[0m Trial 8 finished with value: 0.9707153180468072 and parameters: {'n_estimators': 800, 'min_samples_split': 12, 'max_depth': 9}. Best is trial 1 with value: 0.981918982698291.\u001b[0m\n",
      "Precision: 0.9946164199192463 \n",
      "Recall: 0.9723684210526315 \n",
      "Aging Rate: 0.4888157894736842\n",
      "Precision: 0.9958904109589041 \n",
      "Recall: 0.9565789473684211 \n",
      "Aging Rate: 0.48026315789473684\n",
      "Precision: 0.9959404600811907 \n",
      "Recall: 0.968421052631579 \n",
      "Aging Rate: 0.4861842105263158\n",
      "\u001b[32m[I 2021-12-13 13:03:43,429]\u001b[0m Trial 9 finished with value: 0.9845724761105771 and parameters: {'n_estimators': 300, 'min_samples_split': 7, 'max_depth': 12}. Best is trial 9 with value: 0.9845724761105771.\u001b[0m\n",
      "Precision: 0.9973082099596231 \n",
      "Recall: 0.975 \n",
      "Aging Rate: 0.4888157894736842\n",
      "Precision: 0.997275204359673 \n",
      "Recall: 0.9631578947368421 \n",
      "Aging Rate: 0.48289473684210527\n",
      "Precision: 1.0 \n",
      "Recall: 0.9763157894736842 \n",
      "Aging Rate: 0.4881578947368421\n",
      "\u001b[32m[I 2021-12-13 13:03:47,187]\u001b[0m Trial 10 finished with value: 0.9884070353943414 and parameters: {'n_estimators': 300, 'min_samples_split': 2, 'max_depth': 21}. Best is trial 10 with value: 0.9884070353943414.\u001b[0m\n",
      "Precision: 1.0 \n",
      "Recall: 0.9671052631578947 \n",
      "Aging Rate: 0.48355263157894735\n",
      "Precision: 0.9986431478968792 \n",
      "Recall: 0.968421052631579 \n",
      "Aging Rate: 0.48486842105263156\n",
      "Precision: 0.9986559139784946 \n",
      "Recall: 0.9776315789473684 \n",
      "Aging Rate: 0.48947368421052634\n",
      "\u001b[32m[I 2021-12-13 13:03:51,158]\u001b[0m Trial 11 finished with value: 0.9888117704254403 and parameters: {'n_estimators': 400, 'min_samples_split': 7, 'max_depth': 21}. Best is trial 11 with value: 0.9888117704254403.\u001b[0m\n",
      "Precision: 0.9986595174262735 \n",
      "Recall: 0.9802631578947368 \n",
      "Aging Rate: 0.49078947368421055\n",
      "Precision: 0.9986666666666667 \n",
      "Recall: 0.9855263157894737 \n",
      "Aging Rate: 0.4934210526315789\n",
      "Precision: 0.9986522911051213 \n",
      "Recall: 0.975 \n",
      "Aging Rate: 0.4881578947368421\n",
      "\u001b[32m[I 2021-12-13 13:03:54,196]\u001b[0m Trial 12 finished with value: 0.9919533991728077 and parameters: {'n_estimators': 400, 'min_samples_split': 2, 'max_depth': 21}. Best is trial 12 with value: 0.9919533991728077.\u001b[0m\n",
      "Precision: 1.0 \n",
      "Recall: 0.9736842105263158 \n",
      "Aging Rate: 0.4868421052631579\n",
      "Precision: 0.9986449864498645 \n",
      "Recall: 0.9697368421052631 \n",
      "Aging Rate: 0.4855263157894737\n",
      "Precision: 0.9986522911051213 \n",
      "Recall: 0.975 \n",
      "Aging Rate: 0.4881578947368421\n",
      "\u001b[32m[I 2021-12-13 13:04:00,442]\u001b[0m Trial 13 finished with value: 0.9894706839115172 and parameters: {'n_estimators': 700, 'min_samples_split': 7, 'max_depth': 21}. Best is trial 12 with value: 0.9919533991728077.\u001b[0m\n",
      "Precision: 0.9906542056074766 \n",
      "Recall: 0.9763157894736842 \n",
      "Aging Rate: 0.49276315789473685\n",
      "Precision: 1.0 \n",
      "Recall: 0.9802631578947368 \n",
      "Aging Rate: 0.4901315789473684\n",
      "Precision: 0.9986666666666667 \n",
      "Recall: 0.9855263157894737 \n",
      "Aging Rate: 0.4934210526315789\n",
      "\u001b[32m[I 2021-12-13 13:04:07,684]\u001b[0m Trial 14 finished with value: 0.9907146392933228 and parameters: {'n_estimators': 700, 'min_samples_split': 2, 'max_depth': 21}. Best is trial 12 with value: 0.9919533991728077.\u001b[0m\n",
      "Precision: 0.9973154362416108 \n",
      "Recall: 0.9776315789473684 \n",
      "Aging Rate: 0.4901315789473684\n",
      "Precision: 0.9960159362549801 \n",
      "Recall: 0.9868421052631579 \n",
      "Aging Rate: 0.4953947368421053\n",
      "Precision: 0.9986631016042781 \n",
      "Recall: 0.9828947368421053 \n",
      "Aging Rate: 0.4921052631578947\n",
      "\u001b[32m[I 2021-12-13 13:04:13,396]\u001b[0m Trial 15 finished with value: 0.9919203025405157 and parameters: {'n_estimators': 600, 'min_samples_split': 2, 'max_depth': 18}. Best is trial 12 with value: 0.9919533991728077.\u001b[0m\n",
      "Precision: 0.9959623149394348 \n",
      "Recall: 0.9736842105263158 \n",
      "Aging Rate: 0.4888157894736842\n",
      "Precision: 1.0 \n",
      "Recall: 0.9710526315789474 \n",
      "Aging Rate: 0.4855263157894737\n",
      "Precision: 0.998641304347826 \n",
      "Recall: 0.9671052631578947 \n",
      "Aging Rate: 0.4842105263157895\n",
      "\u001b[32m[I 2021-12-13 13:04:17,487]\u001b[0m Trial 16 finished with value: 0.9880873672862603 and parameters: {'n_estimators': 400, 'min_samples_split': 22, 'max_depth': 21}. Best is trial 12 with value: 0.9919533991728077.\u001b[0m\n",
      "Precision: 0.9986522911051213 \n",
      "Recall: 0.975 \n",
      "Aging Rate: 0.4881578947368421\n"
     ]
    },
    {
     "name": "stdout",
     "output_type": "stream",
     "text": [
      "Precision: 0.9973118279569892 \n",
      "Recall: 0.9763157894736842 \n",
      "Aging Rate: 0.48947368421052634\n",
      "Precision: 0.9972826086956522 \n",
      "Recall: 0.9657894736842105 \n",
      "Aging Rate: 0.4842105263157895\n",
      "\u001b[32m[I 2021-12-13 13:04:22,093]\u001b[0m Trial 17 finished with value: 0.9884558834984377 and parameters: {'n_estimators': 500, 'min_samples_split': 7, 'max_depth': 15}. Best is trial 12 with value: 0.9919533991728077.\u001b[0m\n",
      "Precision: 0.9986301369863013 \n",
      "Recall: 0.9592105263157895 \n",
      "Aging Rate: 0.48026315789473684\n",
      "Precision: 0.9959183673469387 \n",
      "Recall: 0.9631578947368421 \n",
      "Aging Rate: 0.48355263157894735\n",
      "Precision: 0.9932065217391305 \n",
      "Recall: 0.9618421052631579 \n",
      "Aging Rate: 0.4842105263157895\n",
      "\u001b[32m[I 2021-12-13 13:04:27,478]\u001b[0m Trial 18 finished with value: 0.9832082219205072 and parameters: {'n_estimators': 500, 'min_samples_split': 32, 'max_depth': 15}. Best is trial 12 with value: 0.9919533991728077.\u001b[0m\n",
      "Precision: 1.0 \n",
      "Recall: 0.9736842105263158 \n",
      "Aging Rate: 0.4868421052631579\n",
      "Precision: 0.9973009446693657 \n",
      "Recall: 0.9723684210526315 \n",
      "Aging Rate: 0.4875\n",
      "Precision: 0.9986486486486487 \n",
      "Recall: 0.9723684210526315 \n",
      "Aging Rate: 0.4868421052631579\n",
      "\u001b[32m[I 2021-12-13 13:04:29,843]\u001b[0m Trial 19 finished with value: 0.9891896704383475 and parameters: {'n_estimators': 100, 'min_samples_split': 17, 'max_depth': 21}. Best is trial 12 with value: 0.9919533991728077.\u001b[0m\n",
      "Precision: 0.996005326231691 \n",
      "Recall: 0.9842105263157894 \n",
      "Aging Rate: 0.49407894736842106\n",
      "Precision: 0.9959568733153639 \n",
      "Recall: 0.9723684210526315 \n",
      "Aging Rate: 0.4881578947368421\n",
      "Precision: 1.0 \n",
      "Recall: 0.9723684210526315 \n",
      "Aging Rate: 0.4861842105263158\n",
      "\u001b[32m[I 2021-12-13 13:04:37,206]\u001b[0m Trial 20 finished with value: 0.9896448851982952 and parameters: {'n_estimators': 800, 'min_samples_split': 2, 'max_depth': 15}. Best is trial 12 with value: 0.9919533991728077.\u001b[0m\n",
      "Precision: 0.9986449864498645 \n",
      "Recall: 0.9697368421052631 \n",
      "Aging Rate: 0.4855263157894737\n",
      "Precision: 1.0 \n",
      "Recall: 0.9881578947368421 \n",
      "Aging Rate: 0.49407894736842106\n",
      "Precision: 0.9986648865153538 \n",
      "Recall: 0.9842105263157894 \n",
      "Aging Rate: 0.49276315789473685\n",
      "\u001b[32m[I 2021-12-13 13:04:43,507]\u001b[0m Trial 21 finished with value: 0.9923861876110616 and parameters: {'n_estimators': 700, 'min_samples_split': 2, 'max_depth': 21}. Best is trial 21 with value: 0.9923861876110616.\u001b[0m\n",
      "Precision: 0.9986666666666667 \n",
      "Recall: 0.9855263157894737 \n",
      "Aging Rate: 0.4934210526315789\n",
      "Precision: 1.0 \n",
      "Recall: 0.9868421052631579 \n",
      "Aging Rate: 0.4934210526315789\n",
      "Precision: 0.9947019867549669 \n",
      "Recall: 0.9881578947368421 \n",
      "Aging Rate: 0.4967105263157895\n",
      "\u001b[32m[I 2021-12-13 13:04:48,625]\u001b[0m Trial 22 finished with value: 0.9938183493953009 and parameters: {'n_estimators': 500, 'min_samples_split': 2, 'max_depth': 18}. Best is trial 22 with value: 0.9938183493953009.\u001b[0m\n",
      "Precision: 0.9945504087193461 \n",
      "Recall: 0.9605263157894737 \n",
      "Aging Rate: 0.48289473684210527\n",
      "Precision: 0.9972602739726028 \n",
      "Recall: 0.9578947368421052 \n",
      "Aging Rate: 0.48026315789473684\n",
      "Precision: 0.9958904109589041 \n",
      "Recall: 0.9565789473684211 \n",
      "Aging Rate: 0.48026315789473684\n",
      "\u001b[32m[I 2021-12-13 13:04:51,552]\u001b[0m Trial 23 finished with value: 0.9820401410504465 and parameters: {'n_estimators': 200, 'min_samples_split': 22, 'max_depth': 12}. Best is trial 22 with value: 0.9938183493953009.\u001b[0m\n",
      "Precision: 0.9986504723346828 \n",
      "Recall: 0.9736842105263158 \n",
      "Aging Rate: 0.4875\n",
      "Precision: 0.9973262032085561 \n",
      "Recall: 0.9815789473684211 \n",
      "Aging Rate: 0.4921052631578947\n",
      "Precision: 0.9986595174262735 \n",
      "Recall: 0.9802631578947368 \n",
      "Aging Rate: 0.49078947368421055\n",
      "\u001b[32m[I 2021-12-13 13:04:56,085]\u001b[0m Trial 24 finished with value: 0.991024537347446 and parameters: {'n_estimators': 400, 'min_samples_split': 2, 'max_depth': 15}. Best is trial 22 with value: 0.9938183493953009.\u001b[0m\n",
      "Precision: 0.9986559139784946 \n",
      "Recall: 0.9776315789473684 \n",
      "Aging Rate: 0.48947368421052634\n",
      "Precision: 1.0 \n",
      "Recall: 0.9776315789473684 \n",
      "Aging Rate: 0.4888157894736842\n",
      "Precision: 1.0 \n",
      "Recall: 0.9881578947368421 \n",
      "Aging Rate: 0.49407894736842106\n",
      "\u001b[32m[I 2021-12-13 13:05:00,403]\u001b[0m Trial 25 finished with value: 0.9928394936459227 and parameters: {'n_estimators': 500, 'min_samples_split': 2, 'max_depth': 21}. Best is trial 22 with value: 0.9938183493953009.\u001b[0m\n",
      "Precision: 0.9946308724832215 \n",
      "Recall: 0.975 \n",
      "Aging Rate: 0.4901315789473684\n",
      "Precision: 0.9986486486486487 \n",
      "Recall: 0.9723684210526315 \n",
      "Aging Rate: 0.4868421052631579\n",
      "Precision: 0.9973226238286479 \n",
      "Recall: 0.9802631578947368 \n",
      "Aging Rate: 0.49144736842105263\n",
      "\u001b[32m[I 2021-12-13 13:05:07,593]\u001b[0m Trial 26 finished with value: 0.9892040943853034 and parameters: {'n_estimators': 800, 'min_samples_split': 12, 'max_depth': 18}. Best is trial 22 with value: 0.9938183493953009.\u001b[0m\n",
      "Precision: 0.9986357435197817 \n",
      "Recall: 0.9631578947368421 \n",
      "Aging Rate: 0.48223684210526313\n",
      "Precision: 0.9972862957937585 \n",
      "Recall: 0.9671052631578947 \n",
      "Aging Rate: 0.48486842105263156\n",
      "Precision: 1.0 \n",
      "Recall: 0.9815789473684211 \n",
      "Aging Rate: 0.49078947368421055\n",
      "\u001b[32m[I 2021-12-13 13:05:12,944]\u001b[0m Trial 27 finished with value: 0.9883541326792825 and parameters: {'n_estimators': 600, 'min_samples_split': 12, 'max_depth': 21}. Best is trial 22 with value: 0.9938183493953009.\u001b[0m\n",
      "Precision: 0.921090387374462 \n",
      "Recall: 0.8447368421052631 \n",
      "Aging Rate: 0.4585526315789474\n",
      "Precision: 0.9399141630901288 \n",
      "Recall: 0.8644736842105263 \n",
      "Aging Rate: 0.4598684210526316\n",
      "Precision: 0.921090387374462 \n",
      "Recall: 0.8447368421052631 \n",
      "Aging Rate: 0.4585526315789474\n",
      "\u001b[32m[I 2021-12-13 13:05:15,814]\u001b[0m Trial 28 finished with value: 0.8984704105804681 and parameters: {'n_estimators': 200, 'min_samples_split': 32, 'max_depth': 6}. Best is trial 22 with value: 0.9938183493953009.\u001b[0m\n",
      "Precision: 0.996 \n",
      "Recall: 0.9828947368421053 \n",
      "Aging Rate: 0.4934210526315789\n",
      "Precision: 0.99734395750332 \n",
      "Recall: 0.9881578947368421 \n",
      "Aging Rate: 0.4953947368421053\n",
      "Precision: 0.9986522911051213 \n",
      "Recall: 0.975 \n",
      "Aging Rate: 0.4881578947368421\n",
      "\u001b[32m[I 2021-12-13 13:05:21,607]\u001b[0m Trial 29 finished with value: 0.9917552722455505 and parameters: {'n_estimators': 600, 'min_samples_split': 2, 'max_depth': 15}. Best is trial 22 with value: 0.9938183493953009.\u001b[0m\n",
      "Precision: 0.998661311914324 \n",
      "Recall: 0.9815789473684211 \n",
      "Aging Rate: 0.49144736842105263\n",
      "Precision: 0.9986666666666667 \n",
      "Recall: 0.9855263157894737 \n",
      "Aging Rate: 0.4934210526315789\n",
      "Precision: 1.0 \n",
      "Recall: 0.9736842105263158 \n",
      "Aging Rate: 0.4868421052631579\n",
      "\u001b[32m[I 2021-12-13 13:05:26,664]\u001b[0m Trial 30 finished with value: 0.992234528247987 and parameters: {'n_estimators': 600, 'min_samples_split': 2, 'max_depth': 21}. Best is trial 22 with value: 0.9938183493953009.\u001b[0m\n",
      "Precision: 0.9960106382978723 \n",
      "Recall: 0.9855263157894737 \n",
      "Aging Rate: 0.49473684210526314\n",
      "Precision: 0.9973404255319149 \n",
      "Recall: 0.9868421052631579 \n",
      "Aging Rate: 0.49473684210526314\n",
      "Precision: 0.9986684420772304 \n",
      "Recall: 0.9868421052631579 \n",
      "Aging Rate: 0.49407894736842106\n",
      "\u001b[32m[I 2021-12-13 13:05:31,995]\u001b[0m Trial 31 finished with value: 0.9933748420085285 and parameters: {'n_estimators': 500, 'min_samples_split': 2, 'max_depth': 18}. Best is trial 22 with value: 0.9938183493953009.\u001b[0m\n",
      "Precision: 0.9986702127659575 \n",
      "Recall: 0.9881578947368421 \n",
      "Aging Rate: 0.49473684210526314\n",
      "Precision: 0.9973297730307076 \n",
      "Recall: 0.9828947368421053 \n",
      "Aging Rate: 0.49276315789473685\n",
      "Precision: 0.9959623149394348 \n",
      "Recall: 0.9736842105263158 \n",
      "Aging Rate: 0.4888157894736842\n",
      "\u001b[32m[I 2021-12-13 13:05:37,217]\u001b[0m Trial 32 finished with value: 0.991590132869355 and parameters: {'n_estimators': 500, 'min_samples_split': 2, 'max_depth': 18}. Best is trial 22 with value: 0.9938183493953009.\u001b[0m\n",
      "Precision: 0.9920739762219286 \n",
      "Recall: 0.9881578947368421 \n",
      "Aging Rate: 0.4980263157894737\n",
      "Precision: 0.9973368841544608 \n",
      "Recall: 0.9855263157894737 \n",
      "Aging Rate: 0.49407894736842106\n",
      "Precision: 1.0 \n",
      "Recall: 0.975 \n",
      "Aging Rate: 0.4875\n",
      "\u001b[32m[I 2021-12-13 13:05:42,386]\u001b[0m Trial 33 finished with value: 0.9915222946931418 and parameters: {'n_estimators': 500, 'min_samples_split': 2, 'max_depth': 21}. Best is trial 22 with value: 0.9938183493953009.\u001b[0m\n",
      "Precision: 0.9973190348525469 \n",
      "Recall: 0.9789473684210527 \n",
      "Aging Rate: 0.49078947368421055\n",
      "Precision: 0.998661311914324 \n",
      "Recall: 0.9815789473684211 \n",
      "Aging Rate: 0.49144736842105263\n"
     ]
    },
    {
     "name": "stdout",
     "output_type": "stream",
     "text": [
      "Precision: 1.0 \n",
      "Recall: 0.975 \n",
      "Aging Rate: 0.4875\n",
      "\u001b[32m[I 2021-12-13 13:05:47,718]\u001b[0m Trial 34 finished with value: 0.9913078610139653 and parameters: {'n_estimators': 500, 'min_samples_split': 2, 'max_depth': 18}. Best is trial 22 with value: 0.9938183493953009.\u001b[0m\n",
      "Precision: 0.9986559139784946 \n",
      "Recall: 0.9776315789473684 \n",
      "Aging Rate: 0.48947368421052634\n",
      "Precision: 0.9986522911051213 \n",
      "Recall: 0.975 \n",
      "Aging Rate: 0.4881578947368421\n",
      "Precision: 0.9986431478968792 \n",
      "Recall: 0.968421052631579 \n",
      "Aging Rate: 0.48486842105263156\n",
      "\u001b[32m[I 2021-12-13 13:05:52,725]\u001b[0m Trial 35 finished with value: 0.9895128328222921 and parameters: {'n_estimators': 600, 'min_samples_split': 7, 'max_depth': 18}. Best is trial 22 with value: 0.9938183493953009.\u001b[0m\n",
      "Precision: 0.9986541049798116 \n",
      "Recall: 0.9763157894736842 \n",
      "Aging Rate: 0.4888157894736842\n",
      "Precision: 0.9973082099596231 \n",
      "Recall: 0.975 \n",
      "Aging Rate: 0.4888157894736842\n",
      "Precision: 0.9986449864498645 \n",
      "Recall: 0.9697368421052631 \n",
      "Aging Rate: 0.4855263157894737\n",
      "\u001b[32m[I 2021-12-13 13:06:00,184]\u001b[0m Trial 36 finished with value: 0.9892325809668826 and parameters: {'n_estimators': 800, 'min_samples_split': 2, 'max_depth': 18}. Best is trial 22 with value: 0.9938183493953009.\u001b[0m\n",
      "Precision: 0.9945652173913043 \n",
      "Recall: 0.9631578947368421 \n",
      "Aging Rate: 0.4842105263157895\n",
      "Precision: 0.9958791208791209 \n",
      "Recall: 0.9539473684210527 \n",
      "Aging Rate: 0.4789473684210526\n",
      "Precision: 0.9959128065395095 \n",
      "Recall: 0.9618421052631579 \n",
      "Aging Rate: 0.48289473684210527\n",
      "\u001b[32m[I 2021-12-13 13:06:03,010]\u001b[0m Trial 37 finished with value: 0.9822545969712747 and parameters: {'n_estimators': 200, 'min_samples_split': 32, 'max_depth': 18}. Best is trial 22 with value: 0.9938183493953009.\u001b[0m\n",
      "Precision: 0.9986666666666667 \n",
      "Recall: 0.9855263157894737 \n",
      "Aging Rate: 0.4934210526315789\n",
      "Precision: 0.9986486486486487 \n",
      "Recall: 0.9723684210526315 \n",
      "Aging Rate: 0.4868421052631579\n",
      "Precision: 0.9986522911051213 \n",
      "Recall: 0.975 \n",
      "Aging Rate: 0.4881578947368421\n",
      "\u001b[32m[I 2021-12-13 13:06:08,382]\u001b[0m Trial 38 finished with value: 0.9909760249860696 and parameters: {'n_estimators': 500, 'min_samples_split': 2, 'max_depth': 21}. Best is trial 22 with value: 0.9938183493953009.\u001b[0m\n",
      "Precision: 1.0 \n",
      "Recall: 0.9723684210526315 \n",
      "Aging Rate: 0.4861842105263158\n",
      "Precision: 0.9972677595628415 \n",
      "Recall: 0.9605263157894737 \n",
      "Aging Rate: 0.48157894736842105\n",
      "Precision: 1.0 \n",
      "Recall: 0.9592105263157895 \n",
      "Aging Rate: 0.47960526315789476\n",
      "\u001b[32m[I 2021-12-13 13:06:15,155]\u001b[0m Trial 39 finished with value: 0.9861723880015557 and parameters: {'n_estimators': 800, 'min_samples_split': 22, 'max_depth': 21}. Best is trial 22 with value: 0.9938183493953009.\u001b[0m\n",
      "Precision: 0.837037037037037 \n",
      "Recall: 0.743421052631579 \n",
      "Aging Rate: 0.4440789473684211\n",
      "Precision: 0.829971181556196 \n",
      "Recall: 0.7578947368421053 \n",
      "Aging Rate: 0.45657894736842103\n",
      "Precision: 0.8242074927953891 \n",
      "Recall: 0.7526315789473684 \n",
      "Aging Rate: 0.45657894736842103\n",
      "\u001b[32m[I 2021-12-13 13:06:22,367]\u001b[0m Trial 40 finished with value: 0.8000524601776116 and parameters: {'n_estimators': 800, 'min_samples_split': 22, 'max_depth': 3}. Best is trial 22 with value: 0.9938183493953009.\u001b[0m\n",
      "Precision: 0.9946452476572959 \n",
      "Recall: 0.9776315789473684 \n",
      "Aging Rate: 0.49144736842105263\n",
      "Precision: 0.9946452476572959 \n",
      "Recall: 0.9776315789473684 \n",
      "Aging Rate: 0.49144736842105263\n",
      "Precision: 1.0 \n",
      "Recall: 0.9776315789473684 \n",
      "Aging Rate: 0.4888157894736842\n",
      "\u001b[32m[I 2021-12-13 13:06:27,587]\u001b[0m Trial 41 finished with value: 0.989578493446122 and parameters: {'n_estimators': 500, 'min_samples_split': 2, 'max_depth': 21}. Best is trial 22 with value: 0.9938183493953009.\u001b[0m\n",
      "Precision: 0.9960264900662251 \n",
      "Recall: 0.9894736842105263 \n",
      "Aging Rate: 0.4967105263157895\n",
      "Precision: 0.9919786096256684 \n",
      "Recall: 0.9763157894736842 \n",
      "Aging Rate: 0.4921052631578947\n",
      "Precision: 0.9973368841544608 \n",
      "Recall: 0.9855263157894737 \n",
      "Aging Rate: 0.49407894736842106\n",
      "\u001b[32m[I 2021-12-13 13:06:33,174]\u001b[0m Trial 42 finished with value: 0.9909975158472295 and parameters: {'n_estimators': 600, 'min_samples_split': 2, 'max_depth': 21}. Best is trial 22 with value: 0.9938183493953009.\u001b[0m\n",
      "Precision: 0.9933598937583001 \n",
      "Recall: 0.9842105263157894 \n",
      "Aging Rate: 0.4953947368421053\n",
      "Precision: 0.9973474801061007 \n",
      "Recall: 0.9894736842105263 \n",
      "Aging Rate: 0.49605263157894736\n",
      "Precision: 0.998661311914324 \n",
      "Recall: 0.9815789473684211 \n",
      "Aging Rate: 0.49144736842105263\n",
      "\u001b[32m[I 2021-12-13 13:06:38,821]\u001b[0m Trial 43 finished with value: 0.9923295674260278 and parameters: {'n_estimators': 700, 'min_samples_split': 2, 'max_depth': 21}. Best is trial 22 with value: 0.9938183493953009.\u001b[0m\n",
      "Precision: 0.998661311914324 \n",
      "Recall: 0.9815789473684211 \n",
      "Aging Rate: 0.49144736842105263\n",
      "Precision: 1.0 \n",
      "Recall: 0.9723684210526315 \n",
      "Aging Rate: 0.4861842105263158\n",
      "Precision: 1.0 \n",
      "Recall: 0.9763157894736842 \n",
      "Aging Rate: 0.4881578947368421\n",
      "\u001b[32m[I 2021-12-13 13:06:42,533]\u001b[0m Trial 44 finished with value: 0.9912198668077533 and parameters: {'n_estimators': 800, 'min_samples_split': 7, 'max_depth': 21}. Best is trial 22 with value: 0.9938183493953009.\u001b[0m\n",
      "Precision: 0.8197831978319783 \n",
      "Recall: 0.7960526315789473 \n",
      "Aging Rate: 0.4855263157894737\n",
      "Precision: 0.8410493827160493 \n",
      "Recall: 0.7171052631578947 \n",
      "Aging Rate: 0.4263157894736842\n",
      "Precision: 0.8541973490427098 \n",
      "Recall: 0.7631578947368421 \n",
      "Aging Rate: 0.44671052631578945\n",
      "\u001b[32m[I 2021-12-13 13:06:43,816]\u001b[0m Trial 45 finished with value: 0.8072952590490644 and parameters: {'n_estimators': 200, 'min_samples_split': 12, 'max_depth': 3}. Best is trial 22 with value: 0.9938183493953009.\u001b[0m\n",
      "Precision: 0.9973262032085561 \n",
      "Recall: 0.9815789473684211 \n",
      "Aging Rate: 0.4921052631578947\n",
      "Precision: 1.0 \n",
      "Recall: 0.9842105263157894 \n",
      "Aging Rate: 0.4921052631578947\n",
      "Precision: 1.0 \n",
      "Recall: 0.9776315789473684 \n",
      "Aging Rate: 0.4888157894736842\n",
      "\u001b[32m[I 2021-12-13 13:06:47,511]\u001b[0m Trial 46 finished with value: 0.9925624988151891 and parameters: {'n_estimators': 800, 'min_samples_split': 2, 'max_depth': 21}. Best is trial 22 with value: 0.9938183493953009.\u001b[0m\n",
      "Precision: 0.9986702127659575 \n",
      "Recall: 0.9881578947368421 \n",
      "Aging Rate: 0.49473684210526314\n",
      "Precision: 1.0 \n",
      "Recall: 0.9802631578947368 \n",
      "Aging Rate: 0.4901315789473684\n",
      "Precision: 1.0 \n",
      "Recall: 0.9868421052631579 \n",
      "Aging Rate: 0.4934210526315789\n",
      "\u001b[32m[I 2021-12-13 13:06:51,214]\u001b[0m Trial 47 finished with value: 0.9942956260351968 and parameters: {'n_estimators': 800, 'min_samples_split': 2, 'max_depth': 21}. Best is trial 47 with value: 0.9942956260351968.\u001b[0m\n",
      "Precision: 1.0 \n",
      "Recall: 0.975 \n",
      "Aging Rate: 0.4875\n",
      "Precision: 0.9973368841544608 \n",
      "Recall: 0.9855263157894737 \n",
      "Aging Rate: 0.49407894736842106\n",
      "Precision: 0.9946018893387314 \n",
      "Recall: 0.9697368421052631 \n",
      "Aging Rate: 0.4875\n",
      "\u001b[32m[I 2021-12-13 13:06:54,917]\u001b[0m Trial 48 finished with value: 0.9898037295414376 and parameters: {'n_estimators': 800, 'min_samples_split': 2, 'max_depth': 21}. Best is trial 47 with value: 0.9942956260351968.\u001b[0m\n",
      "Precision: 0.9973045822102425 \n",
      "Recall: 0.9736842105263158 \n",
      "Aging Rate: 0.4881578947368421\n",
      "Precision: 0.9986468200270636 \n",
      "Recall: 0.9710526315789474 \n",
      "Aging Rate: 0.4861842105263158\n"
     ]
    },
    {
     "name": "stderr",
     "output_type": "stream",
     "text": [
      "C:\\Users\\user\\anaconda3\\envs\\aging\\lib\\site-packages\\optuna\\samplers\\_tpe\\sampler.py:253: ExperimentalWarning: ``multivariate`` option is an experimental feature. The interface can change in the future.\n",
      "  ExperimentalWarning,\n",
      "\u001b[32m[I 2021-12-13 13:06:57,039]\u001b[0m A new study created in memory with name: no-name-d958e590-350d-46d8-b6b9-f628af3a7205\u001b[0m\n"
     ]
    },
    {
     "name": "stdout",
     "output_type": "stream",
     "text": [
      "Precision: 0.9972789115646259 \n",
      "Recall: 0.9644736842105263 \n",
      "Aging Rate: 0.48355263157894735\n",
      "\u001b[32m[I 2021-12-13 13:06:56,993]\u001b[0m Trial 49 finished with value: 0.9874731673379604 and parameters: {'n_estimators': 400, 'min_samples_split': 12, 'max_depth': 15}. Best is trial 47 with value: 0.9942956260351968.\u001b[0m\n",
      "Sampler is TPESampler\n",
      "Dataset5 :\n"
     ]
    },
    {
     "name": "stderr",
     "output_type": "stream",
     "text": [
      "C:\\Users\\user\\anaconda3\\envs\\aging\\lib\\site-packages\\optuna\\progress_bar.py:47: ExperimentalWarning: Progress bar is experimental (supported from v1.2.0). The interface can change in the future.\n",
      "  self._init_valid()\n"
     ]
    },
    {
     "data": {
      "application/vnd.jupyter.widget-view+json": {
       "model_id": "be91915a7a2d4ecaaa6f7a983b778dab",
       "version_major": 2,
       "version_minor": 0
      },
      "text/plain": [
       "  0%|          | 0/50 [00:00<?, ?it/s]"
      ]
     },
     "metadata": {},
     "output_type": "display_data"
    },
    {
     "name": "stdout",
     "output_type": "stream",
     "text": [
      "Precision: 0.9934123847167325 \n",
      "Recall: 0.9986754966887417 \n",
      "Aging Rate: 0.500990099009901\n",
      "Precision: 0.9973118279569892 \n",
      "Recall: 0.9827814569536424 \n",
      "Aging Rate: 0.4910891089108911\n",
      "Precision: 0.9947019867549669 \n",
      "Recall: 0.9947019867549669 \n",
      "Aging Rate: 0.49834983498349833\n",
      "\u001b[32m[I 2021-12-13 13:06:58,313]\u001b[0m Trial 0 finished with value: 0.9940114494855342 and parameters: {'n_estimators': 200, 'min_samples_split': 2, 'max_depth': 18}. Best is trial 0 with value: 0.9940114494855342.\u001b[0m\n",
      "Precision: 0.9892761394101877 \n",
      "Recall: 0.9774834437086093 \n",
      "Aging Rate: 0.4924092409240924\n",
      "Precision: 0.9906040268456375 \n",
      "Recall: 0.9774834437086093 \n",
      "Aging Rate: 0.49174917491749176\n",
      "Precision: 0.9853723404255319 \n",
      "Recall: 0.9814569536423841 \n",
      "Aging Rate: 0.49636963696369635\n",
      "\u001b[32m[I 2021-12-13 13:06:59,609]\u001b[0m Trial 1 finished with value: 0.9849325246888343 and parameters: {'n_estimators': 200, 'min_samples_split': 22, 'max_depth': 12}. Best is trial 0 with value: 0.9940114494855342.\u001b[0m\n",
      "Precision: 0.9920212765957447 \n",
      "Recall: 0.9880794701986755 \n",
      "Aging Rate: 0.49636963696369635\n",
      "Precision: 0.9960159362549801 \n",
      "Recall: 0.9933774834437086 \n",
      "Aging Rate: 0.497029702970297\n",
      "Precision: 0.9946524064171123 \n",
      "Recall: 0.9854304635761589 \n",
      "Aging Rate: 0.49372937293729374\n",
      "\u001b[32m[I 2021-12-13 13:07:01,298]\u001b[0m Trial 2 finished with value: 0.9923252594760843 and parameters: {'n_estimators': 300, 'min_samples_split': 17, 'max_depth': 21}. Best is trial 0 with value: 0.9940114494855342.\u001b[0m\n",
      "Precision: 0.9920424403183024 \n",
      "Recall: 0.990728476821192 \n",
      "Aging Rate: 0.4976897689768977\n",
      "Precision: 0.9920739762219286 \n",
      "Recall: 0.9947019867549669 \n",
      "Aging Rate: 0.4996699669966997\n",
      "Precision: 0.9920424403183024 \n",
      "Recall: 0.990728476821192 \n",
      "Aging Rate: 0.4976897689768977\n",
      "\u001b[32m[I 2021-12-13 13:07:04,447]\u001b[0m Trial 3 finished with value: 0.9920521610191235 and parameters: {'n_estimators': 700, 'min_samples_split': 7, 'max_depth': 12}. Best is trial 0 with value: 0.9940114494855342.\u001b[0m\n",
      "Precision: 0.8579310344827586 \n",
      "Recall: 0.823841059602649 \n",
      "Aging Rate: 0.47854785478547857\n",
      "Precision: 0.8688524590163934 \n",
      "Recall: 0.8423841059602649 \n",
      "Aging Rate: 0.48316831683168315\n",
      "Precision: 0.8922155688622755 \n",
      "Recall: 0.7894039735099337 \n",
      "Aging Rate: 0.4409240924092409\n",
      "\u001b[32m[I 2021-12-13 13:07:07,716]\u001b[0m Trial 4 finished with value: 0.8522430888274747 and parameters: {'n_estimators': 800, 'min_samples_split': 22, 'max_depth': 3}. Best is trial 0 with value: 0.9940114494855342.\u001b[0m\n",
      "Precision: 0.9894039735099338 \n",
      "Recall: 0.9894039735099338 \n",
      "Aging Rate: 0.49834983498349833\n",
      "Precision: 0.9802890932982917 \n",
      "Recall: 0.9880794701986755 \n",
      "Aging Rate: 0.5023102310231023\n",
      "Precision: 0.9906790945406125 \n",
      "Recall: 0.9854304635761589 \n",
      "Aging Rate: 0.4957095709570957\n",
      "\u001b[32m[I 2021-12-13 13:07:08,578]\u001b[0m Trial 5 finished with value: 0.9870888564451596 and parameters: {'n_estimators': 100, 'min_samples_split': 27, 'max_depth': 15}. Best is trial 0 with value: 0.9940114494855342.\u001b[0m\n",
      "Precision: 0.9443690637720489 \n",
      "Recall: 0.9218543046357616 \n",
      "Aging Rate: 0.4864686468646865\n",
      "Precision: 0.9532710280373832 \n",
      "Recall: 0.9456953642384106 \n",
      "Aging Rate: 0.49438943894389437\n",
      "Precision: 0.9534883720930233 \n",
      "Recall: 0.9231788079470199 \n",
      "Aging Rate: 0.48250825082508253\n",
      "\u001b[32m[I 2021-12-13 13:07:11,158]\u001b[0m Trial 6 finished with value: 0.9430061136147568 and parameters: {'n_estimators': 600, 'min_samples_split': 7, 'max_depth': 6}. Best is trial 0 with value: 0.9940114494855342.\u001b[0m\n",
      "Precision: 0.9867021276595744 \n",
      "Recall: 0.9827814569536424 \n",
      "Aging Rate: 0.49636963696369635\n",
      "Precision: 0.9919571045576407 \n",
      "Recall: 0.9801324503311258 \n",
      "Aging Rate: 0.4924092409240924\n",
      "Precision: 0.9855643044619422 \n",
      "Recall: 0.9947019867549669 \n",
      "Aging Rate: 0.502970297029703\n",
      "\u001b[32m[I 2021-12-13 13:07:13,533]\u001b[0m Trial 7 finished with value: 0.9872630188166777 and parameters: {'n_estimators': 500, 'min_samples_split': 17, 'max_depth': 15}. Best is trial 0 with value: 0.9940114494855342.\u001b[0m\n",
      "Precision: 0.9932975871313673 \n",
      "Recall: 0.9814569536423841 \n",
      "Aging Rate: 0.4924092409240924\n",
      "Precision: 0.9906417112299465 \n",
      "Recall: 0.9814569536423841 \n",
      "Aging Rate: 0.49372937293729374\n",
      "Precision: 0.9933774834437086 \n",
      "Recall: 0.9933774834437086 \n",
      "Aging Rate: 0.49834983498349833\n",
      "\u001b[32m[I 2021-12-13 13:07:16,098]\u001b[0m Trial 8 finished with value: 0.9898983778695415 and parameters: {'n_estimators': 600, 'min_samples_split': 17, 'max_depth': 21}. Best is trial 0 with value: 0.9940114494855342.\u001b[0m\n",
      "Precision: 0.9986577181208054 \n",
      "Recall: 0.9854304635761589 \n",
      "Aging Rate: 0.49174917491749176\n",
      "Precision: 0.9947089947089947 \n",
      "Recall: 0.9960264900662251 \n",
      "Aging Rate: 0.499009900990099\n",
      "Precision: 0.9960106382978723 \n",
      "Recall: 0.9920529801324504 \n",
      "Aging Rate: 0.49636963696369635\n",
      "\u001b[32m[I 2021-12-13 13:07:17,790]\u001b[0m Trial 9 finished with value: 0.9945401121961069 and parameters: {'n_estimators': 300, 'min_samples_split': 7, 'max_depth': 21}. Best is trial 9 with value: 0.9945401121961069.\u001b[0m\n",
      "Precision: 0.9973333333333333 \n",
      "Recall: 0.990728476821192 \n",
      "Aging Rate: 0.49504950495049505\n",
      "Precision: 0.9986684420772304 \n",
      "Recall: 0.9933774834437086 \n",
      "Aging Rate: 0.4957095709570957\n",
      "Precision: 0.9959839357429718 \n",
      "Recall: 0.9854304635761589 \n",
      "Aging Rate: 0.49306930693069306\n",
      "\u001b[32m[I 2021-12-13 13:07:21,802]\u001b[0m Trial 10 finished with value: 0.9946204753802396 and parameters: {'n_estimators': 800, 'min_samples_split': 2, 'max_depth': 21}. Best is trial 10 with value: 0.9946204753802396.\u001b[0m\n",
      "Precision: 0.990728476821192 \n",
      "Recall: 0.990728476821192 \n",
      "Aging Rate: 0.49834983498349833\n",
      "Precision: 1.0 \n",
      "Recall: 0.9854304635761589 \n",
      "Aging Rate: 0.4910891089108911\n",
      "Precision: 0.9973368841544608 \n",
      "Recall: 0.9920529801324504 \n",
      "Aging Rate: 0.4957095709570957\n",
      "\u001b[32m[I 2021-12-13 13:07:25,835]\u001b[0m Trial 11 finished with value: 0.993620760983772 and parameters: {'n_estimators': 800, 'min_samples_split': 7, 'max_depth': 21}. Best is trial 10 with value: 0.9946204753802396.\u001b[0m\n",
      "Precision: 0.9973262032085561 \n",
      "Recall: 0.9880794701986755 \n",
      "Aging Rate: 0.49372937293729374\n",
      "Precision: 0.9986648865153538 \n",
      "Recall: 0.990728476821192 \n",
      "Aging Rate: 0.49438943894389437\n",
      "Precision: 0.9959946595460614 \n",
      "Recall: 0.9880794701986755 \n",
      "Aging Rate: 0.49438943894389437\n",
      "\u001b[32m[I 2021-12-13 13:07:28,365]\u001b[0m Trial 12 finished with value: 0.994300435595485 and parameters: {'n_estimators': 500, 'min_samples_split': 2, 'max_depth': 18}. Best is trial 10 with value: 0.9946204753802396.\u001b[0m\n",
      "Precision: 1.0 \n",
      "Recall: 0.9920529801324504 \n",
      "Aging Rate: 0.49438943894389437\n",
      "Precision: 0.9907773386034255 \n",
      "Recall: 0.9960264900662251 \n",
      "Aging Rate: 0.500990099009901\n",
      "Precision: 0.998661311914324 \n",
      "Recall: 0.9880794701986755 \n",
      "Aging Rate: 0.49306930693069306\n",
      "\u001b[32m[I 2021-12-13 13:07:31,994]\u001b[0m Trial 13 finished with value: 0.9948703112211689 and parameters: {'n_estimators': 700, 'min_samples_split': 2, 'max_depth': 21}. Best is trial 13 with value: 0.9948703112211689.\u001b[0m\n",
      "Precision: 0.9960264900662251 \n",
      "Recall: 0.9960264900662251 \n",
      "Aging Rate: 0.49834983498349833\n",
      "Precision: 0.9933949801849405 \n",
      "Recall: 0.9960264900662251 \n",
      "Aging Rate: 0.4996699669966997\n",
      "Precision: 0.9946737683089214 \n",
      "Recall: 0.9894039735099338 \n",
      "Aging Rate: 0.4957095709570957\n",
      "\u001b[32m[I 2021-12-13 13:07:35,621]\u001b[0m Trial 14 finished with value: 0.9943791326968338 and parameters: {'n_estimators': 700, 'min_samples_split': 2, 'max_depth': 21}. Best is trial 13 with value: 0.9948703112211689.\u001b[0m\n",
      "Precision: 0.869684499314129 \n",
      "Recall: 0.8397350993377484 \n",
      "Aging Rate: 0.48118811881188117\n",
      "Precision: 0.8701117318435754 \n",
      "Recall: 0.8251655629139073 \n",
      "Aging Rate: 0.4726072607260726\n",
      "Precision: 0.8710990502035278 \n",
      "Recall: 0.8503311258278146 \n",
      "Aging Rate: 0.4864686468646865\n",
      "\u001b[32m[I 2021-12-13 13:07:36,502]\u001b[0m Trial 15 finished with value: 0.8585147938374623 and parameters: {'n_estimators': 100, 'min_samples_split': 17, 'max_depth': 3}. Best is trial 13 with value: 0.9948703112211689.\u001b[0m\n",
      "Precision: 0.9920529801324504 \n",
      "Recall: 0.9920529801324504 \n",
      "Aging Rate: 0.49834983498349833\n",
      "Precision: 0.9920529801324504 \n",
      "Recall: 0.9920529801324504 \n",
      "Aging Rate: 0.49834983498349833\n",
      "Precision: 0.9933510638297872 \n",
      "Recall: 0.9894039735099338 \n",
      "Aging Rate: 0.49636963696369635\n",
      "\u001b[32m[I 2021-12-13 13:07:40,168]\u001b[0m Trial 16 finished with value: 0.9920108162728579 and parameters: {'n_estimators': 800, 'min_samples_split': 12, 'max_depth': 15}. Best is trial 13 with value: 0.9948703112211689.\u001b[0m\n"
     ]
    },
    {
     "name": "stdout",
     "output_type": "stream",
     "text": [
      "Precision: 0.9920529801324504 \n",
      "Recall: 0.9920529801324504 \n",
      "Aging Rate: 0.49834983498349833\n",
      "Precision: 0.9960159362549801 \n",
      "Recall: 0.9933774834437086 \n",
      "Aging Rate: 0.497029702970297\n",
      "Precision: 0.99734395750332 \n",
      "Recall: 0.9947019867549669 \n",
      "Aging Rate: 0.497029702970297\n",
      "\u001b[32m[I 2021-12-13 13:07:43,441]\u001b[0m Trial 17 finished with value: 0.994502897709773 and parameters: {'n_estimators': 700, 'min_samples_split': 2, 'max_depth': 15}. Best is trial 13 with value: 0.9948703112211689.\u001b[0m\n",
      "Precision: 0.9986702127659575 \n",
      "Recall: 0.9947019867549669 \n",
      "Aging Rate: 0.49636963696369635\n",
      "Precision: 0.9986595174262735 \n",
      "Recall: 0.9867549668874173 \n",
      "Aging Rate: 0.4924092409240924\n",
      "Precision: 0.9986666666666667 \n",
      "Recall: 0.9920529801324504 \n",
      "Aging Rate: 0.49504950495049505\n",
      "\u001b[32m[I 2021-12-13 13:07:47,527]\u001b[0m Trial 18 finished with value: 0.9959515155335907 and parameters: {'n_estimators': 800, 'min_samples_split': 2, 'max_depth': 21}. Best is trial 18 with value: 0.9959515155335907.\u001b[0m\n",
      "Precision: 0.9880159786950732 \n",
      "Recall: 0.9827814569536424 \n",
      "Aging Rate: 0.4957095709570957\n",
      "Precision: 0.9959623149394348 \n",
      "Recall: 0.9801324503311258 \n",
      "Aging Rate: 0.4904290429042904\n",
      "Precision: 0.9879518072289156 \n",
      "Recall: 0.9774834437086093 \n",
      "Aging Rate: 0.49306930693069306\n",
      "\u001b[32m[I 2021-12-13 13:07:51,295]\u001b[0m Trial 19 finished with value: 0.9868292013125242 and parameters: {'n_estimators': 800, 'min_samples_split': 32, 'max_depth': 21}. Best is trial 18 with value: 0.9959515155335907.\u001b[0m\n",
      "Precision: 0.9840213049267643 \n",
      "Recall: 0.9788079470198675 \n",
      "Aging Rate: 0.4957095709570957\n",
      "Precision: 0.9738219895287958 \n",
      "Recall: 0.9854304635761589 \n",
      "Aging Rate: 0.5042904290429043\n",
      "Precision: 0.9892904953145917 \n",
      "Recall: 0.9788079470198675 \n",
      "Aging Rate: 0.49306930693069306\n",
      "\u001b[32m[I 2021-12-13 13:07:53,373]\u001b[0m Trial 20 finished with value: 0.9818661738657295 and parameters: {'n_estimators': 400, 'min_samples_split': 2, 'max_depth': 9}. Best is trial 18 with value: 0.9959515155335907.\u001b[0m\n",
      "Precision: 0.9986666666666667 \n",
      "Recall: 0.9920529801324504 \n",
      "Aging Rate: 0.49504950495049505\n",
      "Precision: 0.9946666666666667 \n",
      "Recall: 0.9880794701986755 \n",
      "Aging Rate: 0.49504950495049505\n",
      "Precision: 0.9946737683089214 \n",
      "Recall: 0.9894039735099338 \n",
      "Aging Rate: 0.4957095709570957\n",
      "\u001b[32m[I 2021-12-13 13:07:57,416]\u001b[0m Trial 21 finished with value: 0.9937769916998759 and parameters: {'n_estimators': 800, 'min_samples_split': 2, 'max_depth': 21}. Best is trial 18 with value: 0.9959515155335907.\u001b[0m\n",
      "Precision: 0.9947159841479525 \n",
      "Recall: 0.9973509933774835 \n",
      "Aging Rate: 0.4996699669966997\n",
      "Precision: 1.0 \n",
      "Recall: 0.9894039735099338 \n",
      "Aging Rate: 0.49306930693069306\n",
      "Precision: 0.9986684420772304 \n",
      "Recall: 0.9933774834437086 \n",
      "Aging Rate: 0.4957095709570957\n",
      "\u001b[32m[I 2021-12-13 13:08:00,313]\u001b[0m Trial 22 finished with value: 0.9961931946627599 and parameters: {'n_estimators': 600, 'min_samples_split': 2, 'max_depth': 21}. Best is trial 22 with value: 0.9961931946627599.\u001b[0m\n",
      "Precision: 0.9973404255319149 \n",
      "Recall: 0.9933774834437086 \n",
      "Aging Rate: 0.49636963696369635\n",
      "Precision: 0.9973297730307076 \n",
      "Recall: 0.9894039735099338 \n",
      "Aging Rate: 0.49438943894389437\n",
      "Precision: 0.9920424403183024 \n",
      "Recall: 0.990728476821192 \n",
      "Aging Rate: 0.4976897689768977\n",
      "\u001b[32m[I 2021-12-13 13:08:02,804]\u001b[0m Trial 23 finished with value: 0.9939803467141172 and parameters: {'n_estimators': 500, 'min_samples_split': 2, 'max_depth': 21}. Best is trial 22 with value: 0.9961931946627599.\u001b[0m\n",
      "Precision: 0.985545335085414 \n",
      "Recall: 0.9933774834437086 \n",
      "Aging Rate: 0.5023102310231023\n",
      "Precision: 0.9880636604774535 \n",
      "Recall: 0.9867549668874173 \n",
      "Aging Rate: 0.4976897689768977\n",
      "Precision: 0.9907651715039578 \n",
      "Recall: 0.9947019867549669 \n",
      "Aging Rate: 0.5003300330033004\n",
      "\u001b[32m[I 2021-12-13 13:08:05,380]\u001b[0m Trial 24 finished with value: 0.9893738671748196 and parameters: {'n_estimators': 600, 'min_samples_split': 12, 'max_depth': 21}. Best is trial 22 with value: 0.9961931946627599.\u001b[0m\n",
      "Precision: 0.996 \n",
      "Recall: 0.9894039735099338 \n",
      "Aging Rate: 0.49504950495049505\n",
      "Precision: 0.9986684420772304 \n",
      "Recall: 0.9933774834437086 \n",
      "Aging Rate: 0.4957095709570957\n",
      "Precision: 0.9946949602122016 \n",
      "Recall: 0.9933774834437086 \n",
      "Aging Rate: 0.4976897689768977\n",
      "\u001b[32m[I 2021-12-13 13:08:08,289]\u001b[0m Trial 25 finished with value: 0.9948642686441383 and parameters: {'n_estimators': 600, 'min_samples_split': 2, 'max_depth': 21}. Best is trial 22 with value: 0.9961931946627599.\u001b[0m\n",
      "Precision: 0.9894875164257556 \n",
      "Recall: 0.9973509933774835 \n",
      "Aging Rate: 0.5023102310231023\n",
      "Precision: 0.9894179894179894 \n",
      "Recall: 0.990728476821192 \n",
      "Aging Rate: 0.499009900990099\n",
      "Precision: 0.9893617021276596 \n",
      "Recall: 0.9854304635761589 \n",
      "Aging Rate: 0.49636963696369635\n",
      "\u001b[32m[I 2021-12-13 13:08:12,048]\u001b[0m Trial 26 finished with value: 0.9900454187855479 and parameters: {'n_estimators': 800, 'min_samples_split': 12, 'max_depth': 21}. Best is trial 22 with value: 0.9961931946627599.\u001b[0m\n",
      "Precision: 0.9634146341463414 \n",
      "Recall: 0.9417218543046357 \n",
      "Aging Rate: 0.4871287128712871\n",
      "Precision: 0.9773030707610146 \n",
      "Recall: 0.9695364238410596 \n",
      "Aging Rate: 0.49438943894389437\n",
      "Precision: 0.9821182943603851 \n",
      "Recall: 0.9456953642384106 \n",
      "Aging Rate: 0.47986798679867987\n",
      "\u001b[32m[I 2021-12-13 13:08:15,007]\u001b[0m Trial 27 finished with value: 0.966223695575119 and parameters: {'n_estimators': 700, 'min_samples_split': 32, 'max_depth': 9}. Best is trial 22 with value: 0.9961931946627599.\u001b[0m\n",
      "Precision: 0.8874824191279888 \n",
      "Recall: 0.8357615894039735 \n",
      "Aging Rate: 0.4693069306930693\n",
      "Precision: 0.888728323699422 \n",
      "Recall: 0.8145695364238411 \n",
      "Aging Rate: 0.45676567656765676\n",
      "Precision: 0.8801128349788434 \n",
      "Recall: 0.8264900662251655 \n",
      "Aging Rate: 0.467986798679868\n",
      "\u001b[32m[I 2021-12-13 13:08:17,172]\u001b[0m Trial 28 finished with value: 0.8628972980487876 and parameters: {'n_estimators': 500, 'min_samples_split': 27, 'max_depth': 3}. Best is trial 22 with value: 0.9961931946627599.\u001b[0m\n",
      "Precision: 0.9960159362549801 \n",
      "Recall: 0.9933774834437086 \n",
      "Aging Rate: 0.497029702970297\n",
      "Precision: 0.9946737683089214 \n",
      "Recall: 0.9894039735099338 \n",
      "Aging Rate: 0.4957095709570957\n",
      "Precision: 0.9959785522788204 \n",
      "Recall: 0.9841059602649007 \n",
      "Aging Rate: 0.4924092409240924\n",
      "\u001b[32m[I 2021-12-13 13:08:20,084]\u001b[0m Trial 29 finished with value: 0.9931687427830429 and parameters: {'n_estimators': 600, 'min_samples_split': 7, 'max_depth': 18}. Best is trial 22 with value: 0.9961931946627599.\u001b[0m\n",
      "Precision: 0.882768361581921 \n",
      "Recall: 0.8278145695364238 \n",
      "Aging Rate: 0.46732673267326735\n",
      "Precision: 0.8666666666666667 \n",
      "Recall: 0.7920529801324503 \n",
      "Aging Rate: 0.45544554455445546\n",
      "Precision: 0.8801711840228246 \n",
      "Recall: 0.8172185430463577 \n",
      "Aging Rate: 0.4627062706270627\n",
      "\u001b[32m[I 2021-12-13 13:08:21,371]\u001b[0m Trial 30 finished with value: 0.852274864584112 and parameters: {'n_estimators': 200, 'min_samples_split': 2, 'max_depth': 3}. Best is trial 22 with value: 0.9961931946627599.\u001b[0m\n",
      "Precision: 0.9933598937583001 \n",
      "Recall: 0.990728476821192 \n",
      "Aging Rate: 0.497029702970297\n",
      "Precision: 0.9946737683089214 \n",
      "Recall: 0.9894039735099338 \n",
      "Aging Rate: 0.4957095709570957\n",
      "Precision: 0.9973262032085561 \n",
      "Recall: 0.9880794701986755 \n",
      "Aging Rate: 0.49372937293729374\n",
      "\u001b[32m[I 2021-12-13 13:08:24,374]\u001b[0m Trial 31 finished with value: 0.9930528904937143 and parameters: {'n_estimators': 600, 'min_samples_split': 2, 'max_depth': 18}. Best is trial 22 with value: 0.9961931946627599.\u001b[0m\n",
      "Precision: 0.9986684420772304 \n",
      "Recall: 0.9933774834437086 \n",
      "Aging Rate: 0.4957095709570957\n",
      "Precision: 1.0 \n",
      "Recall: 0.9947019867549669 \n",
      "Aging Rate: 0.4957095709570957\n",
      "Precision: 0.9973333333333333 \n",
      "Recall: 0.990728476821192 \n",
      "Aging Rate: 0.49504950495049505\n",
      "\u001b[32m[I 2021-12-13 13:08:27,472]\u001b[0m Trial 32 finished with value: 0.9965963022952441 and parameters: {'n_estimators': 600, 'min_samples_split': 2, 'max_depth': 21}. Best is trial 32 with value: 0.9965963022952441.\u001b[0m\n",
      "Precision: 0.9986666666666667 \n",
      "Recall: 0.9920529801324504 \n",
      "Aging Rate: 0.49504950495049505\n",
      "Precision: 0.9960106382978723 \n",
      "Recall: 0.9920529801324504 \n",
      "Aging Rate: 0.49636963696369635\n",
      "Precision: 1.0 \n",
      "Recall: 0.9880794701986755 \n",
      "Aging Rate: 0.4924092409240924\n",
      "\u001b[32m[I 2021-12-13 13:08:31,190]\u001b[0m Trial 33 finished with value: 0.9955111573571815 and parameters: {'n_estimators': 700, 'min_samples_split': 2, 'max_depth': 21}. Best is trial 32 with value: 0.9965963022952441.\u001b[0m\n"
     ]
    },
    {
     "name": "stdout",
     "output_type": "stream",
     "text": [
      "Precision: 1.0 \n",
      "Recall: 0.9867549668874173 \n",
      "Aging Rate: 0.49174917491749176\n",
      "Precision: 0.9894319682959049 \n",
      "Recall: 0.9920529801324504 \n",
      "Aging Rate: 0.4996699669966997\n",
      "Precision: 0.9933598937583001 \n",
      "Recall: 0.990728476821192 \n",
      "Aging Rate: 0.497029702970297\n",
      "\u001b[32m[I 2021-12-13 13:08:34,478]\u001b[0m Trial 34 finished with value: 0.9926586445735478 and parameters: {'n_estimators': 600, 'min_samples_split': 2, 'max_depth': 21}. Best is trial 32 with value: 0.9965963022952441.\u001b[0m\n",
      "Precision: 0.9893617021276596 \n",
      "Recall: 0.9854304635761589 \n",
      "Aging Rate: 0.49636963696369635\n",
      "Precision: 1.0 \n",
      "Recall: 0.9880794701986755 \n",
      "Aging Rate: 0.4924092409240924\n",
      "Precision: 0.9933510638297872 \n",
      "Recall: 0.9894039735099338 \n",
      "Aging Rate: 0.49636963696369635\n",
      "\u001b[32m[I 2021-12-13 13:08:38,367]\u001b[0m Trial 35 finished with value: 0.9918483181835329 and parameters: {'n_estimators': 800, 'min_samples_split': 2, 'max_depth': 15}. Best is trial 32 with value: 0.9965963022952441.\u001b[0m\n",
      "Precision: 0.9920529801324504 \n",
      "Recall: 0.9920529801324504 \n",
      "Aging Rate: 0.49834983498349833\n",
      "Precision: 0.9973404255319149 \n",
      "Recall: 0.9933774834437086 \n",
      "Aging Rate: 0.49636963696369635\n",
      "Precision: 0.984251968503937 \n",
      "Recall: 0.9933774834437086 \n",
      "Aging Rate: 0.502970297029703\n",
      "\u001b[32m[I 2021-12-13 13:08:41,528]\u001b[0m Trial 36 finished with value: 0.991826961507453 and parameters: {'n_estimators': 600, 'min_samples_split': 7, 'max_depth': 21}. Best is trial 32 with value: 0.9965963022952441.\u001b[0m\n",
      "Precision: 0.9703903095558546 \n",
      "Recall: 0.9549668874172186 \n",
      "Aging Rate: 0.4904290429042904\n",
      "Precision: 0.967741935483871 \n",
      "Recall: 0.9536423841059603 \n",
      "Aging Rate: 0.4910891089108911\n",
      "Precision: 0.9705488621151271 \n",
      "Recall: 0.9602649006622517 \n",
      "Aging Rate: 0.49306930693069306\n",
      "\u001b[32m[I 2021-12-13 13:08:42,809]\u001b[0m Trial 37 finished with value: 0.9647401655682216 and parameters: {'n_estimators': 200, 'min_samples_split': 32, 'max_depth': 9}. Best is trial 32 with value: 0.9965963022952441.\u001b[0m\n",
      "Precision: 0.9933422103861518 \n",
      "Recall: 0.9880794701986755 \n",
      "Aging Rate: 0.4957095709570957\n",
      "Precision: 0.9920634920634921 \n",
      "Recall: 0.9933774834437086 \n",
      "Aging Rate: 0.499009900990099\n",
      "Precision: 0.9933598937583001 \n",
      "Recall: 0.990728476821192 \n",
      "Aging Rate: 0.497029702970297\n",
      "\u001b[32m[I 2021-12-13 13:08:43,808]\u001b[0m Trial 38 finished with value: 0.9921294270823466 and parameters: {'n_estimators': 100, 'min_samples_split': 2, 'max_depth': 15}. Best is trial 32 with value: 0.9965963022952441.\u001b[0m\n",
      "Precision: 0.9986648865153538 \n",
      "Recall: 0.990728476821192 \n",
      "Aging Rate: 0.49438943894389437\n",
      "Precision: 0.9920424403183024 \n",
      "Recall: 0.990728476821192 \n",
      "Aging Rate: 0.4976897689768977\n",
      "Precision: 0.9947089947089947 \n",
      "Recall: 0.9960264900662251 \n",
      "Aging Rate: 0.499009900990099\n",
      "\u001b[32m[I 2021-12-13 13:08:47,507]\u001b[0m Trial 39 finished with value: 0.9941816922306885 and parameters: {'n_estimators': 700, 'min_samples_split': 2, 'max_depth': 21}. Best is trial 32 with value: 0.9965963022952441.\u001b[0m\n",
      "Precision: 0.9893758300132802 \n",
      "Recall: 0.9867549668874173 \n",
      "Aging Rate: 0.497029702970297\n",
      "Precision: 0.9880952380952381 \n",
      "Recall: 0.9894039735099338 \n",
      "Aging Rate: 0.499009900990099\n",
      "Precision: 0.9946808510638298 \n",
      "Recall: 0.990728476821192 \n",
      "Aging Rate: 0.49636963696369635\n",
      "\u001b[32m[I 2021-12-13 13:08:49,240]\u001b[0m Trial 40 finished with value: 0.9900836898349011 and parameters: {'n_estimators': 300, 'min_samples_split': 12, 'max_depth': 12}. Best is trial 32 with value: 0.9965963022952441.\u001b[0m\n",
      "Precision: 0.99734395750332 \n",
      "Recall: 0.9947019867549669 \n",
      "Aging Rate: 0.497029702970297\n",
      "Precision: 0.9960106382978723 \n",
      "Recall: 0.9920529801324504 \n",
      "Aging Rate: 0.49636963696369635\n",
      "Precision: 0.9973262032085561 \n",
      "Recall: 0.9880794701986755 \n",
      "Aging Rate: 0.49372937293729374\n",
      "\u001b[32m[I 2021-12-13 13:08:52,952]\u001b[0m Trial 41 finished with value: 0.9949836635478522 and parameters: {'n_estimators': 700, 'min_samples_split': 2, 'max_depth': 21}. Best is trial 32 with value: 0.9965963022952441.\u001b[0m\n",
      "Precision: 0.9933862433862434 \n",
      "Recall: 0.9947019867549669 \n",
      "Aging Rate: 0.499009900990099\n",
      "Precision: 0.9973333333333333 \n",
      "Recall: 0.990728476821192 \n",
      "Aging Rate: 0.49504950495049505\n",
      "Precision: 0.9973509933774835 \n",
      "Recall: 0.9973509933774835 \n",
      "Aging Rate: 0.49834983498349833\n",
      "\u001b[32m[I 2021-12-13 13:08:56,643]\u001b[0m Trial 42 finished with value: 0.9953853224720604 and parameters: {'n_estimators': 700, 'min_samples_split': 2, 'max_depth': 21}. Best is trial 32 with value: 0.9965963022952441.\u001b[0m\n",
      "Precision: 0.9973297730307076 \n",
      "Recall: 0.9894039735099338 \n",
      "Aging Rate: 0.49438943894389437\n",
      "Precision: 0.99734395750332 \n",
      "Recall: 0.9947019867549669 \n",
      "Aging Rate: 0.497029702970297\n",
      "Precision: 0.993368700265252 \n",
      "Recall: 0.9920529801324504 \n",
      "Aging Rate: 0.4976897689768977\n",
      "\u001b[32m[I 2021-12-13 13:09:00,781]\u001b[0m Trial 43 finished with value: 0.9945825903041778 and parameters: {'n_estimators': 800, 'min_samples_split': 2, 'max_depth': 21}. Best is trial 32 with value: 0.9965963022952441.\u001b[0m\n",
      "Precision: 0.9946949602122016 \n",
      "Recall: 0.9933774834437086 \n",
      "Aging Rate: 0.4976897689768977\n",
      "Precision: 0.9946808510638298 \n",
      "Recall: 0.990728476821192 \n",
      "Aging Rate: 0.49636963696369635\n",
      "Precision: 0.9986666666666667 \n",
      "Recall: 0.9920529801324504 \n",
      "Aging Rate: 0.49504950495049505\n",
      "\u001b[32m[I 2021-12-13 13:09:03,267]\u001b[0m Trial 44 finished with value: 0.9945834133752749 and parameters: {'n_estimators': 500, 'min_samples_split': 2, 'max_depth': 21}. Best is trial 32 with value: 0.9965963022952441.\u001b[0m\n",
      "Precision: 0.9946091644204852 \n",
      "Recall: 0.9774834437086093 \n",
      "Aging Rate: 0.4897689768976898\n",
      "Precision: 0.9986357435197817 \n",
      "Recall: 0.9695364238410596 \n",
      "Aging Rate: 0.48382838283828383\n",
      "Precision: 0.9958904109589041 \n",
      "Recall: 0.9629139072847682 \n",
      "Aging Rate: 0.48184818481848185\n",
      "\u001b[32m[I 2021-12-13 13:09:05,750]\u001b[0m Trial 45 finished with value: 0.9866993204564283 and parameters: {'n_estimators': 500, 'min_samples_split': 32, 'max_depth': 21}. Best is trial 32 with value: 0.9965963022952441.\u001b[0m\n",
      "Precision: 0.9986666666666667 \n",
      "Recall: 0.9920529801324504 \n",
      "Aging Rate: 0.49504950495049505\n",
      "Precision: 0.9973368841544608 \n",
      "Recall: 0.9920529801324504 \n",
      "Aging Rate: 0.4957095709570957\n",
      "Precision: 0.9907894736842106 \n",
      "Recall: 0.9973509933774835 \n",
      "Aging Rate: 0.5016501650165016\n",
      "\u001b[32m[I 2021-12-13 13:09:09,446]\u001b[0m Trial 46 finished with value: 0.9949484877979056 and parameters: {'n_estimators': 700, 'min_samples_split': 2, 'max_depth': 18}. Best is trial 32 with value: 0.9965963022952441.\u001b[0m\n",
      "Precision: 0.9960159362549801 \n",
      "Recall: 0.9933774834437086 \n",
      "Aging Rate: 0.497029702970297\n",
      "Precision: 0.9946879150066401 \n",
      "Recall: 0.9920529801324504 \n",
      "Aging Rate: 0.497029702970297\n",
      "Precision: 0.9973404255319149 \n",
      "Recall: 0.9933774834437086 \n",
      "Aging Rate: 0.49636963696369635\n",
      "\u001b[32m[I 2021-12-13 13:09:13,097]\u001b[0m Trial 47 finished with value: 0.9949041122621155 and parameters: {'n_estimators': 700, 'min_samples_split': 7, 'max_depth': 21}. Best is trial 32 with value: 0.9965963022952441.\u001b[0m\n",
      "Precision: 0.9472259810554804 \n",
      "Recall: 0.9271523178807947 \n",
      "Aging Rate: 0.4877887788778878\n",
      "Precision: 0.9384615384615385 \n",
      "Recall: 0.8887417218543047 \n",
      "Aging Rate: 0.47194719471947194\n",
      "Precision: 0.9453551912568307 \n",
      "Recall: 0.9165562913907285 \n",
      "Aging Rate: 0.48316831683168315\n",
      "\u001b[32m[I 2021-12-13 13:09:15,368]\u001b[0m Trial 48 finished with value: 0.9315385761950843 and parameters: {'n_estimators': 500, 'min_samples_split': 17, 'max_depth': 6}. Best is trial 32 with value: 0.9965963022952441.\u001b[0m\n",
      "Precision: 0.9946879150066401 \n",
      "Recall: 0.9920529801324504 \n",
      "Aging Rate: 0.497029702970297\n",
      "Precision: 0.9907529722589168 \n",
      "Recall: 0.9933774834437086 \n",
      "Aging Rate: 0.4996699669966997\n"
     ]
    },
    {
     "name": "stderr",
     "output_type": "stream",
     "text": [
      "C:\\Users\\user\\anaconda3\\envs\\aging\\lib\\site-packages\\optuna\\samplers\\_tpe\\sampler.py:253: ExperimentalWarning: ``multivariate`` option is an experimental feature. The interface can change in the future.\n",
      "  ExperimentalWarning,\n",
      "\u001b[32m[I 2021-12-13 13:09:18,525]\u001b[0m A new study created in memory with name: no-name-7810dae3-b665-4c50-8062-65c18db374c4\u001b[0m\n"
     ]
    },
    {
     "name": "stdout",
     "output_type": "stream",
     "text": [
      "Precision: 0.9960106382978723 \n",
      "Recall: 0.9920529801324504 \n",
      "Aging Rate: 0.49636963696369635\n",
      "\u001b[32m[I 2021-12-13 13:09:18,482]\u001b[0m Trial 49 finished with value: 0.9933387245371955 and parameters: {'n_estimators': 600, 'min_samples_split': 2, 'max_depth': 21}. Best is trial 32 with value: 0.9965963022952441.\u001b[0m\n",
      "Sampler is TPESampler\n",
      "Dataset6 :\n"
     ]
    },
    {
     "name": "stderr",
     "output_type": "stream",
     "text": [
      "C:\\Users\\user\\anaconda3\\envs\\aging\\lib\\site-packages\\optuna\\progress_bar.py:47: ExperimentalWarning: Progress bar is experimental (supported from v1.2.0). The interface can change in the future.\n",
      "  self._init_valid()\n"
     ]
    },
    {
     "data": {
      "application/vnd.jupyter.widget-view+json": {
       "model_id": "16486121cdb84e09a4da45cfc9cbf0e8",
       "version_major": 2,
       "version_minor": 0
      },
      "text/plain": [
       "  0%|          | 0/50 [00:00<?, ?it/s]"
      ]
     },
     "metadata": {},
     "output_type": "display_data"
    },
    {
     "name": "stdout",
     "output_type": "stream",
     "text": [
      "Precision: 0.8377049180327869 \n",
      "Recall: 0.9668874172185431 \n",
      "Aging Rate: 0.6714364336818932\n",
      "Precision: 0.8407590759075908 \n",
      "Recall: 0.9640491958372753 \n",
      "Aging Rate: 0.6670335718216841\n",
      "Precision: 0.8405560098119379 \n",
      "Recall: 0.9725638599810785 \n",
      "Aging Rate: 0.6730875068794716\n",
      "\u001b[32m[I 2021-12-13 13:09:20,913]\u001b[0m Trial 0 finished with value: 0.8817023327849894 and parameters: {'n_estimators': 500, 'min_samples_split': 22, 'max_depth': 6}. Best is trial 0 with value: 0.8817023327849894.\u001b[0m\n",
      "Precision: 0.9722479185938946 \n",
      "Recall: 0.9943235572374646 \n",
      "Aging Rate: 0.5949367088607594\n",
      "Precision: 0.9571558796718322 \n",
      "Recall: 0.9933774834437086 \n",
      "Aging Rate: 0.6037424325811778\n",
      "Precision: 0.974907063197026 \n",
      "Recall: 0.9924314096499527 \n",
      "Aging Rate: 0.5921849201981287\n",
      "\u001b[32m[I 2021-12-13 13:09:23,858]\u001b[0m Trial 1 finished with value: 0.977037566676923 and parameters: {'n_estimators': 600, 'min_samples_split': 32, 'max_depth': 18}. Best is trial 1 with value: 0.977037566676923.\u001b[0m\n",
      "Precision: 0.9351351351351351 \n",
      "Recall: 0.9820245979186376 \n",
      "Aging Rate: 0.6108970831040176\n",
      "Precision: 0.9342342342342342 \n",
      "Recall: 0.9810785241248817 \n",
      "Aging Rate: 0.6108970831040176\n",
      "Precision: 0.9327354260089686 \n",
      "Recall: 0.9839167455061495 \n",
      "Aging Rate: 0.6136488717666483\n",
      "\u001b[32m[I 2021-12-13 13:09:26,397]\u001b[0m Trial 2 finished with value: 0.950866634312083 and parameters: {'n_estimators': 500, 'min_samples_split': 12, 'max_depth': 9}. Best is trial 1 with value: 0.977037566676923.\u001b[0m\n",
      "Precision: 0.9813780260707635 \n",
      "Recall: 0.9971617786187322 \n",
      "Aging Rate: 0.5910842047330765\n",
      "Precision: 0.9786839666357738 \n",
      "Recall: 0.9990539262062441 \n",
      "Aging Rate: 0.5938359933957073\n",
      "Precision: 0.9786839666357738 \n",
      "Recall: 0.9990539262062441 \n",
      "Aging Rate: 0.5938359933957073\n",
      "\u001b[32m[I 2021-12-13 13:09:27,698]\u001b[0m Trial 3 finished with value: 0.986281263556934 and parameters: {'n_estimators': 200, 'min_samples_split': 12, 'max_depth': 21}. Best is trial 3 with value: 0.986281263556934.\u001b[0m\n",
      "Precision: 0.9850187265917603 \n",
      "Recall: 0.9952696310312205 \n",
      "Aging Rate: 0.5877820583379196\n",
      "Precision: 0.9878163074039362 \n",
      "Recall: 0.9971617786187322 \n",
      "Aging Rate: 0.5872317006053935\n",
      "Precision: 0.9840823970037453 \n",
      "Recall: 0.9943235572374646 \n",
      "Aging Rate: 0.5877820583379196\n",
      "\u001b[32m[I 2021-12-13 13:09:29,205]\u001b[0m Trial 4 finished with value: 0.9891966287841436 and parameters: {'n_estimators': 200, 'min_samples_split': 7, 'max_depth': 21}. Best is trial 4 with value: 0.9891966287841436.\u001b[0m\n",
      "Precision: 0.983177570093458 \n",
      "Recall: 0.9952696310312205 \n",
      "Aging Rate: 0.5888827738029719\n",
      "Precision: 0.9832089552238806 \n",
      "Recall: 0.9971617786187322 \n",
      "Aging Rate: 0.5899834892680242\n",
      "Precision: 0.9741219963031423 \n",
      "Recall: 0.9971617786187322 \n",
      "Aging Rate: 0.5954870665932857\n",
      "\u001b[32m[I 2021-12-13 13:09:30,630]\u001b[0m Trial 5 finished with value: 0.9859920379132804 and parameters: {'n_estimators': 200, 'min_samples_split': 12, 'max_depth': 21}. Best is trial 4 with value: 0.9891966287841436.\u001b[0m\n",
      "Precision: 0.9616087751371115 \n",
      "Recall: 0.9952696310312205 \n",
      "Aging Rate: 0.6020913593835994\n",
      "Precision: 0.9632352941176471 \n",
      "Recall: 0.9914853358561968 \n",
      "Aging Rate: 0.5987892129884425\n",
      "Precision: 0.9659300184162063 \n",
      "Recall: 0.9924314096499527 \n",
      "Aging Rate: 0.5976884975233901\n",
      "\u001b[32m[I 2021-12-13 13:09:34,676]\u001b[0m Trial 6 finished with value: 0.9739949917362757 and parameters: {'n_estimators': 800, 'min_samples_split': 32, 'max_depth': 15}. Best is trial 4 with value: 0.9891966287841436.\u001b[0m\n",
      "Precision: 0.9225289403383793 \n",
      "Recall: 0.9801324503311258 \n",
      "Aging Rate: 0.6180517336268575\n",
      "Precision: 0.935513169845595 \n",
      "Recall: 0.9744560075685903 \n",
      "Aging Rate: 0.6059438635112824\n",
      "Precision: 0.9179304192685103 \n",
      "Recall: 0.9735099337748344 \n",
      "Aging Rate: 0.6169510181618052\n",
      "\u001b[32m[I 2021-12-13 13:09:35,560]\u001b[0m Trial 7 finished with value: 0.9429435801257577 and parameters: {'n_estimators': 100, 'min_samples_split': 12, 'max_depth': 9}. Best is trial 4 with value: 0.9891966287841436.\u001b[0m\n",
      "Precision: 0.9822926374650512 \n",
      "Recall: 0.9971617786187322 \n",
      "Aging Rate: 0.5905338470005503\n",
      "Precision: 0.9732225300092336 \n",
      "Recall: 0.9971617786187322 \n",
      "Aging Rate: 0.5960374243258117\n",
      "Precision: 0.9776119402985075 \n",
      "Recall: 0.9914853358561968 \n",
      "Aging Rate: 0.5899834892680242\n",
      "\u001b[32m[I 2021-12-13 13:09:38,287]\u001b[0m Trial 8 finished with value: 0.9839542227075128 and parameters: {'n_estimators': 500, 'min_samples_split': 17, 'max_depth': 18}. Best is trial 4 with value: 0.9891966287841436.\u001b[0m\n",
      "Precision: 0.8374183006535948 \n",
      "Recall: 0.9697256385998108 \n",
      "Aging Rate: 0.6736378646119978\n",
      "Precision: 0.8238133547868061 \n",
      "Recall: 0.9687795648060549 \n",
      "Aging Rate: 0.6840946615299945\n",
      "Precision: 0.8295638126009693 \n",
      "Recall: 0.9716177861873226 \n",
      "Aging Rate: 0.6813428728673638\n",
      "\u001b[32m[I 2021-12-13 13:09:41,684]\u001b[0m Trial 9 finished with value: 0.8756819765321809 and parameters: {'n_estimators': 700, 'min_samples_split': 32, 'max_depth': 6}. Best is trial 4 with value: 0.9891966287841436.\u001b[0m\n",
      "Precision: 0.9858623939679547 \n",
      "Recall: 0.9895931882686849 \n",
      "Aging Rate: 0.5839295542102366\n",
      "Precision: 0.9719626168224299 \n",
      "Recall: 0.9839167455061495 \n",
      "Aging Rate: 0.5888827738029719\n",
      "Precision: 0.9767225325884544 \n",
      "Recall: 0.9924314096499527 \n",
      "Aging Rate: 0.5910842047330765\n",
      "\u001b[32m[I 2021-12-13 13:09:43,796]\u001b[0m Trial 10 finished with value: 0.9819182797623028 and parameters: {'n_estimators': 400, 'min_samples_split': 2, 'max_depth': 12}. Best is trial 4 with value: 0.9891966287841436.\u001b[0m\n",
      "Precision: 0.9787037037037037 \n",
      "Recall: 1.0 \n",
      "Aging Rate: 0.5943863511282333\n",
      "Precision: 0.9831932773109243 \n",
      "Recall: 0.9962157048249763 \n",
      "Aging Rate: 0.589433131535498\n",
      "Precision: 0.9832402234636871 \n",
      "Recall: 0.9990539262062441 \n",
      "Aging Rate: 0.5910842047330765\n",
      "\u001b[32m[I 2021-12-13 13:09:45,627]\u001b[0m Trial 11 finished with value: 0.9876607230116661 and parameters: {'n_estimators': 300, 'min_samples_split': 2, 'max_depth': 21}. Best is trial 4 with value: 0.9891966287841436.\u001b[0m\n",
      "Precision: 0.9934024505183789 \n",
      "Recall: 0.9971617786187322 \n",
      "Aging Rate: 0.5839295542102366\n",
      "Precision: 0.9896907216494846 \n",
      "Recall: 0.9990539262062441 \n",
      "Aging Rate: 0.5872317006053935\n",
      "Precision: 0.974145891043398 \n",
      "Recall: 0.9981078524124882 \n",
      "Aging Rate: 0.5960374243258117\n",
      "\u001b[32m[I 2021-12-13 13:09:49,460]\u001b[0m Trial 12 finished with value: 0.9901440760769701 and parameters: {'n_estimators': 700, 'min_samples_split': 2, 'max_depth': 21}. Best is trial 12 with value: 0.9901440760769701.\u001b[0m\n",
      "Precision: 0.9795348837209302 \n",
      "Recall: 0.9962157048249763 \n",
      "Aging Rate: 0.5916345624656026\n",
      "Precision: 0.9840972871842844 \n",
      "Recall: 0.9952696310312205 \n",
      "Aging Rate: 0.5883324160704458\n",
      "Precision: 0.9896519285042333 \n",
      "Recall: 0.9952696310312205 \n",
      "Aging Rate: 0.5850302696752889\n",
      "\u001b[32m[I 2021-12-13 13:09:53,395]\u001b[0m Trial 13 finished with value: 0.9884108452922852 and parameters: {'n_estimators': 700, 'min_samples_split': 2, 'max_depth': 21}. Best is trial 12 with value: 0.9901440760769701.\u001b[0m\n",
      "Precision: 0.9812734082397003 \n",
      "Recall: 0.9914853358561968 \n",
      "Aging Rate: 0.5877820583379196\n",
      "Precision: 0.9821763602251408 \n",
      "Recall: 0.9905392620624409 \n",
      "Aging Rate: 0.5866813428728673\n",
      "Precision: 0.9775700934579439 \n",
      "Recall: 0.9895931882686849 \n",
      "Aging Rate: 0.5888827738029719\n",
      "\u001b[32m[I 2021-12-13 13:09:57,008]\u001b[0m Trial 14 finished with value: 0.9839868901504278 and parameters: {'n_estimators': 700, 'min_samples_split': 2, 'max_depth': 12}. Best is trial 12 with value: 0.9901440760769701.\u001b[0m\n",
      "Precision: 0.9721964782205746 \n",
      "Recall: 0.9924314096499527 \n",
      "Aging Rate: 0.5938359933957073\n",
      "Precision: 0.97856477166822 \n",
      "Recall: 0.9933774834437086 \n",
      "Aging Rate: 0.5905338470005503\n",
      "Precision: 0.9730983302411874 \n",
      "Recall: 0.9924314096499527 \n",
      "Aging Rate: 0.593285635663181\n",
      "\u001b[32m[I 2021-12-13 13:09:58,045]\u001b[0m Trial 15 finished with value: 0.9810674430442381 and parameters: {'n_estimators': 100, 'min_samples_split': 27, 'max_depth': 21}. Best is trial 12 with value: 0.9901440760769701.\u001b[0m\n",
      "Precision: 0.974025974025974 \n",
      "Recall: 0.9933774834437086 \n",
      "Aging Rate: 0.593285635663181\n",
      "Precision: 0.973172987974098 \n",
      "Recall: 0.9952696310312205 \n",
      "Aging Rate: 0.5949367088607594\n",
      "Precision: 0.9841269841269841 \n",
      "Recall: 0.9971617786187322 \n",
      "Aging Rate: 0.589433131535498\n",
      "\u001b[32m[I 2021-12-13 13:10:02,345]\u001b[0m Trial 16 finished with value: 0.9835663179406153 and parameters: {'n_estimators': 800, 'min_samples_split': 17, 'max_depth': 21}. Best is trial 12 with value: 0.9901440760769701.\u001b[0m\n"
     ]
    },
    {
     "name": "stdout",
     "output_type": "stream",
     "text": [
      "Precision: 0.8311688311688312 \n",
      "Recall: 0.9687795648060549 \n",
      "Aging Rate: 0.6780407264722069\n",
      "Precision: 0.8167330677290837 \n",
      "Recall: 0.9697256385998108 \n",
      "Aging Rate: 0.6906989543203081\n",
      "Precision: 0.833605220228385 \n",
      "Recall: 0.9668874172185431 \n",
      "Aging Rate: 0.6747385800770501\n",
      "\u001b[32m[I 2021-12-13 13:10:03,239]\u001b[0m Trial 17 finished with value: 0.8730031172556606 and parameters: {'n_estimators': 100, 'min_samples_split': 32, 'max_depth': 6}. Best is trial 12 with value: 0.9901440760769701.\u001b[0m\n",
      "Precision: 0.9786245353159851 \n",
      "Recall: 0.9962157048249763 \n",
      "Aging Rate: 0.5921849201981287\n",
      "Precision: 0.9850606909430439 \n",
      "Recall: 0.9981078524124882 \n",
      "Aging Rate: 0.589433131535498\n",
      "Precision: 0.9868791002811621 \n",
      "Recall: 0.9962157048249763 \n",
      "Aging Rate: 0.5872317006053935\n",
      "\u001b[32m[I 2021-12-13 13:10:05,858]\u001b[0m Trial 18 finished with value: 0.9882745225797892 and parameters: {'n_estimators': 500, 'min_samples_split': 7, 'max_depth': 18}. Best is trial 12 with value: 0.9901440760769701.\u001b[0m\n",
      "Precision: 0.9794584500466853 \n",
      "Recall: 0.9924314096499527 \n",
      "Aging Rate: 0.589433131535498\n",
      "Precision: 0.9739534883720931 \n",
      "Recall: 0.9905392620624409 \n",
      "Aging Rate: 0.5916345624656026\n",
      "Precision: 0.9878163074039362 \n",
      "Recall: 0.9971617786187322 \n",
      "Aging Rate: 0.5872317006053935\n",
      "\u001b[32m[I 2021-12-13 13:10:07,179]\u001b[0m Trial 19 finished with value: 0.985036627113904 and parameters: {'n_estimators': 200, 'min_samples_split': 2, 'max_depth': 15}. Best is trial 12 with value: 0.9901440760769701.\u001b[0m\n",
      "Precision: 0.9822761194029851 \n",
      "Recall: 0.9962157048249763 \n",
      "Aging Rate: 0.5899834892680242\n",
      "Precision: 0.9785046728971962 \n",
      "Recall: 0.9905392620624409 \n",
      "Aging Rate: 0.5888827738029719\n",
      "Precision: 0.9768303985171455 \n",
      "Recall: 0.9971617786187322 \n",
      "Aging Rate: 0.5938359933957073\n",
      "\u001b[32m[I 2021-12-13 13:10:10,328]\u001b[0m Trial 20 finished with value: 0.9847019903198316 and parameters: {'n_estimators': 600, 'min_samples_split': 12, 'max_depth': 21}. Best is trial 12 with value: 0.9901440760769701.\u001b[0m\n",
      "Precision: 0.9822263797942001 \n",
      "Recall: 0.9933774834437086 \n",
      "Aging Rate: 0.5883324160704458\n",
      "Precision: 0.9887745556594949 \n",
      "Recall: 1.0 \n",
      "Aging Rate: 0.5883324160704458\n",
      "Precision: 0.9840823970037453 \n",
      "Recall: 0.9943235572374646 \n",
      "Aging Rate: 0.5877820583379196\n",
      "\u001b[32m[I 2021-12-13 13:10:14,097]\u001b[0m Trial 21 finished with value: 0.9889144020381208 and parameters: {'n_estimators': 700, 'min_samples_split': 2, 'max_depth': 21}. Best is trial 12 with value: 0.9901440760769701.\u001b[0m\n",
      "Precision: 0.9869036482694107 \n",
      "Recall: 0.9981078524124882 \n",
      "Aging Rate: 0.5883324160704458\n",
      "Precision: 0.9878048780487805 \n",
      "Recall: 0.9962157048249763 \n",
      "Aging Rate: 0.5866813428728673\n",
      "Precision: 0.9887111947318908 \n",
      "Recall: 0.9943235572374646 \n",
      "Aging Rate: 0.5850302696752889\n",
      "\u001b[32m[I 2021-12-13 13:10:17,982]\u001b[0m Trial 22 finished with value: 0.9908162542905723 and parameters: {'n_estimators': 700, 'min_samples_split': 2, 'max_depth': 21}. Best is trial 22 with value: 0.9908162542905723.\u001b[0m\n",
      "Precision: 0.987758945386064 \n",
      "Recall: 0.9924314096499527 \n",
      "Aging Rate: 0.5844799119427628\n",
      "Precision: 0.9786046511627907 \n",
      "Recall: 0.9952696310312205 \n",
      "Aging Rate: 0.5916345624656026\n",
      "Precision: 0.9878504672897196 \n",
      "Recall: 1.0 \n",
      "Aging Rate: 0.5888827738029719\n",
      "\u001b[32m[I 2021-12-13 13:10:22,015]\u001b[0m Trial 23 finished with value: 0.9887218194629831 and parameters: {'n_estimators': 800, 'min_samples_split': 7, 'max_depth': 18}. Best is trial 22 with value: 0.9908162542905723.\u001b[0m\n",
      "Precision: 0.9859550561797753 \n",
      "Recall: 0.9962157048249763 \n",
      "Aging Rate: 0.5877820583379196\n",
      "Precision: 0.9850327408793265 \n",
      "Recall: 0.9962157048249763 \n",
      "Aging Rate: 0.5883324160704458\n",
      "Precision: 0.9822761194029851 \n",
      "Recall: 0.9962157048249763 \n",
      "Aging Rate: 0.5899834892680242\n",
      "\u001b[32m[I 2021-12-13 13:10:23,023]\u001b[0m Trial 24 finished with value: 0.9886344069511431 and parameters: {'n_estimators': 100, 'min_samples_split': 2, 'max_depth': 21}. Best is trial 22 with value: 0.9908162542905723.\u001b[0m\n",
      "Precision: 0.9823091247672253 \n",
      "Recall: 0.9981078524124882 \n",
      "Aging Rate: 0.5910842047330765\n",
      "Precision: 0.9804651162790697 \n",
      "Recall: 0.9971617786187322 \n",
      "Aging Rate: 0.5916345624656026\n",
      "Precision: 0.9896519285042333 \n",
      "Recall: 0.9952696310312205 \n",
      "Aging Rate: 0.5850302696752889\n",
      "\u001b[32m[I 2021-12-13 13:10:26,525]\u001b[0m Trial 25 finished with value: 0.9886722704281916 and parameters: {'n_estimators': 600, 'min_samples_split': 2, 'max_depth': 21}. Best is trial 22 with value: 0.9908162542905723.\u001b[0m\n",
      "Precision: 0.9794392523364486 \n",
      "Recall: 0.9914853358561968 \n",
      "Aging Rate: 0.5888827738029719\n",
      "Precision: 0.9749536178107606 \n",
      "Recall: 0.9943235572374646 \n",
      "Aging Rate: 0.593285635663181\n",
      "Precision: 0.9813606710158435 \n",
      "Recall: 0.9962157048249763 \n",
      "Aging Rate: 0.5905338470005503\n",
      "\u001b[32m[I 2021-12-13 13:10:27,827]\u001b[0m Trial 26 finished with value: 0.9840794632293841 and parameters: {'n_estimators': 200, 'min_samples_split': 12, 'max_depth': 15}. Best is trial 22 with value: 0.9908162542905723.\u001b[0m\n",
      "Precision: 0.9703703703703703 \n",
      "Recall: 0.9914853358561968 \n",
      "Aging Rate: 0.5943863511282333\n",
      "Precision: 0.9703429101019463 \n",
      "Recall: 0.9905392620624409 \n",
      "Aging Rate: 0.5938359933957073\n",
      "Precision: 0.9774859287054409 \n",
      "Recall: 0.9858088930936613 \n",
      "Aging Rate: 0.5866813428728673\n",
      "\u001b[32m[I 2021-12-13 13:10:31,793]\u001b[0m Trial 27 finished with value: 0.978617109724902 and parameters: {'n_estimators': 800, 'min_samples_split': 17, 'max_depth': 12}. Best is trial 22 with value: 0.9908162542905723.\u001b[0m\n",
      "Precision: 0.9804651162790697 \n",
      "Recall: 0.9971617786187322 \n",
      "Aging Rate: 0.5916345624656026\n",
      "Precision: 0.9850467289719627 \n",
      "Recall: 0.9971617786187322 \n",
      "Aging Rate: 0.5888827738029719\n",
      "Precision: 0.9832089552238806 \n",
      "Recall: 0.9971617786187322 \n",
      "Aging Rate: 0.5899834892680242\n",
      "\u001b[32m[I 2021-12-13 13:10:35,905]\u001b[0m Trial 28 finished with value: 0.9879906523832696 and parameters: {'n_estimators': 800, 'min_samples_split': 2, 'max_depth': 18}. Best is trial 22 with value: 0.9908162542905723.\u001b[0m\n",
      "Precision: 0.9794584500466853 \n",
      "Recall: 0.9924314096499527 \n",
      "Aging Rate: 0.589433131535498\n",
      "Precision: 0.9841417910447762 \n",
      "Recall: 0.9981078524124882 \n",
      "Aging Rate: 0.5899834892680242\n",
      "Precision: 0.9785247432306255 \n",
      "Recall: 0.9914853358561968 \n",
      "Aging Rate: 0.589433131535498\n",
      "\u001b[32m[I 2021-12-13 13:10:39,132]\u001b[0m Trial 29 finished with value: 0.9854550390993492 and parameters: {'n_estimators': 600, 'min_samples_split': 2, 'max_depth': 15}. Best is trial 22 with value: 0.9908162542905723.\u001b[0m\n",
      "Precision: 0.9878163074039362 \n",
      "Recall: 0.9971617786187322 \n",
      "Aging Rate: 0.5872317006053935\n",
      "Precision: 0.9868667917448405 \n",
      "Recall: 0.9952696310312205 \n",
      "Aging Rate: 0.5866813428728673\n",
      "Precision: 0.9896616541353384 \n",
      "Recall: 0.9962157048249763 \n",
      "Aging Rate: 0.5855806274078151\n",
      "\u001b[32m[I 2021-12-13 13:10:43,166]\u001b[0m Trial 30 finished with value: 0.991015667257262 and parameters: {'n_estimators': 800, 'min_samples_split': 2, 'max_depth': 21}. Best is trial 30 with value: 0.991015667257262.\u001b[0m\n",
      "Precision: 0.9878277153558053 \n",
      "Recall: 0.9981078524124882 \n",
      "Aging Rate: 0.5877820583379196\n",
      "Precision: 0.9868913857677902 \n",
      "Recall: 0.9971617786187322 \n",
      "Aging Rate: 0.5877820583379196\n",
      "Precision: 0.9804287045666356 \n",
      "Recall: 0.9952696310312205 \n",
      "Aging Rate: 0.5905338470005503\n",
      "\u001b[32m[I 2021-12-13 13:10:47,268]\u001b[0m Trial 31 finished with value: 0.9892628395670281 and parameters: {'n_estimators': 800, 'min_samples_split': 2, 'max_depth': 21}. Best is trial 30 with value: 0.991015667257262.\u001b[0m\n",
      "Precision: 0.9804832713754646 \n",
      "Recall: 0.9981078524124882 \n",
      "Aging Rate: 0.5921849201981287\n",
      "Precision: 0.9868913857677902 \n",
      "Recall: 0.9971617786187322 \n",
      "Aging Rate: 0.5877820583379196\n",
      "Precision: 0.9868791002811621 \n",
      "Recall: 0.9962157048249763 \n",
      "Aging Rate: 0.5872317006053935\n",
      "\u001b[32m[I 2021-12-13 13:10:51,286]\u001b[0m Trial 32 finished with value: 0.9891800904497953 and parameters: {'n_estimators': 800, 'min_samples_split': 2, 'max_depth': 18}. Best is trial 30 with value: 0.991015667257262.\u001b[0m\n",
      "Precision: 0.9868667917448405 \n",
      "Recall: 0.9952696310312205 \n",
      "Aging Rate: 0.5866813428728673\n",
      "Precision: 0.9741219963031423 \n",
      "Recall: 0.9971617786187322 \n",
      "Aging Rate: 0.5954870665932857\n",
      "Precision: 0.9887323943661972 \n",
      "Recall: 0.9962157048249763 \n",
      "Aging Rate: 0.5861309851403412\n",
      "\u001b[32m[I 2021-12-13 13:10:55,437]\u001b[0m Trial 33 finished with value: 0.9878604852673266 and parameters: {'n_estimators': 800, 'min_samples_split': 2, 'max_depth': 21}. Best is trial 30 with value: 0.991015667257262.\u001b[0m\n"
     ]
    },
    {
     "name": "stdout",
     "output_type": "stream",
     "text": [
      "Precision: 0.9850327408793265 \n",
      "Recall: 0.9962157048249763 \n",
      "Aging Rate: 0.5883324160704458\n",
      "Precision: 0.9849906191369606 \n",
      "Recall: 0.9933774834437086 \n",
      "Aging Rate: 0.5866813428728673\n",
      "Precision: 0.9896519285042333 \n",
      "Recall: 0.9952696310312205 \n",
      "Aging Rate: 0.5850302696752889\n",
      "\u001b[32m[I 2021-12-13 13:10:59,258]\u001b[0m Trial 34 finished with value: 0.9895633582475698 and parameters: {'n_estimators': 800, 'min_samples_split': 7, 'max_depth': 21}. Best is trial 30 with value: 0.991015667257262.\u001b[0m\n",
      "Precision: 0.9813780260707635 \n",
      "Recall: 0.9971617786187322 \n",
      "Aging Rate: 0.5910842047330765\n",
      "Precision: 0.9777777777777777 \n",
      "Recall: 0.9990539262062441 \n",
      "Aging Rate: 0.5943863511282333\n",
      "Precision: 0.983177570093458 \n",
      "Recall: 0.9952696310312205 \n",
      "Aging Rate: 0.5888827738029719\n",
      "\u001b[32m[I 2021-12-13 13:11:03,304]\u001b[0m Trial 35 finished with value: 0.9866103297339707 and parameters: {'n_estimators': 800, 'min_samples_split': 12, 'max_depth': 21}. Best is trial 30 with value: 0.991015667257262.\u001b[0m\n",
      "Precision: 0.9711359404096834 \n",
      "Recall: 0.9867549668874173 \n",
      "Aging Rate: 0.5910842047330765\n",
      "Precision: 0.9739292364990689 \n",
      "Recall: 0.9895931882686849 \n",
      "Aging Rate: 0.5910842047330765\n",
      "Precision: 0.9704524469067405 \n",
      "Recall: 0.9943235572374646 \n",
      "Aging Rate: 0.5960374243258117\n",
      "\u001b[32m[I 2021-12-13 13:11:04,973]\u001b[0m Trial 36 finished with value: 0.9783750552317211 and parameters: {'n_estimators': 300, 'min_samples_split': 27, 'max_depth': 15}. Best is trial 30 with value: 0.991015667257262.\u001b[0m\n",
      "Precision: 0.6479049405878674 \n",
      "Recall: 0.9801324503311258 \n",
      "Aging Rate: 0.880022014309301\n",
      "Precision: 0.6436851738865161 \n",
      "Recall: 0.9981078524124882 \n",
      "Aging Rate: 0.9020363236103467\n",
      "Precision: 0.6398279041180086 \n",
      "Recall: 0.9848628192999054 \n",
      "Aging Rate: 0.895432030820033\n",
      "\u001b[32m[I 2021-12-13 13:11:08,575]\u001b[0m Trial 37 finished with value: 0.7360519705321975 and parameters: {'n_estimators': 800, 'min_samples_split': 17, 'max_depth': 3}. Best is trial 30 with value: 0.991015667257262.\u001b[0m\n",
      "Precision: 0.6423718344657195 \n",
      "Recall: 0.9839167455061495 \n",
      "Aging Rate: 0.8910291689598239\n",
      "Precision: 0.6500932256059664 \n",
      "Recall: 0.9895931882686849 \n",
      "Aging Rate: 0.8855255916345625\n",
      "Precision: 0.6467692307692308 \n",
      "Recall: 0.9943235572374646 \n",
      "Aging Rate: 0.8943313153549808\n",
      "\u001b[32m[I 2021-12-13 13:11:10,649]\u001b[0m Trial 38 finished with value: 0.7385591096407857 and parameters: {'n_estimators': 400, 'min_samples_split': 27, 'max_depth': 3}. Best is trial 30 with value: 0.991015667257262.\u001b[0m\n",
      "Precision: 0.9850606909430439 \n",
      "Recall: 0.9981078524124882 \n",
      "Aging Rate: 0.589433131535498\n",
      "Precision: 0.9896519285042333 \n",
      "Recall: 0.9952696310312205 \n",
      "Aging Rate: 0.5850302696752889\n",
      "Precision: 0.9877704609595485 \n",
      "Recall: 0.9933774834437086 \n",
      "Aging Rate: 0.5850302696752889\n",
      "\u001b[32m[I 2021-12-13 13:11:13,516]\u001b[0m Trial 39 finished with value: 0.9903889505410509 and parameters: {'n_estimators': 600, 'min_samples_split': 7, 'max_depth': 21}. Best is trial 30 with value: 0.991015667257262.\u001b[0m\n",
      "Precision: 0.9813258636788048 \n",
      "Recall: 0.9943235572374646 \n",
      "Aging Rate: 0.589433131535498\n",
      "Precision: 0.9850327408793265 \n",
      "Recall: 0.9962157048249763 \n",
      "Aging Rate: 0.5883324160704458\n",
      "Precision: 0.9905926622765757 \n",
      "Recall: 0.9962157048249763 \n",
      "Aging Rate: 0.5850302696752889\n",
      "\u001b[32m[I 2021-12-13 13:11:16,532]\u001b[0m Trial 40 finished with value: 0.9892016333172676 and parameters: {'n_estimators': 600, 'min_samples_split': 7, 'max_depth': 21}. Best is trial 30 with value: 0.991015667257262.\u001b[0m\n",
      "Precision: 0.9877819548872181 \n",
      "Recall: 0.9943235572374646 \n",
      "Aging Rate: 0.5855806274078151\n",
      "Precision: 0.9841121495327103 \n",
      "Recall: 0.9962157048249763 \n",
      "Aging Rate: 0.5888827738029719\n",
      "Precision: 0.9804651162790697 \n",
      "Recall: 0.9971617786187322 \n",
      "Aging Rate: 0.5916345624656026\n",
      "\u001b[32m[I 2021-12-13 13:11:20,175]\u001b[0m Trial 41 finished with value: 0.9883245009627716 and parameters: {'n_estimators': 700, 'min_samples_split': 7, 'max_depth': 21}. Best is trial 30 with value: 0.991015667257262.\u001b[0m\n",
      "Precision: 0.9795539033457249 \n",
      "Recall: 0.9971617786187322 \n",
      "Aging Rate: 0.5921849201981287\n",
      "Precision: 0.9868791002811621 \n",
      "Recall: 0.9962157048249763 \n",
      "Aging Rate: 0.5872317006053935\n",
      "Precision: 0.9812558575445174 \n",
      "Recall: 0.9905392620624409 \n",
      "Aging Rate: 0.5872317006053935\n",
      "\u001b[32m[I 2021-12-13 13:11:24,201]\u001b[0m Trial 42 finished with value: 0.9868728208542267 and parameters: {'n_estimators': 800, 'min_samples_split': 7, 'max_depth': 21}. Best is trial 30 with value: 0.991015667257262.\u001b[0m\n",
      "Precision: 0.9795728876508821 \n",
      "Recall: 0.9981078524124882 \n",
      "Aging Rate: 0.592735277930655\n",
      "Precision: 0.9859550561797753 \n",
      "Recall: 0.9962157048249763 \n",
      "Aging Rate: 0.5877820583379196\n",
      "Precision: 0.9831932773109243 \n",
      "Recall: 0.9962157048249763 \n",
      "Aging Rate: 0.589433131535498\n",
      "\u001b[32m[I 2021-12-13 13:11:26,705]\u001b[0m Trial 43 finished with value: 0.9878773446448278 and parameters: {'n_estimators': 500, 'min_samples_split': 2, 'max_depth': 21}. Best is trial 30 with value: 0.991015667257262.\u001b[0m\n",
      "Precision: 0.9906015037593985 \n",
      "Recall: 0.9971617786187322 \n",
      "Aging Rate: 0.5855806274078151\n",
      "Precision: 0.983224603914259 \n",
      "Recall: 0.9981078524124882 \n",
      "Aging Rate: 0.5905338470005503\n",
      "Precision: 0.983177570093458 \n",
      "Recall: 0.9952696310312205 \n",
      "Aging Rate: 0.5888827738029719\n",
      "\u001b[32m[I 2021-12-13 13:11:30,358]\u001b[0m Trial 44 finished with value: 0.9896603714023228 and parameters: {'n_estimators': 700, 'min_samples_split': 2, 'max_depth': 21}. Best is trial 30 with value: 0.991015667257262.\u001b[0m\n",
      "Precision: 0.6455223880597015 \n",
      "Recall: 0.9820245979186376 \n",
      "Aging Rate: 0.8849752339020364\n",
      "Precision: 0.6458590852904821 \n",
      "Recall: 0.988647114474929 \n",
      "Aging Rate: 0.8904788112272978\n",
      "Precision: 0.6447204968944099 \n",
      "Recall: 0.9820245979186376 \n",
      "Aging Rate: 0.8860759493670886\n",
      "\u001b[32m[I 2021-12-13 13:11:32,924]\u001b[0m Trial 45 finished with value: 0.7366739702185283 and parameters: {'n_estimators': 600, 'min_samples_split': 2, 'max_depth': 3}. Best is trial 30 with value: 0.991015667257262.\u001b[0m\n",
      "Precision: 0.983224603914259 \n",
      "Recall: 0.9981078524124882 \n",
      "Aging Rate: 0.5905338470005503\n",
      "Precision: 0.9859550561797753 \n",
      "Recall: 0.9962157048249763 \n",
      "Aging Rate: 0.5877820583379196\n",
      "Precision: 0.9841121495327103 \n",
      "Recall: 0.9962157048249763 \n",
      "Aging Rate: 0.5888827738029719\n",
      "\u001b[32m[I 2021-12-13 13:11:35,938]\u001b[0m Trial 46 finished with value: 0.9888636714666106 and parameters: {'n_estimators': 600, 'min_samples_split': 2, 'max_depth': 18}. Best is trial 30 with value: 0.991015667257262.\u001b[0m\n",
      "Precision: 0.9877819548872181 \n",
      "Recall: 0.9943235572374646 \n",
      "Aging Rate: 0.5855806274078151\n",
      "Precision: 0.985941893158388 \n",
      "Recall: 0.9952696310312205 \n",
      "Aging Rate: 0.5872317006053935\n",
      "Precision: 0.9850746268656716 \n",
      "Recall: 0.9990539262062441 \n",
      "Aging Rate: 0.5899834892680242\n",
      "\u001b[32m[I 2021-12-13 13:11:39,171]\u001b[0m Trial 47 finished with value: 0.9898228467849121 and parameters: {'n_estimators': 600, 'min_samples_split': 2, 'max_depth': 21}. Best is trial 30 with value: 0.991015667257262.\u001b[0m\n",
      "Precision: 0.648125 \n",
      "Recall: 0.9810785241248817 \n",
      "Aging Rate: 0.8805723720418271\n",
      "Precision: 0.650375939849624 \n",
      "Recall: 0.9820245979186376 \n",
      "Aging Rate: 0.8783709411117226\n",
      "Precision: 0.6578115117014548 \n",
      "Recall: 0.9839167455061495 \n",
      "Aging Rate: 0.8701155751238305\n",
      "\u001b[32m[I 2021-12-13 13:11:40,078]\u001b[0m Trial 48 finished with value: 0.7418852732778879 and parameters: {'n_estimators': 100, 'min_samples_split': 2, 'max_depth': 3}. Best is trial 30 with value: 0.991015667257262.\u001b[0m\n",
      "Precision: 0.9850327408793265 \n",
      "Recall: 0.9962157048249763 \n",
      "Aging Rate: 0.5883324160704458\n",
      "Precision: 0.9822926374650512 \n",
      "Recall: 0.9971617786187322 \n",
      "Aging Rate: 0.5905338470005503\n"
     ]
    },
    {
     "name": "stderr",
     "output_type": "stream",
     "text": [
      "C:\\Users\\user\\anaconda3\\envs\\aging\\lib\\site-packages\\optuna\\samplers\\_tpe\\sampler.py:253: ExperimentalWarning: ``multivariate`` option is an experimental feature. The interface can change in the future.\n",
      "  ExperimentalWarning,\n",
      "\u001b[32m[I 2021-12-13 13:11:42,600]\u001b[0m A new study created in memory with name: no-name-752617c2-5d9d-4734-84cc-fc174c1af21a\u001b[0m\n"
     ]
    },
    {
     "name": "stdout",
     "output_type": "stream",
     "text": [
      "Precision: 0.9795158286778398 \n",
      "Recall: 0.9952696310312205 \n",
      "Aging Rate: 0.5910842047330765\n",
      "\u001b[32m[I 2021-12-13 13:11:42,553]\u001b[0m Trial 49 finished with value: 0.9872510503314444 and parameters: {'n_estimators': 500, 'min_samples_split': 7, 'max_depth': 21}. Best is trial 30 with value: 0.991015667257262.\u001b[0m\n",
      "Sampler is TPESampler\n",
      "Dataset7 :\n"
     ]
    },
    {
     "name": "stderr",
     "output_type": "stream",
     "text": [
      "C:\\Users\\user\\anaconda3\\envs\\aging\\lib\\site-packages\\optuna\\progress_bar.py:47: ExperimentalWarning: Progress bar is experimental (supported from v1.2.0). The interface can change in the future.\n",
      "  self._init_valid()\n"
     ]
    },
    {
     "data": {
      "application/vnd.jupyter.widget-view+json": {
       "model_id": "2cf30e07c64e4f1ea43ec013e1fbc37c",
       "version_major": 2,
       "version_minor": 0
      },
      "text/plain": [
       "  0%|          | 0/50 [00:00<?, ?it/s]"
      ]
     },
     "metadata": {},
     "output_type": "display_data"
    },
    {
     "name": "stdout",
     "output_type": "stream",
     "text": [
      "Precision: 1.0 \n",
      "Recall: 0.9171052631578948 \n",
      "Aging Rate: 0.4585526315789474\n",
      "Precision: 1.0 \n",
      "Recall: 0.9184210526315789 \n",
      "Aging Rate: 0.45921052631578946\n",
      "Precision: 0.9971181556195965 \n",
      "Recall: 0.9105263157894737 \n",
      "Aging Rate: 0.45657894736842103\n",
      "\u001b[32m[I 2021-12-13 13:11:43,425]\u001b[0m Trial 0 finished with value: 0.9672034438793421 and parameters: {'n_estimators': 100, 'min_samples_split': 32, 'max_depth': 18}. Best is trial 0 with value: 0.9672034438793421.\u001b[0m\n",
      "Precision: 1.0 \n",
      "Recall: 0.9013157894736842 \n",
      "Aging Rate: 0.4506578947368421\n",
      "Precision: 1.0 \n",
      "Recall: 0.9078947368421053 \n",
      "Aging Rate: 0.45394736842105265\n",
      "Precision: 1.0 \n",
      "Recall: 0.9118421052631579 \n",
      "Aging Rate: 0.45592105263157895\n",
      "\u001b[32m[I 2021-12-13 13:11:45,961]\u001b[0m Trial 1 finished with value: 0.964403071401308 and parameters: {'n_estimators': 600, 'min_samples_split': 27, 'max_depth': 9}. Best is trial 0 with value: 0.9672034438793421.\u001b[0m\n",
      "Precision: 0.9985754985754985 \n",
      "Recall: 0.9223684210526316 \n",
      "Aging Rate: 0.4618421052631579\n",
      "Precision: 0.9985915492957746 \n",
      "Recall: 0.9328947368421052 \n",
      "Aging Rate: 0.46710526315789475\n",
      "Precision: 1.0 \n",
      "Recall: 0.9197368421052632 \n",
      "Aging Rate: 0.4598684210526316\n",
      "\u001b[32m[I 2021-12-13 13:11:47,628]\u001b[0m Trial 2 finished with value: 0.9710579645997761 and parameters: {'n_estimators': 300, 'min_samples_split': 22, 'max_depth': 21}. Best is trial 2 with value: 0.9710579645997761.\u001b[0m\n",
      "Precision: 0.998641304347826 \n",
      "Recall: 0.9671052631578947 \n",
      "Aging Rate: 0.4842105263157895\n",
      "Precision: 0.9986263736263736 \n",
      "Recall: 0.9565789473684211 \n",
      "Aging Rate: 0.4789473684210526\n",
      "Precision: 1.0 \n",
      "Recall: 0.9342105263157895 \n",
      "Aging Rate: 0.46710526315789475\n",
      "\u001b[32m[I 2021-12-13 13:11:48,491]\u001b[0m Trial 3 finished with value: 0.9817996572563629 and parameters: {'n_estimators': 100, 'min_samples_split': 2, 'max_depth': 18}. Best is trial 3 with value: 0.9817996572563629.\u001b[0m\n",
      "Precision: 1.0 \n",
      "Recall: 0.8947368421052632 \n",
      "Aging Rate: 0.4473684210526316\n",
      "Precision: 1.0 \n",
      "Recall: 0.8960526315789473 \n",
      "Aging Rate: 0.44802631578947366\n",
      "Precision: 1.0 \n",
      "Recall: 0.8986842105263158 \n",
      "Aging Rate: 0.4493421052631579\n",
      "\u001b[32m[I 2021-12-13 13:11:50,795]\u001b[0m Trial 4 finished with value: 0.9600924292132899 and parameters: {'n_estimators': 500, 'min_samples_split': 7, 'max_depth': 6}. Best is trial 3 with value: 0.9817996572563629.\u001b[0m\n",
      "Precision: 1.0 \n",
      "Recall: 0.8881578947368421 \n",
      "Aging Rate: 0.4440789473684211\n",
      "Precision: 1.0 \n",
      "Recall: 0.9078947368421053 \n",
      "Aging Rate: 0.45394736842105265\n",
      "Precision: 1.0 \n",
      "Recall: 0.8947368421052632 \n",
      "Aging Rate: 0.4473684210526316\n",
      "\u001b[32m[I 2021-12-13 13:11:54,250]\u001b[0m Trial 5 finished with value: 0.960255233185431 and parameters: {'n_estimators': 800, 'min_samples_split': 22, 'max_depth': 3}. Best is trial 3 with value: 0.9817996572563629.\u001b[0m\n",
      "Precision: 1.0 \n",
      "Recall: 0.9013157894736842 \n",
      "Aging Rate: 0.4506578947368421\n",
      "Precision: 1.0 \n",
      "Recall: 0.906578947368421 \n",
      "Aging Rate: 0.4532894736842105\n",
      "Precision: 1.0 \n",
      "Recall: 0.8934210526315789 \n",
      "Aging Rate: 0.44671052631578945\n",
      "\u001b[32m[I 2021-12-13 13:11:55,869]\u001b[0m Trial 6 finished with value: 0.961710417452048 and parameters: {'n_estimators': 300, 'min_samples_split': 32, 'max_depth': 9}. Best is trial 3 with value: 0.9817996572563629.\u001b[0m\n",
      "Precision: 1.0 \n",
      "Recall: 0.8934210526315789 \n",
      "Aging Rate: 0.44671052631578945\n",
      "Precision: 1.0 \n",
      "Recall: 0.9039473684210526 \n",
      "Aging Rate: 0.4519736842105263\n",
      "Precision: 1.0 \n",
      "Recall: 0.8960526315789473 \n",
      "Aging Rate: 0.44802631578947366\n",
      "\u001b[32m[I 2021-12-13 13:11:58,840]\u001b[0m Trial 7 finished with value: 0.9606303440044638 and parameters: {'n_estimators': 700, 'min_samples_split': 22, 'max_depth': 3}. Best is trial 3 with value: 0.9817996572563629.\u001b[0m\n",
      "Precision: 1.0 \n",
      "Recall: 0.8881578947368421 \n",
      "Aging Rate: 0.4440789473684211\n",
      "Precision: 1.0 \n",
      "Recall: 0.906578947368421 \n",
      "Aging Rate: 0.4532894736842105\n",
      "Precision: 0.9985693848354793 \n",
      "Recall: 0.9184210526315789 \n",
      "Aging Rate: 0.4598684210526316\n",
      "\u001b[32m[I 2021-12-13 13:12:02,077]\u001b[0m Trial 8 finished with value: 0.9630053206188146 and parameters: {'n_estimators': 700, 'min_samples_split': 22, 'max_depth': 12}. Best is trial 3 with value: 0.9817996572563629.\u001b[0m\n",
      "Precision: 1.0 \n",
      "Recall: 0.9407894736842105 \n",
      "Aging Rate: 0.47039473684210525\n",
      "Precision: 1.0 \n",
      "Recall: 0.9434210526315789 \n",
      "Aging Rate: 0.47171052631578947\n",
      "Precision: 1.0 \n",
      "Recall: 0.9210526315789473 \n",
      "Aging Rate: 0.4605263157894737\n",
      "\u001b[32m[I 2021-12-13 13:12:03,729]\u001b[0m Trial 9 finished with value: 0.9755924916552493 and parameters: {'n_estimators': 300, 'min_samples_split': 7, 'max_depth': 18}. Best is trial 3 with value: 0.9817996572563629.\u001b[0m\n",
      "Precision: 0.9985401459854014 \n",
      "Recall: 0.9 \n",
      "Aging Rate: 0.4506578947368421\n",
      "Precision: 0.9971181556195965 \n",
      "Recall: 0.9105263157894737 \n",
      "Aging Rate: 0.45657894736842103\n",
      "Precision: 1.0 \n",
      "Recall: 0.9157894736842105 \n",
      "Aging Rate: 0.45789473684210524\n",
      "\u001b[32m[I 2021-12-13 13:12:04,586]\u001b[0m Trial 10 finished with value: 0.964247333292612 and parameters: {'n_estimators': 100, 'min_samples_split': 17, 'max_depth': 12}. Best is trial 3 with value: 0.9817996572563629.\u001b[0m\n",
      "Precision: 1.0 \n",
      "Recall: 0.9552631578947368 \n",
      "Aging Rate: 0.4776315789473684\n",
      "Precision: 1.0 \n",
      "Recall: 0.9592105263157895 \n",
      "Aging Rate: 0.47960526315789476\n",
      "Precision: 0.9972714870395635 \n",
      "Recall: 0.9618421052631579 \n",
      "Aging Rate: 0.48223684210526313\n",
      "\u001b[32m[I 2021-12-13 13:12:05,476]\u001b[0m Trial 11 finished with value: 0.9841874562395542 and parameters: {'n_estimators': 100, 'min_samples_split': 2, 'max_depth': 18}. Best is trial 11 with value: 0.9841874562395542.\u001b[0m\n",
      "Precision: 1.0 \n",
      "Recall: 0.9697368421052631 \n",
      "Aging Rate: 0.48486842105263156\n",
      "Precision: 0.9986577181208054 \n",
      "Recall: 0.9789473684210527 \n",
      "Aging Rate: 0.4901315789473684\n",
      "Precision: 1.0 \n",
      "Recall: 0.975 \n",
      "Aging Rate: 0.4875\n",
      "\u001b[32m[I 2021-12-13 13:12:06,330]\u001b[0m Trial 12 finished with value: 0.9904049851561584 and parameters: {'n_estimators': 100, 'min_samples_split': 2, 'max_depth': 21}. Best is trial 12 with value: 0.9904049851561584.\u001b[0m\n",
      "Precision: 0.9986225895316805 \n",
      "Recall: 0.9539473684210527 \n",
      "Aging Rate: 0.4776315789473684\n",
      "Precision: 1.0 \n",
      "Recall: 0.9421052631578948 \n",
      "Aging Rate: 0.4710526315789474\n",
      "Precision: 1.0 \n",
      "Recall: 0.9355263157894737 \n",
      "Aging Rate: 0.4677631578947368\n",
      "\u001b[32m[I 2021-12-13 13:12:07,187]\u001b[0m Trial 13 finished with value: 0.9787372971985069 and parameters: {'n_estimators': 100, 'min_samples_split': 12, 'max_depth': 21}. Best is trial 12 with value: 0.9904049851561584.\u001b[0m\n",
      "Precision: 1.0 \n",
      "Recall: 0.9236842105263158 \n",
      "Aging Rate: 0.4618421052631579\n",
      "Precision: 1.0 \n",
      "Recall: 0.8973684210526316 \n",
      "Aging Rate: 0.4486842105263158\n",
      "Precision: 1.0 \n",
      "Recall: 0.9184210526315789 \n",
      "Aging Rate: 0.45921052631578946\n",
      "\u001b[32m[I 2021-12-13 13:12:08,428]\u001b[0m Trial 14 finished with value: 0.9668614898292068 and parameters: {'n_estimators': 200, 'min_samples_split': 2, 'max_depth': 9}. Best is trial 12 with value: 0.9904049851561584.\u001b[0m\n",
      "Precision: 1.0 \n",
      "Recall: 0.9565789473684211 \n",
      "Aging Rate: 0.47828947368421054\n",
      "Precision: 1.0 \n",
      "Recall: 0.9552631578947368 \n",
      "Aging Rate: 0.4776315789473684\n",
      "Precision: 1.0 \n",
      "Recall: 0.9539473684210527 \n",
      "Aging Rate: 0.4769736842105263\n",
      "\u001b[32m[I 2021-12-13 13:12:11,046]\u001b[0m Trial 15 finished with value: 0.9834197358645894 and parameters: {'n_estimators': 600, 'min_samples_split': 2, 'max_depth': 18}. Best is trial 12 with value: 0.9904049851561584.\u001b[0m\n",
      "Precision: 0.9972602739726028 \n",
      "Recall: 0.9578947368421052 \n",
      "Aging Rate: 0.48026315789473684\n",
      "Precision: 1.0 \n",
      "Recall: 0.9736842105263158 \n",
      "Aging Rate: 0.4868421052631579\n",
      "Precision: 0.9986504723346828 \n",
      "Recall: 0.9736842105263158 \n",
      "Aging Rate: 0.4875\n",
      "\u001b[32m[I 2021-12-13 13:12:11,896]\u001b[0m Trial 16 finished with value: 0.9875339606991526 and parameters: {'n_estimators': 100, 'min_samples_split': 2, 'max_depth': 21}. Best is trial 12 with value: 0.9904049851561584.\u001b[0m\n",
      "Precision: 1.0 \n",
      "Recall: 0.9763157894736842 \n",
      "Aging Rate: 0.4881578947368421\n",
      "Precision: 0.9986376021798365 \n",
      "Recall: 0.9644736842105263 \n",
      "Aging Rate: 0.48289473684210527\n",
      "Precision: 1.0 \n",
      "Recall: 0.9592105263157895 \n",
      "Aging Rate: 0.47960526315789476\n",
      "\u001b[32m[I 2021-12-13 13:12:13,520]\u001b[0m Trial 17 finished with value: 0.9874426377565276 and parameters: {'n_estimators': 300, 'min_samples_split': 2, 'max_depth': 21}. Best is trial 12 with value: 0.9904049851561584.\u001b[0m\n",
      "Precision: 1.0 \n",
      "Recall: 0.9381578947368421 \n",
      "Aging Rate: 0.46907894736842104\n"
     ]
    },
    {
     "name": "stdout",
     "output_type": "stream",
     "text": [
      "Precision: 1.0 \n",
      "Recall: 0.9328947368421052 \n",
      "Aging Rate: 0.4664473684210526\n",
      "Precision: 1.0 \n",
      "Recall: 0.9263157894736842 \n",
      "Aging Rate: 0.4631578947368421\n",
      "\u001b[32m[I 2021-12-13 13:12:16,042]\u001b[0m Trial 18 finished with value: 0.9745794183112749 and parameters: {'n_estimators': 600, 'min_samples_split': 12, 'max_depth': 21}. Best is trial 12 with value: 0.9904049851561584.\u001b[0m\n",
      "Precision: 1.0 \n",
      "Recall: 0.9697368421052631 \n",
      "Aging Rate: 0.48486842105263156\n",
      "Precision: 1.0 \n",
      "Recall: 0.968421052631579 \n",
      "Aging Rate: 0.4842105263157895\n",
      "Precision: 0.9986468200270636 \n",
      "Recall: 0.9710526315789474 \n",
      "Aging Rate: 0.4861842105263158\n",
      "\u001b[32m[I 2021-12-13 13:12:16,920]\u001b[0m Trial 19 finished with value: 0.9886070785530814 and parameters: {'n_estimators': 100, 'min_samples_split': 2, 'max_depth': 21}. Best is trial 12 with value: 0.9904049851561584.\u001b[0m\n",
      "Precision: 1.0 \n",
      "Recall: 0.9131578947368421 \n",
      "Aging Rate: 0.45657894736842103\n",
      "Precision: 1.0 \n",
      "Recall: 0.9131578947368421 \n",
      "Aging Rate: 0.45657894736842103\n",
      "Precision: 1.0 \n",
      "Recall: 0.9118421052631579 \n",
      "Aging Rate: 0.45592105263157895\n",
      "\u001b[32m[I 2021-12-13 13:12:18,574]\u001b[0m Trial 20 finished with value: 0.9667198292352052 and parameters: {'n_estimators': 300, 'min_samples_split': 12, 'max_depth': 12}. Best is trial 12 with value: 0.9904049851561584.\u001b[0m\n",
      "Precision: 0.9973009446693657 \n",
      "Recall: 0.9723684210526315 \n",
      "Aging Rate: 0.4875\n",
      "Precision: 0.9972936400541272 \n",
      "Recall: 0.9697368421052631 \n",
      "Aging Rate: 0.4861842105263158\n",
      "Precision: 1.0 \n",
      "Recall: 0.9776315789473684 \n",
      "Aging Rate: 0.4888157894736842\n",
      "\u001b[32m[I 2021-12-13 13:12:19,443]\u001b[0m Trial 21 finished with value: 0.9890681010896452 and parameters: {'n_estimators': 100, 'min_samples_split': 2, 'max_depth': 21}. Best is trial 12 with value: 0.9904049851561584.\u001b[0m\n",
      "Precision: 1.0 \n",
      "Recall: 0.9460526315789474 \n",
      "Aging Rate: 0.4730263157894737\n",
      "Precision: 1.0 \n",
      "Recall: 0.9657894736842105 \n",
      "Aging Rate: 0.48289473684210527\n",
      "Precision: 0.9986168741355463 \n",
      "Recall: 0.95 \n",
      "Aging Rate: 0.4756578947368421\n",
      "\u001b[32m[I 2021-12-13 13:12:20,330]\u001b[0m Trial 22 finished with value: 0.9826149627597958 and parameters: {'n_estimators': 100, 'min_samples_split': 7, 'max_depth': 21}. Best is trial 12 with value: 0.9904049851561584.\u001b[0m\n",
      "Precision: 0.9946091644204852 \n",
      "Recall: 0.9710526315789474 \n",
      "Aging Rate: 0.4881578947368421\n",
      "Precision: 0.9973045822102425 \n",
      "Recall: 0.9736842105263158 \n",
      "Aging Rate: 0.4881578947368421\n",
      "Precision: 1.0 \n",
      "Recall: 0.968421052631579 \n",
      "Aging Rate: 0.4842105263157895\n",
      "\u001b[32m[I 2021-12-13 13:12:21,216]\u001b[0m Trial 23 finished with value: 0.9876885798679479 and parameters: {'n_estimators': 100, 'min_samples_split': 2, 'max_depth': 21}. Best is trial 12 with value: 0.9904049851561584.\u001b[0m\n",
      "Precision: 1.0 \n",
      "Recall: 0.8947368421052632 \n",
      "Aging Rate: 0.4473684210526316\n",
      "Precision: 1.0 \n",
      "Recall: 0.8960526315789473 \n",
      "Aging Rate: 0.44802631578947366\n",
      "Precision: 1.0 \n",
      "Recall: 0.9118421052631579 \n",
      "Aging Rate: 0.45592105263157895\n",
      "\u001b[32m[I 2021-12-13 13:12:24,564]\u001b[0m Trial 24 finished with value: 0.9618818169910255 and parameters: {'n_estimators': 800, 'min_samples_split': 2, 'max_depth': 3}. Best is trial 12 with value: 0.9904049851561584.\u001b[0m\n",
      "Precision: 1.0 \n",
      "Recall: 0.9407894736842105 \n",
      "Aging Rate: 0.47039473684210525\n",
      "Precision: 1.0 \n",
      "Recall: 0.9355263157894737 \n",
      "Aging Rate: 0.4677631578947368\n",
      "Precision: 0.99860529986053 \n",
      "Recall: 0.9421052631578948 \n",
      "Aging Rate: 0.47171052631578947\n",
      "\u001b[32m[I 2021-12-13 13:12:26,220]\u001b[0m Trial 25 finished with value: 0.977045414987885 and parameters: {'n_estimators': 300, 'min_samples_split': 2, 'max_depth': 15}. Best is trial 12 with value: 0.9904049851561584.\u001b[0m\n",
      "Precision: 0.9986149584487535 \n",
      "Recall: 0.9486842105263158 \n",
      "Aging Rate: 0.475\n",
      "Precision: 1.0 \n",
      "Recall: 0.9236842105263158 \n",
      "Aging Rate: 0.4618421052631579\n",
      "Precision: 0.9986187845303868 \n",
      "Recall: 0.9513157894736842 \n",
      "Aging Rate: 0.4763157894736842\n",
      "\u001b[32m[I 2021-12-13 13:12:27,877]\u001b[0m Trial 26 finished with value: 0.9774061754745208 and parameters: {'n_estimators': 300, 'min_samples_split': 12, 'max_depth': 21}. Best is trial 12 with value: 0.9904049851561584.\u001b[0m\n",
      "Precision: 0.9986504723346828 \n",
      "Recall: 0.9736842105263158 \n",
      "Aging Rate: 0.4875\n",
      "Precision: 1.0 \n",
      "Recall: 0.9763157894736842 \n",
      "Aging Rate: 0.4881578947368421\n",
      "Precision: 1.0 \n",
      "Recall: 0.9763157894736842 \n",
      "Aging Rate: 0.4881578947368421\n",
      "\u001b[32m[I 2021-12-13 13:12:29,540]\u001b[0m Trial 27 finished with value: 0.990733794064162 and parameters: {'n_estimators': 300, 'min_samples_split': 2, 'max_depth': 21}. Best is trial 27 with value: 0.990733794064162.\u001b[0m\n",
      "Precision: 1.0 \n",
      "Recall: 0.9763157894736842 \n",
      "Aging Rate: 0.4881578947368421\n",
      "Precision: 0.9986357435197817 \n",
      "Recall: 0.9631578947368421 \n",
      "Aging Rate: 0.48223684210526313\n",
      "Precision: 1.0 \n",
      "Recall: 0.9539473684210527 \n",
      "Aging Rate: 0.4769736842105263\n",
      "\u001b[32m[I 2021-12-13 13:12:31,190]\u001b[0m Trial 28 finished with value: 0.9866088635581299 and parameters: {'n_estimators': 300, 'min_samples_split': 2, 'max_depth': 21}. Best is trial 27 with value: 0.990733794064162.\u001b[0m\n",
      "Precision: 1.0 \n",
      "Recall: 0.9026315789473685 \n",
      "Aging Rate: 0.4513157894736842\n",
      "Precision: 0.9985569985569985 \n",
      "Recall: 0.9105263157894737 \n",
      "Aging Rate: 0.45592105263157895\n",
      "Precision: 0.998587570621469 \n",
      "Recall: 0.9302631578947368 \n",
      "Aging Rate: 0.46578947368421053\n",
      "\u001b[32m[I 2021-12-13 13:12:33,710]\u001b[0m Trial 29 finished with value: 0.9668177478646842 and parameters: {'n_estimators': 600, 'min_samples_split': 32, 'max_depth': 18}. Best is trial 27 with value: 0.990733794064162.\u001b[0m\n",
      "Precision: 1.0 \n",
      "Recall: 0.975 \n",
      "Aging Rate: 0.4875\n",
      "Precision: 0.9946308724832215 \n",
      "Recall: 0.975 \n",
      "Aging Rate: 0.4901315789473684\n",
      "Precision: 1.0 \n",
      "Recall: 0.9763157894736842 \n",
      "Aging Rate: 0.4881578947368421\n",
      "\u001b[32m[I 2021-12-13 13:12:35,746]\u001b[0m Trial 30 finished with value: 0.9898898200415825 and parameters: {'n_estimators': 400, 'min_samples_split': 2, 'max_depth': 21}. Best is trial 27 with value: 0.990733794064162.\u001b[0m\n",
      "Precision: 1.0 \n",
      "Recall: 0.9671052631578947 \n",
      "Aging Rate: 0.48355263157894735\n",
      "Precision: 1.0 \n",
      "Recall: 0.9723684210526315 \n",
      "Aging Rate: 0.4861842105263158\n",
      "Precision: 1.0 \n",
      "Recall: 0.9710526315789474 \n",
      "Aging Rate: 0.4855263157894737\n",
      "\u001b[32m[I 2021-12-13 13:12:38,062]\u001b[0m Trial 31 finished with value: 0.9890530061844857 and parameters: {'n_estimators': 500, 'min_samples_split': 2, 'max_depth': 21}. Best is trial 27 with value: 0.990733794064162.\u001b[0m\n",
      "Precision: 1.0 \n",
      "Recall: 0.9592105263157895 \n",
      "Aging Rate: 0.47960526315789476\n",
      "Precision: 0.9986320109439124 \n",
      "Recall: 0.9605263157894737 \n",
      "Aging Rate: 0.48092105263157897\n",
      "Precision: 0.9958904109589041 \n",
      "Recall: 0.9565789473684211 \n",
      "Aging Rate: 0.48026315789473684\n",
      "\u001b[32m[I 2021-12-13 13:12:40,097]\u001b[0m Trial 32 finished with value: 0.9836214115517933 and parameters: {'n_estimators': 400, 'min_samples_split': 2, 'max_depth': 18}. Best is trial 27 with value: 0.990733794064162.\u001b[0m\n",
      "Precision: 1.0 \n",
      "Recall: 0.975 \n",
      "Aging Rate: 0.4875\n",
      "Precision: 1.0 \n",
      "Recall: 0.9723684210526315 \n",
      "Aging Rate: 0.4861842105263158\n",
      "Precision: 1.0 \n",
      "Recall: 0.9644736842105263 \n",
      "Aging Rate: 0.48223684210526313\n",
      "\u001b[32m[I 2021-12-13 13:12:42,157]\u001b[0m Trial 33 finished with value: 0.9892133934831304 and parameters: {'n_estimators': 400, 'min_samples_split': 2, 'max_depth': 21}. Best is trial 27 with value: 0.990733794064162.\u001b[0m\n",
      "Precision: 0.9973009446693657 \n",
      "Recall: 0.9723684210526315 \n",
      "Aging Rate: 0.4875\n",
      "Precision: 1.0 \n",
      "Recall: 0.9736842105263158 \n",
      "Aging Rate: 0.4868421052631579\n",
      "Precision: 1.0 \n",
      "Recall: 0.9592105263157895 \n",
      "Aging Rate: 0.47960526315789476\n",
      "\u001b[32m[I 2021-12-13 13:12:44,219]\u001b[0m Trial 34 finished with value: 0.9878218314572972 and parameters: {'n_estimators': 400, 'min_samples_split': 2, 'max_depth': 21}. Best is trial 27 with value: 0.990733794064162.\u001b[0m\n",
      "Precision: 1.0 \n",
      "Recall: 0.9552631578947368 \n",
      "Aging Rate: 0.4776315789473684\n",
      "Precision: 1.0 \n",
      "Recall: 0.9513157894736842 \n",
      "Aging Rate: 0.4756578947368421\n",
      "Precision: 0.9986338797814208 \n",
      "Recall: 0.9618421052631579 \n",
      "Aging Rate: 0.48157894736842105\n",
      "\u001b[32m[I 2021-12-13 13:12:46,311]\u001b[0m Trial 35 finished with value: 0.9834663534592692 and parameters: {'n_estimators': 400, 'min_samples_split': 7, 'max_depth': 21}. Best is trial 27 with value: 0.990733794064162.\u001b[0m\n",
      "Precision: 1.0 \n",
      "Recall: 0.8947368421052632 \n",
      "Aging Rate: 0.4473684210526316\n",
      "Precision: 1.0 \n",
      "Recall: 0.9131578947368421 \n",
      "Aging Rate: 0.45657894736842103\n"
     ]
    },
    {
     "name": "stdout",
     "output_type": "stream",
     "text": [
      "Precision: 1.0 \n",
      "Recall: 0.9039473684210526 \n",
      "Aging Rate: 0.4519736842105263\n",
      "\u001b[32m[I 2021-12-13 13:12:47,583]\u001b[0m Trial 36 finished with value: 0.9631403608584609 and parameters: {'n_estimators': 200, 'min_samples_split': 17, 'max_depth': 3}. Best is trial 27 with value: 0.990733794064162.\u001b[0m\n",
      "Precision: 0.9973045822102425 \n",
      "Recall: 0.9736842105263158 \n",
      "Aging Rate: 0.4881578947368421\n",
      "Precision: 1.0 \n",
      "Recall: 0.9618421052631579 \n",
      "Aging Rate: 0.48092105263157897\n",
      "Precision: 1.0 \n",
      "Recall: 0.968421052631579 \n",
      "Aging Rate: 0.4842105263157895\n",
      "\u001b[32m[I 2021-12-13 13:12:49,630]\u001b[0m Trial 37 finished with value: 0.9876622473081844 and parameters: {'n_estimators': 400, 'min_samples_split': 2, 'max_depth': 21}. Best is trial 27 with value: 0.990733794064162.\u001b[0m\n",
      "Precision: 0.9986468200270636 \n",
      "Recall: 0.9710526315789474 \n",
      "Aging Rate: 0.4861842105263158\n",
      "Precision: 0.9986320109439124 \n",
      "Recall: 0.9605263157894737 \n",
      "Aging Rate: 0.48092105263157897\n",
      "Precision: 1.0 \n",
      "Recall: 0.968421052631579 \n",
      "Aging Rate: 0.4842105263157895\n",
      "\u001b[32m[I 2021-12-13 13:12:51,279]\u001b[0m Trial 38 finished with value: 0.987167239821814 and parameters: {'n_estimators': 300, 'min_samples_split': 2, 'max_depth': 21}. Best is trial 27 with value: 0.990733794064162.\u001b[0m\n",
      "Precision: 1.0 \n",
      "Recall: 0.9578947368421052 \n",
      "Aging Rate: 0.4789473684210526\n",
      "Precision: 1.0 \n",
      "Recall: 0.9657894736842105 \n",
      "Aging Rate: 0.48289473684210527\n",
      "Precision: 1.0 \n",
      "Recall: 0.9697368421052631 \n",
      "Aging Rate: 0.48486842105263156\n",
      "\u001b[32m[I 2021-12-13 13:12:53,737]\u001b[0m Trial 39 finished with value: 0.9869069776792192 and parameters: {'n_estimators': 500, 'min_samples_split': 2, 'max_depth': 21}. Best is trial 27 with value: 0.990733794064162.\u001b[0m\n",
      "Precision: 1.0 \n",
      "Recall: 0.9105263157894737 \n",
      "Aging Rate: 0.45526315789473687\n",
      "Precision: 1.0 \n",
      "Recall: 0.9 \n",
      "Aging Rate: 0.45\n",
      "Precision: 1.0 \n",
      "Recall: 0.8921052631578947 \n",
      "Aging Rate: 0.44605263157894737\n",
      "\u001b[32m[I 2021-12-13 13:12:54,587]\u001b[0m Trial 40 finished with value: 0.9618827401702886 and parameters: {'n_estimators': 100, 'min_samples_split': 27, 'max_depth': 6}. Best is trial 27 with value: 0.990733794064162.\u001b[0m\n",
      "Precision: 1.0 \n",
      "Recall: 0.9763157894736842 \n",
      "Aging Rate: 0.4881578947368421\n",
      "Precision: 1.0 \n",
      "Recall: 0.9671052631578947 \n",
      "Aging Rate: 0.48355263157894735\n",
      "Precision: 1.0 \n",
      "Recall: 0.9763157894736842 \n",
      "Aging Rate: 0.4881578947368421\n",
      "\u001b[32m[I 2021-12-13 13:12:55,841]\u001b[0m Trial 41 finished with value: 0.9901960446289425 and parameters: {'n_estimators': 200, 'min_samples_split': 2, 'max_depth': 21}. Best is trial 27 with value: 0.990733794064162.\u001b[0m\n",
      "Precision: 1.0 \n",
      "Recall: 0.9802631578947368 \n",
      "Aging Rate: 0.4901315789473684\n",
      "Precision: 1.0 \n",
      "Recall: 0.9789473684210527 \n",
      "Aging Rate: 0.48947368421052634\n",
      "Precision: 1.0 \n",
      "Recall: 0.9671052631578947 \n",
      "Aging Rate: 0.48355263157894735\n",
      "\u001b[32m[I 2021-12-13 13:12:57,463]\u001b[0m Trial 42 finished with value: 0.9910082017909533 and parameters: {'n_estimators': 300, 'min_samples_split': 2, 'max_depth': 21}. Best is trial 42 with value: 0.9910082017909533.\u001b[0m\n",
      "Precision: 1.0 \n",
      "Recall: 0.9657894736842105 \n",
      "Aging Rate: 0.48289473684210527\n",
      "Precision: 1.0 \n",
      "Recall: 0.968421052631579 \n",
      "Aging Rate: 0.4842105263157895\n",
      "Precision: 1.0 \n",
      "Recall: 0.9697368421052631 \n",
      "Aging Rate: 0.48486842105263156\n",
      "\u001b[32m[I 2021-12-13 13:12:59,133]\u001b[0m Trial 43 finished with value: 0.9882318942745574 and parameters: {'n_estimators': 300, 'min_samples_split': 2, 'max_depth': 18}. Best is trial 42 with value: 0.9910082017909533.\u001b[0m\n",
      "Precision: 1.0 \n",
      "Recall: 0.968421052631579 \n",
      "Aging Rate: 0.4842105263157895\n",
      "Precision: 0.9986595174262735 \n",
      "Recall: 0.9802631578947368 \n",
      "Aging Rate: 0.49078947368421055\n",
      "Precision: 0.998639455782313 \n",
      "Recall: 0.9657894736842105 \n",
      "Aging Rate: 0.48355263157894735\n",
      "\u001b[32m[I 2021-12-13 13:13:00,392]\u001b[0m Trial 44 finished with value: 0.9889713453530634 and parameters: {'n_estimators': 200, 'min_samples_split': 2, 'max_depth': 21}. Best is trial 42 with value: 0.9910082017909533.\u001b[0m\n",
      "Precision: 1.0 \n",
      "Recall: 0.9592105263157895 \n",
      "Aging Rate: 0.47960526315789476\n",
      "Precision: 1.0 \n",
      "Recall: 0.9526315789473684 \n",
      "Aging Rate: 0.4763157894736842\n",
      "Precision: 1.0 \n",
      "Recall: 0.9460526315789474 \n",
      "Aging Rate: 0.4730263157894737\n",
      "\u001b[32m[I 2021-12-13 13:13:02,030]\u001b[0m Trial 45 finished with value: 0.9824069507191897 and parameters: {'n_estimators': 300, 'min_samples_split': 7, 'max_depth': 21}. Best is trial 42 with value: 0.9910082017909533.\u001b[0m\n",
      "Precision: 1.0 \n",
      "Recall: 0.9 \n",
      "Aging Rate: 0.45\n",
      "Precision: 1.0 \n",
      "Recall: 0.8881578947368421 \n",
      "Aging Rate: 0.4440789473684211\n",
      "Precision: 1.0 \n",
      "Recall: 0.9 \n",
      "Aging Rate: 0.45\n",
      "\u001b[32m[I 2021-12-13 13:13:04,350]\u001b[0m Trial 46 finished with value: 0.9599031920460493 and parameters: {'n_estimators': 500, 'min_samples_split': 17, 'max_depth': 6}. Best is trial 42 with value: 0.9910082017909533.\u001b[0m\n",
      "Precision: 0.9971469329529244 \n",
      "Recall: 0.9197368421052632 \n",
      "Aging Rate: 0.4611842105263158\n",
      "Precision: 0.9985815602836879 \n",
      "Recall: 0.9263157894736842 \n",
      "Aging Rate: 0.46381578947368424\n",
      "Precision: 1.0 \n",
      "Recall: 0.9131578947368421 \n",
      "Aging Rate: 0.45657894736842103\n",
      "\u001b[32m[I 2021-12-13 13:13:05,608]\u001b[0m Trial 47 finished with value: 0.9686739239041441 and parameters: {'n_estimators': 200, 'min_samples_split': 27, 'max_depth': 15}. Best is trial 42 with value: 0.9910082017909533.\u001b[0m\n",
      "Precision: 0.997179125528914 \n",
      "Recall: 0.9302631578947368 \n",
      "Aging Rate: 0.4664473684210526\n",
      "Precision: 0.9985935302390999 \n",
      "Recall: 0.9342105263157895 \n",
      "Aging Rate: 0.4677631578947368\n",
      "Precision: 0.9985974754558204 \n",
      "Recall: 0.9368421052631579 \n",
      "Aging Rate: 0.46907894736842104\n",
      "\u001b[32m[I 2021-12-13 13:13:09,229]\u001b[0m Trial 48 finished with value: 0.9739586057647097 and parameters: {'n_estimators': 800, 'min_samples_split': 27, 'max_depth': 21}. Best is trial 42 with value: 0.9910082017909533.\u001b[0m\n",
      "Precision: 1.0 \n",
      "Recall: 0.9276315789473685 \n",
      "Aging Rate: 0.46381578947368424\n",
      "Precision: 1.0 \n",
      "Recall: 0.9460526315789474 \n",
      "Aging Rate: 0.4730263157894737\n"
     ]
    },
    {
     "name": "stderr",
     "output_type": "stream",
     "text": [
      "C:\\Users\\user\\anaconda3\\envs\\aging\\lib\\site-packages\\optuna\\samplers\\_tpe\\sampler.py:253: ExperimentalWarning: ``multivariate`` option is an experimental feature. The interface can change in the future.\n",
      "  ExperimentalWarning,\n",
      "\u001b[32m[I 2021-12-13 13:13:10,530]\u001b[0m A new study created in memory with name: no-name-4b3b1723-9223-4ad5-a79f-287969fec3b8\u001b[0m\n"
     ]
    },
    {
     "name": "stdout",
     "output_type": "stream",
     "text": [
      "Precision: 1.0 \n",
      "Recall: 0.9328947368421052 \n",
      "Aging Rate: 0.4664473684210526\n",
      "\u001b[32m[I 2021-12-13 13:13:10,483]\u001b[0m Trial 49 finished with value: 0.9757748597061315 and parameters: {'n_estimators': 200, 'min_samples_split': 7, 'max_depth': 18}. Best is trial 42 with value: 0.9910082017909533.\u001b[0m\n",
      "Sampler is TPESampler\n",
      "Dataset8 :\n"
     ]
    },
    {
     "name": "stderr",
     "output_type": "stream",
     "text": [
      "C:\\Users\\user\\anaconda3\\envs\\aging\\lib\\site-packages\\optuna\\progress_bar.py:47: ExperimentalWarning: Progress bar is experimental (supported from v1.2.0). The interface can change in the future.\n",
      "  self._init_valid()\n"
     ]
    },
    {
     "data": {
      "application/vnd.jupyter.widget-view+json": {
       "model_id": "b79f192af8d846b7bea3bf8b3ee12141",
       "version_major": 2,
       "version_minor": 0
      },
      "text/plain": [
       "  0%|          | 0/50 [00:00<?, ?it/s]"
      ]
     },
     "metadata": {},
     "output_type": "display_data"
    },
    {
     "name": "stdout",
     "output_type": "stream",
     "text": [
      "Precision: 0.9945578231292517 \n",
      "Recall: 0.9618421052631579 \n",
      "Aging Rate: 0.48355263157894735\n",
      "Precision: 0.9986244841815681 \n",
      "Recall: 0.9552631578947368 \n",
      "Aging Rate: 0.47828947368421054\n",
      "Precision: 1.0 \n",
      "Recall: 0.9592105263157895 \n",
      "Aging Rate: 0.47960526315789476\n",
      "\u001b[32m[I 2021-12-13 13:13:11,381]\u001b[0m Trial 0 finished with value: 0.9833390906852202 and parameters: {'n_estimators': 100, 'min_samples_split': 27, 'max_depth': 18}. Best is trial 0 with value: 0.9833390906852202.\u001b[0m\n",
      "Precision: 0.9986376021798365 \n",
      "Recall: 0.9644736842105263 \n",
      "Aging Rate: 0.48289473684210527\n",
      "Precision: 0.9986357435197817 \n",
      "Recall: 0.9631578947368421 \n",
      "Aging Rate: 0.48223684210526313\n",
      "Precision: 0.9973082099596231 \n",
      "Recall: 0.975 \n",
      "Aging Rate: 0.4888157894736842\n",
      "\u001b[32m[I 2021-12-13 13:13:12,271]\u001b[0m Trial 1 finished with value: 0.986930153832699 and parameters: {'n_estimators': 100, 'min_samples_split': 7, 'max_depth': 15}. Best is trial 1 with value: 0.986930153832699.\u001b[0m\n",
      "Precision: 0.9931880108991825 \n",
      "Recall: 0.9592105263157895 \n",
      "Aging Rate: 0.48289473684210527\n",
      "Precision: 0.9986541049798116 \n",
      "Recall: 0.9763157894736842 \n",
      "Aging Rate: 0.4888157894736842\n",
      "Precision: 0.995850622406639 \n",
      "Recall: 0.9473684210526315 \n",
      "Aging Rate: 0.4756578947368421\n",
      "\u001b[32m[I 2021-12-13 13:13:14,331]\u001b[0m Trial 2 finished with value: 0.9830045152322993 and parameters: {'n_estimators': 400, 'min_samples_split': 12, 'max_depth': 12}. Best is trial 1 with value: 0.986930153832699.\u001b[0m\n",
      "Precision: 0.8548168249660787 \n",
      "Recall: 0.8289473684210527 \n",
      "Aging Rate: 0.48486842105263156\n",
      "Precision: 0.8519021739130435 \n",
      "Recall: 0.825 \n",
      "Aging Rate: 0.4842105263157895\n",
      "Precision: 0.8788732394366198 \n",
      "Recall: 0.8210526315789474 \n",
      "Aging Rate: 0.46710526315789475\n",
      "\u001b[32m[I 2021-12-13 13:13:17,722]\u001b[0m Trial 3 finished with value: 0.8481601187239471 and parameters: {'n_estimators': 800, 'min_samples_split': 22, 'max_depth': 3}. Best is trial 1 with value: 0.986930153832699.\u001b[0m\n",
      "Precision: 1.0 \n",
      "Recall: 0.9723684210526315 \n",
      "Aging Rate: 0.4861842105263158\n",
      "Precision: 0.9946452476572959 \n",
      "Recall: 0.9776315789473684 \n",
      "Aging Rate: 0.49144736842105263\n",
      "Precision: 0.9973045822102425 \n",
      "Recall: 0.9736842105263158 \n",
      "Aging Rate: 0.4881578947368421\n",
      "\u001b[32m[I 2021-12-13 13:13:20,407]\u001b[0m Trial 4 finished with value: 0.9889988194371185 and parameters: {'n_estimators': 600, 'min_samples_split': 2, 'max_depth': 15}. Best is trial 4 with value: 0.9889988194371185.\u001b[0m\n",
      "Precision: 0.83994708994709 \n",
      "Recall: 0.8355263157894737 \n",
      "Aging Rate: 0.49736842105263157\n",
      "Precision: 0.8326585695006747 \n",
      "Recall: 0.8118421052631579 \n",
      "Aging Rate: 0.4875\n",
      "Precision: 0.8351498637602179 \n",
      "Recall: 0.8065789473684211 \n",
      "Aging Rate: 0.48289473684210527\n",
      "\u001b[32m[I 2021-12-13 13:13:21,644]\u001b[0m Trial 5 finished with value: 0.8293423720357965 and parameters: {'n_estimators': 200, 'min_samples_split': 17, 'max_depth': 3}. Best is trial 4 with value: 0.9889988194371185.\u001b[0m\n",
      "Precision: 0.9752066115702479 \n",
      "Recall: 0.9315789473684211 \n",
      "Aging Rate: 0.4776315789473684\n",
      "Precision: 0.991701244813278 \n",
      "Recall: 0.9434210526315789 \n",
      "Aging Rate: 0.4756578947368421\n",
      "Precision: 0.9849315068493151 \n",
      "Recall: 0.9460526315789474 \n",
      "Aging Rate: 0.48026315789473684\n",
      "\u001b[32m[I 2021-12-13 13:13:23,903]\u001b[0m Trial 6 finished with value: 0.967790491202833 and parameters: {'n_estimators': 500, 'min_samples_split': 27, 'max_depth': 9}. Best is trial 4 with value: 0.9889988194371185.\u001b[0m\n",
      "Precision: 0.998639455782313 \n",
      "Recall: 0.9657894736842105 \n",
      "Aging Rate: 0.48355263157894735\n",
      "Precision: 0.9986541049798116 \n",
      "Recall: 0.9763157894736842 \n",
      "Aging Rate: 0.4888157894736842\n",
      "Precision: 1.0 \n",
      "Recall: 0.95 \n",
      "Aging Rate: 0.475\n",
      "\u001b[32m[I 2021-12-13 13:13:26,267]\u001b[0m Trial 7 finished with value: 0.9861532043999747 and parameters: {'n_estimators': 500, 'min_samples_split': 12, 'max_depth': 15}. Best is trial 4 with value: 0.9889988194371185.\u001b[0m\n",
      "Precision: 0.9986091794158554 \n",
      "Recall: 0.9447368421052632 \n",
      "Aging Rate: 0.4730263157894737\n",
      "Precision: 0.998641304347826 \n",
      "Recall: 0.9671052631578947 \n",
      "Aging Rate: 0.4842105263157895\n",
      "Precision: 0.9986244841815681 \n",
      "Recall: 0.9552631578947368 \n",
      "Aging Rate: 0.47828947368421054\n",
      "\u001b[32m[I 2021-12-13 13:13:27,554]\u001b[0m Trial 8 finished with value: 0.9827146485857621 and parameters: {'n_estimators': 200, 'min_samples_split': 27, 'max_depth': 21}. Best is trial 4 with value: 0.9889988194371185.\u001b[0m\n",
      "Precision: 0.9946091644204852 \n",
      "Recall: 0.9710526315789474 \n",
      "Aging Rate: 0.4881578947368421\n",
      "Precision: 0.9946737683089214 \n",
      "Recall: 0.9828947368421053 \n",
      "Aging Rate: 0.49407894736842106\n",
      "Precision: 0.9986666666666667 \n",
      "Recall: 0.9855263157894737 \n",
      "Aging Rate: 0.4934210526315789\n",
      "\u001b[32m[I 2021-12-13 13:13:30,789]\u001b[0m Trial 9 finished with value: 0.9900983964290303 and parameters: {'n_estimators': 700, 'min_samples_split': 2, 'max_depth': 15}. Best is trial 9 with value: 0.9900983964290303.\u001b[0m\n",
      "Precision: 0.9133858267716536 \n",
      "Recall: 0.9157894736842105 \n",
      "Aging Rate: 0.5013157894736842\n",
      "Precision: 0.9404600811907984 \n",
      "Recall: 0.9144736842105263 \n",
      "Aging Rate: 0.4861842105263158\n",
      "Precision: 0.9193758127438232 \n",
      "Recall: 0.9302631578947368 \n",
      "Aging Rate: 0.5059210526315789\n",
      "\u001b[32m[I 2021-12-13 13:13:34,445]\u001b[0m Trial 10 finished with value: 0.9228173407617138 and parameters: {'n_estimators': 800, 'min_samples_split': 2, 'max_depth': 6}. Best is trial 9 with value: 0.9900983964290303.\u001b[0m\n",
      "Precision: 0.9986431478968792 \n",
      "Recall: 0.968421052631579 \n",
      "Aging Rate: 0.48486842105263156\n",
      "Precision: 0.9946524064171123 \n",
      "Recall: 0.9789473684210527 \n",
      "Aging Rate: 0.4921052631578947\n",
      "Precision: 0.9972862957937585 \n",
      "Recall: 0.9671052631578947 \n",
      "Aging Rate: 0.48486842105263156\n",
      "\u001b[32m[I 2021-12-13 13:13:37,708]\u001b[0m Trial 11 finished with value: 0.9875652355407323 and parameters: {'n_estimators': 700, 'min_samples_split': 7, 'max_depth': 21}. Best is trial 9 with value: 0.9900983964290303.\u001b[0m\n",
      "Precision: 0.9973368841544608 \n",
      "Recall: 0.9855263157894737 \n",
      "Aging Rate: 0.49407894736842106\n",
      "Precision: 0.9986504723346828 \n",
      "Recall: 0.9736842105263158 \n",
      "Aging Rate: 0.4875\n",
      "Precision: 0.9986504723346828 \n",
      "Recall: 0.9736842105263158 \n",
      "Aging Rate: 0.4875\n",
      "\u001b[32m[I 2021-12-13 13:13:41,391]\u001b[0m Trial 12 finished with value: 0.9906951858244216 and parameters: {'n_estimators': 800, 'min_samples_split': 2, 'max_depth': 15}. Best is trial 12 with value: 0.9906951858244216.\u001b[0m\n",
      "Precision: 0.9959677419354839 \n",
      "Recall: 0.975 \n",
      "Aging Rate: 0.48947368421052634\n",
      "Precision: 0.997289972899729 \n",
      "Recall: 0.968421052631579 \n",
      "Aging Rate: 0.4855263157894737\n",
      "Precision: 0.9958960328317373 \n",
      "Recall: 0.9578947368421052 \n",
      "Aging Rate: 0.48092105263157897\n",
      "\u001b[32m[I 2021-12-13 13:13:45,099]\u001b[0m Trial 13 finished with value: 0.985630119895683 and parameters: {'n_estimators': 800, 'min_samples_split': 12, 'max_depth': 12}. Best is trial 12 with value: 0.9906951858244216.\u001b[0m\n",
      "Precision: 0.9959514170040485 \n",
      "Recall: 0.9710526315789474 \n",
      "Aging Rate: 0.4875\n",
      "Precision: 0.997289972899729 \n",
      "Recall: 0.968421052631579 \n",
      "Aging Rate: 0.4855263157894737\n",
      "Precision: 0.9945872801082544 \n",
      "Recall: 0.9671052631578947 \n",
      "Aging Rate: 0.4861842105263158\n",
      "\u001b[32m[I 2021-12-13 13:13:48,370]\u001b[0m Trial 14 finished with value: 0.9860195790187669 and parameters: {'n_estimators': 700, 'min_samples_split': 2, 'max_depth': 12}. Best is trial 12 with value: 0.9906951858244216.\u001b[0m\n",
      "Precision: 0.9986149584487535 \n",
      "Recall: 0.9486842105263158 \n",
      "Aging Rate: 0.475\n",
      "Precision: 0.9986111111111111 \n",
      "Recall: 0.9460526315789474 \n",
      "Aging Rate: 0.47368421052631576\n",
      "Precision: 0.9972375690607734 \n",
      "Recall: 0.95 \n",
      "Aging Rate: 0.4763157894736842\n",
      "\u001b[32m[I 2021-12-13 13:13:51,682]\u001b[0m Trial 15 finished with value: 0.9795921879717527 and parameters: {'n_estimators': 700, 'min_samples_split': 22, 'max_depth': 21}. Best is trial 12 with value: 0.9906951858244216.\u001b[0m\n",
      "Precision: 0.9946524064171123 \n",
      "Recall: 0.9789473684210527 \n",
      "Aging Rate: 0.4921052631578947\n",
      "Precision: 1.0 \n",
      "Recall: 0.9815789473684211 \n",
      "Aging Rate: 0.49078947368421055\n",
      "Precision: 0.9960264900662251 \n",
      "Recall: 0.9894736842105263 \n",
      "Aging Rate: 0.4967105263157895\n",
      "\u001b[32m[I 2021-12-13 13:13:55,386]\u001b[0m Trial 16 finished with value: 0.9919625623348916 and parameters: {'n_estimators': 800, 'min_samples_split': 2, 'max_depth': 18}. Best is trial 16 with value: 0.9919625623348916.\u001b[0m\n",
      "Precision: 0.9986522911051213 \n",
      "Recall: 0.975 \n",
      "Aging Rate: 0.4881578947368421\n",
      "Precision: 1.0 \n",
      "Recall: 0.9723684210526315 \n",
      "Aging Rate: 0.4861842105263158\n"
     ]
    },
    {
     "name": "stdout",
     "output_type": "stream",
     "text": [
      "Precision: 1.0 \n",
      "Recall: 0.9828947368421053 \n",
      "Aging Rate: 0.49144736842105263\n",
      "\u001b[32m[I 2021-12-13 13:13:58,778]\u001b[0m Trial 17 finished with value: 0.991217970907309 and parameters: {'n_estimators': 700, 'min_samples_split': 2, 'max_depth': 21}. Best is trial 16 with value: 0.9919625623348916.\u001b[0m\n",
      "Precision: 0.99734395750332 \n",
      "Recall: 0.9881578947368421 \n",
      "Aging Rate: 0.4953947368421053\n",
      "Precision: 0.9973404255319149 \n",
      "Recall: 0.9868421052631579 \n",
      "Aging Rate: 0.49473684210526314\n",
      "Precision: 1.0 \n",
      "Recall: 0.9828947368421053 \n",
      "Aging Rate: 0.49144736842105263\n",
      "\u001b[32m[I 2021-12-13 13:14:01,745]\u001b[0m Trial 18 finished with value: 0.9937755694125414 and parameters: {'n_estimators': 600, 'min_samples_split': 2, 'max_depth': 21}. Best is trial 18 with value: 0.9937755694125414.\u001b[0m\n",
      "Precision: 0.8312236286919831 \n",
      "Recall: 0.7776315789473685 \n",
      "Aging Rate: 0.4677631578947368\n",
      "Precision: 0.8510928961748634 \n",
      "Recall: 0.8197368421052632 \n",
      "Aging Rate: 0.48157894736842105\n",
      "Precision: 0.8423988842398884 \n",
      "Recall: 0.7947368421052632 \n",
      "Aging Rate: 0.47171052631578947\n",
      "\u001b[32m[I 2021-12-13 13:14:03,737]\u001b[0m Trial 19 finished with value: 0.8250760503572939 and parameters: {'n_estimators': 400, 'min_samples_split': 2, 'max_depth': 3}. Best is trial 18 with value: 0.9937755694125414.\u001b[0m\n",
      "Precision: 0.9986559139784946 \n",
      "Recall: 0.9776315789473684 \n",
      "Aging Rate: 0.48947368421052634\n",
      "Precision: 0.9946666666666667 \n",
      "Recall: 0.9815789473684211 \n",
      "Aging Rate: 0.4934210526315789\n",
      "Precision: 1.0 \n",
      "Recall: 0.9842105263157894 \n",
      "Aging Rate: 0.4921052631578947\n",
      "\u001b[32m[I 2021-12-13 13:14:06,249]\u001b[0m Trial 20 finished with value: 0.9917188728136358 and parameters: {'n_estimators': 500, 'min_samples_split': 2, 'max_depth': 21}. Best is trial 18 with value: 0.9937755694125414.\u001b[0m\n",
      "Precision: 1.0 \n",
      "Recall: 0.9789473684210527 \n",
      "Aging Rate: 0.48947368421052634\n",
      "Precision: 1.0 \n",
      "Recall: 0.975 \n",
      "Aging Rate: 0.4875\n",
      "Precision: 1.0 \n",
      "Recall: 0.9815789473684211 \n",
      "Aging Rate: 0.49078947368421055\n",
      "\u001b[32m[I 2021-12-13 13:14:07,932]\u001b[0m Trial 21 finished with value: 0.9921535018820934 and parameters: {'n_estimators': 300, 'min_samples_split': 2, 'max_depth': 21}. Best is trial 18 with value: 0.9937755694125414.\u001b[0m\n",
      "Precision: 0.996005326231691 \n",
      "Recall: 0.9842105263157894 \n",
      "Aging Rate: 0.49407894736842106\n",
      "Precision: 1.0 \n",
      "Recall: 0.9802631578947368 \n",
      "Aging Rate: 0.4901315789473684\n",
      "Precision: 0.9986666666666667 \n",
      "Recall: 0.9855263157894737 \n",
      "Aging Rate: 0.4934210526315789\n",
      "\u001b[32m[I 2021-12-13 13:14:09,208]\u001b[0m Trial 22 finished with value: 0.9928088584340965 and parameters: {'n_estimators': 200, 'min_samples_split': 2, 'max_depth': 21}. Best is trial 18 with value: 0.9937755694125414.\u001b[0m\n",
      "Precision: 0.9947229551451188 \n",
      "Recall: 0.9921052631578947 \n",
      "Aging Rate: 0.4986842105263158\n",
      "Precision: 0.9986595174262735 \n",
      "Recall: 0.9802631578947368 \n",
      "Aging Rate: 0.49078947368421055\n",
      "Precision: 1.0 \n",
      "Recall: 0.9842105263157894 \n",
      "Aging Rate: 0.4921052631578947\n",
      "\u001b[32m[I 2021-12-13 13:14:10,082]\u001b[0m Trial 23 finished with value: 0.9933315257833382 and parameters: {'n_estimators': 100, 'min_samples_split': 2, 'max_depth': 21}. Best is trial 18 with value: 0.9937755694125414.\u001b[0m\n",
      "Precision: 1.0 \n",
      "Recall: 0.9644736842105263 \n",
      "Aging Rate: 0.48223684210526313\n",
      "Precision: 0.9986338797814208 \n",
      "Recall: 0.9618421052631579 \n",
      "Aging Rate: 0.48157894736842105\n",
      "Precision: 1.0 \n",
      "Recall: 0.9578947368421052 \n",
      "Aging Rate: 0.4789473684210526\n",
      "\u001b[32m[I 2021-12-13 13:14:10,951]\u001b[0m Trial 24 finished with value: 0.9854680972670513 and parameters: {'n_estimators': 100, 'min_samples_split': 12, 'max_depth': 21}. Best is trial 18 with value: 0.9937755694125414.\u001b[0m\n",
      "Precision: 0.9959946595460614 \n",
      "Recall: 0.9815789473684211 \n",
      "Aging Rate: 0.49276315789473685\n",
      "Precision: 0.9973333333333333 \n",
      "Recall: 0.9842105263157894 \n",
      "Aging Rate: 0.4934210526315789\n",
      "Precision: 0.9959893048128342 \n",
      "Recall: 0.9802631578947368 \n",
      "Aging Rate: 0.4921052631578947\n",
      "\u001b[32m[I 2021-12-13 13:14:11,847]\u001b[0m Trial 25 finished with value: 0.9911985270139417 and parameters: {'n_estimators': 100, 'min_samples_split': 2, 'max_depth': 18}. Best is trial 18 with value: 0.9937755694125414.\u001b[0m\n",
      "Precision: 0.997275204359673 \n",
      "Recall: 0.9631578947368421 \n",
      "Aging Rate: 0.48289473684210527\n",
      "Precision: 1.0 \n",
      "Recall: 0.9605263157894737 \n",
      "Aging Rate: 0.48026315789473684\n",
      "Precision: 0.9986376021798365 \n",
      "Recall: 0.9644736842105263 \n",
      "Aging Rate: 0.48289473684210527\n",
      "\u001b[32m[I 2021-12-13 13:14:13,950]\u001b[0m Trial 26 finished with value: 0.9854008278562856 and parameters: {'n_estimators': 400, 'min_samples_split': 12, 'max_depth': 21}. Best is trial 18 with value: 0.9937755694125414.\u001b[0m\n",
      "Precision: 0.9973118279569892 \n",
      "Recall: 0.9763157894736842 \n",
      "Aging Rate: 0.48947368421052634\n",
      "Precision: 1.0 \n",
      "Recall: 0.9855263157894737 \n",
      "Aging Rate: 0.49276315789473685\n",
      "Precision: 0.9986504723346828 \n",
      "Recall: 0.9736842105263158 \n",
      "Aging Rate: 0.4875\n",
      "\u001b[32m[I 2021-12-13 13:14:14,826]\u001b[0m Trial 27 finished with value: 0.9913024173111199 and parameters: {'n_estimators': 100, 'min_samples_split': 2, 'max_depth': 21}. Best is trial 18 with value: 0.9937755694125414.\u001b[0m\n",
      "Precision: 0.9769647696476965 \n",
      "Recall: 0.9486842105263158 \n",
      "Aging Rate: 0.4855263157894737\n",
      "Precision: 0.9742895805142084 \n",
      "Recall: 0.9473684210526315 \n",
      "Aging Rate: 0.4861842105263158\n",
      "Precision: 0.9796472184531886 \n",
      "Recall: 0.95 \n",
      "Aging Rate: 0.48486842105263156\n",
      "\u001b[32m[I 2021-12-13 13:14:16,090]\u001b[0m Trial 28 finished with value: 0.9665928328124428 and parameters: {'n_estimators': 200, 'min_samples_split': 2, 'max_depth': 9}. Best is trial 18 with value: 0.9937755694125414.\u001b[0m\n",
      "Precision: 1.0 \n",
      "Recall: 0.9776315789473684 \n",
      "Aging Rate: 0.4888157894736842\n",
      "Precision: 0.9946524064171123 \n",
      "Recall: 0.9789473684210527 \n",
      "Aging Rate: 0.4921052631578947\n",
      "Precision: 0.9986541049798116 \n",
      "Recall: 0.9763157894736842 \n",
      "Aging Rate: 0.4888157894736842\n",
      "\u001b[32m[I 2021-12-13 13:14:18,164]\u001b[0m Trial 29 finished with value: 0.9904222684376721 and parameters: {'n_estimators': 400, 'min_samples_split': 2, 'max_depth': 15}. Best is trial 18 with value: 0.9937755694125414.\u001b[0m\n",
      "Precision: 0.9944903581267218 \n",
      "Recall: 0.95 \n",
      "Aging Rate: 0.4776315789473684\n",
      "Precision: 0.997229916897507 \n",
      "Recall: 0.9473684210526315 \n",
      "Aging Rate: 0.475\n",
      "Precision: 0.9972640218878249 \n",
      "Recall: 0.9592105263157895 \n",
      "Aging Rate: 0.48092105263157897\n",
      "\u001b[32m[I 2021-12-13 13:14:19,055]\u001b[0m Trial 30 finished with value: 0.9799699859409386 and parameters: {'n_estimators': 100, 'min_samples_split': 27, 'max_depth': 12}. Best is trial 18 with value: 0.9937755694125414.\u001b[0m\n",
      "Precision: 0.9986320109439124 \n",
      "Recall: 0.9605263157894737 \n",
      "Aging Rate: 0.48092105263157897\n",
      "Precision: 1.0 \n",
      "Recall: 0.9802631578947368 \n",
      "Aging Rate: 0.4901315789473684\n",
      "Precision: 0.992 \n",
      "Recall: 0.9789473684210527 \n",
      "Aging Rate: 0.4934210526315789\n",
      "\u001b[32m[I 2021-12-13 13:14:20,763]\u001b[0m Trial 31 finished with value: 0.9882118499453941 and parameters: {'n_estimators': 300, 'min_samples_split': 2, 'max_depth': 21}. Best is trial 18 with value: 0.9937755694125414.\u001b[0m\n",
      "Precision: 0.9973368841544608 \n",
      "Recall: 0.9855263157894737 \n",
      "Aging Rate: 0.49407894736842106\n",
      "Precision: 0.9986522911051213 \n",
      "Recall: 0.975 \n",
      "Aging Rate: 0.4881578947368421\n",
      "Precision: 0.9973509933774835 \n",
      "Recall: 0.9907894736842106 \n",
      "Aging Rate: 0.4967105263157895\n",
      "\u001b[32m[I 2021-12-13 13:14:22,460]\u001b[0m Trial 32 finished with value: 0.9926792935323347 and parameters: {'n_estimators': 300, 'min_samples_split': 2, 'max_depth': 21}. Best is trial 18 with value: 0.9937755694125414.\u001b[0m\n",
      "Precision: 1.0 \n",
      "Recall: 0.9697368421052631 \n",
      "Aging Rate: 0.48486842105263156\n",
      "Precision: 1.0 \n",
      "Recall: 0.9723684210526315 \n",
      "Aging Rate: 0.4861842105263158\n",
      "Precision: 0.9986486486486487 \n",
      "Recall: 0.9723684210526315 \n",
      "Aging Rate: 0.4868421052631579\n",
      "\u001b[32m[I 2021-12-13 13:14:23,731]\u001b[0m Trial 33 finished with value: 0.9892631102921071 and parameters: {'n_estimators': 200, 'min_samples_split': 7, 'max_depth': 21}. Best is trial 18 with value: 0.9937755694125414.\u001b[0m\n",
      "Precision: 0.9946666666666667 \n",
      "Recall: 0.9815789473684211 \n",
      "Aging Rate: 0.4934210526315789\n",
      "Precision: 0.9986577181208054 \n",
      "Recall: 0.9789473684210527 \n",
      "Aging Rate: 0.4901315789473684\n",
      "Precision: 0.9973118279569892 \n",
      "Recall: 0.9763157894736842 \n",
      "Aging Rate: 0.48947368421052634\n",
      "\u001b[32m[I 2021-12-13 13:14:24,988]\u001b[0m Trial 34 finished with value: 0.9903454370006511 and parameters: {'n_estimators': 200, 'min_samples_split': 2, 'max_depth': 21}. Best is trial 18 with value: 0.9937755694125414.\u001b[0m\n"
     ]
    },
    {
     "name": "stdout",
     "output_type": "stream",
     "text": [
      "Precision: 0.9986559139784946 \n",
      "Recall: 0.9776315789473684 \n",
      "Aging Rate: 0.48947368421052634\n",
      "Precision: 0.9986631016042781 \n",
      "Recall: 0.9828947368421053 \n",
      "Aging Rate: 0.4921052631578947\n",
      "Precision: 0.9986702127659575 \n",
      "Recall: 0.9881578947368421 \n",
      "Aging Rate: 0.49473684210526314\n",
      "\u001b[32m[I 2021-12-13 13:14:26,255]\u001b[0m Trial 35 finished with value: 0.9929241442464317 and parameters: {'n_estimators': 200, 'min_samples_split': 2, 'max_depth': 15}. Best is trial 18 with value: 0.9937755694125414.\u001b[0m\n",
      "Precision: 1.0 \n",
      "Recall: 0.9526315789473684 \n",
      "Aging Rate: 0.4763157894736842\n",
      "Precision: 0.9986206896551724 \n",
      "Recall: 0.9526315789473684 \n",
      "Aging Rate: 0.4769736842105263\n",
      "Precision: 0.9972862957937585 \n",
      "Recall: 0.9671052631578947 \n",
      "Aging Rate: 0.48486842105263156\n",
      "\u001b[32m[I 2021-12-13 13:14:27,500]\u001b[0m Trial 36 finished with value: 0.9833941969415525 and parameters: {'n_estimators': 200, 'min_samples_split': 12, 'max_depth': 15}. Best is trial 18 with value: 0.9937755694125414.\u001b[0m\n",
      "Precision: 1.0 \n",
      "Recall: 0.9671052631578947 \n",
      "Aging Rate: 0.48355263157894735\n",
      "Precision: 1.0 \n",
      "Recall: 0.9618421052631579 \n",
      "Aging Rate: 0.48092105263157897\n",
      "Precision: 1.0 \n",
      "Recall: 0.9657894736842105 \n",
      "Aging Rate: 0.48289473684210527\n",
      "\u001b[32m[I 2021-12-13 13:14:29,203]\u001b[0m Trial 37 finished with value: 0.9870770138185558 and parameters: {'n_estimators': 300, 'min_samples_split': 7, 'max_depth': 15}. Best is trial 18 with value: 0.9937755694125414.\u001b[0m\n",
      "Precision: 0.9986449864498645 \n",
      "Recall: 0.9697368421052631 \n",
      "Aging Rate: 0.4855263157894737\n",
      "Precision: 0.998639455782313 \n",
      "Recall: 0.9657894736842105 \n",
      "Aging Rate: 0.48355263157894735\n",
      "Precision: 1.0 \n",
      "Recall: 0.9802631578947368 \n",
      "Aging Rate: 0.4901315789473684\n",
      "\u001b[32m[I 2021-12-13 13:14:30,487]\u001b[0m Trial 38 finished with value: 0.989134863593217 and parameters: {'n_estimators': 200, 'min_samples_split': 2, 'max_depth': 15}. Best is trial 18 with value: 0.9937755694125414.\u001b[0m\n",
      "Precision: 0.9271523178807947 \n",
      "Recall: 0.9210526315789473 \n",
      "Aging Rate: 0.4967105263157895\n",
      "Precision: 0.9213917525773195 \n",
      "Recall: 0.9407894736842105 \n",
      "Aging Rate: 0.5105263157894737\n",
      "Precision: 0.93296853625171 \n",
      "Recall: 0.8973684210526316 \n",
      "Aging Rate: 0.48092105263157897\n",
      "\u001b[32m[I 2021-12-13 13:14:33,078]\u001b[0m Trial 39 finished with value: 0.9243536395551047 and parameters: {'n_estimators': 600, 'min_samples_split': 17, 'max_depth': 6}. Best is trial 18 with value: 0.9937755694125414.\u001b[0m\n",
      "Precision: 0.9986577181208054 \n",
      "Recall: 0.9789473684210527 \n",
      "Aging Rate: 0.4901315789473684\n",
      "Precision: 0.9946380697050938 \n",
      "Recall: 0.9763157894736842 \n",
      "Aging Rate: 0.49078947368421055\n",
      "Precision: 1.0 \n",
      "Recall: 0.9842105263157894 \n",
      "Aging Rate: 0.4921052631578947\n",
      "\u001b[32m[I 2021-12-13 13:14:33,958]\u001b[0m Trial 40 finished with value: 0.9912307784945443 and parameters: {'n_estimators': 100, 'min_samples_split': 2, 'max_depth': 18}. Best is trial 18 with value: 0.9937755694125414.\u001b[0m\n",
      "Precision: 0.9973190348525469 \n",
      "Recall: 0.9789473684210527 \n",
      "Aging Rate: 0.49078947368421055\n",
      "Precision: 0.9973226238286479 \n",
      "Recall: 0.9802631578947368 \n",
      "Aging Rate: 0.49144736842105263\n",
      "Precision: 0.997289972899729 \n",
      "Recall: 0.968421052631579 \n",
      "Aging Rate: 0.4855263157894737\n",
      "\u001b[32m[I 2021-12-13 13:14:35,653]\u001b[0m Trial 41 finished with value: 0.9894801859548165 and parameters: {'n_estimators': 300, 'min_samples_split': 2, 'max_depth': 18}. Best is trial 18 with value: 0.9937755694125414.\u001b[0m\n",
      "Precision: 1.0 \n",
      "Recall: 0.9736842105263158 \n",
      "Aging Rate: 0.4868421052631579\n",
      "Precision: 1.0 \n",
      "Recall: 0.968421052631579 \n",
      "Aging Rate: 0.4842105263157895\n",
      "Precision: 0.998639455782313 \n",
      "Recall: 0.9657894736842105 \n",
      "Aging Rate: 0.48355263157894735\n",
      "\u001b[32m[I 2021-12-13 13:14:38,001]\u001b[0m Trial 42 finished with value: 0.98844008108781 and parameters: {'n_estimators': 500, 'min_samples_split': 7, 'max_depth': 21}. Best is trial 18 with value: 0.9937755694125414.\u001b[0m\n",
      "Precision: 0.8222222222222222 \n",
      "Recall: 0.8276315789473684 \n",
      "Aging Rate: 0.5032894736842105\n",
      "Precision: 0.8326585695006747 \n",
      "Recall: 0.8118421052631579 \n",
      "Aging Rate: 0.4875\n",
      "Precision: 0.8540245566166439 \n",
      "Recall: 0.8236842105263158 \n",
      "Aging Rate: 0.48223684210526313\n",
      "\u001b[32m[I 2021-12-13 13:14:39,839]\u001b[0m Trial 43 finished with value: 0.8306840419538527 and parameters: {'n_estimators': 400, 'min_samples_split': 32, 'max_depth': 3}. Best is trial 18 with value: 0.9937755694125414.\u001b[0m\n",
      "Precision: 0.9931972789115646 \n",
      "Recall: 0.9605263157894737 \n",
      "Aging Rate: 0.48355263157894735\n",
      "Precision: 0.9986282578875172 \n",
      "Recall: 0.9578947368421052 \n",
      "Aging Rate: 0.47960526315789476\n",
      "Precision: 0.9931600547195623 \n",
      "Recall: 0.9552631578947368 \n",
      "Aging Rate: 0.48092105263157897\n",
      "\u001b[32m[I 2021-12-13 13:14:42,823]\u001b[0m Trial 44 finished with value: 0.981309857878498 and parameters: {'n_estimators': 700, 'min_samples_split': 27, 'max_depth': 12}. Best is trial 18 with value: 0.9937755694125414.\u001b[0m\n",
      "Precision: 0.9959128065395095 \n",
      "Recall: 0.9618421052631579 \n",
      "Aging Rate: 0.48289473684210527\n",
      "Precision: 0.9932432432432432 \n",
      "Recall: 0.9671052631578947 \n",
      "Aging Rate: 0.4868421052631579\n",
      "Precision: 0.9944827586206897 \n",
      "Recall: 0.9486842105263158 \n",
      "Aging Rate: 0.4769736842105263\n",
      "\u001b[32m[I 2021-12-13 13:14:43,693]\u001b[0m Trial 45 finished with value: 0.981513249227096 and parameters: {'n_estimators': 100, 'min_samples_split': 7, 'max_depth': 12}. Best is trial 18 with value: 0.9937755694125414.\u001b[0m\n",
      "Precision: 1.0 \n",
      "Recall: 0.9802631578947368 \n",
      "Aging Rate: 0.4901315789473684\n",
      "Precision: 0.9986504723346828 \n",
      "Recall: 0.9736842105263158 \n",
      "Aging Rate: 0.4875\n",
      "Precision: 1.0 \n",
      "Recall: 0.9894736842105263 \n",
      "Aging Rate: 0.49473684210526314\n",
      "\u001b[32m[I 2021-12-13 13:14:44,587]\u001b[0m Trial 46 finished with value: 0.9928350453810668 and parameters: {'n_estimators': 100, 'min_samples_split': 2, 'max_depth': 21}. Best is trial 18 with value: 0.9937755694125414.\u001b[0m\n",
      "Precision: 0.9960212201591512 \n",
      "Recall: 0.9881578947368421 \n",
      "Aging Rate: 0.49605263157894736\n",
      "Precision: 0.9986666666666667 \n",
      "Recall: 0.9855263157894737 \n",
      "Aging Rate: 0.4934210526315789\n",
      "Precision: 0.9986559139784946 \n",
      "Recall: 0.9776315789473684 \n",
      "Aging Rate: 0.48947368421052634\n",
      "\u001b[32m[I 2021-12-13 13:14:45,490]\u001b[0m Trial 47 finished with value: 0.9926852649679464 and parameters: {'n_estimators': 100, 'min_samples_split': 2, 'max_depth': 21}. Best is trial 18 with value: 0.9937755694125414.\u001b[0m\n",
      "Precision: 0.9986301369863013 \n",
      "Recall: 0.9592105263157895 \n",
      "Aging Rate: 0.48026315789473684\n",
      "Precision: 1.0 \n",
      "Recall: 0.9697368421052631 \n",
      "Aging Rate: 0.48486842105263156\n",
      "Precision: 0.9973082099596231 \n",
      "Recall: 0.975 \n",
      "Aging Rate: 0.4888157894736842\n",
      "\u001b[32m[I 2021-12-13 13:14:46,369]\u001b[0m Trial 48 finished with value: 0.9873739903332921 and parameters: {'n_estimators': 100, 'min_samples_split': 7, 'max_depth': 21}. Best is trial 18 with value: 0.9937755694125414.\u001b[0m\n",
      "Precision: 0.9986595174262735 \n",
      "Recall: 0.9802631578947368 \n",
      "Aging Rate: 0.49078947368421055\n",
      "Precision: 1.0 \n",
      "Recall: 0.9697368421052631 \n",
      "Aging Rate: 0.48486842105263156\n"
     ]
    },
    {
     "name": "stderr",
     "output_type": "stream",
     "text": [
      "C:\\Users\\user\\anaconda3\\envs\\aging\\lib\\site-packages\\optuna\\samplers\\_tpe\\sampler.py:253: ExperimentalWarning: ``multivariate`` option is an experimental feature. The interface can change in the future.\n",
      "  ExperimentalWarning,\n",
      "\u001b[32m[I 2021-12-13 13:14:47,289]\u001b[0m A new study created in memory with name: no-name-7aae44b2-bd8d-4bd2-ae2a-75b55bab8dc2\u001b[0m\n"
     ]
    },
    {
     "name": "stdout",
     "output_type": "stream",
     "text": [
      "Precision: 0.9986737400530504 \n",
      "Recall: 0.9907894736842106 \n",
      "Aging Rate: 0.49605263157894736\n",
      "\u001b[32m[I 2021-12-13 13:14:47,242]\u001b[0m Trial 49 finished with value: 0.9922229634461264 and parameters: {'n_estimators': 100, 'min_samples_split': 2, 'max_depth': 21}. Best is trial 18 with value: 0.9937755694125414.\u001b[0m\n",
      "Sampler is TPESampler\n",
      "Dataset9 :\n"
     ]
    },
    {
     "name": "stderr",
     "output_type": "stream",
     "text": [
      "C:\\Users\\user\\anaconda3\\envs\\aging\\lib\\site-packages\\optuna\\progress_bar.py:47: ExperimentalWarning: Progress bar is experimental (supported from v1.2.0). The interface can change in the future.\n",
      "  self._init_valid()\n"
     ]
    },
    {
     "data": {
      "application/vnd.jupyter.widget-view+json": {
       "model_id": "1768de952282438c997d6d455af5f24f",
       "version_major": 2,
       "version_minor": 0
      },
      "text/plain": [
       "  0%|          | 0/50 [00:00<?, ?it/s]"
      ]
     },
     "metadata": {},
     "output_type": "display_data"
    },
    {
     "name": "stdout",
     "output_type": "stream",
     "text": [
      "Precision: 1.0 \n",
      "Recall: 0.06578947368421052 \n",
      "Aging Rate: 0.005980861244019139\n",
      "Precision: 1.0 \n",
      "Recall: 0.013157894736842105 \n",
      "Aging Rate: 0.0011961722488038277\n",
      "Precision: 1.0 \n",
      "Recall: 0.039473684210526314 \n",
      "Aging Rate: 0.0035885167464114833\n",
      "\u001b[32m[I 2021-12-13 13:14:48,963]\u001b[0m Trial 0 finished with value: 0.1005952891842515 and parameters: {'n_estimators': 300, 'min_samples_split': 12, 'max_depth': 6}. Best is trial 0 with value: 0.1005952891842515.\u001b[0m\n",
      "Precision: 1.0 \n",
      "Recall: 0.2631578947368421 \n",
      "Aging Rate: 0.023923444976076555\n",
      "Precision: 0.9375 \n",
      "Recall: 0.19736842105263158 \n",
      "Aging Rate: 0.019138755980861243\n",
      "Precision: 0.9285714285714286 \n",
      "Recall: 0.17105263157894737 \n",
      "Aging Rate: 0.01674641148325359\n",
      "\u001b[32m[I 2021-12-13 13:14:51,178]\u001b[0m Trial 1 finished with value: 0.41829121791958607 and parameters: {'n_estimators': 500, 'min_samples_split': 27, 'max_depth': 18}. Best is trial 1 with value: 0.41829121791958607.\u001b[0m\n",
      "Precision: 1.0 \n",
      "Recall: 0.5657894736842105 \n",
      "Aging Rate: 0.05143540669856459\n",
      "Precision: 0.95 \n",
      "Recall: 0.5 \n",
      "Aging Rate: 0.04784688995215311\n",
      "Precision: 0.9411764705882353 \n",
      "Recall: 0.42105263157894735 \n",
      "Aging Rate: 0.04066985645933014\n",
      "\u001b[32m[I 2021-12-13 13:14:53,000]\u001b[0m Trial 2 finished with value: 0.7175053844829592 and parameters: {'n_estimators': 400, 'min_samples_split': 7, 'max_depth': 15}. Best is trial 2 with value: 0.7175053844829592.\u001b[0m\n"
     ]
    },
    {
     "name": "stderr",
     "output_type": "stream",
     "text": [
      "C:\\Users\\user\\Desktop\\Darui_R08621110\\Master_Thesis\\AUO aging test\\Full_Version_Code\\library\\Aging_Score_Contour.py:43: RuntimeWarning: invalid value encountered in double_scalars\n",
      "  eff = r/ag\n"
     ]
    },
    {
     "name": "stdout",
     "output_type": "stream",
     "text": [
      "Precision: 0 \n",
      "Recall: 0.0 \n",
      "Aging Rate: 0.0\n"
     ]
    },
    {
     "name": "stderr",
     "output_type": "stream",
     "text": [
      "C:\\Users\\user\\Desktop\\Darui_R08621110\\Master_Thesis\\AUO aging test\\Full_Version_Code\\library\\Aging_Score_Contour.py:43: RuntimeWarning: invalid value encountered in double_scalars\n",
      "  eff = r/ag\n"
     ]
    },
    {
     "name": "stdout",
     "output_type": "stream",
     "text": [
      "Precision: 0 \n",
      "Recall: 0.0 \n",
      "Aging Rate: 0.0\n"
     ]
    },
    {
     "name": "stderr",
     "output_type": "stream",
     "text": [
      "C:\\Users\\user\\Desktop\\Darui_R08621110\\Master_Thesis\\AUO aging test\\Full_Version_Code\\library\\Aging_Score_Contour.py:43: RuntimeWarning: invalid value encountered in double_scalars\n",
      "  eff = r/ag\n"
     ]
    },
    {
     "name": "stdout",
     "output_type": "stream",
     "text": [
      "Precision: 0 \n",
      "Recall: 0.0 \n",
      "Aging Rate: 0.0\n",
      "\u001b[33m[W 2021-12-13 13:14:54,563]\u001b[0m Trial 3 failed, because the objective function returned nan.\u001b[0m\n"
     ]
    },
    {
     "name": "stderr",
     "output_type": "stream",
     "text": [
      "C:\\Users\\user\\Desktop\\Darui_R08621110\\Master_Thesis\\AUO aging test\\Full_Version_Code\\library\\Aging_Score_Contour.py:43: RuntimeWarning: invalid value encountered in double_scalars\n",
      "  eff = r/ag\n"
     ]
    },
    {
     "name": "stdout",
     "output_type": "stream",
     "text": [
      "Precision: 0 \n",
      "Recall: 0.0 \n",
      "Aging Rate: 0.0\n"
     ]
    },
    {
     "name": "stderr",
     "output_type": "stream",
     "text": [
      "C:\\Users\\user\\Desktop\\Darui_R08621110\\Master_Thesis\\AUO aging test\\Full_Version_Code\\library\\Aging_Score_Contour.py:43: RuntimeWarning: invalid value encountered in double_scalars\n",
      "  eff = r/ag\n"
     ]
    },
    {
     "name": "stdout",
     "output_type": "stream",
     "text": [
      "Precision: 0 \n",
      "Recall: 0.0 \n",
      "Aging Rate: 0.0\n"
     ]
    },
    {
     "name": "stderr",
     "output_type": "stream",
     "text": [
      "C:\\Users\\user\\Desktop\\Darui_R08621110\\Master_Thesis\\AUO aging test\\Full_Version_Code\\library\\Aging_Score_Contour.py:43: RuntimeWarning: invalid value encountered in double_scalars\n",
      "  eff = r/ag\n"
     ]
    },
    {
     "name": "stdout",
     "output_type": "stream",
     "text": [
      "Precision: 0 \n",
      "Recall: 0.0 \n",
      "Aging Rate: 0.0\n",
      "\u001b[33m[W 2021-12-13 13:14:55,430]\u001b[0m Trial 4 failed, because the objective function returned nan.\u001b[0m\n",
      "Precision: 0.9375 \n",
      "Recall: 0.19736842105263158 \n",
      "Aging Rate: 0.019138755980861243\n",
      "Precision: 1.0 \n",
      "Recall: 0.13157894736842105 \n",
      "Aging Rate: 0.011961722488038277\n",
      "Precision: 0.8461538461538461 \n",
      "Recall: 0.14473684210526316 \n",
      "Aging Rate: 0.01555023923444976\n",
      "\u001b[32m[I 2021-12-13 13:14:58,005]\u001b[0m Trial 5 finished with value: 0.3344802217146712 and parameters: {'n_estimators': 700, 'min_samples_split': 12, 'max_depth': 9}. Best is trial 2 with value: 0.7175053844829592.\u001b[0m\n",
      "Precision: 1.0 \n",
      "Recall: 0.19736842105263158 \n",
      "Aging Rate: 0.017942583732057416\n",
      "Precision: 1.0 \n",
      "Recall: 0.09210526315789473 \n",
      "Aging Rate: 0.008373205741626795\n",
      "Precision: 0.7647058823529411 \n",
      "Recall: 0.17105263157894737 \n",
      "Aging Rate: 0.02033492822966507\n",
      "\u001b[32m[I 2021-12-13 13:14:59,656]\u001b[0m Trial 6 finished with value: 0.3218838536903758 and parameters: {'n_estimators': 300, 'min_samples_split': 32, 'max_depth': 18}. Best is trial 2 with value: 0.7175053844829592.\u001b[0m\n",
      "Precision: 0.875 \n",
      "Recall: 0.09210526315789473 \n",
      "Aging Rate: 0.009569377990430622\n",
      "Precision: 1.0 \n",
      "Recall: 0.11842105263157894 \n",
      "Aging Rate: 0.01076555023923445\n",
      "Precision: 0.6666666666666666 \n",
      "Recall: 0.05263157894736842 \n",
      "Aging Rate: 0.007177033492822967\n",
      "\u001b[32m[I 2021-12-13 13:15:02,149]\u001b[0m Trial 7 finished with value: 0.20515383333974035 and parameters: {'n_estimators': 600, 'min_samples_split': 27, 'max_depth': 9}. Best is trial 2 with value: 0.7175053844829592.\u001b[0m\n"
     ]
    },
    {
     "name": "stderr",
     "output_type": "stream",
     "text": [
      "C:\\Users\\user\\Desktop\\Darui_R08621110\\Master_Thesis\\AUO aging test\\Full_Version_Code\\library\\Aging_Score_Contour.py:43: RuntimeWarning: invalid value encountered in double_scalars\n",
      "  eff = r/ag\n"
     ]
    },
    {
     "name": "stdout",
     "output_type": "stream",
     "text": [
      "Precision: 0 \n",
      "Recall: 0.0 \n",
      "Aging Rate: 0.0\n"
     ]
    },
    {
     "name": "stderr",
     "output_type": "stream",
     "text": [
      "C:\\Users\\user\\Desktop\\Darui_R08621110\\Master_Thesis\\AUO aging test\\Full_Version_Code\\library\\Aging_Score_Contour.py:43: RuntimeWarning: invalid value encountered in double_scalars\n",
      "  eff = r/ag\n"
     ]
    },
    {
     "name": "stdout",
     "output_type": "stream",
     "text": [
      "Precision: 0 \n",
      "Recall: 0.0 \n",
      "Aging Rate: 0.0\n"
     ]
    },
    {
     "name": "stderr",
     "output_type": "stream",
     "text": [
      "C:\\Users\\user\\Desktop\\Darui_R08621110\\Master_Thesis\\AUO aging test\\Full_Version_Code\\library\\Aging_Score_Contour.py:43: RuntimeWarning: invalid value encountered in double_scalars\n",
      "  eff = r/ag\n"
     ]
    },
    {
     "name": "stdout",
     "output_type": "stream",
     "text": [
      "Precision: 0 \n",
      "Recall: 0.0 \n",
      "Aging Rate: 0.0\n",
      "\u001b[33m[W 2021-12-13 13:15:04,563]\u001b[0m Trial 8 failed, because the objective function returned nan.\u001b[0m\n",
      "Precision: 1.0 \n",
      "Recall: 0.42105263157894735 \n",
      "Aging Rate: 0.03827751196172249\n",
      "Precision: 1.0 \n",
      "Recall: 0.4473684210526316 \n",
      "Aging Rate: 0.04066985645933014\n",
      "Precision: 0.9117647058823529 \n",
      "Recall: 0.40789473684210525 \n",
      "Aging Rate: 0.04066985645933014\n",
      "\u001b[32m[I 2021-12-13 13:15:07,060]\u001b[0m Trial 9 finished with value: 0.6640620744501216 and parameters: {'n_estimators': 600, 'min_samples_split': 12, 'max_depth': 18}. Best is trial 2 with value: 0.7175053844829592.\u001b[0m\n",
      "Precision: 1.0 \n",
      "Recall: 0.4868421052631579 \n",
      "Aging Rate: 0.04425837320574163\n",
      "Precision: 0.9523809523809523 \n",
      "Recall: 0.5263157894736842 \n",
      "Aging Rate: 0.050239234449760764\n",
      "Precision: 1.0 \n",
      "Recall: 0.5789473684210527 \n",
      "Aging Rate: 0.05263157894736842\n",
      "\u001b[32m[I 2021-12-13 13:15:09,997]\u001b[0m Trial 10 finished with value: 0.7516306538495509 and parameters: {'n_estimators': 700, 'min_samples_split': 7, 'max_depth': 15}. Best is trial 10 with value: 0.7516306538495509.\u001b[0m\n",
      "Precision: 1.0 \n",
      "Recall: 0.4342105263157895 \n",
      "Aging Rate: 0.039473684210526314\n",
      "Precision: 1.0 \n",
      "Recall: 0.4605263157894737 \n",
      "Aging Rate: 0.041866028708133975\n",
      "Precision: 0.9743589743589743 \n",
      "Recall: 0.5 \n",
      "Aging Rate: 0.04665071770334928\n",
      "\u001b[32m[I 2021-12-13 13:15:12,523]\u001b[0m Trial 11 finished with value: 0.7034563230947715 and parameters: {'n_estimators': 600, 'min_samples_split': 7, 'max_depth': 15}. Best is trial 10 with value: 0.7516306538495509.\u001b[0m\n",
      "Precision: 1.0 \n",
      "Recall: 0.09210526315789473 \n",
      "Aging Rate: 0.008373205741626795\n",
      "Precision: 1.0 \n",
      "Recall: 0.07894736842105263 \n",
      "Aging Rate: 0.007177033492822967\n",
      "Precision: 1.0 \n",
      "Recall: 0.06578947368421052 \n",
      "Aging Rate: 0.005980861244019139\n",
      "\u001b[32m[I 2021-12-13 13:15:15,034]\u001b[0m Trial 12 finished with value: 0.19192316799462472 and parameters: {'n_estimators': 600, 'min_samples_split': 2, 'max_depth': 6}. Best is trial 10 with value: 0.7516306538495509.\u001b[0m\n"
     ]
    },
    {
     "name": "stderr",
     "output_type": "stream",
     "text": [
      "C:\\Users\\user\\Desktop\\Darui_R08621110\\Master_Thesis\\AUO aging test\\Full_Version_Code\\library\\Aging_Score_Contour.py:43: RuntimeWarning: invalid value encountered in double_scalars\n",
      "  eff = r/ag\n"
     ]
    },
    {
     "name": "stdout",
     "output_type": "stream",
     "text": [
      "Precision: 0 \n",
      "Recall: 0.0 \n",
      "Aging Rate: 0.0\n"
     ]
    },
    {
     "name": "stderr",
     "output_type": "stream",
     "text": [
      "C:\\Users\\user\\Desktop\\Darui_R08621110\\Master_Thesis\\AUO aging test\\Full_Version_Code\\library\\Aging_Score_Contour.py:43: RuntimeWarning: invalid value encountered in double_scalars\n",
      "  eff = r/ag\n"
     ]
    },
    {
     "name": "stdout",
     "output_type": "stream",
     "text": [
      "Precision: 0 \n",
      "Recall: 0.0 \n",
      "Aging Rate: 0.0\n"
     ]
    },
    {
     "name": "stderr",
     "output_type": "stream",
     "text": [
      "C:\\Users\\user\\Desktop\\Darui_R08621110\\Master_Thesis\\AUO aging test\\Full_Version_Code\\library\\Aging_Score_Contour.py:43: RuntimeWarning: invalid value encountered in double_scalars\n",
      "  eff = r/ag\n"
     ]
    },
    {
     "name": "stdout",
     "output_type": "stream",
     "text": [
      "Precision: 0 \n",
      "Recall: 0.0 \n",
      "Aging Rate: 0.0\n",
      "\u001b[33m[W 2021-12-13 13:15:15,898]\u001b[0m Trial 13 failed, because the objective function returned nan.\u001b[0m\n"
     ]
    },
    {
     "name": "stderr",
     "output_type": "stream",
     "text": [
      "C:\\Users\\user\\Desktop\\Darui_R08621110\\Master_Thesis\\AUO aging test\\Full_Version_Code\\library\\Aging_Score_Contour.py:43: RuntimeWarning: invalid value encountered in double_scalars\n",
      "  eff = r/ag\n"
     ]
    },
    {
     "name": "stdout",
     "output_type": "stream",
     "text": [
      "Precision: 0 \n",
      "Recall: 0.0 \n",
      "Aging Rate: 0.0\n"
     ]
    },
    {
     "name": "stderr",
     "output_type": "stream",
     "text": [
      "C:\\Users\\user\\Desktop\\Darui_R08621110\\Master_Thesis\\AUO aging test\\Full_Version_Code\\library\\Aging_Score_Contour.py:43: RuntimeWarning: invalid value encountered in double_scalars\n",
      "  eff = r/ag\n"
     ]
    },
    {
     "name": "stdout",
     "output_type": "stream",
     "text": [
      "Precision: 0 \n",
      "Recall: 0.0 \n",
      "Aging Rate: 0.0\n"
     ]
    },
    {
     "name": "stderr",
     "output_type": "stream",
     "text": [
      "C:\\Users\\user\\Desktop\\Darui_R08621110\\Master_Thesis\\AUO aging test\\Full_Version_Code\\library\\Aging_Score_Contour.py:43: RuntimeWarning: invalid value encountered in double_scalars\n",
      "  eff = r/ag\n"
     ]
    },
    {
     "name": "stdout",
     "output_type": "stream",
     "text": [
      "Precision: 0 \n",
      "Recall: 0.0 \n",
      "Aging Rate: 0.0\n",
      "\u001b[33m[W 2021-12-13 13:15:16,764]\u001b[0m Trial 14 failed, because the objective function returned nan.\u001b[0m\n",
      "Precision: 0.8947368421052632 \n",
      "Recall: 0.2236842105263158 \n",
      "Aging Rate: 0.022727272727272728\n",
      "Precision: 1.0 \n",
      "Recall: 0.2894736842105263 \n",
      "Aging Rate: 0.02631578947368421\n",
      "Precision: 0.9523809523809523 \n",
      "Recall: 0.2631578947368421 \n",
      "Aging Rate: 0.025119617224880382\n",
      "\u001b[32m[I 2021-12-13 13:15:19,735]\u001b[0m Trial 15 finished with value: 0.4837486842130805 and parameters: {'n_estimators': 800, 'min_samples_split': 22, 'max_depth': 18}. Best is trial 10 with value: 0.7516306538495509.\u001b[0m\n",
      "Precision: 1.0 \n",
      "Recall: 0.7631578947368421 \n",
      "Aging Rate: 0.06937799043062201\n",
      "Precision: 0.9508196721311475 \n",
      "Recall: 0.7631578947368421 \n",
      "Aging Rate: 0.0729665071770335\n",
      "Precision: 0.9622641509433962 \n",
      "Recall: 0.6710526315789473 \n",
      "Aging Rate: 0.06339712918660287\n",
      "\u001b[32m[I 2021-12-13 13:15:21,690]\u001b[0m Trial 16 finished with value: 0.8684143762657938 and parameters: {'n_estimators': 400, 'min_samples_split': 2, 'max_depth': 21}. Best is trial 16 with value: 0.8684143762657938.\u001b[0m\n",
      "Precision: 1.0 \n",
      "Recall: 0.8421052631578947 \n",
      "Aging Rate: 0.07655502392344497\n",
      "Precision: 1.0 \n",
      "Recall: 0.8026315789473685 \n",
      "Aging Rate: 0.0729665071770335\n",
      "Precision: 1.0 \n",
      "Recall: 0.7631578947368421 \n",
      "Aging Rate: 0.06937799043062201\n",
      "\u001b[32m[I 2021-12-13 13:15:23,621]\u001b[0m Trial 17 finished with value: 0.9183155235874839 and parameters: {'n_estimators': 400, 'min_samples_split': 2, 'max_depth': 21}. Best is trial 17 with value: 0.9183155235874839.\u001b[0m\n",
      "Precision: 1.0 \n",
      "Recall: 0.8289473684210527 \n",
      "Aging Rate: 0.07535885167464115\n",
      "Precision: 0.9661016949152542 \n",
      "Recall: 0.75 \n",
      "Aging Rate: 0.07057416267942583\n",
      "Precision: 0.9836065573770492 \n",
      "Recall: 0.7894736842105263 \n",
      "Aging Rate: 0.0729665071770335\n",
      "\u001b[32m[I 2021-12-13 13:15:24,884]\u001b[0m Trial 18 finished with value: 0.9032575489894127 and parameters: {'n_estimators': 200, 'min_samples_split': 2, 'max_depth': 21}. Best is trial 17 with value: 0.9183155235874839.\u001b[0m\n",
      "Precision: 0.9841269841269841 \n",
      "Recall: 0.8157894736842105 \n",
      "Aging Rate: 0.07535885167464115\n",
      "Precision: 1.0 \n",
      "Recall: 0.6052631578947368 \n",
      "Aging Rate: 0.05502392344497608\n",
      "Precision: 1.0 \n",
      "Recall: 0.7631578947368421 \n",
      "Aging Rate: 0.06937799043062201\n",
      "\u001b[32m[I 2021-12-13 13:15:26,126]\u001b[0m Trial 19 finished with value: 0.8751461757107162 and parameters: {'n_estimators': 200, 'min_samples_split': 2, 'max_depth': 15}. Best is trial 17 with value: 0.9183155235874839.\u001b[0m\n",
      "Precision: 0.9705882352941176 \n",
      "Recall: 0.4342105263157895 \n",
      "Aging Rate: 0.04066985645933014\n",
      "Precision: 0.9705882352941176 \n",
      "Recall: 0.4342105263157895 \n",
      "Aging Rate: 0.04066985645933014\n",
      "Precision: 0.9722222222222222 \n",
      "Recall: 0.4605263157894737 \n",
      "Aging Rate: 0.0430622009569378\n",
      "\u001b[32m[I 2021-12-13 13:15:27,384]\u001b[0m Trial 20 finished with value: 0.6793642176378333 and parameters: {'n_estimators': 200, 'min_samples_split': 12, 'max_depth': 21}. Best is trial 17 with value: 0.9183155235874839.\u001b[0m\n",
      "Precision: 0.9444444444444444 \n",
      "Recall: 0.2236842105263158 \n",
      "Aging Rate: 0.0215311004784689\n",
      "Precision: 1.0 \n",
      "Recall: 0.2236842105263158 \n",
      "Aging Rate: 0.02033492822966507\n",
      "Precision: 1.0 \n",
      "Recall: 0.25 \n",
      "Aging Rate: 0.022727272727272728\n",
      "\u001b[32m[I 2021-12-13 13:15:28,251]\u001b[0m Trial 21 finished with value: 0.4541908995264024 and parameters: {'n_estimators': 100, 'min_samples_split': 22, 'max_depth': 15}. Best is trial 17 with value: 0.9183155235874839.\u001b[0m\n",
      "Precision: 0.9827586206896551 \n",
      "Recall: 0.75 \n",
      "Aging Rate: 0.06937799043062201\n",
      "Precision: 0.9696969696969697 \n",
      "Recall: 0.8421052631578947 \n",
      "Aging Rate: 0.07894736842105263\n",
      "Precision: 1.0 \n",
      "Recall: 0.618421052631579 \n",
      "Aging Rate: 0.056220095693779906\n",
      "\u001b[32m[I 2021-12-13 13:15:29,116]\u001b[0m Trial 22 finished with value: 0.8739267974846968 and parameters: {'n_estimators': 100, 'min_samples_split': 2, 'max_depth': 21}. Best is trial 17 with value: 0.9183155235874839.\u001b[0m\n",
      "Precision: 1.0 \n",
      "Recall: 0.2894736842105263 \n",
      "Aging Rate: 0.02631578947368421\n",
      "Precision: 0.96 \n",
      "Recall: 0.3157894736842105 \n",
      "Aging Rate: 0.029904306220095694\n",
      "Precision: 1.0 \n",
      "Recall: 0.25 \n",
      "Aging Rate: 0.022727272727272728\n",
      "\u001b[32m[I 2021-12-13 13:15:29,975]\u001b[0m Trial 23 finished with value: 0.5217209322375375 and parameters: {'n_estimators': 100, 'min_samples_split': 12, 'max_depth': 12}. Best is trial 17 with value: 0.9183155235874839.\u001b[0m\n",
      "Precision: 1.0 \n",
      "Recall: 0.039473684210526314 \n",
      "Aging Rate: 0.0035885167464114833\n",
      "Precision: 1.0 \n",
      "Recall: 0.039473684210526314 \n",
      "Aging Rate: 0.0035885167464114833\n",
      "Precision: 1.0 \n",
      "Recall: 0.039473684210526314 \n",
      "Aging Rate: 0.0035885167464114833\n",
      "\u001b[32m[I 2021-12-13 13:15:31,222]\u001b[0m Trial 24 finished with value: 0.10245901639344261 and parameters: {'n_estimators': 200, 'min_samples_split': 32, 'max_depth': 6}. Best is trial 17 with value: 0.9183155235874839.\u001b[0m\n",
      "Precision: 1.0 \n",
      "Recall: 0.40789473684210525 \n",
      "Aging Rate: 0.03708133971291866\n",
      "Precision: 0.9705882352941176 \n",
      "Recall: 0.4342105263157895 \n",
      "Aging Rate: 0.04066985645933014\n",
      "Precision: 1.0 \n",
      "Recall: 0.5 \n",
      "Aging Rate: 0.045454545454545456\n",
      "\u001b[32m[I 2021-12-13 13:15:33,319]\u001b[0m Trial 25 finished with value: 0.6879659609661787 and parameters: {'n_estimators': 500, 'min_samples_split': 12, 'max_depth': 21}. Best is trial 17 with value: 0.9183155235874839.\u001b[0m\n",
      "Precision: 1.0 \n",
      "Recall: 0.7105263157894737 \n",
      "Aging Rate: 0.0645933014354067\n",
      "Precision: 0.9591836734693877 \n",
      "Recall: 0.618421052631579 \n",
      "Aging Rate: 0.05861244019138756\n",
      "Precision: 1.0 \n",
      "Recall: 0.6710526315789473 \n",
      "Aging Rate: 0.061004784688995214\n",
      "\u001b[32m[I 2021-12-13 13:15:34,586]\u001b[0m Trial 26 finished with value: 0.8408339142006209 and parameters: {'n_estimators': 200, 'min_samples_split': 2, 'max_depth': 15}. Best is trial 17 with value: 0.9183155235874839.\u001b[0m\n",
      "Precision: 0.9661016949152542 \n",
      "Recall: 0.75 \n",
      "Aging Rate: 0.07057416267942583\n",
      "Precision: 1.0 \n",
      "Recall: 0.7894736842105263 \n",
      "Aging Rate: 0.07177033492822966\n",
      "Precision: 1.0 \n",
      "Recall: 0.6973684210526315 \n",
      "Aging Rate: 0.06339712918660287\n",
      "\u001b[32m[I 2021-12-13 13:15:36,256]\u001b[0m Trial 27 finished with value: 0.8841994636528762 and parameters: {'n_estimators': 300, 'min_samples_split': 2, 'max_depth': 18}. Best is trial 17 with value: 0.9183155235874839.\u001b[0m\n",
      "Precision: 1.0 \n",
      "Recall: 0.6710526315789473 \n",
      "Aging Rate: 0.061004784688995214\n",
      "Precision: 0.9642857142857143 \n",
      "Recall: 0.7105263157894737 \n",
      "Aging Rate: 0.06698564593301436\n",
      "Precision: 0.9545454545454546 \n",
      "Recall: 0.8289473684210527 \n",
      "Aging Rate: 0.07894736842105263\n",
      "\u001b[32m[I 2021-12-13 13:15:37,897]\u001b[0m Trial 28 finished with value: 0.8698675978466462 and parameters: {'n_estimators': 300, 'min_samples_split': 2, 'max_depth': 21}. Best is trial 17 with value: 0.9183155235874839.\u001b[0m\n",
      "Precision: 1.0 \n",
      "Recall: 0.7763157894736842 \n",
      "Aging Rate: 0.07057416267942583\n",
      "Precision: 1.0 \n",
      "Recall: 0.7763157894736842 \n",
      "Aging Rate: 0.07057416267942583\n",
      "Precision: 1.0 \n",
      "Recall: 0.7763157894736842 \n",
      "Aging Rate: 0.07057416267942583\n",
      "\u001b[32m[I 2021-12-13 13:15:40,014]\u001b[0m Trial 29 finished with value: 0.9060196560196562 and parameters: {'n_estimators': 500, 'min_samples_split': 2, 'max_depth': 18}. Best is trial 17 with value: 0.9183155235874839.\u001b[0m\n",
      "Precision: 1.0 \n",
      "Recall: 0.6973684210526315 \n",
      "Aging Rate: 0.06339712918660287\n",
      "Precision: 1.0 \n",
      "Recall: 0.7105263157894737 \n",
      "Aging Rate: 0.0645933014354067\n",
      "Precision: 1.0 \n",
      "Recall: 0.6973684210526315 \n",
      "Aging Rate: 0.06339712918660287\n",
      "\u001b[32m[I 2021-12-13 13:15:42,139]\u001b[0m Trial 30 finished with value: 0.867286012103548 and parameters: {'n_estimators': 500, 'min_samples_split': 2, 'max_depth': 18}. Best is trial 17 with value: 0.9183155235874839.\u001b[0m\n",
      "Precision: 0.9811320754716981 \n",
      "Recall: 0.6842105263157895 \n",
      "Aging Rate: 0.06339712918660287\n",
      "Precision: 1.0 \n",
      "Recall: 0.631578947368421 \n",
      "Aging Rate: 0.05741626794258373\n",
      "Precision: 1.0 \n",
      "Recall: 0.6842105263157895 \n",
      "Aging Rate: 0.06220095693779904\n",
      "\u001b[32m[I 2021-12-13 13:15:44,376]\u001b[0m Trial 31 finished with value: 0.8441766795261162 and parameters: {'n_estimators': 500, 'min_samples_split': 2, 'max_depth': 15}. Best is trial 17 with value: 0.9183155235874839.\u001b[0m\n",
      "Precision: 0.9772727272727273 \n",
      "Recall: 0.5657894736842105 \n",
      "Aging Rate: 0.05263157894736842\n",
      "Precision: 0.975609756097561 \n",
      "Recall: 0.5263157894736842 \n",
      "Aging Rate: 0.04904306220095694\n",
      "Precision: 0.9298245614035088 \n",
      "Recall: 0.6973684210526315 \n",
      "Aging Rate: 0.06818181818181818\n",
      "\u001b[32m[I 2021-12-13 13:15:46,029]\u001b[0m Trial 32 finished with value: 0.78365494506766 and parameters: {'n_estimators': 300, 'min_samples_split': 7, 'max_depth': 21}. Best is trial 17 with value: 0.9183155235874839.\u001b[0m\n"
     ]
    },
    {
     "name": "stdout",
     "output_type": "stream",
     "text": [
      "Precision: 1.0 \n",
      "Recall: 0.7763157894736842 \n",
      "Aging Rate: 0.07057416267942583\n",
      "Precision: 0.9696969696969697 \n",
      "Recall: 0.8421052631578947 \n",
      "Aging Rate: 0.07894736842105263\n",
      "Precision: 1.0 \n",
      "Recall: 0.8289473684210527 \n",
      "Aging Rate: 0.07535885167464115\n",
      "\u001b[32m[I 2021-12-13 13:15:48,527]\u001b[0m Trial 33 finished with value: 0.9188036499115003 and parameters: {'n_estimators': 600, 'min_samples_split': 2, 'max_depth': 21}. Best is trial 33 with value: 0.9188036499115003.\u001b[0m\n",
      "Precision: 1.0 \n",
      "Recall: 0.8026315789473685 \n",
      "Aging Rate: 0.0729665071770335\n",
      "Precision: 1.0 \n",
      "Recall: 0.7894736842105263 \n",
      "Aging Rate: 0.07177033492822966\n",
      "Precision: 1.0 \n",
      "Recall: 0.8289473684210527 \n",
      "Aging Rate: 0.07535885167464115\n",
      "\u001b[32m[I 2021-12-13 13:15:51,316]\u001b[0m Trial 34 finished with value: 0.9206448405830185 and parameters: {'n_estimators': 700, 'min_samples_split': 2, 'max_depth': 21}. Best is trial 34 with value: 0.9206448405830185.\u001b[0m\n",
      "Precision: 1.0 \n",
      "Recall: 0.6973684210526315 \n",
      "Aging Rate: 0.06339712918660287\n",
      "Precision: 0.9666666666666667 \n",
      "Recall: 0.7631578947368421 \n",
      "Aging Rate: 0.07177033492822966\n",
      "Precision: 1.0 \n",
      "Recall: 0.6973684210526315 \n",
      "Aging Rate: 0.06339712918660287\n",
      "\u001b[32m[I 2021-12-13 13:15:54,667]\u001b[0m Trial 35 finished with value: 0.8705867156249272 and parameters: {'n_estimators': 800, 'min_samples_split': 2, 'max_depth': 21}. Best is trial 34 with value: 0.9206448405830185.\u001b[0m\n",
      "Precision: 0.9682539682539683 \n",
      "Recall: 0.8026315789473685 \n",
      "Aging Rate: 0.07535885167464115\n",
      "Precision: 0.9838709677419355 \n",
      "Recall: 0.8026315789473685 \n",
      "Aging Rate: 0.07416267942583732\n",
      "Precision: 1.0 \n",
      "Recall: 0.75 \n",
      "Aging Rate: 0.06818181818181818\n",
      "\u001b[32m[I 2021-12-13 13:15:57,143]\u001b[0m Trial 36 finished with value: 0.9013539712899893 and parameters: {'n_estimators': 600, 'min_samples_split': 2, 'max_depth': 21}. Best is trial 34 with value: 0.9206448405830185.\u001b[0m\n"
     ]
    },
    {
     "name": "stderr",
     "output_type": "stream",
     "text": [
      "C:\\Users\\user\\Desktop\\Darui_R08621110\\Master_Thesis\\AUO aging test\\Full_Version_Code\\library\\Aging_Score_Contour.py:43: RuntimeWarning: invalid value encountered in double_scalars\n",
      "  eff = r/ag\n"
     ]
    },
    {
     "name": "stdout",
     "output_type": "stream",
     "text": [
      "Precision: 0 \n",
      "Recall: 0.0 \n",
      "Aging Rate: 0.0\n"
     ]
    },
    {
     "name": "stderr",
     "output_type": "stream",
     "text": [
      "C:\\Users\\user\\Desktop\\Darui_R08621110\\Master_Thesis\\AUO aging test\\Full_Version_Code\\library\\Aging_Score_Contour.py:43: RuntimeWarning: invalid value encountered in double_scalars\n",
      "  eff = r/ag\n"
     ]
    },
    {
     "name": "stdout",
     "output_type": "stream",
     "text": [
      "Precision: 0 \n",
      "Recall: 0.0 \n",
      "Aging Rate: 0.0\n"
     ]
    },
    {
     "name": "stderr",
     "output_type": "stream",
     "text": [
      "C:\\Users\\user\\Desktop\\Darui_R08621110\\Master_Thesis\\AUO aging test\\Full_Version_Code\\library\\Aging_Score_Contour.py:43: RuntimeWarning: invalid value encountered in double_scalars\n",
      "  eff = r/ag\n"
     ]
    },
    {
     "name": "stdout",
     "output_type": "stream",
     "text": [
      "Precision: 0 \n",
      "Recall: 0.0 \n",
      "Aging Rate: 0.0\n",
      "\u001b[33m[W 2021-12-13 13:15:58,004]\u001b[0m Trial 37 failed, because the objective function returned nan.\u001b[0m\n",
      "Precision: 1.0 \n",
      "Recall: 0.7631578947368421 \n",
      "Aging Rate: 0.06937799043062201\n",
      "Precision: 0.9649122807017544 \n",
      "Recall: 0.7236842105263158 \n",
      "Aging Rate: 0.06818181818181818\n",
      "Precision: 1.0 \n",
      "Recall: 0.7894736842105263 \n",
      "Aging Rate: 0.07177033492822966\n",
      "\u001b[32m[I 2021-12-13 13:16:00,577]\u001b[0m Trial 38 finished with value: 0.8911471010878643 and parameters: {'n_estimators': 600, 'min_samples_split': 2, 'max_depth': 21}. Best is trial 34 with value: 0.9206448405830185.\u001b[0m\n",
      "Precision: 1.0 \n",
      "Recall: 0.631578947368421 \n",
      "Aging Rate: 0.05741626794258373\n",
      "Precision: 1.0 \n",
      "Recall: 0.618421052631579 \n",
      "Aging Rate: 0.056220095693779906\n",
      "Precision: 1.0 \n",
      "Recall: 0.5921052631578947 \n",
      "Aging Rate: 0.05382775119617225\n",
      "\u001b[32m[I 2021-12-13 13:16:03,500]\u001b[0m Trial 39 finished with value: 0.8153244858739921 and parameters: {'n_estimators': 700, 'min_samples_split': 7, 'max_depth': 21}. Best is trial 34 with value: 0.9206448405830185.\u001b[0m\n"
     ]
    },
    {
     "name": "stderr",
     "output_type": "stream",
     "text": [
      "C:\\Users\\user\\Desktop\\Darui_R08621110\\Master_Thesis\\AUO aging test\\Full_Version_Code\\library\\Aging_Score_Contour.py:43: RuntimeWarning: invalid value encountered in double_scalars\n",
      "  eff = r/ag\n"
     ]
    },
    {
     "name": "stdout",
     "output_type": "stream",
     "text": [
      "Precision: 0 \n",
      "Recall: 0.0 \n",
      "Aging Rate: 0.0\n"
     ]
    },
    {
     "name": "stderr",
     "output_type": "stream",
     "text": [
      "C:\\Users\\user\\Desktop\\Darui_R08621110\\Master_Thesis\\AUO aging test\\Full_Version_Code\\library\\Aging_Score_Contour.py:43: RuntimeWarning: invalid value encountered in double_scalars\n",
      "  eff = r/ag\n"
     ]
    },
    {
     "name": "stdout",
     "output_type": "stream",
     "text": [
      "Precision: 0 \n",
      "Recall: 0.0 \n",
      "Aging Rate: 0.0\n"
     ]
    },
    {
     "name": "stderr",
     "output_type": "stream",
     "text": [
      "C:\\Users\\user\\Desktop\\Darui_R08621110\\Master_Thesis\\AUO aging test\\Full_Version_Code\\library\\Aging_Score_Contour.py:43: RuntimeWarning: invalid value encountered in double_scalars\n",
      "  eff = r/ag\n"
     ]
    },
    {
     "name": "stdout",
     "output_type": "stream",
     "text": [
      "Precision: 0 \n",
      "Recall: 0.0 \n",
      "Aging Rate: 0.0\n",
      "\u001b[33m[W 2021-12-13 13:16:05,646]\u001b[0m Trial 40 failed, because the objective function returned nan.\u001b[0m\n",
      "Precision: 1.0 \n",
      "Recall: 0.7894736842105263 \n",
      "Aging Rate: 0.07177033492822966\n",
      "Precision: 1.0 \n",
      "Recall: 0.7763157894736842 \n",
      "Aging Rate: 0.07057416267942583\n",
      "Precision: 1.0 \n",
      "Recall: 0.7631578947368421 \n",
      "Aging Rate: 0.06937799043062201\n",
      "\u001b[32m[I 2021-12-13 13:16:07,864]\u001b[0m Trial 41 finished with value: 0.9059773790760369 and parameters: {'n_estimators': 500, 'min_samples_split': 2, 'max_depth': 21}. Best is trial 34 with value: 0.9206448405830185.\u001b[0m\n"
     ]
    },
    {
     "name": "stderr",
     "output_type": "stream",
     "text": [
      "C:\\Users\\user\\Desktop\\Darui_R08621110\\Master_Thesis\\AUO aging test\\Full_Version_Code\\library\\Aging_Score_Contour.py:43: RuntimeWarning: invalid value encountered in double_scalars\n",
      "  eff = r/ag\n"
     ]
    },
    {
     "name": "stdout",
     "output_type": "stream",
     "text": [
      "Precision: 0 \n",
      "Recall: 0.0 \n",
      "Aging Rate: 0.0\n"
     ]
    },
    {
     "name": "stderr",
     "output_type": "stream",
     "text": [
      "C:\\Users\\user\\Desktop\\Darui_R08621110\\Master_Thesis\\AUO aging test\\Full_Version_Code\\library\\Aging_Score_Contour.py:43: RuntimeWarning: invalid value encountered in double_scalars\n",
      "  eff = r/ag\n"
     ]
    },
    {
     "name": "stdout",
     "output_type": "stream",
     "text": [
      "Precision: 0 \n",
      "Recall: 0.0 \n",
      "Aging Rate: 0.0\n"
     ]
    },
    {
     "name": "stderr",
     "output_type": "stream",
     "text": [
      "C:\\Users\\user\\Desktop\\Darui_R08621110\\Master_Thesis\\AUO aging test\\Full_Version_Code\\library\\Aging_Score_Contour.py:43: RuntimeWarning: invalid value encountered in double_scalars\n",
      "  eff = r/ag\n"
     ]
    },
    {
     "name": "stdout",
     "output_type": "stream",
     "text": [
      "Precision: 0 \n",
      "Recall: 0.0 \n",
      "Aging Rate: 0.0\n",
      "\u001b[33m[W 2021-12-13 13:16:10,876]\u001b[0m Trial 42 failed, because the objective function returned nan.\u001b[0m\n",
      "Precision: 1.0 \n",
      "Recall: 0.7236842105263158 \n",
      "Aging Rate: 0.06578947368421052\n",
      "Precision: 1.0 \n",
      "Recall: 0.7105263157894737 \n",
      "Aging Rate: 0.0645933014354067\n",
      "Precision: 0.9411764705882353 \n",
      "Recall: 0.8421052631578947 \n",
      "Aging Rate: 0.08133971291866028\n",
      "\u001b[32m[I 2021-12-13 13:16:13,775]\u001b[0m Trial 43 finished with value: 0.8847278569106808 and parameters: {'n_estimators': 700, 'min_samples_split': 2, 'max_depth': 18}. Best is trial 34 with value: 0.9206448405830185.\u001b[0m\n"
     ]
    },
    {
     "name": "stderr",
     "output_type": "stream",
     "text": [
      "C:\\Users\\user\\Desktop\\Darui_R08621110\\Master_Thesis\\AUO aging test\\Full_Version_Code\\library\\Aging_Score_Contour.py:43: RuntimeWarning: invalid value encountered in double_scalars\n",
      "  eff = r/ag\n"
     ]
    },
    {
     "name": "stdout",
     "output_type": "stream",
     "text": [
      "Precision: 0 \n",
      "Recall: 0.0 \n",
      "Aging Rate: 0.0\n"
     ]
    },
    {
     "name": "stderr",
     "output_type": "stream",
     "text": [
      "C:\\Users\\user\\Desktop\\Darui_R08621110\\Master_Thesis\\AUO aging test\\Full_Version_Code\\library\\Aging_Score_Contour.py:43: RuntimeWarning: invalid value encountered in double_scalars\n",
      "  eff = r/ag\n"
     ]
    },
    {
     "name": "stdout",
     "output_type": "stream",
     "text": [
      "Precision: 0 \n",
      "Recall: 0.0 \n",
      "Aging Rate: 0.0\n"
     ]
    },
    {
     "name": "stderr",
     "output_type": "stream",
     "text": [
      "C:\\Users\\user\\Desktop\\Darui_R08621110\\Master_Thesis\\AUO aging test\\Full_Version_Code\\library\\Aging_Score_Contour.py:43: RuntimeWarning: invalid value encountered in double_scalars\n",
      "  eff = r/ag\n"
     ]
    },
    {
     "name": "stdout",
     "output_type": "stream",
     "text": [
      "Precision: 0 \n",
      "Recall: 0.0 \n",
      "Aging Rate: 0.0\n",
      "\u001b[33m[W 2021-12-13 13:16:16,904]\u001b[0m Trial 44 failed, because the objective function returned nan.\u001b[0m\n"
     ]
    },
    {
     "name": "stderr",
     "output_type": "stream",
     "text": [
      "C:\\Users\\user\\Desktop\\Darui_R08621110\\Master_Thesis\\AUO aging test\\Full_Version_Code\\library\\Aging_Score_Contour.py:43: RuntimeWarning: invalid value encountered in double_scalars\n",
      "  eff = r/ag\n"
     ]
    },
    {
     "name": "stdout",
     "output_type": "stream",
     "text": [
      "Precision: 0 \n",
      "Recall: 0.0 \n",
      "Aging Rate: 0.0\n"
     ]
    },
    {
     "name": "stderr",
     "output_type": "stream",
     "text": [
      "C:\\Users\\user\\Desktop\\Darui_R08621110\\Master_Thesis\\AUO aging test\\Full_Version_Code\\library\\Aging_Score_Contour.py:43: RuntimeWarning: invalid value encountered in double_scalars\n",
      "  eff = r/ag\n"
     ]
    },
    {
     "name": "stdout",
     "output_type": "stream",
     "text": [
      "Precision: 0 \n",
      "Recall: 0.0 \n",
      "Aging Rate: 0.0\n"
     ]
    },
    {
     "name": "stderr",
     "output_type": "stream",
     "text": [
      "C:\\Users\\user\\Desktop\\Darui_R08621110\\Master_Thesis\\AUO aging test\\Full_Version_Code\\library\\Aging_Score_Contour.py:43: RuntimeWarning: invalid value encountered in double_scalars\n",
      "  eff = r/ag\n"
     ]
    },
    {
     "name": "stdout",
     "output_type": "stream",
     "text": [
      "Precision: 0 \n",
      "Recall: 0.0 \n",
      "Aging Rate: 0.0\n",
      "\u001b[33m[W 2021-12-13 13:16:18,612]\u001b[0m Trial 45 failed, because the objective function returned nan.\u001b[0m\n",
      "Precision: 1.0 \n",
      "Recall: 0.09210526315789473 \n",
      "Aging Rate: 0.008373205741626795\n",
      "Precision: 0.7142857142857143 \n",
      "Recall: 0.06578947368421052 \n",
      "Aging Rate: 0.008373205741626795\n",
      "Precision: 1.0 \n",
      "Recall: 0.07894736842105263 \n",
      "Aging Rate: 0.007177033492822967\n",
      "\u001b[32m[I 2021-12-13 13:16:20,326]\u001b[0m Trial 46 finished with value: 0.18973070480608167 and parameters: {'n_estimators': 300, 'min_samples_split': 2, 'max_depth': 6}. Best is trial 34 with value: 0.9206448405830185.\u001b[0m\n",
      "Precision: 1.0 \n",
      "Recall: 0.75 \n",
      "Aging Rate: 0.06818181818181818\n",
      "Precision: 1.0 \n",
      "Recall: 0.7236842105263158 \n",
      "Aging Rate: 0.06578947368421052\n",
      "Precision: 1.0 \n",
      "Recall: 0.7631578947368421 \n",
      "Aging Rate: 0.06937799043062201\n",
      "\u001b[32m[I 2021-12-13 13:16:23,232]\u001b[0m Trial 47 finished with value: 0.8905056250572297 and parameters: {'n_estimators': 700, 'min_samples_split': 2, 'max_depth': 21}. Best is trial 34 with value: 0.9206448405830185.\u001b[0m\n",
      "Precision: 1.0 \n",
      "Recall: 0.17105263157894737 \n",
      "Aging Rate: 0.01555023923444976\n",
      "Precision: 1.0 \n",
      "Recall: 0.14473684210526316 \n",
      "Aging Rate: 0.013157894736842105\n",
      "Precision: 1.0 \n",
      "Recall: 0.14473684210526316 \n",
      "Aging Rate: 0.013157894736842105\n",
      "\u001b[32m[I 2021-12-13 13:16:25,390]\u001b[0m Trial 48 finished with value: 0.3346282198352279 and parameters: {'n_estimators': 500, 'min_samples_split': 17, 'max_depth': 9}. Best is trial 34 with value: 0.9206448405830185.\u001b[0m\n",
      "Precision: 0.9772727272727273 \n",
      "Recall: 0.5657894736842105 \n",
      "Aging Rate: 0.05263157894736842\n",
      "Precision: 1.0 \n",
      "Recall: 0.5394736842105263 \n",
      "Aging Rate: 0.04904306220095694\n",
      "Precision: 0.9333333333333333 \n",
      "Recall: 0.5526315789473685 \n",
      "Aging Rate: 0.05382775119617225\n",
      "\u001b[32m[I 2021-12-13 13:16:27,506]\u001b[0m Trial 49 finished with value: 0.7624280994103353 and parameters: {'n_estimators': 500, 'min_samples_split': 7, 'max_depth': 18}. Best is trial 34 with value: 0.9206448405830185.\u001b[0m\n",
      "Sampler is TPESampler\n"
     ]
    }
   ],
   "source": [
    "best_paramC, all_scoreC = all_optuna(num_set = 10, \n",
    "                                     all_data = run_train, \n",
    "                                     mode = 'C', \n",
    "                                     TPE_multi = True, \n",
    "                                     n_iter = 50, \n",
    "                                     filename = 'runhist_array_m2m4_m5_3criteria_RandomForest', \n",
    "                                     creator = RandomForest_creator\n",
    "                                    )"
   ]
  },
  {
   "cell_type": "code",
   "execution_count": null,
   "metadata": {
    "ExecuteTime": {
     "end_time": "2021-10-14T21:31:20.405872Z",
     "start_time": "2021-10-14T15:37:08.378611Z"
    }
   },
   "outputs": [],
   "source": [
    "best_paramR, all_scoreR = all_optuna(num_set = 10, \n",
    "                                     all_data = run_train, \n",
    "                                     mode = 'R', \n",
    "                                     TPE_multi = True, \n",
    "                                     n_iter = 50,\n",
    "                                     filename = 'runhist_array_m2m5_4selection_RandomForest', \n",
    "                                     creator = RandomForest_creator\n",
    "                                    )"
   ]
  },
  {
   "cell_type": "code",
   "execution_count": null,
   "metadata": {
    "ExecuteTime": {
     "end_time": "2021-10-09T04:04:35.806521Z",
     "start_time": "2021-10-09T04:04:35.027647Z"
    }
   },
   "outputs": [],
   "source": [
    "##### optimization history plot #####\n",
    "optuna_history(best_paramC, all_scoreC, num_row = 4, num_col = 3, model = 'RandomForest Classifier')\n",
    "            \n",
    "##### best hyperparameter table #####\n",
    "param_table = pd.DataFrame(best_paramC).T\n",
    "param_table"
   ]
  },
  {
   "cell_type": "markdown",
   "metadata": {},
   "source": [
    "## "
   ]
  },
  {
   "cell_type": "markdown",
   "metadata": {},
   "source": [
    "### Classifier"
   ]
  },
  {
   "cell_type": "code",
   "execution_count": 6,
   "metadata": {
    "ExecuteTime": {
     "end_time": "2021-12-13T05:16:48.345110Z",
     "start_time": "2021-12-13T05:16:29.220397Z"
    },
    "scrolled": true
   },
   "outputs": [
    {
     "name": "stdout",
     "output_type": "stream",
     "text": [
      "\n",
      " Dataset 0:\n",
      "Precision: 0.0 \n",
      "Recall: 0.0 \n",
      "Aging Rate: 2.055540709983761e-05\n",
      "\n",
      " Dataset 1:\n",
      "Precision: 0.0013297872340425532 \n",
      "Recall: 0.0784313725490196 \n",
      "Aging Rate: 0.06183066455631154\n",
      "\n",
      " Dataset 2:\n",
      "Precision: 0.0011989209711259865 \n",
      "Recall: 0.23529411764705882 \n",
      "Aging Rate: 0.20573906966227465\n",
      "\n",
      " Dataset 3:\n",
      "Precision: 0.0009519276534983341 \n",
      "Recall: 0.0392156862745098 \n",
      "Aging Rate: 0.04318691031675882\n",
      "\n",
      " Dataset 4:\n",
      "Precision: 0.0009606147934678194 \n",
      "Recall: 0.0196078431372549 \n",
      "Aging Rate: 0.021398178790930953\n",
      "\n",
      " Dataset 5:\n",
      "Precision: 0.0013517166801838335 \n",
      "Recall: 0.09803921568627451 \n",
      "Aging Rate: 0.07603445086229933\n",
      "\n",
      " Dataset 6:\n",
      "Precision: 0.001197930846719303 \n",
      "Recall: 0.43137254901960786 \n",
      "Aging Rate: 0.3775000513885178\n",
      "\n",
      " Dataset 7:\n",
      "Precision: 0.0 \n",
      "Recall: 0.0 \n",
      "Aging Rate: 0.02583814672449588\n",
      "\n",
      " Dataset 8:\n",
      "Precision: 0.0 \n",
      "Recall: 0.0 \n",
      "Aging Rate: 0.012333244259902567\n",
      "\n",
      " Dataset 9:\n",
      "Precision: 0.000708215297450425 \n",
      "Recall: 0.0196078431372549 \n",
      "Aging Rate: 0.02902423482497071\n"
     ]
    },
    {
     "data": {
      "image/png": "[encoded data removed]",
      "text/plain": [
       "<Figure size 1080x576 with 2 Axes>"
      ]
     },
     "metadata": {
      "needs_background": "light"
     },
     "output_type": "display_data"
    }
   ],
   "source": [
    "table_setC = runall_ForestC(10, run_train_x, run_test_x, run_train_y, run_test_y, best_paramC)\n",
    "line_chart(table_setC, title = 'Random Forest Classifier')"
   ]
  },
  {
   "cell_type": "code",
   "execution_count": 7,
   "metadata": {
    "ExecuteTime": {
     "end_time": "2021-12-13T05:16:50.045063Z",
     "start_time": "2021-12-13T05:16:50.029481Z"
    },
    "scrolled": true
   },
   "outputs": [
    {
     "data": {
      "text/html": [
       "<div>\n",
       "<style scoped>\n",
       "    .dataframe tbody tr th:only-of-type {\n",
       "        vertical-align: middle;\n",
       "    }\n",
       "\n",
       "    .dataframe tbody tr th {\n",
       "        vertical-align: top;\n",
       "    }\n",
       "\n",
       "    .dataframe thead th {\n",
       "        text-align: right;\n",
       "    }\n",
       "</style>\n",
       "<table border=\"1\" class=\"dataframe\">\n",
       "  <thead>\n",
       "    <tr style=\"text-align: right;\">\n",
       "      <th></th>\n",
       "      <th>Balance Ratio</th>\n",
       "      <th>Train_OK</th>\n",
       "      <th>Train_NG</th>\n",
       "      <th>TP</th>\n",
       "      <th>FP</th>\n",
       "      <th>FN</th>\n",
       "      <th>TN</th>\n",
       "      <th>Precision</th>\n",
       "      <th>Recall</th>\n",
       "      <th>Aging Rate</th>\n",
       "      <th>Efficiency</th>\n",
       "      <th>Score</th>\n",
       "    </tr>\n",
       "  </thead>\n",
       "  <tbody>\n",
       "    <tr>\n",
       "      <th>dataset 0</th>\n",
       "      <td>515.934211</td>\n",
       "      <td>156844.0</td>\n",
       "      <td>304.0</td>\n",
       "      <td>0.0</td>\n",
       "      <td>1.0</td>\n",
       "      <td>51.0</td>\n",
       "      <td>48597.0</td>\n",
       "      <td>0.000000</td>\n",
       "      <td>0.000000</td>\n",
       "      <td>0.000021</td>\n",
       "      <td>0.000000</td>\n",
       "      <td>0.000000</td>\n",
       "    </tr>\n",
       "    <tr>\n",
       "      <th>dataset 1</th>\n",
       "      <td>1.000000</td>\n",
       "      <td>3067.0</td>\n",
       "      <td>3067.0</td>\n",
       "      <td>4.0</td>\n",
       "      <td>3004.0</td>\n",
       "      <td>47.0</td>\n",
       "      <td>45594.0</td>\n",
       "      <td>0.001330</td>\n",
       "      <td>0.078431</td>\n",
       "      <td>0.061831</td>\n",
       "      <td>1.268487</td>\n",
       "      <td>0.064244</td>\n",
       "    </tr>\n",
       "    <tr>\n",
       "      <th>dataset 2</th>\n",
       "      <td>1.000000</td>\n",
       "      <td>4207.0</td>\n",
       "      <td>4207.0</td>\n",
       "      <td>12.0</td>\n",
       "      <td>9997.0</td>\n",
       "      <td>39.0</td>\n",
       "      <td>38601.0</td>\n",
       "      <td>0.001199</td>\n",
       "      <td>0.235294</td>\n",
       "      <td>0.205739</td>\n",
       "      <td>1.143653</td>\n",
       "      <td>0.179414</td>\n",
       "    </tr>\n",
       "    <tr>\n",
       "      <th>dataset 3</th>\n",
       "      <td>1.000000</td>\n",
       "      <td>3336.0</td>\n",
       "      <td>3336.0</td>\n",
       "      <td>2.0</td>\n",
       "      <td>2099.0</td>\n",
       "      <td>49.0</td>\n",
       "      <td>46499.0</td>\n",
       "      <td>0.000952</td>\n",
       "      <td>0.039216</td>\n",
       "      <td>0.043187</td>\n",
       "      <td>0.908046</td>\n",
       "      <td>0.000000</td>\n",
       "    </tr>\n",
       "    <tr>\n",
       "      <th>dataset 4</th>\n",
       "      <td>1.000000</td>\n",
       "      <td>3038.0</td>\n",
       "      <td>3038.0</td>\n",
       "      <td>1.0</td>\n",
       "      <td>1040.0</td>\n",
       "      <td>50.0</td>\n",
       "      <td>47558.0</td>\n",
       "      <td>0.000961</td>\n",
       "      <td>0.019608</td>\n",
       "      <td>0.021398</td>\n",
       "      <td>0.916332</td>\n",
       "      <td>0.000000</td>\n",
       "    </tr>\n",
       "    <tr>\n",
       "      <th>dataset 5</th>\n",
       "      <td>1.006623</td>\n",
       "      <td>3040.0</td>\n",
       "      <td>3020.0</td>\n",
       "      <td>5.0</td>\n",
       "      <td>3694.0</td>\n",
       "      <td>46.0</td>\n",
       "      <td>44904.0</td>\n",
       "      <td>0.001352</td>\n",
       "      <td>0.098039</td>\n",
       "      <td>0.076034</td>\n",
       "      <td>1.289405</td>\n",
       "      <td>0.081205</td>\n",
       "    </tr>\n",
       "    <tr>\n",
       "      <th>dataset 6</th>\n",
       "      <td>0.719016</td>\n",
       "      <td>3040.0</td>\n",
       "      <td>4228.0</td>\n",
       "      <td>22.0</td>\n",
       "      <td>18343.0</td>\n",
       "      <td>29.0</td>\n",
       "      <td>30255.0</td>\n",
       "      <td>0.001198</td>\n",
       "      <td>0.431373</td>\n",
       "      <td>0.377500</td>\n",
       "      <td>1.142709</td>\n",
       "      <td>0.328736</td>\n",
       "    </tr>\n",
       "    <tr>\n",
       "      <th>dataset 7</th>\n",
       "      <td>1.000000</td>\n",
       "      <td>3040.0</td>\n",
       "      <td>3040.0</td>\n",
       "      <td>0.0</td>\n",
       "      <td>1257.0</td>\n",
       "      <td>51.0</td>\n",
       "      <td>47341.0</td>\n",
       "      <td>0.000000</td>\n",
       "      <td>0.000000</td>\n",
       "      <td>0.025838</td>\n",
       "      <td>0.000000</td>\n",
       "      <td>0.000000</td>\n",
       "    </tr>\n",
       "    <tr>\n",
       "      <th>dataset 8</th>\n",
       "      <td>1.000000</td>\n",
       "      <td>3040.0</td>\n",
       "      <td>3040.0</td>\n",
       "      <td>0.0</td>\n",
       "      <td>600.0</td>\n",
       "      <td>51.0</td>\n",
       "      <td>47998.0</td>\n",
       "      <td>0.000000</td>\n",
       "      <td>0.000000</td>\n",
       "      <td>0.012333</td>\n",
       "      <td>0.000000</td>\n",
       "      <td>0.000000</td>\n",
       "    </tr>\n",
       "    <tr>\n",
       "      <th>dataset 9</th>\n",
       "      <td>10.000000</td>\n",
       "      <td>3040.0</td>\n",
       "      <td>304.0</td>\n",
       "      <td>1.0</td>\n",
       "      <td>1411.0</td>\n",
       "      <td>50.0</td>\n",
       "      <td>47187.0</td>\n",
       "      <td>0.000708</td>\n",
       "      <td>0.019608</td>\n",
       "      <td>0.029024</td>\n",
       "      <td>0.675568</td>\n",
       "      <td>0.000000</td>\n",
       "    </tr>\n",
       "  </tbody>\n",
       "</table>\n",
       "</div>"
      ],
      "text/plain": [
       "           Balance Ratio  Train_OK  Train_NG    TP       FP    FN       TN  \\\n",
       "dataset 0     515.934211  156844.0     304.0   0.0      1.0  51.0  48597.0   \n",
       "dataset 1       1.000000    3067.0    3067.0   4.0   3004.0  47.0  45594.0   \n",
       "dataset 2       1.000000    4207.0    4207.0  12.0   9997.0  39.0  38601.0   \n",
       "dataset 3       1.000000    3336.0    3336.0   2.0   2099.0  49.0  46499.0   \n",
       "dataset 4       1.000000    3038.0    3038.0   1.0   1040.0  50.0  47558.0   \n",
       "dataset 5       1.006623    3040.0    3020.0   5.0   3694.0  46.0  44904.0   \n",
       "dataset 6       0.719016    3040.0    4228.0  22.0  18343.0  29.0  30255.0   \n",
       "dataset 7       1.000000    3040.0    3040.0   0.0   1257.0  51.0  47341.0   \n",
       "dataset 8       1.000000    3040.0    3040.0   0.0    600.0  51.0  47998.0   \n",
       "dataset 9      10.000000    3040.0     304.0   1.0   1411.0  50.0  47187.0   \n",
       "\n",
       "           Precision    Recall  Aging Rate  Efficiency     Score  \n",
       "dataset 0   0.000000  0.000000    0.000021    0.000000  0.000000  \n",
       "dataset 1   0.001330  0.078431    0.061831    1.268487  0.064244  \n",
       "dataset 2   0.001199  0.235294    0.205739    1.143653  0.179414  \n",
       "dataset 3   0.000952  0.039216    0.043187    0.908046  0.000000  \n",
       "dataset 4   0.000961  0.019608    0.021398    0.916332  0.000000  \n",
       "dataset 5   0.001352  0.098039    0.076034    1.289405  0.081205  \n",
       "dataset 6   0.001198  0.431373    0.377500    1.142709  0.328736  \n",
       "dataset 7   0.000000  0.000000    0.025838    0.000000  0.000000  \n",
       "dataset 8   0.000000  0.000000    0.012333    0.000000  0.000000  \n",
       "dataset 9   0.000708  0.019608    0.029024    0.675568  0.000000  "
      ]
     },
     "execution_count": 7,
     "metadata": {},
     "output_type": "execute_result"
    }
   ],
   "source": [
    "table_setC"
   ]
  },
  {
   "cell_type": "markdown",
   "metadata": {},
   "source": [
    "### Regressor"
   ]
  },
  {
   "cell_type": "code",
   "execution_count": null,
   "metadata": {
    "ExecuteTime": {
     "end_time": "2021-10-15T00:32:50.337866Z",
     "start_time": "2021-10-15T00:28:01.253726Z"
    }
   },
   "outputs": [],
   "source": [
    "pr_dict, table_setR = runall_ForestR(10, run_train_x, run_test_x, run_train_y, run_test_y, best_paramR, \n",
    "                                     thres_target = 'Recall', threshold = 0.7)\n",
    "line_chart(table_setR, title = 'Random Forest Regressor')"
   ]
  },
  {
   "cell_type": "code",
   "execution_count": null,
   "metadata": {
    "ExecuteTime": {
     "end_time": "2021-10-15T00:35:54.269388Z",
     "start_time": "2021-10-15T00:35:52.349547Z"
    }
   },
   "outputs": [],
   "source": [
    "multiple_curve(3, 3, pr_dict, table_setR, target = 'Aging Rate')\n",
    "multiple_curve(3, 3, pr_dict, table_setR, target = 'Precision')\n",
    "table_setR"
   ]
  },
  {
   "cell_type": "markdown",
   "metadata": {},
   "source": [
    "### export"
   ]
  },
  {
   "cell_type": "code",
   "execution_count": 8,
   "metadata": {
    "ExecuteTime": {
     "end_time": "2021-12-13T05:16:52.108396Z",
     "start_time": "2021-12-13T05:16:51.717864Z"
    }
   },
   "outputs": [],
   "source": [
    "savedate = '20211214'\n",
    "TPE_multi = True\n",
    "\n",
    "table_setC['sampler'] = 'multivariate-TPE' if TPE_multi else 'univariate-TPE'\n",
    "table_setC['model'] = 'RandomForest'\n",
    "with pd.ExcelWriter(f'{savedate}_Classifier.xlsx', mode = 'a') as writer:\n",
    "    table_setC.to_excel(writer, sheet_name = 'RandomForest')"
   ]
  }
 ],
 "metadata": {
  "hide_input": false,
  "kernelspec": {
   "display_name": "Python [conda env:aging]",
   "language": "python",
   "name": "conda-env-aging-py"
  },
  "language_info": {
   "codemirror_mode": {
    "name": "ipython",
    "version": 3
   },
   "file_extension": ".py",
   "mimetype": "text/x-python",
   "name": "python",
   "nbconvert_exporter": "python",
   "pygments_lexer": "ipython3",
   "version": "3.7.10"
  },
  "toc": {
   "base_numbering": 1,
   "nav_menu": {},
   "number_sections": true,
   "sideBar": true,
   "skip_h1_title": false,
   "title_cell": "Table of Contents",
   "title_sidebar": "Contents",
   "toc_cell": false,
   "toc_position": {},
   "toc_section_display": true,
   "toc_window_display": false
  },
  "varInspector": {
   "cols": {
    "lenName": 16,
    "lenType": 16,
    "lenVar": 40
   },
   "kernels_config": {
    "python": {
     "delete_cmd_postfix": "",
     "delete_cmd_prefix": "del ",
     "library": "var_list.py",
     "varRefreshCmd": "print(var_dic_list())"
    },
    "r": {
     "delete_cmd_postfix": ") ",
     "delete_cmd_prefix": "rm(",
     "library": "var_list.r",
     "varRefreshCmd": "cat(var_dic_list()) "
    }
   },
   "types_to_exclude": [
    "module",
    "function",
    "builtin_function_or_method",
    "instance",
    "_Feature"
   ],
   "window_display": false
  }
 },
 "nbformat": 4,
 "nbformat_minor": 2
}
