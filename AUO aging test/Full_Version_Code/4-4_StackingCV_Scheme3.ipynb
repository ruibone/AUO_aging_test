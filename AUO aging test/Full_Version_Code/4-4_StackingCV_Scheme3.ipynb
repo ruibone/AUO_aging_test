{
 "cells": [
  {
   "cell_type": "code",
   "execution_count": 93,
   "metadata": {
    "ExecuteTime": {
     "end_time": "2021-10-09T09:09:34.121221Z",
     "start_time": "2021-10-09T09:09:34.103230Z"
    }
   },
   "outputs": [
    {
     "ename": "ImportError",
     "evalue": "cannot import name 'AdaBoost_creator' from 'library.AdaBoost' (C:\\Users\\user\\Desktop\\Darui_R08621110\\Master_Thesis\\AUO aging test\\Full_Version_Code\\library\\AdaBoost.py)",
     "output_type": "error",
     "traceback": [
      "\u001b[1;31m---------------------------------------------------------------------------\u001b[0m",
      "\u001b[1;31mImportError\u001b[0m                               Traceback (most recent call last)",
      "\u001b[1;32m<ipython-input-93-ab6974125704>\u001b[0m in \u001b[0;36m<module>\u001b[1;34m\u001b[0m\n\u001b[0;32m     18\u001b[0m \u001b[1;32mfrom\u001b[0m \u001b[0mlibrary\u001b[0m\u001b[1;33m.\u001b[0m\u001b[0mImbalance_Sampling\u001b[0m \u001b[1;32mimport\u001b[0m \u001b[0mlabel_divide\u001b[0m\u001b[1;33m\u001b[0m\u001b[1;33m\u001b[0m\u001b[0m\n\u001b[0;32m     19\u001b[0m \u001b[1;32mfrom\u001b[0m \u001b[0mlibrary\u001b[0m\u001b[1;33m.\u001b[0m\u001b[0mAging_Score_Contour\u001b[0m \u001b[1;32mimport\u001b[0m \u001b[0mscore1\u001b[0m\u001b[1;33m\u001b[0m\u001b[1;33m\u001b[0m\u001b[0m\n\u001b[1;32m---> 20\u001b[1;33m \u001b[1;32mfrom\u001b[0m \u001b[0mlibrary\u001b[0m\u001b[1;33m.\u001b[0m\u001b[0mAdaBoost\u001b[0m \u001b[1;32mimport\u001b[0m \u001b[0mtrain_set\u001b[0m\u001b[1;33m,\u001b[0m \u001b[0mmultiple_set\u001b[0m\u001b[1;33m,\u001b[0m \u001b[0mmultiple_month\u001b[0m\u001b[1;33m,\u001b[0m \u001b[0mline_chart\u001b[0m\u001b[1;33m,\u001b[0m \u001b[0mcf_matrix\u001b[0m\u001b[1;33m,\u001b[0m \u001b[0mAUC\u001b[0m\u001b[1;33m,\u001b[0m \u001b[0mPR_curve\u001b[0m\u001b[1;33m,\u001b[0m\u001b[0;31m \u001b[0m\u001b[0;31m\\\u001b[0m\u001b[1;33m\u001b[0m\u001b[1;33m\u001b[0m\u001b[0m\n\u001b[0m\u001b[0;32m     21\u001b[0m      \u001b[0mmultiple_curve\u001b[0m\u001b[1;33m,\u001b[0m \u001b[0mPR_matrix\u001b[0m\u001b[1;33m,\u001b[0m \u001b[0mbest_threshold\u001b[0m\u001b[1;33m,\u001b[0m \u001b[0mall_optuna\u001b[0m\u001b[1;33m,\u001b[0m \u001b[0moptuna_history\u001b[0m\u001b[1;33m,\u001b[0m \u001b[0mAdaBoost_creator\u001b[0m\u001b[1;33m\u001b[0m\u001b[1;33m\u001b[0m\u001b[0m\n\u001b[0;32m     22\u001b[0m \u001b[1;32mfrom\u001b[0m \u001b[0mlibrary\u001b[0m\u001b[1;33m.\u001b[0m\u001b[0mXGBoost\u001b[0m \u001b[1;32mimport\u001b[0m \u001b[0mXGBoost_creator\u001b[0m\u001b[1;33m\u001b[0m\u001b[1;33m\u001b[0m\u001b[0m\n",
      "\u001b[1;31mImportError\u001b[0m: cannot import name 'AdaBoost_creator' from 'library.AdaBoost' (C:\\Users\\user\\Desktop\\Darui_R08621110\\Master_Thesis\\AUO aging test\\Full_Version_Code\\library\\AdaBoost.py)"
     ]
    }
   ],
   "source": [
    "import os\n",
    "import numpy as np\n",
    "import pandas as pd\n",
    "import matplotlib.pyplot as plt\n",
    "import random\n",
    "import pickle\n",
    "from tqdm.auto import tqdm\n",
    "\n",
    "from sklearn.linear_model import LogisticRegression, RidgeCV, Ridge\n",
    "from sklearn.ensemble import ExtraTreesClassifier, ExtraTreesRegressor, RandomForestClassifier, RandomForestRegressor\n",
    "from sklearn.model_selection import train_test_split\n",
    "from catboost import CatBoostClassifier, CatBoostRegressor\n",
    "from lightgbm import LGBMClassifier, LGBMRegressor\n",
    "from xgboost import XGBClassifier, XGBRegressor\n",
    "import optuna\n",
    "\n",
    "from library.Data_Preprocessing import Balance_Ratio\n",
    "from library.Imbalance_Sampling import label_divide\n",
    "from library.Aging_Score_Contour import score1\n",
    "from library.AdaBoost import train_set, multiple_set, multiple_month, line_chart, cf_matrix, AUC, PR_curve, \\\n",
    "     multiple_curve, PR_matrix, best_threshold, all_optuna, optuna_history, AdaBoost_creator \n",
    "from library.XGBoost import XGBoost_creator\n",
    "from library.LightGBM import LightGBM_creator\n",
    "from library.CatBoost import CatBoost_creator\n",
    "from library.Random_Forest import RandomForest_creator\n",
    "from library.Extra_Trees import ExtraTrees_creator\n",
    "\n",
    "os.chdir('C:/Users/user/Desktop/Darui_R08621110')  \n",
    "os.getcwd()"
   ]
  },
  {
   "cell_type": "markdown",
   "metadata": {},
   "source": [
    "## "
   ]
  },
  {
   "cell_type": "code",
   "execution_count": 84,
   "metadata": {
    "ExecuteTime": {
     "end_time": "2021-10-09T08:46:12.817578Z",
     "start_time": "2021-10-09T08:45:32.923725Z"
    },
    "collapsed": true
   },
   "outputs": [
    {
     "data": {
      "application/vnd.jupyter.widget-view+json": {
       "model_id": "b30b3ab511594460b3bc6836ce2b9cf0",
       "version_major": 2,
       "version_minor": 0
      },
      "text/plain": [
       "  0%|          | 0/3 [00:00<?, ?it/s]"
      ]
     },
     "metadata": {},
     "output_type": "display_data"
    },
    {
     "data": {
      "application/vnd.jupyter.widget-view+json": {
       "model_id": "1b43a29f989f4a29ad8acb531ac4cc5f",
       "version_major": 2,
       "version_minor": 0
      },
      "text/plain": [
       "  0%|          | 0/10 [00:00<?, ?it/s]"
      ]
     },
     "metadata": {},
     "output_type": "display_data"
    },
    {
     "name": "stderr",
     "output_type": "stream",
     "text": [
      "\u001b[32m[I 2021-10-09 16:45:32,954]\u001b[0m A new study created in memory with name: no-name-b32bbe13-0b56-40f7-9dd8-097f5e936a9b\u001b[0m\n"
     ]
    },
    {
     "name": "stdout",
     "output_type": "stream",
     "text": [
      "Dataset0 :\n"
     ]
    },
    {
     "name": "stderr",
     "output_type": "stream",
     "text": [
      "C:\\Users\\user\\anaconda3\\envs\\aging\\lib\\site-packages\\optuna\\progress_bar.py:47: ExperimentalWarning: Progress bar is experimental (supported from v1.2.0). The interface can change in the future.\n",
      "  self._init_valid()\n"
     ]
    },
    {
     "data": {
      "application/vnd.jupyter.widget-view+json": {
       "model_id": "a67c86f6693447abb475bcc2f3c0bf39",
       "version_major": 2,
       "version_minor": 0
      },
      "text/plain": [
       "  0%|          | 0/1 [00:00<?, ?it/s]"
      ]
     },
     "metadata": {},
     "output_type": "display_data"
    },
    {
     "name": "stdout",
     "output_type": "stream",
     "text": [
      "[16:45:33] WARNING: C:/Users/Administrator/workspace/xgboost-win64_release_1.4.0/src/learner.cc:1095: Starting in XGBoost 1.3.0, the default evaluation metric used with the objective 'binary:logistic' was changed from 'error' to 'logloss'. Explicitly set eval_metric if you'd like to restore the old behavior.\n"
     ]
    },
    {
     "name": "stderr",
     "output_type": "stream",
     "text": [
      "C:\\Users\\user\\anaconda3\\envs\\aging\\lib\\site-packages\\xgboost\\sklearn.py:1146: UserWarning: The use of label encoder in XGBClassifier is deprecated and will be removed in a future release. To remove this warning, do the following: 1) Pass option use_label_encoder=False when constructing XGBClassifier object; and 2) Encode your labels (y) as integers starting with 0, i.e. 0, 1, 2, ..., [num_class - 1].\n",
      "  warnings.warn(label_encoder_deprecation_msg, UserWarning)\n",
      "C:\\Users\\user\\anaconda3\\envs\\aging\\lib\\site-packages\\pandas\\core\\computation\\expressions.py:205: UserWarning: evaluating in Python space because the '*' operator is not supported by numexpr for the bool dtype, use '&' instead\n",
      "  f\"evaluating in Python space because the {repr(op_str)} \"\n",
      "C:\\Users\\user\\anaconda3\\envs\\aging\\lib\\site-packages\\pandas\\core\\computation\\expressions.py:205: UserWarning: evaluating in Python space because the '*' operator is not supported by numexpr for the bool dtype, use '&' instead\n",
      "  f\"evaluating in Python space because the {repr(op_str)} \"\n",
      "C:\\Users\\user\\Desktop\\Darui_R08621110\\Master_Thesis\\AUO aging test\\Full_Version_Code\\library\\AdaBoost.py:102: RuntimeWarning: invalid value encountered in double_scalars\n",
      "  eff = recall / ar\n",
      "C:\\Users\\user\\Desktop\\Darui_R08621110\\Master_Thesis\\AUO aging test\\Full_Version_Code\\library\\Aging_Score_Contour.py:43: RuntimeWarning: invalid value encountered in double_scalars\n",
      "  eff = r/ag\n",
      "C:\\Users\\user\\anaconda3\\envs\\aging\\lib\\site-packages\\xgboost\\sklearn.py:1146: UserWarning: The use of label encoder in XGBClassifier is deprecated and will be removed in a future release. To remove this warning, do the following: 1) Pass option use_label_encoder=False when constructing XGBClassifier object; and 2) Encode your labels (y) as integers starting with 0, i.e. 0, 1, 2, ..., [num_class - 1].\n",
      "  warnings.warn(label_encoder_deprecation_msg, UserWarning)\n"
     ]
    },
    {
     "name": "stdout",
     "output_type": "stream",
     "text": [
      "Precision: 0 \n",
      "Recall: 0.0 \n",
      "Aging Rate: 0.0\n",
      "[16:45:33] WARNING: C:/Users/Administrator/workspace/xgboost-win64_release_1.4.0/src/learner.cc:1095: Starting in XGBoost 1.3.0, the default evaluation metric used with the objective 'binary:logistic' was changed from 'error' to 'logloss'. Explicitly set eval_metric if you'd like to restore the old behavior.\n"
     ]
    },
    {
     "name": "stderr",
     "output_type": "stream",
     "text": [
      "C:\\Users\\user\\anaconda3\\envs\\aging\\lib\\site-packages\\pandas\\core\\computation\\expressions.py:205: UserWarning: evaluating in Python space because the '*' operator is not supported by numexpr for the bool dtype, use '&' instead\n",
      "  f\"evaluating in Python space because the {repr(op_str)} \"\n",
      "C:\\Users\\user\\anaconda3\\envs\\aging\\lib\\site-packages\\pandas\\core\\computation\\expressions.py:205: UserWarning: evaluating in Python space because the '*' operator is not supported by numexpr for the bool dtype, use '&' instead\n",
      "  f\"evaluating in Python space because the {repr(op_str)} \"\n",
      "C:\\Users\\user\\Desktop\\Darui_R08621110\\Master_Thesis\\AUO aging test\\Full_Version_Code\\library\\AdaBoost.py:102: RuntimeWarning: invalid value encountered in double_scalars\n",
      "  eff = recall / ar\n",
      "C:\\Users\\user\\Desktop\\Darui_R08621110\\Master_Thesis\\AUO aging test\\Full_Version_Code\\library\\Aging_Score_Contour.py:43: RuntimeWarning: invalid value encountered in double_scalars\n",
      "  eff = r/ag\n",
      "C:\\Users\\user\\anaconda3\\envs\\aging\\lib\\site-packages\\xgboost\\sklearn.py:1146: UserWarning: The use of label encoder in XGBClassifier is deprecated and will be removed in a future release. To remove this warning, do the following: 1) Pass option use_label_encoder=False when constructing XGBClassifier object; and 2) Encode your labels (y) as integers starting with 0, i.e. 0, 1, 2, ..., [num_class - 1].\n",
      "  warnings.warn(label_encoder_deprecation_msg, UserWarning)\n"
     ]
    },
    {
     "name": "stdout",
     "output_type": "stream",
     "text": [
      "Precision: 0 \n",
      "Recall: 0.0 \n",
      "Aging Rate: 0.0\n",
      "[16:45:34] WARNING: C:/Users/Administrator/workspace/xgboost-win64_release_1.4.0/src/learner.cc:1095: Starting in XGBoost 1.3.0, the default evaluation metric used with the objective 'binary:logistic' was changed from 'error' to 'logloss'. Explicitly set eval_metric if you'd like to restore the old behavior.\n"
     ]
    },
    {
     "name": "stderr",
     "output_type": "stream",
     "text": [
      "C:\\Users\\user\\anaconda3\\envs\\aging\\lib\\site-packages\\pandas\\core\\computation\\expressions.py:205: UserWarning: evaluating in Python space because the '*' operator is not supported by numexpr for the bool dtype, use '&' instead\n",
      "  f\"evaluating in Python space because the {repr(op_str)} \"\n",
      "C:\\Users\\user\\anaconda3\\envs\\aging\\lib\\site-packages\\pandas\\core\\computation\\expressions.py:205: UserWarning: evaluating in Python space because the '*' operator is not supported by numexpr for the bool dtype, use '&' instead\n",
      "  f\"evaluating in Python space because the {repr(op_str)} \"\n",
      "C:\\Users\\user\\Desktop\\Darui_R08621110\\Master_Thesis\\AUO aging test\\Full_Version_Code\\library\\AdaBoost.py:102: RuntimeWarning: invalid value encountered in double_scalars\n",
      "  eff = recall / ar\n",
      "C:\\Users\\user\\Desktop\\Darui_R08621110\\Master_Thesis\\AUO aging test\\Full_Version_Code\\library\\Aging_Score_Contour.py:43: RuntimeWarning: invalid value encountered in double_scalars\n",
      "  eff = r/ag\n",
      "\u001b[32m[I 2021-10-09 16:45:35,365]\u001b[0m A new study created in memory with name: no-name-27806d16-bbfc-4e0a-ad7d-f1e0563e0688\u001b[0m\n"
     ]
    },
    {
     "name": "stdout",
     "output_type": "stream",
     "text": [
      "Precision: 0 \n",
      "Recall: 0.0 \n",
      "Aging Rate: 0.0\n",
      "\u001b[32m[I 2021-10-09 16:45:35,293]\u001b[0m Trial 0 finished with value: 0.0 and parameters: {'n_estimators': 200, 'subsample': 0.9, 'min_child_weight': 18, 'max_depth': 5, 'learning_rate': 0.275, 'reg_alpha': 0.00036983211654669694, 'reg_lambda': 0.003683483846352007}. Best is trial 0 with value: 0.0.\u001b[0m\n",
      "Sampler is TPESampler\n",
      "Dataset1 :\n"
     ]
    },
    {
     "name": "stderr",
     "output_type": "stream",
     "text": [
      "C:\\Users\\user\\anaconda3\\envs\\aging\\lib\\site-packages\\optuna\\progress_bar.py:47: ExperimentalWarning: Progress bar is experimental (supported from v1.2.0). The interface can change in the future.\n",
      "  self._init_valid()\n"
     ]
    },
    {
     "data": {
      "application/vnd.jupyter.widget-view+json": {
       "model_id": "e99a0e6b7a5d4c249644c21f20cc9dcd",
       "version_major": 2,
       "version_minor": 0
      },
      "text/plain": [
       "  0%|          | 0/1 [00:00<?, ?it/s]"
      ]
     },
     "metadata": {},
     "output_type": "display_data"
    },
    {
     "name": "stderr",
     "output_type": "stream",
     "text": [
      "C:\\Users\\user\\anaconda3\\envs\\aging\\lib\\site-packages\\xgboost\\sklearn.py:1146: UserWarning: The use of label encoder in XGBClassifier is deprecated and will be removed in a future release. To remove this warning, do the following: 1) Pass option use_label_encoder=False when constructing XGBClassifier object; and 2) Encode your labels (y) as integers starting with 0, i.e. 0, 1, 2, ..., [num_class - 1].\n",
      "  warnings.warn(label_encoder_deprecation_msg, UserWarning)\n",
      "C:\\Users\\user\\anaconda3\\envs\\aging\\lib\\site-packages\\pandas\\core\\computation\\expressions.py:205: UserWarning: evaluating in Python space because the '*' operator is not supported by numexpr for the bool dtype, use '&' instead\n",
      "  f\"evaluating in Python space because the {repr(op_str)} \"\n",
      "C:\\Users\\user\\anaconda3\\envs\\aging\\lib\\site-packages\\pandas\\core\\computation\\expressions.py:205: UserWarning: evaluating in Python space because the '*' operator is not supported by numexpr for the bool dtype, use '&' instead\n",
      "  f\"evaluating in Python space because the {repr(op_str)} \"\n"
     ]
    },
    {
     "name": "stdout",
     "output_type": "stream",
     "text": [
      "[16:45:35] WARNING: C:/Users/Administrator/workspace/xgboost-win64_release_1.4.0/src/learner.cc:1095: Starting in XGBoost 1.3.0, the default evaluation metric used with the objective 'binary:logistic' was changed from 'error' to 'logloss'. Explicitly set eval_metric if you'd like to restore the old behavior.\n",
      "Precision:"
     ]
    },
    {
     "name": "stderr",
     "output_type": "stream",
     "text": [
      "C:\\Users\\user\\anaconda3\\envs\\aging\\lib\\site-packages\\xgboost\\sklearn.py:1146: UserWarning: The use of label encoder in XGBClassifier is deprecated and will be removed in a future release. To remove this warning, do the following: 1) Pass option use_label_encoder=False when constructing XGBClassifier object; and 2) Encode your labels (y) as integers starting with 0, i.e. 0, 1, 2, ..., [num_class - 1].\n",
      "  warnings.warn(label_encoder_deprecation_msg, UserWarning)\n",
      "C:\\Users\\user\\anaconda3\\envs\\aging\\lib\\site-packages\\pandas\\core\\computation\\expressions.py:205: UserWarning: evaluating in Python space because the '*' operator is not supported by numexpr for the bool dtype, use '&' instead\n",
      "  f\"evaluating in Python space because the {repr(op_str)} \"\n",
      "C:\\Users\\user\\anaconda3\\envs\\aging\\lib\\site-packages\\pandas\\core\\computation\\expressions.py:205: UserWarning: evaluating in Python space because the '*' operator is not supported by numexpr for the bool dtype, use '&' instead\n",
      "  f\"evaluating in Python space because the {repr(op_str)} \"\n"
     ]
    },
    {
     "name": "stdout",
     "output_type": "stream",
     "text": [
      " 0.9930555555555556 \n",
      "Recall: 0.9930555555555556 \n",
      "Aging Rate: 0.5106382978723404\n",
      "[16:45:35] WARNING: C:/Users/Administrator/workspace/xgboost-win64_release_1.4.0/src/learner.cc:1095: Starting in XGBoost 1.3.0, the default evaluation metric used with the objective 'binary:logistic' was changed from 'error' to 'logloss'. Explicitly set eval_metric if you'd like to restore the old behavior.\n",
      "Precision:"
     ]
    },
    {
     "name": "stderr",
     "output_type": "stream",
     "text": [
      "C:\\Users\\user\\anaconda3\\envs\\aging\\lib\\site-packages\\xgboost\\sklearn.py:1146: UserWarning: The use of label encoder in XGBClassifier is deprecated and will be removed in a future release. To remove this warning, do the following: 1) Pass option use_label_encoder=False when constructing XGBClassifier object; and 2) Encode your labels (y) as integers starting with 0, i.e. 0, 1, 2, ..., [num_class - 1].\n",
      "  warnings.warn(label_encoder_deprecation_msg, UserWarning)\n",
      "C:\\Users\\user\\anaconda3\\envs\\aging\\lib\\site-packages\\pandas\\core\\computation\\expressions.py:205: UserWarning: evaluating in Python space because the '*' operator is not supported by numexpr for the bool dtype, use '&' instead\n",
      "  f\"evaluating in Python space because the {repr(op_str)} \"\n",
      "C:\\Users\\user\\anaconda3\\envs\\aging\\lib\\site-packages\\pandas\\core\\computation\\expressions.py:205: UserWarning: evaluating in Python space because the '*' operator is not supported by numexpr for the bool dtype, use '&' instead\n",
      "  f\"evaluating in Python space because the {repr(op_str)} \"\n"
     ]
    },
    {
     "name": "stdout",
     "output_type": "stream",
     "text": [
      " 0.9859154929577465 \n",
      "Recall: 0.9655172413793104 \n",
      "Aging Rate: 0.5035460992907801\n",
      "[16:45:35] WARNING: C:/Users/Administrator/workspace/xgboost-win64_release_1.4.0/src/learner.cc:1095: Starting in XGBoost 1.3.0, the default evaluation metric used with the objective 'binary:logistic' was changed from 'error' to 'logloss'. Explicitly set eval_metric if you'd like to restore the old behavior.\n",
      "Precision:"
     ]
    },
    {
     "name": "stderr",
     "output_type": "stream",
     "text": [
      "\u001b[32m[I 2021-10-09 16:45:35,766]\u001b[0m A new study created in memory with name: no-name-b84a367e-ce84-4b99-9103-7cf85854ffb4\u001b[0m\n"
     ]
    },
    {
     "name": "stdout",
     "output_type": "stream",
     "text": [
      " 0.9855072463768116 \n",
      "Recall: 0.9714285714285714 \n",
      "Aging Rate: 0.48936170212765956\n",
      "\u001b[32m[I 2021-10-09 16:45:35,698]\u001b[0m Trial 0 finished with value: 0.9265489194781198 and parameters: {'n_estimators': 150, 'subsample': 0.5, 'min_child_weight': 3, 'max_depth': 13, 'learning_rate': 0.275, 'reg_alpha': 0.9615065917474165, 'reg_lambda': 0.07701642706365712}. Best is trial 0 with value: 0.9265489194781198.\u001b[0m\n",
      "Sampler is TPESampler\n",
      "Dataset2 :\n"
     ]
    },
    {
     "name": "stderr",
     "output_type": "stream",
     "text": [
      "C:\\Users\\user\\anaconda3\\envs\\aging\\lib\\site-packages\\optuna\\progress_bar.py:47: ExperimentalWarning: Progress bar is experimental (supported from v1.2.0). The interface can change in the future.\n",
      "  self._init_valid()\n"
     ]
    },
    {
     "data": {
      "application/vnd.jupyter.widget-view+json": {
       "model_id": "13b4c66023ad429ab1556e93586a8f23",
       "version_major": 2,
       "version_minor": 0
      },
      "text/plain": [
       "  0%|          | 0/1 [00:00<?, ?it/s]"
      ]
     },
     "metadata": {},
     "output_type": "display_data"
    },
    {
     "name": "stdout",
     "output_type": "stream",
     "text": [
      "[16:45:35] WARNING: C:/Users/Administrator/workspace/xgboost-win64_release_1.4.0/src/learner.cc:1095: Starting in XGBoost 1.3.0, the default evaluation metric used with the objective 'binary:logistic' was changed from 'error' to 'logloss'. Explicitly set eval_metric if you'd like to restore the old behavior.\n"
     ]
    },
    {
     "name": "stderr",
     "output_type": "stream",
     "text": [
      "C:\\Users\\user\\anaconda3\\envs\\aging\\lib\\site-packages\\xgboost\\sklearn.py:1146: UserWarning: The use of label encoder in XGBClassifier is deprecated and will be removed in a future release. To remove this warning, do the following: 1) Pass option use_label_encoder=False when constructing XGBClassifier object; and 2) Encode your labels (y) as integers starting with 0, i.e. 0, 1, 2, ..., [num_class - 1].\n",
      "  warnings.warn(label_encoder_deprecation_msg, UserWarning)\n",
      "C:\\Users\\user\\anaconda3\\envs\\aging\\lib\\site-packages\\pandas\\core\\computation\\expressions.py:205: UserWarning: evaluating in Python space because the '*' operator is not supported by numexpr for the bool dtype, use '&' instead\n",
      "  f\"evaluating in Python space because the {repr(op_str)} \"\n",
      "C:\\Users\\user\\anaconda3\\envs\\aging\\lib\\site-packages\\pandas\\core\\computation\\expressions.py:205: UserWarning: evaluating in Python space because the '*' operator is not supported by numexpr for the bool dtype, use '&' instead\n",
      "  f\"evaluating in Python space because the {repr(op_str)} \"\n",
      "C:\\Users\\user\\anaconda3\\envs\\aging\\lib\\site-packages\\xgboost\\sklearn.py:1146: UserWarning: The use of label encoder in XGBClassifier is deprecated and will be removed in a future release. To remove this warning, do the following: 1) Pass option use_label_encoder=False when constructing XGBClassifier object; and 2) Encode your labels (y) as integers starting with 0, i.e. 0, 1, 2, ..., [num_class - 1].\n",
      "  warnings.warn(label_encoder_deprecation_msg, UserWarning)\n"
     ]
    },
    {
     "name": "stdout",
     "output_type": "stream",
     "text": [
      "Precision: 0.952 \n",
      "Recall: 0.9596774193548387 \n",
      "Aging Rate: 0.5186721991701245\n",
      "[16:45:35] WARNING: C:/Users/Administrator/workspace/xgboost-win64_release_1.4.0/src/learner.cc:1095: Starting in XGBoost 1.3.0, the default evaluation metric used with the objective 'binary:logistic' was changed from 'error' to 'logloss'. Explicitly set eval_metric if you'd like to restore the old behavior.\n",
      "Precision: 0.9669421487603306 \n",
      "Recall: 0.975 \n",
      "Aging Rate: 0.5020746887966805\n",
      "[16:45:36] WARNING: C:/Users/Administrator/workspace/xgboost-win64_release_1.4.0/src/learner.cc:1095: Starting in XGBoost 1.3.0, the default evaluation metric used with the objective 'binary:logistic' was changed from 'error' to 'logloss'. Explicitly set eval_metric if you'd like to restore the old behavior.\n"
     ]
    },
    {
     "name": "stderr",
     "output_type": "stream",
     "text": [
      "C:\\Users\\user\\anaconda3\\envs\\aging\\lib\\site-packages\\pandas\\core\\computation\\expressions.py:205: UserWarning: evaluating in Python space because the '*' operator is not supported by numexpr for the bool dtype, use '&' instead\n",
      "  f\"evaluating in Python space because the {repr(op_str)} \"\n",
      "C:\\Users\\user\\anaconda3\\envs\\aging\\lib\\site-packages\\pandas\\core\\computation\\expressions.py:205: UserWarning: evaluating in Python space because the '*' operator is not supported by numexpr for the bool dtype, use '&' instead\n",
      "  f\"evaluating in Python space because the {repr(op_str)} \"\n",
      "C:\\Users\\user\\anaconda3\\envs\\aging\\lib\\site-packages\\xgboost\\sklearn.py:1146: UserWarning: The use of label encoder in XGBClassifier is deprecated and will be removed in a future release. To remove this warning, do the following: 1) Pass option use_label_encoder=False when constructing XGBClassifier object; and 2) Encode your labels (y) as integers starting with 0, i.e. 0, 1, 2, ..., [num_class - 1].\n",
      "  warnings.warn(label_encoder_deprecation_msg, UserWarning)\n",
      "C:\\Users\\user\\anaconda3\\envs\\aging\\lib\\site-packages\\pandas\\core\\computation\\expressions.py:205: UserWarning: evaluating in Python space because the '*' operator is not supported by numexpr for the bool dtype, use '&' instead\n",
      "  f\"evaluating in Python space because the {repr(op_str)} \"\n",
      "C:\\Users\\user\\anaconda3\\envs\\aging\\lib\\site-packages\\pandas\\core\\computation\\expressions.py:205: UserWarning: evaluating in Python space because the '*' operator is not supported by numexpr for the bool dtype, use '&' instead\n",
      "  f\"evaluating in Python space because the {repr(op_str)} \"\n"
     ]
    },
    {
     "name": "stdout",
     "output_type": "stream",
     "text": [
      "Precision: 0.9133858267716536 \n",
      "Recall: 1.0 \n",
      "Aging Rate: 0.5269709543568465\n",
      "\u001b[32m[I 2021-10-09 16:45:36,283]\u001b[0m Trial 0 finished with value: 0.9266352117074911 and parameters: {'n_estimators': 300, 'subsample': 0.7, 'min_child_weight': 12, 'max_depth': 7, 'learning_rate': 0.37500000000000006, 'reg_alpha': 0.012695702817508224, 'reg_lambda': 0.9761819268688307}. Best is trial 0 with value: 0.9266352117074911.\u001b[0m\n"
     ]
    },
    {
     "name": "stderr",
     "output_type": "stream",
     "text": [
      "\u001b[32m[I 2021-10-09 16:45:36,347]\u001b[0m A new study created in memory with name: no-name-68680af0-6887-4729-8fa4-d167af460081\u001b[0m\n"
     ]
    },
    {
     "name": "stdout",
     "output_type": "stream",
     "text": [
      "Sampler is TPESampler\n",
      "Dataset3 :\n"
     ]
    },
    {
     "name": "stderr",
     "output_type": "stream",
     "text": [
      "C:\\Users\\user\\anaconda3\\envs\\aging\\lib\\site-packages\\optuna\\progress_bar.py:47: ExperimentalWarning: Progress bar is experimental (supported from v1.2.0). The interface can change in the future.\n",
      "  self._init_valid()\n"
     ]
    },
    {
     "data": {
      "application/vnd.jupyter.widget-view+json": {
       "model_id": "e1baeffcf59b4c6faee8a50afd651dd9",
       "version_major": 2,
       "version_minor": 0
      },
      "text/plain": [
       "  0%|          | 0/1 [00:00<?, ?it/s]"
      ]
     },
     "metadata": {},
     "output_type": "display_data"
    },
    {
     "name": "stdout",
     "output_type": "stream",
     "text": [
      "[16:45:36] WARNING: C:/Users/Administrator/workspace/xgboost-win64_release_1.4.0/src/learner.cc:1095: Starting in XGBoost 1.3.0, the default evaluation metric used with the objective 'binary:logistic' was changed from 'error' to 'logloss'. Explicitly set eval_metric if you'd like to restore the old behavior.\n",
      "Precision: 0.9863945578231292 \n",
      "Recall: 0.9539473684210527 \n",
      "Aging Rate: 0.4788273615635179\n",
      "[16:45:36] WARNING: C:/Users/Administrator/workspace/xgboost-win64_release_1.4.0/src/learner.cc:1095: Starting in XGBoost 1.3.0, the default evaluation metric used with the objective 'binary:logistic' was changed from 'error' to 'logloss'. Explicitly set eval_metric if you'd like to restore the old behavior.\n",
      "Precision:"
     ]
    },
    {
     "name": "stderr",
     "output_type": "stream",
     "text": [
      "C:\\Users\\user\\anaconda3\\envs\\aging\\lib\\site-packages\\xgboost\\sklearn.py:1146: UserWarning: The use of label encoder in XGBClassifier is deprecated and will be removed in a future release. To remove this warning, do the following: 1) Pass option use_label_encoder=False when constructing XGBClassifier object; and 2) Encode your labels (y) as integers starting with 0, i.e. 0, 1, 2, ..., [num_class - 1].\n",
      "  warnings.warn(label_encoder_deprecation_msg, UserWarning)\n",
      "C:\\Users\\user\\anaconda3\\envs\\aging\\lib\\site-packages\\pandas\\core\\computation\\expressions.py:205: UserWarning: evaluating in Python space because the '*' operator is not supported by numexpr for the bool dtype, use '&' instead\n",
      "  f\"evaluating in Python space because the {repr(op_str)} \"\n",
      "C:\\Users\\user\\anaconda3\\envs\\aging\\lib\\site-packages\\pandas\\core\\computation\\expressions.py:205: UserWarning: evaluating in Python space because the '*' operator is not supported by numexpr for the bool dtype, use '&' instead\n",
      "  f\"evaluating in Python space because the {repr(op_str)} \"\n",
      "C:\\Users\\user\\anaconda3\\envs\\aging\\lib\\site-packages\\xgboost\\sklearn.py:1146: UserWarning: The use of label encoder in XGBClassifier is deprecated and will be removed in a future release. To remove this warning, do the following: 1) Pass option use_label_encoder=False when constructing XGBClassifier object; and 2) Encode your labels (y) as integers starting with 0, i.e. 0, 1, 2, ..., [num_class - 1].\n",
      "  warnings.warn(label_encoder_deprecation_msg, UserWarning)\n",
      "C:\\Users\\user\\anaconda3\\envs\\aging\\lib\\site-packages\\pandas\\core\\computation\\expressions.py:205: UserWarning: evaluating in Python space because the '*' operator is not supported by numexpr for the bool dtype, use '&' instead\n",
      "  f\"evaluating in Python space because the {repr(op_str)} \"\n",
      "C:\\Users\\user\\anaconda3\\envs\\aging\\lib\\site-packages\\pandas\\core\\computation\\expressions.py:205: UserWarning: evaluating in Python space because the '*' operator is not supported by numexpr for the bool dtype, use '&' instead\n",
      "  f\"evaluating in Python space because the {repr(op_str)} \"\n",
      "C:\\Users\\user\\anaconda3\\envs\\aging\\lib\\site-packages\\xgboost\\sklearn.py:1146: UserWarning: The use of label encoder in XGBClassifier is deprecated and will be removed in a future release. To remove this warning, do the following: 1) Pass option use_label_encoder=False when constructing XGBClassifier object; and 2) Encode your labels (y) as integers starting with 0, i.e. 0, 1, 2, ..., [num_class - 1].\n",
      "  warnings.warn(label_encoder_deprecation_msg, UserWarning)\n",
      "C:\\Users\\user\\anaconda3\\envs\\aging\\lib\\site-packages\\pandas\\core\\computation\\expressions.py:205: UserWarning: evaluating in Python space because the '*' operator is not supported by numexpr for the bool dtype, use '&' instead\n",
      "  f\"evaluating in Python space because the {repr(op_str)} \"\n",
      "C:\\Users\\user\\anaconda3\\envs\\aging\\lib\\site-packages\\pandas\\core\\computation\\expressions.py:205: UserWarning: evaluating in Python space because the '*' operator is not supported by numexpr for the bool dtype, use '&' instead\n",
      "  f\"evaluating in Python space because the {repr(op_str)} \"\n"
     ]
    },
    {
     "name": "stdout",
     "output_type": "stream",
     "text": [
      " 0.9855072463768116 \n",
      "Recall: 0.951048951048951 \n",
      "Aging Rate: 0.4495114006514658\n",
      "[16:45:36] WARNING: C:/Users/Administrator/workspace/xgboost-win64_release_1.4.0/src/learner.cc:1095: Starting in XGBoost 1.3.0, the default evaluation metric used with the objective 'binary:logistic' was changed from 'error' to 'logloss'. Explicitly set eval_metric if you'd like to restore the old behavior.\n",
      "Precision: 0.9748427672955975 \n",
      "Recall: 0.9393939393939394 \n",
      "Aging Rate: 0.5179153094462541\n",
      "\u001b[32m[I 2021-10-09 16:45:36,557]\u001b[0m Trial 0 finished with value: 0.8999216172326064 and parameters: {'n_estimators': 100, 'subsample': 0.5, 'min_child_weight': 21, 'max_depth': 7, 'learning_rate': 0.32500000000000007, 'reg_alpha': 0.1079347158152284, 'reg_lambda': 0.560816357963411}. Best is trial 0 with value: 0.8999216172326064.\u001b[0m\n"
     ]
    },
    {
     "name": "stderr",
     "output_type": "stream",
     "text": [
      "\u001b[32m[I 2021-10-09 16:45:36,622]\u001b[0m A new study created in memory with name: no-name-2852a2d7-0c7c-47ce-8beb-1a7f9de4548d\u001b[0m\n"
     ]
    },
    {
     "name": "stdout",
     "output_type": "stream",
     "text": [
      "Sampler is TPESampler\n",
      "Dataset4 :\n"
     ]
    },
    {
     "name": "stderr",
     "output_type": "stream",
     "text": [
      "C:\\Users\\user\\anaconda3\\envs\\aging\\lib\\site-packages\\optuna\\progress_bar.py:47: ExperimentalWarning: Progress bar is experimental (supported from v1.2.0). The interface can change in the future.\n",
      "  self._init_valid()\n"
     ]
    },
    {
     "data": {
      "application/vnd.jupyter.widget-view+json": {
       "model_id": "bd0b4217879c43edac7ab8dad72486fe",
       "version_major": 2,
       "version_minor": 0
      },
      "text/plain": [
       "  0%|          | 0/1 [00:00<?, ?it/s]"
      ]
     },
     "metadata": {},
     "output_type": "display_data"
    },
    {
     "name": "stdout",
     "output_type": "stream",
     "text": [
      "[16:45:36] WARNING: C:/Users/Administrator/workspace/xgboost-win64_release_1.4.0/src/learner.cc:1095: Starting in XGBoost 1.3.0, the default evaluation metric used with the objective 'binary:logistic' was changed from 'error' to 'logloss'. Explicitly set eval_metric if you'd like to restore the old behavior.\n"
     ]
    },
    {
     "name": "stderr",
     "output_type": "stream",
     "text": [
      "C:\\Users\\user\\anaconda3\\envs\\aging\\lib\\site-packages\\xgboost\\sklearn.py:1146: UserWarning: The use of label encoder in XGBClassifier is deprecated and will be removed in a future release. To remove this warning, do the following: 1) Pass option use_label_encoder=False when constructing XGBClassifier object; and 2) Encode your labels (y) as integers starting with 0, i.e. 0, 1, 2, ..., [num_class - 1].\n",
      "  warnings.warn(label_encoder_deprecation_msg, UserWarning)\n",
      "C:\\Users\\user\\anaconda3\\envs\\aging\\lib\\site-packages\\pandas\\core\\computation\\expressions.py:205: UserWarning: evaluating in Python space because the '*' operator is not supported by numexpr for the bool dtype, use '&' instead\n",
      "  f\"evaluating in Python space because the {repr(op_str)} \"\n",
      "C:\\Users\\user\\anaconda3\\envs\\aging\\lib\\site-packages\\pandas\\core\\computation\\expressions.py:205: UserWarning: evaluating in Python space because the '*' operator is not supported by numexpr for the bool dtype, use '&' instead\n",
      "  f\"evaluating in Python space because the {repr(op_str)} \"\n"
     ]
    },
    {
     "name": "stdout",
     "output_type": "stream",
     "text": [
      "Precision:"
     ]
    },
    {
     "name": "stderr",
     "output_type": "stream",
     "text": [
      "C:\\Users\\user\\anaconda3\\envs\\aging\\lib\\site-packages\\xgboost\\sklearn.py:1146: UserWarning: The use of label encoder in XGBClassifier is deprecated and will be removed in a future release. To remove this warning, do the following: 1) Pass option use_label_encoder=False when constructing XGBClassifier object; and 2) Encode your labels (y) as integers starting with 0, i.e. 0, 1, 2, ..., [num_class - 1].\n",
      "  warnings.warn(label_encoder_deprecation_msg, UserWarning)\n"
     ]
    },
    {
     "name": "stdout",
     "output_type": "stream",
     "text": [
      " 0.951048951048951 \n",
      "Recall: 0.9645390070921985 \n",
      "Aging Rate: 0.5017543859649123\n",
      "[16:45:36] WARNING: C:/Users/Administrator/workspace/xgboost-win64_release_1.4.0/src/learner.cc:1095: Starting in XGBoost 1.3.0, the default evaluation metric used with the objective 'binary:logistic' was changed from 'error' to 'logloss'. Explicitly set eval_metric if you'd like to restore the old behavior.\n"
     ]
    },
    {
     "name": "stderr",
     "output_type": "stream",
     "text": [
      "C:\\Users\\user\\anaconda3\\envs\\aging\\lib\\site-packages\\pandas\\core\\computation\\expressions.py:205: UserWarning: evaluating in Python space because the '*' operator is not supported by numexpr for the bool dtype, use '&' instead\n",
      "  f\"evaluating in Python space because the {repr(op_str)} \"\n",
      "C:\\Users\\user\\anaconda3\\envs\\aging\\lib\\site-packages\\pandas\\core\\computation\\expressions.py:205: UserWarning: evaluating in Python space because the '*' operator is not supported by numexpr for the bool dtype, use '&' instead\n",
      "  f\"evaluating in Python space because the {repr(op_str)} \"\n",
      "C:\\Users\\user\\anaconda3\\envs\\aging\\lib\\site-packages\\xgboost\\sklearn.py:1146: UserWarning: The use of label encoder in XGBClassifier is deprecated and will be removed in a future release. To remove this warning, do the following: 1) Pass option use_label_encoder=False when constructing XGBClassifier object; and 2) Encode your labels (y) as integers starting with 0, i.e. 0, 1, 2, ..., [num_class - 1].\n",
      "  warnings.warn(label_encoder_deprecation_msg, UserWarning)\n"
     ]
    },
    {
     "name": "stdout",
     "output_type": "stream",
     "text": [
      "Precision: 0.9647887323943662 \n",
      "Recall: 0.9647887323943662 \n",
      "Aging Rate: 0.4982456140350877\n",
      "[16:45:36] WARNING: C:/Users/Administrator/workspace/xgboost-win64_release_1.4.0/src/learner.cc:1095: Starting in XGBoost 1.3.0, the default evaluation metric used with the objective 'binary:logistic' was changed from 'error' to 'logloss'. Explicitly set eval_metric if you'd like to restore the old behavior.\n"
     ]
    },
    {
     "name": "stderr",
     "output_type": "stream",
     "text": [
      "C:\\Users\\user\\anaconda3\\envs\\aging\\lib\\site-packages\\pandas\\core\\computation\\expressions.py:205: UserWarning: evaluating in Python space because the '*' operator is not supported by numexpr for the bool dtype, use '&' instead\n",
      "  f\"evaluating in Python space because the {repr(op_str)} \"\n",
      "C:\\Users\\user\\anaconda3\\envs\\aging\\lib\\site-packages\\pandas\\core\\computation\\expressions.py:205: UserWarning: evaluating in Python space because the '*' operator is not supported by numexpr for the bool dtype, use '&' instead\n",
      "  f\"evaluating in Python space because the {repr(op_str)} \"\n"
     ]
    },
    {
     "name": "stdout",
     "output_type": "stream",
     "text": [
      "Precision: 0.958904109589041 \n",
      "Recall: 0.9859154929577465 \n",
      "Aging Rate: 0.512280701754386\n",
      "\u001b[32m[I 2021-10-09 16:45:37,151]\u001b[0m Trial 0 finished with value: 0.9213383874229576 and parameters: {'n_estimators': 300, 'subsample': 0.7, 'min_child_weight': 12, 'max_depth': 7, 'learning_rate': 0.275, 'reg_alpha': 0.5200838839330033, 'reg_lambda': 0.00021630834027447273}. Best is trial 0 with value: 0.9213383874229576.\u001b[0m\n"
     ]
    },
    {
     "name": "stderr",
     "output_type": "stream",
     "text": [
      "\u001b[32m[I 2021-10-09 16:45:37,218]\u001b[0m A new study created in memory with name: no-name-9feb6ea1-e77b-4977-b47c-769458b6cbb3\u001b[0m\n"
     ]
    },
    {
     "name": "stdout",
     "output_type": "stream",
     "text": [
      "Sampler is TPESampler\n",
      "Dataset5 :\n"
     ]
    },
    {
     "name": "stderr",
     "output_type": "stream",
     "text": [
      "C:\\Users\\user\\anaconda3\\envs\\aging\\lib\\site-packages\\optuna\\progress_bar.py:47: ExperimentalWarning: Progress bar is experimental (supported from v1.2.0). The interface can change in the future.\n",
      "  self._init_valid()\n"
     ]
    },
    {
     "data": {
      "application/vnd.jupyter.widget-view+json": {
       "model_id": "ebc6a81f07d54321a7683f97491c7fdb",
       "version_major": 2,
       "version_minor": 0
      },
      "text/plain": [
       "  0%|          | 0/1 [00:00<?, ?it/s]"
      ]
     },
     "metadata": {},
     "output_type": "display_data"
    },
    {
     "name": "stdout",
     "output_type": "stream",
     "text": [
      "[16:45:37] WARNING: C:/Users/Administrator/workspace/xgboost-win64_release_1.4.0/src/learner.cc:1095: Starting in XGBoost 1.3.0, the default evaluation metric used with the objective 'binary:logistic' was changed from 'error' to 'logloss'. Explicitly set eval_metric if you'd like to restore the old behavior.\n",
      "Precision:"
     ]
    },
    {
     "name": "stderr",
     "output_type": "stream",
     "text": [
      "C:\\Users\\user\\anaconda3\\envs\\aging\\lib\\site-packages\\xgboost\\sklearn.py:1146: UserWarning: The use of label encoder in XGBClassifier is deprecated and will be removed in a future release. To remove this warning, do the following: 1) Pass option use_label_encoder=False when constructing XGBClassifier object; and 2) Encode your labels (y) as integers starting with 0, i.e. 0, 1, 2, ..., [num_class - 1].\n",
      "  warnings.warn(label_encoder_deprecation_msg, UserWarning)\n",
      "C:\\Users\\user\\anaconda3\\envs\\aging\\lib\\site-packages\\pandas\\core\\computation\\expressions.py:205: UserWarning: evaluating in Python space because the '*' operator is not supported by numexpr for the bool dtype, use '&' instead\n",
      "  f\"evaluating in Python space because the {repr(op_str)} \"\n",
      "C:\\Users\\user\\anaconda3\\envs\\aging\\lib\\site-packages\\pandas\\core\\computation\\expressions.py:205: UserWarning: evaluating in Python space because the '*' operator is not supported by numexpr for the bool dtype, use '&' instead\n",
      "  f\"evaluating in Python space because the {repr(op_str)} \"\n",
      "C:\\Users\\user\\anaconda3\\envs\\aging\\lib\\site-packages\\xgboost\\sklearn.py:1146: UserWarning: The use of label encoder in XGBClassifier is deprecated and will be removed in a future release. To remove this warning, do the following: 1) Pass option use_label_encoder=False when constructing XGBClassifier object; and 2) Encode your labels (y) as integers starting with 0, i.e. 0, 1, 2, ..., [num_class - 1].\n",
      "  warnings.warn(label_encoder_deprecation_msg, UserWarning)\n",
      "C:\\Users\\user\\anaconda3\\envs\\aging\\lib\\site-packages\\pandas\\core\\computation\\expressions.py:205: UserWarning: evaluating in Python space because the '*' operator is not supported by numexpr for the bool dtype, use '&' instead\n",
      "  f\"evaluating in Python space because the {repr(op_str)} \"\n",
      "C:\\Users\\user\\anaconda3\\envs\\aging\\lib\\site-packages\\pandas\\core\\computation\\expressions.py:205: UserWarning: evaluating in Python space because the '*' operator is not supported by numexpr for the bool dtype, use '&' instead\n",
      "  f\"evaluating in Python space because the {repr(op_str)} \"\n",
      "C:\\Users\\user\\anaconda3\\envs\\aging\\lib\\site-packages\\xgboost\\sklearn.py:1146: UserWarning: The use of label encoder in XGBClassifier is deprecated and will be removed in a future release. To remove this warning, do the following: 1) Pass option use_label_encoder=False when constructing XGBClassifier object; and 2) Encode your labels (y) as integers starting with 0, i.e. 0, 1, 2, ..., [num_class - 1].\n",
      "  warnings.warn(label_encoder_deprecation_msg, UserWarning)\n"
     ]
    },
    {
     "name": "stdout",
     "output_type": "stream",
     "text": [
      " 0.990909090909091 \n",
      "Recall: 0.9646017699115044 \n",
      "Aging Rate: 0.497737556561086\n",
      "[16:45:37] WARNING: C:/Users/Administrator/workspace/xgboost-win64_release_1.4.0/src/learner.cc:1095: Starting in XGBoost 1.3.0, the default evaluation metric used with the objective 'binary:logistic' was changed from 'error' to 'logloss'. Explicitly set eval_metric if you'd like to restore the old behavior.\n",
      "Precision: 0.9826086956521739 \n",
      "Recall: 0.9658119658119658 \n",
      "Aging Rate: 0.5203619909502263\n",
      "[16:45:37] WARNING: C:/Users/Administrator/workspace/xgboost-win64_release_1.4.0/src/learner.cc:1095: Starting in XGBoost 1.3.0, the default evaluation metric used with the objective 'binary:logistic' was changed from 'error' to 'logloss'. Explicitly set eval_metric if you'd like to restore the old behavior.\n"
     ]
    },
    {
     "name": "stderr",
     "output_type": "stream",
     "text": [
      "C:\\Users\\user\\anaconda3\\envs\\aging\\lib\\site-packages\\pandas\\core\\computation\\expressions.py:205: UserWarning: evaluating in Python space because the '*' operator is not supported by numexpr for the bool dtype, use '&' instead\n",
      "  f\"evaluating in Python space because the {repr(op_str)} \"\n",
      "C:\\Users\\user\\anaconda3\\envs\\aging\\lib\\site-packages\\pandas\\core\\computation\\expressions.py:205: UserWarning: evaluating in Python space because the '*' operator is not supported by numexpr for the bool dtype, use '&' instead\n",
      "  f\"evaluating in Python space because the {repr(op_str)} \"\n"
     ]
    },
    {
     "name": "stdout",
     "output_type": "stream",
     "text": [
      "Precision: 0.9818181818181818 \n",
      "Recall: 0.972972972972973 \n",
      "Aging Rate: 0.497737556561086\n",
      "\u001b[32m[I 2021-10-09 16:45:37,505]\u001b[0m Trial 0 finished with value: 0.9172676660964011 and parameters: {'n_estimators': 150, 'subsample': 0.9, 'min_child_weight': 9, 'max_depth': 5, 'learning_rate': 0.425, 'reg_alpha': 0.03754236159563132, 'reg_lambda': 0.5290795645463021}. Best is trial 0 with value: 0.9172676660964011.\u001b[0m\n"
     ]
    },
    {
     "name": "stderr",
     "output_type": "stream",
     "text": [
      "\u001b[32m[I 2021-10-09 16:45:37,575]\u001b[0m A new study created in memory with name: no-name-feea78d8-993a-4375-aeb7-7f8ee7d5f37e\u001b[0m\n"
     ]
    },
    {
     "name": "stdout",
     "output_type": "stream",
     "text": [
      "Sampler is TPESampler\n",
      "Dataset6 :\n"
     ]
    },
    {
     "name": "stderr",
     "output_type": "stream",
     "text": [
      "C:\\Users\\user\\anaconda3\\envs\\aging\\lib\\site-packages\\optuna\\progress_bar.py:47: ExperimentalWarning: Progress bar is experimental (supported from v1.2.0). The interface can change in the future.\n",
      "  self._init_valid()\n"
     ]
    },
    {
     "data": {
      "application/vnd.jupyter.widget-view+json": {
       "model_id": "1c85b5a930194492beaac350f4442a9f",
       "version_major": 2,
       "version_minor": 0
      },
      "text/plain": [
       "  0%|          | 0/1 [00:00<?, ?it/s]"
      ]
     },
     "metadata": {},
     "output_type": "display_data"
    },
    {
     "name": "stderr",
     "output_type": "stream",
     "text": [
      "C:\\Users\\user\\anaconda3\\envs\\aging\\lib\\site-packages\\xgboost\\sklearn.py:1146: UserWarning: The use of label encoder in XGBClassifier is deprecated and will be removed in a future release. To remove this warning, do the following: 1) Pass option use_label_encoder=False when constructing XGBClassifier object; and 2) Encode your labels (y) as integers starting with 0, i.e. 0, 1, 2, ..., [num_class - 1].\n",
      "  warnings.warn(label_encoder_deprecation_msg, UserWarning)\n"
     ]
    },
    {
     "name": "stdout",
     "output_type": "stream",
     "text": [
      "[16:45:37] WARNING: C:/Users/Administrator/workspace/xgboost-win64_release_1.4.0/src/learner.cc:1095: Starting in XGBoost 1.3.0, the default evaluation metric used with the objective 'binary:logistic' was changed from 'error' to 'logloss'. Explicitly set eval_metric if you'd like to restore the old behavior.\n"
     ]
    },
    {
     "name": "stderr",
     "output_type": "stream",
     "text": [
      "C:\\Users\\user\\anaconda3\\envs\\aging\\lib\\site-packages\\pandas\\core\\computation\\expressions.py:205: UserWarning: evaluating in Python space because the '*' operator is not supported by numexpr for the bool dtype, use '&' instead\n",
      "  f\"evaluating in Python space because the {repr(op_str)} \"\n",
      "C:\\Users\\user\\anaconda3\\envs\\aging\\lib\\site-packages\\pandas\\core\\computation\\expressions.py:205: UserWarning: evaluating in Python space because the '*' operator is not supported by numexpr for the bool dtype, use '&' instead\n",
      "  f\"evaluating in Python space because the {repr(op_str)} \"\n",
      "C:\\Users\\user\\anaconda3\\envs\\aging\\lib\\site-packages\\xgboost\\sklearn.py:1146: UserWarning: The use of label encoder in XGBClassifier is deprecated and will be removed in a future release. To remove this warning, do the following: 1) Pass option use_label_encoder=False when constructing XGBClassifier object; and 2) Encode your labels (y) as integers starting with 0, i.e. 0, 1, 2, ..., [num_class - 1].\n",
      "  warnings.warn(label_encoder_deprecation_msg, UserWarning)\n"
     ]
    },
    {
     "name": "stdout",
     "output_type": "stream",
     "text": [
      "Precision: 0.907563025210084 \n",
      "Recall: 0.9 \n",
      "Aging Rate: 0.5151515151515151\n",
      "[16:45:37] WARNING: C:/Users/Administrator/workspace/xgboost-win64_release_1.4.0/src/learner.cc:1095: Starting in XGBoost 1.3.0, the default evaluation metric used with the objective 'binary:logistic' was changed from 'error' to 'logloss'. Explicitly set eval_metric if you'd like to restore the old behavior.\n",
      "Precision: 0.9375 \n",
      "Recall: 0.9302325581395349 \n",
      "Aging Rate: 0.5541125541125541\n",
      "[16:45:37] WARNING: C:/Users/Administrator/workspace/xgboost-win64_release_1.4.0/src/learner.cc:1095: Starting in XGBoost 1.3.0, the default evaluation metric used with the objective 'binary:logistic' was changed from 'error' to 'logloss'. Explicitly set eval_metric if you'd like to restore the old behavior.\n"
     ]
    },
    {
     "name": "stderr",
     "output_type": "stream",
     "text": [
      "C:\\Users\\user\\anaconda3\\envs\\aging\\lib\\site-packages\\pandas\\core\\computation\\expressions.py:205: UserWarning: evaluating in Python space because the '*' operator is not supported by numexpr for the bool dtype, use '&' instead\n",
      "  f\"evaluating in Python space because the {repr(op_str)} \"\n",
      "C:\\Users\\user\\anaconda3\\envs\\aging\\lib\\site-packages\\pandas\\core\\computation\\expressions.py:205: UserWarning: evaluating in Python space because the '*' operator is not supported by numexpr for the bool dtype, use '&' instead\n",
      "  f\"evaluating in Python space because the {repr(op_str)} \"\n",
      "C:\\Users\\user\\anaconda3\\envs\\aging\\lib\\site-packages\\xgboost\\sklearn.py:1146: UserWarning: The use of label encoder in XGBClassifier is deprecated and will be removed in a future release. To remove this warning, do the following: 1) Pass option use_label_encoder=False when constructing XGBClassifier object; and 2) Encode your labels (y) as integers starting with 0, i.e. 0, 1, 2, ..., [num_class - 1].\n",
      "  warnings.warn(label_encoder_deprecation_msg, UserWarning)\n",
      "C:\\Users\\user\\anaconda3\\envs\\aging\\lib\\site-packages\\pandas\\core\\computation\\expressions.py:205: UserWarning: evaluating in Python space because the '*' operator is not supported by numexpr for the bool dtype, use '&' instead\n",
      "  f\"evaluating in Python space because the {repr(op_str)} \"\n",
      "C:\\Users\\user\\anaconda3\\envs\\aging\\lib\\site-packages\\pandas\\core\\computation\\expressions.py:205: UserWarning: evaluating in Python space because the '*' operator is not supported by numexpr for the bool dtype, use '&' instead\n",
      "  f\"evaluating in Python space because the {repr(op_str)} \"\n",
      "\u001b[32m[I 2021-10-09 16:45:38,014]\u001b[0m A new study created in memory with name: no-name-13428878-b3a5-4fb0-b799-ad6e5e28e015\u001b[0m\n"
     ]
    },
    {
     "name": "stdout",
     "output_type": "stream",
     "text": [
      "Precision: 0.855072463768116 \n",
      "Recall: 0.9833333333333333 \n",
      "Aging Rate: 0.5974025974025974\n",
      "\u001b[32m[I 2021-10-09 16:45:37,947]\u001b[0m Trial 0 finished with value: 0.8822997416020671 and parameters: {'n_estimators': 200, 'subsample': 0.9, 'min_child_weight': 21, 'max_depth': 5, 'learning_rate': 0.125, 'reg_alpha': 0.0011240999656238176, 'reg_lambda': 0.00024951214327035415}. Best is trial 0 with value: 0.8822997416020671.\u001b[0m\n",
      "Sampler is TPESampler\n",
      "Dataset7 :\n"
     ]
    },
    {
     "name": "stderr",
     "output_type": "stream",
     "text": [
      "C:\\Users\\user\\anaconda3\\envs\\aging\\lib\\site-packages\\optuna\\progress_bar.py:47: ExperimentalWarning: Progress bar is experimental (supported from v1.2.0). The interface can change in the future.\n",
      "  self._init_valid()\n"
     ]
    },
    {
     "data": {
      "application/vnd.jupyter.widget-view+json": {
       "model_id": "31c3042775ec49d5a7a6d525aff63810",
       "version_major": 2,
       "version_minor": 0
      },
      "text/plain": [
       "  0%|          | 0/1 [00:00<?, ?it/s]"
      ]
     },
     "metadata": {},
     "output_type": "display_data"
    },
    {
     "name": "stdout",
     "output_type": "stream",
     "text": [
      "[16:45:38] WARNING: C:/Users/Administrator/workspace/xgboost-win64_release_1.4.0/src/learner.cc:1095: Starting in XGBoost 1.3.0, the default evaluation metric used with the objective 'binary:logistic' was changed from 'error' to 'logloss'. Explicitly set eval_metric if you'd like to restore the old behavior.\n",
      "Precision: 1.0 \n",
      "Recall: 0.975 \n",
      "Aging Rate: 0.5318181818181819\n",
      "[16:45:38] WARNING: C:/Users/Administrator/workspace/xgboost-win64_release_1.4.0/src/learner.cc:1095: Starting in XGBoost 1.3.0, the default evaluation metric used with the objective 'binary:logistic' was changed from 'error' to 'logloss'. Explicitly set eval_metric if you'd like to restore the old behavior.\n"
     ]
    },
    {
     "name": "stderr",
     "output_type": "stream",
     "text": [
      "C:\\Users\\user\\anaconda3\\envs\\aging\\lib\\site-packages\\xgboost\\sklearn.py:1146: UserWarning: The use of label encoder in XGBClassifier is deprecated and will be removed in a future release. To remove this warning, do the following: 1) Pass option use_label_encoder=False when constructing XGBClassifier object; and 2) Encode your labels (y) as integers starting with 0, i.e. 0, 1, 2, ..., [num_class - 1].\n",
      "  warnings.warn(label_encoder_deprecation_msg, UserWarning)\n",
      "C:\\Users\\user\\anaconda3\\envs\\aging\\lib\\site-packages\\pandas\\core\\computation\\expressions.py:205: UserWarning: evaluating in Python space because the '*' operator is not supported by numexpr for the bool dtype, use '&' instead\n",
      "  f\"evaluating in Python space because the {repr(op_str)} \"\n",
      "C:\\Users\\user\\anaconda3\\envs\\aging\\lib\\site-packages\\pandas\\core\\computation\\expressions.py:205: UserWarning: evaluating in Python space because the '*' operator is not supported by numexpr for the bool dtype, use '&' instead\n",
      "  f\"evaluating in Python space because the {repr(op_str)} \"\n",
      "C:\\Users\\user\\anaconda3\\envs\\aging\\lib\\site-packages\\xgboost\\sklearn.py:1146: UserWarning: The use of label encoder in XGBClassifier is deprecated and will be removed in a future release. To remove this warning, do the following: 1) Pass option use_label_encoder=False when constructing XGBClassifier object; and 2) Encode your labels (y) as integers starting with 0, i.e. 0, 1, 2, ..., [num_class - 1].\n",
      "  warnings.warn(label_encoder_deprecation_msg, UserWarning)\n",
      "C:\\Users\\user\\anaconda3\\envs\\aging\\lib\\site-packages\\pandas\\core\\computation\\expressions.py:205: UserWarning: evaluating in Python space because the '*' operator is not supported by numexpr for the bool dtype, use '&' instead\n",
      "  f\"evaluating in Python space because the {repr(op_str)} \"\n",
      "C:\\Users\\user\\anaconda3\\envs\\aging\\lib\\site-packages\\pandas\\core\\computation\\expressions.py:205: UserWarning: evaluating in Python space because the '*' operator is not supported by numexpr for the bool dtype, use '&' instead\n",
      "  f\"evaluating in Python space because the {repr(op_str)} \"\n",
      "C:\\Users\\user\\anaconda3\\envs\\aging\\lib\\site-packages\\xgboost\\sklearn.py:1146: UserWarning: The use of label encoder in XGBClassifier is deprecated and will be removed in a future release. To remove this warning, do the following: 1) Pass option use_label_encoder=False when constructing XGBClassifier object; and 2) Encode your labels (y) as integers starting with 0, i.e. 0, 1, 2, ..., [num_class - 1].\n",
      "  warnings.warn(label_encoder_deprecation_msg, UserWarning)\n"
     ]
    },
    {
     "name": "stdout",
     "output_type": "stream",
     "text": [
      "Precision: 0.98989898989899 \n",
      "Recall: 0.98989898989899 \n",
      "Aging Rate: 0.45\n",
      "[16:45:38] WARNING: C:/Users/Administrator/workspace/xgboost-win64_release_1.4.0/src/learner.cc:1095: Starting in XGBoost 1.3.0, the default evaluation metric used with the objective 'binary:logistic' was changed from 'error' to 'logloss'. Explicitly set eval_metric if you'd like to restore the old behavior.\n"
     ]
    },
    {
     "name": "stderr",
     "output_type": "stream",
     "text": [
      "C:\\Users\\user\\anaconda3\\envs\\aging\\lib\\site-packages\\pandas\\core\\computation\\expressions.py:205: UserWarning: evaluating in Python space because the '*' operator is not supported by numexpr for the bool dtype, use '&' instead\n",
      "  f\"evaluating in Python space because the {repr(op_str)} \"\n",
      "C:\\Users\\user\\anaconda3\\envs\\aging\\lib\\site-packages\\pandas\\core\\computation\\expressions.py:205: UserWarning: evaluating in Python space because the '*' operator is not supported by numexpr for the bool dtype, use '&' instead\n",
      "  f\"evaluating in Python space because the {repr(op_str)} \"\n",
      "\u001b[32m[I 2021-10-09 16:45:38,341]\u001b[0m A new study created in memory with name: no-name-536fed0f-c6c3-4568-8eea-29516607c53d\u001b[0m\n"
     ]
    },
    {
     "name": "stdout",
     "output_type": "stream",
     "text": [
      "Precision: 0.9557522123893806 \n",
      "Recall: 0.9557522123893806 \n",
      "Aging Rate: 0.5136363636363637\n",
      "\u001b[32m[I 2021-10-09 16:45:38,278]\u001b[0m Trial 0 finished with value: 0.9237019159143053 and parameters: {'n_estimators': 150, 'subsample': 0.7, 'min_child_weight': 24, 'max_depth': 9, 'learning_rate': 0.17500000000000002, 'reg_alpha': 0.10128292092760327, 'reg_lambda': 0.02177607536592738}. Best is trial 0 with value: 0.9237019159143053.\u001b[0m\n",
      "Sampler is TPESampler\n",
      "Dataset8 :\n"
     ]
    },
    {
     "name": "stderr",
     "output_type": "stream",
     "text": [
      "C:\\Users\\user\\anaconda3\\envs\\aging\\lib\\site-packages\\optuna\\progress_bar.py:47: ExperimentalWarning: Progress bar is experimental (supported from v1.2.0). The interface can change in the future.\n",
      "  self._init_valid()\n"
     ]
    },
    {
     "data": {
      "application/vnd.jupyter.widget-view+json": {
       "model_id": "72b082ec2e7845a3af15481277eff5fd",
       "version_major": 2,
       "version_minor": 0
      },
      "text/plain": [
       "  0%|          | 0/1 [00:00<?, ?it/s]"
      ]
     },
     "metadata": {},
     "output_type": "display_data"
    },
    {
     "name": "stdout",
     "output_type": "stream",
     "text": [
      "[16:45:38] WARNING: C:/Users/Administrator/workspace/xgboost-win64_release_1.4.0/src/learner.cc:1095: Starting in XGBoost 1.3.0, the default evaluation metric used with the objective 'binary:logistic' was changed from 'error' to 'logloss'. Explicitly set eval_metric if you'd like to restore the old behavior.\n"
     ]
    },
    {
     "name": "stderr",
     "output_type": "stream",
     "text": [
      "C:\\Users\\user\\anaconda3\\envs\\aging\\lib\\site-packages\\xgboost\\sklearn.py:1146: UserWarning: The use of label encoder in XGBClassifier is deprecated and will be removed in a future release. To remove this warning, do the following: 1) Pass option use_label_encoder=False when constructing XGBClassifier object; and 2) Encode your labels (y) as integers starting with 0, i.e. 0, 1, 2, ..., [num_class - 1].\n",
      "  warnings.warn(label_encoder_deprecation_msg, UserWarning)\n",
      "C:\\Users\\user\\anaconda3\\envs\\aging\\lib\\site-packages\\pandas\\core\\computation\\expressions.py:205: UserWarning: evaluating in Python space because the '*' operator is not supported by numexpr for the bool dtype, use '&' instead\n",
      "  f\"evaluating in Python space because the {repr(op_str)} \"\n",
      "C:\\Users\\user\\anaconda3\\envs\\aging\\lib\\site-packages\\pandas\\core\\computation\\expressions.py:205: UserWarning: evaluating in Python space because the '*' operator is not supported by numexpr for the bool dtype, use '&' instead\n",
      "  f\"evaluating in Python space because the {repr(op_str)} \"\n"
     ]
    },
    {
     "name": "stdout",
     "output_type": "stream",
     "text": [
      "Precision: 0.8524590163934426 \n",
      "Recall: 0.9285714285714286 \n",
      "Aging Rate: 0.5545454545454546\n"
     ]
    },
    {
     "name": "stderr",
     "output_type": "stream",
     "text": [
      "C:\\Users\\user\\anaconda3\\envs\\aging\\lib\\site-packages\\xgboost\\sklearn.py:1146: UserWarning: The use of label encoder in XGBClassifier is deprecated and will be removed in a future release. To remove this warning, do the following: 1) Pass option use_label_encoder=False when constructing XGBClassifier object; and 2) Encode your labels (y) as integers starting with 0, i.e. 0, 1, 2, ..., [num_class - 1].\n",
      "  warnings.warn(label_encoder_deprecation_msg, UserWarning)\n",
      "C:\\Users\\user\\anaconda3\\envs\\aging\\lib\\site-packages\\pandas\\core\\computation\\expressions.py:205: UserWarning: evaluating in Python space because the '*' operator is not supported by numexpr for the bool dtype, use '&' instead\n",
      "  f\"evaluating in Python space because the {repr(op_str)} \"\n",
      "C:\\Users\\user\\anaconda3\\envs\\aging\\lib\\site-packages\\pandas\\core\\computation\\expressions.py:205: UserWarning: evaluating in Python space because the '*' operator is not supported by numexpr for the bool dtype, use '&' instead\n",
      "  f\"evaluating in Python space because the {repr(op_str)} \"\n",
      "C:\\Users\\user\\anaconda3\\envs\\aging\\lib\\site-packages\\xgboost\\sklearn.py:1146: UserWarning: The use of label encoder in XGBClassifier is deprecated and will be removed in a future release. To remove this warning, do the following: 1) Pass option use_label_encoder=False when constructing XGBClassifier object; and 2) Encode your labels (y) as integers starting with 0, i.e. 0, 1, 2, ..., [num_class - 1].\n",
      "  warnings.warn(label_encoder_deprecation_msg, UserWarning)\n"
     ]
    },
    {
     "name": "stdout",
     "output_type": "stream",
     "text": [
      "[16:45:38] WARNING: C:/Users/Administrator/workspace/xgboost-win64_release_1.4.0/src/learner.cc:1095: Starting in XGBoost 1.3.0, the default evaluation metric used with the objective 'binary:logistic' was changed from 'error' to 'logloss'. Explicitly set eval_metric if you'd like to restore the old behavior.\n",
      "Precision: 0.8818181818181818 \n",
      "Recall: 0.8220338983050848 \n",
      "Aging Rate: 0.5\n",
      "[16:45:38] WARNING: C:/Users/Administrator/workspace/xgboost-win64_release_1.4.0/src/learner.cc:1095: Starting in XGBoost 1.3.0, the default evaluation metric used with the objective 'binary:logistic' was changed from 'error' to 'logloss'. Explicitly set eval_metric if you'd like to restore the old behavior.\n"
     ]
    },
    {
     "name": "stderr",
     "output_type": "stream",
     "text": [
      "C:\\Users\\user\\anaconda3\\envs\\aging\\lib\\site-packages\\pandas\\core\\computation\\expressions.py:205: UserWarning: evaluating in Python space because the '*' operator is not supported by numexpr for the bool dtype, use '&' instead\n",
      "  f\"evaluating in Python space because the {repr(op_str)} \"\n",
      "C:\\Users\\user\\anaconda3\\envs\\aging\\lib\\site-packages\\pandas\\core\\computation\\expressions.py:205: UserWarning: evaluating in Python space because the '*' operator is not supported by numexpr for the bool dtype, use '&' instead\n",
      "  f\"evaluating in Python space because the {repr(op_str)} \"\n"
     ]
    },
    {
     "name": "stdout",
     "output_type": "stream",
     "text": [
      "Precision: 0.8761904761904762 \n",
      "Recall: 0.9387755102040817 \n",
      "Aging Rate: 0.4772727272727273\n",
      "\u001b[32m[I 2021-10-09 16:45:38,624]\u001b[0m Trial 0 finished with value: 0.8453996729662588 and parameters: {'n_estimators': 150, 'subsample': 0.7, 'min_child_weight': 24, 'max_depth': 5, 'learning_rate': 0.07500000000000001, 'reg_alpha': 0.0012580759705931464, 'reg_lambda': 0.00010048480028888294}. Best is trial 0 with value: 0.8453996729662588.\u001b[0m\n",
      "Sampler is TPESampler\n",
      "Dataset9 :\n"
     ]
    },
    {
     "name": "stderr",
     "output_type": "stream",
     "text": [
      "\u001b[32m[I 2021-10-09 16:45:38,688]\u001b[0m A new study created in memory with name: no-name-915b7dc1-77da-4bf5-b891-8ca6280e41b8\u001b[0m\n",
      "C:\\Users\\user\\anaconda3\\envs\\aging\\lib\\site-packages\\optuna\\progress_bar.py:47: ExperimentalWarning: Progress bar is experimental (supported from v1.2.0). The interface can change in the future.\n",
      "  self._init_valid()\n"
     ]
    },
    {
     "data": {
      "application/vnd.jupyter.widget-view+json": {
       "model_id": "3eff7f1ef5334b98a1908474e51ebd99",
       "version_major": 2,
       "version_minor": 0
      },
      "text/plain": [
       "  0%|          | 0/1 [00:00<?, ?it/s]"
      ]
     },
     "metadata": {},
     "output_type": "display_data"
    },
    {
     "name": "stderr",
     "output_type": "stream",
     "text": [
      "C:\\Users\\user\\anaconda3\\envs\\aging\\lib\\site-packages\\xgboost\\sklearn.py:1146: UserWarning: The use of label encoder in XGBClassifier is deprecated and will be removed in a future release. To remove this warning, do the following: 1) Pass option use_label_encoder=False when constructing XGBClassifier object; and 2) Encode your labels (y) as integers starting with 0, i.e. 0, 1, 2, ..., [num_class - 1].\n",
      "  warnings.warn(label_encoder_deprecation_msg, UserWarning)\n"
     ]
    },
    {
     "name": "stdout",
     "output_type": "stream",
     "text": [
      "[16:45:38] WARNING: C:/Users/Administrator/workspace/xgboost-win64_release_1.4.0/src/learner.cc:1095: Starting in XGBoost 1.3.0, the default evaluation metric used with the objective 'binary:logistic' was changed from 'error' to 'logloss'. Explicitly set eval_metric if you'd like to restore the old behavior.\n"
     ]
    },
    {
     "name": "stderr",
     "output_type": "stream",
     "text": [
      "C:\\Users\\user\\anaconda3\\envs\\aging\\lib\\site-packages\\pandas\\core\\computation\\expressions.py:205: UserWarning: evaluating in Python space because the '*' operator is not supported by numexpr for the bool dtype, use '&' instead\n",
      "  f\"evaluating in Python space because the {repr(op_str)} \"\n",
      "C:\\Users\\user\\anaconda3\\envs\\aging\\lib\\site-packages\\pandas\\core\\computation\\expressions.py:205: UserWarning: evaluating in Python space because the '*' operator is not supported by numexpr for the bool dtype, use '&' instead\n",
      "  f\"evaluating in Python space because the {repr(op_str)} \"\n",
      "C:\\Users\\user\\Desktop\\Darui_R08621110\\Master_Thesis\\AUO aging test\\Full_Version_Code\\library\\AdaBoost.py:102: RuntimeWarning: invalid value encountered in double_scalars\n",
      "  eff = recall / ar\n",
      "C:\\Users\\user\\Desktop\\Darui_R08621110\\Master_Thesis\\AUO aging test\\Full_Version_Code\\library\\Aging_Score_Contour.py:43: RuntimeWarning: invalid value encountered in double_scalars\n",
      "  eff = r/ag\n",
      "C:\\Users\\user\\anaconda3\\envs\\aging\\lib\\site-packages\\xgboost\\sklearn.py:1146: UserWarning: The use of label encoder in XGBClassifier is deprecated and will be removed in a future release. To remove this warning, do the following: 1) Pass option use_label_encoder=False when constructing XGBClassifier object; and 2) Encode your labels (y) as integers starting with 0, i.e. 0, 1, 2, ..., [num_class - 1].\n",
      "  warnings.warn(label_encoder_deprecation_msg, UserWarning)\n"
     ]
    },
    {
     "name": "stdout",
     "output_type": "stream",
     "text": [
      "Precision: 0 \n",
      "Recall: 0.0 \n",
      "Aging Rate: 0.0\n",
      "[16:45:38] WARNING: C:/Users/Administrator/workspace/xgboost-win64_release_1.4.0/src/learner.cc:1095: Starting in XGBoost 1.3.0, the default evaluation metric used with the objective 'binary:logistic' was changed from 'error' to 'logloss'. Explicitly set eval_metric if you'd like to restore the old behavior.\n",
      "Precision: 0.0 \n",
      "Recall: 0.0 \n",
      "Aging Rate: 0.008264462809917356\n",
      "[16:45:38] WARNING: C:/Users/Administrator/workspace/xgboost-win64_release_1.4.0/src/learner.cc:1095: Starting in XGBoost 1.3.0, the default evaluation metric used with the objective 'binary:logistic' was changed from 'error' to 'logloss'. Explicitly set eval_metric if you'd like to restore the old behavior.\n"
     ]
    },
    {
     "name": "stderr",
     "output_type": "stream",
     "text": [
      "C:\\Users\\user\\anaconda3\\envs\\aging\\lib\\site-packages\\pandas\\core\\computation\\expressions.py:205: UserWarning: evaluating in Python space because the '*' operator is not supported by numexpr for the bool dtype, use '&' instead\n",
      "  f\"evaluating in Python space because the {repr(op_str)} \"\n",
      "C:\\Users\\user\\anaconda3\\envs\\aging\\lib\\site-packages\\pandas\\core\\computation\\expressions.py:205: UserWarning: evaluating in Python space because the '*' operator is not supported by numexpr for the bool dtype, use '&' instead\n",
      "  f\"evaluating in Python space because the {repr(op_str)} \"\n",
      "C:\\Users\\user\\anaconda3\\envs\\aging\\lib\\site-packages\\xgboost\\sklearn.py:1146: UserWarning: The use of label encoder in XGBClassifier is deprecated and will be removed in a future release. To remove this warning, do the following: 1) Pass option use_label_encoder=False when constructing XGBClassifier object; and 2) Encode your labels (y) as integers starting with 0, i.e. 0, 1, 2, ..., [num_class - 1].\n",
      "  warnings.warn(label_encoder_deprecation_msg, UserWarning)\n",
      "C:\\Users\\user\\anaconda3\\envs\\aging\\lib\\site-packages\\pandas\\core\\computation\\expressions.py:205: UserWarning: evaluating in Python space because the '*' operator is not supported by numexpr for the bool dtype, use '&' instead\n",
      "  f\"evaluating in Python space because the {repr(op_str)} \"\n",
      "C:\\Users\\user\\anaconda3\\envs\\aging\\lib\\site-packages\\pandas\\core\\computation\\expressions.py:205: UserWarning: evaluating in Python space because the '*' operator is not supported by numexpr for the bool dtype, use '&' instead\n",
      "  f\"evaluating in Python space because the {repr(op_str)} \"\n",
      "C:\\Users\\user\\Desktop\\Darui_R08621110\\Master_Thesis\\AUO aging test\\Full_Version_Code\\library\\AdaBoost.py:102: RuntimeWarning: invalid value encountered in double_scalars\n",
      "  eff = recall / ar\n",
      "C:\\Users\\user\\Desktop\\Darui_R08621110\\Master_Thesis\\AUO aging test\\Full_Version_Code\\library\\Aging_Score_Contour.py:43: RuntimeWarning: invalid value encountered in double_scalars\n",
      "  eff = r/ag\n"
     ]
    },
    {
     "name": "stdout",
     "output_type": "stream",
     "text": [
      "Precision: 0 \n",
      "Recall: 0.0 \n",
      "Aging Rate: 0.0\n",
      "\u001b[32m[I 2021-10-09 16:45:39,011]\u001b[0m Trial 0 finished with value: -0.0002754820936639119 and parameters: {'n_estimators': 200, 'subsample': 0.9, 'min_child_weight': 9, 'max_depth': 5, 'learning_rate': 0.17500000000000002, 'reg_alpha': 0.0736551513888785, 'reg_lambda': 0.9646149340313407}. Best is trial 0 with value: -0.0002754820936639119.\u001b[0m\n",
      "Sampler is TPESampler\n"
     ]
    },
    {
     "data": {
      "application/vnd.jupyter.widget-view+json": {
       "model_id": "ca2dbbfe8f9a4c3baebd3c6adee288e3",
       "version_major": 2,
       "version_minor": 0
      },
      "text/plain": [
       "  0%|          | 0/10 [00:00<?, ?it/s]"
      ]
     },
     "metadata": {},
     "output_type": "display_data"
    },
    {
     "name": "stderr",
     "output_type": "stream",
     "text": [
      "\u001b[32m[I 2021-10-09 16:45:39,099]\u001b[0m A new study created in memory with name: no-name-fdf68e6d-7271-4735-8f35-2d406691a113\u001b[0m\n"
     ]
    },
    {
     "name": "stdout",
     "output_type": "stream",
     "text": [
      "Dataset0 :\n"
     ]
    },
    {
     "name": "stderr",
     "output_type": "stream",
     "text": [
      "C:\\Users\\user\\anaconda3\\envs\\aging\\lib\\site-packages\\optuna\\progress_bar.py:47: ExperimentalWarning: Progress bar is experimental (supported from v1.2.0). The interface can change in the future.\n",
      "  self._init_valid()\n"
     ]
    },
    {
     "data": {
      "application/vnd.jupyter.widget-view+json": {
       "model_id": "ca9b0c0481024c8883cfed5c9d9419e9",
       "version_major": 2,
       "version_minor": 0
      },
      "text/plain": [
       "  0%|          | 0/1 [00:00<?, ?it/s]"
      ]
     },
     "metadata": {},
     "output_type": "display_data"
    },
    {
     "name": "stdout",
     "output_type": "stream",
     "text": [
      "Precision: 1.0 \n",
      "Recall: 0.36363636363636365 \n",
      "Aging Rate: 0.00042078687144961075\n"
     ]
    },
    {
     "name": "stderr",
     "output_type": "stream",
     "text": [
      "C:\\Users\\user\\anaconda3\\envs\\aging\\lib\\site-packages\\pandas\\core\\computation\\expressions.py:205: UserWarning: evaluating in Python space because the '*' operator is not supported by numexpr for the bool dtype, use '&' instead\n",
      "  f\"evaluating in Python space because the {repr(op_str)} \"\n",
      "C:\\Users\\user\\anaconda3\\envs\\aging\\lib\\site-packages\\pandas\\core\\computation\\expressions.py:205: UserWarning: evaluating in Python space because the '*' operator is not supported by numexpr for the bool dtype, use '&' instead\n",
      "  f\"evaluating in Python space because the {repr(op_str)} \"\n",
      "C:\\Users\\user\\anaconda3\\envs\\aging\\lib\\site-packages\\pandas\\core\\computation\\expressions.py:205: UserWarning: evaluating in Python space because the '*' operator is not supported by numexpr for the bool dtype, use '&' instead\n",
      "  f\"evaluating in Python space because the {repr(op_str)} \"\n",
      "C:\\Users\\user\\anaconda3\\envs\\aging\\lib\\site-packages\\pandas\\core\\computation\\expressions.py:205: UserWarning: evaluating in Python space because the '*' operator is not supported by numexpr for the bool dtype, use '&' instead\n",
      "  f\"evaluating in Python space because the {repr(op_str)} \"\n"
     ]
    },
    {
     "name": "stdout",
     "output_type": "stream",
     "text": [
      "Precision: 0.4375 \n",
      "Recall: 0.5384615384615384 \n",
      "Aging Rate: 0.001683147485798443\n"
     ]
    },
    {
     "name": "stderr",
     "output_type": "stream",
     "text": [
      "C:\\Users\\user\\anaconda3\\envs\\aging\\lib\\site-packages\\pandas\\core\\computation\\expressions.py:205: UserWarning: evaluating in Python space because the '*' operator is not supported by numexpr for the bool dtype, use '&' instead\n",
      "  f\"evaluating in Python space because the {repr(op_str)} \"\n",
      "C:\\Users\\user\\anaconda3\\envs\\aging\\lib\\site-packages\\pandas\\core\\computation\\expressions.py:205: UserWarning: evaluating in Python space because the '*' operator is not supported by numexpr for the bool dtype, use '&' instead\n",
      "  f\"evaluating in Python space because the {repr(op_str)} \"\n"
     ]
    },
    {
     "name": "stdout",
     "output_type": "stream",
     "text": [
      "Precision: 1.0 \n",
      "Recall: 0.38461538461538464 \n",
      "Aging Rate: 0.0005259835893120135\n",
      "\u001b[32m[I 2021-10-09 16:45:39,548]\u001b[0m Trial 0 finished with value: 0.4288167649728769 and parameters: {'objective': 'cross_entropy', 'boosting_type': 'gbdt', 'n_estimators': 100, 'subsample': 0.5, 'num_leaves': 15, 'min_child_samples': 3, 'max_depth': 7, 'learning_rate': 0.37500000000000006, 'reg_alpha': 0.03018693771279312, 'reg_lambda': 0.1689813731408402}. Best is trial 0 with value: 0.4288167649728769.\u001b[0m\n"
     ]
    },
    {
     "name": "stderr",
     "output_type": "stream",
     "text": [
      "\u001b[32m[I 2021-10-09 16:45:39,612]\u001b[0m A new study created in memory with name: no-name-699cfc9f-eb78-4681-a312-13ab0a6255fa\u001b[0m\n"
     ]
    },
    {
     "name": "stdout",
     "output_type": "stream",
     "text": [
      "Sampler is TPESampler\n",
      "Dataset1 :\n"
     ]
    },
    {
     "name": "stderr",
     "output_type": "stream",
     "text": [
      "C:\\Users\\user\\anaconda3\\envs\\aging\\lib\\site-packages\\optuna\\progress_bar.py:47: ExperimentalWarning: Progress bar is experimental (supported from v1.2.0). The interface can change in the future.\n",
      "  self._init_valid()\n"
     ]
    },
    {
     "data": {
      "application/vnd.jupyter.widget-view+json": {
       "model_id": "5e435b8c2045464dbd7f8023d58bc886",
       "version_major": 2,
       "version_minor": 0
      },
      "text/plain": [
       "  0%|          | 0/1 [00:00<?, ?it/s]"
      ]
     },
     "metadata": {},
     "output_type": "display_data"
    },
    {
     "name": "stderr",
     "output_type": "stream",
     "text": [
      "C:\\Users\\user\\anaconda3\\envs\\aging\\lib\\site-packages\\pandas\\core\\computation\\expressions.py:205: UserWarning: evaluating in Python space because the '*' operator is not supported by numexpr for the bool dtype, use '&' instead\n",
      "  f\"evaluating in Python space because the {repr(op_str)} \"\n",
      "C:\\Users\\user\\anaconda3\\envs\\aging\\lib\\site-packages\\pandas\\core\\computation\\expressions.py:205: UserWarning: evaluating in Python space because the '*' operator is not supported by numexpr for the bool dtype, use '&' instead\n",
      "  f\"evaluating in Python space because the {repr(op_str)} \"\n",
      "C:\\Users\\user\\anaconda3\\envs\\aging\\lib\\site-packages\\pandas\\core\\computation\\expressions.py:205: UserWarning: evaluating in Python space because the '*' operator is not supported by numexpr for the bool dtype, use '&' instead\n",
      "  f\"evaluating in Python space because the {repr(op_str)} \"\n",
      "C:\\Users\\user\\anaconda3\\envs\\aging\\lib\\site-packages\\pandas\\core\\computation\\expressions.py:205: UserWarning: evaluating in Python space because the '*' operator is not supported by numexpr for the bool dtype, use '&' instead\n",
      "  f\"evaluating in Python space because the {repr(op_str)} \"\n"
     ]
    },
    {
     "name": "stdout",
     "output_type": "stream",
     "text": [
      "Precision: 0.9655172413793104 \n",
      "Recall: 1.0 \n",
      "Aging Rate: 0.5141843971631206\n",
      "Precision: 1.0 \n",
      "Recall: 0.9925925925925926 \n",
      "Aging Rate: 0.475177304964539\n",
      "Precision:"
     ]
    },
    {
     "name": "stderr",
     "output_type": "stream",
     "text": [
      "C:\\Users\\user\\anaconda3\\envs\\aging\\lib\\site-packages\\pandas\\core\\computation\\expressions.py:205: UserWarning: evaluating in Python space because the '*' operator is not supported by numexpr for the bool dtype, use '&' instead\n",
      "  f\"evaluating in Python space because the {repr(op_str)} \"\n",
      "C:\\Users\\user\\anaconda3\\envs\\aging\\lib\\site-packages\\pandas\\core\\computation\\expressions.py:205: UserWarning: evaluating in Python space because the '*' operator is not supported by numexpr for the bool dtype, use '&' instead\n",
      "  f\"evaluating in Python space because the {repr(op_str)} \"\n"
     ]
    },
    {
     "name": "stdout",
     "output_type": "stream",
     "text": [
      " 1.0 \n",
      "Recall: 0.993421052631579 \n",
      "Aging Rate: 0.5354609929078015\n",
      "\u001b[32m[I 2021-10-09 16:45:39,769]\u001b[0m Trial 0 finished with value: 0.9445104585735419 and parameters: {'objective': 'binary', 'boosting_type': 'gbdt', 'n_estimators': 150, 'subsample': 0.7, 'num_leaves': 20, 'min_child_samples': 6, 'max_depth': 11, 'learning_rate': 0.37500000000000006, 'reg_alpha': 0.0006833028513881282, 'reg_lambda': 0.05053667685357925}. Best is trial 0 with value: 0.9445104585735419.\u001b[0m\n"
     ]
    },
    {
     "name": "stderr",
     "output_type": "stream",
     "text": [
      "\u001b[32m[I 2021-10-09 16:45:39,835]\u001b[0m A new study created in memory with name: no-name-86ff4d16-6dfe-4721-a445-91dea7059c56\u001b[0m\n"
     ]
    },
    {
     "name": "stdout",
     "output_type": "stream",
     "text": [
      "Sampler is TPESampler\n",
      "Dataset2 :\n"
     ]
    },
    {
     "name": "stderr",
     "output_type": "stream",
     "text": [
      "C:\\Users\\user\\anaconda3\\envs\\aging\\lib\\site-packages\\optuna\\progress_bar.py:47: ExperimentalWarning: Progress bar is experimental (supported from v1.2.0). The interface can change in the future.\n",
      "  self._init_valid()\n"
     ]
    },
    {
     "data": {
      "application/vnd.jupyter.widget-view+json": {
       "model_id": "1d37112038b4458097dd13fc3efba3d1",
       "version_major": 2,
       "version_minor": 0
      },
      "text/plain": [
       "  0%|          | 0/1 [00:00<?, ?it/s]"
      ]
     },
     "metadata": {},
     "output_type": "display_data"
    },
    {
     "name": "stderr",
     "output_type": "stream",
     "text": [
      "C:\\Users\\user\\anaconda3\\envs\\aging\\lib\\site-packages\\pandas\\core\\computation\\expressions.py:205: UserWarning: evaluating in Python space because the '*' operator is not supported by numexpr for the bool dtype, use '&' instead\n",
      "  f\"evaluating in Python space because the {repr(op_str)} \"\n",
      "C:\\Users\\user\\anaconda3\\envs\\aging\\lib\\site-packages\\pandas\\core\\computation\\expressions.py:205: UserWarning: evaluating in Python space because the '*' operator is not supported by numexpr for the bool dtype, use '&' instead\n",
      "  f\"evaluating in Python space because the {repr(op_str)} \"\n"
     ]
    },
    {
     "name": "stdout",
     "output_type": "stream",
     "text": [
      "Precision: 1.0 \n",
      "Recall: 0.9824561403508771 \n",
      "Aging Rate: 0.46473029045643155\n"
     ]
    },
    {
     "name": "stderr",
     "output_type": "stream",
     "text": [
      "C:\\Users\\user\\anaconda3\\envs\\aging\\lib\\site-packages\\pandas\\core\\computation\\expressions.py:205: UserWarning: evaluating in Python space because the '*' operator is not supported by numexpr for the bool dtype, use '&' instead\n",
      "  f\"evaluating in Python space because the {repr(op_str)} \"\n",
      "C:\\Users\\user\\anaconda3\\envs\\aging\\lib\\site-packages\\pandas\\core\\computation\\expressions.py:205: UserWarning: evaluating in Python space because the '*' operator is not supported by numexpr for the bool dtype, use '&' instead\n",
      "  f\"evaluating in Python space because the {repr(op_str)} \"\n",
      "C:\\Users\\user\\anaconda3\\envs\\aging\\lib\\site-packages\\pandas\\core\\computation\\expressions.py:205: UserWarning: evaluating in Python space because the '*' operator is not supported by numexpr for the bool dtype, use '&' instead\n",
      "  f\"evaluating in Python space because the {repr(op_str)} \"\n",
      "C:\\Users\\user\\anaconda3\\envs\\aging\\lib\\site-packages\\pandas\\core\\computation\\expressions.py:205: UserWarning: evaluating in Python space because the '*' operator is not supported by numexpr for the bool dtype, use '&' instead\n",
      "  f\"evaluating in Python space because the {repr(op_str)} \"\n"
     ]
    },
    {
     "name": "stdout",
     "output_type": "stream",
     "text": [
      "Precision: 0.9912280701754386 \n",
      "Recall: 0.9826086956521739 \n",
      "Aging Rate: 0.4730290456431535\n",
      "Precision: 0.9919354838709677 \n",
      "Recall: 0.9919354838709677 \n",
      "Aging Rate: 0.5145228215767634\n",
      "\u001b[32m[I 2021-10-09 16:45:40,037]\u001b[0m Trial 0 finished with value: 0.9372573680354613 and parameters: {'objective': 'binary', 'boosting_type': 'goss', 'n_estimators': 250, 'subsample': 0.9, 'num_leaves': 30, 'min_child_samples': 6, 'max_depth': 11, 'learning_rate': 0.275, 'reg_alpha': 0.0017610663973182438, 'reg_lambda': 0.0022334954672849146}. Best is trial 0 with value: 0.9372573680354613.\u001b[0m\n",
      "Sampler is TPESampler\n",
      "Dataset3 :\n"
     ]
    },
    {
     "name": "stderr",
     "output_type": "stream",
     "text": [
      "\u001b[32m[I 2021-10-09 16:45:40,108]\u001b[0m A new study created in memory with name: no-name-35886096-d4d7-459e-8229-993a601dcb7b\u001b[0m\n",
      "C:\\Users\\user\\anaconda3\\envs\\aging\\lib\\site-packages\\optuna\\progress_bar.py:47: ExperimentalWarning: Progress bar is experimental (supported from v1.2.0). The interface can change in the future.\n",
      "  self._init_valid()\n"
     ]
    },
    {
     "data": {
      "application/vnd.jupyter.widget-view+json": {
       "model_id": "87a2abd6dfd049379197cd4cdf991f03",
       "version_major": 2,
       "version_minor": 0
      },
      "text/plain": [
       "  0%|          | 0/1 [00:00<?, ?it/s]"
      ]
     },
     "metadata": {},
     "output_type": "display_data"
    },
    {
     "name": "stderr",
     "output_type": "stream",
     "text": [
      "C:\\Users\\user\\anaconda3\\envs\\aging\\lib\\site-packages\\pandas\\core\\computation\\expressions.py:205: UserWarning: evaluating in Python space because the '*' operator is not supported by numexpr for the bool dtype, use '&' instead\n",
      "  f\"evaluating in Python space because the {repr(op_str)} \"\n",
      "C:\\Users\\user\\anaconda3\\envs\\aging\\lib\\site-packages\\pandas\\core\\computation\\expressions.py:205: UserWarning: evaluating in Python space because the '*' operator is not supported by numexpr for the bool dtype, use '&' instead\n",
      "  f\"evaluating in Python space because the {repr(op_str)} \"\n",
      "C:\\Users\\user\\anaconda3\\envs\\aging\\lib\\site-packages\\pandas\\core\\computation\\expressions.py:205: UserWarning: evaluating in Python space because the '*' operator is not supported by numexpr for the bool dtype, use '&' instead\n",
      "  f\"evaluating in Python space because the {repr(op_str)} \"\n",
      "C:\\Users\\user\\anaconda3\\envs\\aging\\lib\\site-packages\\pandas\\core\\computation\\expressions.py:205: UserWarning: evaluating in Python space because the '*' operator is not supported by numexpr for the bool dtype, use '&' instead\n",
      "  f\"evaluating in Python space because the {repr(op_str)} \"\n",
      "C:\\Users\\user\\anaconda3\\envs\\aging\\lib\\site-packages\\pandas\\core\\computation\\expressions.py:205: UserWarning: evaluating in Python space because the '*' operator is not supported by numexpr for the bool dtype, use '&' instead\n",
      "  f\"evaluating in Python space because the {repr(op_str)} \"\n",
      "C:\\Users\\user\\anaconda3\\envs\\aging\\lib\\site-packages\\pandas\\core\\computation\\expressions.py:205: UserWarning: evaluating in Python space because the '*' operator is not supported by numexpr for the bool dtype, use '&' instead\n",
      "  f\"evaluating in Python space because the {repr(op_str)} \"\n"
     ]
    },
    {
     "name": "stdout",
     "output_type": "stream",
     "text": [
      "Precision: 1.0 \n",
      "Recall: 0.9866666666666667 \n",
      "Aging Rate: 0.4820846905537459\n",
      "Precision: 1.0 \n",
      "Recall: 0.9938650306748467 \n",
      "Aging Rate: 0.5276872964169381\n",
      "Precision: 1.0 \n",
      "Recall: 0.993421052631579 \n",
      "Aging Rate: 0.49185667752442996\n",
      "\u001b[32m[I 2021-10-09 16:45:40,358]\u001b[0m Trial 0 finished with value: 0.9412632945078604 and parameters: {'objective': 'cross_entropy', 'boosting_type': 'goss', 'n_estimators': 150, 'subsample': 0.7, 'num_leaves': 40, 'min_child_samples': 3, 'max_depth': 7, 'learning_rate': 0.07500000000000001, 'reg_alpha': 0.017529045446114985, 'reg_lambda': 0.2710516306075754}. Best is trial 0 with value: 0.9412632945078604.\u001b[0m\n"
     ]
    },
    {
     "name": "stderr",
     "output_type": "stream",
     "text": [
      "\u001b[32m[I 2021-10-09 16:45:40,426]\u001b[0m A new study created in memory with name: no-name-edb378d2-19c6-4764-b0ce-344414e2a1fa\u001b[0m\n"
     ]
    },
    {
     "name": "stdout",
     "output_type": "stream",
     "text": [
      "Sampler is TPESampler\n",
      "Dataset4 :\n"
     ]
    },
    {
     "name": "stderr",
     "output_type": "stream",
     "text": [
      "C:\\Users\\user\\anaconda3\\envs\\aging\\lib\\site-packages\\optuna\\progress_bar.py:47: ExperimentalWarning: Progress bar is experimental (supported from v1.2.0). The interface can change in the future.\n",
      "  self._init_valid()\n"
     ]
    },
    {
     "data": {
      "application/vnd.jupyter.widget-view+json": {
       "model_id": "4a8d13a23e6a48f0aac2d8150832b237",
       "version_major": 2,
       "version_minor": 0
      },
      "text/plain": [
       "  0%|          | 0/1 [00:00<?, ?it/s]"
      ]
     },
     "metadata": {},
     "output_type": "display_data"
    },
    {
     "name": "stderr",
     "output_type": "stream",
     "text": [
      "C:\\Users\\user\\anaconda3\\envs\\aging\\lib\\site-packages\\pandas\\core\\computation\\expressions.py:205: UserWarning: evaluating in Python space because the '*' operator is not supported by numexpr for the bool dtype, use '&' instead\n",
      "  f\"evaluating in Python space because the {repr(op_str)} \"\n",
      "C:\\Users\\user\\anaconda3\\envs\\aging\\lib\\site-packages\\pandas\\core\\computation\\expressions.py:205: UserWarning: evaluating in Python space because the '*' operator is not supported by numexpr for the bool dtype, use '&' instead\n",
      "  f\"evaluating in Python space because the {repr(op_str)} \"\n",
      "C:\\Users\\user\\anaconda3\\envs\\aging\\lib\\site-packages\\pandas\\core\\computation\\expressions.py:205: UserWarning: evaluating in Python space because the '*' operator is not supported by numexpr for the bool dtype, use '&' instead\n",
      "  f\"evaluating in Python space because the {repr(op_str)} \"\n",
      "C:\\Users\\user\\anaconda3\\envs\\aging\\lib\\site-packages\\pandas\\core\\computation\\expressions.py:205: UserWarning: evaluating in Python space because the '*' operator is not supported by numexpr for the bool dtype, use '&' instead\n",
      "  f\"evaluating in Python space because the {repr(op_str)} \"\n",
      "C:\\Users\\user\\anaconda3\\envs\\aging\\lib\\site-packages\\pandas\\core\\computation\\expressions.py:205: UserWarning: evaluating in Python space because the '*' operator is not supported by numexpr for the bool dtype, use '&' instead\n",
      "  f\"evaluating in Python space because the {repr(op_str)} \"\n",
      "C:\\Users\\user\\anaconda3\\envs\\aging\\lib\\site-packages\\pandas\\core\\computation\\expressions.py:205: UserWarning: evaluating in Python space because the '*' operator is not supported by numexpr for the bool dtype, use '&' instead\n",
      "  f\"evaluating in Python space because the {repr(op_str)} \"\n",
      "\u001b[32m[I 2021-10-09 16:45:40,602]\u001b[0m A new study created in memory with name: no-name-62ac915f-0b09-4787-9ec7-fee9de2c8a03\u001b[0m\n"
     ]
    },
    {
     "name": "stdout",
     "output_type": "stream",
     "text": [
      "Precision: 0.9863945578231292 \n",
      "Recall: 0.9797297297297297 \n",
      "Aging Rate: 0.5157894736842106\n",
      "Precision: 1.0 \n",
      "Recall: 0.9867549668874173 \n",
      "Aging Rate: 0.5228070175438596\n",
      "Precision: 1.0 \n",
      "Recall: 0.9854014598540146 \n",
      "Aging Rate: 0.47368421052631576\n",
      "\u001b[32m[I 2021-10-09 16:45:40,538]\u001b[0m Trial 0 finished with value: 0.9335526954319077 and parameters: {'objective': 'cross_entropy', 'boosting_type': 'gbdt', 'n_estimators': 300, 'subsample': 0.7, 'num_leaves': 15, 'min_child_samples': 12, 'max_depth': 9, 'learning_rate': 0.275, 'reg_alpha': 0.22644586563934346, 'reg_lambda': 0.08653297327457098}. Best is trial 0 with value: 0.9335526954319077.\u001b[0m\n",
      "Sampler is TPESampler\n",
      "Dataset5 :\n"
     ]
    },
    {
     "name": "stderr",
     "output_type": "stream",
     "text": [
      "C:\\Users\\user\\anaconda3\\envs\\aging\\lib\\site-packages\\optuna\\progress_bar.py:47: ExperimentalWarning: Progress bar is experimental (supported from v1.2.0). The interface can change in the future.\n",
      "  self._init_valid()\n"
     ]
    },
    {
     "data": {
      "application/vnd.jupyter.widget-view+json": {
       "model_id": "36b5ece005434aba9ee4367ca3366896",
       "version_major": 2,
       "version_minor": 0
      },
      "text/plain": [
       "  0%|          | 0/1 [00:00<?, ?it/s]"
      ]
     },
     "metadata": {},
     "output_type": "display_data"
    },
    {
     "name": "stderr",
     "output_type": "stream",
     "text": [
      "C:\\Users\\user\\anaconda3\\envs\\aging\\lib\\site-packages\\pandas\\core\\computation\\expressions.py:205: UserWarning: evaluating in Python space because the '*' operator is not supported by numexpr for the bool dtype, use '&' instead\n",
      "  f\"evaluating in Python space because the {repr(op_str)} \"\n",
      "C:\\Users\\user\\anaconda3\\envs\\aging\\lib\\site-packages\\pandas\\core\\computation\\expressions.py:205: UserWarning: evaluating in Python space because the '*' operator is not supported by numexpr for the bool dtype, use '&' instead\n",
      "  f\"evaluating in Python space because the {repr(op_str)} \"\n"
     ]
    },
    {
     "name": "stdout",
     "output_type": "stream",
     "text": [
      "Precision:"
     ]
    },
    {
     "name": "stderr",
     "output_type": "stream",
     "text": [
      "C:\\Users\\user\\anaconda3\\envs\\aging\\lib\\site-packages\\pandas\\core\\computation\\expressions.py:205: UserWarning: evaluating in Python space because the '*' operator is not supported by numexpr for the bool dtype, use '&' instead\n",
      "  f\"evaluating in Python space because the {repr(op_str)} \"\n",
      "C:\\Users\\user\\anaconda3\\envs\\aging\\lib\\site-packages\\pandas\\core\\computation\\expressions.py:205: UserWarning: evaluating in Python space because the '*' operator is not supported by numexpr for the bool dtype, use '&' instead\n",
      "  f\"evaluating in Python space because the {repr(op_str)} \"\n",
      "C:\\Users\\user\\anaconda3\\envs\\aging\\lib\\site-packages\\pandas\\core\\computation\\expressions.py:205: UserWarning: evaluating in Python space because the '*' operator is not supported by numexpr for the bool dtype, use '&' instead\n",
      "  f\"evaluating in Python space because the {repr(op_str)} \"\n",
      "C:\\Users\\user\\anaconda3\\envs\\aging\\lib\\site-packages\\pandas\\core\\computation\\expressions.py:205: UserWarning: evaluating in Python space because the '*' operator is not supported by numexpr for the bool dtype, use '&' instead\n",
      "  f\"evaluating in Python space because the {repr(op_str)} \"\n",
      "\u001b[32m[I 2021-10-09 16:45:40,803]\u001b[0m A new study created in memory with name: no-name-33c372f1-4dd4-4198-bb15-336fb9fa1886\u001b[0m\n"
     ]
    },
    {
     "name": "stdout",
     "output_type": "stream",
     "text": [
      " 1.0 \n",
      "Recall: 1.0 \n",
      "Aging Rate: 0.5294117647058824\n",
      "Precision: 1.0 \n",
      "Recall: 0.9913793103448276 \n",
      "Aging Rate: 0.5203619909502263\n",
      "Precision: 0.9824561403508771 \n",
      "Recall: 1.0 \n",
      "Aging Rate: 0.5158371040723982\n",
      "\u001b[32m[I 2021-10-09 16:45:40,740]\u001b[0m Trial 0 finished with value: 0.9449394081239922 and parameters: {'objective': 'binary', 'boosting_type': 'gbdt', 'n_estimators': 150, 'subsample': 0.7, 'num_leaves': 40, 'min_child_samples': 18, 'max_depth': 5, 'learning_rate': 0.125, 'reg_alpha': 0.00030752383311871456, 'reg_lambda': 0.0014524573886952196}. Best is trial 0 with value: 0.9449394081239922.\u001b[0m\n",
      "Sampler is TPESampler\n",
      "Dataset6 :\n"
     ]
    },
    {
     "name": "stderr",
     "output_type": "stream",
     "text": [
      "C:\\Users\\user\\anaconda3\\envs\\aging\\lib\\site-packages\\optuna\\progress_bar.py:47: ExperimentalWarning: Progress bar is experimental (supported from v1.2.0). The interface can change in the future.\n",
      "  self._init_valid()\n"
     ]
    },
    {
     "data": {
      "application/vnd.jupyter.widget-view+json": {
       "model_id": "a4a82cbf86a8419596eb563e8f992c71",
       "version_major": 2,
       "version_minor": 0
      },
      "text/plain": [
       "  0%|          | 0/1 [00:00<?, ?it/s]"
      ]
     },
     "metadata": {},
     "output_type": "display_data"
    },
    {
     "name": "stderr",
     "output_type": "stream",
     "text": [
      "C:\\Users\\user\\anaconda3\\envs\\aging\\lib\\site-packages\\pandas\\core\\computation\\expressions.py:205: UserWarning: evaluating in Python space because the '*' operator is not supported by numexpr for the bool dtype, use '&' instead\n",
      "  f\"evaluating in Python space because the {repr(op_str)} \"\n",
      "C:\\Users\\user\\anaconda3\\envs\\aging\\lib\\site-packages\\pandas\\core\\computation\\expressions.py:205: UserWarning: evaluating in Python space because the '*' operator is not supported by numexpr for the bool dtype, use '&' instead\n",
      "  f\"evaluating in Python space because the {repr(op_str)} \"\n"
     ]
    },
    {
     "name": "stdout",
     "output_type": "stream",
     "text": [
      "Precision: 0.9830508474576272 \n",
      "Recall: 0.9747899159663865 \n",
      "Aging Rate: 0.5108225108225108\n"
     ]
    },
    {
     "name": "stderr",
     "output_type": "stream",
     "text": [
      "C:\\Users\\user\\anaconda3\\envs\\aging\\lib\\site-packages\\pandas\\core\\computation\\expressions.py:205: UserWarning: evaluating in Python space because the '*' operator is not supported by numexpr for the bool dtype, use '&' instead\n",
      "  f\"evaluating in Python space because the {repr(op_str)} \"\n",
      "C:\\Users\\user\\anaconda3\\envs\\aging\\lib\\site-packages\\pandas\\core\\computation\\expressions.py:205: UserWarning: evaluating in Python space because the '*' operator is not supported by numexpr for the bool dtype, use '&' instead\n",
      "  f\"evaluating in Python space because the {repr(op_str)} \"\n",
      "C:\\Users\\user\\anaconda3\\envs\\aging\\lib\\site-packages\\pandas\\core\\computation\\expressions.py:205: UserWarning: evaluating in Python space because the '*' operator is not supported by numexpr for the bool dtype, use '&' instead\n",
      "  f\"evaluating in Python space because the {repr(op_str)} \"\n",
      "C:\\Users\\user\\anaconda3\\envs\\aging\\lib\\site-packages\\pandas\\core\\computation\\expressions.py:205: UserWarning: evaluating in Python space because the '*' operator is not supported by numexpr for the bool dtype, use '&' instead\n",
      "  f\"evaluating in Python space because the {repr(op_str)} \"\n",
      "\u001b[32m[I 2021-10-09 16:45:41,060]\u001b[0m A new study created in memory with name: no-name-809ec0a1-9282-4a60-8021-bc42d0cb18f2\u001b[0m\n"
     ]
    },
    {
     "name": "stdout",
     "output_type": "stream",
     "text": [
      "Precision: 1.0 \n",
      "Recall: 0.984375 \n",
      "Aging Rate: 0.5454545454545454\n",
      "Precision: 1.0 \n",
      "Recall: 0.9855072463768116 \n",
      "Aging Rate: 0.5887445887445888\n",
      "\u001b[32m[I 2021-10-09 16:45:40,992]\u001b[0m Trial 0 finished with value: 0.9267233326136779 and parameters: {'objective': 'binary', 'boosting_type': 'goss', 'n_estimators': 250, 'subsample': 0.5, 'num_leaves': 10, 'min_child_samples': 15, 'max_depth': 5, 'learning_rate': 0.225, 'reg_alpha': 0.010644465353195737, 'reg_lambda': 0.018364644739548193}. Best is trial 0 with value: 0.9267233326136779.\u001b[0m\n",
      "Sampler is TPESampler\n",
      "Dataset7 :\n"
     ]
    },
    {
     "name": "stderr",
     "output_type": "stream",
     "text": [
      "C:\\Users\\user\\anaconda3\\envs\\aging\\lib\\site-packages\\optuna\\progress_bar.py:47: ExperimentalWarning: Progress bar is experimental (supported from v1.2.0). The interface can change in the future.\n",
      "  self._init_valid()\n"
     ]
    },
    {
     "data": {
      "application/vnd.jupyter.widget-view+json": {
       "model_id": "28b931b09dd14b2fa063b1992f758bfc",
       "version_major": 2,
       "version_minor": 0
      },
      "text/plain": [
       "  0%|          | 0/1 [00:00<?, ?it/s]"
      ]
     },
     "metadata": {},
     "output_type": "display_data"
    },
    {
     "name": "stderr",
     "output_type": "stream",
     "text": [
      "C:\\Users\\user\\anaconda3\\envs\\aging\\lib\\site-packages\\pandas\\core\\computation\\expressions.py:205: UserWarning: evaluating in Python space because the '*' operator is not supported by numexpr for the bool dtype, use '&' instead\n",
      "  f\"evaluating in Python space because the {repr(op_str)} \"\n",
      "C:\\Users\\user\\anaconda3\\envs\\aging\\lib\\site-packages\\pandas\\core\\computation\\expressions.py:205: UserWarning: evaluating in Python space because the '*' operator is not supported by numexpr for the bool dtype, use '&' instead\n",
      "  f\"evaluating in Python space because the {repr(op_str)} \"\n"
     ]
    },
    {
     "name": "stdout",
     "output_type": "stream",
     "text": [
      "Precision: 1.0 \n",
      "Recall: 0.9818181818181818 \n",
      "Aging Rate: 0.4909090909090909\n"
     ]
    },
    {
     "name": "stderr",
     "output_type": "stream",
     "text": [
      "C:\\Users\\user\\anaconda3\\envs\\aging\\lib\\site-packages\\pandas\\core\\computation\\expressions.py:205: UserWarning: evaluating in Python space because the '*' operator is not supported by numexpr for the bool dtype, use '&' instead\n",
      "  f\"evaluating in Python space because the {repr(op_str)} \"\n",
      "C:\\Users\\user\\anaconda3\\envs\\aging\\lib\\site-packages\\pandas\\core\\computation\\expressions.py:205: UserWarning: evaluating in Python space because the '*' operator is not supported by numexpr for the bool dtype, use '&' instead\n",
      "  f\"evaluating in Python space because the {repr(op_str)} \"\n",
      "C:\\Users\\user\\anaconda3\\envs\\aging\\lib\\site-packages\\pandas\\core\\computation\\expressions.py:205: UserWarning: evaluating in Python space because the '*' operator is not supported by numexpr for the bool dtype, use '&' instead\n",
      "  f\"evaluating in Python space because the {repr(op_str)} \"\n",
      "C:\\Users\\user\\anaconda3\\envs\\aging\\lib\\site-packages\\pandas\\core\\computation\\expressions.py:205: UserWarning: evaluating in Python space because the '*' operator is not supported by numexpr for the bool dtype, use '&' instead\n",
      "  f\"evaluating in Python space because the {repr(op_str)} \"\n",
      "\u001b[32m[I 2021-10-09 16:45:41,264]\u001b[0m A new study created in memory with name: no-name-39b44ae9-5f74-4eb7-9206-2fef44a5bc98\u001b[0m\n"
     ]
    },
    {
     "name": "stdout",
     "output_type": "stream",
     "text": [
      "Precision: 1.0 \n",
      "Recall: 0.9459459459459459 \n",
      "Aging Rate: 0.4772727272727273\n",
      "Precision: 1.0 \n",
      "Recall: 0.9741379310344828 \n",
      "Aging Rate: 0.5136363636363637\n",
      "\u001b[32m[I 2021-10-09 16:45:41,198]\u001b[0m Trial 0 finished with value: 0.917906746872264 and parameters: {'objective': 'binary', 'boosting_type': 'goss', 'n_estimators': 150, 'subsample': 0.7, 'num_leaves': 5, 'min_child_samples': 21, 'max_depth': 15, 'learning_rate': 0.32500000000000007, 'reg_alpha': 0.07510374507831695, 'reg_lambda': 2.831901298262958}. Best is trial 0 with value: 0.917906746872264.\u001b[0m\n",
      "Sampler is TPESampler\n",
      "Dataset8 :\n"
     ]
    },
    {
     "name": "stderr",
     "output_type": "stream",
     "text": [
      "C:\\Users\\user\\anaconda3\\envs\\aging\\lib\\site-packages\\optuna\\progress_bar.py:47: ExperimentalWarning: Progress bar is experimental (supported from v1.2.0). The interface can change in the future.\n",
      "  self._init_valid()\n"
     ]
    },
    {
     "data": {
      "application/vnd.jupyter.widget-view+json": {
       "model_id": "b9e08b84b8c44724adffce071cb74523",
       "version_major": 2,
       "version_minor": 0
      },
      "text/plain": [
       "  0%|          | 0/1 [00:00<?, ?it/s]"
      ]
     },
     "metadata": {},
     "output_type": "display_data"
    },
    {
     "name": "stdout",
     "output_type": "stream",
     "text": [
      "Precision:"
     ]
    },
    {
     "name": "stderr",
     "output_type": "stream",
     "text": [
      "C:\\Users\\user\\anaconda3\\envs\\aging\\lib\\site-packages\\pandas\\core\\computation\\expressions.py:205: UserWarning: evaluating in Python space because the '*' operator is not supported by numexpr for the bool dtype, use '&' instead\n",
      "  f\"evaluating in Python space because the {repr(op_str)} \"\n",
      "C:\\Users\\user\\anaconda3\\envs\\aging\\lib\\site-packages\\pandas\\core\\computation\\expressions.py:205: UserWarning: evaluating in Python space because the '*' operator is not supported by numexpr for the bool dtype, use '&' instead\n",
      "  f\"evaluating in Python space because the {repr(op_str)} \"\n",
      "C:\\Users\\user\\anaconda3\\envs\\aging\\lib\\site-packages\\pandas\\core\\computation\\expressions.py:205: UserWarning: evaluating in Python space because the '*' operator is not supported by numexpr for the bool dtype, use '&' instead\n",
      "  f\"evaluating in Python space because the {repr(op_str)} \"\n",
      "C:\\Users\\user\\anaconda3\\envs\\aging\\lib\\site-packages\\pandas\\core\\computation\\expressions.py:205: UserWarning: evaluating in Python space because the '*' operator is not supported by numexpr for the bool dtype, use '&' instead\n",
      "  f\"evaluating in Python space because the {repr(op_str)} \"\n"
     ]
    },
    {
     "name": "stdout",
     "output_type": "stream",
     "text": [
      " 0.9915254237288136 \n",
      "Recall: 1.0 \n",
      "Aging Rate: 0.5363636363636364\n",
      "Precision: 1.0 \n",
      "Recall: 0.9896907216494846 \n",
      "Aging Rate: 0.43636363636363634\n"
     ]
    },
    {
     "name": "stderr",
     "output_type": "stream",
     "text": [
      "C:\\Users\\user\\anaconda3\\envs\\aging\\lib\\site-packages\\pandas\\core\\computation\\expressions.py:205: UserWarning: evaluating in Python space because the '*' operator is not supported by numexpr for the bool dtype, use '&' instead\n",
      "  f\"evaluating in Python space because the {repr(op_str)} \"\n",
      "C:\\Users\\user\\anaconda3\\envs\\aging\\lib\\site-packages\\pandas\\core\\computation\\expressions.py:205: UserWarning: evaluating in Python space because the '*' operator is not supported by numexpr for the bool dtype, use '&' instead\n",
      "  f\"evaluating in Python space because the {repr(op_str)} \"\n",
      "\u001b[32m[I 2021-10-09 16:45:41,428]\u001b[0m A new study created in memory with name: no-name-afc27236-5fd6-454f-ab3d-a62fcd794bc3\u001b[0m\n"
     ]
    },
    {
     "name": "stdout",
     "output_type": "stream",
     "text": [
      "Precision: 1.0 \n",
      "Recall: 0.9722222222222222 \n",
      "Aging Rate: 0.4772727272727273\n",
      "\u001b[32m[I 2021-10-09 16:45:41,362]\u001b[0m Trial 0 finished with value: 0.938970981290569 and parameters: {'objective': 'binary', 'boosting_type': 'gbdt', 'n_estimators': 200, 'subsample': 0.5, 'num_leaves': 20, 'min_child_samples': 21, 'max_depth': 9, 'learning_rate': 0.37500000000000006, 'reg_alpha': 0.060345714295649375, 'reg_lambda': 0.0012812448305124296}. Best is trial 0 with value: 0.938970981290569.\u001b[0m\n",
      "Sampler is TPESampler\n",
      "Dataset9 :\n"
     ]
    },
    {
     "name": "stderr",
     "output_type": "stream",
     "text": [
      "C:\\Users\\user\\anaconda3\\envs\\aging\\lib\\site-packages\\optuna\\progress_bar.py:47: ExperimentalWarning: Progress bar is experimental (supported from v1.2.0). The interface can change in the future.\n",
      "  self._init_valid()\n"
     ]
    },
    {
     "data": {
      "application/vnd.jupyter.widget-view+json": {
       "model_id": "9b298ce18f5645e3b39f78bff43e7c3f",
       "version_major": 2,
       "version_minor": 0
      },
      "text/plain": [
       "  0%|          | 0/1 [00:00<?, ?it/s]"
      ]
     },
     "metadata": {},
     "output_type": "display_data"
    },
    {
     "name": "stdout",
     "output_type": "stream",
     "text": [
      "Precision:"
     ]
    },
    {
     "name": "stderr",
     "output_type": "stream",
     "text": [
      "C:\\Users\\user\\anaconda3\\envs\\aging\\lib\\site-packages\\pandas\\core\\computation\\expressions.py:205: UserWarning: evaluating in Python space because the '*' operator is not supported by numexpr for the bool dtype, use '&' instead\n",
      "  f\"evaluating in Python space because the {repr(op_str)} \"\n",
      "C:\\Users\\user\\anaconda3\\envs\\aging\\lib\\site-packages\\pandas\\core\\computation\\expressions.py:205: UserWarning: evaluating in Python space because the '*' operator is not supported by numexpr for the bool dtype, use '&' instead\n",
      "  f\"evaluating in Python space because the {repr(op_str)} \"\n"
     ]
    },
    {
     "name": "stdout",
     "output_type": "stream",
     "text": [
      " 0.6666666666666666 \n",
      "Recall: 0.18181818181818182 \n",
      "Aging Rate: 0.024793388429752067\n",
      "Precision:"
     ]
    },
    {
     "name": "stderr",
     "output_type": "stream",
     "text": [
      "C:\\Users\\user\\anaconda3\\envs\\aging\\lib\\site-packages\\pandas\\core\\computation\\expressions.py:205: UserWarning: evaluating in Python space because the '*' operator is not supported by numexpr for the bool dtype, use '&' instead\n",
      "  f\"evaluating in Python space because the {repr(op_str)} \"\n",
      "C:\\Users\\user\\anaconda3\\envs\\aging\\lib\\site-packages\\pandas\\core\\computation\\expressions.py:205: UserWarning: evaluating in Python space because the '*' operator is not supported by numexpr for the bool dtype, use '&' instead\n",
      "  f\"evaluating in Python space because the {repr(op_str)} \"\n",
      "C:\\Users\\user\\anaconda3\\envs\\aging\\lib\\site-packages\\pandas\\core\\computation\\expressions.py:205: UserWarning: evaluating in Python space because the '*' operator is not supported by numexpr for the bool dtype, use '&' instead\n",
      "  f\"evaluating in Python space because the {repr(op_str)} \"\n",
      "C:\\Users\\user\\anaconda3\\envs\\aging\\lib\\site-packages\\pandas\\core\\computation\\expressions.py:205: UserWarning: evaluating in Python space because the '*' operator is not supported by numexpr for the bool dtype, use '&' instead\n",
      "  f\"evaluating in Python space because the {repr(op_str)} \"\n"
     ]
    },
    {
     "name": "stdout",
     "output_type": "stream",
     "text": [
      " 1.0 \n",
      "Recall: 0.4 \n",
      "Aging Rate: 0.03305785123966942\n",
      "Precision: 1.0 \n",
      "Recall: 0.42857142857142855 \n",
      "Aging Rate: 0.024793388429752067\n",
      "\u001b[32m[I 2021-10-09 16:45:41,594]\u001b[0m Trial 0 finished with value: 0.33404171585989767 and parameters: {'objective': 'binary', 'boosting_type': 'goss', 'n_estimators': 300, 'subsample': 0.7, 'num_leaves': 5, 'min_child_samples': 15, 'max_depth': 11, 'learning_rate': 0.07500000000000001, 'reg_alpha': 2.964665073804768, 'reg_lambda': 1.5064342874382186}. Best is trial 0 with value: 0.33404171585989767.\u001b[0m\n",
      "Sampler is TPESampler\n"
     ]
    },
    {
     "data": {
      "application/vnd.jupyter.widget-view+json": {
       "model_id": "e333507eb64f4edcb22c62c5ef3bbd26",
       "version_major": 2,
       "version_minor": 0
      },
      "text/plain": [
       "  0%|          | 0/10 [00:00<?, ?it/s]"
      ]
     },
     "metadata": {},
     "output_type": "display_data"
    },
    {
     "name": "stderr",
     "output_type": "stream",
     "text": [
      "\u001b[32m[I 2021-10-09 16:45:41,683]\u001b[0m A new study created in memory with name: no-name-c425e0ba-12bb-4a1e-ac95-e0a90c0e542c\u001b[0m\n",
      "C:\\Users\\user\\anaconda3\\envs\\aging\\lib\\site-packages\\optuna\\progress_bar.py:47: ExperimentalWarning: Progress bar is experimental (supported from v1.2.0). The interface can change in the future.\n",
      "  self._init_valid()\n"
     ]
    },
    {
     "name": "stdout",
     "output_type": "stream",
     "text": [
      "Dataset0 :\n"
     ]
    },
    {
     "data": {
      "application/vnd.jupyter.widget-view+json": {
       "model_id": "2f12df44ae7249029cd71f0d82114f6f",
       "version_major": 2,
       "version_minor": 0
      },
      "text/plain": [
       "  0%|          | 0/1 [00:00<?, ?it/s]"
      ]
     },
     "metadata": {},
     "output_type": "display_data"
    },
    {
     "name": "stderr",
     "output_type": "stream",
     "text": [
      "C:\\Users\\user\\anaconda3\\envs\\aging\\lib\\site-packages\\xgboost\\sklearn.py:1146: UserWarning: The use of label encoder in XGBClassifier is deprecated and will be removed in a future release. To remove this warning, do the following: 1) Pass option use_label_encoder=False when constructing XGBClassifier object; and 2) Encode your labels (y) as integers starting with 0, i.e. 0, 1, 2, ..., [num_class - 1].\n",
      "  warnings.warn(label_encoder_deprecation_msg, UserWarning)\n"
     ]
    },
    {
     "name": "stdout",
     "output_type": "stream",
     "text": [
      "[16:45:41] WARNING: C:/Users/Administrator/workspace/xgboost-win64_release_1.4.0/src/learner.cc:1095: Starting in XGBoost 1.3.0, the default evaluation metric used with the objective 'binary:logistic' was changed from 'error' to 'logloss'. Explicitly set eval_metric if you'd like to restore the old behavior.\n"
     ]
    },
    {
     "name": "stderr",
     "output_type": "stream",
     "text": [
      "C:\\Users\\user\\anaconda3\\envs\\aging\\lib\\site-packages\\pandas\\core\\computation\\expressions.py:205: UserWarning: evaluating in Python space because the '*' operator is not supported by numexpr for the bool dtype, use '&' instead\n",
      "  f\"evaluating in Python space because the {repr(op_str)} \"\n",
      "C:\\Users\\user\\anaconda3\\envs\\aging\\lib\\site-packages\\pandas\\core\\computation\\expressions.py:205: UserWarning: evaluating in Python space because the '*' operator is not supported by numexpr for the bool dtype, use '&' instead\n",
      "  f\"evaluating in Python space because the {repr(op_str)} \"\n",
      "C:\\Users\\user\\anaconda3\\envs\\aging\\lib\\site-packages\\xgboost\\sklearn.py:1146: UserWarning: The use of label encoder in XGBClassifier is deprecated and will be removed in a future release. To remove this warning, do the following: 1) Pass option use_label_encoder=False when constructing XGBClassifier object; and 2) Encode your labels (y) as integers starting with 0, i.e. 0, 1, 2, ..., [num_class - 1].\n",
      "  warnings.warn(label_encoder_deprecation_msg, UserWarning)\n"
     ]
    },
    {
     "name": "stdout",
     "output_type": "stream",
     "text": [
      "Precision: 0.5 \n",
      "Recall: 0.03571428571428571 \n",
      "Aging Rate: 0.00013199577613516366\n",
      "[16:45:44] WARNING: C:/Users/Administrator/workspace/xgboost-win64_release_1.4.0/src/learner.cc:1095: Starting in XGBoost 1.3.0, the default evaluation metric used with the objective 'binary:logistic' was changed from 'error' to 'logloss'. Explicitly set eval_metric if you'd like to restore the old behavior.\n"
     ]
    },
    {
     "name": "stderr",
     "output_type": "stream",
     "text": [
      "C:\\Users\\user\\anaconda3\\envs\\aging\\lib\\site-packages\\pandas\\core\\computation\\expressions.py:205: UserWarning: evaluating in Python space because the '*' operator is not supported by numexpr for the bool dtype, use '&' instead\n",
      "  f\"evaluating in Python space because the {repr(op_str)} \"\n",
      "C:\\Users\\user\\anaconda3\\envs\\aging\\lib\\site-packages\\pandas\\core\\computation\\expressions.py:205: UserWarning: evaluating in Python space because the '*' operator is not supported by numexpr for the bool dtype, use '&' instead\n",
      "  f\"evaluating in Python space because the {repr(op_str)} \"\n",
      "C:\\Users\\user\\anaconda3\\envs\\aging\\lib\\site-packages\\xgboost\\sklearn.py:1146: UserWarning: The use of label encoder in XGBClassifier is deprecated and will be removed in a future release. To remove this warning, do the following: 1) Pass option use_label_encoder=False when constructing XGBClassifier object; and 2) Encode your labels (y) as integers starting with 0, i.e. 0, 1, 2, ..., [num_class - 1].\n",
      "  warnings.warn(label_encoder_deprecation_msg, UserWarning)\n"
     ]
    },
    {
     "name": "stdout",
     "output_type": "stream",
     "text": [
      "Precision: 0.0 \n",
      "Recall: 0.0 \n",
      "Aging Rate: 6.599788806758183e-05\n",
      "[16:45:46] WARNING: C:/Users/Administrator/workspace/xgboost-win64_release_1.4.0/src/learner.cc:1095: Starting in XGBoost 1.3.0, the default evaluation metric used with the objective 'binary:logistic' was changed from 'error' to 'logloss'. Explicitly set eval_metric if you'd like to restore the old behavior.\n"
     ]
    },
    {
     "name": "stderr",
     "output_type": "stream",
     "text": [
      "C:\\Users\\user\\anaconda3\\envs\\aging\\lib\\site-packages\\pandas\\core\\computation\\expressions.py:205: UserWarning: evaluating in Python space because the '*' operator is not supported by numexpr for the bool dtype, use '&' instead\n",
      "  f\"evaluating in Python space because the {repr(op_str)} \"\n",
      "C:\\Users\\user\\anaconda3\\envs\\aging\\lib\\site-packages\\pandas\\core\\computation\\expressions.py:205: UserWarning: evaluating in Python space because the '*' operator is not supported by numexpr for the bool dtype, use '&' instead\n",
      "  f\"evaluating in Python space because the {repr(op_str)} \"\n",
      "\u001b[32m[I 2021-10-09 16:45:48,548]\u001b[0m A new study created in memory with name: no-name-801bd5c4-7ad6-4dbb-bfba-5cde189d28aa\u001b[0m\n"
     ]
    },
    {
     "name": "stdout",
     "output_type": "stream",
     "text": [
      "Precision: 0.0 \n",
      "Recall: 0.0 \n",
      "Aging Rate: 6.599788806758183e-05\n",
      "\u001b[32m[I 2021-10-09 16:45:48,472]\u001b[0m Trial 0 finished with value: 0.011895962186352893 and parameters: {'n_estimators': 150, 'subsample': 0.5, 'min_child_weight': 3, 'max_depth': 11, 'learning_rate': 0.125, 'reg_alpha': 0.06446960810872021, 'reg_lambda': 1.0236120903209605}. Best is trial 0 with value: 0.011895962186352893.\u001b[0m\n",
      "Sampler is TPESampler\n",
      "Dataset1 :\n"
     ]
    },
    {
     "name": "stderr",
     "output_type": "stream",
     "text": [
      "C:\\Users\\user\\anaconda3\\envs\\aging\\lib\\site-packages\\optuna\\progress_bar.py:47: ExperimentalWarning: Progress bar is experimental (supported from v1.2.0). The interface can change in the future.\n",
      "  self._init_valid()\n"
     ]
    },
    {
     "data": {
      "application/vnd.jupyter.widget-view+json": {
       "model_id": "ce962f7c9e0a43eda9080776fd72e691",
       "version_major": 2,
       "version_minor": 0
      },
      "text/plain": [
       "  0%|          | 0/1 [00:00<?, ?it/s]"
      ]
     },
     "metadata": {},
     "output_type": "display_data"
    },
    {
     "name": "stderr",
     "output_type": "stream",
     "text": [
      "C:\\Users\\user\\anaconda3\\envs\\aging\\lib\\site-packages\\xgboost\\sklearn.py:1146: UserWarning: The use of label encoder in XGBClassifier is deprecated and will be removed in a future release. To remove this warning, do the following: 1) Pass option use_label_encoder=False when constructing XGBClassifier object; and 2) Encode your labels (y) as integers starting with 0, i.e. 0, 1, 2, ..., [num_class - 1].\n",
      "  warnings.warn(label_encoder_deprecation_msg, UserWarning)\n"
     ]
    },
    {
     "name": "stdout",
     "output_type": "stream",
     "text": [
      "[16:45:48] WARNING: C:/Users/Administrator/workspace/xgboost-win64_release_1.4.0/src/learner.cc:1095: Starting in XGBoost 1.3.0, the default evaluation metric used with the objective 'binary:logistic' was changed from 'error' to 'logloss'. Explicitly set eval_metric if you'd like to restore the old behavior.\n"
     ]
    },
    {
     "name": "stderr",
     "output_type": "stream",
     "text": [
      "C:\\Users\\user\\anaconda3\\envs\\aging\\lib\\site-packages\\pandas\\core\\computation\\expressions.py:205: UserWarning: evaluating in Python space because the '*' operator is not supported by numexpr for the bool dtype, use '&' instead\n",
      "  f\"evaluating in Python space because the {repr(op_str)} \"\n",
      "C:\\Users\\user\\anaconda3\\envs\\aging\\lib\\site-packages\\pandas\\core\\computation\\expressions.py:205: UserWarning: evaluating in Python space because the '*' operator is not supported by numexpr for the bool dtype, use '&' instead\n",
      "  f\"evaluating in Python space because the {repr(op_str)} \"\n",
      "C:\\Users\\user\\anaconda3\\envs\\aging\\lib\\site-packages\\xgboost\\sklearn.py:1146: UserWarning: The use of label encoder in XGBClassifier is deprecated and will be removed in a future release. To remove this warning, do the following: 1) Pass option use_label_encoder=False when constructing XGBClassifier object; and 2) Encode your labels (y) as integers starting with 0, i.e. 0, 1, 2, ..., [num_class - 1].\n",
      "  warnings.warn(label_encoder_deprecation_msg, UserWarning)\n"
     ]
    },
    {
     "name": "stdout",
     "output_type": "stream",
     "text": [
      "Precision: 0.8980582524271845 \n",
      "Recall: 0.8809523809523809 \n",
      "Aging Rate: 0.4577777777777778\n",
      "[16:45:48] WARNING: C:/Users/Administrator/workspace/xgboost-win64_release_1.4.0/src/learner.cc:1095: Starting in XGBoost 1.3.0, the default evaluation metric used with the objective 'binary:logistic' was changed from 'error' to 'logloss'. Explicitly set eval_metric if you'd like to restore the old behavior.\n"
     ]
    },
    {
     "name": "stderr",
     "output_type": "stream",
     "text": [
      "C:\\Users\\user\\anaconda3\\envs\\aging\\lib\\site-packages\\pandas\\core\\computation\\expressions.py:205: UserWarning: evaluating in Python space because the '*' operator is not supported by numexpr for the bool dtype, use '&' instead\n",
      "  f\"evaluating in Python space because the {repr(op_str)} \"\n",
      "C:\\Users\\user\\anaconda3\\envs\\aging\\lib\\site-packages\\pandas\\core\\computation\\expressions.py:205: UserWarning: evaluating in Python space because the '*' operator is not supported by numexpr for the bool dtype, use '&' instead\n",
      "  f\"evaluating in Python space because the {repr(op_str)} \"\n",
      "C:\\Users\\user\\anaconda3\\envs\\aging\\lib\\site-packages\\xgboost\\sklearn.py:1146: UserWarning: The use of label encoder in XGBClassifier is deprecated and will be removed in a future release. To remove this warning, do the following: 1) Pass option use_label_encoder=False when constructing XGBClassifier object; and 2) Encode your labels (y) as integers starting with 0, i.e. 0, 1, 2, ..., [num_class - 1].\n",
      "  warnings.warn(label_encoder_deprecation_msg, UserWarning)\n",
      "C:\\Users\\user\\anaconda3\\envs\\aging\\lib\\site-packages\\pandas\\core\\computation\\expressions.py:205: UserWarning: evaluating in Python space because the '*' operator is not supported by numexpr for the bool dtype, use '&' instead\n",
      "  f\"evaluating in Python space because the {repr(op_str)} \"\n",
      "C:\\Users\\user\\anaconda3\\envs\\aging\\lib\\site-packages\\pandas\\core\\computation\\expressions.py:205: UserWarning: evaluating in Python space because the '*' operator is not supported by numexpr for the bool dtype, use '&' instead\n",
      "  f\"evaluating in Python space because the {repr(op_str)} \"\n"
     ]
    },
    {
     "name": "stdout",
     "output_type": "stream",
     "text": [
      "Precision: 0.9497716894977168 \n",
      "Recall: 0.9162995594713657 \n",
      "Aging Rate: 0.4866666666666667\n",
      "[16:45:48] WARNING: C:/Users/Administrator/workspace/xgboost-win64_release_1.4.0/src/learner.cc:1095: Starting in XGBoost 1.3.0, the default evaluation metric used with the objective 'binary:logistic' was changed from 'error' to 'logloss'. Explicitly set eval_metric if you'd like to restore the old behavior.\n",
      "Precision: 0.9220183486238532 \n",
      "Recall: 0.9262672811059908 \n",
      "Aging Rate: 0.48444444444444446\n",
      "\u001b[32m[I 2021-10-09 16:45:49,098]\u001b[0m Trial 0 finished with value: 0.8602101108802828 and parameters: {'n_estimators': 250, 'subsample': 0.7, 'min_child_weight': 24, 'max_depth': 11, 'learning_rate': 0.37500000000000006, 'reg_alpha': 0.5754837497880027, 'reg_lambda': 0.007394489915850099}. Best is trial 0 with value: 0.8602101108802828.\u001b[0m\n"
     ]
    },
    {
     "name": "stderr",
     "output_type": "stream",
     "text": [
      "\u001b[32m[I 2021-10-09 16:45:49,176]\u001b[0m A new study created in memory with name: no-name-4a87738f-6ccb-46a1-82b8-250652444af1\u001b[0m\n"
     ]
    },
    {
     "name": "stdout",
     "output_type": "stream",
     "text": [
      "Sampler is TPESampler\n",
      "Dataset2 :\n"
     ]
    },
    {
     "name": "stderr",
     "output_type": "stream",
     "text": [
      "C:\\Users\\user\\anaconda3\\envs\\aging\\lib\\site-packages\\optuna\\progress_bar.py:47: ExperimentalWarning: Progress bar is experimental (supported from v1.2.0). The interface can change in the future.\n",
      "  self._init_valid()\n"
     ]
    },
    {
     "data": {
      "application/vnd.jupyter.widget-view+json": {
       "model_id": "3a8bf02ad5fc4fb4ad6f4cbb3c34642d",
       "version_major": 2,
       "version_minor": 0
      },
      "text/plain": [
       "  0%|          | 0/1 [00:00<?, ?it/s]"
      ]
     },
     "metadata": {},
     "output_type": "display_data"
    },
    {
     "name": "stderr",
     "output_type": "stream",
     "text": [
      "C:\\Users\\user\\anaconda3\\envs\\aging\\lib\\site-packages\\xgboost\\sklearn.py:1146: UserWarning: The use of label encoder in XGBClassifier is deprecated and will be removed in a future release. To remove this warning, do the following: 1) Pass option use_label_encoder=False when constructing XGBClassifier object; and 2) Encode your labels (y) as integers starting with 0, i.e. 0, 1, 2, ..., [num_class - 1].\n",
      "  warnings.warn(label_encoder_deprecation_msg, UserWarning)\n",
      "C:\\Users\\user\\anaconda3\\envs\\aging\\lib\\site-packages\\pandas\\core\\computation\\expressions.py:205: UserWarning: evaluating in Python space because the '*' operator is not supported by numexpr for the bool dtype, use '&' instead\n",
      "  f\"evaluating in Python space because the {repr(op_str)} \"\n",
      "C:\\Users\\user\\anaconda3\\envs\\aging\\lib\\site-packages\\pandas\\core\\computation\\expressions.py:205: UserWarning: evaluating in Python space because the '*' operator is not supported by numexpr for the bool dtype, use '&' instead\n",
      "  f\"evaluating in Python space because the {repr(op_str)} \"\n",
      "C:\\Users\\user\\anaconda3\\envs\\aging\\lib\\site-packages\\xgboost\\sklearn.py:1146: UserWarning: The use of label encoder in XGBClassifier is deprecated and will be removed in a future release. To remove this warning, do the following: 1) Pass option use_label_encoder=False when constructing XGBClassifier object; and 2) Encode your labels (y) as integers starting with 0, i.e. 0, 1, 2, ..., [num_class - 1].\n",
      "  warnings.warn(label_encoder_deprecation_msg, UserWarning)\n"
     ]
    },
    {
     "name": "stdout",
     "output_type": "stream",
     "text": [
      "[16:45:49] WARNING: C:/Users/Administrator/workspace/xgboost-win64_release_1.4.0/src/learner.cc:1095: Starting in XGBoost 1.3.0, the default evaluation metric used with the objective 'binary:logistic' was changed from 'error' to 'logloss'. Explicitly set eval_metric if you'd like to restore the old behavior.\n",
      "Precision: 0.9708994708994709 \n",
      "Recall: 0.9708994708994709 \n",
      "Aging Rate: 0.5128900949796472\n",
      "[16:45:49] WARNING: C:/Users/Administrator/workspace/xgboost-win64_release_1.4.0/src/learner.cc:1095: Starting in XGBoost 1.3.0, the default evaluation metric used with the objective 'binary:logistic' was changed from 'error' to 'logloss'. Explicitly set eval_metric if you'd like to restore the old behavior.\n"
     ]
    },
    {
     "name": "stderr",
     "output_type": "stream",
     "text": [
      "C:\\Users\\user\\anaconda3\\envs\\aging\\lib\\site-packages\\pandas\\core\\computation\\expressions.py:205: UserWarning: evaluating in Python space because the '*' operator is not supported by numexpr for the bool dtype, use '&' instead\n",
      "  f\"evaluating in Python space because the {repr(op_str)} \"\n",
      "C:\\Users\\user\\anaconda3\\envs\\aging\\lib\\site-packages\\pandas\\core\\computation\\expressions.py:205: UserWarning: evaluating in Python space because the '*' operator is not supported by numexpr for the bool dtype, use '&' instead\n",
      "  f\"evaluating in Python space because the {repr(op_str)} \"\n",
      "C:\\Users\\user\\anaconda3\\envs\\aging\\lib\\site-packages\\xgboost\\sklearn.py:1146: UserWarning: The use of label encoder in XGBClassifier is deprecated and will be removed in a future release. To remove this warning, do the following: 1) Pass option use_label_encoder=False when constructing XGBClassifier object; and 2) Encode your labels (y) as integers starting with 0, i.e. 0, 1, 2, ..., [num_class - 1].\n",
      "  warnings.warn(label_encoder_deprecation_msg, UserWarning)\n",
      "C:\\Users\\user\\anaconda3\\envs\\aging\\lib\\site-packages\\pandas\\core\\computation\\expressions.py:205: UserWarning: evaluating in Python space because the '*' operator is not supported by numexpr for the bool dtype, use '&' instead\n",
      "  f\"evaluating in Python space because the {repr(op_str)} \"\n",
      "C:\\Users\\user\\anaconda3\\envs\\aging\\lib\\site-packages\\pandas\\core\\computation\\expressions.py:205: UserWarning: evaluating in Python space because the '*' operator is not supported by numexpr for the bool dtype, use '&' instead\n",
      "  f\"evaluating in Python space because the {repr(op_str)} \"\n"
     ]
    },
    {
     "name": "stdout",
     "output_type": "stream",
     "text": [
      "Precision: 0.9501385041551247 \n",
      "Recall: 0.9913294797687862 \n",
      "Aging Rate: 0.4898236092265943\n",
      "[16:45:49] WARNING: C:/Users/Administrator/workspace/xgboost-win64_release_1.4.0/src/learner.cc:1095: Starting in XGBoost 1.3.0, the default evaluation metric used with the objective 'binary:logistic' was changed from 'error' to 'logloss'. Explicitly set eval_metric if you'd like to restore the old behavior.\n",
      "Precision: 0.9633251833740831 \n",
      "Recall: 0.9899497487437185 \n",
      "Aging Rate: 0.5549525101763908\n",
      "\u001b[32m[I 2021-10-09 16:45:49,644]\u001b[0m Trial 0 finished with value: 0.9321373593245709 and parameters: {'n_estimators': 150, 'subsample': 0.9, 'min_child_weight': 24, 'max_depth': 7, 'learning_rate': 0.37500000000000006, 'reg_alpha': 0.2000887930585683, 'reg_lambda': 0.0007949068818130506}. Best is trial 0 with value: 0.9321373593245709.\u001b[0m\n"
     ]
    },
    {
     "name": "stderr",
     "output_type": "stream",
     "text": [
      "\u001b[32m[I 2021-10-09 16:45:49,707]\u001b[0m A new study created in memory with name: no-name-aaa55915-4b10-49dc-9eee-af8529b25e26\u001b[0m\n"
     ]
    },
    {
     "name": "stdout",
     "output_type": "stream",
     "text": [
      "Sampler is TPESampler\n",
      "Dataset3 :\n"
     ]
    },
    {
     "name": "stderr",
     "output_type": "stream",
     "text": [
      "C:\\Users\\user\\anaconda3\\envs\\aging\\lib\\site-packages\\optuna\\progress_bar.py:47: ExperimentalWarning: Progress bar is experimental (supported from v1.2.0). The interface can change in the future.\n",
      "  self._init_valid()\n"
     ]
    },
    {
     "data": {
      "application/vnd.jupyter.widget-view+json": {
       "model_id": "0ad5f1452b4f4e568fa094171721d97c",
       "version_major": 2,
       "version_minor": 0
      },
      "text/plain": [
       "  0%|          | 0/1 [00:00<?, ?it/s]"
      ]
     },
     "metadata": {},
     "output_type": "display_data"
    },
    {
     "name": "stderr",
     "output_type": "stream",
     "text": [
      "C:\\Users\\user\\anaconda3\\envs\\aging\\lib\\site-packages\\xgboost\\sklearn.py:1146: UserWarning: The use of label encoder in XGBClassifier is deprecated and will be removed in a future release. To remove this warning, do the following: 1) Pass option use_label_encoder=False when constructing XGBClassifier object; and 2) Encode your labels (y) as integers starting with 0, i.e. 0, 1, 2, ..., [num_class - 1].\n",
      "  warnings.warn(label_encoder_deprecation_msg, UserWarning)\n",
      "C:\\Users\\user\\anaconda3\\envs\\aging\\lib\\site-packages\\pandas\\core\\computation\\expressions.py:205: UserWarning: evaluating in Python space because the '*' operator is not supported by numexpr for the bool dtype, use '&' instead\n",
      "  f\"evaluating in Python space because the {repr(op_str)} \"\n",
      "C:\\Users\\user\\anaconda3\\envs\\aging\\lib\\site-packages\\pandas\\core\\computation\\expressions.py:205: UserWarning: evaluating in Python space because the '*' operator is not supported by numexpr for the bool dtype, use '&' instead\n",
      "  f\"evaluating in Python space because the {repr(op_str)} \"\n",
      "C:\\Users\\user\\anaconda3\\envs\\aging\\lib\\site-packages\\xgboost\\sklearn.py:1146: UserWarning: The use of label encoder in XGBClassifier is deprecated and will be removed in a future release. To remove this warning, do the following: 1) Pass option use_label_encoder=False when constructing XGBClassifier object; and 2) Encode your labels (y) as integers starting with 0, i.e. 0, 1, 2, ..., [num_class - 1].\n",
      "  warnings.warn(label_encoder_deprecation_msg, UserWarning)\n",
      "C:\\Users\\user\\anaconda3\\envs\\aging\\lib\\site-packages\\pandas\\core\\computation\\expressions.py:205: UserWarning: evaluating in Python space because the '*' operator is not supported by numexpr for the bool dtype, use '&' instead\n",
      "  f\"evaluating in Python space because the {repr(op_str)} \"\n",
      "C:\\Users\\user\\anaconda3\\envs\\aging\\lib\\site-packages\\pandas\\core\\computation\\expressions.py:205: UserWarning: evaluating in Python space because the '*' operator is not supported by numexpr for the bool dtype, use '&' instead\n",
      "  f\"evaluating in Python space because the {repr(op_str)} \"\n"
     ]
    },
    {
     "name": "stdout",
     "output_type": "stream",
     "text": [
      "[16:45:49] WARNING: C:/Users/Administrator/workspace/xgboost-win64_release_1.4.0/src/learner.cc:1095: Starting in XGBoost 1.3.0, the default evaluation metric used with the objective 'binary:logistic' was changed from 'error' to 'logloss'. Explicitly set eval_metric if you'd like to restore the old behavior.\n",
      "Precision: 0.9961389961389961 \n",
      "Recall: 1.0 \n",
      "Aging Rate: 0.5098425196850394\n",
      "[16:45:49] WARNING: C:/Users/Administrator/workspace/xgboost-win64_release_1.4.0/src/learner.cc:1095: Starting in XGBoost 1.3.0, the default evaluation metric used with the objective 'binary:logistic' was changed from 'error' to 'logloss'. Explicitly set eval_metric if you'd like to restore the old behavior.\n",
      "Precision:"
     ]
    },
    {
     "name": "stderr",
     "output_type": "stream",
     "text": [
      "C:\\Users\\user\\anaconda3\\envs\\aging\\lib\\site-packages\\xgboost\\sklearn.py:1146: UserWarning: The use of label encoder in XGBClassifier is deprecated and will be removed in a future release. To remove this warning, do the following: 1) Pass option use_label_encoder=False when constructing XGBClassifier object; and 2) Encode your labels (y) as integers starting with 0, i.e. 0, 1, 2, ..., [num_class - 1].\n",
      "  warnings.warn(label_encoder_deprecation_msg, UserWarning)\n",
      "C:\\Users\\user\\anaconda3\\envs\\aging\\lib\\site-packages\\pandas\\core\\computation\\expressions.py:205: UserWarning: evaluating in Python space because the '*' operator is not supported by numexpr for the bool dtype, use '&' instead\n",
      "  f\"evaluating in Python space because the {repr(op_str)} \"\n",
      "C:\\Users\\user\\anaconda3\\envs\\aging\\lib\\site-packages\\pandas\\core\\computation\\expressions.py:205: UserWarning: evaluating in Python space because the '*' operator is not supported by numexpr for the bool dtype, use '&' instead\n",
      "  f\"evaluating in Python space because the {repr(op_str)} \"\n",
      "\u001b[32m[I 2021-10-09 16:45:50,112]\u001b[0m A new study created in memory with name: no-name-4993bbe2-5732-4b45-b846-5fbfc485860c\u001b[0m\n",
      "C:\\Users\\user\\anaconda3\\envs\\aging\\lib\\site-packages\\optuna\\progress_bar.py:47: ExperimentalWarning: Progress bar is experimental (supported from v1.2.0). The interface can change in the future.\n",
      "  self._init_valid()\n"
     ]
    },
    {
     "name": "stdout",
     "output_type": "stream",
     "text": [
      " 0.9921875 \n",
      "Recall: 0.9621212121212122 \n",
      "Aging Rate: 0.5039370078740157\n",
      "[16:45:49] WARNING: C:/Users/Administrator/workspace/xgboost-win64_release_1.4.0/src/learner.cc:1095: Starting in XGBoost 1.3.0, the default evaluation metric used with the objective 'binary:logistic' was changed from 'error' to 'logloss'. Explicitly set eval_metric if you'd like to restore the old behavior.\n",
      "Precision: 1.0 \n",
      "Recall: 0.9883720930232558 \n",
      "Aging Rate: 0.5019685039370079\n",
      "\u001b[32m[I 2021-10-09 16:45:50,044]\u001b[0m Trial 0 finished with value: 0.9329728339982872 and parameters: {'n_estimators': 100, 'subsample': 0.9, 'min_child_weight': 6, 'max_depth': 13, 'learning_rate': 0.32500000000000007, 'reg_alpha': 0.13526461992384206, 'reg_lambda': 0.6120734988818238}. Best is trial 0 with value: 0.9329728339982872.\u001b[0m\n",
      "Sampler is TPESampler\n",
      "Dataset4 :\n"
     ]
    },
    {
     "data": {
      "application/vnd.jupyter.widget-view+json": {
       "model_id": "454b9714aa6c4da69362661a3a5d5b4a",
       "version_major": 2,
       "version_minor": 0
      },
      "text/plain": [
       "  0%|          | 0/1 [00:00<?, ?it/s]"
      ]
     },
     "metadata": {},
     "output_type": "display_data"
    },
    {
     "name": "stdout",
     "output_type": "stream",
     "text": [
      "[16:45:50] WARNING: C:/Users/Administrator/workspace/xgboost-win64_release_1.4.0/src/learner.cc:1095: Starting in XGBoost 1.3.0, the default evaluation metric used with the objective 'binary:logistic' was changed from 'error' to 'logloss'. Explicitly set eval_metric if you'd like to restore the old behavior.\n"
     ]
    },
    {
     "name": "stderr",
     "output_type": "stream",
     "text": [
      "C:\\Users\\user\\anaconda3\\envs\\aging\\lib\\site-packages\\xgboost\\sklearn.py:1146: UserWarning: The use of label encoder in XGBClassifier is deprecated and will be removed in a future release. To remove this warning, do the following: 1) Pass option use_label_encoder=False when constructing XGBClassifier object; and 2) Encode your labels (y) as integers starting with 0, i.e. 0, 1, 2, ..., [num_class - 1].\n",
      "  warnings.warn(label_encoder_deprecation_msg, UserWarning)\n"
     ]
    },
    {
     "name": "stdout",
     "output_type": "stream",
     "text": [
      "Precision:"
     ]
    },
    {
     "name": "stderr",
     "output_type": "stream",
     "text": [
      "C:\\Users\\user\\anaconda3\\envs\\aging\\lib\\site-packages\\pandas\\core\\computation\\expressions.py:205: UserWarning: evaluating in Python space because the '*' operator is not supported by numexpr for the bool dtype, use '&' instead\n",
      "  f\"evaluating in Python space because the {repr(op_str)} \"\n",
      "C:\\Users\\user\\anaconda3\\envs\\aging\\lib\\site-packages\\pandas\\core\\computation\\expressions.py:205: UserWarning: evaluating in Python space because the '*' operator is not supported by numexpr for the bool dtype, use '&' instead\n",
      "  f\"evaluating in Python space because the {repr(op_str)} \"\n",
      "C:\\Users\\user\\anaconda3\\envs\\aging\\lib\\site-packages\\xgboost\\sklearn.py:1146: UserWarning: The use of label encoder in XGBClassifier is deprecated and will be removed in a future release. To remove this warning, do the following: 1) Pass option use_label_encoder=False when constructing XGBClassifier object; and 2) Encode your labels (y) as integers starting with 0, i.e. 0, 1, 2, ..., [num_class - 1].\n",
      "  warnings.warn(label_encoder_deprecation_msg, UserWarning)\n",
      "C:\\Users\\user\\anaconda3\\envs\\aging\\lib\\site-packages\\pandas\\core\\computation\\expressions.py:205: UserWarning: evaluating in Python space because the '*' operator is not supported by numexpr for the bool dtype, use '&' instead\n",
      "  f\"evaluating in Python space because the {repr(op_str)} \"\n",
      "C:\\Users\\user\\anaconda3\\envs\\aging\\lib\\site-packages\\pandas\\core\\computation\\expressions.py:205: UserWarning: evaluating in Python space because the '*' operator is not supported by numexpr for the bool dtype, use '&' instead\n",
      "  f\"evaluating in Python space because the {repr(op_str)} \"\n"
     ]
    },
    {
     "name": "stdout",
     "output_type": "stream",
     "text": [
      " 0.9957627118644068 \n",
      "Recall: 0.9832635983263598 \n",
      "Aging Rate: 0.5198237885462555\n",
      "[16:45:50] WARNING: C:/Users/Administrator/workspace/xgboost-win64_release_1.4.0/src/learner.cc:1095: Starting in XGBoost 1.3.0, the default evaluation metric used with the objective 'binary:logistic' was changed from 'error' to 'logloss'. Explicitly set eval_metric if you'd like to restore the old behavior.\n"
     ]
    },
    {
     "name": "stderr",
     "output_type": "stream",
     "text": [
      "C:\\Users\\user\\anaconda3\\envs\\aging\\lib\\site-packages\\xgboost\\sklearn.py:1146: UserWarning: The use of label encoder in XGBClassifier is deprecated and will be removed in a future release. To remove this warning, do the following: 1) Pass option use_label_encoder=False when constructing XGBClassifier object; and 2) Encode your labels (y) as integers starting with 0, i.e. 0, 1, 2, ..., [num_class - 1].\n",
      "  warnings.warn(label_encoder_deprecation_msg, UserWarning)\n",
      "C:\\Users\\user\\anaconda3\\envs\\aging\\lib\\site-packages\\pandas\\core\\computation\\expressions.py:205: UserWarning: evaluating in Python space because the '*' operator is not supported by numexpr for the bool dtype, use '&' instead\n",
      "  f\"evaluating in Python space because the {repr(op_str)} \"\n",
      "C:\\Users\\user\\anaconda3\\envs\\aging\\lib\\site-packages\\pandas\\core\\computation\\expressions.py:205: UserWarning: evaluating in Python space because the '*' operator is not supported by numexpr for the bool dtype, use '&' instead\n",
      "  f\"evaluating in Python space because the {repr(op_str)} \"\n"
     ]
    },
    {
     "name": "stdout",
     "output_type": "stream",
     "text": [
      "Precision: 0.9826086956521739 \n",
      "Recall: 1.0 \n",
      "Aging Rate: 0.5066079295154186\n",
      "[16:45:50] WARNING: C:/Users/Administrator/workspace/xgboost-win64_release_1.4.0/src/learner.cc:1095: Starting in XGBoost 1.3.0, the default evaluation metric used with the objective 'binary:logistic' was changed from 'error' to 'logloss'. Explicitly set eval_metric if you'd like to restore the old behavior.\n"
     ]
    },
    {
     "name": "stderr",
     "output_type": "stream",
     "text": [
      "\u001b[32m[I 2021-10-09 16:45:50,823]\u001b[0m A new study created in memory with name: no-name-424e35ae-218d-4ec7-aab9-07c3fa067c7a\u001b[0m\n"
     ]
    },
    {
     "name": "stdout",
     "output_type": "stream",
     "text": [
      "Precision: 1.0 \n",
      "Recall: 0.9711934156378601 \n",
      "Aging Rate: 0.5198237885462555\n",
      "\u001b[32m[I 2021-10-09 16:45:50,754]\u001b[0m Trial 0 finished with value: 0.9332771544344757 and parameters: {'n_estimators': 250, 'subsample': 0.5, 'min_child_weight': 3, 'max_depth': 13, 'learning_rate': 0.225, 'reg_alpha': 0.00036877967985384777, 'reg_lambda': 0.04234142410603779}. Best is trial 0 with value: 0.9332771544344757.\u001b[0m\n",
      "Sampler is TPESampler\n",
      "Dataset5 :\n"
     ]
    },
    {
     "name": "stderr",
     "output_type": "stream",
     "text": [
      "C:\\Users\\user\\anaconda3\\envs\\aging\\lib\\site-packages\\optuna\\progress_bar.py:47: ExperimentalWarning: Progress bar is experimental (supported from v1.2.0). The interface can change in the future.\n",
      "  self._init_valid()\n"
     ]
    },
    {
     "data": {
      "application/vnd.jupyter.widget-view+json": {
       "model_id": "b22869fd749641919c5b371fe9f8987f",
       "version_major": 2,
       "version_minor": 0
      },
      "text/plain": [
       "  0%|          | 0/1 [00:00<?, ?it/s]"
      ]
     },
     "metadata": {},
     "output_type": "display_data"
    },
    {
     "name": "stdout",
     "output_type": "stream",
     "text": [
      "[16:45:50] WARNING: C:/Users/Administrator/workspace/xgboost-win64_release_1.4.0/src/learner.cc:1095: Starting in XGBoost 1.3.0, the default evaluation metric used with the objective 'binary:logistic' was changed from 'error' to 'logloss'. Explicitly set eval_metric if you'd like to restore the old behavior.\n"
     ]
    },
    {
     "name": "stderr",
     "output_type": "stream",
     "text": [
      "C:\\Users\\user\\anaconda3\\envs\\aging\\lib\\site-packages\\xgboost\\sklearn.py:1146: UserWarning: The use of label encoder in XGBClassifier is deprecated and will be removed in a future release. To remove this warning, do the following: 1) Pass option use_label_encoder=False when constructing XGBClassifier object; and 2) Encode your labels (y) as integers starting with 0, i.e. 0, 1, 2, ..., [num_class - 1].\n",
      "  warnings.warn(label_encoder_deprecation_msg, UserWarning)\n",
      "C:\\Users\\user\\anaconda3\\envs\\aging\\lib\\site-packages\\pandas\\core\\computation\\expressions.py:205: UserWarning: evaluating in Python space because the '*' operator is not supported by numexpr for the bool dtype, use '&' instead\n",
      "  f\"evaluating in Python space because the {repr(op_str)} \"\n",
      "C:\\Users\\user\\anaconda3\\envs\\aging\\lib\\site-packages\\pandas\\core\\computation\\expressions.py:205: UserWarning: evaluating in Python space because the '*' operator is not supported by numexpr for the bool dtype, use '&' instead\n",
      "  f\"evaluating in Python space because the {repr(op_str)} \"\n",
      "C:\\Users\\user\\anaconda3\\envs\\aging\\lib\\site-packages\\xgboost\\sklearn.py:1146: UserWarning: The use of label encoder in XGBClassifier is deprecated and will be removed in a future release. To remove this warning, do the following: 1) Pass option use_label_encoder=False when constructing XGBClassifier object; and 2) Encode your labels (y) as integers starting with 0, i.e. 0, 1, 2, ..., [num_class - 1].\n",
      "  warnings.warn(label_encoder_deprecation_msg, UserWarning)\n"
     ]
    },
    {
     "name": "stdout",
     "output_type": "stream",
     "text": [
      "Precision: 0.9583333333333334 \n",
      "Recall: 0.9387755102040817 \n",
      "Aging Rate: 0.5226860254083484\n",
      "[16:45:51] WARNING: C:/Users/Administrator/workspace/xgboost-win64_release_1.4.0/src/learner.cc:1095: Starting in XGBoost 1.3.0, the default evaluation metric used with the objective 'binary:logistic' was changed from 'error' to 'logloss'. Explicitly set eval_metric if you'd like to restore the old behavior.\n"
     ]
    },
    {
     "name": "stderr",
     "output_type": "stream",
     "text": [
      "C:\\Users\\user\\anaconda3\\envs\\aging\\lib\\site-packages\\pandas\\core\\computation\\expressions.py:205: UserWarning: evaluating in Python space because the '*' operator is not supported by numexpr for the bool dtype, use '&' instead\n",
      "  f\"evaluating in Python space because the {repr(op_str)} \"\n",
      "C:\\Users\\user\\anaconda3\\envs\\aging\\lib\\site-packages\\pandas\\core\\computation\\expressions.py:205: UserWarning: evaluating in Python space because the '*' operator is not supported by numexpr for the bool dtype, use '&' instead\n",
      "  f\"evaluating in Python space because the {repr(op_str)} \"\n",
      "C:\\Users\\user\\anaconda3\\envs\\aging\\lib\\site-packages\\xgboost\\sklearn.py:1146: UserWarning: The use of label encoder in XGBClassifier is deprecated and will be removed in a future release. To remove this warning, do the following: 1) Pass option use_label_encoder=False when constructing XGBClassifier object; and 2) Encode your labels (y) as integers starting with 0, i.e. 0, 1, 2, ..., [num_class - 1].\n",
      "  warnings.warn(label_encoder_deprecation_msg, UserWarning)\n"
     ]
    },
    {
     "name": "stdout",
     "output_type": "stream",
     "text": [
      "Precision: 0.9509433962264151 \n",
      "Recall: 0.9032258064516129 \n",
      "Aging Rate: 0.4809437386569873\n",
      "[16:45:51] WARNING: C:/Users/Administrator/workspace/xgboost-win64_release_1.4.0/src/learner.cc:1095: Starting in XGBoost 1.3.0, the default evaluation metric used with the objective 'binary:logistic' was changed from 'error' to 'logloss'. Explicitly set eval_metric if you'd like to restore the old behavior.\n"
     ]
    },
    {
     "name": "stderr",
     "output_type": "stream",
     "text": [
      "C:\\Users\\user\\anaconda3\\envs\\aging\\lib\\site-packages\\pandas\\core\\computation\\expressions.py:205: UserWarning: evaluating in Python space because the '*' operator is not supported by numexpr for the bool dtype, use '&' instead\n",
      "  f\"evaluating in Python space because the {repr(op_str)} \"\n",
      "C:\\Users\\user\\anaconda3\\envs\\aging\\lib\\site-packages\\pandas\\core\\computation\\expressions.py:205: UserWarning: evaluating in Python space because the '*' operator is not supported by numexpr for the bool dtype, use '&' instead\n",
      "  f\"evaluating in Python space because the {repr(op_str)} \"\n"
     ]
    },
    {
     "name": "stdout",
     "output_type": "stream",
     "text": [
      "Precision: 0.9187279151943463 \n",
      "Recall: 0.9386281588447654 \n",
      "Aging Rate: 0.5136116152450091\n",
      "\u001b[32m[I 2021-10-09 16:45:51,332]\u001b[0m Trial 0 finished with value: 0.8763017791898084 and parameters: {'n_estimators': 200, 'subsample': 0.5, 'min_child_weight': 21, 'max_depth': 11, 'learning_rate': 0.17500000000000002, 'reg_alpha': 0.0005376729613976154, 'reg_lambda': 0.00040618690192884173}. Best is trial 0 with value: 0.8763017791898084.\u001b[0m\n"
     ]
    },
    {
     "name": "stderr",
     "output_type": "stream",
     "text": [
      "\u001b[32m[I 2021-10-09 16:45:51,395]\u001b[0m A new study created in memory with name: no-name-eac63fb0-b330-41ea-b598-5f321bbc8d6f\u001b[0m\n"
     ]
    },
    {
     "name": "stdout",
     "output_type": "stream",
     "text": [
      "Sampler is TPESampler\n",
      "Dataset6 :\n"
     ]
    },
    {
     "name": "stderr",
     "output_type": "stream",
     "text": [
      "C:\\Users\\user\\anaconda3\\envs\\aging\\lib\\site-packages\\optuna\\progress_bar.py:47: ExperimentalWarning: Progress bar is experimental (supported from v1.2.0). The interface can change in the future.\n",
      "  self._init_valid()\n"
     ]
    },
    {
     "data": {
      "application/vnd.jupyter.widget-view+json": {
       "model_id": "0704569e9b254450ba67bf9abcb4b008",
       "version_major": 2,
       "version_minor": 0
      },
      "text/plain": [
       "  0%|          | 0/1 [00:00<?, ?it/s]"
      ]
     },
     "metadata": {},
     "output_type": "display_data"
    },
    {
     "name": "stdout",
     "output_type": "stream",
     "text": [
      "[16:45:51] WARNING: C:/Users/Administrator/workspace/xgboost-win64_release_1.4.0/src/learner.cc:1095: Starting in XGBoost 1.3.0, the default evaluation metric used with the objective 'binary:logistic' was changed from 'error' to 'logloss'. Explicitly set eval_metric if you'd like to restore the old behavior.\n"
     ]
    },
    {
     "name": "stderr",
     "output_type": "stream",
     "text": [
      "C:\\Users\\user\\anaconda3\\envs\\aging\\lib\\site-packages\\xgboost\\sklearn.py:1146: UserWarning: The use of label encoder in XGBClassifier is deprecated and will be removed in a future release. To remove this warning, do the following: 1) Pass option use_label_encoder=False when constructing XGBClassifier object; and 2) Encode your labels (y) as integers starting with 0, i.e. 0, 1, 2, ..., [num_class - 1].\n",
      "  warnings.warn(label_encoder_deprecation_msg, UserWarning)\n",
      "C:\\Users\\user\\anaconda3\\envs\\aging\\lib\\site-packages\\pandas\\core\\computation\\expressions.py:205: UserWarning: evaluating in Python space because the '*' operator is not supported by numexpr for the bool dtype, use '&' instead\n",
      "  f\"evaluating in Python space because the {repr(op_str)} \"\n",
      "C:\\Users\\user\\anaconda3\\envs\\aging\\lib\\site-packages\\pandas\\core\\computation\\expressions.py:205: UserWarning: evaluating in Python space because the '*' operator is not supported by numexpr for the bool dtype, use '&' instead\n",
      "  f\"evaluating in Python space because the {repr(op_str)} \"\n",
      "C:\\Users\\user\\anaconda3\\envs\\aging\\lib\\site-packages\\xgboost\\sklearn.py:1146: UserWarning: The use of label encoder in XGBClassifier is deprecated and will be removed in a future release. To remove this warning, do the following: 1) Pass option use_label_encoder=False when constructing XGBClassifier object; and 2) Encode your labels (y) as integers starting with 0, i.e. 0, 1, 2, ..., [num_class - 1].\n",
      "  warnings.warn(label_encoder_deprecation_msg, UserWarning)\n",
      "C:\\Users\\user\\anaconda3\\envs\\aging\\lib\\site-packages\\pandas\\core\\computation\\expressions.py:205: UserWarning: evaluating in Python space because the '*' operator is not supported by numexpr for the bool dtype, use '&' instead\n",
      "  f\"evaluating in Python space because the {repr(op_str)} \"\n",
      "C:\\Users\\user\\anaconda3\\envs\\aging\\lib\\site-packages\\pandas\\core\\computation\\expressions.py:205: UserWarning: evaluating in Python space because the '*' operator is not supported by numexpr for the bool dtype, use '&' instead\n",
      "  f\"evaluating in Python space because the {repr(op_str)} \"\n"
     ]
    },
    {
     "name": "stdout",
     "output_type": "stream",
     "text": [
      "Precision: 0.9730458221024259 \n",
      "Recall: 0.978319783197832 \n",
      "Aging Rate: 0.5778816199376947\n",
      "[16:45:51] WARNING: C:/Users/Administrator/workspace/xgboost-win64_release_1.4.0/src/learner.cc:1095: Starting in XGBoost 1.3.0, the default evaluation metric used with the objective 'binary:logistic' was changed from 'error' to 'logloss'. Explicitly set eval_metric if you'd like to restore the old behavior.\n",
      "Precision: 0.9808743169398907 \n",
      "Recall: 0.9728997289972899 \n",
      "Aging Rate: 0.5700934579439252\n",
      "[16:45:51] WARNING: C:/Users/Administrator/workspace/xgboost-win64_release_1.4.0/src/learner.cc:1095: Starting in XGBoost 1.3.0, the default evaluation metric used with the objective 'binary:logistic' was changed from 'error' to 'logloss'. Explicitly set eval_metric if you'd like to restore the old behavior.\n"
     ]
    },
    {
     "name": "stderr",
     "output_type": "stream",
     "text": [
      "C:\\Users\\user\\anaconda3\\envs\\aging\\lib\\site-packages\\xgboost\\sklearn.py:1146: UserWarning: The use of label encoder in XGBClassifier is deprecated and will be removed in a future release. To remove this warning, do the following: 1) Pass option use_label_encoder=False when constructing XGBClassifier object; and 2) Encode your labels (y) as integers starting with 0, i.e. 0, 1, 2, ..., [num_class - 1].\n",
      "  warnings.warn(label_encoder_deprecation_msg, UserWarning)\n",
      "C:\\Users\\user\\anaconda3\\envs\\aging\\lib\\site-packages\\pandas\\core\\computation\\expressions.py:205: UserWarning: evaluating in Python space because the '*' operator is not supported by numexpr for the bool dtype, use '&' instead\n",
      "  f\"evaluating in Python space because the {repr(op_str)} \"\n",
      "C:\\Users\\user\\anaconda3\\envs\\aging\\lib\\site-packages\\pandas\\core\\computation\\expressions.py:205: UserWarning: evaluating in Python space because the '*' operator is not supported by numexpr for the bool dtype, use '&' instead\n",
      "  f\"evaluating in Python space because the {repr(op_str)} \"\n",
      "\u001b[32m[I 2021-10-09 16:45:51,787]\u001b[0m A new study created in memory with name: no-name-13df066b-4119-4c28-a077-439d8e3b2719\u001b[0m\n",
      "C:\\Users\\user\\anaconda3\\envs\\aging\\lib\\site-packages\\optuna\\progress_bar.py:47: ExperimentalWarning: Progress bar is experimental (supported from v1.2.0). The interface can change in the future.\n",
      "  self._init_valid()\n"
     ]
    },
    {
     "name": "stdout",
     "output_type": "stream",
     "text": [
      "Precision: 0.9792207792207792 \n",
      "Recall: 0.9766839378238342 \n",
      "Aging Rate: 0.5996884735202492\n",
      "\u001b[32m[I 2021-10-09 16:45:51,707]\u001b[0m Trial 0 finished with value: 0.9177123649595899 and parameters: {'n_estimators': 100, 'subsample': 0.7, 'min_child_weight': 9, 'max_depth': 3, 'learning_rate': 0.275, 'reg_alpha': 0.00619759101010443, 'reg_lambda': 1.3864152341710203}. Best is trial 0 with value: 0.9177123649595899.\u001b[0m\n",
      "Sampler is TPESampler\n",
      "Dataset7 :\n"
     ]
    },
    {
     "data": {
      "application/vnd.jupyter.widget-view+json": {
       "model_id": "89b6aeb88c6a4ae398270401dd52d502",
       "version_major": 2,
       "version_minor": 0
      },
      "text/plain": [
       "  0%|          | 0/1 [00:00<?, ?it/s]"
      ]
     },
     "metadata": {},
     "output_type": "display_data"
    },
    {
     "name": "stdout",
     "output_type": "stream",
     "text": [
      "[16:45:51] WARNING: C:/Users/Administrator/workspace/xgboost-win64_release_1.4.0/src/learner.cc:1095: Starting in XGBoost 1.3.0, the default evaluation metric used with the objective 'binary:logistic' was changed from 'error' to 'logloss'. Explicitly set eval_metric if you'd like to restore the old behavior.\n"
     ]
    },
    {
     "name": "stderr",
     "output_type": "stream",
     "text": [
      "C:\\Users\\user\\anaconda3\\envs\\aging\\lib\\site-packages\\xgboost\\sklearn.py:1146: UserWarning: The use of label encoder in XGBClassifier is deprecated and will be removed in a future release. To remove this warning, do the following: 1) Pass option use_label_encoder=False when constructing XGBClassifier object; and 2) Encode your labels (y) as integers starting with 0, i.e. 0, 1, 2, ..., [num_class - 1].\n",
      "  warnings.warn(label_encoder_deprecation_msg, UserWarning)\n",
      "C:\\Users\\user\\anaconda3\\envs\\aging\\lib\\site-packages\\pandas\\core\\computation\\expressions.py:205: UserWarning: evaluating in Python space because the '*' operator is not supported by numexpr for the bool dtype, use '&' instead\n",
      "  f\"evaluating in Python space because the {repr(op_str)} \"\n",
      "C:\\Users\\user\\anaconda3\\envs\\aging\\lib\\site-packages\\pandas\\core\\computation\\expressions.py:205: UserWarning: evaluating in Python space because the '*' operator is not supported by numexpr for the bool dtype, use '&' instead\n",
      "  f\"evaluating in Python space because the {repr(op_str)} \"\n",
      "C:\\Users\\user\\anaconda3\\envs\\aging\\lib\\site-packages\\xgboost\\sklearn.py:1146: UserWarning: The use of label encoder in XGBClassifier is deprecated and will be removed in a future release. To remove this warning, do the following: 1) Pass option use_label_encoder=False when constructing XGBClassifier object; and 2) Encode your labels (y) as integers starting with 0, i.e. 0, 1, 2, ..., [num_class - 1].\n",
      "  warnings.warn(label_encoder_deprecation_msg, UserWarning)\n",
      "C:\\Users\\user\\anaconda3\\envs\\aging\\lib\\site-packages\\pandas\\core\\computation\\expressions.py:205: UserWarning: evaluating in Python space because the '*' operator is not supported by numexpr for the bool dtype, use '&' instead\n",
      "  f\"evaluating in Python space because the {repr(op_str)} \"\n"
     ]
    },
    {
     "name": "stdout",
     "output_type": "stream",
     "text": [
      "Precision: 0.9961389961389961 \n",
      "Recall: 0.9735849056603774 \n",
      "Aging Rate: 0.4709090909090909\n",
      "[16:45:52] WARNING: C:/Users/Administrator/workspace/xgboost-win64_release_1.4.0/src/learner.cc:1095: Starting in XGBoost 1.3.0, the default evaluation metric used with the objective 'binary:logistic' was changed from 'error' to 'logloss'. Explicitly set eval_metric if you'd like to restore the old behavior.\n"
     ]
    },
    {
     "name": "stderr",
     "output_type": "stream",
     "text": [
      "C:\\Users\\user\\anaconda3\\envs\\aging\\lib\\site-packages\\pandas\\core\\computation\\expressions.py:205: UserWarning: evaluating in Python space because the '*' operator is not supported by numexpr for the bool dtype, use '&' instead\n",
      "  f\"evaluating in Python space because the {repr(op_str)} \"\n",
      "C:\\Users\\user\\anaconda3\\envs\\aging\\lib\\site-packages\\xgboost\\sklearn.py:1146: UserWarning: The use of label encoder in XGBClassifier is deprecated and will be removed in a future release. To remove this warning, do the following: 1) Pass option use_label_encoder=False when constructing XGBClassifier object; and 2) Encode your labels (y) as integers starting with 0, i.e. 0, 1, 2, ..., [num_class - 1].\n",
      "  warnings.warn(label_encoder_deprecation_msg, UserWarning)\n"
     ]
    },
    {
     "name": "stdout",
     "output_type": "stream",
     "text": [
      "Precision: 0.9929824561403509 \n",
      "Recall: 0.9658703071672355 \n",
      "Aging Rate: 0.5181818181818182\n",
      "[16:45:52] WARNING: C:/Users/Administrator/workspace/xgboost-win64_release_1.4.0/src/learner.cc:1095: Starting in XGBoost 1.3.0, the default evaluation metric used with the objective 'binary:logistic' was changed from 'error' to 'logloss'. Explicitly set eval_metric if you'd like to restore the old behavior.\n"
     ]
    },
    {
     "name": "stderr",
     "output_type": "stream",
     "text": [
      "C:\\Users\\user\\anaconda3\\envs\\aging\\lib\\site-packages\\pandas\\core\\computation\\expressions.py:205: UserWarning: evaluating in Python space because the '*' operator is not supported by numexpr for the bool dtype, use '&' instead\n",
      "  f\"evaluating in Python space because the {repr(op_str)} \"\n",
      "C:\\Users\\user\\anaconda3\\envs\\aging\\lib\\site-packages\\pandas\\core\\computation\\expressions.py:205: UserWarning: evaluating in Python space because the '*' operator is not supported by numexpr for the bool dtype, use '&' instead\n",
      "  f\"evaluating in Python space because the {repr(op_str)} \"\n",
      "\u001b[32m[I 2021-10-09 16:45:52,489]\u001b[0m A new study created in memory with name: no-name-cf35bd45-cac1-4b48-9126-c1537a3b0a0f\u001b[0m\n"
     ]
    },
    {
     "name": "stdout",
     "output_type": "stream",
     "text": [
      "Precision: 1.0 \n",
      "Recall: 0.972972972972973 \n",
      "Aging Rate: 0.4581818181818182\n",
      "\u001b[32m[I 2021-10-09 16:45:52,415]\u001b[0m Trial 0 finished with value: 0.9225669710244376 and parameters: {'n_estimators': 250, 'subsample': 0.5, 'min_child_weight': 3, 'max_depth': 3, 'learning_rate': 0.37500000000000006, 'reg_alpha': 0.003942505872162215, 'reg_lambda': 0.134391757874734}. Best is trial 0 with value: 0.9225669710244376.\u001b[0m\n",
      "Sampler is TPESampler\n",
      "Dataset8 :\n"
     ]
    },
    {
     "name": "stderr",
     "output_type": "stream",
     "text": [
      "C:\\Users\\user\\anaconda3\\envs\\aging\\lib\\site-packages\\optuna\\progress_bar.py:47: ExperimentalWarning: Progress bar is experimental (supported from v1.2.0). The interface can change in the future.\n",
      "  self._init_valid()\n"
     ]
    },
    {
     "data": {
      "application/vnd.jupyter.widget-view+json": {
       "model_id": "e8d1b090c57142a4988b429e46b86b03",
       "version_major": 2,
       "version_minor": 0
      },
      "text/plain": [
       "  0%|          | 0/1 [00:00<?, ?it/s]"
      ]
     },
     "metadata": {},
     "output_type": "display_data"
    },
    {
     "name": "stderr",
     "output_type": "stream",
     "text": [
      "C:\\Users\\user\\anaconda3\\envs\\aging\\lib\\site-packages\\xgboost\\sklearn.py:1146: UserWarning: The use of label encoder in XGBClassifier is deprecated and will be removed in a future release. To remove this warning, do the following: 1) Pass option use_label_encoder=False when constructing XGBClassifier object; and 2) Encode your labels (y) as integers starting with 0, i.e. 0, 1, 2, ..., [num_class - 1].\n",
      "  warnings.warn(label_encoder_deprecation_msg, UserWarning)\n"
     ]
    },
    {
     "name": "stdout",
     "output_type": "stream",
     "text": [
      "[16:45:52] WARNING: C:/Users/Administrator/workspace/xgboost-win64_release_1.4.0/src/learner.cc:1095: Starting in XGBoost 1.3.0, the default evaluation metric used with the objective 'binary:logistic' was changed from 'error' to 'logloss'. Explicitly set eval_metric if you'd like to restore the old behavior.\n"
     ]
    },
    {
     "name": "stderr",
     "output_type": "stream",
     "text": [
      "C:\\Users\\user\\anaconda3\\envs\\aging\\lib\\site-packages\\pandas\\core\\computation\\expressions.py:205: UserWarning: evaluating in Python space because the '*' operator is not supported by numexpr for the bool dtype, use '&' instead\n",
      "  f\"evaluating in Python space because the {repr(op_str)} \"\n",
      "C:\\Users\\user\\anaconda3\\envs\\aging\\lib\\site-packages\\pandas\\core\\computation\\expressions.py:205: UserWarning: evaluating in Python space because the '*' operator is not supported by numexpr for the bool dtype, use '&' instead\n",
      "  f\"evaluating in Python space because the {repr(op_str)} \"\n",
      "C:\\Users\\user\\anaconda3\\envs\\aging\\lib\\site-packages\\xgboost\\sklearn.py:1146: UserWarning: The use of label encoder in XGBClassifier is deprecated and will be removed in a future release. To remove this warning, do the following: 1) Pass option use_label_encoder=False when constructing XGBClassifier object; and 2) Encode your labels (y) as integers starting with 0, i.e. 0, 1, 2, ..., [num_class - 1].\n",
      "  warnings.warn(label_encoder_deprecation_msg, UserWarning)\n"
     ]
    },
    {
     "name": "stdout",
     "output_type": "stream",
     "text": [
      "Precision: 0.9753521126760564 \n",
      "Recall: 0.9719298245614035 \n",
      "Aging Rate: 0.5163636363636364\n",
      "[16:45:52] WARNING: C:/Users/Administrator/workspace/xgboost-win64_release_1.4.0/src/learner.cc:1095: Starting in XGBoost 1.3.0, the default evaluation metric used with the objective 'binary:logistic' was changed from 'error' to 'logloss'. Explicitly set eval_metric if you'd like to restore the old behavior.\n",
      "Precision: 0.9589552238805971 \n",
      "Recall: 0.9661654135338346 \n",
      "Aging Rate: 0.48727272727272725\n",
      "[16:45:52] WARNING: C:/Users/Administrator/workspace/xgboost-win64_release_1.4.0/src/learner.cc:1095: Starting in XGBoost 1.3.0, the default evaluation metric used with the objective 'binary:logistic' was changed from 'error' to 'logloss'. Explicitly set eval_metric if you'd like to restore the old behavior.\n"
     ]
    },
    {
     "name": "stderr",
     "output_type": "stream",
     "text": [
      "C:\\Users\\user\\anaconda3\\envs\\aging\\lib\\site-packages\\pandas\\core\\computation\\expressions.py:205: UserWarning: evaluating in Python space because the '*' operator is not supported by numexpr for the bool dtype, use '&' instead\n",
      "  f\"evaluating in Python space because the {repr(op_str)} \"\n",
      "C:\\Users\\user\\anaconda3\\envs\\aging\\lib\\site-packages\\pandas\\core\\computation\\expressions.py:205: UserWarning: evaluating in Python space because the '*' operator is not supported by numexpr for the bool dtype, use '&' instead\n",
      "  f\"evaluating in Python space because the {repr(op_str)} \"\n",
      "C:\\Users\\user\\anaconda3\\envs\\aging\\lib\\site-packages\\xgboost\\sklearn.py:1146: UserWarning: The use of label encoder in XGBClassifier is deprecated and will be removed in a future release. To remove this warning, do the following: 1) Pass option use_label_encoder=False when constructing XGBClassifier object; and 2) Encode your labels (y) as integers starting with 0, i.e. 0, 1, 2, ..., [num_class - 1].\n",
      "  warnings.warn(label_encoder_deprecation_msg, UserWarning)\n",
      "C:\\Users\\user\\anaconda3\\envs\\aging\\lib\\site-packages\\pandas\\core\\computation\\expressions.py:205: UserWarning: evaluating in Python space because the '*' operator is not supported by numexpr for the bool dtype, use '&' instead\n",
      "  f\"evaluating in Python space because the {repr(op_str)} \"\n",
      "C:\\Users\\user\\anaconda3\\envs\\aging\\lib\\site-packages\\pandas\\core\\computation\\expressions.py:205: UserWarning: evaluating in Python space because the '*' operator is not supported by numexpr for the bool dtype, use '&' instead\n",
      "  f\"evaluating in Python space because the {repr(op_str)} \"\n"
     ]
    },
    {
     "name": "stdout",
     "output_type": "stream",
     "text": [
      "Precision: 0.9597069597069597 \n",
      "Recall: 0.9632352941176471 \n",
      "Aging Rate: 0.49636363636363634\n",
      "\u001b[32m[I 2021-10-09 16:45:52,905]\u001b[0m Trial 0 finished with value: 0.917110177404295 and parameters: {'n_estimators': 100, 'subsample': 0.9, 'min_child_weight': 15, 'max_depth': 13, 'learning_rate': 0.025, 'reg_alpha': 0.0002646196086859444, 'reg_lambda': 0.2715913010161208}. Best is trial 0 with value: 0.917110177404295.\u001b[0m\n"
     ]
    },
    {
     "name": "stderr",
     "output_type": "stream",
     "text": [
      "\u001b[32m[I 2021-10-09 16:45:52,973]\u001b[0m A new study created in memory with name: no-name-debe24d5-76e8-44cb-a234-e330f497c475\u001b[0m\n"
     ]
    },
    {
     "name": "stdout",
     "output_type": "stream",
     "text": [
      "Sampler is TPESampler\n",
      "Dataset9 :\n"
     ]
    },
    {
     "name": "stderr",
     "output_type": "stream",
     "text": [
      "C:\\Users\\user\\anaconda3\\envs\\aging\\lib\\site-packages\\optuna\\progress_bar.py:47: ExperimentalWarning: Progress bar is experimental (supported from v1.2.0). The interface can change in the future.\n",
      "  self._init_valid()\n"
     ]
    },
    {
     "data": {
      "application/vnd.jupyter.widget-view+json": {
       "model_id": "35b4c7bb98104300a7298beda4c10890",
       "version_major": 2,
       "version_minor": 0
      },
      "text/plain": [
       "  0%|          | 0/1 [00:00<?, ?it/s]"
      ]
     },
     "metadata": {},
     "output_type": "display_data"
    },
    {
     "name": "stdout",
     "output_type": "stream",
     "text": [
      "[16:45:53] WARNING: C:/Users/Administrator/workspace/xgboost-win64_release_1.4.0/src/learner.cc:1095: Starting in XGBoost 1.3.0, the default evaluation metric used with the objective 'binary:logistic' was changed from 'error' to 'logloss'. Explicitly set eval_metric if you'd like to restore the old behavior.\n"
     ]
    },
    {
     "name": "stderr",
     "output_type": "stream",
     "text": [
      "C:\\Users\\user\\anaconda3\\envs\\aging\\lib\\site-packages\\xgboost\\sklearn.py:1146: UserWarning: The use of label encoder in XGBClassifier is deprecated and will be removed in a future release. To remove this warning, do the following: 1) Pass option use_label_encoder=False when constructing XGBClassifier object; and 2) Encode your labels (y) as integers starting with 0, i.e. 0, 1, 2, ..., [num_class - 1].\n",
      "  warnings.warn(label_encoder_deprecation_msg, UserWarning)\n",
      "C:\\Users\\user\\anaconda3\\envs\\aging\\lib\\site-packages\\pandas\\core\\computation\\expressions.py:205: UserWarning: evaluating in Python space because the '*' operator is not supported by numexpr for the bool dtype, use '&' instead\n",
      "  f\"evaluating in Python space because the {repr(op_str)} \"\n",
      "C:\\Users\\user\\anaconda3\\envs\\aging\\lib\\site-packages\\pandas\\core\\computation\\expressions.py:205: UserWarning: evaluating in Python space because the '*' operator is not supported by numexpr for the bool dtype, use '&' instead\n",
      "  f\"evaluating in Python space because the {repr(op_str)} \"\n",
      "C:\\Users\\user\\anaconda3\\envs\\aging\\lib\\site-packages\\xgboost\\sklearn.py:1146: UserWarning: The use of label encoder in XGBClassifier is deprecated and will be removed in a future release. To remove this warning, do the following: 1) Pass option use_label_encoder=False when constructing XGBClassifier object; and 2) Encode your labels (y) as integers starting with 0, i.e. 0, 1, 2, ..., [num_class - 1].\n",
      "  warnings.warn(label_encoder_deprecation_msg, UserWarning)\n"
     ]
    },
    {
     "name": "stdout",
     "output_type": "stream",
     "text": [
      "Precision: 1.0 \n",
      "Recall: 0.04 \n",
      "Aging Rate: 0.0033003300330033004\n",
      "[16:45:53] WARNING: C:/Users/Administrator/workspace/xgboost-win64_release_1.4.0/src/learner.cc:1095: Starting in XGBoost 1.3.0, the default evaluation metric used with the objective 'binary:logistic' was changed from 'error' to 'logloss'. Explicitly set eval_metric if you'd like to restore the old behavior.\n"
     ]
    },
    {
     "name": "stderr",
     "output_type": "stream",
     "text": [
      "C:\\Users\\user\\anaconda3\\envs\\aging\\lib\\site-packages\\pandas\\core\\computation\\expressions.py:205: UserWarning: evaluating in Python space because the '*' operator is not supported by numexpr for the bool dtype, use '&' instead\n",
      "  f\"evaluating in Python space because the {repr(op_str)} \"\n",
      "C:\\Users\\user\\anaconda3\\envs\\aging\\lib\\site-packages\\pandas\\core\\computation\\expressions.py:205: UserWarning: evaluating in Python space because the '*' operator is not supported by numexpr for the bool dtype, use '&' instead\n",
      "  f\"evaluating in Python space because the {repr(op_str)} \"\n",
      "C:\\Users\\user\\Desktop\\Darui_R08621110\\Master_Thesis\\AUO aging test\\Full_Version_Code\\library\\AdaBoost.py:102: RuntimeWarning: invalid value encountered in double_scalars\n",
      "  eff = recall / ar\n",
      "C:\\Users\\user\\Desktop\\Darui_R08621110\\Master_Thesis\\AUO aging test\\Full_Version_Code\\library\\Aging_Score_Contour.py:43: RuntimeWarning: invalid value encountered in double_scalars\n",
      "  eff = r/ag\n",
      "C:\\Users\\user\\anaconda3\\envs\\aging\\lib\\site-packages\\xgboost\\sklearn.py:1146: UserWarning: The use of label encoder in XGBClassifier is deprecated and will be removed in a future release. To remove this warning, do the following: 1) Pass option use_label_encoder=False when constructing XGBClassifier object; and 2) Encode your labels (y) as integers starting with 0, i.e. 0, 1, 2, ..., [num_class - 1].\n",
      "  warnings.warn(label_encoder_deprecation_msg, UserWarning)\n",
      "C:\\Users\\user\\anaconda3\\envs\\aging\\lib\\site-packages\\pandas\\core\\computation\\expressions.py:205: UserWarning: evaluating in Python space because the '*' operator is not supported by numexpr for the bool dtype, use '&' instead\n",
      "  f\"evaluating in Python space because the {repr(op_str)} \"\n",
      "C:\\Users\\user\\anaconda3\\envs\\aging\\lib\\site-packages\\pandas\\core\\computation\\expressions.py:205: UserWarning: evaluating in Python space because the '*' operator is not supported by numexpr for the bool dtype, use '&' instead\n",
      "  f\"evaluating in Python space because the {repr(op_str)} \"\n",
      "C:\\Users\\user\\Desktop\\Darui_R08621110\\Master_Thesis\\AUO aging test\\Full_Version_Code\\library\\AdaBoost.py:102: RuntimeWarning: invalid value encountered in double_scalars\n",
      "  eff = recall / ar\n",
      "C:\\Users\\user\\Desktop\\Darui_R08621110\\Master_Thesis\\AUO aging test\\Full_Version_Code\\library\\Aging_Score_Contour.py:43: RuntimeWarning: invalid value encountered in double_scalars\n",
      "  eff = r/ag\n"
     ]
    },
    {
     "name": "stdout",
     "output_type": "stream",
     "text": [
      "Precision: 0 \n",
      "Recall: 0.0 \n",
      "Aging Rate: 0.0\n",
      "[16:45:53] WARNING: C:/Users/Administrator/workspace/xgboost-win64_release_1.4.0/src/learner.cc:1095: Starting in XGBoost 1.3.0, the default evaluation metric used with the objective 'binary:logistic' was changed from 'error' to 'logloss'. Explicitly set eval_metric if you'd like to restore the old behavior.\n",
      "Precision: 0 \n",
      "Recall: 0.0 \n",
      "Aging Rate: 0.0\n",
      "\u001b[32m[I 2021-10-09 16:45:53,521]\u001b[0m Trial 0 finished with value: 0.013223322332233223 and parameters: {'n_estimators': 300, 'subsample': 0.5, 'min_child_weight': 15, 'max_depth': 9, 'learning_rate': 0.125, 'reg_alpha': 0.012354027452501564, 'reg_lambda': 0.025302185463129744}. Best is trial 0 with value: 0.013223322332233223.\u001b[0m\n",
      "Sampler is TPESampler\n"
     ]
    },
    {
     "data": {
      "application/vnd.jupyter.widget-view+json": {
       "model_id": "b8c97448913348258257372c2725cc93",
       "version_major": 2,
       "version_minor": 0
      },
      "text/plain": [
       "  0%|          | 0/10 [00:00<?, ?it/s]"
      ]
     },
     "metadata": {},
     "output_type": "display_data"
    },
    {
     "name": "stderr",
     "output_type": "stream",
     "text": [
      "\u001b[32m[I 2021-10-09 16:45:53,603]\u001b[0m A new study created in memory with name: no-name-9b3461b7-e6ac-4600-a5d5-64e23b35529e\u001b[0m\n"
     ]
    },
    {
     "name": "stdout",
     "output_type": "stream",
     "text": [
      "Dataset0 :\n"
     ]
    },
    {
     "name": "stderr",
     "output_type": "stream",
     "text": [
      "C:\\Users\\user\\anaconda3\\envs\\aging\\lib\\site-packages\\optuna\\progress_bar.py:47: ExperimentalWarning: Progress bar is experimental (supported from v1.2.0). The interface can change in the future.\n",
      "  self._init_valid()\n"
     ]
    },
    {
     "data": {
      "application/vnd.jupyter.widget-view+json": {
       "model_id": "02d4bfe7464c4cfd8bd31047ec94bc3b",
       "version_major": 2,
       "version_minor": 0
      },
      "text/plain": [
       "  0%|          | 0/1 [00:00<?, ?it/s]"
      ]
     },
     "metadata": {},
     "output_type": "display_data"
    },
    {
     "name": "stderr",
     "output_type": "stream",
     "text": [
      "C:\\Users\\user\\anaconda3\\envs\\aging\\lib\\site-packages\\pandas\\core\\computation\\expressions.py:205: UserWarning: evaluating in Python space because the '*' operator is not supported by numexpr for the bool dtype, use '&' instead\n",
      "  f\"evaluating in Python space because the {repr(op_str)} \"\n",
      "C:\\Users\\user\\anaconda3\\envs\\aging\\lib\\site-packages\\pandas\\core\\computation\\expressions.py:205: UserWarning: evaluating in Python space because the '*' operator is not supported by numexpr for the bool dtype, use '&' instead\n",
      "  f\"evaluating in Python space because the {repr(op_str)} \"\n"
     ]
    },
    {
     "name": "stdout",
     "output_type": "stream",
     "text": [
      "Precision: 1.0 \n",
      "Recall: 0.6410256410256411 \n",
      "Aging Rate: 0.0016499472016895458\n"
     ]
    },
    {
     "name": "stderr",
     "output_type": "stream",
     "text": [
      "C:\\Users\\user\\anaconda3\\envs\\aging\\lib\\site-packages\\pandas\\core\\computation\\expressions.py:205: UserWarning: evaluating in Python space because the '*' operator is not supported by numexpr for the bool dtype, use '&' instead\n",
      "  f\"evaluating in Python space because the {repr(op_str)} \"\n",
      "C:\\Users\\user\\anaconda3\\envs\\aging\\lib\\site-packages\\pandas\\core\\computation\\expressions.py:205: UserWarning: evaluating in Python space because the '*' operator is not supported by numexpr for the bool dtype, use '&' instead\n",
      "  f\"evaluating in Python space because the {repr(op_str)} \"\n"
     ]
    },
    {
     "name": "stdout",
     "output_type": "stream",
     "text": [
      "Precision: 0.84 \n",
      "Recall: 0.7777777777777778 \n",
      "Aging Rate: 0.0016499472016895458\n"
     ]
    },
    {
     "name": "stderr",
     "output_type": "stream",
     "text": [
      "C:\\Users\\user\\anaconda3\\envs\\aging\\lib\\site-packages\\pandas\\core\\computation\\expressions.py:205: UserWarning: evaluating in Python space because the '*' operator is not supported by numexpr for the bool dtype, use '&' instead\n",
      "  f\"evaluating in Python space because the {repr(op_str)} \"\n",
      "C:\\Users\\user\\anaconda3\\envs\\aging\\lib\\site-packages\\pandas\\core\\computation\\expressions.py:205: UserWarning: evaluating in Python space because the '*' operator is not supported by numexpr for the bool dtype, use '&' instead\n",
      "  f\"evaluating in Python space because the {repr(op_str)} \"\n",
      "\u001b[32m[I 2021-10-09 16:45:55,366]\u001b[0m A new study created in memory with name: no-name-7258273e-36fa-4de2-886a-d6b094ae1149\u001b[0m\n"
     ]
    },
    {
     "name": "stdout",
     "output_type": "stream",
     "text": [
      "Precision: 0.9130434782608695 \n",
      "Recall: 0.8076923076923077 \n",
      "Aging Rate: 0.0015179514255543823\n",
      "\u001b[32m[I 2021-10-09 16:45:55,285]\u001b[0m Trial 0 finished with value: 0.7420046473042777 and parameters: {'objective': 'binary', 'boosting_type': 'goss', 'n_estimators': 250, 'subsample': 0.5, 'num_leaves': 40, 'min_child_samples': 3, 'max_depth': 15, 'learning_rate': 0.125, 'reg_alpha': 0.00022093444522201474, 'reg_lambda': 0.025727475505823036}. Best is trial 0 with value: 0.7420046473042777.\u001b[0m\n",
      "Sampler is TPESampler\n",
      "Dataset1 :\n"
     ]
    },
    {
     "name": "stderr",
     "output_type": "stream",
     "text": [
      "C:\\Users\\user\\anaconda3\\envs\\aging\\lib\\site-packages\\optuna\\progress_bar.py:47: ExperimentalWarning: Progress bar is experimental (supported from v1.2.0). The interface can change in the future.\n",
      "  self._init_valid()\n"
     ]
    },
    {
     "data": {
      "application/vnd.jupyter.widget-view+json": {
       "model_id": "de54ce1d9e6f4b1387b97dbb3e5bd417",
       "version_major": 2,
       "version_minor": 0
      },
      "text/plain": [
       "  0%|          | 0/1 [00:00<?, ?it/s]"
      ]
     },
     "metadata": {},
     "output_type": "display_data"
    },
    {
     "name": "stderr",
     "output_type": "stream",
     "text": [
      "C:\\Users\\user\\anaconda3\\envs\\aging\\lib\\site-packages\\pandas\\core\\computation\\expressions.py:205: UserWarning: evaluating in Python space because the '*' operator is not supported by numexpr for the bool dtype, use '&' instead\n",
      "  f\"evaluating in Python space because the {repr(op_str)} \"\n",
      "C:\\Users\\user\\anaconda3\\envs\\aging\\lib\\site-packages\\pandas\\core\\computation\\expressions.py:205: UserWarning: evaluating in Python space because the '*' operator is not supported by numexpr for the bool dtype, use '&' instead\n",
      "  f\"evaluating in Python space because the {repr(op_str)} \"\n",
      "C:\\Users\\user\\anaconda3\\envs\\aging\\lib\\site-packages\\pandas\\core\\computation\\expressions.py:205: UserWarning: evaluating in Python space because the '*' operator is not supported by numexpr for the bool dtype, use '&' instead\n",
      "  f\"evaluating in Python space because the {repr(op_str)} \"\n",
      "C:\\Users\\user\\anaconda3\\envs\\aging\\lib\\site-packages\\pandas\\core\\computation\\expressions.py:205: UserWarning: evaluating in Python space because the '*' operator is not supported by numexpr for the bool dtype, use '&' instead\n",
      "  f\"evaluating in Python space because the {repr(op_str)} \"\n",
      "C:\\Users\\user\\anaconda3\\envs\\aging\\lib\\site-packages\\pandas\\core\\computation\\expressions.py:205: UserWarning: evaluating in Python space because the '*' operator is not supported by numexpr for the bool dtype, use '&' instead\n",
      "  f\"evaluating in Python space because the {repr(op_str)} \"\n",
      "C:\\Users\\user\\anaconda3\\envs\\aging\\lib\\site-packages\\pandas\\core\\computation\\expressions.py:205: UserWarning: evaluating in Python space because the '*' operator is not supported by numexpr for the bool dtype, use '&' instead\n",
      "  f\"evaluating in Python space because the {repr(op_str)} \"\n"
     ]
    },
    {
     "name": "stdout",
     "output_type": "stream",
     "text": [
      "Precision: 0.9911504424778761 \n",
      "Recall: 0.9911504424778761 \n",
      "Aging Rate: 0.5022222222222222\n",
      "Precision: 1.0 \n",
      "Recall: 1.0 \n",
      "Aging Rate: 0.49333333333333335\n",
      "Precision: 0.9912280701754386 \n",
      "Recall: 0.9868995633187773 \n",
      "Aging Rate: 0.5066666666666667\n",
      "\u001b[32m[I 2021-10-09 16:45:55,624]\u001b[0m Trial 0 finished with value: 0.942609261191477 and parameters: {'objective': 'binary', 'boosting_type': 'goss', 'n_estimators': 300, 'subsample': 0.9, 'num_leaves': 15, 'min_child_samples': 6, 'max_depth': 9, 'learning_rate': 0.17500000000000002, 'reg_alpha': 0.14583201050816752, 'reg_lambda': 0.003926226345592814}. Best is trial 0 with value: 0.942609261191477.\u001b[0m\n"
     ]
    },
    {
     "name": "stderr",
     "output_type": "stream",
     "text": [
      "\u001b[32m[I 2021-10-09 16:45:55,675]\u001b[0m A new study created in memory with name: no-name-e57db5f5-bdab-4e9a-8c79-6c10f2fccc49\u001b[0m\n"
     ]
    },
    {
     "name": "stdout",
     "output_type": "stream",
     "text": [
      "Sampler is TPESampler\n",
      "Dataset2 :\n"
     ]
    },
    {
     "name": "stderr",
     "output_type": "stream",
     "text": [
      "C:\\Users\\user\\anaconda3\\envs\\aging\\lib\\site-packages\\optuna\\progress_bar.py:47: ExperimentalWarning: Progress bar is experimental (supported from v1.2.0). The interface can change in the future.\n",
      "  self._init_valid()\n"
     ]
    },
    {
     "data": {
      "application/vnd.jupyter.widget-view+json": {
       "model_id": "a65b4664104148698be84a3304ca7951",
       "version_major": 2,
       "version_minor": 0
      },
      "text/plain": [
       "  0%|          | 0/1 [00:00<?, ?it/s]"
      ]
     },
     "metadata": {},
     "output_type": "display_data"
    },
    {
     "name": "stderr",
     "output_type": "stream",
     "text": [
      "C:\\Users\\user\\anaconda3\\envs\\aging\\lib\\site-packages\\pandas\\core\\computation\\expressions.py:205: UserWarning: evaluating in Python space because the '*' operator is not supported by numexpr for the bool dtype, use '&' instead\n",
      "  f\"evaluating in Python space because the {repr(op_str)} \"\n",
      "C:\\Users\\user\\anaconda3\\envs\\aging\\lib\\site-packages\\pandas\\core\\computation\\expressions.py:205: UserWarning: evaluating in Python space because the '*' operator is not supported by numexpr for the bool dtype, use '&' instead\n",
      "  f\"evaluating in Python space because the {repr(op_str)} \"\n",
      "C:\\Users\\user\\anaconda3\\envs\\aging\\lib\\site-packages\\pandas\\core\\computation\\expressions.py:205: UserWarning: evaluating in Python space because the '*' operator is not supported by numexpr for the bool dtype, use '&' instead\n",
      "  f\"evaluating in Python space because the {repr(op_str)} \"\n",
      "C:\\Users\\user\\anaconda3\\envs\\aging\\lib\\site-packages\\pandas\\core\\computation\\expressions.py:205: UserWarning: evaluating in Python space because the '*' operator is not supported by numexpr for the bool dtype, use '&' instead\n",
      "  f\"evaluating in Python space because the {repr(op_str)} \"\n",
      "C:\\Users\\user\\anaconda3\\envs\\aging\\lib\\site-packages\\pandas\\core\\computation\\expressions.py:205: UserWarning: evaluating in Python space because the '*' operator is not supported by numexpr for the bool dtype, use '&' instead\n",
      "  f\"evaluating in Python space because the {repr(op_str)} \"\n",
      "C:\\Users\\user\\anaconda3\\envs\\aging\\lib\\site-packages\\pandas\\core\\computation\\expressions.py:205: UserWarning: evaluating in Python space because the '*' operator is not supported by numexpr for the bool dtype, use '&' instead\n",
      "  f\"evaluating in Python space because the {repr(op_str)} \"\n",
      "\u001b[32m[I 2021-10-09 16:45:55,948]\u001b[0m A new study created in memory with name: no-name-47d08173-ba25-40bb-92da-2cf1930e7909\u001b[0m\n"
     ]
    },
    {
     "name": "stdout",
     "output_type": "stream",
     "text": [
      "Precision: 0.9972826086956522 \n",
      "Recall: 0.9865591397849462 \n",
      "Aging Rate: 0.4993215739484396\n",
      "Precision: 0.9972527472527473 \n",
      "Recall: 0.9945205479452055 \n",
      "Aging Rate: 0.49389416553595655\n",
      "Precision: 0.9837837837837838 \n",
      "Recall: 0.9837837837837838 \n",
      "Aging Rate: 0.5020352781546812\n",
      "\u001b[32m[I 2021-10-09 16:45:55,880]\u001b[0m Trial 0 finished with value: 0.9384461232500092 and parameters: {'objective': 'cross_entropy', 'boosting_type': 'goss', 'n_estimators': 100, 'subsample': 0.5, 'num_leaves': 20, 'min_child_samples': 15, 'max_depth': 9, 'learning_rate': 0.07500000000000001, 'reg_alpha': 0.0016240449306441414, 'reg_lambda': 0.009615972110798345}. Best is trial 0 with value: 0.9384461232500092.\u001b[0m\n",
      "Sampler is TPESampler\n",
      "Dataset3 :\n"
     ]
    },
    {
     "name": "stderr",
     "output_type": "stream",
     "text": [
      "C:\\Users\\user\\anaconda3\\envs\\aging\\lib\\site-packages\\optuna\\progress_bar.py:47: ExperimentalWarning: Progress bar is experimental (supported from v1.2.0). The interface can change in the future.\n",
      "  self._init_valid()\n"
     ]
    },
    {
     "data": {
      "application/vnd.jupyter.widget-view+json": {
       "model_id": "c8a929a243a94f69b872d9154844e7f4",
       "version_major": 2,
       "version_minor": 0
      },
      "text/plain": [
       "  0%|          | 0/1 [00:00<?, ?it/s]"
      ]
     },
     "metadata": {},
     "output_type": "display_data"
    },
    {
     "name": "stderr",
     "output_type": "stream",
     "text": [
      "C:\\Users\\user\\anaconda3\\envs\\aging\\lib\\site-packages\\pandas\\core\\computation\\expressions.py:205: UserWarning: evaluating in Python space because the '*' operator is not supported by numexpr for the bool dtype, use '&' instead\n",
      "  f\"evaluating in Python space because the {repr(op_str)} \"\n",
      "C:\\Users\\user\\anaconda3\\envs\\aging\\lib\\site-packages\\pandas\\core\\computation\\expressions.py:205: UserWarning: evaluating in Python space because the '*' operator is not supported by numexpr for the bool dtype, use '&' instead\n",
      "  f\"evaluating in Python space because the {repr(op_str)} \"\n"
     ]
    },
    {
     "name": "stdout",
     "output_type": "stream",
     "text": [
      "Precision: 0.9921875 \n",
      "Recall: 0.9731800766283525 \n",
      "Aging Rate: 0.5039370078740157\n",
      "Precision: 0.9961685823754789 \n",
      "Recall: 0.9737827715355806 \n",
      "Aging Rate: 0.5137795275590551\n",
      "Precision:"
     ]
    },
    {
     "name": "stderr",
     "output_type": "stream",
     "text": [
      "C:\\Users\\user\\anaconda3\\envs\\aging\\lib\\site-packages\\pandas\\core\\computation\\expressions.py:205: UserWarning: evaluating in Python space because the '*' operator is not supported by numexpr for the bool dtype, use '&' instead\n",
      "  f\"evaluating in Python space because the {repr(op_str)} \"\n",
      "C:\\Users\\user\\anaconda3\\envs\\aging\\lib\\site-packages\\pandas\\core\\computation\\expressions.py:205: UserWarning: evaluating in Python space because the '*' operator is not supported by numexpr for the bool dtype, use '&' instead\n",
      "  f\"evaluating in Python space because the {repr(op_str)} \"\n",
      "C:\\Users\\user\\anaconda3\\envs\\aging\\lib\\site-packages\\pandas\\core\\computation\\expressions.py:205: UserWarning: evaluating in Python space because the '*' operator is not supported by numexpr for the bool dtype, use '&' instead\n",
      "  f\"evaluating in Python space because the {repr(op_str)} \"\n",
      "C:\\Users\\user\\anaconda3\\envs\\aging\\lib\\site-packages\\pandas\\core\\computation\\expressions.py:205: UserWarning: evaluating in Python space because the '*' operator is not supported by numexpr for the bool dtype, use '&' instead\n",
      "  f\"evaluating in Python space because the {repr(op_str)} \"\n",
      "\u001b[32m[I 2021-10-09 16:45:56,345]\u001b[0m A new study created in memory with name: no-name-7e2cc571-99bd-40e9-b726-c71da226b90e\u001b[0m\n"
     ]
    },
    {
     "name": "stdout",
     "output_type": "stream",
     "text": [
      " 1.0 \n",
      "Recall: 0.9763779527559056 \n",
      "Aging Rate: 0.4881889763779528\n",
      "\u001b[32m[I 2021-10-09 16:45:56,269]\u001b[0m Trial 0 finished with value: 0.9242500832462456 and parameters: {'objective': 'cross_entropy', 'boosting_type': 'goss', 'n_estimators': 250, 'subsample': 0.7, 'num_leaves': 30, 'min_child_samples': 21, 'max_depth': 7, 'learning_rate': 0.125, 'reg_alpha': 0.019494506738886835, 'reg_lambda': 0.0022229457195738376}. Best is trial 0 with value: 0.9242500832462456.\u001b[0m\n",
      "Sampler is TPESampler\n",
      "Dataset4 :\n"
     ]
    },
    {
     "name": "stderr",
     "output_type": "stream",
     "text": [
      "C:\\Users\\user\\anaconda3\\envs\\aging\\lib\\site-packages\\optuna\\progress_bar.py:47: ExperimentalWarning: Progress bar is experimental (supported from v1.2.0). The interface can change in the future.\n",
      "  self._init_valid()\n"
     ]
    },
    {
     "data": {
      "application/vnd.jupyter.widget-view+json": {
       "model_id": "48189f6ad27c4e9fa9c7090f81db0a59",
       "version_major": 2,
       "version_minor": 0
      },
      "text/plain": [
       "  0%|          | 0/1 [00:00<?, ?it/s]"
      ]
     },
     "metadata": {},
     "output_type": "display_data"
    },
    {
     "name": "stdout",
     "output_type": "stream",
     "text": [
      "Precision: 0.9795918367346939 \n",
      "Recall: 0.9917355371900827 \n",
      "Aging Rate: 0.539647577092511\n"
     ]
    },
    {
     "name": "stderr",
     "output_type": "stream",
     "text": [
      "C:\\Users\\user\\anaconda3\\envs\\aging\\lib\\site-packages\\pandas\\core\\computation\\expressions.py:205: UserWarning: evaluating in Python space because the '*' operator is not supported by numexpr for the bool dtype, use '&' instead\n",
      "  f\"evaluating in Python space because the {repr(op_str)} \"\n",
      "C:\\Users\\user\\anaconda3\\envs\\aging\\lib\\site-packages\\pandas\\core\\computation\\expressions.py:205: UserWarning: evaluating in Python space because the '*' operator is not supported by numexpr for the bool dtype, use '&' instead\n",
      "  f\"evaluating in Python space because the {repr(op_str)} \"\n",
      "C:\\Users\\user\\anaconda3\\envs\\aging\\lib\\site-packages\\pandas\\core\\computation\\expressions.py:205: UserWarning: evaluating in Python space because the '*' operator is not supported by numexpr for the bool dtype, use '&' instead\n",
      "  f\"evaluating in Python space because the {repr(op_str)} \"\n",
      "C:\\Users\\user\\anaconda3\\envs\\aging\\lib\\site-packages\\pandas\\core\\computation\\expressions.py:205: UserWarning: evaluating in Python space because the '*' operator is not supported by numexpr for the bool dtype, use '&' instead\n",
      "  f\"evaluating in Python space because the {repr(op_str)} \"\n",
      "C:\\Users\\user\\anaconda3\\envs\\aging\\lib\\site-packages\\pandas\\core\\computation\\expressions.py:205: UserWarning: evaluating in Python space because the '*' operator is not supported by numexpr for the bool dtype, use '&' instead\n",
      "  f\"evaluating in Python space because the {repr(op_str)} \"\n",
      "C:\\Users\\user\\anaconda3\\envs\\aging\\lib\\site-packages\\pandas\\core\\computation\\expressions.py:205: UserWarning: evaluating in Python space because the '*' operator is not supported by numexpr for the bool dtype, use '&' instead\n",
      "  f\"evaluating in Python space because the {repr(op_str)} \"\n",
      "\u001b[32m[I 2021-10-09 16:45:56,615]\u001b[0m A new study created in memory with name: no-name-91c40e5d-d272-448a-9ec5-d64caac53c2d\u001b[0m\n"
     ]
    },
    {
     "name": "stdout",
     "output_type": "stream",
     "text": [
      "Precision: 0.9861111111111112 \n",
      "Recall: 0.9906976744186047 \n",
      "Aging Rate: 0.47577092511013214\n",
      "Precision: 0.9911894273127754 \n",
      "Recall: 0.9911894273127754 \n",
      "Aging Rate: 0.5\n",
      "\u001b[32m[I 2021-10-09 16:45:56,547]\u001b[0m Trial 0 finished with value: 0.9406935962337327 and parameters: {'objective': 'binary', 'boosting_type': 'goss', 'n_estimators': 200, 'subsample': 0.5, 'num_leaves': 35, 'min_child_samples': 21, 'max_depth': 13, 'learning_rate': 0.37500000000000006, 'reg_alpha': 0.06766320747554704, 'reg_lambda': 3.7801535506269075}. Best is trial 0 with value: 0.9406935962337327.\u001b[0m\n",
      "Sampler is TPESampler\n",
      "Dataset5 :\n"
     ]
    },
    {
     "name": "stderr",
     "output_type": "stream",
     "text": [
      "C:\\Users\\user\\anaconda3\\envs\\aging\\lib\\site-packages\\optuna\\progress_bar.py:47: ExperimentalWarning: Progress bar is experimental (supported from v1.2.0). The interface can change in the future.\n",
      "  self._init_valid()\n"
     ]
    },
    {
     "data": {
      "application/vnd.jupyter.widget-view+json": {
       "model_id": "251fa8d0d8f3427b9be408def10f2c85",
       "version_major": 2,
       "version_minor": 0
      },
      "text/plain": [
       "  0%|          | 0/1 [00:00<?, ?it/s]"
      ]
     },
     "metadata": {},
     "output_type": "display_data"
    },
    {
     "name": "stderr",
     "output_type": "stream",
     "text": [
      "C:\\Users\\user\\anaconda3\\envs\\aging\\lib\\site-packages\\pandas\\core\\computation\\expressions.py:205: UserWarning: evaluating in Python space because the '*' operator is not supported by numexpr for the bool dtype, use '&' instead\n",
      "  f\"evaluating in Python space because the {repr(op_str)} \"\n",
      "C:\\Users\\user\\anaconda3\\envs\\aging\\lib\\site-packages\\pandas\\core\\computation\\expressions.py:205: UserWarning: evaluating in Python space because the '*' operator is not supported by numexpr for the bool dtype, use '&' instead\n",
      "  f\"evaluating in Python space because the {repr(op_str)} \"\n",
      "C:\\Users\\user\\anaconda3\\envs\\aging\\lib\\site-packages\\pandas\\core\\computation\\expressions.py:205: UserWarning: evaluating in Python space because the '*' operator is not supported by numexpr for the bool dtype, use '&' instead\n",
      "  f\"evaluating in Python space because the {repr(op_str)} \"\n",
      "C:\\Users\\user\\anaconda3\\envs\\aging\\lib\\site-packages\\pandas\\core\\computation\\expressions.py:205: UserWarning: evaluating in Python space because the '*' operator is not supported by numexpr for the bool dtype, use '&' instead\n",
      "  f\"evaluating in Python space because the {repr(op_str)} \"\n",
      "C:\\Users\\user\\anaconda3\\envs\\aging\\lib\\site-packages\\pandas\\core\\computation\\expressions.py:205: UserWarning: evaluating in Python space because the '*' operator is not supported by numexpr for the bool dtype, use '&' instead\n",
      "  f\"evaluating in Python space because the {repr(op_str)} \"\n",
      "C:\\Users\\user\\anaconda3\\envs\\aging\\lib\\site-packages\\pandas\\core\\computation\\expressions.py:205: UserWarning: evaluating in Python space because the '*' operator is not supported by numexpr for the bool dtype, use '&' instead\n",
      "  f\"evaluating in Python space because the {repr(op_str)} \"\n",
      "\u001b[32m[I 2021-10-09 16:45:56,816]\u001b[0m A new study created in memory with name: no-name-2aaa375f-a82e-47c0-a117-7032377037d6\u001b[0m\n"
     ]
    },
    {
     "name": "stdout",
     "output_type": "stream",
     "text": [
      "Precision: 0.9888888888888889 \n",
      "Recall: 0.9888888888888889 \n",
      "Aging Rate: 0.4900181488203267\n",
      "Precision: 0.9928825622775801 \n",
      "Recall: 0.9893617021276596 \n",
      "Aging Rate: 0.5099818511796733\n",
      "Precision: 1.0 \n",
      "Recall: 0.9963235294117647 \n",
      "Aging Rate: 0.49183303085299457\n",
      "\u001b[32m[I 2021-10-09 16:45:56,750]\u001b[0m Trial 0 finished with value: 0.9417969391143379 and parameters: {'objective': 'cross_entropy', 'boosting_type': 'gbdt', 'n_estimators': 200, 'subsample': 0.5, 'num_leaves': 25, 'min_child_samples': 3, 'max_depth': 3, 'learning_rate': 0.225, 'reg_alpha': 0.00045330068968505404, 'reg_lambda': 0.002925993744220682}. Best is trial 0 with value: 0.9417969391143379.\u001b[0m\n",
      "Sampler is TPESampler\n",
      "Dataset6 :\n"
     ]
    },
    {
     "name": "stderr",
     "output_type": "stream",
     "text": [
      "C:\\Users\\user\\anaconda3\\envs\\aging\\lib\\site-packages\\optuna\\progress_bar.py:47: ExperimentalWarning: Progress bar is experimental (supported from v1.2.0). The interface can change in the future.\n",
      "  self._init_valid()\n"
     ]
    },
    {
     "data": {
      "application/vnd.jupyter.widget-view+json": {
       "model_id": "70096e21b9a445119247ea29d86be058",
       "version_major": 2,
       "version_minor": 0
      },
      "text/plain": [
       "  0%|          | 0/1 [00:00<?, ?it/s]"
      ]
     },
     "metadata": {},
     "output_type": "display_data"
    },
    {
     "name": "stderr",
     "output_type": "stream",
     "text": [
      "C:\\Users\\user\\anaconda3\\envs\\aging\\lib\\site-packages\\pandas\\core\\computation\\expressions.py:205: UserWarning: evaluating in Python space because the '*' operator is not supported by numexpr for the bool dtype, use '&' instead\n",
      "  f\"evaluating in Python space because the {repr(op_str)} \"\n",
      "C:\\Users\\user\\anaconda3\\envs\\aging\\lib\\site-packages\\pandas\\core\\computation\\expressions.py:205: UserWarning: evaluating in Python space because the '*' operator is not supported by numexpr for the bool dtype, use '&' instead\n",
      "  f\"evaluating in Python space because the {repr(op_str)} \"\n",
      "C:\\Users\\user\\anaconda3\\envs\\aging\\lib\\site-packages\\pandas\\core\\computation\\expressions.py:205: UserWarning: evaluating in Python space because the '*' operator is not supported by numexpr for the bool dtype, use '&' instead\n",
      "  f\"evaluating in Python space because the {repr(op_str)} \"\n",
      "C:\\Users\\user\\anaconda3\\envs\\aging\\lib\\site-packages\\pandas\\core\\computation\\expressions.py:205: UserWarning: evaluating in Python space because the '*' operator is not supported by numexpr for the bool dtype, use '&' instead\n",
      "  f\"evaluating in Python space because the {repr(op_str)} \"\n",
      "C:\\Users\\user\\anaconda3\\envs\\aging\\lib\\site-packages\\pandas\\core\\computation\\expressions.py:205: UserWarning: evaluating in Python space because the '*' operator is not supported by numexpr for the bool dtype, use '&' instead\n",
      "  f\"evaluating in Python space because the {repr(op_str)} \"\n",
      "C:\\Users\\user\\anaconda3\\envs\\aging\\lib\\site-packages\\pandas\\core\\computation\\expressions.py:205: UserWarning: evaluating in Python space because the '*' operator is not supported by numexpr for the bool dtype, use '&' instead\n",
      "  f\"evaluating in Python space because the {repr(op_str)} \"\n"
     ]
    },
    {
     "name": "stdout",
     "output_type": "stream",
     "text": [
      "Precision: 0.9971014492753624 \n",
      "Recall: 0.9885057471264368 \n",
      "Aging Rate: 0.5373831775700935\n",
      "Precision: 0.9973190348525469 \n",
      "Recall: 0.986737400530504 \n",
      "Aging Rate: 0.5809968847352025\n",
      "Precision: 0.9946236559139785 \n",
      "Recall: 0.9946236559139785 \n",
      "Aging Rate: 0.5794392523364486\n",
      "\u001b[32m[I 2021-10-09 16:45:57,050]\u001b[0m Trial 0 finished with value: 0.9333616240355816 and parameters: {'objective': 'binary', 'boosting_type': 'gbdt', 'n_estimators': 250, 'subsample': 0.7, 'num_leaves': 25, 'min_child_samples': 3, 'max_depth': 5, 'learning_rate': 0.32500000000000007, 'reg_alpha': 0.00040308242437113673, 'reg_lambda': 0.1719162465062211}. Best is trial 0 with value: 0.9333616240355816.\u001b[0m\n"
     ]
    },
    {
     "name": "stderr",
     "output_type": "stream",
     "text": [
      "\u001b[32m[I 2021-10-09 16:45:57,113]\u001b[0m A new study created in memory with name: no-name-450e7570-c8a2-4670-9f13-de2a0ba2fca2\u001b[0m\n"
     ]
    },
    {
     "name": "stdout",
     "output_type": "stream",
     "text": [
      "Sampler is TPESampler\n",
      "Dataset7 :\n"
     ]
    },
    {
     "name": "stderr",
     "output_type": "stream",
     "text": [
      "C:\\Users\\user\\anaconda3\\envs\\aging\\lib\\site-packages\\optuna\\progress_bar.py:47: ExperimentalWarning: Progress bar is experimental (supported from v1.2.0). The interface can change in the future.\n",
      "  self._init_valid()\n"
     ]
    },
    {
     "data": {
      "application/vnd.jupyter.widget-view+json": {
       "model_id": "158e6b74fe2e432bb78057b16ce76ad1",
       "version_major": 2,
       "version_minor": 0
      },
      "text/plain": [
       "  0%|          | 0/1 [00:00<?, ?it/s]"
      ]
     },
     "metadata": {},
     "output_type": "display_data"
    },
    {
     "name": "stderr",
     "output_type": "stream",
     "text": [
      "C:\\Users\\user\\anaconda3\\envs\\aging\\lib\\site-packages\\pandas\\core\\computation\\expressions.py:205: UserWarning: evaluating in Python space because the '*' operator is not supported by numexpr for the bool dtype, use '&' instead\n",
      "  f\"evaluating in Python space because the {repr(op_str)} \"\n",
      "C:\\Users\\user\\anaconda3\\envs\\aging\\lib\\site-packages\\pandas\\core\\computation\\expressions.py:205: UserWarning: evaluating in Python space because the '*' operator is not supported by numexpr for the bool dtype, use '&' instead\n",
      "  f\"evaluating in Python space because the {repr(op_str)} \"\n",
      "C:\\Users\\user\\anaconda3\\envs\\aging\\lib\\site-packages\\pandas\\core\\computation\\expressions.py:205: UserWarning: evaluating in Python space because the '*' operator is not supported by numexpr for the bool dtype, use '&' instead\n",
      "  f\"evaluating in Python space because the {repr(op_str)} \"\n",
      "C:\\Users\\user\\anaconda3\\envs\\aging\\lib\\site-packages\\pandas\\core\\computation\\expressions.py:205: UserWarning: evaluating in Python space because the '*' operator is not supported by numexpr for the bool dtype, use '&' instead\n",
      "  f\"evaluating in Python space because the {repr(op_str)} \"\n"
     ]
    },
    {
     "name": "stdout",
     "output_type": "stream",
     "text": [
      "Precision: 1.0 \n",
      "Recall: 0.975609756097561 \n",
      "Aging Rate: 0.509090909090909\n",
      "Precision: 0.9963235294117647 \n",
      "Recall: 0.9854545454545455 \n",
      "Aging Rate: 0.49454545454545457\n"
     ]
    },
    {
     "name": "stderr",
     "output_type": "stream",
     "text": [
      "C:\\Users\\user\\anaconda3\\envs\\aging\\lib\\site-packages\\pandas\\core\\computation\\expressions.py:205: UserWarning: evaluating in Python space because the '*' operator is not supported by numexpr for the bool dtype, use '&' instead\n",
      "  f\"evaluating in Python space because the {repr(op_str)} \"\n",
      "C:\\Users\\user\\anaconda3\\envs\\aging\\lib\\site-packages\\pandas\\core\\computation\\expressions.py:205: UserWarning: evaluating in Python space because the '*' operator is not supported by numexpr for the bool dtype, use '&' instead\n",
      "  f\"evaluating in Python space because the {repr(op_str)} \"\n"
     ]
    },
    {
     "name": "stdout",
     "output_type": "stream",
     "text": [
      "Precision: 1.0 \n",
      "Recall: 0.9803921568627451 \n",
      "Aging Rate: 0.45454545454545453\n",
      "\u001b[32m[I 2021-10-09 16:45:57,350]\u001b[0m Trial 0 finished with value: 0.9318794255322232 and parameters: {'objective': 'cross_entropy', 'boosting_type': 'goss', 'n_estimators': 150, 'subsample': 0.9, 'num_leaves': 40, 'min_child_samples': 18, 'max_depth': 7, 'learning_rate': 0.37500000000000006, 'reg_alpha': 0.02120933121944396, 'reg_lambda': 0.3023058777649816}. Best is trial 0 with value: 0.9318794255322232.\u001b[0m\n"
     ]
    },
    {
     "name": "stderr",
     "output_type": "stream",
     "text": [
      "\u001b[32m[I 2021-10-09 16:45:57,417]\u001b[0m A new study created in memory with name: no-name-8133f8b8-78bb-4d3e-b62a-d0ab9bd9dae0\u001b[0m\n"
     ]
    },
    {
     "name": "stdout",
     "output_type": "stream",
     "text": [
      "Sampler is TPESampler\n",
      "Dataset8 :\n"
     ]
    },
    {
     "name": "stderr",
     "output_type": "stream",
     "text": [
      "C:\\Users\\user\\anaconda3\\envs\\aging\\lib\\site-packages\\optuna\\progress_bar.py:47: ExperimentalWarning: Progress bar is experimental (supported from v1.2.0). The interface can change in the future.\n",
      "  self._init_valid()\n"
     ]
    },
    {
     "data": {
      "application/vnd.jupyter.widget-view+json": {
       "model_id": "f0b35d0450dc4410838515ff1b35efe7",
       "version_major": 2,
       "version_minor": 0
      },
      "text/plain": [
       "  0%|          | 0/1 [00:00<?, ?it/s]"
      ]
     },
     "metadata": {},
     "output_type": "display_data"
    },
    {
     "name": "stdout",
     "output_type": "stream",
     "text": [
      "Precision: 0.9929078014184397 \n",
      "Recall: 0.9621993127147767 \n",
      "Aging Rate: 0.5127272727272727\n"
     ]
    },
    {
     "name": "stderr",
     "output_type": "stream",
     "text": [
      "C:\\Users\\user\\anaconda3\\envs\\aging\\lib\\site-packages\\pandas\\core\\computation\\expressions.py:205: UserWarning: evaluating in Python space because the '*' operator is not supported by numexpr for the bool dtype, use '&' instead\n",
      "  f\"evaluating in Python space because the {repr(op_str)} \"\n",
      "C:\\Users\\user\\anaconda3\\envs\\aging\\lib\\site-packages\\pandas\\core\\computation\\expressions.py:205: UserWarning: evaluating in Python space because the '*' operator is not supported by numexpr for the bool dtype, use '&' instead\n",
      "  f\"evaluating in Python space because the {repr(op_str)} \"\n",
      "C:\\Users\\user\\anaconda3\\envs\\aging\\lib\\site-packages\\pandas\\core\\computation\\expressions.py:205: UserWarning: evaluating in Python space because the '*' operator is not supported by numexpr for the bool dtype, use '&' instead\n",
      "  f\"evaluating in Python space because the {repr(op_str)} \"\n",
      "C:\\Users\\user\\anaconda3\\envs\\aging\\lib\\site-packages\\pandas\\core\\computation\\expressions.py:205: UserWarning: evaluating in Python space because the '*' operator is not supported by numexpr for the bool dtype, use '&' instead\n",
      "  f\"evaluating in Python space because the {repr(op_str)} \"\n",
      "C:\\Users\\user\\anaconda3\\envs\\aging\\lib\\site-packages\\pandas\\core\\computation\\expressions.py:205: UserWarning: evaluating in Python space because the '*' operator is not supported by numexpr for the bool dtype, use '&' instead\n",
      "  f\"evaluating in Python space because the {repr(op_str)} \"\n"
     ]
    },
    {
     "name": "stdout",
     "output_type": "stream",
     "text": [
      "Precision: 0.9894736842105263 \n",
      "Recall: 0.9894736842105263 \n",
      "Aging Rate: 0.5181818181818182\n"
     ]
    },
    {
     "name": "stderr",
     "output_type": "stream",
     "text": [
      "C:\\Users\\user\\anaconda3\\envs\\aging\\lib\\site-packages\\pandas\\core\\computation\\expressions.py:205: UserWarning: evaluating in Python space because the '*' operator is not supported by numexpr for the bool dtype, use '&' instead\n",
      "  f\"evaluating in Python space because the {repr(op_str)} \"\n",
      "\u001b[32m[I 2021-10-09 16:45:57,664]\u001b[0m A new study created in memory with name: no-name-107fac5e-dcdd-4495-85db-6b61703acf29\u001b[0m\n",
      "C:\\Users\\user\\anaconda3\\envs\\aging\\lib\\site-packages\\optuna\\progress_bar.py:47: ExperimentalWarning: Progress bar is experimental (supported from v1.2.0). The interface can change in the future.\n",
      "  self._init_valid()\n"
     ]
    },
    {
     "name": "stdout",
     "output_type": "stream",
     "text": [
      "Precision: 0.9854545454545455 \n",
      "Recall: 0.9678571428571429 \n",
      "Aging Rate: 0.5\n",
      "\u001b[32m[I 2021-10-09 16:45:57,601]\u001b[0m Trial 0 finished with value: 0.9221464102305122 and parameters: {'objective': 'binary', 'boosting_type': 'goss', 'n_estimators': 200, 'subsample': 0.5, 'num_leaves': 35, 'min_child_samples': 6, 'max_depth': 3, 'learning_rate': 0.07500000000000001, 'reg_alpha': 0.001267486093275293, 'reg_lambda': 0.0005056912477695261}. Best is trial 0 with value: 0.9221464102305122.\u001b[0m\n",
      "Sampler is TPESampler\n",
      "Dataset9 :\n"
     ]
    },
    {
     "data": {
      "application/vnd.jupyter.widget-view+json": {
       "model_id": "674f9bbbb861411586099ce156e3134c",
       "version_major": 2,
       "version_minor": 0
      },
      "text/plain": [
       "  0%|          | 0/1 [00:00<?, ?it/s]"
      ]
     },
     "metadata": {},
     "output_type": "display_data"
    },
    {
     "name": "stdout",
     "output_type": "stream",
     "text": [
      "Precision: 0.8888888888888888 \n",
      "Recall: 0.6956521739130435 \n",
      "Aging Rate: 0.0594059405940594\n",
      "Precision: 0.9583333333333334 \n",
      "Recall: 0.6764705882352942 \n",
      "Aging Rate: 0.07920792079207921\n"
     ]
    },
    {
     "name": "stderr",
     "output_type": "stream",
     "text": [
      "C:\\Users\\user\\anaconda3\\envs\\aging\\lib\\site-packages\\pandas\\core\\computation\\expressions.py:205: UserWarning: evaluating in Python space because the '*' operator is not supported by numexpr for the bool dtype, use '&' instead\n",
      "  f\"evaluating in Python space because the {repr(op_str)} \"\n",
      "C:\\Users\\user\\anaconda3\\envs\\aging\\lib\\site-packages\\pandas\\core\\computation\\expressions.py:205: UserWarning: evaluating in Python space because the '*' operator is not supported by numexpr for the bool dtype, use '&' instead\n",
      "  f\"evaluating in Python space because the {repr(op_str)} \"\n",
      "C:\\Users\\user\\anaconda3\\envs\\aging\\lib\\site-packages\\pandas\\core\\computation\\expressions.py:205: UserWarning: evaluating in Python space because the '*' operator is not supported by numexpr for the bool dtype, use '&' instead\n",
      "  f\"evaluating in Python space because the {repr(op_str)} \"\n",
      "C:\\Users\\user\\anaconda3\\envs\\aging\\lib\\site-packages\\pandas\\core\\computation\\expressions.py:205: UserWarning: evaluating in Python space because the '*' operator is not supported by numexpr for the bool dtype, use '&' instead\n",
      "  f\"evaluating in Python space because the {repr(op_str)} \"\n",
      "C:\\Users\\user\\anaconda3\\envs\\aging\\lib\\site-packages\\pandas\\core\\computation\\expressions.py:205: UserWarning: evaluating in Python space because the '*' operator is not supported by numexpr for the bool dtype, use '&' instead\n",
      "  f\"evaluating in Python space because the {repr(op_str)} \"\n",
      "C:\\Users\\user\\anaconda3\\envs\\aging\\lib\\site-packages\\pandas\\core\\computation\\expressions.py:205: UserWarning: evaluating in Python space because the '*' operator is not supported by numexpr for the bool dtype, use '&' instead\n",
      "  f\"evaluating in Python space because the {repr(op_str)} \"\n"
     ]
    },
    {
     "name": "stdout",
     "output_type": "stream",
     "text": [
      "Precision: 1.0 \n",
      "Recall: 0.6896551724137931 \n",
      "Aging Rate: 0.066006600660066\n",
      "\u001b[32m[I 2021-10-09 16:45:57,807]\u001b[0m Trial 0 finished with value: 0.6804386294525034 and parameters: {'objective': 'binary', 'boosting_type': 'gbdt', 'n_estimators': 150, 'subsample': 0.5, 'num_leaves': 15, 'min_child_samples': 12, 'max_depth': 9, 'learning_rate': 0.07500000000000001, 'reg_alpha': 0.644918367237105, 'reg_lambda': 0.05341169056197282}. Best is trial 0 with value: 0.6804386294525034.\u001b[0m\n",
      "Sampler is TPESampler\n"
     ]
    },
    {
     "data": {
      "application/vnd.jupyter.widget-view+json": {
       "model_id": "82642539fa9541feb7cb6c1d3dec8a9b",
       "version_major": 2,
       "version_minor": 0
      },
      "text/plain": [
       "  0%|          | 0/10 [00:00<?, ?it/s]"
      ]
     },
     "metadata": {},
     "output_type": "display_data"
    },
    {
     "name": "stderr",
     "output_type": "stream",
     "text": [
      "\u001b[32m[I 2021-10-09 16:45:57,896]\u001b[0m A new study created in memory with name: no-name-41b46860-4b5b-43e4-b97f-6b2c35b8254f\u001b[0m\n"
     ]
    },
    {
     "name": "stdout",
     "output_type": "stream",
     "text": [
      "Dataset0 :\n"
     ]
    },
    {
     "name": "stderr",
     "output_type": "stream",
     "text": [
      "C:\\Users\\user\\anaconda3\\envs\\aging\\lib\\site-packages\\optuna\\progress_bar.py:47: ExperimentalWarning: Progress bar is experimental (supported from v1.2.0). The interface can change in the future.\n",
      "  self._init_valid()\n"
     ]
    },
    {
     "data": {
      "application/vnd.jupyter.widget-view+json": {
       "model_id": "aae7f7fd338c4dc895a0c4dd0bfc75bd",
       "version_major": 2,
       "version_minor": 0
      },
      "text/plain": [
       "  0%|          | 0/1 [00:00<?, ?it/s]"
      ]
     },
     "metadata": {},
     "output_type": "display_data"
    },
    {
     "name": "stderr",
     "output_type": "stream",
     "text": [
      "C:\\Users\\user\\anaconda3\\envs\\aging\\lib\\site-packages\\xgboost\\sklearn.py:1146: UserWarning: The use of label encoder in XGBClassifier is deprecated and will be removed in a future release. To remove this warning, do the following: 1) Pass option use_label_encoder=False when constructing XGBClassifier object; and 2) Encode your labels (y) as integers starting with 0, i.e. 0, 1, 2, ..., [num_class - 1].\n",
      "  warnings.warn(label_encoder_deprecation_msg, UserWarning)\n"
     ]
    },
    {
     "name": "stdout",
     "output_type": "stream",
     "text": [
      "[16:45:58] WARNING: C:/Users/Administrator/workspace/xgboost-win64_release_1.4.0/src/learner.cc:1095: Starting in XGBoost 1.3.0, the default evaluation metric used with the objective 'binary:logistic' was changed from 'error' to 'logloss'. Explicitly set eval_metric if you'd like to restore the old behavior.\n"
     ]
    },
    {
     "name": "stderr",
     "output_type": "stream",
     "text": [
      "C:\\Users\\user\\anaconda3\\envs\\aging\\lib\\site-packages\\pandas\\core\\computation\\expressions.py:205: UserWarning: evaluating in Python space because the '*' operator is not supported by numexpr for the bool dtype, use '&' instead\n",
      "  f\"evaluating in Python space because the {repr(op_str)} \"\n",
      "C:\\Users\\user\\anaconda3\\envs\\aging\\lib\\site-packages\\pandas\\core\\computation\\expressions.py:205: UserWarning: evaluating in Python space because the '*' operator is not supported by numexpr for the bool dtype, use '&' instead\n",
      "  f\"evaluating in Python space because the {repr(op_str)} \"\n",
      "C:\\Users\\user\\Desktop\\Darui_R08621110\\Master_Thesis\\AUO aging test\\Full_Version_Code\\library\\AdaBoost.py:102: RuntimeWarning: invalid value encountered in double_scalars\n",
      "  eff = recall / ar\n",
      "C:\\Users\\user\\Desktop\\Darui_R08621110\\Master_Thesis\\AUO aging test\\Full_Version_Code\\library\\Aging_Score_Contour.py:43: RuntimeWarning: invalid value encountered in double_scalars\n",
      "  eff = r/ag\n",
      "C:\\Users\\user\\anaconda3\\envs\\aging\\lib\\site-packages\\xgboost\\sklearn.py:1146: UserWarning: The use of label encoder in XGBClassifier is deprecated and will be removed in a future release. To remove this warning, do the following: 1) Pass option use_label_encoder=False when constructing XGBClassifier object; and 2) Encode your labels (y) as integers starting with 0, i.e. 0, 1, 2, ..., [num_class - 1].\n",
      "  warnings.warn(label_encoder_deprecation_msg, UserWarning)\n"
     ]
    },
    {
     "name": "stdout",
     "output_type": "stream",
     "text": [
      "Precision: 0 \n",
      "Recall: 0.0 \n",
      "Aging Rate: 0.0\n",
      "[16:46:00] WARNING: C:/Users/Administrator/workspace/xgboost-win64_release_1.4.0/src/learner.cc:1095: Starting in XGBoost 1.3.0, the default evaluation metric used with the objective 'binary:logistic' was changed from 'error' to 'logloss'. Explicitly set eval_metric if you'd like to restore the old behavior.\n"
     ]
    },
    {
     "name": "stderr",
     "output_type": "stream",
     "text": [
      "C:\\Users\\user\\anaconda3\\envs\\aging\\lib\\site-packages\\pandas\\core\\computation\\expressions.py:205: UserWarning: evaluating in Python space because the '*' operator is not supported by numexpr for the bool dtype, use '&' instead\n",
      "  f\"evaluating in Python space because the {repr(op_str)} \"\n",
      "C:\\Users\\user\\anaconda3\\envs\\aging\\lib\\site-packages\\pandas\\core\\computation\\expressions.py:205: UserWarning: evaluating in Python space because the '*' operator is not supported by numexpr for the bool dtype, use '&' instead\n",
      "  f\"evaluating in Python space because the {repr(op_str)} \"\n",
      "C:\\Users\\user\\Desktop\\Darui_R08621110\\Master_Thesis\\AUO aging test\\Full_Version_Code\\library\\AdaBoost.py:102: RuntimeWarning: invalid value encountered in double_scalars\n",
      "  eff = recall / ar\n",
      "C:\\Users\\user\\Desktop\\Darui_R08621110\\Master_Thesis\\AUO aging test\\Full_Version_Code\\library\\Aging_Score_Contour.py:43: RuntimeWarning: invalid value encountered in double_scalars\n",
      "  eff = r/ag\n",
      "C:\\Users\\user\\anaconda3\\envs\\aging\\lib\\site-packages\\xgboost\\sklearn.py:1146: UserWarning: The use of label encoder in XGBClassifier is deprecated and will be removed in a future release. To remove this warning, do the following: 1) Pass option use_label_encoder=False when constructing XGBClassifier object; and 2) Encode your labels (y) as integers starting with 0, i.e. 0, 1, 2, ..., [num_class - 1].\n",
      "  warnings.warn(label_encoder_deprecation_msg, UserWarning)\n"
     ]
    },
    {
     "name": "stdout",
     "output_type": "stream",
     "text": [
      "Precision: 0 \n",
      "Recall: 0.0 \n",
      "Aging Rate: 0.0\n",
      "[16:46:02] WARNING: C:/Users/Administrator/workspace/xgboost-win64_release_1.4.0/src/learner.cc:1095: Starting in XGBoost 1.3.0, the default evaluation metric used with the objective 'binary:logistic' was changed from 'error' to 'logloss'. Explicitly set eval_metric if you'd like to restore the old behavior.\n"
     ]
    },
    {
     "name": "stderr",
     "output_type": "stream",
     "text": [
      "C:\\Users\\user\\anaconda3\\envs\\aging\\lib\\site-packages\\pandas\\core\\computation\\expressions.py:205: UserWarning: evaluating in Python space because the '*' operator is not supported by numexpr for the bool dtype, use '&' instead\n",
      "  f\"evaluating in Python space because the {repr(op_str)} \"\n",
      "C:\\Users\\user\\anaconda3\\envs\\aging\\lib\\site-packages\\pandas\\core\\computation\\expressions.py:205: UserWarning: evaluating in Python space because the '*' operator is not supported by numexpr for the bool dtype, use '&' instead\n",
      "  f\"evaluating in Python space because the {repr(op_str)} \"\n",
      "C:\\Users\\user\\Desktop\\Darui_R08621110\\Master_Thesis\\AUO aging test\\Full_Version_Code\\library\\AdaBoost.py:102: RuntimeWarning: invalid value encountered in double_scalars\n",
      "  eff = recall / ar\n",
      "C:\\Users\\user\\Desktop\\Darui_R08621110\\Master_Thesis\\AUO aging test\\Full_Version_Code\\library\\Aging_Score_Contour.py:43: RuntimeWarning: invalid value encountered in double_scalars\n",
      "  eff = r/ag\n",
      "\u001b[32m[I 2021-10-09 16:46:04,787]\u001b[0m A new study created in memory with name: no-name-3dee748c-b3b2-4a6d-851c-dbe9e7741f16\u001b[0m\n"
     ]
    },
    {
     "name": "stdout",
     "output_type": "stream",
     "text": [
      "Precision: 0 \n",
      "Recall: 0.0 \n",
      "Aging Rate: 0.0\n",
      "\u001b[32m[I 2021-10-09 16:46:04,707]\u001b[0m Trial 0 finished with value: 0.0 and parameters: {'n_estimators': 250, 'subsample': 0.5, 'min_child_weight': 9, 'max_depth': 5, 'learning_rate': 0.125, 'reg_alpha': 0.15852696344230616, 'reg_lambda': 0.0729296243416914}. Best is trial 0 with value: 0.0.\u001b[0m\n",
      "Sampler is TPESampler\n",
      "Dataset1 :\n"
     ]
    },
    {
     "name": "stderr",
     "output_type": "stream",
     "text": [
      "C:\\Users\\user\\anaconda3\\envs\\aging\\lib\\site-packages\\optuna\\progress_bar.py:47: ExperimentalWarning: Progress bar is experimental (supported from v1.2.0). The interface can change in the future.\n",
      "  self._init_valid()\n"
     ]
    },
    {
     "data": {
      "application/vnd.jupyter.widget-view+json": {
       "model_id": "f2973180e5814167b9ceb5155c1a32d4",
       "version_major": 2,
       "version_minor": 0
      },
      "text/plain": [
       "  0%|          | 0/1 [00:00<?, ?it/s]"
      ]
     },
     "metadata": {},
     "output_type": "display_data"
    },
    {
     "name": "stderr",
     "output_type": "stream",
     "text": [
      "C:\\Users\\user\\anaconda3\\envs\\aging\\lib\\site-packages\\xgboost\\sklearn.py:1146: UserWarning: The use of label encoder in XGBClassifier is deprecated and will be removed in a future release. To remove this warning, do the following: 1) Pass option use_label_encoder=False when constructing XGBClassifier object; and 2) Encode your labels (y) as integers starting with 0, i.e. 0, 1, 2, ..., [num_class - 1].\n",
      "  warnings.warn(label_encoder_deprecation_msg, UserWarning)\n",
      "C:\\Users\\user\\anaconda3\\envs\\aging\\lib\\site-packages\\pandas\\core\\computation\\expressions.py:205: UserWarning: evaluating in Python space because the '*' operator is not supported by numexpr for the bool dtype, use '&' instead\n",
      "  f\"evaluating in Python space because the {repr(op_str)} \"\n",
      "C:\\Users\\user\\anaconda3\\envs\\aging\\lib\\site-packages\\pandas\\core\\computation\\expressions.py:205: UserWarning: evaluating in Python space because the '*' operator is not supported by numexpr for the bool dtype, use '&' instead\n",
      "  f\"evaluating in Python space because the {repr(op_str)} \"\n"
     ]
    },
    {
     "name": "stdout",
     "output_type": "stream",
     "text": [
      "[16:46:04] WARNING: C:/Users/Administrator/workspace/xgboost-win64_release_1.4.0/src/learner.cc:1095: Starting in XGBoost 1.3.0, the default evaluation metric used with the objective 'binary:logistic' was changed from 'error' to 'logloss'. Explicitly set eval_metric if you'd like to restore the old behavior.\n"
     ]
    },
    {
     "name": "stderr",
     "output_type": "stream",
     "text": [
      "C:\\Users\\user\\anaconda3\\envs\\aging\\lib\\site-packages\\xgboost\\sklearn.py:1146: UserWarning: The use of label encoder in XGBClassifier is deprecated and will be removed in a future release. To remove this warning, do the following: 1) Pass option use_label_encoder=False when constructing XGBClassifier object; and 2) Encode your labels (y) as integers starting with 0, i.e. 0, 1, 2, ..., [num_class - 1].\n",
      "  warnings.warn(label_encoder_deprecation_msg, UserWarning)\n"
     ]
    },
    {
     "name": "stdout",
     "output_type": "stream",
     "text": [
      "Precision: 0.8853211009174312 \n",
      "Recall: 0.910377358490566 \n",
      "Aging Rate: 0.4977168949771689\n",
      "[16:46:04] WARNING: C:/Users/Administrator/workspace/xgboost-win64_release_1.4.0/src/learner.cc:1095: Starting in XGBoost 1.3.0, the default evaluation metric used with the objective 'binary:logistic' was changed from 'error' to 'logloss'. Explicitly set eval_metric if you'd like to restore the old behavior.\n",
      "Precision: 0.8760683760683761 \n",
      "Recall: 0.9318181818181818 \n",
      "Aging Rate: 0.5342465753424658\n",
      "[16:46:05] WARNING: C:/Users/Administrator/workspace/xgboost-win64_release_1.4.0/src/learner.cc:1095: Starting in XGBoost 1.3.0, the default evaluation metric used with the objective 'binary:logistic' was changed from 'error' to 'logloss'. Explicitly set eval_metric if you'd like to restore the old behavior.\n"
     ]
    },
    {
     "name": "stderr",
     "output_type": "stream",
     "text": [
      "C:\\Users\\user\\anaconda3\\envs\\aging\\lib\\site-packages\\pandas\\core\\computation\\expressions.py:205: UserWarning: evaluating in Python space because the '*' operator is not supported by numexpr for the bool dtype, use '&' instead\n",
      "  f\"evaluating in Python space because the {repr(op_str)} \"\n",
      "C:\\Users\\user\\anaconda3\\envs\\aging\\lib\\site-packages\\pandas\\core\\computation\\expressions.py:205: UserWarning: evaluating in Python space because the '*' operator is not supported by numexpr for the bool dtype, use '&' instead\n",
      "  f\"evaluating in Python space because the {repr(op_str)} \"\n",
      "C:\\Users\\user\\anaconda3\\envs\\aging\\lib\\site-packages\\xgboost\\sklearn.py:1146: UserWarning: The use of label encoder in XGBClassifier is deprecated and will be removed in a future release. To remove this warning, do the following: 1) Pass option use_label_encoder=False when constructing XGBClassifier object; and 2) Encode your labels (y) as integers starting with 0, i.e. 0, 1, 2, ..., [num_class - 1].\n",
      "  warnings.warn(label_encoder_deprecation_msg, UserWarning)\n",
      "C:\\Users\\user\\anaconda3\\envs\\aging\\lib\\site-packages\\pandas\\core\\computation\\expressions.py:205: UserWarning: evaluating in Python space because the '*' operator is not supported by numexpr for the bool dtype, use '&' instead\n",
      "  f\"evaluating in Python space because the {repr(op_str)} \"\n",
      "C:\\Users\\user\\anaconda3\\envs\\aging\\lib\\site-packages\\pandas\\core\\computation\\expressions.py:205: UserWarning: evaluating in Python space because the '*' operator is not supported by numexpr for the bool dtype, use '&' instead\n",
      "  f\"evaluating in Python space because the {repr(op_str)} \"\n",
      "\u001b[32m[I 2021-10-09 16:46:05,174]\u001b[0m A new study created in memory with name: no-name-19dd78d7-6d7f-4285-83d2-efef454a26db\u001b[0m\n"
     ]
    },
    {
     "name": "stdout",
     "output_type": "stream",
     "text": [
      "Precision: 0.8607594936708861 \n",
      "Recall: 0.9532710280373832 \n",
      "Aging Rate: 0.541095890410959\n",
      "\u001b[32m[I 2021-10-09 16:46:05,101]\u001b[0m Trial 0 finished with value: 0.8793868774243571 and parameters: {'n_estimators': 100, 'subsample': 0.7, 'min_child_weight': 21, 'max_depth': 9, 'learning_rate': 0.025, 'reg_alpha': 0.00048065007994798064, 'reg_lambda': 0.270445644330511}. Best is trial 0 with value: 0.8793868774243571.\u001b[0m\n",
      "Sampler is TPESampler\n",
      "Dataset2 :\n"
     ]
    },
    {
     "name": "stderr",
     "output_type": "stream",
     "text": [
      "C:\\Users\\user\\anaconda3\\envs\\aging\\lib\\site-packages\\optuna\\progress_bar.py:47: ExperimentalWarning: Progress bar is experimental (supported from v1.2.0). The interface can change in the future.\n",
      "  self._init_valid()\n"
     ]
    },
    {
     "data": {
      "application/vnd.jupyter.widget-view+json": {
       "model_id": "528c157190bc4dfb975884665a1e75a5",
       "version_major": 2,
       "version_minor": 0
      },
      "text/plain": [
       "  0%|          | 0/1 [00:00<?, ?it/s]"
      ]
     },
     "metadata": {},
     "output_type": "display_data"
    },
    {
     "name": "stdout",
     "output_type": "stream",
     "text": [
      "[16:46:05] WARNING: C:/Users/Administrator/workspace/xgboost-win64_release_1.4.0/src/learner.cc:1095: Starting in XGBoost 1.3.0, the default evaluation metric used with the objective 'binary:logistic' was changed from 'error' to 'logloss'. Explicitly set eval_metric if you'd like to restore the old behavior.\n"
     ]
    },
    {
     "name": "stderr",
     "output_type": "stream",
     "text": [
      "C:\\Users\\user\\anaconda3\\envs\\aging\\lib\\site-packages\\xgboost\\sklearn.py:1146: UserWarning: The use of label encoder in XGBClassifier is deprecated and will be removed in a future release. To remove this warning, do the following: 1) Pass option use_label_encoder=False when constructing XGBClassifier object; and 2) Encode your labels (y) as integers starting with 0, i.e. 0, 1, 2, ..., [num_class - 1].\n",
      "  warnings.warn(label_encoder_deprecation_msg, UserWarning)\n"
     ]
    },
    {
     "name": "stdout",
     "output_type": "stream",
     "text": [
      "Precision:"
     ]
    },
    {
     "name": "stderr",
     "output_type": "stream",
     "text": [
      "C:\\Users\\user\\anaconda3\\envs\\aging\\lib\\site-packages\\pandas\\core\\computation\\expressions.py:205: UserWarning: evaluating in Python space because the '*' operator is not supported by numexpr for the bool dtype, use '&' instead\n",
      "  f\"evaluating in Python space because the {repr(op_str)} \"\n",
      "C:\\Users\\user\\anaconda3\\envs\\aging\\lib\\site-packages\\pandas\\core\\computation\\expressions.py:205: UserWarning: evaluating in Python space because the '*' operator is not supported by numexpr for the bool dtype, use '&' instead\n",
      "  f\"evaluating in Python space because the {repr(op_str)} \"\n",
      "C:\\Users\\user\\anaconda3\\envs\\aging\\lib\\site-packages\\xgboost\\sklearn.py:1146: UserWarning: The use of label encoder in XGBClassifier is deprecated and will be removed in a future release. To remove this warning, do the following: 1) Pass option use_label_encoder=False when constructing XGBClassifier object; and 2) Encode your labels (y) as integers starting with 0, i.e. 0, 1, 2, ..., [num_class - 1].\n",
      "  warnings.warn(label_encoder_deprecation_msg, UserWarning)\n",
      "C:\\Users\\user\\anaconda3\\envs\\aging\\lib\\site-packages\\pandas\\core\\computation\\expressions.py:205: UserWarning: evaluating in Python space because the '*' operator is not supported by numexpr for the bool dtype, use '&' instead\n",
      "  f\"evaluating in Python space because the {repr(op_str)} \"\n"
     ]
    },
    {
     "name": "stdout",
     "output_type": "stream",
     "text": [
      " 0.9314641744548287 \n",
      "Recall: 0.9739413680781759 \n",
      "Aging Rate: 0.5152487961476726\n",
      "[16:46:05] WARNING: C:/Users/Administrator/workspace/xgboost-win64_release_1.4.0/src/learner.cc:1095: Starting in XGBoost 1.3.0, the default evaluation metric used with the objective 'binary:logistic' was changed from 'error' to 'logloss'. Explicitly set eval_metric if you'd like to restore the old behavior.\n"
     ]
    },
    {
     "name": "stderr",
     "output_type": "stream",
     "text": [
      "C:\\Users\\user\\anaconda3\\envs\\aging\\lib\\site-packages\\pandas\\core\\computation\\expressions.py:205: UserWarning: evaluating in Python space because the '*' operator is not supported by numexpr for the bool dtype, use '&' instead\n",
      "  f\"evaluating in Python space because the {repr(op_str)} \"\n",
      "C:\\Users\\user\\anaconda3\\envs\\aging\\lib\\site-packages\\xgboost\\sklearn.py:1146: UserWarning: The use of label encoder in XGBClassifier is deprecated and will be removed in a future release. To remove this warning, do the following: 1) Pass option use_label_encoder=False when constructing XGBClassifier object; and 2) Encode your labels (y) as integers starting with 0, i.e. 0, 1, 2, ..., [num_class - 1].\n",
      "  warnings.warn(label_encoder_deprecation_msg, UserWarning)\n",
      "C:\\Users\\user\\anaconda3\\envs\\aging\\lib\\site-packages\\pandas\\core\\computation\\expressions.py:205: UserWarning: evaluating in Python space because the '*' operator is not supported by numexpr for the bool dtype, use '&' instead\n",
      "  f\"evaluating in Python space because the {repr(op_str)} \"\n"
     ]
    },
    {
     "name": "stdout",
     "output_type": "stream",
     "text": [
      "Precision: 0.9462025316455697 \n",
      "Recall: 0.9739413680781759 \n",
      "Aging Rate: 0.507223113964687\n",
      "[16:46:05] WARNING: C:/Users/Administrator/workspace/xgboost-win64_release_1.4.0/src/learner.cc:1095: Starting in XGBoost 1.3.0, the default evaluation metric used with the objective 'binary:logistic' was changed from 'error' to 'logloss'. Explicitly set eval_metric if you'd like to restore the old behavior.\n"
     ]
    },
    {
     "name": "stderr",
     "output_type": "stream",
     "text": [
      "C:\\Users\\user\\anaconda3\\envs\\aging\\lib\\site-packages\\pandas\\core\\computation\\expressions.py:205: UserWarning: evaluating in Python space because the '*' operator is not supported by numexpr for the bool dtype, use '&' instead\n",
      "  f\"evaluating in Python space because the {repr(op_str)} \"\n",
      "\u001b[32m[I 2021-10-09 16:46:05,832]\u001b[0m A new study created in memory with name: no-name-c91a0dd3-a352-4669-b9e9-ee448ea8936a\u001b[0m\n"
     ]
    },
    {
     "name": "stdout",
     "output_type": "stream",
     "text": [
      "Precision: 0.9427710843373494 \n",
      "Recall: 0.978125 \n",
      "Aging Rate: 0.5329052969502408\n",
      "\u001b[32m[I 2021-10-09 16:46:05,769]\u001b[0m Trial 0 finished with value: 0.9234900051500307 and parameters: {'n_estimators': 150, 'subsample': 0.9, 'min_child_weight': 15, 'max_depth': 11, 'learning_rate': 0.07500000000000001, 'reg_alpha': 0.014236547565248475, 'reg_lambda': 0.39593434400983585}. Best is trial 0 with value: 0.9234900051500307.\u001b[0m\n",
      "Sampler is TPESampler\n",
      "Dataset3 :\n"
     ]
    },
    {
     "name": "stderr",
     "output_type": "stream",
     "text": [
      "C:\\Users\\user\\anaconda3\\envs\\aging\\lib\\site-packages\\optuna\\progress_bar.py:47: ExperimentalWarning: Progress bar is experimental (supported from v1.2.0). The interface can change in the future.\n",
      "  self._init_valid()\n"
     ]
    },
    {
     "data": {
      "application/vnd.jupyter.widget-view+json": {
       "model_id": "0d65a735506a49bfbb2482eb43e12062",
       "version_major": 2,
       "version_minor": 0
      },
      "text/plain": [
       "  0%|          | 0/1 [00:00<?, ?it/s]"
      ]
     },
     "metadata": {},
     "output_type": "display_data"
    },
    {
     "name": "stderr",
     "output_type": "stream",
     "text": [
      "C:\\Users\\user\\anaconda3\\envs\\aging\\lib\\site-packages\\xgboost\\sklearn.py:1146: UserWarning: The use of label encoder in XGBClassifier is deprecated and will be removed in a future release. To remove this warning, do the following: 1) Pass option use_label_encoder=False when constructing XGBClassifier object; and 2) Encode your labels (y) as integers starting with 0, i.e. 0, 1, 2, ..., [num_class - 1].\n",
      "  warnings.warn(label_encoder_deprecation_msg, UserWarning)\n"
     ]
    },
    {
     "name": "stdout",
     "output_type": "stream",
     "text": [
      "[16:46:05] WARNING: C:/Users/Administrator/workspace/xgboost-win64_release_1.4.0/src/learner.cc:1095: Starting in XGBoost 1.3.0, the default evaluation metric used with the objective 'binary:logistic' was changed from 'error' to 'logloss'. Explicitly set eval_metric if you'd like to restore the old behavior.\n"
     ]
    },
    {
     "name": "stderr",
     "output_type": "stream",
     "text": [
      "C:\\Users\\user\\anaconda3\\envs\\aging\\lib\\site-packages\\pandas\\core\\computation\\expressions.py:205: UserWarning: evaluating in Python space because the '*' operator is not supported by numexpr for the bool dtype, use '&' instead\n",
      "  f\"evaluating in Python space because the {repr(op_str)} \"\n",
      "C:\\Users\\user\\anaconda3\\envs\\aging\\lib\\site-packages\\pandas\\core\\computation\\expressions.py:205: UserWarning: evaluating in Python space because the '*' operator is not supported by numexpr for the bool dtype, use '&' instead\n",
      "  f\"evaluating in Python space because the {repr(op_str)} \"\n",
      "C:\\Users\\user\\anaconda3\\envs\\aging\\lib\\site-packages\\xgboost\\sklearn.py:1146: UserWarning: The use of label encoder in XGBClassifier is deprecated and will be removed in a future release. To remove this warning, do the following: 1) Pass option use_label_encoder=False when constructing XGBClassifier object; and 2) Encode your labels (y) as integers starting with 0, i.e. 0, 1, 2, ..., [num_class - 1].\n",
      "  warnings.warn(label_encoder_deprecation_msg, UserWarning)\n"
     ]
    },
    {
     "name": "stdout",
     "output_type": "stream",
     "text": [
      "Precision: 1.0 \n",
      "Recall: 0.9344262295081968 \n",
      "Aging Rate: 0.47107438016528924\n",
      "[16:46:05] WARNING: C:/Users/Administrator/workspace/xgboost-win64_release_1.4.0/src/learner.cc:1095: Starting in XGBoost 1.3.0, the default evaluation metric used with the objective 'binary:logistic' was changed from 'error' to 'logloss'. Explicitly set eval_metric if you'd like to restore the old behavior.\n",
      "Precision: 1.0 \n",
      "Recall: 0.9780701754385965 \n",
      "Aging Rate: 0.4607438016528926\n",
      "[16:46:06] WARNING: C:/Users/Administrator/workspace/xgboost-win64_release_1.4.0/src/learner.cc:1095: Starting in XGBoost 1.3.0, the default evaluation metric used with the objective 'binary:logistic' was changed from 'error' to 'logloss'. Explicitly set eval_metric if you'd like to restore the old behavior.\n"
     ]
    },
    {
     "name": "stderr",
     "output_type": "stream",
     "text": [
      "C:\\Users\\user\\anaconda3\\envs\\aging\\lib\\site-packages\\pandas\\core\\computation\\expressions.py:205: UserWarning: evaluating in Python space because the '*' operator is not supported by numexpr for the bool dtype, use '&' instead\n",
      "  f\"evaluating in Python space because the {repr(op_str)} \"\n",
      "C:\\Users\\user\\anaconda3\\envs\\aging\\lib\\site-packages\\pandas\\core\\computation\\expressions.py:205: UserWarning: evaluating in Python space because the '*' operator is not supported by numexpr for the bool dtype, use '&' instead\n",
      "  f\"evaluating in Python space because the {repr(op_str)} \"\n",
      "C:\\Users\\user\\anaconda3\\envs\\aging\\lib\\site-packages\\xgboost\\sklearn.py:1146: UserWarning: The use of label encoder in XGBClassifier is deprecated and will be removed in a future release. To remove this warning, do the following: 1) Pass option use_label_encoder=False when constructing XGBClassifier object; and 2) Encode your labels (y) as integers starting with 0, i.e. 0, 1, 2, ..., [num_class - 1].\n",
      "  warnings.warn(label_encoder_deprecation_msg, UserWarning)\n",
      "C:\\Users\\user\\anaconda3\\envs\\aging\\lib\\site-packages\\pandas\\core\\computation\\expressions.py:205: UserWarning: evaluating in Python space because the '*' operator is not supported by numexpr for the bool dtype, use '&' instead\n",
      "  f\"evaluating in Python space because the {repr(op_str)} \"\n",
      "C:\\Users\\user\\anaconda3\\envs\\aging\\lib\\site-packages\\pandas\\core\\computation\\expressions.py:205: UserWarning: evaluating in Python space because the '*' operator is not supported by numexpr for the bool dtype, use '&' instead\n",
      "  f\"evaluating in Python space because the {repr(op_str)} \"\n"
     ]
    },
    {
     "name": "stdout",
     "output_type": "stream",
     "text": [
      "Precision: 0.9959016393442623 \n",
      "Recall: 0.9759036144578314 \n",
      "Aging Rate: 0.5041322314049587\n",
      "\u001b[32m[I 2021-10-09 16:46:06,222]\u001b[0m Trial 0 finished with value: 0.9149349926941035 and parameters: {'n_estimators': 100, 'subsample': 0.5, 'min_child_weight': 3, 'max_depth': 13, 'learning_rate': 0.07500000000000001, 'reg_alpha': 0.0020011516869426036, 'reg_lambda': 0.036948117982329845}. Best is trial 0 with value: 0.9149349926941035.\u001b[0m\n"
     ]
    },
    {
     "name": "stderr",
     "output_type": "stream",
     "text": [
      "\u001b[32m[I 2021-10-09 16:46:06,306]\u001b[0m A new study created in memory with name: no-name-e7a1371c-091f-4b11-a0c4-0509eea3c5de\u001b[0m\n"
     ]
    },
    {
     "name": "stdout",
     "output_type": "stream",
     "text": [
      "Sampler is TPESampler\n",
      "Dataset4 :\n"
     ]
    },
    {
     "name": "stderr",
     "output_type": "stream",
     "text": [
      "C:\\Users\\user\\anaconda3\\envs\\aging\\lib\\site-packages\\optuna\\progress_bar.py:47: ExperimentalWarning: Progress bar is experimental (supported from v1.2.0). The interface can change in the future.\n",
      "  self._init_valid()\n"
     ]
    },
    {
     "data": {
      "application/vnd.jupyter.widget-view+json": {
       "model_id": "2ea4c447fa314e46acbb1d19de8b4462",
       "version_major": 2,
       "version_minor": 0
      },
      "text/plain": [
       "  0%|          | 0/1 [00:00<?, ?it/s]"
      ]
     },
     "metadata": {},
     "output_type": "display_data"
    },
    {
     "name": "stdout",
     "output_type": "stream",
     "text": [
      "[16:46:06] WARNING: C:/Users/Administrator/workspace/xgboost-win64_release_1.4.0/src/learner.cc:1095: Starting in XGBoost 1.3.0, the default evaluation metric used with the objective 'binary:logistic' was changed from 'error' to 'logloss'. Explicitly set eval_metric if you'd like to restore the old behavior.\n"
     ]
    },
    {
     "name": "stderr",
     "output_type": "stream",
     "text": [
      "C:\\Users\\user\\anaconda3\\envs\\aging\\lib\\site-packages\\xgboost\\sklearn.py:1146: UserWarning: The use of label encoder in XGBClassifier is deprecated and will be removed in a future release. To remove this warning, do the following: 1) Pass option use_label_encoder=False when constructing XGBClassifier object; and 2) Encode your labels (y) as integers starting with 0, i.e. 0, 1, 2, ..., [num_class - 1].\n",
      "  warnings.warn(label_encoder_deprecation_msg, UserWarning)\n",
      "C:\\Users\\user\\anaconda3\\envs\\aging\\lib\\site-packages\\pandas\\core\\computation\\expressions.py:205: UserWarning: evaluating in Python space because the '*' operator is not supported by numexpr for the bool dtype, use '&' instead\n",
      "  f\"evaluating in Python space because the {repr(op_str)} \"\n",
      "C:\\Users\\user\\anaconda3\\envs\\aging\\lib\\site-packages\\pandas\\core\\computation\\expressions.py:205: UserWarning: evaluating in Python space because the '*' operator is not supported by numexpr for the bool dtype, use '&' instead\n",
      "  f\"evaluating in Python space because the {repr(op_str)} \"\n",
      "C:\\Users\\user\\anaconda3\\envs\\aging\\lib\\site-packages\\xgboost\\sklearn.py:1146: UserWarning: The use of label encoder in XGBClassifier is deprecated and will be removed in a future release. To remove this warning, do the following: 1) Pass option use_label_encoder=False when constructing XGBClassifier object; and 2) Encode your labels (y) as integers starting with 0, i.e. 0, 1, 2, ..., [num_class - 1].\n",
      "  warnings.warn(label_encoder_deprecation_msg, UserWarning)\n"
     ]
    },
    {
     "name": "stdout",
     "output_type": "stream",
     "text": [
      "Precision: 0.909952606635071 \n",
      "Recall: 0.9458128078817734 \n",
      "Aging Rate: 0.48842592592592593\n",
      "[16:46:06] WARNING: C:/Users/Administrator/workspace/xgboost-win64_release_1.4.0/src/learner.cc:1095: Starting in XGBoost 1.3.0, the default evaluation metric used with the objective 'binary:logistic' was changed from 'error' to 'logloss'. Explicitly set eval_metric if you'd like to restore the old behavior.\n",
      "Precision: 0.9305555555555556 \n",
      "Recall: 0.9757281553398058 \n",
      "Aging Rate: 0.5\n",
      "[16:46:06] WARNING: C:/Users/Administrator/workspace/xgboost-win64_release_1.4.0/src/learner.cc:1095: Starting in XGBoost 1.3.0, the default evaluation metric used with the objective 'binary:logistic' was changed from 'error' to 'logloss'. Explicitly set eval_metric if you'd like to restore the old behavior.\n"
     ]
    },
    {
     "name": "stderr",
     "output_type": "stream",
     "text": [
      "C:\\Users\\user\\anaconda3\\envs\\aging\\lib\\site-packages\\pandas\\core\\computation\\expressions.py:205: UserWarning: evaluating in Python space because the '*' operator is not supported by numexpr for the bool dtype, use '&' instead\n",
      "  f\"evaluating in Python space because the {repr(op_str)} \"\n",
      "C:\\Users\\user\\anaconda3\\envs\\aging\\lib\\site-packages\\pandas\\core\\computation\\expressions.py:205: UserWarning: evaluating in Python space because the '*' operator is not supported by numexpr for the bool dtype, use '&' instead\n",
      "  f\"evaluating in Python space because the {repr(op_str)} \"\n",
      "C:\\Users\\user\\anaconda3\\envs\\aging\\lib\\site-packages\\xgboost\\sklearn.py:1146: UserWarning: The use of label encoder in XGBClassifier is deprecated and will be removed in a future release. To remove this warning, do the following: 1) Pass option use_label_encoder=False when constructing XGBClassifier object; and 2) Encode your labels (y) as integers starting with 0, i.e. 0, 1, 2, ..., [num_class - 1].\n",
      "  warnings.warn(label_encoder_deprecation_msg, UserWarning)\n",
      "C:\\Users\\user\\anaconda3\\envs\\aging\\lib\\site-packages\\pandas\\core\\computation\\expressions.py:205: UserWarning: evaluating in Python space because the '*' operator is not supported by numexpr for the bool dtype, use '&' instead\n",
      "  f\"evaluating in Python space because the {repr(op_str)} \"\n",
      "C:\\Users\\user\\anaconda3\\envs\\aging\\lib\\site-packages\\pandas\\core\\computation\\expressions.py:205: UserWarning: evaluating in Python space because the '*' operator is not supported by numexpr for the bool dtype, use '&' instead\n",
      "  f\"evaluating in Python space because the {repr(op_str)} \"\n",
      "\u001b[32m[I 2021-10-09 16:46:06,739]\u001b[0m A new study created in memory with name: no-name-12deee4a-03b1-44ca-aa55-835a622fdb1d\u001b[0m\n"
     ]
    },
    {
     "name": "stdout",
     "output_type": "stream",
     "text": [
      "Precision: 0.9348837209302325 \n",
      "Recall: 0.9436619718309859 \n",
      "Aging Rate: 0.4976851851851852\n",
      "\u001b[32m[I 2021-10-09 16:46:06,675]\u001b[0m Trial 0 finished with value: 0.9055306079804847 and parameters: {'n_estimators': 150, 'subsample': 0.7, 'min_child_weight': 18, 'max_depth': 5, 'learning_rate': 0.37500000000000006, 'reg_alpha': 1.75306463351975, 'reg_lambda': 0.01425078422226311}. Best is trial 0 with value: 0.9055306079804847.\u001b[0m\n",
      "Sampler is TPESampler\n",
      "Dataset5 :\n"
     ]
    },
    {
     "name": "stderr",
     "output_type": "stream",
     "text": [
      "C:\\Users\\user\\anaconda3\\envs\\aging\\lib\\site-packages\\optuna\\progress_bar.py:47: ExperimentalWarning: Progress bar is experimental (supported from v1.2.0). The interface can change in the future.\n",
      "  self._init_valid()\n"
     ]
    },
    {
     "data": {
      "application/vnd.jupyter.widget-view+json": {
       "model_id": "7fe208ed5ca64e8cbc423a707a086d9e",
       "version_major": 2,
       "version_minor": 0
      },
      "text/plain": [
       "  0%|          | 0/1 [00:00<?, ?it/s]"
      ]
     },
     "metadata": {},
     "output_type": "display_data"
    },
    {
     "name": "stderr",
     "output_type": "stream",
     "text": [
      "C:\\Users\\user\\anaconda3\\envs\\aging\\lib\\site-packages\\xgboost\\sklearn.py:1146: UserWarning: The use of label encoder in XGBClassifier is deprecated and will be removed in a future release. To remove this warning, do the following: 1) Pass option use_label_encoder=False when constructing XGBClassifier object; and 2) Encode your labels (y) as integers starting with 0, i.e. 0, 1, 2, ..., [num_class - 1].\n",
      "  warnings.warn(label_encoder_deprecation_msg, UserWarning)\n",
      "C:\\Users\\user\\anaconda3\\envs\\aging\\lib\\site-packages\\pandas\\core\\computation\\expressions.py:205: UserWarning: evaluating in Python space because the '*' operator is not supported by numexpr for the bool dtype, use '&' instead\n",
      "  f\"evaluating in Python space because the {repr(op_str)} \"\n"
     ]
    },
    {
     "name": "stdout",
     "output_type": "stream",
     "text": [
      "[16:46:06] WARNING: C:/Users/Administrator/workspace/xgboost-win64_release_1.4.0/src/learner.cc:1095: Starting in XGBoost 1.3.0, the default evaluation metric used with the objective 'binary:logistic' was changed from 'error' to 'logloss'. Explicitly set eval_metric if you'd like to restore the old behavior.\n"
     ]
    },
    {
     "name": "stderr",
     "output_type": "stream",
     "text": [
      "C:\\Users\\user\\anaconda3\\envs\\aging\\lib\\site-packages\\pandas\\core\\computation\\expressions.py:205: UserWarning: evaluating in Python space because the '*' operator is not supported by numexpr for the bool dtype, use '&' instead\n",
      "  f\"evaluating in Python space because the {repr(op_str)} \"\n",
      "C:\\Users\\user\\anaconda3\\envs\\aging\\lib\\site-packages\\xgboost\\sklearn.py:1146: UserWarning: The use of label encoder in XGBClassifier is deprecated and will be removed in a future release. To remove this warning, do the following: 1) Pass option use_label_encoder=False when constructing XGBClassifier object; and 2) Encode your labels (y) as integers starting with 0, i.e. 0, 1, 2, ..., [num_class - 1].\n",
      "  warnings.warn(label_encoder_deprecation_msg, UserWarning)\n"
     ]
    },
    {
     "name": "stdout",
     "output_type": "stream",
     "text": [
      "Precision: 0.9605734767025089 \n",
      "Recall: 0.9925925925925926 \n",
      "Aging Rate: 0.5294117647058824\n",
      "[16:46:06] WARNING: C:/Users/Administrator/workspace/xgboost-win64_release_1.4.0/src/learner.cc:1095: Starting in XGBoost 1.3.0, the default evaluation metric used with the objective 'binary:logistic' was changed from 'error' to 'logloss'. Explicitly set eval_metric if you'd like to restore the old behavior.\n",
      "Precision: 0.9511278195488722 \n",
      "Recall: 0.9768339768339769 \n",
      "Aging Rate: 0.5047438330170778\n",
      "[16:46:07] WARNING: C:/Users/Administrator/workspace/xgboost-win64_release_1.4.0/src/learner.cc:1095: Starting in XGBoost 1.3.0, the default evaluation metric used with the objective 'binary:logistic' was changed from 'error' to 'logloss'. Explicitly set eval_metric if you'd like to restore the old behavior.\n"
     ]
    },
    {
     "name": "stderr",
     "output_type": "stream",
     "text": [
      "C:\\Users\\user\\anaconda3\\envs\\aging\\lib\\site-packages\\pandas\\core\\computation\\expressions.py:205: UserWarning: evaluating in Python space because the '*' operator is not supported by numexpr for the bool dtype, use '&' instead\n",
      "  f\"evaluating in Python space because the {repr(op_str)} \"\n",
      "C:\\Users\\user\\anaconda3\\envs\\aging\\lib\\site-packages\\pandas\\core\\computation\\expressions.py:205: UserWarning: evaluating in Python space because the '*' operator is not supported by numexpr for the bool dtype, use '&' instead\n",
      "  f\"evaluating in Python space because the {repr(op_str)} \"\n",
      "C:\\Users\\user\\anaconda3\\envs\\aging\\lib\\site-packages\\xgboost\\sklearn.py:1146: UserWarning: The use of label encoder in XGBClassifier is deprecated and will be removed in a future release. To remove this warning, do the following: 1) Pass option use_label_encoder=False when constructing XGBClassifier object; and 2) Encode your labels (y) as integers starting with 0, i.e. 0, 1, 2, ..., [num_class - 1].\n",
      "  warnings.warn(label_encoder_deprecation_msg, UserWarning)\n",
      "C:\\Users\\user\\anaconda3\\envs\\aging\\lib\\site-packages\\pandas\\core\\computation\\expressions.py:205: UserWarning: evaluating in Python space because the '*' operator is not supported by numexpr for the bool dtype, use '&' instead\n",
      "  f\"evaluating in Python space because the {repr(op_str)} \"\n",
      "C:\\Users\\user\\anaconda3\\envs\\aging\\lib\\site-packages\\pandas\\core\\computation\\expressions.py:205: UserWarning: evaluating in Python space because the '*' operator is not supported by numexpr for the bool dtype, use '&' instead\n",
      "  f\"evaluating in Python space because the {repr(op_str)} \"\n"
     ]
    },
    {
     "name": "stdout",
     "output_type": "stream",
     "text": [
      "Precision: 0.9816176470588235 \n",
      "Recall: 0.9744525547445255 \n",
      "Aging Rate: 0.5161290322580645\n",
      "\u001b[32m[I 2021-10-09 16:46:07,206]\u001b[0m Trial 0 finished with value: 0.9296168870576641 and parameters: {'n_estimators': 100, 'subsample': 0.7, 'min_child_weight': 3, 'max_depth': 13, 'learning_rate': 0.025, 'reg_alpha': 0.7133860426515423, 'reg_lambda': 0.988712515534676}. Best is trial 0 with value: 0.9296168870576641.\u001b[0m\n"
     ]
    },
    {
     "name": "stderr",
     "output_type": "stream",
     "text": [
      "\u001b[32m[I 2021-10-09 16:46:07,273]\u001b[0m A new study created in memory with name: no-name-f9b78f40-e45b-4971-aa98-ce02b697c660\u001b[0m\n"
     ]
    },
    {
     "name": "stdout",
     "output_type": "stream",
     "text": [
      "Sampler is TPESampler\n",
      "Dataset6 :\n"
     ]
    },
    {
     "name": "stderr",
     "output_type": "stream",
     "text": [
      "C:\\Users\\user\\anaconda3\\envs\\aging\\lib\\site-packages\\optuna\\progress_bar.py:47: ExperimentalWarning: Progress bar is experimental (supported from v1.2.0). The interface can change in the future.\n",
      "  self._init_valid()\n"
     ]
    },
    {
     "data": {
      "application/vnd.jupyter.widget-view+json": {
       "model_id": "c35b213b1a36466d826f2249ec8b612c",
       "version_major": 2,
       "version_minor": 0
      },
      "text/plain": [
       "  0%|          | 0/1 [00:00<?, ?it/s]"
      ]
     },
     "metadata": {},
     "output_type": "display_data"
    },
    {
     "name": "stdout",
     "output_type": "stream",
     "text": [
      "[16:46:07] WARNING: C:/Users/Administrator/workspace/xgboost-win64_release_1.4.0/src/learner.cc:1095: Starting in XGBoost 1.3.0, the default evaluation metric used with the objective 'binary:logistic' was changed from 'error' to 'logloss'. Explicitly set eval_metric if you'd like to restore the old behavior.\n"
     ]
    },
    {
     "name": "stderr",
     "output_type": "stream",
     "text": [
      "C:\\Users\\user\\anaconda3\\envs\\aging\\lib\\site-packages\\xgboost\\sklearn.py:1146: UserWarning: The use of label encoder in XGBClassifier is deprecated and will be removed in a future release. To remove this warning, do the following: 1) Pass option use_label_encoder=False when constructing XGBClassifier object; and 2) Encode your labels (y) as integers starting with 0, i.e. 0, 1, 2, ..., [num_class - 1].\n",
      "  warnings.warn(label_encoder_deprecation_msg, UserWarning)\n",
      "C:\\Users\\user\\anaconda3\\envs\\aging\\lib\\site-packages\\pandas\\core\\computation\\expressions.py:205: UserWarning: evaluating in Python space because the '*' operator is not supported by numexpr for the bool dtype, use '&' instead\n",
      "  f\"evaluating in Python space because the {repr(op_str)} \"\n",
      "C:\\Users\\user\\anaconda3\\envs\\aging\\lib\\site-packages\\pandas\\core\\computation\\expressions.py:205: UserWarning: evaluating in Python space because the '*' operator is not supported by numexpr for the bool dtype, use '&' instead\n",
      "  f\"evaluating in Python space because the {repr(op_str)} \"\n",
      "C:\\Users\\user\\anaconda3\\envs\\aging\\lib\\site-packages\\xgboost\\sklearn.py:1146: UserWarning: The use of label encoder in XGBClassifier is deprecated and will be removed in a future release. To remove this warning, do the following: 1) Pass option use_label_encoder=False when constructing XGBClassifier object; and 2) Encode your labels (y) as integers starting with 0, i.e. 0, 1, 2, ..., [num_class - 1].\n",
      "  warnings.warn(label_encoder_deprecation_msg, UserWarning)\n"
     ]
    },
    {
     "name": "stdout",
     "output_type": "stream",
     "text": [
      "Precision: 0.987012987012987 \n",
      "Recall: 0.9838187702265372 \n",
      "Aging Rate: 0.5356521739130434\n",
      "[16:46:07] WARNING: C:/Users/Administrator/workspace/xgboost-win64_release_1.4.0/src/learner.cc:1095: Starting in XGBoost 1.3.0, the default evaluation metric used with the objective 'binary:logistic' was changed from 'error' to 'logloss'. Explicitly set eval_metric if you'd like to restore the old behavior.\n"
     ]
    },
    {
     "name": "stderr",
     "output_type": "stream",
     "text": [
      "C:\\Users\\user\\anaconda3\\envs\\aging\\lib\\site-packages\\pandas\\core\\computation\\expressions.py:205: UserWarning: evaluating in Python space because the '*' operator is not supported by numexpr for the bool dtype, use '&' instead\n",
      "  f\"evaluating in Python space because the {repr(op_str)} \"\n",
      "C:\\Users\\user\\anaconda3\\envs\\aging\\lib\\site-packages\\pandas\\core\\computation\\expressions.py:205: UserWarning: evaluating in Python space because the '*' operator is not supported by numexpr for the bool dtype, use '&' instead\n",
      "  f\"evaluating in Python space because the {repr(op_str)} \"\n",
      "C:\\Users\\user\\anaconda3\\envs\\aging\\lib\\site-packages\\xgboost\\sklearn.py:1146: UserWarning: The use of label encoder in XGBClassifier is deprecated and will be removed in a future release. To remove this warning, do the following: 1) Pass option use_label_encoder=False when constructing XGBClassifier object; and 2) Encode your labels (y) as integers starting with 0, i.e. 0, 1, 2, ..., [num_class - 1].\n",
      "  warnings.warn(label_encoder_deprecation_msg, UserWarning)\n"
     ]
    },
    {
     "name": "stdout",
     "output_type": "stream",
     "text": [
      "Precision: 0.9832775919732442 \n",
      "Recall: 0.9832775919732442 \n",
      "Aging Rate: 0.52\n",
      "[16:46:07] WARNING: C:/Users/Administrator/workspace/xgboost-win64_release_1.4.0/src/learner.cc:1095: Starting in XGBoost 1.3.0, the default evaluation metric used with the objective 'binary:logistic' was changed from 'error' to 'logloss'. Explicitly set eval_metric if you'd like to restore the old behavior.\n"
     ]
    },
    {
     "name": "stderr",
     "output_type": "stream",
     "text": [
      "C:\\Users\\user\\anaconda3\\envs\\aging\\lib\\site-packages\\pandas\\core\\computation\\expressions.py:205: UserWarning: evaluating in Python space because the '*' operator is not supported by numexpr for the bool dtype, use '&' instead\n",
      "  f\"evaluating in Python space because the {repr(op_str)} \"\n",
      "C:\\Users\\user\\anaconda3\\envs\\aging\\lib\\site-packages\\pandas\\core\\computation\\expressions.py:205: UserWarning: evaluating in Python space because the '*' operator is not supported by numexpr for the bool dtype, use '&' instead\n",
      "  f\"evaluating in Python space because the {repr(op_str)} \"\n",
      "\u001b[32m[I 2021-10-09 16:46:08,080]\u001b[0m A new study created in memory with name: no-name-d84e0e44-f79d-45a3-a434-3e6e2427d24e\u001b[0m\n"
     ]
    },
    {
     "name": "stdout",
     "output_type": "stream",
     "text": [
      "Precision: 0.9711538461538461 \n",
      "Recall: 0.9837662337662337 \n",
      "Aging Rate: 0.542608695652174\n",
      "\u001b[32m[I 2021-10-09 16:46:08,006]\u001b[0m Trial 0 finished with value: 0.9303455030031644 and parameters: {'n_estimators': 250, 'subsample': 0.9, 'min_child_weight': 6, 'max_depth': 11, 'learning_rate': 0.32500000000000007, 'reg_alpha': 0.00018909110486774883, 'reg_lambda': 0.0001161963165888302}. Best is trial 0 with value: 0.9303455030031644.\u001b[0m\n",
      "Sampler is TPESampler\n",
      "Dataset7 :\n"
     ]
    },
    {
     "name": "stderr",
     "output_type": "stream",
     "text": [
      "C:\\Users\\user\\anaconda3\\envs\\aging\\lib\\site-packages\\optuna\\progress_bar.py:47: ExperimentalWarning: Progress bar is experimental (supported from v1.2.0). The interface can change in the future.\n",
      "  self._init_valid()\n"
     ]
    },
    {
     "data": {
      "application/vnd.jupyter.widget-view+json": {
       "model_id": "785f152e284c4b3b81ac8bb56ca1ce8d",
       "version_major": 2,
       "version_minor": 0
      },
      "text/plain": [
       "  0%|          | 0/1 [00:00<?, ?it/s]"
      ]
     },
     "metadata": {},
     "output_type": "display_data"
    },
    {
     "name": "stderr",
     "output_type": "stream",
     "text": [
      "C:\\Users\\user\\anaconda3\\envs\\aging\\lib\\site-packages\\xgboost\\sklearn.py:1146: UserWarning: The use of label encoder in XGBClassifier is deprecated and will be removed in a future release. To remove this warning, do the following: 1) Pass option use_label_encoder=False when constructing XGBClassifier object; and 2) Encode your labels (y) as integers starting with 0, i.e. 0, 1, 2, ..., [num_class - 1].\n",
      "  warnings.warn(label_encoder_deprecation_msg, UserWarning)\n"
     ]
    },
    {
     "name": "stdout",
     "output_type": "stream",
     "text": [
      "[16:46:08] WARNING: C:/Users/Administrator/workspace/xgboost-win64_release_1.4.0/src/learner.cc:1095: Starting in XGBoost 1.3.0, the default evaluation metric used with the objective 'binary:logistic' was changed from 'error' to 'logloss'. Explicitly set eval_metric if you'd like to restore the old behavior.\n"
     ]
    },
    {
     "name": "stderr",
     "output_type": "stream",
     "text": [
      "C:\\Users\\user\\anaconda3\\envs\\aging\\lib\\site-packages\\pandas\\core\\computation\\expressions.py:205: UserWarning: evaluating in Python space because the '*' operator is not supported by numexpr for the bool dtype, use '&' instead\n",
      "  f\"evaluating in Python space because the {repr(op_str)} \"\n",
      "C:\\Users\\user\\anaconda3\\envs\\aging\\lib\\site-packages\\pandas\\core\\computation\\expressions.py:205: UserWarning: evaluating in Python space because the '*' operator is not supported by numexpr for the bool dtype, use '&' instead\n",
      "  f\"evaluating in Python space because the {repr(op_str)} \"\n",
      "C:\\Users\\user\\anaconda3\\envs\\aging\\lib\\site-packages\\xgboost\\sklearn.py:1146: UserWarning: The use of label encoder in XGBClassifier is deprecated and will be removed in a future release. To remove this warning, do the following: 1) Pass option use_label_encoder=False when constructing XGBClassifier object; and 2) Encode your labels (y) as integers starting with 0, i.e. 0, 1, 2, ..., [num_class - 1].\n",
      "  warnings.warn(label_encoder_deprecation_msg, UserWarning)\n"
     ]
    },
    {
     "name": "stdout",
     "output_type": "stream",
     "text": [
      "Precision: 0.9920634920634921 \n",
      "Recall: 0.9191176470588235 \n",
      "Aging Rate: 0.48\n",
      "[16:46:08] WARNING: C:/Users/Administrator/workspace/xgboost-win64_release_1.4.0/src/learner.cc:1095: Starting in XGBoost 1.3.0, the default evaluation metric used with the objective 'binary:logistic' was changed from 'error' to 'logloss'. Explicitly set eval_metric if you'd like to restore the old behavior.\n",
      "Precision: 0.9957983193277311 \n",
      "Recall: 0.8943396226415095 \n",
      "Aging Rate: 0.4533333333333333\n",
      "[16:46:08] WARNING: C:/Users/Administrator/workspace/xgboost-win64_release_1.4.0/src/learner.cc:1095: Starting in XGBoost 1.3.0, the default evaluation metric used with the objective 'binary:logistic' was changed from 'error' to 'logloss'. Explicitly set eval_metric if you'd like to restore the old behavior.\n"
     ]
    },
    {
     "name": "stderr",
     "output_type": "stream",
     "text": [
      "C:\\Users\\user\\anaconda3\\envs\\aging\\lib\\site-packages\\pandas\\core\\computation\\expressions.py:205: UserWarning: evaluating in Python space because the '*' operator is not supported by numexpr for the bool dtype, use '&' instead\n",
      "  f\"evaluating in Python space because the {repr(op_str)} \"\n",
      "C:\\Users\\user\\anaconda3\\envs\\aging\\lib\\site-packages\\pandas\\core\\computation\\expressions.py:205: UserWarning: evaluating in Python space because the '*' operator is not supported by numexpr for the bool dtype, use '&' instead\n",
      "  f\"evaluating in Python space because the {repr(op_str)} \"\n",
      "C:\\Users\\user\\anaconda3\\envs\\aging\\lib\\site-packages\\xgboost\\sklearn.py:1146: UserWarning: The use of label encoder in XGBClassifier is deprecated and will be removed in a future release. To remove this warning, do the following: 1) Pass option use_label_encoder=False when constructing XGBClassifier object; and 2) Encode your labels (y) as integers starting with 0, i.e. 0, 1, 2, ..., [num_class - 1].\n",
      "  warnings.warn(label_encoder_deprecation_msg, UserWarning)\n",
      "C:\\Users\\user\\anaconda3\\envs\\aging\\lib\\site-packages\\pandas\\core\\computation\\expressions.py:205: UserWarning: evaluating in Python space because the '*' operator is not supported by numexpr for the bool dtype, use '&' instead\n",
      "  f\"evaluating in Python space because the {repr(op_str)} \"\n",
      "C:\\Users\\user\\anaconda3\\envs\\aging\\lib\\site-packages\\pandas\\core\\computation\\expressions.py:205: UserWarning: evaluating in Python space because the '*' operator is not supported by numexpr for the bool dtype, use '&' instead\n",
      "  f\"evaluating in Python space because the {repr(op_str)} \"\n",
      "\u001b[32m[I 2021-10-09 16:46:08,505]\u001b[0m A new study created in memory with name: no-name-aa219ea5-ad34-4631-a859-f4d8e99f6720\u001b[0m\n"
     ]
    },
    {
     "name": "stdout",
     "output_type": "stream",
     "text": [
      "Precision: 0.9919678714859438 \n",
      "Recall: 0.9216417910447762 \n",
      "Aging Rate: 0.4742857142857143\n",
      "\u001b[32m[I 2021-10-09 16:46:08,442]\u001b[0m Trial 0 finished with value: 0.8647790519944015 and parameters: {'n_estimators': 150, 'subsample': 0.9, 'min_child_weight': 21, 'max_depth': 7, 'learning_rate': 0.425, 'reg_alpha': 0.0007438892842643059, 'reg_lambda': 0.008334949226641887}. Best is trial 0 with value: 0.8647790519944015.\u001b[0m\n",
      "Sampler is TPESampler\n",
      "Dataset8 :\n"
     ]
    },
    {
     "name": "stderr",
     "output_type": "stream",
     "text": [
      "C:\\Users\\user\\anaconda3\\envs\\aging\\lib\\site-packages\\optuna\\progress_bar.py:47: ExperimentalWarning: Progress bar is experimental (supported from v1.2.0). The interface can change in the future.\n",
      "  self._init_valid()\n"
     ]
    },
    {
     "data": {
      "application/vnd.jupyter.widget-view+json": {
       "model_id": "b1b917ff54414c1c817339d5dfebc4af",
       "version_major": 2,
       "version_minor": 0
      },
      "text/plain": [
       "  0%|          | 0/1 [00:00<?, ?it/s]"
      ]
     },
     "metadata": {},
     "output_type": "display_data"
    },
    {
     "name": "stderr",
     "output_type": "stream",
     "text": [
      "C:\\Users\\user\\anaconda3\\envs\\aging\\lib\\site-packages\\xgboost\\sklearn.py:1146: UserWarning: The use of label encoder in XGBClassifier is deprecated and will be removed in a future release. To remove this warning, do the following: 1) Pass option use_label_encoder=False when constructing XGBClassifier object; and 2) Encode your labels (y) as integers starting with 0, i.e. 0, 1, 2, ..., [num_class - 1].\n",
      "  warnings.warn(label_encoder_deprecation_msg, UserWarning)\n"
     ]
    },
    {
     "name": "stdout",
     "output_type": "stream",
     "text": [
      "[16:46:08] WARNING: C:/Users/Administrator/workspace/xgboost-win64_release_1.4.0/src/learner.cc:1095: Starting in XGBoost 1.3.0, the default evaluation metric used with the objective 'binary:logistic' was changed from 'error' to 'logloss'. Explicitly set eval_metric if you'd like to restore the old behavior.\n"
     ]
    },
    {
     "name": "stderr",
     "output_type": "stream",
     "text": [
      "C:\\Users\\user\\anaconda3\\envs\\aging\\lib\\site-packages\\pandas\\core\\computation\\expressions.py:205: UserWarning: evaluating in Python space because the '*' operator is not supported by numexpr for the bool dtype, use '&' instead\n",
      "  f\"evaluating in Python space because the {repr(op_str)} \"\n",
      "C:\\Users\\user\\anaconda3\\envs\\aging\\lib\\site-packages\\pandas\\core\\computation\\expressions.py:205: UserWarning: evaluating in Python space because the '*' operator is not supported by numexpr for the bool dtype, use '&' instead\n",
      "  f\"evaluating in Python space because the {repr(op_str)} \"\n",
      "C:\\Users\\user\\anaconda3\\envs\\aging\\lib\\site-packages\\xgboost\\sklearn.py:1146: UserWarning: The use of label encoder in XGBClassifier is deprecated and will be removed in a future release. To remove this warning, do the following: 1) Pass option use_label_encoder=False when constructing XGBClassifier object; and 2) Encode your labels (y) as integers starting with 0, i.e. 0, 1, 2, ..., [num_class - 1].\n",
      "  warnings.warn(label_encoder_deprecation_msg, UserWarning)\n"
     ]
    },
    {
     "name": "stdout",
     "output_type": "stream",
     "text": [
      "Precision: 0.9649805447470817 \n",
      "Recall: 0.9649805447470817 \n",
      "Aging Rate: 0.4895238095238095\n",
      "[16:46:08] WARNING: C:/Users/Administrator/workspace/xgboost-win64_release_1.4.0/src/learner.cc:1095: Starting in XGBoost 1.3.0, the default evaluation metric used with the objective 'binary:logistic' was changed from 'error' to 'logloss'. Explicitly set eval_metric if you'd like to restore the old behavior.\n"
     ]
    },
    {
     "name": "stderr",
     "output_type": "stream",
     "text": [
      "C:\\Users\\user\\anaconda3\\envs\\aging\\lib\\site-packages\\pandas\\core\\computation\\expressions.py:205: UserWarning: evaluating in Python space because the '*' operator is not supported by numexpr for the bool dtype, use '&' instead\n",
      "  f\"evaluating in Python space because the {repr(op_str)} \"\n",
      "C:\\Users\\user\\anaconda3\\envs\\aging\\lib\\site-packages\\pandas\\core\\computation\\expressions.py:205: UserWarning: evaluating in Python space because the '*' operator is not supported by numexpr for the bool dtype, use '&' instead\n",
      "  f\"evaluating in Python space because the {repr(op_str)} \"\n",
      "C:\\Users\\user\\anaconda3\\envs\\aging\\lib\\site-packages\\xgboost\\sklearn.py:1146: UserWarning: The use of label encoder in XGBClassifier is deprecated and will be removed in a future release. To remove this warning, do the following: 1) Pass option use_label_encoder=False when constructing XGBClassifier object; and 2) Encode your labels (y) as integers starting with 0, i.e. 0, 1, 2, ..., [num_class - 1].\n",
      "  warnings.warn(label_encoder_deprecation_msg, UserWarning)\n"
     ]
    },
    {
     "name": "stdout",
     "output_type": "stream",
     "text": [
      "Precision: 0.95703125 \n",
      "Recall: 0.9722222222222222 \n",
      "Aging Rate: 0.4876190476190476\n",
      "[16:46:08] WARNING: C:/Users/Administrator/workspace/xgboost-win64_release_1.4.0/src/learner.cc:1095: Starting in XGBoost 1.3.0, the default evaluation metric used with the objective 'binary:logistic' was changed from 'error' to 'logloss'. Explicitly set eval_metric if you'd like to restore the old behavior.\n"
     ]
    },
    {
     "name": "stderr",
     "output_type": "stream",
     "text": [
      "C:\\Users\\user\\anaconda3\\envs\\aging\\lib\\site-packages\\pandas\\core\\computation\\expressions.py:205: UserWarning: evaluating in Python space because the '*' operator is not supported by numexpr for the bool dtype, use '&' instead\n",
      "  f\"evaluating in Python space because the {repr(op_str)} \"\n",
      "C:\\Users\\user\\anaconda3\\envs\\aging\\lib\\site-packages\\pandas\\core\\computation\\expressions.py:205: UserWarning: evaluating in Python space because the '*' operator is not supported by numexpr for the bool dtype, use '&' instead\n",
      "  f\"evaluating in Python space because the {repr(op_str)} \"\n"
     ]
    },
    {
     "name": "stdout",
     "output_type": "stream",
     "text": [
      "Precision: 0.9302325581395349 \n",
      "Recall: 0.96 \n",
      "Aging Rate: 0.49142857142857144\n",
      "\u001b[32m[I 2021-10-09 16:46:08,925]\u001b[0m Trial 0 finished with value: 0.9167818747040538 and parameters: {'n_estimators': 150, 'subsample': 0.7, 'min_child_weight': 18, 'max_depth': 11, 'learning_rate': 0.37500000000000006, 'reg_alpha': 0.2028629381877449, 'reg_lambda': 0.023457958925154728}. Best is trial 0 with value: 0.9167818747040538.\u001b[0m\n"
     ]
    },
    {
     "name": "stderr",
     "output_type": "stream",
     "text": [
      "\u001b[32m[I 2021-10-09 16:46:08,990]\u001b[0m A new study created in memory with name: no-name-e710c4df-1a97-4dd4-8da4-68524448976e\u001b[0m\n"
     ]
    },
    {
     "name": "stdout",
     "output_type": "stream",
     "text": [
      "Sampler is TPESampler\n",
      "Dataset9 :\n"
     ]
    },
    {
     "name": "stderr",
     "output_type": "stream",
     "text": [
      "C:\\Users\\user\\anaconda3\\envs\\aging\\lib\\site-packages\\optuna\\progress_bar.py:47: ExperimentalWarning: Progress bar is experimental (supported from v1.2.0). The interface can change in the future.\n",
      "  self._init_valid()\n"
     ]
    },
    {
     "data": {
      "application/vnd.jupyter.widget-view+json": {
       "model_id": "8ba33d0984764b75a13dafcd2e3e027a",
       "version_major": 2,
       "version_minor": 0
      },
      "text/plain": [
       "  0%|          | 0/1 [00:00<?, ?it/s]"
      ]
     },
     "metadata": {},
     "output_type": "display_data"
    },
    {
     "name": "stdout",
     "output_type": "stream",
     "text": [
      "[16:46:09] WARNING: C:/Users/Administrator/workspace/xgboost-win64_release_1.4.0/src/learner.cc:1095: Starting in XGBoost 1.3.0, the default evaluation metric used with the objective 'binary:logistic' was changed from 'error' to 'logloss'. Explicitly set eval_metric if you'd like to restore the old behavior.\n",
      "Precision: 0.8 \n",
      "Recall: 0.16666666666666666 \n",
      "Aging Rate: 0.01730103806228374\n",
      "[16:46:09] WARNING: C:/Users/Administrator/workspace/xgboost-win64_release_1.4.0/src/learner.cc:1095: Starting in XGBoost 1.3.0, the default evaluation metric used with the objective 'binary:logistic' was changed from 'error' to 'logloss'. Explicitly set eval_metric if you'd like to restore the old behavior.\n"
     ]
    },
    {
     "name": "stderr",
     "output_type": "stream",
     "text": [
      "C:\\Users\\user\\anaconda3\\envs\\aging\\lib\\site-packages\\xgboost\\sklearn.py:1146: UserWarning: The use of label encoder in XGBClassifier is deprecated and will be removed in a future release. To remove this warning, do the following: 1) Pass option use_label_encoder=False when constructing XGBClassifier object; and 2) Encode your labels (y) as integers starting with 0, i.e. 0, 1, 2, ..., [num_class - 1].\n",
      "  warnings.warn(label_encoder_deprecation_msg, UserWarning)\n",
      "C:\\Users\\user\\anaconda3\\envs\\aging\\lib\\site-packages\\pandas\\core\\computation\\expressions.py:205: UserWarning: evaluating in Python space because the '*' operator is not supported by numexpr for the bool dtype, use '&' instead\n",
      "  f\"evaluating in Python space because the {repr(op_str)} \"\n",
      "C:\\Users\\user\\anaconda3\\envs\\aging\\lib\\site-packages\\pandas\\core\\computation\\expressions.py:205: UserWarning: evaluating in Python space because the '*' operator is not supported by numexpr for the bool dtype, use '&' instead\n",
      "  f\"evaluating in Python space because the {repr(op_str)} \"\n",
      "C:\\Users\\user\\anaconda3\\envs\\aging\\lib\\site-packages\\xgboost\\sklearn.py:1146: UserWarning: The use of label encoder in XGBClassifier is deprecated and will be removed in a future release. To remove this warning, do the following: 1) Pass option use_label_encoder=False when constructing XGBClassifier object; and 2) Encode your labels (y) as integers starting with 0, i.e. 0, 1, 2, ..., [num_class - 1].\n",
      "  warnings.warn(label_encoder_deprecation_msg, UserWarning)\n",
      "C:\\Users\\user\\anaconda3\\envs\\aging\\lib\\site-packages\\pandas\\core\\computation\\expressions.py:205: UserWarning: evaluating in Python space because the '*' operator is not supported by numexpr for the bool dtype, use '&' instead\n",
      "  f\"evaluating in Python space because the {repr(op_str)} \"\n",
      "C:\\Users\\user\\anaconda3\\envs\\aging\\lib\\site-packages\\pandas\\core\\computation\\expressions.py:205: UserWarning: evaluating in Python space because the '*' operator is not supported by numexpr for the bool dtype, use '&' instead\n",
      "  f\"evaluating in Python space because the {repr(op_str)} \"\n",
      "C:\\Users\\user\\anaconda3\\envs\\aging\\lib\\site-packages\\xgboost\\sklearn.py:1146: UserWarning: The use of label encoder in XGBClassifier is deprecated and will be removed in a future release. To remove this warning, do the following: 1) Pass option use_label_encoder=False when constructing XGBClassifier object; and 2) Encode your labels (y) as integers starting with 0, i.e. 0, 1, 2, ..., [num_class - 1].\n",
      "  warnings.warn(label_encoder_deprecation_msg, UserWarning)\n"
     ]
    },
    {
     "name": "stdout",
     "output_type": "stream",
     "text": [
      "Precision: 1.0 \n",
      "Recall: 0.19230769230769232 \n",
      "Aging Rate: 0.01730103806228374\n",
      "[16:46:09] WARNING: C:/Users/Administrator/workspace/xgboost-win64_release_1.4.0/src/learner.cc:1095: Starting in XGBoost 1.3.0, the default evaluation metric used with the objective 'binary:logistic' was changed from 'error' to 'logloss'. Explicitly set eval_metric if you'd like to restore the old behavior.\n"
     ]
    },
    {
     "name": "stderr",
     "output_type": "stream",
     "text": [
      "C:\\Users\\user\\anaconda3\\envs\\aging\\lib\\site-packages\\pandas\\core\\computation\\expressions.py:205: UserWarning: evaluating in Python space because the '*' operator is not supported by numexpr for the bool dtype, use '&' instead\n",
      "  f\"evaluating in Python space because the {repr(op_str)} \"\n",
      "C:\\Users\\user\\anaconda3\\envs\\aging\\lib\\site-packages\\pandas\\core\\computation\\expressions.py:205: UserWarning: evaluating in Python space because the '*' operator is not supported by numexpr for the bool dtype, use '&' instead\n",
      "  f\"evaluating in Python space because the {repr(op_str)} \"\n"
     ]
    },
    {
     "name": "stdout",
     "output_type": "stream",
     "text": [
      "Precision: 1.0 \n",
      "Recall: 0.11538461538461539 \n",
      "Aging Rate: 0.010380622837370242\n",
      "\u001b[32m[I 2021-10-09 16:46:09,225]\u001b[0m Trial 0 finished with value: 0.15662023482092688 and parameters: {'n_estimators': 100, 'subsample': 0.5, 'min_child_weight': 9, 'max_depth': 7, 'learning_rate': 0.225, 'reg_alpha': 0.0019339689333296912, 'reg_lambda': 0.6218304330115361}. Best is trial 0 with value: 0.15662023482092688.\u001b[0m\n",
      "Sampler is TPESampler\n"
     ]
    },
    {
     "data": {
      "application/vnd.jupyter.widget-view+json": {
       "model_id": "e2cfd7d0b579486da2a97834f3862de4",
       "version_major": 2,
       "version_minor": 0
      },
      "text/plain": [
       "  0%|          | 0/10 [00:00<?, ?it/s]"
      ]
     },
     "metadata": {},
     "output_type": "display_data"
    },
    {
     "name": "stderr",
     "output_type": "stream",
     "text": [
      "\u001b[32m[I 2021-10-09 16:46:09,324]\u001b[0m A new study created in memory with name: no-name-19d66ba3-a83e-43c6-a43c-004862f435e4\u001b[0m\n"
     ]
    },
    {
     "name": "stdout",
     "output_type": "stream",
     "text": [
      "Dataset0 :\n"
     ]
    },
    {
     "name": "stderr",
     "output_type": "stream",
     "text": [
      "C:\\Users\\user\\anaconda3\\envs\\aging\\lib\\site-packages\\optuna\\progress_bar.py:47: ExperimentalWarning: Progress bar is experimental (supported from v1.2.0). The interface can change in the future.\n",
      "  self._init_valid()\n"
     ]
    },
    {
     "data": {
      "application/vnd.jupyter.widget-view+json": {
       "model_id": "f6e80a1661464a03815f42726b513d19",
       "version_major": 2,
       "version_minor": 0
      },
      "text/plain": [
       "  0%|          | 0/1 [00:00<?, ?it/s]"
      ]
     },
     "metadata": {},
     "output_type": "display_data"
    },
    {
     "name": "stderr",
     "output_type": "stream",
     "text": [
      "C:\\Users\\user\\anaconda3\\envs\\aging\\lib\\site-packages\\pandas\\core\\computation\\expressions.py:205: UserWarning: evaluating in Python space because the '*' operator is not supported by numexpr for the bool dtype, use '&' instead\n",
      "  f\"evaluating in Python space because the {repr(op_str)} \"\n",
      "C:\\Users\\user\\anaconda3\\envs\\aging\\lib\\site-packages\\pandas\\core\\computation\\expressions.py:205: UserWarning: evaluating in Python space because the '*' operator is not supported by numexpr for the bool dtype, use '&' instead\n",
      "  f\"evaluating in Python space because the {repr(op_str)} \"\n"
     ]
    },
    {
     "name": "stdout",
     "output_type": "stream",
     "text": [
      "Precision: 1.0 \n",
      "Recall: 0.19047619047619047 \n",
      "Aging Rate: 0.0002770850651149903\n"
     ]
    },
    {
     "name": "stderr",
     "output_type": "stream",
     "text": [
      "C:\\Users\\user\\anaconda3\\envs\\aging\\lib\\site-packages\\pandas\\core\\computation\\expressions.py:205: UserWarning: evaluating in Python space because the '*' operator is not supported by numexpr for the bool dtype, use '&' instead\n",
      "  f\"evaluating in Python space because the {repr(op_str)} \"\n",
      "C:\\Users\\user\\anaconda3\\envs\\aging\\lib\\site-packages\\pandas\\core\\computation\\expressions.py:205: UserWarning: evaluating in Python space because the '*' operator is not supported by numexpr for the bool dtype, use '&' instead\n",
      "  f\"evaluating in Python space because the {repr(op_str)} \"\n"
     ]
    },
    {
     "name": "stdout",
     "output_type": "stream",
     "text": [
      "Precision: 0.875 \n",
      "Recall: 0.2413793103448276 \n",
      "Aging Rate: 0.0005541701302299807\n"
     ]
    },
    {
     "name": "stderr",
     "output_type": "stream",
     "text": [
      "C:\\Users\\user\\anaconda3\\envs\\aging\\lib\\site-packages\\pandas\\core\\computation\\expressions.py:205: UserWarning: evaluating in Python space because the '*' operator is not supported by numexpr for the bool dtype, use '&' instead\n",
      "  f\"evaluating in Python space because the {repr(op_str)} \"\n",
      "C:\\Users\\user\\anaconda3\\envs\\aging\\lib\\site-packages\\pandas\\core\\computation\\expressions.py:205: UserWarning: evaluating in Python space because the '*' operator is not supported by numexpr for the bool dtype, use '&' instead\n",
      "  f\"evaluating in Python space because the {repr(op_str)} \"\n",
      "\u001b[32m[I 2021-10-09 16:46:10,149]\u001b[0m A new study created in memory with name: no-name-cdd7d9fa-34e7-4ac3-8530-dad15db38304\u001b[0m\n"
     ]
    },
    {
     "name": "stdout",
     "output_type": "stream",
     "text": [
      "Precision: 0.75 \n",
      "Recall: 0.23076923076923078 \n",
      "Aging Rate: 0.0005541701302299807\n",
      "\u001b[32m[I 2021-10-09 16:46:10,080]\u001b[0m Trial 0 finished with value: 0.22082872968589715 and parameters: {'objective': 'binary', 'boosting_type': 'gbdt', 'n_estimators': 250, 'subsample': 0.5, 'num_leaves': 30, 'min_child_samples': 18, 'max_depth': 3, 'learning_rate': 0.125, 'reg_alpha': 0.00011770674535668806, 'reg_lambda': 0.041594643787746834}. Best is trial 0 with value: 0.22082872968589715.\u001b[0m\n",
      "Sampler is TPESampler\n",
      "Dataset1 :\n"
     ]
    },
    {
     "name": "stderr",
     "output_type": "stream",
     "text": [
      "C:\\Users\\user\\anaconda3\\envs\\aging\\lib\\site-packages\\optuna\\progress_bar.py:47: ExperimentalWarning: Progress bar is experimental (supported from v1.2.0). The interface can change in the future.\n",
      "  self._init_valid()\n"
     ]
    },
    {
     "data": {
      "application/vnd.jupyter.widget-view+json": {
       "model_id": "55869d4854434c69a2f926eb3fb576e3",
       "version_major": 2,
       "version_minor": 0
      },
      "text/plain": [
       "  0%|          | 0/1 [00:00<?, ?it/s]"
      ]
     },
     "metadata": {},
     "output_type": "display_data"
    },
    {
     "name": "stderr",
     "output_type": "stream",
     "text": [
      "C:\\Users\\user\\anaconda3\\envs\\aging\\lib\\site-packages\\pandas\\core\\computation\\expressions.py:205: UserWarning: evaluating in Python space because the '*' operator is not supported by numexpr for the bool dtype, use '&' instead\n",
      "  f\"evaluating in Python space because the {repr(op_str)} \"\n",
      "C:\\Users\\user\\anaconda3\\envs\\aging\\lib\\site-packages\\pandas\\core\\computation\\expressions.py:205: UserWarning: evaluating in Python space because the '*' operator is not supported by numexpr for the bool dtype, use '&' instead\n",
      "  f\"evaluating in Python space because the {repr(op_str)} \"\n"
     ]
    },
    {
     "name": "stdout",
     "output_type": "stream",
     "text": [
      "Precision: 0.9754901960784313 \n",
      "Recall: 0.9900497512437811 \n",
      "Aging Rate: 0.4657534246575342\n"
     ]
    },
    {
     "name": "stderr",
     "output_type": "stream",
     "text": [
      "C:\\Users\\user\\anaconda3\\envs\\aging\\lib\\site-packages\\pandas\\core\\computation\\expressions.py:205: UserWarning: evaluating in Python space because the '*' operator is not supported by numexpr for the bool dtype, use '&' instead\n",
      "  f\"evaluating in Python space because the {repr(op_str)} \"\n",
      "C:\\Users\\user\\anaconda3\\envs\\aging\\lib\\site-packages\\pandas\\core\\computation\\expressions.py:205: UserWarning: evaluating in Python space because the '*' operator is not supported by numexpr for the bool dtype, use '&' instead\n",
      "  f\"evaluating in Python space because the {repr(op_str)} \"\n",
      "C:\\Users\\user\\anaconda3\\envs\\aging\\lib\\site-packages\\pandas\\core\\computation\\expressions.py:205: UserWarning: evaluating in Python space because the '*' operator is not supported by numexpr for the bool dtype, use '&' instead\n",
      "  f\"evaluating in Python space because the {repr(op_str)} \"\n",
      "C:\\Users\\user\\anaconda3\\envs\\aging\\lib\\site-packages\\pandas\\core\\computation\\expressions.py:205: UserWarning: evaluating in Python space because the '*' operator is not supported by numexpr for the bool dtype, use '&' instead\n",
      "  f\"evaluating in Python space because the {repr(op_str)} \"\n"
     ]
    },
    {
     "name": "stdout",
     "output_type": "stream",
     "text": [
      "Precision: 0.9864253393665159 \n",
      "Recall: 0.9954337899543378 \n",
      "Aging Rate: 0.5045662100456622\n",
      "Precision: 0.9954337899543378 \n",
      "Recall: 0.990909090909091 \n",
      "Aging Rate: 0.5\n",
      "\u001b[32m[I 2021-10-09 16:46:10,380]\u001b[0m Trial 0 finished with value: 0.9431202228789634 and parameters: {'objective': 'cross_entropy', 'boosting_type': 'gbdt', 'n_estimators': 300, 'subsample': 0.7, 'num_leaves': 40, 'min_child_samples': 9, 'max_depth': 9, 'learning_rate': 0.07500000000000001, 'reg_alpha': 0.33361602831707093, 'reg_lambda': 0.0027595875411915625}. Best is trial 0 with value: 0.9431202228789634.\u001b[0m\n"
     ]
    },
    {
     "name": "stderr",
     "output_type": "stream",
     "text": [
      "\u001b[32m[I 2021-10-09 16:46:10,457]\u001b[0m A new study created in memory with name: no-name-3b7d4f53-7f12-477c-81ea-0299f8773711\u001b[0m\n"
     ]
    },
    {
     "name": "stdout",
     "output_type": "stream",
     "text": [
      "Sampler is TPESampler\n",
      "Dataset2 :\n"
     ]
    },
    {
     "name": "stderr",
     "output_type": "stream",
     "text": [
      "C:\\Users\\user\\anaconda3\\envs\\aging\\lib\\site-packages\\optuna\\progress_bar.py:47: ExperimentalWarning: Progress bar is experimental (supported from v1.2.0). The interface can change in the future.\n",
      "  self._init_valid()\n"
     ]
    },
    {
     "data": {
      "application/vnd.jupyter.widget-view+json": {
       "model_id": "bfbce006393c4e47a686af1a2328b426",
       "version_major": 2,
       "version_minor": 0
      },
      "text/plain": [
       "  0%|          | 0/1 [00:00<?, ?it/s]"
      ]
     },
     "metadata": {},
     "output_type": "display_data"
    },
    {
     "name": "stderr",
     "output_type": "stream",
     "text": [
      "C:\\Users\\user\\anaconda3\\envs\\aging\\lib\\site-packages\\pandas\\core\\computation\\expressions.py:205: UserWarning: evaluating in Python space because the '*' operator is not supported by numexpr for the bool dtype, use '&' instead\n",
      "  f\"evaluating in Python space because the {repr(op_str)} \"\n",
      "C:\\Users\\user\\anaconda3\\envs\\aging\\lib\\site-packages\\pandas\\core\\computation\\expressions.py:205: UserWarning: evaluating in Python space because the '*' operator is not supported by numexpr for the bool dtype, use '&' instead\n",
      "  f\"evaluating in Python space because the {repr(op_str)} \"\n",
      "C:\\Users\\user\\anaconda3\\envs\\aging\\lib\\site-packages\\pandas\\core\\computation\\expressions.py:205: UserWarning: evaluating in Python space because the '*' operator is not supported by numexpr for the bool dtype, use '&' instead\n",
      "  f\"evaluating in Python space because the {repr(op_str)} \"\n",
      "C:\\Users\\user\\anaconda3\\envs\\aging\\lib\\site-packages\\pandas\\core\\computation\\expressions.py:205: UserWarning: evaluating in Python space because the '*' operator is not supported by numexpr for the bool dtype, use '&' instead\n",
      "  f\"evaluating in Python space because the {repr(op_str)} \"\n",
      "C:\\Users\\user\\anaconda3\\envs\\aging\\lib\\site-packages\\pandas\\core\\computation\\expressions.py:205: UserWarning: evaluating in Python space because the '*' operator is not supported by numexpr for the bool dtype, use '&' instead\n",
      "  f\"evaluating in Python space because the {repr(op_str)} \"\n",
      "C:\\Users\\user\\anaconda3\\envs\\aging\\lib\\site-packages\\pandas\\core\\computation\\expressions.py:205: UserWarning: evaluating in Python space because the '*' operator is not supported by numexpr for the bool dtype, use '&' instead\n",
      "  f\"evaluating in Python space because the {repr(op_str)} \"\n"
     ]
    },
    {
     "name": "stdout",
     "output_type": "stream",
     "text": [
      "Precision: 0.9720496894409938 \n",
      "Recall: 0.9811912225705329 \n",
      "Aging Rate: 0.5168539325842697\n",
      "Precision: 0.9876160990712074 \n",
      "Recall: 1.0 \n",
      "Aging Rate: 0.5184590690208668\n",
      "Precision: 0.9833333333333333 \n",
      "Recall: 0.9833333333333333 \n",
      "Aging Rate: 0.48154093097913325\n",
      "\u001b[32m[I 2021-10-09 16:46:10,681]\u001b[0m Trial 0 finished with value: 0.9376130542151464 and parameters: {'objective': 'binary', 'boosting_type': 'gbdt', 'n_estimators': 300, 'subsample': 0.7, 'num_leaves': 10, 'min_child_samples': 12, 'max_depth': 5, 'learning_rate': 0.37500000000000006, 'reg_alpha': 0.00037265214760806434, 'reg_lambda': 0.7316712309621286}. Best is trial 0 with value: 0.9376130542151464.\u001b[0m\n"
     ]
    },
    {
     "name": "stderr",
     "output_type": "stream",
     "text": [
      "\u001b[32m[I 2021-10-09 16:46:10,748]\u001b[0m A new study created in memory with name: no-name-efc56185-91e8-4f0b-8cb6-9743f8dbdc8a\u001b[0m\n"
     ]
    },
    {
     "name": "stdout",
     "output_type": "stream",
     "text": [
      "Sampler is TPESampler\n",
      "Dataset3 :\n"
     ]
    },
    {
     "name": "stderr",
     "output_type": "stream",
     "text": [
      "C:\\Users\\user\\anaconda3\\envs\\aging\\lib\\site-packages\\optuna\\progress_bar.py:47: ExperimentalWarning: Progress bar is experimental (supported from v1.2.0). The interface can change in the future.\n",
      "  self._init_valid()\n"
     ]
    },
    {
     "data": {
      "application/vnd.jupyter.widget-view+json": {
       "model_id": "9ddd9af31a9b45b9b4adec1ed0e6eb67",
       "version_major": 2,
       "version_minor": 0
      },
      "text/plain": [
       "  0%|          | 0/1 [00:00<?, ?it/s]"
      ]
     },
     "metadata": {},
     "output_type": "display_data"
    },
    {
     "name": "stderr",
     "output_type": "stream",
     "text": [
      "C:\\Users\\user\\anaconda3\\envs\\aging\\lib\\site-packages\\pandas\\core\\computation\\expressions.py:205: UserWarning: evaluating in Python space because the '*' operator is not supported by numexpr for the bool dtype, use '&' instead\n",
      "  f\"evaluating in Python space because the {repr(op_str)} \"\n",
      "C:\\Users\\user\\anaconda3\\envs\\aging\\lib\\site-packages\\pandas\\core\\computation\\expressions.py:205: UserWarning: evaluating in Python space because the '*' operator is not supported by numexpr for the bool dtype, use '&' instead\n",
      "  f\"evaluating in Python space because the {repr(op_str)} \"\n",
      "C:\\Users\\user\\anaconda3\\envs\\aging\\lib\\site-packages\\pandas\\core\\computation\\expressions.py:205: UserWarning: evaluating in Python space because the '*' operator is not supported by numexpr for the bool dtype, use '&' instead\n",
      "  f\"evaluating in Python space because the {repr(op_str)} \"\n",
      "C:\\Users\\user\\anaconda3\\envs\\aging\\lib\\site-packages\\pandas\\core\\computation\\expressions.py:205: UserWarning: evaluating in Python space because the '*' operator is not supported by numexpr for the bool dtype, use '&' instead\n",
      "  f\"evaluating in Python space because the {repr(op_str)} \"\n",
      "C:\\Users\\user\\anaconda3\\envs\\aging\\lib\\site-packages\\pandas\\core\\computation\\expressions.py:205: UserWarning: evaluating in Python space because the '*' operator is not supported by numexpr for the bool dtype, use '&' instead\n",
      "  f\"evaluating in Python space because the {repr(op_str)} \"\n",
      "C:\\Users\\user\\anaconda3\\envs\\aging\\lib\\site-packages\\pandas\\core\\computation\\expressions.py:205: UserWarning: evaluating in Python space because the '*' operator is not supported by numexpr for the bool dtype, use '&' instead\n",
      "  f\"evaluating in Python space because the {repr(op_str)} \"\n",
      "\u001b[32m[I 2021-10-09 16:46:10,986]\u001b[0m A new study created in memory with name: no-name-1fdcd3aa-7ac2-4c93-85e9-bfbad7637f1c\u001b[0m\n"
     ]
    },
    {
     "name": "stdout",
     "output_type": "stream",
     "text": [
      "Precision: 1.0 \n",
      "Recall: 0.9401709401709402 \n",
      "Aging Rate: 0.45454545454545453\n",
      "Precision: 0.9956140350877193 \n",
      "Recall: 0.9659574468085106 \n",
      "Aging Rate: 0.47107438016528924\n",
      "Precision: 0.9957446808510638 \n",
      "Recall: 0.970954356846473 \n",
      "Aging Rate: 0.4855371900826446\n",
      "\u001b[32m[I 2021-10-09 16:46:10,911]\u001b[0m Trial 0 finished with value: 0.911989013782195 and parameters: {'objective': 'binary', 'boosting_type': 'goss', 'n_estimators': 150, 'subsample': 0.7, 'num_leaves': 10, 'min_child_samples': 21, 'max_depth': 3, 'learning_rate': 0.225, 'reg_alpha': 2.0609458917630823, 'reg_lambda': 0.0016378843184963526}. Best is trial 0 with value: 0.911989013782195.\u001b[0m\n",
      "Sampler is TPESampler\n",
      "Dataset4 :\n"
     ]
    },
    {
     "name": "stderr",
     "output_type": "stream",
     "text": [
      "C:\\Users\\user\\anaconda3\\envs\\aging\\lib\\site-packages\\optuna\\progress_bar.py:47: ExperimentalWarning: Progress bar is experimental (supported from v1.2.0). The interface can change in the future.\n",
      "  self._init_valid()\n"
     ]
    },
    {
     "data": {
      "application/vnd.jupyter.widget-view+json": {
       "model_id": "e1ef54813aff4f868444b53a217791bc",
       "version_major": 2,
       "version_minor": 0
      },
      "text/plain": [
       "  0%|          | 0/1 [00:00<?, ?it/s]"
      ]
     },
     "metadata": {},
     "output_type": "display_data"
    },
    {
     "name": "stderr",
     "output_type": "stream",
     "text": [
      "C:\\Users\\user\\anaconda3\\envs\\aging\\lib\\site-packages\\pandas\\core\\computation\\expressions.py:205: UserWarning: evaluating in Python space because the '*' operator is not supported by numexpr for the bool dtype, use '&' instead\n",
      "  f\"evaluating in Python space because the {repr(op_str)} \"\n",
      "C:\\Users\\user\\anaconda3\\envs\\aging\\lib\\site-packages\\pandas\\core\\computation\\expressions.py:205: UserWarning: evaluating in Python space because the '*' operator is not supported by numexpr for the bool dtype, use '&' instead\n",
      "  f\"evaluating in Python space because the {repr(op_str)} \"\n"
     ]
    },
    {
     "name": "stdout",
     "output_type": "stream",
     "text": [
      "Precision: 0.9852941176470589 \n",
      "Recall: 0.995049504950495 \n",
      "Aging Rate: 0.4722222222222222\n",
      "Precision: 0.9912280701754386 \n",
      "Recall: 0.9868995633187773 \n",
      "Aging Rate: 0.5277777777777778\n"
     ]
    },
    {
     "name": "stderr",
     "output_type": "stream",
     "text": [
      "C:\\Users\\user\\anaconda3\\envs\\aging\\lib\\site-packages\\pandas\\core\\computation\\expressions.py:205: UserWarning: evaluating in Python space because the '*' operator is not supported by numexpr for the bool dtype, use '&' instead\n",
      "  f\"evaluating in Python space because the {repr(op_str)} \"\n",
      "C:\\Users\\user\\anaconda3\\envs\\aging\\lib\\site-packages\\pandas\\core\\computation\\expressions.py:205: UserWarning: evaluating in Python space because the '*' operator is not supported by numexpr for the bool dtype, use '&' instead\n",
      "  f\"evaluating in Python space because the {repr(op_str)} \"\n",
      "C:\\Users\\user\\anaconda3\\envs\\aging\\lib\\site-packages\\pandas\\core\\computation\\expressions.py:205: UserWarning: evaluating in Python space because the '*' operator is not supported by numexpr for the bool dtype, use '&' instead\n",
      "  f\"evaluating in Python space because the {repr(op_str)} \"\n",
      "C:\\Users\\user\\anaconda3\\envs\\aging\\lib\\site-packages\\pandas\\core\\computation\\expressions.py:205: UserWarning: evaluating in Python space because the '*' operator is not supported by numexpr for the bool dtype, use '&' instead\n",
      "  f\"evaluating in Python space because the {repr(op_str)} \"\n",
      "\u001b[32m[I 2021-10-09 16:46:11,350]\u001b[0m A new study created in memory with name: no-name-59258d60-f779-4048-bc62-49acf82603ff\u001b[0m\n"
     ]
    },
    {
     "name": "stdout",
     "output_type": "stream",
     "text": [
      "Precision: 1.0 \n",
      "Recall: 0.9912280701754386 \n",
      "Aging Rate: 0.5231481481481481\n",
      "\u001b[32m[I 2021-10-09 16:46:11,288]\u001b[0m Trial 0 finished with value: 0.9402874412099652 and parameters: {'objective': 'binary', 'boosting_type': 'gbdt', 'n_estimators': 250, 'subsample': 0.7, 'num_leaves': 40, 'min_child_samples': 12, 'max_depth': 11, 'learning_rate': 0.125, 'reg_alpha': 0.00012586149784729673, 'reg_lambda': 0.005809674415666319}. Best is trial 0 with value: 0.9402874412099652.\u001b[0m\n",
      "Sampler is TPESampler\n",
      "Dataset5 :\n"
     ]
    },
    {
     "name": "stderr",
     "output_type": "stream",
     "text": [
      "C:\\Users\\user\\anaconda3\\envs\\aging\\lib\\site-packages\\optuna\\progress_bar.py:47: ExperimentalWarning: Progress bar is experimental (supported from v1.2.0). The interface can change in the future.\n",
      "  self._init_valid()\n"
     ]
    },
    {
     "data": {
      "application/vnd.jupyter.widget-view+json": {
       "model_id": "8c88bf76f0ca4bafa98ff62c0de68b24",
       "version_major": 2,
       "version_minor": 0
      },
      "text/plain": [
       "  0%|          | 0/1 [00:00<?, ?it/s]"
      ]
     },
     "metadata": {},
     "output_type": "display_data"
    },
    {
     "name": "stdout",
     "output_type": "stream",
     "text": [
      "Precision: 0.9926739926739927 \n",
      "Recall: 0.9963235294117647 \n",
      "Aging Rate: 0.5180265654648957\n"
     ]
    },
    {
     "name": "stderr",
     "output_type": "stream",
     "text": [
      "C:\\Users\\user\\anaconda3\\envs\\aging\\lib\\site-packages\\pandas\\core\\computation\\expressions.py:205: UserWarning: evaluating in Python space because the '*' operator is not supported by numexpr for the bool dtype, use '&' instead\n",
      "  f\"evaluating in Python space because the {repr(op_str)} \"\n",
      "C:\\Users\\user\\anaconda3\\envs\\aging\\lib\\site-packages\\pandas\\core\\computation\\expressions.py:205: UserWarning: evaluating in Python space because the '*' operator is not supported by numexpr for the bool dtype, use '&' instead\n",
      "  f\"evaluating in Python space because the {repr(op_str)} \"\n",
      "C:\\Users\\user\\anaconda3\\envs\\aging\\lib\\site-packages\\pandas\\core\\computation\\expressions.py:205: UserWarning: evaluating in Python space because the '*' operator is not supported by numexpr for the bool dtype, use '&' instead\n",
      "  f\"evaluating in Python space because the {repr(op_str)} \"\n",
      "C:\\Users\\user\\anaconda3\\envs\\aging\\lib\\site-packages\\pandas\\core\\computation\\expressions.py:205: UserWarning: evaluating in Python space because the '*' operator is not supported by numexpr for the bool dtype, use '&' instead\n",
      "  f\"evaluating in Python space because the {repr(op_str)} \"\n",
      "C:\\Users\\user\\anaconda3\\envs\\aging\\lib\\site-packages\\pandas\\core\\computation\\expressions.py:205: UserWarning: evaluating in Python space because the '*' operator is not supported by numexpr for the bool dtype, use '&' instead\n",
      "  f\"evaluating in Python space because the {repr(op_str)} \"\n",
      "C:\\Users\\user\\anaconda3\\envs\\aging\\lib\\site-packages\\pandas\\core\\computation\\expressions.py:205: UserWarning: evaluating in Python space because the '*' operator is not supported by numexpr for the bool dtype, use '&' instead\n",
      "  f\"evaluating in Python space because the {repr(op_str)} \"\n"
     ]
    },
    {
     "name": "stdout",
     "output_type": "stream",
     "text": [
      "Precision: 0.996309963099631 \n",
      "Recall: 1.0 \n",
      "Aging Rate: 0.5142314990512334\n",
      "Precision: 0.988929889298893 \n",
      "Recall: 0.9962825278810409 \n",
      "Aging Rate: 0.5142314990512334\n",
      "\u001b[32m[I 2021-10-09 16:46:11,595]\u001b[0m Trial 0 finished with value: 0.9459857003120232 and parameters: {'objective': 'cross_entropy', 'boosting_type': 'gbdt', 'n_estimators': 200, 'subsample': 0.7, 'num_leaves': 20, 'min_child_samples': 9, 'max_depth': 15, 'learning_rate': 0.225, 'reg_alpha': 0.0001832336340924495, 'reg_lambda': 0.019377980394909657}. Best is trial 0 with value: 0.9459857003120232.\u001b[0m\n"
     ]
    },
    {
     "name": "stderr",
     "output_type": "stream",
     "text": [
      "\u001b[32m[I 2021-10-09 16:46:11,660]\u001b[0m A new study created in memory with name: no-name-9ad03243-f676-47b1-a2ac-556e51db8944\u001b[0m\n"
     ]
    },
    {
     "name": "stdout",
     "output_type": "stream",
     "text": [
      "Sampler is TPESampler\n",
      "Dataset6 :\n"
     ]
    },
    {
     "name": "stderr",
     "output_type": "stream",
     "text": [
      "C:\\Users\\user\\anaconda3\\envs\\aging\\lib\\site-packages\\optuna\\progress_bar.py:47: ExperimentalWarning: Progress bar is experimental (supported from v1.2.0). The interface can change in the future.\n",
      "  self._init_valid()\n"
     ]
    },
    {
     "data": {
      "application/vnd.jupyter.widget-view+json": {
       "model_id": "683d879cf2124781b797cf97014f0b88",
       "version_major": 2,
       "version_minor": 0
      },
      "text/plain": [
       "  0%|          | 0/1 [00:00<?, ?it/s]"
      ]
     },
     "metadata": {},
     "output_type": "display_data"
    },
    {
     "name": "stderr",
     "output_type": "stream",
     "text": [
      "C:\\Users\\user\\anaconda3\\envs\\aging\\lib\\site-packages\\pandas\\core\\computation\\expressions.py:205: UserWarning: evaluating in Python space because the '*' operator is not supported by numexpr for the bool dtype, use '&' instead\n",
      "  f\"evaluating in Python space because the {repr(op_str)} \"\n",
      "C:\\Users\\user\\anaconda3\\envs\\aging\\lib\\site-packages\\pandas\\core\\computation\\expressions.py:205: UserWarning: evaluating in Python space because the '*' operator is not supported by numexpr for the bool dtype, use '&' instead\n",
      "  f\"evaluating in Python space because the {repr(op_str)} \"\n",
      "C:\\Users\\user\\anaconda3\\envs\\aging\\lib\\site-packages\\pandas\\core\\computation\\expressions.py:205: UserWarning: evaluating in Python space because the '*' operator is not supported by numexpr for the bool dtype, use '&' instead\n",
      "  f\"evaluating in Python space because the {repr(op_str)} \"\n",
      "C:\\Users\\user\\anaconda3\\envs\\aging\\lib\\site-packages\\pandas\\core\\computation\\expressions.py:205: UserWarning: evaluating in Python space because the '*' operator is not supported by numexpr for the bool dtype, use '&' instead\n",
      "  f\"evaluating in Python space because the {repr(op_str)} \"\n",
      "C:\\Users\\user\\anaconda3\\envs\\aging\\lib\\site-packages\\pandas\\core\\computation\\expressions.py:205: UserWarning: evaluating in Python space because the '*' operator is not supported by numexpr for the bool dtype, use '&' instead\n",
      "  f\"evaluating in Python space because the {repr(op_str)} \"\n",
      "C:\\Users\\user\\anaconda3\\envs\\aging\\lib\\site-packages\\pandas\\core\\computation\\expressions.py:205: UserWarning: evaluating in Python space because the '*' operator is not supported by numexpr for the bool dtype, use '&' instead\n",
      "  f\"evaluating in Python space because the {repr(op_str)} \"\n",
      "\u001b[32m[I 2021-10-09 16:46:11,880]\u001b[0m A new study created in memory with name: no-name-99921f1b-c070-4bc1-9d13-1cc80d2f41f2\u001b[0m\n"
     ]
    },
    {
     "name": "stdout",
     "output_type": "stream",
     "text": [
      "Precision: 0.9896907216494846 \n",
      "Recall: 0.9896907216494846 \n",
      "Aging Rate: 0.5060869565217392\n",
      "Precision: 0.9938271604938271 \n",
      "Recall: 1.0 \n",
      "Aging Rate: 0.5634782608695652\n",
      "Precision: 0.9938271604938271 \n",
      "Recall: 0.9907692307692307 \n",
      "Aging Rate: 0.5634782608695652\n",
      "\u001b[32m[I 2021-10-09 16:46:11,817]\u001b[0m Trial 0 finished with value: 0.9390518681975428 and parameters: {'objective': 'cross_entropy', 'boosting_type': 'gbdt', 'n_estimators': 150, 'subsample': 0.5, 'num_leaves': 40, 'min_child_samples': 18, 'max_depth': 5, 'learning_rate': 0.425, 'reg_alpha': 0.00017435819002624764, 'reg_lambda': 0.07316630293231186}. Best is trial 0 with value: 0.9390518681975428.\u001b[0m\n",
      "Sampler is TPESampler\n",
      "Dataset7 :\n"
     ]
    },
    {
     "name": "stderr",
     "output_type": "stream",
     "text": [
      "C:\\Users\\user\\anaconda3\\envs\\aging\\lib\\site-packages\\optuna\\progress_bar.py:47: ExperimentalWarning: Progress bar is experimental (supported from v1.2.0). The interface can change in the future.\n",
      "  self._init_valid()\n"
     ]
    },
    {
     "data": {
      "application/vnd.jupyter.widget-view+json": {
       "model_id": "eecc2f03a37644adb2d8cc2a1e9c8791",
       "version_major": 2,
       "version_minor": 0
      },
      "text/plain": [
       "  0%|          | 0/1 [00:00<?, ?it/s]"
      ]
     },
     "metadata": {},
     "output_type": "display_data"
    },
    {
     "name": "stderr",
     "output_type": "stream",
     "text": [
      "C:\\Users\\user\\anaconda3\\envs\\aging\\lib\\site-packages\\pandas\\core\\computation\\expressions.py:205: UserWarning: evaluating in Python space because the '*' operator is not supported by numexpr for the bool dtype, use '&' instead\n",
      "  f\"evaluating in Python space because the {repr(op_str)} \"\n",
      "C:\\Users\\user\\anaconda3\\envs\\aging\\lib\\site-packages\\pandas\\core\\computation\\expressions.py:205: UserWarning: evaluating in Python space because the '*' operator is not supported by numexpr for the bool dtype, use '&' instead\n",
      "  f\"evaluating in Python space because the {repr(op_str)} \"\n",
      "C:\\Users\\user\\anaconda3\\envs\\aging\\lib\\site-packages\\pandas\\core\\computation\\expressions.py:205: UserWarning: evaluating in Python space because the '*' operator is not supported by numexpr for the bool dtype, use '&' instead\n",
      "  f\"evaluating in Python space because the {repr(op_str)} \"\n",
      "C:\\Users\\user\\anaconda3\\envs\\aging\\lib\\site-packages\\pandas\\core\\computation\\expressions.py:205: UserWarning: evaluating in Python space because the '*' operator is not supported by numexpr for the bool dtype, use '&' instead\n",
      "  f\"evaluating in Python space because the {repr(op_str)} \"\n",
      "C:\\Users\\user\\anaconda3\\envs\\aging\\lib\\site-packages\\pandas\\core\\computation\\expressions.py:205: UserWarning: evaluating in Python space because the '*' operator is not supported by numexpr for the bool dtype, use '&' instead\n",
      "  f\"evaluating in Python space because the {repr(op_str)} \"\n",
      "C:\\Users\\user\\anaconda3\\envs\\aging\\lib\\site-packages\\pandas\\core\\computation\\expressions.py:205: UserWarning: evaluating in Python space because the '*' operator is not supported by numexpr for the bool dtype, use '&' instead\n",
      "  f\"evaluating in Python space because the {repr(op_str)} \"\n"
     ]
    },
    {
     "name": "stdout",
     "output_type": "stream",
     "text": [
      "Precision: 0.9908256880733946 \n",
      "Recall: 0.96 \n",
      "Aging Rate: 0.41523809523809524\n",
      "Precision: 1.0 \n",
      "Recall: 0.9744525547445255 \n",
      "Aging Rate: 0.5085714285714286\n",
      "Precision: 0.9959839357429718 \n",
      "Recall: 0.9959839357429718 \n",
      "Aging Rate: 0.4742857142857143\n",
      "\u001b[32m[I 2021-10-09 16:46:12,137]\u001b[0m Trial 0 finished with value: 0.9302089888926579 and parameters: {'objective': 'binary', 'boosting_type': 'gbdt', 'n_estimators': 250, 'subsample': 0.9, 'num_leaves': 20, 'min_child_samples': 15, 'max_depth': 9, 'learning_rate': 0.225, 'reg_alpha': 0.025411290166382317, 'reg_lambda': 0.029131031351909968}. Best is trial 0 with value: 0.9302089888926579.\u001b[0m\n"
     ]
    },
    {
     "name": "stderr",
     "output_type": "stream",
     "text": [
      "\u001b[32m[I 2021-10-09 16:46:12,205]\u001b[0m A new study created in memory with name: no-name-dcfa5433-a5e5-4a3d-bb9d-2f3bbd5e99a0\u001b[0m\n"
     ]
    },
    {
     "name": "stdout",
     "output_type": "stream",
     "text": [
      "Sampler is TPESampler\n",
      "Dataset8 :\n"
     ]
    },
    {
     "name": "stderr",
     "output_type": "stream",
     "text": [
      "C:\\Users\\user\\anaconda3\\envs\\aging\\lib\\site-packages\\optuna\\progress_bar.py:47: ExperimentalWarning: Progress bar is experimental (supported from v1.2.0). The interface can change in the future.\n",
      "  self._init_valid()\n"
     ]
    },
    {
     "data": {
      "application/vnd.jupyter.widget-view+json": {
       "model_id": "0c8fca6f8fbc4a0ebc7a393fc61ca566",
       "version_major": 2,
       "version_minor": 0
      },
      "text/plain": [
       "  0%|          | 0/1 [00:00<?, ?it/s]"
      ]
     },
     "metadata": {},
     "output_type": "display_data"
    },
    {
     "name": "stderr",
     "output_type": "stream",
     "text": [
      "C:\\Users\\user\\anaconda3\\envs\\aging\\lib\\site-packages\\pandas\\core\\computation\\expressions.py:205: UserWarning: evaluating in Python space because the '*' operator is not supported by numexpr for the bool dtype, use '&' instead\n",
      "  f\"evaluating in Python space because the {repr(op_str)} \"\n",
      "C:\\Users\\user\\anaconda3\\envs\\aging\\lib\\site-packages\\pandas\\core\\computation\\expressions.py:205: UserWarning: evaluating in Python space because the '*' operator is not supported by numexpr for the bool dtype, use '&' instead\n",
      "  f\"evaluating in Python space because the {repr(op_str)} \"\n",
      "C:\\Users\\user\\anaconda3\\envs\\aging\\lib\\site-packages\\pandas\\core\\computation\\expressions.py:205: UserWarning: evaluating in Python space because the '*' operator is not supported by numexpr for the bool dtype, use '&' instead\n",
      "  f\"evaluating in Python space because the {repr(op_str)} \"\n",
      "C:\\Users\\user\\anaconda3\\envs\\aging\\lib\\site-packages\\pandas\\core\\computation\\expressions.py:205: UserWarning: evaluating in Python space because the '*' operator is not supported by numexpr for the bool dtype, use '&' instead\n",
      "  f\"evaluating in Python space because the {repr(op_str)} \"\n"
     ]
    },
    {
     "name": "stdout",
     "output_type": "stream",
     "text": [
      "Precision: 0.988 \n",
      "Recall: 0.988 \n",
      "Aging Rate: 0.47619047619047616\n",
      "Precision: 0.9883720930232558 \n",
      "Recall: 0.9770114942528736 \n",
      "Aging Rate: 0.49142857142857144\n"
     ]
    },
    {
     "name": "stderr",
     "output_type": "stream",
     "text": [
      "C:\\Users\\user\\anaconda3\\envs\\aging\\lib\\site-packages\\pandas\\core\\computation\\expressions.py:205: UserWarning: evaluating in Python space because the '*' operator is not supported by numexpr for the bool dtype, use '&' instead\n",
      "  f\"evaluating in Python space because the {repr(op_str)} \"\n",
      "C:\\Users\\user\\anaconda3\\envs\\aging\\lib\\site-packages\\pandas\\core\\computation\\expressions.py:205: UserWarning: evaluating in Python space because the '*' operator is not supported by numexpr for the bool dtype, use '&' instead\n",
      "  f\"evaluating in Python space because the {repr(op_str)} \"\n",
      "\u001b[32m[I 2021-10-09 16:46:12,596]\u001b[0m A new study created in memory with name: no-name-2b40dfdc-e88b-444e-94a9-c1f2bc65d0fa\u001b[0m\n",
      "C:\\Users\\user\\anaconda3\\envs\\aging\\lib\\site-packages\\optuna\\progress_bar.py:47: ExperimentalWarning: Progress bar is experimental (supported from v1.2.0). The interface can change in the future.\n",
      "  self._init_valid()\n"
     ]
    },
    {
     "name": "stdout",
     "output_type": "stream",
     "text": [
      "Precision: 0.9809885931558935 \n",
      "Recall: 0.9735849056603774 \n",
      "Aging Rate: 0.5009523809523809\n",
      "\u001b[32m[I 2021-10-09 16:46:12,526]\u001b[0m Trial 0 finished with value: 0.930579752352036 and parameters: {'objective': 'binary', 'boosting_type': 'gbdt', 'n_estimators': 300, 'subsample': 0.9, 'num_leaves': 40, 'min_child_samples': 12, 'max_depth': 11, 'learning_rate': 0.125, 'reg_alpha': 0.11389736350898758, 'reg_lambda': 4.218037669155812}. Best is trial 0 with value: 0.930579752352036.\u001b[0m\n",
      "Sampler is TPESampler\n",
      "Dataset9 :\n"
     ]
    },
    {
     "data": {
      "application/vnd.jupyter.widget-view+json": {
       "model_id": "03bdcf93cb5b48cd8669f101a84f8890",
       "version_major": 2,
       "version_minor": 0
      },
      "text/plain": [
       "  0%|          | 0/1 [00:00<?, ?it/s]"
      ]
     },
     "metadata": {},
     "output_type": "display_data"
    },
    {
     "name": "stdout",
     "output_type": "stream",
     "text": [
      "Precision: 0.92 \n",
      "Recall: 0.7666666666666667 \n",
      "Aging Rate: 0.08650519031141868\n",
      "Precision: 1.0 \n",
      "Recall: 0.8333333333333334 \n",
      "Aging Rate: 0.06920415224913495\n",
      "Precision:"
     ]
    },
    {
     "name": "stderr",
     "output_type": "stream",
     "text": [
      "C:\\Users\\user\\anaconda3\\envs\\aging\\lib\\site-packages\\pandas\\core\\computation\\expressions.py:205: UserWarning: evaluating in Python space because the '*' operator is not supported by numexpr for the bool dtype, use '&' instead\n",
      "  f\"evaluating in Python space because the {repr(op_str)} \"\n",
      "C:\\Users\\user\\anaconda3\\envs\\aging\\lib\\site-packages\\pandas\\core\\computation\\expressions.py:205: UserWarning: evaluating in Python space because the '*' operator is not supported by numexpr for the bool dtype, use '&' instead\n",
      "  f\"evaluating in Python space because the {repr(op_str)} \"\n",
      "C:\\Users\\user\\anaconda3\\envs\\aging\\lib\\site-packages\\pandas\\core\\computation\\expressions.py:205: UserWarning: evaluating in Python space because the '*' operator is not supported by numexpr for the bool dtype, use '&' instead\n",
      "  f\"evaluating in Python space because the {repr(op_str)} \"\n",
      "C:\\Users\\user\\anaconda3\\envs\\aging\\lib\\site-packages\\pandas\\core\\computation\\expressions.py:205: UserWarning: evaluating in Python space because the '*' operator is not supported by numexpr for the bool dtype, use '&' instead\n",
      "  f\"evaluating in Python space because the {repr(op_str)} \"\n",
      "C:\\Users\\user\\anaconda3\\envs\\aging\\lib\\site-packages\\pandas\\core\\computation\\expressions.py:205: UserWarning: evaluating in Python space because the '*' operator is not supported by numexpr for the bool dtype, use '&' instead\n",
      "  f\"evaluating in Python space because the {repr(op_str)} \"\n",
      "C:\\Users\\user\\anaconda3\\envs\\aging\\lib\\site-packages\\pandas\\core\\computation\\expressions.py:205: UserWarning: evaluating in Python space because the '*' operator is not supported by numexpr for the bool dtype, use '&' instead\n",
      "  f\"evaluating in Python space because the {repr(op_str)} \"\n"
     ]
    },
    {
     "name": "stdout",
     "output_type": "stream",
     "text": [
      " 0.9473684210526315 \n",
      "Recall: 0.75 \n",
      "Aging Rate: 0.0657439446366782\n",
      "\u001b[32m[I 2021-10-09 16:46:12,730]\u001b[0m Trial 0 finished with value: 0.7759515570934257 and parameters: {'objective': 'binary', 'boosting_type': 'goss', 'n_estimators': 100, 'subsample': 0.5, 'num_leaves': 35, 'min_child_samples': 15, 'max_depth': 7, 'learning_rate': 0.275, 'reg_alpha': 0.001431639527677854, 'reg_lambda': 0.028813276202748164}. Best is trial 0 with value: 0.7759515570934257.\u001b[0m\n",
      "Sampler is TPESampler\n"
     ]
    }
   ],
   "source": [
    "def optimize_base(num_set, train_data, mode, TPE_multi, base_list, filename):\n",
    "    \n",
    "    best_param = {}\n",
    "    month_list = train_data.keys()\n",
    "    \n",
    "    for i in tqdm(month_list):\n",
    "        \n",
    "        best_param[f'{i}'] = {}\n",
    "        if 'XGBoost' in base_list:\n",
    "            best_param[f'{i}'][f'XGBoost'], _ = all_optuna(num_set = num_set, \n",
    "                                                           all_data = train_data[f'{i}'], \n",
    "                                                           mode = mode, \n",
    "                                                           TPE_multi = TPE_multi, \n",
    "                                                           n_iter = 1,\n",
    "                                                           filename = f'{filename}_XGBoost',\n",
    "                                                           creator = XGBoost_creator\n",
    "                                        )\n",
    "\n",
    "        if 'LightGBM' in base_list:\n",
    "            best_param[f'{i}'][f'LightGBM'], _ = all_optuna(num_set = num_set, \n",
    "                                                            all_data = train_data[f'{i}'], \n",
    "                                                            mode = mode, \n",
    "                                                            TPE_multi = TPE_multi, \n",
    "                                                            n_iter = 1,\n",
    "                                                            filename = f'{filename}_LightGBM',\n",
    "                                                            creator = LightGBM_creator\n",
    "                                        )\n",
    "        \n",
    "        if 'CatBoost' in base_list:\n",
    "            best_param[f'{i}'][f'CatBoost'], _ = all_optuna(num_set = num_set, \n",
    "                                                            all_data = train_data[f'{i}'], \n",
    "                                                            mode = mode, \n",
    "                                                            TPE_multi = TPE_multi, \n",
    "                                                            n_iter = 1,\n",
    "                                                            filename = f'{filename}_CatBoost',\n",
    "                                                            creator = CatBoost_creator\n",
    "                                        )\n",
    "            \n",
    "        if 'RandomForest' in base_list:\n",
    "            best_param[f'{i}'][f'RandomForest'], _ = all_optuna(num_set = num_set, \n",
    "                                                            all_data = train_data[f'{i}'], \n",
    "                                                            mode = mode, \n",
    "                                                            TPE_multi = TPE_multi, \n",
    "                                                            n_iter = 1,\n",
    "                                                            filename = f'{filename}_RandomForest',\n",
    "                                                            creator = RandomForest_creator\n",
    "                                        )\n",
    "\n",
    "        if 'ExtraTrees' in base_list:\n",
    "            best_param[f'{i}'][f'ExtraTrees'], _ = all_optuna(num_set = num_set, \n",
    "                                                            all_data = train_data[f'{i}'], \n",
    "                                                            mode = mode, \n",
    "                                                            TPE_multi = TPE_multi, \n",
    "                                                            n_iter = 1,\n",
    "                                                            filename = f'{filename}_ExtraTrees',\n",
    "                                                            creator = ExtraTrees_creator\n",
    "                                        )\n",
    "            \n",
    "    return best_param\n",
    "\n",
    "\n",
    "\n",
    "base_param = optimize_base(num_set = 10, \n",
    "                           train_data = data_dict, \n",
    "                           mode = 'C', \n",
    "                           TPE_multi = False, \n",
    "                           base_list = ['XGBoost', 'LightGBM'], \n",
    "                           filename = 'runhist_array_m2m5_4criteria')"
   ]
  },
  {
   "cell_type": "code",
   "execution_count": 69,
   "metadata": {
    "ExecuteTime": {
     "end_time": "2021-10-09T08:34:57.894666Z",
     "start_time": "2021-10-09T08:34:57.861162Z"
    }
   },
   "outputs": [],
   "source": [
    "def stratified_data(train_data, cv):\n",
    "    \n",
    "    good = train_data[train_data.GB == 0]\n",
    "    bad = train_data[train_data.GB == 1]\n",
    "    good_index = random.sample(good.index.to_list(), k = len(good))\n",
    "    bad_index = random.sample(bad.index.to_list(), k = len(bad))\n",
    "    \n",
    "    train_x_dict = {}\n",
    "    train_y_dict = {}\n",
    "    valid_x_dict = {}\n",
    "    valid_y_dict = {}\n",
    "    for i in range(cv):\n",
    "        \n",
    "        if (i+1) == cv:\n",
    "            good_valid_index = good_index[int(np.floor((i/cv)*len(good))) : ]\n",
    "            bad_valid_index = bad_index[int(np.floor((i/cv)*len(bad))) : ]\n",
    "        else:\n",
    "            good_valid_index = good_index[int(np.floor((i/cv)*len(good))) : int(np.floor(((i+1)/cv)*len(good)))]\n",
    "            bad_valid_index = bad_index[int(np.floor((i/cv)*len(bad))) : int(np.floor(((i+1)/cv)*len(bad)))]\n",
    "        good_train_index = [x for x in good_index if x not in good_valid_index]\n",
    "        bad_train_index = [x for x in bad_index if x not in bad_valid_index]\n",
    "        \n",
    "        good_train = good.loc[good_train_index]\n",
    "        good_valid = good.loc[good_valid_index]\n",
    "        bad_train = bad.loc[bad_train_index]\n",
    "        bad_valid = bad.loc[bad_valid_index]\n",
    "        train = pd.concat([good_train, bad_train], axis = 0)\n",
    "        valid = pd.concat([good_valid, bad_valid], axis = 0)\n",
    "        train_x_dict[i], train_y_dict[i], valid_x_dict[i], valid_y_dict[i] = label_divide(train, valid, \n",
    "                                                                                              train_only = False)\n",
    "\n",
    "    return train_x_dict, train_y_dict, valid_x_dict, valid_y_dict\n",
    "\n",
    "\n",
    "\n",
    "a, b, c, d = stratified_data(aaa, cv = 5)"
   ]
  },
  {
   "cell_type": "code",
   "execution_count": null,
   "metadata": {},
   "outputs": [],
   "source": [
    "def transform_test(train_data, test_data, base_param):\n",
    "    \n",
    "    month_list = base_param.keys()\n",
    "    model_list = base_param[month_list[0]].keys()\n",
    "    \n",
    "    for i in range(num_set):\n",
    "        \n",
    "        train_x, train_y, test_x, test_y = label_divide(train_data[f'set{i}'], test_data, train_only = False)\n",
    "        model_predict = pd.DataFrame()\n",
    "        if mode == 'C':\n",
    "            \n",
    "            if 'XGBoost' in model_list:\n",
    "                predict = XGBoostC(train_x, test_x, train_y, test_y, base_param[month_list[-1]]['XGBoost'])\n",
    "                predict"
   ]
  },
  {
   "cell_type": "code",
   "execution_count": 87,
   "metadata": {
    "ExecuteTime": {
     "end_time": "2021-10-09T08:48:14.824804Z",
     "start_time": "2021-10-09T08:48:14.815779Z"
    }
   },
   "outputs": [
    {
     "data": {
      "text/plain": [
       "True"
      ]
     },
     "execution_count": 87,
     "metadata": {},
     "output_type": "execute_result"
    }
   ],
   "source": [
    "'LightGBM' in base_param['m2'].keys()"
   ]
  },
  {
   "cell_type": "code",
   "execution_count": 103,
   "metadata": {
    "ExecuteTime": {
     "end_time": "2021-10-09T09:37:10.687780Z",
     "start_time": "2021-10-09T09:37:10.660401Z"
    }
   },
   "outputs": [
    {
     "data": {
      "text/html": [
       "<div>\n",
       "<style scoped>\n",
       "    .dataframe tbody tr th:only-of-type {\n",
       "        vertical-align: middle;\n",
       "    }\n",
       "\n",
       "    .dataframe tbody tr th {\n",
       "        vertical-align: top;\n",
       "    }\n",
       "\n",
       "    .dataframe thead th {\n",
       "        text-align: right;\n",
       "    }\n",
       "</style>\n",
       "<table border=\"1\" class=\"dataframe\">\n",
       "  <thead>\n",
       "    <tr style=\"text-align: right;\">\n",
       "      <th></th>\n",
       "      <th>GB</th>\n",
       "      <th>GB</th>\n",
       "    </tr>\n",
       "  </thead>\n",
       "  <tbody>\n",
       "    <tr>\n",
       "      <th>171</th>\n",
       "      <td>0</td>\n",
       "      <td>0</td>\n",
       "    </tr>\n",
       "    <tr>\n",
       "      <th>458</th>\n",
       "      <td>0</td>\n",
       "      <td>0</td>\n",
       "    </tr>\n",
       "    <tr>\n",
       "      <th>228</th>\n",
       "      <td>0</td>\n",
       "      <td>0</td>\n",
       "    </tr>\n",
       "    <tr>\n",
       "      <th>164</th>\n",
       "      <td>0</td>\n",
       "      <td>0</td>\n",
       "    </tr>\n",
       "    <tr>\n",
       "      <th>48</th>\n",
       "      <td>0</td>\n",
       "      <td>0</td>\n",
       "    </tr>\n",
       "    <tr>\n",
       "      <th>...</th>\n",
       "      <td>...</td>\n",
       "      <td>...</td>\n",
       "    </tr>\n",
       "    <tr>\n",
       "      <th>825</th>\n",
       "      <td>1</td>\n",
       "      <td>1</td>\n",
       "    </tr>\n",
       "    <tr>\n",
       "      <th>595</th>\n",
       "      <td>1</td>\n",
       "      <td>1</td>\n",
       "    </tr>\n",
       "    <tr>\n",
       "      <th>792</th>\n",
       "      <td>1</td>\n",
       "      <td>1</td>\n",
       "    </tr>\n",
       "    <tr>\n",
       "      <th>837</th>\n",
       "      <td>1</td>\n",
       "      <td>1</td>\n",
       "    </tr>\n",
       "    <tr>\n",
       "      <th>1107</th>\n",
       "      <td>1</td>\n",
       "      <td>1</td>\n",
       "    </tr>\n",
       "  </tbody>\n",
       "</table>\n",
       "<p>224 rows × 2 columns</p>\n",
       "</div>"
      ],
      "text/plain": [
       "      GB  GB\n",
       "171    0   0\n",
       "458    0   0\n",
       "228    0   0\n",
       "164    0   0\n",
       "48     0   0\n",
       "...   ..  ..\n",
       "825    1   1\n",
       "595    1   1\n",
       "792    1   1\n",
       "837    1   1\n",
       "1107   1   1\n",
       "\n",
       "[224 rows x 2 columns]"
      ]
     },
     "execution_count": 103,
     "metadata": {},
     "output_type": "execute_result"
    }
   ],
   "source": [
    "kkk = pd.DataFrame(d[0])rename(columns = 'aa')\n",
    "pd.concat([kkk, kkk], axis = 1)"
   ]
  },
  {
   "cell_type": "code",
   "execution_count": 100,
   "metadata": {
    "ExecuteTime": {
     "end_time": "2021-10-09T09:36:30.286846Z",
     "start_time": "2021-10-09T09:36:30.268882Z"
    }
   },
   "outputs": [
    {
     "data": {
      "text/plain": [
       "171     0\n",
       "458     0\n",
       "228     0\n",
       "164     0\n",
       "48      0\n",
       "       ..\n",
       "825     1\n",
       "595     1\n",
       "792     1\n",
       "837     1\n",
       "1107    1\n",
       "Name: GB, Length: 224, dtype: int64"
      ]
     },
     "execution_count": 100,
     "metadata": {},
     "output_type": "execute_result"
    }
   ],
   "source": [
    "d[0]"
   ]
  },
  {
   "cell_type": "code",
   "execution_count": null,
   "metadata": {},
   "outputs": [],
   "source": []
  },
  {
   "cell_type": "markdown",
   "metadata": {},
   "source": [
    "## "
   ]
  },
  {
   "cell_type": "markdown",
   "metadata": {},
   "source": [
    "### loading training & testing data"
   ]
  },
  {
   "cell_type": "code",
   "execution_count": 5,
   "metadata": {
    "ExecuteTime": {
     "end_time": "2021-10-09T06:47:33.318506Z",
     "start_time": "2021-10-09T06:47:31.175934Z"
    },
    "collapsed": true
   },
   "outputs": [
    {
     "name": "stdout",
     "output_type": "stream",
     "text": [
      "\n",
      "Month 2:\n",
      "\n",
      "Dimension of dataset 0 : (38022, 96)  balance ratio: 863.0\n",
      "Dimension of dataset 1 : (1128, 96)  balance ratio: 1.0\n",
      "Dimension of dataset 2 : (962, 96)  balance ratio: 1.0\n",
      "Dimension of dataset 3 : (1226, 96)  balance ratio: 1.0\n",
      "Dimension of dataset 4 : (1138, 96)  balance ratio: 1.0\n",
      "Dimension of dataset 5 : (883, 96)  balance ratio: 1.0\n",
      "Dimension of dataset 6 : (921, 96)  balance ratio: 1.0\n",
      "Dimension of dataset 7 : (880, 96)  balance ratio: 1.0\n",
      "Dimension of dataset 8 : (880, 96)  balance ratio: 1.0\n",
      "Dimension of dataset 9 : (484, 96)  balance ratio: 10.0\n",
      "\n",
      " 10 datasets are loaded.\n",
      "\n",
      "Labels of  10 datasets are divided.\n",
      "\n",
      "Month 3:\n",
      "\n",
      "Dimension of dataset 0 : (60607, 107)  balance ratio: 550.0\n",
      "Dimension of dataset 1 : (1800, 107)  balance ratio: 1.0\n",
      "Dimension of dataset 2 : (2948, 107)  balance ratio: 1.0\n",
      "Dimension of dataset 3 : (2030, 107)  balance ratio: 1.0\n",
      "Dimension of dataset 4 : (1814, 107)  balance ratio: 1.0\n",
      "Dimension of dataset 5 : (2203, 107)  balance ratio: 1.0\n",
      "Dimension of dataset 6 : (2567, 107)  balance ratio: 1.0\n",
      "Dimension of dataset 7 : (2200, 107)  balance ratio: 1.0\n",
      "Dimension of dataset 8 : (2200, 107)  balance ratio: 1.0\n",
      "Dimension of dataset 9 : (1210, 107)  balance ratio: 10.0\n",
      "\n",
      " 10 datasets are loaded.\n",
      "\n",
      "Labels of  10 datasets are divided.\n",
      "\n",
      "Month 4:\n",
      "\n",
      "Dimension of dataset 0 : (57742, 102)  balance ratio: 549.0\n",
      "Dimension of dataset 1 : (1750, 102)  balance ratio: 1.0\n",
      "Dimension of dataset 2 : (2490, 102)  balance ratio: 1.0\n",
      "Dimension of dataset 3 : (1934, 102)  balance ratio: 1.0\n",
      "Dimension of dataset 4 : (1728, 102)  balance ratio: 1.0\n",
      "Dimension of dataset 5 : (2105, 102)  balance ratio: 1.0\n",
      "Dimension of dataset 6 : (2299, 102)  balance ratio: 1.0\n",
      "Dimension of dataset 7 : (2100, 102)  balance ratio: 1.0\n",
      "Dimension of dataset 8 : (2100, 102)  balance ratio: 1.0\n",
      "Dimension of dataset 9 : (1155, 102)  balance ratio: 10.0\n",
      "\n",
      " 10 datasets are loaded.\n",
      "\n",
      "Labels of  10 datasets are divided.\n",
      "\n",
      "Combined training data:\n",
      "\n",
      "Dimension of dataset 0 : (156371, 115)  balance ratio: 603.0\n",
      "Dimension of dataset 1 : (4678, 115)  balance ratio: 1.0\n",
      "Dimension of dataset 2 : (6400, 115)  balance ratio: 1.0\n",
      "Dimension of dataset 3 : (5190, 115)  balance ratio: 1.0\n",
      "Dimension of dataset 4 : (4680, 115)  balance ratio: 1.0\n",
      "Dimension of dataset 5 : (5191, 115)  balance ratio: 1.0\n",
      "Dimension of dataset 6 : (5787, 115)  balance ratio: 1.0\n",
      "Dimension of dataset 7 : (5180, 115)  balance ratio: 1.0\n",
      "Dimension of dataset 8 : (5180, 115)  balance ratio: 1.0\n",
      "Dimension of dataset 9 : (2849, 115)  balance ratio: 10.0\n",
      "\n",
      " 10 datasets are loaded.\n",
      "\n",
      "Labels of  10 datasets are divided.\n",
      "\n",
      " Dimension of testing data: (48654, 115)\n"
     ]
    }
   ],
   "source": [
    "### training data ### \n",
    "training_month = [2, 3, 4]\n",
    "\n",
    "data_dict, trainset_x, trainset_y = multiple_month(training_month, num_set = 10, filename = 'dataset')\n",
    "\n",
    "print('\\nCombined training data:\\n')\n",
    "run_train = multiple_set(num_set = 10)\n",
    "run_train_x, run_train_y = train_set(run_train, num_set = 10)\n",
    "\n",
    "### testing data ###\n",
    "run_test = pd.read_csv('test_runhist.csv').iloc[:, 2:]\n",
    "run_test_x, run_test_y = label_divide(run_test, None, 'GB', train_only = True)\n",
    "print('\\n', 'Dimension of testing data:', run_test.shape)"
   ]
  }
 ],
 "metadata": {
  "hide_input": false,
  "kernelspec": {
   "display_name": "Python [conda env:aging]",
   "language": "python",
   "name": "conda-env-aging-py"
  },
  "language_info": {
   "codemirror_mode": {
    "name": "ipython",
    "version": 3
   },
   "file_extension": ".py",
   "mimetype": "text/x-python",
   "name": "python",
   "nbconvert_exporter": "python",
   "pygments_lexer": "ipython3",
   "version": "3.7.10"
  },
  "toc": {
   "base_numbering": 1,
   "nav_menu": {},
   "number_sections": true,
   "sideBar": true,
   "skip_h1_title": false,
   "title_cell": "Table of Contents",
   "title_sidebar": "Contents",
   "toc_cell": false,
   "toc_position": {},
   "toc_section_display": true,
   "toc_window_display": false
  },
  "varInspector": {
   "cols": {
    "lenName": 16,
    "lenType": 16,
    "lenVar": 40
   },
   "kernels_config": {
    "python": {
     "delete_cmd_postfix": "",
     "delete_cmd_prefix": "del ",
     "library": "var_list.py",
     "varRefreshCmd": "print(var_dic_list())"
    },
    "r": {
     "delete_cmd_postfix": ") ",
     "delete_cmd_prefix": "rm(",
     "library": "var_list.r",
     "varRefreshCmd": "cat(var_dic_list()) "
    }
   },
   "types_to_exclude": [
    "module",
    "function",
    "builtin_function_or_method",
    "instance",
    "_Feature"
   ],
   "window_display": false
  }
 },
 "nbformat": 4,
 "nbformat_minor": 4
}
