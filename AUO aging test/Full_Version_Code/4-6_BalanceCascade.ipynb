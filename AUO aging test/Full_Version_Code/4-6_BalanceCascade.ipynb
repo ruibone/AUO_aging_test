{
 "cells": [
  {
   "cell_type": "code",
   "execution_count": 1,
   "metadata": {
    "ExecuteTime": {
     "end_time": "2022-01-10T13:01:28.619228Z",
     "start_time": "2022-01-10T13:01:27.331402Z"
    }
   },
   "outputs": [
    {
     "data": {
      "text/plain": [
       "'C:\\\\Users\\\\user\\\\Desktop\\\\Darui_R08621110'"
      ]
     },
     "execution_count": 1,
     "metadata": {},
     "output_type": "execute_result"
    }
   ],
   "source": [
    "import os\n",
    "import numpy as np\n",
    "import pandas as pd\n",
    "import pickle\n",
    "import random\n",
    "from tqdm.auto import tqdm\n",
    "import matplotlib.pyplot as plt\n",
    "\n",
    "from lightgbm import LGBMClassifier\n",
    "import optuna\n",
    "from sklearn.model_selection import train_test_split\n",
    "from sklearn.ensemble import RandomForestClassifier\n",
    "\n",
    "from library.Data_Preprocessing import Balance_Ratio\n",
    "from library.Imbalance_Sampling import label_divide\n",
    "from library.Aging_Score_Contour import score1\n",
    "from library.AdaBoost import train_set, multiple_set, multiple_month, line_chart, cf_matrix\n",
    "\n",
    "os.chdir('C:/Users/user/Desktop/Darui_R08621110') \n",
    "os.getcwd()"
   ]
  },
  {
   "cell_type": "markdown",
   "metadata": {},
   "source": [
    "## "
   ]
  },
  {
   "cell_type": "markdown",
   "metadata": {},
   "source": [
    "### balance cascade"
   ]
  },
  {
   "cell_type": "code",
   "execution_count": 2,
   "metadata": {
    "ExecuteTime": {
     "end_time": "2022-01-10T13:01:28.838893Z",
     "start_time": "2022-01-10T13:01:28.807851Z"
    }
   },
   "outputs": [],
   "source": [
    "def cascade_training(train_data, clf_config, classifier = 'LightGBM', num_iter = 10):\n",
    "  \n",
    "    good = train_data[train_data.GB == 0]\n",
    "    bad = train_data[train_data.GB == 1]\n",
    "    br = len(bad)/len(good)\n",
    "    false_rate = br**(1/(num_iter - 1))\n",
    "    \n",
    "    keep_good = {}\n",
    "    clf_threshold = []\n",
    "    clf_cascade = {}\n",
    "    for j, i in enumerate(range(num_iter)):\n",
    "        keep_good[j] = good\n",
    "        if j != (num_iter - 1):\n",
    "            draw = random.sample(good.index.to_list(), len(bad))\n",
    "            train_g = good.loc[draw]\n",
    "            train_b = bad.copy()\n",
    "            train_combine = pd.concat([train_g, train_b], axis = 0)\n",
    "        elif j == (num_iter - 1):\n",
    "            train_combine = pd.concat([good, bad], axis = 0)\n",
    "\n",
    "        valid_g = good.copy()\n",
    "        train_x, train_y, valid_x, valid_y = label_divide(train_combine, valid_g, 'GB', train_only = False)\n",
    "        if classifier == 'LightGBM':\n",
    "            clf = LGBMClassifier(**clf_config)\n",
    "        elif classifier == 'RandomForest':\n",
    "            clf = RandomForestClassifier(**clf_config)\n",
    "        clf.fit(train_x, train_y)\n",
    "        predict = clf.predict_proba(valid_x)[:, 1]\n",
    "        predict_df = pd.DataFrame(dict(predict = predict), index = valid_x.index)\n",
    "        predict_df = predict_df.sort_values(by = 'predict', ascending = False)\n",
    "        keep_num = int(len(predict_df)*false_rate)\n",
    "        keep_index = predict_df.index[:keep_num]\n",
    "        threshold = predict_df.loc[keep_index[-1]].values[0]\n",
    "        clf_threshold.append(threshold)\n",
    "        clf_cascade[j] = clf\n",
    "\n",
    "        if j != (num_iter - 1):\n",
    "            good = good.loc[keep_index]\n",
    "        \n",
    "        return clf_cascade, clf_threshold, keep_good\n",
    "    \n",
    "    \n",
    "def cascade_testing(test_data, clf_cascade, clf_threshold):\n",
    "    \n",
    "    if isinstance(clf_threshold, int):\n",
    "        clf_threshold = [clf_threshold]*len(clf_cascade)\n",
    "    \n",
    "    test_x, test_y = label_divide(test_data, 'GB', train_only = True)\n",
    "    predict_df = pd.DataFrame()\n",
    "    for i in range(len(clf_cascade)):\n",
    "        clf = clf_cascade[i]\n",
    "        predict = clf.predict_proba(test_x)[:, 1]\n",
    "        answer = (predict > clf_threshold[i]).astype(int)\n",
    "        predict = pd.DataFrame({str(i): answer})\n",
    "        predict_df = pd.concat([predict_df, predict], axis = 1)\n",
    "    predict_y = (predict_df.apply(sum, axis = 1) == len(clf_cascade)).astype(int)\n",
    "    result = pd.DataFrame(dict(predict = predict_y, truth = test_y))\n",
    "    \n",
    "    return result\n",
    "\n",
    "\n",
    "def runall_cascade(train_set, test_data, config, classifier = 'LightGBM', num_iter = 10):\n",
    "    \n",
    "    num_set = len(train_set)\n",
    "    table_set = pd.DataFrame()\n",
    "    for i in range(num_set):\n",
    "        print('\\n', f'Dataset {i}:')\n",
    "        clf_cascade, clf_threshold, _ = cascade_training(train_set[f'set{i}'], config[f'set{i}'], classifier = classifier,\n",
    "                                                        num_iter = num_iter)\n",
    "        result = cascade_testing(test_data, clf_cascade, clf_threshold)\n",
    "        table = cf_matrix(result, train_set[f'set{i}'].GB)\n",
    "        table_set = pd.concat([table_set, table]).rename(index = {0: f'dataset {i}'})\n",
    "    \n",
    "    return table_set"
   ]
  },
  {
   "cell_type": "markdown",
   "metadata": {},
   "source": [
    "## "
   ]
  },
  {
   "cell_type": "markdown",
   "metadata": {},
   "source": [
    "### loading hyperparameters & datasets"
   ]
  },
  {
   "cell_type": "code",
   "execution_count": 44,
   "metadata": {
    "ExecuteTime": {
     "end_time": "2022-01-10T15:05:13.116469Z",
     "start_time": "2022-01-10T15:05:09.485594Z"
    },
    "scrolled": true
   },
   "outputs": [
    {
     "name": "stdout",
     "output_type": "stream",
     "text": [
      "\n",
      "Month 2:\n",
      "\n",
      "Dimension of dataset 0 : (39009, 88)  balance ratio: 564.35\n",
      "Dimension of dataset 1 : (4212, 88)  balance ratio: 5.0\n",
      "Dimension of dataset 2 : (5814, 88)  balance ratio: 5.0\n",
      "Dimension of dataset 3 : (4542, 88)  balance ratio: 5.0\n",
      "Dimension of dataset 4 : (4134, 88)  balance ratio: 5.0\n",
      "Dimension of dataset 5 : (4143, 88)  balance ratio: 4.98\n",
      "Dimension of dataset 6 : (4405, 88)  balance ratio: 3.61\n",
      "Dimension of dataset 7 : (4195, 88)  balance ratio: 4.63\n",
      "Dimension of dataset 8 : (4140, 88)  balance ratio: 5.0\n",
      "Dimension of dataset 9 : (1794, 88)  balance ratio: 25.0\n",
      "\n",
      " 10 datasets are loaded.\n",
      "\n",
      "Labels of  10 datasets are divided.\n",
      "\n",
      "Month 3:\n",
      "\n",
      "Dimension of dataset 0 : (60396, 97)  balance ratio: 533.48\n",
      "Dimension of dataset 1 : (6912, 97)  balance ratio: 5.0\n",
      "Dimension of dataset 2 : (9354, 97)  balance ratio: 5.0\n",
      "Dimension of dataset 3 : (7440, 97)  balance ratio: 5.0\n",
      "Dimension of dataset 4 : (6774, 97)  balance ratio: 5.0\n",
      "Dimension of dataset 5 : (6785, 97)  balance ratio: 4.98\n",
      "Dimension of dataset 6 : (7238, 97)  balance ratio: 3.56\n",
      "Dimension of dataset 7 : (6870, 97)  balance ratio: 4.63\n",
      "Dimension of dataset 8 : (6780, 97)  balance ratio: 5.0\n",
      "Dimension of dataset 9 : (2938, 97)  balance ratio: 25.0\n",
      "\n",
      " 10 datasets are loaded.\n",
      "\n",
      "Labels of  10 datasets are divided.\n",
      "\n",
      "Month 4:\n",
      "\n",
      "Dimension of dataset 0 : (57743, 100)  balance ratio: 472.3\n",
      "Dimension of dataset 1 : (7278, 100)  balance ratio: 5.0\n",
      "Dimension of dataset 2 : (10056, 100)  balance ratio: 5.0\n",
      "Dimension of dataset 3 : (8034, 100)  balance ratio: 5.0\n",
      "Dimension of dataset 4 : (7320, 100)  balance ratio: 5.0\n",
      "Dimension of dataset 5 : (7351, 100)  balance ratio: 4.88\n",
      "Dimension of dataset 6 : (7799, 100)  balance ratio: 3.59\n",
      "Dimension of dataset 7 : (7417, 100)  balance ratio: 4.63\n",
      "Dimension of dataset 8 : (7320, 100)  balance ratio: 5.0\n",
      "Dimension of dataset 9 : (3172, 100)  balance ratio: 25.0\n",
      "\n",
      " 10 datasets are loaded.\n",
      "\n",
      "Labels of  10 datasets are divided.\n",
      "\n",
      "Combined training data:\n",
      "\n",
      "Dimension of dataset 0 : (157148, 128)  balance ratio: 515.93\n",
      "Dimension of dataset 1 : (18402, 128)  balance ratio: 5.0\n",
      "Dimension of dataset 2 : (25224, 128)  balance ratio: 5.0\n",
      "Dimension of dataset 3 : (20016, 128)  balance ratio: 5.0\n",
      "Dimension of dataset 4 : (18228, 128)  balance ratio: 5.0\n",
      "Dimension of dataset 5 : (18279, 128)  balance ratio: 4.94\n",
      "Dimension of dataset 6 : (19442, 128)  balance ratio: 3.58\n",
      "Dimension of dataset 7 : (18482, 128)  balance ratio: 4.63\n",
      "Dimension of dataset 8 : (18240, 128)  balance ratio: 5.0\n",
      "Dimension of dataset 9 : (7904, 128)  balance ratio: 25.0\n",
      "\n",
      " 10 datasets are loaded.\n",
      "\n",
      "Labels of  10 datasets are divided.\n",
      "\n",
      " Dimension of testing data: (48649, 128)\n"
     ]
    }
   ],
   "source": [
    "### training data ###\n",
    "training_month = range(2, 5)\n",
    "\n",
    "data_dict, trainset_x, trainset_y = multiple_month(training_month, num_set = 10, filename = 'dataset')\n",
    "\n",
    "print('\\nCombined training data:\\n')\n",
    "run_train = multiple_set(num_set = 10)\n",
    "run_train_x, run_train_y = train_set(run_train, num_set = 10)\n",
    "\n",
    "### testing data ###\n",
    "run_test = pd.read_csv('test_runhist.csv').iloc[:, 2:]\n",
    "run_test_x, run_test_y = label_divide(run_test, None, 'GB', train_only = True)\n",
    "print('\\n', 'Dimension of testing data:', run_test.shape)"
   ]
  },
  {
   "cell_type": "code",
   "execution_count": 72,
   "metadata": {
    "ExecuteTime": {
     "end_time": "2022-01-10T15:17:46.861816Z",
     "start_time": "2022-01-10T15:17:46.849822Z"
    }
   },
   "outputs": [],
   "source": [
    "TPE_multi = True\n",
    "base_learner = 'RandomForest'\n",
    "\n",
    "iteration = 200 if base_learner == 'LightGBM' else 50\n",
    "TPE = 'multivariate-TPE' if TPE_multi else 'univariate-TPE'\n",
    "with open(f'hyperparameter/20211221/runhist_array_m2m4_m5_3criteria_{base_learner}C_{TPE}_{iteration}.data', 'rb') as f:\n",
    "    best_paramC = pickle.load(f)"
   ]
  },
  {
   "cell_type": "markdown",
   "metadata": {},
   "source": [
    "### classifier"
   ]
  },
  {
   "cell_type": "code",
   "execution_count": 73,
   "metadata": {
    "ExecuteTime": {
     "end_time": "2022-01-10T15:18:37.100532Z",
     "start_time": "2022-01-10T15:17:51.387864Z"
    },
    "scrolled": true
   },
   "outputs": [
    {
     "name": "stdout",
     "output_type": "stream",
     "text": [
      "\n",
      " Dataset 0:\n",
      "Precision: 0.0 \n",
      "Recall: 0.0 \n",
      "Aging Rate: 0.0323542107751444\n",
      "\n",
      " Dataset 1:\n",
      "Precision: 0.0010448856183722015 \n",
      "Recall: 0.9215686274509803 \n",
      "Aging Rate: 0.9246027667577956\n",
      "\n",
      " Dataset 2:\n",
      "Precision: 0.0010501260151218146 \n",
      "Recall: 0.8823529411764706 \n",
      "Aging Rate: 0.8808403050422413\n",
      "\n",
      " Dataset 3:\n",
      "Precision: 0.0010507560875325506 \n",
      "Recall: 0.9019607843137255 \n",
      "Aging Rate: 0.899874612016691\n",
      "\n",
      " Dataset 4:\n",
      "Precision: 0.0011105693699550354 \n",
      "Recall: 0.803921568627451 \n",
      "Aging Rate: 0.758864519311805\n",
      "\n",
      " Dataset 5:\n",
      "Precision: 0.0010419668787549604 \n",
      "Recall: 0.9215686274509803 \n",
      "Aging Rate: 0.9271927480523752\n",
      "\n",
      " Dataset 6:\n",
      "Precision: 0.0010365827322593184 \n",
      "Recall: 0.9411764705882353 \n",
      "Aging Rate: 0.9518386811650805\n",
      "\n",
      " Dataset 7:\n",
      "Precision: 0.0010629155547514587 \n",
      "Recall: 0.9215686274509803 \n",
      "Aging Rate: 0.9089189911406196\n",
      "\n",
      " Dataset 8:\n",
      "Precision: 0.0010983104713387704 \n",
      "Recall: 0.9215686274509803 \n",
      "Aging Rate: 0.879627536023351\n",
      "\n",
      " Dataset 9:\n",
      "Precision: 0.0011167638664846755 \n",
      "Recall: 0.7058823529411765 \n",
      "Aging Rate: 0.6626241032703653\n"
     ]
    },
    {
     "data": {
      "image/png": "[encoded data removed]",
      "text/plain": [
       "<Figure size 1080x576 with 2 Axes>"
      ]
     },
     "metadata": {
      "needs_background": "light"
     },
     "output_type": "display_data"
    }
   ],
   "source": [
    "table_setC = runall_cascade(run_train, run_test, best_paramC, classifier = base_learner, num_iter = 3)\n",
    "line_chart(table_setC, title = f'Balance Cascade Classifier ({base_learner})')"
   ]
  },
  {
   "cell_type": "code",
   "execution_count": 50,
   "metadata": {
    "ExecuteTime": {
     "end_time": "2022-01-10T15:06:35.751158Z",
     "start_time": "2022-01-10T15:06:35.727223Z"
    }
   },
   "outputs": [
    {
     "data": {
      "text/html": [
       "<div>\n",
       "<style scoped>\n",
       "    .dataframe tbody tr th:only-of-type {\n",
       "        vertical-align: middle;\n",
       "    }\n",
       "\n",
       "    .dataframe tbody tr th {\n",
       "        vertical-align: top;\n",
       "    }\n",
       "\n",
       "    .dataframe thead th {\n",
       "        text-align: right;\n",
       "    }\n",
       "</style>\n",
       "<table border=\"1\" class=\"dataframe\">\n",
       "  <thead>\n",
       "    <tr style=\"text-align: right;\">\n",
       "      <th></th>\n",
       "      <th>Balance Ratio</th>\n",
       "      <th>Train_OK</th>\n",
       "      <th>Train_NG</th>\n",
       "      <th>TP</th>\n",
       "      <th>FP</th>\n",
       "      <th>FN</th>\n",
       "      <th>TN</th>\n",
       "      <th>Precision</th>\n",
       "      <th>Recall</th>\n",
       "      <th>Aging Rate</th>\n",
       "      <th>Efficiency</th>\n",
       "      <th>Score</th>\n",
       "    </tr>\n",
       "  </thead>\n",
       "  <tbody>\n",
       "    <tr>\n",
       "      <th>dataset 0</th>\n",
       "      <td>515.934211</td>\n",
       "      <td>156844.0</td>\n",
       "      <td>304.0</td>\n",
       "      <td>0.0</td>\n",
       "      <td>109.0</td>\n",
       "      <td>51.0</td>\n",
       "      <td>48489.0</td>\n",
       "      <td>0.000000</td>\n",
       "      <td>0.000000</td>\n",
       "      <td>0.002241</td>\n",
       "      <td>0.000000</td>\n",
       "      <td>0.000000</td>\n",
       "    </tr>\n",
       "    <tr>\n",
       "      <th>dataset 1</th>\n",
       "      <td>5.000000</td>\n",
       "      <td>15335.0</td>\n",
       "      <td>3067.0</td>\n",
       "      <td>32.0</td>\n",
       "      <td>24623.0</td>\n",
       "      <td>19.0</td>\n",
       "      <td>23975.0</td>\n",
       "      <td>0.001298</td>\n",
       "      <td>0.627451</td>\n",
       "      <td>0.506794</td>\n",
       "      <td>1.238080</td>\n",
       "      <td>0.505486</td>\n",
       "    </tr>\n",
       "    <tr>\n",
       "      <th>dataset 2</th>\n",
       "      <td>5.000000</td>\n",
       "      <td>21020.0</td>\n",
       "      <td>4204.0</td>\n",
       "      <td>27.0</td>\n",
       "      <td>22527.0</td>\n",
       "      <td>24.0</td>\n",
       "      <td>26071.0</td>\n",
       "      <td>0.001197</td>\n",
       "      <td>0.529412</td>\n",
       "      <td>0.463607</td>\n",
       "      <td>1.141942</td>\n",
       "      <td>0.403260</td>\n",
       "    </tr>\n",
       "    <tr>\n",
       "      <th>dataset 3</th>\n",
       "      <td>5.000000</td>\n",
       "      <td>16680.0</td>\n",
       "      <td>3336.0</td>\n",
       "      <td>31.0</td>\n",
       "      <td>26653.0</td>\n",
       "      <td>20.0</td>\n",
       "      <td>21945.0</td>\n",
       "      <td>0.001162</td>\n",
       "      <td>0.607843</td>\n",
       "      <td>0.548500</td>\n",
       "      <td>1.108191</td>\n",
       "      <td>0.453348</td>\n",
       "    </tr>\n",
       "    <tr>\n",
       "      <th>dataset 4</th>\n",
       "      <td>5.000000</td>\n",
       "      <td>15190.0</td>\n",
       "      <td>3038.0</td>\n",
       "      <td>33.0</td>\n",
       "      <td>24432.0</td>\n",
       "      <td>18.0</td>\n",
       "      <td>24166.0</td>\n",
       "      <td>0.001349</td>\n",
       "      <td>0.647059</td>\n",
       "      <td>0.502888</td>\n",
       "      <td>1.286686</td>\n",
       "      <td>0.535185</td>\n",
       "    </tr>\n",
       "    <tr>\n",
       "      <th>dataset 5</th>\n",
       "      <td>4.936668</td>\n",
       "      <td>15200.0</td>\n",
       "      <td>3079.0</td>\n",
       "      <td>35.0</td>\n",
       "      <td>28221.0</td>\n",
       "      <td>16.0</td>\n",
       "      <td>20377.0</td>\n",
       "      <td>0.001239</td>\n",
       "      <td>0.686275</td>\n",
       "      <td>0.580814</td>\n",
       "      <td>1.181574</td>\n",
       "      <td>0.535326</td>\n",
       "    </tr>\n",
       "    <tr>\n",
       "      <th>dataset 6</th>\n",
       "      <td>3.583215</td>\n",
       "      <td>15200.0</td>\n",
       "      <td>4242.0</td>\n",
       "      <td>33.0</td>\n",
       "      <td>28601.0</td>\n",
       "      <td>18.0</td>\n",
       "      <td>19997.0</td>\n",
       "      <td>0.001152</td>\n",
       "      <td>0.647059</td>\n",
       "      <td>0.588584</td>\n",
       "      <td>1.099349</td>\n",
       "      <td>0.479877</td>\n",
       "    </tr>\n",
       "    <tr>\n",
       "      <th>dataset 7</th>\n",
       "      <td>4.631322</td>\n",
       "      <td>15200.0</td>\n",
       "      <td>3282.0</td>\n",
       "      <td>33.0</td>\n",
       "      <td>29776.0</td>\n",
       "      <td>18.0</td>\n",
       "      <td>18822.0</td>\n",
       "      <td>0.001107</td>\n",
       "      <td>0.647059</td>\n",
       "      <td>0.612736</td>\n",
       "      <td>1.056015</td>\n",
       "      <td>0.466381</td>\n",
       "    </tr>\n",
       "    <tr>\n",
       "      <th>dataset 8</th>\n",
       "      <td>5.000000</td>\n",
       "      <td>15200.0</td>\n",
       "      <td>3040.0</td>\n",
       "      <td>31.0</td>\n",
       "      <td>26099.0</td>\n",
       "      <td>20.0</td>\n",
       "      <td>22499.0</td>\n",
       "      <td>0.001186</td>\n",
       "      <td>0.607843</td>\n",
       "      <td>0.537113</td>\n",
       "      <td>1.131686</td>\n",
       "      <td>0.460085</td>\n",
       "    </tr>\n",
       "    <tr>\n",
       "      <th>dataset 9</th>\n",
       "      <td>25.000000</td>\n",
       "      <td>7600.0</td>\n",
       "      <td>304.0</td>\n",
       "      <td>17.0</td>\n",
       "      <td>11076.0</td>\n",
       "      <td>34.0</td>\n",
       "      <td>37522.0</td>\n",
       "      <td>0.001532</td>\n",
       "      <td>0.333333</td>\n",
       "      <td>0.228021</td>\n",
       "      <td>1.461853</td>\n",
       "      <td>0.300305</td>\n",
       "    </tr>\n",
       "  </tbody>\n",
       "</table>\n",
       "</div>"
      ],
      "text/plain": [
       "           Balance Ratio  Train_OK  Train_NG    TP       FP    FN       TN  \\\n",
       "dataset 0     515.934211  156844.0     304.0   0.0    109.0  51.0  48489.0   \n",
       "dataset 1       5.000000   15335.0    3067.0  32.0  24623.0  19.0  23975.0   \n",
       "dataset 2       5.000000   21020.0    4204.0  27.0  22527.0  24.0  26071.0   \n",
       "dataset 3       5.000000   16680.0    3336.0  31.0  26653.0  20.0  21945.0   \n",
       "dataset 4       5.000000   15190.0    3038.0  33.0  24432.0  18.0  24166.0   \n",
       "dataset 5       4.936668   15200.0    3079.0  35.0  28221.0  16.0  20377.0   \n",
       "dataset 6       3.583215   15200.0    4242.0  33.0  28601.0  18.0  19997.0   \n",
       "dataset 7       4.631322   15200.0    3282.0  33.0  29776.0  18.0  18822.0   \n",
       "dataset 8       5.000000   15200.0    3040.0  31.0  26099.0  20.0  22499.0   \n",
       "dataset 9      25.000000    7600.0     304.0  17.0  11076.0  34.0  37522.0   \n",
       "\n",
       "           Precision    Recall  Aging Rate  Efficiency     Score  \n",
       "dataset 0   0.000000  0.000000    0.002241    0.000000  0.000000  \n",
       "dataset 1   0.001298  0.627451    0.506794    1.238080  0.505486  \n",
       "dataset 2   0.001197  0.529412    0.463607    1.141942  0.403260  \n",
       "dataset 3   0.001162  0.607843    0.548500    1.108191  0.453348  \n",
       "dataset 4   0.001349  0.647059    0.502888    1.286686  0.535185  \n",
       "dataset 5   0.001239  0.686275    0.580814    1.181574  0.535326  \n",
       "dataset 6   0.001152  0.647059    0.588584    1.099349  0.479877  \n",
       "dataset 7   0.001107  0.647059    0.612736    1.056015  0.466381  \n",
       "dataset 8   0.001186  0.607843    0.537113    1.131686  0.460085  \n",
       "dataset 9   0.001532  0.333333    0.228021    1.461853  0.300305  "
      ]
     },
     "execution_count": 50,
     "metadata": {},
     "output_type": "execute_result"
    }
   ],
   "source": [
    "table_setC"
   ]
  },
  {
   "cell_type": "markdown",
   "metadata": {},
   "source": [
    "### export"
   ]
  },
  {
   "cell_type": "code",
   "execution_count": 74,
   "metadata": {
    "ExecuteTime": {
     "end_time": "2022-01-10T15:18:48.544920Z",
     "start_time": "2022-01-10T15:18:48.277639Z"
    }
   },
   "outputs": [],
   "source": [
    "savedate = '20220111'\n",
    "\n",
    "table_setC['sampler'] = 'multivariate-TPE' if TPE_multi else 'univariate-TPE'\n",
    "table_setC['model'] = 'BalanceCascade_rf_iter3_br5'\n",
    "with pd.ExcelWriter(f'{savedate}_Classifier.xlsx', mode = 'a') as writer:\n",
    "    table_setC.to_excel(writer, sheet_name = 'BalanceCascade_rf_iter3_br5')"
   ]
  }
 ],
 "metadata": {
  "hide_input": false,
  "kernelspec": {
   "display_name": "Python [conda env:aging]",
   "language": "python",
   "name": "conda-env-aging-py"
  },
  "language_info": {
   "codemirror_mode": {
    "name": "ipython",
    "version": 3
   },
   "file_extension": ".py",
   "mimetype": "text/x-python",
   "name": "python",
   "nbconvert_exporter": "python",
   "pygments_lexer": "ipython3",
   "version": "3.7.10"
  },
  "toc": {
   "base_numbering": 1,
   "nav_menu": {},
   "number_sections": true,
   "sideBar": true,
   "skip_h1_title": false,
   "title_cell": "Table of Contents",
   "title_sidebar": "Contents",
   "toc_cell": false,
   "toc_position": {},
   "toc_section_display": true,
   "toc_window_display": false
  },
  "varInspector": {
   "cols": {
    "lenName": 16,
    "lenType": 16,
    "lenVar": 40
   },
   "kernels_config": {
    "python": {
     "delete_cmd_postfix": "",
     "delete_cmd_prefix": "del ",
     "library": "var_list.py",
     "varRefreshCmd": "print(var_dic_list())"
    },
    "r": {
     "delete_cmd_postfix": ") ",
     "delete_cmd_prefix": "rm(",
     "library": "var_list.r",
     "varRefreshCmd": "cat(var_dic_list()) "
    }
   },
   "types_to_exclude": [
    "module",
    "function",
    "builtin_function_or_method",
    "instance",
    "_Feature"
   ],
   "window_display": false
  }
 },
 "nbformat": 4,
 "nbformat_minor": 4
}
