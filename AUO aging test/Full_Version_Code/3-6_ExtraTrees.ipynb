{
 "cells": [
  {
   "cell_type": "code",
   "execution_count": 9,
   "metadata": {
    "ExecuteTime": {
     "end_time": "2021-12-13T04:22:36.400097Z",
     "start_time": "2021-12-13T04:22:36.385921Z"
    }
   },
   "outputs": [
    {
     "data": {
      "text/plain": [
       "'C:\\\\Users\\\\user\\\\Desktop\\\\Darui_R08621110'"
      ]
     },
     "execution_count": 9,
     "metadata": {},
     "output_type": "execute_result"
    }
   ],
   "source": [
    "import os\n",
    "import numpy as np\n",
    "import pandas as pd\n",
    "import pickle\n",
    "from tqdm.auto import tqdm\n",
    "import matplotlib.pyplot as plt\n",
    "\n",
    "from sklearn.ensemble import ExtraTreesClassifier, ExtraTreesRegressor\n",
    "import optuna\n",
    "from sklearn.model_selection import train_test_split\n",
    "\n",
    "from library.Data_Preprocessing import Balance_Ratio\n",
    "from library.Imbalance_Sampling import label_divide\n",
    "from library.Aging_Score_Contour import score1\n",
    "from library.AdaBoost import train_set, multiple_set, multiple_month, line_chart, cf_matrix, AUC, PR_curve, \\\n",
    "     multiple_curve, PR_matrix, best_threshold, all_optuna, optuna_history \n",
    "\n",
    "os.chdir('C:/Users/user/Desktop/Darui_R08621110') \n",
    "os.getcwd()"
   ]
  },
  {
   "cell_type": "markdown",
   "metadata": {},
   "source": [
    "## "
   ]
  },
  {
   "cell_type": "markdown",
   "metadata": {},
   "source": [
    "### extra trees"
   ]
  },
  {
   "cell_type": "code",
   "execution_count": 10,
   "metadata": {
    "ExecuteTime": {
     "end_time": "2021-12-13T04:22:38.792540Z",
     "start_time": "2021-12-13T04:22:38.779489Z"
    }
   },
   "outputs": [],
   "source": [
    "def ExtraTreesC(train_x, test_x, train_y, test_y, config):\n",
    "    \n",
    "    clf = ExtraTreesClassifier(**config, n_jobs = -1)\n",
    "    clf.fit(train_x, train_y)\n",
    "    predict_y = clf.predict(test_x)\n",
    "    result = pd.DataFrame({'truth': test_y, 'predict': predict_y})\n",
    "    \n",
    "    return result\n",
    "\n",
    "\n",
    "def ExtraTreesR(train_x, test_x, train_y, test_y, config):\n",
    "    \n",
    "    clf = ExtraTreesRegressor(**config, n_jobs = -1)\n",
    "    clf.fit(train_x, train_y)\n",
    "    predict_y = clf.predict(test_x)\n",
    "    result = pd.DataFrame({'truth': test_y, 'predict': predict_y})\n",
    "    \n",
    "    return result\n",
    "\n",
    "\n",
    "def runall_ExtraTreesC(num_set, trainset_x, test_x, trainset_y, test_y, config):\n",
    "    \n",
    "    table_set = pd.DataFrame()\n",
    "    bad_set = pd.DataFrame()\n",
    "    judge = list(config.keys())[0]\n",
    "\n",
    "    for i in range(num_set):\n",
    "        print('\\n', f'Dataset {i}:')\n",
    "        \n",
    "        if isinstance(config[judge], dict) :\n",
    "            best_config = config[f'set{i}']\n",
    "        else :\n",
    "            best_config = config\n",
    "        \n",
    "        result = ExtraTreesC(trainset_x[f'set{i}'], test_x, trainset_y[f'set{i}'], test_y, best_config)\n",
    "        table = cf_matrix(result, trainset_y[f'set{i}'])\n",
    "        table_set = pd.concat([table_set, table]).rename(index = {0: f'dataset {i}'})\n",
    "\n",
    "    return table_set\n",
    "    \n",
    "    \n",
    "def runall_ExtraTreesR(num_set, trainset_x, test_x, trainset_y, test_y, config, thres_target = 'Recall', threshold = 0.8):\n",
    "    \n",
    "    table_set = pd.DataFrame()\n",
    "    bad_set = pd.DataFrame()\n",
    "    pr_dict = {}\n",
    "    judge = list(config.keys())[0]\n",
    "\n",
    "    for i in range(num_set):\n",
    "        print('\\n', f'Dataset {i}:')\n",
    "        \n",
    "        if isinstance(config[judge], dict) :\n",
    "            best_config = config[f'set{i}']\n",
    "        else :\n",
    "            best_config = config\n",
    "\n",
    "        predict = ExtraTreesR(trainset_x[f'set{i}'], test_x, trainset_y[f'set{i}'], test_y, best_config)\n",
    "        pr_matrix = PR_matrix(predict, trainset_y[f'set{i}'])\n",
    "        pr_dict[f'set{i}'] = pr_matrix\n",
    "        \n",
    "        best_data, best_thres = best_threshold(pr_matrix, target = thres_target, threshold = threshold)\n",
    "        table_set = pd.concat([table_set, best_data]).rename(index = {best_data.index.values[0]: f'dataset {i}'})\n",
    "\n",
    "    return pr_dict, table_set"
   ]
  },
  {
   "cell_type": "markdown",
   "metadata": {},
   "source": [
    "### optuna"
   ]
  },
  {
   "cell_type": "code",
   "execution_count": 11,
   "metadata": {
    "ExecuteTime": {
     "end_time": "2021-12-13T04:22:40.729685Z",
     "start_time": "2021-12-13T04:22:40.699577Z"
    }
   },
   "outputs": [],
   "source": [
    "def ExtraTrees_creator(train_data, mode, num_valid = 3, label = 'GB') :\n",
    "    \n",
    "    def objective(trial) :\n",
    "\n",
    "        param = {\n",
    "            'n_estimators': trial.suggest_int('n_estimators', 100, 900, step = 200),\n",
    "            'min_samples_split': trial.suggest_int('min_samples_split', 2, 32, step = 5),\n",
    "            'max_depth': trial.suggest_int('max_depth', 3, 21, step = 3)\n",
    "        }\n",
    "\n",
    "        result_list = []\n",
    "        for i in range(num_valid):\n",
    "\n",
    "            train_x, train_y = label_divide(train_data, None, 'GB', train_only = True)\n",
    "            train_x, valid_x, train_y, valid_y = train_test_split(train_x, train_y, test_size = 0.25)\n",
    "\n",
    "            if mode == 'C':\n",
    "                result = ExtraTreesC(train_x, valid_x, train_y, valid_y, param)\n",
    "                table = cf_matrix(result, valid_y)\n",
    "                recall = table['Recall']\n",
    "                precision = table['Precision']\n",
    "                beta = 0.75\n",
    "                fscore = ((1+beta**2)*recall*precision) / (recall+(beta**2)*precision)\n",
    "                result_list.append(fscore)\n",
    "\n",
    "            elif mode == 'R':\n",
    "                result = ExtraTreesR(train_x, valid_x, train_y, valid_y, param)\n",
    "                pr_matrix = PR_matrix(result, valid_y)\n",
    "                auc = AUC(pr_matrix['Recall'], pr_matrix['Aging Rate'])\n",
    "                result_list.append((-1)*auc)\n",
    "\n",
    "        return np.mean(result_list)\n",
    "    \n",
    "    return objective"
   ]
  },
  {
   "cell_type": "markdown",
   "metadata": {},
   "source": [
    "## "
   ]
  },
  {
   "cell_type": "markdown",
   "metadata": {},
   "source": [
    "### loading training & testing data"
   ]
  },
  {
   "cell_type": "code",
   "execution_count": 12,
   "metadata": {
    "ExecuteTime": {
     "end_time": "2021-12-13T04:22:49.469560Z",
     "start_time": "2021-12-13T04:22:42.533175Z"
    },
    "scrolled": true
   },
   "outputs": [
    {
     "name": "stdout",
     "output_type": "stream",
     "text": [
      "\n",
      "Month 2:\n",
      "\n",
      "Dimension of dataset 0 : (39009, 88)  balance ratio: 564.35\n",
      "Dimension of dataset 1 : (1404, 88)  balance ratio: 1.0\n",
      "Dimension of dataset 2 : (1928, 88)  balance ratio: 1.0\n",
      "Dimension of dataset 3 : (1514, 88)  balance ratio: 1.0\n",
      "Dimension of dataset 4 : (1378, 88)  balance ratio: 1.0\n",
      "Dimension of dataset 5 : (1370, 88)  balance ratio: 1.01\n",
      "Dimension of dataset 6 : (1662, 88)  balance ratio: 0.71\n",
      "Dimension of dataset 7 : (1380, 88)  balance ratio: 1.0\n",
      "Dimension of dataset 8 : (1380, 88)  balance ratio: 1.0\n",
      "Dimension of dataset 9 : (759, 88)  balance ratio: 10.0\n",
      "\n",
      " 10 datasets are loaded.\n",
      "\n",
      "Labels of  10 datasets are divided.\n",
      "\n",
      "Month 3:\n",
      "\n",
      "Dimension of dataset 0 : (60396, 97)  balance ratio: 533.48\n",
      "Dimension of dataset 1 : (2304, 97)  balance ratio: 1.0\n",
      "Dimension of dataset 2 : (3150, 97)  balance ratio: 1.0\n",
      "Dimension of dataset 3 : (2480, 97)  balance ratio: 1.0\n",
      "Dimension of dataset 4 : (2258, 97)  balance ratio: 1.0\n",
      "Dimension of dataset 5 : (2271, 97)  balance ratio: 0.99\n",
      "Dimension of dataset 6 : (2702, 97)  balance ratio: 0.72\n",
      "Dimension of dataset 7 : (2260, 97)  balance ratio: 1.0\n",
      "Dimension of dataset 8 : (2260, 97)  balance ratio: 1.0\n",
      "Dimension of dataset 9 : (1243, 97)  balance ratio: 10.0\n",
      "\n",
      " 10 datasets are loaded.\n",
      "\n",
      "Labels of  10 datasets are divided.\n",
      "\n",
      "Month 4:\n",
      "\n",
      "Dimension of dataset 0 : (57743, 100)  balance ratio: 472.3\n",
      "Dimension of dataset 1 : (2426, 100)  balance ratio: 1.0\n",
      "Dimension of dataset 2 : (3336, 100)  balance ratio: 1.0\n",
      "Dimension of dataset 3 : (2678, 100)  balance ratio: 1.0\n",
      "Dimension of dataset 4 : (2440, 100)  balance ratio: 1.0\n",
      "Dimension of dataset 5 : (2419, 100)  balance ratio: 1.02\n",
      "Dimension of dataset 6 : (2904, 100)  balance ratio: 0.72\n",
      "Dimension of dataset 7 : (2440, 100)  balance ratio: 1.0\n",
      "Dimension of dataset 8 : (2440, 100)  balance ratio: 1.0\n",
      "Dimension of dataset 9 : (1342, 100)  balance ratio: 10.0\n",
      "\n",
      " 10 datasets are loaded.\n",
      "\n",
      "Labels of  10 datasets are divided.\n",
      "\n",
      "Combined training data:\n",
      "\n",
      "Dimension of dataset 0 : (157148, 128)  balance ratio: 515.93\n",
      "Dimension of dataset 1 : (6134, 128)  balance ratio: 1.0\n",
      "Dimension of dataset 2 : (8414, 128)  balance ratio: 1.0\n",
      "Dimension of dataset 3 : (6672, 128)  balance ratio: 1.0\n",
      "Dimension of dataset 4 : (6076, 128)  balance ratio: 1.0\n",
      "Dimension of dataset 5 : (6060, 128)  balance ratio: 1.01\n",
      "Dimension of dataset 6 : (7268, 128)  balance ratio: 0.72\n",
      "Dimension of dataset 7 : (6080, 128)  balance ratio: 1.0\n",
      "Dimension of dataset 8 : (6080, 128)  balance ratio: 1.0\n",
      "Dimension of dataset 9 : (3344, 128)  balance ratio: 10.0\n",
      "\n",
      " 10 datasets are loaded.\n",
      "\n",
      "Labels of  10 datasets are divided.\n",
      "\n",
      " Dimension of testing data: (48649, 128)\n"
     ]
    }
   ],
   "source": [
    "### training data ### \n",
    "training_month = range(2, 5)\n",
    "\n",
    "data_dict, trainset_x, trainset_y = multiple_month(training_month, num_set = 10, filename = 'dataset')\n",
    "\n",
    "print('\\nCombined training data:\\n')\n",
    "run_train = multiple_set(num_set = 10)\n",
    "run_train_x, run_train_y = train_set(run_train, num_set = 10)\n",
    "\n",
    "### testing data ###\n",
    "run_test = pd.read_csv('test_runhist.csv').iloc[:, 2:]\n",
    "run_test_x, run_test_y = label_divide(run_test, None, 'GB', train_only = True)\n",
    "print('\\n', 'Dimension of testing data:', run_test.shape)"
   ]
  },
  {
   "cell_type": "markdown",
   "metadata": {},
   "source": [
    "### search for best hyperparameter"
   ]
  },
  {
   "cell_type": "code",
   "execution_count": 13,
   "metadata": {
    "ExecuteTime": {
     "end_time": "2021-12-13T05:22:50.815395Z",
     "start_time": "2021-12-13T04:22:52.417188Z"
    },
    "scrolled": true
   },
   "outputs": [
    {
     "data": {
      "application/vnd.jupyter.widget-view+json": {
       "model_id": "6240141f5ea742269be770df4dfdbfd5",
       "version_major": 2,
       "version_minor": 0
      },
      "text/plain": [
       "  0%|          | 0/10 [00:00<?, ?it/s]"
      ]
     },
     "metadata": {},
     "output_type": "display_data"
    },
    {
     "name": "stderr",
     "output_type": "stream",
     "text": [
      "C:\\Users\\user\\anaconda3\\envs\\aging\\lib\\site-packages\\optuna\\samplers\\_tpe\\sampler.py:253: ExperimentalWarning: ``multivariate`` option is an experimental feature. The interface can change in the future.\n",
      "  ExperimentalWarning,\n",
      "\u001b[32m[I 2021-12-13 12:22:52,478]\u001b[0m A new study created in memory with name: no-name-deb5979d-bae3-46a2-b436-6a18056fa92b\u001b[0m\n"
     ]
    },
    {
     "name": "stdout",
     "output_type": "stream",
     "text": [
      "Dataset0 :\n"
     ]
    },
    {
     "name": "stderr",
     "output_type": "stream",
     "text": [
      "C:\\Users\\user\\anaconda3\\envs\\aging\\lib\\site-packages\\optuna\\progress_bar.py:47: ExperimentalWarning: Progress bar is experimental (supported from v1.2.0). The interface can change in the future.\n",
      "  self._init_valid()\n"
     ]
    },
    {
     "data": {
      "application/vnd.jupyter.widget-view+json": {
       "model_id": "c28a6e911ce849d18bdf75dcc92b147e",
       "version_major": 2,
       "version_minor": 0
      },
      "text/plain": [
       "  0%|          | 0/50 [00:00<?, ?it/s]"
      ]
     },
     "metadata": {},
     "output_type": "display_data"
    },
    {
     "name": "stderr",
     "output_type": "stream",
     "text": [
      "C:\\Users\\user\\Desktop\\Darui_R08621110\\Master_Thesis\\AUO aging test\\Full_Version_Code\\library\\Aging_Score_Contour.py:43: RuntimeWarning: invalid value encountered in double_scalars\n",
      "  eff = r/ag\n"
     ]
    },
    {
     "name": "stdout",
     "output_type": "stream",
     "text": [
      "Precision: 0 \n",
      "Recall: 0.0 \n",
      "Aging Rate: 0.0\n"
     ]
    },
    {
     "name": "stderr",
     "output_type": "stream",
     "text": [
      "C:\\Users\\user\\Desktop\\Darui_R08621110\\Master_Thesis\\AUO aging test\\Full_Version_Code\\library\\Aging_Score_Contour.py:43: RuntimeWarning: invalid value encountered in double_scalars\n",
      "  eff = r/ag\n"
     ]
    },
    {
     "name": "stdout",
     "output_type": "stream",
     "text": [
      "Precision: 0 \n",
      "Recall: 0.0 \n",
      "Aging Rate: 0.0\n"
     ]
    },
    {
     "name": "stderr",
     "output_type": "stream",
     "text": [
      "C:\\Users\\user\\Desktop\\Darui_R08621110\\Master_Thesis\\AUO aging test\\Full_Version_Code\\library\\Aging_Score_Contour.py:43: RuntimeWarning: invalid value encountered in double_scalars\n",
      "  eff = r/ag\n"
     ]
    },
    {
     "name": "stdout",
     "output_type": "stream",
     "text": [
      "Precision: 0 \n",
      "Recall: 0.0 \n",
      "Aging Rate: 0.0\n",
      "\u001b[33m[W 2021-12-13 12:23:39,116]\u001b[0m Trial 0 failed, because the objective function returned nan.\u001b[0m\n"
     ]
    },
    {
     "name": "stderr",
     "output_type": "stream",
     "text": [
      "C:\\Users\\user\\Desktop\\Darui_R08621110\\Master_Thesis\\AUO aging test\\Full_Version_Code\\library\\Aging_Score_Contour.py:43: RuntimeWarning: invalid value encountered in double_scalars\n",
      "  eff = r/ag\n"
     ]
    },
    {
     "name": "stdout",
     "output_type": "stream",
     "text": [
      "Precision: 0 \n",
      "Recall: 0.0 \n",
      "Aging Rate: 0.0\n"
     ]
    },
    {
     "name": "stderr",
     "output_type": "stream",
     "text": [
      "C:\\Users\\user\\Desktop\\Darui_R08621110\\Master_Thesis\\AUO aging test\\Full_Version_Code\\library\\Aging_Score_Contour.py:43: RuntimeWarning: invalid value encountered in double_scalars\n",
      "  eff = r/ag\n"
     ]
    },
    {
     "name": "stdout",
     "output_type": "stream",
     "text": [
      "Precision: 0 \n",
      "Recall: 0.0 \n",
      "Aging Rate: 0.0\n"
     ]
    },
    {
     "name": "stderr",
     "output_type": "stream",
     "text": [
      "C:\\Users\\user\\Desktop\\Darui_R08621110\\Master_Thesis\\AUO aging test\\Full_Version_Code\\library\\Aging_Score_Contour.py:43: RuntimeWarning: invalid value encountered in double_scalars\n",
      "  eff = r/ag\n"
     ]
    },
    {
     "name": "stdout",
     "output_type": "stream",
     "text": [
      "Precision: 0 \n",
      "Recall: 0.0 \n",
      "Aging Rate: 0.0\n",
      "\u001b[33m[W 2021-12-13 12:25:05,726]\u001b[0m Trial 1 failed, because the objective function returned nan.\u001b[0m\n"
     ]
    },
    {
     "name": "stderr",
     "output_type": "stream",
     "text": [
      "C:\\Users\\user\\Desktop\\Darui_R08621110\\Master_Thesis\\AUO aging test\\Full_Version_Code\\library\\Aging_Score_Contour.py:43: RuntimeWarning: invalid value encountered in double_scalars\n",
      "  eff = r/ag\n"
     ]
    },
    {
     "name": "stdout",
     "output_type": "stream",
     "text": [
      "Precision: 0 \n",
      "Recall: 0.0 \n",
      "Aging Rate: 0.0\n"
     ]
    },
    {
     "name": "stderr",
     "output_type": "stream",
     "text": [
      "C:\\Users\\user\\Desktop\\Darui_R08621110\\Master_Thesis\\AUO aging test\\Full_Version_Code\\library\\Aging_Score_Contour.py:43: RuntimeWarning: invalid value encountered in double_scalars\n",
      "  eff = r/ag\n"
     ]
    },
    {
     "name": "stdout",
     "output_type": "stream",
     "text": [
      "Precision: 0 \n",
      "Recall: 0.0 \n",
      "Aging Rate: 0.0\n"
     ]
    },
    {
     "name": "stderr",
     "output_type": "stream",
     "text": [
      "C:\\Users\\user\\Desktop\\Darui_R08621110\\Master_Thesis\\AUO aging test\\Full_Version_Code\\library\\Aging_Score_Contour.py:43: RuntimeWarning: invalid value encountered in double_scalars\n",
      "  eff = r/ag\n"
     ]
    },
    {
     "name": "stdout",
     "output_type": "stream",
     "text": [
      "Precision: 0 \n",
      "Recall: 0.0 \n",
      "Aging Rate: 0.0\n",
      "\u001b[33m[W 2021-12-13 12:25:50,050]\u001b[0m Trial 2 failed, because the objective function returned nan.\u001b[0m\n"
     ]
    },
    {
     "name": "stderr",
     "output_type": "stream",
     "text": [
      "C:\\Users\\user\\Desktop\\Darui_R08621110\\Master_Thesis\\AUO aging test\\Full_Version_Code\\library\\Aging_Score_Contour.py:43: RuntimeWarning: invalid value encountered in double_scalars\n",
      "  eff = r/ag\n"
     ]
    },
    {
     "name": "stdout",
     "output_type": "stream",
     "text": [
      "Precision: 0 \n",
      "Recall: 0.0 \n",
      "Aging Rate: 0.0\n"
     ]
    },
    {
     "name": "stderr",
     "output_type": "stream",
     "text": [
      "C:\\Users\\user\\Desktop\\Darui_R08621110\\Master_Thesis\\AUO aging test\\Full_Version_Code\\library\\Aging_Score_Contour.py:43: RuntimeWarning: invalid value encountered in double_scalars\n",
      "  eff = r/ag\n"
     ]
    },
    {
     "name": "stdout",
     "output_type": "stream",
     "text": [
      "Precision: 0 \n",
      "Recall: 0.0 \n",
      "Aging Rate: 0.0\n"
     ]
    },
    {
     "name": "stderr",
     "output_type": "stream",
     "text": [
      "C:\\Users\\user\\Desktop\\Darui_R08621110\\Master_Thesis\\AUO aging test\\Full_Version_Code\\library\\Aging_Score_Contour.py:43: RuntimeWarning: invalid value encountered in double_scalars\n",
      "  eff = r/ag\n"
     ]
    },
    {
     "name": "stdout",
     "output_type": "stream",
     "text": [
      "Precision: 0 \n",
      "Recall: 0.0 \n",
      "Aging Rate: 0.0\n",
      "\u001b[33m[W 2021-12-13 12:26:59,009]\u001b[0m Trial 3 failed, because the objective function returned nan.\u001b[0m\n"
     ]
    },
    {
     "name": "stderr",
     "output_type": "stream",
     "text": [
      "C:\\Users\\user\\Desktop\\Darui_R08621110\\Master_Thesis\\AUO aging test\\Full_Version_Code\\library\\Aging_Score_Contour.py:43: RuntimeWarning: invalid value encountered in double_scalars\n",
      "  eff = r/ag\n"
     ]
    },
    {
     "name": "stdout",
     "output_type": "stream",
     "text": [
      "Precision: 0 \n",
      "Recall: 0.0 \n",
      "Aging Rate: 0.0\n"
     ]
    },
    {
     "name": "stderr",
     "output_type": "stream",
     "text": [
      "C:\\Users\\user\\Desktop\\Darui_R08621110\\Master_Thesis\\AUO aging test\\Full_Version_Code\\library\\Aging_Score_Contour.py:43: RuntimeWarning: invalid value encountered in double_scalars\n",
      "  eff = r/ag\n"
     ]
    },
    {
     "name": "stdout",
     "output_type": "stream",
     "text": [
      "Precision: 0 \n",
      "Recall: 0.0 \n",
      "Aging Rate: 0.0\n"
     ]
    },
    {
     "name": "stderr",
     "output_type": "stream",
     "text": [
      "C:\\Users\\user\\Desktop\\Darui_R08621110\\Master_Thesis\\AUO aging test\\Full_Version_Code\\library\\Aging_Score_Contour.py:43: RuntimeWarning: invalid value encountered in double_scalars\n",
      "  eff = r/ag\n"
     ]
    },
    {
     "name": "stdout",
     "output_type": "stream",
     "text": [
      "Precision: 0 \n",
      "Recall: 0.0 \n",
      "Aging Rate: 0.0\n",
      "\u001b[33m[W 2021-12-13 12:28:50,526]\u001b[0m Trial 4 failed, because the objective function returned nan.\u001b[0m\n"
     ]
    },
    {
     "name": "stderr",
     "output_type": "stream",
     "text": [
      "C:\\Users\\user\\Desktop\\Darui_R08621110\\Master_Thesis\\AUO aging test\\Full_Version_Code\\library\\Aging_Score_Contour.py:43: RuntimeWarning: invalid value encountered in double_scalars\n",
      "  eff = r/ag\n"
     ]
    },
    {
     "name": "stdout",
     "output_type": "stream",
     "text": [
      "Precision: 0 \n",
      "Recall: 0.0 \n",
      "Aging Rate: 0.0\n"
     ]
    },
    {
     "name": "stderr",
     "output_type": "stream",
     "text": [
      "C:\\Users\\user\\Desktop\\Darui_R08621110\\Master_Thesis\\AUO aging test\\Full_Version_Code\\library\\Aging_Score_Contour.py:43: RuntimeWarning: invalid value encountered in double_scalars\n",
      "  eff = r/ag\n"
     ]
    },
    {
     "name": "stdout",
     "output_type": "stream",
     "text": [
      "Precision: 0 \n",
      "Recall: 0.0 \n",
      "Aging Rate: 0.0\n"
     ]
    },
    {
     "name": "stderr",
     "output_type": "stream",
     "text": [
      "C:\\Users\\user\\Desktop\\Darui_R08621110\\Master_Thesis\\AUO aging test\\Full_Version_Code\\library\\Aging_Score_Contour.py:43: RuntimeWarning: invalid value encountered in double_scalars\n",
      "  eff = r/ag\n"
     ]
    },
    {
     "name": "stdout",
     "output_type": "stream",
     "text": [
      "Precision: 0 \n",
      "Recall: 0.0 \n",
      "Aging Rate: 0.0\n",
      "\u001b[33m[W 2021-12-13 12:29:00,665]\u001b[0m Trial 5 failed, because the objective function returned nan.\u001b[0m\n"
     ]
    },
    {
     "name": "stderr",
     "output_type": "stream",
     "text": [
      "C:\\Users\\user\\Desktop\\Darui_R08621110\\Master_Thesis\\AUO aging test\\Full_Version_Code\\library\\Aging_Score_Contour.py:43: RuntimeWarning: invalid value encountered in double_scalars\n",
      "  eff = r/ag\n"
     ]
    },
    {
     "name": "stdout",
     "output_type": "stream",
     "text": [
      "Precision: 0 \n",
      "Recall: 0.0 \n",
      "Aging Rate: 0.0\n"
     ]
    },
    {
     "name": "stderr",
     "output_type": "stream",
     "text": [
      "C:\\Users\\user\\Desktop\\Darui_R08621110\\Master_Thesis\\AUO aging test\\Full_Version_Code\\library\\Aging_Score_Contour.py:43: RuntimeWarning: invalid value encountered in double_scalars\n",
      "  eff = r/ag\n"
     ]
    },
    {
     "name": "stdout",
     "output_type": "stream",
     "text": [
      "Precision: 0 \n",
      "Recall: 0.0 \n",
      "Aging Rate: 0.0\n"
     ]
    },
    {
     "name": "stderr",
     "output_type": "stream",
     "text": [
      "C:\\Users\\user\\Desktop\\Darui_R08621110\\Master_Thesis\\AUO aging test\\Full_Version_Code\\library\\Aging_Score_Contour.py:43: RuntimeWarning: invalid value encountered in double_scalars\n",
      "  eff = r/ag\n"
     ]
    },
    {
     "name": "stdout",
     "output_type": "stream",
     "text": [
      "Precision: 0 \n",
      "Recall: 0.0 \n",
      "Aging Rate: 0.0\n",
      "\u001b[33m[W 2021-12-13 12:30:44,245]\u001b[0m Trial 6 failed, because the objective function returned nan.\u001b[0m\n"
     ]
    },
    {
     "name": "stderr",
     "output_type": "stream",
     "text": [
      "C:\\Users\\user\\Desktop\\Darui_R08621110\\Master_Thesis\\AUO aging test\\Full_Version_Code\\library\\Aging_Score_Contour.py:43: RuntimeWarning: invalid value encountered in double_scalars\n",
      "  eff = r/ag\n"
     ]
    },
    {
     "name": "stdout",
     "output_type": "stream",
     "text": [
      "Precision: 0 \n",
      "Recall: 0.0 \n",
      "Aging Rate: 0.0\n"
     ]
    },
    {
     "name": "stderr",
     "output_type": "stream",
     "text": [
      "C:\\Users\\user\\Desktop\\Darui_R08621110\\Master_Thesis\\AUO aging test\\Full_Version_Code\\library\\Aging_Score_Contour.py:43: RuntimeWarning: invalid value encountered in double_scalars\n",
      "  eff = r/ag\n"
     ]
    },
    {
     "name": "stdout",
     "output_type": "stream",
     "text": [
      "Precision: 0 \n",
      "Recall: 0.0 \n",
      "Aging Rate: 0.0\n"
     ]
    },
    {
     "name": "stderr",
     "output_type": "stream",
     "text": [
      "C:\\Users\\user\\Desktop\\Darui_R08621110\\Master_Thesis\\AUO aging test\\Full_Version_Code\\library\\Aging_Score_Contour.py:43: RuntimeWarning: invalid value encountered in double_scalars\n",
      "  eff = r/ag\n"
     ]
    },
    {
     "name": "stdout",
     "output_type": "stream",
     "text": [
      "Precision: 0 \n",
      "Recall: 0.0 \n",
      "Aging Rate: 0.0\n",
      "\u001b[33m[W 2021-12-13 12:30:50,371]\u001b[0m Trial 7 failed, because the objective function returned nan.\u001b[0m\n"
     ]
    },
    {
     "name": "stderr",
     "output_type": "stream",
     "text": [
      "C:\\Users\\user\\Desktop\\Darui_R08621110\\Master_Thesis\\AUO aging test\\Full_Version_Code\\library\\Aging_Score_Contour.py:43: RuntimeWarning: invalid value encountered in double_scalars\n",
      "  eff = r/ag\n"
     ]
    },
    {
     "name": "stdout",
     "output_type": "stream",
     "text": [
      "Precision: 0 \n",
      "Recall: 0.0 \n",
      "Aging Rate: 0.0\n"
     ]
    },
    {
     "name": "stderr",
     "output_type": "stream",
     "text": [
      "C:\\Users\\user\\Desktop\\Darui_R08621110\\Master_Thesis\\AUO aging test\\Full_Version_Code\\library\\Aging_Score_Contour.py:43: RuntimeWarning: invalid value encountered in double_scalars\n",
      "  eff = r/ag\n"
     ]
    },
    {
     "name": "stdout",
     "output_type": "stream",
     "text": [
      "Precision: 0 \n",
      "Recall: 0.0 \n",
      "Aging Rate: 0.0\n"
     ]
    },
    {
     "name": "stderr",
     "output_type": "stream",
     "text": [
      "C:\\Users\\user\\Desktop\\Darui_R08621110\\Master_Thesis\\AUO aging test\\Full_Version_Code\\library\\Aging_Score_Contour.py:43: RuntimeWarning: invalid value encountered in double_scalars\n",
      "  eff = r/ag\n"
     ]
    },
    {
     "name": "stdout",
     "output_type": "stream",
     "text": [
      "Precision: 0 \n",
      "Recall: 0.0 \n",
      "Aging Rate: 0.0\n",
      "\u001b[33m[W 2021-12-13 12:31:06,865]\u001b[0m Trial 8 failed, because the objective function returned nan.\u001b[0m\n"
     ]
    },
    {
     "name": "stderr",
     "output_type": "stream",
     "text": [
      "C:\\Users\\user\\Desktop\\Darui_R08621110\\Master_Thesis\\AUO aging test\\Full_Version_Code\\library\\Aging_Score_Contour.py:43: RuntimeWarning: invalid value encountered in double_scalars\n",
      "  eff = r/ag\n"
     ]
    },
    {
     "name": "stdout",
     "output_type": "stream",
     "text": [
      "Precision: 0 \n",
      "Recall: 0.0 \n",
      "Aging Rate: 0.0\n"
     ]
    },
    {
     "name": "stderr",
     "output_type": "stream",
     "text": [
      "C:\\Users\\user\\Desktop\\Darui_R08621110\\Master_Thesis\\AUO aging test\\Full_Version_Code\\library\\Aging_Score_Contour.py:43: RuntimeWarning: invalid value encountered in double_scalars\n",
      "  eff = r/ag\n"
     ]
    },
    {
     "name": "stdout",
     "output_type": "stream",
     "text": [
      "Precision: 0 \n",
      "Recall: 0.0 \n",
      "Aging Rate: 0.0\n"
     ]
    },
    {
     "name": "stderr",
     "output_type": "stream",
     "text": [
      "C:\\Users\\user\\Desktop\\Darui_R08621110\\Master_Thesis\\AUO aging test\\Full_Version_Code\\library\\Aging_Score_Contour.py:43: RuntimeWarning: invalid value encountered in double_scalars\n",
      "  eff = r/ag\n"
     ]
    },
    {
     "name": "stdout",
     "output_type": "stream",
     "text": [
      "Precision: 0 \n",
      "Recall: 0.0 \n",
      "Aging Rate: 0.0\n",
      "\u001b[33m[W 2021-12-13 12:31:53,563]\u001b[0m Trial 9 failed, because the objective function returned nan.\u001b[0m\n"
     ]
    },
    {
     "name": "stderr",
     "output_type": "stream",
     "text": [
      "C:\\Users\\user\\Desktop\\Darui_R08621110\\Master_Thesis\\AUO aging test\\Full_Version_Code\\library\\Aging_Score_Contour.py:43: RuntimeWarning: invalid value encountered in double_scalars\n",
      "  eff = r/ag\n"
     ]
    },
    {
     "name": "stdout",
     "output_type": "stream",
     "text": [
      "Precision: 0 \n",
      "Recall: 0.0 \n",
      "Aging Rate: 0.0\n"
     ]
    },
    {
     "name": "stderr",
     "output_type": "stream",
     "text": [
      "C:\\Users\\user\\Desktop\\Darui_R08621110\\Master_Thesis\\AUO aging test\\Full_Version_Code\\library\\Aging_Score_Contour.py:43: RuntimeWarning: invalid value encountered in double_scalars\n",
      "  eff = r/ag\n"
     ]
    },
    {
     "name": "stdout",
     "output_type": "stream",
     "text": [
      "Precision: 0 \n",
      "Recall: 0.0 \n",
      "Aging Rate: 0.0\n"
     ]
    },
    {
     "name": "stderr",
     "output_type": "stream",
     "text": [
      "C:\\Users\\user\\Desktop\\Darui_R08621110\\Master_Thesis\\AUO aging test\\Full_Version_Code\\library\\Aging_Score_Contour.py:43: RuntimeWarning: invalid value encountered in double_scalars\n",
      "  eff = r/ag\n"
     ]
    },
    {
     "name": "stdout",
     "output_type": "stream",
     "text": [
      "Precision: 0 \n",
      "Recall: 0.0 \n",
      "Aging Rate: 0.0\n",
      "\u001b[33m[W 2021-12-13 12:32:40,257]\u001b[0m Trial 10 failed, because the objective function returned nan.\u001b[0m\n"
     ]
    },
    {
     "name": "stderr",
     "output_type": "stream",
     "text": [
      "C:\\Users\\user\\Desktop\\Darui_R08621110\\Master_Thesis\\AUO aging test\\Full_Version_Code\\library\\Aging_Score_Contour.py:43: RuntimeWarning: invalid value encountered in double_scalars\n",
      "  eff = r/ag\n"
     ]
    },
    {
     "name": "stdout",
     "output_type": "stream",
     "text": [
      "Precision: 0 \n",
      "Recall: 0.0 \n",
      "Aging Rate: 0.0\n"
     ]
    },
    {
     "name": "stderr",
     "output_type": "stream",
     "text": [
      "C:\\Users\\user\\Desktop\\Darui_R08621110\\Master_Thesis\\AUO aging test\\Full_Version_Code\\library\\Aging_Score_Contour.py:43: RuntimeWarning: invalid value encountered in double_scalars\n",
      "  eff = r/ag\n"
     ]
    },
    {
     "name": "stdout",
     "output_type": "stream",
     "text": [
      "Precision: 0 \n",
      "Recall: 0.0 \n",
      "Aging Rate: 0.0\n"
     ]
    },
    {
     "name": "stderr",
     "output_type": "stream",
     "text": [
      "C:\\Users\\user\\Desktop\\Darui_R08621110\\Master_Thesis\\AUO aging test\\Full_Version_Code\\library\\Aging_Score_Contour.py:43: RuntimeWarning: invalid value encountered in double_scalars\n",
      "  eff = r/ag\n"
     ]
    },
    {
     "name": "stdout",
     "output_type": "stream",
     "text": [
      "Precision: 0 \n",
      "Recall: 0.0 \n",
      "Aging Rate: 0.0\n",
      "\u001b[33m[W 2021-12-13 12:32:56,538]\u001b[0m Trial 11 failed, because the objective function returned nan.\u001b[0m\n"
     ]
    },
    {
     "name": "stderr",
     "output_type": "stream",
     "text": [
      "C:\\Users\\user\\Desktop\\Darui_R08621110\\Master_Thesis\\AUO aging test\\Full_Version_Code\\library\\Aging_Score_Contour.py:43: RuntimeWarning: invalid value encountered in double_scalars\n",
      "  eff = r/ag\n"
     ]
    },
    {
     "name": "stdout",
     "output_type": "stream",
     "text": [
      "Precision: 0 \n",
      "Recall: 0.0 \n",
      "Aging Rate: 0.0\n"
     ]
    },
    {
     "name": "stderr",
     "output_type": "stream",
     "text": [
      "C:\\Users\\user\\Desktop\\Darui_R08621110\\Master_Thesis\\AUO aging test\\Full_Version_Code\\library\\Aging_Score_Contour.py:43: RuntimeWarning: invalid value encountered in double_scalars\n",
      "  eff = r/ag\n"
     ]
    },
    {
     "name": "stdout",
     "output_type": "stream",
     "text": [
      "Precision: 0 \n",
      "Recall: 0.0 \n",
      "Aging Rate: 0.0\n"
     ]
    },
    {
     "name": "stderr",
     "output_type": "stream",
     "text": [
      "C:\\Users\\user\\Desktop\\Darui_R08621110\\Master_Thesis\\AUO aging test\\Full_Version_Code\\library\\Aging_Score_Contour.py:43: RuntimeWarning: invalid value encountered in double_scalars\n",
      "  eff = r/ag\n"
     ]
    },
    {
     "name": "stdout",
     "output_type": "stream",
     "text": [
      "Precision: 0 \n",
      "Recall: 0.0 \n",
      "Aging Rate: 0.0\n",
      "\u001b[33m[W 2021-12-13 12:34:38,835]\u001b[0m Trial 12 failed, because the objective function returned nan.\u001b[0m\n"
     ]
    },
    {
     "name": "stderr",
     "output_type": "stream",
     "text": [
      "C:\\Users\\user\\Desktop\\Darui_R08621110\\Master_Thesis\\AUO aging test\\Full_Version_Code\\library\\Aging_Score_Contour.py:43: RuntimeWarning: invalid value encountered in double_scalars\n",
      "  eff = r/ag\n"
     ]
    },
    {
     "name": "stdout",
     "output_type": "stream",
     "text": [
      "Precision: 0 \n",
      "Recall: 0.0 \n",
      "Aging Rate: 0.0\n"
     ]
    },
    {
     "name": "stderr",
     "output_type": "stream",
     "text": [
      "C:\\Users\\user\\Desktop\\Darui_R08621110\\Master_Thesis\\AUO aging test\\Full_Version_Code\\library\\Aging_Score_Contour.py:43: RuntimeWarning: invalid value encountered in double_scalars\n",
      "  eff = r/ag\n"
     ]
    },
    {
     "name": "stdout",
     "output_type": "stream",
     "text": [
      "Precision: 0 \n",
      "Recall: 0.0 \n",
      "Aging Rate: 0.0\n"
     ]
    },
    {
     "name": "stderr",
     "output_type": "stream",
     "text": [
      "C:\\Users\\user\\Desktop\\Darui_R08621110\\Master_Thesis\\AUO aging test\\Full_Version_Code\\library\\Aging_Score_Contour.py:43: RuntimeWarning: invalid value encountered in double_scalars\n",
      "  eff = r/ag\n"
     ]
    },
    {
     "name": "stdout",
     "output_type": "stream",
     "text": [
      "Precision: 0 \n",
      "Recall: 0.0 \n",
      "Aging Rate: 0.0\n",
      "\u001b[33m[W 2021-12-13 12:35:06,726]\u001b[0m Trial 13 failed, because the objective function returned nan.\u001b[0m\n",
      "Precision: 0.8888888888888888 \n",
      "Recall: 0.34285714285714286 \n",
      "Aging Rate: 0.0006872502354468399\n",
      "Precision: 1.0 \n",
      "Recall: 0.2692307692307692 \n",
      "Aging Rate: 0.0005345279609030977\n",
      "Precision: 0.8333333333333334 \n",
      "Recall: 0.24193548387096775 \n",
      "Aging Rate: 0.0004581668236312266\n",
      "\u001b[32m[I 2021-12-13 12:36:55,973]\u001b[0m Trial 14 finished with value: 0.5046715031935854 and parameters: {'n_estimators': 700, 'min_samples_split': 2, 'max_depth': 18}. Best is trial 14 with value: 0.5046715031935854.\u001b[0m\n"
     ]
    },
    {
     "name": "stderr",
     "output_type": "stream",
     "text": [
      "C:\\Users\\user\\Desktop\\Darui_R08621110\\Master_Thesis\\AUO aging test\\Full_Version_Code\\library\\Aging_Score_Contour.py:43: RuntimeWarning: invalid value encountered in double_scalars\n",
      "  eff = r/ag\n"
     ]
    },
    {
     "name": "stdout",
     "output_type": "stream",
     "text": [
      "Precision: 0 \n",
      "Recall: 0.0 \n",
      "Aging Rate: 0.0\n"
     ]
    },
    {
     "name": "stderr",
     "output_type": "stream",
     "text": [
      "C:\\Users\\user\\Desktop\\Darui_R08621110\\Master_Thesis\\AUO aging test\\Full_Version_Code\\library\\Aging_Score_Contour.py:43: RuntimeWarning: invalid value encountered in double_scalars\n",
      "  eff = r/ag\n"
     ]
    },
    {
     "name": "stdout",
     "output_type": "stream",
     "text": [
      "Precision: 0 \n",
      "Recall: 0.0 \n",
      "Aging Rate: 0.0\n"
     ]
    },
    {
     "name": "stderr",
     "output_type": "stream",
     "text": [
      "C:\\Users\\user\\Desktop\\Darui_R08621110\\Master_Thesis\\AUO aging test\\Full_Version_Code\\library\\Aging_Score_Contour.py:43: RuntimeWarning: invalid value encountered in double_scalars\n",
      "  eff = r/ag\n"
     ]
    },
    {
     "name": "stdout",
     "output_type": "stream",
     "text": [
      "Precision: 0 \n",
      "Recall: 0.0 \n",
      "Aging Rate: 0.0\n",
      "\u001b[33m[W 2021-12-13 12:38:38,314]\u001b[0m Trial 15 failed, because the objective function returned nan.\u001b[0m\n"
     ]
    },
    {
     "name": "stderr",
     "output_type": "stream",
     "text": [
      "C:\\Users\\user\\Desktop\\Darui_R08621110\\Master_Thesis\\AUO aging test\\Full_Version_Code\\library\\Aging_Score_Contour.py:43: RuntimeWarning: invalid value encountered in double_scalars\n",
      "  eff = r/ag\n"
     ]
    },
    {
     "name": "stdout",
     "output_type": "stream",
     "text": [
      "Precision: 0 \n",
      "Recall: 0.0 \n",
      "Aging Rate: 0.0\n"
     ]
    },
    {
     "name": "stderr",
     "output_type": "stream",
     "text": [
      "C:\\Users\\user\\Desktop\\Darui_R08621110\\Master_Thesis\\AUO aging test\\Full_Version_Code\\library\\Aging_Score_Contour.py:43: RuntimeWarning: invalid value encountered in double_scalars\n",
      "  eff = r/ag\n"
     ]
    },
    {
     "name": "stdout",
     "output_type": "stream",
     "text": [
      "Precision: 0 \n",
      "Recall: 0.0 \n",
      "Aging Rate: 0.0\n"
     ]
    },
    {
     "name": "stderr",
     "output_type": "stream",
     "text": [
      "C:\\Users\\user\\Desktop\\Darui_R08621110\\Master_Thesis\\AUO aging test\\Full_Version_Code\\library\\Aging_Score_Contour.py:43: RuntimeWarning: invalid value encountered in double_scalars\n",
      "  eff = r/ag\n"
     ]
    },
    {
     "name": "stdout",
     "output_type": "stream",
     "text": [
      "Precision: 0 \n",
      "Recall: 0.0 \n",
      "Aging Rate: 0.0\n",
      "\u001b[33m[W 2021-12-13 12:39:29,169]\u001b[0m Trial 16 failed, because the objective function returned nan.\u001b[0m\n"
     ]
    },
    {
     "name": "stderr",
     "output_type": "stream",
     "text": [
      "C:\\Users\\user\\Desktop\\Darui_R08621110\\Master_Thesis\\AUO aging test\\Full_Version_Code\\library\\Aging_Score_Contour.py:43: RuntimeWarning: invalid value encountered in double_scalars\n",
      "  eff = r/ag\n"
     ]
    },
    {
     "name": "stdout",
     "output_type": "stream",
     "text": [
      "Precision: 0 \n",
      "Recall: 0.0 \n",
      "Aging Rate: 0.0\n"
     ]
    },
    {
     "name": "stderr",
     "output_type": "stream",
     "text": [
      "C:\\Users\\user\\Desktop\\Darui_R08621110\\Master_Thesis\\AUO aging test\\Full_Version_Code\\library\\Aging_Score_Contour.py:43: RuntimeWarning: invalid value encountered in double_scalars\n",
      "  eff = r/ag\n"
     ]
    },
    {
     "name": "stdout",
     "output_type": "stream",
     "text": [
      "Precision: 0 \n",
      "Recall: 0.0 \n",
      "Aging Rate: 0.0\n"
     ]
    },
    {
     "name": "stderr",
     "output_type": "stream",
     "text": [
      "C:\\Users\\user\\Desktop\\Darui_R08621110\\Master_Thesis\\AUO aging test\\Full_Version_Code\\library\\Aging_Score_Contour.py:43: RuntimeWarning: invalid value encountered in double_scalars\n",
      "  eff = r/ag\n"
     ]
    },
    {
     "name": "stdout",
     "output_type": "stream",
     "text": [
      "Precision: 0 \n",
      "Recall: 0.0 \n",
      "Aging Rate: 0.0\n",
      "\u001b[33m[W 2021-12-13 12:39:40,381]\u001b[0m Trial 17 failed, because the objective function returned nan.\u001b[0m\n"
     ]
    },
    {
     "name": "stderr",
     "output_type": "stream",
     "text": [
      "C:\\Users\\user\\Desktop\\Darui_R08621110\\Master_Thesis\\AUO aging test\\Full_Version_Code\\library\\Aging_Score_Contour.py:43: RuntimeWarning: invalid value encountered in double_scalars\n",
      "  eff = r/ag\n"
     ]
    },
    {
     "name": "stdout",
     "output_type": "stream",
     "text": [
      "Precision: 0 \n",
      "Recall: 0.0 \n",
      "Aging Rate: 0.0\n"
     ]
    },
    {
     "name": "stderr",
     "output_type": "stream",
     "text": [
      "C:\\Users\\user\\Desktop\\Darui_R08621110\\Master_Thesis\\AUO aging test\\Full_Version_Code\\library\\Aging_Score_Contour.py:43: RuntimeWarning: invalid value encountered in double_scalars\n",
      "  eff = r/ag\n"
     ]
    },
    {
     "name": "stdout",
     "output_type": "stream",
     "text": [
      "Precision: 0 \n",
      "Recall: 0.0 \n",
      "Aging Rate: 0.0\n"
     ]
    },
    {
     "name": "stderr",
     "output_type": "stream",
     "text": [
      "C:\\Users\\user\\Desktop\\Darui_R08621110\\Master_Thesis\\AUO aging test\\Full_Version_Code\\library\\Aging_Score_Contour.py:43: RuntimeWarning: invalid value encountered in double_scalars\n",
      "  eff = r/ag\n"
     ]
    },
    {
     "name": "stdout",
     "output_type": "stream",
     "text": [
      "Precision: 0 \n",
      "Recall: 0.0 \n",
      "Aging Rate: 0.0\n",
      "\u001b[33m[W 2021-12-13 12:40:11,259]\u001b[0m Trial 18 failed, because the objective function returned nan.\u001b[0m\n",
      "Precision: 0.9117647058823529 \n",
      "Recall: 0.5 \n",
      "Aging Rate: 0.0008654262224145391\n",
      "Precision: 0.9545454545454546 \n",
      "Recall: 0.5454545454545454 \n",
      "Aging Rate: 0.0011199633466541096\n",
      "Precision: 0.8333333333333334 \n",
      "Recall: 0.5932203389830508 \n",
      "Aging Rate: 0.0010690559218061954\n",
      "\u001b[32m[I 2021-12-13 12:42:24,213]\u001b[0m Trial 19 finished with value: 0.7274085592386438 and parameters: {'n_estimators': 900, 'min_samples_split': 2, 'max_depth': 21}. Best is trial 19 with value: 0.7274085592386438.\u001b[0m\n"
     ]
    },
    {
     "name": "stderr",
     "output_type": "stream",
     "text": [
      "C:\\Users\\user\\Desktop\\Darui_R08621110\\Master_Thesis\\AUO aging test\\Full_Version_Code\\library\\Aging_Score_Contour.py:43: RuntimeWarning: invalid value encountered in double_scalars\n",
      "  eff = r/ag\n"
     ]
    },
    {
     "name": "stdout",
     "output_type": "stream",
     "text": [
      "Precision: 0 \n",
      "Recall: 0.0 \n",
      "Aging Rate: 0.0\n",
      "Precision: 1.0 \n",
      "Recall: 0.029411764705882353 \n",
      "Aging Rate: 5.090742484791407e-05\n"
     ]
    },
    {
     "name": "stderr",
     "output_type": "stream",
     "text": [
      "C:\\Users\\user\\Desktop\\Darui_R08621110\\Master_Thesis\\AUO aging test\\Full_Version_Code\\library\\Aging_Score_Contour.py:43: RuntimeWarning: invalid value encountered in double_scalars\n",
      "  eff = r/ag\n"
     ]
    },
    {
     "name": "stdout",
     "output_type": "stream",
     "text": [
      "Precision: 0 \n",
      "Recall: 0.0 \n",
      "Aging Rate: 0.0\n",
      "\u001b[33m[W 2021-12-13 12:44:08,606]\u001b[0m Trial 20 failed, because the objective function returned nan.\u001b[0m\n"
     ]
    },
    {
     "name": "stderr",
     "output_type": "stream",
     "text": [
      "C:\\Users\\user\\Desktop\\Darui_R08621110\\Master_Thesis\\AUO aging test\\Full_Version_Code\\library\\Aging_Score_Contour.py:43: RuntimeWarning: invalid value encountered in double_scalars\n",
      "  eff = r/ag\n"
     ]
    },
    {
     "name": "stdout",
     "output_type": "stream",
     "text": [
      "Precision: 0 \n",
      "Recall: 0.0 \n",
      "Aging Rate: 0.0\n"
     ]
    },
    {
     "name": "stderr",
     "output_type": "stream",
     "text": [
      "C:\\Users\\user\\Desktop\\Darui_R08621110\\Master_Thesis\\AUO aging test\\Full_Version_Code\\library\\Aging_Score_Contour.py:43: RuntimeWarning: invalid value encountered in double_scalars\n",
      "  eff = r/ag\n"
     ]
    },
    {
     "name": "stdout",
     "output_type": "stream",
     "text": [
      "Precision: 0 \n",
      "Recall: 0.0 \n",
      "Aging Rate: 0.0\n"
     ]
    },
    {
     "name": "stderr",
     "output_type": "stream",
     "text": [
      "C:\\Users\\user\\Desktop\\Darui_R08621110\\Master_Thesis\\AUO aging test\\Full_Version_Code\\library\\Aging_Score_Contour.py:43: RuntimeWarning: invalid value encountered in double_scalars\n",
      "  eff = r/ag\n"
     ]
    },
    {
     "name": "stdout",
     "output_type": "stream",
     "text": [
      "Precision: 0 \n",
      "Recall: 0.0 \n",
      "Aging Rate: 0.0\n",
      "\u001b[33m[W 2021-12-13 12:44:23,321]\u001b[0m Trial 21 failed, because the objective function returned nan.\u001b[0m\n"
     ]
    },
    {
     "name": "stderr",
     "output_type": "stream",
     "text": [
      "C:\\Users\\user\\Desktop\\Darui_R08621110\\Master_Thesis\\AUO aging test\\Full_Version_Code\\library\\Aging_Score_Contour.py:43: RuntimeWarning: invalid value encountered in double_scalars\n",
      "  eff = r/ag\n"
     ]
    },
    {
     "name": "stdout",
     "output_type": "stream",
     "text": [
      "Precision: 0 \n",
      "Recall: 0.0 \n",
      "Aging Rate: 0.0\n"
     ]
    },
    {
     "name": "stderr",
     "output_type": "stream",
     "text": [
      "C:\\Users\\user\\Desktop\\Darui_R08621110\\Master_Thesis\\AUO aging test\\Full_Version_Code\\library\\Aging_Score_Contour.py:43: RuntimeWarning: invalid value encountered in double_scalars\n",
      "  eff = r/ag\n"
     ]
    },
    {
     "name": "stdout",
     "output_type": "stream",
     "text": [
      "Precision: 0 \n",
      "Recall: 0.0 \n",
      "Aging Rate: 0.0\n"
     ]
    },
    {
     "name": "stderr",
     "output_type": "stream",
     "text": [
      "C:\\Users\\user\\Desktop\\Darui_R08621110\\Master_Thesis\\AUO aging test\\Full_Version_Code\\library\\Aging_Score_Contour.py:43: RuntimeWarning: invalid value encountered in double_scalars\n",
      "  eff = r/ag\n"
     ]
    },
    {
     "name": "stdout",
     "output_type": "stream",
     "text": [
      "Precision: 0 \n",
      "Recall: 0.0 \n",
      "Aging Rate: 0.0\n",
      "\u001b[33m[W 2021-12-13 12:45:10,541]\u001b[0m Trial 22 failed, because the objective function returned nan.\u001b[0m\n",
      "Precision: 1.0 \n",
      "Recall: 0.02666666666666667 \n",
      "Aging Rate: 5.090742484791407e-05\n"
     ]
    },
    {
     "name": "stderr",
     "output_type": "stream",
     "text": [
      "C:\\Users\\user\\Desktop\\Darui_R08621110\\Master_Thesis\\AUO aging test\\Full_Version_Code\\library\\Aging_Score_Contour.py:43: RuntimeWarning: invalid value encountered in double_scalars\n",
      "  eff = r/ag\n"
     ]
    },
    {
     "name": "stdout",
     "output_type": "stream",
     "text": [
      "Precision: 0 \n",
      "Recall: 0.0 \n",
      "Aging Rate: 0.0\n",
      "Precision: 0.5 \n",
      "Recall: 0.02702702702702703 \n",
      "Aging Rate: 0.00010181484969582814\n",
      "\u001b[33m[W 2021-12-13 12:46:00,079]\u001b[0m Trial 23 failed, because the objective function returned nan.\u001b[0m\n",
      "Precision: 1.0 \n",
      "Recall: 0.25 \n",
      "Aging Rate: 0.0004836205360551837\n",
      "Precision: 1.0 \n",
      "Recall: 0.25 \n",
      "Aging Rate: 0.0004581668236312266\n",
      "Precision: 1.0 \n",
      "Recall: 0.16483516483516483 \n",
      "Aging Rate: 0.0003818056863593555\n",
      "\u001b[32m[I 2021-12-13 12:46:51,279]\u001b[0m Trial 24 finished with value: 0.4385487034212247 and parameters: {'n_estimators': 300, 'min_samples_split': 7, 'max_depth': 21}. Best is trial 19 with value: 0.7274085592386438.\u001b[0m\n"
     ]
    },
    {
     "name": "stderr",
     "output_type": "stream",
     "text": [
      "C:\\Users\\user\\Desktop\\Darui_R08621110\\Master_Thesis\\AUO aging test\\Full_Version_Code\\library\\Aging_Score_Contour.py:43: RuntimeWarning: invalid value encountered in double_scalars\n",
      "  eff = r/ag\n"
     ]
    },
    {
     "name": "stdout",
     "output_type": "stream",
     "text": [
      "Precision: 0 \n",
      "Recall: 0.0 \n",
      "Aging Rate: 0.0\n"
     ]
    },
    {
     "name": "stderr",
     "output_type": "stream",
     "text": [
      "C:\\Users\\user\\Desktop\\Darui_R08621110\\Master_Thesis\\AUO aging test\\Full_Version_Code\\library\\Aging_Score_Contour.py:43: RuntimeWarning: invalid value encountered in double_scalars\n",
      "  eff = r/ag\n"
     ]
    },
    {
     "name": "stdout",
     "output_type": "stream",
     "text": [
      "Precision: 0 \n",
      "Recall: 0.0 \n",
      "Aging Rate: 0.0\n"
     ]
    },
    {
     "name": "stderr",
     "output_type": "stream",
     "text": [
      "C:\\Users\\user\\Desktop\\Darui_R08621110\\Master_Thesis\\AUO aging test\\Full_Version_Code\\library\\Aging_Score_Contour.py:43: RuntimeWarning: invalid value encountered in double_scalars\n",
      "  eff = r/ag\n"
     ]
    },
    {
     "name": "stdout",
     "output_type": "stream",
     "text": [
      "Precision: 0 \n",
      "Recall: 0.0 \n",
      "Aging Rate: 0.0\n",
      "\u001b[33m[W 2021-12-13 12:47:07,237]\u001b[0m Trial 25 failed, because the objective function returned nan.\u001b[0m\n",
      "Precision: 0.25 \n",
      "Recall: 0.011904761904761904 \n",
      "Aging Rate: 0.00010181484969582814\n",
      "Precision: 1.0 \n",
      "Recall: 0.024096385542168676 \n",
      "Aging Rate: 5.090742484791407e-05\n"
     ]
    },
    {
     "name": "stderr",
     "output_type": "stream",
     "text": [
      "C:\\Users\\user\\Desktop\\Darui_R08621110\\Master_Thesis\\AUO aging test\\Full_Version_Code\\library\\Aging_Score_Contour.py:43: RuntimeWarning: invalid value encountered in double_scalars\n",
      "  eff = r/ag\n"
     ]
    },
    {
     "name": "stdout",
     "output_type": "stream",
     "text": [
      "Precision: 0 \n",
      "Recall: 0.0 \n",
      "Aging Rate: 0.0\n",
      "\u001b[33m[W 2021-12-13 12:48:56,312]\u001b[0m Trial 26 failed, because the objective function returned nan.\u001b[0m\n"
     ]
    },
    {
     "name": "stderr",
     "output_type": "stream",
     "text": [
      "C:\\Users\\user\\Desktop\\Darui_R08621110\\Master_Thesis\\AUO aging test\\Full_Version_Code\\library\\Aging_Score_Contour.py:43: RuntimeWarning: invalid value encountered in double_scalars\n",
      "  eff = r/ag\n"
     ]
    },
    {
     "name": "stdout",
     "output_type": "stream",
     "text": [
      "Precision: 0 \n",
      "Recall: 0.0 \n",
      "Aging Rate: 0.0\n"
     ]
    },
    {
     "name": "stderr",
     "output_type": "stream",
     "text": [
      "C:\\Users\\user\\Desktop\\Darui_R08621110\\Master_Thesis\\AUO aging test\\Full_Version_Code\\library\\Aging_Score_Contour.py:43: RuntimeWarning: invalid value encountered in double_scalars\n",
      "  eff = r/ag\n"
     ]
    },
    {
     "name": "stdout",
     "output_type": "stream",
     "text": [
      "Precision: 0 \n",
      "Recall: 0.0 \n",
      "Aging Rate: 0.0\n"
     ]
    },
    {
     "name": "stderr",
     "output_type": "stream",
     "text": [
      "C:\\Users\\user\\Desktop\\Darui_R08621110\\Master_Thesis\\AUO aging test\\Full_Version_Code\\library\\Aging_Score_Contour.py:43: RuntimeWarning: invalid value encountered in double_scalars\n",
      "  eff = r/ag\n"
     ]
    },
    {
     "name": "stdout",
     "output_type": "stream",
     "text": [
      "Precision: 0 \n",
      "Recall: 0.0 \n",
      "Aging Rate: 0.0\n",
      "\u001b[33m[W 2021-12-13 12:49:14,543]\u001b[0m Trial 27 failed, because the objective function returned nan.\u001b[0m\n"
     ]
    },
    {
     "name": "stderr",
     "output_type": "stream",
     "text": [
      "C:\\Users\\user\\Desktop\\Darui_R08621110\\Master_Thesis\\AUO aging test\\Full_Version_Code\\library\\Aging_Score_Contour.py:43: RuntimeWarning: invalid value encountered in double_scalars\n",
      "  eff = r/ag\n"
     ]
    },
    {
     "name": "stdout",
     "output_type": "stream",
     "text": [
      "Precision: 0 \n",
      "Recall: 0.0 \n",
      "Aging Rate: 0.0\n"
     ]
    },
    {
     "name": "stderr",
     "output_type": "stream",
     "text": [
      "C:\\Users\\user\\Desktop\\Darui_R08621110\\Master_Thesis\\AUO aging test\\Full_Version_Code\\library\\Aging_Score_Contour.py:43: RuntimeWarning: invalid value encountered in double_scalars\n",
      "  eff = r/ag\n"
     ]
    },
    {
     "name": "stdout",
     "output_type": "stream",
     "text": [
      "Precision: 0 \n",
      "Recall: 0.0 \n",
      "Aging Rate: 0.0\n"
     ]
    },
    {
     "name": "stderr",
     "output_type": "stream",
     "text": [
      "C:\\Users\\user\\Desktop\\Darui_R08621110\\Master_Thesis\\AUO aging test\\Full_Version_Code\\library\\Aging_Score_Contour.py:43: RuntimeWarning: invalid value encountered in double_scalars\n",
      "  eff = r/ag\n"
     ]
    },
    {
     "name": "stdout",
     "output_type": "stream",
     "text": [
      "Precision: 0 \n",
      "Recall: 0.0 \n",
      "Aging Rate: 0.0\n",
      "\u001b[33m[W 2021-12-13 12:50:57,718]\u001b[0m Trial 28 failed, because the objective function returned nan.\u001b[0m\n"
     ]
    },
    {
     "name": "stderr",
     "output_type": "stream",
     "text": [
      "C:\\Users\\user\\Desktop\\Darui_R08621110\\Master_Thesis\\AUO aging test\\Full_Version_Code\\library\\Aging_Score_Contour.py:43: RuntimeWarning: invalid value encountered in double_scalars\n",
      "  eff = r/ag\n"
     ]
    },
    {
     "name": "stdout",
     "output_type": "stream",
     "text": [
      "Precision: 0 \n",
      "Recall: 0.0 \n",
      "Aging Rate: 0.0\n"
     ]
    },
    {
     "name": "stderr",
     "output_type": "stream",
     "text": [
      "C:\\Users\\user\\Desktop\\Darui_R08621110\\Master_Thesis\\AUO aging test\\Full_Version_Code\\library\\Aging_Score_Contour.py:43: RuntimeWarning: invalid value encountered in double_scalars\n",
      "  eff = r/ag\n"
     ]
    },
    {
     "name": "stdout",
     "output_type": "stream",
     "text": [
      "Precision: 0 \n",
      "Recall: 0.0 \n",
      "Aging Rate: 0.0\n"
     ]
    },
    {
     "name": "stderr",
     "output_type": "stream",
     "text": [
      "C:\\Users\\user\\Desktop\\Darui_R08621110\\Master_Thesis\\AUO aging test\\Full_Version_Code\\library\\Aging_Score_Contour.py:43: RuntimeWarning: invalid value encountered in double_scalars\n",
      "  eff = r/ag\n"
     ]
    },
    {
     "name": "stdout",
     "output_type": "stream",
     "text": [
      "Precision: 0 \n",
      "Recall: 0.0 \n",
      "Aging Rate: 0.0\n",
      "\u001b[33m[W 2021-12-13 12:51:15,955]\u001b[0m Trial 29 failed, because the objective function returned nan.\u001b[0m\n",
      "Precision: 0.9629629629629629 \n",
      "Recall: 0.3466666666666667 \n",
      "Aging Rate: 0.0006872502354468399\n",
      "Precision: 1.0 \n",
      "Recall: 0.29577464788732394 \n",
      "Aging Rate: 0.0005345279609030977\n",
      "Precision: 0.8695652173913043 \n",
      "Recall: 0.29850746268656714 \n",
      "Aging Rate: 0.0005854353857510118\n",
      "\u001b[32m[I 2021-12-13 12:51:58,008]\u001b[0m Trial 30 finished with value: 0.5468557118519859 and parameters: {'n_estimators': 300, 'min_samples_split': 2, 'max_depth': 18}. Best is trial 19 with value: 0.7274085592386438.\u001b[0m\n",
      "Precision: 0.9130434782608695 \n",
      "Recall: 0.2916666666666667 \n",
      "Aging Rate: 0.0005854353857510118\n",
      "Precision: 0.9130434782608695 \n",
      "Recall: 0.27631578947368424 \n",
      "Aging Rate: 0.0005854353857510118\n",
      "Precision: 0.896551724137931 \n",
      "Recall: 0.4262295081967213 \n",
      "Aging Rate: 0.000738157660294754\n",
      "\u001b[32m[I 2021-12-13 12:52:06,894]\u001b[0m Trial 31 finished with value: 0.5524800511329228 and parameters: {'n_estimators': 100, 'min_samples_split': 2, 'max_depth': 18}. Best is trial 19 with value: 0.7274085592386438.\u001b[0m\n"
     ]
    },
    {
     "name": "stderr",
     "output_type": "stream",
     "text": [
      "C:\\Users\\user\\Desktop\\Darui_R08621110\\Master_Thesis\\AUO aging test\\Full_Version_Code\\library\\Aging_Score_Contour.py:43: RuntimeWarning: invalid value encountered in double_scalars\n",
      "  eff = r/ag\n"
     ]
    },
    {
     "name": "stdout",
     "output_type": "stream",
     "text": [
      "Precision: 0 \n",
      "Recall: 0.0 \n",
      "Aging Rate: 0.0\n"
     ]
    },
    {
     "name": "stderr",
     "output_type": "stream",
     "text": [
      "C:\\Users\\user\\Desktop\\Darui_R08621110\\Master_Thesis\\AUO aging test\\Full_Version_Code\\library\\Aging_Score_Contour.py:43: RuntimeWarning: invalid value encountered in double_scalars\n",
      "  eff = r/ag\n"
     ]
    },
    {
     "name": "stdout",
     "output_type": "stream",
     "text": [
      "Precision: 0 \n",
      "Recall: 0.0 \n",
      "Aging Rate: 0.0\n"
     ]
    },
    {
     "name": "stderr",
     "output_type": "stream",
     "text": [
      "C:\\Users\\user\\Desktop\\Darui_R08621110\\Master_Thesis\\AUO aging test\\Full_Version_Code\\library\\Aging_Score_Contour.py:43: RuntimeWarning: invalid value encountered in double_scalars\n",
      "  eff = r/ag\n"
     ]
    },
    {
     "name": "stdout",
     "output_type": "stream",
     "text": [
      "Precision: 0 \n",
      "Recall: 0.0 \n",
      "Aging Rate: 0.0\n",
      "\u001b[33m[W 2021-12-13 12:53:05,515]\u001b[0m Trial 32 failed, because the objective function returned nan.\u001b[0m\n"
     ]
    },
    {
     "name": "stderr",
     "output_type": "stream",
     "text": [
      "C:\\Users\\user\\Desktop\\Darui_R08621110\\Master_Thesis\\AUO aging test\\Full_Version_Code\\library\\Aging_Score_Contour.py:43: RuntimeWarning: invalid value encountered in double_scalars\n",
      "  eff = r/ag\n"
     ]
    },
    {
     "name": "stdout",
     "output_type": "stream",
     "text": [
      "Precision: 0 \n",
      "Recall: 0.0 \n",
      "Aging Rate: 0.0\n"
     ]
    },
    {
     "name": "stderr",
     "output_type": "stream",
     "text": [
      "C:\\Users\\user\\Desktop\\Darui_R08621110\\Master_Thesis\\AUO aging test\\Full_Version_Code\\library\\Aging_Score_Contour.py:43: RuntimeWarning: invalid value encountered in double_scalars\n",
      "  eff = r/ag\n"
     ]
    },
    {
     "name": "stdout",
     "output_type": "stream",
     "text": [
      "Precision: 0 \n",
      "Recall: 0.0 \n",
      "Aging Rate: 0.0\n"
     ]
    },
    {
     "name": "stderr",
     "output_type": "stream",
     "text": [
      "C:\\Users\\user\\Desktop\\Darui_R08621110\\Master_Thesis\\AUO aging test\\Full_Version_Code\\library\\Aging_Score_Contour.py:43: RuntimeWarning: invalid value encountered in double_scalars\n",
      "  eff = r/ag\n"
     ]
    },
    {
     "name": "stdout",
     "output_type": "stream",
     "text": [
      "Precision: 0 \n",
      "Recall: 0.0 \n",
      "Aging Rate: 0.0\n",
      "\u001b[33m[W 2021-12-13 12:53:59,133]\u001b[0m Trial 33 failed, because the objective function returned nan.\u001b[0m\n"
     ]
    },
    {
     "name": "stderr",
     "output_type": "stream",
     "text": [
      "C:\\Users\\user\\Desktop\\Darui_R08621110\\Master_Thesis\\AUO aging test\\Full_Version_Code\\library\\Aging_Score_Contour.py:43: RuntimeWarning: invalid value encountered in double_scalars\n",
      "  eff = r/ag\n"
     ]
    },
    {
     "name": "stdout",
     "output_type": "stream",
     "text": [
      "Precision: 0 \n",
      "Recall: 0.0 \n",
      "Aging Rate: 0.0\n"
     ]
    },
    {
     "name": "stderr",
     "output_type": "stream",
     "text": [
      "C:\\Users\\user\\Desktop\\Darui_R08621110\\Master_Thesis\\AUO aging test\\Full_Version_Code\\library\\Aging_Score_Contour.py:43: RuntimeWarning: invalid value encountered in double_scalars\n",
      "  eff = r/ag\n"
     ]
    },
    {
     "name": "stdout",
     "output_type": "stream",
     "text": [
      "Precision: 0 \n",
      "Recall: 0.0 \n",
      "Aging Rate: 0.0\n"
     ]
    },
    {
     "name": "stderr",
     "output_type": "stream",
     "text": [
      "C:\\Users\\user\\Desktop\\Darui_R08621110\\Master_Thesis\\AUO aging test\\Full_Version_Code\\library\\Aging_Score_Contour.py:43: RuntimeWarning: invalid value encountered in double_scalars\n",
      "  eff = r/ag\n"
     ]
    },
    {
     "name": "stdout",
     "output_type": "stream",
     "text": [
      "Precision: 0 \n",
      "Recall: 0.0 \n",
      "Aging Rate: 0.0\n",
      "\u001b[33m[W 2021-12-13 12:54:08,388]\u001b[0m Trial 34 failed, because the objective function returned nan.\u001b[0m\n"
     ]
    },
    {
     "name": "stderr",
     "output_type": "stream",
     "text": [
      "C:\\Users\\user\\Desktop\\Darui_R08621110\\Master_Thesis\\AUO aging test\\Full_Version_Code\\library\\Aging_Score_Contour.py:43: RuntimeWarning: invalid value encountered in double_scalars\n",
      "  eff = r/ag\n"
     ]
    },
    {
     "name": "stdout",
     "output_type": "stream",
     "text": [
      "Precision: 0 \n",
      "Recall: 0.0 \n",
      "Aging Rate: 0.0\n"
     ]
    },
    {
     "name": "stderr",
     "output_type": "stream",
     "text": [
      "C:\\Users\\user\\Desktop\\Darui_R08621110\\Master_Thesis\\AUO aging test\\Full_Version_Code\\library\\Aging_Score_Contour.py:43: RuntimeWarning: invalid value encountered in double_scalars\n",
      "  eff = r/ag\n"
     ]
    },
    {
     "name": "stdout",
     "output_type": "stream",
     "text": [
      "Precision: 0 \n",
      "Recall: 0.0 \n",
      "Aging Rate: 0.0\n"
     ]
    },
    {
     "name": "stderr",
     "output_type": "stream",
     "text": [
      "C:\\Users\\user\\Desktop\\Darui_R08621110\\Master_Thesis\\AUO aging test\\Full_Version_Code\\library\\Aging_Score_Contour.py:43: RuntimeWarning: invalid value encountered in double_scalars\n",
      "  eff = r/ag\n"
     ]
    },
    {
     "name": "stdout",
     "output_type": "stream",
     "text": [
      "Precision: 0 \n",
      "Recall: 0.0 \n",
      "Aging Rate: 0.0\n",
      "\u001b[33m[W 2021-12-13 12:55:20,879]\u001b[0m Trial 35 failed, because the objective function returned nan.\u001b[0m\n"
     ]
    },
    {
     "name": "stderr",
     "output_type": "stream",
     "text": [
      "C:\\Users\\user\\Desktop\\Darui_R08621110\\Master_Thesis\\AUO aging test\\Full_Version_Code\\library\\Aging_Score_Contour.py:43: RuntimeWarning: invalid value encountered in double_scalars\n",
      "  eff = r/ag\n"
     ]
    },
    {
     "name": "stdout",
     "output_type": "stream",
     "text": [
      "Precision: 0 \n",
      "Recall: 0.0 \n",
      "Aging Rate: 0.0\n"
     ]
    },
    {
     "name": "stderr",
     "output_type": "stream",
     "text": [
      "C:\\Users\\user\\Desktop\\Darui_R08621110\\Master_Thesis\\AUO aging test\\Full_Version_Code\\library\\Aging_Score_Contour.py:43: RuntimeWarning: invalid value encountered in double_scalars\n",
      "  eff = r/ag\n"
     ]
    },
    {
     "name": "stdout",
     "output_type": "stream",
     "text": [
      "Precision: 0 \n",
      "Recall: 0.0 \n",
      "Aging Rate: 0.0\n"
     ]
    },
    {
     "name": "stderr",
     "output_type": "stream",
     "text": [
      "C:\\Users\\user\\Desktop\\Darui_R08621110\\Master_Thesis\\AUO aging test\\Full_Version_Code\\library\\Aging_Score_Contour.py:43: RuntimeWarning: invalid value encountered in double_scalars\n",
      "  eff = r/ag\n"
     ]
    },
    {
     "name": "stdout",
     "output_type": "stream",
     "text": [
      "Precision: 0 \n",
      "Recall: 0.0 \n",
      "Aging Rate: 0.0\n",
      "\u001b[33m[W 2021-12-13 12:55:41,108]\u001b[0m Trial 36 failed, because the objective function returned nan.\u001b[0m\n",
      "Precision: 1.0 \n",
      "Recall: 0.014285714285714285 \n",
      "Aging Rate: 2.5453712423957035e-05\n",
      "Precision: 1.0 \n",
      "Recall: 0.04477611940298507 \n",
      "Aging Rate: 7.63611372718711e-05\n",
      "Precision: 1.0 \n",
      "Recall: 0.010526315789473684 \n",
      "Aging Rate: 2.5453712423957035e-05\n",
      "\u001b[32m[I 2021-12-13 12:56:38,717]\u001b[0m Trial 37 finished with value: 0.06086990143910178 and parameters: {'n_estimators': 700, 'min_samples_split': 12, 'max_depth': 18}. Best is trial 19 with value: 0.7274085592386438.\u001b[0m\n"
     ]
    },
    {
     "name": "stderr",
     "output_type": "stream",
     "text": [
      "C:\\Users\\user\\Desktop\\Darui_R08621110\\Master_Thesis\\AUO aging test\\Full_Version_Code\\library\\Aging_Score_Contour.py:43: RuntimeWarning: invalid value encountered in double_scalars\n",
      "  eff = r/ag\n"
     ]
    },
    {
     "name": "stdout",
     "output_type": "stream",
     "text": [
      "Precision: 0 \n",
      "Recall: 0.0 \n",
      "Aging Rate: 0.0\n"
     ]
    },
    {
     "name": "stderr",
     "output_type": "stream",
     "text": [
      "C:\\Users\\user\\Desktop\\Darui_R08621110\\Master_Thesis\\AUO aging test\\Full_Version_Code\\library\\Aging_Score_Contour.py:43: RuntimeWarning: invalid value encountered in double_scalars\n",
      "  eff = r/ag\n"
     ]
    },
    {
     "name": "stdout",
     "output_type": "stream",
     "text": [
      "Precision: 0 \n",
      "Recall: 0.0 \n",
      "Aging Rate: 0.0\n"
     ]
    },
    {
     "name": "stderr",
     "output_type": "stream",
     "text": [
      "C:\\Users\\user\\Desktop\\Darui_R08621110\\Master_Thesis\\AUO aging test\\Full_Version_Code\\library\\Aging_Score_Contour.py:43: RuntimeWarning: invalid value encountered in double_scalars\n",
      "  eff = r/ag\n"
     ]
    },
    {
     "name": "stdout",
     "output_type": "stream",
     "text": [
      "Precision: 0 \n",
      "Recall: 0.0 \n",
      "Aging Rate: 0.0\n",
      "\u001b[33m[W 2021-12-13 12:57:39,683]\u001b[0m Trial 38 failed, because the objective function returned nan.\u001b[0m\n"
     ]
    },
    {
     "name": "stderr",
     "output_type": "stream",
     "text": [
      "C:\\Users\\user\\Desktop\\Darui_R08621110\\Master_Thesis\\AUO aging test\\Full_Version_Code\\library\\Aging_Score_Contour.py:43: RuntimeWarning: invalid value encountered in double_scalars\n",
      "  eff = r/ag\n"
     ]
    },
    {
     "name": "stdout",
     "output_type": "stream",
     "text": [
      "Precision: 0 \n",
      "Recall: 0.0 \n",
      "Aging Rate: 0.0\n"
     ]
    },
    {
     "name": "stderr",
     "output_type": "stream",
     "text": [
      "C:\\Users\\user\\Desktop\\Darui_R08621110\\Master_Thesis\\AUO aging test\\Full_Version_Code\\library\\Aging_Score_Contour.py:43: RuntimeWarning: invalid value encountered in double_scalars\n",
      "  eff = r/ag\n"
     ]
    },
    {
     "name": "stdout",
     "output_type": "stream",
     "text": [
      "Precision: 0 \n",
      "Recall: 0.0 \n",
      "Aging Rate: 0.0\n"
     ]
    },
    {
     "name": "stderr",
     "output_type": "stream",
     "text": [
      "C:\\Users\\user\\Desktop\\Darui_R08621110\\Master_Thesis\\AUO aging test\\Full_Version_Code\\library\\Aging_Score_Contour.py:43: RuntimeWarning: invalid value encountered in double_scalars\n",
      "  eff = r/ag\n"
     ]
    },
    {
     "name": "stdout",
     "output_type": "stream",
     "text": [
      "Precision: 0 \n",
      "Recall: 0.0 \n",
      "Aging Rate: 0.0\n",
      "\u001b[33m[W 2021-12-13 12:58:57,057]\u001b[0m Trial 39 failed, because the objective function returned nan.\u001b[0m\n",
      "Precision: 1.0 \n",
      "Recall: 0.012987012987012988 \n",
      "Aging Rate: 2.5453712423957035e-05\n"
     ]
    },
    {
     "name": "stderr",
     "output_type": "stream",
     "text": [
      "C:\\Users\\user\\Desktop\\Darui_R08621110\\Master_Thesis\\AUO aging test\\Full_Version_Code\\library\\Aging_Score_Contour.py:43: RuntimeWarning: invalid value encountered in double_scalars\n",
      "  eff = r/ag\n"
     ]
    },
    {
     "name": "stdout",
     "output_type": "stream",
     "text": [
      "Precision: 0 \n",
      "Recall: 0.0 \n",
      "Aging Rate: 0.0\n",
      "Precision: 1.0 \n",
      "Recall: 0.014492753623188406 \n",
      "Aging Rate: 2.5453712423957035e-05\n",
      "\u001b[33m[W 2021-12-13 12:59:58,687]\u001b[0m Trial 40 failed, because the objective function returned nan.\u001b[0m\n"
     ]
    },
    {
     "name": "stderr",
     "output_type": "stream",
     "text": [
      "C:\\Users\\user\\Desktop\\Darui_R08621110\\Master_Thesis\\AUO aging test\\Full_Version_Code\\library\\Aging_Score_Contour.py:43: RuntimeWarning: invalid value encountered in double_scalars\n",
      "  eff = r/ag\n"
     ]
    },
    {
     "name": "stdout",
     "output_type": "stream",
     "text": [
      "Precision: 0 \n",
      "Recall: 0.0 \n",
      "Aging Rate: 0.0\n"
     ]
    },
    {
     "name": "stderr",
     "output_type": "stream",
     "text": [
      "C:\\Users\\user\\Desktop\\Darui_R08621110\\Master_Thesis\\AUO aging test\\Full_Version_Code\\library\\Aging_Score_Contour.py:43: RuntimeWarning: invalid value encountered in double_scalars\n",
      "  eff = r/ag\n"
     ]
    },
    {
     "name": "stdout",
     "output_type": "stream",
     "text": [
      "Precision: 0 \n",
      "Recall: 0.0 \n",
      "Aging Rate: 0.0\n"
     ]
    },
    {
     "name": "stderr",
     "output_type": "stream",
     "text": [
      "C:\\Users\\user\\Desktop\\Darui_R08621110\\Master_Thesis\\AUO aging test\\Full_Version_Code\\library\\Aging_Score_Contour.py:43: RuntimeWarning: invalid value encountered in double_scalars\n",
      "  eff = r/ag\n"
     ]
    },
    {
     "name": "stdout",
     "output_type": "stream",
     "text": [
      "Precision: 0 \n",
      "Recall: 0.0 \n",
      "Aging Rate: 0.0\n",
      "\u001b[33m[W 2021-12-13 13:00:15,897]\u001b[0m Trial 41 failed, because the objective function returned nan.\u001b[0m\n"
     ]
    },
    {
     "name": "stderr",
     "output_type": "stream",
     "text": [
      "C:\\Users\\user\\Desktop\\Darui_R08621110\\Master_Thesis\\AUO aging test\\Full_Version_Code\\library\\Aging_Score_Contour.py:43: RuntimeWarning: invalid value encountered in double_scalars\n",
      "  eff = r/ag\n"
     ]
    },
    {
     "name": "stdout",
     "output_type": "stream",
     "text": [
      "Precision: 0 \n",
      "Recall: 0.0 \n",
      "Aging Rate: 0.0\n"
     ]
    },
    {
     "name": "stderr",
     "output_type": "stream",
     "text": [
      "C:\\Users\\user\\Desktop\\Darui_R08621110\\Master_Thesis\\AUO aging test\\Full_Version_Code\\library\\Aging_Score_Contour.py:43: RuntimeWarning: invalid value encountered in double_scalars\n",
      "  eff = r/ag\n"
     ]
    },
    {
     "name": "stdout",
     "output_type": "stream",
     "text": [
      "Precision: 0 \n",
      "Recall: 0.0 \n",
      "Aging Rate: 0.0\n"
     ]
    },
    {
     "name": "stderr",
     "output_type": "stream",
     "text": [
      "C:\\Users\\user\\Desktop\\Darui_R08621110\\Master_Thesis\\AUO aging test\\Full_Version_Code\\library\\Aging_Score_Contour.py:43: RuntimeWarning: invalid value encountered in double_scalars\n",
      "  eff = r/ag\n"
     ]
    },
    {
     "name": "stdout",
     "output_type": "stream",
     "text": [
      "Precision: 0 \n",
      "Recall: 0.0 \n",
      "Aging Rate: 0.0\n",
      "\u001b[33m[W 2021-12-13 13:00:54,278]\u001b[0m Trial 42 failed, because the objective function returned nan.\u001b[0m\n"
     ]
    },
    {
     "name": "stderr",
     "output_type": "stream",
     "text": [
      "C:\\Users\\user\\Desktop\\Darui_R08621110\\Master_Thesis\\AUO aging test\\Full_Version_Code\\library\\Aging_Score_Contour.py:43: RuntimeWarning: invalid value encountered in double_scalars\n",
      "  eff = r/ag\n"
     ]
    },
    {
     "name": "stdout",
     "output_type": "stream",
     "text": [
      "Precision: 0 \n",
      "Recall: 0.0 \n",
      "Aging Rate: 0.0\n"
     ]
    },
    {
     "name": "stderr",
     "output_type": "stream",
     "text": [
      "C:\\Users\\user\\Desktop\\Darui_R08621110\\Master_Thesis\\AUO aging test\\Full_Version_Code\\library\\Aging_Score_Contour.py:43: RuntimeWarning: invalid value encountered in double_scalars\n",
      "  eff = r/ag\n"
     ]
    },
    {
     "name": "stdout",
     "output_type": "stream",
     "text": [
      "Precision: 0 \n",
      "Recall: 0.0 \n",
      "Aging Rate: 0.0\n"
     ]
    },
    {
     "name": "stderr",
     "output_type": "stream",
     "text": [
      "C:\\Users\\user\\Desktop\\Darui_R08621110\\Master_Thesis\\AUO aging test\\Full_Version_Code\\library\\Aging_Score_Contour.py:43: RuntimeWarning: invalid value encountered in double_scalars\n",
      "  eff = r/ag\n"
     ]
    },
    {
     "name": "stdout",
     "output_type": "stream",
     "text": [
      "Precision: 0 \n",
      "Recall: 0.0 \n",
      "Aging Rate: 0.0\n",
      "\u001b[33m[W 2021-12-13 13:00:59,237]\u001b[0m Trial 43 failed, because the objective function returned nan.\u001b[0m\n",
      "Precision: 0.9090909090909091 \n",
      "Recall: 0.375 \n",
      "Aging Rate: 0.0008399725099905821\n",
      "Precision: 0.9333333333333333 \n",
      "Recall: 0.2 \n",
      "Aging Rate: 0.0003818056863593555\n",
      "Precision: 0.9032258064516129 \n",
      "Recall: 0.3888888888888889 \n",
      "Aging Rate: 0.000789065085142668\n",
      "\u001b[32m[I 2021-12-13 13:02:11,923]\u001b[0m Trial 44 finished with value: 0.5383828336414543 and parameters: {'n_estimators': 900, 'min_samples_split': 2, 'max_depth': 18}. Best is trial 19 with value: 0.7274085592386438.\u001b[0m\n"
     ]
    },
    {
     "name": "stderr",
     "output_type": "stream",
     "text": [
      "C:\\Users\\user\\Desktop\\Darui_R08621110\\Master_Thesis\\AUO aging test\\Full_Version_Code\\library\\Aging_Score_Contour.py:43: RuntimeWarning: invalid value encountered in double_scalars\n",
      "  eff = r/ag\n"
     ]
    },
    {
     "name": "stdout",
     "output_type": "stream",
     "text": [
      "Precision: 0 \n",
      "Recall: 0.0 \n",
      "Aging Rate: 0.0\n"
     ]
    },
    {
     "name": "stderr",
     "output_type": "stream",
     "text": [
      "C:\\Users\\user\\Desktop\\Darui_R08621110\\Master_Thesis\\AUO aging test\\Full_Version_Code\\library\\Aging_Score_Contour.py:43: RuntimeWarning: invalid value encountered in double_scalars\n",
      "  eff = r/ag\n"
     ]
    },
    {
     "name": "stdout",
     "output_type": "stream",
     "text": [
      "Precision: 0 \n",
      "Recall: 0.0 \n",
      "Aging Rate: 0.0\n"
     ]
    },
    {
     "name": "stderr",
     "output_type": "stream",
     "text": [
      "C:\\Users\\user\\Desktop\\Darui_R08621110\\Master_Thesis\\AUO aging test\\Full_Version_Code\\library\\Aging_Score_Contour.py:43: RuntimeWarning: invalid value encountered in double_scalars\n",
      "  eff = r/ag\n"
     ]
    },
    {
     "name": "stdout",
     "output_type": "stream",
     "text": [
      "Precision: 0 \n",
      "Recall: 0.0 \n",
      "Aging Rate: 0.0\n",
      "\u001b[33m[W 2021-12-13 13:03:07,781]\u001b[0m Trial 45 failed, because the objective function returned nan.\u001b[0m\n",
      "Precision: 1.0 \n",
      "Recall: 0.01282051282051282 \n",
      "Aging Rate: 2.5453712423957035e-05\n",
      "Precision: 1.0 \n",
      "Recall: 0.037037037037037035 \n",
      "Aging Rate: 7.63611372718711e-05\n",
      "Precision: 1.0 \n",
      "Recall: 0.05 \n",
      "Aging Rate: 0.00010181484969582814\n",
      "\u001b[32m[I 2021-12-13 13:03:28,565]\u001b[0m Trial 46 finished with value: 0.08629835281247937 and parameters: {'n_estimators': 300, 'min_samples_split': 2, 'max_depth': 12}. Best is trial 19 with value: 0.7274085592386438.\u001b[0m\n",
      "Precision: 1.0 \n",
      "Recall: 0.26865671641791045 \n",
      "Aging Rate: 0.0004581668236312266\n",
      "Precision: 0.7777777777777778 \n",
      "Recall: 0.19718309859154928 \n",
      "Aging Rate: 0.0004581668236312266\n",
      "Precision: 1.0 \n",
      "Recall: 0.26436781609195403 \n",
      "Aging Rate: 0.0005854353857510118\n",
      "\u001b[32m[I 2021-12-13 13:04:43,904]\u001b[0m Trial 47 finished with value: 0.46072604274421186 and parameters: {'n_estimators': 900, 'min_samples_split': 7, 'max_depth': 21}. Best is trial 19 with value: 0.7274085592386438.\u001b[0m\n",
      "Precision: 0.9444444444444444 \n",
      "Recall: 0.2328767123287671 \n",
      "Aging Rate: 0.0004581668236312266\n",
      "Precision: 1.0 \n",
      "Recall: 0.22077922077922077 \n",
      "Aging Rate: 0.00043271311120726956\n",
      "Precision: 0.9130434782608695 \n",
      "Recall: 0.28 \n",
      "Aging Rate: 0.0005854353857510118\n",
      "\u001b[32m[I 2021-12-13 13:05:25,424]\u001b[0m Trial 48 finished with value: 0.464501887401819 and parameters: {'n_estimators': 500, 'min_samples_split': 7, 'max_depth': 21}. Best is trial 19 with value: 0.7274085592386438.\u001b[0m\n"
     ]
    },
    {
     "name": "stderr",
     "output_type": "stream",
     "text": [
      "C:\\Users\\user\\Desktop\\Darui_R08621110\\Master_Thesis\\AUO aging test\\Full_Version_Code\\library\\Aging_Score_Contour.py:43: RuntimeWarning: invalid value encountered in double_scalars\n",
      "  eff = r/ag\n"
     ]
    },
    {
     "name": "stdout",
     "output_type": "stream",
     "text": [
      "Precision: 0 \n",
      "Recall: 0.0 \n",
      "Aging Rate: 0.0\n"
     ]
    },
    {
     "name": "stderr",
     "output_type": "stream",
     "text": [
      "C:\\Users\\user\\Desktop\\Darui_R08621110\\Master_Thesis\\AUO aging test\\Full_Version_Code\\library\\Aging_Score_Contour.py:43: RuntimeWarning: invalid value encountered in double_scalars\n",
      "  eff = r/ag\n"
     ]
    },
    {
     "name": "stdout",
     "output_type": "stream",
     "text": [
      "Precision: 0 \n",
      "Recall: 0.0 \n",
      "Aging Rate: 0.0\n"
     ]
    },
    {
     "name": "stderr",
     "output_type": "stream",
     "text": [
      "C:\\Users\\user\\Desktop\\Darui_R08621110\\Master_Thesis\\AUO aging test\\Full_Version_Code\\library\\Aging_Score_Contour.py:43: RuntimeWarning: invalid value encountered in double_scalars\n",
      "  eff = r/ag\n",
      "C:\\Users\\user\\anaconda3\\envs\\aging\\lib\\site-packages\\optuna\\samplers\\_tpe\\sampler.py:253: ExperimentalWarning: ``multivariate`` option is an experimental feature. The interface can change in the future.\n",
      "  ExperimentalWarning,\n",
      "\u001b[32m[I 2021-12-13 13:06:38,679]\u001b[0m A new study created in memory with name: no-name-b2ba34a5-c8b3-4b41-a826-ad24bbcf1b71\u001b[0m\n"
     ]
    },
    {
     "name": "stdout",
     "output_type": "stream",
     "text": [
      "Precision: 0 \n",
      "Recall: 0.0 \n",
      "Aging Rate: 0.0\n",
      "\u001b[33m[W 2021-12-13 13:06:38,619]\u001b[0m Trial 49 failed, because the objective function returned nan.\u001b[0m\n",
      "Sampler is TPESampler\n",
      "Dataset1 :\n"
     ]
    },
    {
     "name": "stderr",
     "output_type": "stream",
     "text": [
      "C:\\Users\\user\\anaconda3\\envs\\aging\\lib\\site-packages\\optuna\\progress_bar.py:47: ExperimentalWarning: Progress bar is experimental (supported from v1.2.0). The interface can change in the future.\n",
      "  self._init_valid()\n"
     ]
    },
    {
     "data": {
      "application/vnd.jupyter.widget-view+json": {
       "model_id": "d018d846fbb14aff9a05c875df6389ac",
       "version_major": 2,
       "version_minor": 0
      },
      "text/plain": [
       "  0%|          | 0/50 [00:00<?, ?it/s]"
      ]
     },
     "metadata": {},
     "output_type": "display_data"
    },
    {
     "name": "stdout",
     "output_type": "stream",
     "text": [
      "Precision: 0.9987063389391979 \n",
      "Recall: 0.9910141206675225 \n",
      "Aging Rate: 0.5039113428943938\n",
      "Precision: 0.9987515605493134 \n",
      "Recall: 0.9913258983890955 \n",
      "Aging Rate: 0.5221642764015645\n",
      "Precision: 0.9973924380704041 \n",
      "Recall: 0.9832904884318766 \n",
      "Aging Rate: 0.5\n",
      "\u001b[32m[I 2021-12-13 13:06:40,415]\u001b[0m Trial 0 finished with value: 0.9947527806036963 and parameters: {'n_estimators': 500, 'min_samples_split': 2, 'max_depth': 12}. Best is trial 0 with value: 0.9947527806036963.\u001b[0m\n",
      "Precision: 0.9959404600811907 \n",
      "Recall: 0.9826435246995995 \n",
      "Aging Rate: 0.4817470664928292\n",
      "Precision: 0.9921156373193167 \n",
      "Recall: 0.9805194805194806 \n",
      "Aging Rate: 0.49608865710560623\n",
      "Precision: 0.9920318725099602 \n",
      "Recall: 0.9816031537450722 \n",
      "Aging Rate: 0.4908735332464146\n",
      "\u001b[32m[I 2021-12-13 13:06:43,832]\u001b[0m Trial 1 finished with value: 0.9890913229407685 and parameters: {'n_estimators': 900, 'min_samples_split': 27, 'max_depth': 18}. Best is trial 0 with value: 0.9947527806036963.\u001b[0m\n",
      "Precision: 0.9617834394904459 \n",
      "Recall: 0.9355638166047088 \n",
      "Aging Rate: 0.5117340286831812\n",
      "Precision: 0.9661458333333334 \n",
      "Recall: 0.9126691266912669 \n",
      "Aging Rate: 0.500651890482399\n",
      "Precision: 0.9573643410852714 \n",
      "Recall: 0.946360153256705 \n",
      "Aging Rate: 0.5045632333767927\n",
      "\u001b[32m[I 2021-12-13 13:06:44,687]\u001b[0m Trial 2 finished with value: 0.9505791456275382 and parameters: {'n_estimators': 100, 'min_samples_split': 17, 'max_depth': 6}. Best is trial 0 with value: 0.9947527806036963.\u001b[0m\n",
      "Precision: 0.9537275064267352 \n",
      "Recall: 0.9452229299363057 \n",
      "Aging Rate: 0.5071707953063885\n",
      "Precision: 0.9609882964889467 \n",
      "Recall: 0.9390088945362135 \n",
      "Aging Rate: 0.5013037809647979\n",
      "Precision: 0.9557640750670241 \n",
      "Recall: 0.912932138284251 \n",
      "Aging Rate: 0.4863102998696219\n",
      "\u001b[32m[I 2021-12-13 13:06:46,468]\u001b[0m Trial 3 finished with value: 0.9478319077699999 and parameters: {'n_estimators': 500, 'min_samples_split': 22, 'max_depth': 6}. Best is trial 0 with value: 0.9947527806036963.\u001b[0m\n",
      "Precision: 0.9920212765957447 \n",
      "Recall: 0.9751633986928104 \n",
      "Aging Rate: 0.49022164276401564\n",
      "Precision: 0.9919028340080972 \n",
      "Recall: 0.9722222222222222 \n",
      "Aging Rate: 0.4830508474576271\n",
      "Precision: 0.9881266490765171 \n",
      "Recall: 0.981651376146789 \n",
      "Aging Rate: 0.4941329856584094\n",
      "\u001b[32m[I 2021-12-13 13:06:47,771]\u001b[0m Trial 4 finished with value: 0.9854660441518494 and parameters: {'n_estimators': 300, 'min_samples_split': 32, 'max_depth': 12}. Best is trial 0 with value: 0.9947527806036963.\u001b[0m\n",
      "Precision: 0.9910828025477707 \n",
      "Recall: 0.9737171464330413 \n",
      "Aging Rate: 0.5117340286831812\n",
      "Precision: 0.9923076923076923 \n",
      "Recall: 0.9723618090452262 \n",
      "Aging Rate: 0.5084745762711864\n",
      "Precision: 0.9786096256684492 \n",
      "Recall: 0.9721115537848606 \n",
      "Aging Rate: 0.4876140808344198\n",
      "\u001b[32m[I 2021-12-13 13:06:49,064]\u001b[0m Trial 5 finished with value: 0.9820180664792838 and parameters: {'n_estimators': 300, 'min_samples_split': 22, 'max_depth': 9}. Best is trial 0 with value: 0.9947527806036963.\u001b[0m\n",
      "Precision: 0.9958333333333333 \n",
      "Recall: 0.9930747922437673 \n",
      "Aging Rate: 0.46936114732724904\n",
      "Precision: 0.9923566878980892 \n",
      "Recall: 0.9910941475826972 \n",
      "Aging Rate: 0.5117340286831812\n",
      "Precision: 0.9961489088575096 \n",
      "Recall: 0.9897959183673469 \n",
      "Aging Rate: 0.5078226857887875\n",
      "\u001b[32m[I 2021-12-13 13:06:49,921]\u001b[0m Trial 6 finished with value: 0.9935309189498976 and parameters: {'n_estimators': 100, 'min_samples_split': 7, 'max_depth': 15}. Best is trial 0 with value: 0.9947527806036963.\u001b[0m\n",
      "Precision: 0.8854314002828855 \n",
      "Recall: 0.8151041666666666 \n",
      "Aging Rate: 0.46088657105606257\n",
      "Precision: 0.8492392807745505 \n",
      "Recall: 0.792258064516129 \n",
      "Aging Rate: 0.47131681877444587\n",
      "Precision: 0.8629943502824858 \n",
      "Recall: 0.8039473684210526 \n",
      "Aging Rate: 0.46153846153846156\n",
      "\u001b[32m[I 2021-12-13 13:06:51,230]\u001b[0m Trial 7 finished with value: 0.8424424345817658 and parameters: {'n_estimators': 300, 'min_samples_split': 32, 'max_depth': 3}. Best is trial 0 with value: 0.9947527806036963.\u001b[0m\n",
      "Precision: 0.9453333333333334 \n",
      "Recall: 0.9219765929778934 \n",
      "Aging Rate: 0.48891786179921776\n",
      "Precision: 0.9451137884872824 \n",
      "Recall: 0.918075422626788 \n",
      "Aging Rate: 0.4869621903520209\n",
      "Precision: 0.9568733153638814 \n",
      "Recall: 0.9196891191709845 \n",
      "Aging Rate: 0.48370273794002605\n",
      "\u001b[32m[I 2021-12-13 13:06:54,287]\u001b[0m Trial 8 finished with value: 0.9383779438945696 and parameters: {'n_estimators': 900, 'min_samples_split': 32, 'max_depth': 6}. Best is trial 0 with value: 0.9947527806036963.\u001b[0m\n",
      "Precision: 0.988 \n",
      "Recall: 0.9932975871313673 \n",
      "Aging Rate: 0.48891786179921776\n",
      "Precision: 0.9973890339425587 \n",
      "Recall: 0.9909208819714657 \n",
      "Aging Rate: 0.49934810951760106\n",
      "Precision: 0.9919246298788694 \n",
      "Recall: 0.9879356568364611 \n",
      "Aging Rate: 0.48435462842242505\n",
      "\u001b[32m[I 2021-12-13 13:06:56,659]\u001b[0m Trial 9 finished with value: 0.9918120992482478 and parameters: {'n_estimators': 700, 'min_samples_split': 7, 'max_depth': 12}. Best is trial 0 with value: 0.9947527806036963.\u001b[0m\n",
      "Precision: 0.9893333333333333 \n",
      "Recall: 0.9946380697050938 \n",
      "Aging Rate: 0.48891786179921776\n",
      "Precision: 0.9974522292993631 \n",
      "Recall: 0.9961832061068703 \n",
      "Aging Rate: 0.5117340286831812\n",
      "Precision: 0.9973118279569892 \n",
      "Recall: 0.9867021276595744 \n",
      "Aging Rate: 0.485006518904824\n",
      "\u001b[32m[I 2021-12-13 13:06:59,298]\u001b[0m Trial 10 finished with value: 0.9938992228712977 and parameters: {'n_estimators': 700, 'min_samples_split': 2, 'max_depth': 21}. Best is trial 0 with value: 0.9947527806036963.\u001b[0m\n",
      "Precision: 1.0 \n",
      "Recall: 0.993514915693904 \n",
      "Aging Rate: 0.49934810951760106\n",
      "Precision: 0.9947437582128777 \n",
      "Recall: 0.9908376963350786 \n",
      "Aging Rate: 0.49608865710560623\n",
      "Precision: 0.9986559139784946 \n",
      "Recall: 0.9933155080213903 \n",
      "Aging Rate: 0.485006518904824\n",
      "\u001b[32m[I 2021-12-13 13:07:02,242]\u001b[0m Trial 11 finished with value: 0.9959054793540404 and parameters: {'n_estimators': 700, 'min_samples_split': 7, 'max_depth': 21}. Best is trial 11 with value: 0.9959054793540404.\u001b[0m\n",
      "Precision: 0.851150202976996 \n",
      "Recall: 0.8581173260572987 \n",
      "Aging Rate: 0.4817470664928292\n",
      "Precision: 0.8716502115655853 \n",
      "Recall: 0.7872611464968153 \n",
      "Aging Rate: 0.4621903520208605\n",
      "Precision: 0.8711819389110226 \n",
      "Recall: 0.8346055979643766 \n",
      "Aging Rate: 0.4908735332464146\n",
      "\u001b[32m[I 2021-12-13 13:07:04,019]\u001b[0m Trial 12 finished with value: 0.8501865244129738 and parameters: {'n_estimators': 500, 'min_samples_split': 2, 'max_depth': 3}. Best is trial 11 with value: 0.9959054793540404.\u001b[0m\n",
      "Precision: 0.9946879150066401 \n",
      "Recall: 0.9881266490765171 \n",
      "Aging Rate: 0.4908735332464146\n",
      "Precision: 0.9933598937583001 \n",
      "Recall: 0.9920424403183024 \n",
      "Aging Rate: 0.4908735332464146\n",
      "Precision: 0.9974358974358974 \n",
      "Recall: 0.98856416772554 \n",
      "Aging Rate: 0.5084745762711864\n",
      "\u001b[32m[I 2021-12-13 13:07:05,902]\u001b[0m Trial 13 finished with value: 0.9931416142225272 and parameters: {'n_estimators': 500, 'min_samples_split': 17, 'max_depth': 21}. Best is trial 11 with value: 0.9959054793540404.\u001b[0m\n",
      "Precision: 0.9974554707379135 \n",
      "Recall: 0.9861635220125786 \n",
      "Aging Rate: 0.5123859191655802\n",
      "Precision: 0.9986910994764397 \n",
      "Recall: 0.9960835509138382 \n",
      "Aging Rate: 0.4980443285528031\n",
      "Precision: 0.9960369881109643 \n",
      "Recall: 0.9869109947643979 \n",
      "Aging Rate: 0.4934810951760104\n",
      "\u001b[32m[I 2021-12-13 13:07:07,778]\u001b[0m Trial 14 finished with value: 0.9946145880457179 and parameters: {'n_estimators': 500, 'min_samples_split': 7, 'max_depth': 15}. Best is trial 11 with value: 0.9959054793540404.\u001b[0m\n",
      "Precision: 0.9974715549936789 \n",
      "Recall: 0.9825653798256538 \n",
      "Aging Rate: 0.515645371577575\n",
      "Precision: 0.9946737683089214 \n",
      "Recall: 0.9946737683089214 \n",
      "Aging Rate: 0.4895697522816167\n",
      "Precision: 0.9973958333333334 \n",
      "Recall: 0.9896640826873385 \n",
      "Aging Rate: 0.500651890482399\n",
      "\u001b[32m[I 2021-12-13 13:07:11,189]\u001b[0m Trial 15 finished with value: 0.9937752687806979 and parameters: {'n_estimators': 900, 'min_samples_split': 17, 'max_depth': 21}. Best is trial 11 with value: 0.9959054793540404.\u001b[0m\n",
      "Precision: 0.9946808510638298 \n",
      "Recall: 0.9933598937583001 \n",
      "Aging Rate: 0.49022164276401564\n",
      "Precision: 0.9986559139784946 \n",
      "Recall: 0.9841059602649007 \n",
      "Aging Rate: 0.485006518904824\n",
      "Precision: 1.0 \n",
      "Recall: 0.9934895833333334 \n",
      "Aging Rate: 0.4973924380704042\n",
      "\u001b[32m[I 2021-12-13 13:07:12,495]\u001b[0m Trial 16 finished with value: 0.9950733249205909 and parameters: {'n_estimators': 300, 'min_samples_split': 2, 'max_depth': 21}. Best is trial 11 with value: 0.9959054793540404.\u001b[0m\n"
     ]
    },
    {
     "name": "stdout",
     "output_type": "stream",
     "text": [
      "Precision: 0.9920739762219286 \n",
      "Recall: 0.9868593955321945 \n",
      "Aging Rate: 0.4934810951760104\n",
      "Precision: 0.9960835509138382 \n",
      "Recall: 0.9870633893919794 \n",
      "Aging Rate: 0.49934810951760106\n",
      "Precision: 0.9947916666666666 \n",
      "Recall: 0.9896373056994818 \n",
      "Aging Rate: 0.500651890482399\n",
      "\u001b[32m[I 2021-12-13 13:07:13,346]\u001b[0m Trial 17 finished with value: 0.9919792257022458 and parameters: {'n_estimators': 100, 'min_samples_split': 2, 'max_depth': 21}. Best is trial 11 with value: 0.9959054793540404.\u001b[0m\n",
      "Precision: 0.9973821989528796 \n",
      "Recall: 0.983225806451613 \n",
      "Aging Rate: 0.4980443285528031\n",
      "Precision: 0.9986910994764397 \n",
      "Recall: 0.9921976592977894 \n",
      "Aging Rate: 0.4980443285528031\n",
      "Precision: 0.9974259974259975 \n",
      "Recall: 0.9860050890585241 \n",
      "Aging Rate: 0.5065189048239895\n",
      "\u001b[32m[I 2021-12-13 13:07:15,354]\u001b[0m Trial 18 finished with value: 0.9939556632338284 and parameters: {'n_estimators': 500, 'min_samples_split': 7, 'max_depth': 21}. Best is trial 11 with value: 0.9959054793540404.\u001b[0m\n",
      "Precision: 0.9933598937583001 \n",
      "Recall: 0.9868073878627969 \n",
      "Aging Rate: 0.4908735332464146\n",
      "Precision: 0.9923371647509579 \n",
      "Recall: 0.9898089171974522 \n",
      "Aging Rate: 0.5104302477183833\n",
      "Precision: 0.9948652118100129 \n",
      "Recall: 0.9885204081632653 \n",
      "Aging Rate: 0.5078226857887875\n",
      "\u001b[32m[I 2021-12-13 13:07:17,127]\u001b[0m Trial 19 finished with value: 0.9916627404709543 and parameters: {'n_estimators': 500, 'min_samples_split': 32, 'max_depth': 21}. Best is trial 11 with value: 0.9959054793540404.\u001b[0m\n",
      "Precision: 0.8701657458563536 \n",
      "Recall: 0.8235294117647058 \n",
      "Aging Rate: 0.47196870925684486\n",
      "Precision: 0.873641304347826 \n",
      "Recall: 0.8361508452535761 \n",
      "Aging Rate: 0.47979139504563234\n",
      "Precision: 0.8762446657183499 \n",
      "Recall: 0.8169761273209549 \n",
      "Aging Rate: 0.45827900912646674\n",
      "\u001b[32m[I 2021-12-13 13:07:20,191]\u001b[0m Trial 20 finished with value: 0.8554954953361801 and parameters: {'n_estimators': 900, 'min_samples_split': 12, 'max_depth': 3}. Best is trial 11 with value: 0.9959054793540404.\u001b[0m\n",
      "Precision: 0.9933598937583001 \n",
      "Recall: 0.990728476821192 \n",
      "Aging Rate: 0.4908735332464146\n",
      "Precision: 0.9918256130790191 \n",
      "Recall: 0.9904761904761905 \n",
      "Aging Rate: 0.4784876140808344\n",
      "Precision: 0.9932614555256065 \n",
      "Recall: 0.9892617449664429 \n",
      "Aging Rate: 0.48370273794002605\n",
      "\u001b[32m[I 2021-12-13 13:07:21,974]\u001b[0m Trial 21 finished with value: 0.9918560705773731 and parameters: {'n_estimators': 500, 'min_samples_split': 2, 'max_depth': 12}. Best is trial 11 with value: 0.9959054793540404.\u001b[0m\n",
      "Precision: 0.9947229551451188 \n",
      "Recall: 0.9947229551451188 \n",
      "Aging Rate: 0.4941329856584094\n",
      "Precision: 0.9960526315789474 \n",
      "Recall: 0.9843953185955787 \n",
      "Aging Rate: 0.4954367666232073\n",
      "Precision: 0.9948119325551232 \n",
      "Recall: 0.9935233160621761 \n",
      "Aging Rate: 0.5026075619295959\n",
      "\u001b[32m[I 2021-12-13 13:07:25,374]\u001b[0m Trial 22 finished with value: 0.9936316429090636 and parameters: {'n_estimators': 900, 'min_samples_split': 7, 'max_depth': 15}. Best is trial 11 with value: 0.9959054793540404.\u001b[0m\n",
      "Precision: 0.9974391805377721 \n",
      "Recall: 0.9898348157560356 \n",
      "Aging Rate: 0.5091264667535854\n",
      "Precision: 0.9987261146496815 \n",
      "Recall: 0.9861635220125786 \n",
      "Aging Rate: 0.5117340286831812\n",
      "Precision: 0.9987029831387808 \n",
      "Recall: 0.9897172236503856 \n",
      "Aging Rate: 0.5026075619295959\n",
      "\u001b[32m[I 2021-12-13 13:07:26,738]\u001b[0m Trial 23 finished with value: 0.9947681462075703 and parameters: {'n_estimators': 300, 'min_samples_split': 2, 'max_depth': 18}. Best is trial 11 with value: 0.9959054793540404.\u001b[0m\n",
      "Precision: 1.0 \n",
      "Recall: 0.9935316946959897 \n",
      "Aging Rate: 0.500651890482399\n",
      "Precision: 0.9973262032085561 \n",
      "Recall: 0.9893899204244032 \n",
      "Aging Rate: 0.4876140808344198\n",
      "Precision: 0.9947575360419397 \n",
      "Recall: 0.993455497382199 \n",
      "Aging Rate: 0.4973924380704042\n",
      "\u001b[32m[I 2021-12-13 13:07:28,048]\u001b[0m Trial 24 finished with value: 0.9954682186093167 and parameters: {'n_estimators': 300, 'min_samples_split': 2, 'max_depth': 18}. Best is trial 11 with value: 0.9959054793540404.\u001b[0m\n",
      "Precision: 0.9948717948717949 \n",
      "Recall: 0.9923273657289002 \n",
      "Aging Rate: 0.5084745762711864\n",
      "Precision: 0.9986962190352021 \n",
      "Recall: 0.9896640826873385 \n",
      "Aging Rate: 0.5\n",
      "Precision: 0.9974259974259975 \n",
      "Recall: 0.9935897435897436 \n",
      "Aging Rate: 0.5065189048239895\n",
      "\u001b[32m[I 2021-12-13 13:07:29,366]\u001b[0m Trial 25 finished with value: 0.9951405188902175 and parameters: {'n_estimators': 300, 'min_samples_split': 12, 'max_depth': 21}. Best is trial 11 with value: 0.9959054793540404.\u001b[0m\n",
      "Precision: 1.0 \n",
      "Recall: 0.9865951742627346 \n",
      "Aging Rate: 0.47979139504563234\n",
      "Precision: 0.9947575360419397 \n",
      "Recall: 0.9921568627450981 \n",
      "Aging Rate: 0.4973924380704042\n",
      "Precision: 0.9946091644204852 \n",
      "Recall: 0.9906040268456375 \n",
      "Aging Rate: 0.48370273794002605\n",
      "\u001b[32m[I 2021-12-13 13:07:30,248]\u001b[0m Trial 26 finished with value: 0.9940386059824444 and parameters: {'n_estimators': 100, 'min_samples_split': 17, 'max_depth': 18}. Best is trial 11 with value: 0.9959054793540404.\u001b[0m\n",
      "Precision: 0.9986842105263158 \n",
      "Recall: 0.9806201550387597 \n",
      "Aging Rate: 0.4954367666232073\n",
      "Precision: 0.993421052631579 \n",
      "Recall: 0.9869281045751634 \n",
      "Aging Rate: 0.4954367666232073\n",
      "Precision: 0.9936305732484076 \n",
      "Recall: 0.9911054637865311 \n",
      "Aging Rate: 0.5117340286831812\n",
      "\u001b[32m[I 2021-12-13 13:07:32,025]\u001b[0m Trial 27 finished with value: 0.9919662711877644 and parameters: {'n_estimators': 500, 'min_samples_split': 17, 'max_depth': 15}. Best is trial 11 with value: 0.9959054793540404.\u001b[0m\n",
      "Precision: 0.9959623149394348 \n",
      "Recall: 0.9906291834002677 \n",
      "Aging Rate: 0.48435462842242505\n",
      "Precision: 0.996005326231691 \n",
      "Recall: 0.9842105263157894 \n",
      "Aging Rate: 0.4895697522816167\n",
      "Precision: 0.99609375 \n",
      "Recall: 0.9896507115135834 \n",
      "Aging Rate: 0.500651890482399\n",
      "\u001b[32m[I 2021-12-13 13:07:33,346]\u001b[0m Trial 28 finished with value: 0.9931757235977491 and parameters: {'n_estimators': 300, 'min_samples_split': 17, 'max_depth': 21}. Best is trial 11 with value: 0.9959054793540404.\u001b[0m\n",
      "Precision: 0.9786666666666667 \n",
      "Recall: 0.9799732977303071 \n",
      "Aging Rate: 0.48891786179921776\n",
      "Precision: 0.9845559845559846 \n",
      "Recall: 0.9845559845559846 \n",
      "Aging Rate: 0.5065189048239895\n",
      "Precision: 0.9896507115135834 \n",
      "Recall: 0.9832904884318766 \n",
      "Aging Rate: 0.5039113428943938\n",
      "\u001b[32m[I 2021-12-13 13:07:34,212]\u001b[0m Trial 29 finished with value: 0.9836814038052109 and parameters: {'n_estimators': 100, 'min_samples_split': 2, 'max_depth': 9}. Best is trial 11 with value: 0.9959054793540404.\u001b[0m\n",
      "Precision: 0.9948519948519948 \n",
      "Recall: 0.993573264781491 \n",
      "Aging Rate: 0.5065189048239895\n",
      "Precision: 0.9974457215836526 \n",
      "Recall: 0.9949044585987261 \n",
      "Aging Rate: 0.5104302477183833\n",
      "Precision: 0.9959946595460614 \n",
      "Recall: 0.9920212765957447 \n",
      "Aging Rate: 0.48826597131681876\n",
      "\u001b[32m[I 2021-12-13 13:07:37,117]\u001b[0m Trial 30 finished with value: 0.995160408655531 and parameters: {'n_estimators': 700, 'min_samples_split': 12, 'max_depth': 18}. Best is trial 11 with value: 0.9959054793540404.\u001b[0m\n",
      "Precision: 1.0 \n",
      "Recall: 0.9845956354300385 \n",
      "Aging Rate: 0.5\n",
      "Precision: 0.9972826086956522 \n",
      "Recall: 0.9852348993288591 \n",
      "Aging Rate: 0.47979139504563234\n",
      "Precision: 0.9932523616734144 \n",
      "Recall: 0.9932523616734144 \n",
      "Aging Rate: 0.4830508474576271\n",
      "\u001b[32m[I 2021-12-13 13:07:40,059]\u001b[0m Trial 31 finished with value: 0.9935210707983003 and parameters: {'n_estimators': 700, 'min_samples_split': 12, 'max_depth': 18}. Best is trial 11 with value: 0.9959054793540404.\u001b[0m\n",
      "Precision: 0.996 \n",
      "Recall: 0.9894039735099338 \n",
      "Aging Rate: 0.48891786179921776\n",
      "Precision: 0.9948186528497409 \n",
      "Recall: 0.9896907216494846 \n",
      "Aging Rate: 0.5032594524119948\n",
      "Precision: 0.9973684210526316 \n",
      "Recall: 0.9921465968586387 \n",
      "Aging Rate: 0.4954367666232073\n",
      "\u001b[32m[I 2021-12-13 13:07:43,410]\u001b[0m Trial 32 finished with value: 0.9940213515914186 and parameters: {'n_estimators': 900, 'min_samples_split': 7, 'max_depth': 21}. Best is trial 11 with value: 0.9959054793540404.\u001b[0m\n",
      "Precision: 0.9933333333333333 \n",
      "Recall: 0.9815546772068511 \n",
      "Aging Rate: 0.48891786179921776\n",
      "Precision: 0.9946949602122016 \n",
      "Recall: 0.9829619921363041 \n",
      "Aging Rate: 0.4915254237288136\n",
      "Precision: 0.9910828025477707 \n",
      "Recall: 0.9873096446700508 \n",
      "Aging Rate: 0.5117340286831812\n",
      "\u001b[32m[I 2021-12-13 13:07:46,811]\u001b[0m Trial 33 finished with value: 0.9897402340335599 and parameters: {'n_estimators': 900, 'min_samples_split': 17, 'max_depth': 12}. Best is trial 11 with value: 0.9959054793540404.\u001b[0m\n"
     ]
    },
    {
     "name": "stdout",
     "output_type": "stream",
     "text": [
      "Precision: 0.9960106382978723 \n",
      "Recall: 0.9894319682959049 \n",
      "Aging Rate: 0.49022164276401564\n",
      "Precision: 0.9960369881109643 \n",
      "Recall: 0.9869109947643979 \n",
      "Aging Rate: 0.4934810951760104\n",
      "Precision: 0.9973190348525469 \n",
      "Recall: 0.9776609724047306 \n",
      "Aging Rate: 0.4863102998696219\n",
      "\u001b[32m[I 2021-12-13 13:07:48,100]\u001b[0m Trial 34 finished with value: 0.9921720773145676 and parameters: {'n_estimators': 300, 'min_samples_split': 12, 'max_depth': 18}. Best is trial 11 with value: 0.9959054793540404.\u001b[0m\n",
      "Precision: 0.9960264900662251 \n",
      "Recall: 0.9947089947089947 \n",
      "Aging Rate: 0.4921773142112125\n",
      "Precision: 0.9973509933774835 \n",
      "Recall: 0.9920948616600791 \n",
      "Aging Rate: 0.4921773142112125\n",
      "Precision: 0.9960732984293194 \n",
      "Recall: 0.9908854166666666 \n",
      "Aging Rate: 0.4980443285528031\n",
      "\u001b[32m[I 2021-12-13 13:07:51,025]\u001b[0m Trial 35 finished with value: 0.9950678622673856 and parameters: {'n_estimators': 700, 'min_samples_split': 12, 'max_depth': 21}. Best is trial 11 with value: 0.9959054793540404.\u001b[0m\n",
      "Precision: 0.996031746031746 \n",
      "Recall: 0.9934036939313984 \n",
      "Aging Rate: 0.49282920469361147\n",
      "Precision: 0.993421052631579 \n",
      "Recall: 0.993421052631579 \n",
      "Aging Rate: 0.4954367666232073\n",
      "Precision: 0.99734395750332 \n",
      "Recall: 0.9920739762219286 \n",
      "Aging Rate: 0.4908735332464146\n",
      "\u001b[32m[I 2021-12-13 13:07:52,366]\u001b[0m Trial 36 finished with value: 0.9946484753902881 and parameters: {'n_estimators': 300, 'min_samples_split': 2, 'max_depth': 15}. Best is trial 11 with value: 0.9959054793540404.\u001b[0m\n",
      "Precision: 0.9947089947089947 \n",
      "Recall: 0.9907773386034255 \n",
      "Aging Rate: 0.49282920469361147\n",
      "Precision: 0.9948253557567918 \n",
      "Recall: 0.990979381443299 \n",
      "Aging Rate: 0.5039113428943938\n",
      "Precision: 0.9947643979057592 \n",
      "Recall: 0.9960681520314548 \n",
      "Aging Rate: 0.4980443285528031\n",
      "\u001b[32m[I 2021-12-13 13:07:53,665]\u001b[0m Trial 37 finished with value: 0.993986911942634 and parameters: {'n_estimators': 300, 'min_samples_split': 12, 'max_depth': 21}. Best is trial 11 with value: 0.9959054793540404.\u001b[0m\n",
      "Precision: 0.9974293059125964 \n",
      "Recall: 0.9910600255427842 \n",
      "Aging Rate: 0.5071707953063885\n",
      "Precision: 0.9947712418300654 \n",
      "Recall: 0.9844760672703752 \n",
      "Aging Rate: 0.49869621903520206\n",
      "Precision: 0.9948652118100129 \n",
      "Recall: 0.9872611464968153 \n",
      "Aging Rate: 0.5078226857887875\n",
      "\u001b[32m[I 2021-12-13 13:07:56,584]\u001b[0m Trial 38 finished with value: 0.9927605046347923 and parameters: {'n_estimators': 700, 'min_samples_split': 12, 'max_depth': 18}. Best is trial 11 with value: 0.9959054793540404.\u001b[0m\n",
      "Precision: 0.9958041958041958 \n",
      "Recall: 0.9820689655172414 \n",
      "Aging Rate: 0.4661016949152542\n",
      "Precision: 0.9908854166666666 \n",
      "Recall: 0.9895968790637191 \n",
      "Aging Rate: 0.500651890482399\n",
      "Precision: 0.9962640099626401 \n",
      "Recall: 0.984009840098401 \n",
      "Aging Rate: 0.5234680573663625\n",
      "\u001b[32m[I 2021-12-13 13:07:59,167]\u001b[0m Trial 39 finished with value: 0.9910180456207431 and parameters: {'n_estimators': 700, 'min_samples_split': 32, 'max_depth': 15}. Best is trial 11 with value: 0.9959054793540404.\u001b[0m\n",
      "Precision: 0.9973118279569892 \n",
      "Recall: 0.9906542056074766 \n",
      "Aging Rate: 0.485006518904824\n",
      "Precision: 1.0 \n",
      "Recall: 0.9910025706940874 \n",
      "Aging Rate: 0.5026075619295959\n",
      "Precision: 0.9959183673469387 \n",
      "Recall: 0.9905277401894452 \n",
      "Aging Rate: 0.4791395045632334\n",
      "\u001b[32m[I 2021-12-13 13:08:02,073]\u001b[0m Trial 40 finished with value: 0.9952059871663788 and parameters: {'n_estimators': 700, 'min_samples_split': 7, 'max_depth': 18}. Best is trial 11 with value: 0.9959054793540404.\u001b[0m\n",
      "Precision: 0.9987577639751553 \n",
      "Recall: 0.9962825278810409 \n",
      "Aging Rate: 0.5247718383311604\n",
      "Precision: 0.9960106382978723 \n",
      "Recall: 0.9855263157894737 \n",
      "Aging Rate: 0.49022164276401564\n",
      "Precision: 0.9974424552429667 \n",
      "Recall: 0.9898477157360406 \n",
      "Aging Rate: 0.5097783572359843\n",
      "\u001b[32m[I 2021-12-13 13:08:04,999]\u001b[0m Trial 41 finished with value: 0.9949236353572366 and parameters: {'n_estimators': 700, 'min_samples_split': 2, 'max_depth': 18}. Best is trial 11 with value: 0.9959054793540404.\u001b[0m\n",
      "Precision: 0.9974093264248705 \n",
      "Recall: 0.9859154929577465 \n",
      "Aging Rate: 0.5032594524119948\n",
      "Precision: 0.9946949602122016 \n",
      "Recall: 0.9881422924901185 \n",
      "Aging Rate: 0.4915254237288136\n",
      "Precision: 0.9987113402061856 \n",
      "Recall: 0.9885204081632653 \n",
      "Aging Rate: 0.5058670143415906\n",
      "\u001b[32m[I 2021-12-13 13:08:07,113]\u001b[0m Trial 42 finished with value: 0.993528434368713 and parameters: {'n_estimators': 500, 'min_samples_split': 7, 'max_depth': 18}. Best is trial 11 with value: 0.9959054793540404.\u001b[0m\n",
      "Precision: 0.9961538461538462 \n",
      "Recall: 0.9936061381074168 \n",
      "Aging Rate: 0.5084745762711864\n",
      "Precision: 0.9960578186596584 \n",
      "Recall: 0.9856957087126138 \n",
      "Aging Rate: 0.49608865710560623\n",
      "Precision: 0.9960681520314548 \n",
      "Recall: 0.987012987012987 \n",
      "Aging Rate: 0.4973924380704042\n",
      "\u001b[32m[I 2021-12-13 13:08:10,036]\u001b[0m Trial 43 finished with value: 0.9934422795315934 and parameters: {'n_estimators': 700, 'min_samples_split': 7, 'max_depth': 21}. Best is trial 11 with value: 0.9959054793540404.\u001b[0m\n",
      "Precision: 0.996078431372549 \n",
      "Recall: 0.9883268482490273 \n",
      "Aging Rate: 0.49869621903520206\n",
      "Precision: 0.9962025316455696 \n",
      "Recall: 0.9911838790931989 \n",
      "Aging Rate: 0.5149934810951761\n",
      "Precision: 0.9986684420772304 \n",
      "Recall: 0.9829619921363041 \n",
      "Aging Rate: 0.4895697522816167\n",
      "\u001b[32m[I 2021-12-13 13:08:12,978]\u001b[0m Trial 44 finished with value: 0.9935401645610997 and parameters: {'n_estimators': 700, 'min_samples_split': 7, 'max_depth': 18}. Best is trial 11 with value: 0.9959054793540404.\u001b[0m\n",
      "Precision: 0.9948253557567918 \n",
      "Recall: 0.9961139896373057 \n",
      "Aging Rate: 0.5039113428943938\n",
      "Precision: 0.9947159841479525 \n",
      "Recall: 0.9868938401048493 \n",
      "Aging Rate: 0.4934810951760104\n",
      "Precision: 0.996031746031746 \n",
      "Recall: 0.9856020942408377 \n",
      "Aging Rate: 0.49282920469361147\n",
      "\u001b[32m[I 2021-12-13 13:08:15,754]\u001b[0m Trial 45 finished with value: 0.9931421291905425 and parameters: {'n_estimators': 700, 'min_samples_split': 17, 'max_depth': 18}. Best is trial 11 with value: 0.9959054793540404.\u001b[0m\n",
      "Precision: 0.983957219251337 \n",
      "Recall: 0.9813333333333333 \n",
      "Aging Rate: 0.4876140808344198\n",
      "Precision: 0.9935649935649936 \n",
      "Recall: 0.9884763124199744 \n",
      "Aging Rate: 0.5065189048239895\n",
      "Precision: 0.9960264900662251 \n",
      "Recall: 0.9715762273901809 \n",
      "Aging Rate: 0.4921773142112125\n",
      "\u001b[32m[I 2021-12-13 13:08:16,611]\u001b[0m Trial 46 finished with value: 0.9872739838040778 and parameters: {'n_estimators': 100, 'min_samples_split': 32, 'max_depth': 21}. Best is trial 11 with value: 0.9959054793540404.\u001b[0m\n",
      "Precision: 0.9961538461538462 \n",
      "Recall: 0.9910714285714286 \n",
      "Aging Rate: 0.5084745762711864\n",
      "Precision: 0.9973614775725593 \n",
      "Recall: 0.9895287958115183 \n",
      "Aging Rate: 0.4941329856584094\n",
      "Precision: 0.9906417112299465 \n",
      "Recall: 0.9906417112299465 \n",
      "Aging Rate: 0.4876140808344198\n",
      "\u001b[32m[I 2021-12-13 13:08:18,723]\u001b[0m Trial 47 finished with value: 0.9931624536498743 and parameters: {'n_estimators': 500, 'min_samples_split': 7, 'max_depth': 21}. Best is trial 11 with value: 0.9959054793540404.\u001b[0m\n",
      "Precision: 0.9972640218878249 \n",
      "Recall: 0.9918367346938776 \n",
      "Aging Rate: 0.4765319426336376\n",
      "Precision: 0.9948914431673053 \n",
      "Recall: 0.9898348157560356 \n",
      "Aging Rate: 0.5104302477183833\n",
      "Precision: 0.9920424403183024 \n",
      "Recall: 0.9894179894179894 \n",
      "Aging Rate: 0.4915254237288136\n",
      "\u001b[32m[I 2021-12-13 13:08:19,574]\u001b[0m Trial 48 finished with value: 0.9931548405637933 and parameters: {'n_estimators': 100, 'min_samples_split': 12, 'max_depth': 21}. Best is trial 11 with value: 0.9959054793540404.\u001b[0m\n",
      "Precision: 0.9948783610755442 \n",
      "Recall: 0.9923371647509579 \n",
      "Aging Rate: 0.5091264667535854\n",
      "Precision: 0.998661311914324 \n",
      "Recall: 0.9880794701986755 \n",
      "Aging Rate: 0.4869621903520209\n"
     ]
    },
    {
     "name": "stderr",
     "output_type": "stream",
     "text": [
      "C:\\Users\\user\\anaconda3\\envs\\aging\\lib\\site-packages\\optuna\\samplers\\_tpe\\sampler.py:253: ExperimentalWarning: ``multivariate`` option is an experimental feature. The interface can change in the future.\n",
      "  ExperimentalWarning,\n",
      "\u001b[32m[I 2021-12-13 13:08:22,558]\u001b[0m A new study created in memory with name: no-name-1c836d8d-a573-4753-aa65-4a453353ec71\u001b[0m\n"
     ]
    },
    {
     "name": "stdout",
     "output_type": "stream",
     "text": [
      "Precision: 0.9945130315500685 \n",
      "Recall: 0.9863945578231292 \n",
      "Aging Rate: 0.47522816166883963\n",
      "\u001b[32m[I 2021-12-13 13:08:22,495]\u001b[0m Trial 49 finished with value: 0.9934543008996738 and parameters: {'n_estimators': 700, 'min_samples_split': 7, 'max_depth': 18}. Best is trial 11 with value: 0.9959054793540404.\u001b[0m\n",
      "Sampler is TPESampler\n",
      "Dataset2 :\n"
     ]
    },
    {
     "name": "stderr",
     "output_type": "stream",
     "text": [
      "C:\\Users\\user\\anaconda3\\envs\\aging\\lib\\site-packages\\optuna\\progress_bar.py:47: ExperimentalWarning: Progress bar is experimental (supported from v1.2.0). The interface can change in the future.\n",
      "  self._init_valid()\n"
     ]
    },
    {
     "data": {
      "application/vnd.jupyter.widget-view+json": {
       "model_id": "43bd3eef11d7417c9d72811c97c95c24",
       "version_major": 2,
       "version_minor": 0
      },
      "text/plain": [
       "  0%|          | 0/50 [00:00<?, ?it/s]"
      ]
     },
     "metadata": {},
     "output_type": "display_data"
    },
    {
     "name": "stdout",
     "output_type": "stream",
     "text": [
      "Precision: 0.9505813953488372 \n",
      "Recall: 0.938755980861244 \n",
      "Aging Rate: 0.49049429657794674\n",
      "Precision: 0.9558390578999019 \n",
      "Recall: 0.9365384615384615 \n",
      "Aging Rate: 0.4843155893536122\n",
      "Precision: 0.9588235294117647 \n",
      "Recall: 0.9305423406279734 \n",
      "Aging Rate: 0.4847908745247148\n",
      "\u001b[32m[I 2021-12-13 13:08:24,296]\u001b[0m Trial 0 finished with value: 0.947845455016858 and parameters: {'n_estimators': 500, 'min_samples_split': 22, 'max_depth': 9}. Best is trial 0 with value: 0.947845455016858.\u001b[0m\n",
      "Precision: 0.9864734299516909 \n",
      "Recall: 0.9912621359223301 \n",
      "Aging Rate: 0.4919201520912547\n",
      "Precision: 0.9839857651245552 \n",
      "Recall: 0.9848619768477292 \n",
      "Aging Rate: 0.5342205323193916\n",
      "Precision: 0.9895734597156398 \n",
      "Recall: 0.9933396764985728 \n",
      "Aging Rate: 0.501425855513308\n",
      "\u001b[32m[I 2021-12-13 13:08:25,859]\u001b[0m Trial 1 finished with value: 0.9878063499073507 and parameters: {'n_estimators': 300, 'min_samples_split': 27, 'max_depth': 18}. Best is trial 1 with value: 0.9878063499073507.\u001b[0m\n",
      "Precision: 0.9851439182915506 \n",
      "Recall: 0.991588785046729 \n",
      "Aging Rate: 0.5118821292775665\n",
      "Precision: 0.9865513928914506 \n",
      "Recall: 0.9932301740812379 \n",
      "Aging Rate: 0.49477186311787075\n",
      "Precision: 0.9873170731707317 \n",
      "Recall: 0.989247311827957 \n",
      "Aging Rate: 0.48716730038022815\n",
      "\u001b[32m[I 2021-12-13 13:08:27,998]\u001b[0m Trial 2 finished with value: 0.9881369563248067 and parameters: {'n_estimators': 500, 'min_samples_split': 12, 'max_depth': 15}. Best is trial 2 with value: 0.9881369563248067.\u001b[0m\n",
      "Precision: 0.9846005774783445 \n",
      "Recall: 0.9932038834951457 \n",
      "Aging Rate: 0.4938212927756654\n",
      "Precision: 0.9797101449275363 \n",
      "Recall: 0.9912023460410557 \n",
      "Aging Rate: 0.4919201520912547\n",
      "Precision: 0.988560533841754 \n",
      "Recall: 0.9942473633748802 \n",
      "Aging Rate: 0.498574144486692\n",
      "\u001b[32m[I 2021-12-13 13:08:31,746]\u001b[0m Trial 3 finished with value: 0.9873657786666378 and parameters: {'n_estimators': 900, 'min_samples_split': 27, 'max_depth': 21}. Best is trial 2 with value: 0.9881369563248067.\u001b[0m\n",
      "Precision: 0.9819219790675547 \n",
      "Recall: 0.9913544668587896 \n",
      "Aging Rate: 0.4995247148288973\n",
      "Precision: 0.9837008628954937 \n",
      "Recall: 0.9846449136276392 \n",
      "Aging Rate: 0.49572243346007605\n",
      "Precision: 0.9765037593984962 \n",
      "Recall: 0.9914122137404581 \n",
      "Aging Rate: 0.5057034220532319\n",
      "\u001b[32m[I 2021-12-13 13:08:32,624]\u001b[0m Trial 4 finished with value: 0.9837187691105096 and parameters: {'n_estimators': 100, 'min_samples_split': 12, 'max_depth': 15}. Best is trial 2 with value: 0.9881369563248067.\u001b[0m\n",
      "Precision: 0.9647887323943662 \n",
      "Recall: 0.9247830279652844 \n",
      "Aging Rate: 0.47243346007604564\n",
      "Precision: 0.9596622889305816 \n",
      "Recall: 0.9402573529411765 \n",
      "Aging Rate: 0.5066539923954373\n",
      "Precision: 0.9739884393063584 \n",
      "Recall: 0.9157608695652174 \n",
      "Aging Rate: 0.49334600760456276\n",
      "\u001b[32m[I 2021-12-13 13:08:33,500]\u001b[0m Trial 5 finished with value: 0.9515905215892588 and parameters: {'n_estimators': 100, 'min_samples_split': 17, 'max_depth': 9}. Best is trial 2 with value: 0.9881369563248067.\u001b[0m\n",
      "Precision: 0.9456625357483317 \n",
      "Recall: 0.9279700654817586 \n",
      "Aging Rate: 0.498574144486692\n",
      "Precision: 0.9467871485943775 \n",
      "Recall: 0.9208984375 \n",
      "Aging Rate: 0.47338403041825095\n",
      "Precision: 0.9485657764589516 \n",
      "Recall: 0.9374389051808406 \n",
      "Aging Rate: 0.48051330798479086\n",
      "\u001b[32m[I 2021-12-13 13:08:36,907]\u001b[0m Trial 6 finished with value: 0.940349023209329 and parameters: {'n_estimators': 900, 'min_samples_split': 32, 'max_depth': 9}. Best is trial 2 with value: 0.9881369563248067.\u001b[0m\n",
      "Precision: 0.9916434540389972 \n",
      "Recall: 0.9682683590208522 \n",
      "Aging Rate: 0.5118821292775665\n",
      "Precision: 0.975517890772128 \n",
      "Recall: 0.9773584905660377 \n",
      "Aging Rate: 0.5047528517110266\n",
      "Precision: 0.9810246679316889 \n",
      "Recall: 0.9819563152896487 \n",
      "Aging Rate: 0.5009505703422054\n",
      "\u001b[32m[I 2021-12-13 13:08:38,226]\u001b[0m Trial 7 finished with value: 0.9802130299330232 and parameters: {'n_estimators': 300, 'min_samples_split': 17, 'max_depth': 12}. Best is trial 2 with value: 0.9881369563248067.\u001b[0m\n",
      "Precision: 0.9807877041306436 \n",
      "Recall: 0.9855212355212355 \n",
      "Aging Rate: 0.49477186311787075\n",
      "Precision: 0.9846596356663471 \n",
      "Recall: 0.9771646051379639 \n",
      "Aging Rate: 0.49572243346007605\n",
      "Precision: 0.9756554307116105 \n",
      "Recall: 0.983947119924457 \n",
      "Aging Rate: 0.5076045627376425\n",
      "\u001b[32m[I 2021-12-13 13:08:40,337]\u001b[0m Trial 8 finished with value: 0.981019678291687 and parameters: {'n_estimators': 500, 'min_samples_split': 7, 'max_depth': 12}. Best is trial 2 with value: 0.9881369563248067.\u001b[0m\n",
      "Precision: 0.9852507374631269 \n",
      "Recall: 0.9930624380574826 \n",
      "Aging Rate: 0.4833650190114068\n",
      "Precision: 0.9867674858223062 \n",
      "Recall: 0.9933396764985728 \n",
      "Aging Rate: 0.502851711026616\n",
      "Precision: 0.9861495844875346 \n",
      "Recall: 0.994413407821229 \n",
      "Aging Rate: 0.5147338403041825\n",
      "\u001b[32m[I 2021-12-13 13:08:42,440]\u001b[0m Trial 9 finished with value: 0.9887602914800785 and parameters: {'n_estimators': 500, 'min_samples_split': 12, 'max_depth': 18}. Best is trial 9 with value: 0.9887602914800785.\u001b[0m\n",
      "Precision: 0.9801699716713881 \n",
      "Recall: 0.9933014354066986 \n",
      "Aging Rate: 0.5033269961977186\n",
      "Precision: 0.9811853245531514 \n",
      "Recall: 0.997131931166348 \n",
      "Aging Rate: 0.5052281368821293\n",
      "Precision: 0.9885386819484241 \n",
      "Recall: 0.9923298178331735 \n",
      "Aging Rate: 0.4976235741444867\n",
      "\u001b[32m[I 2021-12-13 13:08:46,363]\u001b[0m Trial 10 finished with value: 0.9872080880992874 and parameters: {'n_estimators': 900, 'min_samples_split': 12, 'max_depth': 21}. Best is trial 9 with value: 0.9887602914800785.\u001b[0m\n",
      "Precision: 0.9869888475836431 \n",
      "Recall: 0.9953139643861293 \n",
      "Aging Rate: 0.5114068441064639\n",
      "Precision: 0.9809160305343512 \n",
      "Recall: 0.9941972920696325 \n",
      "Aging Rate: 0.49809885931558934\n",
      "Precision: 0.9860853432282004 \n",
      "Recall: 0.992530345471522 \n",
      "Aging Rate: 0.5123574144486692\n",
      "\u001b[32m[I 2021-12-13 13:08:48,508]\u001b[0m Trial 11 finished with value: 0.9880072952771833 and parameters: {'n_estimators': 500, 'min_samples_split': 17, 'max_depth': 18}. Best is trial 9 with value: 0.9887602914800785.\u001b[0m\n",
      "Precision: 0.9856459330143541 \n",
      "Recall: 0.9970958373668926 \n",
      "Aging Rate: 0.49667300380228135\n",
      "Precision: 0.9886578449905482 \n",
      "Recall: 0.9952426260704091 \n",
      "Aging Rate: 0.502851711026616\n",
      "Precision: 0.9921104536489151 \n",
      "Recall: 0.9921104536489151 \n",
      "Aging Rate: 0.48193916349809884\n",
      "\u001b[32m[I 2021-12-13 13:08:50,148]\u001b[0m Trial 12 finished with value: 0.9909554124858185 and parameters: {'n_estimators': 300, 'min_samples_split': 7, 'max_depth': 21}. Best is trial 12 with value: 0.9909554124858185.\u001b[0m\n",
      "Precision: 0.9896226415094339 \n",
      "Recall: 0.9943127962085309 \n",
      "Aging Rate: 0.5038022813688213\n",
      "Precision: 0.9880404783808647 \n",
      "Recall: 0.9972144846796658 \n",
      "Aging Rate: 0.5166349809885932\n",
      "Precision: 0.9916820702402958 \n",
      "Recall: 0.9972118959107806 \n",
      "Aging Rate: 0.5142585551330798\n",
      "\u001b[32m[I 2021-12-13 13:08:53,408]\u001b[0m Trial 13 finished with value: 0.9920984434722485 and parameters: {'n_estimators': 700, 'min_samples_split': 2, 'max_depth': 18}. Best is trial 13 with value: 0.9920984434722485.\u001b[0m\n",
      "Precision: 0.9868667917448405 \n",
      "Recall: 0.9915174363807728 \n",
      "Aging Rate: 0.5066539923954373\n",
      "Precision: 0.9834791059280855 \n",
      "Recall: 0.9950835791543756 \n",
      "Aging Rate: 0.48906844106463876\n",
      "Precision: 0.9871541501976284 \n",
      "Recall: 0.9881305637982196 \n",
      "Aging Rate: 0.48098859315589354\n",
      "\u001b[32m[I 2021-12-13 13:08:57,506]\u001b[0m Trial 14 finished with value: 0.9878889437322567 and parameters: {'n_estimators': 900, 'min_samples_split': 2, 'max_depth': 15}. Best is trial 13 with value: 0.9920984434722485.\u001b[0m\n",
      "Precision: 0.9835466179159049 \n",
      "Recall: 0.9981447124304267 \n",
      "Aging Rate: 0.5199619771863118\n",
      "Precision: 0.9816176470588235 \n",
      "Recall: 0.9971988795518207 \n",
      "Aging Rate: 0.5171102661596958\n",
      "Precision: 0.9888059701492538 \n",
      "Recall: 0.9962406015037594 \n",
      "Aging Rate: 0.5095057034220533\n",
      "\u001b[32m[I 2021-12-13 13:08:58,379]\u001b[0m Trial 15 finished with value: 0.9891308606530572 and parameters: {'n_estimators': 100, 'min_samples_split': 2, 'max_depth': 21}. Best is trial 13 with value: 0.9920984434722485.\u001b[0m\n",
      "Precision: 0.9813953488372092 \n",
      "Recall: 0.996222851746931 \n",
      "Aging Rate: 0.5109315589353612\n",
      "Precision: 0.9852125693160814 \n",
      "Recall: 0.9990627928772259 \n",
      "Aging Rate: 0.5142585551330798\n",
      "Precision: 0.9849482596425212 \n",
      "Recall: 0.9924170616113744 \n",
      "Aging Rate: 0.5052281368821293\n",
      "\u001b[32m[I 2021-12-13 13:09:00,734]\u001b[0m Trial 16 finished with value: 0.988153453679336 and parameters: {'n_estimators': 500, 'min_samples_split': 2, 'max_depth': 21}. Best is trial 13 with value: 0.9920984434722485.\u001b[0m\n"
     ]
    },
    {
     "name": "stdout",
     "output_type": "stream",
     "text": [
      "Precision: 0.7821782178217822 \n",
      "Recall: 0.6797323135755258 \n",
      "Aging Rate: 0.4320342205323194\n",
      "Precision: 0.8073496659242761 \n",
      "Recall: 0.6865530303030303 \n",
      "Aging Rate: 0.4268060836501901\n",
      "Precision: 0.8036677454153183 \n",
      "Recall: 0.6936685288640596 \n",
      "Aging Rate: 0.4405893536121673\n",
      "\u001b[32m[I 2021-12-13 13:09:02,546]\u001b[0m Trial 17 finished with value: 0.7538157392800473 and parameters: {'n_estimators': 500, 'min_samples_split': 7, 'max_depth': 3}. Best is trial 13 with value: 0.9920984434722485.\u001b[0m\n",
      "Precision: 0.9894837476099426 \n",
      "Recall: 0.9866539561487131 \n",
      "Aging Rate: 0.49714828897338403\n",
      "Precision: 0.9829443447037702 \n",
      "Recall: 0.9963603275705186 \n",
      "Aging Rate: 0.529467680608365\n",
      "Precision: 0.9787234042553191 \n",
      "Recall: 0.9878618113912232 \n",
      "Aging Rate: 0.5137832699619772\n",
      "\u001b[32m[I 2021-12-13 13:09:03,410]\u001b[0m Trial 18 finished with value: 0.9860630393761709 and parameters: {'n_estimators': 100, 'min_samples_split': 17, 'max_depth': 21}. Best is trial 13 with value: 0.9920984434722485.\u001b[0m\n",
      "Precision: 0.9559686888454012 \n",
      "Recall: 0.933142311365807 \n",
      "Aging Rate: 0.48574144486692017\n",
      "Precision: 0.96 \n",
      "Recall: 0.9380362249761678 \n",
      "Aging Rate: 0.48716730038022815\n",
      "Precision: 0.9538763493621197 \n",
      "Recall: 0.9337175792507204 \n",
      "Aging Rate: 0.4843155893536122\n",
      "\u001b[32m[I 2021-12-13 13:09:06,712]\u001b[0m Trial 19 finished with value: 0.9487062996773821 and parameters: {'n_estimators': 900, 'min_samples_split': 12, 'max_depth': 9}. Best is trial 13 with value: 0.9920984434722485.\u001b[0m\n",
      "Precision: 0.9770642201834863 \n",
      "Recall: 0.9925442684063374 \n",
      "Aging Rate: 0.5180608365019012\n",
      "Precision: 0.987012987012987 \n",
      "Recall: 0.9909729187562688 \n",
      "Aging Rate: 0.47576045627376423\n",
      "Precision: 0.9854368932038835 \n",
      "Recall: 0.9912109375 \n",
      "Aging Rate: 0.48954372623574144\n",
      "\u001b[32m[I 2021-12-13 13:09:08,360]\u001b[0m Trial 20 finished with value: 0.9861745974040166 and parameters: {'n_estimators': 300, 'min_samples_split': 2, 'max_depth': 15}. Best is trial 13 with value: 0.9920984434722485.\u001b[0m\n",
      "Precision: 0.9930830039525692 \n",
      "Recall: 0.9960356788899901 \n",
      "Aging Rate: 0.48098859315589354\n",
      "Precision: 0.9815891472868217 \n",
      "Recall: 0.9980295566502463 \n",
      "Aging Rate: 0.49049429657794674\n",
      "Precision: 0.9847328244274809 \n",
      "Recall: 0.9885057471264368 \n",
      "Aging Rate: 0.49809885931558934\n",
      "\u001b[32m[I 2021-12-13 13:09:09,221]\u001b[0m Trial 21 finished with value: 0.9892255425284394 and parameters: {'n_estimators': 100, 'min_samples_split': 7, 'max_depth': 21}. Best is trial 13 with value: 0.9920984434722485.\u001b[0m\n",
      "Precision: 0.988647114474929 \n",
      "Recall: 0.9924026590693258 \n",
      "Aging Rate: 0.5023764258555133\n",
      "Precision: 0.9878844361602982 \n",
      "Recall: 0.9925093632958801 \n",
      "Aging Rate: 0.5099809885931559\n",
      "Precision: 0.9824399260628466 \n",
      "Recall: 0.9943872778297475 \n",
      "Aging Rate: 0.5142585551330798\n",
      "\u001b[32m[I 2021-12-13 13:09:10,885]\u001b[0m Trial 22 finished with value: 0.9887493413423295 and parameters: {'n_estimators': 300, 'min_samples_split': 7, 'max_depth': 21}. Best is trial 13 with value: 0.9920984434722485.\u001b[0m\n",
      "Precision: 0.9875239923224568 \n",
      "Recall: 0.995164410058027 \n",
      "Aging Rate: 0.49524714828897337\n",
      "Precision: 0.9875478927203065 \n",
      "Recall: 0.9951737451737451 \n",
      "Aging Rate: 0.49619771863117873\n",
      "Precision: 0.9907321594068582 \n",
      "Recall: 0.9962721342031687 \n",
      "Aging Rate: 0.5128326996197718\n",
      "\u001b[32m[I 2021-12-13 13:09:15,321]\u001b[0m Trial 23 finished with value: 0.9910867090703719 and parameters: {'n_estimators': 900, 'min_samples_split': 2, 'max_depth': 21}. Best is trial 13 with value: 0.9920984434722485.\u001b[0m\n",
      "Precision: 0.991635687732342 \n",
      "Recall: 0.9925581395348837 \n",
      "Aging Rate: 0.5114068441064639\n",
      "Precision: 0.9864864864864865 \n",
      "Recall: 0.9981768459434822 \n",
      "Aging Rate: 0.5275665399239544\n",
      "Precision: 0.9817483189241114 \n",
      "Recall: 0.9951314508276533 \n",
      "Aging Rate: 0.49477186311787075\n",
      "\u001b[32m[I 2021-12-13 13:09:19,609]\u001b[0m Trial 24 finished with value: 0.9897184954488057 and parameters: {'n_estimators': 900, 'min_samples_split': 2, 'max_depth': 21}. Best is trial 13 with value: 0.9920984434722485.\u001b[0m\n",
      "Precision: 0.9853211009174312 \n",
      "Recall: 0.9962894248608535 \n",
      "Aging Rate: 0.5180608365019012\n",
      "Precision: 0.9849056603773585 \n",
      "Recall: 0.997134670487106 \n",
      "Aging Rate: 0.5038022813688213\n",
      "Precision: 0.9857414448669202 \n",
      "Recall: 0.9980750721847931 \n",
      "Aging Rate: 0.5\n",
      "\u001b[32m[I 2021-12-13 13:09:22,872]\u001b[0m Trial 25 finished with value: 0.98955381313203 and parameters: {'n_estimators': 700, 'min_samples_split': 2, 'max_depth': 18}. Best is trial 13 with value: 0.9920984434722485.\u001b[0m\n",
      "Precision: 0.8008429926238145 \n",
      "Recall: 0.7163053722902922 \n",
      "Aging Rate: 0.45104562737642584\n",
      "Precision: 0.7986577181208053 \n",
      "Recall: 0.6586715867158671 \n",
      "Aging Rate: 0.42490494296577946\n",
      "Precision: 0.8184747583243824 \n",
      "Recall: 0.7215909090909091 \n",
      "Aging Rate: 0.44249049429657794\n",
      "\u001b[32m[I 2021-12-13 13:09:24,213]\u001b[0m Trial 26 finished with value: 0.7636124633345416 and parameters: {'n_estimators': 300, 'min_samples_split': 32, 'max_depth': 3}. Best is trial 13 with value: 0.9920984434722485.\u001b[0m\n",
      "Precision: 0.99 \n",
      "Recall: 0.9972527472527473 \n",
      "Aging Rate: 0.5228136882129277\n",
      "Precision: 0.9870967741935484 \n",
      "Recall: 0.9962790697674418 \n",
      "Aging Rate: 0.5156844106463878\n",
      "Precision: 0.985781990521327 \n",
      "Recall: 0.9990393852065321 \n",
      "Aging Rate: 0.501425855513308\n",
      "\u001b[32m[I 2021-12-13 13:09:27,441]\u001b[0m Trial 27 finished with value: 0.9911651885149314 and parameters: {'n_estimators': 700, 'min_samples_split': 7, 'max_depth': 21}. Best is trial 13 with value: 0.9920984434722485.\u001b[0m\n",
      "Precision: 0.9895734597156398 \n",
      "Recall: 0.9942857142857143 \n",
      "Aging Rate: 0.501425855513308\n",
      "Precision: 0.9837164750957854 \n",
      "Recall: 0.9990272373540856 \n",
      "Aging Rate: 0.49619771863117873\n",
      "Precision: 0.9857414448669202 \n",
      "Recall: 0.9913957934990439 \n",
      "Aging Rate: 0.5\n",
      "\u001b[32m[I 2021-12-13 13:09:30,739]\u001b[0m Trial 28 finished with value: 0.9894027562285572 and parameters: {'n_estimators': 700, 'min_samples_split': 7, 'max_depth': 21}. Best is trial 13 with value: 0.9920984434722485.\u001b[0m\n",
      "Precision: 0.9857954545454546 \n",
      "Recall: 0.9952198852772467 \n",
      "Aging Rate: 0.5019011406844106\n",
      "Precision: 0.9906191369606003 \n",
      "Recall: 0.9906191369606003 \n",
      "Aging Rate: 0.5066539923954373\n",
      "Precision: 0.987487969201155 \n",
      "Recall: 0.9903474903474904 \n",
      "Aging Rate: 0.4938212927756654\n",
      "\u001b[32m[I 2021-12-13 13:09:33,891]\u001b[0m Trial 29 finished with value: 0.9894340821199407 and parameters: {'n_estimators': 700, 'min_samples_split': 2, 'max_depth': 15}. Best is trial 13 with value: 0.9920984434722485.\u001b[0m\n",
      "Precision: 0.9906191369606003 \n",
      "Recall: 0.993414863593603 \n",
      "Aging Rate: 0.5066539923954373\n",
      "Precision: 0.982824427480916 \n",
      "Recall: 0.9970958373668926 \n",
      "Aging Rate: 0.49809885931558934\n",
      "Precision: 0.9916820702402958 \n",
      "Recall: 1.0 \n",
      "Aging Rate: 0.5142585551330798\n",
      "\u001b[32m[I 2021-12-13 13:09:38,116]\u001b[0m Trial 30 finished with value: 0.991399716143734 and parameters: {'n_estimators': 900, 'min_samples_split': 2, 'max_depth': 21}. Best is trial 13 with value: 0.9920984434722485.\u001b[0m\n",
      "Precision: 0.9858356940509915 \n",
      "Recall: 0.997134670487106 \n",
      "Aging Rate: 0.5033269961977186\n",
      "Precision: 0.9908172635445363 \n",
      "Recall: 0.9981498612395929 \n",
      "Aging Rate: 0.5175855513307985\n",
      "Precision: 0.9896421845574388 \n",
      "Recall: 0.9962085308056872 \n",
      "Aging Rate: 0.5047528517110266\n",
      "\u001b[32m[I 2021-12-13 13:09:42,329]\u001b[0m Trial 31 finished with value: 0.9917714447478536 and parameters: {'n_estimators': 900, 'min_samples_split': 2, 'max_depth': 21}. Best is trial 13 with value: 0.9920984434722485.\u001b[0m\n",
      "Precision: 0.8126293995859213 \n",
      "Recall: 0.7201834862385321 \n",
      "Aging Rate: 0.4591254752851711\n",
      "Precision: 0.7771362586605081 \n",
      "Recall: 0.6373106060606061 \n",
      "Aging Rate: 0.41159695817490494\n",
      "Precision: 0.752442996742671 \n",
      "Recall: 0.6669874879692012 \n",
      "Aging Rate: 0.4377376425855513\n",
      "\u001b[32m[I 2021-12-13 13:09:43,193]\u001b[0m Trial 32 finished with value: 0.7387504921139532 and parameters: {'n_estimators': 100, 'min_samples_split': 2, 'max_depth': 3}. Best is trial 13 with value: 0.9920984434722485.\u001b[0m\n",
      "Precision: 0.9870250231696015 \n",
      "Recall: 0.9934701492537313 \n",
      "Aging Rate: 0.5128326996197718\n",
      "Precision: 0.9886899151743638 \n",
      "Recall: 0.9962013295346629 \n",
      "Aging Rate: 0.504277566539924\n",
      "Precision: 0.9876543209876543 \n",
      "Recall: 0.9952153110047847 \n",
      "Aging Rate: 0.5004752851711026\n",
      "\u001b[32m[I 2021-12-13 13:09:46,445]\u001b[0m Trial 33 finished with value: 0.9903598527596168 and parameters: {'n_estimators': 700, 'min_samples_split': 2, 'max_depth': 21}. Best is trial 13 with value: 0.9920984434722485.\u001b[0m\n"
     ]
    },
    {
     "name": "stdout",
     "output_type": "stream",
     "text": [
      "Precision: 0.9833641404805915 \n",
      "Recall: 0.994392523364486 \n",
      "Aging Rate: 0.5142585551330798\n",
      "Precision: 0.9830348727615457 \n",
      "Recall: 0.9980861244019139 \n",
      "Aging Rate: 0.504277566539924\n",
      "Precision: 0.9853613906678865 \n",
      "Recall: 0.992626728110599 \n",
      "Aging Rate: 0.5194866920152091\n",
      "\u001b[32m[I 2021-12-13 13:09:50,747]\u001b[0m Trial 34 finished with value: 0.9878904785288215 and parameters: {'n_estimators': 900, 'min_samples_split': 7, 'max_depth': 18}. Best is trial 13 with value: 0.9920984434722485.\u001b[0m\n",
      "Precision: 0.9870490286771508 \n",
      "Recall: 0.996265172735761 \n",
      "Aging Rate: 0.5137832699619772\n",
      "Precision: 0.9898242368177613 \n",
      "Recall: 0.9953488372093023 \n",
      "Aging Rate: 0.5137832699619772\n",
      "Precision: 0.9867172675521821 \n",
      "Recall: 0.994263862332696 \n",
      "Aging Rate: 0.5009505703422054\n",
      "\u001b[32m[I 2021-12-13 13:09:54,812]\u001b[0m Trial 35 finished with value: 0.9905246513772812 and parameters: {'n_estimators': 900, 'min_samples_split': 2, 'max_depth': 21}. Best is trial 13 with value: 0.9920984434722485.\u001b[0m\n",
      "Precision: 0.9815354713313897 \n",
      "Recall: 0.9980237154150198 \n",
      "Aging Rate: 0.48906844106463876\n",
      "Precision: 0.9829867674858223 \n",
      "Recall: 0.9933142311365807 \n",
      "Aging Rate: 0.502851711026616\n",
      "Precision: 0.9884504331087585 \n",
      "Recall: 0.9970873786407767 \n",
      "Aging Rate: 0.4938212927756654\n",
      "\u001b[32m[I 2021-12-13 13:09:58,107]\u001b[0m Trial 36 finished with value: 0.9885434557581605 and parameters: {'n_estimators': 700, 'min_samples_split': 7, 'max_depth': 21}. Best is trial 13 with value: 0.9920984434722485.\u001b[0m\n",
      "Precision: 0.9875598086124402 \n",
      "Recall: 0.9971014492753624 \n",
      "Aging Rate: 0.49667300380228135\n",
      "Precision: 0.9883720930232558 \n",
      "Recall: 0.9990205680705191 \n",
      "Aging Rate: 0.49049429657794674\n",
      "Precision: 0.9915492957746479 \n",
      "Recall: 0.9915492957746479 \n",
      "Aging Rate: 0.5061787072243346\n",
      "\u001b[32m[I 2021-12-13 13:10:02,501]\u001b[0m Trial 37 finished with value: 0.9915674258912089 and parameters: {'n_estimators': 900, 'min_samples_split': 2, 'max_depth': 18}. Best is trial 13 with value: 0.9920984434722485.\u001b[0m\n",
      "Precision: 0.9896226415094339 \n",
      "Recall: 0.987758945386064 \n",
      "Aging Rate: 0.5038022813688213\n",
      "Precision: 0.9845111326234269 \n",
      "Recall: 0.9951076320939335 \n",
      "Aging Rate: 0.4909695817490494\n",
      "Precision: 0.991588785046729 \n",
      "Recall: 0.991588785046729 \n",
      "Aging Rate: 0.5085551330798479\n",
      "\u001b[32m[I 2021-12-13 13:10:06,460]\u001b[0m Trial 38 finished with value: 0.9896131536228285 and parameters: {'n_estimators': 900, 'min_samples_split': 2, 'max_depth': 15}. Best is trial 13 with value: 0.9920984434722485.\u001b[0m\n",
      "Precision: 0.9842883548983364 \n",
      "Recall: 0.9925442684063374 \n",
      "Aging Rate: 0.5142585551330798\n",
      "Precision: 0.9864603481624759 \n",
      "Recall: 0.9970674486803519 \n",
      "Aging Rate: 0.4914448669201521\n",
      "Precision: 0.9886255924170616 \n",
      "Recall: 0.9914448669201521 \n",
      "Aging Rate: 0.501425855513308\n",
      "\u001b[32m[I 2021-12-13 13:10:10,891]\u001b[0m Trial 39 finished with value: 0.989045367385288 and parameters: {'n_estimators': 900, 'min_samples_split': 2, 'max_depth': 18}. Best is trial 13 with value: 0.9920984434722485.\u001b[0m\n",
      "Precision: 0.9852125693160814 \n",
      "Recall: 0.984302862419206 \n",
      "Aging Rate: 0.5142585551330798\n",
      "Precision: 0.9809160305343512 \n",
      "Recall: 0.9809160305343512 \n",
      "Aging Rate: 0.49809885931558934\n",
      "Precision: 0.9837786259541985 \n",
      "Recall: 0.98565965583174 \n",
      "Aging Rate: 0.49809885931558934\n",
      "\u001b[32m[I 2021-12-13 13:10:13,030]\u001b[0m Trial 40 finished with value: 0.9834186269275413 and parameters: {'n_estimators': 500, 'min_samples_split': 32, 'max_depth': 15}. Best is trial 13 with value: 0.9920984434722485.\u001b[0m\n",
      "Precision: 0.9828080229226361 \n",
      "Recall: 0.995164410058027 \n",
      "Aging Rate: 0.4976235741444867\n",
      "Precision: 0.9877126654064272 \n",
      "Recall: 0.9952380952380953 \n",
      "Aging Rate: 0.502851711026616\n",
      "Precision: 0.9878391019644528 \n",
      "Recall: 0.9943502824858758 \n",
      "Aging Rate: 0.5080798479087453\n",
      "\u001b[32m[I 2021-12-13 13:10:17,291]\u001b[0m Trial 41 finished with value: 0.9892675897745785 and parameters: {'n_estimators': 900, 'min_samples_split': 7, 'max_depth': 21}. Best is trial 13 with value: 0.9920984434722485.\u001b[0m\n",
      "Precision: 0.9933837429111532 \n",
      "Recall: 0.9943235572374646 \n",
      "Aging Rate: 0.502851711026616\n",
      "Precision: 0.9932104752667313 \n",
      "Recall: 0.9912875121006777 \n",
      "Aging Rate: 0.4900190114068441\n",
      "Precision: 0.9857142857142858 \n",
      "Recall: 0.9980713596914176 \n",
      "Aging Rate: 0.4990494296577947\n",
      "\u001b[32m[I 2021-12-13 13:10:20,570]\u001b[0m Trial 42 finished with value: 0.9921222153664683 and parameters: {'n_estimators': 700, 'min_samples_split': 2, 'max_depth': 18}. Best is trial 42 with value: 0.9921222153664683.\u001b[0m\n",
      "Precision: 0.983495145631068 \n",
      "Recall: 0.9921645445641528 \n",
      "Aging Rate: 0.48954372623574144\n",
      "Precision: 0.9844206426484907 \n",
      "Recall: 0.9825072886297376 \n",
      "Aging Rate: 0.48811787072243346\n",
      "Precision: 0.9860594795539034 \n",
      "Recall: 0.9878957169459963 \n",
      "Aging Rate: 0.5114068441064639\n",
      "\u001b[32m[I 2021-12-13 13:10:23,605]\u001b[0m Trial 43 finished with value: 0.9856831121094372 and parameters: {'n_estimators': 700, 'min_samples_split': 7, 'max_depth': 15}. Best is trial 42 with value: 0.9921222153664683.\u001b[0m\n",
      "Precision: 0.9747327502429544 \n",
      "Recall: 0.9775828460038987 \n",
      "Aging Rate: 0.48906844106463876\n",
      "Precision: 0.9786821705426356 \n",
      "Recall: 0.986328125 \n",
      "Aging Rate: 0.49049429657794674\n",
      "Precision: 0.9840075258701787 \n",
      "Recall: 0.9830827067669173 \n",
      "Aging Rate: 0.5052281368821293\n",
      "\u001b[32m[I 2021-12-13 13:10:24,472]\u001b[0m Trial 44 finished with value: 0.9802840929167216 and parameters: {'n_estimators': 100, 'min_samples_split': 32, 'max_depth': 15}. Best is trial 42 with value: 0.9921222153664683.\u001b[0m\n",
      "Precision: 0.9861386138613861 \n",
      "Recall: 0.9979959919839679 \n",
      "Aging Rate: 0.48003802281368824\n",
      "Precision: 0.9820075757575758 \n",
      "Recall: 0.9942473633748802 \n",
      "Aging Rate: 0.5019011406844106\n",
      "Precision: 0.982725527831094 \n",
      "Recall: 0.9961089494163424 \n",
      "Aging Rate: 0.49524714828897337\n",
      "\u001b[32m[I 2021-12-13 13:10:27,765]\u001b[0m Trial 45 finished with value: 0.9880852096159138 and parameters: {'n_estimators': 700, 'min_samples_split': 2, 'max_depth': 18}. Best is trial 42 with value: 0.9921222153664683.\u001b[0m\n",
      "Precision: 0.9857685009487666 \n",
      "Recall: 0.9952107279693486 \n",
      "Aging Rate: 0.5009505703422054\n",
      "Precision: 0.9862005519779209 \n",
      "Recall: 0.9953574744661096 \n",
      "Aging Rate: 0.5166349809885932\n",
      "Precision: 0.9925163704396632 \n",
      "Recall: 0.9953095684803002 \n",
      "Aging Rate: 0.5080798479087453\n",
      "\u001b[32m[I 2021-12-13 13:10:32,187]\u001b[0m Trial 46 finished with value: 0.9907148920331618 and parameters: {'n_estimators': 900, 'min_samples_split': 2, 'max_depth': 18}. Best is trial 42 with value: 0.9921222153664683.\u001b[0m\n",
      "Precision: 0.9840823970037453 \n",
      "Recall: 0.9840823970037453 \n",
      "Aging Rate: 0.5076045627376425\n",
      "Precision: 0.9917733089579525 \n",
      "Recall: 0.989963503649635 \n",
      "Aging Rate: 0.5199619771863118\n",
      "Precision: 0.9884947267497604 \n",
      "Recall: 0.9913461538461539 \n",
      "Aging Rate: 0.49572243346007605\n",
      "\u001b[32m[I 2021-12-13 13:10:35,999]\u001b[0m Trial 47 finished with value: 0.9882409210481712 and parameters: {'n_estimators': 900, 'min_samples_split': 12, 'max_depth': 15}. Best is trial 42 with value: 0.9921222153664683.\u001b[0m\n",
      "Precision: 0.9792452830188679 \n",
      "Recall: 0.9895138226882746 \n",
      "Aging Rate: 0.5038022813688213\n",
      "Precision: 0.9859287054409006 \n",
      "Recall: 0.978584729981378 \n",
      "Aging Rate: 0.5066539923954373\n",
      "Precision: 0.9822429906542056 \n",
      "Recall: 0.9896421845574388 \n",
      "Aging Rate: 0.5085551330798479\n",
      "\u001b[32m[I 2021-12-13 13:10:39,809]\u001b[0m Trial 48 finished with value: 0.9836944813286633 and parameters: {'n_estimators': 900, 'min_samples_split': 27, 'max_depth': 15}. Best is trial 42 with value: 0.9921222153664683.\u001b[0m\n",
      "Precision: 0.7834941050375134 \n",
      "Recall: 0.7042389210019268 \n",
      "Aging Rate: 0.44344106463878324\n",
      "Precision: 0.7860851505711319 \n",
      "Recall: 0.7223282442748091 \n",
      "Aging Rate: 0.45769961977186313\n"
     ]
    },
    {
     "name": "stderr",
     "output_type": "stream",
     "text": [
      "C:\\Users\\user\\anaconda3\\envs\\aging\\lib\\site-packages\\optuna\\samplers\\_tpe\\sampler.py:253: ExperimentalWarning: ``multivariate`` option is an experimental feature. The interface can change in the future.\n",
      "  ExperimentalWarning,\n",
      "\u001b[32m[I 2021-12-13 13:10:42,963]\u001b[0m A new study created in memory with name: no-name-c4716b3e-0f01-42af-8f90-ffb59e361ac2\u001b[0m\n"
     ]
    },
    {
     "name": "stdout",
     "output_type": "stream",
     "text": [
      "Precision: 0.7792349726775957 \n",
      "Recall: 0.6784015223596574 \n",
      "Aging Rate: 0.43488593155893535\n",
      "\u001b[32m[I 2021-12-13 13:10:42,914]\u001b[0m Trial 49 finished with value: 0.751506826886386 and parameters: {'n_estimators': 900, 'min_samples_split': 27, 'max_depth': 3}. Best is trial 42 with value: 0.9921222153664683.\u001b[0m\n",
      "Sampler is TPESampler\n",
      "Dataset3 :\n"
     ]
    },
    {
     "name": "stderr",
     "output_type": "stream",
     "text": [
      "C:\\Users\\user\\anaconda3\\envs\\aging\\lib\\site-packages\\optuna\\progress_bar.py:47: ExperimentalWarning: Progress bar is experimental (supported from v1.2.0). The interface can change in the future.\n",
      "  self._init_valid()\n"
     ]
    },
    {
     "data": {
      "application/vnd.jupyter.widget-view+json": {
       "model_id": "bad7678ab344404fa2b6b6d2b952767d",
       "version_major": 2,
       "version_minor": 0
      },
      "text/plain": [
       "  0%|          | 0/50 [00:00<?, ?it/s]"
      ]
     },
     "metadata": {},
     "output_type": "display_data"
    },
    {
     "name": "stdout",
     "output_type": "stream",
     "text": [
      "Precision: 1.0 \n",
      "Recall: 0.9271844660194175 \n",
      "Aging Rate: 0.4580335731414868\n",
      "Precision: 1.0 \n",
      "Recall: 0.9321428571428572 \n",
      "Aging Rate: 0.4694244604316547\n",
      "Precision: 1.0 \n",
      "Recall: 0.9112709832134293 \n",
      "Aging Rate: 0.4556354916067146\n",
      "\u001b[32m[I 2021-12-13 13:10:46,218]\u001b[0m Trial 0 finished with value: 0.9710339674921746 and parameters: {'n_estimators': 900, 'min_samples_split': 12, 'max_depth': 21}. Best is trial 0 with value: 0.9710339674921746.\u001b[0m\n",
      "Precision: 1.0 \n",
      "Recall: 0.9192982456140351 \n",
      "Aging Rate: 0.4712230215827338\n",
      "Precision: 1.0 \n",
      "Recall: 0.9119804400977995 \n",
      "Aging Rate: 0.447242206235012\n",
      "Precision: 1.0 \n",
      "Recall: 0.9003690036900369 \n",
      "Aging Rate: 0.43884892086330934\n",
      "\u001b[32m[I 2021-12-13 13:10:47,081]\u001b[0m Trial 1 finished with value: 0.9658255152332845 and parameters: {'n_estimators': 100, 'min_samples_split': 27, 'max_depth': 9}. Best is trial 0 with value: 0.9710339674921746.\u001b[0m\n",
      "Precision: 1.0 \n",
      "Recall: 0.8996328029375765 \n",
      "Aging Rate: 0.44064748201438847\n",
      "Precision: 1.0 \n",
      "Recall: 0.9207459207459208 \n",
      "Aging Rate: 0.473621103117506\n",
      "Precision: 1.0 \n",
      "Recall: 0.9052132701421801 \n",
      "Aging Rate: 0.4580335731414868\n",
      "\u001b[32m[I 2021-12-13 13:10:48,848]\u001b[0m Trial 2 finished with value: 0.9650015360513892 and parameters: {'n_estimators': 500, 'min_samples_split': 22, 'max_depth': 6}. Best is trial 0 with value: 0.9710339674921746.\u001b[0m\n",
      "Precision: 1.0 \n",
      "Recall: 0.9037304452466908 \n",
      "Aging Rate: 0.4502398081534772\n",
      "Precision: 1.0 \n",
      "Recall: 0.9165628891656289 \n",
      "Aging Rate: 0.4412470023980815\n",
      "Precision: 1.0 \n",
      "Recall: 0.9121951219512195 \n",
      "Aging Rate: 0.44844124700239807\n",
      "\u001b[32m[I 2021-12-13 13:10:51,333]\u001b[0m Trial 3 finished with value: 0.9659479291986094 and parameters: {'n_estimators': 700, 'min_samples_split': 17, 'max_depth': 15}. Best is trial 0 with value: 0.9710339674921746.\u001b[0m\n",
      "Precision: 1.0 \n",
      "Recall: 0.9226044226044227 \n",
      "Aging Rate: 0.4502398081534772\n",
      "Precision: 1.0 \n",
      "Recall: 0.9244823386114495 \n",
      "Aging Rate: 0.4550359712230216\n",
      "Precision: 1.0 \n",
      "Recall: 0.9133574007220217 \n",
      "Aging Rate: 0.4550359712230216\n",
      "\u001b[32m[I 2021-12-13 13:10:54,024]\u001b[0m Trial 4 finished with value: 0.9696986802434173 and parameters: {'n_estimators': 700, 'min_samples_split': 27, 'max_depth': 21}. Best is trial 0 with value: 0.9710339674921746.\u001b[0m\n",
      "Precision: 1.0 \n",
      "Recall: 0.9195402298850575 \n",
      "Aging Rate: 0.47961630695443647\n",
      "Precision: 1.0 \n",
      "Recall: 0.9120370370370371 \n",
      "Aging Rate: 0.4724220623501199\n",
      "Precision: 1.0 \n",
      "Recall: 0.9093167701863354 \n",
      "Aging Rate: 0.43884892086330934\n",
      "\u001b[32m[I 2021-12-13 13:10:57,081]\u001b[0m Trial 5 finished with value: 0.967082945378995 and parameters: {'n_estimators': 900, 'min_samples_split': 2, 'max_depth': 6}. Best is trial 0 with value: 0.9710339674921746.\u001b[0m\n",
      "Precision: 1.0 \n",
      "Recall: 0.9205219454329775 \n",
      "Aging Rate: 0.46522781774580335\n",
      "Precision: 1.0 \n",
      "Recall: 0.9054373522458629 \n",
      "Aging Rate: 0.4592326139088729\n",
      "Precision: 1.0 \n",
      "Recall: 0.9055023923444976 \n",
      "Aging Rate: 0.4538369304556355\n",
      "\u001b[32m[I 2021-12-13 13:10:58,407]\u001b[0m Trial 6 finished with value: 0.965803329000034 and parameters: {'n_estimators': 300, 'min_samples_split': 2, 'max_depth': 12}. Best is trial 0 with value: 0.9710339674921746.\u001b[0m\n",
      "Precision: 1.0 \n",
      "Recall: 0.9250302297460702 \n",
      "Aging Rate: 0.45863309352517984\n",
      "Precision: 1.0 \n",
      "Recall: 0.9157769869513642 \n",
      "Aging Rate: 0.4628297362110312\n",
      "Precision: 1.0 \n",
      "Recall: 0.9115890083632019 \n",
      "Aging Rate: 0.45743405275779375\n",
      "\u001b[32m[I 2021-12-13 13:10:59,273]\u001b[0m Trial 7 finished with value: 0.9686220082077585 and parameters: {'n_estimators': 100, 'min_samples_split': 2, 'max_depth': 3}. Best is trial 0 with value: 0.9710339674921746.\u001b[0m\n",
      "Precision: 1.0 \n",
      "Recall: 0.9071170084439083 \n",
      "Aging Rate: 0.45083932853717024\n",
      "Precision: 1.0 \n",
      "Recall: 0.8869987849331713 \n",
      "Aging Rate: 0.43764988009592326\n",
      "Precision: 1.0 \n",
      "Recall: 0.9265944645006017 \n",
      "Aging Rate: 0.4616306954436451\n",
      "\u001b[32m[I 2021-12-13 13:11:01,766]\u001b[0m Trial 8 finished with value: 0.9642894223300545 and parameters: {'n_estimators': 700, 'min_samples_split': 17, 'max_depth': 12}. Best is trial 0 with value: 0.9710339674921746.\u001b[0m\n",
      "Precision: 1.0 \n",
      "Recall: 0.9190184049079755 \n",
      "Aging Rate: 0.4490407673860911\n",
      "Precision: 1.0 \n",
      "Recall: 0.913730255164034 \n",
      "Aging Rate: 0.45083932853717024\n",
      "Precision: 1.0 \n",
      "Recall: 0.8955399061032864 \n",
      "Aging Rate: 0.45743405275779375\n",
      "\u001b[32m[I 2021-12-13 13:11:04,801]\u001b[0m Trial 9 finished with value: 0.9653603821607728 and parameters: {'n_estimators': 900, 'min_samples_split': 27, 'max_depth': 3}. Best is trial 0 with value: 0.9710339674921746.\u001b[0m\n",
      "Precision: 1.0 \n",
      "Recall: 0.9401197604790419 \n",
      "Aging Rate: 0.4706235011990408\n",
      "Precision: 1.0 \n",
      "Recall: 0.9134396355353075 \n",
      "Aging Rate: 0.48081534772182255\n",
      "Precision: 1.0 \n",
      "Recall: 0.9442424242424242 \n",
      "Aging Rate: 0.4670263788968825\n",
      "\u001b[32m[I 2021-12-13 13:11:07,381]\u001b[0m Trial 10 finished with value: 0.9745930802189386 and parameters: {'n_estimators': 700, 'min_samples_split': 7, 'max_depth': 21}. Best is trial 10 with value: 0.9745930802189386.\u001b[0m\n",
      "Precision: 1.0 \n",
      "Recall: 0.9368029739776952 \n",
      "Aging Rate: 0.45323741007194246\n",
      "Precision: 1.0 \n",
      "Recall: 0.9301745635910225 \n",
      "Aging Rate: 0.447242206235012\n",
      "Precision: 1.0 \n",
      "Recall: 0.9271300448430493 \n",
      "Aging Rate: 0.4958033573141487\n",
      "\u001b[32m[I 2021-12-13 13:11:10,649]\u001b[0m Trial 11 finished with value: 0.9741535310418926 and parameters: {'n_estimators': 900, 'min_samples_split': 2, 'max_depth': 21}. Best is trial 10 with value: 0.9745930802189386.\u001b[0m\n",
      "Precision: 1.0 \n",
      "Recall: 0.9029585798816568 \n",
      "Aging Rate: 0.45743405275779375\n",
      "Precision: 1.0 \n",
      "Recall: 0.9142185663924794 \n",
      "Aging Rate: 0.46642685851318944\n",
      "Precision: 1.0 \n",
      "Recall: 0.9082007343941249 \n",
      "Aging Rate: 0.4448441247002398\n",
      "\u001b[32m[I 2021-12-13 13:11:13,532]\u001b[0m Trial 12 finished with value: 0.9649886692524965 and parameters: {'n_estimators': 700, 'min_samples_split': 2, 'max_depth': 18}. Best is trial 10 with value: 0.9745930802189386.\u001b[0m\n",
      "Precision: 1.0 \n",
      "Recall: 0.9231678486997635 \n",
      "Aging Rate: 0.46822541966426856\n",
      "Precision: 1.0 \n",
      "Recall: 0.9202380952380952 \n",
      "Aging Rate: 0.4634292565947242\n",
      "Precision: 1.0 \n",
      "Recall: 0.9294258373205742 \n",
      "Aging Rate: 0.4658273381294964\n",
      "\u001b[32m[I 2021-12-13 13:11:14,845]\u001b[0m Trial 13 finished with value: 0.9713475080287536 and parameters: {'n_estimators': 300, 'min_samples_split': 12, 'max_depth': 21}. Best is trial 10 with value: 0.9745930802189386.\u001b[0m\n",
      "Precision: 1.0 \n",
      "Recall: 0.928654970760234 \n",
      "Aging Rate: 0.47601918465227816\n",
      "Precision: 1.0 \n",
      "Recall: 0.9387514723203769 \n",
      "Aging Rate: 0.47781774580335734\n",
      "Precision: 1.0 \n",
      "Recall: 0.9336437718277066 \n",
      "Aging Rate: 0.48081534772182255\n",
      "\u001b[32m[I 2021-12-13 13:11:18,193]\u001b[0m Trial 14 finished with value: 0.975063381081449 and parameters: {'n_estimators': 900, 'min_samples_split': 2, 'max_depth': 21}. Best is trial 14 with value: 0.975063381081449.\u001b[0m\n",
      "Precision: 1.0 \n",
      "Recall: 0.9236111111111112 \n",
      "Aging Rate: 0.4784172661870504\n",
      "Precision: 1.0 \n",
      "Recall: 0.9110320284697508 \n",
      "Aging Rate: 0.460431654676259\n",
      "Precision: 1.0 \n",
      "Recall: 0.922077922077922 \n",
      "Aging Rate: 0.46822541966426856\n",
      "\u001b[32m[I 2021-12-13 13:11:21,372]\u001b[0m Trial 15 finished with value: 0.9691999514040287 and parameters: {'n_estimators': 900, 'min_samples_split': 7, 'max_depth': 15}. Best is trial 14 with value: 0.975063381081449.\u001b[0m\n",
      "Precision: 1.0 \n",
      "Recall: 0.933649289099526 \n",
      "Aging Rate: 0.4724220623501199\n",
      "Precision: 1.0 \n",
      "Recall: 0.933252427184466 \n",
      "Aging Rate: 0.46103117505995206\n",
      "Precision: 1.0 \n",
      "Recall: 0.9414575866188769 \n",
      "Aging Rate: 0.4724220623501199\n",
      "\u001b[32m[I 2021-12-13 13:11:22,690]\u001b[0m Trial 16 finished with value: 0.9760191296727635 and parameters: {'n_estimators': 300, 'min_samples_split': 2, 'max_depth': 21}. Best is trial 16 with value: 0.9760191296727635.\u001b[0m\n",
      "Precision: 1.0 \n",
      "Recall: 0.9135654261704682 \n",
      "Aging Rate: 0.45623501199040767\n",
      "Precision: 1.0 \n",
      "Recall: 0.914560770156438 \n",
      "Aging Rate: 0.4556354916067146\n",
      "Precision: 1.0 \n",
      "Recall: 0.9296969696969697 \n",
      "Aging Rate: 0.459832134292566\n",
      "\u001b[32m[I 2021-12-13 13:11:23,534]\u001b[0m Trial 17 finished with value: 0.9693408862875453 and parameters: {'n_estimators': 100, 'min_samples_split': 2, 'max_depth': 18}. Best is trial 16 with value: 0.9760191296727635.\u001b[0m\n",
      "Precision: 1.0 \n",
      "Recall: 0.929678188319428 \n",
      "Aging Rate: 0.4676258992805755\n",
      "Precision: 1.0 \n",
      "Recall: 0.9269183922046285 \n",
      "Aging Rate: 0.45623501199040767\n",
      "Precision: 1.0 \n",
      "Recall: 0.9261501210653753 \n",
      "Aging Rate: 0.45863309352517984\n",
      "\u001b[32m[I 2021-12-13 13:11:25,428]\u001b[0m Trial 18 finished with value: 0.9726619777009752 and parameters: {'n_estimators': 500, 'min_samples_split': 2, 'max_depth': 21}. Best is trial 16 with value: 0.9760191296727635.\u001b[0m\n"
     ]
    },
    {
     "name": "stdout",
     "output_type": "stream",
     "text": [
      "Precision: 1.0 \n",
      "Recall: 0.9205983889528193 \n",
      "Aging Rate: 0.47961630695443647\n",
      "Precision: 1.0 \n",
      "Recall: 0.9238210399032648 \n",
      "Aging Rate: 0.4580335731414868\n",
      "Precision: 1.0 \n",
      "Recall: 0.9138576779026217 \n",
      "Aging Rate: 0.43884892086330934\n",
      "\u001b[32m[I 2021-12-13 13:11:26,262]\u001b[0m Trial 19 finished with value: 0.9694114577830697 and parameters: {'n_estimators': 100, 'min_samples_split': 22, 'max_depth': 18}. Best is trial 16 with value: 0.9760191296727635.\u001b[0m\n",
      "Precision: 1.0 \n",
      "Recall: 0.9045893719806763 \n",
      "Aging Rate: 0.4490407673860911\n",
      "Precision: 1.0 \n",
      "Recall: 0.9166666666666666 \n",
      "Aging Rate: 0.44844124700239807\n",
      "Precision: 1.0 \n",
      "Recall: 0.8975 \n",
      "Aging Rate: 0.4304556354916067\n",
      "\u001b[32m[I 2021-12-13 13:11:27,562]\u001b[0m Trial 20 finished with value: 0.9640792252702161 and parameters: {'n_estimators': 300, 'min_samples_split': 12, 'max_depth': 12}. Best is trial 16 with value: 0.9760191296727635.\u001b[0m\n",
      "Precision: 1.0 \n",
      "Recall: 0.9420468557336621 \n",
      "Aging Rate: 0.4580335731414868\n",
      "Precision: 1.0 \n",
      "Recall: 0.9295942720763724 \n",
      "Aging Rate: 0.4670263788968825\n",
      "Precision: 1.0 \n",
      "Recall: 0.9215219976218787 \n",
      "Aging Rate: 0.4646282973621103\n",
      "\u001b[32m[I 2021-12-13 13:11:30,373]\u001b[0m Trial 21 finished with value: 0.9740150347033786 and parameters: {'n_estimators': 700, 'min_samples_split': 7, 'max_depth': 21}. Best is trial 16 with value: 0.9760191296727635.\u001b[0m\n",
      "Precision: 1.0 \n",
      "Recall: 0.9111389236545682 \n",
      "Aging Rate: 0.4364508393285372\n",
      "Precision: 1.0 \n",
      "Recall: 0.9098557692307693 \n",
      "Aging Rate: 0.4538369304556355\n",
      "Precision: 1.0 \n",
      "Recall: 0.9077669902912622 \n",
      "Aging Rate: 0.44844124700239807\n",
      "\u001b[32m[I 2021-12-13 13:11:32,135]\u001b[0m Trial 22 finished with value: 0.9654517973878166 and parameters: {'n_estimators': 500, 'min_samples_split': 32, 'max_depth': 12}. Best is trial 16 with value: 0.9760191296727635.\u001b[0m\n",
      "Precision: 1.0 \n",
      "Recall: 0.9234393404004712 \n",
      "Aging Rate: 0.47002398081534774\n",
      "Precision: 1.0 \n",
      "Recall: 0.9279811097992916 \n",
      "Aging Rate: 0.4712230215827338\n",
      "Precision: 1.0 \n",
      "Recall: 0.9181708784596871 \n",
      "Aging Rate: 0.45743405275779375\n",
      "\u001b[32m[I 2021-12-13 13:11:33,915]\u001b[0m Trial 23 finished with value: 0.9709173385352536 and parameters: {'n_estimators': 500, 'min_samples_split': 12, 'max_depth': 18}. Best is trial 16 with value: 0.9760191296727635.\u001b[0m\n",
      "Precision: 1.0 \n",
      "Recall: 0.9095295536791315 \n",
      "Aging Rate: 0.4520383693045564\n",
      "Precision: 1.0 \n",
      "Recall: 0.9242053789731052 \n",
      "Aging Rate: 0.45323741007194246\n",
      "Precision: 1.0 \n",
      "Recall: 0.9201474201474201 \n",
      "Aging Rate: 0.4490407673860911\n",
      "\u001b[32m[I 2021-12-13 13:11:35,224]\u001b[0m Trial 24 finished with value: 0.968818867543682 and parameters: {'n_estimators': 300, 'min_samples_split': 2, 'max_depth': 18}. Best is trial 16 with value: 0.9760191296727635.\u001b[0m\n",
      "Precision: 1.0 \n",
      "Recall: 0.9310761789600968 \n",
      "Aging Rate: 0.4616306954436451\n",
      "Precision: 1.0 \n",
      "Recall: 0.932934131736527 \n",
      "Aging Rate: 0.4670263788968825\n",
      "Precision: 1.0 \n",
      "Recall: 0.9201934703748489 \n",
      "Aging Rate: 0.45623501199040767\n",
      "\u001b[32m[I 2021-12-13 13:11:36,551]\u001b[0m Trial 25 finished with value: 0.9728463807135399 and parameters: {'n_estimators': 300, 'min_samples_split': 2, 'max_depth': 21}. Best is trial 16 with value: 0.9760191296727635.\u001b[0m\n",
      "Precision: 1.0 \n",
      "Recall: 0.9238210399032648 \n",
      "Aging Rate: 0.4580335731414868\n",
      "Precision: 1.0 \n",
      "Recall: 0.947109471094711 \n",
      "Aging Rate: 0.4616306954436451\n",
      "Precision: 1.0 \n",
      "Recall: 0.9240963855421687 \n",
      "Aging Rate: 0.459832134292566\n",
      "\u001b[32m[I 2021-12-13 13:11:39,837]\u001b[0m Trial 26 finished with value: 0.9742472637114382 and parameters: {'n_estimators': 900, 'min_samples_split': 2, 'max_depth': 21}. Best is trial 16 with value: 0.9760191296727635.\u001b[0m\n",
      "Precision: 1.0 \n",
      "Recall: 0.9053254437869822 \n",
      "Aging Rate: 0.45863309352517984\n",
      "Precision: 1.0 \n",
      "Recall: 0.9085365853658537 \n",
      "Aging Rate: 0.44664268585131894\n",
      "Precision: 1.0 \n",
      "Recall: 0.906064209274673 \n",
      "Aging Rate: 0.4568345323741007\n",
      "\u001b[32m[I 2021-12-13 13:11:43,153]\u001b[0m Trial 27 finished with value: 0.964254922356372 and parameters: {'n_estimators': 900, 'min_samples_split': 2, 'max_depth': 15}. Best is trial 16 with value: 0.9760191296727635.\u001b[0m\n",
      "Precision: 1.0 \n",
      "Recall: 0.8969849246231156 \n",
      "Aging Rate: 0.42805755395683454\n",
      "Precision: 1.0 \n",
      "Recall: 0.9322033898305084 \n",
      "Aging Rate: 0.4616306954436451\n",
      "Precision: 1.0 \n",
      "Recall: 0.9129916567342073 \n",
      "Aging Rate: 0.4592326139088729\n",
      "\u001b[32m[I 2021-12-13 13:11:45,742]\u001b[0m Trial 28 finished with value: 0.9672043514722389 and parameters: {'n_estimators': 700, 'min_samples_split': 12, 'max_depth': 18}. Best is trial 16 with value: 0.9760191296727635.\u001b[0m\n",
      "Precision: 1.0 \n",
      "Recall: 0.9351740696278511 \n",
      "Aging Rate: 0.4670263788968825\n",
      "Precision: 1.0 \n",
      "Recall: 0.921146953405018 \n",
      "Aging Rate: 0.46223021582733814\n",
      "Precision: 1.0 \n",
      "Recall: 0.9221218961625283 \n",
      "Aging Rate: 0.48980815347721823\n",
      "\u001b[32m[I 2021-12-13 13:11:48,460]\u001b[0m Trial 29 finished with value: 0.9720833033910301 and parameters: {'n_estimators': 700, 'min_samples_split': 17, 'max_depth': 21}. Best is trial 16 with value: 0.9760191296727635.\u001b[0m\n",
      "Precision: 1.0 \n",
      "Recall: 0.9252669039145908 \n",
      "Aging Rate: 0.4676258992805755\n",
      "Precision: 1.0 \n",
      "Recall: 0.9195121951219513 \n",
      "Aging Rate: 0.4520383693045564\n",
      "Precision: 1.0 \n",
      "Recall: 0.9328449328449329 \n",
      "Aging Rate: 0.4580335731414868\n",
      "\u001b[32m[I 2021-12-13 13:11:51,845]\u001b[0m Trial 30 finished with value: 0.9719779464646557 and parameters: {'n_estimators': 900, 'min_samples_split': 7, 'max_depth': 21}. Best is trial 16 with value: 0.9760191296727635.\u001b[0m\n",
      "Precision: 1.0 \n",
      "Recall: 0.935251798561151 \n",
      "Aging Rate: 0.4676258992805755\n",
      "Precision: 1.0 \n",
      "Recall: 0.931592039800995 \n",
      "Aging Rate: 0.4490407673860911\n",
      "Precision: 1.0 \n",
      "Recall: 0.9236192714453584 \n",
      "Aging Rate: 0.4712230215827338\n",
      "\u001b[32m[I 2021-12-13 13:11:55,229]\u001b[0m Trial 31 finished with value: 0.9736727505597454 and parameters: {'n_estimators': 900, 'min_samples_split': 2, 'max_depth': 21}. Best is trial 16 with value: 0.9760191296727635.\u001b[0m\n",
      "Precision: 1.0 \n",
      "Recall: 0.9247311827956989 \n",
      "Aging Rate: 0.46402877697841727\n",
      "Precision: 1.0 \n",
      "Recall: 0.9293413173652695 \n",
      "Aging Rate: 0.46522781774580335\n",
      "Precision: 1.0 \n",
      "Recall: 0.9330855018587361 \n",
      "Aging Rate: 0.45143884892086333\n",
      "\u001b[32m[I 2021-12-13 13:11:58,034]\u001b[0m Trial 32 finished with value: 0.9732409797798777 and parameters: {'n_estimators': 700, 'min_samples_split': 2, 'max_depth': 21}. Best is trial 16 with value: 0.9760191296727635.\u001b[0m\n",
      "Precision: 1.0 \n",
      "Recall: 0.939622641509434 \n",
      "Aging Rate: 0.447841726618705\n",
      "Precision: 1.0 \n",
      "Recall: 0.9337278106508876 \n",
      "Aging Rate: 0.47302158273381295\n",
      "Precision: 1.0 \n",
      "Recall: 0.9255702280912365 \n",
      "Aging Rate: 0.46223021582733814\n",
      "\u001b[32m[I 2021-12-13 13:12:01,440]\u001b[0m Trial 33 finished with value: 0.9747802773807227 and parameters: {'n_estimators': 900, 'min_samples_split': 2, 'max_depth': 21}. Best is trial 16 with value: 0.9760191296727635.\u001b[0m\n",
      "Precision: 1.0 \n",
      "Recall: 0.9361963190184049 \n",
      "Aging Rate: 0.45743405275779375\n",
      "Precision: 1.0 \n",
      "Recall: 0.9277251184834123 \n",
      "Aging Rate: 0.4694244604316547\n",
      "Precision: 1.0 \n",
      "Recall: 0.9376498800959233 \n",
      "Aging Rate: 0.46882494004796166\n",
      "\u001b[32m[I 2021-12-13 13:12:04,855]\u001b[0m Trial 34 finished with value: 0.9751309963394554 and parameters: {'n_estimators': 900, 'min_samples_split': 7, 'max_depth': 21}. Best is trial 16 with value: 0.9760191296727635.\u001b[0m\n",
      "Precision: 1.0 \n",
      "Recall: 0.9334126040428062 \n",
      "Aging Rate: 0.4706235011990408\n",
      "Precision: 1.0 \n",
      "Recall: 0.9304556354916067 \n",
      "Aging Rate: 0.46522781774580335\n",
      "Precision: 1.0 \n",
      "Recall: 0.927070457354759 \n",
      "Aging Rate: 0.44964028776978415\n",
      "\u001b[32m[I 2021-12-13 13:12:08,060]\u001b[0m Trial 35 finished with value: 0.9737397481503797 and parameters: {'n_estimators': 900, 'min_samples_split': 12, 'max_depth': 21}. Best is trial 16 with value: 0.9760191296727635.\u001b[0m\n",
      "Precision: 1.0 \n",
      "Recall: 0.9024970273483948 \n",
      "Aging Rate: 0.4550359712230216\n",
      "Precision: 1.0 \n",
      "Recall: 0.929845422116528 \n",
      "Aging Rate: 0.46882494004796166\n",
      "Precision: 1.0 \n",
      "Recall: 0.9240963855421687 \n",
      "Aging Rate: 0.459832134292566\n",
      "\u001b[32m[I 2021-12-13 13:12:11,457]\u001b[0m Trial 36 finished with value: 0.9691331250753225 and parameters: {'n_estimators': 900, 'min_samples_split': 2, 'max_depth': 18}. Best is trial 16 with value: 0.9760191296727635.\u001b[0m\n",
      "Precision: 1.0 \n",
      "Recall: 0.9316770186335404 \n",
      "Aging Rate: 0.44964028776978415\n",
      "Precision: 1.0 \n",
      "Recall: 0.921760391198044 \n",
      "Aging Rate: 0.4520383693045564\n",
      "Precision: 1.0 \n",
      "Recall: 0.9342265529841657 \n",
      "Aging Rate: 0.459832134292566\n",
      "\u001b[32m[I 2021-12-13 13:12:14,866]\u001b[0m Trial 37 finished with value: 0.9733030211567062 and parameters: {'n_estimators': 900, 'min_samples_split': 7, 'max_depth': 21}. Best is trial 16 with value: 0.9760191296727635.\u001b[0m\n"
     ]
    },
    {
     "name": "stdout",
     "output_type": "stream",
     "text": [
      "Precision: 1.0 \n",
      "Recall: 0.9137529137529138 \n",
      "Aging Rate: 0.47002398081534774\n",
      "Precision: 1.0 \n",
      "Recall: 0.9071680376028202 \n",
      "Aging Rate: 0.4628297362110312\n",
      "Precision: 1.0 \n",
      "Recall: 0.9368295589988082 \n",
      "Aging Rate: 0.4712230215827338\n",
      "\u001b[32m[I 2021-12-13 13:12:16,650]\u001b[0m Trial 38 finished with value: 0.9693023701687163 and parameters: {'n_estimators': 500, 'min_samples_split': 12, 'max_depth': 6}. Best is trial 16 with value: 0.9760191296727635.\u001b[0m\n",
      "Precision: 1.0 \n",
      "Recall: 0.9304029304029304 \n",
      "Aging Rate: 0.4568345323741007\n",
      "Precision: 1.0 \n",
      "Recall: 0.9185905224787363 \n",
      "Aging Rate: 0.45323741007194246\n",
      "Precision: 1.0 \n",
      "Recall: 0.9355608591885441 \n",
      "Aging Rate: 0.47002398081534774\n",
      "\u001b[32m[I 2021-12-13 13:12:20,062]\u001b[0m Trial 39 finished with value: 0.9728875834738355 and parameters: {'n_estimators': 900, 'min_samples_split': 7, 'max_depth': 21}. Best is trial 16 with value: 0.9760191296727635.\u001b[0m\n",
      "Precision: 1.0 \n",
      "Recall: 0.9186189889025894 \n",
      "Aging Rate: 0.44664268585131894\n",
      "Precision: 1.0 \n",
      "Recall: 0.9402985074626866 \n",
      "Aging Rate: 0.4910071942446043\n",
      "Precision: 1.0 \n",
      "Recall: 0.9393939393939394 \n",
      "Aging Rate: 0.4646282973621103\n",
      "\u001b[32m[I 2021-12-13 13:12:20,927]\u001b[0m Trial 40 finished with value: 0.974682701130123 and parameters: {'n_estimators': 100, 'min_samples_split': 7, 'max_depth': 21}. Best is trial 16 with value: 0.9760191296727635.\u001b[0m\n",
      "Precision: 1.0 \n",
      "Recall: 0.9129916567342073 \n",
      "Aging Rate: 0.4592326139088729\n",
      "Precision: 1.0 \n",
      "Recall: 0.9157043879907621 \n",
      "Aging Rate: 0.4754196642685851\n",
      "Precision: 1.0 \n",
      "Recall: 0.9141176470588235 \n",
      "Aging Rate: 0.4658273381294964\n",
      "\u001b[32m[I 2021-12-13 13:12:21,786]\u001b[0m Trial 41 finished with value: 0.9673456993512316 and parameters: {'n_estimators': 100, 'min_samples_split': 12, 'max_depth': 18}. Best is trial 16 with value: 0.9760191296727635.\u001b[0m\n",
      "Precision: 1.0 \n",
      "Recall: 0.9141104294478528 \n",
      "Aging Rate: 0.44664268585131894\n",
      "Precision: 1.0 \n",
      "Recall: 0.9197166469893743 \n",
      "Aging Rate: 0.4670263788968825\n",
      "Precision: 1.0 \n",
      "Recall: 0.9337278106508876 \n",
      "Aging Rate: 0.47302158273381295\n",
      "\u001b[32m[I 2021-12-13 13:12:22,624]\u001b[0m Trial 42 finished with value: 0.9706330109173744 and parameters: {'n_estimators': 100, 'min_samples_split': 7, 'max_depth': 21}. Best is trial 16 with value: 0.9760191296727635.\u001b[0m\n",
      "Precision: 1.0 \n",
      "Recall: 0.9347037484885127 \n",
      "Aging Rate: 0.4634292565947242\n",
      "Precision: 1.0 \n",
      "Recall: 0.9390986601705238 \n",
      "Aging Rate: 0.46223021582733814\n",
      "Precision: 1.0 \n",
      "Recall: 0.943728018757327 \n",
      "Aging Rate: 0.4826139088729017\n",
      "\u001b[32m[I 2021-12-13 13:12:23,483]\u001b[0m Trial 43 finished with value: 0.9772132488429704 and parameters: {'n_estimators': 100, 'min_samples_split': 2, 'max_depth': 21}. Best is trial 43 with value: 0.9772132488429704.\u001b[0m\n",
      "Precision: 1.0 \n",
      "Recall: 0.9089820359281438 \n",
      "Aging Rate: 0.4550359712230216\n",
      "Precision: 1.0 \n",
      "Recall: 0.9157372986369269 \n",
      "Aging Rate: 0.4430455635491607\n",
      "Precision: 1.0 \n",
      "Recall: 0.9372781065088758 \n",
      "Aging Rate: 0.4748201438848921\n",
      "\u001b[32m[I 2021-12-13 13:12:24,307]\u001b[0m Trial 44 finished with value: 0.9698729590902021 and parameters: {'n_estimators': 100, 'min_samples_split': 2, 'max_depth': 18}. Best is trial 43 with value: 0.9772132488429704.\u001b[0m\n",
      "Precision: 1.0 \n",
      "Recall: 0.9376470588235294 \n",
      "Aging Rate: 0.47781774580335734\n",
      "Precision: 1.0 \n",
      "Recall: 0.936545240893067 \n",
      "Aging Rate: 0.47781774580335734\n",
      "Precision: 1.0 \n",
      "Recall: 0.9358226371061844 \n",
      "Aging Rate: 0.48081534772182255\n",
      "\u001b[32m[I 2021-12-13 13:12:25,170]\u001b[0m Trial 45 finished with value: 0.976238598504204 and parameters: {'n_estimators': 100, 'min_samples_split': 2, 'max_depth': 21}. Best is trial 43 with value: 0.9772132488429704.\u001b[0m\n",
      "Precision: 1.0 \n",
      "Recall: 0.9353701527614571 \n",
      "Aging Rate: 0.47721822541966424\n",
      "Precision: 1.0 \n",
      "Recall: 0.927400468384075 \n",
      "Aging Rate: 0.4748201438848921\n",
      "Precision: 1.0 \n",
      "Recall: 0.9386503067484663 \n",
      "Aging Rate: 0.45863309352517984\n",
      "\u001b[32m[I 2021-12-13 13:12:26,011]\u001b[0m Trial 46 finished with value: 0.9751104891479053 and parameters: {'n_estimators': 100, 'min_samples_split': 2, 'max_depth': 21}. Best is trial 43 with value: 0.9772132488429704.\u001b[0m\n",
      "Precision: 1.0 \n",
      "Recall: 0.9369797859690844 \n",
      "Aging Rate: 0.4724220623501199\n",
      "Precision: 1.0 \n",
      "Recall: 0.9233576642335767 \n",
      "Aging Rate: 0.4550359712230216\n",
      "Precision: 1.0 \n",
      "Recall: 0.9197994987468672 \n",
      "Aging Rate: 0.44004796163069543\n",
      "\u001b[32m[I 2021-12-13 13:12:26,859]\u001b[0m Trial 47 finished with value: 0.9723034890947561 and parameters: {'n_estimators': 100, 'min_samples_split': 2, 'max_depth': 21}. Best is trial 43 with value: 0.9772132488429704.\u001b[0m\n",
      "Precision: 1.0 \n",
      "Recall: 0.9060240963855422 \n",
      "Aging Rate: 0.45083932853717024\n",
      "Precision: 1.0 \n",
      "Recall: 0.9014423076923077 \n",
      "Aging Rate: 0.44964028776978415\n",
      "Precision: 1.0 \n",
      "Recall: 0.9058402860548271 \n",
      "Aging Rate: 0.4556354916067146\n",
      "\u001b[32m[I 2021-12-13 13:12:27,705]\u001b[0m Trial 48 finished with value: 0.9633543348460355 and parameters: {'n_estimators': 100, 'min_samples_split': 32, 'max_depth': 3}. Best is trial 43 with value: 0.9772132488429704.\u001b[0m\n",
      "Precision: 1.0 \n",
      "Recall: 0.9359430604982206 \n",
      "Aging Rate: 0.47302158273381295\n",
      "Precision: 1.0 \n",
      "Recall: 0.9275534441805225 \n",
      "Aging Rate: 0.46822541966426856\n"
     ]
    },
    {
     "name": "stderr",
     "output_type": "stream",
     "text": [
      "C:\\Users\\user\\anaconda3\\envs\\aging\\lib\\site-packages\\optuna\\samplers\\_tpe\\sampler.py:253: ExperimentalWarning: ``multivariate`` option is an experimental feature. The interface can change in the future.\n",
      "  ExperimentalWarning,\n",
      "\u001b[32m[I 2021-12-13 13:12:29,069]\u001b[0m A new study created in memory with name: no-name-09b9d9d8-742a-4149-bccd-fa8a29ef309b\u001b[0m\n"
     ]
    },
    {
     "name": "stdout",
     "output_type": "stream",
     "text": [
      "Precision: 1.0 \n",
      "Recall: 0.9464068209500609 \n",
      "Aging Rate: 0.4658273381294964\n",
      "\u001b[32m[I 2021-12-13 13:12:29,022]\u001b[0m Trial 49 finished with value: 0.9762086896091889 and parameters: {'n_estimators': 300, 'min_samples_split': 2, 'max_depth': 21}. Best is trial 43 with value: 0.9772132488429704.\u001b[0m\n",
      "Sampler is TPESampler\n",
      "Dataset4 :\n"
     ]
    },
    {
     "name": "stderr",
     "output_type": "stream",
     "text": [
      "C:\\Users\\user\\anaconda3\\envs\\aging\\lib\\site-packages\\optuna\\progress_bar.py:47: ExperimentalWarning: Progress bar is experimental (supported from v1.2.0). The interface can change in the future.\n",
      "  self._init_valid()\n"
     ]
    },
    {
     "data": {
      "application/vnd.jupyter.widget-view+json": {
       "model_id": "9ab6f5508b9a494c9af64964e9d8a55a",
       "version_major": 2,
       "version_minor": 0
      },
      "text/plain": [
       "  0%|          | 0/50 [00:00<?, ?it/s]"
      ]
     },
     "metadata": {},
     "output_type": "display_data"
    },
    {
     "name": "stdout",
     "output_type": "stream",
     "text": [
      "Precision: 0.9860724233983287 \n",
      "Recall: 0.944 \n",
      "Aging Rate: 0.4726793943383805\n",
      "Precision: 0.9863760217983651 \n",
      "Recall: 0.9152970922882427 \n",
      "Aging Rate: 0.48321263989466756\n",
      "Precision: 0.9870967741935484 \n",
      "Recall: 0.9598494353826851 \n",
      "Aging Rate: 0.5102040816326531\n",
      "\u001b[32m[I 2021-12-13 13:12:30,360]\u001b[0m Trial 0 finished with value: 0.9690543069784509 and parameters: {'n_estimators': 300, 'min_samples_split': 22, 'max_depth': 9}. Best is trial 0 with value: 0.9690543069784509.\u001b[0m\n",
      "Precision: 0.9891891891891892 \n",
      "Recall: 0.9432989690721649 \n",
      "Aging Rate: 0.4871626069782752\n",
      "Precision: 0.9875862068965517 \n",
      "Recall: 0.926261319534282 \n",
      "Aging Rate: 0.4772876892692561\n",
      "Precision: 0.9887798036465638 \n",
      "Recall: 0.9501347708894878 \n",
      "Aging Rate: 0.46938775510204084\n",
      "\u001b[32m[I 2021-12-13 13:12:31,221]\u001b[0m Trial 1 finished with value: 0.9704231458540741 and parameters: {'n_estimators': 100, 'min_samples_split': 22, 'max_depth': 9}. Best is trial 1 with value: 0.9704231458540741.\u001b[0m\n",
      "Precision: 0.9446022727272727 \n",
      "Recall: 0.8962264150943396 \n",
      "Aging Rate: 0.46346280447662935\n",
      "Precision: 0.9363507779349364 \n",
      "Recall: 0.8664921465968587 \n",
      "Aging Rate: 0.46543778801843316\n",
      "Precision: 0.9364406779661016 \n",
      "Recall: 0.8851802403204272 \n",
      "Aging Rate: 0.4660961158657011\n",
      "\u001b[32m[I 2021-12-13 13:12:34,295]\u001b[0m Trial 2 finished with value: 0.9179514612746525 and parameters: {'n_estimators': 900, 'min_samples_split': 17, 'max_depth': 6}. Best is trial 1 with value: 0.9704231458540741.\u001b[0m\n",
      "Precision: 0.9536231884057971 \n",
      "Recall: 0.8726790450928382 \n",
      "Aging Rate: 0.4542462146148782\n",
      "Precision: 0.9351585014409222 \n",
      "Recall: 0.8505897771952818 \n",
      "Aging Rate: 0.45687952600395\n",
      "Precision: 0.9435600578871202 \n",
      "Recall: 0.8522875816993464 \n",
      "Aging Rate: 0.4549045424621461\n",
      "\u001b[32m[I 2021-12-13 13:12:36,542]\u001b[0m Trial 3 finished with value: 0.9113954587174278 and parameters: {'n_estimators': 700, 'min_samples_split': 2, 'max_depth': 6}. Best is trial 1 with value: 0.9704231458540741.\u001b[0m\n",
      "Precision: 0.938288920056101 \n",
      "Recall: 0.8872679045092838 \n",
      "Aging Rate: 0.46938775510204084\n",
      "Precision: 0.9447674418604651 \n",
      "Recall: 0.8365508365508365 \n",
      "Aging Rate: 0.4529295589203423\n",
      "Precision: 0.9304964539007092 \n",
      "Recall: 0.857516339869281 \n",
      "Aging Rate: 0.4641211323238973\n",
      "\u001b[32m[I 2021-12-13 13:12:37,389]\u001b[0m Trial 4 finished with value: 0.9082739483788989 and parameters: {'n_estimators': 100, 'min_samples_split': 12, 'max_depth': 6}. Best is trial 1 with value: 0.9704231458540741.\u001b[0m\n",
      "Precision: 0.9972451790633609 \n",
      "Recall: 0.9614873837981408 \n",
      "Aging Rate: 0.477946017116524\n",
      "Precision: 0.9986541049798116 \n",
      "Recall: 0.961139896373057 \n",
      "Aging Rate: 0.489137590520079\n",
      "Precision: 0.9972527472527473 \n",
      "Recall: 0.9692923898531375 \n",
      "Aging Rate: 0.4792626728110599\n",
      "\u001b[32m[I 2021-12-13 13:12:38,677]\u001b[0m Trial 5 finished with value: 0.9852964785049613 and parameters: {'n_estimators': 300, 'min_samples_split': 27, 'max_depth': 18}. Best is trial 5 with value: 0.9852964785049613.\u001b[0m\n",
      "Precision: 0.8207681365576103 \n",
      "Recall: 0.7755376344086021 \n",
      "Aging Rate: 0.4628044766293614\n",
      "Precision: 0.8279411764705882 \n",
      "Recall: 0.7217948717948718 \n",
      "Aging Rate: 0.4476629361421988\n",
      "Precision: 0.8409742120343839 \n",
      "Recall: 0.7733860342555995 \n",
      "Aging Rate: 0.45951283739302173\n",
      "\u001b[32m[I 2021-12-13 13:12:39,972]\u001b[0m Trial 6 finished with value: 0.8018419340971987 and parameters: {'n_estimators': 300, 'min_samples_split': 32, 'max_depth': 3}. Best is trial 5 with value: 0.9852964785049613.\u001b[0m\n",
      "Precision: 0.9960106382978723 \n",
      "Recall: 0.9739921976592978 \n",
      "Aging Rate: 0.4950625411454905\n",
      "Precision: 0.9931224209078404 \n",
      "Recall: 0.971736204576043 \n",
      "Aging Rate: 0.47860434496379195\n",
      "Precision: 0.9973856209150327 \n",
      "Recall: 0.980719794344473 \n",
      "Aging Rate: 0.5036208031599737\n",
      "\u001b[32m[I 2021-12-13 13:12:41,297]\u001b[0m Trial 7 finished with value: 0.988202367673587 and parameters: {'n_estimators': 300, 'min_samples_split': 27, 'max_depth': 15}. Best is trial 7 with value: 0.988202367673587.\u001b[0m\n",
      "Precision: 0.9226361031518625 \n",
      "Recall: 0.8846153846153846 \n",
      "Aging Rate: 0.45951283739302173\n",
      "Precision: 0.9328467153284672 \n",
      "Recall: 0.8508655126498003 \n",
      "Aging Rate: 0.4509545753785385\n",
      "Precision: 0.9425770308123249 \n",
      "Recall: 0.8785900783289817 \n",
      "Aging Rate: 0.4700460829493088\n",
      "\u001b[32m[I 2021-12-13 13:12:42,591]\u001b[0m Trial 8 finished with value: 0.9095493093332626 and parameters: {'n_estimators': 300, 'min_samples_split': 12, 'max_depth': 6}. Best is trial 7 with value: 0.988202367673587.\u001b[0m\n",
      "Precision: 0.99039780521262 \n",
      "Recall: 0.95 \n",
      "Aging Rate: 0.4799210006583278\n",
      "Precision: 0.9901547116736991 \n",
      "Recall: 0.9578231292517007 \n",
      "Aging Rate: 0.46807109940750496\n",
      "Precision: 0.993455497382199 \n",
      "Recall: 0.9631979695431472 \n",
      "Aging Rate: 0.5029624753127058\n",
      "\u001b[32m[I 2021-12-13 13:12:43,872]\u001b[0m Trial 9 finished with value: 0.9786926390221744 and parameters: {'n_estimators': 300, 'min_samples_split': 7, 'max_depth': 9}. Best is trial 7 with value: 0.988202367673587.\u001b[0m\n",
      "Precision: 1.0 \n",
      "Recall: 0.963254593175853 \n",
      "Aging Rate: 0.48321263989466756\n",
      "Precision: 1.0 \n",
      "Recall: 0.9644218551461246 \n",
      "Aging Rate: 0.49967083607636603\n",
      "Precision: 0.9986928104575163 \n",
      "Recall: 0.9597989949748744 \n",
      "Aging Rate: 0.5036208031599737\n",
      "\u001b[32m[I 2021-12-13 13:12:46,785]\u001b[0m Trial 10 finished with value: 0.9858932092883936 and parameters: {'n_estimators': 700, 'min_samples_split': 32, 'max_depth': 18}. Best is trial 7 with value: 0.988202367673587.\u001b[0m\n",
      "Precision: 1.0 \n",
      "Recall: 0.9751633986928104 \n",
      "Aging Rate: 0.4911125740618828\n",
      "Precision: 1.0 \n",
      "Recall: 0.9630606860158312 \n",
      "Aging Rate: 0.48057932850559576\n",
      "Precision: 0.9958620689655172 \n",
      "Recall: 0.9730458221024259 \n",
      "Aging Rate: 0.4772876892692561\n",
      "\u001b[32m[I 2021-12-13 13:12:50,199]\u001b[0m Trial 11 finished with value: 0.9882734141586597 and parameters: {'n_estimators': 900, 'min_samples_split': 32, 'max_depth': 18}. Best is trial 11 with value: 0.9882734141586597.\u001b[0m\n",
      "Precision: 0.9986225895316805 \n",
      "Recall: 0.9615384615384616 \n",
      "Aging Rate: 0.477946017116524\n",
      "Precision: 0.9959294436906377 \n",
      "Recall: 0.9520103761348897 \n",
      "Aging Rate: 0.48518762343647137\n",
      "Precision: 0.9960474308300395 \n",
      "Recall: 0.967989756722151 \n",
      "Aging Rate: 0.49967083607636603\n",
      "\u001b[32m[I 2021-12-13 13:12:53,627]\u001b[0m Trial 12 finished with value: 0.9834559677477762 and parameters: {'n_estimators': 900, 'min_samples_split': 32, 'max_depth': 12}. Best is trial 11 with value: 0.9882734141586597.\u001b[0m\n",
      "Precision: 0.997229916897507 \n",
      "Recall: 0.967741935483871 \n",
      "Aging Rate: 0.47531270572745227\n",
      "Precision: 0.9973509933774835 \n",
      "Recall: 0.977922077922078 \n",
      "Aging Rate: 0.4970375246872943\n",
      "Precision: 0.9972489683631361 \n",
      "Recall: 0.9679572763684913 \n",
      "Aging Rate: 0.47860434496379195\n",
      "\u001b[32m[I 2021-12-13 13:12:57,058]\u001b[0m Trial 13 finished with value: 0.9877265605222373 and parameters: {'n_estimators': 900, 'min_samples_split': 17, 'max_depth': 15}. Best is trial 11 with value: 0.9882734141586597.\u001b[0m\n",
      "Precision: 0.9945652173913043 \n",
      "Recall: 0.9799196787148594 \n",
      "Aging Rate: 0.48452929558920343\n",
      "Precision: 0.99860529986053 \n",
      "Recall: 0.9559412550066756 \n",
      "Aging Rate: 0.4720210664911126\n",
      "Precision: 1.0 \n",
      "Recall: 0.98 \n",
      "Aging Rate: 0.4838709677419355\n",
      "\u001b[32m[I 2021-12-13 13:12:58,377]\u001b[0m Trial 14 finished with value: 0.9882545933335752 and parameters: {'n_estimators': 300, 'min_samples_split': 12, 'max_depth': 18}. Best is trial 11 with value: 0.9882734141586597.\u001b[0m\n",
      "Precision: 0.9986807387862797 \n",
      "Recall: 0.969270166453265 \n",
      "Aging Rate: 0.4990125082290981\n",
      "Precision: 0.996078431372549 \n",
      "Recall: 0.9731800766283525 \n",
      "Aging Rate: 0.5036208031599737\n",
      "Precision: 0.9973614775725593 \n",
      "Recall: 0.9818181818181818 \n",
      "Aging Rate: 0.4990125082290981\n",
      "\u001b[32m[I 2021-12-13 13:12:59,690]\u001b[0m Trial 15 finished with value: 0.9891036643067267 and parameters: {'n_estimators': 300, 'min_samples_split': 12, 'max_depth': 21}. Best is trial 15 with value: 0.9891036643067267.\u001b[0m\n",
      "Precision: 0.9985915492957746 \n",
      "Recall: 0.9779310344827586 \n",
      "Aging Rate: 0.467412771560237\n",
      "Precision: 0.9986737400530504 \n",
      "Recall: 0.9691119691119691 \n",
      "Aging Rate: 0.49637919684002635\n",
      "Precision: 0.9986320109439124 \n",
      "Recall: 0.9746328437917223 \n",
      "Aging Rate: 0.48123765635286375\n",
      "\u001b[32m[I 2021-12-13 13:13:03,077]\u001b[0m Trial 16 finished with value: 0.9895791011966035 and parameters: {'n_estimators': 900, 'min_samples_split': 22, 'max_depth': 21}. Best is trial 16 with value: 0.9895791011966035.\u001b[0m\n",
      "Precision: 0.9946091644204852 \n",
      "Recall: 0.984 \n",
      "Aging Rate: 0.48847926267281105\n"
     ]
    },
    {
     "name": "stdout",
     "output_type": "stream",
     "text": [
      "Precision: 0.9973474801061007 \n",
      "Recall: 0.9766233766233766 \n",
      "Aging Rate: 0.49637919684002635\n",
      "Precision: 0.9947916666666666 \n",
      "Recall: 0.9732484076433121 \n",
      "Aging Rate: 0.5055957867017775\n",
      "\u001b[32m[I 2021-12-13 13:13:06,471]\u001b[0m Trial 17 finished with value: 0.9891589842089642 and parameters: {'n_estimators': 900, 'min_samples_split': 7, 'max_depth': 21}. Best is trial 16 with value: 0.9895791011966035.\u001b[0m\n",
      "Precision: 0.9986149584487535 \n",
      "Recall: 0.9730094466936572 \n",
      "Aging Rate: 0.47531270572745227\n",
      "Precision: 0.9973404255319149 \n",
      "Recall: 0.9752925877763329 \n",
      "Aging Rate: 0.4950625411454905\n",
      "Precision: 0.9960474308300395 \n",
      "Recall: 0.9717223650385605 \n",
      "Aging Rate: 0.49967083607636603\n",
      "\u001b[32m[I 2021-12-13 13:13:09,875]\u001b[0m Trial 18 finished with value: 0.9885612795749563 and parameters: {'n_estimators': 900, 'min_samples_split': 7, 'max_depth': 21}. Best is trial 16 with value: 0.9895791011966035.\u001b[0m\n",
      "Precision: 0.9972413793103448 \n",
      "Recall: 0.9704697986577181 \n",
      "Aging Rate: 0.4772876892692561\n",
      "Precision: 1.0 \n",
      "Recall: 0.9713168187744459 \n",
      "Aging Rate: 0.49045424621461486\n",
      "Precision: 0.9986559139784946 \n",
      "Recall: 0.9789196310935442 \n",
      "Aging Rate: 0.4897959183673469\n",
      "\u001b[32m[I 2021-12-13 13:13:13,273]\u001b[0m Trial 19 finished with value: 0.989458638566869 and parameters: {'n_estimators': 900, 'min_samples_split': 22, 'max_depth': 21}. Best is trial 16 with value: 0.9895791011966035.\u001b[0m\n",
      "Precision: 0.9960629921259843 \n",
      "Recall: 0.9668789808917198 \n",
      "Aging Rate: 0.5016458196181699\n",
      "Precision: 0.998639455782313 \n",
      "Recall: 0.976063829787234 \n",
      "Aging Rate: 0.4838709677419355\n",
      "Precision: 0.9985915492957746 \n",
      "Recall: 0.9712328767123287 \n",
      "Aging Rate: 0.467412771560237\n",
      "\u001b[32m[I 2021-12-13 13:13:15,856]\u001b[0m Trial 20 finished with value: 0.9881051804507536 and parameters: {'n_estimators': 700, 'min_samples_split': 22, 'max_depth': 21}. Best is trial 16 with value: 0.9895791011966035.\u001b[0m\n",
      "Precision: 1.0 \n",
      "Recall: 0.9677835051546392 \n",
      "Aging Rate: 0.49440421329822254\n",
      "Precision: 0.9986945169712794 \n",
      "Recall: 0.9757653061224489 \n",
      "Aging Rate: 0.5042791310072416\n",
      "Precision: 0.9973368841544608 \n",
      "Recall: 0.9829396325459318 \n",
      "Aging Rate: 0.49440421329822254\n",
      "\u001b[32m[I 2021-12-13 13:13:19,263]\u001b[0m Trial 21 finished with value: 0.990193446053588 and parameters: {'n_estimators': 900, 'min_samples_split': 17, 'max_depth': 21}. Best is trial 21 with value: 0.990193446053588.\u001b[0m\n",
      "Precision: 0.997275204359673 \n",
      "Recall: 0.9644268774703557 \n",
      "Aging Rate: 0.48321263989466756\n",
      "Precision: 0.9986338797814208 \n",
      "Recall: 0.9580602883355177 \n",
      "Aging Rate: 0.4818959842001317\n",
      "Precision: 0.9973544973544973 \n",
      "Recall: 0.9703989703989704 \n",
      "Aging Rate: 0.4976958525345622\n",
      "\u001b[32m[I 2021-12-13 13:13:22,634]\u001b[0m Trial 22 finished with value: 0.9854374317498271 and parameters: {'n_estimators': 900, 'min_samples_split': 17, 'max_depth': 21}. Best is trial 21 with value: 0.990193446053588.\u001b[0m\n",
      "Precision: 0.9972936400541272 \n",
      "Recall: 0.9774535809018567 \n",
      "Aging Rate: 0.48650427913100724\n",
      "Precision: 1.0 \n",
      "Recall: 0.9690860215053764 \n",
      "Aging Rate: 0.47465437788018433\n",
      "Precision: 0.9986282578875172 \n",
      "Recall: 0.9693741677762983 \n",
      "Aging Rate: 0.4799210006583278\n",
      "\u001b[32m[I 2021-12-13 13:13:26,011]\u001b[0m Trial 23 finished with value: 0.988867003148243 and parameters: {'n_estimators': 900, 'min_samples_split': 27, 'max_depth': 21}. Best is trial 21 with value: 0.990193446053588.\u001b[0m\n",
      "Precision: 0.9972183588317107 \n",
      "Recall: 0.9611260053619303 \n",
      "Aging Rate: 0.47333772218564846\n",
      "Precision: 1.0 \n",
      "Recall: 0.975 \n",
      "Aging Rate: 0.4878209348255431\n",
      "Precision: 0.99734395750332 \n",
      "Recall: 0.9829842931937173 \n",
      "Aging Rate: 0.4957208689927584\n",
      "\u001b[32m[I 2021-12-13 13:13:28,831]\u001b[0m Trial 24 finished with value: 0.9889656880115041 and parameters: {'n_estimators': 700, 'min_samples_split': 17, 'max_depth': 18}. Best is trial 21 with value: 0.990193446053588.\u001b[0m\n",
      "Precision: 0.9986789960369881 \n",
      "Recall: 0.972972972972973 \n",
      "Aging Rate: 0.49835418038183016\n",
      "Precision: 0.9986244841815681 \n",
      "Recall: 0.979757085020243 \n",
      "Aging Rate: 0.47860434496379195\n",
      "Precision: 0.9973118279569892 \n",
      "Recall: 0.9686684073107049 \n",
      "Aging Rate: 0.4897959183673469\n",
      "\u001b[32m[I 2021-12-13 13:13:32,285]\u001b[0m Trial 25 finished with value: 0.9892753388472523 and parameters: {'n_estimators': 900, 'min_samples_split': 22, 'max_depth': 21}. Best is trial 21 with value: 0.990193446053588.\u001b[0m\n",
      "Precision: 1.0 \n",
      "Recall: 0.9589216944801027 \n",
      "Aging Rate: 0.49177090190915074\n",
      "Precision: 0.997289972899729 \n",
      "Recall: 0.968421052631579 \n",
      "Aging Rate: 0.4858459512837393\n",
      "Precision: 0.9986206896551724 \n",
      "Recall: 0.9692101740294511 \n",
      "Aging Rate: 0.4772876892692561\n",
      "\u001b[32m[I 2021-12-13 13:13:35,696]\u001b[0m Trial 26 finished with value: 0.9864476734220714 and parameters: {'n_estimators': 900, 'min_samples_split': 22, 'max_depth': 15}. Best is trial 21 with value: 0.990193446053588.\u001b[0m\n",
      "Precision: 1.0 \n",
      "Recall: 0.9680426098535286 \n",
      "Aging Rate: 0.47860434496379195\n",
      "Precision: 0.9986149584487535 \n",
      "Recall: 0.9690860215053764 \n",
      "Aging Rate: 0.47531270572745227\n",
      "Precision: 0.9986631016042781 \n",
      "Recall: 0.9739243807040417 \n",
      "Aging Rate: 0.4924292297564187\n",
      "\u001b[32m[I 2021-12-13 13:13:39,090]\u001b[0m Trial 27 finished with value: 0.9885494334801264 and parameters: {'n_estimators': 900, 'min_samples_split': 17, 'max_depth': 21}. Best is trial 21 with value: 0.990193446053588.\u001b[0m\n",
      "Precision: 0.9946524064171123 \n",
      "Recall: 0.9802371541501976 \n",
      "Aging Rate: 0.4924292297564187\n",
      "Precision: 0.9986595174262735 \n",
      "Recall: 0.9738562091503268 \n",
      "Aging Rate: 0.4911125740618828\n",
      "Precision: 0.9973154362416108 \n",
      "Recall: 0.9737876802096985 \n",
      "Aging Rate: 0.49045424621461486\n",
      "\u001b[32m[I 2021-12-13 13:13:41,985]\u001b[0m Trial 28 finished with value: 0.9892386774651251 and parameters: {'n_estimators': 700, 'min_samples_split': 17, 'max_depth': 21}. Best is trial 21 with value: 0.990193446053588.\u001b[0m\n",
      "Precision: 1.0 \n",
      "Recall: 0.9612299465240641 \n",
      "Aging Rate: 0.47333772218564846\n",
      "Precision: 1.0 \n",
      "Recall: 0.9780361757105943 \n",
      "Aging Rate: 0.49835418038183016\n",
      "Precision: 1.0 \n",
      "Recall: 0.9592391304347826 \n",
      "Aging Rate: 0.4647794601711652\n",
      "\u001b[32m[I 2021-12-13 13:13:45,376]\u001b[0m Trial 29 finished with value: 0.9875336593166869 and parameters: {'n_estimators': 900, 'min_samples_split': 22, 'max_depth': 21}. Best is trial 21 with value: 0.990193446053588.\u001b[0m\n",
      "Precision: 1.0 \n",
      "Recall: 0.9776315789473684 \n",
      "Aging Rate: 0.489137590520079\n",
      "Precision: 0.9972789115646259 \n",
      "Recall: 0.9670184696569921 \n",
      "Aging Rate: 0.4838709677419355\n",
      "Precision: 0.998641304347826 \n",
      "Recall: 0.9620418848167539 \n",
      "Aging Rate: 0.48452929558920343\n",
      "\u001b[32m[I 2021-12-13 13:13:48,786]\u001b[0m Trial 30 finished with value: 0.9877162904299318 and parameters: {'n_estimators': 900, 'min_samples_split': 22, 'max_depth': 18}. Best is trial 21 with value: 0.990193446053588.\u001b[0m\n",
      "Precision: 1.0 \n",
      "Recall: 0.9733163913595934 \n",
      "Aging Rate: 0.5042791310072416\n",
      "Precision: 1.0 \n",
      "Recall: 0.975609756097561 \n",
      "Aging Rate: 0.4739960500329164\n",
      "Precision: 0.9972375690607734 \n",
      "Recall: 0.9639519359145527 \n",
      "Aging Rate: 0.47662936142198814\n",
      "\u001b[32m[I 2021-12-13 13:13:52,186]\u001b[0m Trial 31 finished with value: 0.988766819550133 and parameters: {'n_estimators': 900, 'min_samples_split': 22, 'max_depth': 21}. Best is trial 21 with value: 0.990193446053588.\u001b[0m\n",
      "Precision: 0.9986859395532195 \n",
      "Recall: 0.9743589743589743 \n",
      "Aging Rate: 0.500987491770902\n",
      "Precision: 0.9958960328317373 \n",
      "Recall: 0.9824561403508771 \n",
      "Aging Rate: 0.48123765635286375\n",
      "Precision: 0.9986149584487535 \n",
      "Recall: 0.9703903095558546 \n",
      "Aging Rate: 0.47531270572745227\n",
      "\u001b[32m[I 2021-12-13 13:13:54,182]\u001b[0m Trial 32 finished with value: 0.9896906529115396 and parameters: {'n_estimators': 500, 'min_samples_split': 2, 'max_depth': 15}. Best is trial 21 with value: 0.990193446053588.\u001b[0m\n",
      "Precision: 0.9986244841815681 \n",
      "Recall: 0.9692923898531375 \n",
      "Aging Rate: 0.47860434496379195\n",
      "Precision: 0.9946949602122016 \n",
      "Recall: 0.981675392670157 \n",
      "Aging Rate: 0.49637919684002635\n",
      "Precision: 0.9973718791064389 \n",
      "Recall: 0.9607594936708861 \n",
      "Aging Rate: 0.500987491770902\n",
      "\u001b[32m[I 2021-12-13 13:13:55,957]\u001b[0m Trial 33 finished with value: 0.9872350861634053 and parameters: {'n_estimators': 500, 'min_samples_split': 7, 'max_depth': 12}. Best is trial 21 with value: 0.990193446053588.\u001b[0m\n",
      "Precision: 0.9945429740791268 \n",
      "Recall: 0.978523489932886 \n",
      "Aging Rate: 0.4825543120473996\n",
      "Precision: 0.997289972899729 \n",
      "Recall: 0.9774236387782205 \n",
      "Aging Rate: 0.4858459512837393\n"
     ]
    },
    {
     "name": "stdout",
     "output_type": "stream",
     "text": [
      "Precision: 0.9973509933774835 \n",
      "Recall: 0.9881889763779528 \n",
      "Aging Rate: 0.4970375246872943\n",
      "\u001b[32m[I 2021-12-13 13:13:58,778]\u001b[0m Trial 34 finished with value: 0.9909315955430044 and parameters: {'n_estimators': 700, 'min_samples_split': 2, 'max_depth': 15}. Best is trial 34 with value: 0.9909315955430044.\u001b[0m\n",
      "Precision: 0.9946666666666667 \n",
      "Recall: 0.9841688654353562 \n",
      "Aging Rate: 0.4937458854509546\n",
      "Precision: 0.9986772486772487 \n",
      "Recall: 0.9817945383615084 \n",
      "Aging Rate: 0.4976958525345622\n",
      "Precision: 1.0 \n",
      "Recall: 0.9798927613941019 \n",
      "Aging Rate: 0.48123765635286375\n",
      "\u001b[32m[I 2021-12-13 13:14:00,906]\u001b[0m Trial 35 finished with value: 0.9920205943662813 and parameters: {'n_estimators': 500, 'min_samples_split': 2, 'max_depth': 18}. Best is trial 35 with value: 0.9920205943662813.\u001b[0m\n",
      "Precision: 0.9959623149394348 \n",
      "Recall: 0.9827357237715804 \n",
      "Aging Rate: 0.489137590520079\n",
      "Precision: 1.0 \n",
      "Recall: 0.9865771812080537 \n",
      "Aging Rate: 0.4838709677419355\n",
      "Precision: 0.9944598337950139 \n",
      "Recall: 0.9835616438356164 \n",
      "Aging Rate: 0.47531270572745227\n",
      "\u001b[32m[I 2021-12-13 13:14:03,021]\u001b[0m Trial 36 finished with value: 0.9922648709168224 and parameters: {'n_estimators': 500, 'min_samples_split': 2, 'max_depth': 18}. Best is trial 36 with value: 0.9922648709168224.\u001b[0m\n",
      "Precision: 1.0 \n",
      "Recall: 0.9863945578231292 \n",
      "Aging Rate: 0.4772876892692561\n",
      "Precision: 0.9972489683631361 \n",
      "Recall: 0.9718498659517426 \n",
      "Aging Rate: 0.47860434496379195\n",
      "Precision: 0.9986824769433466 \n",
      "Recall: 0.9844155844155844 \n",
      "Aging Rate: 0.49967083607636603\n",
      "\u001b[32m[I 2021-12-13 13:14:05,121]\u001b[0m Trial 37 finished with value: 0.9921705995210778 and parameters: {'n_estimators': 500, 'min_samples_split': 2, 'max_depth': 21}. Best is trial 36 with value: 0.9922648709168224.\u001b[0m\n",
      "Precision: 0.9931787175989086 \n",
      "Recall: 0.9758713136729222 \n",
      "Aging Rate: 0.4825543120473996\n",
      "Precision: 0.9960159362549801 \n",
      "Recall: 0.97911227154047 \n",
      "Aging Rate: 0.4957208689927584\n",
      "Precision: 1.0 \n",
      "Recall: 0.9774153074027604 \n",
      "Aging Rate: 0.5128373930217248\n",
      "\u001b[32m[I 2021-12-13 13:14:07,140]\u001b[0m Trial 38 finished with value: 0.9894972803590157 and parameters: {'n_estimators': 500, 'min_samples_split': 2, 'max_depth': 21}. Best is trial 36 with value: 0.9922648709168224.\u001b[0m\n",
      "Precision: 0.9959349593495935 \n",
      "Recall: 0.98 \n",
      "Aging Rate: 0.4858459512837393\n",
      "Precision: 0.9973404255319149 \n",
      "Recall: 0.97911227154047 \n",
      "Aging Rate: 0.4950625411454905\n",
      "Precision: 0.9972565157750343 \n",
      "Recall: 0.9540682414698163 \n",
      "Aging Rate: 0.4799210006583278\n",
      "\u001b[32m[I 2021-12-13 13:14:10,554]\u001b[0m Trial 39 finished with value: 0.9873683897214853 and parameters: {'n_estimators': 900, 'min_samples_split': 2, 'max_depth': 12}. Best is trial 36 with value: 0.9922648709168224.\u001b[0m\n",
      "Precision: 0.9974025974025974 \n",
      "Recall: 0.9858793324775353 \n",
      "Aging Rate: 0.5069124423963134\n",
      "Precision: 0.9959946595460614 \n",
      "Recall: 0.9815789473684211 \n",
      "Aging Rate: 0.4930875576036866\n",
      "Precision: 0.9986996098829649 \n",
      "Recall: 0.9833546734955185 \n",
      "Aging Rate: 0.5062541145490455\n",
      "\u001b[32m[I 2021-12-13 13:14:13,351]\u001b[0m Trial 40 finished with value: 0.99236679072939 and parameters: {'n_estimators': 700, 'min_samples_split': 2, 'max_depth': 15}. Best is trial 40 with value: 0.99236679072939.\u001b[0m\n",
      "Precision: 0.9987113402061856 \n",
      "Recall: 0.982256020278834 \n",
      "Aging Rate: 0.510862409479921\n",
      "Precision: 0.9947780678851175 \n",
      "Recall: 0.9908972691807543 \n",
      "Aging Rate: 0.5042791310072416\n",
      "Precision: 0.9986338797814208 \n",
      "Recall: 0.9798927613941019 \n",
      "Aging Rate: 0.4818959842001317\n",
      "\u001b[32m[I 2021-12-13 13:14:16,277]\u001b[0m Trial 41 finished with value: 0.9926356110523367 and parameters: {'n_estimators': 700, 'min_samples_split': 2, 'max_depth': 18}. Best is trial 41 with value: 0.9926356110523367.\u001b[0m\n",
      "Precision: 0.9986376021798365 \n",
      "Recall: 0.9838926174496644 \n",
      "Aging Rate: 0.48321263989466756\n",
      "Precision: 0.9986559139784946 \n",
      "Recall: 0.9737876802096985 \n",
      "Aging Rate: 0.4897959183673469\n",
      "Precision: 1.0 \n",
      "Recall: 0.9731457800511509 \n",
      "Aging Rate: 0.500987491770902\n",
      "\u001b[32m[I 2021-12-13 13:14:17,590]\u001b[0m Trial 42 finished with value: 0.9910001841011232 and parameters: {'n_estimators': 300, 'min_samples_split': 2, 'max_depth': 18}. Best is trial 41 with value: 0.9926356110523367.\u001b[0m\n",
      "Precision: 1.0 \n",
      "Recall: 0.9770408163265306 \n",
      "Aging Rate: 0.5042791310072416\n",
      "Precision: 0.9986737400530504 \n",
      "Recall: 0.977922077922078 \n",
      "Aging Rate: 0.49637919684002635\n",
      "Precision: 0.9961190168175937 \n",
      "Recall: 0.9759188846641318 \n",
      "Aging Rate: 0.5088874259381172\n",
      "\u001b[32m[I 2021-12-13 13:14:20,538]\u001b[0m Trial 43 finished with value: 0.9904884116697829 and parameters: {'n_estimators': 700, 'min_samples_split': 2, 'max_depth': 18}. Best is trial 41 with value: 0.9926356110523367.\u001b[0m\n",
      "Precision: 1.0 \n",
      "Recall: 0.9838709677419355 \n",
      "Aging Rate: 0.4818959842001317\n",
      "Precision: 0.9948051948051948 \n",
      "Recall: 0.979539641943734 \n",
      "Aging Rate: 0.5069124423963134\n",
      "Precision: 1.0 \n",
      "Recall: 0.9804432855280313 \n",
      "Aging Rate: 0.4950625411454905\n",
      "\u001b[32m[I 2021-12-13 13:14:22,429]\u001b[0m Trial 44 finished with value: 0.9920861399714115 and parameters: {'n_estimators': 500, 'min_samples_split': 7, 'max_depth': 18}. Best is trial 41 with value: 0.9926356110523367.\u001b[0m\n",
      "Precision: 1.0 \n",
      "Recall: 0.9859335038363172 \n",
      "Aging Rate: 0.5075707702435813\n",
      "Precision: 0.9972972972972973 \n",
      "Recall: 0.9761904761904762 \n",
      "Aging Rate: 0.4871626069782752\n",
      "Precision: 0.9985935302390999 \n",
      "Recall: 0.9686221009549796 \n",
      "Aging Rate: 0.46807109940750496\n",
      "\u001b[32m[I 2021-12-13 13:14:24,430]\u001b[0m Trial 45 finished with value: 0.9906923554396802 and parameters: {'n_estimators': 500, 'min_samples_split': 7, 'max_depth': 21}. Best is trial 41 with value: 0.9926356110523367.\u001b[0m\n",
      "Precision: 0.997289972899729 \n",
      "Recall: 0.9595827900912647 \n",
      "Aging Rate: 0.4858459512837393\n",
      "Precision: 0.9973226238286479 \n",
      "Recall: 0.9764089121887287 \n",
      "Aging Rate: 0.49177090190915074\n",
      "Precision: 0.9973579920739762 \n",
      "Recall: 0.9817945383615084 \n",
      "Aging Rate: 0.49835418038183016\n",
      "\u001b[32m[I 2021-12-13 13:14:27,118]\u001b[0m Trial 46 finished with value: 0.9882562197719261 and parameters: {'n_estimators': 700, 'min_samples_split': 7, 'max_depth': 15}. Best is trial 41 with value: 0.9926356110523367.\u001b[0m\n",
      "Precision: 1.0 \n",
      "Recall: 0.9759797724399494 \n",
      "Aging Rate: 0.5082290980908493\n",
      "Precision: 0.996 \n",
      "Recall: 0.9854881266490765 \n",
      "Aging Rate: 0.4937458854509546\n",
      "Precision: 1.0 \n",
      "Recall: 0.9878048780487805 \n",
      "Aging Rate: 0.4799210006583278\n",
      "\u001b[32m[I 2021-12-13 13:14:30,047]\u001b[0m Trial 47 finished with value: 0.9929943066874974 and parameters: {'n_estimators': 700, 'min_samples_split': 2, 'max_depth': 21}. Best is trial 47 with value: 0.9929943066874974.\u001b[0m\n",
      "Precision: 0.9973579920739762 \n",
      "Recall: 0.975452196382429 \n",
      "Aging Rate: 0.49835418038183016\n",
      "Precision: 1.0 \n",
      "Recall: 0.9771863117870723 \n",
      "Aging Rate: 0.5075707702435813\n",
      "Precision: 0.9973333333333333 \n",
      "Recall: 0.9777777777777777 \n",
      "Aging Rate: 0.4937458854509546\n",
      "\u001b[32m[I 2021-12-13 13:14:32,984]\u001b[0m Trial 48 finished with value: 0.9904095725347993 and parameters: {'n_estimators': 700, 'min_samples_split': 2, 'max_depth': 21}. Best is trial 47 with value: 0.9929943066874974.\u001b[0m\n",
      "Precision: 0.9971830985915493 \n",
      "Recall: 0.9806094182825484 \n",
      "Aging Rate: 0.467412771560237\n",
      "Precision: 0.997364953886693 \n",
      "Recall: 0.9780361757105943 \n",
      "Aging Rate: 0.49967083607636603\n"
     ]
    },
    {
     "name": "stderr",
     "output_type": "stream",
     "text": [
      "C:\\Users\\user\\anaconda3\\envs\\aging\\lib\\site-packages\\optuna\\samplers\\_tpe\\sampler.py:253: ExperimentalWarning: ``multivariate`` option is an experimental feature. The interface can change in the future.\n",
      "  ExperimentalWarning,\n",
      "\u001b[32m[I 2021-12-13 13:14:35,972]\u001b[0m A new study created in memory with name: no-name-9fc5b7b4-5d32-4e03-b39a-457ef3d0fb99\u001b[0m\n"
     ]
    },
    {
     "name": "stdout",
     "output_type": "stream",
     "text": [
      "Precision: 0.9920424403183024 \n",
      "Recall: 0.9816272965879265 \n",
      "Aging Rate: 0.49637919684002635\n",
      "\u001b[32m[I 2021-12-13 13:14:35,910]\u001b[0m Trial 49 finished with value: 0.9899130847584404 and parameters: {'n_estimators': 700, 'min_samples_split': 2, 'max_depth': 21}. Best is trial 47 with value: 0.9929943066874974.\u001b[0m\n",
      "Sampler is TPESampler\n",
      "Dataset5 :\n"
     ]
    },
    {
     "name": "stderr",
     "output_type": "stream",
     "text": [
      "C:\\Users\\user\\anaconda3\\envs\\aging\\lib\\site-packages\\optuna\\progress_bar.py:47: ExperimentalWarning: Progress bar is experimental (supported from v1.2.0). The interface can change in the future.\n",
      "  self._init_valid()\n"
     ]
    },
    {
     "data": {
      "application/vnd.jupyter.widget-view+json": {
       "model_id": "211cdb55627d4d358920b876542a65f0",
       "version_major": 2,
       "version_minor": 0
      },
      "text/plain": [
       "  0%|          | 0/50 [00:00<?, ?it/s]"
      ]
     },
     "metadata": {},
     "output_type": "display_data"
    },
    {
     "name": "stdout",
     "output_type": "stream",
     "text": [
      "Precision: 0.9973226238286479 \n",
      "Recall: 0.9959893048128342 \n",
      "Aging Rate: 0.49306930693069306\n",
      "Precision: 0.997364953886693 \n",
      "Recall: 0.9934383202099738 \n",
      "Aging Rate: 0.500990099009901\n",
      "Precision: 0.9959514170040485 \n",
      "Recall: 0.9879518072289156 \n",
      "Aging Rate: 0.4891089108910891\n",
      "\u001b[32m[I 2021-12-13 13:14:39,345]\u001b[0m Trial 0 finished with value: 0.9952822299342338 and parameters: {'n_estimators': 900, 'min_samples_split': 2, 'max_depth': 18}. Best is trial 0 with value: 0.9952822299342338.\u001b[0m\n",
      "Precision: 0.9375 \n",
      "Recall: 0.896414342629482 \n",
      "Aging Rate: 0.4752475247524752\n",
      "Precision: 0.9625 \n",
      "Recall: 0.9203187250996016 \n",
      "Aging Rate: 0.4752475247524752\n",
      "Precision: 0.9368279569892473 \n",
      "Recall: 0.9280958721704394 \n",
      "Aging Rate: 0.4910891089108911\n",
      "\u001b[32m[I 2021-12-13 13:14:41,564]\u001b[0m Trial 1 finished with value: 0.9342748066501046 and parameters: {'n_estimators': 700, 'min_samples_split': 12, 'max_depth': 6}. Best is trial 0 with value: 0.9952822299342338.\u001b[0m\n",
      "Precision: 0.8698727015558698 \n",
      "Recall: 0.8167330677290837 \n",
      "Aging Rate: 0.4666666666666667\n",
      "Precision: 0.8494055482166446 \n",
      "Recall: 0.8416230366492147 \n",
      "Aging Rate: 0.4996699669966997\n",
      "Precision: 0.8529411764705882 \n",
      "Recall: 0.829700272479564 \n",
      "Aging Rate: 0.47128712871287126\n",
      "\u001b[32m[I 2021-12-13 13:14:42,395]\u001b[0m Trial 2 finished with value: 0.8469924472016185 and parameters: {'n_estimators': 100, 'min_samples_split': 2, 'max_depth': 3}. Best is trial 0 with value: 0.9952822299342338.\u001b[0m\n",
      "Precision: 0.9902777777777778 \n",
      "Recall: 0.9713896457765667 \n",
      "Aging Rate: 0.4752475247524752\n",
      "Precision: 0.9892617449664429 \n",
      "Recall: 0.9748677248677249 \n",
      "Aging Rate: 0.49174917491749176\n",
      "Precision: 0.9812583668005355 \n",
      "Recall: 0.9799465240641712 \n",
      "Aging Rate: 0.49306930693069306\n",
      "\u001b[32m[I 2021-12-13 13:14:43,227]\u001b[0m Trial 3 finished with value: 0.9827369695169238 and parameters: {'n_estimators': 100, 'min_samples_split': 17, 'max_depth': 9}. Best is trial 0 with value: 0.9952822299342338.\u001b[0m\n",
      "Precision: 0.9945578231292517 \n",
      "Recall: 0.9945578231292517 \n",
      "Aging Rate: 0.48514851485148514\n",
      "Precision: 0.9961340206185567 \n",
      "Recall: 0.993573264781491 \n",
      "Aging Rate: 0.5122112211221123\n",
      "Precision: 0.9973154362416108 \n",
      "Recall: 0.9933155080213903 \n",
      "Aging Rate: 0.49174917491749176\n",
      "\u001b[32m[I 2021-12-13 13:14:44,571]\u001b[0m Trial 4 finished with value: 0.9952134029407578 and parameters: {'n_estimators': 300, 'min_samples_split': 27, 'max_depth': 18}. Best is trial 0 with value: 0.9952822299342338.\u001b[0m\n",
      "Precision: 0.9946380697050938 \n",
      "Recall: 0.9906542056074766 \n",
      "Aging Rate: 0.4924092409240924\n",
      "Precision: 0.9935233160621761 \n",
      "Recall: 0.9922380336351876 \n",
      "Aging Rate: 0.5095709570957095\n",
      "Precision: 0.9946737683089214 \n",
      "Recall: 0.9867899603698811 \n",
      "Aging Rate: 0.4957095709570957\n",
      "\u001b[32m[I 2021-12-13 13:14:47,882]\u001b[0m Trial 5 finished with value: 0.9926938502385946 and parameters: {'n_estimators': 900, 'min_samples_split': 12, 'max_depth': 12}. Best is trial 0 with value: 0.9952822299342338.\u001b[0m\n",
      "Precision: 0.9946595460614153 \n",
      "Recall: 0.9893758300132802 \n",
      "Aging Rate: 0.49438943894389437\n",
      "Precision: 0.996005326231691 \n",
      "Recall: 0.9855072463768116 \n",
      "Aging Rate: 0.4957095709570957\n",
      "Precision: 0.9961636828644501 \n",
      "Recall: 0.9910941475826972 \n",
      "Aging Rate: 0.5161716171617162\n",
      "\u001b[32m[I 2021-12-13 13:14:51,287]\u001b[0m Trial 6 finished with value: 0.9930946520872762 and parameters: {'n_estimators': 900, 'min_samples_split': 27, 'max_depth': 15}. Best is trial 0 with value: 0.9952822299342338.\u001b[0m\n",
      "Precision: 0.9974554707379135 \n",
      "Recall: 0.98989898989899 \n",
      "Aging Rate: 0.5188118811881188\n",
      "Precision: 0.9973890339425587 \n",
      "Recall: 0.9947916666666666 \n",
      "Aging Rate: 0.5056105610561056\n",
      "Precision: 0.9948320413436692 \n",
      "Recall: 0.990990990990991 \n",
      "Aging Rate: 0.5108910891089109\n",
      "\u001b[32m[I 2021-12-13 13:14:54,084]\u001b[0m Trial 7 finished with value: 0.9948733808105367 and parameters: {'n_estimators': 700, 'min_samples_split': 7, 'max_depth': 21}. Best is trial 0 with value: 0.9952822299342338.\u001b[0m\n",
      "Precision: 0.9959349593495935 \n",
      "Recall: 0.9892328398384926 \n",
      "Aging Rate: 0.4871287128712871\n",
      "Precision: 0.9921259842519685 \n",
      "Recall: 0.9908256880733946 \n",
      "Aging Rate: 0.502970297029703\n",
      "Precision: 0.9973992197659298 \n",
      "Recall: 0.9820742637644047 \n",
      "Aging Rate: 0.5075907590759076\n",
      "\u001b[32m[I 2021-12-13 13:14:54,941]\u001b[0m Trial 8 finished with value: 0.9923322299629396 and parameters: {'n_estimators': 100, 'min_samples_split': 12, 'max_depth': 21}. Best is trial 0 with value: 0.9952822299342338.\u001b[0m\n",
      "Precision: 0.8841961852861036 \n",
      "Recall: 0.8428571428571429 \n",
      "Aging Rate: 0.4844884488448845\n",
      "Precision: 0.9034090909090909 \n",
      "Recall: 0.8206451612903226 \n",
      "Aging Rate: 0.4646864686468647\n",
      "Precision: 0.8847222222222222 \n",
      "Recall: 0.8261997405966277 \n",
      "Aging Rate: 0.4752475247524752\n",
      "\u001b[32m[I 2021-12-13 13:14:57,880]\u001b[0m Trial 9 finished with value: 0.8677787345919835 and parameters: {'n_estimators': 900, 'min_samples_split': 7, 'max_depth': 3}. Best is trial 0 with value: 0.9952822299342338.\u001b[0m\n",
      "Precision: 0.9972972972972973 \n",
      "Recall: 0.9919354838709677 \n",
      "Aging Rate: 0.4884488448844885\n",
      "Precision: 0.9973190348525469 \n",
      "Recall: 0.9906790945406125 \n",
      "Aging Rate: 0.4924092409240924\n",
      "Precision: 1.0 \n",
      "Recall: 0.990728476821192 \n",
      "Aging Rate: 0.49372937293729374\n",
      "\u001b[32m[I 2021-12-13 13:15:00,743]\u001b[0m Trial 10 finished with value: 0.9956403783914664 and parameters: {'n_estimators': 700, 'min_samples_split': 2, 'max_depth': 15}. Best is trial 10 with value: 0.9956403783914664.\u001b[0m\n",
      "Precision: 0.9921465968586387 \n",
      "Recall: 0.9895561357702349 \n",
      "Aging Rate: 0.5042904290429043\n",
      "Precision: 0.9972640218878249 \n",
      "Recall: 0.9838056680161943 \n",
      "Aging Rate: 0.48250825082508253\n",
      "Precision: 0.9959839357429718 \n",
      "Recall: 0.9880478087649402 \n",
      "Aging Rate: 0.49306930693069306\n",
      "\u001b[32m[I 2021-12-13 13:15:03,098]\u001b[0m Trial 11 finished with value: 0.992233853128793 and parameters: {'n_estimators': 700, 'min_samples_split': 2, 'max_depth': 12}. Best is trial 10 with value: 0.9956403783914664.\u001b[0m\n",
      "Precision: 1.0 \n",
      "Recall: 0.993514915693904 \n",
      "Aging Rate: 0.5056105610561056\n",
      "Precision: 1.0 \n",
      "Recall: 0.9868421052631579 \n",
      "Aging Rate: 0.49504950495049505\n",
      "Precision: 0.9919137466307277 \n",
      "Recall: 0.9932523616734144 \n",
      "Aging Rate: 0.4897689768976898\n",
      "\u001b[32m[I 2021-12-13 13:15:06,489]\u001b[0m Trial 12 finished with value: 0.9950912672046265 and parameters: {'n_estimators': 900, 'min_samples_split': 2, 'max_depth': 21}. Best is trial 10 with value: 0.9956403783914664.\u001b[0m\n",
      "Precision: 0.9987029831387808 \n",
      "Recall: 0.9974093264248705 \n",
      "Aging Rate: 0.5089108910891089\n",
      "Precision: 0.9986263736263736 \n",
      "Recall: 0.9918144611186903 \n",
      "Aging Rate: 0.48052805280528055\n",
      "Precision: 0.9959623149394348 \n",
      "Recall: 0.9906291834002677 \n",
      "Aging Rate: 0.4904290429042904\n",
      "\u001b[32m[I 2021-12-13 13:15:08,367]\u001b[0m Trial 13 finished with value: 0.9961453326744664 and parameters: {'n_estimators': 500, 'min_samples_split': 7, 'max_depth': 15}. Best is trial 13 with value: 0.9961453326744664.\u001b[0m\n",
      "Precision: 0.9959785522788204 \n",
      "Recall: 0.988031914893617 \n",
      "Aging Rate: 0.4924092409240924\n",
      "Precision: 0.9921052631578947 \n",
      "Recall: 0.9921052631578947 \n",
      "Aging Rate: 0.5016501650165016\n",
      "Precision: 0.9973009446693657 \n",
      "Recall: 0.9946164199192463 \n",
      "Aging Rate: 0.4891089108910891\n",
      "\u001b[32m[I 2021-12-13 13:15:09,661]\u001b[0m Trial 14 finished with value: 0.9938470635626823 and parameters: {'n_estimators': 300, 'min_samples_split': 7, 'max_depth': 12}. Best is trial 13 with value: 0.9961453326744664.\u001b[0m\n",
      "Precision: 0.9974905897114178 \n",
      "Recall: 0.9925093632958801 \n",
      "Aging Rate: 0.526072607260726\n",
      "Precision: 0.9959677419354839 \n",
      "Recall: 0.9919678714859438 \n",
      "Aging Rate: 0.4910891089108911\n",
      "Precision: 0.9986577181208054 \n",
      "Recall: 0.986737400530504 \n",
      "Aging Rate: 0.49174917491749176\n",
      "\u001b[32m[I 2021-12-13 13:15:10,943]\u001b[0m Trial 15 finished with value: 0.9948496818470624 and parameters: {'n_estimators': 300, 'min_samples_split': 2, 'max_depth': 21}. Best is trial 13 with value: 0.9961453326744664.\u001b[0m\n",
      "Precision: 0.9921363040629095 \n",
      "Recall: 0.9869621903520208 \n",
      "Aging Rate: 0.5036303630363036\n",
      "Precision: 0.990728476821192 \n",
      "Recall: 0.988110964332893 \n",
      "Aging Rate: 0.49834983498349833\n",
      "Precision: 0.9946091644204852 \n",
      "Recall: 0.9853137516688919 \n",
      "Aging Rate: 0.4897689768976898\n",
      "\u001b[32m[I 2021-12-13 13:15:12,754]\u001b[0m Trial 16 finished with value: 0.990431547140338 and parameters: {'n_estimators': 500, 'min_samples_split': 17, 'max_depth': 15}. Best is trial 13 with value: 0.9961453326744664.\u001b[0m\n"
     ]
    },
    {
     "name": "stdout",
     "output_type": "stream",
     "text": [
      "Precision: 0.8867403314917127 \n",
      "Recall: 0.834850455136541 \n",
      "Aging Rate: 0.4778877887788779\n",
      "Precision: 0.8799454297407913 \n",
      "Recall: 0.8509234828496042 \n",
      "Aging Rate: 0.48382838283828383\n",
      "Precision: 0.8716875871687587 \n",
      "Recall: 0.8085381630012937 \n",
      "Aging Rate: 0.47326732673267324\n",
      "\u001b[32m[I 2021-12-13 13:15:14,542]\u001b[0m Trial 17 finished with value: 0.8614846300152993 and parameters: {'n_estimators': 500, 'min_samples_split': 27, 'max_depth': 3}. Best is trial 13 with value: 0.9961453326744664.\u001b[0m\n",
      "Precision: 0.9931412894375857 \n",
      "Recall: 0.9877216916780355 \n",
      "Aging Rate: 0.48118811881188117\n",
      "Precision: 0.9934296977660972 \n",
      "Recall: 0.9908256880733946 \n",
      "Aging Rate: 0.5023102310231023\n",
      "Precision: 0.9946808510638298 \n",
      "Recall: 0.990728476821192 \n",
      "Aging Rate: 0.49636963696369635\n",
      "\u001b[32m[I 2021-12-13 13:15:16,440]\u001b[0m Trial 18 finished with value: 0.9923094813414984 and parameters: {'n_estimators': 500, 'min_samples_split': 7, 'max_depth': 15}. Best is trial 13 with value: 0.9961453326744664.\u001b[0m\n",
      "Precision: 0.9855263157894737 \n",
      "Recall: 0.9664516129032258 \n",
      "Aging Rate: 0.5016501650165016\n",
      "Precision: 0.9917355371900827 \n",
      "Recall: 0.9461235216819974 \n",
      "Aging Rate: 0.4792079207920792\n",
      "Precision: 0.9787798408488063 \n",
      "Recall: 0.9710526315789474 \n",
      "Aging Rate: 0.4976897689768977\n",
      "\u001b[32m[I 2021-12-13 13:15:17,740]\u001b[0m Trial 19 finished with value: 0.9764581451758061 and parameters: {'n_estimators': 300, 'min_samples_split': 32, 'max_depth': 9}. Best is trial 13 with value: 0.9961453326744664.\u001b[0m\n",
      "Precision: 0.9398084815321477 \n",
      "Recall: 0.9184491978609626 \n",
      "Aging Rate: 0.48250825082508253\n",
      "Precision: 0.9573590096286108 \n",
      "Recall: 0.9354838709677419 \n",
      "Aging Rate: 0.47986798679867987\n",
      "Precision: 0.9701280227596017 \n",
      "Recall: 0.89501312335958 \n",
      "Aging Rate: 0.464026402640264\n",
      "\u001b[32m[I 2021-12-13 13:15:19,500]\u001b[0m Trial 20 finished with value: 0.941016508139005 and parameters: {'n_estimators': 500, 'min_samples_split': 2, 'max_depth': 6}. Best is trial 13 with value: 0.9961453326744664.\u001b[0m\n",
      "Precision: 0.9959677419354839 \n",
      "Recall: 0.9906417112299465 \n",
      "Aging Rate: 0.4910891089108911\n",
      "Precision: 0.9973958333333334 \n",
      "Recall: 0.9909443725743855 \n",
      "Aging Rate: 0.5069306930693069\n",
      "Precision: 1.0 \n",
      "Recall: 0.9878542510121457 \n",
      "Aging Rate: 0.48316831683168315\n",
      "\u001b[32m[I 2021-12-13 13:15:22,873]\u001b[0m Trial 21 finished with value: 0.9949002382607214 and parameters: {'n_estimators': 900, 'min_samples_split': 2, 'max_depth': 15}. Best is trial 13 with value: 0.9961453326744664.\u001b[0m\n",
      "Precision: 1.0 \n",
      "Recall: 0.9906790945406125 \n",
      "Aging Rate: 0.4910891089108911\n",
      "Precision: 0.9933155080213903 \n",
      "Recall: 0.9828042328042328 \n",
      "Aging Rate: 0.49372937293729374\n",
      "Precision: 0.9906166219839142 \n",
      "Recall: 0.9906166219839142 \n",
      "Aging Rate: 0.4924092409240924\n",
      "\u001b[32m[I 2021-12-13 13:15:26,235]\u001b[0m Trial 22 finished with value: 0.992248868538367 and parameters: {'n_estimators': 900, 'min_samples_split': 12, 'max_depth': 18}. Best is trial 13 with value: 0.9961453326744664.\u001b[0m\n",
      "Precision: 1.0 \n",
      "Recall: 0.9960732984293194 \n",
      "Aging Rate: 0.5023102310231023\n",
      "Precision: 1.0 \n",
      "Recall: 0.9860406091370558 \n",
      "Aging Rate: 0.5128712871287129\n",
      "Precision: 0.996005326231691 \n",
      "Recall: 0.996005326231691 \n",
      "Aging Rate: 0.4957095709570957\n",
      "\u001b[32m[I 2021-12-13 13:15:29,194]\u001b[0m Trial 23 finished with value: 0.9965058233148252 and parameters: {'n_estimators': 700, 'min_samples_split': 2, 'max_depth': 18}. Best is trial 23 with value: 0.9965058233148252.\u001b[0m\n",
      "Precision: 0.9972489683631361 \n",
      "Recall: 0.9890859481582538 \n",
      "Aging Rate: 0.47986798679867987\n",
      "Precision: 1.0 \n",
      "Recall: 0.9882506527415144 \n",
      "Aging Rate: 0.4996699669966997\n",
      "Precision: 0.9974457215836526 \n",
      "Recall: 0.9949044585987261 \n",
      "Aging Rate: 0.5168316831683168\n",
      "\u001b[32m[I 2021-12-13 13:15:31,190]\u001b[0m Trial 24 finished with value: 0.995520788552295 and parameters: {'n_estimators': 500, 'min_samples_split': 7, 'max_depth': 18}. Best is trial 23 with value: 0.9965058233148252.\u001b[0m\n",
      "Precision: 0.9919354838709677 \n",
      "Recall: 0.9879518072289156 \n",
      "Aging Rate: 0.4910891089108911\n",
      "Precision: 0.9972337482710927 \n",
      "Recall: 0.9890260631001372 \n",
      "Aging Rate: 0.4772277227722772\n",
      "Precision: 0.9973118279569892 \n",
      "Recall: 0.9959731543624161 \n",
      "Aging Rate: 0.4910891089108911\n",
      "\u001b[32m[I 2021-12-13 13:15:33,304]\u001b[0m Trial 25 finished with value: 0.9938634969249658 and parameters: {'n_estimators': 500, 'min_samples_split': 2, 'max_depth': 18}. Best is trial 23 with value: 0.9965058233148252.\u001b[0m\n",
      "Precision: 0.994579945799458 \n",
      "Recall: 0.9852348993288591 \n",
      "Aging Rate: 0.4871287128712871\n",
      "Precision: 0.9959946595460614 \n",
      "Recall: 0.9828722002635046 \n",
      "Aging Rate: 0.49438943894389437\n",
      "Precision: 0.9973753280839895 \n",
      "Recall: 0.987012987012987 \n",
      "Aging Rate: 0.502970297029703\n",
      "\u001b[32m[I 2021-12-13 13:15:35,098]\u001b[0m Trial 26 finished with value: 0.9920152305775348 and parameters: {'n_estimators': 500, 'min_samples_split': 2, 'max_depth': 12}. Best is trial 23 with value: 0.9965058233148252.\u001b[0m\n",
      "Precision: 0.9946091644204852 \n",
      "Recall: 0.9892761394101877 \n",
      "Aging Rate: 0.4897689768976898\n",
      "Precision: 0.9987046632124352 \n",
      "Recall: 0.9897304236200257 \n",
      "Aging Rate: 0.5095709570957095\n",
      "Precision: 0.9905913978494624 \n",
      "Recall: 0.9905913978494624 \n",
      "Aging Rate: 0.4910891089108911\n",
      "\u001b[32m[I 2021-12-13 13:15:37,660]\u001b[0m Trial 27 finished with value: 0.9929097706411788 and parameters: {'n_estimators': 700, 'min_samples_split': 12, 'max_depth': 15}. Best is trial 23 with value: 0.9965058233148252.\u001b[0m\n",
      "Precision: 0.994750656167979 \n",
      "Recall: 0.9934469200524246 \n",
      "Aging Rate: 0.502970297029703\n",
      "Precision: 0.9972489683631361 \n",
      "Recall: 0.9877384196185286 \n",
      "Aging Rate: 0.47986798679867987\n",
      "Precision: 1.0 \n",
      "Recall: 0.9908496732026144 \n",
      "Aging Rate: 0.5003300330033004\n",
      "\u001b[32m[I 2021-12-13 13:15:40,550]\u001b[0m Trial 28 finished with value: 0.9949238466721771 and parameters: {'n_estimators': 700, 'min_samples_split': 2, 'max_depth': 15}. Best is trial 23 with value: 0.9965058233148252.\u001b[0m\n",
      "Precision: 0.9986468200270636 \n",
      "Recall: 0.9946091644204852 \n",
      "Aging Rate: 0.4877887788778878\n",
      "Precision: 0.997289972899729 \n",
      "Recall: 0.9865951742627346 \n",
      "Aging Rate: 0.4871287128712871\n",
      "Precision: 0.9986111111111111 \n",
      "Recall: 0.9958448753462604 \n",
      "Aging Rate: 0.4752475247524752\n",
      "\u001b[32m[I 2021-12-13 13:15:43,452]\u001b[0m Trial 29 finished with value: 0.9960720763174921 and parameters: {'n_estimators': 700, 'min_samples_split': 2, 'max_depth': 18}. Best is trial 23 with value: 0.9965058233148252.\u001b[0m\n",
      "Precision: 0.9986559139784946 \n",
      "Recall: 0.9919893190921228 \n",
      "Aging Rate: 0.4910891089108911\n",
      "Precision: 0.9972972972972973 \n",
      "Recall: 0.9932705248990579 \n",
      "Aging Rate: 0.4884488448844885\n",
      "Precision: 0.9972067039106145 \n",
      "Recall: 0.9767441860465116 \n",
      "Aging Rate: 0.4726072607260726\n",
      "\u001b[32m[I 2021-12-13 13:15:46,185]\u001b[0m Trial 30 finished with value: 0.9939439045873986 and parameters: {'n_estimators': 700, 'min_samples_split': 2, 'max_depth': 21}. Best is trial 23 with value: 0.9965058233148252.\u001b[0m\n",
      "Precision: 0.9947780678851175 \n",
      "Recall: 0.9883268482490273 \n",
      "Aging Rate: 0.5056105610561056\n",
      "Precision: 0.9960886571056062 \n",
      "Recall: 0.9934980494148244 \n",
      "Aging Rate: 0.5062706270627063\n",
      "Precision: 0.9960578186596584 \n",
      "Recall: 0.9960578186596584 \n",
      "Aging Rate: 0.5023102310231023\n",
      "\u001b[32m[I 2021-12-13 13:15:49,087]\u001b[0m Trial 31 finished with value: 0.9945527505103576 and parameters: {'n_estimators': 700, 'min_samples_split': 2, 'max_depth': 18}. Best is trial 23 with value: 0.9965058233148252.\u001b[0m\n",
      "Precision: 0.9973262032085561 \n",
      "Recall: 0.9907038512616202 \n",
      "Aging Rate: 0.49372937293729374\n",
      "Precision: 0.995945945945946 \n",
      "Recall: 0.9879356568364611 \n",
      "Aging Rate: 0.4884488448844885\n",
      "Precision: 1.0 \n",
      "Recall: 0.9921363040629095 \n",
      "Aging Rate: 0.4996699669966997\n",
      "\u001b[32m[I 2021-12-13 13:15:52,007]\u001b[0m Trial 32 finished with value: 0.9950446843936614 and parameters: {'n_estimators': 700, 'min_samples_split': 2, 'max_depth': 18}. Best is trial 23 with value: 0.9965058233148252.\u001b[0m\n",
      "Precision: 0.99734395750332 \n",
      "Recall: 0.9894598155467721 \n",
      "Aging Rate: 0.497029702970297\n",
      "Precision: 0.994729907773386 \n",
      "Recall: 0.9856396866840731 \n",
      "Aging Rate: 0.500990099009901\n",
      "Precision: 0.996078431372549 \n",
      "Recall: 0.9883268482490273 \n",
      "Aging Rate: 0.504950495049505\n",
      "\u001b[32m[I 2021-12-13 13:15:54,573]\u001b[0m Trial 33 finished with value: 0.9930677677485634 and parameters: {'n_estimators': 700, 'min_samples_split': 27, 'max_depth': 21}. Best is trial 23 with value: 0.9965058233148252.\u001b[0m\n"
     ]
    },
    {
     "name": "stdout",
     "output_type": "stream",
     "text": [
      "Precision: 0.8993006993006993 \n",
      "Recall: 0.8383311603650587 \n",
      "Aging Rate: 0.47194719471947194\n",
      "Precision: 0.8893557422969187 \n",
      "Recall: 0.8455392809587217 \n",
      "Aging Rate: 0.47128712871287126\n",
      "Precision: 0.9154518950437318 \n",
      "Recall: 0.8061617458279846 \n",
      "Aging Rate: 0.4528052805280528\n",
      "\u001b[32m[I 2021-12-13 13:15:57,603]\u001b[0m Trial 34 finished with value: 0.8740923231624631 and parameters: {'n_estimators': 900, 'min_samples_split': 27, 'max_depth': 3}. Best is trial 23 with value: 0.9965058233148252.\u001b[0m\n",
      "Precision: 0.9933155080213903 \n",
      "Recall: 0.9919893190921228 \n",
      "Aging Rate: 0.49372937293729374\n",
      "Precision: 0.9973118279569892 \n",
      "Recall: 0.9973118279569892 \n",
      "Aging Rate: 0.4910891089108911\n",
      "Precision: 0.9972677595628415 \n",
      "Recall: 0.989159891598916 \n",
      "Aging Rate: 0.48316831683168315\n",
      "\u001b[32m[I 2021-12-13 13:16:00,515]\u001b[0m Trial 35 finished with value: 0.994827719967781 and parameters: {'n_estimators': 700, 'min_samples_split': 7, 'max_depth': 15}. Best is trial 23 with value: 0.9965058233148252.\u001b[0m\n",
      "Precision: 0.9961734693877551 \n",
      "Recall: 0.9961734693877551 \n",
      "Aging Rate: 0.5174917491749175\n",
      "Precision: 0.9972972972972973 \n",
      "Recall: 0.9892761394101877 \n",
      "Aging Rate: 0.4884488448844885\n",
      "Precision: 0.9934383202099738 \n",
      "Recall: 0.9908376963350786 \n",
      "Aging Rate: 0.502970297029703\n",
      "\u001b[32m[I 2021-12-13 13:16:03,406]\u001b[0m Trial 36 finished with value: 0.9943562445017937 and parameters: {'n_estimators': 700, 'min_samples_split': 2, 'max_depth': 15}. Best is trial 23 with value: 0.9965058233148252.\u001b[0m\n",
      "Precision: 1.0 \n",
      "Recall: 0.9907407407407407 \n",
      "Aging Rate: 0.49438943894389437\n",
      "Precision: 1.0 \n",
      "Recall: 0.9880794701986755 \n",
      "Aging Rate: 0.4924092409240924\n",
      "Precision: 0.9959731543624161 \n",
      "Recall: 0.9893333333333333 \n",
      "Aging Rate: 0.49174917491749176\n",
      "\u001b[32m[I 2021-12-13 13:16:05,394]\u001b[0m Trial 37 finished with value: 0.9952983300374374 and parameters: {'n_estimators': 500, 'min_samples_split': 2, 'max_depth': 15}. Best is trial 23 with value: 0.9965058233148252.\u001b[0m\n",
      "Precision: 0.9986893840104849 \n",
      "Recall: 0.9921875 \n",
      "Aging Rate: 0.5036303630363036\n",
      "Precision: 1.0 \n",
      "Recall: 0.9862068965517241 \n",
      "Aging Rate: 0.47194719471947194\n",
      "Precision: 0.997364953886693 \n",
      "Recall: 0.9882506527415144 \n",
      "Aging Rate: 0.500990099009901\n",
      "\u001b[32m[I 2021-12-13 13:16:08,306]\u001b[0m Trial 38 finished with value: 0.9951312245147724 and parameters: {'n_estimators': 700, 'min_samples_split': 2, 'max_depth': 18}. Best is trial 23 with value: 0.9965058233148252.\u001b[0m\n",
      "Precision: 1.0 \n",
      "Recall: 0.9853723404255319 \n",
      "Aging Rate: 0.4891089108910891\n",
      "Precision: 0.9934980494148244 \n",
      "Recall: 0.9922077922077922 \n",
      "Aging Rate: 0.5075907590759076\n",
      "Precision: 0.9971988795518207 \n",
      "Recall: 0.9916434540389972 \n",
      "Aging Rate: 0.47128712871287126\n",
      "\u001b[32m[I 2021-12-13 13:16:09,142]\u001b[0m Trial 39 finished with value: 0.9943030729591342 and parameters: {'n_estimators': 100, 'min_samples_split': 2, 'max_depth': 15}. Best is trial 23 with value: 0.9965058233148252.\u001b[0m\n",
      "Precision: 0.9961290322580645 \n",
      "Recall: 0.9884763124199744 \n",
      "Aging Rate: 0.5115511551155115\n",
      "Precision: 0.9948387096774194 \n",
      "Recall: 0.9935567010309279 \n",
      "Aging Rate: 0.5115511551155115\n",
      "Precision: 0.9932249322493225 \n",
      "Recall: 0.9932249322493225 \n",
      "Aging Rate: 0.4871287128712871\n",
      "\u001b[32m[I 2021-12-13 13:16:12,051]\u001b[0m Trial 40 finished with value: 0.9936540594802384 and parameters: {'n_estimators': 700, 'min_samples_split': 12, 'max_depth': 21}. Best is trial 23 with value: 0.9965058233148252.\u001b[0m\n",
      "Precision: 0.9986282578875172 \n",
      "Recall: 0.9931787175989086 \n",
      "Aging Rate: 0.48118811881188117\n",
      "Precision: 0.9972640218878249 \n",
      "Recall: 0.9931880108991825 \n",
      "Aging Rate: 0.48250825082508253\n",
      "Precision: 0.9960106382978723 \n",
      "Recall: 0.9829396325459318 \n",
      "Aging Rate: 0.49636963696369635\n",
      "\u001b[32m[I 2021-12-13 13:16:14,169]\u001b[0m Trial 41 finished with value: 0.9945725256306234 and parameters: {'n_estimators': 500, 'min_samples_split': 12, 'max_depth': 18}. Best is trial 23 with value: 0.9965058233148252.\u001b[0m\n",
      "Precision: 0.9945652173913043 \n",
      "Recall: 0.9932157394843962 \n",
      "Aging Rate: 0.4858085808580858\n",
      "Precision: 0.9972144846796658 \n",
      "Recall: 0.9903181189488244 \n",
      "Aging Rate: 0.4739273927392739\n",
      "Precision: 0.9961880559085133 \n",
      "Recall: 0.9836888331242158 \n",
      "Aging Rate: 0.5194719471947195\n",
      "\u001b[32m[I 2021-12-13 13:16:15,475]\u001b[0m Trial 42 finished with value: 0.9934838829377988 and parameters: {'n_estimators': 300, 'min_samples_split': 12, 'max_depth': 15}. Best is trial 23 with value: 0.9965058233148252.\u001b[0m\n",
      "Precision: 0.9972489683631361 \n",
      "Recall: 0.9837177747625508 \n",
      "Aging Rate: 0.47986798679867987\n",
      "Precision: 0.9919246298788694 \n",
      "Recall: 0.9892617449664429 \n",
      "Aging Rate: 0.4904290429042904\n",
      "Precision: 0.9934036939313984 \n",
      "Recall: 0.9973509933774835 \n",
      "Aging Rate: 0.5003300330033004\n",
      "\u001b[32m[I 2021-12-13 13:16:17,555]\u001b[0m Trial 43 finished with value: 0.9927068418819966 and parameters: {'n_estimators': 500, 'min_samples_split': 7, 'max_depth': 18}. Best is trial 23 with value: 0.9965058233148252.\u001b[0m\n",
      "Precision: 1.0 \n",
      "Recall: 0.992 \n",
      "Aging Rate: 0.4910891089108911\n",
      "Precision: 0.9946808510638298 \n",
      "Recall: 0.9894179894179894 \n",
      "Aging Rate: 0.49636963696369635\n",
      "Precision: 1.0 \n",
      "Recall: 0.9973190348525469 \n",
      "Aging Rate: 0.4910891089108911\n",
      "\u001b[32m[I 2021-12-13 13:16:19,543]\u001b[0m Trial 44 finished with value: 0.9963060518636753 and parameters: {'n_estimators': 500, 'min_samples_split': 7, 'max_depth': 21}. Best is trial 23 with value: 0.9965058233148252.\u001b[0m\n",
      "Precision: 0.9960681520314548 \n",
      "Recall: 0.9921671018276762 \n",
      "Aging Rate: 0.5036303630363036\n",
      "Precision: 0.9986338797814208 \n",
      "Recall: 0.9972714870395635 \n",
      "Aging Rate: 0.48316831683168315\n",
      "Precision: 0.996005326231691 \n",
      "Recall: 0.9868073878627969 \n",
      "Aging Rate: 0.4957095709570957\n",
      "\u001b[32m[I 2021-12-13 13:16:21,630]\u001b[0m Trial 45 finished with value: 0.9951592054520454 and parameters: {'n_estimators': 500, 'min_samples_split': 7, 'max_depth': 21}. Best is trial 23 with value: 0.9965058233148252.\u001b[0m\n",
      "Precision: 0.9986631016042781 \n",
      "Recall: 0.9894039735099338 \n",
      "Aging Rate: 0.49372937293729374\n",
      "Precision: 0.993573264781491 \n",
      "Recall: 0.985969387755102 \n",
      "Aging Rate: 0.5135313531353135\n",
      "Precision: 0.9986376021798365 \n",
      "Recall: 0.9865410497981157 \n",
      "Aging Rate: 0.4844884488448845\n",
      "\u001b[32m[I 2021-12-13 13:16:23,723]\u001b[0m Trial 46 finished with value: 0.9934603779285212 and parameters: {'n_estimators': 500, 'min_samples_split': 12, 'max_depth': 21}. Best is trial 23 with value: 0.9965058233148252.\u001b[0m\n",
      "Precision: 0.9895561357702349 \n",
      "Recall: 0.9895561357702349 \n",
      "Aging Rate: 0.5056105610561056\n",
      "Precision: 0.997364953886693 \n",
      "Recall: 0.9908376963350786 \n",
      "Aging Rate: 0.500990099009901\n",
      "Precision: 0.9973045822102425 \n",
      "Recall: 0.9932885906040269 \n",
      "Aging Rate: 0.4897689768976898\n",
      "\u001b[32m[I 2021-12-13 13:16:25,621]\u001b[0m Trial 47 finished with value: 0.9934721610069158 and parameters: {'n_estimators': 500, 'min_samples_split': 2, 'max_depth': 21}. Best is trial 23 with value: 0.9965058233148252.\u001b[0m\n",
      "Precision: 0.9919463087248322 \n",
      "Recall: 0.9775132275132276 \n",
      "Aging Rate: 0.49174917491749176\n",
      "Precision: 0.9894459102902374 \n",
      "Recall: 0.974025974025974 \n",
      "Aging Rate: 0.5003300330033004\n",
      "Precision: 0.9893758300132802 \n",
      "Recall: 0.9725848563968669 \n",
      "Aging Rate: 0.497029702970297\n",
      "\u001b[32m[I 2021-12-13 13:16:28,201]\u001b[0m Trial 48 finished with value: 0.984601690040818 and parameters: {'n_estimators': 700, 'min_samples_split': 7, 'max_depth': 9}. Best is trial 23 with value: 0.9965058233148252.\u001b[0m\n",
      "Precision: 0.9959404600811907 \n",
      "Recall: 0.9919137466307277 \n",
      "Aging Rate: 0.4877887788778878\n",
      "Precision: 0.9948320413436692 \n",
      "Recall: 0.9948320413436692 \n",
      "Aging Rate: 0.5108910891089109\n"
     ]
    },
    {
     "name": "stderr",
     "output_type": "stream",
     "text": [
      "C:\\Users\\user\\anaconda3\\envs\\aging\\lib\\site-packages\\optuna\\samplers\\_tpe\\sampler.py:253: ExperimentalWarning: ``multivariate`` option is an experimental feature. The interface can change in the future.\n",
      "  ExperimentalWarning,\n",
      "\u001b[32m[I 2021-12-13 13:16:32,390]\u001b[0m A new study created in memory with name: no-name-fccba0fc-6231-48db-ba73-4565991670fc\u001b[0m\n"
     ]
    },
    {
     "name": "stdout",
     "output_type": "stream",
     "text": [
      "Precision: 0.997289972899729 \n",
      "Recall: 0.9865951742627346 \n",
      "Aging Rate: 0.4871287128712871\n",
      "\u001b[32m[I 2021-12-13 13:16:32,218]\u001b[0m Trial 49 finished with value: 0.9942441207108121 and parameters: {'n_estimators': 700, 'min_samples_split': 7, 'max_depth': 18}. Best is trial 23 with value: 0.9965058233148252.\u001b[0m\n",
      "Sampler is TPESampler\n",
      "Dataset6 :\n"
     ]
    },
    {
     "name": "stderr",
     "output_type": "stream",
     "text": [
      "C:\\Users\\user\\anaconda3\\envs\\aging\\lib\\site-packages\\optuna\\progress_bar.py:47: ExperimentalWarning: Progress bar is experimental (supported from v1.2.0). The interface can change in the future.\n",
      "  self._init_valid()\n"
     ]
    },
    {
     "data": {
      "application/vnd.jupyter.widget-view+json": {
       "model_id": "2b16c28fdb0340e5a1bd8cf4e9532fd9",
       "version_major": 2,
       "version_minor": 0
      },
      "text/plain": [
       "  0%|          | 0/50 [00:00<?, ?it/s]"
      ]
     },
     "metadata": {},
     "output_type": "display_data"
    },
    {
     "name": "stdout",
     "output_type": "stream",
     "text": [
      "Precision: 0.9518518518518518 \n",
      "Recall: 0.9799809342230696 \n",
      "Aging Rate: 0.5943863511282333\n",
      "Precision: 0.94375 \n",
      "Recall: 0.970615243342516 \n",
      "Aging Rate: 0.616400660429279\n",
      "Precision: 0.9356943150046598 \n",
      "Recall: 0.9776046738072055 \n",
      "Aging Rate: 0.5905338470005503\n",
      "\u001b[32m[I 2021-12-13 13:16:38,006]\u001b[0m Trial 0 finished with value: 0.9551334612431539 and parameters: {'n_estimators': 900, 'min_samples_split': 12, 'max_depth': 9}. Best is trial 0 with value: 0.9551334612431539.\u001b[0m\n",
      "Precision: 0.9830985915492958 \n",
      "Recall: 0.9961941008563273 \n",
      "Aging Rate: 0.5861309851403412\n",
      "Precision: 0.9758588672237697 \n",
      "Recall: 0.9933837429111532 \n",
      "Aging Rate: 0.592735277930655\n",
      "Precision: 0.9780018331805683 \n",
      "Recall: 0.994408201304753 \n",
      "Aging Rate: 0.600440286186021\n",
      "\u001b[32m[I 2021-12-13 13:16:40,377]\u001b[0m Trial 1 finished with value: 0.9845715488309316 and parameters: {'n_estimators': 500, 'min_samples_split': 27, 'max_depth': 21}. Best is trial 1 with value: 0.9845715488309316.\u001b[0m\n",
      "Precision: 0.6229508196721312 \n",
      "Recall: 0.9922630560928434 \n",
      "Aging Rate: 0.9064391854705559\n",
      "Precision: 0.6372549019607843 \n",
      "Recall: 0.99712368168744 \n",
      "Aging Rate: 0.8981838194826637\n",
      "Precision: 0.638561686298822 \n",
      "Recall: 0.9884836852207294 \n",
      "Aging Rate: 0.8877270225646671\n",
      "\u001b[32m[I 2021-12-13 13:16:43,716]\u001b[0m Trial 2 finished with value: 0.7278579417341536 and parameters: {'n_estimators': 900, 'min_samples_split': 27, 'max_depth': 3}. Best is trial 1 with value: 0.9845715488309316.\u001b[0m\n",
      "Precision: 0.984573502722323 \n",
      "Recall: 0.9981600735970562 \n",
      "Aging Rate: 0.6064942212438085\n",
      "Precision: 0.9810606060606061 \n",
      "Recall: 0.9961538461538462 \n",
      "Aging Rate: 0.5811777655476059\n",
      "Precision: 0.9908759124087592 \n",
      "Recall: 0.9972451790633609 \n",
      "Aging Rate: 0.6031920748486517\n",
      "\u001b[32m[I 2021-12-13 13:16:47,759]\u001b[0m Trial 3 finished with value: 0.9896741659885876 and parameters: {'n_estimators': 900, 'min_samples_split': 7, 'max_depth': 21}. Best is trial 3 with value: 0.9896741659885876.\u001b[0m\n",
      "Precision: 0.9861751152073732 \n",
      "Recall: 0.9972041006523765 \n",
      "Aging Rate: 0.597138139790864\n",
      "Precision: 0.9837476099426387 \n",
      "Recall: 0.9961277831558567 \n",
      "Aging Rate: 0.5756741882223445\n",
      "Precision: 0.9742173112338858 \n",
      "Recall: 0.9915651358950328 \n",
      "Aging Rate: 0.5976884975233901\n",
      "\u001b[32m[I 2021-12-13 13:16:49,951]\u001b[0m Trial 4 finished with value: 0.9862261176636525 and parameters: {'n_estimators': 500, 'min_samples_split': 17, 'max_depth': 18}. Best is trial 3 with value: 0.9896741659885876.\u001b[0m\n",
      "Precision: 0.9851988899167438 \n",
      "Recall: 0.9897769516728625 \n",
      "Aging Rate: 0.5949367088607594\n",
      "Precision: 0.9743833017077799 \n",
      "Recall: 0.9922705314009662 \n",
      "Aging Rate: 0.5800770500825536\n",
      "Precision: 0.9799809342230696 \n",
      "Recall: 0.9941972920696325 \n",
      "Aging Rate: 0.5773252614199229\n",
      "\u001b[32m[I 2021-12-13 13:16:52,850]\u001b[0m Trial 5 finished with value: 0.9842139256515647 and parameters: {'n_estimators': 700, 'min_samples_split': 27, 'max_depth': 15}. Best is trial 3 with value: 0.9896741659885876.\u001b[0m\n",
      "Precision: 0.9855203619909503 \n",
      "Recall: 0.9990825688073395 \n",
      "Aging Rate: 0.6081452944413869\n",
      "Precision: 0.9803001876172608 \n",
      "Recall: 0.9980897803247374 \n",
      "Aging Rate: 0.5866813428728673\n",
      "Precision: 0.987037037037037 \n",
      "Recall: 0.9953314659197012 \n",
      "Aging Rate: 0.5943863511282333\n",
      "\u001b[32m[I 2021-12-13 13:16:54,276]\u001b[0m Trial 6 finished with value: 0.9889993680777174 and parameters: {'n_estimators': 300, 'min_samples_split': 7, 'max_depth': 18}. Best is trial 3 with value: 0.9896741659885876.\u001b[0m\n",
      "Precision: 0.9415467625899281 \n",
      "Recall: 0.9785046728971962 \n",
      "Aging Rate: 0.6119977985690699\n",
      "Precision: 0.926605504587156 \n",
      "Recall: 0.9702209414024976 \n",
      "Aging Rate: 0.5998899284534948\n",
      "Precision: 0.9348623853211009 \n",
      "Recall: 0.9714013346043852 \n",
      "Aging Rate: 0.5998899284534948\n",
      "\u001b[32m[I 2021-12-13 13:16:57,314]\u001b[0m Trial 7 finished with value: 0.9480229495188532 and parameters: {'n_estimators': 900, 'min_samples_split': 27, 'max_depth': 9}. Best is trial 3 with value: 0.9896741659885876.\u001b[0m\n",
      "Precision: 0.9832558139534884 \n",
      "Recall: 0.995291902071563 \n",
      "Aging Rate: 0.5916345624656026\n",
      "Precision: 0.9799235181644359 \n",
      "Recall: 0.98747591522158 \n",
      "Aging Rate: 0.5756741882223445\n",
      "Precision: 0.9870609981515711 \n",
      "Recall: 0.994413407821229 \n",
      "Aging Rate: 0.5954870665932857\n",
      "\u001b[32m[I 2021-12-13 13:17:00,237]\u001b[0m Trial 8 finished with value: 0.9866264889859194 and parameters: {'n_estimators': 700, 'min_samples_split': 27, 'max_depth': 15}. Best is trial 3 with value: 0.9896741659885876.\u001b[0m\n",
      "Precision: 0.8369565217391305 \n",
      "Recall: 0.9615754082612872 \n",
      "Aging Rate: 0.6582278481012658\n",
      "Precision: 0.8355371900826446 \n",
      "Recall: 0.9758687258687259 \n",
      "Aging Rate: 0.6659328563566318\n",
      "Precision: 0.8203062046736502 \n",
      "Recall: 0.9667616334283001 \n",
      "Aging Rate: 0.6829939460649422\n",
      "\u001b[32m[I 2021-12-13 13:17:01,988]\u001b[0m Trial 9 finished with value: 0.8755643023175819 and parameters: {'n_estimators': 500, 'min_samples_split': 7, 'max_depth': 6}. Best is trial 3 with value: 0.9896741659885876.\u001b[0m\n",
      "Precision: 0.9847942754919499 \n",
      "Recall: 0.9981867633726201 \n",
      "Aging Rate: 0.6152999449642268\n",
      "Precision: 0.9868913857677902 \n",
      "Recall: 0.9971617786187322 \n",
      "Aging Rate: 0.5877820583379196\n",
      "Precision: 0.9822595704948646 \n",
      "Recall: 0.9990503323836657 \n",
      "Aging Rate: 0.589433131535498\n",
      "\u001b[32m[I 2021-12-13 13:17:05,687]\u001b[0m Trial 10 finished with value: 0.989459022009011 and parameters: {'n_estimators': 900, 'min_samples_split': 2, 'max_depth': 21}. Best is trial 3 with value: 0.9896741659885876.\u001b[0m\n",
      "Precision: 0.9864734299516909 \n",
      "Recall: 0.9931906614785992 \n",
      "Aging Rate: 0.569620253164557\n",
      "Precision: 0.985941893158388 \n",
      "Recall: 0.9990503323836657 \n",
      "Aging Rate: 0.5872317006053935\n",
      "Precision: 0.9828571428571429 \n",
      "Recall: 0.9980657640232108 \n",
      "Aging Rate: 0.5778756191524491\n",
      "\u001b[32m[I 2021-12-13 13:17:09,419]\u001b[0m Trial 11 finished with value: 0.9892602709604436 and parameters: {'n_estimators': 900, 'min_samples_split': 7, 'max_depth': 21}. Best is trial 3 with value: 0.9896741659885876.\u001b[0m\n",
      "Precision: 0.984171322160149 \n",
      "Recall: 0.9971698113207547 \n",
      "Aging Rate: 0.5910842047330765\n",
      "Precision: 0.9851024208566108 \n",
      "Recall: 0.9952963311382879 \n",
      "Aging Rate: 0.5910842047330765\n",
      "Precision: 0.9864603481624759 \n",
      "Recall: 0.9912536443148688 \n",
      "Aging Rate: 0.5690698954320308\n",
      "\u001b[32m[I 2021-12-13 13:17:13,038]\u001b[0m Trial 12 finished with value: 0.9885800748326993 and parameters: {'n_estimators': 900, 'min_samples_split': 2, 'max_depth': 15}. Best is trial 3 with value: 0.9896741659885876.\u001b[0m\n",
      "Precision: 0.9808043875685558 \n",
      "Recall: 0.9990689013035382 \n",
      "Aging Rate: 0.6020913593835994\n",
      "Precision: 0.989786443825441 \n",
      "Recall: 0.9962616822429906 \n",
      "Aging Rate: 0.592735277930655\n",
      "Precision: 0.9887535145267105 \n",
      "Recall: 0.996222851746931 \n",
      "Aging Rate: 0.5872317006053935\n",
      "\u001b[32m[I 2021-12-13 13:17:15,213]\u001b[0m Trial 13 finished with value: 0.9902798399414513 and parameters: {'n_estimators': 500, 'min_samples_split': 2, 'max_depth': 21}. Best is trial 13 with value: 0.9902798399414513.\u001b[0m\n",
      "Precision: 0.9819563152896487 \n",
      "Recall: 0.9942307692307693 \n",
      "Aging Rate: 0.5795266923500275\n",
      "Precision: 0.9887640449438202 \n",
      "Recall: 0.993414863593603 \n",
      "Aging Rate: 0.5877820583379196\n",
      "Precision: 0.9876425855513308 \n",
      "Recall: 0.9990384615384615 \n",
      "Aging Rate: 0.5789763346175014\n",
      "\u001b[32m[I 2021-12-13 13:17:17,350]\u001b[0m Trial 14 finished with value: 0.9894961303014952 and parameters: {'n_estimators': 500, 'min_samples_split': 2, 'max_depth': 21}. Best is trial 13 with value: 0.9902798399414513.\u001b[0m\n",
      "Precision: 0.9320652173913043 \n",
      "Recall: 0.9661971830985916 \n",
      "Aging Rate: 0.6075949367088608\n",
      "Precision: 0.928505957836847 \n",
      "Recall: 0.9703065134099617 \n",
      "Aging Rate: 0.600440286186021\n",
      "Precision: 0.9359925788497218 \n",
      "Recall: 0.9748792270531401 \n",
      "Aging Rate: 0.593285635663181\n",
      "\u001b[32m[I 2021-12-13 13:17:18,236]\u001b[0m Trial 15 finished with value: 0.9456110843539451 and parameters: {'n_estimators': 100, 'min_samples_split': 22, 'max_depth': 9}. Best is trial 13 with value: 0.9902798399414513.\u001b[0m\n",
      "Precision: 0.9923224568138196 \n",
      "Recall: 0.9961464354527938 \n",
      "Aging Rate: 0.57347275729224\n",
      "Precision: 0.9895337773549001 \n",
      "Recall: 0.9980806142034548 \n",
      "Aging Rate: 0.5784259768849752\n",
      "Precision: 0.9836538461538461 \n",
      "Recall: 0.9961051606621227 \n",
      "Aging Rate: 0.5723720418271877\n",
      "\u001b[32m[I 2021-12-13 13:17:19,148]\u001b[0m Trial 16 finished with value: 0.9914632411867442 and parameters: {'n_estimators': 100, 'min_samples_split': 2, 'max_depth': 21}. Best is trial 16 with value: 0.9914632411867442.\u001b[0m\n"
     ]
    },
    {
     "name": "stdout",
     "output_type": "stream",
     "text": [
      "Precision: 0.986449864498645 \n",
      "Recall: 0.9909255898366606 \n",
      "Aging Rate: 0.6092460099064392\n",
      "Precision: 0.9837631327602674 \n",
      "Recall: 0.9970958373668926 \n",
      "Aging Rate: 0.5762245459548707\n",
      "Precision: 0.9868791002811621 \n",
      "Recall: 0.9971590909090909 \n",
      "Aging Rate: 0.5872317006053935\n",
      "\u001b[32m[I 2021-12-13 13:17:20,036]\u001b[0m Trial 17 finished with value: 0.9890444936659316 and parameters: {'n_estimators': 100, 'min_samples_split': 2, 'max_depth': 18}. Best is trial 16 with value: 0.9914632411867442.\u001b[0m\n",
      "Precision: 0.974025974025974 \n",
      "Recall: 0.995260663507109 \n",
      "Aging Rate: 0.593285635663181\n",
      "Precision: 0.9765037593984962 \n",
      "Recall: 0.9923591212989494 \n",
      "Aging Rate: 0.5855806274078151\n",
      "Precision: 0.9787234042553191 \n",
      "Recall: 0.9952963311382879 \n",
      "Aging Rate: 0.5949367088607594\n",
      "\u001b[32m[I 2021-12-13 13:17:20,891]\u001b[0m Trial 18 finished with value: 0.9827813159882824 and parameters: {'n_estimators': 100, 'min_samples_split': 17, 'max_depth': 18}. Best is trial 16 with value: 0.9914632411867442.\u001b[0m\n",
      "Precision: 0.9745283018867924 \n",
      "Recall: 0.991362763915547 \n",
      "Aging Rate: 0.5833791964777105\n",
      "Precision: 0.9709355131698456 \n",
      "Recall: 0.987072945521699 \n",
      "Aging Rate: 0.6059438635112824\n",
      "Precision: 0.9669499527856469 \n",
      "Recall: 0.9884169884169884 \n",
      "Aging Rate: 0.5828288387451843\n",
      "\u001b[32m[I 2021-12-13 13:17:21,767]\u001b[0m Trial 19 finished with value: 0.9772587003327367 and parameters: {'n_estimators': 100, 'min_samples_split': 2, 'max_depth': 12}. Best is trial 16 with value: 0.9914632411867442.\u001b[0m\n",
      "Precision: 0.9785247432306255 \n",
      "Recall: 0.9943074003795066 \n",
      "Aging Rate: 0.589433131535498\n",
      "Precision: 0.9849056603773585 \n",
      "Recall: 0.9895734597156398 \n",
      "Aging Rate: 0.5833791964777105\n",
      "Precision: 0.9810785241248817 \n",
      "Recall: 0.9895038167938931 \n",
      "Aging Rate: 0.5817281232801321\n",
      "\u001b[32m[I 2021-12-13 13:17:23,975]\u001b[0m Trial 20 finished with value: 0.9849414951129214 and parameters: {'n_estimators': 500, 'min_samples_split': 2, 'max_depth': 12}. Best is trial 16 with value: 0.9914632411867442.\u001b[0m\n",
      "Precision: 0.9823091247672253 \n",
      "Recall: 0.997164461247637 \n",
      "Aging Rate: 0.5910842047330765\n",
      "Precision: 0.9824074074074074 \n",
      "Recall: 0.996244131455399 \n",
      "Aging Rate: 0.5943863511282333\n",
      "Precision: 0.9921722113502935 \n",
      "Recall: 0.9970501474926253 \n",
      "Aging Rate: 0.5624656026417171\n",
      "\u001b[32m[I 2021-12-13 13:17:28,105]\u001b[0m Trial 21 finished with value: 0.9896242232543545 and parameters: {'n_estimators': 900, 'min_samples_split': 17, 'max_depth': 21}. Best is trial 16 with value: 0.9914632411867442.\u001b[0m\n",
      "Precision: 0.9848628192999054 \n",
      "Recall: 0.9971264367816092 \n",
      "Aging Rate: 0.5817281232801321\n",
      "Precision: 0.9820245979186376 \n",
      "Recall: 0.9961612284069098 \n",
      "Aging Rate: 0.5817281232801321\n",
      "Precision: 0.9871794871794872 \n",
      "Recall: 0.9981481481481481 \n",
      "Aging Rate: 0.6009906439185471\n",
      "\u001b[32m[I 2021-12-13 13:17:28,961]\u001b[0m Trial 22 finished with value: 0.9891368218258513 and parameters: {'n_estimators': 100, 'min_samples_split': 2, 'max_depth': 21}. Best is trial 16 with value: 0.9914632411867442.\u001b[0m\n",
      "Precision: 0.9788213627992634 \n",
      "Recall: 0.9971857410881801 \n",
      "Aging Rate: 0.5976884975233901\n",
      "Precision: 0.9794007490636704 \n",
      "Recall: 0.9971401334604385 \n",
      "Aging Rate: 0.5877820583379196\n",
      "Precision: 0.9774436090225563 \n",
      "Recall: 0.99712368168744 \n",
      "Aging Rate: 0.5855806274078151\n",
      "\u001b[32m[I 2021-12-13 13:17:31,072]\u001b[0m Trial 23 finished with value: 0.9851687155291861 and parameters: {'n_estimators': 500, 'min_samples_split': 2, 'max_depth': 18}. Best is trial 16 with value: 0.9914632411867442.\u001b[0m\n",
      "Precision: 0.6536277602523659 \n",
      "Recall: 0.9876072449952336 \n",
      "Aging Rate: 0.872317006053935\n",
      "Precision: 0.6875800256081946 \n",
      "Recall: 0.9799270072992701 \n",
      "Aging Rate: 0.8596587782058338\n",
      "Precision: 0.6329884357881923 \n",
      "Recall: 0.9952153110047847 \n",
      "Aging Rate: 0.9042377545404513\n",
      "\u001b[32m[I 2021-12-13 13:17:32,827]\u001b[0m Trial 24 finished with value: 0.7476592585780265 and parameters: {'n_estimators': 500, 'min_samples_split': 27, 'max_depth': 3}. Best is trial 16 with value: 0.9914632411867442.\u001b[0m\n",
      "Precision: 0.9802816901408451 \n",
      "Recall: 0.999043062200957 \n",
      "Aging Rate: 0.5861309851403412\n",
      "Precision: 0.983947119924457 \n",
      "Recall: 0.9914367269267365 \n",
      "Aging Rate: 0.5828288387451843\n",
      "Precision: 0.9924528301886792 \n",
      "Recall: 0.9981024667931688 \n",
      "Aging Rate: 0.5833791964777105\n",
      "\u001b[32m[I 2021-12-13 13:17:34,934]\u001b[0m Trial 25 finished with value: 0.9893545596972895 and parameters: {'n_estimators': 500, 'min_samples_split': 12, 'max_depth': 21}. Best is trial 16 with value: 0.9914632411867442.\u001b[0m\n",
      "Precision: 0.9812558575445174 \n",
      "Recall: 0.9961941008563273 \n",
      "Aging Rate: 0.5872317006053935\n",
      "Precision: 0.9811498586239397 \n",
      "Recall: 0.9980824544582934 \n",
      "Aging Rate: 0.5839295542102366\n",
      "Precision: 0.9810246679316889 \n",
      "Recall: 0.9980694980694981 \n",
      "Aging Rate: 0.5800770500825536\n",
      "\u001b[32m[I 2021-12-13 13:17:36,362]\u001b[0m Trial 26 finished with value: 0.9869513535447306 and parameters: {'n_estimators': 300, 'min_samples_split': 2, 'max_depth': 21}. Best is trial 16 with value: 0.9914632411867442.\u001b[0m\n",
      "Precision: 0.9780420860018298 \n",
      "Recall: 0.9990654205607477 \n",
      "Aging Rate: 0.6015410016510732\n",
      "Precision: 0.9812909260991581 \n",
      "Recall: 0.9952561669829222 \n",
      "Aging Rate: 0.5883324160704458\n",
      "Precision: 0.9859287054409006 \n",
      "Recall: 0.9981006647673314 \n",
      "Aging Rate: 0.5866813428728673\n",
      "\u001b[32m[I 2021-12-13 13:17:39,378]\u001b[0m Trial 27 finished with value: 0.9873523585124521 and parameters: {'n_estimators': 700, 'min_samples_split': 7, 'max_depth': 21}. Best is trial 16 with value: 0.9914632411867442.\u001b[0m\n",
      "Precision: 0.9813606710158435 \n",
      "Recall: 0.995274102079395 \n",
      "Aging Rate: 0.5905338470005503\n",
      "Precision: 0.9860205032618826 \n",
      "Recall: 0.9990557129367328 \n",
      "Aging Rate: 0.5905338470005503\n",
      "Precision: 0.9840823970037453 \n",
      "Recall: 0.9990494296577946 \n",
      "Aging Rate: 0.5877820583379196\n",
      "\u001b[32m[I 2021-12-13 13:17:40,248]\u001b[0m Trial 28 finished with value: 0.9888056204121924 and parameters: {'n_estimators': 100, 'min_samples_split': 7, 'max_depth': 21}. Best is trial 16 with value: 0.9914632411867442.\u001b[0m\n",
      "Precision: 0.9821260583254939 \n",
      "Recall: 0.9905123339658444 \n",
      "Aging Rate: 0.5850302696752889\n",
      "Precision: 0.9793233082706767 \n",
      "Recall: 0.9858088930936613 \n",
      "Aging Rate: 0.5855806274078151\n",
      "Precision: 0.9812382739212008 \n",
      "Recall: 0.9849340866290018 \n",
      "Aging Rate: 0.5866813428728673\n",
      "\u001b[32m[I 2021-12-13 13:17:43,627]\u001b[0m Trial 29 finished with value: 0.9831141800228868 and parameters: {'n_estimators': 900, 'min_samples_split': 12, 'max_depth': 12}. Best is trial 16 with value: 0.9914632411867442.\u001b[0m\n",
      "Precision: 0.9840823970037453 \n",
      "Recall: 0.9952651515151515 \n",
      "Aging Rate: 0.5877820583379196\n",
      "Precision: 0.9830508474576272 \n",
      "Recall: 0.9961832061068703 \n",
      "Aging Rate: 0.5844799119427628\n",
      "Precision: 0.9870609981515711 \n",
      "Recall: 0.9990645463049579 \n",
      "Aging Rate: 0.5954870665932857\n",
      "\u001b[32m[I 2021-12-13 13:17:46,844]\u001b[0m Trial 30 finished with value: 0.9890554813305991 and parameters: {'n_estimators': 700, 'min_samples_split': 2, 'max_depth': 21}. Best is trial 16 with value: 0.9914632411867442.\u001b[0m\n",
      "Precision: 0.9840225563909775 \n",
      "Recall: 0.998093422306959 \n",
      "Aging Rate: 0.5855806274078151\n",
      "Precision: 0.9816681943171403 \n",
      "Recall: 0.9962790697674418 \n",
      "Aging Rate: 0.600440286186021\n",
      "Precision: 0.9732472324723247 \n",
      "Recall: 0.9990530303030303 \n",
      "Aging Rate: 0.596587782058338\n",
      "\u001b[32m[I 2021-12-13 13:17:50,235]\u001b[0m Trial 31 finished with value: 0.9861009699891247 and parameters: {'n_estimators': 900, 'min_samples_split': 17, 'max_depth': 21}. Best is trial 16 with value: 0.9914632411867442.\u001b[0m\n",
      "Precision: 0.9832402234636871 \n",
      "Recall: 0.9952874646559849 \n",
      "Aging Rate: 0.5910842047330765\n",
      "Precision: 0.9772727272727273 \n",
      "Recall: 0.9961389961389961 \n",
      "Aging Rate: 0.5811777655476059\n",
      "Precision: 0.9802073515551367 \n",
      "Recall: 0.9961685823754789 \n",
      "Aging Rate: 0.5839295542102366\n",
      "\u001b[32m[I 2021-12-13 13:17:51,106]\u001b[0m Trial 32 finished with value: 0.9858064363604968 and parameters: {'n_estimators': 100, 'min_samples_split': 32, 'max_depth': 21}. Best is trial 16 with value: 0.9914632411867442.\u001b[0m\n",
      "Precision: 0.9860205032618826 \n",
      "Recall: 0.9971724787935909 \n",
      "Aging Rate: 0.5905338470005503\n",
      "Precision: 0.9821930646672915 \n",
      "Recall: 0.9971455756422455 \n",
      "Aging Rate: 0.5872317006053935\n",
      "Precision: 0.9866412213740458 \n",
      "Recall: 0.9971070395371263 \n",
      "Aging Rate: 0.5767749036873968\n",
      "\u001b[32m[I 2021-12-13 13:17:54,809]\u001b[0m Trial 33 finished with value: 0.9893046338983872 and parameters: {'n_estimators': 900, 'min_samples_split': 17, 'max_depth': 18}. Best is trial 16 with value: 0.9914632411867442.\u001b[0m\n"
     ]
    },
    {
     "name": "stdout",
     "output_type": "stream",
     "text": [
      "Precision: 0.9863760217983651 \n",
      "Recall: 0.9945054945054945 \n",
      "Aging Rate: 0.6059438635112824\n",
      "Precision: 0.9851162790697674 \n",
      "Recall: 0.9943661971830986 \n",
      "Aging Rate: 0.5916345624656026\n",
      "Precision: 0.9793233082706767 \n",
      "Recall: 0.9942748091603053 \n",
      "Aging Rate: 0.5855806274078151\n",
      "\u001b[32m[I 2021-12-13 13:17:57,706]\u001b[0m Trial 34 finished with value: 0.987455799561658 and parameters: {'n_estimators': 700, 'min_samples_split': 12, 'max_depth': 18}. Best is trial 16 with value: 0.9914632411867442.\u001b[0m\n",
      "Precision: 0.9842738205365402 \n",
      "Recall: 0.9953227315247896 \n",
      "Aging Rate: 0.5949367088607594\n",
      "Precision: 0.9835013748854262 \n",
      "Recall: 0.998139534883721 \n",
      "Aging Rate: 0.600440286186021\n",
      "Precision: 0.9839924670433146 \n",
      "Recall: 0.996186844613918 \n",
      "Aging Rate: 0.5844799119427628\n",
      "\u001b[32m[I 2021-12-13 13:18:01,302]\u001b[0m Trial 35 finished with value: 0.9884307811129012 and parameters: {'n_estimators': 900, 'min_samples_split': 22, 'max_depth': 21}. Best is trial 16 with value: 0.9914632411867442.\u001b[0m\n",
      "Precision: 0.9860205032618826 \n",
      "Recall: 0.9952963311382879 \n",
      "Aging Rate: 0.5905338470005503\n",
      "Precision: 0.9834710743801653 \n",
      "Recall: 0.9981360671015843 \n",
      "Aging Rate: 0.5993395707209687\n",
      "Precision: 0.9808795411089866 \n",
      "Recall: 0.9951503394762367 \n",
      "Aging Rate: 0.5756741882223445\n",
      "\u001b[32m[I 2021-12-13 13:18:04,986]\u001b[0m Trial 36 finished with value: 0.9880033381985003 and parameters: {'n_estimators': 900, 'min_samples_split': 12, 'max_depth': 21}. Best is trial 16 with value: 0.9914632411867442.\u001b[0m\n",
      "Precision: 0.9589552238805971 \n",
      "Recall: 0.9922779922779923 \n",
      "Aging Rate: 0.5899834892680242\n",
      "Precision: 0.9647822057460612 \n",
      "Recall: 0.9914285714285714 \n",
      "Aging Rate: 0.5938359933957073\n",
      "Precision: 0.9619565217391305 \n",
      "Recall: 0.9869888475836431 \n",
      "Aging Rate: 0.6075949367088608\n",
      "\u001b[32m[I 2021-12-13 13:18:05,856]\u001b[0m Trial 37 finished with value: 0.9719064174156063 and parameters: {'n_estimators': 100, 'min_samples_split': 32, 'max_depth': 12}. Best is trial 16 with value: 0.9914632411867442.\u001b[0m\n",
      "Precision: 0.9850467289719627 \n",
      "Recall: 0.9981060606060606 \n",
      "Aging Rate: 0.5888827738029719\n",
      "Precision: 0.987072945521699 \n",
      "Recall: 0.9972014925373134 \n",
      "Aging Rate: 0.5960374243258117\n",
      "Precision: 0.9879629629629629 \n",
      "Recall: 0.9953358208955224 \n",
      "Aging Rate: 0.5943863511282333\n",
      "\u001b[32m[I 2021-12-13 13:18:06,713]\u001b[0m Trial 38 finished with value: 0.9903361805982355 and parameters: {'n_estimators': 100, 'min_samples_split': 2, 'max_depth': 21}. Best is trial 16 with value: 0.9914632411867442.\u001b[0m\n",
      "Precision: 0.9781990521327014 \n",
      "Recall: 0.9961389961389961 \n",
      "Aging Rate: 0.5806274078150798\n",
      "Precision: 0.9868049010367578 \n",
      "Recall: 0.9971428571428571 \n",
      "Aging Rate: 0.5839295542102366\n",
      "Precision: 0.9876777251184834 \n",
      "Recall: 0.9980842911877394 \n",
      "Aging Rate: 0.5806274078150798\n",
      "\u001b[32m[I 2021-12-13 13:18:07,569]\u001b[0m Trial 39 finished with value: 0.9888277601066169 and parameters: {'n_estimators': 100, 'min_samples_split': 2, 'max_depth': 21}. Best is trial 16 with value: 0.9914632411867442.\u001b[0m\n",
      "Precision: 0.6649746192893401 \n",
      "Recall: 0.9748837209302326 \n",
      "Aging Rate: 0.8673637864611998\n",
      "Precision: 0.6574307304785895 \n",
      "Recall: 0.9802816901408451 \n",
      "Aging Rate: 0.8739680792515134\n",
      "Precision: 0.6442065491183879 \n",
      "Recall: 0.9798850574712644 \n",
      "Aging Rate: 0.8739680792515134\n",
      "\u001b[32m[I 2021-12-13 13:18:08,425]\u001b[0m Trial 40 finished with value: 0.7438675883842949 and parameters: {'n_estimators': 100, 'min_samples_split': 7, 'max_depth': 3}. Best is trial 16 with value: 0.9914632411867442.\u001b[0m\n",
      "Precision: 0.9865831842576028 \n",
      "Recall: 0.9972875226039783 \n",
      "Aging Rate: 0.6152999449642268\n",
      "Precision: 0.9906367041198502 \n",
      "Recall: 0.9981132075471698 \n",
      "Aging Rate: 0.5877820583379196\n",
      "Precision: 0.9812909260991581 \n",
      "Recall: 0.9943127962085309 \n",
      "Aging Rate: 0.5883324160704458\n",
      "\u001b[32m[I 2021-12-13 13:18:09,851]\u001b[0m Trial 41 finished with value: 0.9898882666352028 and parameters: {'n_estimators': 300, 'min_samples_split': 7, 'max_depth': 21}. Best is trial 16 with value: 0.9914632411867442.\u001b[0m\n",
      "Precision: 0.98992673992674 \n",
      "Recall: 0.9972324723247232 \n",
      "Aging Rate: 0.6009906439185471\n",
      "Precision: 0.9860594795539034 \n",
      "Recall: 0.9943767572633552 \n",
      "Aging Rate: 0.5921849201981287\n",
      "Precision: 0.9879294336118849 \n",
      "Recall: 0.99812382739212 \n",
      "Aging Rate: 0.592735277930655\n",
      "\u001b[32m[I 2021-12-13 13:18:11,251]\u001b[0m Trial 42 finished with value: 0.9910524664959363 and parameters: {'n_estimators': 300, 'min_samples_split': 12, 'max_depth': 21}. Best is trial 16 with value: 0.9914632411867442.\u001b[0m\n",
      "Precision: 0.9788018433179724 \n",
      "Recall: 0.9962476547842402 \n",
      "Aging Rate: 0.597138139790864\n",
      "Precision: 0.9843317972350231 \n",
      "Recall: 0.996268656716418 \n",
      "Aging Rate: 0.597138139790864\n",
      "Precision: 0.9808978032473734 \n",
      "Recall: 0.9903567984570878 \n",
      "Aging Rate: 0.5762245459548707\n",
      "\u001b[32m[I 2021-12-13 13:18:12,581]\u001b[0m Trial 43 finished with value: 0.9859632090449363 and parameters: {'n_estimators': 300, 'min_samples_split': 12, 'max_depth': 18}. Best is trial 16 with value: 0.9914632411867442.\u001b[0m\n",
      "Precision: 0.9838709677419355 \n",
      "Recall: 0.9971153846153846 \n",
      "Aging Rate: 0.5800770500825536\n",
      "Precision: 0.9853881278538813 \n",
      "Recall: 0.9953874538745388 \n",
      "Aging Rate: 0.6026417171161255\n",
      "Precision: 0.9798076923076923 \n",
      "Recall: 0.9990196078431373 \n",
      "Aging Rate: 0.5723720418271877\n",
      "\u001b[32m[I 2021-12-13 13:18:14,103]\u001b[0m Trial 44 finished with value: 0.988067051037926 and parameters: {'n_estimators': 300, 'min_samples_split': 7, 'max_depth': 21}. Best is trial 16 with value: 0.9914632411867442.\u001b[0m\n",
      "Precision: 0.9819168173598554 \n",
      "Recall: 0.9945054945054945 \n",
      "Aging Rate: 0.6086956521739131\n",
      "Precision: 0.9794776119402985 \n",
      "Recall: 0.9943181818181818 \n",
      "Aging Rate: 0.5899834892680242\n",
      "Precision: 0.9755639097744361 \n",
      "Recall: 0.9923518164435946 \n",
      "Aging Rate: 0.5855806274078151\n",
      "\u001b[32m[I 2021-12-13 13:18:15,406]\u001b[0m Trial 45 finished with value: 0.9842408288518804 and parameters: {'n_estimators': 300, 'min_samples_split': 22, 'max_depth': 21}. Best is trial 16 with value: 0.9914632411867442.\u001b[0m\n",
      "Precision: 0.9859943977591037 \n",
      "Recall: 0.9952874646559849 \n",
      "Aging Rate: 0.589433131535498\n",
      "Precision: 0.9876777251184834 \n",
      "Recall: 0.9942748091603053 \n",
      "Aging Rate: 0.5806274078150798\n",
      "Precision: 0.9872611464968153 \n",
      "Recall: 0.9954128440366973 \n",
      "Aging Rate: 0.6048431480462301\n",
      "\u001b[32m[I 2021-12-13 13:18:16,263]\u001b[0m Trial 46 finished with value: 0.9898475800657244 and parameters: {'n_estimators': 100, 'min_samples_split': 12, 'max_depth': 21}. Best is trial 16 with value: 0.9914632411867442.\u001b[0m\n",
      "Precision: 0.9918772563176895 \n",
      "Recall: 0.9972776769509982 \n",
      "Aging Rate: 0.6097963676389653\n",
      "Precision: 0.9829867674858223 \n",
      "Recall: 0.9980806142034548 \n",
      "Aging Rate: 0.5822784810126582\n",
      "Precision: 0.9849340866290018 \n",
      "Recall: 0.9971401334604385 \n",
      "Aging Rate: 0.5844799119427628\n",
      "\u001b[32m[I 2021-12-13 13:18:17,675]\u001b[0m Trial 47 finished with value: 0.9904920051429019 and parameters: {'n_estimators': 300, 'min_samples_split': 12, 'max_depth': 21}. Best is trial 16 with value: 0.9914632411867442.\u001b[0m\n",
      "Precision: 0.9794007490636704 \n",
      "Recall: 0.9952426260704091 \n",
      "Aging Rate: 0.5877820583379196\n",
      "Precision: 0.9843317972350231 \n",
      "Recall: 0.9953401677539608 \n",
      "Aging Rate: 0.597138139790864\n",
      "Precision: 0.9850885368126747 \n",
      "Recall: 0.9971698113207547 \n",
      "Aging Rate: 0.5905338470005503\n",
      "\u001b[32m[I 2021-12-13 13:18:19,086]\u001b[0m Trial 48 finished with value: 0.9875719873456382 and parameters: {'n_estimators': 300, 'min_samples_split': 12, 'max_depth': 21}. Best is trial 16 with value: 0.9914632411867442.\u001b[0m\n",
      "Precision: 0.9747899159663865 \n",
      "Recall: 0.997134670487106 \n",
      "Aging Rate: 0.589433131535498\n",
      "Precision: 0.9900090826521344 \n",
      "Recall: 0.9981684981684982 \n",
      "Aging Rate: 0.6059438635112824\n"
     ]
    },
    {
     "name": "stderr",
     "output_type": "stream",
     "text": [
      "C:\\Users\\user\\anaconda3\\envs\\aging\\lib\\site-packages\\optuna\\samplers\\_tpe\\sampler.py:253: ExperimentalWarning: ``multivariate`` option is an experimental feature. The interface can change in the future.\n",
      "  ExperimentalWarning,\n",
      "\u001b[32m[I 2021-12-13 13:18:19,989]\u001b[0m A new study created in memory with name: no-name-2fa53ab8-8287-40f4-991f-0a2d6d17128e\u001b[0m\n"
     ]
    },
    {
     "name": "stdout",
     "output_type": "stream",
     "text": [
      "Precision: 0.9830827067669173 \n",
      "Recall: 0.990530303030303 \n",
      "Aging Rate: 0.5855806274078151\n",
      "\u001b[32m[I 2021-12-13 13:18:19,942]\u001b[0m Trial 49 finished with value: 0.9871332290408644 and parameters: {'n_estimators': 100, 'min_samples_split': 2, 'max_depth': 18}. Best is trial 16 with value: 0.9914632411867442.\u001b[0m\n",
      "Sampler is TPESampler\n",
      "Dataset7 :\n"
     ]
    },
    {
     "name": "stderr",
     "output_type": "stream",
     "text": [
      "C:\\Users\\user\\anaconda3\\envs\\aging\\lib\\site-packages\\optuna\\progress_bar.py:47: ExperimentalWarning: Progress bar is experimental (supported from v1.2.0). The interface can change in the future.\n",
      "  self._init_valid()\n"
     ]
    },
    {
     "data": {
      "application/vnd.jupyter.widget-view+json": {
       "model_id": "0bb0330522394b9089a789d9cc10e75b",
       "version_major": 2,
       "version_minor": 0
      },
      "text/plain": [
       "  0%|          | 0/50 [00:00<?, ?it/s]"
      ]
     },
     "metadata": {},
     "output_type": "display_data"
    },
    {
     "name": "stdout",
     "output_type": "stream",
     "text": [
      "Precision: 1.0 \n",
      "Recall: 0.8952254641909815 \n",
      "Aging Rate: 0.4440789473684211\n",
      "Precision: 1.0 \n",
      "Recall: 0.8817345597897503 \n",
      "Aging Rate: 0.44144736842105264\n",
      "Precision: 1.0 \n",
      "Recall: 0.8865979381443299 \n",
      "Aging Rate: 0.45263157894736844\n",
      "\u001b[32m[I 2021-12-13 13:18:22,967]\u001b[0m Trial 0 finished with value: 0.9564961878975922 and parameters: {'n_estimators': 900, 'min_samples_split': 2, 'max_depth': 6}. Best is trial 0 with value: 0.9564961878975922.\u001b[0m\n",
      "Precision: 1.0 \n",
      "Recall: 0.8890322580645161 \n",
      "Aging Rate: 0.4532894736842105\n",
      "Precision: 1.0 \n",
      "Recall: 0.8993377483443709 \n",
      "Aging Rate: 0.44671052631578945\n",
      "Precision: 1.0 \n",
      "Recall: 0.8958333333333334 \n",
      "Aging Rate: 0.45263157894736844\n",
      "\u001b[32m[I 2021-12-13 13:18:24,719]\u001b[0m Trial 1 finished with value: 0.9593617498048248 and parameters: {'n_estimators': 500, 'min_samples_split': 27, 'max_depth': 6}. Best is trial 1 with value: 0.9593617498048248.\u001b[0m\n",
      "Precision: 1.0 \n",
      "Recall: 0.87716955941255 \n",
      "Aging Rate: 0.43223684210526314\n",
      "Precision: 1.0 \n",
      "Recall: 0.9029374201787995 \n",
      "Aging Rate: 0.4651315789473684\n",
      "Precision: 1.0 \n",
      "Recall: 0.8962386511024644 \n",
      "Aging Rate: 0.45460526315789473\n",
      "\u001b[32m[I 2021-12-13 13:18:26,000]\u001b[0m Trial 2 finished with value: 0.9582467669902507 and parameters: {'n_estimators': 300, 'min_samples_split': 2, 'max_depth': 12}. Best is trial 1 with value: 0.9593617498048248.\u001b[0m\n",
      "Precision: 1.0 \n",
      "Recall: 0.8996088657105606 \n",
      "Aging Rate: 0.45394736842105265\n",
      "Precision: 1.0 \n",
      "Recall: 0.8952879581151832 \n",
      "Aging Rate: 0.45\n",
      "Precision: 1.0 \n",
      "Recall: 0.91796875 \n",
      "Aging Rate: 0.46381578947368424\n",
      "\u001b[32m[I 2021-12-13 13:18:27,284]\u001b[0m Trial 3 finished with value: 0.9632687031530894 and parameters: {'n_estimators': 300, 'min_samples_split': 22, 'max_depth': 15}. Best is trial 3 with value: 0.9632687031530894.\u001b[0m\n",
      "Precision: 1.0 \n",
      "Recall: 0.8972081218274112 \n",
      "Aging Rate: 0.4651315789473684\n",
      "Precision: 1.0 \n",
      "Recall: 0.8997395833333334 \n",
      "Aging Rate: 0.45460526315789473\n",
      "Precision: 1.0 \n",
      "Recall: 0.8899328859060402 \n",
      "Aging Rate: 0.4361842105263158\n",
      "\u001b[32m[I 2021-12-13 13:18:29,508]\u001b[0m Trial 4 finished with value: 0.9597311839257587 and parameters: {'n_estimators': 700, 'min_samples_split': 12, 'max_depth': 12}. Best is trial 3 with value: 0.9632687031530894.\u001b[0m\n",
      "Precision: 1.0 \n",
      "Recall: 0.9037940379403794 \n",
      "Aging Rate: 0.4388157894736842\n",
      "Precision: 1.0 \n",
      "Recall: 0.8866396761133604 \n",
      "Aging Rate: 0.43223684210526314\n",
      "Precision: 1.0 \n",
      "Recall: 0.914249684741488 \n",
      "Aging Rate: 0.4769736842105263\n",
      "\u001b[32m[I 2021-12-13 13:18:31,287]\u001b[0m Trial 5 finished with value: 0.9621429029826 and parameters: {'n_estimators': 500, 'min_samples_split': 32, 'max_depth': 9}. Best is trial 3 with value: 0.9632687031530894.\u001b[0m\n",
      "Precision: 1.0 \n",
      "Recall: 0.9130434782608695 \n",
      "Aging Rate: 0.45592105263157895\n",
      "Precision: 1.0 \n",
      "Recall: 0.8787465940054496 \n",
      "Aging Rate: 0.4243421052631579\n",
      "Precision: 1.0 \n",
      "Recall: 0.9033942558746736 \n",
      "Aging Rate: 0.45526315789473687\n",
      "\u001b[32m[I 2021-12-13 13:18:33,507]\u001b[0m Trial 6 finished with value: 0.9608190544934603 and parameters: {'n_estimators': 700, 'min_samples_split': 2, 'max_depth': 3}. Best is trial 3 with value: 0.9632687031530894.\u001b[0m\n",
      "Precision: 1.0 \n",
      "Recall: 0.8864229765013055 \n",
      "Aging Rate: 0.44671052631578945\n",
      "Precision: 1.0 \n",
      "Recall: 0.9114249037227214 \n",
      "Aging Rate: 0.46710526315789475\n",
      "Precision: 1.0 \n",
      "Recall: 0.9057591623036649 \n",
      "Aging Rate: 0.45526315789473687\n",
      "\u001b[32m[I 2021-12-13 13:18:36,533]\u001b[0m Trial 7 finished with value: 0.9619998728458886 and parameters: {'n_estimators': 900, 'min_samples_split': 7, 'max_depth': 15}. Best is trial 3 with value: 0.9632687031530894.\u001b[0m\n",
      "Precision: 1.0 \n",
      "Recall: 0.9063324538258575 \n",
      "Aging Rate: 0.4519736842105263\n",
      "Precision: 1.0 \n",
      "Recall: 0.8864864864864865 \n",
      "Aging Rate: 0.43157894736842106\n",
      "Precision: 1.0 \n",
      "Recall: 0.9103078982597055 \n",
      "Aging Rate: 0.4473684210526316\n",
      "\u001b[32m[I 2021-12-13 13:18:39,538]\u001b[0m Trial 8 finished with value: 0.9619358653164339 and parameters: {'n_estimators': 900, 'min_samples_split': 17, 'max_depth': 3}. Best is trial 3 with value: 0.9632687031530894.\u001b[0m\n",
      "Precision: 1.0 \n",
      "Recall: 0.9139072847682119 \n",
      "Aging Rate: 0.45394736842105265\n",
      "Precision: 1.0 \n",
      "Recall: 0.9335989375830013 \n",
      "Aging Rate: 0.4625\n",
      "Precision: 1.0 \n",
      "Recall: 0.937984496124031 \n",
      "Aging Rate: 0.4776315789473684\n",
      "\u001b[32m[I 2021-12-13 13:18:40,819]\u001b[0m Trial 9 finished with value: 0.9729952321394594 and parameters: {'n_estimators': 300, 'min_samples_split': 12, 'max_depth': 21}. Best is trial 9 with value: 0.9729952321394594.\u001b[0m\n",
      "Precision: 1.0 \n",
      "Recall: 0.9063772048846676 \n",
      "Aging Rate: 0.4394736842105263\n",
      "Precision: 1.0 \n",
      "Recall: 0.9342969776609724 \n",
      "Aging Rate: 0.4677631578947368\n",
      "Precision: 1.0 \n",
      "Recall: 0.9262295081967213 \n",
      "Aging Rate: 0.44605263157894737\n",
      "\u001b[32m[I 2021-12-13 13:18:41,644]\u001b[0m Trial 10 finished with value: 0.970527614354082 and parameters: {'n_estimators': 100, 'min_samples_split': 12, 'max_depth': 21}. Best is trial 9 with value: 0.9729952321394594.\u001b[0m\n",
      "Precision: 1.0 \n",
      "Recall: 0.9184491978609626 \n",
      "Aging Rate: 0.4519736842105263\n",
      "Precision: 1.0 \n",
      "Recall: 0.9350473612990527 \n",
      "Aging Rate: 0.45460526315789473\n",
      "Precision: 1.0 \n",
      "Recall: 0.9245773732119635 \n",
      "Aging Rate: 0.4677631578947368\n",
      "\u001b[32m[I 2021-12-13 13:18:42,467]\u001b[0m Trial 11 finished with value: 0.9720328842025113 and parameters: {'n_estimators': 100, 'min_samples_split': 7, 'max_depth': 21}. Best is trial 9 with value: 0.9729952321394594.\u001b[0m\n",
      "Precision: 1.0 \n",
      "Recall: 0.9362279511533242 \n",
      "Aging Rate: 0.45394736842105265\n",
      "Precision: 0.9986244841815681 \n",
      "Recall: 0.9391979301423027 \n",
      "Aging Rate: 0.47828947368421054\n",
      "Precision: 0.9958217270194986 \n",
      "Recall: 0.9261658031088082 \n",
      "Aging Rate: 0.4723684210526316\n",
      "\u001b[32m[I 2021-12-13 13:18:44,219]\u001b[0m Trial 12 finished with value: 0.9740064909495681 and parameters: {'n_estimators': 500, 'min_samples_split': 2, 'max_depth': 21}. Best is trial 12 with value: 0.9740064909495681.\u001b[0m\n",
      "Precision: 1.0 \n",
      "Recall: 0.9242618741976893 \n",
      "Aging Rate: 0.47368421052631576\n",
      "Precision: 1.0 \n",
      "Recall: 0.9384203480589023 \n",
      "Aging Rate: 0.4611842105263158\n",
      "Precision: 1.0 \n",
      "Recall: 0.9274809160305344 \n",
      "Aging Rate: 0.47960526315789476\n",
      "\u001b[32m[I 2021-12-13 13:18:45,968]\u001b[0m Trial 13 finished with value: 0.9736298607191074 and parameters: {'n_estimators': 500, 'min_samples_split': 2, 'max_depth': 21}. Best is trial 12 with value: 0.9740064909495681.\u001b[0m\n",
      "Precision: 0.9985754985754985 \n",
      "Recall: 0.9223684210526316 \n",
      "Aging Rate: 0.4618421052631579\n",
      "Precision: 1.0 \n",
      "Recall: 0.903485254691689 \n",
      "Aging Rate: 0.44342105263157894\n",
      "Precision: 1.0 \n",
      "Recall: 0.905511811023622 \n",
      "Aging Rate: 0.45394736842105265\n",
      "\u001b[32m[I 2021-12-13 13:18:48,303]\u001b[0m Trial 14 finished with value: 0.9654980720148622 and parameters: {'n_estimators': 700, 'min_samples_split': 17, 'max_depth': 21}. Best is trial 12 with value: 0.9740064909495681.\u001b[0m\n",
      "Precision: 1.0 \n",
      "Recall: 0.9053333333333333 \n",
      "Aging Rate: 0.44671052631578945\n",
      "Precision: 1.0 \n",
      "Recall: 0.9295774647887324 \n",
      "Aging Rate: 0.4776315789473684\n",
      "Precision: 1.0 \n",
      "Recall: 0.9155107187894073 \n",
      "Aging Rate: 0.4776315789473684\n",
      "\u001b[32m[I 2021-12-13 13:18:50,056]\u001b[0m Trial 15 finished with value: 0.9683395038324649 and parameters: {'n_estimators': 500, 'min_samples_split': 7, 'max_depth': 18}. Best is trial 12 with value: 0.9740064909495681.\u001b[0m\n",
      "Precision: 1.0 \n",
      "Recall: 0.9127604166666666 \n",
      "Aging Rate: 0.4611842105263158\n",
      "Precision: 1.0 \n",
      "Recall: 0.9213917525773195 \n",
      "Aging Rate: 0.47039473684210525\n",
      "Precision: 1.0 \n",
      "Recall: 0.9193954659949622 \n",
      "Aging Rate: 0.48026315789473684\n",
      "\u001b[32m[I 2021-12-13 13:18:52,506]\u001b[0m Trial 16 finished with value: 0.9687808221444204 and parameters: {'n_estimators': 700, 'min_samples_split': 2, 'max_depth': 18}. Best is trial 12 with value: 0.9740064909495681.\u001b[0m\n",
      "Precision: 1.0 \n",
      "Recall: 0.9240837696335078 \n",
      "Aging Rate: 0.4644736842105263\n",
      "Precision: 0.9971590909090909 \n",
      "Recall: 0.924901185770751 \n",
      "Aging Rate: 0.4631578947368421\n",
      "Precision: 1.0 \n",
      "Recall: 0.9195710455764075 \n",
      "Aging Rate: 0.4513157894736842\n",
      "\u001b[32m[I 2021-12-13 13:18:54,260]\u001b[0m Trial 17 finished with value: 0.9702099833748655 and parameters: {'n_estimators': 500, 'min_samples_split': 2, 'max_depth': 21}. Best is trial 12 with value: 0.9740064909495681.\u001b[0m\n",
      "Precision: 1.0 \n",
      "Recall: 0.91701244813278 \n",
      "Aging Rate: 0.4361842105263158\n",
      "Precision: 1.0 \n",
      "Recall: 0.897986577181208 \n",
      "Aging Rate: 0.44013157894736843\n",
      "Precision: 1.0 \n",
      "Recall: 0.8869209809264306 \n",
      "Aging Rate: 0.42828947368421055\n",
      "\u001b[32m[I 2021-12-13 13:18:55,087]\u001b[0m Trial 18 finished with value: 0.9617581072896928 and parameters: {'n_estimators': 100, 'min_samples_split': 32, 'max_depth': 6}. Best is trial 12 with value: 0.9740064909495681.\u001b[0m\n"
     ]
    },
    {
     "name": "stdout",
     "output_type": "stream",
     "text": [
      "Precision: 1.0 \n",
      "Recall: 0.9153846153846154 \n",
      "Aging Rate: 0.4697368421052632\n",
      "Precision: 1.0 \n",
      "Recall: 0.9295426452410384 \n",
      "Aging Rate: 0.49473684210526314\n",
      "Precision: 1.0 \n",
      "Recall: 0.9306666666666666 \n",
      "Aging Rate: 0.45921052631578946\n",
      "\u001b[32m[I 2021-12-13 13:18:56,369]\u001b[0m Trial 19 finished with value: 0.971704333031492 and parameters: {'n_estimators': 300, 'min_samples_split': 2, 'max_depth': 21}. Best is trial 12 with value: 0.9740064909495681.\u001b[0m\n",
      "Precision: 1.0 \n",
      "Recall: 0.9009247027741083 \n",
      "Aging Rate: 0.4486842105263158\n",
      "Precision: 1.0 \n",
      "Recall: 0.9111389236545682 \n",
      "Aging Rate: 0.4789473684210526\n",
      "Precision: 1.0 \n",
      "Recall: 0.8978288633461047 \n",
      "Aging Rate: 0.4625\n",
      "\u001b[32m[I 2021-12-13 13:18:57,650]\u001b[0m Trial 20 finished with value: 0.9628813939284151 and parameters: {'n_estimators': 300, 'min_samples_split': 7, 'max_depth': 3}. Best is trial 12 with value: 0.9740064909495681.\u001b[0m\n",
      "Precision: 1.0 \n",
      "Recall: 0.9155495978552279 \n",
      "Aging Rate: 0.4493421052631579\n",
      "Precision: 1.0 \n",
      "Recall: 0.9119170984455959 \n",
      "Aging Rate: 0.4631578947368421\n",
      "Precision: 1.0 \n",
      "Recall: 0.9014454664914586 \n",
      "Aging Rate: 0.4513157894736842\n",
      "\u001b[32m[I 2021-12-13 13:19:00,657]\u001b[0m Trial 21 finished with value: 0.9654628023554145 and parameters: {'n_estimators': 900, 'min_samples_split': 32, 'max_depth': 18}. Best is trial 12 with value: 0.9740064909495681.\u001b[0m\n",
      "Precision: 1.0 \n",
      "Recall: 0.9135483870967742 \n",
      "Aging Rate: 0.46578947368421053\n",
      "Precision: 1.0 \n",
      "Recall: 0.9285714285714286 \n",
      "Aging Rate: 0.4618421052631579\n",
      "Precision: 1.0 \n",
      "Recall: 0.913659793814433 \n",
      "Aging Rate: 0.4664473684210526\n",
      "\u001b[32m[I 2021-12-13 13:19:02,414]\u001b[0m Trial 22 finished with value: 0.969069331097362 and parameters: {'n_estimators': 500, 'min_samples_split': 12, 'max_depth': 18}. Best is trial 12 with value: 0.9740064909495681.\u001b[0m\n",
      "Precision: 1.0 \n",
      "Recall: 0.9169960474308301 \n",
      "Aging Rate: 0.45789473684210524\n",
      "Precision: 1.0 \n",
      "Recall: 0.9183135704874835 \n",
      "Aging Rate: 0.4585526315789474\n",
      "Precision: 0.9985795454545454 \n",
      "Recall: 0.9106217616580311 \n",
      "Aging Rate: 0.4631578947368421\n",
      "\u001b[32m[I 2021-12-13 13:19:03,711]\u001b[0m Trial 23 finished with value: 0.9674786333976454 and parameters: {'n_estimators': 300, 'min_samples_split': 17, 'max_depth': 21}. Best is trial 12 with value: 0.9740064909495681.\u001b[0m\n",
      "Precision: 1.0 \n",
      "Recall: 0.9123505976095617 \n",
      "Aging Rate: 0.4519736842105263\n",
      "Precision: 0.9985835694050992 \n",
      "Recall: 0.9085051546391752 \n",
      "Aging Rate: 0.4644736842105263\n",
      "Precision: 1.0 \n",
      "Recall: 0.9225888324873096 \n",
      "Aging Rate: 0.47828947368421054\n",
      "\u001b[32m[I 2021-12-13 13:19:05,475]\u001b[0m Trial 24 finished with value: 0.967139608867536 and parameters: {'n_estimators': 500, 'min_samples_split': 32, 'max_depth': 21}. Best is trial 12 with value: 0.9740064909495681.\u001b[0m\n",
      "Precision: 0.9985611510791367 \n",
      "Recall: 0.9241011984021305 \n",
      "Aging Rate: 0.45723684210526316\n",
      "Precision: 1.0 \n",
      "Recall: 0.9326145552560647 \n",
      "Aging Rate: 0.45526315789473687\n",
      "Precision: 1.0 \n",
      "Recall: 0.924 \n",
      "Aging Rate: 0.45592105263157895\n",
      "\u001b[32m[I 2021-12-13 13:19:08,484]\u001b[0m Trial 25 finished with value: 0.9721004244356828 and parameters: {'n_estimators': 900, 'min_samples_split': 2, 'max_depth': 21}. Best is trial 12 with value: 0.9740064909495681.\u001b[0m\n",
      "Precision: 1.0 \n",
      "Recall: 0.9093264248704663 \n",
      "Aging Rate: 0.4618421052631579\n",
      "Precision: 1.0 \n",
      "Recall: 0.9398692810457516 \n",
      "Aging Rate: 0.4730263157894737\n",
      "Precision: 1.0 \n",
      "Recall: 0.9183673469387755 \n",
      "Aging Rate: 0.47368421052631576\n",
      "\u001b[32m[I 2021-12-13 13:19:10,237]\u001b[0m Trial 26 finished with value: 0.9706084411941012 and parameters: {'n_estimators': 500, 'min_samples_split': 7, 'max_depth': 21}. Best is trial 12 with value: 0.9740064909495681.\u001b[0m\n",
      "Precision: 1.0 \n",
      "Recall: 0.8893229166666666 \n",
      "Aging Rate: 0.4493421052631579\n",
      "Precision: 1.0 \n",
      "Recall: 0.8913612565445026 \n",
      "Aging Rate: 0.44802631578947366\n",
      "Precision: 1.0 \n",
      "Recall: 0.8880208333333334 \n",
      "Aging Rate: 0.4486842105263158\n",
      "\u001b[32m[I 2021-12-13 13:19:11,520]\u001b[0m Trial 27 finished with value: 0.9572206091656751 and parameters: {'n_estimators': 300, 'min_samples_split': 12, 'max_depth': 12}. Best is trial 12 with value: 0.9740064909495681.\u001b[0m\n",
      "Precision: 1.0 \n",
      "Recall: 0.9126092384519351 \n",
      "Aging Rate: 0.48092105263157897\n",
      "Precision: 1.0 \n",
      "Recall: 0.9175 \n",
      "Aging Rate: 0.48289473684210527\n",
      "Precision: 1.0 \n",
      "Recall: 0.9103078982597055 \n",
      "Aging Rate: 0.4473684210526316\n",
      "\u001b[32m[I 2021-12-13 13:19:13,269]\u001b[0m Trial 28 finished with value: 0.9670214612419107 and parameters: {'n_estimators': 500, 'min_samples_split': 2, 'max_depth': 18}. Best is trial 12 with value: 0.9740064909495681.\u001b[0m\n",
      "Precision: 1.0 \n",
      "Recall: 0.932 \n",
      "Aging Rate: 0.4598684210526316\n",
      "Precision: 1.0 \n",
      "Recall: 0.9162162162162162 \n",
      "Aging Rate: 0.44605263157894737\n",
      "Precision: 1.0 \n",
      "Recall: 0.9384010484927916 \n",
      "Aging Rate: 0.4710526315789474\n",
      "\u001b[32m[I 2021-12-13 13:19:15,018]\u001b[0m Trial 29 finished with value: 0.9731497573501803 and parameters: {'n_estimators': 500, 'min_samples_split': 2, 'max_depth': 21}. Best is trial 12 with value: 0.9740064909495681.\u001b[0m\n",
      "Precision: 1.0 \n",
      "Recall: 0.9226666666666666 \n",
      "Aging Rate: 0.45526315789473687\n",
      "Precision: 1.0 \n",
      "Recall: 0.9165596919127086 \n",
      "Aging Rate: 0.4697368421052632\n",
      "Precision: 1.0 \n",
      "Recall: 0.9299610894941635 \n",
      "Aging Rate: 0.47171052631578947\n",
      "\u001b[32m[I 2021-12-13 13:19:16,769]\u001b[0m Trial 30 finished with value: 0.9708599930412144 and parameters: {'n_estimators': 500, 'min_samples_split': 2, 'max_depth': 21}. Best is trial 12 with value: 0.9740064909495681.\u001b[0m\n",
      "Precision: 1.0 \n",
      "Recall: 0.9061662198391421 \n",
      "Aging Rate: 0.44473684210526315\n",
      "Precision: 1.0 \n",
      "Recall: 0.9223803363518758 \n",
      "Aging Rate: 0.46907894736842104\n",
      "Precision: 1.0 \n",
      "Recall: 0.9130434782608695 \n",
      "Aging Rate: 0.4697368421052632\n",
      "\u001b[32m[I 2021-12-13 13:19:18,520]\u001b[0m Trial 31 finished with value: 0.9671695600844616 and parameters: {'n_estimators': 500, 'min_samples_split': 2, 'max_depth': 21}. Best is trial 12 with value: 0.9740064909495681.\u001b[0m\n",
      "Precision: 1.0 \n",
      "Recall: 0.9074315514993481 \n",
      "Aging Rate: 0.45789473684210524\n",
      "Precision: 1.0 \n",
      "Recall: 0.913154533844189 \n",
      "Aging Rate: 0.47039473684210525\n",
      "Precision: 1.0 \n",
      "Recall: 0.9142480211081794 \n",
      "Aging Rate: 0.45592105263157895\n",
      "\u001b[32m[I 2021-12-13 13:19:19,792]\u001b[0m Trial 32 finished with value: 0.9662696967328266 and parameters: {'n_estimators': 300, 'min_samples_split': 12, 'max_depth': 21}. Best is trial 12 with value: 0.9740064909495681.\u001b[0m\n",
      "Precision: 1.0 \n",
      "Recall: 0.9314720812182741 \n",
      "Aging Rate: 0.48289473684210527\n",
      "Precision: 1.0 \n",
      "Recall: 0.9238709677419354 \n",
      "Aging Rate: 0.4710526315789474\n",
      "Precision: 1.0 \n",
      "Recall: 0.9285714285714286 \n",
      "Aging Rate: 0.4618421052631579\n",
      "\u001b[32m[I 2021-12-13 13:19:22,349]\u001b[0m Trial 33 finished with value: 0.9728140263372979 and parameters: {'n_estimators': 700, 'min_samples_split': 7, 'max_depth': 21}. Best is trial 12 with value: 0.9740064909495681.\u001b[0m\n",
      "Precision: 1.0 \n",
      "Recall: 0.9152317880794701 \n",
      "Aging Rate: 0.45460526315789473\n",
      "Precision: 1.0 \n",
      "Recall: 0.9282814614343707 \n",
      "Aging Rate: 0.4513157894736842\n",
      "Precision: 1.0 \n",
      "Recall: 0.9025367156208278 \n",
      "Aging Rate: 0.44473684210526315\n",
      "\u001b[32m[I 2021-12-13 13:19:23,633]\u001b[0m Trial 34 finished with value: 0.9677503897875455 and parameters: {'n_estimators': 300, 'min_samples_split': 2, 'max_depth': 18}. Best is trial 12 with value: 0.9740064909495681.\u001b[0m\n",
      "Precision: 1.0 \n",
      "Recall: 0.9448094612352168 \n",
      "Aging Rate: 0.4730263157894737\n",
      "Precision: 1.0 \n",
      "Recall: 0.9392338177014531 \n",
      "Aging Rate: 0.4677631578947368\n",
      "Precision: 1.0 \n",
      "Recall: 0.9371657754010695 \n",
      "Aging Rate: 0.4611842105263158\n",
      "\u001b[32m[I 2021-12-13 13:19:25,384]\u001b[0m Trial 35 finished with value: 0.9776916057283653 and parameters: {'n_estimators': 500, 'min_samples_split': 2, 'max_depth': 21}. Best is trial 35 with value: 0.9776916057283653.\u001b[0m\n",
      "Precision: 1.0 \n",
      "Recall: 0.923784494086728 \n",
      "Aging Rate: 0.4625\n",
      "Precision: 0.997134670487106 \n",
      "Recall: 0.9243027888446215 \n",
      "Aging Rate: 0.45921052631578946\n",
      "Precision: 1.0 \n",
      "Recall: 0.9329962073324906 \n",
      "Aging Rate: 0.4855263157894737\n",
      "\u001b[32m[I 2021-12-13 13:19:27,137]\u001b[0m Trial 36 finished with value: 0.971860923705567 and parameters: {'n_estimators': 500, 'min_samples_split': 2, 'max_depth': 21}. Best is trial 35 with value: 0.9776916057283653.\u001b[0m\n",
      "Precision: 1.0 \n",
      "Recall: 0.939119170984456 \n",
      "Aging Rate: 0.4769736842105263\n",
      "Precision: 1.0 \n",
      "Recall: 0.9314359637774903 \n",
      "Aging Rate: 0.47368421052631576\n",
      "Precision: 1.0 \n",
      "Recall: 0.9325842696629213 \n",
      "Aging Rate: 0.49144736842105263\n",
      "\u001b[32m[I 2021-12-13 13:19:29,369]\u001b[0m Trial 37 finished with value: 0.9753381355985474 and parameters: {'n_estimators': 700, 'min_samples_split': 2, 'max_depth': 21}. Best is trial 35 with value: 0.9776916057283653.\u001b[0m\n"
     ]
    },
    {
     "name": "stdout",
     "output_type": "stream",
     "text": [
      "Precision: 1.0 \n",
      "Recall: 0.908256880733945 \n",
      "Aging Rate: 0.45592105263157895\n",
      "Precision: 1.0 \n",
      "Recall: 0.9128686327077749 \n",
      "Aging Rate: 0.44802631578947366\n",
      "Precision: 1.0 \n",
      "Recall: 0.9010416666666666 \n",
      "Aging Rate: 0.45526315789473687\n",
      "\u001b[32m[I 2021-12-13 13:19:31,812]\u001b[0m Trial 38 finished with value: 0.9645529037911414 and parameters: {'n_estimators': 700, 'min_samples_split': 2, 'max_depth': 18}. Best is trial 35 with value: 0.9776916057283653.\u001b[0m\n",
      "Precision: 1.0 \n",
      "Recall: 0.9200507614213198 \n",
      "Aging Rate: 0.4769736842105263\n",
      "Precision: 1.0 \n",
      "Recall: 0.9043478260869565 \n",
      "Aging Rate: 0.4789473684210526\n",
      "Precision: 1.0 \n",
      "Recall: 0.9125475285171103 \n",
      "Aging Rate: 0.47368421052631576\n",
      "\u001b[32m[I 2021-12-13 13:19:34,252]\u001b[0m Trial 39 finished with value: 0.9665454904077411 and parameters: {'n_estimators': 700, 'min_samples_split': 2, 'max_depth': 18}. Best is trial 35 with value: 0.9776916057283653.\u001b[0m\n",
      "Precision: 1.0 \n",
      "Recall: 0.9249329758713136 \n",
      "Aging Rate: 0.45394736842105265\n",
      "Precision: 1.0 \n",
      "Recall: 0.9352791878172588 \n",
      "Aging Rate: 0.48486842105263156\n",
      "Precision: 1.0 \n",
      "Recall: 0.922077922077922 \n",
      "Aging Rate: 0.46710526315789475\n",
      "\u001b[32m[I 2021-12-13 13:19:36,804]\u001b[0m Trial 40 finished with value: 0.97259380327215 and parameters: {'n_estimators': 700, 'min_samples_split': 2, 'max_depth': 21}. Best is trial 35 with value: 0.9776916057283653.\u001b[0m\n",
      "Precision: 1.0 \n",
      "Recall: 0.9205298013245033 \n",
      "Aging Rate: 0.45723684210526316\n",
      "Precision: 1.0 \n",
      "Recall: 0.9357045143638851 \n",
      "Aging Rate: 0.45\n",
      "Precision: 1.0 \n",
      "Recall: 0.9271781534460338 \n",
      "Aging Rate: 0.46907894736842104\n",
      "\u001b[32m[I 2021-12-13 13:19:38,554]\u001b[0m Trial 41 finished with value: 0.9727401835312043 and parameters: {'n_estimators': 500, 'min_samples_split': 2, 'max_depth': 21}. Best is trial 35 with value: 0.9776916057283653.\u001b[0m\n",
      "Precision: 1.0 \n",
      "Recall: 0.9246298788694481 \n",
      "Aging Rate: 0.4519736842105263\n",
      "Precision: 1.0 \n",
      "Recall: 0.9379128137384413 \n",
      "Aging Rate: 0.46710526315789475\n",
      "Precision: 1.0 \n",
      "Recall: 0.9369127516778524 \n",
      "Aging Rate: 0.45921052631578946\n",
      "\u001b[32m[I 2021-12-13 13:19:40,306]\u001b[0m Trial 42 finished with value: 0.9748494424950028 and parameters: {'n_estimators': 500, 'min_samples_split': 2, 'max_depth': 21}. Best is trial 35 with value: 0.9776916057283653.\u001b[0m\n",
      "Precision: 1.0 \n",
      "Recall: 0.9270976616231087 \n",
      "Aging Rate: 0.44342105263157894\n",
      "Precision: 1.0 \n",
      "Recall: 0.9298701298701298 \n",
      "Aging Rate: 0.4710526315789474\n",
      "Precision: 0.9957805907172996 \n",
      "Recall: 0.932806324110672 \n",
      "Aging Rate: 0.4677631578947368\n",
      "\u001b[32m[I 2021-12-13 13:19:42,860]\u001b[0m Trial 43 finished with value: 0.9727303740330854 and parameters: {'n_estimators': 700, 'min_samples_split': 2, 'max_depth': 21}. Best is trial 35 with value: 0.9776916057283653.\u001b[0m\n",
      "Precision: 1.0 \n",
      "Recall: 0.9070967741935484 \n",
      "Aging Rate: 0.4625\n",
      "Precision: 0.9985955056179775 \n",
      "Recall: 0.915057915057915 \n",
      "Aging Rate: 0.46842105263157896\n",
      "Precision: 1.0 \n",
      "Recall: 0.8931506849315068 \n",
      "Aging Rate: 0.42894736842105263\n",
      "\u001b[32m[I 2021-12-13 13:19:43,685]\u001b[0m Trial 44 finished with value: 0.963324019964309 and parameters: {'n_estimators': 100, 'min_samples_split': 27, 'max_depth': 21}. Best is trial 35 with value: 0.9776916057283653.\u001b[0m\n",
      "Precision: 1.0 \n",
      "Recall: 0.9046997389033943 \n",
      "Aging Rate: 0.45592105263157895\n",
      "Precision: 1.0 \n",
      "Recall: 0.919205298013245 \n",
      "Aging Rate: 0.45657894736842103\n",
      "Precision: 1.0 \n",
      "Recall: 0.9125475285171103 \n",
      "Aging Rate: 0.47368421052631576\n",
      "\u001b[32m[I 2021-12-13 13:19:45,437]\u001b[0m Trial 45 finished with value: 0.9664806382335615 and parameters: {'n_estimators': 500, 'min_samples_split': 2, 'max_depth': 15}. Best is trial 35 with value: 0.9776916057283653.\u001b[0m\n",
      "Precision: 1.0 \n",
      "Recall: 0.9176470588235294 \n",
      "Aging Rate: 0.4618421052631579\n",
      "Precision: 1.0 \n",
      "Recall: 0.9232736572890026 \n",
      "Aging Rate: 0.475\n",
      "Precision: 1.0 \n",
      "Recall: 0.9074074074074074 \n",
      "Aging Rate: 0.4513157894736842\n",
      "\u001b[32m[I 2021-12-13 13:19:47,187]\u001b[0m Trial 46 finished with value: 0.9680741605506528 and parameters: {'n_estimators': 500, 'min_samples_split': 7, 'max_depth': 21}. Best is trial 35 with value: 0.9776916057283653.\u001b[0m\n",
      "Precision: 1.0 \n",
      "Recall: 0.9183400267737617 \n",
      "Aging Rate: 0.4513157894736842\n",
      "Precision: 0.9971949509116409 \n",
      "Recall: 0.9294117647058824 \n",
      "Aging Rate: 0.46907894736842104\n",
      "Precision: 1.0 \n",
      "Recall: 0.9484536082474226 \n",
      "Aging Rate: 0.4842105263157895\n",
      "\u001b[32m[I 2021-12-13 13:19:48,500]\u001b[0m Trial 47 finished with value: 0.9738248968039848 and parameters: {'n_estimators': 300, 'min_samples_split': 2, 'max_depth': 21}. Best is trial 35 with value: 0.9776916057283653.\u001b[0m\n",
      "Precision: 1.0 \n",
      "Recall: 0.9084967320261438 \n",
      "Aging Rate: 0.45723684210526316\n",
      "Precision: 1.0 \n",
      "Recall: 0.9196185286103542 \n",
      "Aging Rate: 0.4440789473684211\n",
      "Precision: 1.0 \n",
      "Recall: 0.9233817701453104 \n",
      "Aging Rate: 0.4598684210526316\n",
      "\u001b[32m[I 2021-12-13 13:19:49,325]\u001b[0m Trial 48 finished with value: 0.9684993878544232 and parameters: {'n_estimators': 100, 'min_samples_split': 2, 'max_depth': 18}. Best is trial 35 with value: 0.9776916057283653.\u001b[0m\n",
      "Precision: 1.0 \n",
      "Recall: 0.9183400267737617 \n",
      "Aging Rate: 0.4513157894736842\n",
      "Precision: 1.0 \n",
      "Recall: 0.9394329896907216 \n",
      "Aging Rate: 0.47960526315789476\n"
     ]
    },
    {
     "name": "stderr",
     "output_type": "stream",
     "text": [
      "C:\\Users\\user\\anaconda3\\envs\\aging\\lib\\site-packages\\optuna\\samplers\\_tpe\\sampler.py:253: ExperimentalWarning: ``multivariate`` option is an experimental feature. The interface can change in the future.\n",
      "  ExperimentalWarning,\n",
      "\u001b[32m[I 2021-12-13 13:19:50,653]\u001b[0m A new study created in memory with name: no-name-a0be2d1f-73cb-43e6-8c13-cfd6ff27ab84\u001b[0m\n"
     ]
    },
    {
     "name": "stdout",
     "output_type": "stream",
     "text": [
      "Precision: 1.0 \n",
      "Recall: 0.9281045751633987 \n",
      "Aging Rate: 0.46710526315789475\n",
      "\u001b[32m[I 2021-12-13 13:19:50,606]\u001b[0m Trial 49 finished with value: 0.9730557266498773 and parameters: {'n_estimators': 300, 'min_samples_split': 7, 'max_depth': 21}. Best is trial 35 with value: 0.9776916057283653.\u001b[0m\n",
      "Sampler is TPESampler\n",
      "Dataset8 :\n"
     ]
    },
    {
     "name": "stderr",
     "output_type": "stream",
     "text": [
      "C:\\Users\\user\\anaconda3\\envs\\aging\\lib\\site-packages\\optuna\\progress_bar.py:47: ExperimentalWarning: Progress bar is experimental (supported from v1.2.0). The interface can change in the future.\n",
      "  self._init_valid()\n"
     ]
    },
    {
     "data": {
      "application/vnd.jupyter.widget-view+json": {
       "model_id": "d85847dc8e9a4fbb898d2c0e6192f5bd",
       "version_major": 2,
       "version_minor": 0
      },
      "text/plain": [
       "  0%|          | 0/50 [00:00<?, ?it/s]"
      ]
     },
     "metadata": {},
     "output_type": "display_data"
    },
    {
     "name": "stdout",
     "output_type": "stream",
     "text": [
      "Precision: 0.9838492597577388 \n",
      "Recall: 0.9518229166666666 \n",
      "Aging Rate: 0.4888157894736842\n",
      "Precision: 0.9944367176634215 \n",
      "Recall: 0.9285714285714286 \n",
      "Aging Rate: 0.4730263157894737\n",
      "Precision: 0.9873060648801129 \n",
      "Recall: 0.9271523178807947 \n",
      "Aging Rate: 0.4664473684210526\n",
      "\u001b[32m[I 2021-12-13 13:19:52,386]\u001b[0m Trial 0 finished with value: 0.9688407018902581 and parameters: {'n_estimators': 500, 'min_samples_split': 32, 'max_depth': 9}. Best is trial 0 with value: 0.9688407018902581.\u001b[0m\n",
      "Precision: 1.0 \n",
      "Recall: 0.9811320754716981 \n",
      "Aging Rate: 0.4789473684210526\n",
      "Precision: 0.9986449864498645 \n",
      "Recall: 0.9722955145118733 \n",
      "Aging Rate: 0.4855263157894737\n",
      "Precision: 0.9986357435197817 \n",
      "Recall: 0.973404255319149 \n",
      "Aging Rate: 0.48223684210526313\n",
      "\u001b[32m[I 2021-12-13 13:19:54,142]\u001b[0m Trial 1 finished with value: 0.9905079597808566 and parameters: {'n_estimators': 500, 'min_samples_split': 12, 'max_depth': 15}. Best is trial 1 with value: 0.9905079597808566.\u001b[0m\n",
      "Precision: 0.9158878504672897 \n",
      "Recall: 0.8886010362694301 \n",
      "Aging Rate: 0.49276315789473685\n",
      "Precision: 0.9034391534391535 \n",
      "Recall: 0.9433701657458563 \n",
      "Aging Rate: 0.49736842105263157\n",
      "Precision: 0.9406332453825857 \n",
      "Recall: 0.9141025641025641 \n",
      "Aging Rate: 0.4986842105263158\n",
      "\u001b[32m[I 2021-12-13 13:19:55,411]\u001b[0m Trial 2 finished with value: 0.9180663815740715 and parameters: {'n_estimators': 300, 'min_samples_split': 22, 'max_depth': 6}. Best is trial 1 with value: 0.9905079597808566.\u001b[0m\n",
      "Precision: 0.9892617449664429 \n",
      "Recall: 0.9697368421052631 \n",
      "Aging Rate: 0.4901315789473684\n",
      "Precision: 0.9824561403508771 \n",
      "Recall: 0.9553805774278216 \n",
      "Aging Rate: 0.4875\n",
      "Precision: 0.9908376963350786 \n",
      "Recall: 0.9334155363748459 \n",
      "Aging Rate: 0.5026315789473684\n",
      "\u001b[32m[I 2021-12-13 13:19:57,633]\u001b[0m Trial 3 finished with value: 0.9746820835397386 and parameters: {'n_estimators': 700, 'min_samples_split': 7, 'max_depth': 9}. Best is trial 1 with value: 0.9905079597808566.\u001b[0m\n",
      "Precision: 0.9889958734525447 \n",
      "Recall: 0.9361979166666666 \n",
      "Aging Rate: 0.47828947368421054\n",
      "Precision: 0.9782016348773842 \n",
      "Recall: 0.9497354497354498 \n",
      "Aging Rate: 0.48289473684210527\n",
      "Precision: 0.9862448418156808 \n",
      "Recall: 0.9421813403416557 \n",
      "Aging Rate: 0.47828947368421054\n",
      "\u001b[32m[I 2021-12-13 13:19:59,385]\u001b[0m Trial 4 finished with value: 0.9689968653060878 and parameters: {'n_estimators': 500, 'min_samples_split': 17, 'max_depth': 9}. Best is trial 1 with value: 0.9905079597808566.\u001b[0m\n",
      "Precision: 0.8479776847977685 \n",
      "Recall: 0.8010540184453228 \n",
      "Aging Rate: 0.47171052631578947\n",
      "Precision: 0.8333333333333334 \n",
      "Recall: 0.8023872679045093 \n",
      "Aging Rate: 0.4776315789473684\n",
      "Precision: 0.8770718232044199 \n",
      "Recall: 0.8410596026490066 \n",
      "Aging Rate: 0.4763157894736842\n",
      "\u001b[32m[I 2021-12-13 13:20:00,670]\u001b[0m Trial 5 finished with value: 0.838714676915456 and parameters: {'n_estimators': 300, 'min_samples_split': 7, 'max_depth': 3}. Best is trial 1 with value: 0.9905079597808566.\u001b[0m\n",
      "Precision: 1.0 \n",
      "Recall: 0.9608585858585859 \n",
      "Aging Rate: 0.5006578947368421\n",
      "Precision: 1.0 \n",
      "Recall: 0.9530026109660574 \n",
      "Aging Rate: 0.48026315789473684\n",
      "Precision: 1.0 \n",
      "Recall: 0.9523195876288659 \n",
      "Aging Rate: 0.4861842105263158\n",
      "\u001b[32m[I 2021-12-13 13:20:01,494]\u001b[0m Trial 6 finished with value: 0.9834660221693409 and parameters: {'n_estimators': 100, 'min_samples_split': 27, 'max_depth': 21}. Best is trial 1 with value: 0.9905079597808566.\u001b[0m\n",
      "Precision: 0.927027027027027 \n",
      "Recall: 0.9295392953929539 \n",
      "Aging Rate: 0.4868421052631579\n",
      "Precision: 0.9322033898305084 \n",
      "Recall: 0.934640522875817 \n",
      "Aging Rate: 0.5046052631578948\n",
      "Precision: 0.9280958721704394 \n",
      "Recall: 0.9406207827260459 \n",
      "Aging Rate: 0.49407894736842106\n",
      "\u001b[32m[I 2021-12-13 13:20:04,499]\u001b[0m Trial 7 finished with value: 0.9311917998265127 and parameters: {'n_estimators': 900, 'min_samples_split': 12, 'max_depth': 6}. Best is trial 1 with value: 0.9905079597808566.\u001b[0m\n",
      "Precision: 0.9817158931082982 \n",
      "Recall: 0.9407008086253369 \n",
      "Aging Rate: 0.4677631578947368\n",
      "Precision: 0.9874826147426982 \n",
      "Recall: 0.9466666666666667 \n",
      "Aging Rate: 0.4730263157894737\n",
      "Precision: 0.9823369565217391 \n",
      "Recall: 0.9475753604193972 \n",
      "Aging Rate: 0.4842105263157895\n",
      "\u001b[32m[I 2021-12-13 13:20:05,334]\u001b[0m Trial 8 finished with value: 0.9694890745882648 and parameters: {'n_estimators': 100, 'min_samples_split': 12, 'max_depth': 9}. Best is trial 1 with value: 0.9905079597808566.\u001b[0m\n",
      "Precision: 0.9986206896551724 \n",
      "Recall: 0.9614873837981408 \n",
      "Aging Rate: 0.4769736842105263\n",
      "Precision: 0.9986111111111111 \n",
      "Recall: 0.9472990777338604 \n",
      "Aging Rate: 0.47368421052631576\n",
      "Precision: 0.9985955056179775 \n",
      "Recall: 0.9699863574351978 \n",
      "Aging Rate: 0.46842105263157896\n",
      "\u001b[32m[I 2021-12-13 13:20:07,890]\u001b[0m Trial 9 finished with value: 0.9841804350979905 and parameters: {'n_estimators': 700, 'min_samples_split': 27, 'max_depth': 15}. Best is trial 1 with value: 0.9905079597808566.\u001b[0m\n",
      "Precision: 0.9973924380704041 \n",
      "Recall: 0.9807692307692307 \n",
      "Aging Rate: 0.5046052631578948\n",
      "Precision: 0.9946808510638298 \n",
      "Recall: 0.9816272965879265 \n",
      "Aging Rate: 0.49473684210526314\n",
      "Precision: 0.9973509933774835 \n",
      "Recall: 0.970360824742268 \n",
      "Aging Rate: 0.4967105263157895\n",
      "\u001b[32m[I 2021-12-13 13:20:09,658]\u001b[0m Trial 10 finished with value: 0.9895828706024695 and parameters: {'n_estimators': 500, 'min_samples_split': 2, 'max_depth': 18}. Best is trial 1 with value: 0.9905079597808566.\u001b[0m\n",
      "Precision: 1.0 \n",
      "Recall: 0.979328165374677 \n",
      "Aging Rate: 0.4986842105263158\n",
      "Precision: 1.0 \n",
      "Recall: 0.9683143219264893 \n",
      "Aging Rate: 0.5026315789473684\n",
      "Precision: 0.9949685534591195 \n",
      "Recall: 0.9850560398505604 \n",
      "Aging Rate: 0.5230263157894737\n",
      "\u001b[32m[I 2021-12-13 13:20:10,929]\u001b[0m Trial 11 finished with value: 0.9907308545942519 and parameters: {'n_estimators': 300, 'min_samples_split': 7, 'max_depth': 18}. Best is trial 11 with value: 0.9907308545942519.\u001b[0m\n",
      "Precision: 0.9945652173913043 \n",
      "Recall: 0.9747003994673769 \n",
      "Aging Rate: 0.4842105263157895\n",
      "Precision: 1.0 \n",
      "Recall: 0.9830949284785435 \n",
      "Aging Rate: 0.49736842105263157\n",
      "Precision: 0.9972862957937585 \n",
      "Recall: 0.982620320855615 \n",
      "Aging Rate: 0.48486842105263156\n",
      "\u001b[32m[I 2021-12-13 13:20:12,244]\u001b[0m Trial 12 finished with value: 0.9910417583338559 and parameters: {'n_estimators': 300, 'min_samples_split': 12, 'max_depth': 18}. Best is trial 12 with value: 0.9910417583338559.\u001b[0m\n",
      "Precision: 1.0 \n",
      "Recall: 0.9709379128137384 \n",
      "Aging Rate: 0.48355263157894735\n",
      "Precision: 0.9973190348525469 \n",
      "Recall: 0.9763779527559056 \n",
      "Aging Rate: 0.49078947368421055\n",
      "Precision: 1.0 \n",
      "Recall: 0.9695431472081218 \n",
      "Aging Rate: 0.5026315789473684\n",
      "\u001b[32m[I 2021-12-13 13:20:13,083]\u001b[0m Trial 13 finished with value: 0.9892781602769599 and parameters: {'n_estimators': 100, 'min_samples_split': 7, 'max_depth': 18}. Best is trial 12 with value: 0.9910417583338559.\u001b[0m\n",
      "Precision: 0.9986376021798365 \n",
      "Recall: 0.9569190600522193 \n",
      "Aging Rate: 0.48289473684210527\n",
      "Precision: 1.0 \n",
      "Recall: 0.973753280839895 \n",
      "Aging Rate: 0.4881578947368421\n",
      "Precision: 0.9986522911051213 \n",
      "Recall: 0.9661016949152542 \n",
      "Aging Rate: 0.4881578947368421\n",
      "\u001b[32m[I 2021-12-13 13:20:15,327]\u001b[0m Trial 14 finished with value: 0.986760174150305 and parameters: {'n_estimators': 700, 'min_samples_split': 17, 'max_depth': 21}. Best is trial 12 with value: 0.9910417583338559.\u001b[0m\n",
      "Precision: 1.0 \n",
      "Recall: 0.9778085991678225 \n",
      "Aging Rate: 0.46381578947368424\n",
      "Precision: 1.0 \n",
      "Recall: 0.9814569536423841 \n",
      "Aging Rate: 0.4875\n",
      "Precision: 1.0 \n",
      "Recall: 0.9707057256990679 \n",
      "Aging Rate: 0.47960526315789476\n",
      "\u001b[32m[I 2021-12-13 13:20:16,594]\u001b[0m Trial 15 finished with value: 0.9914642978136451 and parameters: {'n_estimators': 300, 'min_samples_split': 17, 'max_depth': 18}. Best is trial 15 with value: 0.9914642978136451.\u001b[0m\n",
      "Precision: 0.998589562764457 \n",
      "Recall: 0.9725274725274725 \n",
      "Aging Rate: 0.4664473684210526\n",
      "Precision: 1.0 \n",
      "Recall: 0.9721854304635762 \n",
      "Aging Rate: 0.48289473684210527\n",
      "Precision: 0.9972826086956522 \n",
      "Recall: 0.976063829787234 \n",
      "Aging Rate: 0.4842105263157895\n",
      "\u001b[32m[I 2021-12-13 13:20:17,879]\u001b[0m Trial 16 finished with value: 0.9894638341504804 and parameters: {'n_estimators': 300, 'min_samples_split': 17, 'max_depth': 15}. Best is trial 15 with value: 0.9914642978136451.\u001b[0m\n",
      "Precision: 0.9986876640419947 \n",
      "Recall: 0.9608585858585859 \n",
      "Aging Rate: 0.5013157894736842\n",
      "Precision: 0.9972640218878249 \n",
      "Recall: 0.9655629139072848 \n",
      "Aging Rate: 0.48092105263157897\n"
     ]
    },
    {
     "name": "stdout",
     "output_type": "stream",
     "text": [
      "Precision: 0.9986648865153538 \n",
      "Recall: 0.9676584734799483 \n",
      "Aging Rate: 0.49276315789473685\n",
      "\u001b[32m[I 2021-12-13 13:20:19,162]\u001b[0m Trial 17 finished with value: 0.9858739170543652 and parameters: {'n_estimators': 300, 'min_samples_split': 22, 'max_depth': 15}. Best is trial 15 with value: 0.9914642978136451.\u001b[0m\n",
      "Precision: 0.9986486486486487 \n",
      "Recall: 0.9723684210526315 \n",
      "Aging Rate: 0.4868421052631579\n",
      "Precision: 0.997229916897507 \n",
      "Recall: 0.9664429530201343 \n",
      "Aging Rate: 0.475\n",
      "Precision: 1.0 \n",
      "Recall: 0.964095744680851 \n",
      "Aging Rate: 0.4769736842105263\n",
      "\u001b[32m[I 2021-12-13 13:20:20,002]\u001b[0m Trial 18 finished with value: 0.9872397912838627 and parameters: {'n_estimators': 100, 'min_samples_split': 17, 'max_depth': 21}. Best is trial 15 with value: 0.9914642978136451.\u001b[0m\n",
      "Precision: 0.8092715231788079 \n",
      "Recall: 0.8335607094133697 \n",
      "Aging Rate: 0.4967105263157895\n",
      "Precision: 0.836241610738255 \n",
      "Recall: 0.8186596583442839 \n",
      "Aging Rate: 0.4901315789473684\n",
      "Precision: 0.8448979591836735 \n",
      "Recall: 0.7992277992277992 \n",
      "Aging Rate: 0.48355263157894735\n",
      "\u001b[32m[I 2021-12-13 13:20:20,825]\u001b[0m Trial 19 finished with value: 0.8251813834382223 and parameters: {'n_estimators': 100, 'min_samples_split': 32, 'max_depth': 3}. Best is trial 15 with value: 0.9914642978136451.\u001b[0m\n",
      "Precision: 1.0 \n",
      "Recall: 0.9564660691421255 \n",
      "Aging Rate: 0.49144736842105263\n",
      "Precision: 0.9960681520314548 \n",
      "Recall: 0.9632446134347274 \n",
      "Aging Rate: 0.5019736842105263\n",
      "Precision: 1.0 \n",
      "Recall: 0.972568578553616 \n",
      "Aging Rate: 0.5131578947368421\n",
      "\u001b[32m[I 2021-12-13 13:20:22,593]\u001b[0m Trial 20 finished with value: 0.9859413111162639 and parameters: {'n_estimators': 500, 'min_samples_split': 27, 'max_depth': 21}. Best is trial 15 with value: 0.9914642978136451.\u001b[0m\n",
      "Precision: 0.9972451790633609 \n",
      "Recall: 0.9757412398921833 \n",
      "Aging Rate: 0.4776315789473684\n",
      "Precision: 0.9973045822102425 \n",
      "Recall: 0.9660574412532638 \n",
      "Aging Rate: 0.4881578947368421\n",
      "Precision: 1.0 \n",
      "Recall: 0.9882044560943644 \n",
      "Aging Rate: 0.49605263157894736\n",
      "\u001b[32m[I 2021-12-13 13:20:23,891]\u001b[0m Trial 21 finished with value: 0.9903140542815886 and parameters: {'n_estimators': 300, 'min_samples_split': 7, 'max_depth': 21}. Best is trial 15 with value: 0.9914642978136451.\u001b[0m\n",
      "Precision: 0.9961489088575096 \n",
      "Recall: 0.9822784810126582 \n",
      "Aging Rate: 0.5125\n",
      "Precision: 0.9948586118251928 \n",
      "Recall: 0.9847328244274809 \n",
      "Aging Rate: 0.5118421052631579\n",
      "Precision: 0.9986468200270636 \n",
      "Recall: 0.9787798408488063 \n",
      "Aging Rate: 0.4861842105263158\n",
      "\u001b[32m[I 2021-12-13 13:20:25,190]\u001b[0m Trial 22 finished with value: 0.9912341853653692 and parameters: {'n_estimators': 300, 'min_samples_split': 7, 'max_depth': 15}. Best is trial 15 with value: 0.9914642978136451.\u001b[0m\n",
      "Precision: 0.9944979367262724 \n",
      "Recall: 0.9904109589041096 \n",
      "Aging Rate: 0.47828947368421054\n",
      "Precision: 0.9986807387862797 \n",
      "Recall: 0.9843953185955787 \n",
      "Aging Rate: 0.4986842105263158\n",
      "Precision: 0.9986910994764397 \n",
      "Recall: 0.9782051282051282 \n",
      "Aging Rate: 0.5026315789473684\n",
      "\u001b[32m[I 2021-12-13 13:20:26,472]\u001b[0m Trial 23 finished with value: 0.9925770862270737 and parameters: {'n_estimators': 300, 'min_samples_split': 2, 'max_depth': 12}. Best is trial 23 with value: 0.9925770862270737.\u001b[0m\n",
      "Precision: 0.9741144414168937 \n",
      "Recall: 0.949535192563081 \n",
      "Aging Rate: 0.48289473684210527\n",
      "Precision: 0.9919246298788694 \n",
      "Recall: 0.9534282018111255 \n",
      "Aging Rate: 0.4888157894736842\n",
      "Precision: 0.9799732977303071 \n",
      "Recall: 0.941025641025641 \n",
      "Aging Rate: 0.49276315789473685\n",
      "\u001b[32m[I 2021-12-13 13:20:27,755]\u001b[0m Trial 24 finished with value: 0.9694732624698386 and parameters: {'n_estimators': 300, 'min_samples_split': 2, 'max_depth': 9}. Best is trial 23 with value: 0.9925770862270737.\u001b[0m\n",
      "Precision: 0.9946808510638298 \n",
      "Recall: 0.9726918075422627 \n",
      "Aging Rate: 0.49473684210526314\n",
      "Precision: 1.0 \n",
      "Recall: 0.9831606217616581 \n",
      "Aging Rate: 0.4993421052631579\n",
      "Precision: 0.9973082099596231 \n",
      "Recall: 0.975 \n",
      "Aging Rate: 0.4888157894736842\n",
      "\u001b[32m[I 2021-12-13 13:20:28,580]\u001b[0m Trial 25 finished with value: 0.9898945278875003 and parameters: {'n_estimators': 100, 'min_samples_split': 2, 'max_depth': 12}. Best is trial 23 with value: 0.9925770862270737.\u001b[0m\n",
      "Precision: 0.9958333333333333 \n",
      "Recall: 0.9663072776280324 \n",
      "Aging Rate: 0.47368421052631576\n",
      "Precision: 0.9973684210526316 \n",
      "Recall: 0.970550576184379 \n",
      "Aging Rate: 0.5\n",
      "Precision: 0.9933422103861518 \n",
      "Recall: 0.9738903394255874 \n",
      "Aging Rate: 0.49407894736842106\n",
      "\u001b[32m[I 2021-12-13 13:20:29,861]\u001b[0m Trial 26 finished with value: 0.9862646533731169 and parameters: {'n_estimators': 300, 'min_samples_split': 7, 'max_depth': 12}. Best is trial 23 with value: 0.9925770862270737.\u001b[0m\n",
      "Precision: 0.9972413793103448 \n",
      "Recall: 0.9691689008042895 \n",
      "Aging Rate: 0.4769736842105263\n",
      "Precision: 0.9933333333333333 \n",
      "Recall: 0.9764089121887287 \n",
      "Aging Rate: 0.4934210526315789\n",
      "Precision: 1.0 \n",
      "Recall: 0.9800796812749004 \n",
      "Aging Rate: 0.4855263157894737\n",
      "\u001b[32m[I 2021-12-13 13:20:31,131]\u001b[0m Trial 27 finished with value: 0.988953107796687 and parameters: {'n_estimators': 300, 'min_samples_split': 7, 'max_depth': 12}. Best is trial 23 with value: 0.9925770862270737.\u001b[0m\n",
      "Precision: 0.9986842105263158 \n",
      "Recall: 0.9730769230769231 \n",
      "Aging Rate: 0.5\n",
      "Precision: 0.9986225895316805 \n",
      "Recall: 0.9744623655913979 \n",
      "Aging Rate: 0.4776315789473684\n",
      "Precision: 0.9986522911051213 \n",
      "Recall: 0.9762845849802372 \n",
      "Aging Rate: 0.4881578947368421\n",
      "\u001b[32m[I 2021-12-13 13:20:32,445]\u001b[0m Trial 28 finished with value: 0.9898609034778149 and parameters: {'n_estimators': 300, 'min_samples_split': 2, 'max_depth': 12}. Best is trial 23 with value: 0.9925770862270737.\u001b[0m\n",
      "Precision: 0.995945945945946 \n",
      "Recall: 0.976158940397351 \n",
      "Aging Rate: 0.4868421052631579\n",
      "Precision: 0.9928876244665719 \n",
      "Recall: 0.9721448467966574 \n",
      "Aging Rate: 0.4625\n",
      "Precision: 0.9986357435197817 \n",
      "Recall: 0.9812332439678284 \n",
      "Aging Rate: 0.48223684210526313\n",
      "\u001b[32m[I 2021-12-13 13:20:34,208]\u001b[0m Trial 29 finished with value: 0.9887833653021968 and parameters: {'n_estimators': 500, 'min_samples_split': 2, 'max_depth': 12}. Best is trial 23 with value: 0.9925770862270737.\u001b[0m\n",
      "Precision: 0.9849726775956285 \n",
      "Recall: 0.9291237113402062 \n",
      "Aging Rate: 0.48157894736842105\n",
      "Precision: 0.9853528628495339 \n",
      "Recall: 0.9450830140485313 \n",
      "Aging Rate: 0.49407894736842106\n",
      "Precision: 0.9821917808219178 \n",
      "Recall: 0.9446640316205533 \n",
      "Aging Rate: 0.48026315789473684\n",
      "\u001b[32m[I 2021-12-13 13:20:36,443]\u001b[0m Trial 30 finished with value: 0.9676398219295091 and parameters: {'n_estimators': 700, 'min_samples_split': 32, 'max_depth': 9}. Best is trial 23 with value: 0.9925770862270737.\u001b[0m\n",
      "Precision: 0.9986449864498645 \n",
      "Recall: 0.9571428571428572 \n",
      "Aging Rate: 0.4855263157894737\n",
      "Precision: 0.9986244841815681 \n",
      "Recall: 0.9705882352941176 \n",
      "Aging Rate: 0.47828947368421054\n",
      "Precision: 0.9986168741355463 \n",
      "Recall: 0.9665327978580991 \n",
      "Aging Rate: 0.4756578947368421\n",
      "\u001b[32m[I 2021-12-13 13:20:37,725]\u001b[0m Trial 31 finished with value: 0.9861556208848102 and parameters: {'n_estimators': 300, 'min_samples_split': 17, 'max_depth': 21}. Best is trial 23 with value: 0.9925770862270737.\u001b[0m\n",
      "Precision: 0.9986842105263158 \n",
      "Recall: 0.9743260590500642 \n",
      "Aging Rate: 0.5\n",
      "Precision: 0.9986504723346828 \n",
      "Recall: 0.961038961038961 \n",
      "Aging Rate: 0.4875\n",
      "Precision: 1.0 \n",
      "Recall: 0.9699863574351978 \n",
      "Aging Rate: 0.4677631578947368\n",
      "\u001b[32m[I 2021-12-13 13:20:38,564]\u001b[0m Trial 32 finished with value: 0.9878451988877054 and parameters: {'n_estimators': 100, 'min_samples_split': 17, 'max_depth': 15}. Best is trial 23 with value: 0.9925770862270737.\u001b[0m\n",
      "Precision: 1.0 \n",
      "Recall: 0.9748010610079576 \n",
      "Aging Rate: 0.48355263157894735\n",
      "Precision: 1.0 \n",
      "Recall: 0.9721854304635762 \n",
      "Aging Rate: 0.48289473684210527\n",
      "Precision: 1.0 \n",
      "Recall: 0.9678714859437751 \n",
      "Aging Rate: 0.4756578947368421\n",
      "\u001b[32m[I 2021-12-13 13:20:40,318]\u001b[0m Trial 33 finished with value: 0.9895919572933317 and parameters: {'n_estimators': 500, 'min_samples_split': 17, 'max_depth': 18}. Best is trial 23 with value: 0.9925770862270737.\u001b[0m\n",
      "Precision: 0.9986206896551724 \n",
      "Recall: 0.9692101740294511 \n",
      "Aging Rate: 0.4769736842105263\n",
      "Precision: 0.9973009446693657 \n",
      "Recall: 0.9723684210526315 \n",
      "Aging Rate: 0.4875\n",
      "Precision: 0.99867197875166 \n",
      "Recall: 0.9791666666666666 \n",
      "Aging Rate: 0.4953947368421053\n",
      "\u001b[32m[I 2021-12-13 13:20:42,085]\u001b[0m Trial 34 finished with value: 0.9891899916748107 and parameters: {'n_estimators': 500, 'min_samples_split': 12, 'max_depth': 15}. Best is trial 23 with value: 0.9925770862270737.\u001b[0m\n"
     ]
    },
    {
     "name": "stdout",
     "output_type": "stream",
     "text": [
      "Precision: 1.0 \n",
      "Recall: 0.9790575916230366 \n",
      "Aging Rate: 0.4921052631578947\n",
      "Precision: 0.998639455782313 \n",
      "Recall: 0.9865591397849462 \n",
      "Aging Rate: 0.48355263157894735\n",
      "Precision: 0.9986244841815681 \n",
      "Recall: 0.9705882352941176 \n",
      "Aging Rate: 0.47828947368421054\n",
      "\u001b[32m[I 2021-12-13 13:20:43,382]\u001b[0m Trial 35 finished with value: 0.9916538953548407 and parameters: {'n_estimators': 300, 'min_samples_split': 12, 'max_depth': 21}. Best is trial 23 with value: 0.9925770862270737.\u001b[0m\n",
      "Precision: 0.996005326231691 \n",
      "Recall: 0.9739583333333334 \n",
      "Aging Rate: 0.49407894736842106\n",
      "Precision: 0.9973262032085561 \n",
      "Recall: 0.9933422103861518 \n",
      "Aging Rate: 0.4921052631578947\n",
      "Precision: 0.994579945799458 \n",
      "Recall: 0.9734748010610079 \n",
      "Aging Rate: 0.4855263157894737\n",
      "\u001b[32m[I 2021-12-13 13:20:44,690]\u001b[0m Trial 36 finished with value: 0.9902400434452564 and parameters: {'n_estimators': 300, 'min_samples_split': 2, 'max_depth': 15}. Best is trial 23 with value: 0.9925770862270737.\u001b[0m\n",
      "Precision: 1.0 \n",
      "Recall: 0.9725848563968669 \n",
      "Aging Rate: 0.4901315789473684\n",
      "Precision: 0.9986013986013986 \n",
      "Recall: 0.9648648648648649 \n",
      "Aging Rate: 0.47039473684210525\n",
      "Precision: 0.9972972972972973 \n",
      "Recall: 0.9749009247027741 \n",
      "Aging Rate: 0.4868421052631579\n",
      "\u001b[32m[I 2021-12-13 13:20:46,440]\u001b[0m Trial 37 finished with value: 0.9884197222585508 and parameters: {'n_estimators': 500, 'min_samples_split': 12, 'max_depth': 21}. Best is trial 23 with value: 0.9925770862270737.\u001b[0m\n",
      "Precision: 0.8385345997286295 \n",
      "Recall: 0.812089356110381 \n",
      "Aging Rate: 0.48486842105263156\n",
      "Precision: 0.8024032042723631 \n",
      "Recall: 0.8312586445366529 \n",
      "Aging Rate: 0.49276315789473685\n",
      "Precision: 0.8810160427807486 \n",
      "Recall: 0.8278894472361809 \n",
      "Aging Rate: 0.4921052631578947\n",
      "\u001b[32m[I 2021-12-13 13:20:49,463]\u001b[0m Trial 38 finished with value: 0.8341661277190712 and parameters: {'n_estimators': 900, 'min_samples_split': 22, 'max_depth': 3}. Best is trial 23 with value: 0.9925770862270737.\u001b[0m\n",
      "Precision: 1.0 \n",
      "Recall: 0.9783783783783784 \n",
      "Aging Rate: 0.4763157894736842\n",
      "Precision: 1.0 \n",
      "Recall: 0.968503937007874 \n",
      "Aging Rate: 0.4855263157894737\n",
      "Precision: 0.9961190168175937 \n",
      "Recall: 0.9709962168978562 \n",
      "Aging Rate: 0.5085526315789474\n",
      "\u001b[32m[I 2021-12-13 13:20:50,743]\u001b[0m Trial 39 finished with value: 0.9891538604498296 and parameters: {'n_estimators': 300, 'min_samples_split': 12, 'max_depth': 18}. Best is trial 23 with value: 0.9925770862270737.\u001b[0m\n",
      "Precision: 1.0 \n",
      "Recall: 0.9661016949152542 \n",
      "Aging Rate: 0.4875\n",
      "Precision: 1.0 \n",
      "Recall: 0.9713114754098361 \n",
      "Aging Rate: 0.4677631578947368\n",
      "Precision: 1.0 \n",
      "Recall: 0.969309462915601 \n",
      "Aging Rate: 0.4986842105263158\n",
      "\u001b[32m[I 2021-12-13 13:20:52,088]\u001b[0m Trial 40 finished with value: 0.9885783294086387 and parameters: {'n_estimators': 300, 'min_samples_split': 12, 'max_depth': 21}. Best is trial 23 with value: 0.9925770862270737.\u001b[0m\n",
      "Precision: 1.0 \n",
      "Recall: 0.989159891598916 \n",
      "Aging Rate: 0.48026315789473684\n",
      "Precision: 1.0 \n",
      "Recall: 0.9794871794871794 \n",
      "Aging Rate: 0.5026315789473684\n",
      "Precision: 1.0 \n",
      "Recall: 0.9794079794079794 \n",
      "Aging Rate: 0.5006578947368421\n",
      "\u001b[32m[I 2021-12-13 13:20:53,372]\u001b[0m Trial 41 finished with value: 0.9936917724154083 and parameters: {'n_estimators': 300, 'min_samples_split': 12, 'max_depth': 18}. Best is trial 41 with value: 0.9936917724154083.\u001b[0m\n",
      "Precision: 1.0 \n",
      "Recall: 0.9666666666666667 \n",
      "Aging Rate: 0.4769736842105263\n",
      "Precision: 0.9986648865153538 \n",
      "Recall: 0.9664082687338501 \n",
      "Aging Rate: 0.49276315789473685\n",
      "Precision: 0.9973009446693657 \n",
      "Recall: 0.9762219286657859 \n",
      "Aging Rate: 0.4875\n",
      "\u001b[32m[I 2021-12-13 13:20:56,633]\u001b[0m Trial 42 finished with value: 0.9880514164277477 and parameters: {'n_estimators': 900, 'min_samples_split': 17, 'max_depth': 15}. Best is trial 41 with value: 0.9936917724154083.\u001b[0m\n",
      "Precision: 0.9985693848354793 \n",
      "Recall: 0.9548563611491108 \n",
      "Aging Rate: 0.4598684210526316\n",
      "Precision: 1.0 \n",
      "Recall: 0.9853528628495339 \n",
      "Aging Rate: 0.4868421052631579\n",
      "Precision: 1.0 \n",
      "Recall: 0.9730820995962315 \n",
      "Aging Rate: 0.4756578947368421\n",
      "\u001b[32m[I 2021-12-13 13:20:57,916]\u001b[0m Trial 43 finished with value: 0.9890653078550143 and parameters: {'n_estimators': 300, 'min_samples_split': 17, 'max_depth': 21}. Best is trial 41 with value: 0.9936917724154083.\u001b[0m\n",
      "Precision: 1.0 \n",
      "Recall: 0.9785809906291834 \n",
      "Aging Rate: 0.48092105263157897\n",
      "Precision: 0.9986577181208054 \n",
      "Recall: 0.96875 \n",
      "Aging Rate: 0.4901315789473684\n",
      "Precision: 1.0 \n",
      "Recall: 0.9716981132075472 \n",
      "Aging Rate: 0.4743421052631579\n",
      "\u001b[32m[I 2021-12-13 13:20:59,196]\u001b[0m Trial 44 finished with value: 0.9898286321296935 and parameters: {'n_estimators': 300, 'min_samples_split': 12, 'max_depth': 18}. Best is trial 41 with value: 0.9936917724154083.\u001b[0m\n",
      "Precision: 0.9972183588317107 \n",
      "Recall: 0.9781718963165075 \n",
      "Aging Rate: 0.4730263157894737\n",
      "Precision: 0.9959349593495935 \n",
      "Recall: 0.9773936170212766 \n",
      "Aging Rate: 0.4855263157894737\n",
      "Precision: 0.9972067039106145 \n",
      "Recall: 0.9635627530364372 \n",
      "Aging Rate: 0.4710526315789474\n",
      "\u001b[32m[I 2021-12-13 13:21:00,480]\u001b[0m Trial 45 finished with value: 0.9880946510195286 and parameters: {'n_estimators': 300, 'min_samples_split': 12, 'max_depth': 15}. Best is trial 41 with value: 0.9936917724154083.\u001b[0m\n",
      "Precision: 0.8857938718662952 \n",
      "Recall: 0.8050632911392405 \n",
      "Aging Rate: 0.4723684210526316\n",
      "Precision: 0.852054794520548 \n",
      "Recall: 0.8249336870026526 \n",
      "Aging Rate: 0.48026315789473684\n",
      "Precision: 0.8535911602209945 \n",
      "Recall: 0.8207171314741036 \n",
      "Aging Rate: 0.4763157894736842\n",
      "\u001b[32m[I 2021-12-13 13:21:02,246]\u001b[0m Trial 46 finished with value: 0.8461587455630868 and parameters: {'n_estimators': 500, 'min_samples_split': 22, 'max_depth': 3}. Best is trial 41 with value: 0.9936917724154083.\u001b[0m\n",
      "Precision: 0.9986824769433466 \n",
      "Recall: 0.974293059125964 \n",
      "Aging Rate: 0.4993421052631579\n",
      "Precision: 0.9986431478968792 \n",
      "Recall: 0.9748344370860927 \n",
      "Aging Rate: 0.48486842105263156\n",
      "Precision: 0.99609375 \n",
      "Recall: 0.9795134443021767 \n",
      "Aging Rate: 0.5052631578947369\n",
      "\u001b[32m[I 2021-12-13 13:21:03,069]\u001b[0m Trial 47 finished with value: 0.9899208826612412 and parameters: {'n_estimators': 100, 'min_samples_split': 7, 'max_depth': 15}. Best is trial 41 with value: 0.9936917724154083.\u001b[0m\n",
      "Precision: 0.9932157394843962 \n",
      "Recall: 0.9786096256684492 \n",
      "Aging Rate: 0.48486842105263156\n",
      "Precision: 0.9974811083123426 \n",
      "Recall: 0.9863013698630136 \n",
      "Aging Rate: 0.5223684210526316\n",
      "Precision: 0.9974587039390089 \n",
      "Recall: 0.9775840597758406 \n",
      "Aging Rate: 0.5177631578947368\n",
      "\u001b[32m[I 2021-12-13 13:21:04,369]\u001b[0m Trial 48 finished with value: 0.9905154389718382 and parameters: {'n_estimators': 300, 'min_samples_split': 2, 'max_depth': 18}. Best is trial 41 with value: 0.9936917724154083.\u001b[0m\n",
      "Precision: 0.9818181818181818 \n",
      "Recall: 0.9538043478260869 \n",
      "Aging Rate: 0.47039473684210525\n",
      "Precision: 0.9919354838709677 \n",
      "Recall: 0.9461538461538461 \n",
      "Aging Rate: 0.48947368421052634\n"
     ]
    },
    {
     "name": "stderr",
     "output_type": "stream",
     "text": [
      "C:\\Users\\user\\anaconda3\\envs\\aging\\lib\\site-packages\\optuna\\samplers\\_tpe\\sampler.py:253: ExperimentalWarning: ``multivariate`` option is an experimental feature. The interface can change in the future.\n",
      "  ExperimentalWarning,\n",
      "\u001b[32m[I 2021-12-13 13:21:07,432]\u001b[0m A new study created in memory with name: no-name-7abc19a0-102a-4d1c-8eb2-5a10b083ed01\u001b[0m\n"
     ]
    },
    {
     "name": "stdout",
     "output_type": "stream",
     "text": [
      "Precision: 0.9878048780487805 \n",
      "Recall: 0.943078913324709 \n",
      "Aging Rate: 0.4855263157894737\n",
      "\u001b[32m[I 2021-12-13 13:21:07,385]\u001b[0m Trial 49 finished with value: 0.9725736928386918 and parameters: {'n_estimators': 900, 'min_samples_split': 2, 'max_depth': 9}. Best is trial 41 with value: 0.9936917724154083.\u001b[0m\n",
      "Sampler is TPESampler\n",
      "Dataset9 :\n"
     ]
    },
    {
     "name": "stderr",
     "output_type": "stream",
     "text": [
      "C:\\Users\\user\\anaconda3\\envs\\aging\\lib\\site-packages\\optuna\\progress_bar.py:47: ExperimentalWarning: Progress bar is experimental (supported from v1.2.0). The interface can change in the future.\n",
      "  self._init_valid()\n"
     ]
    },
    {
     "data": {
      "application/vnd.jupyter.widget-view+json": {
       "model_id": "155736a03d7a42ae9bdbd4afb755c75c",
       "version_major": 2,
       "version_minor": 0
      },
      "text/plain": [
       "  0%|          | 0/50 [00:00<?, ?it/s]"
      ]
     },
     "metadata": {},
     "output_type": "display_data"
    },
    {
     "name": "stdout",
     "output_type": "stream",
     "text": [
      "Precision: 1.0 \n",
      "Recall: 0.38461538461538464 \n",
      "Aging Rate: 0.03588516746411483\n",
      "Precision: 0.972972972972973 \n",
      "Recall: 0.391304347826087 \n",
      "Aging Rate: 0.04425837320574163\n",
      "Precision: 1.0 \n",
      "Recall: 0.40476190476190477 \n",
      "Aging Rate: 0.04066985645933014\n",
      "\u001b[32m[I 2021-12-13 13:21:10,407]\u001b[0m Trial 0 finished with value: 0.6407222457483415 and parameters: {'n_estimators': 900, 'min_samples_split': 27, 'max_depth': 18}. Best is trial 0 with value: 0.6407222457483415.\u001b[0m\n",
      "Precision: 1.0 \n",
      "Recall: 0.05 \n",
      "Aging Rate: 0.005980861244019139\n",
      "Precision: 1.0 \n",
      "Recall: 0.08 \n",
      "Aging Rate: 0.007177033492822967\n",
      "Precision: 1.0 \n",
      "Recall: 0.07575757575757576 \n",
      "Aging Rate: 0.005980861244019139\n",
      "\u001b[32m[I 2021-12-13 13:21:12,514]\u001b[0m Trial 1 finished with value: 0.1691878300812872 and parameters: {'n_estimators': 700, 'min_samples_split': 17, 'max_depth': 6}. Best is trial 0 with value: 0.6407222457483415.\u001b[0m\n",
      "Precision: 0.9444444444444444 \n",
      "Recall: 0.2328767123287671 \n",
      "Aging Rate: 0.0215311004784689\n",
      "Precision: 1.0 \n",
      "Recall: 0.25 \n",
      "Aging Rate: 0.023923444976076555\n",
      "Precision: 1.0 \n",
      "Recall: 0.21739130434782608 \n",
      "Aging Rate: 0.017942583732057416\n",
      "\u001b[32m[I 2021-12-13 13:21:15,510]\u001b[0m Trial 2 finished with value: 0.4553482500636972 and parameters: {'n_estimators': 900, 'min_samples_split': 32, 'max_depth': 12}. Best is trial 0 with value: 0.6407222457483415.\u001b[0m\n",
      "Precision: 0.92 \n",
      "Recall: 0.3709677419354839 \n",
      "Aging Rate: 0.029904306220095694\n",
      "Precision: 1.0 \n",
      "Recall: 0.375 \n",
      "Aging Rate: 0.03229665071770335\n",
      "Precision: 1.0 \n",
      "Recall: 0.4050632911392405 \n",
      "Aging Rate: 0.03827751196172249\n",
      "\u001b[32m[I 2021-12-13 13:21:16,318]\u001b[0m Trial 3 finished with value: 0.6264459862607833 and parameters: {'n_estimators': 100, 'min_samples_split': 22, 'max_depth': 12}. Best is trial 0 with value: 0.6407222457483415.\u001b[0m\n",
      "Precision: 0.9642857142857143 \n",
      "Recall: 0.3176470588235294 \n",
      "Aging Rate: 0.03349282296650718\n",
      "Precision: 0.8636363636363636 \n",
      "Recall: 0.2638888888888889 \n",
      "Aging Rate: 0.02631578947368421\n",
      "Precision: 0.9230769230769231 \n",
      "Recall: 0.4067796610169492 \n",
      "Aging Rate: 0.03110047846889952\n",
      "\u001b[32m[I 2021-12-13 13:21:17,599]\u001b[0m Trial 4 finished with value: 0.5550170945230496 and parameters: {'n_estimators': 300, 'min_samples_split': 32, 'max_depth': 18}. Best is trial 0 with value: 0.6407222457483415.\u001b[0m\n",
      "Precision: 0.9523809523809523 \n",
      "Recall: 0.2702702702702703 \n",
      "Aging Rate: 0.025119617224880382\n",
      "Precision: 0.9629629629629629 \n",
      "Recall: 0.3333333333333333 \n",
      "Aging Rate: 0.03229665071770335\n",
      "Precision: 0.9047619047619048 \n",
      "Recall: 0.3064516129032258 \n",
      "Aging Rate: 0.025119617224880382\n",
      "\u001b[32m[I 2021-12-13 13:21:19,346]\u001b[0m Trial 5 finished with value: 0.5345047154604773 and parameters: {'n_estimators': 500, 'min_samples_split': 32, 'max_depth': 15}. Best is trial 0 with value: 0.6407222457483415.\u001b[0m\n",
      "Precision: 0.95 \n",
      "Recall: 0.2676056338028169 \n",
      "Aging Rate: 0.023923444976076555\n",
      "Precision: 0.9666666666666667 \n",
      "Recall: 0.35365853658536583 \n",
      "Aging Rate: 0.03588516746411483\n",
      "Precision: 1.0 \n",
      "Recall: 0.18085106382978725 \n",
      "Aging Rate: 0.02033492822966507\n",
      "\u001b[32m[I 2021-12-13 13:21:21,706]\u001b[0m Trial 6 finished with value: 0.4902296066784269 and parameters: {'n_estimators': 900, 'min_samples_split': 12, 'max_depth': 9}. Best is trial 0 with value: 0.6407222457483415.\u001b[0m\n"
     ]
    },
    {
     "name": "stderr",
     "output_type": "stream",
     "text": [
      "C:\\Users\\user\\Desktop\\Darui_R08621110\\Master_Thesis\\AUO aging test\\Full_Version_Code\\library\\Aging_Score_Contour.py:43: RuntimeWarning: invalid value encountered in double_scalars\n",
      "  eff = r/ag\n"
     ]
    },
    {
     "name": "stdout",
     "output_type": "stream",
     "text": [
      "Precision: 0 \n",
      "Recall: 0.0 \n",
      "Aging Rate: 0.0\n"
     ]
    },
    {
     "name": "stderr",
     "output_type": "stream",
     "text": [
      "C:\\Users\\user\\Desktop\\Darui_R08621110\\Master_Thesis\\AUO aging test\\Full_Version_Code\\library\\Aging_Score_Contour.py:43: RuntimeWarning: invalid value encountered in double_scalars\n",
      "  eff = r/ag\n"
     ]
    },
    {
     "name": "stdout",
     "output_type": "stream",
     "text": [
      "Precision: 0 \n",
      "Recall: 0.0 \n",
      "Aging Rate: 0.0\n"
     ]
    },
    {
     "name": "stderr",
     "output_type": "stream",
     "text": [
      "C:\\Users\\user\\Desktop\\Darui_R08621110\\Master_Thesis\\AUO aging test\\Full_Version_Code\\library\\Aging_Score_Contour.py:43: RuntimeWarning: invalid value encountered in double_scalars\n",
      "  eff = r/ag\n"
     ]
    },
    {
     "name": "stdout",
     "output_type": "stream",
     "text": [
      "Precision: 0 \n",
      "Recall: 0.0 \n",
      "Aging Rate: 0.0\n",
      "\u001b[33m[W 2021-12-13 13:21:23,599]\u001b[0m Trial 7 failed, because the objective function returned nan.\u001b[0m\n",
      "Precision: 1.0 \n",
      "Recall: 0.027777777777777776 \n",
      "Aging Rate: 0.0023923444976076554\n",
      "Precision: 0.7142857142857143 \n",
      "Recall: 0.0684931506849315 \n",
      "Aging Rate: 0.008373205741626795\n",
      "Precision: 1.0 \n",
      "Recall: 0.07042253521126761 \n",
      "Aging Rate: 0.005980861244019139\n",
      "\u001b[32m[I 2021-12-13 13:21:24,888]\u001b[0m Trial 8 finished with value: 0.1366435831373918 and parameters: {'n_estimators': 300, 'min_samples_split': 32, 'max_depth': 6}. Best is trial 0 with value: 0.6407222457483415.\u001b[0m\n"
     ]
    },
    {
     "name": "stderr",
     "output_type": "stream",
     "text": [
      "C:\\Users\\user\\Desktop\\Darui_R08621110\\Master_Thesis\\AUO aging test\\Full_Version_Code\\library\\Aging_Score_Contour.py:43: RuntimeWarning: invalid value encountered in double_scalars\n",
      "  eff = r/ag\n"
     ]
    },
    {
     "name": "stdout",
     "output_type": "stream",
     "text": [
      "Precision: 0 \n",
      "Recall: 0.0 \n",
      "Aging Rate: 0.0\n"
     ]
    },
    {
     "name": "stderr",
     "output_type": "stream",
     "text": [
      "C:\\Users\\user\\Desktop\\Darui_R08621110\\Master_Thesis\\AUO aging test\\Full_Version_Code\\library\\Aging_Score_Contour.py:43: RuntimeWarning: invalid value encountered in double_scalars\n",
      "  eff = r/ag\n"
     ]
    },
    {
     "name": "stdout",
     "output_type": "stream",
     "text": [
      "Precision: 0 \n",
      "Recall: 0.0 \n",
      "Aging Rate: 0.0\n"
     ]
    },
    {
     "name": "stderr",
     "output_type": "stream",
     "text": [
      "C:\\Users\\user\\Desktop\\Darui_R08621110\\Master_Thesis\\AUO aging test\\Full_Version_Code\\library\\Aging_Score_Contour.py:43: RuntimeWarning: invalid value encountered in double_scalars\n",
      "  eff = r/ag\n"
     ]
    },
    {
     "name": "stdout",
     "output_type": "stream",
     "text": [
      "Precision: 0 \n",
      "Recall: 0.0 \n",
      "Aging Rate: 0.0\n",
      "\u001b[33m[W 2021-12-13 13:21:26,171]\u001b[0m Trial 9 failed, because the objective function returned nan.\u001b[0m\n",
      "Precision: 1.0 \n",
      "Recall: 0.7936507936507936 \n",
      "Aging Rate: 0.05980861244019139\n",
      "Precision: 0.9807692307692307 \n",
      "Recall: 0.796875 \n",
      "Aging Rate: 0.06220095693779904\n",
      "Precision: 0.9814814814814815 \n",
      "Recall: 0.7361111111111112 \n",
      "Aging Rate: 0.0645933014354067\n",
      "\u001b[32m[I 2021-12-13 13:21:28,383]\u001b[0m Trial 10 finished with value: 0.8987578810964113 and parameters: {'n_estimators': 700, 'min_samples_split': 7, 'max_depth': 18}. Best is trial 10 with value: 0.8987578810964113.\u001b[0m\n",
      "Precision: 0.9090909090909091 \n",
      "Recall: 0.15151515151515152 \n",
      "Aging Rate: 0.013157894736842105\n",
      "Precision: 1.0 \n",
      "Recall: 0.15853658536585366 \n",
      "Aging Rate: 0.01555023923444976\n",
      "Precision: 0.9090909090909091 \n",
      "Recall: 0.11764705882352941 \n",
      "Aging Rate: 0.013157894736842105\n",
      "\u001b[32m[I 2021-12-13 13:21:29,205]\u001b[0m Trial 11 finished with value: 0.311300645247708 and parameters: {'n_estimators': 100, 'min_samples_split': 32, 'max_depth': 9}. Best is trial 10 with value: 0.8987578810964113.\u001b[0m\n",
      "Precision: 1.0 \n",
      "Recall: 0.7931034482758621 \n",
      "Aging Rate: 0.08253588516746412\n",
      "Precision: 1.0 \n",
      "Recall: 0.6881720430107527 \n",
      "Aging Rate: 0.07655502392344497\n",
      "Precision: 0.9830508474576272 \n",
      "Recall: 0.7532467532467533 \n",
      "Aging Rate: 0.07057416267942583\n",
      "\u001b[32m[I 2021-12-13 13:21:31,430]\u001b[0m Trial 12 finished with value: 0.8865563036431224 and parameters: {'n_estimators': 700, 'min_samples_split': 2, 'max_depth': 21}. Best is trial 10 with value: 0.8987578810964113.\u001b[0m\n",
      "Precision: 1.0 \n",
      "Recall: 0.8227848101265823 \n",
      "Aging Rate: 0.07775119617224881\n",
      "Precision: 0.9629629629629629 \n",
      "Recall: 0.7222222222222222 \n",
      "Aging Rate: 0.0645933014354067\n",
      "Precision: 0.9574468085106383 \n",
      "Recall: 0.625 \n",
      "Aging Rate: 0.056220095693779906\n",
      "\u001b[32m[I 2021-12-13 13:21:33,657]\u001b[0m Trial 13 finished with value: 0.8638003025733846 and parameters: {'n_estimators': 700, 'min_samples_split': 7, 'max_depth': 21}. Best is trial 10 with value: 0.8987578810964113.\u001b[0m\n",
      "Precision: 1.0 \n",
      "Recall: 0.7073170731707317 \n",
      "Aging Rate: 0.06937799043062201\n",
      "Precision: 0.9230769230769231 \n",
      "Recall: 0.7317073170731707 \n",
      "Aging Rate: 0.07775119617224881\n",
      "Precision: 0.967741935483871 \n",
      "Recall: 0.821917808219178 \n",
      "Aging Rate: 0.07416267942583732\n",
      "\u001b[32m[I 2021-12-13 13:21:34,926]\u001b[0m Trial 14 finished with value: 0.8745449636953572 and parameters: {'n_estimators': 300, 'min_samples_split': 2, 'max_depth': 18}. Best is trial 10 with value: 0.8987578810964113.\u001b[0m\n",
      "Precision: 1.0 \n",
      "Recall: 0.7733333333333333 \n",
      "Aging Rate: 0.06937799043062201\n",
      "Precision: 0.9811320754716981 \n",
      "Recall: 0.6341463414634146 \n",
      "Aging Rate: 0.06339712918660287\n",
      "Precision: 1.0 \n",
      "Recall: 0.8846153846153846 \n",
      "Aging Rate: 0.08253588516746412\n",
      "\u001b[32m[I 2021-12-13 13:21:37,960]\u001b[0m Trial 15 finished with value: 0.8931251980437303 and parameters: {'n_estimators': 900, 'min_samples_split': 2, 'max_depth': 18}. Best is trial 10 with value: 0.8987578810964113.\u001b[0m\n",
      "Precision: 1.0 \n",
      "Recall: 0.5972222222222222 \n",
      "Aging Rate: 0.05143540669856459\n",
      "Precision: 1.0 \n",
      "Recall: 0.6075949367088608 \n",
      "Aging Rate: 0.05741626794258373\n",
      "Precision: 1.0 \n",
      "Recall: 0.5384615384615384 \n",
      "Aging Rate: 0.050239234449760764\n",
      "\u001b[32m[I 2021-12-13 13:21:40,190]\u001b[0m Trial 16 finished with value: 0.7933972948900113 and parameters: {'n_estimators': 700, 'min_samples_split': 2, 'max_depth': 12}. Best is trial 10 with value: 0.8987578810964113.\u001b[0m\n",
      "Precision: 0.975609756097561 \n",
      "Recall: 0.5633802816901409 \n",
      "Aging Rate: 0.04904306220095694\n",
      "Precision: 1.0 \n",
      "Recall: 0.5813953488372093 \n",
      "Aging Rate: 0.05980861244019139\n",
      "Precision: 1.0 \n",
      "Recall: 0.48 \n",
      "Aging Rate: 0.0430622009569378\n",
      "\u001b[32m[I 2021-12-13 13:21:41,945]\u001b[0m Trial 17 finished with value: 0.761926750564049 and parameters: {'n_estimators': 500, 'min_samples_split': 17, 'max_depth': 18}. Best is trial 10 with value: 0.8987578810964113.\u001b[0m\n",
      "Precision: 0.9148936170212766 \n",
      "Recall: 0.5443037974683544 \n",
      "Aging Rate: 0.056220095693779906\n",
      "Precision: 1.0 \n",
      "Recall: 0.654320987654321 \n",
      "Aging Rate: 0.06339712918660287\n",
      "Precision: 1.0 \n",
      "Recall: 0.6097560975609756 \n",
      "Aging Rate: 0.05980861244019139\n",
      "\u001b[32m[I 2021-12-13 13:21:44,965]\u001b[0m Trial 18 finished with value: 0.7959127547810113 and parameters: {'n_estimators': 900, 'min_samples_split': 12, 'max_depth': 18}. Best is trial 10 with value: 0.8987578810964113.\u001b[0m\n",
      "Precision: 1.0 \n",
      "Recall: 0.22077922077922077 \n",
      "Aging Rate: 0.02033492822966507\n",
      "Precision: 1.0 \n",
      "Recall: 0.32432432432432434 \n",
      "Aging Rate: 0.028708133971291867\n",
      "Precision: 1.0 \n",
      "Recall: 0.2345679012345679 \n",
      "Aging Rate: 0.022727272727272728\n",
      "\u001b[32m[I 2021-12-13 13:21:46,261]\u001b[0m Trial 19 finished with value: 0.4905562764808686 and parameters: {'n_estimators': 300, 'min_samples_split': 7, 'max_depth': 9}. Best is trial 10 with value: 0.8987578810964113.\u001b[0m\n",
      "Precision: 1.0 \n",
      "Recall: 0.6627906976744186 \n",
      "Aging Rate: 0.06818181818181818\n",
      "Precision: 1.0 \n",
      "Recall: 0.7325581395348837 \n",
      "Aging Rate: 0.07535885167464115\n",
      "Precision: 0.9655172413793104 \n",
      "Recall: 0.6829268292682927 \n",
      "Aging Rate: 0.06937799043062201\n",
      "\u001b[32m[I 2021-12-13 13:21:49,176]\u001b[0m Trial 20 finished with value: 0.8564567492765107 and parameters: {'n_estimators': 900, 'min_samples_split': 2, 'max_depth': 15}. Best is trial 10 with value: 0.8987578810964113.\u001b[0m\n"
     ]
    },
    {
     "name": "stderr",
     "output_type": "stream",
     "text": [
      "C:\\Users\\user\\Desktop\\Darui_R08621110\\Master_Thesis\\AUO aging test\\Full_Version_Code\\library\\Aging_Score_Contour.py:43: RuntimeWarning: invalid value encountered in double_scalars\n",
      "  eff = r/ag\n"
     ]
    },
    {
     "name": "stdout",
     "output_type": "stream",
     "text": [
      "Precision: 0 \n",
      "Recall: 0.0 \n",
      "Aging Rate: 0.0\n"
     ]
    },
    {
     "name": "stderr",
     "output_type": "stream",
     "text": [
      "C:\\Users\\user\\Desktop\\Darui_R08621110\\Master_Thesis\\AUO aging test\\Full_Version_Code\\library\\Aging_Score_Contour.py:43: RuntimeWarning: invalid value encountered in double_scalars\n",
      "  eff = r/ag\n"
     ]
    },
    {
     "name": "stdout",
     "output_type": "stream",
     "text": [
      "Precision: 0 \n",
      "Recall: 0.0 \n",
      "Aging Rate: 0.0\n"
     ]
    },
    {
     "name": "stderr",
     "output_type": "stream",
     "text": [
      "C:\\Users\\user\\Desktop\\Darui_R08621110\\Master_Thesis\\AUO aging test\\Full_Version_Code\\library\\Aging_Score_Contour.py:43: RuntimeWarning: invalid value encountered in double_scalars\n",
      "  eff = r/ag\n"
     ]
    },
    {
     "name": "stdout",
     "output_type": "stream",
     "text": [
      "Precision: 0 \n",
      "Recall: 0.0 \n",
      "Aging Rate: 0.0\n",
      "\u001b[33m[W 2021-12-13 13:21:51,532]\u001b[0m Trial 21 failed, because the objective function returned nan.\u001b[0m\n",
      "Precision: 1.0 \n",
      "Recall: 0.47435897435897434 \n",
      "Aging Rate: 0.04425837320574163\n",
      "Precision: 0.9545454545454546 \n",
      "Recall: 0.5185185185185185 \n",
      "Aging Rate: 0.05263157894736842\n",
      "Precision: 0.96 \n",
      "Recall: 0.6075949367088608 \n",
      "Aging Rate: 0.05980861244019139\n",
      "\u001b[32m[I 2021-12-13 13:21:53,752]\u001b[0m Trial 22 finished with value: 0.7472474321322197 and parameters: {'n_estimators': 700, 'min_samples_split': 12, 'max_depth': 15}. Best is trial 10 with value: 0.8987578810964113.\u001b[0m\n",
      "Precision: 0.972972972972973 \n",
      "Recall: 0.8571428571428571 \n",
      "Aging Rate: 0.08851674641148326\n",
      "Precision: 0.9833333333333333 \n",
      "Recall: 0.8309859154929577 \n",
      "Aging Rate: 0.07177033492822966\n",
      "Precision: 1.0 \n",
      "Recall: 0.7727272727272727 \n",
      "Aging Rate: 0.08133971291866028\n",
      "\u001b[32m[I 2021-12-13 13:21:56,762]\u001b[0m Trial 23 finished with value: 0.918180634300986 and parameters: {'n_estimators': 900, 'min_samples_split': 2, 'max_depth': 21}. Best is trial 23 with value: 0.918180634300986.\u001b[0m\n",
      "Precision: 0.9838709677419355 \n",
      "Recall: 0.8356164383561644 \n",
      "Aging Rate: 0.07416267942583732\n",
      "Precision: 0.9666666666666667 \n",
      "Recall: 0.7945205479452054 \n",
      "Aging Rate: 0.07177033492822966\n",
      "Precision: 1.0 \n",
      "Recall: 0.8235294117647058 \n",
      "Aging Rate: 0.06698564593301436\n",
      "\u001b[32m[I 2021-12-13 13:21:59,771]\u001b[0m Trial 24 finished with value: 0.9166357330045131 and parameters: {'n_estimators': 900, 'min_samples_split': 2, 'max_depth': 21}. Best is trial 23 with value: 0.918180634300986.\u001b[0m\n",
      "Precision: 1.0 \n",
      "Recall: 0.6666666666666666 \n",
      "Aging Rate: 0.06220095693779904\n",
      "Precision: 0.9833333333333333 \n",
      "Recall: 0.7763157894736842 \n",
      "Aging Rate: 0.07177033492822966\n",
      "Precision: 0.9850746268656716 \n",
      "Recall: 0.8354430379746836 \n",
      "Aging Rate: 0.08014354066985646\n",
      "\u001b[32m[I 2021-12-13 13:22:02,786]\u001b[0m Trial 25 finished with value: 0.8900220638833712 and parameters: {'n_estimators': 900, 'min_samples_split': 2, 'max_depth': 21}. Best is trial 23 with value: 0.918180634300986.\u001b[0m\n",
      "Precision: 0.98 \n",
      "Recall: 0.7101449275362319 \n",
      "Aging Rate: 0.05980861244019139\n",
      "Precision: 1.0 \n",
      "Recall: 0.6571428571428571 \n",
      "Aging Rate: 0.05502392344497608\n",
      "Precision: 0.9607843137254902 \n",
      "Recall: 0.6901408450704225 \n",
      "Aging Rate: 0.061004784688995214\n",
      "\u001b[32m[I 2021-12-13 13:22:05,794]\u001b[0m Trial 26 finished with value: 0.8486224830207146 and parameters: {'n_estimators': 900, 'min_samples_split': 12, 'max_depth': 21}. Best is trial 23 with value: 0.918180634300986.\u001b[0m\n"
     ]
    },
    {
     "name": "stderr",
     "output_type": "stream",
     "text": [
      "C:\\Users\\user\\Desktop\\Darui_R08621110\\Master_Thesis\\AUO aging test\\Full_Version_Code\\library\\Aging_Score_Contour.py:43: RuntimeWarning: invalid value encountered in double_scalars\n",
      "  eff = r/ag\n"
     ]
    },
    {
     "name": "stdout",
     "output_type": "stream",
     "text": [
      "Precision: 0 \n",
      "Recall: 0.0 \n",
      "Aging Rate: 0.0\n"
     ]
    },
    {
     "name": "stderr",
     "output_type": "stream",
     "text": [
      "C:\\Users\\user\\Desktop\\Darui_R08621110\\Master_Thesis\\AUO aging test\\Full_Version_Code\\library\\Aging_Score_Contour.py:43: RuntimeWarning: invalid value encountered in double_scalars\n",
      "  eff = r/ag\n"
     ]
    },
    {
     "name": "stdout",
     "output_type": "stream",
     "text": [
      "Precision: 0 \n",
      "Recall: 0.0 \n",
      "Aging Rate: 0.0\n"
     ]
    },
    {
     "name": "stderr",
     "output_type": "stream",
     "text": [
      "C:\\Users\\user\\Desktop\\Darui_R08621110\\Master_Thesis\\AUO aging test\\Full_Version_Code\\library\\Aging_Score_Contour.py:43: RuntimeWarning: invalid value encountered in double_scalars\n",
      "  eff = r/ag\n"
     ]
    },
    {
     "name": "stdout",
     "output_type": "stream",
     "text": [
      "Precision: 0 \n",
      "Recall: 0.0 \n",
      "Aging Rate: 0.0\n",
      "\u001b[33m[W 2021-12-13 13:22:08,153]\u001b[0m Trial 27 failed, because the objective function returned nan.\u001b[0m\n"
     ]
    },
    {
     "name": "stderr",
     "output_type": "stream",
     "text": [
      "C:\\Users\\user\\Desktop\\Darui_R08621110\\Master_Thesis\\AUO aging test\\Full_Version_Code\\library\\Aging_Score_Contour.py:43: RuntimeWarning: invalid value encountered in double_scalars\n",
      "  eff = r/ag\n"
     ]
    },
    {
     "name": "stdout",
     "output_type": "stream",
     "text": [
      "Precision: 0 \n",
      "Recall: 0.0 \n",
      "Aging Rate: 0.0\n"
     ]
    },
    {
     "name": "stderr",
     "output_type": "stream",
     "text": [
      "C:\\Users\\user\\Desktop\\Darui_R08621110\\Master_Thesis\\AUO aging test\\Full_Version_Code\\library\\Aging_Score_Contour.py:43: RuntimeWarning: invalid value encountered in double_scalars\n",
      "  eff = r/ag\n"
     ]
    },
    {
     "name": "stdout",
     "output_type": "stream",
     "text": [
      "Precision: 0 \n",
      "Recall: 0.0 \n",
      "Aging Rate: 0.0\n"
     ]
    },
    {
     "name": "stderr",
     "output_type": "stream",
     "text": [
      "C:\\Users\\user\\Desktop\\Darui_R08621110\\Master_Thesis\\AUO aging test\\Full_Version_Code\\library\\Aging_Score_Contour.py:43: RuntimeWarning: invalid value encountered in double_scalars\n",
      "  eff = r/ag\n"
     ]
    },
    {
     "name": "stdout",
     "output_type": "stream",
     "text": [
      "Precision: 0 \n",
      "Recall: 0.0 \n",
      "Aging Rate: 0.0\n",
      "\u001b[33m[W 2021-12-13 13:22:10,050]\u001b[0m Trial 28 failed, because the objective function returned nan.\u001b[0m\n",
      "Precision: 1.0 \n",
      "Recall: 0.7439024390243902 \n",
      "Aging Rate: 0.0729665071770335\n",
      "Precision: 1.0 \n",
      "Recall: 0.8507462686567164 \n",
      "Aging Rate: 0.06818181818181818\n",
      "Precision: 1.0 \n",
      "Recall: 0.8461538461538461 \n",
      "Aging Rate: 0.06578947368421052\n",
      "\u001b[32m[I 2021-12-13 13:22:13,063]\u001b[0m Trial 29 finished with value: 0.9229640780813181 and parameters: {'n_estimators': 900, 'min_samples_split': 2, 'max_depth': 21}. Best is trial 29 with value: 0.9229640780813181.\u001b[0m\n",
      "Precision: 1.0 \n",
      "Recall: 0.8507462686567164 \n",
      "Aging Rate: 0.06818181818181818\n",
      "Precision: 0.9818181818181818 \n",
      "Recall: 0.8059701492537313 \n",
      "Aging Rate: 0.06578947368421052\n",
      "Precision: 0.96875 \n",
      "Recall: 0.8266666666666667 \n",
      "Aging Rate: 0.07655502392344497\n",
      "\u001b[32m[I 2021-12-13 13:22:16,079]\u001b[0m Trial 30 finished with value: 0.9210707794317177 and parameters: {'n_estimators': 900, 'min_samples_split': 2, 'max_depth': 21}. Best is trial 29 with value: 0.9229640780813181.\u001b[0m\n"
     ]
    },
    {
     "name": "stderr",
     "output_type": "stream",
     "text": [
      "C:\\Users\\user\\Desktop\\Darui_R08621110\\Master_Thesis\\AUO aging test\\Full_Version_Code\\library\\Aging_Score_Contour.py:43: RuntimeWarning: invalid value encountered in double_scalars\n",
      "  eff = r/ag\n"
     ]
    },
    {
     "name": "stdout",
     "output_type": "stream",
     "text": [
      "Precision: 0 \n",
      "Recall: 0.0 \n",
      "Aging Rate: 0.0\n"
     ]
    },
    {
     "name": "stderr",
     "output_type": "stream",
     "text": [
      "C:\\Users\\user\\Desktop\\Darui_R08621110\\Master_Thesis\\AUO aging test\\Full_Version_Code\\library\\Aging_Score_Contour.py:43: RuntimeWarning: invalid value encountered in double_scalars\n",
      "  eff = r/ag\n"
     ]
    },
    {
     "name": "stdout",
     "output_type": "stream",
     "text": [
      "Precision: 0 \n",
      "Recall: 0.0 \n",
      "Aging Rate: 0.0\n"
     ]
    },
    {
     "name": "stderr",
     "output_type": "stream",
     "text": [
      "C:\\Users\\user\\Desktop\\Darui_R08621110\\Master_Thesis\\AUO aging test\\Full_Version_Code\\library\\Aging_Score_Contour.py:43: RuntimeWarning: invalid value encountered in double_scalars\n",
      "  eff = r/ag\n"
     ]
    },
    {
     "name": "stdout",
     "output_type": "stream",
     "text": [
      "Precision: 0 \n",
      "Recall: 0.0 \n",
      "Aging Rate: 0.0\n",
      "\u001b[33m[W 2021-12-13 13:22:17,830]\u001b[0m Trial 31 failed, because the objective function returned nan.\u001b[0m\n",
      "Precision: 1.0 \n",
      "Recall: 0.7272727272727273 \n",
      "Aging Rate: 0.06698564593301436\n",
      "Precision: 0.9622641509433962 \n",
      "Recall: 0.5795454545454546 \n",
      "Aging Rate: 0.06339712918660287\n",
      "Precision: 1.0 \n",
      "Recall: 0.8 \n",
      "Aging Rate: 0.07177033492822966\n",
      "\u001b[32m[I 2021-12-13 13:22:20,838]\u001b[0m Trial 32 finished with value: 0.8586424952577537 and parameters: {'n_estimators': 900, 'min_samples_split': 7, 'max_depth': 21}. Best is trial 29 with value: 0.9229640780813181.\u001b[0m\n",
      "Precision: 1.0 \n",
      "Recall: 0.796875 \n",
      "Aging Rate: 0.061004784688995214\n",
      "Precision: 1.0 \n",
      "Recall: 0.84 \n",
      "Aging Rate: 0.07535885167464115\n",
      "Precision: 0.9833333333333333 \n",
      "Recall: 0.7866666666666666 \n",
      "Aging Rate: 0.07177033492822966\n",
      "\u001b[32m[I 2021-12-13 13:22:23,739]\u001b[0m Trial 33 finished with value: 0.9179726085500971 and parameters: {'n_estimators': 900, 'min_samples_split': 2, 'max_depth': 21}. Best is trial 29 with value: 0.9229640780813181.\u001b[0m\n"
     ]
    },
    {
     "name": "stderr",
     "output_type": "stream",
     "text": [
      "C:\\Users\\user\\Desktop\\Darui_R08621110\\Master_Thesis\\AUO aging test\\Full_Version_Code\\library\\Aging_Score_Contour.py:43: RuntimeWarning: invalid value encountered in double_scalars\n",
      "  eff = r/ag\n"
     ]
    },
    {
     "name": "stdout",
     "output_type": "stream",
     "text": [
      "Precision: 0 \n",
      "Recall: 0.0 \n",
      "Aging Rate: 0.0\n"
     ]
    },
    {
     "name": "stderr",
     "output_type": "stream",
     "text": [
      "C:\\Users\\user\\Desktop\\Darui_R08621110\\Master_Thesis\\AUO aging test\\Full_Version_Code\\library\\Aging_Score_Contour.py:43: RuntimeWarning: invalid value encountered in double_scalars\n",
      "  eff = r/ag\n"
     ]
    },
    {
     "name": "stdout",
     "output_type": "stream",
     "text": [
      "Precision: 0 \n",
      "Recall: 0.0 \n",
      "Aging Rate: 0.0\n"
     ]
    },
    {
     "name": "stderr",
     "output_type": "stream",
     "text": [
      "C:\\Users\\user\\Desktop\\Darui_R08621110\\Master_Thesis\\AUO aging test\\Full_Version_Code\\library\\Aging_Score_Contour.py:43: RuntimeWarning: invalid value encountered in double_scalars\n",
      "  eff = r/ag\n"
     ]
    },
    {
     "name": "stdout",
     "output_type": "stream",
     "text": [
      "Precision: 0 \n",
      "Recall: 0.0 \n",
      "Aging Rate: 0.0\n",
      "\u001b[33m[W 2021-12-13 13:22:25,492]\u001b[0m Trial 34 failed, because the objective function returned nan.\u001b[0m\n",
      "Precision: 1.0 \n",
      "Recall: 0.8076923076923077 \n",
      "Aging Rate: 0.07535885167464115\n",
      "Precision: 0.9696969696969697 \n",
      "Recall: 0.8311688311688312 \n",
      "Aging Rate: 0.07894736842105263\n",
      "Precision: 1.0 \n",
      "Recall: 0.7021276595744681 \n",
      "Aging Rate: 0.07894736842105263\n",
      "\u001b[32m[I 2021-12-13 13:22:27,725]\u001b[0m Trial 35 finished with value: 0.9011229933308508 and parameters: {'n_estimators': 700, 'min_samples_split': 2, 'max_depth': 18}. Best is trial 29 with value: 0.9229640780813181.\u001b[0m\n"
     ]
    },
    {
     "name": "stderr",
     "output_type": "stream",
     "text": [
      "C:\\Users\\user\\Desktop\\Darui_R08621110\\Master_Thesis\\AUO aging test\\Full_Version_Code\\library\\Aging_Score_Contour.py:43: RuntimeWarning: invalid value encountered in double_scalars\n",
      "  eff = r/ag\n"
     ]
    },
    {
     "name": "stdout",
     "output_type": "stream",
     "text": [
      "Precision: 0 \n",
      "Recall: 0.0 \n",
      "Aging Rate: 0.0\n"
     ]
    },
    {
     "name": "stderr",
     "output_type": "stream",
     "text": [
      "C:\\Users\\user\\Desktop\\Darui_R08621110\\Master_Thesis\\AUO aging test\\Full_Version_Code\\library\\Aging_Score_Contour.py:43: RuntimeWarning: invalid value encountered in double_scalars\n",
      "  eff = r/ag\n"
     ]
    },
    {
     "name": "stdout",
     "output_type": "stream",
     "text": [
      "Precision: 0 \n",
      "Recall: 0.0 \n",
      "Aging Rate: 0.0\n"
     ]
    },
    {
     "name": "stderr",
     "output_type": "stream",
     "text": [
      "C:\\Users\\user\\Desktop\\Darui_R08621110\\Master_Thesis\\AUO aging test\\Full_Version_Code\\library\\Aging_Score_Contour.py:43: RuntimeWarning: invalid value encountered in double_scalars\n",
      "  eff = r/ag\n"
     ]
    },
    {
     "name": "stdout",
     "output_type": "stream",
     "text": [
      "Precision: 0 \n",
      "Recall: 0.0 \n",
      "Aging Rate: 0.0\n",
      "\u001b[33m[W 2021-12-13 13:22:29,007]\u001b[0m Trial 36 failed, because the objective function returned nan.\u001b[0m\n",
      "Precision: 1.0 \n",
      "Recall: 0.8205128205128205 \n",
      "Aging Rate: 0.07655502392344497\n",
      "Precision: 0.9473684210526315 \n",
      "Recall: 0.8571428571428571 \n",
      "Aging Rate: 0.06818181818181818\n",
      "Precision: 1.0 \n",
      "Recall: 0.8048780487804879 \n",
      "Aging Rate: 0.07894736842105263\n",
      "\u001b[32m[I 2021-12-13 13:22:32,020]\u001b[0m Trial 37 finished with value: 0.9198367291294449 and parameters: {'n_estimators': 900, 'min_samples_split': 2, 'max_depth': 21}. Best is trial 29 with value: 0.9229640780813181.\u001b[0m\n"
     ]
    },
    {
     "name": "stderr",
     "output_type": "stream",
     "text": [
      "C:\\Users\\user\\Desktop\\Darui_R08621110\\Master_Thesis\\AUO aging test\\Full_Version_Code\\library\\Aging_Score_Contour.py:43: RuntimeWarning: invalid value encountered in double_scalars\n",
      "  eff = r/ag\n"
     ]
    },
    {
     "name": "stdout",
     "output_type": "stream",
     "text": [
      "Precision: 0 \n",
      "Recall: 0.0 \n",
      "Aging Rate: 0.0\n"
     ]
    },
    {
     "name": "stderr",
     "output_type": "stream",
     "text": [
      "C:\\Users\\user\\Desktop\\Darui_R08621110\\Master_Thesis\\AUO aging test\\Full_Version_Code\\library\\Aging_Score_Contour.py:43: RuntimeWarning: invalid value encountered in double_scalars\n",
      "  eff = r/ag\n"
     ]
    },
    {
     "name": "stdout",
     "output_type": "stream",
     "text": [
      "Precision: 0 \n",
      "Recall: 0.0 \n",
      "Aging Rate: 0.0\n"
     ]
    },
    {
     "name": "stderr",
     "output_type": "stream",
     "text": [
      "C:\\Users\\user\\Desktop\\Darui_R08621110\\Master_Thesis\\AUO aging test\\Full_Version_Code\\library\\Aging_Score_Contour.py:43: RuntimeWarning: invalid value encountered in double_scalars\n",
      "  eff = r/ag\n"
     ]
    },
    {
     "name": "stdout",
     "output_type": "stream",
     "text": [
      "Precision: 0 \n",
      "Recall: 0.0 \n",
      "Aging Rate: 0.0\n",
      "\u001b[33m[W 2021-12-13 13:22:33,290]\u001b[0m Trial 38 failed, because the objective function returned nan.\u001b[0m\n",
      "Precision: 1.0 \n",
      "Recall: 0.8169014084507042 \n",
      "Aging Rate: 0.06937799043062201\n",
      "Precision: 1.0 \n",
      "Recall: 0.8271604938271605 \n",
      "Aging Rate: 0.08014354066985646\n",
      "Precision: 1.0 \n",
      "Recall: 0.7727272727272727 \n",
      "Aging Rate: 0.061004784688995214\n",
      "\u001b[32m[I 2021-12-13 13:22:35,053]\u001b[0m Trial 39 finished with value: 0.919876407181266 and parameters: {'n_estimators': 500, 'min_samples_split': 2, 'max_depth': 21}. Best is trial 29 with value: 0.9229640780813181.\u001b[0m\n",
      "Precision: 1.0 \n",
      "Recall: 0.8148148148148148 \n",
      "Aging Rate: 0.07894736842105263\n",
      "Precision: 0.967741935483871 \n",
      "Recall: 0.8 \n",
      "Aging Rate: 0.07416267942583732\n",
      "Precision: 0.9836065573770492 \n",
      "Recall: 0.7058823529411765 \n",
      "Aging Rate: 0.0729665071770335\n",
      "\u001b[32m[I 2021-12-13 13:22:36,804]\u001b[0m Trial 40 finished with value: 0.8952545306827311 and parameters: {'n_estimators': 500, 'min_samples_split': 2, 'max_depth': 21}. Best is trial 29 with value: 0.9229640780813181.\u001b[0m\n"
     ]
    },
    {
     "name": "stderr",
     "output_type": "stream",
     "text": [
      "C:\\Users\\user\\Desktop\\Darui_R08621110\\Master_Thesis\\AUO aging test\\Full_Version_Code\\library\\Aging_Score_Contour.py:43: RuntimeWarning: invalid value encountered in double_scalars\n",
      "  eff = r/ag\n"
     ]
    },
    {
     "name": "stdout",
     "output_type": "stream",
     "text": [
      "Precision: 0 \n",
      "Recall: 0.0 \n",
      "Aging Rate: 0.0\n"
     ]
    },
    {
     "name": "stderr",
     "output_type": "stream",
     "text": [
      "C:\\Users\\user\\Desktop\\Darui_R08621110\\Master_Thesis\\AUO aging test\\Full_Version_Code\\library\\Aging_Score_Contour.py:43: RuntimeWarning: invalid value encountered in double_scalars\n",
      "  eff = r/ag\n"
     ]
    },
    {
     "name": "stdout",
     "output_type": "stream",
     "text": [
      "Precision: 0 \n",
      "Recall: 0.0 \n",
      "Aging Rate: 0.0\n"
     ]
    },
    {
     "name": "stderr",
     "output_type": "stream",
     "text": [
      "C:\\Users\\user\\Desktop\\Darui_R08621110\\Master_Thesis\\AUO aging test\\Full_Version_Code\\library\\Aging_Score_Contour.py:43: RuntimeWarning: invalid value encountered in double_scalars\n",
      "  eff = r/ag\n"
     ]
    },
    {
     "name": "stdout",
     "output_type": "stream",
     "text": [
      "Precision: 0 \n",
      "Recall: 0.0 \n",
      "Aging Rate: 0.0\n",
      "\u001b[33m[W 2021-12-13 13:22:37,630]\u001b[0m Trial 41 failed, because the objective function returned nan.\u001b[0m\n",
      "Precision: 0.9818181818181818 \n",
      "Recall: 0.6923076923076923 \n",
      "Aging Rate: 0.06578947368421052\n",
      "Precision: 0.9838709677419355 \n",
      "Recall: 0.8026315789473685 \n",
      "Aging Rate: 0.07416267942583732\n",
      "Precision: 0.9642857142857143 \n",
      "Recall: 0.7105263157894737 \n",
      "Aging Rate: 0.06698564593301436\n",
      "\u001b[32m[I 2021-12-13 13:22:38,919]\u001b[0m Trial 42 finished with value: 0.8725617013288055 and parameters: {'n_estimators': 300, 'min_samples_split': 7, 'max_depth': 21}. Best is trial 29 with value: 0.9229640780813181.\u001b[0m\n",
      "Precision: 1.0 \n",
      "Recall: 0.8088235294117647 \n",
      "Aging Rate: 0.06578947368421052\n",
      "Precision: 0.9821428571428571 \n",
      "Recall: 0.859375 \n",
      "Aging Rate: 0.06698564593301436\n",
      "Precision: 1.0 \n",
      "Recall: 0.9027777777777778 \n",
      "Aging Rate: 0.07775119617224881\n",
      "\u001b[32m[I 2021-12-13 13:22:41,143]\u001b[0m Trial 43 finished with value: 0.9394542518083487 and parameters: {'n_estimators': 700, 'min_samples_split': 2, 'max_depth': 21}. Best is trial 43 with value: 0.9394542518083487.\u001b[0m\n",
      "Precision: 0.9836065573770492 \n",
      "Recall: 0.8108108108108109 \n",
      "Aging Rate: 0.0729665071770335\n",
      "Precision: 0.9666666666666667 \n",
      "Recall: 0.8405797101449275 \n",
      "Aging Rate: 0.07177033492822966\n",
      "Precision: 1.0 \n",
      "Recall: 0.7948717948717948 \n",
      "Aging Rate: 0.07416267942583732\n",
      "\u001b[32m[I 2021-12-13 13:22:42,896]\u001b[0m Trial 44 finished with value: 0.9152184147409322 and parameters: {'n_estimators': 500, 'min_samples_split': 2, 'max_depth': 21}. Best is trial 43 with value: 0.9394542518083487.\u001b[0m\n"
     ]
    },
    {
     "name": "stderr",
     "output_type": "stream",
     "text": [
      "C:\\Users\\user\\Desktop\\Darui_R08621110\\Master_Thesis\\AUO aging test\\Full_Version_Code\\library\\Aging_Score_Contour.py:43: RuntimeWarning: invalid value encountered in double_scalars\n",
      "  eff = r/ag\n"
     ]
    },
    {
     "name": "stdout",
     "output_type": "stream",
     "text": [
      "Precision: 0 \n",
      "Recall: 0.0 \n",
      "Aging Rate: 0.0\n"
     ]
    },
    {
     "name": "stderr",
     "output_type": "stream",
     "text": [
      "C:\\Users\\user\\Desktop\\Darui_R08621110\\Master_Thesis\\AUO aging test\\Full_Version_Code\\library\\Aging_Score_Contour.py:43: RuntimeWarning: invalid value encountered in double_scalars\n",
      "  eff = r/ag\n"
     ]
    },
    {
     "name": "stdout",
     "output_type": "stream",
     "text": [
      "Precision: 0 \n",
      "Recall: 0.0 \n",
      "Aging Rate: 0.0\n"
     ]
    },
    {
     "name": "stderr",
     "output_type": "stream",
     "text": [
      "C:\\Users\\user\\Desktop\\Darui_R08621110\\Master_Thesis\\AUO aging test\\Full_Version_Code\\library\\Aging_Score_Contour.py:43: RuntimeWarning: invalid value encountered in double_scalars\n",
      "  eff = r/ag\n"
     ]
    },
    {
     "name": "stdout",
     "output_type": "stream",
     "text": [
      "Precision: 0 \n",
      "Recall: 0.0 \n",
      "Aging Rate: 0.0\n",
      "\u001b[33m[W 2021-12-13 13:22:44,660]\u001b[0m Trial 45 failed, because the objective function returned nan.\u001b[0m\n"
     ]
    },
    {
     "name": "stderr",
     "output_type": "stream",
     "text": [
      "C:\\Users\\user\\Desktop\\Darui_R08621110\\Master_Thesis\\AUO aging test\\Full_Version_Code\\library\\Aging_Score_Contour.py:43: RuntimeWarning: invalid value encountered in double_scalars\n",
      "  eff = r/ag\n"
     ]
    },
    {
     "name": "stdout",
     "output_type": "stream",
     "text": [
      "Precision: 0 \n",
      "Recall: 0.0 \n",
      "Aging Rate: 0.0\n"
     ]
    },
    {
     "name": "stderr",
     "output_type": "stream",
     "text": [
      "C:\\Users\\user\\Desktop\\Darui_R08621110\\Master_Thesis\\AUO aging test\\Full_Version_Code\\library\\Aging_Score_Contour.py:43: RuntimeWarning: invalid value encountered in double_scalars\n",
      "  eff = r/ag\n"
     ]
    },
    {
     "name": "stdout",
     "output_type": "stream",
     "text": [
      "Precision: 0 \n",
      "Recall: 0.0 \n",
      "Aging Rate: 0.0\n"
     ]
    },
    {
     "name": "stderr",
     "output_type": "stream",
     "text": [
      "C:\\Users\\user\\Desktop\\Darui_R08621110\\Master_Thesis\\AUO aging test\\Full_Version_Code\\library\\Aging_Score_Contour.py:43: RuntimeWarning: invalid value encountered in double_scalars\n",
      "  eff = r/ag\n"
     ]
    },
    {
     "name": "stdout",
     "output_type": "stream",
     "text": [
      "Precision: 0 \n",
      "Recall: 0.0 \n",
      "Aging Rate: 0.0\n",
      "\u001b[33m[W 2021-12-13 13:22:46,420]\u001b[0m Trial 46 failed, because the objective function returned nan.\u001b[0m\n",
      "Precision: 1.0 \n",
      "Recall: 0.6984126984126984 \n",
      "Aging Rate: 0.05263157894736842\n",
      "Precision: 1.0 \n",
      "Recall: 0.8064516129032258 \n",
      "Aging Rate: 0.05980861244019139\n",
      "Precision: 0.9807692307692307 \n",
      "Recall: 0.7183098591549296 \n",
      "Aging Rate: 0.06220095693779904\n",
      "\u001b[32m[I 2021-12-13 13:22:48,180]\u001b[0m Trial 47 finished with value: 0.8842296189185657 and parameters: {'n_estimators': 500, 'min_samples_split': 12, 'max_depth': 21}. Best is trial 43 with value: 0.9394542518083487.\u001b[0m\n",
      "Precision: 0.9666666666666667 \n",
      "Recall: 0.4084507042253521 \n",
      "Aging Rate: 0.03588516746411483\n",
      "Precision: 1.0 \n",
      "Recall: 0.5324675324675324 \n",
      "Aging Rate: 0.04904306220095694\n",
      "Precision: 0.9743589743589743 \n",
      "Recall: 0.5205479452054794 \n",
      "Aging Rate: 0.04665071770334928\n",
      "\u001b[32m[I 2021-12-13 13:22:49,003]\u001b[0m Trial 48 finished with value: 0.7164433732430516 and parameters: {'n_estimators': 100, 'min_samples_split': 22, 'max_depth': 21}. Best is trial 43 with value: 0.9394542518083487.\u001b[0m\n",
      "Precision: 0.9649122807017544 \n",
      "Recall: 0.7051282051282052 \n",
      "Aging Rate: 0.06818181818181818\n",
      "Precision: 1.0 \n",
      "Recall: 0.7613636363636364 \n",
      "Aging Rate: 0.08014354066985646\n",
      "Precision: 1.0 \n",
      "Recall: 0.8103448275862069 \n",
      "Aging Rate: 0.056220095693779906\n",
      "\u001b[32m[I 2021-12-13 13:22:50,752]\u001b[0m Trial 49 finished with value: 0.8909392792877622 and parameters: {'n_estimators': 500, 'min_samples_split': 2, 'max_depth': 18}. Best is trial 43 with value: 0.9394542518083487.\u001b[0m\n",
      "Sampler is TPESampler\n"
     ]
    }
   ],
   "source": [
    "best_paramC, all_scoreC = all_optuna(num_set = 10, \n",
    "                                     all_data = run_train, \n",
    "                                     mode = 'C', \n",
    "                                     TPE_multi = True, \n",
    "                                     n_iter = 50, \n",
    "                                     filename = 'runhist_array_m2m4_m5_3criteria_ExtraTrees', \n",
    "                                     creator = ExtraTrees_creator\n",
    "                                    )"
   ]
  },
  {
   "cell_type": "code",
   "execution_count": null,
   "metadata": {
    "ExecuteTime": {
     "end_time": "2021-10-14T21:45:16.223404Z",
     "start_time": "2021-10-14T15:44:17.242572Z"
    }
   },
   "outputs": [],
   "source": [
    "best_paramR, all_scoreR = all_optuna(num_set = 10, \n",
    "                                     all_data = run_train, \n",
    "                                     mode = 'R', \n",
    "                                     TPE_multi = True, \n",
    "                                     n_iter = 50,\n",
    "                                     filename = 'runhist_array_m2m5_4selection_ExtraTrees', \n",
    "                                     creator = ExtraTrees_creator\n",
    "                                    )"
   ]
  },
  {
   "cell_type": "code",
   "execution_count": null,
   "metadata": {
    "ExecuteTime": {
     "end_time": "2021-10-14T21:45:17.035673Z",
     "start_time": "2021-10-14T21:45:16.223404Z"
    }
   },
   "outputs": [],
   "source": [
    "##### optimization history plot #####\n",
    "optuna_history(best_paramC, all_scoreC, num_row = 4, num_col = 3, model = 'ExtraTrees Classifier')\n",
    "            \n",
    "##### best hyperparameter table #####\n",
    "param_table = pd.DataFrame(best_paramC).T\n",
    "param_table"
   ]
  },
  {
   "cell_type": "markdown",
   "metadata": {},
   "source": [
    "## "
   ]
  },
  {
   "cell_type": "markdown",
   "metadata": {},
   "source": [
    "### Classifier"
   ]
  },
  {
   "cell_type": "code",
   "execution_count": 14,
   "metadata": {
    "ExecuteTime": {
     "end_time": "2021-12-13T05:23:26.721592Z",
     "start_time": "2021-12-13T05:22:51.867566Z"
    },
    "scrolled": true
   },
   "outputs": [
    {
     "name": "stdout",
     "output_type": "stream",
     "text": [
      "\n",
      " Dataset 0:\n",
      "Precision: 0.0 \n",
      "Recall: 0.0 \n",
      "Aging Rate: 4.111081419967522e-05\n",
      "\n",
      " Dataset 1:\n",
      "Precision: 0.0005431830526887561 \n",
      "Recall: 0.0196078431372549 \n",
      "Aging Rate: 0.03784250447080104\n",
      "\n",
      " Dataset 2:\n",
      "Precision: 0.001153846153846154 \n",
      "Recall: 0.23529411764705882 \n",
      "Aging Rate: 0.21377623383831118\n",
      "\n",
      " Dataset 3:\n",
      "Precision: 0.003355704697986577 \n",
      "Recall: 0.0392156862745098 \n",
      "Aging Rate: 0.012251022631503216\n",
      "\n",
      " Dataset 4:\n",
      "Precision: 0.0011494252873563218 \n",
      "Recall: 0.0196078431372549 \n",
      "Aging Rate: 0.017883204176858722\n",
      "\n",
      " Dataset 5:\n",
      "Precision: 0.0011402508551881414 \n",
      "Recall: 0.058823529411764705 \n",
      "Aging Rate: 0.05408127607967276\n",
      "\n",
      " Dataset 6:\n",
      "Precision: 0.0013050570962479609 \n",
      "Recall: 0.47058823529411764 \n",
      "Aging Rate: 0.3780139365660137\n",
      "\n",
      " Dataset 7:\n",
      "Precision: 0.0014641288433382138 \n",
      "Recall: 0.0196078431372549 \n",
      "Aging Rate: 0.01403934304918909\n",
      "\n",
      " Dataset 8:\n",
      "Precision: 0.0 \n",
      "Recall: 0.0 \n",
      "Aging Rate: 0.010216037328619294\n",
      "\n",
      " Dataset 9:\n",
      "Precision: 0.0 \n",
      "Recall: 0.0 \n",
      "Aging Rate: 0.033813644679232875\n"
     ]
    },
    {
     "data": {
      "image/png": "[encoded data removed]",
      "text/plain": [
       "<Figure size 1080x576 with 2 Axes>"
      ]
     },
     "metadata": {
      "needs_background": "light"
     },
     "output_type": "display_data"
    }
   ],
   "source": [
    "table_setC = runall_ExtraTreesC(10, run_train_x, run_test_x, run_train_y, run_test_y, best_paramC)\n",
    "line_chart(table_setC, title = 'ExtraTrees Classifier')"
   ]
  },
  {
   "cell_type": "code",
   "execution_count": 15,
   "metadata": {
    "ExecuteTime": {
     "end_time": "2021-12-13T05:23:27.774817Z",
     "start_time": "2021-12-13T05:23:27.759179Z"
    }
   },
   "outputs": [
    {
     "data": {
      "text/html": [
       "<div>\n",
       "<style scoped>\n",
       "    .dataframe tbody tr th:only-of-type {\n",
       "        vertical-align: middle;\n",
       "    }\n",
       "\n",
       "    .dataframe tbody tr th {\n",
       "        vertical-align: top;\n",
       "    }\n",
       "\n",
       "    .dataframe thead th {\n",
       "        text-align: right;\n",
       "    }\n",
       "</style>\n",
       "<table border=\"1\" class=\"dataframe\">\n",
       "  <thead>\n",
       "    <tr style=\"text-align: right;\">\n",
       "      <th></th>\n",
       "      <th>Balance Ratio</th>\n",
       "      <th>Train_OK</th>\n",
       "      <th>Train_NG</th>\n",
       "      <th>TP</th>\n",
       "      <th>FP</th>\n",
       "      <th>FN</th>\n",
       "      <th>TN</th>\n",
       "      <th>Precision</th>\n",
       "      <th>Recall</th>\n",
       "      <th>Aging Rate</th>\n",
       "      <th>Efficiency</th>\n",
       "      <th>Score</th>\n",
       "    </tr>\n",
       "  </thead>\n",
       "  <tbody>\n",
       "    <tr>\n",
       "      <th>dataset 0</th>\n",
       "      <td>515.934211</td>\n",
       "      <td>156844.0</td>\n",
       "      <td>304.0</td>\n",
       "      <td>0.0</td>\n",
       "      <td>2.0</td>\n",
       "      <td>51.0</td>\n",
       "      <td>48596.0</td>\n",
       "      <td>0.000000</td>\n",
       "      <td>0.000000</td>\n",
       "      <td>0.000041</td>\n",
       "      <td>0.000000</td>\n",
       "      <td>0.000000</td>\n",
       "    </tr>\n",
       "    <tr>\n",
       "      <th>dataset 1</th>\n",
       "      <td>1.000000</td>\n",
       "      <td>3067.0</td>\n",
       "      <td>3067.0</td>\n",
       "      <td>1.0</td>\n",
       "      <td>1840.0</td>\n",
       "      <td>50.0</td>\n",
       "      <td>46758.0</td>\n",
       "      <td>0.000543</td>\n",
       "      <td>0.019608</td>\n",
       "      <td>0.037843</td>\n",
       "      <td>0.518143</td>\n",
       "      <td>0.000000</td>\n",
       "    </tr>\n",
       "    <tr>\n",
       "      <th>dataset 2</th>\n",
       "      <td>1.000000</td>\n",
       "      <td>4207.0</td>\n",
       "      <td>4207.0</td>\n",
       "      <td>12.0</td>\n",
       "      <td>10388.0</td>\n",
       "      <td>39.0</td>\n",
       "      <td>38210.0</td>\n",
       "      <td>0.001154</td>\n",
       "      <td>0.235294</td>\n",
       "      <td>0.213776</td>\n",
       "      <td>1.100656</td>\n",
       "      <td>0.174647</td>\n",
       "    </tr>\n",
       "    <tr>\n",
       "      <th>dataset 3</th>\n",
       "      <td>1.000000</td>\n",
       "      <td>3336.0</td>\n",
       "      <td>3336.0</td>\n",
       "      <td>2.0</td>\n",
       "      <td>594.0</td>\n",
       "      <td>49.0</td>\n",
       "      <td>48004.0</td>\n",
       "      <td>0.003356</td>\n",
       "      <td>0.039216</td>\n",
       "      <td>0.012251</td>\n",
       "      <td>3.201013</td>\n",
       "      <td>0.056287</td>\n",
       "    </tr>\n",
       "    <tr>\n",
       "      <th>dataset 4</th>\n",
       "      <td>1.000000</td>\n",
       "      <td>3038.0</td>\n",
       "      <td>3038.0</td>\n",
       "      <td>1.0</td>\n",
       "      <td>869.0</td>\n",
       "      <td>50.0</td>\n",
       "      <td>47729.0</td>\n",
       "      <td>0.001149</td>\n",
       "      <td>0.019608</td>\n",
       "      <td>0.017883</td>\n",
       "      <td>1.096439</td>\n",
       "      <td>0.014515</td>\n",
       "    </tr>\n",
       "    <tr>\n",
       "      <th>dataset 5</th>\n",
       "      <td>1.006623</td>\n",
       "      <td>3040.0</td>\n",
       "      <td>3020.0</td>\n",
       "      <td>3.0</td>\n",
       "      <td>2628.0</td>\n",
       "      <td>48.0</td>\n",
       "      <td>45970.0</td>\n",
       "      <td>0.001140</td>\n",
       "      <td>0.058824</td>\n",
       "      <td>0.054081</td>\n",
       "      <td>1.087688</td>\n",
       "      <td>0.043297</td>\n",
       "    </tr>\n",
       "    <tr>\n",
       "      <th>dataset 6</th>\n",
       "      <td>0.719016</td>\n",
       "      <td>3040.0</td>\n",
       "      <td>4228.0</td>\n",
       "      <td>24.0</td>\n",
       "      <td>18366.0</td>\n",
       "      <td>27.0</td>\n",
       "      <td>30232.0</td>\n",
       "      <td>0.001305</td>\n",
       "      <td>0.470588</td>\n",
       "      <td>0.378014</td>\n",
       "      <td>1.244897</td>\n",
       "      <td>0.380546</td>\n",
       "    </tr>\n",
       "    <tr>\n",
       "      <th>dataset 7</th>\n",
       "      <td>1.000000</td>\n",
       "      <td>3040.0</td>\n",
       "      <td>3040.0</td>\n",
       "      <td>1.0</td>\n",
       "      <td>682.0</td>\n",
       "      <td>50.0</td>\n",
       "      <td>47916.0</td>\n",
       "      <td>0.001464</td>\n",
       "      <td>0.019608</td>\n",
       "      <td>0.014039</td>\n",
       "      <td>1.396635</td>\n",
       "      <td>0.017139</td>\n",
       "    </tr>\n",
       "    <tr>\n",
       "      <th>dataset 8</th>\n",
       "      <td>1.000000</td>\n",
       "      <td>3040.0</td>\n",
       "      <td>3040.0</td>\n",
       "      <td>0.0</td>\n",
       "      <td>497.0</td>\n",
       "      <td>51.0</td>\n",
       "      <td>48101.0</td>\n",
       "      <td>0.000000</td>\n",
       "      <td>0.000000</td>\n",
       "      <td>0.010216</td>\n",
       "      <td>0.000000</td>\n",
       "      <td>0.000000</td>\n",
       "    </tr>\n",
       "    <tr>\n",
       "      <th>dataset 9</th>\n",
       "      <td>10.000000</td>\n",
       "      <td>3040.0</td>\n",
       "      <td>304.0</td>\n",
       "      <td>0.0</td>\n",
       "      <td>1645.0</td>\n",
       "      <td>51.0</td>\n",
       "      <td>46953.0</td>\n",
       "      <td>0.000000</td>\n",
       "      <td>0.000000</td>\n",
       "      <td>0.033814</td>\n",
       "      <td>0.000000</td>\n",
       "      <td>0.000000</td>\n",
       "    </tr>\n",
       "  </tbody>\n",
       "</table>\n",
       "</div>"
      ],
      "text/plain": [
       "           Balance Ratio  Train_OK  Train_NG    TP       FP    FN       TN  \\\n",
       "dataset 0     515.934211  156844.0     304.0   0.0      2.0  51.0  48596.0   \n",
       "dataset 1       1.000000    3067.0    3067.0   1.0   1840.0  50.0  46758.0   \n",
       "dataset 2       1.000000    4207.0    4207.0  12.0  10388.0  39.0  38210.0   \n",
       "dataset 3       1.000000    3336.0    3336.0   2.0    594.0  49.0  48004.0   \n",
       "dataset 4       1.000000    3038.0    3038.0   1.0    869.0  50.0  47729.0   \n",
       "dataset 5       1.006623    3040.0    3020.0   3.0   2628.0  48.0  45970.0   \n",
       "dataset 6       0.719016    3040.0    4228.0  24.0  18366.0  27.0  30232.0   \n",
       "dataset 7       1.000000    3040.0    3040.0   1.0    682.0  50.0  47916.0   \n",
       "dataset 8       1.000000    3040.0    3040.0   0.0    497.0  51.0  48101.0   \n",
       "dataset 9      10.000000    3040.0     304.0   0.0   1645.0  51.0  46953.0   \n",
       "\n",
       "           Precision    Recall  Aging Rate  Efficiency     Score  \n",
       "dataset 0   0.000000  0.000000    0.000041    0.000000  0.000000  \n",
       "dataset 1   0.000543  0.019608    0.037843    0.518143  0.000000  \n",
       "dataset 2   0.001154  0.235294    0.213776    1.100656  0.174647  \n",
       "dataset 3   0.003356  0.039216    0.012251    3.201013  0.056287  \n",
       "dataset 4   0.001149  0.019608    0.017883    1.096439  0.014515  \n",
       "dataset 5   0.001140  0.058824    0.054081    1.087688  0.043297  \n",
       "dataset 6   0.001305  0.470588    0.378014    1.244897  0.380546  \n",
       "dataset 7   0.001464  0.019608    0.014039    1.396635  0.017139  \n",
       "dataset 8   0.000000  0.000000    0.010216    0.000000  0.000000  \n",
       "dataset 9   0.000000  0.000000    0.033814    0.000000  0.000000  "
      ]
     },
     "execution_count": 15,
     "metadata": {},
     "output_type": "execute_result"
    }
   ],
   "source": [
    "table_setC"
   ]
  },
  {
   "cell_type": "markdown",
   "metadata": {},
   "source": [
    "### Regressor"
   ]
  },
  {
   "cell_type": "code",
   "execution_count": null,
   "metadata": {
    "ExecuteTime": {
     "end_time": "2021-10-15T00:31:37.135969Z",
     "start_time": "2021-10-15T00:28:27.264732Z"
    }
   },
   "outputs": [],
   "source": [
    "pr_dict, table_setR = runall_ExtraTreesR(10, run_train_x, run_test_x, run_train_y, run_test_y, best_paramR, \n",
    "                                         thres_target = 'Recall', threshold = 0.7)\n",
    "line_chart(table_setR, title = 'ExtraTrees Regressor')"
   ]
  },
  {
   "cell_type": "code",
   "execution_count": null,
   "metadata": {
    "ExecuteTime": {
     "end_time": "2021-10-15T00:32:12.348532Z",
     "start_time": "2021-10-15T00:32:08.563899Z"
    }
   },
   "outputs": [],
   "source": [
    "multiple_curve(3, 3, pr_dict, table_setR, target = 'Aging Rate')\n",
    "multiple_curve(3, 3, pr_dict, table_setR, target = 'Precision')\n",
    "table_setR"
   ]
  },
  {
   "cell_type": "markdown",
   "metadata": {},
   "source": [
    "### export"
   ]
  },
  {
   "cell_type": "code",
   "execution_count": 16,
   "metadata": {
    "ExecuteTime": {
     "end_time": "2021-12-13T05:23:29.008895Z",
     "start_time": "2021-12-13T05:23:28.805817Z"
    }
   },
   "outputs": [],
   "source": [
    "savedate = '20211214'\n",
    "TPE_multi = True\n",
    "\n",
    "table_setC['sampler'] = 'multivariate-TPE' if TPE_multi else 'univariate-TPE'\n",
    "table_setC['model'] = 'ExtraTrees'\n",
    "with pd.ExcelWriter(f'{savedate}_Classifier.xlsx', mode = 'a') as writer:\n",
    "    table_setC.to_excel(writer, sheet_name = 'ExtraTrees')"
   ]
  }
 ],
 "metadata": {
  "hide_input": false,
  "kernelspec": {
   "display_name": "Python [conda env:aging]",
   "language": "python",
   "name": "conda-env-aging-py"
  },
  "language_info": {
   "codemirror_mode": {
    "name": "ipython",
    "version": 3
   },
   "file_extension": ".py",
   "mimetype": "text/x-python",
   "name": "python",
   "nbconvert_exporter": "python",
   "pygments_lexer": "ipython3",
   "version": "3.7.10"
  },
  "toc": {
   "base_numbering": 1,
   "nav_menu": {},
   "number_sections": true,
   "sideBar": true,
   "skip_h1_title": false,
   "title_cell": "Table of Contents",
   "title_sidebar": "Contents",
   "toc_cell": false,
   "toc_position": {},
   "toc_section_display": true,
   "toc_window_display": false
  },
  "varInspector": {
   "cols": {
    "lenName": 16,
    "lenType": 16,
    "lenVar": 40
   },
   "kernels_config": {
    "python": {
     "delete_cmd_postfix": "",
     "delete_cmd_prefix": "del ",
     "library": "var_list.py",
     "varRefreshCmd": "print(var_dic_list())"
    },
    "r": {
     "delete_cmd_postfix": ") ",
     "delete_cmd_prefix": "rm(",
     "library": "var_list.r",
     "varRefreshCmd": "cat(var_dic_list()) "
    }
   },
   "types_to_exclude": [
    "module",
    "function",
    "builtin_function_or_method",
    "instance",
    "_Feature"
   ],
   "window_display": false
  }
 },
 "nbformat": 4,
 "nbformat_minor": 2
}
