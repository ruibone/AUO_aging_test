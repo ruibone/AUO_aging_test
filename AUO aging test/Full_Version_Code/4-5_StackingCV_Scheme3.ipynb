{
 "cells": [
  {
   "cell_type": "code",
   "execution_count": null,
   "metadata": {
    "ExecuteTime": {
     "end_time": "2021-11-22T12:29:39.843210Z",
     "start_time": "2021-11-22T12:29:36.459628Z"
    }
   },
   "outputs": [],
   "source": [
    "import os\n",
    "import numpy as np\n",
    "import pandas as pd\n",
    "import matplotlib.pyplot as plt\n",
    "import seaborn as sn\n",
    "import random\n",
    "import pickle\n",
    "from tqdm.auto import tqdm\n",
    "\n",
    "from sklearn.linear_model import LogisticRegression, RidgeCV, Ridge\n",
    "from sklearn.ensemble import ExtraTreesClassifier, ExtraTreesRegressor, RandomForestClassifier, RandomForestRegressor,\\\n",
    "    AdaBoostClassifier, AdaBoostRegressor\n",
    "from sklearn.model_selection import train_test_split\n",
    "from sklearn.inspection import permutation_importance\n",
    "import shap\n",
    "from catboost import CatBoostClassifier, CatBoostRegressor\n",
    "from lightgbm import LGBMClassifier, LGBMRegressor\n",
    "from xgboost import XGBClassifier, XGBRegressor\n",
    "import optuna\n",
    "\n",
    "from library.Data_Preprocessing import Balance_Ratio\n",
    "from library.Imbalance_Sampling import label_divide\n",
    "from library.Aging_Score_Contour import score1\n",
    "from library.AdaBoost import train_set, multiple_set, multiple_month, line_chart, cf_matrix, AUC, PR_curve, \\\n",
    "     multiple_curve, PR_matrix, best_threshold, all_optuna, optuna_history, AdaBoost_creator \n",
    "from library.XGBoost import XGBoost_creator\n",
    "from library.LightGBM import LightGBM_creator\n",
    "from library.CatBoost import CatBoost_creator\n",
    "from library.Random_Forest import RandomForest_creator\n",
    "from library.Extra_Trees import ExtraTrees_creator\n",
    "\n",
    "os.chdir('C:/Users/user/Desktop/Darui_R08621110')  \n",
    "os.getcwd()"
   ]
  },
  {
   "cell_type": "markdown",
   "metadata": {},
   "source": [
    "## "
   ]
  },
  {
   "cell_type": "markdown",
   "metadata": {},
   "source": [
    "### optimize base learner"
   ]
  },
  {
   "cell_type": "code",
   "execution_count": null,
   "metadata": {
    "ExecuteTime": {
     "end_time": "2021-11-22T12:37:47.531896Z",
     "start_time": "2021-11-22T12:37:47.515939Z"
    }
   },
   "outputs": [],
   "source": [
    "def month_param(num_set, date, month_list, model_list, iter_list, filename, mode, TPE_multi):\n",
    "    \n",
    "    sampler = 'multivariate-TPE' if TPE_multi else 'univariate-TPE'\n",
    "    month_dict = {}\n",
    "    for month in month_list:\n",
    "        \n",
    "        model_dict = {}\n",
    "        for i, model in enumerate(model_list):\n",
    "                \n",
    "            with open(f'hyperparameter/{date}/{filename}_m{month}_{model}{mode}_{sampler}_{iter_list[i]}.data', 'rb') as f:\n",
    "                model_param = pickle.load(f)\n",
    "            model_dict[model] = model_param\n",
    "        \n",
    "        month_dict[f'm{month}'] = model_dict\n",
    "\n",
    "    return month_dict\n",
    "\n",
    "\n",
    "def all_param(num_set, date, model_list, iter_list, filename, mode, TPE_multi):\n",
    "    \n",
    "    sampler = 'multivariate-TPE' if TPE_multi else 'univariate-TPE'\n",
    "    model_dict = {}\n",
    "    for i, model in enumerate(model_list):\n",
    "\n",
    "        with open(f'hyperparameter/{date}/{filename}_{model}{mode}_{sampler}_{iter_list[i]}.data', 'rb') as f:\n",
    "                set_dict = pickle.load(f)\n",
    "                \n",
    "        model_dict[model] = set_dict\n",
    "        \n",
    "    return model_dict\n",
    "\n",
    "\n",
    "def optimize_base(num_set, train_data, mode, TPE_multi, base_list, iter_list, filename):\n",
    "    \n",
    "    best_param = {}\n",
    "    month_list = list(train_data.keys())\n",
    "    \n",
    "    for i in tqdm(month_list):\n",
    "        \n",
    "        best_param[f'{i}'] = {}\n",
    "        if 'XGBoost' in base_list:\n",
    "            print('\\nStarting for XGBoost:\\n')\n",
    "            model_index = base_list.index('XGBoost')\n",
    "            best_param[f'{i}'][f'XGBoost'], _ = all_optuna(num_set = num_set, \n",
    "                                                           all_data = train_data[f'{i}'], \n",
    "                                                           mode = mode, \n",
    "                                                           TPE_multi = TPE_multi, \n",
    "                                                           n_iter = iter_list[model_index],\n",
    "                                                           filename = f'{filename}_{i}_XGBoost',\n",
    "                                                           creator = XGBoost_creator)\n",
    "\n",
    "        if 'LightGBM' in base_list:\n",
    "            print('\\nStarting for LightGBM:\\n')\n",
    "            model_index = base_list.index('LightGBM')\n",
    "            best_param[f'{i}'][f'LightGBM'], _ = all_optuna(num_set = num_set, \n",
    "                                                            all_data = train_data[f'{i}'], \n",
    "                                                            mode = mode, \n",
    "                                                            TPE_multi = TPE_multi, \n",
    "                                                            n_iter = iter_list[model_index],\n",
    "                                                            filename = f'{filename}_{i}_LightGBM',\n",
    "                                                            creator = LightGBM_creator)\n",
    "        \n",
    "        if 'AdaBoost' in base_list:\n",
    "            print('\\nStarting for AdaBoost:\\n')\n",
    "            model_index = base_list.index('AdaBoost')\n",
    "            best_param[f'{i}'][f'AdaBoost'], _ = all_optuna(num_set = num_set, \n",
    "                                                            all_data = train_data[f'{i}'], \n",
    "                                                            mode = mode, \n",
    "                                                            TPE_multi = TPE_multi, \n",
    "                                                            n_iter = iter_list[model_index],\n",
    "                                                            filename = f'{filename}_{i}_AdaBoost',\n",
    "                                                            creator = AdaBoost_creator)\n",
    "            \n",
    "        if 'CatBoost' in base_list:\n",
    "            print('\\nStarting for CatBoost:\\n')\n",
    "            model_index = base_list.index('CatBoost')\n",
    "            best_param[f'{i}'][f'CatBoost'], _ = all_optuna(num_set = num_set, \n",
    "                                                            all_data = train_data[f'{i}'], \n",
    "                                                            mode = mode, \n",
    "                                                            TPE_multi = TPE_multi, \n",
    "                                                            n_iter = iter_list[model_index],\n",
    "                                                            filename = f'{filename}_{i}_CatBoost',\n",
    "                                                            creator = CatBoost_creator)\n",
    "            \n",
    "        if 'RandomForest' in base_list:\n",
    "            print('\\nStarting for RandomForest:\\n')\n",
    "            model_index = base_list.index('RandomForest')\n",
    "            best_param[f'{i}'][f'RandomForest'], _ = all_optuna(num_set = num_set, \n",
    "                                                                all_data = train_data[f'{i}'], \n",
    "                                                                mode = mode, \n",
    "                                                                TPE_multi = TPE_multi, \n",
    "                                                                n_iter = iter_list[model_index],\n",
    "                                                                filename = f'{filename}_{i}_RandomForest',\n",
    "                                                                creator = RandomForest_creator)\n",
    "\n",
    "        if 'ExtraTrees' in base_list:\n",
    "            print('\\nStarting for ExtraTrees:\\n')\n",
    "            model_index = base_list.index('ExtraTrees')\n",
    "            best_param[f'{i}'][f'ExtraTrees'], _ = all_optuna(num_set = num_set, \n",
    "                                                              all_data = train_data[f'{i}'], \n",
    "                                                              mode = mode, \n",
    "                                                              TPE_multi = TPE_multi, \n",
    "                                                              n_iter = iter_list[model_index],\n",
    "                                                              filename = f'{filename}_{i}_ExtraTrees',\n",
    "                                                              creator = ExtraTrees_creator)\n",
    "            \n",
    "    return best_param"
   ]
  },
  {
   "cell_type": "markdown",
   "metadata": {},
   "source": [
    "### transform data by base learner"
   ]
  },
  {
   "cell_type": "code",
   "execution_count": null,
   "metadata": {
    "ExecuteTime": {
     "end_time": "2021-11-22T12:37:49.275811Z",
     "start_time": "2021-11-22T12:37:49.237890Z"
    }
   },
   "outputs": [],
   "source": [
    "def stratified_data(train_data, cv):\n",
    "    \n",
    "    good = train_data[train_data.GB == 0]\n",
    "    bad = train_data[train_data.GB == 1]\n",
    "    good_index = random.sample(good.index.to_list(), k = len(good))\n",
    "    bad_index = random.sample(bad.index.to_list(), k = len(bad))\n",
    "    \n",
    "    train_x_dict = {}\n",
    "    train_y_dict = {}\n",
    "    valid_x_dict = {}\n",
    "    valid_y_dict = {}\n",
    "    for i in range(cv):\n",
    "        \n",
    "        if (i+1) == cv:\n",
    "            good_valid_index = good_index[int(np.floor((i/cv)*len(good))): ]\n",
    "            bad_valid_index = bad_index[int(np.floor((i/cv)*len(bad))): ]\n",
    "        else:\n",
    "            good_valid_index = good_index[int(np.floor((i/cv)*len(good))) : int(np.floor(((i+1)/cv)*len(good)))]\n",
    "            bad_valid_index = bad_index[int(np.floor((i/cv)*len(bad))) : int(np.floor(((i+1)/cv)*len(bad)))]\n",
    "        good_train_index = [x for x in good_index if x not in good_valid_index]\n",
    "        bad_train_index = [x for x in bad_index if x not in bad_valid_index]\n",
    "        \n",
    "        good_train = good.loc[good_train_index]\n",
    "        good_valid = good.loc[good_valid_index]\n",
    "        bad_train = bad.loc[bad_train_index]\n",
    "        bad_valid = bad.loc[bad_valid_index]\n",
    "        train = pd.concat([good_train, bad_train], axis = 0)\n",
    "        valid = pd.concat([good_valid, bad_valid], axis = 0)\n",
    "        train_x_dict[i], train_y_dict[i], valid_x_dict[i], valid_y_dict[i] = label_divide(train, valid, train_only = False)\n",
    "\n",
    "    return train_x_dict, train_y_dict, valid_x_dict, valid_y_dict\n",
    "\n",
    "\n",
    "def transform_train(train_data, num_set, mode, base_param, cv):\n",
    "    \n",
    "    month_list = list(base_param.keys())\n",
    "    model_list = list(base_param[month_list[0]].keys())\n",
    "    set_dict = {}\n",
    "    for x in range(num_set):\n",
    "        set_dict[f'set{x}'] = pd.DataFrame()\n",
    "        \n",
    "    for month in tqdm(month_list):\n",
    "        \n",
    "        for i in tqdm(range(num_set)):\n",
    "            \n",
    "            train_x_dict, train_y_dict, valid_x_dict, valid_y_dict = stratified_data(train_data[month][f'set{i}'], cv = cv)\n",
    "            all_cv = pd.DataFrame()\n",
    "            for j in range(cv):\n",
    "                \n",
    "                model_predict = pd.DataFrame()\n",
    "                if mode == 'C':\n",
    "\n",
    "                    if 'XGBoost' in model_list:                     \n",
    "                        clf = XGBClassifier(**base_param[month]['XGBoost'][f'set{i}'], n_jobs = -1)\n",
    "                        clf.fit(train_x_dict[j], train_y_dict[j])\n",
    "                        predict_y = clf.predict_proba(valid_x_dict[j])\n",
    "                        predict = pd.DataFrame({'X': predict_y[:, 0]})\n",
    "                        model_predict = pd.concat([model_predict, predict], axis = 1)\n",
    "\n",
    "                    if 'LightGBM' in model_list:                        \n",
    "                        clf = LGBMClassifier(**base_param[month]['LightGBM'][f'set{i}'])\n",
    "                        clf.fit(train_x_dict[j], train_y_dict[j])\n",
    "                        predict_y = clf.predict_proba(valid_x_dict[j])\n",
    "                        predict = pd.DataFrame({'L': predict_y[:, 0]})\n",
    "                        model_predict = pd.concat([model_predict, predict], axis = 1)\n",
    "                        \n",
    "                    if 'CatBoost' in model_list:\n",
    "                        clf = CatBoostClassifier(**base_param[month]['CatBoost'][f'set{i}'])\n",
    "                        clf.fit(train_x_dict[j], train_y_dict[j])\n",
    "                        predict_y = clf.predict_proba(valid_x_dict[j])\n",
    "                        predict = pd.DataFrame({'C': predict_y[:, 0]})\n",
    "                        model_predict = pd.concat([model_predict, predict], axis = 1)\n",
    "                        \n",
    "                    if 'AdaBoost' in model_list:\n",
    "                        tree_param = {\n",
    "                            'base_estimator': DecisionTreeClassifier(\n",
    "                                max_depth = base_param[month]['AdaBoost'][f'set{i}']['max_depth']\n",
    "                            )}\n",
    "                        boost_param = dict(\n",
    "                            (key, base_param[month]['AdaBoost'][f'set{i}'][key]) for key in ['learning_rate', 'n_estimators']\n",
    "                        )\n",
    "                        boost_param.update(tree_param)\n",
    "                        clf = AdaBoostClassifier(**boost_param)\n",
    "                        clf.fit(train_x_dict[j], train_y_dict[j])\n",
    "                        predict_y = clf.predict_proba(valid_x_dict[j])\n",
    "                        predict = pd.DataFrame({'A': predict_y[:, 0]})\n",
    "                        model_predict = pd.concat([model_predict, predict], axis = 1)\n",
    "                        \n",
    "                    if 'RandomForest' in model_list:\n",
    "                        clf = RandomForestClassifier(**base_param[month]['RandomForest'][f'set{i}'])\n",
    "                        clf.fit(train_x_dict[j], train_y_dict[j])\n",
    "                        predict_y = clf.predict_proba(valid_x_dict[j])\n",
    "                        predict = pd.DataFrame({'R': predict_y[:, 0]})\n",
    "                        model_predict = pd.concat([model_predict, predict], axis = 1)\n",
    "                        \n",
    "                    if 'ExtraTrees' in model_list:\n",
    "                        clf = ExtraTreesClassifier(**base_param[month]['ExtraTrees'][f'set{i}'])\n",
    "                        clf.fit(train_x_dict[j], train_y_dict[j])\n",
    "                        predict_y = clf.predict_proba(valid_x_dict[j])\n",
    "                        predict = pd.DataFrame({'E': predict_y[:, 0]})\n",
    "                        model_predict = pd.concat([model_predict, predict], axis = 1)\n",
    "                        \n",
    "                elif mode == 'R':\n",
    "                    \n",
    "                    if 'XGBoost' in model_list:\n",
    "                        reg = XGBRegressor(**base_param[month]['XGBoost'][f'set{i}'], n_jobs = -1)\n",
    "                        reg.fit(train_x_dict[j], train_y_dict[j])\n",
    "                        predict_y = reg.predict(valid_x_dict[j])\n",
    "                        predict = pd.DataFrame({'X': predict_y})\n",
    "                        model_predict = pd.concat([model_predict, predict], axis = 1)\n",
    "\n",
    "                    if 'LightGBM' in model_list:\n",
    "                        reg = LGBMRegressor(**base_param[month]['LightGBM'][f'set{i}'])\n",
    "                        reg.fit(train_x_dict[j], train_y_dict[j])\n",
    "                        predict_y = reg.predict(valid_x_dict[j])\n",
    "                        predict = pd.DataFrame({'L': predict_y})\n",
    "                        model_predict = pd.concat([model_predict, predict], axis = 1)\n",
    "                        \n",
    "                    if 'CatBoost' in model_list:\n",
    "                        reg = CatBoostRegressor(**base_param[month]['CatBoost'][f'set{i}'])\n",
    "                        reg.fit(train_x_dict[j], train_y_dict[j])\n",
    "                        predict_y = reg.predict(valid_x_dict[j])\n",
    "                        predict = pd.DataFrame({'C': predict_y})\n",
    "                        model_predict = pd.concat([model_predict, predict], axis = 1)\n",
    "                        \n",
    "                    if 'AdaBoost' in model_list:\n",
    "                        tree_param = {\n",
    "                            'base_estimator': DecisionTreeRegressor(\n",
    "                                max_depth = base_param[month]['AdaBoost'][f'set{i}']['max_depth']\n",
    "                            )}\n",
    "                        boost_param = dict(\n",
    "                            (key, base_param[month]['AdaBoost'][f'set{i}'][key]) for key in ['learning_rate', 'n_estimators']\n",
    "                        )\n",
    "                        boost_param.update(tree_param)\n",
    "                        reg = AdaBoostRegressor(**boost_param)\n",
    "                        reg.fit(train_x_dict[j], train_y_dict[j])\n",
    "                        predict_y = reg.predict(valid_x_dict[j])\n",
    "                        predict = pd.DataFrame({'A': predict_y})\n",
    "                        model_predict = pd.concat([model_predict, predict], axis = 1)\n",
    "                        \n",
    "                    if 'RandomForest' in model_list:\n",
    "                        reg = RandomForestRegressor(**base_param[month]['RandomForest'][f'set{i}'])\n",
    "                        reg.fit(train_x_dict[j], train_y_dict[j])\n",
    "                        predict_y = reg.predict(valid_x_dict[j])\n",
    "                        predict = pd.DataFrame({'R': predict_y})\n",
    "                        model_predict = pd.concat([model_predict, predict], axis = 1)\n",
    "                    \n",
    "                    if 'ExtraTrees' in model_list:\n",
    "                        reg = ExtraTreesRegressor(**base_param[month]['ExtraTrees'][f'set{i}'])\n",
    "                        reg.fit(train_x_dict[j], train_y_dict[j])\n",
    "                        predict_y = reg.predict(valid_x_dict[j])\n",
    "                        predict = pd.DataFrame({'E': predict_y})\n",
    "                        model_predict = pd.concat([model_predict, predict], axis = 1)\n",
    "                        \n",
    "                test_label = valid_y_dict[j].reset_index(drop = True)\n",
    "                done_cv = pd.concat([model_predict, test_label], axis = 1)\n",
    "                all_cv = pd.concat([all_cv, done_cv], axis = 0)\n",
    "                \n",
    "            set_dict[f'set{i}'] = pd.concat([set_dict[f'set{i}'], all_cv], axis = 0)\n",
    "    \n",
    "    return set_dict\n",
    "\n",
    "\n",
    "def transform_test(train_data, test_data, num_set, mode, base_param):\n",
    "    \n",
    "    month_list = list(base_param.keys())\n",
    "    model_list = list(base_param[month_list[0]].keys())\n",
    "    test_dict = {}\n",
    "    for i in tqdm(range(num_set)):\n",
    "        \n",
    "        month_test = pd.DataFrame()\n",
    "        for month in tqdm(month_list):\n",
    "\n",
    "            train_x, train_y, test_x, test_y = label_divide(train_data[f'set{i}'], test_data, train_only = False)\n",
    "            model_predict = pd.DataFrame()\n",
    "            if mode == 'C':\n",
    "\n",
    "                if 'XGBoost' in model_list:\n",
    "                    clf = XGBClassifier(**base_param[month]['XGBoost'][f'set{i}'], n_jobs = -1)\n",
    "                    clf.fit(train_x, train_y)\n",
    "                    predict_y = clf.predict_proba(test_x)\n",
    "                    predict = pd.DataFrame({'X': predict_y[:, 0]})\n",
    "                    model_predict = pd.concat([model_predict, predict], axis = 1)\n",
    "\n",
    "                if 'LightGBM' in model_list:\n",
    "                    clf = LGBMClassifier(**base_param[month]['LightGBM'][f'set{i}'])\n",
    "                    clf.fit(train_x, train_y)\n",
    "                    predict_y = clf.predict_proba(test_x)\n",
    "                    predict = pd.DataFrame({'L': predict_y[:, 0]})\n",
    "                    model_predict = pd.concat([model_predict, predict], axis = 1)\n",
    "\n",
    "                if 'CatBoost' in model_list:\n",
    "                    clf = CatBoostClassifier(**base_param[month]['CatBoost'][f'set{i}'])\n",
    "                    clf.fit(train_x, train_y)\n",
    "                    predict_y = clf.predict_proba(test_x)\n",
    "                    predict = pd.DataFrame({'C': predict_y[:, 0]})\n",
    "                    model_predict = pd.concat([model_predict, predict], axis = 1)\n",
    "\n",
    "                if 'AdaBoost' in model_list:\n",
    "                    tree_param = {\n",
    "                        'base_estimator': DecisionTreeClassifier(\n",
    "                            max_depth = base_param[month]['AdaBoost'][f'set{i}']['max_depth']\n",
    "                        )}\n",
    "                    boost_param = dict(\n",
    "                        (key, base_param[month]['AdaBoost'][f'set{i}'][key]) for key in ['learning_rate', 'n_estimators']\n",
    "                    )\n",
    "                    boost_param.update(tree_param)\n",
    "                    clf = AdaBoostClassifier(**boost_param)\n",
    "                    clf.fit(train_x, train_y)\n",
    "                    predict_y = clf.predict_proba(test_x)\n",
    "                    predict = pd.DataFrame({'A': predict_y[:, 0]})\n",
    "                    model_predict = pd.concat([model_predict, predict], axis = 1)\n",
    "\n",
    "                if 'RandomForest' in model_list:\n",
    "                    clf = RandomForestClassifier(**base_param[month]['RandomForest'][f'set{i}'])\n",
    "                    clf.fit(train_x, train_y)\n",
    "                    predict_y = clf.predict_proba(test_x)\n",
    "                    predict = pd.DataFrame({'R': predict_y[:, 0]})\n",
    "                    model_predict = pd.concat([model_predict, predict], axis = 1)\n",
    "\n",
    "                if 'ExtraTrees' in model_list:\n",
    "                    clf = ExtraTreesClassifier(**base_param[month]['ExtraTrees'][f'set{i}'])\n",
    "                    clf.fit(train_x, train_y)\n",
    "                    predict_y = clf.predict_proba(test_x)\n",
    "                    predict = pd.DataFrame({'E': predict_y[:, 0]})\n",
    "                    model_predict = pd.concat([model_predict, predict], axis = 1)\n",
    "\n",
    "            elif mode == 'R':\n",
    "\n",
    "                if 'XGBoost' in model_list:\n",
    "                    reg = XGBRegressor(**base_param[month]['XGBoost'][f'set{i}'], n_jobs = -1)\n",
    "                    reg.fit(train_x, train_y)\n",
    "                    predict_y = reg.predict(test_x)\n",
    "                    predict = pd.DataFrame({'X': predict_y})\n",
    "                    model_predict = pd.concat([model_predict, predict], axis = 1)\n",
    "\n",
    "                if 'LightGBM' in model_list:\n",
    "                    reg = LGBMRegressor(**base_param[month]['LightGBM'][f'set{i}'])\n",
    "                    reg.fit(train_x, train_y)\n",
    "                    predict_y = reg.predict(test_x)\n",
    "                    predict = pd.DataFrame({'L': predict_y})\n",
    "                    model_predict = pd.concat([model_predict, predict], axis = 1)\n",
    "\n",
    "                if 'CatBoost' in model_list:\n",
    "                    reg = CatBoostRegressor(**base_param[month]['CatBoost'][f'set{i}'])\n",
    "                    reg.fit(train_x, train_y)\n",
    "                    predict_y = reg.predict(test_x)\n",
    "                    predict = pd.DataFrame({'C': predict_y})\n",
    "                    model_predict = pd.concat([model_predict, predict], axis = 1)\n",
    "\n",
    "                if 'AdaBoost' in model_list:\n",
    "                    tree_param = {\n",
    "                        'base_estimator': DecisionTreeRegressor(\n",
    "                            max_depth = base_param[month]['AdaBoost'][f'set{i}']['max_depth']\n",
    "                        )}\n",
    "                    boost_param = dict(\n",
    "                        (key, base_param[month]['AdaBoost'][f'set{i}'][key]) for key in ['learning_rate', 'n_estimators']\n",
    "                    )\n",
    "                    boost_param.update(tree_param)\n",
    "                    reg = AdaBoostRegressor(**boost_param)\n",
    "                    reg.fit(train_x, train_y)\n",
    "                    predict_y = reg.predict(test_x)\n",
    "                    predict = pd.DataFrame({'A': predict_y})\n",
    "                    model_predict = pd.concat([model_predict, predict], axis = 1)\n",
    "\n",
    "                if 'RandomForest' in model_list:\n",
    "                    reg = RandomForestRegressor(**base_param[month]['RandomForest'][f'set{i}'])\n",
    "                    reg.fit(train_x, train_y)\n",
    "                    predict_y = reg.predict(test_x)\n",
    "                    predict = pd.DataFrame({'R': predict_y})\n",
    "                    model_predict = pd.concat([model_predict, predict], axis = 1)\n",
    "\n",
    "                if 'ExtraTrees' in model_list:\n",
    "                    reg = ExtraTreesRegressor(**base_param[month]['ExtraTrees'][f'set{i}'])\n",
    "                    reg.fit(train_x, train_y)\n",
    "                    predict_y = reg.predict(test_x)\n",
    "                    predict = pd.DataFrame({'E': predict_y})\n",
    "                    model_predict = pd.concat([model_predict, predict], axis = 1)\n",
    "\n",
    "            month_test = pd.concat([month_test, model_predict], axis = 1)\n",
    "        month_done = pd.concat([month_test, test_y], axis = 1)\n",
    "        test_dict[f'set{i}'] = month_done\n",
    "        \n",
    "    return test_dict"
   ]
  },
  {
   "cell_type": "markdown",
   "metadata": {},
   "source": [
    "### meta learner"
   ]
  },
  {
   "cell_type": "code",
   "execution_count": null,
   "metadata": {
    "ExecuteTime": {
     "end_time": "2021-11-22T12:37:51.115209Z",
     "start_time": "2021-11-22T12:37:51.102210Z"
    }
   },
   "outputs": [],
   "source": [
    "def LR(train_x, test_x, train_y, test_y, config):\n",
    "    \n",
    "    clf = LogisticRegression(**config)\n",
    "    clf.fit(train_x, train_y)\n",
    "    coef = clf.coef_\n",
    "    predict_y = clf.predict(test_x)\n",
    "    result = pd.DataFrame({'truth': test_y, 'predict': predict_y})\n",
    "    \n",
    "    return result, coef\n",
    "\n",
    "\n",
    "def RidgeR(train_x, test_x, train_y, test_y, config):\n",
    "    \n",
    "    reg = Ridge(**config)\n",
    "    reg.fit(train_x, train_y)\n",
    "    coef = reg.coef_\n",
    "    predict_y = reg.predict(test_x)\n",
    "    result = pd.DataFrame({'truth': test_y, 'predict': predict_y})\n",
    "    \n",
    "    return result, coef\n",
    "\n",
    "\n",
    "def runall_LR(num_set, trainset_x, testset_x, trainset_y, testset_y, config):\n",
    "    \n",
    "    table_set = pd.DataFrame()\n",
    "    coef_set = pd.DataFrame()\n",
    "    judge = list(config.keys())[0]\n",
    "\n",
    "    for i in tqdm(range(num_set)):\n",
    "        print('\\n', f'Dataset {i}:')\n",
    "        \n",
    "        if isinstance(config[judge], dict) :\n",
    "            best_config = config[f'set{i}']\n",
    "        else :\n",
    "            best_config = config\n",
    "        model_name = trainset_x[f'set{i}'].columns.to_list()\n",
    "\n",
    "        result, coef = LR(trainset_x[f'set{i}'], testset_x[f'set{i}'], trainset_y[f'set{i}'], testset_y[f'set{i}'], \n",
    "                          best_config)\n",
    "        table = cf_matrix(result, trainset_y[f'set{i}'])\n",
    "        coef_df = pd.DataFrame({f'set{i}': coef.flatten()})\n",
    "        table_set = pd.concat([table_set, table]).rename(index = {0: f'dataset {i}'})\n",
    "        coef_set = pd.concat([coef_set, coef_df], axis = 1)\n",
    "    coef_set.index = model_name\n",
    "    \n",
    "    return table_set, coef_set\n",
    "\n",
    "\n",
    "def runall_RidgeR(num_set, trainset_x, testset_x, trainset_y, testset_y, config, thres_target = 'Recall', \n",
    "                    threshold = False):\n",
    "    \n",
    "    table_set = pd.DataFrame()\n",
    "    coef_set = pd.DataFrame()\n",
    "    pr_dict = {}\n",
    "    judge = list(config.keys())[0]\n",
    "\n",
    "    for i in range(num_set):\n",
    "        print('\\n', f'Dataset {i}:')\n",
    "        \n",
    "        if isinstance(config[judge], dict) :\n",
    "            best_config = config[f'set{i}']\n",
    "        else :\n",
    "            best_config = config\n",
    "        model_name = trainset_x[f'set{i}'].columns.to_list()\n",
    "\n",
    "        predict, coef = RidgeR(trainset_x[f'set{i}'], testset_x[f'set{i}'], trainset_y[f'set{i}'], testset_y[f'set{i}'], \n",
    "                           best_config)\n",
    "        pr_matrix = PR_matrix(predict, trainset_y[f'set{i}'])\n",
    "        pr_dict[f'set{i}'] = pr_matrix\n",
    "        \n",
    "        best_data, best_thres = best_threshold(pr_matrix, target = thres_target, threshold = threshold)\n",
    "        table_set = pd.concat([table_set, best_data]).rename(index = {best_data.index.values[0]: f'dataset {i}'})\n",
    "        coef_df = pd.DataFrame({f'set{i}': coef.flatten()})\n",
    "        coef_set = pd.concat([coef_set, coef_df], axis = 1)\n",
    "    coef_set.index = model_name\n",
    "        \n",
    "    return pr_dict, table_set, coef_set"
   ]
  },
  {
   "cell_type": "markdown",
   "metadata": {},
   "source": [
    "### feature importance"
   ]
  },
  {
   "cell_type": "code",
   "execution_count": null,
   "metadata": {
    "ExecuteTime": {
     "end_time": "2021-11-22T12:37:52.797793Z",
     "start_time": "2021-11-22T12:37:52.783815Z"
    }
   },
   "outputs": [],
   "source": [
    "def correlation_plot(target_data):\n",
    "    \n",
    "    correlation = target_data.iloc[:, :-1].corr()\n",
    "    plot = sn.heatmap(correlation, annot = True, cmap = 'magma')\n",
    "    plot.set_title('Correlation Coefficient of Base Learner Outputs')\n",
    "    \n",
    "    return correlation \n",
    "    \n",
    "    \n",
    "def vif(target_data):\n",
    "    \n",
    "    corr = target_data.corr()\n",
    "    vif = round(corr / (1 - corr), 2)   \n",
    "    return vif\n",
    "\n",
    "\n",
    "def forest_importance(target_data, mode = 'C'):\n",
    "    \n",
    "    colname = target_data.columns.to_list()[:-1]\n",
    "    X, Y = label_divide(target_data, None, 'GB', train_only = True)\n",
    "    if mode == 'C':\n",
    "        clf = RandomForestClassifier(max_depth = 5, n_estimators = 500)\n",
    "    elif mode == 'R':\n",
    "        clf = RandomForestRegressor(max_depth = 5, n_estimators = 500)\n",
    "    clf.fit(X, Y)\n",
    "    importance = clf.feature_importances_\n",
    "    std = np.std([tree.feature_importances_ for tree in clf.estimators_], axis = 0)\n",
    "    importances = pd.DataFrame(dict(importance = importance, std = std), index = colname)\n",
    "    importances = importances.sort_values('importance', ascending = True)\n",
    "    \n",
    "    plt.figure()\n",
    "    plt.barh(importances.index, importances['importance'].values, color = 'darkgreen', \n",
    "             xerr = importances['std'].values, ecolor = 'limegreen')\n",
    "    plt.title('Feature Importance by Random Forest')\n",
    "    plt.xlabel('importance')\n",
    "    plt.ylabel('model')\n",
    "    \n",
    "    return importances\n",
    "    \n",
    "    \n",
    "def forest_permutation(target_data, mode = 'C'):\n",
    "    \n",
    "    colnames = target_data.columns.to_list()[:-1]\n",
    "    X, Y = label_divide(target_data, None, 'GB', train_only = True)\n",
    "    X_train, X_test, y_train, y_test = train_test_split(X, Y)\n",
    "    if mode == 'C':\n",
    "        clf = RandomForestClassifier(max_depth = 5, n_estimators = 300)\n",
    "    elif mode == 'R':\n",
    "        clf = RandomForestRegressor(max_depth = 5, n_estimators = 300)\n",
    "    clf.fit(X_train, y_train)\n",
    "    \n",
    "    importance = permutation_importance(clf, X_test, y_test, n_repeats = 20, n_jobs = 2)\n",
    "    importances = pd.DataFrame(dict(importance = importance.importances_mean, std = importance.importances_std), \n",
    "                               index = colnames)\n",
    "    importances = importances.sort_values('importance', ascending = True)\n",
    "    \n",
    "    plt.figure()\n",
    "    plt.barh(importances.index, importances['importance'].values, color = 'firebrick', \n",
    "             xerr = importances['std'].values, ecolor = 'coral')\n",
    "    plt.title('Feature Importance by Permutation (Random Forest)')\n",
    "    plt.xlabel('importance')\n",
    "    plt.ylabel('model')\n",
    "    \n",
    "    return importances\n",
    "\n",
    "\n",
    "#####!!!!! forest_shap can only run for regressor !!!!!#####\n",
    "def forest_shap(target_data, mode = 'R'):\n",
    "    \n",
    "    colnames = target_data.columns.to_list()[:-1]\n",
    "    X, Y = label_divide(target_data, None, 'GB', train_only = True)\n",
    "    if mode == 'C':\n",
    "        clf = RandomForestClassifier(max_depth = 5, n_estimators = 300)\n",
    "    elif mode == 'R':\n",
    "        clf = RandomForestRegressor(max_depth = 5, n_estimators = 300)\n",
    "    clf.fit(X, Y)\n",
    "    \n",
    "    explainer = shap.Explainer(clf)\n",
    "    shap_value = explainer(X)\n",
    "    values = abs(shap_value.values).mean(axis = 0)\n",
    "    values = values / sum(values)\n",
    "    shap_df = pd.DataFrame(dict(value = values), index = colnames).sort_values('value', ascending = True)\n",
    "    \n",
    "    plt.figure()\n",
    "    shap.plots.bar(shap_value)\n",
    "    shap.plots.beeswarm(shap_value)\n",
    "    \n",
    "    return shap_df\n",
    "\n",
    "\n",
    "def GLM_coefficient(target_data, mode = 'C'):\n",
    "    \n",
    "    colnames = target_data.columns.to_list()[:-1]\n",
    "    X, Y = label_divide(target_data, None, 'GB', train_only = True)\n",
    "    if mode == 'C':\n",
    "        clf = LogisticRegression()\n",
    "        clf.fit(X, Y)\n",
    "        coefficient = abs(clf.coef_[0,:])\n",
    "    elif mode == 'R':\n",
    "        clf = Ridge()\n",
    "        clf.fit(X, Y)\n",
    "        coefficient = abs(clf.coef_)\n",
    "    coef_df = pd.DataFrame(dict(GLM = coefficient), index = colnames).sort_values('GLM', ascending = True)\n",
    "    \n",
    "    return coef_df\n",
    "\n",
    "\n",
    "#####!!!!! forest_shap can only run for regressor !!!!!#####\n",
    "def rank_importance(target_data, mode = 'C'):\n",
    "    \n",
    "    correlation = correlation_plot(target_data)\n",
    "    coefficient = GLM_coefficient(target_data, mode = mode).GLM\n",
    "    forest = forest_importance(target_data, mode = mode).importance\n",
    "    permutation = forest_permutation(target_data, mode = mode).importance\n",
    "    shapvalue = forest_shap(target_data).value\n",
    "    rank_df = pd.DataFrame()\n",
    "    rank_df['GLM'] = coefficient.rank(ascending = False)\n",
    "    rank_df['forest'] = forest.rank(ascending = False)\n",
    "    rank_df['permutation'] = permutation.rank(ascending = False)\n",
    "    rank_df['SHAP'] = shapvalue.rank(ascending = False)\n",
    "    rank_df['total_rank'] = rank_df.apply(sum, axis = 1).rank()\n",
    "    rank_df = rank_df.sort_values('total_rank', ascending = True)\n",
    "    \n",
    "    return rank_df"
   ]
  },
  {
   "cell_type": "markdown",
   "metadata": {},
   "source": [
    "### optuna"
   ]
  },
  {
   "cell_type": "code",
   "execution_count": null,
   "metadata": {
    "ExecuteTime": {
     "end_time": "2021-11-22T12:37:57.248775Z",
     "start_time": "2021-11-22T12:37:57.232817Z"
    }
   },
   "outputs": [],
   "source": [
    "def stackingCV_creator(train_data, mode, num_valid = 3, label = 'GB') :\n",
    "    \n",
    "    def objective(trial) :\n",
    "        # hyperparameters randomize setting\n",
    "        if mode == 'C' :\n",
    "            meta_learner = 'Logistic Regression'\n",
    "            \n",
    "            if meta_learner == 'Logistic Regression' :      \n",
    "                param = {\n",
    "                    'solver': 'lbfgs',\n",
    "                    'C': trial.suggest_categorical('C', [100, 10 ,1 ,0.1, 0.01]),\n",
    "                    'penalty': trial.suggest_categorical('penalty', ['none', 'l2']),\n",
    "                    'n_jobs': -1\n",
    "                }\n",
    "\n",
    "            elif meta_learner == 'Extra Trees' :\n",
    "                param = {\n",
    "                    'n_estimators': trial.suggest_int('n_estimators', 100, 500, step = 100),\n",
    "                    'min_samples_split': trial.suggest_int('min_samples_split', 2, 32, step = 5),\n",
    "                    'max_depth': trial.suggest_int('max_depth', 3, 21, step = 3),\n",
    "                    'n_jobs': -1\n",
    "                }     \n",
    "\n",
    "        elif mode == 'R' :\n",
    "            meta_learner = 'RidgeCV'\n",
    "            \n",
    "            if meta_learner == 'RidgeCV' :\n",
    "                param = {\n",
    "                    'alpha': trial.suggest_float('alpha', 0, 1, step = 0.1)\n",
    "                }\n",
    "            \n",
    "            elif meta_learner == 'Extra Trees' :\n",
    "                param = {\n",
    "                    'n_estimators': trial.suggest_int('n_estimators', 100, 500, step = 100),\n",
    "                    'min_samples_split': trial.suggest_int('min_samples_split', 2, 32, step = 5),\n",
    "                    'max_depth': trial.suggest_int('max_depth', 3, 21, step = 3),\n",
    "                    'n_jobs': -1\n",
    "                }\n",
    "        \n",
    "        # objective function\n",
    "        result_list = []\n",
    "        for i in range(num_valid):\n",
    "\n",
    "            train_good = train_data[train_data.GB == 0]\n",
    "            train_bad = train_data[train_data.GB == 1]\n",
    "            train_good_x, train_good_y = label_divide(train_good, None, label, train_only = True)\n",
    "            train_bad_x, train_bad_y = label_divide(train_bad, None, label, train_only = True)\n",
    "            train_g_x, valid_g_x, train_g_y, valid_g_y = train_test_split(train_good_x, train_good_y, test_size = 0.25)\n",
    "            train_b_x, valid_b_x, train_b_y, valid_b_y = train_test_split(train_bad_x, train_bad_y, test_size = 0.25)\n",
    "            train_x = pd.concat([train_g_x, train_b_x], axis = 0)\n",
    "            train_y = pd.concat([train_g_y, train_b_y], axis = 0)\n",
    "            valid_x = pd.concat([valid_g_x, valid_b_x], axis = 0)\n",
    "            valid_y = pd.concat([valid_g_y, valid_b_y], axis = 0)\n",
    "\n",
    "            if mode == 'C':\n",
    "                result, _ = LR(train_x, valid_x, train_y, valid_y, param)\n",
    "                table = cf_matrix(result, valid_y)\n",
    "                recall = table['Recall']\n",
    "                aging = table['Aging Rate']\n",
    "                result_list.append(recall - 0.1*aging)\n",
    "\n",
    "            elif mode == 'R':\n",
    "                result, _ = RidgeR(train_x, valid_x, train_y, valid_y, param)\n",
    "                pr_matrix = PR_matrix(result, valid_y)\n",
    "                auc = AUC(pr_matrix['Recall'], pr_matrix['Aging Rate'])\n",
    "                result_list.append((-1)*auc)\n",
    "\n",
    "        return np.mean(result_list)\n",
    "    \n",
    "    return objective"
   ]
  },
  {
   "cell_type": "markdown",
   "metadata": {},
   "source": [
    "## "
   ]
  },
  {
   "cell_type": "markdown",
   "metadata": {},
   "source": [
    "### loading training & testing data"
   ]
  },
  {
   "cell_type": "code",
   "execution_count": null,
   "metadata": {
    "ExecuteTime": {
     "end_time": "2021-11-22T12:58:46.948409Z",
     "start_time": "2021-11-22T12:58:43.623299Z"
    },
    "scrolled": true
   },
   "outputs": [],
   "source": [
    "### training data ### \n",
    "training_month = range(4, 7)\n",
    "\n",
    "data_dict, trainset_x, trainset_y = multiple_month(training_month, num_set = 10, filename = 'dataset')\n",
    "\n",
    "print('\\nCombined training data:\\n')\n",
    "run_train = multiple_set(num_set = 10)\n",
    "run_train_x, run_train_y = train_set(run_train, num_set = 10)\n",
    "\n",
    "### testing data ###\n",
    "run_test = pd.read_csv('test_runhist.csv').iloc[:, 2:]\n",
    "run_test_x, run_test_y = label_divide(run_test, None, 'GB', train_only = True)\n",
    "print('\\n', 'Dimension of testing data:', run_test.shape)"
   ]
  },
  {
   "cell_type": "markdown",
   "metadata": {},
   "source": [
    "## base learner"
   ]
  },
  {
   "cell_type": "markdown",
   "metadata": {},
   "source": [
    "### optimize the base learners by one-month data"
   ]
  },
  {
   "cell_type": "markdown",
   "metadata": {},
   "source": [
    "#### for training data transformation"
   ]
  },
  {
   "cell_type": "code",
   "execution_count": null,
   "metadata": {
    "ExecuteTime": {
     "end_time": "2021-11-22T03:12:38.958845Z",
     "start_time": "2021-11-21T07:04:59.977934Z"
    },
    "scrolled": true
   },
   "outputs": [],
   "source": [
    "##### by optuna ##### \n",
    "base_param_monthC = optimize_base(num_set = 10, \n",
    "                                  train_data = data_dict, \n",
    "                                  mode = 'C', \n",
    "                                  TPE_multi = True, \n",
    "                                  base_list = ['XGBoost', 'LightGBM', 'CatBoost', 'RandomForest'],\n",
    "                                  iter_list = [200, 200, 200, 50],\n",
    "                                  filename = 'runhist_array_m1m6_m7_3criteria')\n",
    " \n",
    "# base_param_monthR = optimize_base(num_set = 10, \n",
    "#                                   train_data = data_dict, \n",
    "#                                   mode = 'R', \n",
    "#                                   TPE_multi = True, \n",
    "#                                   base_list = ['XGBoost', 'LightGBM'],\n",
    "#                                   iter_list = [200, 200],\n",
    "#                                   filename = 'runhist_array_4criteria_m2m5')"
   ]
  },
  {
   "cell_type": "code",
   "execution_count": null,
   "metadata": {
    "ExecuteTime": {
     "end_time": "2021-11-22T12:40:36.036124Z",
     "start_time": "2021-11-22T12:40:36.025186Z"
    }
   },
   "outputs": [],
   "source": [
    "##### 'OR' by loading from stackingCV scheme 2 #####\n",
    "base_param_monthC = month_param(num_set = 10, \n",
    "                                date = '20211123', \n",
    "                                month_list = list(range(4, 7)), \n",
    "                                model_list = ['RandomForest', 'LightGBM', 'CatBoost'], \n",
    "                                iter_list = [50, 200, 200], \n",
    "                                filename = 'runhist_array_m1m6_m7_3criteria', \n",
    "                                mode = 'C', \n",
    "                                TPE_multi = False)\n",
    "\n",
    "# base_param_monthR = month_param(num_set = 10, \n",
    "#                                 date = '20211019', \n",
    "#                                 month_list = [2, 3, 4], \n",
    "#                                 model_list = ['XGBoost', 'LightGBM'], \n",
    "#                                 iter_list = [200, 200], \n",
    "#                                 filename = 'runhist_array_4criteria_m2m5', \n",
    "#                                 mode = 'R', \n",
    "#                                 TPE_multi = True)"
   ]
  },
  {
   "cell_type": "markdown",
   "metadata": {},
   "source": [
    "#### for testing data transformation"
   ]
  },
  {
   "cell_type": "code",
   "execution_count": null,
   "metadata": {
    "ExecuteTime": {
     "end_time": "2021-10-13T13:14:35.948977Z",
     "start_time": "2021-10-13T13:12:52.541490Z"
    },
    "scrolled": true
   },
   "outputs": [],
   "source": [
    "##### by optuna ##### \n",
    "base_param_allC = optimize_base(num_set = 10, \n",
    "                                train_data = {'all': run_train}, \n",
    "                                mode = 'C', \n",
    "                                TPE_multi = False, \n",
    "                                base_list = ['LightGBM', 'CatBoost', 'RandomForest'], \n",
    "                                iter_list = [200, 200, 50],\n",
    "                                filename = 'runhist_array_m1m6_m7_3criteria')\n",
    "\n",
    "# base_param_allR = optimize_base(num_set = 10, \n",
    "#                                 train_data = {'all': run_train}, \n",
    "#                                 mode = 'R', \n",
    "#                                 TPE_multi = True, \n",
    "#                                 base_list = ['XGBoost', 'LightGBM'], \n",
    "#                                 iter_list = [200, 200],\n",
    "#                                 filename = 'runhist_array_4criteria_m2m5')"
   ]
  },
  {
   "cell_type": "code",
   "execution_count": null,
   "metadata": {
    "ExecuteTime": {
     "end_time": "2021-11-22T12:41:14.914959Z",
     "start_time": "2021-11-22T12:41:14.898968Z"
    }
   },
   "outputs": [],
   "source": [
    "##### 'OR' by loading from stackingCV scheme 1 #####\n",
    "base_param_allC = all_param(num_set = 10, \n",
    "                           date = '20211123', \n",
    "                           model_list = ['LightGBM', 'CatBoost', 'RandomForest'], \n",
    "                           iter_list = [200, 200, 50], \n",
    "                           filename = 'runhist_array_m1m6_m7_3criteria', \n",
    "                           mode = 'C', \n",
    "                           TPE_multi = False)\n",
    "\n",
    "# base_param_allR = all_param(num_set = 10, \n",
    "#                            date = '20211123', \n",
    "#                            model_list = ['XGBoost', 'LightGBM'], \n",
    "#                            iter_list = [200, 200], \n",
    "#                            filename = 'runhist_array_m2m5_4selection', \n",
    "#                            mode = 'R', \n",
    "#                            TPE_multi = True)"
   ]
  },
  {
   "cell_type": "markdown",
   "metadata": {},
   "source": [
    "\n",
    "### data transform for scheme 3"
   ]
  },
  {
   "cell_type": "code",
   "execution_count": null,
   "metadata": {
    "ExecuteTime": {
     "end_time": "2021-11-22T12:57:45.779216Z",
     "start_time": "2021-11-22T12:41:22.371415Z"
    }
   },
   "outputs": [],
   "source": [
    "train_firstC = transform_train(data_dict, num_set = 10, mode = 'C', base_param = base_param_monthC, cv = 5)\n",
    "test_firstC = transform_test(run_train, run_test, num_set = 10, mode = 'C', base_param = dict(all = base_param_allC))\n",
    "train_firstC_x, train_firstC_y = train_set(train_firstC, num_set = 10)\n",
    "test_firstC_x, test_firstC_y = train_set(test_firstC, num_set = 10) \n",
    "\n",
    "# train_firstR = transform_train(data_dict, num_set = 10, mode = 'R', base_param = base_param_monthR, cv = 5)\n",
    "# test_firstR = transform_test(run_train, run_test, num_set = 10, mode = 'R', base_param = dict(all = base_param_allR))\n",
    "# train_firstR_x, train_firstR_y = train_set(train_firstR, num_set = 10)\n",
    "# test_firstR_x, test_firstR_y = train_set(test_firstR, num_set = 10) "
   ]
  },
  {
   "cell_type": "markdown",
   "metadata": {},
   "source": [
    "## meta learner"
   ]
  },
  {
   "cell_type": "markdown",
   "metadata": {},
   "source": [
    "### searching for best hyperparameters"
   ]
  },
  {
   "cell_type": "code",
   "execution_count": null,
   "metadata": {
    "ExecuteTime": {
     "end_time": "2021-11-22T12:58:32.058212Z",
     "start_time": "2021-11-22T12:57:49.498898Z"
    },
    "scrolled": true
   },
   "outputs": [],
   "source": [
    "best_paramC, _ = all_optuna(num_set = 10, \n",
    "                            all_data = train_firstC, \n",
    "                            mode = 'C', \n",
    "                            TPE_multi = False, \n",
    "                            n_iter = 10,\n",
    "                            filename = 'runhist_array_m1m6_m7_3criteria_StackingCV3',\n",
    "                            creator = stackingCV_creator\n",
    ")\n",
    "\n",
    "# best_paramR, _ = all_optuna(num_set = 10, \n",
    "#                             all_data = train_firstR, \n",
    "#                             mode = 'R', \n",
    "#                             TPE_multi = True, \n",
    "#                             n_iter = 10,\n",
    "#                             filename = f'runhist_array_4criteria_m2m5_StackingCV3',\n",
    "#                             creator = stackingCV_creator\n",
    "# )"
   ]
  },
  {
   "cell_type": "markdown",
   "metadata": {},
   "source": [
    "### feature selection by feature importance"
   ]
  },
  {
   "cell_type": "code",
   "execution_count": null,
   "metadata": {
    "ExecuteTime": {
     "end_time": "2021-11-22T09:38:08.783878Z",
     "start_time": "2021-11-22T09:37:58.239434Z"
    },
    "scrolled": true
   },
   "outputs": [],
   "source": [
    "rank_importance(train_firstC['set7'], mode = 'C')"
   ]
  },
  {
   "cell_type": "markdown",
   "metadata": {},
   "source": [
    "### classifier"
   ]
  },
  {
   "cell_type": "code",
   "execution_count": null,
   "metadata": {
    "ExecuteTime": {
     "end_time": "2021-11-22T12:58:36.397579Z",
     "start_time": "2021-11-22T12:58:35.635676Z"
    },
    "scrolled": true
   },
   "outputs": [],
   "source": [
    "table_setC, coefC = runall_LR(10, train_firstC_x, test_firstC_x, train_firstC_y, test_firstC_y, best_paramC)\n",
    "line_chart(table_setC, title = 'StackingCV Classifier (scheme 3)')"
   ]
  },
  {
   "cell_type": "code",
   "execution_count": null,
   "metadata": {
    "ExecuteTime": {
     "end_time": "2021-11-22T12:58:39.997990Z",
     "start_time": "2021-11-22T12:58:39.983029Z"
    }
   },
   "outputs": [],
   "source": [
    "table_setC"
   ]
  },
  {
   "cell_type": "markdown",
   "metadata": {},
   "source": [
    "### regressor"
   ]
  },
  {
   "cell_type": "code",
   "execution_count": null,
   "metadata": {
    "ExecuteTime": {
     "end_time": "2021-10-17T07:04:38.242253Z",
     "start_time": "2021-10-17T07:04:37.642731Z"
    }
   },
   "outputs": [],
   "source": [
    "pr_dict, table_setR, coefR = runall_RidgeR(10, train_firstR_x, test_firstR_x, train_firstR_y, test_firstR_y, \n",
    "                                           best_paramR, thres_target = 'Recall', threshold = 0.7)\n",
    "line_chart(table_setR, title = 'StackingCV Regressor (scheme 3)')"
   ]
  },
  {
   "cell_type": "code",
   "execution_count": null,
   "metadata": {
    "ExecuteTime": {
     "end_time": "2021-10-17T07:04:47.085372Z",
     "start_time": "2021-10-17T07:04:44.350165Z"
    }
   },
   "outputs": [],
   "source": [
    "multiple_curve(4, 3, pr_dict, table_setR, target = 'Aging Rate')\n",
    "multiple_curve(4, 3, pr_dict, table_setR, target = 'Precision')\n",
    "print(coefR)\n",
    "table_setR"
   ]
  },
  {
   "cell_type": "markdown",
   "metadata": {},
   "source": [
    "### export"
   ]
  },
  {
   "cell_type": "code",
   "execution_count": null,
   "metadata": {
    "ExecuteTime": {
     "end_time": "2021-11-22T06:44:12.534613Z",
     "start_time": "2021-11-22T06:44:12.433343Z"
    }
   },
   "outputs": [],
   "source": [
    "savedate = '20211123'\n",
    "TPE_multi = True\n",
    "\n",
    "table_setC['sampler'] = 'multivariate-TPE' if TPE_multi else 'univariate-TPE'\n",
    "table_setC['model'] = 'StackingCV 3'\n",
    "with pd.ExcelWriter(f'{savedate}_Classifier.xlsx', mode = 'a') as writer:\n",
    "    table_setC.to_excel(writer, sheet_name = 'StackingCV_3')"
   ]
  }
 ],
 "metadata": {
  "hide_input": false,
  "kernelspec": {
   "display_name": "Python [conda env:aging]",
   "language": "python",
   "name": "conda-env-aging-py"
  },
  "language_info": {
   "codemirror_mode": {
    "name": "ipython",
    "version": 3
   },
   "file_extension": ".py",
   "mimetype": "text/x-python",
   "name": "python",
   "nbconvert_exporter": "python",
   "pygments_lexer": "ipython3",
   "version": "3.7.10"
  },
  "toc": {
   "base_numbering": 1,
   "nav_menu": {},
   "number_sections": true,
   "sideBar": true,
   "skip_h1_title": false,
   "title_cell": "Table of Contents",
   "title_sidebar": "Contents",
   "toc_cell": false,
   "toc_position": {},
   "toc_section_display": true,
   "toc_window_display": false
  },
  "varInspector": {
   "cols": {
    "lenName": 16,
    "lenType": 16,
    "lenVar": 40
   },
   "kernels_config": {
    "python": {
     "delete_cmd_postfix": "",
     "delete_cmd_prefix": "del ",
     "library": "var_list.py",
     "varRefreshCmd": "print(var_dic_list())"
    },
    "r": {
     "delete_cmd_postfix": ") ",
     "delete_cmd_prefix": "rm(",
     "library": "var_list.r",
     "varRefreshCmd": "cat(var_dic_list()) "
    }
   },
   "types_to_exclude": [
    "module",
    "function",
    "builtin_function_or_method",
    "instance",
    "_Feature"
   ],
   "window_display": false
  }
 },
 "nbformat": 4,
 "nbformat_minor": 4
}
