{
 "cells": [
  {
   "cell_type": "code",
   "execution_count": 1,
   "metadata": {
    "ExecuteTime": {
     "end_time": "2022-03-03T03:33:52.303384Z",
     "start_time": "2022-03-03T03:33:50.642211Z"
    }
   },
   "outputs": [
    {
     "data": {
      "text/plain": [
       "'C:\\\\Users\\\\user\\\\Desktop\\\\Darui_R08621110'"
      ]
     },
     "execution_count": 1,
     "metadata": {},
     "output_type": "execute_result"
    }
   ],
   "source": [
    "import os\n",
    "import numpy as np\n",
    "import pandas as pd\n",
    "import pickle\n",
    "from tqdm.auto import tqdm\n",
    "import matplotlib.pyplot as plt\n",
    "\n",
    "from sklearn.svm import SVC, SVR\n",
    "import optuna\n",
    "from sklearn.model_selection import train_test_split\n",
    "\n",
    "from library.Data_Preprocessing import Balance_Ratio\n",
    "from library.Imbalance_Sampling import label_divide\n",
    "from library.Aging_Score_Contour import score1\n",
    "from library.AdaBoost import train_set, multiple_set, multiple_month, line_chart, cf_matrix, AUC, PR_curve, \\\n",
    "     multiple_curve, PR_matrix, best_threshold, all_optuna, optuna_history \n",
    "\n",
    "os.chdir('C:/Users/user/Desktop/Darui_R08621110') \n",
    "os.getcwd()"
   ]
  },
  {
   "cell_type": "markdown",
   "metadata": {},
   "source": [
    "## "
   ]
  },
  {
   "cell_type": "markdown",
   "metadata": {},
   "source": [
    "### SVM"
   ]
  },
  {
   "cell_type": "code",
   "execution_count": 2,
   "metadata": {
    "ExecuteTime": {
     "end_time": "2022-03-03T03:41:50.999791Z",
     "start_time": "2022-03-03T03:41:50.980872Z"
    }
   },
   "outputs": [],
   "source": [
    "# classifier\n",
    "def SVMC(train_x, test_x, train_y, test_y, config):\n",
    "    \n",
    "    clf = SVC(**config, cache_size = 12000)\n",
    "    clf.fit(train_x, train_y)\n",
    "    predict_y = clf.predict(test_x)\n",
    "    result = pd.DataFrame({'truth': test_y, 'predict': predict_y})\n",
    "    \n",
    "    return result\n",
    "\n",
    "\n",
    "# regressor (optional)\n",
    "def SVMR(train_x, test_x, train_y, test_y, config):\n",
    "    \n",
    "    clf = SVR(**config, cache_size = 12000)\n",
    "    clf.fit(train_x, train_y)\n",
    "    predict_y = clf.predict(test_x)\n",
    "    result = pd.DataFrame({'truth': test_y, 'predict': predict_y})\n",
    "    \n",
    "    return result\n",
    "\n",
    "\n",
    "# classifier for all resampling datasets\n",
    "def runall_SVMC(trainset_x, test_x, trainset_y, test_y, config):\n",
    "    \n",
    "    table_set = pd.DataFrame()\n",
    "    bad_set = pd.DataFrame()\n",
    "    set_index = list(config.keys())\n",
    "    judge = set_index[0]\n",
    "\n",
    "    for i, j in tqdm(enumerate(set_index)):\n",
    "        print('\\n', f'Data{j}:')\n",
    "        if isinstance(config[judge], dict) :\n",
    "            best_config = config[j]\n",
    "        else :\n",
    "            best_config = config\n",
    "        \n",
    "        result = SVMC(trainset_x[j], test_x, trainset_y[j], test_y, best_config)\n",
    "        table = cf_matrix(result, trainset_y[j])\n",
    "        table_set = pd.concat([table_set, table]).rename(index = {0: f'data{j}'})\n",
    "\n",
    "    return table_set\n",
    "    \n",
    "\n",
    "# regressor for all resampling datasets\n",
    "def runall_SVMR(num_set, trainset_x, test_x, trainset_y, test_y, config, thres_target = 'Recall', threshold = 0.8):\n",
    "    \n",
    "    table_set = pd.DataFrame()\n",
    "    bad_set = pd.DataFrame()\n",
    "    pr_dict = {}\n",
    "    judge = list(config.keys())[0]\n",
    "\n",
    "    for i in range(num_set):\n",
    "        print('\\n', f'Dataset {i}:')\n",
    "        \n",
    "        if isinstance(config[judge], dict) :\n",
    "            best_config = config[f'set{i}']\n",
    "        else :\n",
    "            best_config = config\n",
    "\n",
    "        predict = SVMR(trainset_x[f'set{i}'], test_x, trainset_y[f'set{i}'], test_y, best_config)\n",
    "        pr_matrix = PR_matrix(predict, trainset_y[f'set{i}'])\n",
    "        pr_dict[f'set{i}'] = pr_matrix\n",
    "        \n",
    "        best_data, best_thres = best_threshold(pr_matrix, target = thres_target, threshold = threshold)\n",
    "        table_set = pd.concat([table_set, best_data]).rename(index = {best_data.index.values[0]: f'dataset {i}'})\n",
    "\n",
    "    return pr_dict, table_set"
   ]
  },
  {
   "cell_type": "markdown",
   "metadata": {},
   "source": [
    "### Optuna"
   ]
  },
  {
   "cell_type": "code",
   "execution_count": 12,
   "metadata": {
    "ExecuteTime": {
     "end_time": "2022-03-04T01:52:37.843192Z",
     "start_time": "2022-03-04T01:52:37.820458Z"
    }
   },
   "outputs": [],
   "source": [
    "# creator of optuna study for SVC\n",
    "def SVC_creator(train_data, mode, num_valid = 5, label = 'GB') :\n",
    "    \n",
    "    def objective(trial) :\n",
    "\n",
    "        param = {\n",
    "            'kernel': trial.suggest_categorical('kernel', ['linear']),\n",
    "            # linear, poly, sigmoid, rbf\n",
    "            'C': trial.suggest_categorical('C', [0.01, 0.1, 1, 10, 50])\n",
    "        }\n",
    "        \n",
    "        if param['kernel'] in ['rbf', 'poly', 'sigmoid']:\n",
    "            gamma = {'gamma': trial.suggest_categorical('gamma', [0.1, 1, 10, 100])}\n",
    "            param.update(gamma)\n",
    "            \n",
    "        if param['kernel'] == 'poly':\n",
    "            degree = {'degree': trial.suggest_categorical('degree', [2, 3, 4])}\n",
    "            param.update(degree)\n",
    "\n",
    "        result_list = []\n",
    "        for i in range(num_valid):\n",
    "\n",
    "            train_good = train_data[train_data.GB == 0]\n",
    "            train_bad = train_data[train_data.GB == 1]\n",
    "            train_good_x, train_good_y = label_divide(train_good, None, label, train_only = True)\n",
    "            train_bad_x, train_bad_y = label_divide(train_bad, None, label, train_only = True)\n",
    "            train_g_x, valid_g_x, train_g_y, valid_g_y = train_test_split(train_good_x, train_good_y, test_size = 0.25)\n",
    "            train_b_x, valid_b_x, train_b_y, valid_b_y = train_test_split(train_bad_x, train_bad_y, test_size = 0.25)\n",
    "            train_x = pd.concat([train_g_x, train_b_x], axis = 0)\n",
    "            train_y = pd.concat([train_g_y, train_b_y], axis = 0)\n",
    "            valid_x = pd.concat([valid_g_x, valid_b_x], axis = 0)\n",
    "            valid_y = pd.concat([valid_g_y, valid_b_y], axis = 0)\n",
    "            \n",
    "            if mode == 'C':\n",
    "                result = SVMC(train_x, valid_x, train_y, valid_y, param)\n",
    "                table = cf_matrix(result, valid_y)\n",
    "                recall = table['Recall']\n",
    "                precision = table['Precision']\n",
    "                beta = 1\n",
    "                fscore = ((1+beta**2)*recall*precision) / (recall+(beta**2)*precision)\n",
    "                if recall.values > 0:\n",
    "                    fscore = ((1+beta**2)*recall*precision) / (recall+(beta**2)*precision)\n",
    "                else:\n",
    "                    fscore = 0\n",
    "                result_list.append(fscore)\n",
    "\n",
    "        return np.mean(result_list)\n",
    "    \n",
    "    return objective\n",
    "\n",
    "\n",
    "# creator of optuna study for SVR (optional)\n",
    "def SVR_creator(train_data, mode, num_valid = 3) :\n",
    "    \n",
    "    def objective(trial) :\n",
    "\n",
    "        param = {\n",
    "            'kernel': trial.suggest_categorical('kernel', ['linear', 'rbf']),\n",
    "            'C': trial.suggest_categorical('C', [0.1])\n",
    "        }\n",
    "\n",
    "        result_list = []\n",
    "        for i in range(num_valid):\n",
    "\n",
    "            train_x, train_y = label_divide(train_data, None, 'GB', train_only = True)\n",
    "            train_x, valid_x, train_y, valid_y = train_test_split(train_x, train_y, test_size = 0.25)\n",
    "            \n",
    "            if mode == 'R':\n",
    "                result = SVMR(train_x, valid_x, train_y, valid_y, param)\n",
    "                pr_matrix = PR_matrix(result, valid_y)\n",
    "                auc = AUC(pr_matrix['Recall'], pr_matrix['Aging Rate'])\n",
    "                result_list.append((-1)*auc)\n",
    "\n",
    "        return np.mean(result_list)\n",
    "    \n",
    "    return objective"
   ]
  },
  {
   "cell_type": "markdown",
   "metadata": {},
   "source": [
    "## "
   ]
  },
  {
   "cell_type": "markdown",
   "metadata": {},
   "source": [
    "### Load Data"
   ]
  },
  {
   "cell_type": "code",
   "execution_count": 4,
   "metadata": {
    "ExecuteTime": {
     "end_time": "2022-03-03T03:44:57.473903Z",
     "start_time": "2022-03-03T03:44:52.533107Z"
    },
    "scrolled": true
   },
   "outputs": [
    {
     "name": "stdout",
     "output_type": "stream",
     "text": [
      "\n",
      "Month 2:\n",
      "\n",
      "Dimension of dataset 0 : (39009, 88)  balance ratio: 564.35\n",
      "Dimension of dataset 1 : (1404, 88)  balance ratio: 1.0\n",
      "Dimension of dataset 2 : (1368, 88)  balance ratio: 1.0\n",
      "Dimension of dataset 3 : (1376, 88)  balance ratio: 1.0\n",
      "Dimension of dataset 4 : (1378, 88)  balance ratio: 1.0\n",
      "Dimension of dataset 5 : (1370, 88)  balance ratio: 1.01\n",
      "Dimension of dataset 6 : (1369, 88)  balance ratio: 1.02\n",
      "Dimension of dataset 7 : (1317, 88)  balance ratio: 1.1\n",
      "Dimension of dataset 8 : (1380, 88)  balance ratio: 1.0\n",
      "Dimension of dataset 9 : (759, 88)  balance ratio: 10.0\n",
      "\n",
      " 10 datasets are loaded.\n",
      "\n",
      "Labels of  10 datasets are divided.\n",
      "\n",
      "Month 3:\n",
      "\n",
      "Dimension of dataset 0 : (60396, 97)  balance ratio: 533.48\n",
      "Dimension of dataset 1 : (2304, 97)  balance ratio: 1.0\n",
      "Dimension of dataset 2 : (2226, 97)  balance ratio: 1.0\n",
      "Dimension of dataset 3 : (2256, 97)  balance ratio: 1.0\n",
      "Dimension of dataset 4 : (2258, 97)  balance ratio: 1.0\n",
      "Dimension of dataset 5 : (2271, 97)  balance ratio: 0.99\n",
      "Dimension of dataset 6 : (2243, 97)  balance ratio: 1.02\n",
      "Dimension of dataset 7 : (2158, 97)  balance ratio: 1.1\n",
      "Dimension of dataset 8 : (2260, 97)  balance ratio: 1.0\n",
      "Dimension of dataset 9 : (1243, 97)  balance ratio: 10.0\n",
      "\n",
      " 10 datasets are loaded.\n",
      "\n",
      "Labels of  10 datasets are divided.\n",
      "\n",
      "Month 4:\n",
      "\n",
      "Dimension of dataset 0 : (57743, 100)  balance ratio: 472.3\n",
      "Dimension of dataset 1 : (2426, 100)  balance ratio: 1.0\n",
      "Dimension of dataset 2 : (2404, 100)  balance ratio: 1.0\n",
      "Dimension of dataset 3 : (2434, 100)  balance ratio: 1.0\n",
      "Dimension of dataset 4 : (2440, 100)  balance ratio: 1.0\n",
      "Dimension of dataset 5 : (2419, 100)  balance ratio: 1.02\n",
      "Dimension of dataset 6 : (2425, 100)  balance ratio: 1.01\n",
      "Dimension of dataset 7 : (2330, 100)  balance ratio: 1.1\n",
      "Dimension of dataset 8 : (2440, 100)  balance ratio: 1.0\n",
      "Dimension of dataset 9 : (1342, 100)  balance ratio: 10.0\n",
      "\n",
      " 10 datasets are loaded.\n",
      "\n",
      "Labels of  10 datasets are divided.\n",
      "\n",
      "Combined training data:\n",
      "\n",
      "Dimension of dataset 0 : (157148, 128)  balance ratio: 515.93\n",
      "Dimension of dataset 1 : (6134, 128)  balance ratio: 1.0\n",
      "Dimension of dataset 2 : (5998, 128)  balance ratio: 1.0\n",
      "Dimension of dataset 3 : (6066, 128)  balance ratio: 1.0\n",
      "Dimension of dataset 4 : (6076, 128)  balance ratio: 1.0\n",
      "Dimension of dataset 5 : (6060, 128)  balance ratio: 1.01\n",
      "Dimension of dataset 6 : (6037, 128)  balance ratio: 1.01\n",
      "Dimension of dataset 7 : (5805, 128)  balance ratio: 1.1\n",
      "Dimension of dataset 8 : (6080, 128)  balance ratio: 1.0\n",
      "Dimension of dataset 9 : (3344, 128)  balance ratio: 10.0\n",
      "\n",
      " 10 datasets are loaded.\n",
      "\n",
      "Labels of  10 datasets are divided.\n",
      "\n",
      " Dimension of testing data: (48649, 128)\n"
     ]
    }
   ],
   "source": [
    "### training data ### \n",
    "training_month = range(2, 5)\n",
    "\n",
    "data_dict, trainset_x, trainset_y = multiple_month(training_month, num_set = 10, filename = 'dataset')\n",
    " \n",
    "print('\\nCombined training data:\\n')\n",
    "run_train = multiple_set(num_set = 10)\n",
    "run_train_x, run_train_y = train_set(run_train, num_set = 10)\n",
    "\n",
    "### testing data ###\n",
    "run_test = pd.read_csv('test_runhist.csv').iloc[:, 2:]\n",
    "run_test_x, run_test_y = label_divide(run_test, None, 'GB', train_only = True)\n",
    "print('\\n', 'Dimension of testing data:', run_test.shape)"
   ]
  },
  {
   "cell_type": "markdown",
   "metadata": {},
   "source": [
    "### Search for Best Hyperparameters"
   ]
  },
  {
   "cell_type": "code",
   "execution_count": 13,
   "metadata": {
    "ExecuteTime": {
     "end_time": "2022-03-04T08:18:36.471757Z",
     "start_time": "2022-03-04T01:52:58.912739Z"
    },
    "scrolled": true
   },
   "outputs": [
    {
     "data": {
      "application/vnd.jupyter.widget-view+json": {
       "model_id": "c45aad4029d34d0b8931522799dfaf47",
       "version_major": 2,
       "version_minor": 0
      },
      "text/plain": [
       "  0%|          | 0/9 [00:00<?, ?it/s]"
      ]
     },
     "metadata": {},
     "output_type": "display_data"
    },
    {
     "name": "stderr",
     "output_type": "stream",
     "text": [
      "\u001b[32m[I 2022-03-04 09:52:58,940]\u001b[0m A new study created in memory with name: no-name-07df6677-d386-43c0-a444-75bee6456d0b\u001b[0m\n"
     ]
    },
    {
     "name": "stdout",
     "output_type": "stream",
     "text": [
      "Dataset 1 :\n"
     ]
    },
    {
     "name": "stderr",
     "output_type": "stream",
     "text": [
      "C:\\Users\\user\\anaconda3\\envs\\aging\\lib\\site-packages\\optuna\\progress_bar.py:47: ExperimentalWarning: Progress bar is experimental (supported from v1.2.0). The interface can change in the future.\n",
      "  self._init_valid()\n"
     ]
    },
    {
     "data": {
      "application/vnd.jupyter.widget-view+json": {
       "model_id": "247d2307dd604c75aa9a22947e86449a",
       "version_major": 2,
       "version_minor": 0
      },
      "text/plain": [
       "  0%|          | 0/5 [00:00<?, ?it/s]"
      ]
     },
     "metadata": {},
     "output_type": "display_data"
    },
    {
     "name": "stdout",
     "output_type": "stream",
     "text": [
      "Precision: 0.8958333333333334 \n",
      "Recall: 0.8970013037809648 \n",
      "Aging Rate: 0.500651890482399\n",
      "Precision: 0.9109677419354839 \n",
      "Recall: 0.9204693611473272 \n",
      "Aging Rate: 0.5052151238591917\n",
      "Precision: 0.9028871391076115 \n",
      "Recall: 0.8970013037809648 \n",
      "Aging Rate: 0.49674054758800523\n",
      "\u001b[32m[I 2022-03-04 10:21:50,675]\u001b[0m Trial 0 finished with value: 0.904015146635942 and parameters: {'kernel': 'linear', 'C': 100}. Best is trial 0 with value: 0.904015146635942.\u001b[0m\n",
      "Precision: 0.9286754002911208 \n",
      "Recall: 0.8318122555410691 \n",
      "Aging Rate: 0.44784876140808344\n",
      "Precision: 0.8897535667963683 \n",
      "Recall: 0.894393741851369 \n",
      "Aging Rate: 0.5026075619295959\n",
      "Precision: 0.8997326203208557 \n",
      "Recall: 0.877444589308996 \n",
      "Aging Rate: 0.4876140808344198\n",
      "\u001b[32m[I 2022-03-04 10:21:53,543]\u001b[0m Trial 1 finished with value: 0.886031852443378 and parameters: {'kernel': 'linear', 'C': 0.1}. Best is trial 0 with value: 0.904015146635942.\u001b[0m\n",
      "Precision: 0.9028497409326425 \n",
      "Recall: 0.9087353324641461 \n",
      "Aging Rate: 0.5032594524119948\n",
      "Precision: 0.9114093959731544 \n",
      "Recall: 0.8852672750977836 \n",
      "Aging Rate: 0.48565840938722293\n",
      "Precision: 0.9077922077922078 \n",
      "Recall: 0.9113428943937418 \n",
      "Aging Rate: 0.5019556714471969\n",
      "\u001b[32m[I 2022-03-04 10:22:09,074]\u001b[0m Trial 2 finished with value: 0.9044984033293835 and parameters: {'kernel': 'linear', 'C': 1}. Best is trial 2 with value: 0.9044984033293835.\u001b[0m\n",
      "Precision: 0.9103260869565217 \n",
      "Recall: 0.8735332464146024 \n",
      "Aging Rate: 0.47979139504563234\n",
      "Precision: 0.9144827586206896 \n",
      "Recall: 0.864406779661017 \n",
      "Aging Rate: 0.4726205997392438\n",
      "Precision: 0.9055330634278003 \n",
      "Recall: 0.8748370273794003 \n",
      "Aging Rate: 0.4830508474576271\n",
      "\u001b[32m[I 2022-03-04 10:22:11,793]\u001b[0m Trial 3 finished with value: 0.8900702012171594 and parameters: {'kernel': 'linear', 'C': 0.1}. Best is trial 2 with value: 0.9044984033293835.\u001b[0m\n",
      "Precision: 0.9114927344782034 \n",
      "Recall: 0.8996088657105606 \n",
      "Aging Rate: 0.4934810951760104\n",
      "Precision: 0.9073359073359073 \n",
      "Recall: 0.9191655801825294 \n",
      "Aging Rate: 0.5065189048239895\n"
     ]
    },
    {
     "name": "stderr",
     "output_type": "stream",
     "text": [
      "\u001b[32m[I 2022-03-04 10:24:45,602]\u001b[0m A new study created in memory with name: no-name-4477da25-6c87-4a6d-b1e0-85e6934fc18f\u001b[0m\n"
     ]
    },
    {
     "name": "stdout",
     "output_type": "stream",
     "text": [
      "Precision: 0.912532637075718 \n",
      "Recall: 0.9113428943937418 \n",
      "Aging Rate: 0.49934810951760106\n",
      "\u001b[32m[I 2022-03-04 10:24:45,508]\u001b[0m Trial 4 finished with value: 0.9102205413158616 and parameters: {'kernel': 'linear', 'C': 10}. Best is trial 4 with value: 0.9102205413158616.\u001b[0m\n",
      "Sampler is TPESampler\n",
      "Dataset 2 :\n"
     ]
    },
    {
     "name": "stderr",
     "output_type": "stream",
     "text": [
      "C:\\Users\\user\\anaconda3\\envs\\aging\\lib\\site-packages\\optuna\\progress_bar.py:47: ExperimentalWarning: Progress bar is experimental (supported from v1.2.0). The interface can change in the future.\n",
      "  self._init_valid()\n"
     ]
    },
    {
     "data": {
      "application/vnd.jupyter.widget-view+json": {
       "model_id": "a64f47aa7f9c4cb4bebf94b3440c6375",
       "version_major": 2,
       "version_minor": 0
      },
      "text/plain": [
       "  0%|          | 0/5 [00:00<?, ?it/s]"
      ]
     },
     "metadata": {},
     "output_type": "display_data"
    },
    {
     "name": "stdout",
     "output_type": "stream",
     "text": [
      "Precision: 0.7947658402203857 \n",
      "Recall: 0.7693333333333333 \n",
      "Aging Rate: 0.484\n",
      "Precision: 0.810966810966811 \n",
      "Recall: 0.7493333333333333 \n",
      "Aging Rate: 0.462\n",
      "Precision: 0.7866323907455013 \n",
      "Recall: 0.816 \n",
      "Aging Rate: 0.5186666666666667\n",
      "\u001b[32m[I 2022-03-04 10:24:50,215]\u001b[0m Trial 0 finished with value: 0.7872742392599372 and parameters: {'kernel': 'linear', 'C': 0.01}. Best is trial 0 with value: 0.7872742392599372.\u001b[0m\n",
      "Precision: 0.8367911479944675 \n",
      "Recall: 0.8066666666666666 \n",
      "Aging Rate: 0.482\n",
      "Precision: 0.835781041388518 \n",
      "Recall: 0.8346666666666667 \n",
      "Aging Rate: 0.49933333333333335\n",
      "Precision: 0.8322411533420708 \n",
      "Recall: 0.8466666666666667 \n",
      "Aging Rate: 0.5086666666666667\n",
      "\u001b[32m[I 2022-03-04 10:40:22,515]\u001b[0m Trial 1 finished with value: 0.8320227454169821 and parameters: {'kernel': 'linear', 'C': 100}. Best is trial 1 with value: 0.8320227454169821.\u001b[0m\n",
      "Precision: 0.8284960422163589 \n",
      "Recall: 0.8373333333333334 \n",
      "Aging Rate: 0.5053333333333333\n",
      "Precision: 0.834419817470665 \n",
      "Recall: 0.8533333333333334 \n",
      "Aging Rate: 0.5113333333333333\n",
      "Precision: 0.8306666666666667 \n",
      "Recall: 0.8306666666666667 \n",
      "Aging Rate: 0.5\n",
      "\u001b[32m[I 2022-03-04 10:40:44,424]\u001b[0m Trial 2 finished with value: 0.8357761710730592 and parameters: {'kernel': 'linear', 'C': 1}. Best is trial 2 with value: 0.8357761710730592.\u001b[0m\n",
      "Precision: 0.842741935483871 \n",
      "Recall: 0.836 \n",
      "Aging Rate: 0.496\n",
      "Precision: 0.8243064729194187 \n",
      "Recall: 0.832 \n",
      "Aging Rate: 0.5046666666666667\n",
      "Precision: 0.8396739130434783 \n",
      "Recall: 0.824 \n",
      "Aging Rate: 0.49066666666666664\n",
      "\u001b[32m[I 2022-03-04 10:40:52,829]\u001b[0m Trial 3 finished with value: 0.8330853068255587 and parameters: {'kernel': 'linear', 'C': 0.1}. Best is trial 2 with value: 0.8357761710730592.\u001b[0m\n",
      "Precision: 0.800807537012113 \n",
      "Recall: 0.7933333333333333 \n",
      "Aging Rate: 0.49533333333333335\n",
      "Precision: 0.7964721845318861 \n",
      "Recall: 0.7826666666666666 \n",
      "Aging Rate: 0.49133333333333334\n"
     ]
    },
    {
     "name": "stderr",
     "output_type": "stream",
     "text": [
      "\u001b[32m[I 2022-03-04 10:41:01,421]\u001b[0m A new study created in memory with name: no-name-949f57a6-1f2f-4a9a-a659-01955712c662\u001b[0m\n"
     ]
    },
    {
     "name": "stdout",
     "output_type": "stream",
     "text": [
      "Precision: 0.8086592178770949 \n",
      "Recall: 0.772 \n",
      "Aging Rate: 0.47733333333333333\n",
      "\u001b[32m[I 2022-03-04 10:41:01,216]\u001b[0m Trial 4 finished with value: 0.79215549810836 and parameters: {'kernel': 'linear', 'C': 0.01}. Best is trial 2 with value: 0.8357761710730592.\u001b[0m\n",
      "Sampler is TPESampler\n",
      "Dataset 3 :\n"
     ]
    },
    {
     "name": "stderr",
     "output_type": "stream",
     "text": [
      "C:\\Users\\user\\anaconda3\\envs\\aging\\lib\\site-packages\\optuna\\progress_bar.py:47: ExperimentalWarning: Progress bar is experimental (supported from v1.2.0). The interface can change in the future.\n",
      "  self._init_valid()\n"
     ]
    },
    {
     "data": {
      "application/vnd.jupyter.widget-view+json": {
       "model_id": "43971bcf4f72416f9d72665aeadc0001",
       "version_major": 2,
       "version_minor": 0
      },
      "text/plain": [
       "  0%|          | 0/5 [00:00<?, ?it/s]"
      ]
     },
     "metadata": {},
     "output_type": "display_data"
    },
    {
     "name": "stdout",
     "output_type": "stream",
     "text": [
      "Precision: 0.8266068759342302 \n",
      "Recall: 0.7285902503293807 \n",
      "Aging Rate: 0.4407114624505929\n",
      "Precision: 0.8083209509658247 \n",
      "Recall: 0.7167325428194994 \n",
      "Aging Rate: 0.44334650856389984\n",
      "Precision: 0.8305847076461769 \n",
      "Recall: 0.7299077733860343 \n",
      "Aging Rate: 0.4393939393939394\n",
      "\u001b[32m[I 2022-03-04 10:46:20,740]\u001b[0m Trial 0 finished with value: 0.7704283125699578 and parameters: {'kernel': 'linear', 'C': 10}. Best is trial 0 with value: 0.7704283125699578.\u001b[0m\n",
      "Precision: 0.8310502283105022 \n",
      "Recall: 0.7193675889328063 \n",
      "Aging Rate: 0.43280632411067194\n",
      "Precision: 0.831858407079646 \n",
      "Recall: 0.7430830039525692 \n",
      "Aging Rate: 0.44664031620553357\n",
      "Precision: 0.8255813953488372 \n",
      "Recall: 0.7483530961791831 \n",
      "Aging Rate: 0.45322793148880103\n",
      "\u001b[32m[I 2022-03-04 10:47:04,517]\u001b[0m Trial 1 finished with value: 0.7804092297877484 and parameters: {'kernel': 'linear', 'C': 1}. Best is trial 1 with value: 0.7804092297877484.\u001b[0m\n",
      "Precision: 0.8170731707317073 \n",
      "Recall: 0.7061923583662714 \n",
      "Aging Rate: 0.4321475625823452\n",
      "Precision: 0.8305847076461769 \n",
      "Recall: 0.7299077733860343 \n",
      "Aging Rate: 0.4393939393939394\n",
      "Precision: 0.8254211332312404 \n",
      "Recall: 0.7101449275362319 \n",
      "Aging Rate: 0.43017127799736493\n",
      "\u001b[32m[I 2022-03-04 11:41:54,578]\u001b[0m Trial 2 finished with value: 0.7660172870906301 and parameters: {'kernel': 'linear', 'C': 100}. Best is trial 1 with value: 0.7804092297877484.\u001b[0m\n",
      "Precision: 0.8192771084337349 \n",
      "Recall: 0.7167325428194994 \n",
      "Aging Rate: 0.43741765480895917\n",
      "Precision: 0.8119266055045872 \n",
      "Recall: 0.6996047430830039 \n",
      "Aging Rate: 0.4308300395256917\n",
      "Precision: 0.8204724409448819 \n",
      "Recall: 0.686429512516469 \n",
      "Aging Rate: 0.4183135704874835\n",
      "\u001b[32m[I 2022-03-04 11:42:02,482]\u001b[0m Trial 3 finished with value: 0.7545544885254695 and parameters: {'kernel': 'linear', 'C': 0.01}. Best is trial 1 with value: 0.7804092297877484.\u001b[0m\n",
      "Precision: 0.8210361067503925 \n",
      "Recall: 0.689064558629776 \n",
      "Aging Rate: 0.419631093544137\n",
      "Precision: 0.8327868852459016 \n",
      "Recall: 0.6693017127799736 \n",
      "Aging Rate: 0.4018445322793149\n"
     ]
    },
    {
     "name": "stderr",
     "output_type": "stream",
     "text": [
      "\u001b[32m[I 2022-03-04 11:42:11,276]\u001b[0m A new study created in memory with name: no-name-c811f112-fd76-478e-8229-0c9104ba76e2\u001b[0m\n"
     ]
    },
    {
     "name": "stdout",
     "output_type": "stream",
     "text": [
      "Precision: 0.8085419734904271 \n",
      "Recall: 0.7233201581027668 \n",
      "Aging Rate: 0.44729907773386035\n",
      "\u001b[32m[I 2022-03-04 11:42:11,104]\u001b[0m Trial 4 finished with value: 0.7516639070918503 and parameters: {'kernel': 'linear', 'C': 0.01}. Best is trial 1 with value: 0.7804092297877484.\u001b[0m\n",
      "Sampler is TPESampler\n",
      "Dataset 4 :\n"
     ]
    },
    {
     "name": "stderr",
     "output_type": "stream",
     "text": [
      "C:\\Users\\user\\anaconda3\\envs\\aging\\lib\\site-packages\\optuna\\progress_bar.py:47: ExperimentalWarning: Progress bar is experimental (supported from v1.2.0). The interface can change in the future.\n",
      "  self._init_valid()\n"
     ]
    },
    {
     "data": {
      "application/vnd.jupyter.widget-view+json": {
       "model_id": "6c212c96afed47c0b9bd4602abcd8dc2",
       "version_major": 2,
       "version_minor": 0
      },
      "text/plain": [
       "  0%|          | 0/5 [00:00<?, ?it/s]"
      ]
     },
     "metadata": {},
     "output_type": "display_data"
    },
    {
     "name": "stdout",
     "output_type": "stream",
     "text": [
      "Precision: 0.8803945745992602 \n",
      "Recall: 0.9394736842105263 \n",
      "Aging Rate: 0.5335526315789474\n",
      "Precision: 0.8996138996138996 \n",
      "Recall: 0.9197368421052632 \n",
      "Aging Rate: 0.5111842105263158\n",
      "Precision: 0.8872366790582404 \n",
      "Recall: 0.9421052631578948 \n",
      "Aging Rate: 0.530921052631579\n",
      "\u001b[32m[I 2022-03-04 13:23:59,988]\u001b[0m Trial 0 finished with value: 0.9107957927837177 and parameters: {'kernel': 'linear', 'C': 100}. Best is trial 0 with value: 0.9107957927837177.\u001b[0m\n",
      "Precision: 0.8785625774473358 \n",
      "Recall: 0.9328947368421052 \n",
      "Aging Rate: 0.530921052631579\n",
      "Precision: 0.8712871287128713 \n",
      "Recall: 0.9263157894736842 \n",
      "Aging Rate: 0.531578947368421\n",
      "Precision: 0.8737623762376238 \n",
      "Recall: 0.9289473684210526 \n",
      "Aging Rate: 0.531578947368421\n",
      "\u001b[32m[I 2022-03-04 13:24:41,882]\u001b[0m Trial 1 finished with value: 0.9011277452908413 and parameters: {'kernel': 'linear', 'C': 1}. Best is trial 0 with value: 0.9107957927837177.\u001b[0m\n",
      "Precision: 0.8346774193548387 \n",
      "Recall: 0.8171052631578948 \n",
      "Aging Rate: 0.48947368421052634\n",
      "Precision: 0.8601583113456465 \n",
      "Recall: 0.8578947368421053 \n",
      "Aging Rate: 0.4986842105263158\n",
      "Precision: 0.8471849865951743 \n",
      "Recall: 0.8315789473684211 \n",
      "Aging Rate: 0.49078947368421055\n",
      "\u001b[32m[I 2022-03-04 13:24:48,828]\u001b[0m Trial 2 finished with value: 0.8413774447431216 and parameters: {'kernel': 'linear', 'C': 0.01}. Best is trial 0 with value: 0.9107957927837177.\u001b[0m\n",
      "Precision: 0.8867684478371501 \n",
      "Recall: 0.9171052631578948 \n",
      "Aging Rate: 0.5171052631578947\n",
      "Precision: 0.8938053097345132 \n",
      "Recall: 0.9302631578947368 \n",
      "Aging Rate: 0.5203947368421052\n",
      "Precision: 0.910025706940874 \n",
      "Recall: 0.9315789473684211 \n",
      "Aging Rate: 0.5118421052631579\n",
      "\u001b[32m[I 2022-03-04 13:32:58,321]\u001b[0m Trial 3 finished with value: 0.9113426175443985 and parameters: {'kernel': 'linear', 'C': 10}. Best is trial 3 with value: 0.9113426175443985.\u001b[0m\n",
      "Precision: 0.8884664131812421 \n",
      "Recall: 0.9223684210526316 \n",
      "Aging Rate: 0.5190789473684211\n",
      "Precision: 0.8913857677902621 \n",
      "Recall: 0.9394736842105263 \n",
      "Aging Rate: 0.5269736842105263\n"
     ]
    },
    {
     "name": "stderr",
     "output_type": "stream",
     "text": [
      "\u001b[32m[I 2022-03-04 13:46:18,569]\u001b[0m A new study created in memory with name: no-name-75659ae7-5787-4e33-bdff-011f760a2caf\u001b[0m\n"
     ]
    },
    {
     "name": "stdout",
     "output_type": "stream",
     "text": [
      "Precision: 0.890840652446675 \n",
      "Recall: 0.9342105263157895 \n",
      "Aging Rate: 0.5243421052631579\n",
      "\u001b[32m[I 2022-03-04 13:46:18,413]\u001b[0m Trial 4 finished with value: 0.9106361823359773 and parameters: {'kernel': 'linear', 'C': 10}. Best is trial 3 with value: 0.9113426175443985.\u001b[0m\n",
      "Sampler is TPESampler\n",
      "Dataset 5 :\n"
     ]
    },
    {
     "name": "stderr",
     "output_type": "stream",
     "text": [
      "C:\\Users\\user\\anaconda3\\envs\\aging\\lib\\site-packages\\optuna\\progress_bar.py:47: ExperimentalWarning: Progress bar is experimental (supported from v1.2.0). The interface can change in the future.\n",
      "  self._init_valid()\n"
     ]
    },
    {
     "data": {
      "application/vnd.jupyter.widget-view+json": {
       "model_id": "ff6f4b207c4b4fbdb3120ffd4c80c3a4",
       "version_major": 2,
       "version_minor": 0
      },
      "text/plain": [
       "  0%|          | 0/5 [00:00<?, ?it/s]"
      ]
     },
     "metadata": {},
     "output_type": "display_data"
    },
    {
     "name": "stdout",
     "output_type": "stream",
     "text": [
      "Precision: 0.9373996789727127 \n",
      "Recall: 0.7735099337748345 \n",
      "Aging Rate: 0.41122112211221123\n",
      "Precision: 0.927652733118971 \n",
      "Recall: 0.7642384105960265 \n",
      "Aging Rate: 0.41056105610561056\n",
      "Precision: 0.9341692789968652 \n",
      "Recall: 0.7894039735099337 \n",
      "Aging Rate: 0.42112211221122114\n",
      "\u001b[32m[I 2022-03-04 13:46:25,030]\u001b[0m Trial 0 finished with value: 0.8471220239805427 and parameters: {'kernel': 'linear', 'C': 0.01}. Best is trial 0 with value: 0.8471220239805427.\u001b[0m\n",
      "Precision: 0.9122807017543859 \n",
      "Recall: 0.895364238410596 \n",
      "Aging Rate: 0.4891089108910891\n",
      "Precision: 0.9326145552560647 \n",
      "Recall: 0.9165562913907285 \n",
      "Aging Rate: 0.4897689768976898\n",
      "Precision: 0.9199475065616798 \n",
      "Recall: 0.928476821192053 \n",
      "Aging Rate: 0.502970297029703\n",
      "\u001b[32m[I 2022-03-04 14:34:50,561]\u001b[0m Trial 1 finished with value: 0.9174838329129695 and parameters: {'kernel': 'linear', 'C': 100}. Best is trial 1 with value: 0.9174838329129695.\u001b[0m\n",
      "Precision: 0.93125 \n",
      "Recall: 0.7894039735099337 \n",
      "Aging Rate: 0.42244224422442245\n",
      "Precision: 0.9234375 \n",
      "Recall: 0.7827814569536424 \n",
      "Aging Rate: 0.42244224422442245\n",
      "Precision: 0.9178981937602627 \n",
      "Recall: 0.7403973509933774 \n",
      "Aging Rate: 0.401980198019802\n",
      "\u001b[32m[I 2022-03-04 14:34:57,755]\u001b[0m Trial 2 finished with value: 0.8404800695123275 and parameters: {'kernel': 'linear', 'C': 0.01}. Best is trial 1 with value: 0.9174838329129695.\u001b[0m\n",
      "Precision: 0.924802110817942 \n",
      "Recall: 0.928476821192053 \n",
      "Aging Rate: 0.5003300330033004\n",
      "Precision: 0.9254327563249002 \n",
      "Recall: 0.9205298013245033 \n",
      "Aging Rate: 0.4957095709570957\n",
      "Precision: 0.9118825100133512 \n",
      "Recall: 0.904635761589404 \n",
      "Aging Rate: 0.49438943894389437\n",
      "\u001b[32m[I 2022-03-04 14:38:24,665]\u001b[0m Trial 3 finished with value: 0.9192850904386062 and parameters: {'kernel': 'linear', 'C': 10}. Best is trial 3 with value: 0.9192850904386062.\u001b[0m\n",
      "Precision: 0.9228346456692913 \n",
      "Recall: 0.776158940397351 \n",
      "Aging Rate: 0.41914191419141916\n",
      "Precision: 0.9290123456790124 \n",
      "Recall: 0.7973509933774835 \n",
      "Aging Rate: 0.4277227722772277\n"
     ]
    },
    {
     "name": "stderr",
     "output_type": "stream",
     "text": [
      "\u001b[32m[I 2022-03-04 14:38:32,104]\u001b[0m A new study created in memory with name: no-name-f567c73e-ea69-4088-9d31-81bda0e6d180\u001b[0m\n"
     ]
    },
    {
     "name": "stdout",
     "output_type": "stream",
     "text": [
      "Precision: 0.9236760124610592 \n",
      "Recall: 0.785430463576159 \n",
      "Aging Rate: 0.42376237623762375\n",
      "\u001b[32m[I 2022-03-04 14:38:31,929]\u001b[0m Trial 4 finished with value: 0.8500962041930387 and parameters: {'kernel': 'linear', 'C': 0.01}. Best is trial 3 with value: 0.9192850904386062.\u001b[0m\n",
      "Sampler is TPESampler\n",
      "Dataset 6 :\n"
     ]
    },
    {
     "name": "stderr",
     "output_type": "stream",
     "text": [
      "C:\\Users\\user\\anaconda3\\envs\\aging\\lib\\site-packages\\optuna\\progress_bar.py:47: ExperimentalWarning: Progress bar is experimental (supported from v1.2.0). The interface can change in the future.\n",
      "  self._init_valid()\n"
     ]
    },
    {
     "data": {
      "application/vnd.jupyter.widget-view+json": {
       "model_id": "fa89e284739144f39d9e4e0896d65905",
       "version_major": 2,
       "version_minor": 0
      },
      "text/plain": [
       "  0%|          | 0/5 [00:00<?, ?it/s]"
      ]
     },
     "metadata": {},
     "output_type": "display_data"
    },
    {
     "name": "stdout",
     "output_type": "stream",
     "text": [
      "Precision: 0.8326055312954876 \n",
      "Recall: 0.7626666666666667 \n",
      "Aging Rate: 0.4549668874172185\n",
      "Precision: 0.8125854993160054 \n",
      "Recall: 0.792 \n",
      "Aging Rate: 0.48410596026490066\n",
      "Precision: 0.7845528455284553 \n",
      "Recall: 0.772 \n",
      "Aging Rate: 0.48874172185430464\n",
      "\u001b[32m[I 2022-03-04 14:38:40,184]\u001b[0m Trial 0 finished with value: 0.7921631670083337 and parameters: {'kernel': 'linear', 'C': 0.01}. Best is trial 0 with value: 0.7921631670083337.\u001b[0m\n",
      "Precision: 0.8523035230352304 \n",
      "Recall: 0.8386666666666667 \n",
      "Aging Rate: 0.48874172185430464\n",
      "Precision: 0.8405405405405405 \n",
      "Recall: 0.8293333333333334 \n",
      "Aging Rate: 0.4900662251655629\n",
      "Precision: 0.8496551724137931 \n",
      "Recall: 0.8213333333333334 \n",
      "Aging Rate: 0.48013245033112584\n",
      "\u001b[32m[I 2022-03-04 14:38:50,440]\u001b[0m Trial 1 finished with value: 0.8385278912246926 and parameters: {'kernel': 'linear', 'C': 0.1}. Best is trial 1 with value: 0.8385278912246926.\u001b[0m\n",
      "Precision: 0.8419618528610354 \n",
      "Recall: 0.824 \n",
      "Aging Rate: 0.4860927152317881\n",
      "Precision: 0.8479452054794521 \n",
      "Recall: 0.8253333333333334 \n",
      "Aging Rate: 0.48344370860927155\n",
      "Precision: 0.8658536585365854 \n",
      "Recall: 0.852 \n",
      "Aging Rate: 0.48874172185430464\n",
      "\u001b[32m[I 2022-03-04 14:41:09,395]\u001b[0m Trial 2 finished with value: 0.8427471837544874 and parameters: {'kernel': 'linear', 'C': 10}. Best is trial 2 with value: 0.8427471837544874.\u001b[0m\n",
      "Precision: 0.8333333333333334 \n",
      "Recall: 0.8266666666666667 \n",
      "Aging Rate: 0.49271523178807947\n",
      "Precision: 0.845222072678331 \n",
      "Recall: 0.8373333333333334 \n",
      "Aging Rate: 0.49205298013245036\n",
      "Precision: 0.8471074380165289 \n",
      "Recall: 0.82 \n",
      "Aging Rate: 0.48079470198675495\n",
      "\u001b[32m[I 2022-03-04 14:41:17,651]\u001b[0m Trial 3 finished with value: 0.8348597186991621 and parameters: {'kernel': 'linear', 'C': 0.1}. Best is trial 2 with value: 0.8427471837544874.\u001b[0m\n",
      "Precision: 0.8184357541899442 \n",
      "Recall: 0.7813333333333333 \n",
      "Aging Rate: 0.4741721854304636\n",
      "Precision: 0.8241134751773049 \n",
      "Recall: 0.7746666666666666 \n",
      "Aging Rate: 0.46688741721854304\n",
      "Precision: 0.8240223463687151 \n",
      "Recall: 0.7866666666666666 \n",
      "Aging Rate: 0.4741721854304636\n",
      "\u001b[32m[I 2022-03-04 14:41:25,998]\u001b[0m Trial 4 finished with value: 0.800997016763321 and parameters: {'kernel': 'linear', 'C': 0.01}. Best is trial 2 with value: 0.8427471837544874.\u001b[0m\n"
     ]
    },
    {
     "name": "stderr",
     "output_type": "stream",
     "text": [
      "\u001b[32m[I 2022-03-04 14:41:26,196]\u001b[0m A new study created in memory with name: no-name-e0afcd9e-21d2-416c-bd88-2ce1cf3d7608\u001b[0m\n"
     ]
    },
    {
     "name": "stdout",
     "output_type": "stream",
     "text": [
      "Sampler is TPESampler\n",
      "Dataset 7 :\n"
     ]
    },
    {
     "name": "stderr",
     "output_type": "stream",
     "text": [
      "C:\\Users\\user\\anaconda3\\envs\\aging\\lib\\site-packages\\optuna\\progress_bar.py:47: ExperimentalWarning: Progress bar is experimental (supported from v1.2.0). The interface can change in the future.\n",
      "  self._init_valid()\n"
     ]
    },
    {
     "data": {
      "application/vnd.jupyter.widget-view+json": {
       "model_id": "b4958060a9bd40f7a26c96f54840aabe",
       "version_major": 2,
       "version_minor": 0
      },
      "text/plain": [
       "  0%|          | 0/5 [00:00<?, ?it/s]"
      ]
     },
     "metadata": {},
     "output_type": "display_data"
    },
    {
     "name": "stdout",
     "output_type": "stream",
     "text": [
      "Precision: 0.848585690515807 \n",
      "Recall: 0.7369942196531792 \n",
      "Aging Rate: 0.41391184573002754\n",
      "Precision: 0.8456260720411664 \n",
      "Recall: 0.7124277456647399 \n",
      "Aging Rate: 0.4015151515151515\n",
      "Precision: 0.8492462311557789 \n",
      "Recall: 0.7326589595375722 \n",
      "Aging Rate: 0.41115702479338845\n",
      "\u001b[32m[I 2022-03-04 14:45:59,135]\u001b[0m Trial 0 finished with value: 0.7829509217042855 and parameters: {'kernel': 'linear', 'C': 10}. Best is trial 0 with value: 0.7829509217042855.\u001b[0m\n",
      "Precision: 0.8464106844741235 \n",
      "Recall: 0.7326589595375722 \n",
      "Aging Rate: 0.41253443526170797\n",
      "Precision: 0.8421052631578947 \n",
      "Recall: 0.7167630057803468 \n",
      "Aging Rate: 0.4056473829201102\n",
      "Precision: 0.8498349834983498 \n",
      "Recall: 0.7442196531791907 \n",
      "Aging Rate: 0.41735537190082644\n",
      "\u001b[32m[I 2022-03-04 15:19:25,584]\u001b[0m Trial 1 finished with value: 0.7844537181774546 and parameters: {'kernel': 'linear', 'C': 100}. Best is trial 1 with value: 0.7844537181774546.\u001b[0m\n",
      "Precision: 0.8391003460207612 \n",
      "Recall: 0.7008670520231214 \n",
      "Aging Rate: 0.39807162534435264\n",
      "Precision: 0.8489583333333334 \n",
      "Recall: 0.7066473988439307 \n",
      "Aging Rate: 0.39669421487603307\n",
      "Precision: 0.8594594594594595 \n",
      "Recall: 0.6893063583815029 \n",
      "Aging Rate: 0.3822314049586777\n",
      "\u001b[32m[I 2022-03-04 15:19:29,645]\u001b[0m Trial 2 finished with value: 0.766702996520412 and parameters: {'kernel': 'linear', 'C': 0.01}. Best is trial 1 with value: 0.7844537181774546.\u001b[0m\n",
      "Precision: 0.8366666666666667 \n",
      "Recall: 0.7254335260115607 \n",
      "Aging Rate: 0.4132231404958678\n",
      "Precision: 0.8446601941747572 \n",
      "Recall: 0.7543352601156069 \n",
      "Aging Rate: 0.4256198347107438\n",
      "Precision: 0.8429054054054054 \n",
      "Recall: 0.7210982658959537 \n",
      "Aging Rate: 0.40771349862258954\n",
      "\u001b[32m[I 2022-03-04 15:44:47,532]\u001b[0m Trial 3 finished with value: 0.783764971715141 and parameters: {'kernel': 'linear', 'C': 100}. Best is trial 1 with value: 0.7844537181774546.\u001b[0m\n",
      "Precision: 0.8369747899159664 \n",
      "Recall: 0.7196531791907514 \n",
      "Aging Rate: 0.4097796143250689\n",
      "Precision: 0.8485342019543974 \n",
      "Recall: 0.7528901734104047 \n",
      "Aging Rate: 0.4228650137741047\n"
     ]
    },
    {
     "name": "stderr",
     "output_type": "stream",
     "text": [
      "\u001b[32m[I 2022-03-04 16:04:29,610]\u001b[0m A new study created in memory with name: no-name-19e6efb0-6b19-4aff-8550-b352e1025f0e\u001b[0m\n"
     ]
    },
    {
     "name": "stdout",
     "output_type": "stream",
     "text": [
      "Precision: 0.8588640275387264 \n",
      "Recall: 0.7210982658959537 \n",
      "Aging Rate: 0.400137741046832\n",
      "\u001b[32m[I 2022-03-04 16:04:29,558]\u001b[0m Trial 4 finished with value: 0.7852412284756086 and parameters: {'kernel': 'linear', 'C': 100}. Best is trial 4 with value: 0.7852412284756086.\u001b[0m\n",
      "Sampler is TPESampler\n",
      "Dataset 8 :\n"
     ]
    },
    {
     "name": "stderr",
     "output_type": "stream",
     "text": [
      "C:\\Users\\user\\anaconda3\\envs\\aging\\lib\\site-packages\\optuna\\progress_bar.py:47: ExperimentalWarning: Progress bar is experimental (supported from v1.2.0). The interface can change in the future.\n",
      "  self._init_valid()\n"
     ]
    },
    {
     "data": {
      "application/vnd.jupyter.widget-view+json": {
       "model_id": "8fabaf7c20f34e1397ea38edf6835f52",
       "version_major": 2,
       "version_minor": 0
      },
      "text/plain": [
       "  0%|          | 0/5 [00:00<?, ?it/s]"
      ]
     },
     "metadata": {},
     "output_type": "display_data"
    },
    {
     "name": "stdout",
     "output_type": "stream",
     "text": [
      "Precision: 0.8803526448362721 \n",
      "Recall: 0.9197368421052632 \n",
      "Aging Rate: 0.5223684210526316\n",
      "Precision: 0.8610421836228288 \n",
      "Recall: 0.9131578947368421 \n",
      "Aging Rate: 0.5302631578947369\n",
      "Precision: 0.8557457212713936 \n",
      "Recall: 0.9210526315789473 \n",
      "Aging Rate: 0.5381578947368421\n",
      "\u001b[32m[I 2022-03-04 16:04:32,839]\u001b[0m Trial 0 finished with value: 0.8910491653815807 and parameters: {'kernel': 'linear', 'C': 0.1}. Best is trial 0 with value: 0.8910491653815807.\u001b[0m\n",
      "Precision: 0.8636363636363636 \n",
      "Recall: 0.925 \n",
      "Aging Rate: 0.5355263157894737\n",
      "Precision: 0.8721071863580999 \n",
      "Recall: 0.9421052631578948 \n",
      "Aging Rate: 0.5401315789473684\n",
      "Precision: 0.8814180929095354 \n",
      "Recall: 0.9486842105263158 \n",
      "Aging Rate: 0.5381578947368421\n",
      "\u001b[32m[I 2022-03-04 16:04:36,249]\u001b[0m Trial 1 finished with value: 0.9042787906019374 and parameters: {'kernel': 'linear', 'C': 0.1}. Best is trial 1 with value: 0.9042787906019374.\u001b[0m\n",
      "Precision: 0.8844765342960289 \n",
      "Recall: 0.9671052631578947 \n",
      "Aging Rate: 0.5467105263157894\n",
      "Precision: 0.8886198547215496 \n",
      "Recall: 0.9657894736842105 \n",
      "Aging Rate: 0.5434210526315789\n",
      "Precision: 0.9045848822800495 \n",
      "Recall: 0.9605263157894737 \n",
      "Aging Rate: 0.530921052631579\n",
      "\u001b[32m[I 2022-03-04 16:09:50,979]\u001b[0m Trial 2 finished with value: 0.9270876167401213 and parameters: {'kernel': 'linear', 'C': 10}. Best is trial 2 with value: 0.9270876167401213.\u001b[0m\n",
      "Precision: 0.8868613138686131 \n",
      "Recall: 0.9592105263157895 \n",
      "Aging Rate: 0.5407894736842105\n",
      "Precision: 0.9007352941176471 \n",
      "Recall: 0.9671052631578947 \n",
      "Aging Rate: 0.5368421052631579\n",
      "Precision: 0.8800959232613909 \n",
      "Recall: 0.9657894736842105 \n",
      "Aging Rate: 0.5486842105263158\n",
      "\u001b[32m[I 2022-03-04 16:10:14,958]\u001b[0m Trial 3 finished with value: 0.9251042991549919 and parameters: {'kernel': 'linear', 'C': 1}. Best is trial 2 with value: 0.9270876167401213.\u001b[0m\n",
      "Precision: 0.8948655256723717 \n",
      "Recall: 0.9631578947368421 \n",
      "Aging Rate: 0.5381578947368421\n",
      "Precision: 0.9007352941176471 \n",
      "Recall: 0.9671052631578947 \n",
      "Aging Rate: 0.5368421052631579\n"
     ]
    },
    {
     "name": "stderr",
     "output_type": "stream",
     "text": [
      "\u001b[32m[I 2022-03-04 16:14:49,580]\u001b[0m A new study created in memory with name: no-name-0de24f61-5963-47e8-b0d9-fe260222585f\u001b[0m\n"
     ]
    },
    {
     "name": "stdout",
     "output_type": "stream",
     "text": [
      "Precision: 0.8973105134474327 \n",
      "Recall: 0.9657894736842105 \n",
      "Aging Rate: 0.5381578947368421\n",
      "\u001b[32m[I 2022-03-04 16:14:49,455]\u001b[0m Trial 4 finished with value: 0.9302630929939802 and parameters: {'kernel': 'linear', 'C': 10}. Best is trial 4 with value: 0.9302630929939802.\u001b[0m\n",
      "Sampler is TPESampler\n",
      "Dataset 9 :\n"
     ]
    },
    {
     "name": "stderr",
     "output_type": "stream",
     "text": [
      "C:\\Users\\user\\anaconda3\\envs\\aging\\lib\\site-packages\\optuna\\progress_bar.py:47: ExperimentalWarning: Progress bar is experimental (supported from v1.2.0). The interface can change in the future.\n",
      "  self._init_valid()\n"
     ]
    },
    {
     "data": {
      "application/vnd.jupyter.widget-view+json": {
       "model_id": "b03c0be4e64a430399da35bcdd15f45f",
       "version_major": 2,
       "version_minor": 0
      },
      "text/plain": [
       "  0%|          | 0/5 [00:00<?, ?it/s]"
      ]
     },
     "metadata": {},
     "output_type": "display_data"
    },
    {
     "name": "stderr",
     "output_type": "stream",
     "text": [
      "C:\\Users\\user\\Desktop\\Darui_R08621110\\Master_Thesis\\AUO aging test\\Full_Version_Code\\library\\Aging_Score_Contour.py:43: RuntimeWarning: invalid value encountered in double_scalars\n",
      "  eff = r/ag\n"
     ]
    },
    {
     "name": "stdout",
     "output_type": "stream",
     "text": [
      "Precision: 0 \n",
      "Recall: 0.0 \n",
      "Aging Rate: 0.0\n"
     ]
    },
    {
     "name": "stderr",
     "output_type": "stream",
     "text": [
      "C:\\Users\\user\\Desktop\\Darui_R08621110\\Master_Thesis\\AUO aging test\\Full_Version_Code\\library\\Aging_Score_Contour.py:43: RuntimeWarning: invalid value encountered in double_scalars\n",
      "  eff = r/ag\n"
     ]
    },
    {
     "name": "stdout",
     "output_type": "stream",
     "text": [
      "Precision: 0 \n",
      "Recall: 0.0 \n",
      "Aging Rate: 0.0\n"
     ]
    },
    {
     "name": "stderr",
     "output_type": "stream",
     "text": [
      "C:\\Users\\user\\Desktop\\Darui_R08621110\\Master_Thesis\\AUO aging test\\Full_Version_Code\\library\\Aging_Score_Contour.py:43: RuntimeWarning: invalid value encountered in double_scalars\n",
      "  eff = r/ag\n"
     ]
    },
    {
     "name": "stdout",
     "output_type": "stream",
     "text": [
      "Precision: 0 \n",
      "Recall: 0.0 \n",
      "Aging Rate: 0.0\n",
      "\u001b[32m[I 2022-03-04 16:14:50,902]\u001b[0m Trial 0 finished with value: 0.0 and parameters: {'kernel': 'linear', 'C': 0.01}. Best is trial 0 with value: 0.0.\u001b[0m\n",
      "Precision: 0.7627118644067796 \n",
      "Recall: 0.5921052631578947 \n",
      "Aging Rate: 0.07057416267942583\n",
      "Precision: 0.6857142857142857 \n",
      "Recall: 0.631578947368421 \n",
      "Aging Rate: 0.08373205741626795\n",
      "Precision: 0.7450980392156863 \n",
      "Recall: 0.5 \n",
      "Aging Rate: 0.061004784688995214\n",
      "\u001b[32m[I 2022-03-04 16:15:12,833]\u001b[0m Trial 1 finished with value: 0.6408753700308009 and parameters: {'kernel': 'linear', 'C': 10}. Best is trial 1 with value: 0.6408753700308009.\u001b[0m\n",
      "Precision: 0.7049180327868853 \n",
      "Recall: 0.5657894736842105 \n",
      "Aging Rate: 0.0729665071770335\n",
      "Precision: 0.7843137254901961 \n",
      "Recall: 0.5263157894736842 \n",
      "Aging Rate: 0.061004784688995214\n",
      "Precision: 0.7241379310344828 \n",
      "Recall: 0.5526315789473685 \n",
      "Aging Rate: 0.06937799043062201\n",
      "\u001b[32m[I 2022-03-04 16:18:33,242]\u001b[0m Trial 2 finished with value: 0.6281747192538943 and parameters: {'kernel': 'linear', 'C': 100}. Best is trial 1 with value: 0.6408753700308009.\u001b[0m\n",
      "Precision: 1.0 \n",
      "Recall: 0.17105263157894737 \n",
      "Aging Rate: 0.01555023923444976\n",
      "Precision: 0.9411764705882353 \n",
      "Recall: 0.21052631578947367 \n",
      "Aging Rate: 0.02033492822966507\n",
      "Precision: 1.0 \n",
      "Recall: 0.21052631578947367 \n",
      "Aging Rate: 0.019138755980861243\n",
      "\u001b[32m[I 2022-03-04 16:18:34,759]\u001b[0m Trial 3 finished with value: 0.3280156466408574 and parameters: {'kernel': 'linear', 'C': 0.1}. Best is trial 1 with value: 0.6408753700308009.\u001b[0m\n",
      "Precision: 0.9473684210526315 \n",
      "Recall: 0.23684210526315788 \n",
      "Aging Rate: 0.022727272727272728\n",
      "Precision: 0.9523809523809523 \n",
      "Recall: 0.2631578947368421 \n",
      "Aging Rate: 0.025119617224880382\n",
      "Precision: 1.0 \n",
      "Recall: 0.18421052631578946 \n",
      "Aging Rate: 0.01674641148325359\n",
      "\u001b[32m[I 2022-03-04 16:18:36,284]\u001b[0m Trial 4 finished with value: 0.36747653785092743 and parameters: {'kernel': 'linear', 'C': 0.1}. Best is trial 1 with value: 0.6408753700308009.\u001b[0m\n",
      "Sampler is TPESampler\n"
     ]
    }
   ],
   "source": [
    "best_paramC, all_scoreC = all_optuna(all_data = run_train, \n",
    "                                     mode = 'C', \n",
    "                                     TPE_multi = False, \n",
    "                                     n_iter = 5, \n",
    "                                     filename = 'runhist_array_m2m4_m5_3criteria_SVM_linear', \n",
    "                                     creator = SVC_creator\n",
    "                                    )"
   ]
  },
  {
   "cell_type": "code",
   "execution_count": 14,
   "metadata": {
    "ExecuteTime": {
     "end_time": "2022-03-04T08:18:40.030405Z",
     "start_time": "2022-03-04T08:18:38.706229Z"
    }
   },
   "outputs": [
    {
     "data": {
      "text/html": [
       "<div>\n",
       "<style scoped>\n",
       "    .dataframe tbody tr th:only-of-type {\n",
       "        vertical-align: middle;\n",
       "    }\n",
       "\n",
       "    .dataframe tbody tr th {\n",
       "        vertical-align: top;\n",
       "    }\n",
       "\n",
       "    .dataframe thead th {\n",
       "        text-align: right;\n",
       "    }\n",
       "</style>\n",
       "<table border=\"1\" class=\"dataframe\">\n",
       "  <thead>\n",
       "    <tr style=\"text-align: right;\">\n",
       "      <th></th>\n",
       "      <th>kernel</th>\n",
       "      <th>C</th>\n",
       "    </tr>\n",
       "  </thead>\n",
       "  <tbody>\n",
       "    <tr>\n",
       "      <th>set1</th>\n",
       "      <td>linear</td>\n",
       "      <td>10</td>\n",
       "    </tr>\n",
       "    <tr>\n",
       "      <th>set2</th>\n",
       "      <td>linear</td>\n",
       "      <td>1</td>\n",
       "    </tr>\n",
       "    <tr>\n",
       "      <th>set3</th>\n",
       "      <td>linear</td>\n",
       "      <td>1</td>\n",
       "    </tr>\n",
       "    <tr>\n",
       "      <th>set4</th>\n",
       "      <td>linear</td>\n",
       "      <td>10</td>\n",
       "    </tr>\n",
       "    <tr>\n",
       "      <th>set5</th>\n",
       "      <td>linear</td>\n",
       "      <td>10</td>\n",
       "    </tr>\n",
       "    <tr>\n",
       "      <th>set6</th>\n",
       "      <td>linear</td>\n",
       "      <td>10</td>\n",
       "    </tr>\n",
       "    <tr>\n",
       "      <th>set7</th>\n",
       "      <td>linear</td>\n",
       "      <td>100</td>\n",
       "    </tr>\n",
       "    <tr>\n",
       "      <th>set8</th>\n",
       "      <td>linear</td>\n",
       "      <td>10</td>\n",
       "    </tr>\n",
       "    <tr>\n",
       "      <th>set9</th>\n",
       "      <td>linear</td>\n",
       "      <td>10</td>\n",
       "    </tr>\n",
       "  </tbody>\n",
       "</table>\n",
       "</div>"
      ],
      "text/plain": [
       "      kernel    C\n",
       "set1  linear   10\n",
       "set2  linear    1\n",
       "set3  linear    1\n",
       "set4  linear   10\n",
       "set5  linear   10\n",
       "set6  linear   10\n",
       "set7  linear  100\n",
       "set8  linear   10\n",
       "set9  linear   10"
      ]
     },
     "execution_count": 14,
     "metadata": {},
     "output_type": "execute_result"
    },
    {
     "data": {
      "image/png": "[encoded data removed]",
      "text/plain": [
       "<Figure size 2160x1080 with 9 Axes>"
      ]
     },
     "metadata": {
      "needs_background": "light"
     },
     "output_type": "display_data"
    }
   ],
   "source": [
    "##### optimization history plot #####\n",
    "optuna_history(best_paramC, all_scoreC, num_row = 3, num_col = 3, model = 'SVC')\n",
    "            \n",
    "##### best hyperparameter table #####\n",
    "param_table = pd.DataFrame(best_paramC).T\n",
    "param_table"
   ]
  },
  {
   "cell_type": "markdown",
   "metadata": {},
   "source": [
    "## "
   ]
  },
  {
   "cell_type": "markdown",
   "metadata": {},
   "source": [
    "### Classifier"
   ]
  },
  {
   "cell_type": "code",
   "execution_count": 15,
   "metadata": {
    "ExecuteTime": {
     "end_time": "2022-03-04T08:46:19.849159Z",
     "start_time": "2022-03-04T08:18:42.102542Z"
    }
   },
   "outputs": [
    {
     "data": {
      "application/vnd.jupyter.widget-view+json": {
       "model_id": "36619d8601f8468695c852038472ead9",
       "version_major": 2,
       "version_minor": 0
      },
      "text/plain": [
       "0it [00:00, ?it/s]"
      ]
     },
     "metadata": {},
     "output_type": "display_data"
    },
    {
     "name": "stdout",
     "output_type": "stream",
     "text": [
      "\n",
      " Dataset1:\n",
      "Precision: 0.0010553294135383687 \n",
      "Recall: 0.4117647058823529 \n",
      "Aging Rate: 0.4090320458796686\n",
      "\n",
      " Dataset2:\n",
      "Precision: 0.0008746993221080254 \n",
      "Recall: 0.5490196078431373 \n",
      "Aging Rate: 0.6579991366729018\n",
      "\n",
      " Dataset3:\n",
      "Precision: 0.0010689851767388826 \n",
      "Recall: 0.5882352941176471 \n",
      "Aging Rate: 0.5768669448498428\n",
      "\n",
      " Dataset4:\n",
      "Precision: 0.0010892548215544306 \n",
      "Recall: 0.3333333333333333 \n",
      "Aging Rate: 0.3208082386071656\n",
      "\n",
      " Dataset5:\n",
      "Precision: 0.0010223130944972886 \n",
      "Recall: 0.45098039215686275 \n",
      "Aging Rate: 0.4624555489321466\n",
      "\n",
      " Dataset6:\n",
      "Precision: 0.001054504712317933 \n",
      "Recall: 0.6274509803921569 \n",
      "Aging Rate: 0.6237743838516722\n",
      "\n",
      " Dataset7:\n",
      "Precision: 0.0010342932867901354 \n",
      "Recall: 0.6274509803921569 \n",
      "Aging Rate: 0.6359637402618759\n",
      "\n",
      " Dataset8:\n",
      "Precision: 0.0009448361072752381 \n",
      "Recall: 0.2549019607843137 \n",
      "Aging Rate: 0.28282184628666573\n",
      "\n",
      " Dataset9:\n",
      "Precision: 0.0010402038799604723 \n",
      "Recall: 0.39215686274509803 \n",
      "Aging Rate: 0.39521881230857775\n"
     ]
    },
    {
     "data": {
      "image/png": "[encoded data removed]",
      "text/plain": [
       "<Figure size 1080x576 with 2 Axes>"
      ]
     },
     "metadata": {
      "needs_background": "light"
     },
     "output_type": "display_data"
    }
   ],
   "source": [
    "table_setC = runall_SVMC(run_train_x, run_test_x, run_train_y, run_test_y, best_paramC)\n",
    "line_chart(table_setC, title = 'SVM Classifier')"
   ]
  },
  {
   "cell_type": "code",
   "execution_count": 16,
   "metadata": {
    "ExecuteTime": {
     "end_time": "2022-03-04T08:46:21.070717Z",
     "start_time": "2022-03-04T08:46:21.055096Z"
    }
   },
   "outputs": [
    {
     "data": {
      "text/html": [
       "<div>\n",
       "<style scoped>\n",
       "    .dataframe tbody tr th:only-of-type {\n",
       "        vertical-align: middle;\n",
       "    }\n",
       "\n",
       "    .dataframe tbody tr th {\n",
       "        vertical-align: top;\n",
       "    }\n",
       "\n",
       "    .dataframe thead th {\n",
       "        text-align: right;\n",
       "    }\n",
       "</style>\n",
       "<table border=\"1\" class=\"dataframe\">\n",
       "  <thead>\n",
       "    <tr style=\"text-align: right;\">\n",
       "      <th></th>\n",
       "      <th>Balance Ratio</th>\n",
       "      <th>Train_OK</th>\n",
       "      <th>Train_NG</th>\n",
       "      <th>TP</th>\n",
       "      <th>FP</th>\n",
       "      <th>FN</th>\n",
       "      <th>TN</th>\n",
       "      <th>Precision</th>\n",
       "      <th>Recall</th>\n",
       "      <th>Aging Rate</th>\n",
       "      <th>Efficiency</th>\n",
       "      <th>F1 Score</th>\n",
       "      <th>Score</th>\n",
       "    </tr>\n",
       "  </thead>\n",
       "  <tbody>\n",
       "    <tr>\n",
       "      <th>dataset1</th>\n",
       "      <td>1.000000</td>\n",
       "      <td>3067.0</td>\n",
       "      <td>3067.0</td>\n",
       "      <td>21.0</td>\n",
       "      <td>19878.0</td>\n",
       "      <td>30.0</td>\n",
       "      <td>28720.0</td>\n",
       "      <td>0.001055</td>\n",
       "      <td>0.411765</td>\n",
       "      <td>0.409032</td>\n",
       "      <td>1.006681</td>\n",
       "      <td>0.001053</td>\n",
       "      <td>0.286787</td>\n",
       "    </tr>\n",
       "    <tr>\n",
       "      <th>dataset2</th>\n",
       "      <td>1.000000</td>\n",
       "      <td>2999.0</td>\n",
       "      <td>2999.0</td>\n",
       "      <td>28.0</td>\n",
       "      <td>31983.0</td>\n",
       "      <td>23.0</td>\n",
       "      <td>16615.0</td>\n",
       "      <td>0.000875</td>\n",
       "      <td>0.549020</td>\n",
       "      <td>0.657999</td>\n",
       "      <td>0.834377</td>\n",
       "      <td>0.000873</td>\n",
       "      <td>0.000000</td>\n",
       "    </tr>\n",
       "    <tr>\n",
       "      <th>dataset3</th>\n",
       "      <td>1.000000</td>\n",
       "      <td>3033.0</td>\n",
       "      <td>3033.0</td>\n",
       "      <td>30.0</td>\n",
       "      <td>28034.0</td>\n",
       "      <td>21.0</td>\n",
       "      <td>20564.0</td>\n",
       "      <td>0.001069</td>\n",
       "      <td>0.588235</td>\n",
       "      <td>0.576867</td>\n",
       "      <td>1.019707</td>\n",
       "      <td>0.001067</td>\n",
       "      <td>0.413501</td>\n",
       "    </tr>\n",
       "    <tr>\n",
       "      <th>dataset4</th>\n",
       "      <td>1.000000</td>\n",
       "      <td>3038.0</td>\n",
       "      <td>3038.0</td>\n",
       "      <td>17.0</td>\n",
       "      <td>15590.0</td>\n",
       "      <td>34.0</td>\n",
       "      <td>33008.0</td>\n",
       "      <td>0.001089</td>\n",
       "      <td>0.333333</td>\n",
       "      <td>0.320808</td>\n",
       "      <td>1.039042</td>\n",
       "      <td>0.001086</td>\n",
       "      <td>0.237493</td>\n",
       "    </tr>\n",
       "    <tr>\n",
       "      <th>dataset5</th>\n",
       "      <td>1.006623</td>\n",
       "      <td>3040.0</td>\n",
       "      <td>3020.0</td>\n",
       "      <td>23.0</td>\n",
       "      <td>22475.0</td>\n",
       "      <td>28.0</td>\n",
       "      <td>26123.0</td>\n",
       "      <td>0.001022</td>\n",
       "      <td>0.450980</td>\n",
       "      <td>0.462456</td>\n",
       "      <td>0.975186</td>\n",
       "      <td>0.001020</td>\n",
       "      <td>0.000000</td>\n",
       "    </tr>\n",
       "    <tr>\n",
       "      <th>dataset6</th>\n",
       "      <td>1.014348</td>\n",
       "      <td>3040.0</td>\n",
       "      <td>2997.0</td>\n",
       "      <td>32.0</td>\n",
       "      <td>30314.0</td>\n",
       "      <td>19.0</td>\n",
       "      <td>18284.0</td>\n",
       "      <td>0.001055</td>\n",
       "      <td>0.627451</td>\n",
       "      <td>0.623774</td>\n",
       "      <td>1.005894</td>\n",
       "      <td>0.001053</td>\n",
       "      <td>0.436762</td>\n",
       "    </tr>\n",
       "    <tr>\n",
       "      <th>dataset7</th>\n",
       "      <td>1.099458</td>\n",
       "      <td>3040.0</td>\n",
       "      <td>2765.0</td>\n",
       "      <td>32.0</td>\n",
       "      <td>30907.0</td>\n",
       "      <td>19.0</td>\n",
       "      <td>17691.0</td>\n",
       "      <td>0.001034</td>\n",
       "      <td>0.627451</td>\n",
       "      <td>0.635964</td>\n",
       "      <td>0.986614</td>\n",
       "      <td>0.001033</td>\n",
       "      <td>0.000000</td>\n",
       "    </tr>\n",
       "    <tr>\n",
       "      <th>dataset8</th>\n",
       "      <td>1.000000</td>\n",
       "      <td>3040.0</td>\n",
       "      <td>3040.0</td>\n",
       "      <td>13.0</td>\n",
       "      <td>13746.0</td>\n",
       "      <td>38.0</td>\n",
       "      <td>34852.0</td>\n",
       "      <td>0.000945</td>\n",
       "      <td>0.254902</td>\n",
       "      <td>0.282822</td>\n",
       "      <td>0.901281</td>\n",
       "      <td>0.000941</td>\n",
       "      <td>0.000000</td>\n",
       "    </tr>\n",
       "    <tr>\n",
       "      <th>dataset9</th>\n",
       "      <td>10.000000</td>\n",
       "      <td>3040.0</td>\n",
       "      <td>304.0</td>\n",
       "      <td>20.0</td>\n",
       "      <td>19207.0</td>\n",
       "      <td>31.0</td>\n",
       "      <td>29391.0</td>\n",
       "      <td>0.001040</td>\n",
       "      <td>0.392157</td>\n",
       "      <td>0.395219</td>\n",
       "      <td>0.992253</td>\n",
       "      <td>0.001037</td>\n",
       "      <td>0.000000</td>\n",
       "    </tr>\n",
       "  </tbody>\n",
       "</table>\n",
       "</div>"
      ],
      "text/plain": [
       "          Balance Ratio  Train_OK  Train_NG    TP       FP    FN       TN  \\\n",
       "dataset1       1.000000    3067.0    3067.0  21.0  19878.0  30.0  28720.0   \n",
       "dataset2       1.000000    2999.0    2999.0  28.0  31983.0  23.0  16615.0   \n",
       "dataset3       1.000000    3033.0    3033.0  30.0  28034.0  21.0  20564.0   \n",
       "dataset4       1.000000    3038.0    3038.0  17.0  15590.0  34.0  33008.0   \n",
       "dataset5       1.006623    3040.0    3020.0  23.0  22475.0  28.0  26123.0   \n",
       "dataset6       1.014348    3040.0    2997.0  32.0  30314.0  19.0  18284.0   \n",
       "dataset7       1.099458    3040.0    2765.0  32.0  30907.0  19.0  17691.0   \n",
       "dataset8       1.000000    3040.0    3040.0  13.0  13746.0  38.0  34852.0   \n",
       "dataset9      10.000000    3040.0     304.0  20.0  19207.0  31.0  29391.0   \n",
       "\n",
       "          Precision    Recall  Aging Rate  Efficiency  F1 Score     Score  \n",
       "dataset1   0.001055  0.411765    0.409032    1.006681  0.001053  0.286787  \n",
       "dataset2   0.000875  0.549020    0.657999    0.834377  0.000873  0.000000  \n",
       "dataset3   0.001069  0.588235    0.576867    1.019707  0.001067  0.413501  \n",
       "dataset4   0.001089  0.333333    0.320808    1.039042  0.001086  0.237493  \n",
       "dataset5   0.001022  0.450980    0.462456    0.975186  0.001020  0.000000  \n",
       "dataset6   0.001055  0.627451    0.623774    1.005894  0.001053  0.436762  \n",
       "dataset7   0.001034  0.627451    0.635964    0.986614  0.001033  0.000000  \n",
       "dataset8   0.000945  0.254902    0.282822    0.901281  0.000941  0.000000  \n",
       "dataset9   0.001040  0.392157    0.395219    0.992253  0.001037  0.000000  "
      ]
     },
     "execution_count": 16,
     "metadata": {},
     "output_type": "execute_result"
    }
   ],
   "source": [
    "table_setC"
   ]
  },
  {
   "cell_type": "markdown",
   "metadata": {
    "heading_collapsed": true
   },
   "source": [
    "### Regressor (optional)"
   ]
  },
  {
   "cell_type": "code",
   "execution_count": null,
   "metadata": {
    "ExecuteTime": {
     "start_time": "2021-11-01T08:00:37.396Z"
    },
    "hidden": true,
    "scrolled": true
   },
   "outputs": [],
   "source": [
    "best_paramR, all_scoreR = all_optuna(num_set = 10, \n",
    "                                     all_data = run_train, \n",
    "                                     mode = 'R', \n",
    "                                     TPE_multi = False, \n",
    "                                     n_iter = 4,\n",
    "                                     filename = 'runhist_array_m2m5_4selection_SVM', \n",
    "                                     creator = SVR_creator\n",
    "                                    )"
   ]
  },
  {
   "cell_type": "code",
   "execution_count": null,
   "metadata": {
    "ExecuteTime": {
     "start_time": "2021-11-01T08:00:41.380Z"
    },
    "hidden": true
   },
   "outputs": [],
   "source": [
    "pr_dict, table_setR = runall_SVMR(10, run_train_x, run_test_x, run_train_y, run_test_y, best_paramR, \n",
    "                                         thres_target = 'Recall', threshold = 0.7)\n",
    "line_chart(table_setR, title = 'SVM Regressor')"
   ]
  },
  {
   "cell_type": "code",
   "execution_count": null,
   "metadata": {
    "ExecuteTime": {
     "start_time": "2021-11-01T08:00:42.163Z"
    },
    "hidden": true
   },
   "outputs": [],
   "source": [
    "multiple_curve(3, 3, pr_dict, table_setR, target = 'Aging Rate')\n",
    "multiple_curve(3, 3, pr_dict, table_setR, target = 'Precision')\n",
    "table_setR"
   ]
  },
  {
   "cell_type": "markdown",
   "metadata": {},
   "source": [
    "### Export"
   ]
  },
  {
   "cell_type": "code",
   "execution_count": 17,
   "metadata": {
    "ExecuteTime": {
     "end_time": "2022-03-04T08:46:22.700585Z",
     "start_time": "2022-03-04T08:46:22.257939Z"
    }
   },
   "outputs": [],
   "source": [
    "savedate = '20220308'\n",
    "TPE_multi = False\n",
    "\n",
    "table_setC['sampler'] = 'multivariate-TPE' if TPE_multi else 'univariate-TPE'\n",
    "table_setC['model'] = 'SVM_linear'\n",
    "with pd.ExcelWriter(f'{savedate}_Classifier.xlsx', mode = 'a') as writer:\n",
    "    table_setC.to_excel(writer, sheet_name = 'SVM_linear')"
   ]
  }
 ],
 "metadata": {
  "hide_input": false,
  "kernelspec": {
   "display_name": "Python [conda env:aging]",
   "language": "python",
   "name": "conda-env-aging-py"
  },
  "language_info": {
   "codemirror_mode": {
    "name": "ipython",
    "version": 3
   },
   "file_extension": ".py",
   "mimetype": "text/x-python",
   "name": "python",
   "nbconvert_exporter": "python",
   "pygments_lexer": "ipython3",
   "version": "3.7.10"
  },
  "toc": {
   "base_numbering": 1,
   "nav_menu": {},
   "number_sections": true,
   "sideBar": true,
   "skip_h1_title": false,
   "title_cell": "Table of Contents",
   "title_sidebar": "Contents",
   "toc_cell": false,
   "toc_position": {},
   "toc_section_display": true,
   "toc_window_display": false
  },
  "varInspector": {
   "cols": {
    "lenName": 16,
    "lenType": 16,
    "lenVar": 40
   },
   "kernels_config": {
    "python": {
     "delete_cmd_postfix": "",
     "delete_cmd_prefix": "del ",
     "library": "var_list.py",
     "varRefreshCmd": "print(var_dic_list())"
    },
    "r": {
     "delete_cmd_postfix": ") ",
     "delete_cmd_prefix": "rm(",
     "library": "var_list.r",
     "varRefreshCmd": "cat(var_dic_list()) "
    }
   },
   "types_to_exclude": [
    "module",
    "function",
    "builtin_function_or_method",
    "instance",
    "_Feature"
   ],
   "window_display": false
  }
 },
 "nbformat": 4,
 "nbformat_minor": 2
}
