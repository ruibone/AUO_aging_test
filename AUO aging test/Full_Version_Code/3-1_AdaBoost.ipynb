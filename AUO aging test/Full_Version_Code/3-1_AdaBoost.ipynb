{
 "cells": [
  {
   "cell_type": "code",
   "execution_count": 1,
   "metadata": {
    "ExecuteTime": {
     "end_time": "2021-11-25T15:37:34.159022Z",
     "start_time": "2021-11-25T15:37:32.811345Z"
    }
   },
   "outputs": [
    {
     "data": {
      "text/plain": [
       "'C:\\\\Users\\\\user\\\\Desktop\\\\Darui_R08621110'"
      ]
     },
     "execution_count": 1,
     "metadata": {},
     "output_type": "execute_result"
    }
   ],
   "source": [
    "import os\n",
    "import numpy as np\n",
    "import pandas as pd\n",
    "import matplotlib.pyplot as plt\n",
    "from tqdm.auto import tqdm\n",
    "import pickle\n",
    "import plotly\n",
    "\n",
    "from sklearn.ensemble import AdaBoostClassifier, AdaBoostRegressor\n",
    "from sklearn.tree import DecisionTreeClassifier, DecisionTreeRegressor\n",
    "import optuna\n",
    "from sklearn.model_selection import train_test_split\n",
    "\n",
    "from library.Data_Preprocessing import Balance_Ratio\n",
    "from library.Imbalance_Sampling import label_divide\n",
    "from library.Aging_Score_Contour import score1\n",
    "\n",
    "os.chdir('C:/Users/user/Desktop/Darui_R08621110')  \n",
    "os.getcwd()"
   ]
  },
  {
   "cell_type": "markdown",
   "metadata": {},
   "source": [
    "## "
   ]
  },
  {
   "cell_type": "markdown",
   "metadata": {},
   "source": [
    "### load multiple dataset"
   ]
  },
  {
   "cell_type": "code",
   "execution_count": 3,
   "metadata": {
    "ExecuteTime": {
     "end_time": "2021-11-25T15:37:52.971529Z",
     "start_time": "2021-11-25T15:37:52.957569Z"
    }
   },
   "outputs": [],
   "source": [
    "def multiple_month(month_list, num_set, filename = 'dataset'):\n",
    "    \n",
    "    month_dict = {}\n",
    "    trainset_x = {}\n",
    "    trainset_y = {}\n",
    "    for i in month_list:\n",
    "        print(f'\\nMonth {i}:\\n')\n",
    "        month_dict[f'm{i}'] = multiple_set(num_set = num_set, filename = f'm{i}_{filename}')\n",
    "        trainset_x[f'm{i}'], trainset_y[f'm{i}'] = train_set(month_dict[f'm{i}'], num_set = num_set)\n",
    "        \n",
    "    return month_dict, trainset_x, trainset_y\n",
    "\n",
    "\n",
    "def multiple_set(num_set, filename = 'dataset'):\n",
    "    \n",
    "    data_dict = {}\n",
    "    for i in range(num_set):\n",
    "        data_dict[f'set{i}'] = pd.read_csv(f'{filename}_{i}.csv').iloc[:, 1:]\n",
    "        print('Dimension of dataset', i, ':', data_dict[f'set{i}'].shape, ' balance ratio:', \\\n",
    "              Balance_Ratio(data_dict[f'set{i}']))\n",
    "    \n",
    "    print('\\n', num_set, 'datasets are loaded.')\n",
    "    return data_dict\n",
    "\n",
    "\n",
    "def train_set(data_dict, num_set, label = 'GB'):\n",
    "    \n",
    "    trainset_x = {}\n",
    "    trainset_y = {}\n",
    "    \n",
    "    for i in range(num_set):\n",
    "        X, Y = label_divide(data_dict[f'set{i}'], None, label, train_only = True)\n",
    "        trainset_x[f'set{i}'] = X\n",
    "        trainset_y[f'set{i}'] = Y  \n",
    "    print('\\nLabels of ', num_set, 'datasets are divided.')\n",
    "    \n",
    "    return trainset_x, trainset_y"
   ]
  },
  {
   "cell_type": "markdown",
   "metadata": {},
   "source": [
    "### for classifier"
   ]
  },
  {
   "cell_type": "code",
   "execution_count": 4,
   "metadata": {
    "ExecuteTime": {
     "end_time": "2021-11-25T15:37:56.268588Z",
     "start_time": "2021-11-25T15:37:56.249848Z"
    }
   },
   "outputs": [],
   "source": [
    "def cf_matrix(predict, train_y):\n",
    "    \n",
    "    # confusion matrix\n",
    "    mask_FP = predict['predict'] > predict['truth']\n",
    "    mask_FN = predict['predict'] < predict['truth']\n",
    "    mask_TP = (predict['predict'] == predict['truth']) & (predict['predict'] == 1)\n",
    "    mask_TN = (predict['predict'] == predict['truth']) & (predict['predict'] == 0)\n",
    "    TP = mask_TP.sum()\n",
    "    FP = mask_FP.sum()\n",
    "    FN = mask_FN.sum()\n",
    "    TN = mask_TN.sum()\n",
    "    \n",
    "    #balance ratio, train OK & NG\n",
    "    train_OK = sum(train_y < 0.5)\n",
    "    train_NG = len(train_y) - train_OK\n",
    "    br = train_OK / train_NG\n",
    "    \n",
    "    #precision, recall, aging rate, efficiency, score\n",
    "    num_pd = TP + FP\n",
    "    if num_pd != 0:\n",
    "        precision = TP / num_pd\n",
    "    else:\n",
    "        precision = 0\n",
    "    \n",
    "    recall = TP / (TP + FN)\n",
    "    ar = (TP + FP) / (TP + FP + FN + TN)\n",
    "    if ar != 0:\n",
    "        eff = recall / ar\n",
    "    elif ar == 0:\n",
    "        eff = 0\n",
    "    score = score1(recall, ar)\n",
    "    \n",
    "    table = pd.Series({'Balance Ratio': br, 'Train_OK': train_OK, 'Train_NG': train_NG, 'TP': TP, 'FP': FP, 'FN': FN, \\\n",
    "                       'TN': TN, 'Precision': precision, 'Recall': recall, 'Aging Rate': ar, 'Efficiency': eff, \\\n",
    "                       'Score': score})\n",
    "    table = pd.DataFrame(table).T\n",
    "    \n",
    "    print('Precision:', precision, '\\nRecall:', recall, '\\nAging Rate:', ar)\n",
    "    return  table"
   ]
  },
  {
   "cell_type": "markdown",
   "metadata": {},
   "source": [
    "### for regressor"
   ]
  },
  {
   "cell_type": "code",
   "execution_count": 5,
   "metadata": {
    "ExecuteTime": {
     "end_time": "2021-11-25T15:37:59.018326Z",
     "start_time": "2021-11-25T15:37:59.008366Z"
    }
   },
   "outputs": [],
   "source": [
    "def PR_matrix(predict, train_y):\n",
    "    \n",
    "    Y_new = predict.sort_values(['predict', 'truth'], ascending = [False, True]).reset_index(drop = True)\n",
    "    Y_new.loc[Y_new['truth'] != 1, 'truth'] = 0\n",
    "    \n",
    "    matrix = pd.DataFrame(Y_new.groupby('predict').sum()).rename(columns = {'truth': 'Bad_Count'})\n",
    "    matrix = matrix.sort_index(ascending = False)\n",
    "    matrix['All_Count'] = Y_new.groupby('predict').count()\n",
    "    matrix['Class_Prob'] = matrix.index\n",
    "    \n",
    "    matrix['train_OK'] = sum(train_y < 0.5)\n",
    "    matrix['train_NG'] = len(train_y) - matrix['train_OK'].values[0]\n",
    "    matrix['Balance Ratio'] = matrix['train_OK'] / matrix['train_NG']\n",
    "    \n",
    "    matrix['TP'] = matrix['Bad_Count'].cumsum()\n",
    "    matrix['FP'] = matrix['All_Count'].cumsum() - matrix['TP']\n",
    "    matrix['FN'] = matrix['TP'].values[-1] - matrix['TP']\n",
    "    matrix['TN'] = matrix['FP'].values[-1] - matrix['FP']\n",
    "    \n",
    "    matrix['Precision'] = matrix['TP'] / (matrix['TP'] + matrix['FP'])\n",
    "    matrix['Recall'] = matrix['TP'] / (matrix['TP'] + matrix['FN'])\n",
    "    matrix['Aging Rate'] = (matrix['TP'] + matrix['FP']) / (matrix['TP'] + matrix['FP'] + matrix['FN'] + matrix['TN'])\n",
    "    matrix['Efficiency'] = matrix['Recall'] / matrix['Aging Rate']\n",
    "    matrix['Score'] = score1(matrix['Recall'], matrix['Aging Rate'])\n",
    "              \n",
    "    matrix = matrix.drop(columns = ['Bad_Count', 'All_Count']).reset_index(drop = True)\n",
    "    \n",
    "    return matrix\n",
    "\n",
    "\n",
    "def best_threshold(pr_matrix, target, threshold = False):\n",
    "    \n",
    "    # input threshold, or find maximum\n",
    "    if threshold:\n",
    "        index = pr_matrix[pr_matrix[target] >= threshold].head(1).index.values[0]\n",
    "    else:\n",
    "        index = pr_matrix[target].idxmax()\n",
    "        \n",
    "    best_data = pr_matrix.loc[index]\n",
    "    best_thres = best_data['Class_Prob']\n",
    "    best_data = pd.DataFrame(best_data).T\n",
    "    print('Best Threshold:', best_thres, '\\n')\n",
    "    print('Recall:', best_data['Recall'].values, ',   Precision:', best_data['Precision'].values, \\\n",
    "          ',   Aging Rate:', best_data['Aging Rate'].values)\n",
    "\n",
    "    return best_data, best_thres"
   ]
  },
  {
   "cell_type": "markdown",
   "metadata": {},
   "source": [
    "### plot"
   ]
  },
  {
   "cell_type": "code",
   "execution_count": 6,
   "metadata": {
    "ExecuteTime": {
     "end_time": "2021-11-25T15:38:01.975108Z",
     "start_time": "2021-11-25T15:38:01.954431Z"
    }
   },
   "outputs": [],
   "source": [
    "def line_chart(table_set, title):\n",
    "    \n",
    "    plt.style.use('seaborn-dark-palette')\n",
    "    \n",
    "    x = list(range(len(table_set)))\n",
    "    fig, ax1 = plt.subplots(figsize = (15,8))\n",
    "    ax2 = ax1.twinx()\n",
    "    \n",
    "    plt.title(title, fontsize = 16)\n",
    "    plt.xticks(range(1,13,1))\n",
    "    ax1.plot(x, table_set['Aging Rate'], 'b--', linewidth = 1, label = 'Aging Rate')\n",
    "    ax1.plot(x, table_set['Aging Rate'], 'b.', markersize = 15)\n",
    "    ax1.plot(x, table_set['Recall'], 'r-', linewidth = 1, label = 'Recall')\n",
    "    ax1.plot(x, table_set['Recall'], 'r.', markersize = 15)\n",
    "    ax2.plot(x, table_set['Precision'], 'g--', linewidth = 1, label = 'Precision')\n",
    "    ax2.plot(x, table_set['Precision'], 'g.', markersize = 15)\n",
    "    ax1.set_xlabel('\\nDataset', fontsize = 12)\n",
    "    ax1.set_ylabel('Recall & Aging Rate', color = 'b')\n",
    "    ax2.set_ylabel('Precision', color = 'g')\n",
    "    \n",
    "    ax1.legend(loc = 'upper left', frameon = False)\n",
    "    ax2.legend(loc = 'upper right', frameon = False)\n",
    "    \n",
    "    plt.show()\n",
    "    \n",
    "    \n",
    "def AUC(x, y):\n",
    "    \n",
    "    area = 0\n",
    "    left = x[0]*y[0]\n",
    "    right = (1 - x[len(x)-1])*y[len(x)-1]\n",
    "    \n",
    "    for i in range(1, len(x)):\n",
    "        wide = x[i] - x[i-1]\n",
    "        height = (y[i-1] + y[i])/2\n",
    "        area = area + wide*height\n",
    "        \n",
    "    area = left + area + right\n",
    "    \n",
    "    return area\n",
    "\n",
    "\n",
    "def PR_curve(pr_matrix, best_data, title = 'PR_curve'):\n",
    "    \n",
    "    plt.plot(pr_matrix['Recall'], pr_matrix['Precision'], 'b-')\n",
    "    plt.plot(pr_matrix['Recall'], pr_matrix['Precision'], 'r.')\n",
    "    plt.plot(best_data['Recall'], best_data['Precision'], 'go', markersize = 10)\n",
    "    print('Precision, Recall, Aging Rate:', best_data['Precision'].values, best_data['Recall'].values, \n",
    "          best_data['Aging Rate'].values)\n",
    "    plt.xlabel('Recall')\n",
    "    plt.ylabel('Precision')\n",
    "    plt.title(f'{title}')\n",
    "    plt.show()\n",
    "    auc = AUC(pr_matrix['Recall'].values, pr_matrix['Precision'].values)\n",
    "    print('AUC: ', auc, '\\n')\n",
    "    \n",
    "    \n",
    "def multiple_curve(row_num, col_num, pr_dict, table_set, target = 'Aging Rate'):\n",
    "    \n",
    "    fig, axs = plt.subplots(row_num, col_num, sharex = False, sharey = False, figsize = (row_num*8 + 1, col_num*6))\n",
    "    plt.suptitle(f'{target} & Recall Curve of Dataset 0 - {len(table_set)}', y = 0.94, fontsize = 30)\n",
    "    \n",
    "    for row in range(row_num):\n",
    "        for col in range(col_num):\n",
    "            \n",
    "            index = col_num*row + col\n",
    "            if index < len(table_set) :\n",
    "                auc = AUC(pr_dict[f'set{index}']['Recall'].values, pr_dict[f'set{index}'][target].values).round(5)\n",
    "                ar = table_set[\"Aging Rate\"][index].round(3)\n",
    "                recall = table_set[\"Recall\"][index].round(3)\n",
    "                precision = table_set[\"Precision\"][index].round(5)\n",
    "\n",
    "                axs[row, col].plot(pr_dict[f'set{index}']['Recall'], pr_dict[f'set{index}'][target], 'b-')\n",
    "                axs[row, col].plot(pr_dict[f'set{index}']['Recall'], pr_dict[f'set{index}'][target], 'r.', markersize = 10)\n",
    "                axs[row, col].plot(table_set['Recall'][index], table_set[target][index], 'go', markersize = 15)\n",
    "                axs[row, col].set_xlabel('Recall')\n",
    "                axs[row, col].set_ylabel(target)\n",
    "\n",
    "                if target == 'Aging Rate':\n",
    "                    axs[row, col].set_title(f'dataset {index}, AUC = {auc}, Aging Rate = {ar}, Recall = {recall}, Precision = {precision}')\n",
    "                elif target == 'Precision':\n",
    "                    axs[row, col].set_title(f'dataset {index}, AUC = {auc}, Aging Rate = {ar}, Recall = {recall}')"
   ]
  },
  {
   "cell_type": "markdown",
   "metadata": {},
   "source": [
    "### adaboost "
   ]
  },
  {
   "cell_type": "code",
   "execution_count": 7,
   "metadata": {
    "ExecuteTime": {
     "end_time": "2021-11-25T15:38:05.954661Z",
     "start_time": "2021-11-25T15:38:05.946673Z"
    }
   },
   "outputs": [],
   "source": [
    "def AdaBoostC(train_x, test_x, train_y, test_y, config):\n",
    "    \n",
    "    clf = AdaBoostClassifier(**config)\n",
    "    clf.fit(train_x, train_y)\n",
    "    predict_y = clf.predict(test_x)\n",
    "    result = pd.DataFrame({'truth': test_y, 'predict': predict_y})\n",
    "    \n",
    "    return result\n",
    "\n",
    "\n",
    "def AdaBoostR(train_x, test_x, train_y, test_y, config) :\n",
    "    \n",
    "    reg = AdaBoostRegressor(**config)\n",
    "    reg.fit(train_x, train_y)\n",
    "    predict_y = reg.predict(test_x)\n",
    "    result = pd.DataFrame({'truth': test_y, 'predict': predict_y})\n",
    "    \n",
    "    return result\n",
    "\n",
    "\n",
    "def runall_AdaBoostC(num_set, trainset_x, test_x, trainset_y, test_y, config):\n",
    "    \n",
    "    table_set = pd.DataFrame()\n",
    "    bad_set = pd.DataFrame()\n",
    "    judge = list(config.keys())[0]\n",
    "\n",
    "    for i in tqdm(range(num_set)):\n",
    "        print('\\n', f'Dataset {i}:')\n",
    "        \n",
    "        if isinstance(config[judge], dict) :\n",
    "            best_config = config[f'set{i}']\n",
    "        else :\n",
    "            best_config = config\n",
    "            \n",
    "        # seperate the decision tree hyperparameter and adaboost hyperparameter\n",
    "        tree_param = {'base_estimator': DecisionTreeClassifier(max_depth = best_config['max_depth'])}\n",
    "        boost_param = dict((key, best_config[key]) for key in ['learning_rate', 'n_estimators'] if key in best_config)\n",
    "        boost_param.update(tree_param)\n",
    "\n",
    "        result = AdaBoostC(trainset_x[f'set{i}'], test_x, trainset_y[f'set{i}'], test_y, boost_param)\n",
    "        table = cf_matrix(result, trainset_y[f'set{i}'])\n",
    "        table_set = pd.concat([table_set, table]).rename(index = {0: f'dataset {i}'})\n",
    "    \n",
    "    return table_set\n",
    "\n",
    "\n",
    "def runall_AdaBoostR(num_set, trainset_x, test_x, trainset_y, test_y, config, thres_target = 'Recall', threshold = False):\n",
    "    \n",
    "    table_set = pd.DataFrame()\n",
    "    bad_set = pd.DataFrame()\n",
    "    pr_dict = {}\n",
    "    judge = list(config.keys())[0]\n",
    "\n",
    "    for i in range(num_set):\n",
    "        print('\\n', f'Dataset {i}:')\n",
    "        \n",
    "        if isinstance(config[judge], dict) :\n",
    "            best_config = config[f'set{i}']\n",
    "        else :\n",
    "            best_config = config\n",
    "            \n",
    "        # seperate the decision tree hyperparameter and adaboost hyperparameter\n",
    "        tree_param = {'base_estimator': DecisionTreeRegressor(max_depth = best_config['max_depth'])}\n",
    "        boost_param = dict((key, best_config[key]) for key in ['learning_rate', 'n_estimators'] if key in best_config)\n",
    "        boost_param.update(tree_param)\n",
    "\n",
    "        predict = AdaBoostR(trainset_x[f'set{i}'], test_x, trainset_y[f'set{i}'], test_y, boost_param)\n",
    "        pr_matrix = PR_matrix(predict, trainset_y[f'set{i}'])\n",
    "        pr_dict[f'set{i}'] = pr_matrix\n",
    "        \n",
    "        best_data, best_thres = best_threshold(pr_matrix, target = thres_target, threshold = threshold)\n",
    "        table_set = pd.concat([table_set, best_data]).rename(index = {best_data.index.values[0]: f'dataset {i}'})\n",
    "        \n",
    "    return pr_dict, table_set"
   ]
  },
  {
   "cell_type": "markdown",
   "metadata": {},
   "source": [
    "### optuna"
   ]
  },
  {
   "cell_type": "code",
   "execution_count": 8,
   "metadata": {
    "ExecuteTime": {
     "end_time": "2021-11-25T15:38:09.722021Z",
     "start_time": "2021-11-25T15:38:09.699045Z"
    }
   },
   "outputs": [],
   "source": [
    "def AdaBoost_creator(train_data, mode, num_valid = 3):\n",
    "    \n",
    "    def objective(trial) :\n",
    "\n",
    "        tree_param = {\n",
    "            'max_depth': trial.suggest_int('max_depth', 1, 3)\n",
    "        }\n",
    "        \n",
    "        param = {\n",
    "            'n_estimators': trial.suggest_int('n_estimators', 100, 300, step = 50),\n",
    "            'learning_rate': trial.suggest_float('learning_rate', 0.025, 0.825, step = 0.05),\n",
    "        }\n",
    "        if mode == 'C':\n",
    "            base = {'base_estimator': DecisionTreeClassifier(**tree_param)}\n",
    "        elif mode == 'R':\n",
    "            base = {'base_estimator': DecisionTreeRegressor(**tree_param)}\n",
    "        param.update(base)\n",
    "\n",
    "\n",
    "        result_list = []\n",
    "        for i in range(num_valid):\n",
    "\n",
    "            train_x, train_y = label_divide(train_data, None, 'GB', train_only = True)\n",
    "            train_x, valid_x, train_y, valid_y = train_test_split(train_x, train_y, test_size = 0.25)\n",
    "\n",
    "            if mode == 'C':\n",
    "                result = AdaBoostC(train_x, valid_x, train_y, valid_y, param)\n",
    "                table = cf_matrix(result, valid_y)\n",
    "                recall = table['Recall']\n",
    "                precision = table['Precision']\n",
    "                f1 = (recall*precision) / (recall+precision)\n",
    "                result_list.append(f1)\n",
    "                \n",
    "            elif mode == 'R':\n",
    "                result = AdaBoostR(train_x, valid_x, train_y, valid_y, param)\n",
    "                pr_matrix = PR_matrix(result, valid_y)\n",
    "                auc = AUC(pr_matrix['Recall'], pr_matrix['Aging Rate'])\n",
    "                result_list.append((-1)*auc)\n",
    "\n",
    "        return np.mean(result_list)\n",
    "    \n",
    "    return objective\n",
    "\n",
    "\n",
    "def all_optuna(num_set, all_data, mode, TPE_multi, n_iter, filename, creator, num_valid = 3, return_addition = True):\n",
    "\n",
    "    best_param = {}\n",
    "    all_score = {}\n",
    "    for i in tqdm(range(num_set)) :\n",
    "        \n",
    "        ##### define objective function and change optimized target dataset in each loop #####\n",
    "        objective = creator(train_data = all_data[f'set{i}'], mode = mode, num_valid = num_valid)\n",
    "        \n",
    "        ##### optimize one dataset in each loop #####\n",
    "        print(f'Dataset{i} :')\n",
    "        \n",
    "        study = optuna.create_study(sampler = optuna.samplers.TPESampler(multivariate = TPE_multi), \n",
    "                                       direction = 'maximize')\n",
    "        study.optimize(objective, n_trials = n_iter, show_progress_bar = True, gc_after_trial = True)\n",
    "        #n_trials or timeout\n",
    "        best_param[f'set{i}'] = study.best_trial.params\n",
    "        \n",
    "        ##### return score and entire params for score plot or feature importance\n",
    "        if return_addition :\n",
    "            collect_score = []\n",
    "            [collect_score.append(x.values) for x in study.trials]\n",
    "            all_score[f'set{i}'] = collect_score \n",
    "        \n",
    "        print(f\"Sampler is {study.sampler.__class__.__name__}\")\n",
    "    \n",
    "    ##### store the best hyperparameters #####\n",
    "    multi_mode = 'multivariate-TPE' if TPE_multi else 'univariate-TPE'\n",
    "    with open(f'{filename}{mode}_{multi_mode}_{n_iter}.data', 'wb') as f:\n",
    "        pickle.dump(best_param, f)\n",
    "    \n",
    "    if return_addition :\n",
    "        return best_param, all_score\n",
    "    else :\n",
    "        return best_param\n",
    "    \n",
    "\n",
    "def optuna_history(best_param, all_score, num_row, num_col, model):\n",
    "\n",
    "    fig, axs = plt.subplots(num_row, num_col, figsize = (num_row*10, num_col*5))\n",
    "    plt.suptitle(f'Optimization History of {model}', y = 0.94, fontsize = 25)    \n",
    "    for row in range(num_row):\n",
    "        for col in range(num_col):\n",
    "            index = num_col*row + col\n",
    "            \n",
    "            if index < len(best_param) :\n",
    "                axs[row, col].plot(range(len(all_score[f'set{index}'])), all_score[f'set{index}'], 'r-', linewidth = 1)\n",
    "                axs[row, col].set_title(f'Dataset {index}')\n",
    "                axs[row, col].set_xlabel('Iterations')\n",
    "                axs[row, col].set_ylabel('Values')"
   ]
  },
  {
   "cell_type": "markdown",
   "metadata": {},
   "source": [
    "## "
   ]
  },
  {
   "cell_type": "markdown",
   "metadata": {},
   "source": [
    "### loading training & testing data"
   ]
  },
  {
   "cell_type": "code",
   "execution_count": 9,
   "metadata": {
    "ExecuteTime": {
     "end_time": "2021-11-25T15:38:22.158857Z",
     "start_time": "2021-11-25T15:38:19.571913Z"
    },
    "scrolled": true
   },
   "outputs": [
    {
     "name": "stdout",
     "output_type": "stream",
     "text": [
      "\n",
      "Month 2:\n",
      "\n",
      "Dimension of dataset 0 : (39009, 90)  balance ratio: 442.0\n",
      "Dimension of dataset 1 : (1750, 90)  balance ratio: 1.0\n",
      "Dimension of dataset 2 : (2238, 90)  balance ratio: 1.0\n",
      "Dimension of dataset 3 : (1932, 90)  balance ratio: 1.0\n",
      "Dimension of dataset 4 : (1760, 90)  balance ratio: 1.0\n",
      "Dimension of dataset 5 : (1756, 90)  balance ratio: 1.0\n",
      "Dimension of dataset 6 : (1986, 90)  balance ratio: 1.0\n",
      "Dimension of dataset 7 : (1760, 90)  balance ratio: 1.0\n",
      "Dimension of dataset 8 : (1760, 90)  balance ratio: 1.0\n",
      "Dimension of dataset 9 : (968, 90)  balance ratio: 10.0\n",
      "\n",
      " 10 datasets are loaded.\n",
      "\n",
      "Labels of  10 datasets are divided.\n",
      "\n",
      "Month 3:\n",
      "\n",
      "Dimension of dataset 0 : (60396, 104)  balance ratio: 553.0\n",
      "Dimension of dataset 1 : (2218, 104)  balance ratio: 1.0\n",
      "Dimension of dataset 2 : (2712, 104)  balance ratio: 1.0\n",
      "Dimension of dataset 3 : (2394, 104)  balance ratio: 1.0\n",
      "Dimension of dataset 4 : (2180, 104)  balance ratio: 1.0\n",
      "Dimension of dataset 5 : (2183, 104)  balance ratio: 1.0\n",
      "Dimension of dataset 6 : (2458, 104)  balance ratio: 1.0\n",
      "Dimension of dataset 7 : (2180, 104)  balance ratio: 1.0\n",
      "Dimension of dataset 8 : (2180, 104)  balance ratio: 1.0\n",
      "Dimension of dataset 9 : (1199, 104)  balance ratio: 10.0\n",
      "\n",
      " 10 datasets are loaded.\n",
      "\n",
      "Labels of  10 datasets are divided.\n",
      "\n",
      "Month 4:\n",
      "\n",
      "Dimension of dataset 0 : (57743, 114)  balance ratio: 529.0\n",
      "Dimension of dataset 1 : (2160, 114)  balance ratio: 1.0\n",
      "Dimension of dataset 2 : (2418, 114)  balance ratio: 1.0\n",
      "Dimension of dataset 3 : (2392, 114)  balance ratio: 1.0\n",
      "Dimension of dataset 4 : (2178, 114)  balance ratio: 1.0\n",
      "Dimension of dataset 5 : (2195, 114)  balance ratio: 1.0\n",
      "Dimension of dataset 6 : (2293, 114)  balance ratio: 1.0\n",
      "Dimension of dataset 7 : (2180, 114)  balance ratio: 1.0\n",
      "Dimension of dataset 8 : (2180, 114)  balance ratio: 1.0\n",
      "Dimension of dataset 9 : (1199, 114)  balance ratio: 10.0\n",
      "\n",
      " 10 datasets are loaded.\n",
      "\n",
      "Labels of  10 datasets are divided.\n",
      "\n",
      "Combined training data:\n",
      "\n",
      "Dimension of dataset 0 : (157148, 130)  balance ratio: 513.0\n",
      "Dimension of dataset 1 : (6128, 130)  balance ratio: 1.0\n",
      "Dimension of dataset 2 : (7368, 130)  balance ratio: 1.0\n",
      "Dimension of dataset 3 : (6718, 130)  balance ratio: 1.0\n",
      "Dimension of dataset 4 : (6118, 130)  balance ratio: 1.0\n",
      "Dimension of dataset 5 : (6134, 130)  balance ratio: 1.0\n",
      "Dimension of dataset 6 : (6737, 130)  balance ratio: 1.0\n",
      "Dimension of dataset 7 : (6120, 130)  balance ratio: 1.0\n",
      "Dimension of dataset 8 : (6120, 130)  balance ratio: 1.0\n",
      "Dimension of dataset 9 : (3366, 130)  balance ratio: 10.0\n",
      "\n",
      " 10 datasets are loaded.\n",
      "\n",
      "Labels of  10 datasets are divided.\n",
      "\n",
      " Dimension of testing data: (48649, 131)\n"
     ]
    }
   ],
   "source": [
    "### training data ### \n",
    "training_month = range(2, 5)\n",
    "\n",
    "data_dict, trainset_x, trainset_y = multiple_month(training_month, num_set = 10, filename = 'dataset')\n",
    "\n",
    "print('\\nCombined training data:\\n')\n",
    "run_train = multiple_set(num_set = 10)\n",
    "run_train_x, run_train_y = train_set(run_train, num_set = 10)\n",
    "\n",
    "### testing data ###\n",
    "run_test = pd.read_csv('test_runhist.csv').iloc[:, 2:]\n",
    "run_test_x, run_test_y = label_divide(run_test, None, 'GB', train_only = True)\n",
    "print('\\n', 'Dimension of testing data:', run_test.shape)"
   ]
  },
  {
   "cell_type": "markdown",
   "metadata": {},
   "source": [
    "### search for best hyperparameter"
   ]
  },
  {
   "cell_type": "code",
   "execution_count": 10,
   "metadata": {
    "ExecuteTime": {
     "end_time": "2021-11-25T15:46:28.643760Z",
     "start_time": "2021-11-25T15:38:37.875405Z"
    }
   },
   "outputs": [
    {
     "data": {
      "application/vnd.jupyter.widget-view+json": {
       "model_id": "5f1bb8a83ed34dc1bc5517ed7ab0aabe",
       "version_major": 2,
       "version_minor": 0
      },
      "text/plain": [
       "  0%|          | 0/10 [00:00<?, ?it/s]"
      ]
     },
     "metadata": {},
     "output_type": "display_data"
    },
    {
     "name": "stderr",
     "output_type": "stream",
     "text": [
      "\u001b[32m[I 2021-11-25 23:38:37,892]\u001b[0m A new study created in memory with name: no-name-1f68d855-1612-42ae-aa01-fc5530109367\u001b[0m\n"
     ]
    },
    {
     "name": "stdout",
     "output_type": "stream",
     "text": [
      "Dataset0 :\n"
     ]
    },
    {
     "name": "stderr",
     "output_type": "stream",
     "text": [
      "C:\\Users\\user\\anaconda3\\envs\\aging\\lib\\site-packages\\optuna\\progress_bar.py:47: ExperimentalWarning: Progress bar is experimental (supported from v1.2.0). The interface can change in the future.\n",
      "  self._init_valid()\n"
     ]
    },
    {
     "data": {
      "application/vnd.jupyter.widget-view+json": {
       "model_id": "da89d7bd59634d5b80c5944007169f01",
       "version_major": 2,
       "version_minor": 0
      },
      "text/plain": [
       "  0%|          | 0/2 [00:00<?, ?it/s]"
      ]
     },
     "metadata": {},
     "output_type": "display_data"
    },
    {
     "name": "stderr",
     "output_type": "stream",
     "text": [
      "C:\\Users\\user\\anaconda3\\envs\\aging\\lib\\site-packages\\pandas\\core\\computation\\expressions.py:205: UserWarning: evaluating in Python space because the '*' operator is not supported by numexpr for the bool dtype, use '&' instead\n",
      "  f\"evaluating in Python space because the {repr(op_str)} \"\n",
      "C:\\Users\\user\\anaconda3\\envs\\aging\\lib\\site-packages\\pandas\\core\\computation\\expressions.py:205: UserWarning: evaluating in Python space because the '*' operator is not supported by numexpr for the bool dtype, use '&' instead\n",
      "  f\"evaluating in Python space because the {repr(op_str)} \"\n"
     ]
    },
    {
     "name": "stdout",
     "output_type": "stream",
     "text": [
      "Precision: 1.0 \n",
      "Recall: 0.41025641025641024 \n",
      "Aging Rate: 0.0008145187975666251\n"
     ]
    },
    {
     "name": "stderr",
     "output_type": "stream",
     "text": [
      "C:\\Users\\user\\anaconda3\\envs\\aging\\lib\\site-packages\\pandas\\core\\computation\\expressions.py:205: UserWarning: evaluating in Python space because the '*' operator is not supported by numexpr for the bool dtype, use '&' instead\n",
      "  f\"evaluating in Python space because the {repr(op_str)} \"\n",
      "C:\\Users\\user\\anaconda3\\envs\\aging\\lib\\site-packages\\pandas\\core\\computation\\expressions.py:205: UserWarning: evaluating in Python space because the '*' operator is not supported by numexpr for the bool dtype, use '&' instead\n",
      "  f\"evaluating in Python space because the {repr(op_str)} \"\n"
     ]
    },
    {
     "name": "stdout",
     "output_type": "stream",
     "text": [
      "Precision: 0.7666666666666667 \n",
      "Recall: 0.3709677419354839 \n",
      "Aging Rate: 0.000763611372718711\n"
     ]
    },
    {
     "name": "stderr",
     "output_type": "stream",
     "text": [
      "C:\\Users\\user\\anaconda3\\envs\\aging\\lib\\site-packages\\pandas\\core\\computation\\expressions.py:205: UserWarning: evaluating in Python space because the '*' operator is not supported by numexpr for the bool dtype, use '&' instead\n",
      "  f\"evaluating in Python space because the {repr(op_str)} \"\n",
      "C:\\Users\\user\\anaconda3\\envs\\aging\\lib\\site-packages\\pandas\\core\\computation\\expressions.py:205: UserWarning: evaluating in Python space because the '*' operator is not supported by numexpr for the bool dtype, use '&' instead\n",
      "  f\"evaluating in Python space because the {repr(op_str)} \"\n"
     ]
    },
    {
     "name": "stdout",
     "output_type": "stream",
     "text": [
      "Precision: 0.8333333333333334 \n",
      "Recall: 0.33783783783783783 \n",
      "Aging Rate: 0.000763611372718711\n",
      "\u001b[32m[I 2021-11-25 23:41:54,742]\u001b[0m Trial 0 finished with value: 0.3729426052918105 and parameters: {'max_depth': 3, 'n_estimators': 200, 'learning_rate': 0.32500000000000007}. Best is trial 0 with value: 0.3729426052918105.\u001b[0m\n"
     ]
    },
    {
     "name": "stderr",
     "output_type": "stream",
     "text": [
      "C:\\Users\\user\\anaconda3\\envs\\aging\\lib\\site-packages\\pandas\\core\\computation\\expressions.py:205: UserWarning: evaluating in Python space because the '*' operator is not supported by numexpr for the bool dtype, use '&' instead\n",
      "  f\"evaluating in Python space because the {repr(op_str)} \"\n",
      "C:\\Users\\user\\anaconda3\\envs\\aging\\lib\\site-packages\\pandas\\core\\computation\\expressions.py:205: UserWarning: evaluating in Python space because the '*' operator is not supported by numexpr for the bool dtype, use '&' instead\n",
      "  f\"evaluating in Python space because the {repr(op_str)} \"\n",
      "C:\\Users\\user\\anaconda3\\envs\\aging\\lib\\site-packages\\ipykernel_launcher.py:27: RuntimeWarning: invalid value encountered in double_scalars\n",
      "C:\\Users\\user\\Desktop\\Darui_R08621110\\Master_Thesis\\AUO aging test\\Full_Version_Code\\library\\Aging_Score_Contour.py:43: RuntimeWarning: invalid value encountered in double_scalars\n",
      "  eff = r/ag\n"
     ]
    },
    {
     "name": "stdout",
     "output_type": "stream",
     "text": [
      "Precision: 0 \n",
      "Recall: 0.0 \n",
      "Aging Rate: 0.0\n"
     ]
    },
    {
     "name": "stderr",
     "output_type": "stream",
     "text": [
      "C:\\Users\\user\\anaconda3\\envs\\aging\\lib\\site-packages\\pandas\\core\\computation\\expressions.py:205: UserWarning: evaluating in Python space because the '*' operator is not supported by numexpr for the bool dtype, use '&' instead\n",
      "  f\"evaluating in Python space because the {repr(op_str)} \"\n",
      "C:\\Users\\user\\anaconda3\\envs\\aging\\lib\\site-packages\\pandas\\core\\computation\\expressions.py:205: UserWarning: evaluating in Python space because the '*' operator is not supported by numexpr for the bool dtype, use '&' instead\n",
      "  f\"evaluating in Python space because the {repr(op_str)} \"\n"
     ]
    },
    {
     "name": "stdout",
     "output_type": "stream",
     "text": [
      "Precision: 0.0 \n",
      "Recall: 0.0 \n",
      "Aging Rate: 2.5453712423957035e-05\n"
     ]
    },
    {
     "name": "stderr",
     "output_type": "stream",
     "text": [
      "C:\\Users\\user\\anaconda3\\envs\\aging\\lib\\site-packages\\pandas\\core\\computation\\expressions.py:205: UserWarning: evaluating in Python space because the '*' operator is not supported by numexpr for the bool dtype, use '&' instead\n",
      "  f\"evaluating in Python space because the {repr(op_str)} \"\n",
      "C:\\Users\\user\\anaconda3\\envs\\aging\\lib\\site-packages\\pandas\\core\\computation\\expressions.py:205: UserWarning: evaluating in Python space because the '*' operator is not supported by numexpr for the bool dtype, use '&' instead\n",
      "  f\"evaluating in Python space because the {repr(op_str)} \"\n",
      "C:\\Users\\user\\anaconda3\\envs\\aging\\lib\\site-packages\\ipykernel_launcher.py:27: RuntimeWarning: invalid value encountered in double_scalars\n",
      "C:\\Users\\user\\Desktop\\Darui_R08621110\\Master_Thesis\\AUO aging test\\Full_Version_Code\\library\\Aging_Score_Contour.py:43: RuntimeWarning: invalid value encountered in double_scalars\n",
      "  eff = r/ag\n",
      "\u001b[32m[I 2021-11-25 23:44:16,197]\u001b[0m A new study created in memory with name: no-name-b0c8d454-28dd-47fb-9500-4e0301e6f707\u001b[0m\n"
     ]
    },
    {
     "name": "stdout",
     "output_type": "stream",
     "text": [
      "Precision: 0 \n",
      "Recall: 0.0 \n",
      "Aging Rate: 0.0\n",
      "\u001b[32m[I 2021-11-25 23:44:16,143]\u001b[0m Trial 1 finished with value: -8.484570807985679e-07 and parameters: {'max_depth': 1, 'n_estimators': 300, 'learning_rate': 0.675}. Best is trial 0 with value: 0.3729426052918105.\u001b[0m\n",
      "Sampler is TPESampler\n",
      "Dataset1 :\n"
     ]
    },
    {
     "name": "stderr",
     "output_type": "stream",
     "text": [
      "C:\\Users\\user\\anaconda3\\envs\\aging\\lib\\site-packages\\optuna\\progress_bar.py:47: ExperimentalWarning: Progress bar is experimental (supported from v1.2.0). The interface can change in the future.\n",
      "  self._init_valid()\n"
     ]
    },
    {
     "data": {
      "application/vnd.jupyter.widget-view+json": {
       "model_id": "44c88feb94a14277a459bed25ac22192",
       "version_major": 2,
       "version_minor": 0
      },
      "text/plain": [
       "  0%|          | 0/2 [00:00<?, ?it/s]"
      ]
     },
     "metadata": {},
     "output_type": "display_data"
    },
    {
     "name": "stderr",
     "output_type": "stream",
     "text": [
      "C:\\Users\\user\\anaconda3\\envs\\aging\\lib\\site-packages\\pandas\\core\\computation\\expressions.py:205: UserWarning: evaluating in Python space because the '*' operator is not supported by numexpr for the bool dtype, use '&' instead\n",
      "  f\"evaluating in Python space because the {repr(op_str)} \"\n",
      "C:\\Users\\user\\anaconda3\\envs\\aging\\lib\\site-packages\\pandas\\core\\computation\\expressions.py:205: UserWarning: evaluating in Python space because the '*' operator is not supported by numexpr for the bool dtype, use '&' instead\n",
      "  f\"evaluating in Python space because the {repr(op_str)} \"\n"
     ]
    },
    {
     "name": "stdout",
     "output_type": "stream",
     "text": [
      "Precision: 0.9133425034387895 \n",
      "Recall: 0.8877005347593583 \n",
      "Aging Rate: 0.4745430809399478\n"
     ]
    },
    {
     "name": "stderr",
     "output_type": "stream",
     "text": [
      "C:\\Users\\user\\anaconda3\\envs\\aging\\lib\\site-packages\\pandas\\core\\computation\\expressions.py:205: UserWarning: evaluating in Python space because the '*' operator is not supported by numexpr for the bool dtype, use '&' instead\n",
      "  f\"evaluating in Python space because the {repr(op_str)} \"\n",
      "C:\\Users\\user\\anaconda3\\envs\\aging\\lib\\site-packages\\pandas\\core\\computation\\expressions.py:205: UserWarning: evaluating in Python space because the '*' operator is not supported by numexpr for the bool dtype, use '&' instead\n",
      "  f\"evaluating in Python space because the {repr(op_str)} \"\n"
     ]
    },
    {
     "name": "stdout",
     "output_type": "stream",
     "text": [
      "Precision: 0.9293333333333333 \n",
      "Recall: 0.8958868894601543 \n",
      "Aging Rate: 0.489556135770235\n"
     ]
    },
    {
     "name": "stderr",
     "output_type": "stream",
     "text": [
      "C:\\Users\\user\\anaconda3\\envs\\aging\\lib\\site-packages\\pandas\\core\\computation\\expressions.py:205: UserWarning: evaluating in Python space because the '*' operator is not supported by numexpr for the bool dtype, use '&' instead\n",
      "  f\"evaluating in Python space because the {repr(op_str)} \"\n",
      "C:\\Users\\user\\anaconda3\\envs\\aging\\lib\\site-packages\\pandas\\core\\computation\\expressions.py:205: UserWarning: evaluating in Python space because the '*' operator is not supported by numexpr for the bool dtype, use '&' instead\n",
      "  f\"evaluating in Python space because the {repr(op_str)} \"\n"
     ]
    },
    {
     "name": "stdout",
     "output_type": "stream",
     "text": [
      "Precision: 0.9218967921896792 \n",
      "Recall: 0.8529032258064516 \n",
      "Aging Rate: 0.4680156657963446\n",
      "\u001b[32m[I 2021-11-25 23:44:22,846]\u001b[0m Trial 0 finished with value: 0.8310930539251039 and parameters: {'max_depth': 2, 'n_estimators': 300, 'learning_rate': 0.025}. Best is trial 0 with value: 0.8310930539251039.\u001b[0m\n"
     ]
    },
    {
     "name": "stderr",
     "output_type": "stream",
     "text": [
      "C:\\Users\\user\\anaconda3\\envs\\aging\\lib\\site-packages\\pandas\\core\\computation\\expressions.py:205: UserWarning: evaluating in Python space because the '*' operator is not supported by numexpr for the bool dtype, use '&' instead\n",
      "  f\"evaluating in Python space because the {repr(op_str)} \"\n",
      "C:\\Users\\user\\anaconda3\\envs\\aging\\lib\\site-packages\\pandas\\core\\computation\\expressions.py:205: UserWarning: evaluating in Python space because the '*' operator is not supported by numexpr for the bool dtype, use '&' instead\n",
      "  f\"evaluating in Python space because the {repr(op_str)} \"\n"
     ]
    },
    {
     "name": "stdout",
     "output_type": "stream",
     "text": [
      "Precision: 0.9572192513368984 \n",
      "Recall: 0.9546666666666667 \n",
      "Aging Rate: 0.48825065274151436\n"
     ]
    },
    {
     "name": "stderr",
     "output_type": "stream",
     "text": [
      "C:\\Users\\user\\anaconda3\\envs\\aging\\lib\\site-packages\\pandas\\core\\computation\\expressions.py:205: UserWarning: evaluating in Python space because the '*' operator is not supported by numexpr for the bool dtype, use '&' instead\n",
      "  f\"evaluating in Python space because the {repr(op_str)} \"\n",
      "C:\\Users\\user\\anaconda3\\envs\\aging\\lib\\site-packages\\pandas\\core\\computation\\expressions.py:205: UserWarning: evaluating in Python space because the '*' operator is not supported by numexpr for the bool dtype, use '&' instead\n",
      "  f\"evaluating in Python space because the {repr(op_str)} \"\n"
     ]
    },
    {
     "name": "stdout",
     "output_type": "stream",
     "text": [
      "Precision: 0.9622641509433962 \n",
      "Recall: 0.9610552763819096 \n",
      "Aging Rate: 0.5189295039164491\n"
     ]
    },
    {
     "name": "stderr",
     "output_type": "stream",
     "text": [
      "C:\\Users\\user\\anaconda3\\envs\\aging\\lib\\site-packages\\pandas\\core\\computation\\expressions.py:205: UserWarning: evaluating in Python space because the '*' operator is not supported by numexpr for the bool dtype, use '&' instead\n",
      "  f\"evaluating in Python space because the {repr(op_str)} \"\n",
      "C:\\Users\\user\\anaconda3\\envs\\aging\\lib\\site-packages\\pandas\\core\\computation\\expressions.py:205: UserWarning: evaluating in Python space because the '*' operator is not supported by numexpr for the bool dtype, use '&' instead\n",
      "  f\"evaluating in Python space because the {repr(op_str)} \"\n",
      "\u001b[32m[I 2021-11-25 23:44:25,158]\u001b[0m A new study created in memory with name: no-name-1c2a18d6-0779-46a2-917d-2634327378f8\u001b[0m\n"
     ]
    },
    {
     "name": "stdout",
     "output_type": "stream",
     "text": [
      "Precision: 0.9586666666666667 \n",
      "Recall: 0.952317880794702 \n",
      "Aging Rate: 0.489556135770235\n",
      "\u001b[32m[I 2021-11-25 23:44:25,111]\u001b[0m Trial 1 finished with value: 0.9061220648668195 and parameters: {'max_depth': 2, 'n_estimators': 100, 'learning_rate': 0.275}. Best is trial 1 with value: 0.9061220648668195.\u001b[0m\n",
      "Sampler is TPESampler\n",
      "Dataset2 :\n"
     ]
    },
    {
     "name": "stderr",
     "output_type": "stream",
     "text": [
      "C:\\Users\\user\\anaconda3\\envs\\aging\\lib\\site-packages\\optuna\\progress_bar.py:47: ExperimentalWarning: Progress bar is experimental (supported from v1.2.0). The interface can change in the future.\n",
      "  self._init_valid()\n"
     ]
    },
    {
     "data": {
      "application/vnd.jupyter.widget-view+json": {
       "model_id": "793105400d244d53ad9ecf2da48402e2",
       "version_major": 2,
       "version_minor": 0
      },
      "text/plain": [
       "  0%|          | 0/2 [00:00<?, ?it/s]"
      ]
     },
     "metadata": {},
     "output_type": "display_data"
    },
    {
     "name": "stderr",
     "output_type": "stream",
     "text": [
      "C:\\Users\\user\\anaconda3\\envs\\aging\\lib\\site-packages\\pandas\\core\\computation\\expressions.py:205: UserWarning: evaluating in Python space because the '*' operator is not supported by numexpr for the bool dtype, use '&' instead\n",
      "  f\"evaluating in Python space because the {repr(op_str)} \"\n",
      "C:\\Users\\user\\anaconda3\\envs\\aging\\lib\\site-packages\\pandas\\core\\computation\\expressions.py:205: UserWarning: evaluating in Python space because the '*' operator is not supported by numexpr for the bool dtype, use '&' instead\n",
      "  f\"evaluating in Python space because the {repr(op_str)} \"\n"
     ]
    },
    {
     "name": "stdout",
     "output_type": "stream",
     "text": [
      "Precision: 0.8230184581976113 \n",
      "Recall: 0.8284153005464481 \n",
      "Aging Rate: 0.5\n"
     ]
    },
    {
     "name": "stderr",
     "output_type": "stream",
     "text": [
      "C:\\Users\\user\\anaconda3\\envs\\aging\\lib\\site-packages\\pandas\\core\\computation\\expressions.py:205: UserWarning: evaluating in Python space because the '*' operator is not supported by numexpr for the bool dtype, use '&' instead\n",
      "  f\"evaluating in Python space because the {repr(op_str)} \"\n",
      "C:\\Users\\user\\anaconda3\\envs\\aging\\lib\\site-packages\\pandas\\core\\computation\\expressions.py:205: UserWarning: evaluating in Python space because the '*' operator is not supported by numexpr for the bool dtype, use '&' instead\n",
      "  f\"evaluating in Python space because the {repr(op_str)} \"\n"
     ]
    },
    {
     "name": "stdout",
     "output_type": "stream",
     "text": [
      "Precision: 0.8230683090705487 \n",
      "Recall: 0.8157602663706992 \n",
      "Aging Rate: 0.48479913137893593\n"
     ]
    },
    {
     "name": "stderr",
     "output_type": "stream",
     "text": [
      "C:\\Users\\user\\anaconda3\\envs\\aging\\lib\\site-packages\\pandas\\core\\computation\\expressions.py:205: UserWarning: evaluating in Python space because the '*' operator is not supported by numexpr for the bool dtype, use '&' instead\n",
      "  f\"evaluating in Python space because the {repr(op_str)} \"\n",
      "C:\\Users\\user\\anaconda3\\envs\\aging\\lib\\site-packages\\pandas\\core\\computation\\expressions.py:205: UserWarning: evaluating in Python space because the '*' operator is not supported by numexpr for the bool dtype, use '&' instead\n",
      "  f\"evaluating in Python space because the {repr(op_str)} \"\n"
     ]
    },
    {
     "name": "stdout",
     "output_type": "stream",
     "text": [
      "Precision: 0.8370044052863436 \n",
      "Recall: 0.819848975188781 \n",
      "Aging Rate: 0.49294245385450597\n",
      "\u001b[32m[I 2021-11-25 23:44:29,203]\u001b[0m Trial 0 finished with value: 0.7720834611941947 and parameters: {'max_depth': 1, 'n_estimators': 200, 'learning_rate': 0.825}. Best is trial 0 with value: 0.7720834611941947.\u001b[0m\n"
     ]
    },
    {
     "name": "stderr",
     "output_type": "stream",
     "text": [
      "C:\\Users\\user\\anaconda3\\envs\\aging\\lib\\site-packages\\pandas\\core\\computation\\expressions.py:205: UserWarning: evaluating in Python space because the '*' operator is not supported by numexpr for the bool dtype, use '&' instead\n",
      "  f\"evaluating in Python space because the {repr(op_str)} \"\n",
      "C:\\Users\\user\\anaconda3\\envs\\aging\\lib\\site-packages\\pandas\\core\\computation\\expressions.py:205: UserWarning: evaluating in Python space because the '*' operator is not supported by numexpr for the bool dtype, use '&' instead\n",
      "  f\"evaluating in Python space because the {repr(op_str)} \"\n"
     ]
    },
    {
     "name": "stdout",
     "output_type": "stream",
     "text": [
      "Precision: 0.8401360544217688 \n",
      "Recall: 0.7908217716115261 \n",
      "Aging Rate: 0.4788273615635179\n"
     ]
    },
    {
     "name": "stderr",
     "output_type": "stream",
     "text": [
      "C:\\Users\\user\\anaconda3\\envs\\aging\\lib\\site-packages\\pandas\\core\\computation\\expressions.py:205: UserWarning: evaluating in Python space because the '*' operator is not supported by numexpr for the bool dtype, use '&' instead\n",
      "  f\"evaluating in Python space because the {repr(op_str)} \"\n",
      "C:\\Users\\user\\anaconda3\\envs\\aging\\lib\\site-packages\\pandas\\core\\computation\\expressions.py:205: UserWarning: evaluating in Python space because the '*' operator is not supported by numexpr for the bool dtype, use '&' instead\n",
      "  f\"evaluating in Python space because the {repr(op_str)} \"\n"
     ]
    },
    {
     "name": "stdout",
     "output_type": "stream",
     "text": [
      "Precision: 0.8316939890710382 \n",
      "Recall: 0.8262757871878393 \n",
      "Aging Rate: 0.496742671009772\n"
     ]
    },
    {
     "name": "stderr",
     "output_type": "stream",
     "text": [
      "C:\\Users\\user\\anaconda3\\envs\\aging\\lib\\site-packages\\pandas\\core\\computation\\expressions.py:205: UserWarning: evaluating in Python space because the '*' operator is not supported by numexpr for the bool dtype, use '&' instead\n",
      "  f\"evaluating in Python space because the {repr(op_str)} \"\n",
      "C:\\Users\\user\\anaconda3\\envs\\aging\\lib\\site-packages\\pandas\\core\\computation\\expressions.py:205: UserWarning: evaluating in Python space because the '*' operator is not supported by numexpr for the bool dtype, use '&' instead\n",
      "  f\"evaluating in Python space because the {repr(op_str)} \"\n",
      "\u001b[32m[I 2021-11-25 23:44:33,457]\u001b[0m A new study created in memory with name: no-name-9ea612c7-6691-42e3-bece-dc6482636281\u001b[0m\n"
     ]
    },
    {
     "name": "stdout",
     "output_type": "stream",
     "text": [
      "Precision: 0.8544444444444445 \n",
      "Recall: 0.8146186440677966 \n",
      "Aging Rate: 0.48859934853420195\n",
      "\u001b[32m[I 2021-11-25 23:44:33,424]\u001b[0m Trial 1 finished with value: 0.761766421585471 and parameters: {'max_depth': 1, 'n_estimators': 200, 'learning_rate': 0.47500000000000003}. Best is trial 0 with value: 0.7720834611941947.\u001b[0m\n",
      "Sampler is TPESampler\n",
      "Dataset3 :\n"
     ]
    },
    {
     "name": "stderr",
     "output_type": "stream",
     "text": [
      "C:\\Users\\user\\anaconda3\\envs\\aging\\lib\\site-packages\\optuna\\progress_bar.py:47: ExperimentalWarning: Progress bar is experimental (supported from v1.2.0). The interface can change in the future.\n",
      "  self._init_valid()\n"
     ]
    },
    {
     "data": {
      "application/vnd.jupyter.widget-view+json": {
       "model_id": "1a9a98fcf86b4a9a987c922b309747af",
       "version_major": 2,
       "version_minor": 0
      },
      "text/plain": [
       "  0%|          | 0/2 [00:00<?, ?it/s]"
      ]
     },
     "metadata": {},
     "output_type": "display_data"
    },
    {
     "name": "stderr",
     "output_type": "stream",
     "text": [
      "C:\\Users\\user\\anaconda3\\envs\\aging\\lib\\site-packages\\pandas\\core\\computation\\expressions.py:205: UserWarning: evaluating in Python space because the '*' operator is not supported by numexpr for the bool dtype, use '&' instead\n",
      "  f\"evaluating in Python space because the {repr(op_str)} \"\n",
      "C:\\Users\\user\\anaconda3\\envs\\aging\\lib\\site-packages\\pandas\\core\\computation\\expressions.py:205: UserWarning: evaluating in Python space because the '*' operator is not supported by numexpr for the bool dtype, use '&' instead\n",
      "  f\"evaluating in Python space because the {repr(op_str)} \"\n"
     ]
    },
    {
     "name": "stdout",
     "output_type": "stream",
     "text": [
      "Precision: 0.9974358974358974 \n",
      "Recall: 0.9099415204678363 \n",
      "Aging Rate: 0.4642857142857143\n"
     ]
    },
    {
     "name": "stderr",
     "output_type": "stream",
     "text": [
      "C:\\Users\\user\\anaconda3\\envs\\aging\\lib\\site-packages\\pandas\\core\\computation\\expressions.py:205: UserWarning: evaluating in Python space because the '*' operator is not supported by numexpr for the bool dtype, use '&' instead\n",
      "  f\"evaluating in Python space because the {repr(op_str)} \"\n",
      "C:\\Users\\user\\anaconda3\\envs\\aging\\lib\\site-packages\\pandas\\core\\computation\\expressions.py:205: UserWarning: evaluating in Python space because the '*' operator is not supported by numexpr for the bool dtype, use '&' instead\n",
      "  f\"evaluating in Python space because the {repr(op_str)} \"\n"
     ]
    },
    {
     "name": "stdout",
     "output_type": "stream",
     "text": [
      "Precision: 1.0 \n",
      "Recall: 0.9087635054021609 \n",
      "Aging Rate: 0.4505952380952381\n"
     ]
    },
    {
     "name": "stderr",
     "output_type": "stream",
     "text": [
      "C:\\Users\\user\\anaconda3\\envs\\aging\\lib\\site-packages\\pandas\\core\\computation\\expressions.py:205: UserWarning: evaluating in Python space because the '*' operator is not supported by numexpr for the bool dtype, use '&' instead\n",
      "  f\"evaluating in Python space because the {repr(op_str)} \"\n",
      "C:\\Users\\user\\anaconda3\\envs\\aging\\lib\\site-packages\\pandas\\core\\computation\\expressions.py:205: UserWarning: evaluating in Python space because the '*' operator is not supported by numexpr for the bool dtype, use '&' instead\n",
      "  f\"evaluating in Python space because the {repr(op_str)} \"\n"
     ]
    },
    {
     "name": "stdout",
     "output_type": "stream",
     "text": [
      "Precision: 1.0 \n",
      "Recall: 0.9325443786982248 \n",
      "Aging Rate: 0.46904761904761905\n",
      "\u001b[32m[I 2021-11-25 23:44:42,958]\u001b[0m Trial 0 finished with value: 0.8709521824751216 and parameters: {'max_depth': 2, 'n_estimators': 100, 'learning_rate': 0.07500000000000001}. Best is trial 0 with value: 0.8709521824751216.\u001b[0m\n"
     ]
    },
    {
     "name": "stderr",
     "output_type": "stream",
     "text": [
      "C:\\Users\\user\\anaconda3\\envs\\aging\\lib\\site-packages\\pandas\\core\\computation\\expressions.py:205: UserWarning: evaluating in Python space because the '*' operator is not supported by numexpr for the bool dtype, use '&' instead\n",
      "  f\"evaluating in Python space because the {repr(op_str)} \"\n",
      "C:\\Users\\user\\anaconda3\\envs\\aging\\lib\\site-packages\\pandas\\core\\computation\\expressions.py:205: UserWarning: evaluating in Python space because the '*' operator is not supported by numexpr for the bool dtype, use '&' instead\n",
      "  f\"evaluating in Python space because the {repr(op_str)} \"\n"
     ]
    },
    {
     "name": "stdout",
     "output_type": "stream",
     "text": [
      "Precision: 0.9949685534591195 \n",
      "Recall: 0.9349881796690307 \n",
      "Aging Rate: 0.4732142857142857\n"
     ]
    },
    {
     "name": "stderr",
     "output_type": "stream",
     "text": [
      "C:\\Users\\user\\anaconda3\\envs\\aging\\lib\\site-packages\\pandas\\core\\computation\\expressions.py:205: UserWarning: evaluating in Python space because the '*' operator is not supported by numexpr for the bool dtype, use '&' instead\n",
      "  f\"evaluating in Python space because the {repr(op_str)} \"\n",
      "C:\\Users\\user\\anaconda3\\envs\\aging\\lib\\site-packages\\pandas\\core\\computation\\expressions.py:205: UserWarning: evaluating in Python space because the '*' operator is not supported by numexpr for the bool dtype, use '&' instead\n",
      "  f\"evaluating in Python space because the {repr(op_str)} \"\n"
     ]
    },
    {
     "name": "stdout",
     "output_type": "stream",
     "text": [
      "Precision: 1.0 \n",
      "Recall: 0.9230769230769231 \n",
      "Aging Rate: 0.4714285714285714\n"
     ]
    },
    {
     "name": "stderr",
     "output_type": "stream",
     "text": [
      "C:\\Users\\user\\anaconda3\\envs\\aging\\lib\\site-packages\\pandas\\core\\computation\\expressions.py:205: UserWarning: evaluating in Python space because the '*' operator is not supported by numexpr for the bool dtype, use '&' instead\n",
      "  f\"evaluating in Python space because the {repr(op_str)} \"\n",
      "C:\\Users\\user\\anaconda3\\envs\\aging\\lib\\site-packages\\pandas\\core\\computation\\expressions.py:205: UserWarning: evaluating in Python space because the '*' operator is not supported by numexpr for the bool dtype, use '&' instead\n",
      "  f\"evaluating in Python space because the {repr(op_str)} \"\n",
      "\u001b[32m[I 2021-11-25 23:45:08,876]\u001b[0m A new study created in memory with name: no-name-d2ecd9be-5641-4821-bcf7-69e8b0792458\u001b[0m\n"
     ]
    },
    {
     "name": "stdout",
     "output_type": "stream",
     "text": [
      "Precision: 1.0 \n",
      "Recall: 0.9290780141843972 \n",
      "Aging Rate: 0.46785714285714286\n",
      "\u001b[32m[I 2021-11-25 23:45:08,815]\u001b[0m Trial 1 finished with value: 0.8819643723101169 and parameters: {'max_depth': 3, 'n_estimators': 200, 'learning_rate': 0.025}. Best is trial 1 with value: 0.8819643723101169.\u001b[0m\n",
      "Sampler is TPESampler\n",
      "Dataset4 :\n"
     ]
    },
    {
     "name": "stderr",
     "output_type": "stream",
     "text": [
      "C:\\Users\\user\\anaconda3\\envs\\aging\\lib\\site-packages\\optuna\\progress_bar.py:47: ExperimentalWarning: Progress bar is experimental (supported from v1.2.0). The interface can change in the future.\n",
      "  self._init_valid()\n"
     ]
    },
    {
     "data": {
      "application/vnd.jupyter.widget-view+json": {
       "model_id": "f6fc79cac952437d9809f8a9e9e4b55c",
       "version_major": 2,
       "version_minor": 0
      },
      "text/plain": [
       "  0%|          | 0/2 [00:00<?, ?it/s]"
      ]
     },
     "metadata": {},
     "output_type": "display_data"
    },
    {
     "name": "stderr",
     "output_type": "stream",
     "text": [
      "C:\\Users\\user\\anaconda3\\envs\\aging\\lib\\site-packages\\pandas\\core\\computation\\expressions.py:205: UserWarning: evaluating in Python space because the '*' operator is not supported by numexpr for the bool dtype, use '&' instead\n",
      "  f\"evaluating in Python space because the {repr(op_str)} \"\n",
      "C:\\Users\\user\\anaconda3\\envs\\aging\\lib\\site-packages\\pandas\\core\\computation\\expressions.py:205: UserWarning: evaluating in Python space because the '*' operator is not supported by numexpr for the bool dtype, use '&' instead\n",
      "  f\"evaluating in Python space because the {repr(op_str)} \"\n"
     ]
    },
    {
     "name": "stdout",
     "output_type": "stream",
     "text": [
      "Precision: 0.9560283687943263 \n",
      "Recall: 0.9182561307901907 \n",
      "Aging Rate: 0.46078431372549017\n"
     ]
    },
    {
     "name": "stderr",
     "output_type": "stream",
     "text": [
      "C:\\Users\\user\\anaconda3\\envs\\aging\\lib\\site-packages\\pandas\\core\\computation\\expressions.py:205: UserWarning: evaluating in Python space because the '*' operator is not supported by numexpr for the bool dtype, use '&' instead\n",
      "  f\"evaluating in Python space because the {repr(op_str)} \"\n",
      "C:\\Users\\user\\anaconda3\\envs\\aging\\lib\\site-packages\\pandas\\core\\computation\\expressions.py:205: UserWarning: evaluating in Python space because the '*' operator is not supported by numexpr for the bool dtype, use '&' instead\n",
      "  f\"evaluating in Python space because the {repr(op_str)} \"\n"
     ]
    },
    {
     "name": "stdout",
     "output_type": "stream",
     "text": [
      "Precision: 0.9556135770234987 \n",
      "Recall: 0.9606299212598425 \n",
      "Aging Rate: 0.5006535947712418\n"
     ]
    },
    {
     "name": "stderr",
     "output_type": "stream",
     "text": [
      "C:\\Users\\user\\anaconda3\\envs\\aging\\lib\\site-packages\\pandas\\core\\computation\\expressions.py:205: UserWarning: evaluating in Python space because the '*' operator is not supported by numexpr for the bool dtype, use '&' instead\n",
      "  f\"evaluating in Python space because the {repr(op_str)} \"\n",
      "C:\\Users\\user\\anaconda3\\envs\\aging\\lib\\site-packages\\pandas\\core\\computation\\expressions.py:205: UserWarning: evaluating in Python space because the '*' operator is not supported by numexpr for the bool dtype, use '&' instead\n",
      "  f\"evaluating in Python space because the {repr(op_str)} \"\n"
     ]
    },
    {
     "name": "stdout",
     "output_type": "stream",
     "text": [
      "Precision: 0.9562982005141388 \n",
      "Recall: 0.96 \n",
      "Aging Rate: 0.5084967320261438\n",
      "\u001b[32m[I 2021-11-25 23:45:17,362]\u001b[0m Trial 0 finished with value: 0.8972975293325819 and parameters: {'max_depth': 3, 'n_estimators': 300, 'learning_rate': 0.025}. Best is trial 0 with value: 0.8972975293325819.\u001b[0m\n"
     ]
    },
    {
     "name": "stderr",
     "output_type": "stream",
     "text": [
      "C:\\Users\\user\\anaconda3\\envs\\aging\\lib\\site-packages\\pandas\\core\\computation\\expressions.py:205: UserWarning: evaluating in Python space because the '*' operator is not supported by numexpr for the bool dtype, use '&' instead\n",
      "  f\"evaluating in Python space because the {repr(op_str)} \"\n",
      "C:\\Users\\user\\anaconda3\\envs\\aging\\lib\\site-packages\\pandas\\core\\computation\\expressions.py:205: UserWarning: evaluating in Python space because the '*' operator is not supported by numexpr for the bool dtype, use '&' instead\n",
      "  f\"evaluating in Python space because the {repr(op_str)} \"\n"
     ]
    },
    {
     "name": "stdout",
     "output_type": "stream",
     "text": [
      "Precision: 0.8728813559322034 \n",
      "Recall: 0.8284182305630027 \n",
      "Aging Rate: 0.4627450980392157\n"
     ]
    },
    {
     "name": "stderr",
     "output_type": "stream",
     "text": [
      "C:\\Users\\user\\anaconda3\\envs\\aging\\lib\\site-packages\\pandas\\core\\computation\\expressions.py:205: UserWarning: evaluating in Python space because the '*' operator is not supported by numexpr for the bool dtype, use '&' instead\n",
      "  f\"evaluating in Python space because the {repr(op_str)} \"\n",
      "C:\\Users\\user\\anaconda3\\envs\\aging\\lib\\site-packages\\pandas\\core\\computation\\expressions.py:205: UserWarning: evaluating in Python space because the '*' operator is not supported by numexpr for the bool dtype, use '&' instead\n",
      "  f\"evaluating in Python space because the {repr(op_str)} \"\n"
     ]
    },
    {
     "name": "stdout",
     "output_type": "stream",
     "text": [
      "Precision: 0.8717948717948718 \n",
      "Recall: 0.8324742268041238 \n",
      "Aging Rate: 0.4843137254901961\n"
     ]
    },
    {
     "name": "stderr",
     "output_type": "stream",
     "text": [
      "C:\\Users\\user\\anaconda3\\envs\\aging\\lib\\site-packages\\pandas\\core\\computation\\expressions.py:205: UserWarning: evaluating in Python space because the '*' operator is not supported by numexpr for the bool dtype, use '&' instead\n",
      "  f\"evaluating in Python space because the {repr(op_str)} \"\n",
      "C:\\Users\\user\\anaconda3\\envs\\aging\\lib\\site-packages\\pandas\\core\\computation\\expressions.py:205: UserWarning: evaluating in Python space because the '*' operator is not supported by numexpr for the bool dtype, use '&' instead\n",
      "  f\"evaluating in Python space because the {repr(op_str)} \"\n",
      "\u001b[32m[I 2021-11-25 23:45:20,866]\u001b[0m A new study created in memory with name: no-name-d292f9e7-488b-450b-bc8f-dbb8e0b79d4b\u001b[0m\n"
     ]
    },
    {
     "name": "stdout",
     "output_type": "stream",
     "text": [
      "Precision: 0.8732212160413971 \n",
      "Recall: 0.8642765685019206 \n",
      "Aging Rate: 0.5052287581699346\n",
      "\u001b[32m[I 2021-11-25 23:45:20,823]\u001b[0m Trial 1 finished with value: 0.7933134225663707 and parameters: {'max_depth': 1, 'n_estimators': 200, 'learning_rate': 0.6250000000000001}. Best is trial 0 with value: 0.8972975293325819.\u001b[0m\n",
      "Sampler is TPESampler\n",
      "Dataset5 :\n"
     ]
    },
    {
     "name": "stderr",
     "output_type": "stream",
     "text": [
      "C:\\Users\\user\\anaconda3\\envs\\aging\\lib\\site-packages\\optuna\\progress_bar.py:47: ExperimentalWarning: Progress bar is experimental (supported from v1.2.0). The interface can change in the future.\n",
      "  self._init_valid()\n"
     ]
    },
    {
     "data": {
      "application/vnd.jupyter.widget-view+json": {
       "model_id": "6e8cad39e5cf40299a1689dfbf8fa4a3",
       "version_major": 2,
       "version_minor": 0
      },
      "text/plain": [
       "  0%|          | 0/2 [00:00<?, ?it/s]"
      ]
     },
     "metadata": {},
     "output_type": "display_data"
    },
    {
     "name": "stderr",
     "output_type": "stream",
     "text": [
      "C:\\Users\\user\\anaconda3\\envs\\aging\\lib\\site-packages\\pandas\\core\\computation\\expressions.py:205: UserWarning: evaluating in Python space because the '*' operator is not supported by numexpr for the bool dtype, use '&' instead\n",
      "  f\"evaluating in Python space because the {repr(op_str)} \"\n",
      "C:\\Users\\user\\anaconda3\\envs\\aging\\lib\\site-packages\\pandas\\core\\computation\\expressions.py:205: UserWarning: evaluating in Python space because the '*' operator is not supported by numexpr for the bool dtype, use '&' instead\n",
      "  f\"evaluating in Python space because the {repr(op_str)} \"\n"
     ]
    },
    {
     "name": "stdout",
     "output_type": "stream",
     "text": [
      "Precision: 0.9187675070028011 \n",
      "Recall: 0.8631578947368421 \n",
      "Aging Rate: 0.4654498044328553\n"
     ]
    },
    {
     "name": "stderr",
     "output_type": "stream",
     "text": [
      "C:\\Users\\user\\anaconda3\\envs\\aging\\lib\\site-packages\\pandas\\core\\computation\\expressions.py:205: UserWarning: evaluating in Python space because the '*' operator is not supported by numexpr for the bool dtype, use '&' instead\n",
      "  f\"evaluating in Python space because the {repr(op_str)} \"\n",
      "C:\\Users\\user\\anaconda3\\envs\\aging\\lib\\site-packages\\pandas\\core\\computation\\expressions.py:205: UserWarning: evaluating in Python space because the '*' operator is not supported by numexpr for the bool dtype, use '&' instead\n",
      "  f\"evaluating in Python space because the {repr(op_str)} \"\n"
     ]
    },
    {
     "name": "stdout",
     "output_type": "stream",
     "text": [
      "Precision: 0.857916102841678 \n",
      "Recall: 0.8521505376344086 \n",
      "Aging Rate: 0.4817470664928292\n"
     ]
    },
    {
     "name": "stderr",
     "output_type": "stream",
     "text": [
      "C:\\Users\\user\\anaconda3\\envs\\aging\\lib\\site-packages\\pandas\\core\\computation\\expressions.py:205: UserWarning: evaluating in Python space because the '*' operator is not supported by numexpr for the bool dtype, use '&' instead\n",
      "  f\"evaluating in Python space because the {repr(op_str)} \"\n",
      "C:\\Users\\user\\anaconda3\\envs\\aging\\lib\\site-packages\\pandas\\core\\computation\\expressions.py:205: UserWarning: evaluating in Python space because the '*' operator is not supported by numexpr for the bool dtype, use '&' instead\n",
      "  f\"evaluating in Python space because the {repr(op_str)} \"\n"
     ]
    },
    {
     "name": "stdout",
     "output_type": "stream",
     "text": [
      "Precision: 0.8938992042440318 \n",
      "Recall: 0.849936948297604 \n",
      "Aging Rate: 0.4915254237288136\n",
      "\u001b[32m[I 2021-11-25 23:45:24,314]\u001b[0m Trial 0 finished with value: 0.8071243837344683 and parameters: {'max_depth': 2, 'n_estimators': 150, 'learning_rate': 0.025}. Best is trial 0 with value: 0.8071243837344683.\u001b[0m\n"
     ]
    },
    {
     "name": "stderr",
     "output_type": "stream",
     "text": [
      "C:\\Users\\user\\anaconda3\\envs\\aging\\lib\\site-packages\\pandas\\core\\computation\\expressions.py:205: UserWarning: evaluating in Python space because the '*' operator is not supported by numexpr for the bool dtype, use '&' instead\n",
      "  f\"evaluating in Python space because the {repr(op_str)} \"\n",
      "C:\\Users\\user\\anaconda3\\envs\\aging\\lib\\site-packages\\pandas\\core\\computation\\expressions.py:205: UserWarning: evaluating in Python space because the '*' operator is not supported by numexpr for the bool dtype, use '&' instead\n",
      "  f\"evaluating in Python space because the {repr(op_str)} \"\n"
     ]
    },
    {
     "name": "stdout",
     "output_type": "stream",
     "text": [
      "Precision: 0.9759797724399494 \n",
      "Recall: 0.9759797724399494 \n",
      "Aging Rate: 0.515645371577575\n"
     ]
    },
    {
     "name": "stderr",
     "output_type": "stream",
     "text": [
      "C:\\Users\\user\\anaconda3\\envs\\aging\\lib\\site-packages\\pandas\\core\\computation\\expressions.py:205: UserWarning: evaluating in Python space because the '*' operator is not supported by numexpr for the bool dtype, use '&' instead\n",
      "  f\"evaluating in Python space because the {repr(op_str)} \"\n",
      "C:\\Users\\user\\anaconda3\\envs\\aging\\lib\\site-packages\\pandas\\core\\computation\\expressions.py:205: UserWarning: evaluating in Python space because the '*' operator is not supported by numexpr for the bool dtype, use '&' instead\n",
      "  f\"evaluating in Python space because the {repr(op_str)} \"\n"
     ]
    },
    {
     "name": "stdout",
     "output_type": "stream",
     "text": [
      "Precision: 0.9933774834437086 \n",
      "Recall: 0.985545335085414 \n",
      "Aging Rate: 0.4921773142112125\n"
     ]
    },
    {
     "name": "stderr",
     "output_type": "stream",
     "text": [
      "C:\\Users\\user\\anaconda3\\envs\\aging\\lib\\site-packages\\pandas\\core\\computation\\expressions.py:205: UserWarning: evaluating in Python space because the '*' operator is not supported by numexpr for the bool dtype, use '&' instead\n",
      "  f\"evaluating in Python space because the {repr(op_str)} \"\n",
      "C:\\Users\\user\\anaconda3\\envs\\aging\\lib\\site-packages\\pandas\\core\\computation\\expressions.py:205: UserWarning: evaluating in Python space because the '*' operator is not supported by numexpr for the bool dtype, use '&' instead\n",
      "  f\"evaluating in Python space because the {repr(op_str)} \"\n",
      "\u001b[32m[I 2021-11-25 23:45:28,877]\u001b[0m A new study created in memory with name: no-name-e71fe397-e2b8-49ed-a068-ceaa841c73e9\u001b[0m\n"
     ]
    },
    {
     "name": "stdout",
     "output_type": "stream",
     "text": [
      "Precision: 0.9743260590500642 \n",
      "Recall: 0.9869960988296489 \n",
      "Aging Rate: 0.5078226857887875\n",
      "\u001b[32m[I 2021-11-25 23:45:28,846]\u001b[0m Trial 1 finished with value: 0.9323188897324183 and parameters: {'max_depth': 2, 'n_estimators': 200, 'learning_rate': 0.37500000000000006}. Best is trial 1 with value: 0.9323188897324183.\u001b[0m\n",
      "Sampler is TPESampler\n",
      "Dataset6 :\n"
     ]
    },
    {
     "name": "stderr",
     "output_type": "stream",
     "text": [
      "C:\\Users\\user\\anaconda3\\envs\\aging\\lib\\site-packages\\optuna\\progress_bar.py:47: ExperimentalWarning: Progress bar is experimental (supported from v1.2.0). The interface can change in the future.\n",
      "  self._init_valid()\n"
     ]
    },
    {
     "data": {
      "application/vnd.jupyter.widget-view+json": {
       "model_id": "ec470ab4d46d4b1dbb392c243551f234",
       "version_major": 2,
       "version_minor": 0
      },
      "text/plain": [
       "  0%|          | 0/2 [00:00<?, ?it/s]"
      ]
     },
     "metadata": {},
     "output_type": "display_data"
    },
    {
     "name": "stderr",
     "output_type": "stream",
     "text": [
      "C:\\Users\\user\\anaconda3\\envs\\aging\\lib\\site-packages\\pandas\\core\\computation\\expressions.py:205: UserWarning: evaluating in Python space because the '*' operator is not supported by numexpr for the bool dtype, use '&' instead\n",
      "  f\"evaluating in Python space because the {repr(op_str)} \"\n",
      "C:\\Users\\user\\anaconda3\\envs\\aging\\lib\\site-packages\\pandas\\core\\computation\\expressions.py:205: UserWarning: evaluating in Python space because the '*' operator is not supported by numexpr for the bool dtype, use '&' instead\n",
      "  f\"evaluating in Python space because the {repr(op_str)} \"\n"
     ]
    },
    {
     "name": "stdout",
     "output_type": "stream",
     "text": [
      "Precision: 0.8566844919786096 \n",
      "Recall: 0.8640776699029126 \n",
      "Aging Rate: 0.5548961424332344\n"
     ]
    },
    {
     "name": "stderr",
     "output_type": "stream",
     "text": [
      "C:\\Users\\user\\anaconda3\\envs\\aging\\lib\\site-packages\\pandas\\core\\computation\\expressions.py:205: UserWarning: evaluating in Python space because the '*' operator is not supported by numexpr for the bool dtype, use '&' instead\n",
      "  f\"evaluating in Python space because the {repr(op_str)} \"\n",
      "C:\\Users\\user\\anaconda3\\envs\\aging\\lib\\site-packages\\pandas\\core\\computation\\expressions.py:205: UserWarning: evaluating in Python space because the '*' operator is not supported by numexpr for the bool dtype, use '&' instead\n",
      "  f\"evaluating in Python space because the {repr(op_str)} \"\n"
     ]
    },
    {
     "name": "stdout",
     "output_type": "stream",
     "text": [
      "Precision: 0.837160751565762 \n",
      "Recall: 0.8614393125671321 \n",
      "Aging Rate: 0.568545994065282\n"
     ]
    },
    {
     "name": "stderr",
     "output_type": "stream",
     "text": [
      "C:\\Users\\user\\anaconda3\\envs\\aging\\lib\\site-packages\\pandas\\core\\computation\\expressions.py:205: UserWarning: evaluating in Python space because the '*' operator is not supported by numexpr for the bool dtype, use '&' instead\n",
      "  f\"evaluating in Python space because the {repr(op_str)} \"\n",
      "C:\\Users\\user\\anaconda3\\envs\\aging\\lib\\site-packages\\pandas\\core\\computation\\expressions.py:205: UserWarning: evaluating in Python space because the '*' operator is not supported by numexpr for the bool dtype, use '&' instead\n",
      "  f\"evaluating in Python space because the {repr(op_str)} \"\n"
     ]
    },
    {
     "name": "stdout",
     "output_type": "stream",
     "text": [
      "Precision: 0.8620309050772627 \n",
      "Recall: 0.8591859185918592 \n",
      "Aging Rate: 0.5376854599406529\n",
      "\u001b[32m[I 2021-11-25 23:45:30,768]\u001b[0m Trial 0 finished with value: 0.8061967138059957 and parameters: {'max_depth': 1, 'n_estimators': 100, 'learning_rate': 0.525}. Best is trial 0 with value: 0.8061967138059957.\u001b[0m\n"
     ]
    },
    {
     "name": "stderr",
     "output_type": "stream",
     "text": [
      "C:\\Users\\user\\anaconda3\\envs\\aging\\lib\\site-packages\\pandas\\core\\computation\\expressions.py:205: UserWarning: evaluating in Python space because the '*' operator is not supported by numexpr for the bool dtype, use '&' instead\n",
      "  f\"evaluating in Python space because the {repr(op_str)} \"\n",
      "C:\\Users\\user\\anaconda3\\envs\\aging\\lib\\site-packages\\pandas\\core\\computation\\expressions.py:205: UserWarning: evaluating in Python space because the '*' operator is not supported by numexpr for the bool dtype, use '&' instead\n",
      "  f\"evaluating in Python space because the {repr(op_str)} \"\n"
     ]
    },
    {
     "name": "stdout",
     "output_type": "stream",
     "text": [
      "Precision: 0.8625541125541125 \n",
      "Recall: 0.8588362068965517 \n",
      "Aging Rate: 0.5483679525222552\n"
     ]
    },
    {
     "name": "stderr",
     "output_type": "stream",
     "text": [
      "C:\\Users\\user\\anaconda3\\envs\\aging\\lib\\site-packages\\pandas\\core\\computation\\expressions.py:205: UserWarning: evaluating in Python space because the '*' operator is not supported by numexpr for the bool dtype, use '&' instead\n",
      "  f\"evaluating in Python space because the {repr(op_str)} \"\n",
      "C:\\Users\\user\\anaconda3\\envs\\aging\\lib\\site-packages\\pandas\\core\\computation\\expressions.py:205: UserWarning: evaluating in Python space because the '*' operator is not supported by numexpr for the bool dtype, use '&' instead\n",
      "  f\"evaluating in Python space because the {repr(op_str)} \"\n"
     ]
    },
    {
     "name": "stdout",
     "output_type": "stream",
     "text": [
      "Precision: 0.8398220244716351 \n",
      "Recall: 0.8435754189944135 \n",
      "Aging Rate: 0.5335311572700296\n"
     ]
    },
    {
     "name": "stderr",
     "output_type": "stream",
     "text": [
      "C:\\Users\\user\\anaconda3\\envs\\aging\\lib\\site-packages\\pandas\\core\\computation\\expressions.py:205: UserWarning: evaluating in Python space because the '*' operator is not supported by numexpr for the bool dtype, use '&' instead\n",
      "  f\"evaluating in Python space because the {repr(op_str)} \"\n",
      "C:\\Users\\user\\anaconda3\\envs\\aging\\lib\\site-packages\\pandas\\core\\computation\\expressions.py:205: UserWarning: evaluating in Python space because the '*' operator is not supported by numexpr for the bool dtype, use '&' instead\n",
      "  f\"evaluating in Python space because the {repr(op_str)} \"\n",
      "\u001b[32m[I 2021-11-25 23:45:33,644]\u001b[0m A new study created in memory with name: no-name-bf3f9846-247f-45bd-8b05-922442b88550\u001b[0m\n"
     ]
    },
    {
     "name": "stdout",
     "output_type": "stream",
     "text": [
      "Precision: 0.8530701754385965 \n",
      "Recall: 0.8521358159912377 \n",
      "Aging Rate: 0.5412462908011869\n",
      "\u001b[32m[I 2021-11-25 23:45:33,612]\u001b[0m Trial 1 finished with value: 0.7974109672742852 and parameters: {'max_depth': 1, 'n_estimators': 150, 'learning_rate': 0.37500000000000006}. Best is trial 0 with value: 0.8061967138059957.\u001b[0m\n",
      "Sampler is TPESampler\n",
      "Dataset7 :\n"
     ]
    },
    {
     "name": "stderr",
     "output_type": "stream",
     "text": [
      "C:\\Users\\user\\anaconda3\\envs\\aging\\lib\\site-packages\\optuna\\progress_bar.py:47: ExperimentalWarning: Progress bar is experimental (supported from v1.2.0). The interface can change in the future.\n",
      "  self._init_valid()\n"
     ]
    },
    {
     "data": {
      "application/vnd.jupyter.widget-view+json": {
       "model_id": "dfad1375da494a5f8facea1648028d94",
       "version_major": 2,
       "version_minor": 0
      },
      "text/plain": [
       "  0%|          | 0/2 [00:00<?, ?it/s]"
      ]
     },
     "metadata": {},
     "output_type": "display_data"
    },
    {
     "name": "stderr",
     "output_type": "stream",
     "text": [
      "C:\\Users\\user\\anaconda3\\envs\\aging\\lib\\site-packages\\pandas\\core\\computation\\expressions.py:205: UserWarning: evaluating in Python space because the '*' operator is not supported by numexpr for the bool dtype, use '&' instead\n",
      "  f\"evaluating in Python space because the {repr(op_str)} \"\n",
      "C:\\Users\\user\\anaconda3\\envs\\aging\\lib\\site-packages\\pandas\\core\\computation\\expressions.py:205: UserWarning: evaluating in Python space because the '*' operator is not supported by numexpr for the bool dtype, use '&' instead\n",
      "  f\"evaluating in Python space because the {repr(op_str)} \"\n"
     ]
    },
    {
     "name": "stdout",
     "output_type": "stream",
     "text": [
      "Precision: 0.9972451790633609 \n",
      "Recall: 0.9823609226594301 \n",
      "Aging Rate: 0.4745098039215686\n"
     ]
    },
    {
     "name": "stderr",
     "output_type": "stream",
     "text": [
      "C:\\Users\\user\\anaconda3\\envs\\aging\\lib\\site-packages\\pandas\\core\\computation\\expressions.py:205: UserWarning: evaluating in Python space because the '*' operator is not supported by numexpr for the bool dtype, use '&' instead\n",
      "  f\"evaluating in Python space because the {repr(op_str)} \"\n",
      "C:\\Users\\user\\anaconda3\\envs\\aging\\lib\\site-packages\\pandas\\core\\computation\\expressions.py:205: UserWarning: evaluating in Python space because the '*' operator is not supported by numexpr for the bool dtype, use '&' instead\n",
      "  f\"evaluating in Python space because the {repr(op_str)} \"\n"
     ]
    },
    {
     "name": "stdout",
     "output_type": "stream",
     "text": [
      "Precision: 0.9946737683089214 \n",
      "Recall: 0.9828947368421053 \n",
      "Aging Rate: 0.49084967320261436\n"
     ]
    },
    {
     "name": "stderr",
     "output_type": "stream",
     "text": [
      "C:\\Users\\user\\anaconda3\\envs\\aging\\lib\\site-packages\\pandas\\core\\computation\\expressions.py:205: UserWarning: evaluating in Python space because the '*' operator is not supported by numexpr for the bool dtype, use '&' instead\n",
      "  f\"evaluating in Python space because the {repr(op_str)} \"\n",
      "C:\\Users\\user\\anaconda3\\envs\\aging\\lib\\site-packages\\pandas\\core\\computation\\expressions.py:205: UserWarning: evaluating in Python space because the '*' operator is not supported by numexpr for the bool dtype, use '&' instead\n",
      "  f\"evaluating in Python space because the {repr(op_str)} \"\n"
     ]
    },
    {
     "name": "stdout",
     "output_type": "stream",
     "text": [
      "Precision: 0.9879356568364611 \n",
      "Recall: 0.9787516600265604 \n",
      "Aging Rate: 0.4875816993464052\n",
      "\u001b[32m[I 2021-11-25 23:45:59,018]\u001b[0m Trial 0 finished with value: 0.9329044006270123 and parameters: {'max_depth': 2, 'n_estimators': 300, 'learning_rate': 0.825}. Best is trial 0 with value: 0.9329044006270123.\u001b[0m\n"
     ]
    },
    {
     "name": "stderr",
     "output_type": "stream",
     "text": [
      "C:\\Users\\user\\anaconda3\\envs\\aging\\lib\\site-packages\\pandas\\core\\computation\\expressions.py:205: UserWarning: evaluating in Python space because the '*' operator is not supported by numexpr for the bool dtype, use '&' instead\n",
      "  f\"evaluating in Python space because the {repr(op_str)} \"\n",
      "C:\\Users\\user\\anaconda3\\envs\\aging\\lib\\site-packages\\pandas\\core\\computation\\expressions.py:205: UserWarning: evaluating in Python space because the '*' operator is not supported by numexpr for the bool dtype, use '&' instead\n",
      "  f\"evaluating in Python space because the {repr(op_str)} \"\n"
     ]
    },
    {
     "name": "stdout",
     "output_type": "stream",
     "text": [
      "Precision: 0.9957983193277311 \n",
      "Recall: 0.9162371134020618 \n",
      "Aging Rate: 0.4666666666666667\n"
     ]
    },
    {
     "name": "stderr",
     "output_type": "stream",
     "text": [
      "C:\\Users\\user\\anaconda3\\envs\\aging\\lib\\site-packages\\pandas\\core\\computation\\expressions.py:205: UserWarning: evaluating in Python space because the '*' operator is not supported by numexpr for the bool dtype, use '&' instead\n",
      "  f\"evaluating in Python space because the {repr(op_str)} \"\n",
      "C:\\Users\\user\\anaconda3\\envs\\aging\\lib\\site-packages\\pandas\\core\\computation\\expressions.py:205: UserWarning: evaluating in Python space because the '*' operator is not supported by numexpr for the bool dtype, use '&' instead\n",
      "  f\"evaluating in Python space because the {repr(op_str)} \"\n"
     ]
    },
    {
     "name": "stdout",
     "output_type": "stream",
     "text": [
      "Precision: 0.9889196675900277 \n",
      "Recall: 0.9431968295904888 \n",
      "Aging Rate: 0.4718954248366013\n"
     ]
    },
    {
     "name": "stderr",
     "output_type": "stream",
     "text": [
      "C:\\Users\\user\\anaconda3\\envs\\aging\\lib\\site-packages\\pandas\\core\\computation\\expressions.py:205: UserWarning: evaluating in Python space because the '*' operator is not supported by numexpr for the bool dtype, use '&' instead\n",
      "  f\"evaluating in Python space because the {repr(op_str)} \"\n",
      "C:\\Users\\user\\anaconda3\\envs\\aging\\lib\\site-packages\\pandas\\core\\computation\\expressions.py:205: UserWarning: evaluating in Python space because the '*' operator is not supported by numexpr for the bool dtype, use '&' instead\n",
      "  f\"evaluating in Python space because the {repr(op_str)} \"\n",
      "\u001b[32m[I 2021-11-25 23:46:08,878]\u001b[0m A new study created in memory with name: no-name-c5157699-8070-44d8-9dbe-761aa7cee36a\u001b[0m\n"
     ]
    },
    {
     "name": "stdout",
     "output_type": "stream",
     "text": [
      "Precision: 0.9985795454545454 \n",
      "Recall: 0.9262187088274044 \n",
      "Aging Rate: 0.46013071895424834\n",
      "\u001b[32m[I 2021-11-25 23:46:08,832]\u001b[0m Trial 1 finished with value: 0.8819277902580679 and parameters: {'max_depth': 1, 'n_estimators': 200, 'learning_rate': 0.32500000000000007}. Best is trial 0 with value: 0.9329044006270123.\u001b[0m\n",
      "Sampler is TPESampler\n",
      "Dataset8 :\n"
     ]
    },
    {
     "name": "stderr",
     "output_type": "stream",
     "text": [
      "C:\\Users\\user\\anaconda3\\envs\\aging\\lib\\site-packages\\optuna\\progress_bar.py:47: ExperimentalWarning: Progress bar is experimental (supported from v1.2.0). The interface can change in the future.\n",
      "  self._init_valid()\n"
     ]
    },
    {
     "data": {
      "application/vnd.jupyter.widget-view+json": {
       "model_id": "d90e676ed5df422db65a39f346be18f2",
       "version_major": 2,
       "version_minor": 0
      },
      "text/plain": [
       "  0%|          | 0/2 [00:00<?, ?it/s]"
      ]
     },
     "metadata": {},
     "output_type": "display_data"
    },
    {
     "name": "stderr",
     "output_type": "stream",
     "text": [
      "C:\\Users\\user\\anaconda3\\envs\\aging\\lib\\site-packages\\pandas\\core\\computation\\expressions.py:205: UserWarning: evaluating in Python space because the '*' operator is not supported by numexpr for the bool dtype, use '&' instead\n",
      "  f\"evaluating in Python space because the {repr(op_str)} \"\n",
      "C:\\Users\\user\\anaconda3\\envs\\aging\\lib\\site-packages\\pandas\\core\\computation\\expressions.py:205: UserWarning: evaluating in Python space because the '*' operator is not supported by numexpr for the bool dtype, use '&' instead\n",
      "  f\"evaluating in Python space because the {repr(op_str)} \"\n"
     ]
    },
    {
     "name": "stdout",
     "output_type": "stream",
     "text": [
      "Precision: 0.9896640826873385 \n",
      "Recall: 0.9745547073791349 \n",
      "Aging Rate: 0.5058823529411764\n"
     ]
    },
    {
     "name": "stderr",
     "output_type": "stream",
     "text": [
      "C:\\Users\\user\\anaconda3\\envs\\aging\\lib\\site-packages\\pandas\\core\\computation\\expressions.py:205: UserWarning: evaluating in Python space because the '*' operator is not supported by numexpr for the bool dtype, use '&' instead\n",
      "  f\"evaluating in Python space because the {repr(op_str)} \"\n",
      "C:\\Users\\user\\anaconda3\\envs\\aging\\lib\\site-packages\\pandas\\core\\computation\\expressions.py:205: UserWarning: evaluating in Python space because the '*' operator is not supported by numexpr for the bool dtype, use '&' instead\n",
      "  f\"evaluating in Python space because the {repr(op_str)} \"\n"
     ]
    },
    {
     "name": "stdout",
     "output_type": "stream",
     "text": [
      "Precision: 0.9891156462585035 \n",
      "Recall: 0.9771505376344086 \n",
      "Aging Rate: 0.4803921568627451\n"
     ]
    },
    {
     "name": "stderr",
     "output_type": "stream",
     "text": [
      "C:\\Users\\user\\anaconda3\\envs\\aging\\lib\\site-packages\\pandas\\core\\computation\\expressions.py:205: UserWarning: evaluating in Python space because the '*' operator is not supported by numexpr for the bool dtype, use '&' instead\n",
      "  f\"evaluating in Python space because the {repr(op_str)} \"\n",
      "C:\\Users\\user\\anaconda3\\envs\\aging\\lib\\site-packages\\pandas\\core\\computation\\expressions.py:205: UserWarning: evaluating in Python space because the '*' operator is not supported by numexpr for the bool dtype, use '&' instead\n",
      "  f\"evaluating in Python space because the {repr(op_str)} \"\n"
     ]
    },
    {
     "name": "stdout",
     "output_type": "stream",
     "text": [
      "Precision: 0.9907894736842106 \n",
      "Recall: 0.984313725490196 \n",
      "Aging Rate: 0.49673202614379086\n",
      "\u001b[32m[I 2021-11-25 23:46:15,915]\u001b[0m Trial 0 finished with value: 0.9292394389696561 and parameters: {'max_depth': 3, 'n_estimators': 250, 'learning_rate': 0.07500000000000001}. Best is trial 0 with value: 0.9292394389696561.\u001b[0m\n"
     ]
    },
    {
     "name": "stderr",
     "output_type": "stream",
     "text": [
      "C:\\Users\\user\\anaconda3\\envs\\aging\\lib\\site-packages\\pandas\\core\\computation\\expressions.py:205: UserWarning: evaluating in Python space because the '*' operator is not supported by numexpr for the bool dtype, use '&' instead\n",
      "  f\"evaluating in Python space because the {repr(op_str)} \"\n",
      "C:\\Users\\user\\anaconda3\\envs\\aging\\lib\\site-packages\\pandas\\core\\computation\\expressions.py:205: UserWarning: evaluating in Python space because the '*' operator is not supported by numexpr for the bool dtype, use '&' instead\n",
      "  f\"evaluating in Python space because the {repr(op_str)} \"\n"
     ]
    },
    {
     "name": "stdout",
     "output_type": "stream",
     "text": [
      "Precision: 0.9884615384615385 \n",
      "Recall: 0.9871959026888605 \n",
      "Aging Rate: 0.5098039215686274\n"
     ]
    },
    {
     "name": "stderr",
     "output_type": "stream",
     "text": [
      "C:\\Users\\user\\anaconda3\\envs\\aging\\lib\\site-packages\\pandas\\core\\computation\\expressions.py:205: UserWarning: evaluating in Python space because the '*' operator is not supported by numexpr for the bool dtype, use '&' instead\n",
      "  f\"evaluating in Python space because the {repr(op_str)} \"\n",
      "C:\\Users\\user\\anaconda3\\envs\\aging\\lib\\site-packages\\pandas\\core\\computation\\expressions.py:205: UserWarning: evaluating in Python space because the '*' operator is not supported by numexpr for the bool dtype, use '&' instead\n",
      "  f\"evaluating in Python space because the {repr(op_str)} \"\n"
     ]
    },
    {
     "name": "stdout",
     "output_type": "stream",
     "text": [
      "Precision: 0.9857512953367875 \n",
      "Recall: 0.9806701030927835 \n",
      "Aging Rate: 0.5045751633986928\n"
     ]
    },
    {
     "name": "stderr",
     "output_type": "stream",
     "text": [
      "C:\\Users\\user\\anaconda3\\envs\\aging\\lib\\site-packages\\pandas\\core\\computation\\expressions.py:205: UserWarning: evaluating in Python space because the '*' operator is not supported by numexpr for the bool dtype, use '&' instead\n",
      "  f\"evaluating in Python space because the {repr(op_str)} \"\n",
      "C:\\Users\\user\\anaconda3\\envs\\aging\\lib\\site-packages\\pandas\\core\\computation\\expressions.py:205: UserWarning: evaluating in Python space because the '*' operator is not supported by numexpr for the bool dtype, use '&' instead\n",
      "  f\"evaluating in Python space because the {repr(op_str)} \"\n",
      "\u001b[32m[I 2021-11-25 23:46:22,874]\u001b[0m A new study created in memory with name: no-name-7dd938cb-3f09-4e54-81e7-5e102e149bfe\u001b[0m\n"
     ]
    },
    {
     "name": "stdout",
     "output_type": "stream",
     "text": [
      "Precision: 0.9917355371900827 \n",
      "Recall: 0.975609756097561 \n",
      "Aging Rate: 0.4745098039215686\n",
      "\u001b[32m[I 2021-11-25 23:46:22,830]\u001b[0m Trial 1 finished with value: 0.9315289576634386 and parameters: {'max_depth': 3, 'n_estimators': 250, 'learning_rate': 0.17500000000000002}. Best is trial 1 with value: 0.9315289576634386.\u001b[0m\n",
      "Sampler is TPESampler\n",
      "Dataset9 :\n"
     ]
    },
    {
     "name": "stderr",
     "output_type": "stream",
     "text": [
      "C:\\Users\\user\\anaconda3\\envs\\aging\\lib\\site-packages\\optuna\\progress_bar.py:47: ExperimentalWarning: Progress bar is experimental (supported from v1.2.0). The interface can change in the future.\n",
      "  self._init_valid()\n"
     ]
    },
    {
     "data": {
      "application/vnd.jupyter.widget-view+json": {
       "model_id": "af96660ced3944328b9de5905b948002",
       "version_major": 2,
       "version_minor": 0
      },
      "text/plain": [
       "  0%|          | 0/2 [00:00<?, ?it/s]"
      ]
     },
     "metadata": {},
     "output_type": "display_data"
    },
    {
     "name": "stderr",
     "output_type": "stream",
     "text": [
      "C:\\Users\\user\\anaconda3\\envs\\aging\\lib\\site-packages\\pandas\\core\\computation\\expressions.py:205: UserWarning: evaluating in Python space because the '*' operator is not supported by numexpr for the bool dtype, use '&' instead\n",
      "  f\"evaluating in Python space because the {repr(op_str)} \"\n",
      "C:\\Users\\user\\anaconda3\\envs\\aging\\lib\\site-packages\\pandas\\core\\computation\\expressions.py:205: UserWarning: evaluating in Python space because the '*' operator is not supported by numexpr for the bool dtype, use '&' instead\n",
      "  f\"evaluating in Python space because the {repr(op_str)} \"\n"
     ]
    },
    {
     "name": "stdout",
     "output_type": "stream",
     "text": [
      "Precision: 0.8524590163934426 \n",
      "Recall: 0.8387096774193549 \n",
      "Aging Rate: 0.07244655581947744\n"
     ]
    },
    {
     "name": "stderr",
     "output_type": "stream",
     "text": [
      "C:\\Users\\user\\anaconda3\\envs\\aging\\lib\\site-packages\\pandas\\core\\computation\\expressions.py:205: UserWarning: evaluating in Python space because the '*' operator is not supported by numexpr for the bool dtype, use '&' instead\n",
      "  f\"evaluating in Python space because the {repr(op_str)} \"\n",
      "C:\\Users\\user\\anaconda3\\envs\\aging\\lib\\site-packages\\pandas\\core\\computation\\expressions.py:205: UserWarning: evaluating in Python space because the '*' operator is not supported by numexpr for the bool dtype, use '&' instead\n",
      "  f\"evaluating in Python space because the {repr(op_str)} \"\n"
     ]
    },
    {
     "name": "stdout",
     "output_type": "stream",
     "text": [
      "Precision: 0.8918918918918919 \n",
      "Recall: 0.7586206896551724 \n",
      "Aging Rate: 0.08788598574821853\n"
     ]
    },
    {
     "name": "stderr",
     "output_type": "stream",
     "text": [
      "C:\\Users\\user\\anaconda3\\envs\\aging\\lib\\site-packages\\pandas\\core\\computation\\expressions.py:205: UserWarning: evaluating in Python space because the '*' operator is not supported by numexpr for the bool dtype, use '&' instead\n",
      "  f\"evaluating in Python space because the {repr(op_str)} \"\n",
      "C:\\Users\\user\\anaconda3\\envs\\aging\\lib\\site-packages\\pandas\\core\\computation\\expressions.py:205: UserWarning: evaluating in Python space because the '*' operator is not supported by numexpr for the bool dtype, use '&' instead\n",
      "  f\"evaluating in Python space because the {repr(op_str)} \"\n"
     ]
    },
    {
     "name": "stdout",
     "output_type": "stream",
     "text": [
      "Precision: 0.8805970149253731 \n",
      "Recall: 0.7564102564102564 \n",
      "Aging Rate: 0.07957244655581948\n",
      "\u001b[32m[I 2021-11-25 23:46:24,549]\u001b[0m Trial 0 finished with value: 0.7765833748908108 and parameters: {'max_depth': 3, 'n_estimators': 100, 'learning_rate': 0.675}. Best is trial 0 with value: 0.7765833748908108.\u001b[0m\n"
     ]
    },
    {
     "name": "stderr",
     "output_type": "stream",
     "text": [
      "C:\\Users\\user\\anaconda3\\envs\\aging\\lib\\site-packages\\pandas\\core\\computation\\expressions.py:205: UserWarning: evaluating in Python space because the '*' operator is not supported by numexpr for the bool dtype, use '&' instead\n",
      "  f\"evaluating in Python space because the {repr(op_str)} \"\n",
      "C:\\Users\\user\\anaconda3\\envs\\aging\\lib\\site-packages\\pandas\\core\\computation\\expressions.py:205: UserWarning: evaluating in Python space because the '*' operator is not supported by numexpr for the bool dtype, use '&' instead\n",
      "  f\"evaluating in Python space because the {repr(op_str)} \"\n"
     ]
    },
    {
     "name": "stdout",
     "output_type": "stream",
     "text": [
      "Precision: 0.9423076923076923 \n",
      "Recall: 0.5568181818181818 \n",
      "Aging Rate: 0.06175771971496437\n"
     ]
    },
    {
     "name": "stderr",
     "output_type": "stream",
     "text": [
      "C:\\Users\\user\\anaconda3\\envs\\aging\\lib\\site-packages\\pandas\\core\\computation\\expressions.py:205: UserWarning: evaluating in Python space because the '*' operator is not supported by numexpr for the bool dtype, use '&' instead\n",
      "  f\"evaluating in Python space because the {repr(op_str)} \"\n",
      "C:\\Users\\user\\anaconda3\\envs\\aging\\lib\\site-packages\\pandas\\core\\computation\\expressions.py:205: UserWarning: evaluating in Python space because the '*' operator is not supported by numexpr for the bool dtype, use '&' instead\n",
      "  f\"evaluating in Python space because the {repr(op_str)} \"\n"
     ]
    },
    {
     "name": "stdout",
     "output_type": "stream",
     "text": [
      "Precision: 0.9230769230769231 \n",
      "Recall: 0.6075949367088608 \n",
      "Aging Rate: 0.06175771971496437\n"
     ]
    },
    {
     "name": "stderr",
     "output_type": "stream",
     "text": [
      "C:\\Users\\user\\anaconda3\\envs\\aging\\lib\\site-packages\\pandas\\core\\computation\\expressions.py:205: UserWarning: evaluating in Python space because the '*' operator is not supported by numexpr for the bool dtype, use '&' instead\n",
      "  f\"evaluating in Python space because the {repr(op_str)} \"\n",
      "C:\\Users\\user\\anaconda3\\envs\\aging\\lib\\site-packages\\pandas\\core\\computation\\expressions.py:205: UserWarning: evaluating in Python space because the '*' operator is not supported by numexpr for the bool dtype, use '&' instead\n",
      "  f\"evaluating in Python space because the {repr(op_str)} \"\n"
     ]
    },
    {
     "name": "stdout",
     "output_type": "stream",
     "text": [
      "Precision: 0.8548387096774194 \n",
      "Recall: 0.6091954022988506 \n",
      "Aging Rate: 0.07363420427553444\n",
      "\u001b[32m[I 2021-11-25 23:46:28,591]\u001b[0m Trial 1 finished with value: 0.5846311854851156 and parameters: {'max_depth': 2, 'n_estimators': 300, 'learning_rate': 0.125}. Best is trial 0 with value: 0.7765833748908108.\u001b[0m\n",
      "Sampler is TPESampler\n"
     ]
    }
   ],
   "source": [
    "best_paramC, all_scoreC = all_optuna(num_set = 10, \n",
    "                                     all_data = run_train, \n",
    "                                     mode = 'C', \n",
    "                                     TPE_multi = False, \n",
    "                                     n_iter = 25, \n",
    "                                     filename = 'runhist_array_m2m5_4selection_AdaBoost',\n",
    "                                     creator = AdaBoost_creator\n",
    "                                    )"
   ]
  },
  {
   "cell_type": "code",
   "execution_count": null,
   "metadata": {
    "ExecuteTime": {
     "end_time": "2021-10-15T04:46:54.967209Z",
     "start_time": "2021-10-15T03:57:32.566126Z"
    }
   },
   "outputs": [],
   "source": [
    "best_paramR, all_scoreR = all_optuna(num_set = 10, \n",
    "                                     all_data = run_train, \n",
    "                                     mode = 'R', \n",
    "                                     TPE_multi = True, \n",
    "                                     n_iter = 25,\n",
    "                                     filename = 'runhist_array_m2m5_4selection_AdaBoost',\n",
    "                                     creator = AdaBoost_creator\n",
    "                                    )"
   ]
  },
  {
   "cell_type": "code",
   "execution_count": null,
   "metadata": {},
   "outputs": [],
   "source": [
    "##### optimization history plot #####\n",
    "optuna_history(best_paramC, all_scoreC, num_row = 4, num_col = 3, model = 'AdaBoost Classifier')\n",
    "            \n",
    "##### best hyperparameter table #####\n",
    "param_table = pd.DataFrame(best_paramC).T\n",
    "param_table"
   ]
  },
  {
   "cell_type": "code",
   "execution_count": null,
   "metadata": {},
   "outputs": [],
   "source": [
    "##### constructing ......... #####\n",
    "study = optuna.create_study(sampler = optuna.samplers.TPESampler(multivariate = False), direction = 'maximize') \n",
    "#TPE, Random, Grid, CmaEs#\n",
    "objective = objective_creator(train_data = data_dict['set6'], mode = 'C', num_valid = 3)\n",
    "study.optimize(objective, n_trials = 5, show_progress_bar = True, gc_after_trial = True)\n",
    "\n",
    "\n",
    "##### hyperparameter importance #####\n",
    "#importances = optuna.importance.get_param_importances(study)\n",
    "#importances.optuna.importance.get_param_importances(study, evaluator = optuna.importance.FanovaImportanceEvaluator())\n",
    "importance_fig = optuna.visualization.plot_param_importances(study)\n",
    "slice_fig = optuna.visualization.plot_slice(study)\n",
    "importance_fig.show()\n",
    "slice_fig.show()"
   ]
  },
  {
   "cell_type": "markdown",
   "metadata": {},
   "source": [
    "## "
   ]
  },
  {
   "cell_type": "markdown",
   "metadata": {},
   "source": [
    "### classifier"
   ]
  },
  {
   "cell_type": "code",
   "execution_count": 11,
   "metadata": {
    "ExecuteTime": {
     "end_time": "2021-11-25T15:53:46.784006Z",
     "start_time": "2021-11-25T15:52:23.252301Z"
    }
   },
   "outputs": [
    {
     "data": {
      "application/vnd.jupyter.widget-view+json": {
       "model_id": "0394e21803c5404c972d07538b7aea41",
       "version_major": 2,
       "version_minor": 0
      },
      "text/plain": [
       "  0%|          | 0/10 [00:00<?, ?it/s]"
      ]
     },
     "metadata": {},
     "output_type": "display_data"
    },
    {
     "name": "stdout",
     "output_type": "stream",
     "text": [
      "\n",
      " Dataset 0:\n"
     ]
    },
    {
     "ename": "ValueError",
     "evalue": "X has 130 features, but DecisionTreeClassifier is expecting 129 features as input.",
     "output_type": "error",
     "traceback": [
      "\u001b[1;31m---------------------------------------------------------------------------\u001b[0m",
      "\u001b[1;31mValueError\u001b[0m                                Traceback (most recent call last)",
      "\u001b[1;32m<ipython-input-11-dffe1e51af63>\u001b[0m in \u001b[0;36m<module>\u001b[1;34m\u001b[0m\n\u001b[1;32m----> 1\u001b[1;33m \u001b[0mtable_setC\u001b[0m \u001b[1;33m=\u001b[0m \u001b[0mrunall_AdaBoostC\u001b[0m\u001b[1;33m(\u001b[0m\u001b[1;36m10\u001b[0m\u001b[1;33m,\u001b[0m \u001b[0mrun_train_x\u001b[0m\u001b[1;33m,\u001b[0m \u001b[0mrun_test_x\u001b[0m\u001b[1;33m,\u001b[0m \u001b[0mrun_train_y\u001b[0m\u001b[1;33m,\u001b[0m \u001b[0mrun_test_y\u001b[0m\u001b[1;33m,\u001b[0m \u001b[0mbest_paramC\u001b[0m\u001b[1;33m)\u001b[0m\u001b[1;33m\u001b[0m\u001b[1;33m\u001b[0m\u001b[0m\n\u001b[0m\u001b[0;32m      2\u001b[0m \u001b[0mline_chart\u001b[0m\u001b[1;33m(\u001b[0m\u001b[0mtable_setC\u001b[0m\u001b[1;33m,\u001b[0m \u001b[0mtitle\u001b[0m \u001b[1;33m=\u001b[0m \u001b[1;34m'AdaBoost Classifier'\u001b[0m\u001b[1;33m)\u001b[0m\u001b[1;33m\u001b[0m\u001b[1;33m\u001b[0m\u001b[0m\n",
      "\u001b[1;32m<ipython-input-7-bd131e5aaaa5>\u001b[0m in \u001b[0;36mrunall_AdaBoostC\u001b[1;34m(num_set, trainset_x, test_x, trainset_y, test_y, config)\u001b[0m\n\u001b[0;32m     38\u001b[0m         \u001b[0mboost_param\u001b[0m\u001b[1;33m.\u001b[0m\u001b[0mupdate\u001b[0m\u001b[1;33m(\u001b[0m\u001b[0mtree_param\u001b[0m\u001b[1;33m)\u001b[0m\u001b[1;33m\u001b[0m\u001b[1;33m\u001b[0m\u001b[0m\n\u001b[0;32m     39\u001b[0m \u001b[1;33m\u001b[0m\u001b[0m\n\u001b[1;32m---> 40\u001b[1;33m         \u001b[0mresult\u001b[0m \u001b[1;33m=\u001b[0m \u001b[0mAdaBoostC\u001b[0m\u001b[1;33m(\u001b[0m\u001b[0mtrainset_x\u001b[0m\u001b[1;33m[\u001b[0m\u001b[1;34mf'set{i}'\u001b[0m\u001b[1;33m]\u001b[0m\u001b[1;33m,\u001b[0m \u001b[0mtest_x\u001b[0m\u001b[1;33m,\u001b[0m \u001b[0mtrainset_y\u001b[0m\u001b[1;33m[\u001b[0m\u001b[1;34mf'set{i}'\u001b[0m\u001b[1;33m]\u001b[0m\u001b[1;33m,\u001b[0m \u001b[0mtest_y\u001b[0m\u001b[1;33m,\u001b[0m \u001b[0mboost_param\u001b[0m\u001b[1;33m)\u001b[0m\u001b[1;33m\u001b[0m\u001b[1;33m\u001b[0m\u001b[0m\n\u001b[0m\u001b[0;32m     41\u001b[0m         \u001b[0mtable\u001b[0m \u001b[1;33m=\u001b[0m \u001b[0mcf_matrix\u001b[0m\u001b[1;33m(\u001b[0m\u001b[0mresult\u001b[0m\u001b[1;33m,\u001b[0m \u001b[0mtrainset_y\u001b[0m\u001b[1;33m[\u001b[0m\u001b[1;34mf'set{i}'\u001b[0m\u001b[1;33m]\u001b[0m\u001b[1;33m)\u001b[0m\u001b[1;33m\u001b[0m\u001b[1;33m\u001b[0m\u001b[0m\n\u001b[0;32m     42\u001b[0m         \u001b[0mtable_set\u001b[0m \u001b[1;33m=\u001b[0m \u001b[0mpd\u001b[0m\u001b[1;33m.\u001b[0m\u001b[0mconcat\u001b[0m\u001b[1;33m(\u001b[0m\u001b[1;33m[\u001b[0m\u001b[0mtable_set\u001b[0m\u001b[1;33m,\u001b[0m \u001b[0mtable\u001b[0m\u001b[1;33m]\u001b[0m\u001b[1;33m)\u001b[0m\u001b[1;33m.\u001b[0m\u001b[0mrename\u001b[0m\u001b[1;33m(\u001b[0m\u001b[0mindex\u001b[0m \u001b[1;33m=\u001b[0m \u001b[1;33m{\u001b[0m\u001b[1;36m0\u001b[0m\u001b[1;33m:\u001b[0m \u001b[1;34mf'dataset {i}'\u001b[0m\u001b[1;33m}\u001b[0m\u001b[1;33m)\u001b[0m\u001b[1;33m\u001b[0m\u001b[1;33m\u001b[0m\u001b[0m\n",
      "\u001b[1;32m<ipython-input-7-bd131e5aaaa5>\u001b[0m in \u001b[0;36mAdaBoostC\u001b[1;34m(train_x, test_x, train_y, test_y, config)\u001b[0m\n\u001b[0;32m      3\u001b[0m     \u001b[0mclf\u001b[0m \u001b[1;33m=\u001b[0m \u001b[0mAdaBoostClassifier\u001b[0m\u001b[1;33m(\u001b[0m\u001b[1;33m**\u001b[0m\u001b[0mconfig\u001b[0m\u001b[1;33m)\u001b[0m\u001b[1;33m\u001b[0m\u001b[1;33m\u001b[0m\u001b[0m\n\u001b[0;32m      4\u001b[0m     \u001b[0mclf\u001b[0m\u001b[1;33m.\u001b[0m\u001b[0mfit\u001b[0m\u001b[1;33m(\u001b[0m\u001b[0mtrain_x\u001b[0m\u001b[1;33m,\u001b[0m \u001b[0mtrain_y\u001b[0m\u001b[1;33m)\u001b[0m\u001b[1;33m\u001b[0m\u001b[1;33m\u001b[0m\u001b[0m\n\u001b[1;32m----> 5\u001b[1;33m     \u001b[0mpredict_y\u001b[0m \u001b[1;33m=\u001b[0m \u001b[0mclf\u001b[0m\u001b[1;33m.\u001b[0m\u001b[0mpredict\u001b[0m\u001b[1;33m(\u001b[0m\u001b[0mtest_x\u001b[0m\u001b[1;33m)\u001b[0m\u001b[1;33m\u001b[0m\u001b[1;33m\u001b[0m\u001b[0m\n\u001b[0m\u001b[0;32m      6\u001b[0m     \u001b[0mresult\u001b[0m \u001b[1;33m=\u001b[0m \u001b[0mpd\u001b[0m\u001b[1;33m.\u001b[0m\u001b[0mDataFrame\u001b[0m\u001b[1;33m(\u001b[0m\u001b[1;33m{\u001b[0m\u001b[1;34m'truth'\u001b[0m\u001b[1;33m:\u001b[0m \u001b[0mtest_y\u001b[0m\u001b[1;33m,\u001b[0m \u001b[1;34m'predict'\u001b[0m\u001b[1;33m:\u001b[0m \u001b[0mpredict_y\u001b[0m\u001b[1;33m}\u001b[0m\u001b[1;33m)\u001b[0m\u001b[1;33m\u001b[0m\u001b[1;33m\u001b[0m\u001b[0m\n\u001b[0;32m      7\u001b[0m \u001b[1;33m\u001b[0m\u001b[0m\n",
      "\u001b[1;32m~\\anaconda3\\envs\\aging\\lib\\site-packages\\sklearn\\ensemble\\_weight_boosting.py\u001b[0m in \u001b[0;36mpredict\u001b[1;34m(self, X)\u001b[0m\n\u001b[0;32m    631\u001b[0m         \u001b[0mX\u001b[0m \u001b[1;33m=\u001b[0m \u001b[0mself\u001b[0m\u001b[1;33m.\u001b[0m\u001b[0m_check_X\u001b[0m\u001b[1;33m(\u001b[0m\u001b[0mX\u001b[0m\u001b[1;33m)\u001b[0m\u001b[1;33m\u001b[0m\u001b[1;33m\u001b[0m\u001b[0m\n\u001b[0;32m    632\u001b[0m \u001b[1;33m\u001b[0m\u001b[0m\n\u001b[1;32m--> 633\u001b[1;33m         \u001b[0mpred\u001b[0m \u001b[1;33m=\u001b[0m \u001b[0mself\u001b[0m\u001b[1;33m.\u001b[0m\u001b[0mdecision_function\u001b[0m\u001b[1;33m(\u001b[0m\u001b[0mX\u001b[0m\u001b[1;33m)\u001b[0m\u001b[1;33m\u001b[0m\u001b[1;33m\u001b[0m\u001b[0m\n\u001b[0m\u001b[0;32m    634\u001b[0m \u001b[1;33m\u001b[0m\u001b[0m\n\u001b[0;32m    635\u001b[0m         \u001b[1;32mif\u001b[0m \u001b[0mself\u001b[0m\u001b[1;33m.\u001b[0m\u001b[0mn_classes_\u001b[0m \u001b[1;33m==\u001b[0m \u001b[1;36m2\u001b[0m\u001b[1;33m:\u001b[0m\u001b[1;33m\u001b[0m\u001b[1;33m\u001b[0m\u001b[0m\n",
      "\u001b[1;32m~\\anaconda3\\envs\\aging\\lib\\site-packages\\sklearn\\ensemble\\_weight_boosting.py\u001b[0m in \u001b[0;36mdecision_function\u001b[1;34m(self, X)\u001b[0m\n\u001b[0;32m    701\u001b[0m             \u001b[1;31m# The weights are all 1. for SAMME.R\u001b[0m\u001b[1;33m\u001b[0m\u001b[1;33m\u001b[0m\u001b[1;33m\u001b[0m\u001b[0m\n\u001b[0;32m    702\u001b[0m             pred = sum(_samme_proba(estimator, n_classes, X)\n\u001b[1;32m--> 703\u001b[1;33m                        for estimator in self.estimators_)\n\u001b[0m\u001b[0;32m    704\u001b[0m         \u001b[1;32melse\u001b[0m\u001b[1;33m:\u001b[0m  \u001b[1;31m# self.algorithm == \"SAMME\"\u001b[0m\u001b[1;33m\u001b[0m\u001b[1;33m\u001b[0m\u001b[0m\n\u001b[0;32m    705\u001b[0m             pred = sum((estimator.predict(X) == classes).T * w\n",
      "\u001b[1;32m~\\anaconda3\\envs\\aging\\lib\\site-packages\\sklearn\\ensemble\\_weight_boosting.py\u001b[0m in \u001b[0;36m<genexpr>\u001b[1;34m(.0)\u001b[0m\n\u001b[0;32m    701\u001b[0m             \u001b[1;31m# The weights are all 1. for SAMME.R\u001b[0m\u001b[1;33m\u001b[0m\u001b[1;33m\u001b[0m\u001b[1;33m\u001b[0m\u001b[0m\n\u001b[0;32m    702\u001b[0m             pred = sum(_samme_proba(estimator, n_classes, X)\n\u001b[1;32m--> 703\u001b[1;33m                        for estimator in self.estimators_)\n\u001b[0m\u001b[0;32m    704\u001b[0m         \u001b[1;32melse\u001b[0m\u001b[1;33m:\u001b[0m  \u001b[1;31m# self.algorithm == \"SAMME\"\u001b[0m\u001b[1;33m\u001b[0m\u001b[1;33m\u001b[0m\u001b[0m\n\u001b[0;32m    705\u001b[0m             pred = sum((estimator.predict(X) == classes).T * w\n",
      "\u001b[1;32m~\\anaconda3\\envs\\aging\\lib\\site-packages\\sklearn\\ensemble\\_weight_boosting.py\u001b[0m in \u001b[0;36m_samme_proba\u001b[1;34m(estimator, n_classes, X)\u001b[0m\n\u001b[0;32m    271\u001b[0m \u001b[1;33m\u001b[0m\u001b[0m\n\u001b[0;32m    272\u001b[0m     \"\"\"\n\u001b[1;32m--> 273\u001b[1;33m     \u001b[0mproba\u001b[0m \u001b[1;33m=\u001b[0m \u001b[0mestimator\u001b[0m\u001b[1;33m.\u001b[0m\u001b[0mpredict_proba\u001b[0m\u001b[1;33m(\u001b[0m\u001b[0mX\u001b[0m\u001b[1;33m)\u001b[0m\u001b[1;33m\u001b[0m\u001b[1;33m\u001b[0m\u001b[0m\n\u001b[0m\u001b[0;32m    274\u001b[0m \u001b[1;33m\u001b[0m\u001b[0m\n\u001b[0;32m    275\u001b[0m     \u001b[1;31m# Displace zero probabilities so the log is defined.\u001b[0m\u001b[1;33m\u001b[0m\u001b[1;33m\u001b[0m\u001b[1;33m\u001b[0m\u001b[0m\n",
      "\u001b[1;32m~\\anaconda3\\envs\\aging\\lib\\site-packages\\sklearn\\tree\\_classes.py\u001b[0m in \u001b[0;36mpredict_proba\u001b[1;34m(self, X, check_input)\u001b[0m\n\u001b[0;32m    933\u001b[0m         \"\"\"\n\u001b[0;32m    934\u001b[0m         \u001b[0mcheck_is_fitted\u001b[0m\u001b[1;33m(\u001b[0m\u001b[0mself\u001b[0m\u001b[1;33m)\u001b[0m\u001b[1;33m\u001b[0m\u001b[1;33m\u001b[0m\u001b[0m\n\u001b[1;32m--> 935\u001b[1;33m         \u001b[0mX\u001b[0m \u001b[1;33m=\u001b[0m \u001b[0mself\u001b[0m\u001b[1;33m.\u001b[0m\u001b[0m_validate_X_predict\u001b[0m\u001b[1;33m(\u001b[0m\u001b[0mX\u001b[0m\u001b[1;33m,\u001b[0m \u001b[0mcheck_input\u001b[0m\u001b[1;33m)\u001b[0m\u001b[1;33m\u001b[0m\u001b[1;33m\u001b[0m\u001b[0m\n\u001b[0m\u001b[0;32m    936\u001b[0m         \u001b[0mproba\u001b[0m \u001b[1;33m=\u001b[0m \u001b[0mself\u001b[0m\u001b[1;33m.\u001b[0m\u001b[0mtree_\u001b[0m\u001b[1;33m.\u001b[0m\u001b[0mpredict\u001b[0m\u001b[1;33m(\u001b[0m\u001b[0mX\u001b[0m\u001b[1;33m)\u001b[0m\u001b[1;33m\u001b[0m\u001b[1;33m\u001b[0m\u001b[0m\n\u001b[0;32m    937\u001b[0m \u001b[1;33m\u001b[0m\u001b[0m\n",
      "\u001b[1;32m~\\anaconda3\\envs\\aging\\lib\\site-packages\\sklearn\\tree\\_classes.py\u001b[0m in \u001b[0;36m_validate_X_predict\u001b[1;34m(self, X, check_input)\u001b[0m\n\u001b[0;32m    406\u001b[0m         \u001b[1;32mif\u001b[0m \u001b[0mcheck_input\u001b[0m\u001b[1;33m:\u001b[0m\u001b[1;33m\u001b[0m\u001b[1;33m\u001b[0m\u001b[0m\n\u001b[0;32m    407\u001b[0m             X = self._validate_data(X, dtype=DTYPE, accept_sparse=\"csr\",\n\u001b[1;32m--> 408\u001b[1;33m                                     reset=False)\n\u001b[0m\u001b[0;32m    409\u001b[0m             if issparse(X) and (X.indices.dtype != np.intc or\n\u001b[0;32m    410\u001b[0m                                 X.indptr.dtype != np.intc):\n",
      "\u001b[1;32m~\\anaconda3\\envs\\aging\\lib\\site-packages\\sklearn\\base.py\u001b[0m in \u001b[0;36m_validate_data\u001b[1;34m(self, X, y, reset, validate_separately, **check_params)\u001b[0m\n\u001b[0;32m    435\u001b[0m \u001b[1;33m\u001b[0m\u001b[0m\n\u001b[0;32m    436\u001b[0m         \u001b[1;32mif\u001b[0m \u001b[0mcheck_params\u001b[0m\u001b[1;33m.\u001b[0m\u001b[0mget\u001b[0m\u001b[1;33m(\u001b[0m\u001b[1;34m'ensure_2d'\u001b[0m\u001b[1;33m,\u001b[0m \u001b[1;32mTrue\u001b[0m\u001b[1;33m)\u001b[0m\u001b[1;33m:\u001b[0m\u001b[1;33m\u001b[0m\u001b[1;33m\u001b[0m\u001b[0m\n\u001b[1;32m--> 437\u001b[1;33m             \u001b[0mself\u001b[0m\u001b[1;33m.\u001b[0m\u001b[0m_check_n_features\u001b[0m\u001b[1;33m(\u001b[0m\u001b[0mX\u001b[0m\u001b[1;33m,\u001b[0m \u001b[0mreset\u001b[0m\u001b[1;33m=\u001b[0m\u001b[0mreset\u001b[0m\u001b[1;33m)\u001b[0m\u001b[1;33m\u001b[0m\u001b[1;33m\u001b[0m\u001b[0m\n\u001b[0m\u001b[0;32m    438\u001b[0m \u001b[1;33m\u001b[0m\u001b[0m\n\u001b[0;32m    439\u001b[0m         \u001b[1;32mreturn\u001b[0m \u001b[0mout\u001b[0m\u001b[1;33m\u001b[0m\u001b[1;33m\u001b[0m\u001b[0m\n",
      "\u001b[1;32m~\\anaconda3\\envs\\aging\\lib\\site-packages\\sklearn\\base.py\u001b[0m in \u001b[0;36m_check_n_features\u001b[1;34m(self, X, reset)\u001b[0m\n\u001b[0;32m    364\u001b[0m         \u001b[1;32mif\u001b[0m \u001b[0mn_features\u001b[0m \u001b[1;33m!=\u001b[0m \u001b[0mself\u001b[0m\u001b[1;33m.\u001b[0m\u001b[0mn_features_in_\u001b[0m\u001b[1;33m:\u001b[0m\u001b[1;33m\u001b[0m\u001b[1;33m\u001b[0m\u001b[0m\n\u001b[0;32m    365\u001b[0m             raise ValueError(\n\u001b[1;32m--> 366\u001b[1;33m                 \u001b[1;34mf\"X has {n_features} features, but {self.__class__.__name__} \"\u001b[0m\u001b[1;33m\u001b[0m\u001b[1;33m\u001b[0m\u001b[0m\n\u001b[0m\u001b[0;32m    367\u001b[0m                 f\"is expecting {self.n_features_in_} features as input.\")\n\u001b[0;32m    368\u001b[0m \u001b[1;33m\u001b[0m\u001b[0m\n",
      "\u001b[1;31mValueError\u001b[0m: X has 130 features, but DecisionTreeClassifier is expecting 129 features as input."
     ]
    }
   ],
   "source": [
    "table_setC = runall_AdaBoostC(10, run_train_x, run_test_x, run_train_y, run_test_y, best_paramC)\n",
    "line_chart(table_setC, title = 'AdaBoost Classifier')"
   ]
  },
  {
   "cell_type": "code",
   "execution_count": null,
   "metadata": {
    "ExecuteTime": {
     "end_time": "2021-11-25T15:53:46.786000Z",
     "start_time": "2021-11-25T15:52:24.041Z"
    }
   },
   "outputs": [],
   "source": [
    "table_setC"
   ]
  },
  {
   "cell_type": "markdown",
   "metadata": {},
   "source": [
    "### regressor"
   ]
  },
  {
   "cell_type": "code",
   "execution_count": null,
   "metadata": {
    "ExecuteTime": {
     "end_time": "2021-10-15T15:28:21.485694Z",
     "start_time": "2021-10-15T15:27:48.208319Z"
    }
   },
   "outputs": [],
   "source": [
    "pr_dict, table_setR = runall_AdaBoostR(10, run_train_x, run_test_x, run_train_y, run_test_y, best_paramR,\n",
    "                                      thres_target = 'Recall', threshold = 0.7)\n",
    "line_chart(table_setR, title = 'AdaBoost Regressor')"
   ]
  },
  {
   "cell_type": "code",
   "execution_count": null,
   "metadata": {
    "ExecuteTime": {
     "end_time": "2021-10-15T15:29:31.012535Z",
     "start_time": "2021-10-15T15:29:29.203379Z"
    }
   },
   "outputs": [],
   "source": [
    "multiple_curve(4, 3, pr_dict, table_setR, target = 'Aging Rate')\n",
    "multiple_curve(4, 3, pr_dict, table_setR, target = 'Precision')\n",
    "table_setR"
   ]
  },
  {
   "cell_type": "markdown",
   "metadata": {},
   "source": [
    "### export"
   ]
  },
  {
   "cell_type": "code",
   "execution_count": null,
   "metadata": {
    "ExecuteTime": {
     "end_time": "2021-10-15T04:51:03.479926Z",
     "start_time": "2021-10-15T04:51:03.073770Z"
    }
   },
   "outputs": [],
   "source": [
    "savedate = '20211019'\n",
    "TPE_multi = False\n",
    "\n",
    "table_setC['sampler'] = 'multivariate-TPE' if TPE_multi else 'univariate-TPE'\n",
    "table_setC['model'] = 'AdaBoost'\n",
    "with pd.ExcelWriter(f'{savedate}_Classifier.xlsx', mode = 'a') as writer:\n",
    "    table_setC.to_excel(writer, sheet_name = 'AdaBoost')"
   ]
  }
 ],
 "metadata": {
  "hide_input": false,
  "kernelspec": {
   "display_name": "Python [conda env:aging]",
   "language": "python",
   "name": "conda-env-aging-py"
  },
  "language_info": {
   "codemirror_mode": {
    "name": "ipython",
    "version": 3
   },
   "file_extension": ".py",
   "mimetype": "text/x-python",
   "name": "python",
   "nbconvert_exporter": "python",
   "pygments_lexer": "ipython3",
   "version": "3.7.10"
  },
  "toc": {
   "base_numbering": 1,
   "nav_menu": {},
   "number_sections": true,
   "sideBar": true,
   "skip_h1_title": false,
   "title_cell": "Table of Contents",
   "title_sidebar": "Contents",
   "toc_cell": false,
   "toc_position": {},
   "toc_section_display": true,
   "toc_window_display": false
  },
  "varInspector": {
   "cols": {
    "lenName": 16,
    "lenType": 16,
    "lenVar": 40
   },
   "kernels_config": {
    "python": {
     "delete_cmd_postfix": "",
     "delete_cmd_prefix": "del ",
     "library": "var_list.py",
     "varRefreshCmd": "print(var_dic_list())"
    },
    "r": {
     "delete_cmd_postfix": ") ",
     "delete_cmd_prefix": "rm(",
     "library": "var_list.r",
     "varRefreshCmd": "cat(var_dic_list()) "
    }
   },
   "types_to_exclude": [
    "module",
    "function",
    "builtin_function_or_method",
    "instance",
    "_Feature"
   ],
   "window_display": false
  }
 },
 "nbformat": 4,
 "nbformat_minor": 4
}
