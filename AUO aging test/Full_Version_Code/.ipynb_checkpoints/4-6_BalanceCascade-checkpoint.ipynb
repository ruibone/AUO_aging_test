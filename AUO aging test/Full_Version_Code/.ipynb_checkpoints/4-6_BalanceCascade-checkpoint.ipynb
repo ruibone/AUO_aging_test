{
 "cells": [
  {
   "cell_type": "code",
   "execution_count": 1,
   "metadata": {
    "ExecuteTime": {
     "end_time": "2022-01-10T13:01:28.619228Z",
     "start_time": "2022-01-10T13:01:27.331402Z"
    }
   },
   "outputs": [
    {
     "data": {
      "text/plain": [
       "'C:\\\\Users\\\\user\\\\Desktop\\\\Darui_R08621110'"
      ]
     },
     "execution_count": 1,
     "metadata": {},
     "output_type": "execute_result"
    }
   ],
   "source": [
    "import os\n",
    "import numpy as np\n",
    "import pandas as pd\n",
    "import pickle\n",
    "import random\n",
    "from tqdm.auto import tqdm\n",
    "import matplotlib.pyplot as plt\n",
    "\n",
    "from lightgbm import LGBMClassifier\n",
    "import optuna\n",
    "from sklearn.model_selection import train_test_split\n",
    "from sklearn.ensemble import RandomForestClassifier\n",
    "\n",
    "from library.Data_Preprocessing import Balance_Ratio\n",
    "from library.Imbalance_Sampling import label_divide\n",
    "from library.Aging_Score_Contour import score1\n",
    "from library.AdaBoost import train_set, multiple_set, multiple_month, line_chart, cf_matrix\n",
    "\n",
    "os.chdir('C:/Users/user/Desktop/Darui_R08621110') \n",
    "os.getcwd()"
   ]
  },
  {
   "cell_type": "markdown",
   "metadata": {},
   "source": [
    "## "
   ]
  },
  {
   "cell_type": "markdown",
   "metadata": {},
   "source": [
    "### balance cascade"
   ]
  },
  {
   "cell_type": "code",
   "execution_count": 2,
   "metadata": {
    "ExecuteTime": {
     "end_time": "2022-01-10T13:01:28.838893Z",
     "start_time": "2022-01-10T13:01:28.807851Z"
    }
   },
   "outputs": [],
   "source": [
    "def cascade_training(train_data, clf_config, classifier = 'LightGBM', num_iter = 10):\n",
    "  \n",
    "    good = train_data[train_data.GB == 0]\n",
    "    bad = train_data[train_data.GB == 1]\n",
    "    br = len(bad)/len(good)\n",
    "    false_rate = br**(1/(num_iter - 1))\n",
    "    \n",
    "    keep_good = {}\n",
    "    clf_threshold = []\n",
    "    clf_cascade = {}\n",
    "    for j, i in enumerate(range(num_iter)):\n",
    "        keep_good[j] = good\n",
    "        if j != (num_iter - 1):\n",
    "            draw = random.sample(good.index.to_list(), len(bad))\n",
    "            train_g = good.loc[draw]\n",
    "            train_b = bad.copy()\n",
    "            train_combine = pd.concat([train_g, train_b], axis = 0)\n",
    "        elif j == (num_iter - 1):\n",
    "            train_combine = pd.concat([good, bad], axis = 0)\n",
    "\n",
    "        valid_g = good.copy()\n",
    "        train_x, train_y, valid_x, valid_y = label_divide(train_combine, valid_g, 'GB', train_only = False)\n",
    "        if classifier == 'LightGBM':\n",
    "            clf = LGBMClassifier(**clf_config)\n",
    "        elif classifier == 'RandomForest':\n",
    "            clf = RandomForestClassifier(**clf_config)\n",
    "        clf.fit(train_x, train_y)\n",
    "        predict = clf.predict_proba(valid_x)[:, 1]\n",
    "        predict_df = pd.DataFrame(dict(predict = predict), index = valid_x.index)\n",
    "        predict_df = predict_df.sort_values(by = 'predict', ascending = False)\n",
    "        keep_num = int(len(predict_df)*false_rate)\n",
    "        keep_index = predict_df.index[:keep_num]\n",
    "        threshold = predict_df.loc[keep_index[-1]].values[0]\n",
    "        clf_threshold.append(threshold)\n",
    "        clf_cascade[j] = clf\n",
    "\n",
    "        if j != (num_iter - 1):\n",
    "            good = good.loc[keep_index]\n",
    "        \n",
    "        return clf_cascade, clf_threshold, keep_good\n",
    "    \n",
    "    \n",
    "def cascade_testing(test_data, clf_cascade, clf_threshold):\n",
    "    \n",
    "    if isinstance(clf_threshold, int):\n",
    "        clf_threshold = [clf_threshold]*len(clf_cascade)\n",
    "    \n",
    "    test_x, test_y = label_divide(test_data, 'GB', train_only = True)\n",
    "    predict_df = pd.DataFrame()\n",
    "    for i in range(len(clf_cascade)):\n",
    "        clf = clf_cascade[i]\n",
    "        predict = clf.predict_proba(test_x)[:, 1]\n",
    "        answer = (predict > clf_threshold[i]).astype(int)\n",
    "        predict = pd.DataFrame({str(i): answer})\n",
    "        predict_df = pd.concat([predict_df, predict], axis = 1)\n",
    "    predict_y = (predict_df.apply(sum, axis = 1) == len(clf_cascade)).astype(int)\n",
    "    result = pd.DataFrame(dict(predict = predict_y, truth = test_y))\n",
    "    \n",
    "    return result\n",
    "\n",
    "\n",
    "def runall_cascade(train_set, test_data, config, classifier = 'LightGBM', num_iter = 10):\n",
    "    \n",
    "    num_set = len(train_set)\n",
    "    table_set = pd.DataFrame()\n",
    "    for i in range(num_set):\n",
    "        print('\\n', f'Dataset {i}:')\n",
    "        clf_cascade, clf_threshold, _ = cascade_training(train_set[f'set{i}'], config[f'set{i}'], classifier = classifier,\n",
    "                                                        num_iter = num_iter)\n",
    "        result = cascade_testing(test_data, clf_cascade, clf_threshold)\n",
    "        table = cf_matrix(result, train_set[f'set{i}'].GB)\n",
    "        table_set = pd.concat([table_set, table]).rename(index = {0: f'dataset {i}'})\n",
    "    \n",
    "    return table_set"
   ]
  },
  {
   "cell_type": "markdown",
   "metadata": {},
   "source": [
    "## "
   ]
  },
  {
   "cell_type": "markdown",
   "metadata": {},
   "source": [
    "### loading hyperparameters & datasets"
   ]
  },
  {
   "cell_type": "code",
   "execution_count": 131,
   "metadata": {
    "ExecuteTime": {
     "end_time": "2022-01-17T08:23:18.899229Z",
     "start_time": "2022-01-17T08:23:09.181937Z"
    },
    "scrolled": true
   },
   "outputs": [
    {
     "name": "stdout",
     "output_type": "stream",
     "text": [
      "\n",
      "Month 2:\n",
      "\n",
      "Dimension of dataset 0 : (39009, 88)  balance ratio: 564.35\n",
      "Dimension of dataset 1 : (22715, 88)  balance ratio: 10.0\n",
      "Dimension of dataset 2 : (27181, 88)  balance ratio: 10.0\n",
      "Dimension of dataset 3 : (23485, 88)  balance ratio: 10.0\n",
      "Dimension of dataset 4 : (22759, 88)  balance ratio: 10.0\n",
      "Dimension of dataset 5 : (22765, 88)  balance ratio: 10.02\n",
      "Dimension of dataset 6 : (23158, 88)  balance ratio: 8.42\n",
      "Dimension of dataset 7 : (22832, 88)  balance ratio: 9.71\n",
      "Dimension of dataset 8 : (22770, 88)  balance ratio: 10.0\n",
      "Dimension of dataset 9 : (759, 88)  balance ratio: 10.0\n",
      "\n",
      " 10 datasets are loaded.\n",
      "\n",
      "Labels of  10 datasets are divided.\n",
      "\n",
      "Month 3:\n",
      "\n",
      "Dimension of dataset 0 : (60396, 97)  balance ratio: 533.48\n",
      "Dimension of dataset 1 : (37543, 97)  balance ratio: 10.0\n",
      "Dimension of dataset 2 : (43483, 97)  balance ratio: 10.0\n",
      "Dimension of dataset 3 : (38456, 97)  balance ratio: 10.0\n",
      "Dimension of dataset 4 : (37279, 97)  balance ratio: 10.0\n",
      "Dimension of dataset 5 : (37297, 97)  balance ratio: 9.98\n",
      "Dimension of dataset 6 : (37826, 97)  balance ratio: 8.63\n",
      "Dimension of dataset 7 : (37391, 97)  balance ratio: 9.71\n",
      "Dimension of dataset 8 : (37290, 97)  balance ratio: 10.0\n",
      "Dimension of dataset 9 : (1243, 97)  balance ratio: 10.0\n",
      "\n",
      " 10 datasets are loaded.\n",
      "\n",
      "Labels of  10 datasets are divided.\n",
      "\n",
      "Month 4:\n",
      "\n",
      "Dimension of dataset 0 : (57743, 100)  balance ratio: 472.3\n",
      "Dimension of dataset 1 : (39952, 100)  balance ratio: 10.0\n",
      "Dimension of dataset 2 : (46684, 100)  balance ratio: 10.0\n",
      "Dimension of dataset 3 : (41514, 100)  balance ratio: 10.0\n",
      "Dimension of dataset 4 : (40260, 100)  balance ratio: 10.0\n",
      "Dimension of dataset 5 : (40232, 100)  balance ratio: 10.08\n",
      "Dimension of dataset 6 : (40857, 100)  balance ratio: 8.6\n",
      "Dimension of dataset 7 : (40369, 100)  balance ratio: 9.71\n",
      "Dimension of dataset 8 : (40260, 100)  balance ratio: 10.0\n",
      "Dimension of dataset 9 : (1342, 100)  balance ratio: 10.0\n",
      "\n",
      " 10 datasets are loaded.\n",
      "\n",
      "Labels of  10 datasets are divided.\n",
      "\n",
      "Combined training data:\n",
      "\n",
      "Dimension of dataset 0 : (157148, 128)  balance ratio: 515.93\n",
      "Dimension of dataset 1 : (100210, 128)  balance ratio: 10.0\n",
      "Dimension of dataset 2 : (117348, 128)  balance ratio: 10.0\n",
      "Dimension of dataset 3 : (103455, 128)  balance ratio: 10.0\n",
      "Dimension of dataset 4 : (100298, 128)  balance ratio: 10.0\n",
      "Dimension of dataset 5 : (100294, 128)  balance ratio: 10.03\n",
      "Dimension of dataset 6 : (101841, 128)  balance ratio: 8.57\n",
      "Dimension of dataset 7 : (100592, 128)  balance ratio: 9.71\n",
      "Dimension of dataset 8 : (100320, 128)  balance ratio: 10.0\n",
      "Dimension of dataset 9 : (3344, 128)  balance ratio: 10.0\n",
      "\n",
      " 10 datasets are loaded.\n",
      "\n",
      "Labels of  10 datasets are divided.\n",
      "\n",
      " Dimension of testing data: (48649, 128)\n"
     ]
    }
   ],
   "source": [
    "### training data ###\n",
    "training_month = range(2, 5)\n",
    "\n",
    "data_dict, trainset_x, trainset_y = multiple_month(training_month, num_set = 10, filename = 'dataset')\n",
    "\n",
    "print('\\nCombined training data:\\n')\n",
    "run_train = multiple_set(num_set = 10)\n",
    "run_train_x, run_train_y = train_set(run_train, num_set = 10)\n",
    "\n",
    "### testing data ###\n",
    "run_test = pd.read_csv('test_runhist.csv').iloc[:, 2:]\n",
    "run_test_x, run_test_y = label_divide(run_test, None, 'GB', train_only = True)\n",
    "print('\\n', 'Dimension of testing data:', run_test.shape)"
   ]
  },
  {
   "cell_type": "code",
   "execution_count": 159,
   "metadata": {
    "ExecuteTime": {
     "end_time": "2022-01-17T08:28:46.774028Z",
     "start_time": "2022-01-17T08:28:46.765052Z"
    }
   },
   "outputs": [],
   "source": [
    "TPE_multi = False\n",
    "base_learner = 'LightGBM'\n",
    "\n",
    "iteration = 200 if base_learner == 'LightGBM' else 50\n",
    "TPE = 'multivariate-TPE' if TPE_multi else 'univariate-TPE'\n",
    "with open(f'hyperparameter/20211221/runhist_array_m2m4_m5_3criteria_{base_learner}C_{TPE}_{iteration}.data', 'rb') as f:\n",
    "    best_paramC = pickle.load(f)"
   ]
  },
  {
   "cell_type": "markdown",
   "metadata": {},
   "source": [
    "### classifier"
   ]
  },
  {
   "cell_type": "code",
   "execution_count": 160,
   "metadata": {
    "ExecuteTime": {
     "end_time": "2022-01-17T08:28:59.027290Z",
     "start_time": "2022-01-17T08:28:49.202672Z"
    },
    "scrolled": true
   },
   "outputs": [
    {
     "name": "stdout",
     "output_type": "stream",
     "text": [
      "\n",
      " Dataset 0:\n",
      "Precision: 0.0009265528669683903 \n",
      "Recall: 0.5098039215686274 \n",
      "Aging Rate: 0.5768052786285432\n",
      "\n",
      " Dataset 1:\n",
      "Precision: 0.0010577940186556399 \n",
      "Recall: 0.8627450980392157 \n",
      "Aging Rate: 0.8550227137248453\n",
      "\n",
      " Dataset 2:\n",
      "Precision: 0.0010446528351392061 \n",
      "Recall: 0.8431372549019608 \n",
      "Aging Rate: 0.8461016670435157\n",
      "\n",
      " Dataset 3:\n",
      "Precision: 0.0011418298430591323 \n",
      "Recall: 0.9215686274509803 \n",
      "Aging Rate: 0.8461016670435157\n",
      "\n",
      " Dataset 4:\n",
      "Precision: 0.0011051894785961637 \n",
      "Recall: 0.8823529411764706 \n",
      "Aging Rate: 0.836954510884088\n",
      "\n",
      " Dataset 5:\n",
      "Precision: 0.0011249670887287873 \n",
      "Recall: 0.9215686274509803 \n",
      "Aging Rate: 0.8587843532241156\n",
      "\n",
      " Dataset 6:\n",
      "Precision: 0.0010504458287529008 \n",
      "Recall: 0.8431372549019608 \n",
      "Aging Rate: 0.8414355896318526\n",
      "\n",
      " Dataset 7:\n",
      "Precision: 0.0011471528642210344 \n",
      "Recall: 0.9215686274509803 \n",
      "Aging Rate: 0.8421755842874468\n",
      "\n",
      " Dataset 8:\n",
      "Precision: 0.0011441926138715097 \n",
      "Recall: 0.9215686274509803 \n",
      "Aging Rate: 0.8443544574400296\n",
      "\n",
      " Dataset 9:\n",
      "Precision: 0.001054629824931449 \n",
      "Recall: 0.9803921568627451 \n",
      "Aging Rate: 0.9745318506033012\n"
     ]
    },
    {
     "data": {
      "image/png": "[encoded data removed]",
      "text/plain": [
       "<Figure size 1080x576 with 2 Axes>"
      ]
     },
     "metadata": {
      "needs_background": "light"
     },
     "output_type": "display_data"
    }
   ],
   "source": [
    "table_setC = runall_cascade(run_train, run_test, best_paramC, classifier = base_learner, num_iter = 15)\n",
    "line_chart(table_setC, title = f'Balance Cascade Classifier ({base_learner})')"
   ]
  },
  {
   "cell_type": "code",
   "execution_count": 137,
   "metadata": {
    "ExecuteTime": {
     "end_time": "2022-01-17T08:24:40.667453Z",
     "start_time": "2022-01-17T08:24:40.649136Z"
    }
   },
   "outputs": [
    {
     "data": {
      "text/html": [
       "<div>\n",
       "<style scoped>\n",
       "    .dataframe tbody tr th:only-of-type {\n",
       "        vertical-align: middle;\n",
       "    }\n",
       "\n",
       "    .dataframe tbody tr th {\n",
       "        vertical-align: top;\n",
       "    }\n",
       "\n",
       "    .dataframe thead th {\n",
       "        text-align: right;\n",
       "    }\n",
       "</style>\n",
       "<table border=\"1\" class=\"dataframe\">\n",
       "  <thead>\n",
       "    <tr style=\"text-align: right;\">\n",
       "      <th></th>\n",
       "      <th>Balance Ratio</th>\n",
       "      <th>Train_OK</th>\n",
       "      <th>Train_NG</th>\n",
       "      <th>TP</th>\n",
       "      <th>FP</th>\n",
       "      <th>FN</th>\n",
       "      <th>TN</th>\n",
       "      <th>Precision</th>\n",
       "      <th>Recall</th>\n",
       "      <th>Aging Rate</th>\n",
       "      <th>Efficiency</th>\n",
       "      <th>Score</th>\n",
       "    </tr>\n",
       "  </thead>\n",
       "  <tbody>\n",
       "    <tr>\n",
       "      <th>dataset 0</th>\n",
       "      <td>515.934211</td>\n",
       "      <td>156844.0</td>\n",
       "      <td>304.0</td>\n",
       "      <td>0.0</td>\n",
       "      <td>226.0</td>\n",
       "      <td>51.0</td>\n",
       "      <td>48372.0</td>\n",
       "      <td>0.000000</td>\n",
       "      <td>0.000000</td>\n",
       "      <td>0.004646</td>\n",
       "      <td>0.000000</td>\n",
       "      <td>0.000000</td>\n",
       "    </tr>\n",
       "    <tr>\n",
       "      <th>dataset 1</th>\n",
       "      <td>10.000000</td>\n",
       "      <td>91100.0</td>\n",
       "      <td>9110.0</td>\n",
       "      <td>0.0</td>\n",
       "      <td>0.0</td>\n",
       "      <td>51.0</td>\n",
       "      <td>48598.0</td>\n",
       "      <td>0.000000</td>\n",
       "      <td>0.000000</td>\n",
       "      <td>0.000000</td>\n",
       "      <td>0.000000</td>\n",
       "      <td>NaN</td>\n",
       "    </tr>\n",
       "    <tr>\n",
       "      <th>dataset 2</th>\n",
       "      <td>10.000000</td>\n",
       "      <td>106680.0</td>\n",
       "      <td>10668.0</td>\n",
       "      <td>7.0</td>\n",
       "      <td>5288.0</td>\n",
       "      <td>44.0</td>\n",
       "      <td>43310.0</td>\n",
       "      <td>0.001322</td>\n",
       "      <td>0.137255</td>\n",
       "      <td>0.108841</td>\n",
       "      <td>1.261060</td>\n",
       "      <td>0.111977</td>\n",
       "    </tr>\n",
       "    <tr>\n",
       "      <th>dataset 3</th>\n",
       "      <td>10.000000</td>\n",
       "      <td>94050.0</td>\n",
       "      <td>9405.0</td>\n",
       "      <td>8.0</td>\n",
       "      <td>5765.0</td>\n",
       "      <td>43.0</td>\n",
       "      <td>42833.0</td>\n",
       "      <td>0.001386</td>\n",
       "      <td>0.156863</td>\n",
       "      <td>0.118666</td>\n",
       "      <td>1.321880</td>\n",
       "      <td>0.132138</td>\n",
       "    </tr>\n",
       "    <tr>\n",
       "      <th>dataset 4</th>\n",
       "      <td>10.000000</td>\n",
       "      <td>91180.0</td>\n",
       "      <td>9118.0</td>\n",
       "      <td>10.0</td>\n",
       "      <td>6846.0</td>\n",
       "      <td>41.0</td>\n",
       "      <td>41752.0</td>\n",
       "      <td>0.001459</td>\n",
       "      <td>0.196078</td>\n",
       "      <td>0.140928</td>\n",
       "      <td>1.391339</td>\n",
       "      <td>0.170952</td>\n",
       "    </tr>\n",
       "    <tr>\n",
       "      <th>dataset 5</th>\n",
       "      <td>10.028590</td>\n",
       "      <td>91200.0</td>\n",
       "      <td>9094.0</td>\n",
       "      <td>8.0</td>\n",
       "      <td>6853.0</td>\n",
       "      <td>43.0</td>\n",
       "      <td>41745.0</td>\n",
       "      <td>0.001166</td>\n",
       "      <td>0.156863</td>\n",
       "      <td>0.141031</td>\n",
       "      <td>1.112260</td>\n",
       "      <td>0.117295</td>\n",
       "    </tr>\n",
       "    <tr>\n",
       "      <th>dataset 6</th>\n",
       "      <td>8.570623</td>\n",
       "      <td>91200.0</td>\n",
       "      <td>10641.0</td>\n",
       "      <td>8.0</td>\n",
       "      <td>6021.0</td>\n",
       "      <td>43.0</td>\n",
       "      <td>42577.0</td>\n",
       "      <td>0.001327</td>\n",
       "      <td>0.156863</td>\n",
       "      <td>0.123929</td>\n",
       "      <td>1.265751</td>\n",
       "      <td>0.128299</td>\n",
       "    </tr>\n",
       "    <tr>\n",
       "      <th>dataset 7</th>\n",
       "      <td>9.710392</td>\n",
       "      <td>91200.0</td>\n",
       "      <td>9392.0</td>\n",
       "      <td>9.0</td>\n",
       "      <td>7049.0</td>\n",
       "      <td>42.0</td>\n",
       "      <td>41549.0</td>\n",
       "      <td>0.001275</td>\n",
       "      <td>0.176471</td>\n",
       "      <td>0.145080</td>\n",
       "      <td>1.216367</td>\n",
       "      <td>0.140448</td>\n",
       "    </tr>\n",
       "    <tr>\n",
       "      <th>dataset 8</th>\n",
       "      <td>10.000000</td>\n",
       "      <td>91200.0</td>\n",
       "      <td>9120.0</td>\n",
       "      <td>10.0</td>\n",
       "      <td>6126.0</td>\n",
       "      <td>41.0</td>\n",
       "      <td>42472.0</td>\n",
       "      <td>0.001630</td>\n",
       "      <td>0.196078</td>\n",
       "      <td>0.126128</td>\n",
       "      <td>1.554599</td>\n",
       "      <td>0.183901</td>\n",
       "    </tr>\n",
       "    <tr>\n",
       "      <th>dataset 9</th>\n",
       "      <td>10.000000</td>\n",
       "      <td>3040.0</td>\n",
       "      <td>304.0</td>\n",
       "      <td>35.0</td>\n",
       "      <td>30854.0</td>\n",
       "      <td>16.0</td>\n",
       "      <td>17744.0</td>\n",
       "      <td>0.001133</td>\n",
       "      <td>0.686275</td>\n",
       "      <td>0.634936</td>\n",
       "      <td>1.080856</td>\n",
       "      <td>0.502888</td>\n",
       "    </tr>\n",
       "  </tbody>\n",
       "</table>\n",
       "</div>"
      ],
      "text/plain": [
       "           Balance Ratio  Train_OK  Train_NG    TP       FP    FN       TN  \\\n",
       "dataset 0     515.934211  156844.0     304.0   0.0    226.0  51.0  48372.0   \n",
       "dataset 1      10.000000   91100.0    9110.0   0.0      0.0  51.0  48598.0   \n",
       "dataset 2      10.000000  106680.0   10668.0   7.0   5288.0  44.0  43310.0   \n",
       "dataset 3      10.000000   94050.0    9405.0   8.0   5765.0  43.0  42833.0   \n",
       "dataset 4      10.000000   91180.0    9118.0  10.0   6846.0  41.0  41752.0   \n",
       "dataset 5      10.028590   91200.0    9094.0   8.0   6853.0  43.0  41745.0   \n",
       "dataset 6       8.570623   91200.0   10641.0   8.0   6021.0  43.0  42577.0   \n",
       "dataset 7       9.710392   91200.0    9392.0   9.0   7049.0  42.0  41549.0   \n",
       "dataset 8      10.000000   91200.0    9120.0  10.0   6126.0  41.0  42472.0   \n",
       "dataset 9      10.000000    3040.0     304.0  35.0  30854.0  16.0  17744.0   \n",
       "\n",
       "           Precision    Recall  Aging Rate  Efficiency     Score  \n",
       "dataset 0   0.000000  0.000000    0.004646    0.000000  0.000000  \n",
       "dataset 1   0.000000  0.000000    0.000000    0.000000       NaN  \n",
       "dataset 2   0.001322  0.137255    0.108841    1.261060  0.111977  \n",
       "dataset 3   0.001386  0.156863    0.118666    1.321880  0.132138  \n",
       "dataset 4   0.001459  0.196078    0.140928    1.391339  0.170952  \n",
       "dataset 5   0.001166  0.156863    0.141031    1.112260  0.117295  \n",
       "dataset 6   0.001327  0.156863    0.123929    1.265751  0.128299  \n",
       "dataset 7   0.001275  0.176471    0.145080    1.216367  0.140448  \n",
       "dataset 8   0.001630  0.196078    0.126128    1.554599  0.183901  \n",
       "dataset 9   0.001133  0.686275    0.634936    1.080856  0.502888  "
      ]
     },
     "execution_count": 137,
     "metadata": {},
     "output_type": "execute_result"
    }
   ],
   "source": [
    "table_setC"
   ]
  },
  {
   "cell_type": "markdown",
   "metadata": {},
   "source": [
    "### export"
   ]
  },
  {
   "cell_type": "code",
   "execution_count": 161,
   "metadata": {
    "ExecuteTime": {
     "end_time": "2022-01-17T08:29:05.030228Z",
     "start_time": "2022-01-17T08:29:04.821344Z"
    }
   },
   "outputs": [],
   "source": [
    "savedate = '20220118'\n",
    "\n",
    "table_setC['sampler'] = 'multivariate-TPE' if TPE_multi else 'univariate-TPE'\n",
    "table_setC['model'] = 'BalanceCascade_rf_iter15_br10_ov30'\n",
    "with pd.ExcelWriter(f'{savedate}_Classifier.xlsx', mode = 'a') as writer:\n",
    "    table_setC.to_excel(writer, sheet_name = 'Cascade_rf_iter15_br10_ov30')"
   ]
  }
 ],
 "metadata": {
  "hide_input": false,
  "kernelspec": {
   "display_name": "Python [conda env:aging]",
   "language": "python",
   "name": "conda-env-aging-py"
  },
  "language_info": {
   "codemirror_mode": {
    "name": "ipython",
    "version": 3
   },
   "file_extension": ".py",
   "mimetype": "text/x-python",
   "name": "python",
   "nbconvert_exporter": "python",
   "pygments_lexer": "ipython3",
   "version": "3.7.10"
  },
  "toc": {
   "base_numbering": 1,
   "nav_menu": {},
   "number_sections": true,
   "sideBar": true,
   "skip_h1_title": false,
   "title_cell": "Table of Contents",
   "title_sidebar": "Contents",
   "toc_cell": false,
   "toc_position": {},
   "toc_section_display": true,
   "toc_window_display": false
  },
  "varInspector": {
   "cols": {
    "lenName": 16,
    "lenType": 16,
    "lenVar": 40
   },
   "kernels_config": {
    "python": {
     "delete_cmd_postfix": "",
     "delete_cmd_prefix": "del ",
     "library": "var_list.py",
     "varRefreshCmd": "print(var_dic_list())"
    },
    "r": {
     "delete_cmd_postfix": ") ",
     "delete_cmd_prefix": "rm(",
     "library": "var_list.r",
     "varRefreshCmd": "cat(var_dic_list()) "
    }
   },
   "types_to_exclude": [
    "module",
    "function",
    "builtin_function_or_method",
    "instance",
    "_Feature"
   ],
   "window_display": false
  }
 },
 "nbformat": 4,
 "nbformat_minor": 4
}
