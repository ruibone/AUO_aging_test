{
 "cells": [
  {
   "cell_type": "code",
   "execution_count": 1,
   "metadata": {
    "ExecuteTime": {
     "end_time": "2022-03-16T08:03:21.809281Z",
     "start_time": "2022-03-16T08:03:17.832184Z"
    }
   },
   "outputs": [
    {
     "name": "stdout",
     "output_type": "stream",
     "text": [
      "Using cpu device.\n"
     ]
    },
    {
     "data": {
      "text/plain": [
       "'C:\\\\Users\\\\user\\\\Desktop\\\\Darui_R08621110'"
      ]
     },
     "execution_count": 1,
     "metadata": {},
     "output_type": "execute_result"
    }
   ],
   "source": [
    "import os\n",
    "import numpy as np\n",
    "import pandas as pd\n",
    "import matplotlib.pyplot as plt\n",
    "import pickle\n",
    "from tqdm.auto import tqdm\n",
    "\n",
    "from sklearn.linear_model import LogisticRegression, Ridge\n",
    "from sklearn.ensemble import ExtraTreesClassifier, ExtraTreesRegressor, RandomForestClassifier, RandomForestRegressor\n",
    "from sklearn.model_selection import train_test_split\n",
    "from catboost import CatBoostClassifier, CatBoostRegressor\n",
    "from lightgbm import LGBMClassifier, LGBMRegressor\n",
    "from xgboost import XGBClassifier, XGBRegressor\n",
    "import torch\n",
    "from torch import nn\n",
    "from torch.utils.data import DataLoader\n",
    "import optuna\n",
    "\n",
    "from library.Data_Preprocessing import Balance_Ratio, train_col\n",
    "from library.Imbalance_Sampling import label_divide\n",
    "from library.Aging_Score_Contour import score1\n",
    "from library.AdaBoost import train_set, multiple_set, multiple_month, line_chart, cf_matrix, AUC, PR_curve, \\\n",
    "     multiple_curve, PR_matrix, best_threshold, all_optuna, optuna_history\n",
    "from library.XGBoost import XGBoost_creator\n",
    "from library.LightGBM import LightGBM_creator\n",
    "from library.CatBoost import CatBoost_creator\n",
    "from library.RandomForest import RandomForest_creator\n",
    "from library.ExtraTrees import ExtraTrees_creator\n",
    "from library.NeuralNetwork import RunhistSet, NeuralNetworkC, trainingC\n",
    "from library.StackingCV_Scheme3 import optimize_base, stratified_data, runall_LR, runall_RidgeR, stackingCV_creator, \\\n",
    "    correlation_plot, vif, rank_importance, month_param\n",
    "\n",
    "os.chdir('C:/Users/user/Desktop/Darui_R08621110')  \n",
    "os.getcwd()"
   ]
  },
  {
   "cell_type": "markdown",
   "metadata": {},
   "source": [
    "## "
   ]
  },
  {
   "cell_type": "markdown",
   "metadata": {},
   "source": [
    "### Transform Data by Base Learners"
   ]
  },
  {
   "cell_type": "code",
   "execution_count": 42,
   "metadata": {
    "ExecuteTime": {
     "end_time": "2022-03-17T06:23:01.971772Z",
     "start_time": "2022-03-17T06:23:01.941384Z"
    }
   },
   "outputs": [],
   "source": [
    "# input training data to the base learners and output the outcome\n",
    "def transform_train(train_data, mode, base_param, cv, add_origin = False):\n",
    "    \n",
    "    month_list = list(base_param.keys())\n",
    "    model_list = list(base_param[month_list[0]].keys())\n",
    "    set_list = list(base_param[month_list[0]][model_list[0]].keys())\n",
    "    set_dict = {} \n",
    "    for i in tqdm(set_list):\n",
    "        \n",
    "        train_x_dict, train_y_dict, valid_x_dict, valid_y_dict = stratified_data(train_data[i], cv = cv)\n",
    "        all_month = pd.DataFrame()\n",
    "        for month in tqdm(month_list):    \n",
    "            \n",
    "            all_cv = pd.DataFrame()\n",
    "            for j in range(cv):\n",
    "                \n",
    "                model_predict = pd.DataFrame()\n",
    "                if mode == 'C':\n",
    "\n",
    "                    if 'NeuralNetwork' in model_list:\n",
    "                        temp_train = RunhistSet(train_x_dict[j], train_y_dict[j])\n",
    "                        temp_valid = RunhistSet(valid_x_dict[j], valid_y_dict[j])\n",
    "                        train_loader = DataLoader(temp_train, \n",
    "                                                  batch_size = base_param[month]['NeuralNetwork'][i]['batch_size'], \n",
    "                                                  shuffle = True)\n",
    "                        valid_loader = DataLoader(temp_valid, batch_size = len(valid_x_dict[j]), shuffle = False)\n",
    "                        nn_model = NeuralNetworkC(dim = train_x_dict[j].shape[1])\n",
    "                        optimizer = torch.optim.Adam(nn_model.parameters(), \n",
    "                                                     lr = base_param[month]['NeuralNetwork'][i]['learning_rate'], \n",
    "                                                     weight_decay = base_param[month]['NeuralNetwork'][i]['weight_decay'])\n",
    "                        criterion = nn.CrossEntropyLoss(\n",
    "                            weight = torch.tensor([1-base_param[month]['NeuralNetwork'][i]['bad_weight'], \n",
    "                                                   base_param[month]['NeuralNetwork'][i]['bad_weight']])).to('cpu')\n",
    "                        network, _, _ = trainingC(nn_model, train_loader, train_loader, optimizer, criterion, epoch = 100, \n",
    "                                                  early_stop = 10)\n",
    "                        for x, y in valid_loader:\n",
    "                            output = network(x)\n",
    "                            predict_y = output.data[:, 1]\n",
    "                        predict = pd.DataFrame({f'N_{month}': predict_y.numpy()})\n",
    "                        model_predict = pd.concat([model_predict, predict], axis = 1)\n",
    "                    \n",
    "                    if 'XGBoost' in model_list:                     \n",
    "                        clf = XGBClassifier(**base_param[month]['XGBoost'][i], n_jobs = -1)\n",
    "                        clf.fit(train_x_dict[j], train_y_dict[j])\n",
    "                        predict_y = clf.predict_proba(valid_x_dict[j])\n",
    "                        predict = pd.DataFrame({f'X_{month}': predict_y[:, 0]})\n",
    "                        model_predict = pd.concat([model_predict, predict], axis = 1)\n",
    "\n",
    "                    if 'LightGBM' in model_list:                        \n",
    "                        clf = LGBMClassifier(**base_param[month]['LightGBM'][i])\n",
    "                        clf.fit(train_x_dict[j], train_y_dict[j])\n",
    "                        predict_y = clf.predict_proba(valid_x_dict[j])\n",
    "                        predict = pd.DataFrame({f'L_{month}': predict_y[:, 0]})\n",
    "                        model_predict = pd.concat([model_predict, predict], axis = 1)\n",
    "                        \n",
    "                    if 'CatBoost' in model_list:\n",
    "                        clf = CatBoostClassifier(**base_param[month]['CatBoost'][i])\n",
    "                        clf.fit(train_x_dict[j], train_y_dict[j])\n",
    "                        predict_y = clf.predict_proba(valid_x_dict[j])\n",
    "                        predict = pd.DataFrame({f'C_{month}': predict_y[:, 0]})\n",
    "                        model_predict = pd.concat([model_predict, predict], axis = 1)\n",
    "                        \n",
    "                    if 'RandomForest' in model_list:\n",
    "                        clf = RandomForestClassifier(**base_param[month]['RandomForest'][i])\n",
    "                        clf.fit(train_x_dict[j], train_y_dict[j])\n",
    "                        predict_y = clf.predict_proba(valid_x_dict[j])\n",
    "                        predict = pd.DataFrame({f'R_{month}': predict_y[:, 0]})\n",
    "                        model_predict = pd.concat([model_predict, predict], axis = 1)\n",
    "                        \n",
    "                    if 'ExtraTrees' in model_list:\n",
    "                        clf = ExtraTreesClassifier(**base_param[month]['ExtraTrees'][i])\n",
    "                        clf.fit(train_x_dict[j], train_y_dict[j])\n",
    "                        predict_y = clf.predict_proba(valid_x_dict[j])\n",
    "                        predict = pd.DataFrame({f'E_{month}': predict_y[:, 0]})\n",
    "                        model_predict = pd.concat([model_predict, predict], axis = 1)\n",
    "                        \n",
    "                elif mode == 'R':\n",
    "                    \n",
    "                    if 'XGBoost' in model_list:\n",
    "                        reg = XGBRegressor(**base_param[month]['XGBoost'][i], n_jobs = -1)\n",
    "                        reg.fit(train_x_dict[j], train_y_dict[j])\n",
    "                        predict_y = reg.predict(valid_x_dict[j])\n",
    "                        predict = pd.DataFrame({f'X_{month}': predict_y})\n",
    "                        model_predict = pd.concat([model_predict, predict], axis = 1)\n",
    "\n",
    "                    if 'LightGBM' in model_list:\n",
    "                        reg = LGBMRegressor(**base_param[month]['LightGBM'][i])\n",
    "                        reg.fit(train_x_dict[j], train_y_dict[j])\n",
    "                        predict_y = reg.predict(valid_x_dict[j])\n",
    "                        predict = pd.DataFrame({f'L_{month}': predict_y})\n",
    "                        model_predict = pd.concat([model_predict, predict], axis = 1)\n",
    "                        \n",
    "                    if 'CatBoost' in model_list:\n",
    "                        reg = CatBoostRegressor(**base_param[month]['CatBoost'][i])\n",
    "                        reg.fit(train_x_dict[j], train_y_dict[j])\n",
    "                        predict_y = reg.predict(valid_x_dict[j])\n",
    "                        predict = pd.DataFrame({f'C_{month}': predict_y})\n",
    "                        model_predict = pd.concat([model_predict, predict], axis = 1)\n",
    "                        \n",
    "                    if 'RandomForest' in model_list:\n",
    "                        reg = RandomForestRegressor(**base_param[month]['RandomForest'][i])\n",
    "                        reg.fit(train_x_dict[j], train_y_dict[j])\n",
    "                        predict_y = reg.predict(valid_x_dict[j])\n",
    "                        predict = pd.DataFrame({f'R_{month}': predict_y})\n",
    "                        model_predict = pd.concat([model_predict, predict], axis = 1)\n",
    "                    \n",
    "                    if 'ExtraTrees' in model_list:\n",
    "                        reg = ExtraTreesRegressor(**base_param[month]['ExtraTrees'][i])\n",
    "                        reg.fit(train_x_dict[j], train_y_dict[j])\n",
    "                        predict_y = reg.predict(valid_x_dict[j])\n",
    "                        predict = pd.DataFrame({f'E_{month}': predict_y})\n",
    "                        model_predict = pd.concat([model_predict, predict], axis = 1)\n",
    "                        \n",
    "                test_label = valid_y_dict[j].reset_index(drop = True)\n",
    "                origin_feature = valid_x_dict[j].reset_index(drop = True)\n",
    "                if month == month_list[-1]:\n",
    "                    if add_origin:\n",
    "                        done_cv = pd.concat([model_predict, origin_feature, test_label], axis = 1)\n",
    "                    else:\n",
    "                        done_cv = pd.concat([model_predict, test_label], axis = 1)\n",
    "                else:\n",
    "                    done_cv = model_predict\n",
    "                        \n",
    "                all_cv = pd.concat([all_cv, done_cv], axis = 0)                \n",
    "            all_month = pd.concat([all_month, all_cv], axis = 1)\n",
    "        set_dict[i] = all_month\n",
    "    \n",
    "    return set_dict\n",
    "\n",
    "\n",
    "# input testing data to the base learners and output the outcome\n",
    "def transform_test(train_data, test_data, mode, base_param, add_origin = False):\n",
    "    \n",
    "    month_list = list(base_param.keys())\n",
    "    model_list = list(base_param[month_list[0]].keys())\n",
    "    set_list = list(base_param[month_list[0]][model_list[0]].keys())\n",
    "    test_dict = {}\n",
    "    for i in tqdm(set_list):\n",
    "        \n",
    "        month_test = pd.DataFrame()\n",
    "        for month in tqdm(month_list):\n",
    "            \n",
    "            select_test = train_col(train_data[month][i], test_data)\n",
    "            train_x, train_y, test_x, test_y = label_divide(train_data[month][i], select_test, train_only = False)\n",
    "            model_predict = pd.DataFrame()\n",
    "            if mode == 'C':\n",
    "\n",
    "                if 'NeuralNetwork' in model_list:\n",
    "                    temp_train = RunhistSet(train_x, train_y)\n",
    "                    temp_test = RunhistSet(test_x, test_y)\n",
    "                    train_loader = DataLoader(temp_train, \n",
    "                                              batch_size = base_param[month]['NeuralNetwork'][i]['batch_size'], \n",
    "                                              shuffle = True)\n",
    "                    test_loader = DataLoader(temp_test, batch_size = len(test_x), shuffle = False)\n",
    "                    nn_model = NeuralNetworkC(dim = train_x.shape[1])\n",
    "                    optimizer = torch.optim.Adam(nn_model.parameters(), \n",
    "                                                 lr = base_param[month]['NeuralNetwork'][i]['learning_rate'], \n",
    "                                                 weight_decay = base_param[month]['NeuralNetwork'][i]['weight_decay'])\n",
    "                    criterion = nn.CrossEntropyLoss(\n",
    "                        weight = torch.tensor([1-base_param[month]['NeuralNetwork'][i]['bad_weight'], \n",
    "                                               base_param[month]['NeuralNetwork'][i]['bad_weight']])).to('cpu')\n",
    "                    network, _, _ = trainingC(nn_model, train_loader, train_loader, optimizer, criterion, epoch = 100, \n",
    "                                              early_stop = 10)\n",
    "                    for X, Y in test_loader:\n",
    "                        X, Y = X.float(), Y.long()\n",
    "                        output = network(X)\n",
    "                        predict_y = output.data[:, 1]\n",
    "                    predict = pd.DataFrame({f'N_{month}': predict_y.numpy()})\n",
    "                    model_predict = pd.concat([model_predict, predict], axis = 1)\n",
    "                \n",
    "                if 'XGBoost' in model_list:\n",
    "                    clf = XGBClassifier(**base_param[month]['XGBoost'][i], n_jobs = -1)\n",
    "                    clf.fit(train_x, train_y)\n",
    "                    predict_y = clf.predict_proba(test_x)\n",
    "                    predict = pd.DataFrame({f'X_{month}': predict_y[:, 0]})\n",
    "                    model_predict = pd.concat([model_predict, predict], axis = 1)\n",
    "\n",
    "                if 'LightGBM' in model_list:\n",
    "                    clf = LGBMClassifier(**base_param[month]['LightGBM'][i])\n",
    "                    clf.fit(train_x, train_y)\n",
    "                    predict_y = clf.predict_proba(test_x)\n",
    "                    predict = pd.DataFrame({f'L_{month}': predict_y[:, 0]})\n",
    "                    model_predict = pd.concat([model_predict, predict], axis = 1)\n",
    "\n",
    "                if 'CatBoost' in model_list:\n",
    "                    clf = CatBoostClassifier(**base_param[month]['CatBoost'][i])\n",
    "                    clf.fit(train_x, train_y)\n",
    "                    predict_y = clf.predict_proba(test_x)\n",
    "                    predict = pd.DataFrame({f'C_{month}': predict_y[:, 0]})\n",
    "                    model_predict = pd.concat([model_predict, predict], axis = 1)\n",
    "\n",
    "                if 'RandomForest' in model_list:\n",
    "                    clf = RandomForestClassifier(**base_param[month]['RandomForest'][i])\n",
    "                    clf.fit(train_x, train_y)\n",
    "                    predict_y = clf.predict_proba(test_x)\n",
    "                    predict = pd.DataFrame({f'R_{month}': predict_y[:, 0]})\n",
    "                    model_predict = pd.concat([model_predict, predict], axis = 1)\n",
    "\n",
    "                if 'ExtraTrees' in model_list:\n",
    "                    clf = ExtraTreesClassifier(**base_param[month]['ExtraTrees'][i])\n",
    "                    clf.fit(train_x, train_y)\n",
    "                    predict_y = clf.predict_proba(test_x)\n",
    "                    predict = pd.DataFrame({f'E_{month}': predict_y[:, 0]})\n",
    "                    model_predict = pd.concat([model_predict, predict], axis = 1)\n",
    "\n",
    "            elif mode == 'R':\n",
    "\n",
    "                if 'XGBoost' in model_list:\n",
    "                    reg = XGBRegressor(**base_param[month]['XGBoost'][i], n_jobs = -1)\n",
    "                    reg.fit(train_x, train_y)\n",
    "                    predict_y = reg.predict(test_x)\n",
    "                    predict = pd.DataFrame({f'X_{month}': predict_y})\n",
    "                    model_predict = pd.concat([model_predict, predict], axis = 1)\n",
    "\n",
    "                if 'LightGBM' in model_list:\n",
    "                    reg = LGBMRegressor(**base_param[month]['LightGBM'][i])\n",
    "                    reg.fit(train_x, train_y)\n",
    "                    predict_y = reg.predict(test_x)\n",
    "                    predict = pd.DataFrame({f'L_{month}': predict_y})\n",
    "                    model_predict = pd.concat([model_predict, predict], axis = 1)\n",
    "\n",
    "                if 'CatBoost' in model_list:\n",
    "                    reg = CatBoostRegressor(**base_param[month]['CatBoost'][i])\n",
    "                    reg.fit(train_x, train_y)\n",
    "                    predict_y = reg.predict(test_x)\n",
    "                    predict = pd.DataFrame({f'C_{month}': predict_y})\n",
    "                    model_predict = pd.concat([model_predict, predict], axis = 1)\n",
    "\n",
    "                if 'RandomForest' in model_list:\n",
    "                    reg = RandomForestRegressor(**base_param[month]['RandomForest'][i])\n",
    "                    reg.fit(train_x, train_y)\n",
    "                    predict_y = reg.predict(test_x)\n",
    "                    predict = pd.DataFrame({f'R_{month}': predict_y})\n",
    "                    model_predict = pd.concat([model_predict, predict], axis = 1)\n",
    "\n",
    "                if 'ExtraTrees' in model_list:\n",
    "                    reg = ExtraTreesRegressor(**base_param[month]['ExtraTrees'][i])\n",
    "                    reg.fit(train_x, train_y)\n",
    "                    predict_y = reg.predict(test_x)\n",
    "                    predict = pd.DataFrame({f'E_{month}': predict_y})\n",
    "                    model_predict = pd.concat([model_predict, predict], axis = 1)\n",
    "\n",
    "            month_test = pd.concat([month_test, model_predict], axis = 1)\n",
    "        if add_origin:\n",
    "            test_dict[i] = pd.concat([month_test, test_x, test_y], axis = 1)\n",
    "        else:\n",
    "            test_dict[i] = pd.concat([month_test, test_y], axis = 1)\n",
    "        \n",
    "    return test_dict"
   ]
  },
  {
   "cell_type": "markdown",
   "metadata": {},
   "source": [
    "## "
   ]
  },
  {
   "cell_type": "markdown",
   "metadata": {},
   "source": [
    "### Load Data"
   ]
  },
  {
   "cell_type": "code",
   "execution_count": 4,
   "metadata": {
    "ExecuteTime": {
     "end_time": "2022-03-16T08:05:04.700419Z",
     "start_time": "2022-03-16T08:05:01.840924Z"
    },
    "scrolled": true
   },
   "outputs": [
    {
     "name": "stdout",
     "output_type": "stream",
     "text": [
      "\n",
      "Month 2:\n",
      "\n",
      "Dimension of dataset 0 : (39009, 88)  balance ratio: 564.35\n",
      "Dimension of dataset 1 : (1404, 88)  balance ratio: 1.0\n",
      "Dimension of dataset 2 : (1360, 88)  balance ratio: 1.0\n",
      "Dimension of dataset 3 : (1376, 88)  balance ratio: 1.0\n",
      "Dimension of dataset 4 : (1378, 88)  balance ratio: 1.0\n",
      "Dimension of dataset 5 : (1370, 88)  balance ratio: 1.01\n",
      "Dimension of dataset 6 : (1369, 88)  balance ratio: 1.02\n",
      "Dimension of dataset 7 : (1317, 88)  balance ratio: 1.1\n",
      "Dimension of dataset 8 : (1380, 88)  balance ratio: 1.0\n",
      "Dimension of dataset 9 : (759, 88)  balance ratio: 10.0\n",
      "\n",
      " 10 datasets are loaded.\n",
      "\n",
      "Labels of  10 datasets are divided.\n",
      "\n",
      "Month 3:\n",
      "\n",
      "Dimension of dataset 0 : (60396, 97)  balance ratio: 533.48\n",
      "Dimension of dataset 1 : (2304, 97)  balance ratio: 1.0\n",
      "Dimension of dataset 2 : (2224, 97)  balance ratio: 1.0\n",
      "Dimension of dataset 3 : (2256, 97)  balance ratio: 1.0\n",
      "Dimension of dataset 4 : (2258, 97)  balance ratio: 1.0\n",
      "Dimension of dataset 5 : (2271, 97)  balance ratio: 0.99\n",
      "Dimension of dataset 6 : (2240, 97)  balance ratio: 1.02\n",
      "Dimension of dataset 7 : (2158, 97)  balance ratio: 1.1\n",
      "Dimension of dataset 8 : (2260, 97)  balance ratio: 1.0\n",
      "Dimension of dataset 9 : (1243, 97)  balance ratio: 10.0\n",
      "\n",
      " 10 datasets are loaded.\n",
      "\n",
      "Labels of  10 datasets are divided.\n",
      "\n",
      "Month 4:\n",
      "\n",
      "Dimension of dataset 0 : (57743, 100)  balance ratio: 472.3\n",
      "Dimension of dataset 1 : (2426, 100)  balance ratio: 1.0\n",
      "Dimension of dataset 2 : (2410, 100)  balance ratio: 1.0\n",
      "Dimension of dataset 3 : (2434, 100)  balance ratio: 1.0\n",
      "Dimension of dataset 4 : (2440, 100)  balance ratio: 1.0\n",
      "Dimension of dataset 5 : (2419, 100)  balance ratio: 1.02\n",
      "Dimension of dataset 6 : (2421, 100)  balance ratio: 1.02\n",
      "Dimension of dataset 7 : (2330, 100)  balance ratio: 1.1\n",
      "Dimension of dataset 8 : (2440, 100)  balance ratio: 1.0\n",
      "Dimension of dataset 9 : (1342, 100)  balance ratio: 10.0\n",
      "\n",
      " 10 datasets are loaded.\n",
      "\n",
      "Labels of  10 datasets are divided.\n",
      "\n",
      "Combined training data:\n",
      "\n",
      "Dimension of dataset 0 : (157148, 128)  balance ratio: 515.93\n",
      "Dimension of dataset 1 : (6134, 128)  balance ratio: 1.0\n",
      "Dimension of dataset 2 : (5994, 128)  balance ratio: 1.0\n",
      "Dimension of dataset 3 : (6066, 128)  balance ratio: 1.0\n",
      "Dimension of dataset 4 : (6076, 128)  balance ratio: 1.0\n",
      "Dimension of dataset 5 : (6060, 128)  balance ratio: 1.01\n",
      "Dimension of dataset 6 : (6030, 128)  balance ratio: 1.02\n",
      "Dimension of dataset 7 : (5805, 128)  balance ratio: 1.1\n",
      "Dimension of dataset 8 : (6080, 128)  balance ratio: 1.0\n",
      "Dimension of dataset 9 : (3344, 128)  balance ratio: 10.0\n",
      "\n",
      " 10 datasets are loaded.\n",
      "\n",
      "Labels of  10 datasets are divided.\n",
      "\n",
      " Dimension of testing data: (48649, 128)\n"
     ]
    }
   ],
   "source": [
    "### training data ### \n",
    "training_month = range(2, 5)\n",
    "\n",
    "data_dict, trainset_x, trainset_y = multiple_month(training_month, num_set = 10, filename = 'dataset')\n",
    "\n",
    "print('\\nCombined training data:\\n')\n",
    "run_train = multiple_set(num_set = 10)\n",
    "run_train_x, run_train_y = train_set(run_train)\n",
    "\n",
    "### testing data ###\n",
    "run_test = pd.read_csv('test_runhist.csv').iloc[:, 2:]\n",
    "run_test_x, run_test_y = label_divide(run_test, None, 'GB', train_only = True)\n",
    "print('\\n', 'Dimension of testing data:', run_test.shape)"
   ]
  },
  {
   "cell_type": "markdown",
   "metadata": {},
   "source": [
    "## Base Learner"
   ]
  },
  {
   "cell_type": "markdown",
   "metadata": {},
   "source": [
    "### Training & Testing Data Transformation"
   ]
  },
  {
   "cell_type": "code",
   "execution_count": 68,
   "metadata": {
    "ExecuteTime": {
     "end_time": "2022-03-17T07:08:56.742671Z",
     "start_time": "2022-03-17T07:08:56.730738Z"
    }
   },
   "outputs": [],
   "source": [
    "target_month = range(2, 5)\n",
    "target_model = ['LightGBM', 'XGBoost', 'NeuralNetwork']\n",
    "target_iter = {'CatBoost': 25, 'XGBoost': 25, 'LightGBM': 25, 'NeuralNetwork': 10, 'RandomForest': 20}"
   ]
  },
  {
   "cell_type": "code",
   "execution_count": null,
   "metadata": {
    "ExecuteTime": {
     "start_time": "2022-03-17T07:09:02.002Z"
    },
    "collapsed": true
   },
   "outputs": [
    {
     "data": {
      "application/vnd.jupyter.widget-view+json": {
       "model_id": "89138a57c94a49f5b760dad44cf9fd94",
       "version_major": 2,
       "version_minor": 0
      },
      "text/plain": [
       "  0%|          | 0/3 [00:00<?, ?it/s]"
      ]
     },
     "metadata": {},
     "output_type": "display_data"
    },
    {
     "name": "stdout",
     "output_type": "stream",
     "text": [
      "\n",
      "Starting for LightGBM:\n",
      "\n"
     ]
    },
    {
     "data": {
      "application/vnd.jupyter.widget-view+json": {
       "model_id": "c7111010d7ef4aa6aaeada332440dfba",
       "version_major": 2,
       "version_minor": 0
      },
      "text/plain": [
       "  0%|          | 0/9 [00:00<?, ?it/s]"
      ]
     },
     "metadata": {},
     "output_type": "display_data"
    },
    {
     "name": "stderr",
     "output_type": "stream",
     "text": [
      "\u001b[32m[I 2022-03-17 15:09:02,572]\u001b[0m A new study created in memory with name: no-name-27c79289-98da-4ade-b8ac-0a6a7f3819ee\u001b[0m\n"
     ]
    },
    {
     "name": "stdout",
     "output_type": "stream",
     "text": [
      "Dataset 1 :\n"
     ]
    },
    {
     "name": "stderr",
     "output_type": "stream",
     "text": [
      "Progress bar is experimental (supported from v1.2.0). The interface can change in the future.\n"
     ]
    },
    {
     "data": {
      "application/vnd.jupyter.widget-view+json": {
       "model_id": "09fca7f408024f38ba32bbecdc19373a",
       "version_major": 2,
       "version_minor": 0
      },
      "text/plain": [
       "  0%|          | 0/25 [00:00<?, ?it/s]"
      ]
     },
     "metadata": {},
     "output_type": "display_data"
    },
    {
     "name": "stdout",
     "output_type": "stream",
     "text": [
      "Precision: 0.9774011299435028 \n",
      "Recall: 0.9829545454545454 \n",
      "Aging Rate: 0.5028409090909091\n",
      "Precision: 0.9775280898876404 \n",
      "Recall: 0.9886363636363636 \n",
      "Aging Rate: 0.5056818181818182\n",
      "Precision: 0.9942528735632183 \n",
      "Recall: 0.9829545454545454 \n",
      "Aging Rate: 0.4943181818181818\n",
      "\u001b[32m[I 2022-03-17 15:09:02,670]\u001b[0m Trial 0 finished with value: 0.9839307492334811 and parameters: {'n_estimators': 100, 'learning_rate': 0.225, 'max_depth': 3, 'num_leaves': 30, 'min_child_samples': 10, 'min_split_gain': 0, 'colsample_bytree': 0.9, 'subsample': 0.5, 'reg_alpha': 2.279243268060513, 'reg_lambda': 1.0169953592591923}. Best is trial 0 with value: 0.9839307492334811.\u001b[0m\n"
     ]
    },
    {
     "name": "stderr",
     "output_type": "stream",
     "text": [
      "invalid value encountered in double_scalars\n",
      "invalid value encountered in double_scalars\n",
      "invalid value encountered in double_scalars\n",
      "invalid value encountered in double_scalars\n"
     ]
    },
    {
     "name": "stdout",
     "output_type": "stream",
     "text": [
      "Precision: 0 \n",
      "Recall: 0.0 \n",
      "Aging Rate: 0.0\n",
      "Precision: 0 \n",
      "Recall: 0.0 \n",
      "Aging Rate: 0.0\n",
      "Precision: 0 \n",
      "Recall: 0.0 \n",
      "Aging Rate: 0.0\n",
      "\u001b[32m[I 2022-03-17 15:09:02,862]\u001b[0m Trial 1 finished with value: 0.0 and parameters: {'n_estimators': 300, 'learning_rate': 0.125, 'max_depth': 6, 'num_leaves': 30, 'min_child_samples': 5000, 'min_split_gain': 0, 'colsample_bytree': 0.3, 'subsample': 0.3, 'reg_alpha': 3.4484978393895123, 'reg_lambda': 4.735406843319294}. Best is trial 0 with value: 0.9839307492334811.\u001b[0m\n",
      "Precision: 0 \n",
      "Recall: 0.0 \n",
      "Aging Rate: 0.0\n"
     ]
    },
    {
     "name": "stderr",
     "output_type": "stream",
     "text": [
      "invalid value encountered in double_scalars\n",
      "invalid value encountered in double_scalars\n"
     ]
    },
    {
     "name": "stdout",
     "output_type": "stream",
     "text": [
      "Precision: 0 \n",
      "Recall: 0.0 \n",
      "Aging Rate: 0.0\n",
      "Precision: 0 \n",
      "Recall: 0.0 \n",
      "Aging Rate: 0.0\n",
      "\u001b[32m[I 2022-03-17 15:09:03,053]\u001b[0m Trial 2 finished with value: 0.0 and parameters: {'n_estimators': 1000, 'learning_rate': 0.275, 'max_depth': 15, 'num_leaves': 50, 'min_child_samples': 1000, 'min_split_gain': 10, 'colsample_bytree': 0.5, 'subsample': 0.7, 'reg_alpha': 0.34030360683892236, 'reg_lambda': 0.8296733886377102}. Best is trial 0 with value: 0.9839307492334811.\u001b[0m\n",
      "Precision: 0.6022099447513812 \n",
      "Recall: 0.6193181818181818 \n",
      "Aging Rate: 0.5142045454545454\n",
      "Precision: 0.5875706214689266 \n",
      "Recall: 0.5909090909090909 \n",
      "Aging Rate: 0.5028409090909091\n",
      "Precision: 0.5792682926829268 \n",
      "Recall: 0.5397727272727273 \n",
      "Aging Rate: 0.4659090909090909\n",
      "\u001b[32m[I 2022-03-17 15:09:03,250]\u001b[0m Trial 3 finished with value: 0.5862343048645332 and parameters: {'n_estimators': 500, 'learning_rate': 0.225, 'max_depth': 15, 'num_leaves': 50, 'min_child_samples': 500, 'min_split_gain': 12, 'colsample_bytree': 0.3, 'subsample': 0.3, 'reg_alpha': 0.010785384709860046, 'reg_lambda': 0.012114234426753447}. Best is trial 0 with value: 0.9839307492334811.\u001b[0m\n",
      "Precision: 0.6274509803921569 \n",
      "Recall: 0.5454545454545454 \n",
      "Aging Rate: 0.4346590909090909\n",
      "Precision: 0.7236842105263158 \n",
      "Recall: 0.625 \n",
      "Aging Rate: 0.4318181818181818\n",
      "Precision: 0.6369426751592356 \n",
      "Recall: 0.5681818181818182 \n",
      "Aging Rate: 0.4460227272727273\n",
      "\u001b[32m[I 2022-03-17 15:09:03,419]\u001b[0m Trial 4 finished with value: 0.618306311352497 and parameters: {'n_estimators': 100, 'learning_rate': 0.325, 'max_depth': 12, 'num_leaves': 150, 'min_child_samples': 500, 'min_split_gain': 2, 'colsample_bytree': 0.3, 'subsample': 0.9, 'reg_alpha': 4.160909646342114, 'reg_lambda': 5.416610446038203}. Best is trial 0 with value: 0.9839307492334811.\u001b[0m\n",
      "Precision: 0.9226190476190477 \n",
      "Recall: 0.8806818181818182 \n",
      "Aging Rate: 0.4772727272727273\n",
      "Precision: 0.9235668789808917 \n",
      "Recall: 0.8238636363636364 \n",
      "Aging Rate: 0.4460227272727273\n",
      "Precision: 0.864406779661017 \n",
      "Recall: 0.8693181818181818 \n",
      "Aging Rate: 0.5028409090909091\n",
      "\u001b[32m[I 2022-03-17 15:09:03,680]\u001b[0m Trial 5 finished with value: 0.8796297285492886 and parameters: {'n_estimators': 1000, 'learning_rate': 0.17500000000000002, 'max_depth': 6, 'num_leaves': 10, 'min_child_samples': 100, 'min_split_gain': 12, 'colsample_bytree': 0.7, 'subsample': 0.3, 'reg_alpha': 0.09222942691687849, 'reg_lambda': 0.020734447609125246}. Best is trial 0 with value: 0.9839307492334811.\u001b[0m\n",
      "Precision: 0.5808383233532934 \n",
      "Recall: 0.5511363636363636 \n",
      "Aging Rate: 0.4744318181818182\n",
      "Precision: 0.6046511627906976 \n",
      "Recall: 0.5909090909090909 \n",
      "Aging Rate: 0.48863636363636365\n",
      "Precision: 0.5730337078651685 \n",
      "Recall: 0.5795454545454546 \n",
      "Aging Rate: 0.5056818181818182\n",
      "\u001b[32m[I 2022-03-17 15:09:03,878]\u001b[0m Trial 6 finished with value: 0.5798566678348164 and parameters: {'n_estimators': 500, 'learning_rate': 0.325, 'max_depth': 3, 'num_leaves': 30, 'min_child_samples': 500, 'min_split_gain': 2, 'colsample_bytree': 0.5, 'subsample': 0.3, 'reg_alpha': 0.272531023959693, 'reg_lambda': 0.22387189994448603}. Best is trial 0 with value: 0.9839307492334811.\u001b[0m\n",
      "Precision: 0.9776536312849162 \n",
      "Recall: 0.9943181818181818 \n",
      "Aging Rate: 0.5085227272727273\n",
      "Precision: 1.0 \n",
      "Recall: 0.9715909090909091 \n",
      "Aging Rate: 0.48579545454545453\n",
      "Precision: 0.9777777777777777 \n",
      "Recall: 1.0 \n",
      "Aging Rate: 0.5113636363636364\n",
      "\u001b[32m[I 2022-03-17 15:09:04,160]\u001b[0m Trial 7 finished with value: 0.9867567719998499 and parameters: {'n_estimators': 300, 'learning_rate': 0.07500000000000001, 'max_depth': 15, 'num_leaves': 110, 'min_child_samples': 100, 'min_split_gain': 0, 'colsample_bytree': 0.9, 'subsample': 0.3, 'reg_alpha': 0.01863166701123241, 'reg_lambda': 0.06122844248609511}. Best is trial 7 with value: 0.9867567719998499.\u001b[0m\n",
      "Precision: 0.9041916167664671 \n",
      "Recall: 0.8579545454545454 \n",
      "Aging Rate: 0.4744318181818182\n",
      "Precision: 0.9204545454545454 \n",
      "Recall: 0.9204545454545454 \n",
      "Aging Rate: 0.5\n",
      "Precision: 0.9254658385093167 \n",
      "Recall: 0.8465909090909091 \n",
      "Aging Rate: 0.45738636363636365\n",
      "\u001b[32m[I 2022-03-17 15:09:04,468]\u001b[0m Trial 8 finished with value: 0.8950646715967978 and parameters: {'n_estimators': 500, 'learning_rate': 0.07500000000000001, 'max_depth': 15, 'num_leaves': 50, 'min_child_samples': 10, 'min_split_gain': 8, 'colsample_bytree': 0.3, 'subsample': 0.7, 'reg_alpha': 1.2683142905766287, 'reg_lambda': 1.3083445988846893}. Best is trial 7 with value: 0.9867567719998499.\u001b[0m\n",
      "Precision: 0.9415204678362573 \n",
      "Recall: 0.9147727272727273 \n",
      "Aging Rate: 0.48579545454545453\n",
      "Precision: 0.9532163742690059 \n",
      "Recall: 0.9261363636363636 \n",
      "Aging Rate: 0.48579545454545453\n",
      "Precision: 0.9294117647058824 \n",
      "Recall: 0.8977272727272727 \n",
      "Aging Rate: 0.48295454545454547\n",
      "\u001b[32m[I 2022-03-17 15:09:04,765]\u001b[0m Trial 9 finished with value: 0.926909985396434 and parameters: {'n_estimators': 300, 'learning_rate': 0.025, 'max_depth': 12, 'num_leaves': 150, 'min_child_samples': 100, 'min_split_gain': 0, 'colsample_bytree': 0.3, 'subsample': 0.7, 'reg_alpha': 2.1039606054152813, 'reg_lambda': 6.968262874301779}. Best is trial 7 with value: 0.9867567719998499.\u001b[0m\n",
      "Precision: 0.9298245614035088 \n",
      "Recall: 0.9034090909090909 \n",
      "Aging Rate: 0.48579545454545453\n",
      "Precision: 0.9171270718232044 \n",
      "Recall: 0.9431818181818182 \n",
      "Aging Rate: 0.5142045454545454\n",
      "Precision: 0.9277777777777778 \n",
      "Recall: 0.9488636363636364 \n",
      "Aging Rate: 0.5113636363636364\n",
      "\u001b[32m[I 2022-03-17 15:09:05,014]\u001b[0m Trial 10 finished with value: 0.9282002496516096 and parameters: {'n_estimators': 300, 'learning_rate': 0.025, 'max_depth': 9, 'num_leaves': 110, 'min_child_samples': 50, 'min_split_gain': 4, 'colsample_bytree': 0.9, 'subsample': 0.5, 'reg_alpha': 0.010582277185421742, 'reg_lambda': 0.07204073898475591}. Best is trial 7 with value: 0.9867567719998499.\u001b[0m\n",
      "Precision: 0.9707602339181286 \n",
      "Recall: 0.9431818181818182 \n",
      "Aging Rate: 0.48579545454545453\n",
      "Precision: 0.9464285714285714 \n",
      "Recall: 0.9034090909090909 \n",
      "Aging Rate: 0.4772727272727273\n",
      "Precision: 0.9640718562874252 \n",
      "Recall: 0.9147727272727273 \n",
      "Aging Rate: 0.4744318181818182\n",
      "\u001b[32m[I 2022-03-17 15:09:05,217]\u001b[0m Trial 11 finished with value: 0.9399888163830642 and parameters: {'n_estimators': 100, 'learning_rate': 0.17500000000000002, 'max_depth': 3, 'num_leaves': 110, 'min_child_samples': 10, 'min_split_gain': 4, 'colsample_bytree': 0.9, 'subsample': 0.5, 'reg_alpha': 0.06678213971860433, 'reg_lambda': 0.09557124293820779}. Best is trial 7 with value: 0.9867567719998499.\u001b[0m\n",
      "Precision: 0.9401197604790419 \n",
      "Recall: 0.8920454545454546 \n",
      "Aging Rate: 0.4744318181818182\n",
      "Precision: 0.9352941176470588 \n",
      "Recall: 0.9034090909090909 \n",
      "Aging Rate: 0.48295454545454547\n",
      "Precision: 0.9534883720930233 \n",
      "Recall: 0.9318181818181818 \n",
      "Aging Rate: 0.48863636363636365\n",
      "\u001b[32m[I 2022-03-17 15:09:05,431]\u001b[0m Trial 12 finished with value: 0.925685258394862 and parameters: {'n_estimators': 100, 'learning_rate': 0.125, 'max_depth': 9, 'num_leaves': 90, 'min_child_samples': 10, 'min_split_gain': 0, 'colsample_bytree': 0.9, 'subsample': 0.5, 'reg_alpha': 9.94024193713027, 'reg_lambda': 0.8018607842155219}. Best is trial 7 with value: 0.9867567719998499.\u001b[0m\n",
      "Precision: 0.9341317365269461 \n",
      "Recall: 0.8863636363636364 \n",
      "Aging Rate: 0.4744318181818182\n",
      "Precision: 0.9190751445086706 \n",
      "Recall: 0.9034090909090909 \n",
      "Aging Rate: 0.4914772727272727\n",
      "Precision: 0.9117647058823529 \n",
      "Recall: 0.8806818181818182 \n",
      "Aging Rate: 0.48295454545454547\n",
      "\u001b[32m[I 2022-03-17 15:09:05,638]\u001b[0m Trial 13 finished with value: 0.9055831778597881 and parameters: {'n_estimators': 300, 'learning_rate': 0.225, 'max_depth': 6, 'num_leaves': 110, 'min_child_samples': 100, 'min_split_gain': 6, 'colsample_bytree': 0.7, 'subsample': 0.5, 'reg_alpha': 0.03216226825949694, 'reg_lambda': 0.04326972562672061}. Best is trial 7 with value: 0.9867567719998499.\u001b[0m\n",
      "Precision: 0.9485714285714286 \n",
      "Recall: 0.9431818181818182 \n",
      "Aging Rate: 0.4971590909090909\n",
      "Precision: 0.9529411764705882 \n",
      "Recall: 0.9204545454545454 \n",
      "Aging Rate: 0.48295454545454547\n",
      "Precision: 0.9418604651162791 \n",
      "Recall: 0.9204545454545454 \n",
      "Aging Rate: 0.48863636363636365\n",
      "\u001b[32m[I 2022-03-17 15:09:05,848]\u001b[0m Trial 14 finished with value: 0.9377732045328884 and parameters: {'n_estimators': 100, 'learning_rate': 0.07500000000000001, 'max_depth': 12, 'num_leaves': 90, 'min_child_samples': 50, 'min_split_gain': 2, 'colsample_bytree': 0.7, 'subsample': 0.3, 'reg_alpha': 0.7086934452507169, 'reg_lambda': 0.26474003613399427}. Best is trial 7 with value: 0.9867567719998499.\u001b[0m\n"
     ]
    },
    {
     "name": "stderr",
     "output_type": "stream",
     "text": [
      "invalid value encountered in double_scalars\n",
      "invalid value encountered in double_scalars\n",
      "invalid value encountered in double_scalars\n"
     ]
    },
    {
     "name": "stdout",
     "output_type": "stream",
     "text": [
      "Precision: 0 \n",
      "Recall: 0.0 \n",
      "Aging Rate: 0.0\n",
      "Precision: 0 \n",
      "Recall: 0.0 \n",
      "Aging Rate: 0.0\n",
      "Precision: 0 \n",
      "Recall: 0.0 \n",
      "Aging Rate: 0.0\n",
      "\u001b[32m[I 2022-03-17 15:09:06,026]\u001b[0m Trial 15 finished with value: 0.0 and parameters: {'n_estimators': 100, 'learning_rate': 0.225, 'max_depth': 3, 'num_leaves': 130, 'min_child_samples': 5000, 'min_split_gain': 0, 'colsample_bytree': 0.9, 'subsample': 0.5, 'reg_alpha': 6.7658863855683, 'reg_lambda': 1.9155300804175657}. Best is trial 7 with value: 0.9867567719998499.\u001b[0m\n",
      "Precision: 0.9760479041916168 \n",
      "Recall: 0.9261363636363636 \n",
      "Aging Rate: 0.4744318181818182\n",
      "Precision: 0.9411764705882353 \n",
      "Recall: 0.9090909090909091 \n",
      "Aging Rate: 0.48295454545454547\n",
      "Precision: 0.9425287356321839 \n",
      "Recall: 0.9318181818181818 \n",
      "Aging Rate: 0.4943181818181818\n",
      "\u001b[32m[I 2022-03-17 15:09:06,247]\u001b[0m Trial 16 finished with value: 0.9374785554188646 and parameters: {'n_estimators': 300, 'learning_rate': 0.125, 'max_depth': 6, 'num_leaves': 70, 'min_child_samples': 10, 'min_split_gain': 4, 'colsample_bytree': 0.9, 'subsample': 0.9, 'reg_alpha': 0.33239529093229747, 'reg_lambda': 0.4226400044487025}. Best is trial 7 with value: 0.9867567719998499.\u001b[0m\n",
      "Precision:"
     ]
    },
    {
     "name": "stderr",
     "output_type": "stream",
     "text": [
      "invalid value encountered in double_scalars\n",
      "invalid value encountered in double_scalars\n",
      "invalid value encountered in double_scalars\n"
     ]
    },
    {
     "name": "stdout",
     "output_type": "stream",
     "text": [
      " 0 \n",
      "Recall: 0.0 \n",
      "Aging Rate: 0.0\n",
      "Precision: 0 \n",
      "Recall: 0.0 \n",
      "Aging Rate: 0.0\n",
      "Precision: 0 \n",
      "Recall: 0.0 \n",
      "Aging Rate: 0.0\n",
      "\u001b[32m[I 2022-03-17 15:09:06,454]\u001b[0m Trial 17 finished with value: 0.0 and parameters: {'n_estimators': 1000, 'learning_rate': 0.275, 'max_depth': 12, 'num_leaves': 10, 'min_child_samples': 1000, 'min_split_gain': 2, 'colsample_bytree': 0.7, 'subsample': 0.5, 'reg_alpha': 0.02434280795893794, 'reg_lambda': 0.1302048619838276}. Best is trial 7 with value: 0.9867567719998499.\u001b[0m\n",
      "Precision: 0.9487179487179487 \n",
      "Recall: 0.8409090909090909 \n",
      "Aging Rate: 0.4431818181818182\n",
      "Precision: 0.9345238095238095 \n",
      "Recall: 0.8920454545454546 \n",
      "Aging Rate: 0.4772727272727273\n",
      "Precision: 0.9269662921348315 \n",
      "Recall: 0.9375 \n",
      "Aging Rate: 0.5056818181818182\n",
      "\u001b[32m[I 2022-03-17 15:09:06,672]\u001b[0m Trial 18 finished with value: 0.9121867841883894 and parameters: {'n_estimators': 300, 'learning_rate': 0.07500000000000001, 'max_depth': 9, 'num_leaves': 70, 'min_child_samples': 100, 'min_split_gain': 6, 'colsample_bytree': 0.9, 'subsample': 0.3, 'reg_alpha': 0.8745475405912833, 'reg_lambda': 2.4722812574620883}. Best is trial 7 with value: 0.9867567719998499.\u001b[0m\n",
      "Precision: 0.9887005649717514 \n",
      "Recall: 0.9943181818181818 \n",
      "Aging Rate: 0.5028409090909091\n",
      "Precision: 1.0 \n",
      "Recall: 1.0 \n",
      "Aging Rate: 0.5\n",
      "Precision: 0.9775280898876404 \n",
      "Recall: 0.9886363636363636 \n",
      "Aging Rate: 0.5056818181818182\n",
      "\u001b[32m[I 2022-03-17 15:09:06,909]\u001b[0m Trial 19 finished with value: 0.991517421296074 and parameters: {'n_estimators': 100, 'learning_rate': 0.275, 'max_depth': 15, 'num_leaves': 90, 'min_child_samples': 10, 'min_split_gain': 0, 'colsample_bytree': 0.7, 'subsample': 0.7, 'reg_alpha': 0.14556172535473635, 'reg_lambda': 0.03575333173006682}. Best is trial 19 with value: 0.991517421296074.\u001b[0m\n",
      "Precision: 0.9463087248322147 \n",
      "Recall: 0.8011363636363636 \n",
      "Aging Rate: 0.42329545454545453\n",
      "Precision: 0.8857142857142857 \n",
      "Recall: 0.8806818181818182 \n",
      "Aging Rate: 0.4971590909090909\n",
      "Precision: 0.9364161849710982 \n",
      "Recall: 0.9204545454545454 \n",
      "Aging Rate: 0.4914772727272727\n",
      "\u001b[32m[I 2022-03-17 15:09:07,155]\u001b[0m Trial 20 finished with value: 0.8930833176869472 and parameters: {'n_estimators': 300, 'learning_rate': 0.275, 'max_depth': 15, 'num_leaves': 130, 'min_child_samples': 100, 'min_split_gain': 8, 'colsample_bytree': 0.5, 'subsample': 0.7, 'reg_alpha': 0.12091009648835055, 'reg_lambda': 0.03418311106846953}. Best is trial 19 with value: 0.991517421296074.\u001b[0m\n",
      "Precision: 0.9942857142857143 \n",
      "Recall: 0.9886363636363636 \n",
      "Aging Rate: 0.4971590909090909\n",
      "Precision: 0.9886363636363636 \n",
      "Recall: 0.9886363636363636 \n",
      "Aging Rate: 0.5\n",
      "Precision: 1.0 \n",
      "Recall: 0.9943181818181818 \n",
      "Aging Rate: 0.4971590909090909\n",
      "\u001b[32m[I 2022-03-17 15:09:07,396]\u001b[0m Trial 21 finished with value: 0.9924134507467842 and parameters: {'n_estimators': 100, 'learning_rate': 0.225, 'max_depth': 15, 'num_leaves': 90, 'min_child_samples': 10, 'min_split_gain': 0, 'colsample_bytree': 0.7, 'subsample': 0.7, 'reg_alpha': 0.035374758903241765, 'reg_lambda': 0.01888055073294649}. Best is trial 21 with value: 0.9924134507467842.\u001b[0m\n",
      "Precision: 0.9659090909090909 \n",
      "Recall: 0.9659090909090909 \n",
      "Aging Rate: 0.5\n",
      "Precision: 0.9655172413793104 \n",
      "Recall: 0.9545454545454546 \n",
      "Aging Rate: 0.4943181818181818\n",
      "Precision: 0.9775280898876404 \n",
      "Recall: 0.9886363636363636 \n",
      "Aging Rate: 0.5056818181818182\n",
      "\u001b[32m[I 2022-03-17 15:09:07,595]\u001b[0m Trial 22 finished with value: 0.969653312788906 and parameters: {'n_estimators': 100, 'learning_rate': 0.275, 'max_depth': 15, 'num_leaves': 90, 'min_child_samples': 10, 'min_split_gain': 2, 'colsample_bytree': 0.7, 'subsample': 0.9, 'reg_alpha': 0.028339814826873595, 'reg_lambda': 0.015890669229553057}. Best is trial 21 with value: 0.9924134507467842.\u001b[0m\n",
      "Precision: 0.9886363636363636 \n",
      "Recall: 0.9886363636363636 \n",
      "Aging Rate: 0.5\n",
      "Precision: 0.9885714285714285 \n",
      "Recall: 0.9829545454545454 \n",
      "Aging Rate: 0.4971590909090909\n",
      "Precision: 0.9776536312849162 \n",
      "Recall: 0.9943181818181818 \n",
      "Aging Rate: 0.5085227272727273\n",
      "\u001b[32m[I 2022-03-17 15:09:07,838]\u001b[0m Trial 23 finished with value: 0.9867689474496987 and parameters: {'n_estimators': 100, 'learning_rate': 0.325, 'max_depth': 12, 'num_leaves': 130, 'min_child_samples': 10, 'min_split_gain': 0, 'colsample_bytree': 0.7, 'subsample': 0.7, 'reg_alpha': 0.01688363313056464, 'reg_lambda': 0.04093175329869416}. Best is trial 21 with value: 0.9924134507467842.\u001b[0m\n"
     ]
    },
    {
     "name": "stderr",
     "output_type": "stream",
     "text": [
      "\u001b[32m[I 2022-03-17 15:09:08,160]\u001b[0m A new study created in memory with name: no-name-0a325e86-e770-4c82-835c-dec9a6b823ba\u001b[0m\n"
     ]
    },
    {
     "name": "stdout",
     "output_type": "stream",
     "text": [
      "Precision: 0.9827586206896551 \n",
      "Recall: 0.9715909090909091 \n",
      "Aging Rate: 0.4943181818181818\n",
      "Precision: 0.9560439560439561 \n",
      "Recall: 0.9886363636363636 \n",
      "Aging Rate: 0.5170454545454546\n",
      "Precision: 0.9823529411764705 \n",
      "Recall: 0.9488636363636364 \n",
      "Aging Rate: 0.48295454545454547\n",
      "\u001b[32m[I 2022-03-17 15:09:08,039]\u001b[0m Trial 24 finished with value: 0.9715092717747157 and parameters: {'n_estimators': 100, 'learning_rate': 0.325, 'max_depth': 12, 'num_leaves': 130, 'min_child_samples': 10, 'min_split_gain': 2, 'colsample_bytree': 0.7, 'subsample': 0.7, 'reg_alpha': 0.053149365131962056, 'reg_lambda': 0.02798369897651764}. Best is trial 21 with value: 0.9924134507467842.\u001b[0m\n",
      "Sampler is TPESampler\n",
      "Dataset 2 :\n"
     ]
    },
    {
     "name": "stderr",
     "output_type": "stream",
     "text": [
      "Progress bar is experimental (supported from v1.2.0). The interface can change in the future.\n"
     ]
    },
    {
     "data": {
      "application/vnd.jupyter.widget-view+json": {
       "model_id": "f7c1ec5816254b529e8de202e9ec1299",
       "version_major": 2,
       "version_minor": 0
      },
      "text/plain": [
       "  0%|          | 0/25 [00:00<?, ?it/s]"
      ]
     },
     "metadata": {},
     "output_type": "display_data"
    },
    {
     "name": "stderr",
     "output_type": "stream",
     "text": [
      "invalid value encountered in double_scalars\n",
      "invalid value encountered in double_scalars\n",
      "invalid value encountered in double_scalars\n"
     ]
    },
    {
     "name": "stdout",
     "output_type": "stream",
     "text": [
      "Precision: 0 \n",
      "Recall: 0.0 \n",
      "Aging Rate: 0.0\n",
      "Precision: 0 \n",
      "Recall: 0.0 \n",
      "Aging Rate: 0.0\n",
      "Precision: 0 \n",
      "Recall: 0.0 \n",
      "Aging Rate: 0.0\n",
      "\u001b[32m[I 2022-03-17 15:09:08,233]\u001b[0m Trial 0 finished with value: 0.0 and parameters: {'n_estimators': 500, 'learning_rate': 0.225, 'max_depth': 15, 'num_leaves': 50, 'min_child_samples': 5000, 'min_split_gain': 4, 'colsample_bytree': 0.9, 'subsample': 0.3, 'reg_alpha': 0.040775332441646966, 'reg_lambda': 0.2192985630633279}. Best is trial 0 with value: 0.0.\u001b[0m\n",
      "Precision: 0.8571428571428571 \n",
      "Recall: 0.8823529411764706 \n",
      "Aging Rate: 0.5147058823529411\n",
      "Precision: 0.8622754491017964 \n",
      "Recall: 0.8470588235294118 \n",
      "Aging Rate: 0.49117647058823527\n",
      "Precision: 0.8606060606060606 \n",
      "Recall: 0.8352941176470589 \n",
      "Aging Rate: 0.4852941176470588\n",
      "\u001b[32m[I 2022-03-17 15:09:08,523]\u001b[0m Trial 1 finished with value: 0.857308605983115 and parameters: {'n_estimators': 300, 'learning_rate': 0.17500000000000002, 'max_depth': 12, 'num_leaves': 10, 'min_child_samples': 100, 'min_split_gain': 4, 'colsample_bytree': 0.5, 'subsample': 0.5, 'reg_alpha': 0.24913003175490436, 'reg_lambda': 1.4116398493909237}. Best is trial 1 with value: 0.857308605983115.\u001b[0m\n",
      "Precision: 0.9464285714285714 \n",
      "Recall: 0.9352941176470588 \n",
      "Aging Rate: 0.49411764705882355\n",
      "Precision: 0.9640718562874252 \n",
      "Recall: 0.9470588235294117 \n",
      "Aging Rate: 0.49117647058823527\n",
      "Precision: 0.9464285714285714 \n",
      "Recall: 0.9352941176470588 \n",
      "Aging Rate: 0.49411764705882355\n",
      "\u001b[32m[I 2022-03-17 15:09:08,896]\u001b[0m Trial 2 finished with value: 0.9457154729923504 and parameters: {'n_estimators': 500, 'learning_rate': 0.225, 'max_depth': 9, 'num_leaves': 30, 'min_child_samples': 10, 'min_split_gain': 4, 'colsample_bytree': 0.3, 'subsample': 0.3, 'reg_alpha': 2.3256439293021023, 'reg_lambda': 0.3908451828328379}. Best is trial 2 with value: 0.9457154729923504.\u001b[0m\n",
      "Precision: 0.8641975308641975 \n",
      "Recall: 0.8235294117647058 \n",
      "Aging Rate: 0.4764705882352941\n",
      "Precision: 0.8776978417266187 \n",
      "Recall: 0.7176470588235294 \n",
      "Aging Rate: 0.4088235294117647\n",
      "Precision: 0.8742138364779874 \n",
      "Recall: 0.8176470588235294 \n",
      "Aging Rate: 0.4676470588235294\n",
      "\u001b[32m[I 2022-03-17 15:09:09,184]\u001b[0m Trial 3 finished with value: 0.8260007697841661 and parameters: {'n_estimators': 300, 'learning_rate': 0.17500000000000002, 'max_depth': 9, 'num_leaves': 130, 'min_child_samples': 100, 'min_split_gain': 12, 'colsample_bytree': 0.5, 'subsample': 0.7, 'reg_alpha': 1.481327439841893, 'reg_lambda': 3.3719468533924344}. Best is trial 2 with value: 0.9457154729923504.\u001b[0m\n",
      "Precision: 0.8662790697674418 \n",
      "Recall: 0.8764705882352941 \n",
      "Aging Rate: 0.5058823529411764\n",
      "Precision: 0.9050632911392406 \n",
      "Recall: 0.8411764705882353 \n",
      "Aging Rate: 0.4647058823529412\n",
      "Precision: 0.8305084745762712 \n",
      "Recall: 0.8647058823529412 \n",
      "Aging Rate: 0.5205882352941177\n",
      "\u001b[32m[I 2022-03-17 15:09:09,401]\u001b[0m Trial 4 finished with value: 0.8635194988635261 and parameters: {'n_estimators': 500, 'learning_rate': 0.225, 'max_depth': 15, 'num_leaves': 130, 'min_child_samples': 100, 'min_split_gain': 4, 'colsample_bytree': 0.9, 'subsample': 0.3, 'reg_alpha': 0.06244536176237335, 'reg_lambda': 8.006402875134585}. Best is trial 2 with value: 0.9457154729923504.\u001b[0m\n",
      "Precision: 0 \n",
      "Recall: 0.0 \n",
      "Aging Rate:"
     ]
    },
    {
     "name": "stderr",
     "output_type": "stream",
     "text": [
      "invalid value encountered in double_scalars\n",
      "invalid value encountered in double_scalars\n",
      "invalid value encountered in double_scalars\n",
      "invalid value encountered in double_scalars\n",
      "invalid value encountered in double_scalars\n"
     ]
    },
    {
     "name": "stdout",
     "output_type": "stream",
     "text": [
      " 0.0\n",
      "Precision: 0 \n",
      "Recall: 0.0 \n",
      "Aging Rate: 0.0\n",
      "Precision: 0 \n",
      "Recall: 0.0 \n",
      "Aging Rate: 0.0\n",
      "\u001b[32m[I 2022-03-17 15:09:09,569]\u001b[0m Trial 5 finished with value: 0.0 and parameters: {'n_estimators': 300, 'learning_rate': 0.125, 'max_depth': 6, 'num_leaves': 90, 'min_child_samples': 5000, 'min_split_gain': 2, 'colsample_bytree': 0.7, 'subsample': 0.7, 'reg_alpha': 0.012553528952878434, 'reg_lambda': 0.01151061517804264}. Best is trial 2 with value: 0.9457154729923504.\u001b[0m\n",
      "Precision: 0 \n",
      "Recall: 0.0 \n",
      "Aging Rate: 0.0\n",
      "Precision: 0 \n",
      "Recall: 0.0 \n",
      "Aging Rate: 0.0\n"
     ]
    },
    {
     "name": "stderr",
     "output_type": "stream",
     "text": [
      "invalid value encountered in double_scalars\n",
      "invalid value encountered in double_scalars\n",
      "invalid value encountered in double_scalars\n",
      "invalid value encountered in double_scalars\n"
     ]
    },
    {
     "name": "stdout",
     "output_type": "stream",
     "text": [
      "Precision: 0 \n",
      "Recall: 0.0 \n",
      "Aging Rate: 0.0\n",
      "\u001b[32m[I 2022-03-17 15:09:09,745]\u001b[0m Trial 6 finished with value: 0.0 and parameters: {'n_estimators': 500, 'learning_rate': 0.125, 'max_depth': 3, 'num_leaves': 150, 'min_child_samples': 5000, 'min_split_gain': 2, 'colsample_bytree': 0.3, 'subsample': 0.5, 'reg_alpha': 0.481415150089879, 'reg_lambda': 7.2013001533668355}. Best is trial 2 with value: 0.9457154729923504.\u001b[0m\n",
      "Precision: 0 \n",
      "Recall: 0.0 \n",
      "Aging Rate: 0.0\n",
      "Precision: 0 \n",
      "Recall: 0.0 \n",
      "Aging Rate: 0.0\n",
      "Precision: 0 \n",
      "Recall: 0.0 \n",
      "Aging Rate: 0.0\n",
      "\u001b[32m[I 2022-03-17 15:09:09,911]\u001b[0m Trial 7 finished with value: 0.0 and parameters: {'n_estimators': 100, 'learning_rate': 0.275, 'max_depth': 9, 'num_leaves': 10, 'min_child_samples': 1000, 'min_split_gain': 4, 'colsample_bytree': 0.3, 'subsample': 0.7, 'reg_alpha': 6.719767553648595, 'reg_lambda': 0.6601546109701552}. Best is trial 2 with value: 0.9457154729923504.\u001b[0m\n"
     ]
    },
    {
     "name": "stderr",
     "output_type": "stream",
     "text": [
      "invalid value encountered in double_scalars\n",
      "invalid value encountered in double_scalars\n",
      "invalid value encountered in double_scalars\n"
     ]
    },
    {
     "name": "stdout",
     "output_type": "stream",
     "text": [
      "Precision: 0 \n",
      "Recall: 0.0 \n",
      "Aging Rate: 0.0\n",
      "Precision: 0 \n",
      "Recall: 0.0 \n",
      "Aging Rate: 0.0\n",
      "Precision: 0 \n",
      "Recall: 0.0 \n",
      "Aging Rate: 0.0\n",
      "\u001b[32m[I 2022-03-17 15:09:10,074]\u001b[0m Trial 8 finished with value: 0.0 and parameters: {'n_estimators': 100, 'learning_rate': 0.225, 'max_depth': 6, 'num_leaves': 50, 'min_child_samples': 1000, 'min_split_gain': 6, 'colsample_bytree': 0.7, 'subsample': 0.7, 'reg_alpha': 0.023750143403356107, 'reg_lambda': 0.17618058468562112}. Best is trial 2 with value: 0.9457154729923504.\u001b[0m\n",
      "Precision: 0.9461077844311377 \n",
      "Recall: 0.9294117647058824 \n",
      "Aging Rate: 0.49117647058823527\n",
      "Precision: 0.9691358024691358 \n",
      "Recall: 0.9235294117647059 \n",
      "Aging Rate: 0.4764705882352941\n",
      "Precision: 0.9702380952380952 \n",
      "Recall: 0.9588235294117647 \n",
      "Aging Rate: 0.49411764705882355\n",
      "\u001b[32m[I 2022-03-17 15:09:10,296]\u001b[0m Trial 9 finished with value: 0.9493218779636307 and parameters: {'n_estimators': 100, 'learning_rate': 0.225, 'max_depth': 15, 'num_leaves': 90, 'min_child_samples': 10, 'min_split_gain': 4, 'colsample_bytree': 0.3, 'subsample': 0.3, 'reg_alpha': 0.05106708043340565, 'reg_lambda': 0.4194195618980593}. Best is trial 9 with value: 0.9493218779636307.\u001b[0m\n",
      "Precision:"
     ]
    },
    {
     "name": "stderr",
     "output_type": "stream",
     "text": [
      "invalid value encountered in double_scalars\n",
      "invalid value encountered in double_scalars\n",
      "invalid value encountered in double_scalars\n"
     ]
    },
    {
     "name": "stdout",
     "output_type": "stream",
     "text": [
      " 0 \n",
      "Recall: 0.0 \n",
      "Aging Rate: 0.0\n",
      "Precision: 0 \n",
      "Recall: 0.0 \n",
      "Aging Rate: 0.0\n",
      "Precision: 0 \n",
      "Recall: 0.0 \n",
      "Aging Rate: 0.0\n",
      "\u001b[32m[I 2022-03-17 15:09:10,541]\u001b[0m Trial 10 finished with value: 0.0 and parameters: {'n_estimators': 1000, 'learning_rate': 0.025, 'max_depth': 15, 'num_leaves': 90, 'min_child_samples': 500, 'min_split_gain': 10, 'colsample_bytree': 0.5, 'subsample': 0.9, 'reg_alpha': 0.14921306015293878, 'reg_lambda': 0.04108146421645851}. Best is trial 9 with value: 0.9493218779636307.\u001b[0m\n",
      "Precision: 0.9096385542168675 \n",
      "Recall: 0.888235294117647 \n",
      "Aging Rate: 0.48823529411764705\n",
      "Precision: 0.8421052631578947 \n",
      "Recall: 0.8470588235294118 \n",
      "Aging Rate: 0.5029411764705882\n",
      "Precision: 0.9058823529411765 \n",
      "Recall: 0.9058823529411765 \n",
      "Aging Rate: 0.5\n",
      "\u001b[32m[I 2022-03-17 15:09:10,775]\u001b[0m Trial 11 finished with value: 0.883088885603117 and parameters: {'n_estimators': 100, 'learning_rate': 0.325, 'max_depth': 12, 'num_leaves': 50, 'min_child_samples': 10, 'min_split_gain': 8, 'colsample_bytree': 0.3, 'subsample': 0.3, 'reg_alpha': 4.997536102158775, 'reg_lambda': 0.05319604541142519}. Best is trial 9 with value: 0.9493218779636307.\u001b[0m\n"
     ]
    }
   ],
   "source": [
    "##### datasets are optimized by by optuna ##### \n",
    "base_param_monthC = optimize_base(train_data = data_dict, \n",
    "                                  mode = 'C', \n",
    "                                  TPE_multi = False, \n",
    "                                  base_list = target_model,\n",
    "                                  iter_dict = target_iter,\n",
    "                                  filename = 'runhist_array_m2m4_m5_3criteria')"
   ]
  },
  {
   "cell_type": "code",
   "execution_count": 11,
   "metadata": {
    "ExecuteTime": {
     "end_time": "2022-03-17T03:22:47.270702Z",
     "start_time": "2022-03-17T03:22:47.255743Z"
    }
   },
   "outputs": [],
   "source": [
    "##### or load hyperparmeters of base learner from stackingCV scheme 3 #####\n",
    "base_param_monthC = month_param(date = '20220315', \n",
    "                                month_list = list(target_month), \n",
    "                                model_list = target_model, \n",
    "                                iter_dict = target_iter, \n",
    "                                filename = 'runhist_array_m2m4_m5_3criteria', \n",
    "                                mode = 'C', \n",
    "                                TPE_multi = False)"
   ]
  },
  {
   "cell_type": "markdown",
   "metadata": {},
   "source": [
    "### Data Transformation"
   ]
  },
  {
   "cell_type": "code",
   "execution_count": 64,
   "metadata": {
    "ExecuteTime": {
     "end_time": "2022-03-17T07:06:06.700785Z",
     "start_time": "2022-03-17T07:05:33.697181Z"
    },
    "scrolled": true
   },
   "outputs": [
    {
     "name": "stdout",
     "output_type": "stream",
     "text": [
      "Transform Training Data:\n"
     ]
    },
    {
     "data": {
      "application/vnd.jupyter.widget-view+json": {
       "model_id": "5824e39c5800488ab8faedaa02681e95",
       "version_major": 2,
       "version_minor": 0
      },
      "text/plain": [
       "  0%|          | 0/9 [00:00<?, ?it/s]"
      ]
     },
     "metadata": {},
     "output_type": "display_data"
    },
    {
     "data": {
      "application/vnd.jupyter.widget-view+json": {
       "model_id": "898cca3c30ba4e8facb714911450396c",
       "version_major": 2,
       "version_minor": 0
      },
      "text/plain": [
       "  0%|          | 0/3 [00:00<?, ?it/s]"
      ]
     },
     "metadata": {},
     "output_type": "display_data"
    },
    {
     "data": {
      "application/vnd.jupyter.widget-view+json": {
       "model_id": "325797fc2d9a411db29f9c1fd24cf914",
       "version_major": 2,
       "version_minor": 0
      },
      "text/plain": [
       "  0%|          | 0/3 [00:00<?, ?it/s]"
      ]
     },
     "metadata": {},
     "output_type": "display_data"
    },
    {
     "data": {
      "application/vnd.jupyter.widget-view+json": {
       "model_id": "53c74720798440839a997d87b9d375fb",
       "version_major": 2,
       "version_minor": 0
      },
      "text/plain": [
       "  0%|          | 0/3 [00:00<?, ?it/s]"
      ]
     },
     "metadata": {},
     "output_type": "display_data"
    },
    {
     "data": {
      "application/vnd.jupyter.widget-view+json": {
       "model_id": "e968d88dbfec4c8cbef4c423ef82532d",
       "version_major": 2,
       "version_minor": 0
      },
      "text/plain": [
       "  0%|          | 0/3 [00:00<?, ?it/s]"
      ]
     },
     "metadata": {},
     "output_type": "display_data"
    },
    {
     "data": {
      "application/vnd.jupyter.widget-view+json": {
       "model_id": "5a345245714f498eafa07a16ea075410",
       "version_major": 2,
       "version_minor": 0
      },
      "text/plain": [
       "  0%|          | 0/3 [00:00<?, ?it/s]"
      ]
     },
     "metadata": {},
     "output_type": "display_data"
    },
    {
     "data": {
      "application/vnd.jupyter.widget-view+json": {
       "model_id": "b431aa881e4a4ca783b5771af4b3b75a",
       "version_major": 2,
       "version_minor": 0
      },
      "text/plain": [
       "  0%|          | 0/3 [00:00<?, ?it/s]"
      ]
     },
     "metadata": {},
     "output_type": "display_data"
    },
    {
     "data": {
      "application/vnd.jupyter.widget-view+json": {
       "model_id": "fa9836a7936e43eeb0828a5cb750d0ce",
       "version_major": 2,
       "version_minor": 0
      },
      "text/plain": [
       "  0%|          | 0/3 [00:00<?, ?it/s]"
      ]
     },
     "metadata": {},
     "output_type": "display_data"
    },
    {
     "data": {
      "application/vnd.jupyter.widget-view+json": {
       "model_id": "54071c40868f4f29a70a00eacf1f44d9",
       "version_major": 2,
       "version_minor": 0
      },
      "text/plain": [
       "  0%|          | 0/3 [00:00<?, ?it/s]"
      ]
     },
     "metadata": {},
     "output_type": "display_data"
    },
    {
     "data": {
      "application/vnd.jupyter.widget-view+json": {
       "model_id": "041937ca3c5740c09120178727e8f928",
       "version_major": 2,
       "version_minor": 0
      },
      "text/plain": [
       "  0%|          | 0/3 [00:00<?, ?it/s]"
      ]
     },
     "metadata": {},
     "output_type": "display_data"
    },
    {
     "name": "stdout",
     "output_type": "stream",
     "text": [
      "\n",
      "Transform Testing Data:\n"
     ]
    },
    {
     "data": {
      "application/vnd.jupyter.widget-view+json": {
       "model_id": "6b1d6680ee3f42458b804d31fd1a9c39",
       "version_major": 2,
       "version_minor": 0
      },
      "text/plain": [
       "  0%|          | 0/9 [00:00<?, ?it/s]"
      ]
     },
     "metadata": {},
     "output_type": "display_data"
    },
    {
     "data": {
      "application/vnd.jupyter.widget-view+json": {
       "model_id": "5453429046784cc4a16cd75f63caf64a",
       "version_major": 2,
       "version_minor": 0
      },
      "text/plain": [
       "  0%|          | 0/3 [00:00<?, ?it/s]"
      ]
     },
     "metadata": {},
     "output_type": "display_data"
    },
    {
     "data": {
      "application/vnd.jupyter.widget-view+json": {
       "model_id": "273d9fc0e60a462289c550e61105d862",
       "version_major": 2,
       "version_minor": 0
      },
      "text/plain": [
       "  0%|          | 0/3 [00:00<?, ?it/s]"
      ]
     },
     "metadata": {},
     "output_type": "display_data"
    },
    {
     "data": {
      "application/vnd.jupyter.widget-view+json": {
       "model_id": "0f5eea5462f248e7a6dbb2f3ce39e8e7",
       "version_major": 2,
       "version_minor": 0
      },
      "text/plain": [
       "  0%|          | 0/3 [00:00<?, ?it/s]"
      ]
     },
     "metadata": {},
     "output_type": "display_data"
    },
    {
     "data": {
      "application/vnd.jupyter.widget-view+json": {
       "model_id": "7dd3bf9389dd485393ac9d80a7bdf9c7",
       "version_major": 2,
       "version_minor": 0
      },
      "text/plain": [
       "  0%|          | 0/3 [00:00<?, ?it/s]"
      ]
     },
     "metadata": {},
     "output_type": "display_data"
    },
    {
     "data": {
      "application/vnd.jupyter.widget-view+json": {
       "model_id": "6e0529229d534f2da548ff121baf09f1",
       "version_major": 2,
       "version_minor": 0
      },
      "text/plain": [
       "  0%|          | 0/3 [00:00<?, ?it/s]"
      ]
     },
     "metadata": {},
     "output_type": "display_data"
    },
    {
     "data": {
      "application/vnd.jupyter.widget-view+json": {
       "model_id": "b20210780f634e7a99e3a80ac4e216d3",
       "version_major": 2,
       "version_minor": 0
      },
      "text/plain": [
       "  0%|          | 0/3 [00:00<?, ?it/s]"
      ]
     },
     "metadata": {},
     "output_type": "display_data"
    },
    {
     "data": {
      "application/vnd.jupyter.widget-view+json": {
       "model_id": "79790a1020f94b41bf89ef2e53706972",
       "version_major": 2,
       "version_minor": 0
      },
      "text/plain": [
       "  0%|          | 0/3 [00:00<?, ?it/s]"
      ]
     },
     "metadata": {},
     "output_type": "display_data"
    },
    {
     "data": {
      "application/vnd.jupyter.widget-view+json": {
       "model_id": "5abe015ef3df451a9e3a7745eba01f16",
       "version_major": 2,
       "version_minor": 0
      },
      "text/plain": [
       "  0%|          | 0/3 [00:00<?, ?it/s]"
      ]
     },
     "metadata": {},
     "output_type": "display_data"
    },
    {
     "data": {
      "application/vnd.jupyter.widget-view+json": {
       "model_id": "c8f66f15772d4455a0ccc4e4b96f3b63",
       "version_major": 2,
       "version_minor": 0
      },
      "text/plain": [
       "  0%|          | 0/3 [00:00<?, ?it/s]"
      ]
     },
     "metadata": {},
     "output_type": "display_data"
    },
    {
     "name": "stdout",
     "output_type": "stream",
     "text": [
      "\n",
      "Labels of  9 datasets are divided.\n",
      "\n",
      "Labels of  9 datasets are divided.\n"
     ]
    }
   ],
   "source": [
    "print('Transform Training Data:')\n",
    "train_firstC = transform_train(run_train,  \n",
    "                               mode = 'C', \n",
    "                               base_param = base_param_monthC, \n",
    "                               cv = 5,\n",
    "                               add_origin = True)\n",
    "print('\\nTransform Testing Data:')\n",
    "test_firstC = transform_test(data_dict,\n",
    "                             run_test, \n",
    "                             mode = 'C', \n",
    "                             base_param = base_param_monthC,\n",
    "                             add_origin = True)\n",
    "\n",
    "# not all features in the training dataset exist in the testing as well\n",
    "print('\\nSelect Features in both Training & Testing Dataset:')\n",
    "for i in train_firstC.keys():\n",
    "    train_firstC[i] = train_col(test_firstC[i], train_firstC[i])\n",
    "\n",
    "train_firstC_x, train_firstC_y = train_set(train_firstC)\n",
    "test_firstC_x, test_firstC_y = train_set(test_firstC) \n",
    "    \n",
    "# ignore\n",
    "train_firstC['set0'] = {}"
   ]
  },
  {
   "cell_type": "markdown",
   "metadata": {},
   "source": [
    "## Meta Learner"
   ]
  },
  {
   "cell_type": "markdown",
   "metadata": {},
   "source": [
    "### Search for The Best Hyperparameters"
   ]
  },
  {
   "cell_type": "code",
   "execution_count": 46,
   "metadata": {
    "ExecuteTime": {
     "end_time": "2022-03-17T06:27:41.667592Z",
     "start_time": "2022-03-17T06:25:04.670681Z"
    },
    "scrolled": true
   },
   "outputs": [
    {
     "data": {
      "application/vnd.jupyter.widget-view+json": {
       "model_id": "4c870d533f2b48b69574f6e969f460e9",
       "version_major": 2,
       "version_minor": 0
      },
      "text/plain": [
       "  0%|          | 0/9 [00:00<?, ?it/s]"
      ]
     },
     "metadata": {},
     "output_type": "display_data"
    },
    {
     "name": "stderr",
     "output_type": "stream",
     "text": [
      "\u001b[32m[I 2022-03-17 14:25:04,685]\u001b[0m A new study created in memory with name: no-name-7aad86c0-f063-4a7c-a226-47a5137bf691\u001b[0m\n"
     ]
    },
    {
     "name": "stdout",
     "output_type": "stream",
     "text": [
      "Dataset 1 :\n"
     ]
    },
    {
     "name": "stderr",
     "output_type": "stream",
     "text": [
      "Progress bar is experimental (supported from v1.2.0). The interface can change in the future.\n"
     ]
    },
    {
     "data": {
      "application/vnd.jupyter.widget-view+json": {
       "model_id": "f8e6e77bcaff4139ad50d2c9f74dce91",
       "version_major": 2,
       "version_minor": 0
      },
      "text/plain": [
       "  0%|          | 0/10 [00:00<?, ?it/s]"
      ]
     },
     "metadata": {},
     "output_type": "display_data"
    },
    {
     "name": "stdout",
     "output_type": "stream",
     "text": [
      "Precision: 0.9818652849740933 \n",
      "Recall: 0.9882659713168188 \n",
      "Aging Rate: 0.5032594524119948\n",
      "Precision: 0.9830729166666666 \n",
      "Recall: 0.984354628422425 \n",
      "Aging Rate: 0.500651890482399\n",
      "Precision: 0.9857328145265889 \n",
      "Recall: 0.9908735332464146 \n",
      "Aging Rate: 0.5026075619295959\n",
      "\u001b[32m[I 2022-03-17 14:25:06,881]\u001b[0m Trial 0 finished with value: 0.9856883582216032 and parameters: {'meta_learner': 'ExtraTrees', 'n_estimators': 500, 'min_samples_split': 18, 'max_depth': 2}. Best is trial 0 with value: 0.9856883582216032.\u001b[0m\n",
      "Precision: 0.9844155844155844 \n",
      "Recall: 0.9882659713168188 \n",
      "Aging Rate: 0.5019556714471969\n",
      "Precision: 0.9857512953367875 \n",
      "Recall: 0.9921773142112125 \n",
      "Aging Rate: 0.5032594524119948\n",
      "Precision: 0.9869791666666666 \n",
      "Recall: 0.9882659713168188 \n",
      "Aging Rate: 0.500651890482399\n",
      "\u001b[32m[I 2022-03-17 14:25:08,224]\u001b[0m Trial 1 finished with value: 0.9876376787177144 and parameters: {'meta_learner': 'ExtraTrees', 'n_estimators': 100, 'min_samples_split': 2, 'max_depth': 2}. Best is trial 1 with value: 0.9876376787177144.\u001b[0m\n",
      "Precision: 0.990909090909091 \n",
      "Recall: 0.9947848761408083 \n",
      "Aging Rate: 0.5019556714471969\n",
      "Precision: 0.9895287958115183 \n",
      "Recall: 0.9856584093872229 \n",
      "Aging Rate: 0.4980443285528031\n",
      "Precision: 0.9870633893919794 \n",
      "Recall: 0.9947848761408083 \n",
      "Aging Rate: 0.5039113428943938\n",
      "\u001b[32m[I 2022-03-17 14:25:10,051]\u001b[0m Trial 2 finished with value: 0.9904473675104665 and parameters: {'meta_learner': 'ExtraTrees', 'n_estimators': 300, 'min_samples_split': 16, 'max_depth': 2}. Best is trial 2 with value: 0.9904473675104665.\u001b[0m\n",
      "Precision: 0.9856957087126138 \n",
      "Recall: 0.9882659713168188 \n",
      "Aging Rate: 0.5013037809647979\n",
      "Precision: 0.9934725848563969 \n",
      "Recall: 0.9921773142112125 \n",
      "Aging Rate: 0.49934810951760106\n",
      "Precision: 0.9921671018276762 \n",
      "Recall: 0.9908735332464146 \n",
      "Aging Rate: 0.49934810951760106\n",
      "\u001b[32m[I 2022-03-17 14:25:11,361]\u001b[0m Trial 3 finished with value: 0.9904411964557512 and parameters: {'meta_learner': 'ExtraTrees', 'n_estimators': 100, 'min_samples_split': 4, 'max_depth': 2}. Best is trial 2 with value: 0.9904473675104665.\u001b[0m\n",
      "Precision: 0.9907651715039578 \n",
      "Recall: 0.9791395045632334 \n",
      "Aging Rate: 0.4941329856584094\n",
      "Precision: 0.9960474308300395 \n",
      "Recall: 0.9856584093872229 \n",
      "Aging Rate: 0.49478487614080835\n",
      "Precision: 0.9908854166666666 \n",
      "Recall: 0.9921773142112125 \n",
      "Aging Rate: 0.500651890482399\n",
      "\u001b[32m[I 2022-03-17 14:25:13,190]\u001b[0m Trial 4 finished with value: 0.9890915551618957 and parameters: {'meta_learner': 'ExtraTrees', 'n_estimators': 300, 'min_samples_split': 22, 'max_depth': 4}. Best is trial 2 with value: 0.9904473675104665.\u001b[0m\n",
      "Precision: 0.9831168831168832 \n",
      "Recall: 0.9869621903520208 \n",
      "Aging Rate: 0.5019556714471969\n",
      "Precision: 0.9883268482490273 \n",
      "Recall: 0.9934810951760105 \n",
      "Aging Rate: 0.5026075619295959\n",
      "Precision: 0.9819354838709677 \n",
      "Recall: 0.9921773142112125 \n",
      "Aging Rate: 0.5052151238591917\n",
      "\u001b[32m[I 2022-03-17 14:25:15,014]\u001b[0m Trial 5 finished with value: 0.9876542948544524 and parameters: {'meta_learner': 'ExtraTrees', 'n_estimators': 300, 'min_samples_split': 12, 'max_depth': 2}. Best is trial 2 with value: 0.9904473675104665.\u001b[0m\n",
      "Precision: 0.9895968790637191 \n",
      "Recall: 0.9921773142112125 \n",
      "Aging Rate: 0.5013037809647979\n",
      "Precision: 0.9895150720838795 \n",
      "Recall: 0.984354628422425 \n",
      "Aging Rate: 0.4973924380704042\n",
      "Precision: 0.987012987012987 \n",
      "Recall: 0.9908735332464146 \n",
      "Aging Rate: 0.5019556714471969\n",
      "\u001b[32m[I 2022-03-17 14:25:16,350]\u001b[0m Trial 6 finished with value: 0.9889176712532407 and parameters: {'meta_learner': 'ExtraTrees', 'n_estimators': 100, 'min_samples_split': 14, 'max_depth': 2}. Best is trial 2 with value: 0.9904473675104665.\u001b[0m\n",
      "Precision: 0.9882506527415144 \n",
      "Recall: 0.9869621903520208 \n",
      "Aging Rate: 0.49934810951760106\n",
      "Precision: 0.9857142857142858 \n",
      "Recall: 0.9895697522816167 \n",
      "Aging Rate: 0.5019556714471969\n",
      "Precision: 0.9831387808041504 \n",
      "Recall: 0.9882659713168188 \n",
      "Aging Rate: 0.5026075619295959\n",
      "\u001b[32m[I 2022-03-17 14:25:18,203]\u001b[0m Trial 7 finished with value: 0.9869799887869238 and parameters: {'meta_learner': 'ExtraTrees', 'n_estimators': 300, 'min_samples_split': 18, 'max_depth': 2}. Best is trial 2 with value: 0.9904473675104665.\u001b[0m\n",
      "Precision: 0.9869281045751634 \n",
      "Recall: 0.984354628422425 \n",
      "Aging Rate: 0.49869621903520206\n",
      "Precision: 0.9921976592977894 \n",
      "Recall: 0.9947848761408083 \n",
      "Aging Rate: 0.5013037809647979\n",
      "Precision: 0.988296488946684 \n",
      "Recall: 0.9908735332464146 \n",
      "Aging Rate: 0.5013037809647979\n",
      "\u001b[32m[I 2022-03-17 14:25:20,020]\u001b[0m Trial 8 finished with value: 0.98957086778358 and parameters: {'meta_learner': 'ExtraTrees', 'n_estimators': 300, 'min_samples_split': 16, 'max_depth': 3}. Best is trial 2 with value: 0.9904473675104665.\u001b[0m\n",
      "Precision: 0.9857697283311773 \n",
      "Recall: 0.9934810951760105 \n",
      "Aging Rate: 0.5039113428943938\n",
      "Precision: 0.9882506527415144 \n",
      "Recall: 0.9869621903520208 \n",
      "Aging Rate: 0.49934810951760106\n"
     ]
    },
    {
     "name": "stderr",
     "output_type": "stream",
     "text": [
      "\u001b[32m[I 2022-03-17 14:25:21,470]\u001b[0m A new study created in memory with name: no-name-ec35bdac-6184-4141-83fe-970c834e6ce0\u001b[0m\n"
     ]
    },
    {
     "name": "stdout",
     "output_type": "stream",
     "text": [
      "Precision: 0.9908616187989556 \n",
      "Recall: 0.9895697522816167 \n",
      "Aging Rate: 0.49934810951760106\n",
      "\u001b[32m[I 2022-03-17 14:25:21,368]\u001b[0m Trial 9 finished with value: 0.989143885034296 and parameters: {'meta_learner': 'ExtraTrees', 'n_estimators': 100, 'min_samples_split': 2, 'max_depth': 4}. Best is trial 2 with value: 0.9904473675104665.\u001b[0m\n",
      "Sampler is TPESampler\n",
      "Dataset 2 :\n"
     ]
    },
    {
     "name": "stderr",
     "output_type": "stream",
     "text": [
      "Progress bar is experimental (supported from v1.2.0). The interface can change in the future.\n"
     ]
    },
    {
     "data": {
      "application/vnd.jupyter.widget-view+json": {
       "model_id": "7e43bb40510f46909face67f54d94977",
       "version_major": 2,
       "version_minor": 0
      },
      "text/plain": [
       "  0%|          | 0/10 [00:00<?, ?it/s]"
      ]
     },
     "metadata": {},
     "output_type": "display_data"
    },
    {
     "name": "stdout",
     "output_type": "stream",
     "text": [
      "Precision: 0.9892328398384926 \n",
      "Recall: 0.98 \n",
      "Aging Rate: 0.49533333333333335\n",
      "Precision: 0.9800796812749004 \n",
      "Recall: 0.984 \n",
      "Aging Rate: 0.502\n",
      "Precision: 0.9905660377358491 \n",
      "Recall: 0.98 \n",
      "Aging Rate: 0.49466666666666664\n",
      "\u001b[32m[I 2022-03-17 14:25:22,741]\u001b[0m Trial 0 finished with value: 0.9839617984840929 and parameters: {'meta_learner': 'ExtraTrees', 'n_estimators': 100, 'min_samples_split': 22, 'max_depth': 3}. Best is trial 0 with value: 0.9839617984840929.\u001b[0m\n",
      "Precision: 0.9840637450199203 \n",
      "Recall: 0.988 \n",
      "Aging Rate: 0.502\n",
      "Precision: 0.9788359788359788 \n",
      "Recall: 0.9866666666666667 \n",
      "Aging Rate: 0.504\n",
      "Precision: 0.9840637450199203 \n",
      "Recall: 0.988 \n",
      "Aging Rate: 0.502\n",
      "\u001b[32m[I 2022-03-17 14:25:24,065]\u001b[0m Trial 1 finished with value: 0.9849305373317111 and parameters: {'meta_learner': 'ExtraTrees', 'n_estimators': 100, 'min_samples_split': 10, 'max_depth': 4}. Best is trial 1 with value: 0.9849305373317111.\u001b[0m\n",
      "Precision: 0.9905660377358491 \n",
      "Recall: 0.98 \n",
      "Aging Rate: 0.49466666666666664\n",
      "Precision: 0.9879679144385026 \n",
      "Recall: 0.9853333333333333 \n",
      "Aging Rate: 0.49866666666666665\n",
      "Precision: 0.9959404600811907 \n",
      "Recall: 0.9813333333333333 \n",
      "Aging Rate: 0.49266666666666664\n",
      "\u001b[32m[I 2022-03-17 14:25:25,384]\u001b[0m Trial 2 finished with value: 0.9868288328046901 and parameters: {'meta_learner': 'ExtraTrees', 'n_estimators': 100, 'min_samples_split': 16, 'max_depth': 4}. Best is trial 2 with value: 0.9868288328046901.\u001b[0m\n",
      "Precision: 0.9906666666666667 \n",
      "Recall: 0.9906666666666667 \n",
      "Aging Rate: 0.5\n",
      "Precision: 0.9788639365918098 \n",
      "Recall: 0.988 \n",
      "Aging Rate: 0.5046666666666667\n",
      "Precision: 0.9827586206896551 \n",
      "Recall: 0.988 \n",
      "Aging Rate: 0.5026666666666667\n",
      "\u001b[32m[I 2022-03-17 14:25:26,745]\u001b[0m Trial 3 finished with value: 0.9864832523087687 and parameters: {'meta_learner': 'ExtraTrees', 'n_estimators': 100, 'min_samples_split': 20, 'max_depth': 4}. Best is trial 2 with value: 0.9868288328046901.\u001b[0m\n",
      "Precision: 0.9827357237715804 \n",
      "Recall: 0.9866666666666667 \n",
      "Aging Rate: 0.502\n",
      "Precision: 0.9854111405835544 \n",
      "Recall: 0.9906666666666667 \n",
      "Aging Rate: 0.5026666666666667\n",
      "Precision: 0.9737876802096985 \n",
      "Recall: 0.9906666666666667 \n",
      "Aging Rate: 0.5086666666666667\n",
      "\u001b[32m[I 2022-03-17 14:25:28,061]\u001b[0m Trial 4 finished with value: 0.9849612822108981 and parameters: {'meta_learner': 'ExtraTrees', 'n_estimators': 100, 'min_samples_split': 2, 'max_depth': 2}. Best is trial 2 with value: 0.9868288328046901.\u001b[0m\n",
      "Precision: 0.9801849405548216 \n",
      "Recall: 0.9893333333333333 \n",
      "Aging Rate: 0.5046666666666667\n",
      "Precision: 0.9748344370860927 \n",
      "Recall: 0.9813333333333333 \n",
      "Aging Rate: 0.5033333333333333\n",
      "Precision: 0.9852941176470589 \n",
      "Recall: 0.9826666666666667 \n",
      "Aging Rate: 0.49866666666666665\n",
      "\u001b[32m[I 2022-03-17 14:25:29,885]\u001b[0m Trial 5 finished with value: 0.9822632059108737 and parameters: {'meta_learner': 'ExtraTrees', 'n_estimators': 300, 'min_samples_split': 16, 'max_depth': 2}. Best is trial 2 with value: 0.9868288328046901.\u001b[0m\n",
      "Precision: 0.9735449735449735 \n",
      "Recall: 0.9813333333333333 \n",
      "Aging Rate: 0.504\n",
      "Precision: 0.9879679144385026 \n",
      "Recall: 0.9853333333333333 \n",
      "Aging Rate: 0.49866666666666665\n",
      "Precision: 0.982620320855615 \n",
      "Recall: 0.98 \n",
      "Aging Rate: 0.49866666666666665\n",
      "\u001b[32m[I 2022-03-17 14:25:32,163]\u001b[0m Trial 6 finished with value: 0.9817936383822371 and parameters: {'meta_learner': 'ExtraTrees', 'n_estimators': 500, 'min_samples_split': 22, 'max_depth': 3}. Best is trial 2 with value: 0.9868288328046901.\u001b[0m\n",
      "Precision: 0.9801849405548216 \n",
      "Recall: 0.9893333333333333 \n",
      "Aging Rate: 0.5046666666666667\n",
      "Precision: 0.9775429326287979 \n",
      "Recall: 0.9866666666666667 \n",
      "Aging Rate: 0.5046666666666667\n",
      "Precision: 0.9866844207723036 \n",
      "Recall: 0.988 \n",
      "Aging Rate: 0.5006666666666667\n",
      "\u001b[32m[I 2022-03-17 14:25:33,506]\u001b[0m Trial 7 finished with value: 0.9847210906067047 and parameters: {'meta_learner': 'ExtraTrees', 'n_estimators': 100, 'min_samples_split': 24, 'max_depth': 4}. Best is trial 2 with value: 0.9868288328046901.\u001b[0m\n",
      "Precision: 0.988 \n",
      "Recall: 0.988 \n",
      "Aging Rate: 0.5\n",
      "Precision: 0.988 \n",
      "Recall: 0.988 \n",
      "Aging Rate: 0.5\n",
      "Precision: 0.9840213049267643 \n",
      "Recall: 0.9853333333333333 \n",
      "Aging Rate: 0.5006666666666667\n",
      "\u001b[32m[I 2022-03-17 14:25:34,852]\u001b[0m Trial 8 finished with value: 0.9868922940262047 and parameters: {'meta_learner': 'ExtraTrees', 'n_estimators': 100, 'min_samples_split': 22, 'max_depth': 4}. Best is trial 8 with value: 0.9868922940262047.\u001b[0m\n",
      "Precision: 0.9840425531914894 \n",
      "Recall: 0.9866666666666667 \n",
      "Aging Rate: 0.5013333333333333\n",
      "Precision: 0.991869918699187 \n",
      "Recall: 0.976 \n",
      "Aging Rate: 0.492\n"
     ]
    },
    {
     "name": "stderr",
     "output_type": "stream",
     "text": [
      "\u001b[32m[I 2022-03-17 14:25:37,234]\u001b[0m A new study created in memory with name: no-name-c67afb71-676f-455c-965c-9425d8473021\u001b[0m\n"
     ]
    },
    {
     "name": "stdout",
     "output_type": "stream",
     "text": [
      "Precision: 0.9814323607427056 \n",
      "Recall: 0.9866666666666667 \n",
      "Aging Rate: 0.5026666666666667\n",
      "\u001b[32m[I 2022-03-17 14:25:37,132]\u001b[0m Trial 9 finished with value: 0.9844221279276529 and parameters: {'meta_learner': 'ExtraTrees', 'n_estimators': 500, 'min_samples_split': 4, 'max_depth': 2}. Best is trial 8 with value: 0.9868922940262047.\u001b[0m\n",
      "Sampler is TPESampler\n",
      "Dataset 3 :\n"
     ]
    },
    {
     "name": "stderr",
     "output_type": "stream",
     "text": [
      "Progress bar is experimental (supported from v1.2.0). The interface can change in the future.\n"
     ]
    },
    {
     "data": {
      "application/vnd.jupyter.widget-view+json": {
       "model_id": "f84dff3228a2445bb10ed795296f94d1",
       "version_major": 2,
       "version_minor": 0
      },
      "text/plain": [
       "  0%|          | 0/10 [00:00<?, ?it/s]"
      ]
     },
     "metadata": {},
     "output_type": "display_data"
    },
    {
     "name": "stdout",
     "output_type": "stream",
     "text": [
      "Precision: 0.9946018893387314 \n",
      "Recall: 0.9710144927536232 \n",
      "Aging Rate: 0.4881422924901186\n",
      "Precision: 0.9959731543624161 \n",
      "Recall: 0.9776021080368906 \n",
      "Aging Rate: 0.49077733860342554\n",
      "Precision: 0.9986595174262735 \n",
      "Recall: 0.9815546772068511 \n",
      "Aging Rate: 0.4914361001317523\n",
      "\u001b[32m[I 2022-03-17 14:25:38,931]\u001b[0m Trial 0 finished with value: 0.9864673389725344 and parameters: {'meta_learner': 'ExtraTrees', 'n_estimators': 300, 'min_samples_split': 16, 'max_depth': 4}. Best is trial 0 with value: 0.9864673389725344.\u001b[0m\n",
      "Precision: 0.9959677419354839 \n",
      "Recall: 0.9762845849802372 \n",
      "Aging Rate: 0.4901185770750988\n",
      "Precision: 0.9986504723346828 \n",
      "Recall: 0.9749670619235836 \n",
      "Aging Rate: 0.4881422924901186\n",
      "Precision: 0.9946236559139785 \n",
      "Recall: 0.9749670619235836 \n",
      "Aging Rate: 0.4901185770750988\n",
      "\u001b[32m[I 2022-03-17 14:25:40,733]\u001b[0m Trial 1 finished with value: 0.9857972943002883 and parameters: {'meta_learner': 'ExtraTrees', 'n_estimators': 300, 'min_samples_split': 16, 'max_depth': 2}. Best is trial 0 with value: 0.9864673389725344.\u001b[0m\n",
      "Precision: 0.9973045822102425 \n",
      "Recall: 0.9749670619235836 \n",
      "Aging Rate: 0.4888010540184453\n",
      "Precision: 0.9973226238286479 \n",
      "Recall: 0.9815546772068511 \n",
      "Aging Rate: 0.49209486166007904\n",
      "Precision: 0.9973226238286479 \n",
      "Recall: 0.9815546772068511 \n",
      "Aging Rate: 0.49209486166007904\n",
      "\u001b[32m[I 2022-03-17 14:25:41,969]\u001b[0m Trial 2 finished with value: 0.9882536623806056 and parameters: {'meta_learner': 'ExtraTrees', 'n_estimators': 100, 'min_samples_split': 18, 'max_depth': 2}. Best is trial 2 with value: 0.9882536623806056.\u001b[0m\n",
      "Precision: 0.9986504723346828 \n",
      "Recall: 0.9749670619235836 \n",
      "Aging Rate: 0.4881422924901186\n",
      "Precision: 0.9973333333333333 \n",
      "Recall: 0.9855072463768116 \n",
      "Aging Rate: 0.49407114624505927\n",
      "Precision: 1.0 \n",
      "Recall: 0.9749670619235836 \n",
      "Aging Rate: 0.4874835309617918\n",
      "\u001b[32m[I 2022-03-17 14:25:44,223]\u001b[0m Trial 3 finished with value: 0.9884588577054462 and parameters: {'meta_learner': 'ExtraTrees', 'n_estimators': 500, 'min_samples_split': 12, 'max_depth': 4}. Best is trial 3 with value: 0.9884588577054462.\u001b[0m\n",
      "Precision: 0.9973297730307076 \n",
      "Recall: 0.9841897233201581 \n",
      "Aging Rate: 0.49341238471673254\n",
      "Precision: 0.9946737683089214 \n",
      "Recall: 0.9841897233201581 \n",
      "Aging Rate: 0.49472990777338605\n",
      "Precision: 1.0 \n",
      "Recall: 0.9736495388669302 \n",
      "Aging Rate: 0.4868247694334651\n",
      "\u001b[32m[I 2022-03-17 14:25:45,494]\u001b[0m Trial 4 finished with value: 0.9889230063449416 and parameters: {'meta_learner': 'ExtraTrees', 'n_estimators': 100, 'min_samples_split': 20, 'max_depth': 2}. Best is trial 4 with value: 0.9889230063449416.\u001b[0m\n",
      "Precision: 0.9973190348525469 \n",
      "Recall: 0.9802371541501976 \n",
      "Aging Rate: 0.4914361001317523\n",
      "Precision: 0.9986666666666667 \n",
      "Recall: 0.9868247694334651 \n",
      "Aging Rate: 0.49407114624505927\n",
      "Precision: 0.996 \n",
      "Recall: 0.9841897233201581 \n",
      "Aging Rate: 0.49407114624505927\n",
      "\u001b[32m[I 2022-03-17 14:25:47,243]\u001b[0m Trial 5 finished with value: 0.9904914551084046 and parameters: {'meta_learner': 'ExtraTrees', 'n_estimators': 300, 'min_samples_split': 2, 'max_depth': 4}. Best is trial 5 with value: 0.9904914551084046.\u001b[0m\n",
      "Precision: 0.9946808510638298 \n",
      "Recall: 0.9855072463768116 \n",
      "Aging Rate: 0.49538866930171277\n",
      "Precision: 0.9986631016042781 \n",
      "Recall: 0.9841897233201581 \n",
      "Aging Rate: 0.4927536231884058\n",
      "Precision: 0.9959623149394348 \n",
      "Recall: 0.9749670619235836 \n",
      "Aging Rate: 0.4894598155467721\n",
      "\u001b[32m[I 2022-03-17 14:25:48,492]\u001b[0m Trial 6 finished with value: 0.9889330840779397 and parameters: {'meta_learner': 'ExtraTrees', 'n_estimators': 100, 'min_samples_split': 6, 'max_depth': 2}. Best is trial 5 with value: 0.9904914551084046.\u001b[0m\n",
      "Precision: 0.9973118279569892 \n",
      "Recall: 0.9776021080368906 \n",
      "Aging Rate: 0.4901185770750988\n",
      "Precision: 0.9986559139784946 \n",
      "Recall: 0.9789196310935442 \n",
      "Aging Rate: 0.4901185770750988\n",
      "Precision: 0.9986431478968792 \n",
      "Recall: 0.9696969696969697 \n",
      "Aging Rate: 0.4855072463768116\n",
      "\u001b[32m[I 2022-03-17 14:25:49,725]\u001b[0m Trial 7 finished with value: 0.9866683744809844 and parameters: {'meta_learner': 'ExtraTrees', 'n_estimators': 100, 'min_samples_split': 14, 'max_depth': 2}. Best is trial 5 with value: 0.9904914551084046.\u001b[0m\n",
      "Precision: 0.9986595174262735 \n",
      "Recall: 0.9815546772068511 \n",
      "Aging Rate: 0.4914361001317523\n",
      "Precision: 0.9973154362416108 \n",
      "Recall: 0.9789196310935442 \n",
      "Aging Rate: 0.49077733860342554\n",
      "Precision: 1.0 \n",
      "Recall: 0.9736495388669302 \n",
      "Aging Rate: 0.4868247694334651\n",
      "\u001b[32m[I 2022-03-17 14:25:50,989]\u001b[0m Trial 8 finished with value: 0.9882380008795058 and parameters: {'meta_learner': 'ExtraTrees', 'n_estimators': 100, 'min_samples_split': 2, 'max_depth': 4}. Best is trial 5 with value: 0.9904914551084046.\u001b[0m\n",
      "Precision: 0.9973118279569892 \n",
      "Recall: 0.9776021080368906 \n",
      "Aging Rate: 0.4901185770750988\n",
      "Precision: 0.9959946595460614 \n",
      "Recall: 0.9828722002635046 \n",
      "Aging Rate: 0.49341238471673254\n"
     ]
    },
    {
     "name": "stderr",
     "output_type": "stream",
     "text": [
      "\u001b[32m[I 2022-03-17 14:25:53,386]\u001b[0m A new study created in memory with name: no-name-9bb95298-27cf-4852-b78f-c639751bc212\u001b[0m\n"
     ]
    },
    {
     "name": "stdout",
     "output_type": "stream",
     "text": [
      "Precision: 0.9946666666666667 \n",
      "Recall: 0.9828722002635046 \n",
      "Aging Rate: 0.49407114624505927\n",
      "\u001b[32m[I 2022-03-17 14:25:53,272]\u001b[0m Trial 9 finished with value: 0.9884942658752003 and parameters: {'meta_learner': 'ExtraTrees', 'n_estimators': 500, 'min_samples_split': 20, 'max_depth': 4}. Best is trial 5 with value: 0.9904914551084046.\u001b[0m\n",
      "Sampler is TPESampler\n",
      "Dataset 4 :\n"
     ]
    },
    {
     "name": "stderr",
     "output_type": "stream",
     "text": [
      "Progress bar is experimental (supported from v1.2.0). The interface can change in the future.\n"
     ]
    },
    {
     "data": {
      "application/vnd.jupyter.widget-view+json": {
       "model_id": "1abf9cedff0e4f2d9ddf5d8e333388bc",
       "version_major": 2,
       "version_minor": 0
      },
      "text/plain": [
       "  0%|          | 0/10 [00:00<?, ?it/s]"
      ]
     },
     "metadata": {},
     "output_type": "display_data"
    },
    {
     "name": "stdout",
     "output_type": "stream",
     "text": [
      "Precision: 0.9828269484808454 \n",
      "Recall: 0.9789473684210527 \n",
      "Aging Rate: 0.4980263157894737\n",
      "Precision: 0.9919786096256684 \n",
      "Recall: 0.9763157894736842 \n",
      "Aging Rate: 0.4921052631578947\n",
      "Precision: 0.9880478087649402 \n",
      "Recall: 0.9789473684210527 \n",
      "Aging Rate: 0.4953947368421053\n",
      "\u001b[32m[I 2022-03-17 14:25:55,099]\u001b[0m Trial 0 finished with value: 0.98281491322181 and parameters: {'meta_learner': 'ExtraTrees', 'n_estimators': 300, 'min_samples_split': 18, 'max_depth': 4}. Best is trial 0 with value: 0.98281491322181.\u001b[0m\n",
      "Precision: 0.9879518072289156 \n",
      "Recall: 0.9710526315789474 \n",
      "Aging Rate: 0.49144736842105263\n",
      "Precision: 0.9920634920634921 \n",
      "Recall: 0.9868421052631579 \n",
      "Aging Rate: 0.49736842105263157\n",
      "Precision: 0.9907651715039578 \n",
      "Recall: 0.9881578947368421 \n",
      "Aging Rate: 0.4986842105263158\n",
      "\u001b[32m[I 2022-03-17 14:25:57,357]\u001b[0m Trial 1 finished with value: 0.9861116852104342 and parameters: {'meta_learner': 'ExtraTrees', 'n_estimators': 500, 'min_samples_split': 16, 'max_depth': 4}. Best is trial 1 with value: 0.9861116852104342.\u001b[0m\n",
      "Precision: 0.9842312746386334 \n",
      "Recall: 0.9855263157894737 \n",
      "Aging Rate: 0.5006578947368421\n",
      "Precision: 0.9892617449664429 \n",
      "Recall: 0.9697368421052631 \n",
      "Aging Rate: 0.4901315789473684\n",
      "Precision: 0.9880159786950732 \n",
      "Recall: 0.9763157894736842 \n",
      "Aging Rate: 0.49407894736842106\n",
      "\u001b[32m[I 2022-03-17 14:25:59,591]\u001b[0m Trial 2 finished with value: 0.9821371339654082 and parameters: {'meta_learner': 'ExtraTrees', 'n_estimators': 500, 'min_samples_split': 20, 'max_depth': 2}. Best is trial 1 with value: 0.9861116852104342.\u001b[0m\n",
      "Precision: 0.9879679144385026 \n",
      "Recall: 0.9723684210526315 \n",
      "Aging Rate: 0.4921052631578947\n",
      "Precision: 0.9853137516688919 \n",
      "Recall: 0.9710526315789474 \n",
      "Aging Rate: 0.49276315789473685\n",
      "Precision: 0.9893899204244032 \n",
      "Recall: 0.9815789473684211 \n",
      "Aging Rate: 0.49605263157894736\n",
      "\u001b[32m[I 2022-03-17 14:26:01,399]\u001b[0m Trial 3 finished with value: 0.9812354233087611 and parameters: {'meta_learner': 'ExtraTrees', 'n_estimators': 300, 'min_samples_split': 24, 'max_depth': 4}. Best is trial 1 with value: 0.9861116852104342.\u001b[0m\n",
      "Precision: 0.9893617021276596 \n",
      "Recall: 0.9789473684210527 \n",
      "Aging Rate: 0.49473684210526314\n",
      "Precision: 0.9906790945406125 \n",
      "Recall: 0.9789473684210527 \n",
      "Aging Rate: 0.49407894736842106\n",
      "Precision: 0.9946524064171123 \n",
      "Recall: 0.9789473684210527 \n",
      "Aging Rate: 0.4921052631578947\n",
      "\u001b[32m[I 2022-03-17 14:26:03,671]\u001b[0m Trial 4 finished with value: 0.9852142257263323 and parameters: {'meta_learner': 'ExtraTrees', 'n_estimators': 500, 'min_samples_split': 22, 'max_depth': 4}. Best is trial 1 with value: 0.9861116852104342.\u001b[0m\n",
      "Precision: 0.9919571045576407 \n",
      "Recall: 0.9736842105263158 \n",
      "Aging Rate: 0.49078947368421055\n",
      "Precision: 0.9906914893617021 \n",
      "Recall: 0.9802631578947368 \n",
      "Aging Rate: 0.49473684210526314\n",
      "Precision: 0.988 \n",
      "Recall: 0.975 \n",
      "Aging Rate: 0.4934210526315789\n",
      "\u001b[32m[I 2022-03-17 14:26:05,953]\u001b[0m Trial 5 finished with value: 0.9832141376212332 and parameters: {'meta_learner': 'ExtraTrees', 'n_estimators': 500, 'min_samples_split': 18, 'max_depth': 2}. Best is trial 1 with value: 0.9861116852104342.\u001b[0m\n",
      "Precision: 0.9906914893617021 \n",
      "Recall: 0.9802631578947368 \n",
      "Aging Rate: 0.49473684210526314\n",
      "Precision: 0.9894179894179894 \n",
      "Recall: 0.9842105263157894 \n",
      "Aging Rate: 0.49736842105263157\n",
      "Precision: 0.9894598155467721 \n",
      "Recall: 0.9881578947368421 \n",
      "Aging Rate: 0.4993421052631579\n",
      "\u001b[32m[I 2022-03-17 14:26:07,269]\u001b[0m Trial 6 finished with value: 0.9870218499696591 and parameters: {'meta_learner': 'ExtraTrees', 'n_estimators': 100, 'min_samples_split': 4, 'max_depth': 3}. Best is trial 6 with value: 0.9870218499696591.\u001b[0m\n",
      "Precision: 0.9906790945406125 \n",
      "Recall: 0.9789473684210527 \n",
      "Aging Rate: 0.49407894736842106\n",
      "Precision: 0.9920212765957447 \n",
      "Recall: 0.9815789473684211 \n",
      "Aging Rate: 0.49473684210526314\n",
      "Precision: 0.9920106524633822 \n",
      "Recall: 0.9802631578947368 \n",
      "Aging Rate: 0.49407894736842106\n",
      "\u001b[32m[I 2022-03-17 14:26:09,533]\u001b[0m Trial 7 finished with value: 0.9858842328509215 and parameters: {'meta_learner': 'ExtraTrees', 'n_estimators': 500, 'min_samples_split': 14, 'max_depth': 2}. Best is trial 6 with value: 0.9870218499696591.\u001b[0m\n",
      "Precision: 0.9906417112299465 \n",
      "Recall: 0.975 \n",
      "Aging Rate: 0.4921052631578947\n",
      "Precision: 0.9893758300132802 \n",
      "Recall: 0.9802631578947368 \n",
      "Aging Rate: 0.4953947368421053\n",
      "Precision: 0.9853528628495339 \n",
      "Recall: 0.9736842105263158 \n",
      "Aging Rate: 0.49407894736842106\n",
      "\u001b[32m[I 2022-03-17 14:26:10,868]\u001b[0m Trial 8 finished with value: 0.9823469400032151 and parameters: {'meta_learner': 'ExtraTrees', 'n_estimators': 100, 'min_samples_split': 4, 'max_depth': 4}. Best is trial 6 with value: 0.9870218499696591.\u001b[0m\n",
      "Precision: 0.988031914893617 \n",
      "Recall: 0.9776315789473684 \n",
      "Aging Rate: 0.49473684210526314\n",
      "Precision: 0.9894319682959049 \n",
      "Recall: 0.9855263157894737 \n",
      "Aging Rate: 0.4980263157894737\n"
     ]
    },
    {
     "name": "stderr",
     "output_type": "stream",
     "text": [
      "\u001b[32m[I 2022-03-17 14:26:13,255]\u001b[0m A new study created in memory with name: no-name-67812dbe-fd64-4e8f-8e5c-8fec9245b04d\u001b[0m\n"
     ]
    },
    {
     "name": "stdout",
     "output_type": "stream",
     "text": [
      "Precision: 0.988031914893617 \n",
      "Recall: 0.9776315789473684 \n",
      "Aging Rate: 0.49473684210526314\n",
      "\u001b[32m[I 2022-03-17 14:26:13,152]\u001b[0m Trial 9 finished with value: 0.984361248588891 and parameters: {'meta_learner': 'ExtraTrees', 'n_estimators': 500, 'min_samples_split': 16, 'max_depth': 3}. Best is trial 6 with value: 0.9870218499696591.\u001b[0m\n",
      "Sampler is TPESampler\n",
      "Dataset 5 :\n"
     ]
    },
    {
     "name": "stderr",
     "output_type": "stream",
     "text": [
      "Progress bar is experimental (supported from v1.2.0). The interface can change in the future.\n"
     ]
    },
    {
     "data": {
      "application/vnd.jupyter.widget-view+json": {
       "model_id": "15bbc773d8264ebdae7d48a300158996",
       "version_major": 2,
       "version_minor": 0
      },
      "text/plain": [
       "  0%|          | 0/10 [00:00<?, ?it/s]"
      ]
     },
     "metadata": {},
     "output_type": "display_data"
    },
    {
     "name": "stdout",
     "output_type": "stream",
     "text": [
      "Precision: 0.996005326231691 \n",
      "Recall: 0.990728476821192 \n",
      "Aging Rate: 0.4957095709570957\n",
      "Precision: 0.993368700265252 \n",
      "Recall: 0.9920529801324504 \n",
      "Aging Rate: 0.4976897689768977\n",
      "Precision: 0.9960106382978723 \n",
      "Recall: 0.9920529801324504 \n",
      "Aging Rate: 0.49636963696369635\n",
      "\u001b[32m[I 2022-03-17 14:26:14,482]\u001b[0m Trial 0 finished with value: 0.9933660559799327 and parameters: {'meta_learner': 'ExtraTrees', 'n_estimators': 100, 'min_samples_split': 12, 'max_depth': 4}. Best is trial 0 with value: 0.9933660559799327.\u001b[0m\n",
      "Precision: 0.9933598937583001 \n",
      "Recall: 0.990728476821192 \n",
      "Aging Rate: 0.497029702970297\n",
      "Precision: 0.9947089947089947 \n",
      "Recall: 0.9960264900662251 \n",
      "Aging Rate: 0.499009900990099\n",
      "Precision: 0.993368700265252 \n",
      "Recall: 0.9920529801324504 \n",
      "Aging Rate: 0.4976897689768977\n",
      "\u001b[32m[I 2022-03-17 14:26:15,805]\u001b[0m Trial 1 finished with value: 0.9933733836597037 and parameters: {'meta_learner': 'ExtraTrees', 'n_estimators': 100, 'min_samples_split': 20, 'max_depth': 2}. Best is trial 1 with value: 0.9933733836597037.\u001b[0m\n",
      "Precision: 0.9933598937583001 \n",
      "Recall: 0.990728476821192 \n",
      "Aging Rate: 0.497029702970297\n",
      "Precision: 0.9920634920634921 \n",
      "Recall: 0.9933774834437086 \n",
      "Aging Rate: 0.499009900990099\n",
      "Precision: 0.9920739762219286 \n",
      "Recall: 0.9947019867549669 \n",
      "Aging Rate: 0.4996699669966997\n",
      "\u001b[32m[I 2022-03-17 14:26:17,614]\u001b[0m Trial 2 finished with value: 0.9927162455498717 and parameters: {'meta_learner': 'ExtraTrees', 'n_estimators': 300, 'min_samples_split': 6, 'max_depth': 2}. Best is trial 1 with value: 0.9933733836597037.\u001b[0m\n",
      "Precision: 0.9933422103861518 \n",
      "Recall: 0.9880794701986755 \n",
      "Aging Rate: 0.4957095709570957\n",
      "Precision: 0.9947019867549669 \n",
      "Recall: 0.9947019867549669 \n",
      "Aging Rate: 0.49834983498349833\n",
      "Precision: 0.9920739762219286 \n",
      "Recall: 0.9947019867549669 \n",
      "Aging Rate: 0.4996699669966997\n",
      "\u001b[32m[I 2022-03-17 14:26:19,905]\u001b[0m Trial 3 finished with value: 0.9929306938009436 and parameters: {'meta_learner': 'ExtraTrees', 'n_estimators': 500, 'min_samples_split': 24, 'max_depth': 3}. Best is trial 1 with value: 0.9933733836597037.\u001b[0m\n",
      "Precision: 0.9933510638297872 \n",
      "Recall: 0.9894039735099338 \n",
      "Aging Rate: 0.49636963696369635\n",
      "Precision: 0.9934036939313984 \n",
      "Recall: 0.9973509933774835 \n",
      "Aging Rate: 0.5003300330033004\n",
      "Precision: 0.9947089947089947 \n",
      "Recall: 0.9960264900662251 \n",
      "Aging Rate: 0.499009900990099\n",
      "\u001b[32m[I 2022-03-17 14:26:21,236]\u001b[0m Trial 4 finished with value: 0.9940381088681033 and parameters: {'meta_learner': 'ExtraTrees', 'n_estimators': 100, 'min_samples_split': 22, 'max_depth': 3}. Best is trial 4 with value: 0.9940381088681033.\u001b[0m\n",
      "Precision: 0.9920948616600791 \n",
      "Recall: 0.9973509933774835 \n",
      "Aging Rate: 0.500990099009901\n",
      "Precision: 0.993368700265252 \n",
      "Recall: 0.9920529801324504 \n",
      "Aging Rate: 0.4976897689768977\n",
      "Precision: 0.9881266490765171 \n",
      "Recall: 0.9920529801324504 \n",
      "Aging Rate: 0.5003300330033004\n",
      "\u001b[32m[I 2022-03-17 14:26:23,038]\u001b[0m Trial 5 finished with value: 0.9925041034661417 and parameters: {'meta_learner': 'ExtraTrees', 'n_estimators': 300, 'min_samples_split': 8, 'max_depth': 2}. Best is trial 4 with value: 0.9940381088681033.\u001b[0m\n",
      "Precision: 0.996031746031746 \n",
      "Recall: 0.9973509933774835 \n",
      "Aging Rate: 0.499009900990099\n",
      "Precision: 0.9986702127659575 \n",
      "Recall: 0.9947019867549669 \n",
      "Aging Rate: 0.49636963696369635\n",
      "Precision: 0.9894039735099338 \n",
      "Recall: 0.9894039735099338 \n",
      "Aging Rate: 0.49834983498349833\n",
      "\u001b[32m[I 2022-03-17 14:26:25,313]\u001b[0m Trial 6 finished with value: 0.9942590188778685 and parameters: {'meta_learner': 'ExtraTrees', 'n_estimators': 500, 'min_samples_split': 6, 'max_depth': 2}. Best is trial 6 with value: 0.9942590188778685.\u001b[0m\n",
      "Precision: 0.9946949602122016 \n",
      "Recall: 0.9933774834437086 \n",
      "Aging Rate: 0.4976897689768977\n",
      "Precision: 0.9986666666666667 \n",
      "Recall: 0.9920529801324504 \n",
      "Aging Rate: 0.49504950495049505\n",
      "Precision: 0.9946666666666667 \n",
      "Recall: 0.9880794701986755 \n",
      "Aging Rate: 0.49504950495049505\n",
      "\u001b[32m[I 2022-03-17 14:26:27,595]\u001b[0m Trial 7 finished with value: 0.99358224958114 and parameters: {'meta_learner': 'ExtraTrees', 'n_estimators': 500, 'min_samples_split': 16, 'max_depth': 4}. Best is trial 6 with value: 0.9942590188778685.\u001b[0m\n",
      "Precision: 0.99734395750332 \n",
      "Recall: 0.9947019867549669 \n",
      "Aging Rate: 0.497029702970297\n",
      "Precision: 0.9986684420772304 \n",
      "Recall: 0.9933774834437086 \n",
      "Aging Rate: 0.4957095709570957\n",
      "Precision: 0.9946949602122016 \n",
      "Recall: 0.9933774834437086 \n",
      "Aging Rate: 0.4976897689768977\n",
      "\u001b[32m[I 2022-03-17 14:26:29,429]\u001b[0m Trial 8 finished with value: 0.9953576472341338 and parameters: {'meta_learner': 'ExtraTrees', 'n_estimators': 300, 'min_samples_split': 8, 'max_depth': 4}. Best is trial 8 with value: 0.9953576472341338.\u001b[0m\n",
      "Precision: 0.9933949801849405 \n",
      "Recall: 0.9960264900662251 \n",
      "Aging Rate: 0.4996699669966997\n",
      "Precision: 0.9933598937583001 \n",
      "Recall: 0.990728476821192 \n",
      "Aging Rate: 0.497029702970297\n"
     ]
    },
    {
     "name": "stderr",
     "output_type": "stream",
     "text": [
      "\u001b[32m[I 2022-03-17 14:26:31,356]\u001b[0m A new study created in memory with name: no-name-3e861111-e0b2-4b99-ac10-beb546e83a58\u001b[0m\n"
     ]
    },
    {
     "name": "stdout",
     "output_type": "stream",
     "text": [
      "Precision: 0.9973509933774835 \n",
      "Recall: 0.9973509933774835 \n",
      "Aging Rate: 0.49834983498349833\n",
      "\u001b[32m[I 2022-03-17 14:26:31,249]\u001b[0m Trial 9 finished with value: 0.99470080946826 and parameters: {'meta_learner': 'ExtraTrees', 'n_estimators': 300, 'min_samples_split': 4, 'max_depth': 3}. Best is trial 8 with value: 0.9953576472341338.\u001b[0m\n",
      "Sampler is TPESampler\n",
      "Dataset 6 :\n"
     ]
    },
    {
     "name": "stderr",
     "output_type": "stream",
     "text": [
      "Progress bar is experimental (supported from v1.2.0). The interface can change in the future.\n"
     ]
    },
    {
     "data": {
      "application/vnd.jupyter.widget-view+json": {
       "model_id": "d2d8267fc4bb435e8855212873802da0",
       "version_major": 2,
       "version_minor": 0
      },
      "text/plain": [
       "  0%|          | 0/10 [00:00<?, ?it/s]"
      ]
     },
     "metadata": {},
     "output_type": "display_data"
    },
    {
     "name": "stdout",
     "output_type": "stream",
     "text": [
      "Precision: 0.9772423025435074 \n",
      "Recall: 0.9759358288770054 \n",
      "Aging Rate: 0.4953580901856764\n",
      "Precision: 0.9853333333333333 \n",
      "Recall: 0.9879679144385026 \n",
      "Aging Rate: 0.4973474801061008\n",
      "Precision: 0.9879194630872483 \n",
      "Recall: 0.983957219251337 \n",
      "Aging Rate: 0.49403183023872677\n",
      "\u001b[32m[I 2022-03-17 14:26:33,551]\u001b[0m Trial 0 finished with value: 0.9830572847547906 and parameters: {'meta_learner': 'ExtraTrees', 'n_estimators': 500, 'min_samples_split': 4, 'max_depth': 4}. Best is trial 0 with value: 0.9830572847547906.\u001b[0m\n",
      "Precision: 0.9759358288770054 \n",
      "Recall: 0.9759358288770054 \n",
      "Aging Rate: 0.4960212201591512\n",
      "Precision: 0.9692513368983957 \n",
      "Recall: 0.9692513368983957 \n",
      "Aging Rate: 0.4960212201591512\n",
      "Precision: 0.978523489932886 \n",
      "Recall: 0.9745989304812834 \n",
      "Aging Rate: 0.49403183023872677\n",
      "\u001b[32m[I 2022-03-17 14:26:35,822]\u001b[0m Trial 1 finished with value: 0.9739148110075182 and parameters: {'meta_learner': 'ExtraTrees', 'n_estimators': 500, 'min_samples_split': 4, 'max_depth': 2}. Best is trial 0 with value: 0.9830572847547906.\u001b[0m\n",
      "Precision: 0.9759358288770054 \n",
      "Recall: 0.9759358288770054 \n",
      "Aging Rate: 0.4960212201591512\n",
      "Precision: 0.976158940397351 \n",
      "Recall: 0.9852941176470589 \n",
      "Aging Rate: 0.5006631299734748\n",
      "Precision: 0.9811574697173621 \n",
      "Recall: 0.9745989304812834 \n",
      "Aging Rate: 0.4927055702917772\n",
      "\u001b[32m[I 2022-03-17 14:26:37,620]\u001b[0m Trial 2 finished with value: 0.9781694294168931 and parameters: {'meta_learner': 'ExtraTrees', 'n_estimators': 300, 'min_samples_split': 8, 'max_depth': 3}. Best is trial 0 with value: 0.9830572847547906.\u001b[0m\n",
      "Precision: 0.9787234042553191 \n",
      "Recall: 0.983957219251337 \n",
      "Aging Rate: 0.4986737400530504\n",
      "Precision: 0.9721115537848606 \n",
      "Recall: 0.9786096256684492 \n",
      "Aging Rate: 0.4993368700265252\n",
      "Precision: 0.9784075573549258 \n",
      "Recall: 0.9692513368983957 \n",
      "Aging Rate: 0.49137931034482757\n",
      "\u001b[32m[I 2022-03-17 14:26:38,942]\u001b[0m Trial 3 finished with value: 0.9768303416457282 and parameters: {'meta_learner': 'ExtraTrees', 'n_estimators': 100, 'min_samples_split': 18, 'max_depth': 3}. Best is trial 0 with value: 0.9830572847547906.\u001b[0m\n",
      "Precision: 0.9798657718120806 \n",
      "Recall: 0.9759358288770054 \n",
      "Aging Rate: 0.49403183023872677\n",
      "Precision: 0.9821917808219178 \n",
      "Recall: 0.9585561497326203 \n",
      "Aging Rate: 0.48408488063660476\n",
      "Precision: 0.9771505376344086 \n",
      "Recall: 0.9719251336898396 \n",
      "Aging Rate: 0.493368700265252\n",
      "\u001b[32m[I 2022-03-17 14:26:40,301]\u001b[0m Trial 4 finished with value: 0.9742192412234941 and parameters: {'meta_learner': 'ExtraTrees', 'n_estimators': 100, 'min_samples_split': 4, 'max_depth': 2}. Best is trial 0 with value: 0.9830572847547906.\u001b[0m\n",
      "Precision: 0.9748344370860927 \n",
      "Recall: 0.983957219251337 \n",
      "Aging Rate: 0.5006631299734748\n",
      "Precision: 0.9772117962466488 \n",
      "Recall: 0.9745989304812834 \n",
      "Aging Rate: 0.4946949602122016\n",
      "Precision: 0.978523489932886 \n",
      "Recall: 0.9745989304812834 \n",
      "Aging Rate: 0.49403183023872677\n",
      "\u001b[32m[I 2022-03-17 14:26:41,640]\u001b[0m Trial 5 finished with value: 0.9772784886233294 and parameters: {'meta_learner': 'ExtraTrees', 'n_estimators': 100, 'min_samples_split': 24, 'max_depth': 3}. Best is trial 0 with value: 0.9830572847547906.\u001b[0m\n",
      "Precision: 0.9732977303070761 \n",
      "Recall: 0.9745989304812834 \n",
      "Aging Rate: 0.496684350132626\n",
      "Precision: 0.9759036144578314 \n",
      "Recall: 0.9745989304812834 \n",
      "Aging Rate: 0.4953580901856764\n",
      "Precision: 0.9707835325365206 \n",
      "Recall: 0.9772727272727273 \n",
      "Aging Rate: 0.4993368700265252\n",
      "\u001b[32m[I 2022-03-17 14:26:43,952]\u001b[0m Trial 6 finished with value: 0.974405351232487 and parameters: {'meta_learner': 'ExtraTrees', 'n_estimators': 500, 'min_samples_split': 6, 'max_depth': 3}. Best is trial 0 with value: 0.9830572847547906.\u001b[0m\n",
      "Precision: 0.9759036144578314 \n",
      "Recall: 0.9745989304812834 \n",
      "Aging Rate: 0.4953580901856764\n",
      "Precision: 0.9759036144578314 \n",
      "Recall: 0.9745989304812834 \n",
      "Aging Rate: 0.4953580901856764\n",
      "Precision: 0.9735099337748344 \n",
      "Recall: 0.982620320855615 \n",
      "Aging Rate: 0.5006631299734748\n",
      "\u001b[32m[I 2022-03-17 14:26:46,251]\u001b[0m Trial 7 finished with value: 0.9761818614721505 and parameters: {'meta_learner': 'ExtraTrees', 'n_estimators': 500, 'min_samples_split': 24, 'max_depth': 3}. Best is trial 0 with value: 0.9830572847547906.\u001b[0m\n",
      "Precision: 0.9825970548862115 \n",
      "Recall: 0.9812834224598931 \n",
      "Aging Rate: 0.4953580901856764\n",
      "Precision: 0.989145183175034 \n",
      "Recall: 0.9745989304812834 \n",
      "Aging Rate: 0.4887267904509284\n",
      "Precision: 0.9786096256684492 \n",
      "Recall: 0.9786096256684492 \n",
      "Aging Rate: 0.4960212201591512\n",
      "\u001b[32m[I 2022-03-17 14:26:47,590]\u001b[0m Trial 8 finished with value: 0.9807892022725783 and parameters: {'meta_learner': 'ExtraTrees', 'n_estimators': 100, 'min_samples_split': 18, 'max_depth': 3}. Best is trial 0 with value: 0.9830572847547906.\u001b[0m\n",
      "Precision: 0.9670184696569921 \n",
      "Recall: 0.9799465240641712 \n",
      "Aging Rate: 0.5026525198938993\n",
      "Precision: 0.9905913978494624 \n",
      "Recall: 0.9852941176470589 \n",
      "Aging Rate: 0.493368700265252\n"
     ]
    },
    {
     "name": "stderr",
     "output_type": "stream",
     "text": [
      "\u001b[32m[I 2022-03-17 14:26:49,507]\u001b[0m A new study created in memory with name: no-name-5c8aee34-971b-4e0b-bea5-5b599b684014\u001b[0m\n"
     ]
    },
    {
     "name": "stdout",
     "output_type": "stream",
     "text": [
      "Precision: 0.9771505376344086 \n",
      "Recall: 0.9719251336898396 \n",
      "Aging Rate: 0.493368700265252\n",
      "\u001b[32m[I 2022-03-17 14:26:49,402]\u001b[0m Trial 9 finished with value: 0.9786353543229523 and parameters: {'meta_learner': 'ExtraTrees', 'n_estimators': 300, 'min_samples_split': 6, 'max_depth': 2}. Best is trial 0 with value: 0.9830572847547906.\u001b[0m\n",
      "Sampler is TPESampler\n",
      "Dataset 7 :\n"
     ]
    },
    {
     "name": "stderr",
     "output_type": "stream",
     "text": [
      "Progress bar is experimental (supported from v1.2.0). The interface can change in the future.\n"
     ]
    },
    {
     "data": {
      "application/vnd.jupyter.widget-view+json": {
       "model_id": "2563b4962f1e4a49a1b2ccd83382425a",
       "version_major": 2,
       "version_minor": 0
      },
      "text/plain": [
       "  0%|          | 0/10 [00:00<?, ?it/s]"
      ]
     },
     "metadata": {},
     "output_type": "display_data"
    },
    {
     "name": "stdout",
     "output_type": "stream",
     "text": [
      "Precision: 1.0 \n",
      "Recall: 0.9841040462427746 \n",
      "Aging Rate: 0.4690082644628099\n",
      "Precision: 0.9985315712187959 \n",
      "Recall: 0.9826589595375722 \n",
      "Aging Rate: 0.4690082644628099\n",
      "Precision: 1.0 \n",
      "Recall: 0.976878612716763 \n",
      "Aging Rate: 0.465564738292011\n",
      "\u001b[32m[I 2022-03-17 14:26:51,171]\u001b[0m Trial 0 finished with value: 0.9902747075668454 and parameters: {'meta_learner': 'ExtraTrees', 'n_estimators': 300, 'min_samples_split': 6, 'max_depth': 4}. Best is trial 0 with value: 0.9902747075668454.\u001b[0m\n",
      "Precision: 0.9985315712187959 \n",
      "Recall: 0.9826589595375722 \n",
      "Aging Rate: 0.4690082644628099\n",
      "Precision: 0.9970717423133236 \n",
      "Recall: 0.9841040462427746 \n",
      "Aging Rate: 0.4703856749311295\n",
      "Precision: 1.0 \n",
      "Recall: 0.9739884393063584 \n",
      "Aging Rate: 0.4641873278236915\n",
      "\u001b[32m[I 2022-03-17 14:26:52,417]\u001b[0m Trial 1 finished with value: 0.9892999924675356 and parameters: {'meta_learner': 'ExtraTrees', 'n_estimators': 100, 'min_samples_split': 16, 'max_depth': 3}. Best is trial 0 with value: 0.9902747075668454.\u001b[0m\n",
      "Precision: 0.9985380116959064 \n",
      "Recall: 0.9869942196531792 \n",
      "Aging Rate: 0.47107438016528924\n",
      "Precision: 1.0 \n",
      "Recall: 0.9855491329479769 \n",
      "Aging Rate: 0.4696969696969697\n",
      "Precision: 0.9970588235294118 \n",
      "Recall: 0.9797687861271677 \n",
      "Aging Rate: 0.46831955922865015\n",
      "\u001b[32m[I 2022-03-17 14:26:53,647]\u001b[0m Trial 2 finished with value: 0.9912642433936343 and parameters: {'meta_learner': 'ExtraTrees', 'n_estimators': 100, 'min_samples_split': 6, 'max_depth': 4}. Best is trial 2 with value: 0.9912642433936343.\u001b[0m\n",
      "Precision: 1.0 \n",
      "Recall: 0.9826589595375722 \n",
      "Aging Rate: 0.46831955922865015\n",
      "Precision: 0.9985272459499264 \n",
      "Recall: 0.9797687861271677 \n",
      "Aging Rate: 0.46763085399449034\n",
      "Precision: 0.9955817378497791 \n",
      "Recall: 0.976878612716763 \n",
      "Aging Rate: 0.46763085399449034\n",
      "\u001b[32m[I 2022-03-17 14:26:54,880]\u001b[0m Trial 3 finished with value: 0.9888180759435169 and parameters: {'meta_learner': 'ExtraTrees', 'n_estimators': 100, 'min_samples_split': 22, 'max_depth': 4}. Best is trial 2 with value: 0.9912642433936343.\u001b[0m\n",
      "Precision: 1.0 \n",
      "Recall: 0.9841040462427746 \n",
      "Aging Rate: 0.4690082644628099\n",
      "Precision: 0.9970457902511078 \n",
      "Recall: 0.9754335260115607 \n",
      "Aging Rate: 0.4662534435261708\n",
      "Precision: 0.9985272459499264 \n",
      "Recall: 0.9797687861271677 \n",
      "Aging Rate: 0.46763085399449034\n",
      "\u001b[32m[I 2022-03-17 14:26:57,094]\u001b[0m Trial 4 finished with value: 0.9890562280134721 and parameters: {'meta_learner': 'ExtraTrees', 'n_estimators': 500, 'min_samples_split': 14, 'max_depth': 4}. Best is trial 2 with value: 0.9912642433936343.\u001b[0m\n",
      "Precision: 1.0 \n",
      "Recall: 0.9797687861271677 \n",
      "Aging Rate: 0.4669421487603306\n",
      "Precision: 0.998533724340176 \n",
      "Recall: 0.9841040462427746 \n",
      "Aging Rate: 0.4696969696969697\n",
      "Precision: 1.0 \n",
      "Recall: 0.9797687861271677 \n",
      "Aging Rate: 0.4669421487603306\n",
      "\u001b[32m[I 2022-03-17 14:26:59,278]\u001b[0m Trial 5 finished with value: 0.9902761397804906 and parameters: {'meta_learner': 'ExtraTrees', 'n_estimators': 500, 'min_samples_split': 6, 'max_depth': 3}. Best is trial 2 with value: 0.9912642433936343.\u001b[0m\n",
      "Precision: 0.9985294117647059 \n",
      "Recall: 0.9812138728323699 \n",
      "Aging Rate: 0.46831955922865015\n",
      "Precision: 0.9985141158989599 \n",
      "Recall: 0.9710982658959537 \n",
      "Aging Rate: 0.4634986225895317\n",
      "Precision: 0.9970631424375918 \n",
      "Recall: 0.9812138728323699 \n",
      "Aging Rate: 0.4690082644628099\n",
      "\u001b[32m[I 2022-03-17 14:27:00,511]\u001b[0m Trial 6 finished with value: 0.987828773730345 and parameters: {'meta_learner': 'ExtraTrees', 'n_estimators': 100, 'min_samples_split': 12, 'max_depth': 2}. Best is trial 2 with value: 0.9912642433936343.\u001b[0m\n",
      "Precision: 1.0 \n",
      "Recall: 0.9725433526011561 \n",
      "Aging Rate: 0.4634986225895317\n",
      "Precision: 1.0 \n",
      "Recall: 0.9855491329479769 \n",
      "Aging Rate: 0.4696969696969697\n",
      "Precision: 0.9970760233918129 \n",
      "Recall: 0.9855491329479769 \n",
      "Aging Rate: 0.47107438016528924\n",
      "\u001b[32m[I 2022-03-17 14:27:01,807]\u001b[0m Trial 7 finished with value: 0.9900272118231904 and parameters: {'meta_learner': 'ExtraTrees', 'n_estimators': 100, 'min_samples_split': 24, 'max_depth': 4}. Best is trial 2 with value: 0.9912642433936343.\u001b[0m\n",
      "Precision: 0.9985185185185185 \n",
      "Recall: 0.9739884393063584 \n",
      "Aging Rate: 0.46487603305785125\n",
      "Precision: 1.0 \n",
      "Recall: 0.9797687861271677 \n",
      "Aging Rate: 0.4669421487603306\n",
      "Precision: 0.9970544918998527 \n",
      "Recall: 0.9783236994219653 \n",
      "Aging Rate: 0.46763085399449034\n",
      "\u001b[32m[I 2022-03-17 14:27:03,098]\u001b[0m Trial 8 finished with value: 0.9878274215477384 and parameters: {'meta_learner': 'ExtraTrees', 'n_estimators': 100, 'min_samples_split': 12, 'max_depth': 3}. Best is trial 2 with value: 0.9912642433936343.\u001b[0m\n",
      "Precision: 1.0 \n",
      "Recall: 0.9855491329479769 \n",
      "Aging Rate: 0.4696969696969697\n",
      "Precision: 0.9970760233918129 \n",
      "Recall: 0.9855491329479769 \n",
      "Aging Rate: 0.47107438016528924\n"
     ]
    },
    {
     "name": "stderr",
     "output_type": "stream",
     "text": [
      "\u001b[32m[I 2022-03-17 14:27:04,983]\u001b[0m A new study created in memory with name: no-name-61ecf758-2b1d-4a46-9ad1-84fa3bbdba4a\u001b[0m\n"
     ]
    },
    {
     "name": "stdout",
     "output_type": "stream",
     "text": [
      "Precision: 0.9985358711566618 \n",
      "Recall: 0.9855491329479769 \n",
      "Aging Rate: 0.4703856749311295\n",
      "\u001b[32m[I 2022-03-17 14:27:04,879]\u001b[0m Trial 9 finished with value: 0.9920003497963283 and parameters: {'meta_learner': 'ExtraTrees', 'n_estimators': 300, 'min_samples_split': 16, 'max_depth': 4}. Best is trial 9 with value: 0.9920003497963283.\u001b[0m\n",
      "Sampler is TPESampler\n",
      "Dataset 8 :\n"
     ]
    },
    {
     "name": "stderr",
     "output_type": "stream",
     "text": [
      "Progress bar is experimental (supported from v1.2.0). The interface can change in the future.\n"
     ]
    },
    {
     "data": {
      "application/vnd.jupyter.widget-view+json": {
       "model_id": "73b5d2cfc8964599b18c7f4c9b005128",
       "version_major": 2,
       "version_minor": 0
      },
      "text/plain": [
       "  0%|          | 0/10 [00:00<?, ?it/s]"
      ]
     },
     "metadata": {},
     "output_type": "display_data"
    },
    {
     "name": "stdout",
     "output_type": "stream",
     "text": [
      "Precision: 0.9905405405405405 \n",
      "Recall: 0.9644736842105263 \n",
      "Aging Rate: 0.4868421052631579\n",
      "Precision: 0.9933244325767691 \n",
      "Recall: 0.9789473684210527 \n",
      "Aging Rate: 0.49276315789473685\n",
      "Precision: 0.9932614555256065 \n",
      "Recall: 0.9697368421052631 \n",
      "Aging Rate: 0.4881578947368421\n",
      "\u001b[32m[I 2022-03-17 14:27:06,691]\u001b[0m Trial 0 finished with value: 0.9815916738068409 and parameters: {'meta_learner': 'ExtraTrees', 'n_estimators': 300, 'min_samples_split': 22, 'max_depth': 4}. Best is trial 0 with value: 0.9815916738068409.\u001b[0m\n",
      "Precision: 0.986737400530504 \n",
      "Recall: 0.9789473684210527 \n",
      "Aging Rate: 0.49605263157894736\n",
      "Precision: 0.9879518072289156 \n",
      "Recall: 0.9710526315789474 \n",
      "Aging Rate: 0.49144736842105263\n",
      "Precision: 0.9878542510121457 \n",
      "Recall: 0.9631578947368421 \n",
      "Aging Rate: 0.4875\n",
      "\u001b[32m[I 2022-03-17 14:27:08,018]\u001b[0m Trial 1 finished with value: 0.9792020150324191 and parameters: {'meta_learner': 'ExtraTrees', 'n_estimators': 100, 'min_samples_split': 4, 'max_depth': 4}. Best is trial 0 with value: 0.9815916738068409.\u001b[0m\n",
      "Precision: 0.9919246298788694 \n",
      "Recall: 0.9697368421052631 \n",
      "Aging Rate: 0.4888157894736842\n",
      "Precision: 0.9865771812080537 \n",
      "Recall: 0.9671052631578947 \n",
      "Aging Rate: 0.4901315789473684\n",
      "Precision: 0.9919678714859438 \n",
      "Recall: 0.975 \n",
      "Aging Rate: 0.49144736842105263\n",
      "\u001b[32m[I 2022-03-17 14:27:10,295]\u001b[0m Trial 2 finished with value: 0.9802867306783257 and parameters: {'meta_learner': 'ExtraTrees', 'n_estimators': 500, 'min_samples_split': 4, 'max_depth': 4}. Best is trial 0 with value: 0.9815916738068409.\u001b[0m\n",
      "Precision: 0.9892761394101877 \n",
      "Recall: 0.9710526315789474 \n",
      "Aging Rate: 0.49078947368421055\n",
      "Precision: 0.9800796812749004 \n",
      "Recall: 0.9710526315789474 \n",
      "Aging Rate: 0.4953947368421053\n",
      "Precision: 0.9840848806366048 \n",
      "Recall: 0.9763157894736842 \n",
      "Aging Rate: 0.49605263157894736\n",
      "\u001b[32m[I 2022-03-17 14:27:11,558]\u001b[0m Trial 3 finished with value: 0.9786032987064045 and parameters: {'meta_learner': 'ExtraTrees', 'n_estimators': 100, 'min_samples_split': 16, 'max_depth': 2}. Best is trial 0 with value: 0.9815916738068409.\u001b[0m\n",
      "Precision: 0.9879356568364611 \n",
      "Recall: 0.9697368421052631 \n",
      "Aging Rate: 0.49078947368421055\n",
      "Precision: 0.9839786381842457 \n",
      "Recall: 0.9697368421052631 \n",
      "Aging Rate: 0.49276315789473685\n",
      "Precision: 0.9827586206896551 \n",
      "Recall: 0.975 \n",
      "Aging Rate: 0.49605263157894736\n",
      "\u001b[32m[I 2022-03-17 14:27:12,841]\u001b[0m Trial 4 finished with value: 0.9781404760983258 and parameters: {'meta_learner': 'ExtraTrees', 'n_estimators': 100, 'min_samples_split': 12, 'max_depth': 3}. Best is trial 0 with value: 0.9815916738068409.\u001b[0m\n",
      "Precision: 0.9826435246995995 \n",
      "Recall: 0.968421052631579 \n",
      "Aging Rate: 0.49276315789473685\n",
      "Precision: 0.9919463087248322 \n",
      "Recall: 0.9723684210526315 \n",
      "Aging Rate: 0.4901315789473684\n",
      "Precision: 0.9932249322493225 \n",
      "Recall: 0.9644736842105263 \n",
      "Aging Rate: 0.4855263157894737\n",
      "\u001b[32m[I 2022-03-17 14:27:15,059]\u001b[0m Trial 5 finished with value: 0.9787261451798894 and parameters: {'meta_learner': 'ExtraTrees', 'n_estimators': 500, 'min_samples_split': 10, 'max_depth': 3}. Best is trial 0 with value: 0.9815916738068409.\u001b[0m\n",
      "Precision: 0.9932885906040269 \n",
      "Recall: 0.9736842105263158 \n",
      "Aging Rate: 0.4901315789473684\n",
      "Precision: 0.9919463087248322 \n",
      "Recall: 0.9723684210526315 \n",
      "Aging Rate: 0.4901315789473684\n",
      "Precision: 0.9919678714859438 \n",
      "Recall: 0.975 \n",
      "Aging Rate: 0.49144736842105263\n",
      "\u001b[32m[I 2022-03-17 14:27:16,820]\u001b[0m Trial 6 finished with value: 0.9829530849391653 and parameters: {'meta_learner': 'ExtraTrees', 'n_estimators': 300, 'min_samples_split': 6, 'max_depth': 4}. Best is trial 6 with value: 0.9829530849391653.\u001b[0m\n",
      "Precision: 0.9906291834002677 \n",
      "Recall: 0.9736842105263158 \n",
      "Aging Rate: 0.49144736842105263\n",
      "Precision: 0.9839357429718876 \n",
      "Recall: 0.9671052631578947 \n",
      "Aging Rate: 0.49144736842105263\n",
      "Precision: 0.9906166219839142 \n",
      "Recall: 0.9723684210526315 \n",
      "Aging Rate: 0.49078947368421055\n",
      "\u001b[32m[I 2022-03-17 14:27:19,048]\u001b[0m Trial 7 finished with value: 0.9796464073661851 and parameters: {'meta_learner': 'ExtraTrees', 'n_estimators': 500, 'min_samples_split': 4, 'max_depth': 4}. Best is trial 6 with value: 0.9829530849391653.\u001b[0m\n",
      "Precision: 0.9919137466307277 \n",
      "Recall: 0.968421052631579 \n",
      "Aging Rate: 0.4881578947368421\n",
      "Precision: 0.989145183175034 \n",
      "Recall: 0.9592105263157895 \n",
      "Aging Rate: 0.48486842105263156\n",
      "Precision: 0.9892904953145917 \n",
      "Recall: 0.9723684210526315 \n",
      "Aging Rate: 0.49144736842105263\n",
      "\u001b[32m[I 2022-03-17 14:27:20,854]\u001b[0m Trial 8 finished with value: 0.9782436655858678 and parameters: {'meta_learner': 'ExtraTrees', 'n_estimators': 300, 'min_samples_split': 4, 'max_depth': 3}. Best is trial 6 with value: 0.9829530849391653.\u001b[0m\n",
      "Precision: 0.9918809201623816 \n",
      "Recall: 0.9644736842105263 \n",
      "Aging Rate: 0.4861842105263158\n",
      "Precision: 0.9789196310935442 \n",
      "Recall: 0.9776315789473684 \n",
      "Aging Rate: 0.4993421052631579\n"
     ]
    },
    {
     "name": "stderr",
     "output_type": "stream",
     "text": [
      "\u001b[32m[I 2022-03-17 14:27:22,774]\u001b[0m A new study created in memory with name: no-name-1d819792-e343-488f-9e9d-b8b7315bfd53\u001b[0m\n"
     ]
    },
    {
     "name": "stdout",
     "output_type": "stream",
     "text": [
      "Precision: 0.9893617021276596 \n",
      "Recall: 0.9789473684210527 \n",
      "Aging Rate: 0.49473684210526314\n",
      "\u001b[32m[I 2022-03-17 14:27:22,671]\u001b[0m Trial 9 finished with value: 0.9801291629053916 and parameters: {'meta_learner': 'ExtraTrees', 'n_estimators': 300, 'min_samples_split': 4, 'max_depth': 4}. Best is trial 6 with value: 0.9829530849391653.\u001b[0m\n",
      "Sampler is TPESampler\n",
      "Dataset 9 :\n"
     ]
    },
    {
     "name": "stderr",
     "output_type": "stream",
     "text": [
      "Progress bar is experimental (supported from v1.2.0). The interface can change in the future.\n"
     ]
    },
    {
     "data": {
      "application/vnd.jupyter.widget-view+json": {
       "model_id": "7f59a4fca879430abe40f985b9063ba2",
       "version_major": 2,
       "version_minor": 0
      },
      "text/plain": [
       "  0%|          | 0/10 [00:00<?, ?it/s]"
      ]
     },
     "metadata": {},
     "output_type": "display_data"
    },
    {
     "name": "stdout",
     "output_type": "stream",
     "text": [
      "Precision: 1.0 \n",
      "Recall: 0.3815789473684211 \n",
      "Aging Rate: 0.034688995215311005\n",
      "Precision: 1.0 \n",
      "Recall: 0.4342105263157895 \n",
      "Aging Rate: 0.039473684210526314\n",
      "Precision: 1.0 \n",
      "Recall: 0.5131578947368421 \n",
      "Aging Rate: 0.04665071770334928\n",
      "\u001b[32m[I 2022-03-17 14:27:24,975]\u001b[0m Trial 0 finished with value: 0.6120488030340444 and parameters: {'meta_learner': 'ExtraTrees', 'n_estimators': 500, 'min_samples_split': 22, 'max_depth': 3}. Best is trial 0 with value: 0.6120488030340444.\u001b[0m\n",
      "Precision: 1.0 \n",
      "Recall: 0.013157894736842105 \n",
      "Aging Rate: 0.0011961722488038277\n",
      "Precision: 1.0 \n",
      "Recall: 0.02631578947368421 \n",
      "Aging Rate: 0.0023923444976076554\n"
     ]
    },
    {
     "name": "stderr",
     "output_type": "stream",
     "text": [
      "invalid value encountered in double_scalars\n"
     ]
    },
    {
     "name": "stdout",
     "output_type": "stream",
     "text": [
      "Precision: 0 \n",
      "Recall: 0.0 \n",
      "Aging Rate: 0.0\n",
      "\u001b[32m[I 2022-03-17 14:27:26,763]\u001b[0m Trial 1 finished with value: 0.02575202575202575 and parameters: {'meta_learner': 'ExtraTrees', 'n_estimators': 300, 'min_samples_split': 22, 'max_depth': 2}. Best is trial 0 with value: 0.6120488030340444.\u001b[0m\n",
      "Precision: 0.9830508474576272 \n",
      "Recall: 0.7631578947368421 \n",
      "Aging Rate: 0.07057416267942583\n",
      "Precision: 1.0 \n",
      "Recall: 0.7105263157894737 \n",
      "Aging Rate: 0.0645933014354067\n",
      "Precision: 1.0 \n",
      "Recall: 0.6842105263157895 \n",
      "Aging Rate: 0.06220095693779904\n",
      "\u001b[32m[I 2022-03-17 14:27:28,528]\u001b[0m Trial 2 finished with value: 0.8341761633428301 and parameters: {'meta_learner': 'ExtraTrees', 'n_estimators': 300, 'min_samples_split': 24, 'max_depth': 4}. Best is trial 2 with value: 0.8341761633428301.\u001b[0m\n",
      "Precision: 1.0 \n",
      "Recall: 0.4868421052631579 \n",
      "Aging Rate: 0.04425837320574163\n",
      "Precision: 1.0 \n",
      "Recall: 0.5131578947368421 \n",
      "Aging Rate: 0.04665071770334928\n",
      "Precision: 1.0 \n",
      "Recall: 0.35526315789473684 \n",
      "Aging Rate: 0.03229665071770335\n",
      "\u001b[32m[I 2022-03-17 14:27:30,804]\u001b[0m Trial 3 finished with value: 0.6191333236208599 and parameters: {'meta_learner': 'ExtraTrees', 'n_estimators': 500, 'min_samples_split': 8, 'max_depth': 3}. Best is trial 2 with value: 0.8341761633428301.\u001b[0m\n",
      "Precision: 1.0 \n",
      "Recall: 0.5394736842105263 \n",
      "Aging Rate: 0.04904306220095694\n",
      "Precision: 1.0 \n",
      "Recall: 0.40789473684210525 \n",
      "Aging Rate: 0.03708133971291866\n",
      "Precision: 1.0 \n",
      "Recall: 0.42105263157894735 \n",
      "Aging Rate: 0.03827751196172249\n",
      "\u001b[32m[I 2022-03-17 14:27:32,624]\u001b[0m Trial 4 finished with value: 0.6242955152612474 and parameters: {'meta_learner': 'ExtraTrees', 'n_estimators': 300, 'min_samples_split': 24, 'max_depth': 3}. Best is trial 2 with value: 0.8341761633428301.\u001b[0m\n",
      "Precision: 1.0 \n",
      "Recall: 0.3684210526315789 \n",
      "Aging Rate: 0.03349282296650718\n",
      "Precision: 1.0 \n",
      "Recall: 0.013157894736842105 \n",
      "Aging Rate: 0.0011961722488038277\n",
      "Precision: 1.0 \n",
      "Recall: 0.07894736842105263 \n",
      "Aging Rate: 0.007177033492822967\n",
      "\u001b[32m[I 2022-03-17 14:27:33,953]\u001b[0m Trial 5 finished with value: 0.2369256759500662 and parameters: {'meta_learner': 'ExtraTrees', 'n_estimators': 100, 'min_samples_split': 10, 'max_depth': 2}. Best is trial 2 with value: 0.8341761633428301.\u001b[0m\n",
      "Precision: 1.0 \n",
      "Recall: 0.013157894736842105 \n",
      "Aging Rate: 0.0011961722488038277\n",
      "Precision: 1.0 \n",
      "Recall: 0.02631578947368421 \n",
      "Aging Rate: 0.0023923444976076554\n"
     ]
    },
    {
     "name": "stderr",
     "output_type": "stream",
     "text": [
      "invalid value encountered in double_scalars\n"
     ]
    },
    {
     "name": "stdout",
     "output_type": "stream",
     "text": [
      "Precision: 0 \n",
      "Recall: 0.0 \n",
      "Aging Rate: 0.0\n",
      "\u001b[32m[I 2022-03-17 14:27:36,243]\u001b[0m Trial 6 finished with value: 0.02575202575202575 and parameters: {'meta_learner': 'ExtraTrees', 'n_estimators': 500, 'min_samples_split': 22, 'max_depth': 2}. Best is trial 2 with value: 0.8341761633428301.\u001b[0m\n",
      "Precision: 1.0 \n",
      "Recall: 0.5131578947368421 \n",
      "Aging Rate: 0.04665071770334928\n",
      "Precision: 1.0 \n",
      "Recall: 0.47368421052631576 \n",
      "Aging Rate: 0.0430622009569378\n",
      "Precision: 1.0 \n",
      "Recall: 0.35526315789473684 \n",
      "Aging Rate: 0.03229665071770335\n",
      "\u001b[32m[I 2022-03-17 14:27:38,061]\u001b[0m Trial 7 finished with value: 0.6151299523608514 and parameters: {'meta_learner': 'ExtraTrees', 'n_estimators': 300, 'min_samples_split': 4, 'max_depth': 3}. Best is trial 2 with value: 0.8341761633428301.\u001b[0m\n"
     ]
    },
    {
     "name": "stderr",
     "output_type": "stream",
     "text": [
      "invalid value encountered in double_scalars\n"
     ]
    },
    {
     "name": "stdout",
     "output_type": "stream",
     "text": [
      "Precision: 0 \n",
      "Recall: 0.0 \n",
      "Aging Rate: 0.0\n",
      "Precision: 1.0 \n",
      "Recall: 0.013157894736842105 \n",
      "Aging Rate: 0.0011961722488038277\n",
      "Precision: 1.0 \n",
      "Recall: 0.013157894736842105 \n",
      "Aging Rate: 0.0011961722488038277\n",
      "\u001b[32m[I 2022-03-17 14:27:40,216]\u001b[0m Trial 8 finished with value: 0.017316017316017316 and parameters: {'meta_learner': 'ExtraTrees', 'n_estimators': 500, 'min_samples_split': 12, 'max_depth': 2}. Best is trial 2 with value: 0.8341761633428301.\u001b[0m\n",
      "Precision: 1.0 \n",
      "Recall: 0.15789473684210525 \n",
      "Aging Rate: 0.014354066985645933\n",
      "Precision: 1.0 \n",
      "Recall: 0.02631578947368421 \n",
      "Aging Rate: 0.0023923444976076554\n",
      "Precision: 1.0 \n",
      "Recall: 0.02631578947368421 \n",
      "Aging Rate: 0.0023923444976076554\n",
      "\u001b[32m[I 2022-03-17 14:27:41,551]\u001b[0m Trial 9 finished with value: 0.1250971250971251 and parameters: {'meta_learner': 'ExtraTrees', 'n_estimators': 100, 'min_samples_split': 10, 'max_depth': 2}. Best is trial 2 with value: 0.8341761633428301.\u001b[0m\n",
      "Sampler is TPESampler\n"
     ]
    }
   ],
   "source": [
    "best_paramC, all_scoreC = all_optuna(all_data = train_firstC, \n",
    "                            mode = 'C', \n",
    "                            TPE_multi = False, \n",
    "                            n_iter = 10,\n",
    "                            filename = f'runhist_array_m2m4_m5_3criteria_StackingCV2_XNL',\n",
    "                            creator = stackingCV_creator\n",
    ")"
   ]
  },
  {
   "cell_type": "code",
   "execution_count": 47,
   "metadata": {
    "ExecuteTime": {
     "end_time": "2022-03-17T06:27:48.181663Z",
     "start_time": "2022-03-17T06:27:47.547730Z"
    }
   },
   "outputs": [
    {
     "data": {
      "text/html": [
       "<div>\n",
       "<style scoped>\n",
       "    .dataframe tbody tr th:only-of-type {\n",
       "        vertical-align: middle;\n",
       "    }\n",
       "\n",
       "    .dataframe tbody tr th {\n",
       "        vertical-align: top;\n",
       "    }\n",
       "\n",
       "    .dataframe thead th {\n",
       "        text-align: right;\n",
       "    }\n",
       "</style>\n",
       "<table border=\"1\" class=\"dataframe\">\n",
       "  <thead>\n",
       "    <tr style=\"text-align: right;\">\n",
       "      <th></th>\n",
       "      <th>meta_learner</th>\n",
       "      <th>n_estimators</th>\n",
       "      <th>min_samples_split</th>\n",
       "      <th>max_depth</th>\n",
       "    </tr>\n",
       "  </thead>\n",
       "  <tbody>\n",
       "    <tr>\n",
       "      <th>set1</th>\n",
       "      <td>ExtraTrees</td>\n",
       "      <td>300</td>\n",
       "      <td>16</td>\n",
       "      <td>2</td>\n",
       "    </tr>\n",
       "    <tr>\n",
       "      <th>set2</th>\n",
       "      <td>ExtraTrees</td>\n",
       "      <td>100</td>\n",
       "      <td>22</td>\n",
       "      <td>4</td>\n",
       "    </tr>\n",
       "    <tr>\n",
       "      <th>set3</th>\n",
       "      <td>ExtraTrees</td>\n",
       "      <td>300</td>\n",
       "      <td>2</td>\n",
       "      <td>4</td>\n",
       "    </tr>\n",
       "    <tr>\n",
       "      <th>set4</th>\n",
       "      <td>ExtraTrees</td>\n",
       "      <td>100</td>\n",
       "      <td>4</td>\n",
       "      <td>3</td>\n",
       "    </tr>\n",
       "    <tr>\n",
       "      <th>set5</th>\n",
       "      <td>ExtraTrees</td>\n",
       "      <td>300</td>\n",
       "      <td>8</td>\n",
       "      <td>4</td>\n",
       "    </tr>\n",
       "    <tr>\n",
       "      <th>set6</th>\n",
       "      <td>ExtraTrees</td>\n",
       "      <td>500</td>\n",
       "      <td>4</td>\n",
       "      <td>4</td>\n",
       "    </tr>\n",
       "    <tr>\n",
       "      <th>set7</th>\n",
       "      <td>ExtraTrees</td>\n",
       "      <td>300</td>\n",
       "      <td>16</td>\n",
       "      <td>4</td>\n",
       "    </tr>\n",
       "    <tr>\n",
       "      <th>set8</th>\n",
       "      <td>ExtraTrees</td>\n",
       "      <td>300</td>\n",
       "      <td>6</td>\n",
       "      <td>4</td>\n",
       "    </tr>\n",
       "    <tr>\n",
       "      <th>set9</th>\n",
       "      <td>ExtraTrees</td>\n",
       "      <td>300</td>\n",
       "      <td>24</td>\n",
       "      <td>4</td>\n",
       "    </tr>\n",
       "  </tbody>\n",
       "</table>\n",
       "</div>"
      ],
      "text/plain": [
       "     meta_learner n_estimators min_samples_split max_depth\n",
       "set1   ExtraTrees          300                16         2\n",
       "set2   ExtraTrees          100                22         4\n",
       "set3   ExtraTrees          300                 2         4\n",
       "set4   ExtraTrees          100                 4         3\n",
       "set5   ExtraTrees          300                 8         4\n",
       "set6   ExtraTrees          500                 4         4\n",
       "set7   ExtraTrees          300                16         4\n",
       "set8   ExtraTrees          300                 6         4\n",
       "set9   ExtraTrees          300                24         4"
      ]
     },
     "execution_count": 47,
     "metadata": {},
     "output_type": "execute_result"
    },
    {
     "data": {
      "image/png": "[encoded data removed]",
      "text/plain": [
       "<Figure size 2160x1080 with 9 Axes>"
      ]
     },
     "metadata": {
      "needs_background": "light"
     },
     "output_type": "display_data"
    }
   ],
   "source": [
    "##### optimization history plot #####\n",
    "optuna_history(best_paramC, all_scoreC, num_row = 3, num_col = 3, model = 'StackingCV Scheme2 Classifier')\n",
    "            \n",
    "##### best hyperparameter table #####\n",
    "param_table = pd.DataFrame(best_paramC).T\n",
    "param_table"
   ]
  },
  {
   "cell_type": "markdown",
   "metadata": {
    "heading_collapsed": true
   },
   "source": [
    "### Feature Importance of Meta Learner"
   ]
  },
  {
   "cell_type": "code",
   "execution_count": 24,
   "metadata": {
    "ExecuteTime": {
     "end_time": "2022-03-14T11:43:21.609639Z",
     "start_time": "2022-03-14T11:43:17.064925Z"
    },
    "hidden": true,
    "scrolled": true
   },
   "outputs": [
    {
     "name": "stdout",
     "output_type": "stream",
     "text": [
      "        X_m2    C_m2    X_m3    C_m3    X_m4    C_m4   GB\n",
      "X_m2     inf  176.31  741.04  201.79  646.70  180.58 -0.5\n",
      "C_m2  176.31     inf  192.64  364.28  180.97  390.68 -0.5\n",
      "X_m3  741.04  192.64     inf  187.89  391.83  216.35 -0.5\n",
      "C_m3  201.79  364.28  187.89     inf  237.69  289.26 -0.5\n",
      "X_m4  646.70  180.97  391.83  237.69     inf  179.65 -0.5\n",
      "C_m4  180.58  390.68  216.35  289.26  179.65     inf -0.5\n",
      "GB     -0.50   -0.50   -0.50   -0.50   -0.50   -0.50  inf\n"
     ]
    },
    {
     "name": "stderr",
     "output_type": "stream",
     "text": [
      "The use of label encoder in XGBClassifier is deprecated and will be removed in a future release. To remove this warning, do the following: 1) Pass option use_label_encoder=False when constructing XGBClassifier object; and 2) Encode your labels (y) as integers starting with 0, i.e. 0, 1, 2, ..., [num_class - 1].\n"
     ]
    },
    {
     "name": "stdout",
     "output_type": "stream",
     "text": [
      "[19:43:18] WARNING: C:/Users/Administrator/workspace/xgboost-win64_release_1.4.0/src/learner.cc:1095: Starting in XGBoost 1.3.0, the default evaluation metric used with the objective 'binary:logistic' was changed from 'error' to 'logloss'. Explicitly set eval_metric if you'd like to restore the old behavior.\n"
     ]
    },
    {
     "name": "stderr",
     "output_type": "stream",
     "text": [
      "Found `n_estimators` in params. Will use it instead of argument\n"
     ]
    },
    {
     "name": "stdout",
     "output_type": "stream",
     "text": [
      "[LightGBM] [Info] Number of positive: 3020, number of negative: 3040\n",
      "[LightGBM] [Warning] Auto-choosing col-wise multi-threading, the overhead of testing was 0.000220 seconds.\n",
      "You can set `force_col_wise=true` to remove the overhead.\n",
      "[LightGBM] [Info] Total Bins 1530\n",
      "[LightGBM] [Info] Number of data points in the train set: 6060, number of used features: 6\n",
      "[LightGBM] [Info] [binary:BoostFromScore]: pavg=0.498350 -> initscore=-0.006601\n",
      "[LightGBM] [Info] Start training from score -0.006601\n",
      "[LightGBM] [Warning] No further splits with positive gain, best gain: -inf\n",
      "[LightGBM] [Warning] No further splits with positive gain, best gain: -inf\n",
      "[LightGBM] [Warning] No further splits with positive gain, best gain: -inf\n",
      "[LightGBM] [Warning] No further splits with positive gain, best gain: -inf\n",
      "[LightGBM] [Warning] No further splits with positive gain, best gain: -inf\n",
      "[LightGBM] [Warning] No further splits with positive gain, best gain: -inf\n",
      "[LightGBM] [Warning] No further splits with positive gain, best gain: -inf\n",
      "[LightGBM] [Warning] No further splits with positive gain, best gain: -inf\n",
      "[LightGBM] [Warning] No further splits with positive gain, best gain: -inf\n",
      "[LightGBM] [Warning] No further splits with positive gain, best gain: -inf\n",
      "[LightGBM] [Warning] No further splits with positive gain, best gain: -inf\n",
      "[LightGBM] [Warning] No further splits with positive gain, best gain: -inf\n",
      "[LightGBM] [Warning] No further splits with positive gain, best gain: -inf\n",
      "[LightGBM] [Warning] No further splits with positive gain, best gain: -inf\n",
      "[LightGBM] [Warning] No further splits with positive gain, best gain: -inf\n",
      "[LightGBM] [Warning] No further splits with positive gain, best gain: -inf\n",
      "[LightGBM] [Warning] No further splits with positive gain, best gain: -inf\n",
      "[LightGBM] [Warning] No further splits with positive gain, best gain: -inf\n",
      "[LightGBM] [Warning] No further splits with positive gain, best gain: -inf\n",
      "[LightGBM] [Warning] No further splits with positive gain, best gain: -inf\n",
      "[LightGBM] [Warning] No further splits with positive gain, best gain: -inf\n",
      "[LightGBM] [Warning] No further splits with positive gain, best gain: -inf\n",
      "[LightGBM] [Warning] No further splits with positive gain, best gain: -inf\n",
      "[LightGBM] [Warning] No further splits with positive gain, best gain: -inf\n",
      "[LightGBM] [Warning] No further splits with positive gain, best gain: -inf\n",
      "[LightGBM] [Warning] No further splits with positive gain, best gain: -inf\n",
      "[LightGBM] [Warning] No further splits with positive gain, best gain: -inf\n",
      "[LightGBM] [Warning] No further splits with positive gain, best gain: -inf\n",
      "[LightGBM] [Warning] No further splits with positive gain, best gain: -inf\n",
      "[LightGBM] [Warning] No further splits with positive gain, best gain: -inf\n",
      "[LightGBM] [Warning] No further splits with positive gain, best gain: -inf\n",
      "[LightGBM] [Warning] No further splits with positive gain, best gain: -inf\n",
      "[LightGBM] [Warning] No further splits with positive gain, best gain: -inf\n",
      "[LightGBM] [Warning] No further splits with positive gain, best gain: -inf\n",
      "[LightGBM] [Warning] No further splits with positive gain, best gain: -inf\n",
      "[LightGBM] [Warning] No further splits with positive gain, best gain: -inf\n",
      "[LightGBM] [Warning] No further splits with positive gain, best gain: -inf\n",
      "[LightGBM] [Warning] No further splits with positive gain, best gain: -inf\n",
      "[LightGBM] [Warning] No further splits with positive gain, best gain: -inf\n",
      "[LightGBM] [Warning] No further splits with positive gain, best gain: -inf\n",
      "[LightGBM] [Warning] No further splits with positive gain, best gain: -inf\n",
      "[LightGBM] [Warning] No further splits with positive gain, best gain: -inf\n",
      "[LightGBM] [Warning] No further splits with positive gain, best gain: -inf\n",
      "[LightGBM] [Warning] No further splits with positive gain, best gain: -inf\n",
      "[LightGBM] [Warning] No further splits with positive gain, best gain: -inf\n",
      "[LightGBM] [Warning] No further splits with positive gain, best gain: -inf\n",
      "[LightGBM] [Warning] No further splits with positive gain, best gain: -inf\n",
      "[LightGBM] [Warning] No further splits with positive gain, best gain: -inf\n",
      "[LightGBM] [Warning] No further splits with positive gain, best gain: -inf\n",
      "[LightGBM] [Warning] No further splits with positive gain, best gain: -inf\n",
      "[LightGBM] [Warning] No further splits with positive gain, best gain: -inf\n",
      "[LightGBM] [Warning] No further splits with positive gain, best gain: -inf\n",
      "[LightGBM] [Warning] No further splits with positive gain, best gain: -inf\n",
      "[LightGBM] [Warning] No further splits with positive gain, best gain: -inf\n",
      "[LightGBM] [Warning] No further splits with positive gain, best gain: -inf\n",
      "[LightGBM] [Warning] No further splits with positive gain, best gain: -inf\n",
      "[LightGBM] [Warning] No further splits with positive gain, best gain: -inf\n",
      "[LightGBM] [Warning] No further splits with positive gain, best gain: -inf\n",
      "[LightGBM] [Warning] No further splits with positive gain, best gain: -inf\n",
      "[LightGBM] [Warning] No further splits with positive gain, best gain: -inf\n",
      "[LightGBM] [Warning] No further splits with positive gain, best gain: -inf\n",
      "[LightGBM] [Warning] No further splits with positive gain, best gain: -inf\n",
      "[LightGBM] [Warning] No further splits with positive gain, best gain: -inf\n",
      "[LightGBM] [Warning] No further splits with positive gain, best gain: -inf\n",
      "[LightGBM] [Warning] No further splits with positive gain, best gain: -inf\n",
      "[LightGBM] [Warning] No further splits with positive gain, best gain: -inf\n",
      "[LightGBM] [Warning] No further splits with positive gain, best gain: -inf\n",
      "[LightGBM] [Warning] No further splits with positive gain, best gain: -inf\n",
      "[LightGBM] [Warning] No further splits with positive gain, best gain: -inf\n",
      "[LightGBM] [Warning] No further splits with positive gain, best gain: -inf\n",
      "[LightGBM] [Warning] No further splits with positive gain, best gain: -inf\n",
      "[LightGBM] [Warning] No further splits with positive gain, best gain: -inf\n",
      "[LightGBM] [Warning] No further splits with positive gain, best gain: -inf\n",
      "[LightGBM] [Warning] No further splits with positive gain, best gain: -inf\n",
      "[LightGBM] [Warning] No further splits with positive gain, best gain: -inf\n",
      "[LightGBM] [Warning] No further splits with positive gain, best gain: -inf\n",
      "[LightGBM] [Warning] No further splits with positive gain, best gain: -inf\n",
      "[LightGBM] [Warning] No further splits with positive gain, best gain: -inf\n",
      "[LightGBM] [Warning] No further splits with positive gain, best gain: -inf\n",
      "[LightGBM] [Warning] No further splits with positive gain, best gain: -inf\n",
      "[LightGBM] [Warning] No further splits with positive gain, best gain: -inf\n",
      "[LightGBM] [Warning] No further splits with positive gain, best gain: -inf\n",
      "[LightGBM] [Warning] No further splits with positive gain, best gain: -inf\n",
      "[LightGBM] [Warning] No further splits with positive gain, best gain: -inf\n",
      "[LightGBM] [Warning] No further splits with positive gain, best gain: -inf\n",
      "[LightGBM] [Warning] No further splits with positive gain, best gain: -inf\n",
      "[LightGBM] [Warning] No further splits with positive gain, best gain: -inf\n",
      "[LightGBM] [Warning] No further splits with positive gain, best gain: -inf\n",
      "[LightGBM] [Warning] No further splits with positive gain, best gain: -inf\n",
      "[LightGBM] [Warning] No further splits with positive gain, best gain: -inf\n",
      "[LightGBM] [Warning] No further splits with positive gain, best gain: -inf\n",
      "[LightGBM] [Warning] No further splits with positive gain, best gain: -inf\n",
      "[LightGBM] [Warning] No further splits with positive gain, best gain: -inf\n",
      "[LightGBM] [Warning] No further splits with positive gain, best gain: -inf\n",
      "[LightGBM] [Warning] No further splits with positive gain, best gain: -inf\n",
      "[LightGBM] [Warning] No further splits with positive gain, best gain: -inf\n",
      "[LightGBM] [Warning] No further splits with positive gain, best gain: -inf\n",
      "[LightGBM] [Warning] No further splits with positive gain, best gain: -inf\n",
      "[LightGBM] [Warning] No further splits with positive gain, best gain: -inf\n",
      "[LightGBM] [Warning] No further splits with positive gain, best gain: -inf\n",
      "[LightGBM] [Warning] No further splits with positive gain, best gain: -inf\n",
      "[LightGBM] [Warning] No further splits with positive gain, best gain: -inf\n",
      "[LightGBM] [Warning] No further splits with positive gain, best gain: -inf\n",
      "[LightGBM] [Warning] No further splits with positive gain, best gain: -inf\n",
      "[LightGBM] [Warning] No further splits with positive gain, best gain: -inf\n",
      "[LightGBM] [Warning] No further splits with positive gain, best gain: -inf\n",
      "[LightGBM] [Warning] No further splits with positive gain, best gain: -inf\n",
      "[LightGBM] [Warning] No further splits with positive gain, best gain: -inf\n",
      "[LightGBM] [Warning] No further splits with positive gain, best gain: -inf\n",
      "[LightGBM] [Warning] No further splits with positive gain, best gain: -inf\n",
      "[LightGBM] [Warning] No further splits with positive gain, best gain: -inf\n",
      "[LightGBM] [Warning] No further splits with positive gain, best gain: -inf\n",
      "[LightGBM] [Warning] No further splits with positive gain, best gain: -inf\n",
      "[LightGBM] [Warning] No further splits with positive gain, best gain: -inf\n",
      "[LightGBM] [Warning] No further splits with positive gain, best gain: -inf\n",
      "[LightGBM] [Warning] No further splits with positive gain, best gain: -inf\n",
      "[LightGBM] [Warning] No further splits with positive gain, best gain: -inf\n",
      "[LightGBM] [Warning] No further splits with positive gain, best gain: -inf\n",
      "[LightGBM] [Warning] No further splits with positive gain, best gain: -inf\n",
      "[LightGBM] [Warning] No further splits with positive gain, best gain: -inf\n",
      "[LightGBM] [Warning] No further splits with positive gain, best gain: -inf\n",
      "[LightGBM] [Warning] No further splits with positive gain, best gain: -inf\n",
      "[LightGBM] [Warning] No further splits with positive gain, best gain: -inf\n",
      "[LightGBM] [Warning] No further splits with positive gain, best gain: -inf\n",
      "[LightGBM] [Warning] No further splits with positive gain, best gain: -inf\n",
      "[LightGBM] [Warning] No further splits with positive gain, best gain: -inf\n",
      "[LightGBM] [Warning] No further splits with positive gain, best gain: -inf\n",
      "[LightGBM] [Warning] No further splits with positive gain, best gain: -inf\n",
      "[LightGBM] [Warning] No further splits with positive gain, best gain: -inf\n",
      "[LightGBM] [Warning] No further splits with positive gain, best gain: -inf\n",
      "[LightGBM] [Warning] No further splits with positive gain, best gain: -inf\n",
      "[LightGBM] [Warning] No further splits with positive gain, best gain: -inf\n",
      "[LightGBM] [Warning] No further splits with positive gain, best gain: -inf\n",
      "[LightGBM] [Warning] No further splits with positive gain, best gain: -inf\n",
      "[LightGBM] [Warning] No further splits with positive gain, best gain: -inf\n",
      "[LightGBM] [Warning] No further splits with positive gain, best gain: -inf\n",
      "[LightGBM] [Warning] No further splits with positive gain, best gain: -inf\n",
      "[LightGBM] [Warning] No further splits with positive gain, best gain: -inf\n",
      "[LightGBM] [Warning] No further splits with positive gain, best gain: -inf\n",
      "[LightGBM] [Warning] No further splits with positive gain, best gain: -inf\n",
      "[LightGBM] [Warning] No further splits with positive gain, best gain: -inf\n",
      "[LightGBM] [Warning] No further splits with positive gain, best gain: -inf\n",
      "[LightGBM] [Warning] No further splits with positive gain, best gain: -inf\n",
      "[LightGBM] [Warning] No further splits with positive gain, best gain: -inf\n",
      "[LightGBM] [Warning] No further splits with positive gain, best gain: -inf\n",
      "[LightGBM] [Warning] No further splits with positive gain, best gain: -inf\n"
     ]
    },
    {
     "name": "stderr",
     "output_type": "stream",
     "text": [
      "LightGBM binary classifier with TreeExplainer shap values output has changed to a list of ndarray\n"
     ]
    },
    {
     "data": {
      "image/png": "[encoded data removed]",
      "text/plain": [
       "<Figure size 432x288 with 2 Axes>"
      ]
     },
     "metadata": {
      "needs_background": "light"
     },
     "output_type": "display_data"
    },
    {
     "data": {
      "image/png": "[encoded data removed]",
      "text/plain": [
       "<Figure size 432x288 with 1 Axes>"
      ]
     },
     "metadata": {
      "needs_background": "light"
     },
     "output_type": "display_data"
    },
    {
     "data": {
      "image/png": "[encoded data removed]",
      "text/plain": [
       "<Figure size 432x288 with 1 Axes>"
      ]
     },
     "metadata": {
      "needs_background": "light"
     },
     "output_type": "display_data"
    },
    {
     "data": {
      "image/png": "[encoded data removed]",
      "text/plain": [
       "<Figure size 576x280.8 with 1 Axes>"
      ]
     },
     "metadata": {
      "needs_background": "light"
     },
     "output_type": "display_data"
    },
    {
     "data": {
      "text/html": [
       "<div>\n",
       "<style scoped>\n",
       "    .dataframe tbody tr th:only-of-type {\n",
       "        vertical-align: middle;\n",
       "    }\n",
       "\n",
       "    .dataframe tbody tr th {\n",
       "        vertical-align: top;\n",
       "    }\n",
       "\n",
       "    .dataframe thead th {\n",
       "        text-align: right;\n",
       "    }\n",
       "</style>\n",
       "<table border=\"1\" class=\"dataframe\">\n",
       "  <thead>\n",
       "    <tr style=\"text-align: right;\">\n",
       "      <th></th>\n",
       "      <th>GLM</th>\n",
       "      <th>forest</th>\n",
       "      <th>permutation</th>\n",
       "      <th>SHAP</th>\n",
       "      <th>total_rank</th>\n",
       "    </tr>\n",
       "  </thead>\n",
       "  <tbody>\n",
       "    <tr>\n",
       "      <th>C_m2</th>\n",
       "      <td>3.0</td>\n",
       "      <td>1.0</td>\n",
       "      <td>1.0</td>\n",
       "      <td>4.0</td>\n",
       "      <td>1.0</td>\n",
       "    </tr>\n",
       "    <tr>\n",
       "      <th>X_m3</th>\n",
       "      <td>1.0</td>\n",
       "      <td>3.0</td>\n",
       "      <td>5.0</td>\n",
       "      <td>1.0</td>\n",
       "      <td>2.0</td>\n",
       "    </tr>\n",
       "    <tr>\n",
       "      <th>C_m3</th>\n",
       "      <td>2.0</td>\n",
       "      <td>2.0</td>\n",
       "      <td>2.0</td>\n",
       "      <td>6.0</td>\n",
       "      <td>3.0</td>\n",
       "    </tr>\n",
       "    <tr>\n",
       "      <th>C_m4</th>\n",
       "      <td>6.0</td>\n",
       "      <td>4.0</td>\n",
       "      <td>4.0</td>\n",
       "      <td>2.0</td>\n",
       "      <td>4.0</td>\n",
       "    </tr>\n",
       "    <tr>\n",
       "      <th>X_m4</th>\n",
       "      <td>4.0</td>\n",
       "      <td>5.0</td>\n",
       "      <td>6.0</td>\n",
       "      <td>3.0</td>\n",
       "      <td>5.0</td>\n",
       "    </tr>\n",
       "    <tr>\n",
       "      <th>X_m2</th>\n",
       "      <td>5.0</td>\n",
       "      <td>6.0</td>\n",
       "      <td>3.0</td>\n",
       "      <td>5.0</td>\n",
       "      <td>6.0</td>\n",
       "    </tr>\n",
       "  </tbody>\n",
       "</table>\n",
       "</div>"
      ],
      "text/plain": [
       "      GLM  forest  permutation  SHAP  total_rank\n",
       "C_m2  3.0     1.0          1.0   4.0         1.0\n",
       "X_m3  1.0     3.0          5.0   1.0         2.0\n",
       "C_m3  2.0     2.0          2.0   6.0         3.0\n",
       "C_m4  6.0     4.0          4.0   2.0         4.0\n",
       "X_m4  4.0     5.0          6.0   3.0         5.0\n",
       "X_m2  5.0     6.0          3.0   5.0         6.0"
      ]
     },
     "execution_count": 24,
     "metadata": {},
     "output_type": "execute_result"
    }
   ],
   "source": [
    "target_set = 5\n",
    "rank_importance(train_firstC[f'set{target_set}'], mode = 'C')"
   ]
  },
  {
   "cell_type": "markdown",
   "metadata": {},
   "source": [
    "### Classifier"
   ]
  },
  {
   "cell_type": "code",
   "execution_count": 67,
   "metadata": {
    "ExecuteTime": {
     "end_time": "2022-03-17T07:07:27.895567Z",
     "start_time": "2022-03-17T07:07:20.075634Z"
    },
    "scrolled": true
   },
   "outputs": [
    {
     "data": {
      "application/vnd.jupyter.widget-view+json": {
       "model_id": "de687d91e19c493b8c288b6a52092c24",
       "version_major": 2,
       "version_minor": 0
      },
      "text/plain": [
       "0it [00:00, ?it/s]"
      ]
     },
     "metadata": {},
     "output_type": "display_data"
    },
    {
     "name": "stdout",
     "output_type": "stream",
     "text": [
      "\n",
      " Dataset1:\n",
      "Precision: 0.0013975542800099825 \n",
      "Recall: 0.5490196078431373 \n",
      "Aging Rate: 0.41182758124524654\n",
      "\n",
      " Dataset2:\n",
      "Precision: 0.0010272901871454733 \n",
      "Recall: 0.45098039215686275 \n",
      "Aging Rate: 0.4602150095582643\n",
      "\n",
      " Dataset3:\n",
      "Precision: 0.0008872552126243742 \n",
      "Recall: 0.27450980392156865 \n",
      "Aging Rate: 0.3243437686283377\n",
      "\n",
      " Dataset4:\n",
      "Precision: 0.0011864155420436007 \n",
      "Recall: 0.47058823529411764 \n",
      "Aging Rate: 0.4158153302226151\n",
      "\n",
      " Dataset5:\n",
      "Precision: 0.001182466870540265 \n",
      "Recall: 0.5686274509803921 \n",
      "Aging Rate: 0.5041213591235174\n",
      "\n",
      " Dataset6:\n",
      "Precision: 0.0011561503696177697 \n",
      "Recall: 0.6470588235294118 \n",
      "Aging Rate: 0.5867129848506649\n",
      "\n",
      " Dataset7:\n",
      "Precision: 0.0010496850944716584 \n",
      "Recall: 0.23529411764705882 \n",
      "Aging Rate: 0.2349894139653436\n",
      "\n",
      " Dataset8:\n",
      "Precision: 0.0013129821106187428 \n",
      "Recall: 0.47058823529411764 \n",
      "Aging Rate: 0.3757322863779317\n",
      "\n",
      " Dataset9:\n",
      "Precision: 0.001154068090017311 \n",
      "Recall: 0.1568627450980392 \n",
      "Aging Rate: 0.14249008201607433\n"
     ]
    },
    {
     "data": {
      "image/png": "[encoded data removed]",
      "text/plain": [
       "<Figure size 1080x576 with 2 Axes>"
      ]
     },
     "metadata": {
      "needs_background": "light"
     },
     "output_type": "display_data"
    }
   ],
   "source": [
    "table_setC, coefC = runall_LR(train_firstC_x, test_firstC_x, train_firstC_y, test_firstC_y, best_paramC)\n",
    "line_chart(table_setC, title = 'StackingCV Classifier (Scheme 2)')"
   ]
  },
  {
   "cell_type": "code",
   "execution_count": 54,
   "metadata": {
    "ExecuteTime": {
     "end_time": "2022-03-14T18:03:12.679790Z",
     "start_time": "2022-03-14T18:03:12.664160Z"
    }
   },
   "outputs": [
    {
     "data": {
      "text/html": [
       "<div>\n",
       "<style scoped>\n",
       "    .dataframe tbody tr th:only-of-type {\n",
       "        vertical-align: middle;\n",
       "    }\n",
       "\n",
       "    .dataframe tbody tr th {\n",
       "        vertical-align: top;\n",
       "    }\n",
       "\n",
       "    .dataframe thead th {\n",
       "        text-align: right;\n",
       "    }\n",
       "</style>\n",
       "<table border=\"1\" class=\"dataframe\">\n",
       "  <thead>\n",
       "    <tr style=\"text-align: right;\">\n",
       "      <th></th>\n",
       "      <th>Balance Ratio</th>\n",
       "      <th>Train_OK</th>\n",
       "      <th>Train_NG</th>\n",
       "      <th>TP</th>\n",
       "      <th>FP</th>\n",
       "      <th>FN</th>\n",
       "      <th>TN</th>\n",
       "      <th>Precision</th>\n",
       "      <th>Recall</th>\n",
       "      <th>Aging Rate</th>\n",
       "      <th>Efficiency</th>\n",
       "      <th>F1 Score</th>\n",
       "      <th>Score</th>\n",
       "    </tr>\n",
       "  </thead>\n",
       "  <tbody>\n",
       "    <tr>\n",
       "      <th>dataset1</th>\n",
       "      <td>1.000000</td>\n",
       "      <td>3067.0</td>\n",
       "      <td>3067.0</td>\n",
       "      <td>20.0</td>\n",
       "      <td>14239.0</td>\n",
       "      <td>31.0</td>\n",
       "      <td>34359.0</td>\n",
       "      <td>0.001403</td>\n",
       "      <td>0.392157</td>\n",
       "      <td>0.293100</td>\n",
       "      <td>1.337965</td>\n",
       "      <td>0.001398</td>\n",
       "      <td>0.333051</td>\n",
       "    </tr>\n",
       "    <tr>\n",
       "      <th>dataset2</th>\n",
       "      <td>1.000000</td>\n",
       "      <td>2997.0</td>\n",
       "      <td>2997.0</td>\n",
       "      <td>26.0</td>\n",
       "      <td>24626.0</td>\n",
       "      <td>25.0</td>\n",
       "      <td>23972.0</td>\n",
       "      <td>0.001055</td>\n",
       "      <td>0.509804</td>\n",
       "      <td>0.506732</td>\n",
       "      <td>1.006062</td>\n",
       "      <td>0.001053</td>\n",
       "      <td>0.354912</td>\n",
       "    </tr>\n",
       "    <tr>\n",
       "      <th>dataset3</th>\n",
       "      <td>1.000000</td>\n",
       "      <td>3033.0</td>\n",
       "      <td>3033.0</td>\n",
       "      <td>31.0</td>\n",
       "      <td>26505.0</td>\n",
       "      <td>20.0</td>\n",
       "      <td>22093.0</td>\n",
       "      <td>0.001168</td>\n",
       "      <td>0.607843</td>\n",
       "      <td>0.545458</td>\n",
       "      <td>1.114371</td>\n",
       "      <td>0.001166</td>\n",
       "      <td>0.455127</td>\n",
       "    </tr>\n",
       "    <tr>\n",
       "      <th>dataset4</th>\n",
       "      <td>1.000000</td>\n",
       "      <td>3038.0</td>\n",
       "      <td>3038.0</td>\n",
       "      <td>30.0</td>\n",
       "      <td>20329.0</td>\n",
       "      <td>21.0</td>\n",
       "      <td>28269.0</td>\n",
       "      <td>0.001474</td>\n",
       "      <td>0.588235</td>\n",
       "      <td>0.418488</td>\n",
       "      <td>1.405622</td>\n",
       "      <td>0.001470</td>\n",
       "      <td>0.516358</td>\n",
       "    </tr>\n",
       "    <tr>\n",
       "      <th>dataset5</th>\n",
       "      <td>1.006623</td>\n",
       "      <td>3040.0</td>\n",
       "      <td>3020.0</td>\n",
       "      <td>31.0</td>\n",
       "      <td>22467.0</td>\n",
       "      <td>20.0</td>\n",
       "      <td>26131.0</td>\n",
       "      <td>0.001378</td>\n",
       "      <td>0.607843</td>\n",
       "      <td>0.462456</td>\n",
       "      <td>1.314382</td>\n",
       "      <td>0.001375</td>\n",
       "      <td>0.510067</td>\n",
       "    </tr>\n",
       "    <tr>\n",
       "      <th>dataset6</th>\n",
       "      <td>1.016722</td>\n",
       "      <td>3040.0</td>\n",
       "      <td>2990.0</td>\n",
       "      <td>38.0</td>\n",
       "      <td>34443.0</td>\n",
       "      <td>13.0</td>\n",
       "      <td>14155.0</td>\n",
       "      <td>0.001102</td>\n",
       "      <td>0.745098</td>\n",
       "      <td>0.708771</td>\n",
       "      <td>1.051254</td>\n",
       "      <td>0.001100</td>\n",
       "      <td>0.535317</td>\n",
       "    </tr>\n",
       "    <tr>\n",
       "      <th>dataset7</th>\n",
       "      <td>1.099458</td>\n",
       "      <td>3040.0</td>\n",
       "      <td>2765.0</td>\n",
       "      <td>40.0</td>\n",
       "      <td>32907.0</td>\n",
       "      <td>11.0</td>\n",
       "      <td>15691.0</td>\n",
       "      <td>0.001214</td>\n",
       "      <td>0.784314</td>\n",
       "      <td>0.677239</td>\n",
       "      <td>1.158105</td>\n",
       "      <td>0.001212</td>\n",
       "      <td>0.603318</td>\n",
       "    </tr>\n",
       "    <tr>\n",
       "      <th>dataset8</th>\n",
       "      <td>1.000000</td>\n",
       "      <td>3040.0</td>\n",
       "      <td>3040.0</td>\n",
       "      <td>30.0</td>\n",
       "      <td>20848.0</td>\n",
       "      <td>21.0</td>\n",
       "      <td>27750.0</td>\n",
       "      <td>0.001437</td>\n",
       "      <td>0.588235</td>\n",
       "      <td>0.429156</td>\n",
       "      <td>1.370680</td>\n",
       "      <td>0.001433</td>\n",
       "      <td>0.507751</td>\n",
       "    </tr>\n",
       "    <tr>\n",
       "      <th>dataset9</th>\n",
       "      <td>10.000000</td>\n",
       "      <td>3040.0</td>\n",
       "      <td>304.0</td>\n",
       "      <td>24.0</td>\n",
       "      <td>18163.0</td>\n",
       "      <td>27.0</td>\n",
       "      <td>30435.0</td>\n",
       "      <td>0.001320</td>\n",
       "      <td>0.470588</td>\n",
       "      <td>0.373841</td>\n",
       "      <td>1.258792</td>\n",
       "      <td>0.001316</td>\n",
       "      <td>0.383449</td>\n",
       "    </tr>\n",
       "  </tbody>\n",
       "</table>\n",
       "</div>"
      ],
      "text/plain": [
       "          Balance Ratio  Train_OK  Train_NG    TP       FP    FN       TN  \\\n",
       "dataset1       1.000000    3067.0    3067.0  20.0  14239.0  31.0  34359.0   \n",
       "dataset2       1.000000    2997.0    2997.0  26.0  24626.0  25.0  23972.0   \n",
       "dataset3       1.000000    3033.0    3033.0  31.0  26505.0  20.0  22093.0   \n",
       "dataset4       1.000000    3038.0    3038.0  30.0  20329.0  21.0  28269.0   \n",
       "dataset5       1.006623    3040.0    3020.0  31.0  22467.0  20.0  26131.0   \n",
       "dataset6       1.016722    3040.0    2990.0  38.0  34443.0  13.0  14155.0   \n",
       "dataset7       1.099458    3040.0    2765.0  40.0  32907.0  11.0  15691.0   \n",
       "dataset8       1.000000    3040.0    3040.0  30.0  20848.0  21.0  27750.0   \n",
       "dataset9      10.000000    3040.0     304.0  24.0  18163.0  27.0  30435.0   \n",
       "\n",
       "          Precision    Recall  Aging Rate  Efficiency  F1 Score     Score  \n",
       "dataset1   0.001403  0.392157    0.293100    1.337965  0.001398  0.333051  \n",
       "dataset2   0.001055  0.509804    0.506732    1.006062  0.001053  0.354912  \n",
       "dataset3   0.001168  0.607843    0.545458    1.114371  0.001166  0.455127  \n",
       "dataset4   0.001474  0.588235    0.418488    1.405622  0.001470  0.516358  \n",
       "dataset5   0.001378  0.607843    0.462456    1.314382  0.001375  0.510067  \n",
       "dataset6   0.001102  0.745098    0.708771    1.051254  0.001100  0.535317  \n",
       "dataset7   0.001214  0.784314    0.677239    1.158105  0.001212  0.603318  \n",
       "dataset8   0.001437  0.588235    0.429156    1.370680  0.001433  0.507751  \n",
       "dataset9   0.001320  0.470588    0.373841    1.258792  0.001316  0.383449  "
      ]
     },
     "execution_count": 54,
     "metadata": {},
     "output_type": "execute_result"
    }
   ],
   "source": [
    "table_setC"
   ]
  },
  {
   "cell_type": "markdown",
   "metadata": {},
   "source": [
    "### Export"
   ]
  },
  {
   "cell_type": "code",
   "execution_count": 55,
   "metadata": {
    "ExecuteTime": {
     "end_time": "2022-03-14T18:03:16.886810Z",
     "start_time": "2022-03-14T18:03:16.698910Z"
    }
   },
   "outputs": [],
   "source": [
    "savedate = '20220315'\n",
    "TPE_multi = False\n",
    "\n",
    "table_setC['sampler'] = 'multivariate-TPE' if TPE_multi else 'univariate-TPE'\n",
    "table_setC['model'] = 'StackingCV2_XNL'\n",
    "with pd.ExcelWriter(f'{savedate}_Classifier.xlsx', mode = 'a') as writer:\n",
    "    table_setC.to_excel(writer, sheet_name = 'StackingCV2_XNL')"
   ]
  }
 ],
 "metadata": {
  "hide_input": false,
  "kernelspec": {
   "display_name": "Python [conda env:aging]",
   "language": "python",
   "name": "conda-env-aging-py"
  },
  "language_info": {
   "codemirror_mode": {
    "name": "ipython",
    "version": 3
   },
   "file_extension": ".py",
   "mimetype": "text/x-python",
   "name": "python",
   "nbconvert_exporter": "python",
   "pygments_lexer": "ipython3",
   "version": "3.7.10"
  },
  "toc": {
   "base_numbering": 1,
   "nav_menu": {},
   "number_sections": true,
   "sideBar": true,
   "skip_h1_title": false,
   "title_cell": "Table of Contents",
   "title_sidebar": "Contents",
   "toc_cell": false,
   "toc_position": {},
   "toc_section_display": true,
   "toc_window_display": false
  },
  "varInspector": {
   "cols": {
    "lenName": 16,
    "lenType": 16,
    "lenVar": 40
   },
   "kernels_config": {
    "python": {
     "delete_cmd_postfix": "",
     "delete_cmd_prefix": "del ",
     "library": "var_list.py",
     "varRefreshCmd": "print(var_dic_list())"
    },
    "r": {
     "delete_cmd_postfix": ") ",
     "delete_cmd_prefix": "rm(",
     "library": "var_list.r",
     "varRefreshCmd": "cat(var_dic_list()) "
    }
   },
   "types_to_exclude": [
    "module",
    "function",
    "builtin_function_or_method",
    "instance",
    "_Feature"
   ],
   "window_display": false
  }
 },
 "nbformat": 4,
 "nbformat_minor": 4
}
