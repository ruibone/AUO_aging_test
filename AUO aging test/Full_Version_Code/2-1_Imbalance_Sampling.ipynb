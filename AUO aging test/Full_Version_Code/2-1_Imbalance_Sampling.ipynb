{
 "cells": [
  {
   "cell_type": "code",
   "execution_count": 1,
   "metadata": {
    "ExecuteTime": {
     "end_time": "2021-12-14T06:32:16.497486Z",
     "start_time": "2021-12-14T06:32:15.353434Z"
    }
   },
   "outputs": [
    {
     "data": {
      "text/plain": [
       "'C:\\\\Users\\\\user\\\\Desktop\\\\Darui_R08621110'"
      ]
     },
     "execution_count": 1,
     "metadata": {},
     "output_type": "execute_result"
    }
   ],
   "source": [
    "import os\n",
    "import math\n",
    "import random\n",
    "import numpy as np\n",
    "import pandas as pd\n",
    "from tqdm.auto import tqdm\n",
    "import matplotlib.pyplot as plt\n",
    "\n",
    "import smote_variants as sv\n",
    "from imblearn.under_sampling import RandomUnderSampler, TomekLinks, InstanceHardnessThreshold, NearMiss\n",
    "from imblearn.over_sampling import ADASYN, SMOTEN\n",
    "\n",
    "from library.Data_Preprocessing import Balance_Ratio, training_def\n",
    "from library.Training_Data_Processing import Corner, Kind\n",
    "\n",
    "os.chdir('C:/Users/user/Desktop/Darui_R08621110')\n",
    "os.getcwd()"
   ]
  },
  {
   "cell_type": "markdown",
   "metadata": {
    "ExecuteTime": {
     "end_time": "2021-10-08T12:46:06.585171Z",
     "start_time": "2021-10-08T12:46:06.581097Z"
    }
   },
   "source": [
    "## "
   ]
  },
  {
   "cell_type": "code",
   "execution_count": 2,
   "metadata": {
    "ExecuteTime": {
     "end_time": "2021-12-14T06:32:17.701263Z",
     "start_time": "2021-12-14T06:32:17.694320Z"
    }
   },
   "outputs": [],
   "source": [
    "def label_divide(train, test, label = 'GB', train_only = False):\n",
    "    \n",
    "    train_x = train.drop(columns = label)\n",
    "    train_y = train[label]\n",
    "    \n",
    "    if not train_only:\n",
    "        test_x = test.drop(columns = label)\n",
    "        test_y = test[label]    \n",
    "        return train_x, train_y, test_x, test_y\n",
    "    else:\n",
    "        return train_x, train_y"
   ]
  },
  {
   "cell_type": "markdown",
   "metadata": {},
   "source": [
    "### self-defined oversampling (border)\n",
    "first writen by chungcheng, and then modified "
   ]
  },
  {
   "cell_type": "code",
   "execution_count": 3,
   "metadata": {
    "ExecuteTime": {
     "end_time": "2021-12-14T06:32:21.215176Z",
     "start_time": "2021-12-14T06:32:21.197147Z"
    }
   },
   "outputs": [],
   "source": [
    "## Output : 資料點之間的距離\n",
    "def distance_matrix(data1, data2, triangle = False):\n",
    "    \n",
    "    data1 = np.array(data1.iloc[:, :-1])\n",
    "    data2 = np.array(data2.iloc[:, :-1])\n",
    "    dis_mat = pd.DataFrame((data1[:, None, :] != data2).sum(2))\n",
    "    if triangle:\n",
    "        dis_mat = dis_mat.where(np.triu(np.ones(dis_mat.shape)).astype(bool))\n",
    "    \n",
    "    return dis_mat\n",
    "\n",
    "\n",
    "## 給定 df 和 value 找出其 row 和 col\n",
    "def get_indexes(dis_mat, value):\n",
    "\n",
    "    pos_list = []\n",
    "    # Get bool dataframe with True at positions where the given value exists\n",
    "    result = dis_mat.isin([value])\n",
    "    # Get list of columns that contains the value\n",
    "    col_target = result.any()\n",
    "    colnames = list(col_target[col_target == True].index)\n",
    "    # Iterate over list of columns and fetch the rows indexes where value exists\n",
    "    for col in colnames:\n",
    "        rows = list(result[col][result[col] == True].index)\n",
    "        for row in rows:\n",
    "            pos_list.append((row, col))\n",
    "    \n",
    "    return pos_list\n",
    "\n",
    "\n",
    "#給定一個 資料集 和 值 後, 找出相對應的位置\n",
    "def ID_given_distance(data1, data2, target_dis):\n",
    "    \n",
    "    dis_mat = distance_matrix(data1, data2)\n",
    "    index_set = get_indexes(dis_mat, target_dis)\n",
    "    \n",
    "    return index_set\n",
    "\n",
    "\n",
    "# 2個以上不同 的排列組合\n",
    "def perm(diff_series, num_over, farest_generate = 3):\n",
    "    \n",
    "    random_list = []\n",
    "    for i in range(num_over) :\n",
    "        change_num = random.sample(range(1, farest_generate+1), 1)[0]\n",
    "        diff_index = diff_series[diff_series == True].index.tolist()\n",
    "        change_index = random.sample(diff_index, change_num)\n",
    "        mask = diff_series.copy()\n",
    "        for j in change_index:\n",
    "            mask[j] = False\n",
    "        random_list.append(mask.values.tolist())\n",
    "            \n",
    "    return random_list\n",
    "\n",
    "\n",
    "def Border(data, max_distance, num_over):\n",
    "    \n",
    "    data1 = data[data.GB == 1]\n",
    "    data2 = data[data.GB == 0]\n",
    "    full_data = data.iloc[:, :-1].copy()\n",
    "    training_df = pd.DataFrame()\n",
    "    for k in range(3, max_distance+1):\n",
    "\n",
    "        bad_indexes = ID_given_distance(data1, data1, k)\n",
    "        smote_df = pd.DataFrame()\n",
    "        if len(bad_indexes) != 0:\n",
    "            for l in range(len(bad_indexes)):\n",
    "\n",
    "                ##選定一組數字,一個當中心點\n",
    "                point_0 = bad_indexes[l][0]\n",
    "                point_1 = bad_indexes[l][1]\n",
    "\n",
    "                # d_smote 的初始值和中心點一樣\n",
    "                d_smote = full_data.loc[point_0].copy()\n",
    "\n",
    "                # 找出有差異處的 cols\n",
    "                points_diff = (full_data.loc[point_0] != full_data.loc[point_1])\n",
    "                diff_mask = points_diff.values\n",
    "                diff_cols = points_diff.index\n",
    "\n",
    "                ## L為距離 i 的點之間的排列組合\n",
    "                perm_set = perm(points_diff, num_over) \n",
    "                \n",
    "                '''創造DATA_SMOTE(給定中心點:d_smote 和 L)'''\n",
    "                s_df = pd.DataFrame()\n",
    "                for i in range(len(perm_set)):\n",
    "\n",
    "                    s = pd.DataFrame([d_smote]).copy()\n",
    "                    \n",
    "                    for j in range(len(perm_set[i])):\n",
    "                        \n",
    "                        s[diff_cols[j]] = (1 - d_smote[diff_cols[j]]) if perm_set[i][j] else d_smote[diff_cols[j]]                     \n",
    "                    s_df = pd.concat([s_df, s], axis = 0)\n",
    "                smote_df = pd.concat([smote_df, s_df], axis = 0) # new added\n",
    "                smote_df['GB'] = 1 \n",
    "        training_df = pd.concat([training_df, smote_df], axis = 0)  \n",
    "    training_df = training_df.drop_duplicates().reset_index(drop = True)\n",
    "    \n",
    "    return training_df"
   ]
  },
  {
   "cell_type": "markdown",
   "metadata": {},
   "source": [
    "### oversampling"
   ]
  },
  {
   "cell_type": "code",
   "execution_count": 4,
   "metadata": {
    "ExecuteTime": {
     "end_time": "2021-12-14T06:32:24.497747Z",
     "start_time": "2021-12-14T06:32:24.481785Z"
    }
   },
   "outputs": [],
   "source": [
    "def before_over(dataset, label = 'GB'):\n",
    "    \n",
    "    colnames = dataset.columns\n",
    "    Y = dataset[label]\n",
    "    Y = Y.reset_index(drop = True)\n",
    "    Y = np.array(Y)\n",
    "    X = dataset.drop(columns = [label])\n",
    "    X = X.reset_index(drop = True)\n",
    "    X = X.to_numpy()\n",
    "    \n",
    "    return X, Y, colnames\n",
    "\n",
    "\n",
    "def after_over(X, Y, colnames, back_to_category = False):\n",
    "    \n",
    "    colnames = colnames[:X.shape[1]]\n",
    "    X = pd.DataFrame(X, columns = colnames)\n",
    "    \n",
    "    if back_to_category:\n",
    "        for j in tqdm(range(X.shape[1])):\n",
    "            colvalue = X.iloc[:, j]\n",
    "            upper = np.array(colvalue[colvalue < 1])\n",
    "            lower = np.array(upper[upper > 0])\n",
    "            colmean = np.mean(lower)\n",
    "            \n",
    "            mask = colvalue >= colmean\n",
    "            X.iloc[mask, j] = 1\n",
    "            X.iloc[~mask, j] = 0\n",
    "    \n",
    "    Y = pd.Series(Y)\n",
    "    \n",
    "    return X, Y\n",
    "\n",
    "\n",
    "def over_sample(X, Y, method, ratio, n_neighbors = 5, *args):\n",
    "    \n",
    "    method_list = ['NoSMOTE', 'SMOTE', 'MSMOTE', 'ROSE', 'SMOTEN', 'ADASYN']\n",
    "    if method not in method_list:\n",
    "        raise Exception('Invalid method !')\n",
    "    \n",
    "    if method == method_list[0]:\n",
    "        over_sampler = sv.NoSMOTE()\n",
    "    elif method == method_list[1]:\n",
    "        over_sampler = sv.SMOTE(ratio, n_neighbors)\n",
    "    elif method == method_list[2]:\n",
    "        over_sampler = sv.MSMOTE(ratio, n_neighbors)\n",
    "    elif method == method_list[3]:\n",
    "        over_sampler = sv.ROSE(ratio)   \n",
    "    elif method == method_list[4]:\n",
    "        over_sampler = SMOTEN(sampling_strategy = ratio, k_neighbors = n_neighbors)\n",
    "    elif method == method_list[5]:\n",
    "        over_sampler = ADASYN(sampling_strategy = ratio, n_neighbors = n_neighbors)    \n",
    "    \n",
    "    if method in method_list[0:4]:\n",
    "        over_X, over_Y = over_sampler.sample(X, Y)\n",
    "    else:\n",
    "        over_X, over_Y = over_sampler.fit_resample(X, Y)\n",
    "    \n",
    "    return over_X, over_Y"
   ]
  },
  {
   "cell_type": "markdown",
   "metadata": {},
   "source": [
    "### undersampling"
   ]
  },
  {
   "cell_type": "code",
   "execution_count": 5,
   "metadata": {
    "ExecuteTime": {
     "end_time": "2021-12-14T06:32:28.312984Z",
     "start_time": "2021-12-14T06:32:28.292995Z"
    }
   },
   "outputs": [],
   "source": [
    "def before_under(dataset, label = 'GB'):\n",
    "    \n",
    "    Y = dataset[label]\n",
    "    X = dataset.drop(columns = [label])\n",
    "    \n",
    "    return X, Y\n",
    "\n",
    "\n",
    "def under_sample(X, Y, method, ratio, *args):\n",
    "    \n",
    "    method_list = [None, 'random', 'Tomek', 'IHT', 'NM', 'one-sided', 'r-one-sided']\n",
    "    if method not in method_list:\n",
    "        raise Exception('Invalid method !')\n",
    "    \n",
    "    if method == method_list[0]:\n",
    "        return X, Y\n",
    "        \n",
    "    elif method == method_list[1]:\n",
    "        under_sampler = RandomUnderSampler(sampling_strategy = ratio)    \n",
    "    elif method == method_list[2]:\n",
    "        under_sampler = TomekLinks(sampling_strategy = 'majority')\n",
    "    elif method == method_list[3]:\n",
    "        under_sampler = InstanceHardnessThreshold(sampling_strategy = ratio, cv = 5, n_jobs = -1)\n",
    "    elif method in (method_list[4] + method_list[5]):\n",
    "        under_sampler = NearMiss(sampling_strategy = ratio, version = 2, n_jobs = -1)\n",
    "    elif method == method_list[6]:\n",
    "        under_sampler = InstanceHardnessThreshold(sampling_strategy = 1, cv = 5, n_jobs = -1)\n",
    "    \n",
    "    under_X, under_Y = under_sampler.fit_resample(X, Y)\n",
    "    \n",
    "    if method == method_list[5]:\n",
    "        second_sampler = InstanceHardnessThreshold(sampling_strategy = 1, cv = 5, n_jobs = -1)\n",
    "        under_X, under_Y = second_sampler.fit_resample(under_X, under_Y)\n",
    "    elif method == method_list[6]:\n",
    "        second_sampler = NearMiss(sampling_strategy = ratio, version = 2, n_jobs = -1)\n",
    "        under_X, under_Y = second_sampler.fit_resample(under_X, under_Y)\n",
    "    \n",
    "    return under_X, under_Y"
   ]
  },
  {
   "cell_type": "markdown",
   "metadata": {},
   "source": [
    "### protocol to generate datasets"
   ]
  },
  {
   "cell_type": "code",
   "execution_count": 6,
   "metadata": {
    "ExecuteTime": {
     "end_time": "2021-12-14T06:32:31.170303Z",
     "start_time": "2021-12-14T06:32:31.154532Z"
    }
   },
   "outputs": [],
   "source": [
    "def under_over(dataset, over_method, under_method, over_ratio, under_ratio, label = 'GB'):\n",
    "    \n",
    "    #undersampling\n",
    "    if under_method != None:\n",
    "        X, Y = before_under(dataset, label)\n",
    "        Y = Y.astype(int)\n",
    "        print('Size before Undersampling:', len(Y))\n",
    "        under_X, under_Y = under_sample(X, Y, under_method, under_ratio)\n",
    "        dataset = pd.concat([under_X, under_Y], axis = 1)\n",
    "        print('Size after Undersampling:', len(under_Y))\n",
    "    \n",
    "    #oversampling\n",
    "    temp_X, temp_Y, colnames = before_over(dataset, label)\n",
    "    print('Size before Oversampling:', len(temp_Y))\n",
    "    over_X, over_Y = over_sample(temp_X, temp_Y, over_method, over_ratio)\n",
    "    X, Y = after_over(over_X, over_Y, colnames)\n",
    "    print('Size after Oversampling:', len(Y))\n",
    "        \n",
    "    return X, Y\n",
    "\n",
    "\n",
    "def over_under(dataset, over_method, under_method, over_ratio, under_ratio, label = 'GB') :\n",
    "    \n",
    "    #oversampling\n",
    "    if over_method != None :\n",
    "        X, Y, colnames = before_over(dataset, label)\n",
    "        print('Size before Oversampling:', len(Y))\n",
    "        temp_X, temp_Y = over_sample(X, Y, over_method, over_ratio)\n",
    "        over_X, over_Y = after_over(temp_X, temp_Y, colnames)\n",
    "        print('Size after Oversampling:', len(over_Y))\n",
    "        over_dataset = pd.concat([over_X, over_Y], axis = 1)\n",
    "        dataset = over_dataset.rename(columns = {0 : label})\n",
    "\n",
    "    #undersampling\n",
    "    X, Y = before_under(dataset, label)\n",
    "    Y = Y.astype(int)\n",
    "    under_X, under_Y = under_sample(X, Y, under_method, under_ratio)\n",
    "    print('Size after Undersampling:', len(under_Y))\n",
    "    \n",
    "    return under_X, under_Y\n",
    "    \n",
    "    \n",
    "def generate_set(train_data, over_method, under_method, index, over_ratio, under_ratio, order, label = 'GB'):\n",
    "    \n",
    "    print('\\n', f'Generating Dataset {index}')\n",
    "    \n",
    "    if order == 'under' :\n",
    "        train_x, train_y = under_over(train_data, over_method, under_method, over_ratio, under_ratio, label)\n",
    "    elif order == 'over' :\n",
    "        train_x, train_y = over_under(train_data, over_method, under_method, over_ratio, under_ratio, label)\n",
    "        \n",
    "    train = pd.concat([train_x, train_y], axis = 1)\n",
    "    train = train.rename(columns = {0: label})\n",
    "    \n",
    "    return train\n",
    "\n",
    "\n",
    "def border_set(train_data, kind_data, under_method, index, num_over, under_ratio, order, distance_init = 12):\n",
    "    \n",
    "    ##### oversampling first #####\n",
    "    if order == 'over':\n",
    "        print('Size before Border:', len(train_data))\n",
    "        redo = True\n",
    "        distance = distance_init\n",
    "        while redo:\n",
    "            print(f'Border distance = {distance}...')\n",
    "            OS_B = Border(kind_data, distance, num_over)\n",
    "            self_runhist = pd.concat([train_data, OS_B], axis = 0).reset_index(drop = True)\n",
    "            if len(OS_B) < sum(train_data.GB)*num_over*0.9:\n",
    "                distance += 1\n",
    "            else:\n",
    "                redo = False\n",
    "        print('Size after Border:', len(self_runhist))\n",
    "        \n",
    "        dataset = generate_set(self_runhist, None, under_method, index, over_ratio = None, under_ratio = under_ratio, \n",
    "                               order = 'over')\n",
    "        print(f'Size after Undersampling:', dataset.shape, ', Balance Ratio:', Balance_Ratio(dataset), \\\n",
    "              ', distance:', distance)\n",
    "        \n",
    "        return dataset\n",
    "    \n",
    "    ##### undersampling first #####\n",
    "    elif order == 'under':\n",
    "        print('Size before Undersampling:', len(train_data))\n",
    "        self_under = generate_set(train_data, None, under_method, index, over_ratio = None, under_ratio = under_ratio, \n",
    "                                  order = 'over')\n",
    "        print('Size after Undersampling:', len(self_under))\n",
    "        \n",
    "        corner_overlap = Corner(self_under)\n",
    "        under_kind = Kind(corner_overlap).iloc[:, :-3]\n",
    "        \n",
    "        redo = True\n",
    "        distance = distance_init\n",
    "        while redo:\n",
    "            print(f'Border distance = {distance}...')\n",
    "            US_B = Border(under_kind, distance, num_over)\n",
    "            dataset = pd.concat([self_under, US_B], axis = 0).reset_index(drop = True)\n",
    "            if len(US_B) < sum(train_data.GB)*num_over*0.9:\n",
    "                distance += 1\n",
    "            else:\n",
    "                redo = False\n",
    "        print('Size after Border:', dataset.shape, ', Balance Ratio:', Balance_Ratio(dataset), ', distance:', distance)\n",
    "        \n",
    "        return dataset"
   ]
  },
  {
   "cell_type": "markdown",
   "metadata": {},
   "source": [
    "## "
   ]
  },
  {
   "cell_type": "markdown",
   "metadata": {},
   "source": [
    "### loading training data & kind"
   ]
  },
  {
   "cell_type": "code",
   "execution_count": 7,
   "metadata": {
    "ExecuteTime": {
     "end_time": "2021-12-14T06:32:46.310199Z",
     "start_time": "2021-12-14T06:32:45.023417Z"
    }
   },
   "outputs": [
    {
     "name": "stdout",
     "output_type": "stream",
     "text": [
      "Month 2:\n",
      "Dimension: (39009, 88) , # Bad: 69\n",
      "Month 3:\n",
      "Dimension: (60396, 97) , # Bad: 113\n",
      "Month 4:\n",
      "Dimension: (57743, 100) , # Bad: 122\n",
      "Dimension of all runhist: (157148, 128) , # Bad: 304 \n",
      "\n",
      "Month 2:\n",
      "# kinds: 23088\n",
      "Month 3:\n",
      "# kinds: 33754\n",
      "Month 4:\n",
      "# kinds: 32861\n"
     ]
    }
   ],
   "source": [
    "##### training data #####\n",
    "training_month = range(2, 5)\n",
    "\n",
    "runhist = {}\n",
    "for i in training_month:\n",
    "    runhist[f'm{i}'] = pd.read_csv(f'relabel_runhist_m{i}.csv', index_col = 'id').iloc[:, 1:]\n",
    "    print(f'Month {i}:')\n",
    "    print(f'Dimension:', runhist[f'm{i}'].shape, ', # Bad:', sum(runhist[f'm{i}'].GB))\n",
    "runhist['all'] = training_def(runhist, training_month)\n",
    "print('Dimension of all runhist:', runhist['all'].shape, ', # Bad:', sum(runhist['all'].GB), '\\n')\n",
    "\n",
    "##### kind data (for border) #####\n",
    "kinds = {}\n",
    "for i in training_month:\n",
    "    kinds[f'm{i}'] = pd.read_csv(f'kind_m{i}.csv').iloc[:, 2:-3]\n",
    "    print(f'Month {i}:')\n",
    "    print(f'# kinds:', len(kinds[f'm{i}']))"
   ]
  },
  {
   "cell_type": "markdown",
   "metadata": {},
   "source": [
    "### oversampling & undersampling"
   ]
  },
  {
   "cell_type": "code",
   "execution_count": 8,
   "metadata": {
    "ExecuteTime": {
     "end_time": "2021-12-14T06:35:56.013254Z",
     "start_time": "2021-12-14T06:33:01.291226Z"
    }
   },
   "outputs": [
    {
     "data": {
      "application/vnd.jupyter.widget-view+json": {
       "model_id": "7cb494dfd73a464ea55da91dc3def886",
       "version_major": 2,
       "version_minor": 0
      },
      "text/plain": [
       "  0%|          | 0/3 [00:00<?, ?it/s]"
      ]
     },
     "metadata": {},
     "output_type": "display_data"
    },
    {
     "name": "stdout",
     "output_type": "stream",
     "text": [
      "Month 2:\n",
      "# bad: 69\n",
      "Size before Border: 39009\n",
      "Border distance = 12...\n",
      "Border distance = 13...\n",
      "Border distance = 14...\n",
      "Border distance = 15...\n",
      "Size after Border: 39904\n",
      "\n",
      " Generating Dataset 2\n",
      "Size after Undersampling: 1928\n",
      "Size after Undersampling: (1928, 88) , Balance Ratio: 1.0 , distance: 15\n",
      "Size before Undersampling: 39009\n",
      "\n",
      " Generating Dataset 6\n",
      "Size after Undersampling: 759\n",
      "Size after Undersampling: 759\n",
      "Border distance = 12...\n",
      "Border distance = 13...\n",
      "Border distance = 14...\n",
      "Border distance = 15...\n"
     ]
    },
    {
     "name": "stderr",
     "output_type": "stream",
     "text": [
      "2021-12-14 14:33:22,137:INFO:NoSMOTE: Running sampling via ('NoSMOTE', '{}')\n"
     ]
    },
    {
     "name": "stdout",
     "output_type": "stream",
     "text": [
      "Size after Border: (1659, 88) , Balance Ratio: 0.71 , distance: 15\n",
      "\n",
      " Generating Dataset 0\n",
      "Size before Oversampling: 39009\n",
      "Size after Oversampling: 39009\n",
      "Size after Undersampling: 39009\n",
      "\n",
      " Generating Dataset 1\n",
      "Size before Oversampling: 39009\n",
      "Size after Oversampling: 39642\n"
     ]
    },
    {
     "name": "stderr",
     "output_type": "stream",
     "text": [
      "2021-12-14 14:33:23,731:INFO:ROSE: Running sampling via ('ROSE', \"{'proportion': 0.017719500310091254, 'random_state': None}\")\n"
     ]
    },
    {
     "name": "stdout",
     "output_type": "stream",
     "text": [
      "Size after Undersampling: 1404\n",
      "\n",
      " Generating Dataset 3\n",
      "Size before Oversampling: 39009\n",
      "Size after Oversampling: 39697\n",
      "Size after Undersampling: 1514\n",
      "\n",
      " Generating Dataset 4\n",
      "Size before Oversampling: 39009\n",
      "Size after Oversampling: 39629\n",
      "Size after Undersampling: 1378\n",
      "\n",
      " Generating Dataset 5\n",
      "Size before Undersampling: 39009\n",
      "Size after Undersampling: 759\n",
      "Size before Oversampling: 759\n",
      "Size after Oversampling: 1370\n",
      "\n",
      " Generating Dataset 7\n",
      "Size before Undersampling: 39009\n"
     ]
    },
    {
     "name": "stderr",
     "output_type": "stream",
     "text": [
      "2021-12-14 14:33:28,934:INFO:ROSE: Running sampling via ('ROSE', \"{'proportion': 1, 'random_state': None}\")\n"
     ]
    },
    {
     "name": "stdout",
     "output_type": "stream",
     "text": [
      "Size after Undersampling: 759\n",
      "Size before Oversampling: 759\n",
      "Size after Oversampling: 1380\n",
      "\n",
      " Generating Dataset 8\n",
      "Size before Undersampling: 39009\n",
      "Size after Undersampling: 759\n",
      "Size before Oversampling: 759\n",
      "Size after Oversampling: 1380\n",
      "\n",
      " Generating Dataset 9\n",
      "Size after Undersampling: 759\n",
      "Month 3:\n",
      "# bad: 113\n",
      "Size before Border: 60396\n",
      "Border distance = 12...\n",
      "Border distance = 13...\n",
      "Border distance = 14...\n",
      "Border distance = 15...\n",
      "Border distance = 16...\n",
      "Size after Border: 61849\n",
      "\n",
      " Generating Dataset 2\n",
      "Size after Undersampling: 3132\n",
      "Size after Undersampling: (3132, 97) , Balance Ratio: 1.0 , distance: 16\n",
      "Size before Undersampling: 60396\n",
      "\n",
      " Generating Dataset 6\n",
      "Size after Undersampling: 1243\n",
      "Size after Undersampling: 1243\n",
      "Border distance = 12...\n",
      "Border distance = 13...\n",
      "Border distance = 14...\n",
      "Border distance = 15...\n",
      "Border distance = 16...\n"
     ]
    },
    {
     "name": "stderr",
     "output_type": "stream",
     "text": [
      "2021-12-14 14:34:16,747:INFO:NoSMOTE: Running sampling via ('NoSMOTE', '{}')\n"
     ]
    },
    {
     "name": "stdout",
     "output_type": "stream",
     "text": [
      "Size after Border: (2693, 97) , Balance Ratio: 0.72 , distance: 16\n",
      "\n",
      " Generating Dataset 0\n",
      "Size before Oversampling: 60396\n",
      "Size after Oversampling: 60396\n",
      "Size after Undersampling: 60396\n",
      "\n",
      " Generating Dataset 1\n",
      "Size before Oversampling: 60396\n",
      "Size after Oversampling: 61435\n"
     ]
    },
    {
     "name": "stderr",
     "output_type": "stream",
     "text": [
      "2021-12-14 14:34:21,044:INFO:ROSE: Running sampling via ('ROSE', \"{'proportion': 0.018744845167578916, 'random_state': None}\")\n"
     ]
    },
    {
     "name": "stdout",
     "output_type": "stream",
     "text": [
      "Size after Undersampling: 2304\n",
      "\n",
      " Generating Dataset 3\n",
      "Size before Oversampling: 60396\n",
      "Size after Oversampling: 61523\n",
      "Size after Undersampling: 2480\n",
      "\n",
      " Generating Dataset 4\n",
      "Size before Oversampling: 60396\n",
      "Size after Oversampling: 61412\n",
      "Size after Undersampling: 2258\n",
      "\n",
      " Generating Dataset 5\n",
      "Size before Undersampling: 60396\n",
      "Size after Undersampling: 1243\n",
      "Size before Oversampling: 1243\n",
      "Size after Oversampling: 2271\n",
      "\n",
      " Generating Dataset 7\n",
      "Size before Undersampling: 60396\n"
     ]
    },
    {
     "name": "stderr",
     "output_type": "stream",
     "text": [
      "2021-12-14 14:34:33,814:INFO:ROSE: Running sampling via ('ROSE', \"{'proportion': 1, 'random_state': None}\")\n"
     ]
    },
    {
     "name": "stdout",
     "output_type": "stream",
     "text": [
      "Size after Undersampling: 1243\n",
      "Size before Oversampling: 1243\n",
      "Size after Oversampling: 2260\n",
      "\n",
      " Generating Dataset 8\n",
      "Size before Undersampling: 60396\n",
      "Size after Undersampling: 1243\n",
      "Size before Oversampling: 1243\n",
      "Size after Oversampling: 2260\n",
      "\n",
      " Generating Dataset 9\n",
      "Size after Undersampling: 1243\n",
      "Month 4:\n",
      "# bad: 122\n",
      "Size before Border: 57743\n",
      "Border distance = 12...\n",
      "Border distance = 13...\n",
      "Border distance = 14...\n",
      "Border distance = 15...\n",
      "Size after Border: 59307\n",
      "\n",
      " Generating Dataset 2\n",
      "Size after Undersampling: 3372\n",
      "Size after Undersampling: (3372, 100) , Balance Ratio: 1.0 , distance: 15\n",
      "Size before Undersampling: 57743\n",
      "\n",
      " Generating Dataset 6\n",
      "Size after Undersampling: 1342\n",
      "Size after Undersampling: 1342\n",
      "Border distance = 12...\n",
      "Border distance = 13...\n",
      "Border distance = 14...\n",
      "Border distance = 15...\n"
     ]
    },
    {
     "name": "stderr",
     "output_type": "stream",
     "text": [
      "2021-12-14 14:35:28,435:INFO:NoSMOTE: Running sampling via ('NoSMOTE', '{}')\n"
     ]
    },
    {
     "name": "stdout",
     "output_type": "stream",
     "text": [
      "Size after Border: (2894, 100) , Balance Ratio: 0.73 , distance: 15\n",
      "\n",
      " Generating Dataset 0\n",
      "Size before Oversampling: 57743\n",
      "Size after Oversampling: 57743\n",
      "Size after Undersampling: 57743\n",
      "\n",
      " Generating Dataset 1\n",
      "Size before Oversampling: 57743\n",
      "Size after Oversampling: 58834\n"
     ]
    },
    {
     "name": "stderr",
     "output_type": "stream",
     "text": [
      "2021-12-14 14:35:32,859:INFO:ROSE: Running sampling via ('ROSE', \"{'proportion': 0.021172983273343212, 'random_state': None}\")\n"
     ]
    },
    {
     "name": "stdout",
     "output_type": "stream",
     "text": [
      "Size after Undersampling: 2426\n",
      "\n",
      " Generating Dataset 3\n",
      "Size before Oversampling: 57743\n",
      "Size after Oversampling: 58960\n",
      "Size after Undersampling: 2678\n",
      "\n",
      " Generating Dataset 4\n",
      "Size before Oversampling: 57743\n",
      "Size after Oversampling: 58841\n",
      "Size after Undersampling: 2440\n",
      "\n",
      " Generating Dataset 5\n",
      "Size before Undersampling: 57743\n",
      "Size after Undersampling: 1342\n",
      "Size before Oversampling: 1342\n",
      "Size after Oversampling: 2419\n",
      "\n",
      " Generating Dataset 7\n",
      "Size before Undersampling: 57743\n"
     ]
    },
    {
     "name": "stderr",
     "output_type": "stream",
     "text": [
      "2021-12-14 14:35:46,294:INFO:ROSE: Running sampling via ('ROSE', \"{'proportion': 1, 'random_state': None}\")\n"
     ]
    },
    {
     "name": "stdout",
     "output_type": "stream",
     "text": [
      "Size after Undersampling: 1342\n",
      "Size before Oversampling: 1342\n",
      "Size after Oversampling: 2440\n",
      "\n",
      " Generating Dataset 8\n",
      "Size before Undersampling: 57743\n",
      "Size after Undersampling: 1342\n",
      "Size before Oversampling: 1342\n",
      "Size after Oversampling: 2440\n",
      "\n",
      " Generating Dataset 9\n",
      "Size after Undersampling: 1342\n"
     ]
    }
   ],
   "source": [
    "##### generate datasets #####\n",
    "dataset = {}\n",
    "combine_dataset = {}\n",
    "for i in range(10):\n",
    "    combine_dataset[i] = pd.DataFrame()\n",
    "\n",
    "for i in tqdm(training_month):\n",
    "    \n",
    "    print(f'Month {i}:')\n",
    "    print('# bad:', sum(runhist[f'm{i}'].GB))\n",
    "    br = Balance_Ratio(runhist[f'm{i}'])\n",
    "    final_br = 1\n",
    "    num_os = 10\n",
    "    over_br = num_os / br\n",
    "    under_br = final_br / num_os\n",
    "    \n",
    "    \n",
    "    dataset[2] = border_set(runhist[f'm{i}'], kinds[f'm{i}'], 'NM', 2, num_over = num_os, under_ratio = final_br, \n",
    "                            order = 'over')\n",
    "    dataset[6] = border_set(runhist[f'm{i}'], kinds[f'm{i}'], 'NM', 6, num_over = num_os, under_ratio = under_br, \n",
    "                            order = 'under')\n",
    "    \n",
    "    dataset[0] = generate_set(runhist[f'm{i}'], 'NoSMOTE', None, 0, over_ratio = None, under_ratio = None, order = 'over')\n",
    "\n",
    "    dataset[1] = generate_set(runhist[f'm{i}'], 'ADASYN', 'NM', 1, over_ratio = over_br, under_ratio = final_br, \n",
    "                              order = 'over')\n",
    "    dataset[3] = generate_set(runhist[f'm{i}'], 'ROSE', 'NM', 3, over_ratio = over_br, under_ratio = final_br,\n",
    "                              order = 'over')\n",
    "    dataset[4] = generate_set(runhist[f'm{i}'], 'SMOTEN', 'NM', 4, over_ratio = over_br, under_ratio = final_br, \n",
    "                              order = 'over')\n",
    "\n",
    "    dataset[5] = generate_set(runhist[f'm{i}'], 'ADASYN', 'NM', 5, over_ratio = final_br, under_ratio = under_br, \n",
    "                              order = 'under')\n",
    "    dataset[7] = generate_set(runhist[f'm{i}'], 'ROSE', 'NM', 7, over_ratio = final_br, under_ratio = under_br, \n",
    "                              order = 'under')\n",
    "    dataset[8] = generate_set(runhist[f'm{i}'], 'SMOTEN', 'NM', 8, over_ratio = final_br, under_ratio = under_br, \n",
    "                              order = 'under')\n",
    "\n",
    "    dataset[9] = generate_set(runhist[f'm{i}'], None, 'NM', 9, over_ratio = None, under_ratio = 0.1, order = 'over')\n",
    "    \n",
    "    ### combine all training data after sampling by each month ###\n",
    "    for j in range(10):\n",
    "        temp_combine = pd.concat([combine_dataset[j], dataset[j]], axis = 0).fillna(0)\n",
    "        temp_cols = temp_combine.columns.to_list()\n",
    "        GB_pos = temp_cols.index('GB')\n",
    "        fine_cols = temp_cols[: GB_pos] + temp_cols[GB_pos+1: ] + temp_cols[GB_pos: GB_pos+1]\n",
    "        combine_dataset[j] = temp_combine[fine_cols]\n",
    "        \n",
    "        dataset[j].to_csv(f'm{i}_dataset_{j}.csv')\n",
    "        combine_dataset[j].to_csv(f'dataset_{j}.csv')"
   ]
  }
 ],
 "metadata": {
  "hide_input": false,
  "kernelspec": {
   "display_name": "Python [conda env:smote_variants]",
   "language": "python",
   "name": "conda-env-smote_variants-py"
  },
  "language_info": {
   "codemirror_mode": {
    "name": "ipython",
    "version": 3
   },
   "file_extension": ".py",
   "mimetype": "text/x-python",
   "name": "python",
   "nbconvert_exporter": "python",
   "pygments_lexer": "ipython3",
   "version": "3.8.10"
  },
  "toc": {
   "base_numbering": 1,
   "nav_menu": {},
   "number_sections": true,
   "sideBar": true,
   "skip_h1_title": false,
   "title_cell": "Table of Contents",
   "title_sidebar": "Contents",
   "toc_cell": false,
   "toc_position": {},
   "toc_section_display": true,
   "toc_window_display": false
  },
  "varInspector": {
   "cols": {
    "lenName": 16,
    "lenType": 16,
    "lenVar": 40
   },
   "kernels_config": {
    "python": {
     "delete_cmd_postfix": "",
     "delete_cmd_prefix": "del ",
     "library": "var_list.py",
     "varRefreshCmd": "print(var_dic_list())"
    },
    "r": {
     "delete_cmd_postfix": ") ",
     "delete_cmd_prefix": "rm(",
     "library": "var_list.r",
     "varRefreshCmd": "cat(var_dic_list()) "
    }
   },
   "types_to_exclude": [
    "module",
    "function",
    "builtin_function_or_method",
    "instance",
    "_Feature"
   ],
   "window_display": false
  }
 },
 "nbformat": 4,
 "nbformat_minor": 4
}
