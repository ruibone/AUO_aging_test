{
 "cells": [
  {
   "cell_type": "code",
   "execution_count": null,
   "metadata": {
    "ExecuteTime": {
     "end_time": "2021-09-16T02:50:00.607867Z",
     "start_time": "2021-09-16T02:49:59.346304Z"
    }
   },
   "outputs": [],
   "source": [
    "import os\n",
    "import time\n",
    "import itertools\n",
    "import numpy as np\n",
    "import pandas as pd\n",
    "import pickle\n",
    "from tqdm.auto import tqdm\n",
    "import matplotlib.pyplot as plt\n",
    "\n",
    "import catboost\n",
    "from catboost import CatBoostClassifier, CatBoostRegressor\n",
    "import optuna\n",
    "from sklearn.model_selection import train_test_split, KFold\n",
    "\n",
    "from Dataset_Construction import Balance_Ratio \n",
    "from Sampling import label_divide\n",
    "from AdaClassifier import train_set, multiple_set, print_badC, bad_plot, line_chart, cf_matrix\n",
    "from AdaRegressor import AUC, PR_curve, multiple_curve, PR_matrix, best_threshold \n",
    "from Aging_Score import score1\n",
    "from XGBoost import optuna_history, all_optuna\n",
    "\n",
    "os.chdir('C:/Users/user/Desktop/Darui_R08621110') \n",
    "os.getcwd()"
   ]
  },
  {
   "cell_type": "markdown",
   "metadata": {},
   "source": [
    "### Boosting model"
   ]
  },
  {
   "cell_type": "code",
   "execution_count": null,
   "metadata": {
    "ExecuteTime": {
     "end_time": "2021-09-16T02:50:07.917947Z",
     "start_time": "2021-09-16T02:50:07.899952Z"
    }
   },
   "outputs": [],
   "source": [
    "def CatBoostC(train_x, test_x, train_y, test_y, config, cat_feature):\n",
    "    \n",
    "    clf = CatBoostClassifier(**config, verbose = 0)\n",
    "    clf.fit(train_x, train_y, cat_features = cat_feature)\n",
    "    predict_y = clf.predict(test_x)\n",
    "    result = pd.DataFrame({'truth': test_y, 'predict': predict_y})\n",
    "    \n",
    "    return result\n",
    "\n",
    "\n",
    "def CatBoostR(train_x, test_x, train_y, test_y, config, cat_feature):\n",
    "    \n",
    "    reg = CatBoostRegressor(**config, verbose = 0)\n",
    "    reg.fit(train_x, train_y, cat_features = cat_feature)\n",
    "    predict_y = reg.predict(test_x)\n",
    "    result = pd.DataFrame({'truth': test_y, 'predict': predict_y})\n",
    "\n",
    "    return result"
   ]
  },
  {
   "cell_type": "markdown",
   "metadata": {},
   "source": [
    "### Run all dataset"
   ]
  },
  {
   "cell_type": "code",
   "execution_count": null,
   "metadata": {
    "ExecuteTime": {
     "end_time": "2021-09-16T02:50:09.496029Z",
     "start_time": "2021-09-16T02:50:09.482065Z"
    }
   },
   "outputs": [],
   "source": [
    "def runall_CatBoostC(num_set, trainset_x, test_x, trainset_y, test_y, config, cat_feature, record_bad = True):\n",
    "    \n",
    "    table_set = pd.DataFrame()\n",
    "    bad_set = pd.DataFrame()\n",
    "    judge = list(config.keys())[0]\n",
    "\n",
    "    for i in range(num_set):\n",
    "        print('\\n', f'Dataset {i}:')\n",
    "        \n",
    "        if isinstance(config[judge], dict) :\n",
    "            best_config = config[f'set{i}']\n",
    "        else :\n",
    "            best_config = config\n",
    "        \n",
    "        result = CatBoostC(trainset_x[f'set{i}'], test_x, trainset_y[f'set{i}'], test_y, best_config, cat_feature)\n",
    "        table = cf_matrix(result, trainset_y[f'set{i}'])\n",
    "        table_set = pd.concat([table_set, table]).rename(index = {0: f'dataset {i}'})\n",
    "        \n",
    "        if record_bad:\n",
    "            bad_table = print_badC(result, test_x, Bad_Types) \n",
    "            bad_set = pd.concat([bad_set, bad_table]).rename(index = {0: f'dataset {i}'})\n",
    "\n",
    "    if record_bad:\n",
    "        return table_set, bad_set\n",
    "    else:\n",
    "        return table_set\n",
    "    \n",
    "    \n",
    "def runall_CatBoostR(num_set, trainset_x, test_x, trainset_y, test_y, config, cat_feature, thres_target = 'Recall', \n",
    "                     threshold = 0.8, record_bad = True):\n",
    "    \n",
    "    table_set = pd.DataFrame()\n",
    "    bad_set = pd.DataFrame()\n",
    "    pr_dict = {}\n",
    "    judge = list(config.keys())[0]\n",
    "\n",
    "    for i in range(num_set):\n",
    "        print('\\n', f'Dataset {i}:')\n",
    "        \n",
    "        if isinstance(config[judge], dict) :\n",
    "            best_config = config[f'set{i}']\n",
    "        else :\n",
    "            best_config = config\n",
    "\n",
    "        predict = CatBoostR(trainset_x[f'set{i}'], test_x, trainset_y[f'set{i}'], test_y, best_config, cat_feature)\n",
    "        pr_matrix = PR_matrix(predict, trainset_y[f'set{i}'])\n",
    "        pr_dict[f'set{i}'] = pr_matrix\n",
    "        \n",
    "        best_data, best_thres = best_threshold(pr_matrix, target = thres_target, threshold = threshold)\n",
    "        table_set = pd.concat([table_set, best_data]).rename(index = {best_data.index.values[0]: f'dataset {i}'})\n",
    "        \n",
    "        if record_bad:\n",
    "            bad_table = print_badC(predict, test_x, Bad_Types, threshold = best_thres)\n",
    "            bad_set = pd.concat([bad_set, bad_table]).rename(index = {0: f'dataset {i}'})\n",
    "    \n",
    "    if record_bad:\n",
    "        return pr_dict, table_set, bad_set\n",
    "    else:\n",
    "        return pr_dict, table_set"
   ]
  },
  {
   "cell_type": "markdown",
   "metadata": {},
   "source": [
    "## Data Processing"
   ]
  },
  {
   "cell_type": "code",
   "execution_count": null,
   "metadata": {
    "ExecuteTime": {
     "end_time": "2021-09-16T02:50:12.152801Z",
     "start_time": "2021-09-16T02:50:10.840901Z"
    }
   },
   "outputs": [],
   "source": [
    "###bad types###\n",
    "bad = pd.read_csv('event/Bad_Types.csv').iloc[:, 1:]\n",
    "Bad_Types = {bad.cb[i]:i for i in range (len(bad))}\n",
    "print('Total bad types:', len(bad))\n",
    "\n",
    "###single dataset###\n",
    "test = pd.read_csv('event/TestingSet_0.csv').iloc[:, 2:]\n",
    "train = pd.read_csv('event/TrainingSet_new.csv').iloc[:, 2:]\n",
    "print('\\ntraining data:', train.shape, '\\nBalance Ratio:', Balance_Ratio(train))\n",
    "print('\\ntesting data:', test.shape, '\\nBalance Ratio:', Balance_Ratio(test))\n",
    "\n",
    "train_x, train_y, test_x, test_y = label_divide(train, test, 'GB')\n",
    "\n",
    "###multiple dataset###\n",
    "data_dict = multiple_set(num_set = 10)\n",
    "trainset_x, trainset_y = train_set(data_dict, num_set = 10, label = 'GB')\n",
    "test_x, test_y = label_divide(test, None, 'GB', train_only = True)\n",
    "\n",
    "\n",
    "#####for runhist dataset#####\n",
    "# bad = pd.read_csv('run_bad_types.csv').iloc[:, 1:]\n",
    "# Bad_Types = {bad.cb[i]:i for i in range (len(bad))}\n",
    "# print('Total bad types:', len(bad))\n",
    "\n",
    "run_test = pd.read_csv('test_runhist.csv').iloc[:, 2:]\n",
    "run_test_x, run_test_y = label_divide(run_test, None, 'GB', train_only = True)\n",
    "print('\\n', 'Dimension of run test:', run_test.shape)"
   ]
  },
  {
   "cell_type": "markdown",
   "metadata": {},
   "source": [
    "### Classifier"
   ]
  },
  {
   "cell_type": "code",
   "execution_count": null,
   "metadata": {
    "ExecuteTime": {
     "end_time": "2021-09-16T02:59:25.730408Z",
     "start_time": "2021-09-16T02:58:55.059118Z"
    }
   },
   "outputs": [],
   "source": [
    "#table_setC, bad_setC = runall_CatBoostC(9, trainset_x, test_x, trainset_y, test_y, cat_feature = [], event_clf_param)\n",
    "table_setC = runall_CatBoostC(10, trainset_x, run_test_x, trainset_y, run_test_y, best_paramC, cat_feature = [],\n",
    "                              record_bad = False)\n",
    "line_chart(table_setC, title = 'CatBoost Classifier')\n",
    "#bad_plot(bad_setC)"
   ]
  },
  {
   "cell_type": "code",
   "execution_count": null,
   "metadata": {
    "ExecuteTime": {
     "end_time": "2021-09-16T02:59:50.543798Z",
     "start_time": "2021-09-16T02:59:50.524775Z"
    }
   },
   "outputs": [],
   "source": [
    "table_setC"
   ]
  },
  {
   "cell_type": "markdown",
   "metadata": {},
   "source": [
    "### Regressor"
   ]
  },
  {
   "cell_type": "code",
   "execution_count": null,
   "metadata": {
    "ExecuteTime": {
     "end_time": "2021-09-16T03:37:39.715565Z",
     "start_time": "2021-09-16T03:36:45.480862Z"
    }
   },
   "outputs": [],
   "source": [
    "# pr_dict, table_setR, bad_setR = runall_CatBoostR(9, trainset_x, test_x, trainset_y, test_y, event_reg_param, \n",
    "#                                                  thres_target = 'Recall', threshold = 0.8)\n",
    "pr_dict, table_setR = runall_CatBoostR(10, trainset_x, run_test_x, trainset_y, run_test_y, best_paramR, cat_feature = [], \n",
    "                                       thres_target = 'Recall', threshold = 0.7, record_bad = False)\n",
    "line_chart(table_setR, title = 'CatBoost Regressor')\n",
    "#bad_plot(bad_setR)"
   ]
  },
  {
   "cell_type": "code",
   "execution_count": null,
   "metadata": {
    "ExecuteTime": {
     "end_time": "2021-09-16T03:17:16.472928Z",
     "start_time": "2021-09-16T03:17:13.942162Z"
    }
   },
   "outputs": [],
   "source": [
    "multiple_curve(3, 3, pr_dict, table_setR, target = 'Aging Rate')\n",
    "multiple_curve(3, 3, pr_dict, table_setR, target = 'Precision')\n",
    "table_setR"
   ]
  },
  {
   "cell_type": "markdown",
   "metadata": {},
   "source": [
    "## Optimization"
   ]
  },
  {
   "cell_type": "markdown",
   "metadata": {},
   "source": [
    "### Optuna"
   ]
  },
  {
   "cell_type": "code",
   "execution_count": null,
   "metadata": {
    "ExecuteTime": {
     "end_time": "2021-09-12T09:30:23.446467Z",
     "start_time": "2021-09-12T09:30:23.431508Z"
    }
   },
   "outputs": [],
   "source": [
    "def objective_creator(train_data, mode, cat_feature = [], num_valid = 3, label = 'GB') :\n",
    "\n",
    "    def objective(trial) :\n",
    "    \n",
    "        param_1 = {\n",
    "            #'objective': 'CrossEntropy',\n",
    "            'grow_policy': trial.suggest_categorical('grow_policy', ['SymmetricTree', 'Depthwise', 'Lossguide']),\n",
    "            'iterations': trial.suggest_int('iterations', 100, 300, step = 50),\n",
    "            'depth': trial.suggest_int('depth', 2, 10, step = 2),\n",
    "            'learning_rate': trial.suggest_float('learning_rate', 0.025, 0.325, step = 0.05),\n",
    "            'subsample': trial.suggest_float('subsample', 0.5, 0.9, step = 0.2),\n",
    "            'l2_leaf_reg': trial.suggest_loguniform('l2_leaf_reg', 1e-3, 10) # lambda\n",
    "        }\n",
    "\n",
    "        if param_1['grow_policy'] == 'Depthwise' :\n",
    "            param_2 = {\n",
    "                'min_data_in_leaf': trial.suggest_int('min_data_in_leaf', 3, 30, step = 3)\n",
    "            }\n",
    "            param = {**param_1, **param_2}\n",
    "        \n",
    "        elif param_1['grow_policy'] == 'Lossguide' :\n",
    "            param_3 = {\n",
    "                'min_data_in_leaf': trial.suggest_int('min_data_in_leaf', 3, 30, step = 3),\n",
    "                'max_leaves': trial.suggest_int('max_leaves', 15, 50, step = 5)\n",
    "            }\n",
    "            param = {**param_1, **param_3}\n",
    "        \n",
    "        else :\n",
    "            param = param_1\n",
    "\n",
    "        result_list = []\n",
    "        for i in range(num_valid):\n",
    "\n",
    "            train_x, train_y = label_divide(train_data, None, label, train_only = True)\n",
    "            train_x, valid_x, train_y, valid_y = train_test_split(train_x, train_y, test_size = 0.25)\n",
    "\n",
    "            if mode == 'C':\n",
    "                result = CatBoostC(train_x, valid_x, train_y, valid_y, param, cat_feature)\n",
    "                table = cf_matrix(result, valid_y)\n",
    "                recall = table['Recall']\n",
    "                aging = table['Aging Rate']\n",
    "                effi = table['Efficiency']\n",
    "            \n",
    "                #result_list.append(effi)\n",
    "                result_list.append(recall - 0.1*aging)\n",
    "\n",
    "            elif mode == 'R':\n",
    "                result = CatBoostR(train_x, valid_x, train_y, valid_y, param, cat_feature)\n",
    "                pr_matrix = PR_matrix(result, valid_y)\n",
    "\n",
    "                #best_data, _ = best_threshold(pr_matrix, target = 'Recall', threshold = 0.8)\n",
    "                #aging = best_data['Aging Rate']\n",
    "                #result_list.append((-1)*aging)\n",
    "\n",
    "                auc = AUC(pr_matrix['Recall'], pr_matrix['Aging Rate'])\n",
    "                result_list.append((-1)*auc)\n",
    "\n",
    "        return np.mean(result_list)\n",
    "\n",
    "    return objective"
   ]
  },
  {
   "cell_type": "code",
   "execution_count": null,
   "metadata": {
    "ExecuteTime": {
     "end_time": "2021-09-12T15:09:41.654078Z",
     "start_time": "2021-09-12T09:30:25.100187Z"
    },
    "scrolled": true
   },
   "outputs": [],
   "source": [
    "best_paramC, all_scoreC = all_optuna(num_set = 10, \n",
    "                                     all_data = data_dict, \n",
    "                                     mode = 'C', \n",
    "                                     TPE_multi = True, \n",
    "                                     n_iter = 250, \n",
    "                                     filename = 'runhist_array_m8m3_one-sided_joinnewevent_eqp+rework_CatBoost', \n",
    "                                     creator = objective_creator\n",
    "                                    )"
   ]
  },
  {
   "cell_type": "code",
   "execution_count": null,
   "metadata": {
    "ExecuteTime": {
     "end_time": "2021-09-12T20:49:39.023699Z",
     "start_time": "2021-09-12T15:09:42.894779Z"
    }
   },
   "outputs": [],
   "source": [
    "best_paramR, all_scoreR = all_optuna(num_set = 10, \n",
    "                                     all_data = data_dict, \n",
    "                                     mode = 'R', \n",
    "                                     TPE_multi = True, \n",
    "                                     n_iter = 250,\n",
    "                                     filename = 'runhist_array_m8m3_one-sided_joinnewevent_eqp+rework_CatBoost',\n",
    "                                     creator = objective_creator\n",
    "                                    )"
   ]
  },
  {
   "cell_type": "code",
   "execution_count": null,
   "metadata": {
    "ExecuteTime": {
     "end_time": "2021-09-13T03:54:20.580123Z",
     "start_time": "2021-09-13T03:54:19.786581Z"
    },
    "scrolled": true
   },
   "outputs": [],
   "source": [
    "##### optimization history plot #####\n",
    "optuna_history(best_paramR, all_scoreR, num_row = 4, num_col = 3, model = 'CatBoost Regressor')\n",
    "            \n",
    "##### best hyperparameter table #####\n",
    "param_table = pd.DataFrame(best_paramR).T\n",
    "param_table"
   ]
  }
 ],
 "metadata": {
  "hide_input": false,
  "kernelspec": {
   "display_name": "Python [conda env:aging]",
   "language": "python",
   "name": "conda-env-aging-py"
  },
  "language_info": {
   "codemirror_mode": {
    "name": "ipython",
    "version": 3
   },
   "file_extension": ".py",
   "mimetype": "text/x-python",
   "name": "python",
   "nbconvert_exporter": "python",
   "pygments_lexer": "ipython3",
   "version": "3.7.10"
  },
  "toc": {
   "base_numbering": 1,
   "nav_menu": {},
   "number_sections": true,
   "sideBar": true,
   "skip_h1_title": false,
   "title_cell": "Table of Contents",
   "title_sidebar": "Contents",
   "toc_cell": false,
   "toc_position": {
    "height": "calc(100% - 180px)",
    "left": "10px",
    "top": "150px",
    "width": "222.288px"
   },
   "toc_section_display": true,
   "toc_window_display": true
  },
  "varInspector": {
   "cols": {
    "lenName": 16,
    "lenType": 16,
    "lenVar": 40
   },
   "kernels_config": {
    "python": {
     "delete_cmd_postfix": "",
     "delete_cmd_prefix": "del ",
     "library": "var_list.py",
     "varRefreshCmd": "print(var_dic_list())"
    },
    "r": {
     "delete_cmd_postfix": ") ",
     "delete_cmd_prefix": "rm(",
     "library": "var_list.r",
     "varRefreshCmd": "cat(var_dic_list()) "
    }
   },
   "types_to_exclude": [
    "module",
    "function",
    "builtin_function_or_method",
    "instance",
    "_Feature"
   ],
   "window_display": false
  }
 },
 "nbformat": 4,
 "nbformat_minor": 5
}
