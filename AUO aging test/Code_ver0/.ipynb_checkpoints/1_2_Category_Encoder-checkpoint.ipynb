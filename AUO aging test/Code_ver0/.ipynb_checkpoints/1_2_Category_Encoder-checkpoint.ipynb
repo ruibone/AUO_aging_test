{
 "cells": [
  {
   "cell_type": "code",
   "execution_count": 1,
   "metadata": {
    "ExecuteTime": {
     "end_time": "2021-08-29T17:17:07.218527Z",
     "start_time": "2021-08-29T17:17:06.329731Z"
    }
   },
   "outputs": [
    {
     "data": {
      "text/plain": [
       "'C:\\\\Users\\\\user\\\\Desktop\\\\Darui_R08621110'"
      ]
     },
     "execution_count": 1,
     "metadata": {},
     "output_type": "execute_result"
    }
   ],
   "source": [
    "import os\n",
    "import time\n",
    "import itertools\n",
    "import numpy as np\n",
    "import pandas as pd\n",
    "import matplotlib.pyplot as plt\n",
    "import category_encoders as ce\n",
    "\n",
    "from Dataset_Construction import Balance_Ratio\n",
    "from Sampling import label_divide\n",
    "\n",
    "os.chdir('C:/Users/user/Desktop/Darui_R08621110')  \n",
    "os.getcwd()"
   ]
  },
  {
   "cell_type": "code",
   "execution_count": 2,
   "metadata": {
    "ExecuteTime": {
     "end_time": "2021-08-29T17:17:08.047472Z",
     "start_time": "2021-08-29T17:17:08.026837Z"
    }
   },
   "outputs": [],
   "source": [
    "def supervise_encoder(train, test, encoder, column_list, label = 'GB') :\n",
    "    \n",
    "    encoder_list = ['target', 'catboost', 'leave one out']\n",
    "    \n",
    "    if encoder == encoder_list[0] :\n",
    "        enc = ce.target_encoder.TargetEncoder(cols = column_list)\n",
    "    elif encoder == encoder_list[1] :\n",
    "        enc = ce.cat_boost.CatBoostEncoder(cols = column_list)\n",
    "    elif encoder == encoder_list[2] :\n",
    "        enc = ce.leave_one_out.LeaveOneOutEncoder(cols = column_list)\n",
    "        \n",
    "    train_x, train_y, test_x, test_y = label_divide(train, test, label)\n",
    "    train_enc = enc.fit_transform(train_x, train_y)\n",
    "    test_enc = enc.transform(test_x, test_y)\n",
    "    train_done = pd.concat([train_enc, train_y], axis = 1)\n",
    "    test_done = pd.concat([test_enc, test_y], axis = 1)\n",
    "    \n",
    "    return train_done, test_done\n",
    "\n",
    "\n",
    "def reverse_onehot(undone_data, keep_data) :\n",
    "    \n",
    "    def get_onehot(row):\n",
    "        vector = []\n",
    "        for col in undone_data.columns:\n",
    "            if row[col] == 1:\n",
    "                vector.append(col)\n",
    "        return vector\n",
    "\n",
    "    reverse_matrix = undone_data.apply(get_onehot, axis = 1)\n",
    "    feature_table = pd.DataFrame(reverse_matrix.to_list())\n",
    "    feature_table = pd.concat([keep_data[['id']], feature_table], axis = 1)\n",
    "    reverse_table = pd.melt(feature_table, id_vars = ['id'])\n",
    "    reverse_table = reverse_table.loc[reverse_table.value.values != None].reset_index(drop = True).drop(columns = 'variable')\n",
    "    reverse_all = reverse_table.merge(keep_data, on = 'id', how = 'left')\n",
    "    \n",
    "    return reverse_all"
   ]
  },
  {
   "cell_type": "markdown",
   "metadata": {},
   "source": [
    "## Data Processing"
   ]
  },
  {
   "cell_type": "markdown",
   "metadata": {
    "heading_collapsed": true
   },
   "source": [
    "### Event data"
   ]
  },
  {
   "cell_type": "markdown",
   "metadata": {},
   "source": [
    "### Runhist data"
   ]
  },
  {
   "cell_type": "code",
   "execution_count": 9,
   "metadata": {
    "ExecuteTime": {
     "end_time": "2021-08-29T17:19:30.000295Z",
     "start_time": "2021-08-29T17:19:29.219631Z"
    },
    "scrolled": true
   },
   "outputs": [
    {
     "name": "stdout",
     "output_type": "stream",
     "text": [
      "\n",
      " train_runhist: (80518, 177) \n",
      " test_runhist: (56358, 177)\n"
     ]
    }
   ],
   "source": [
    "##### runhist data #####\n",
    "train_runhist = pd.read_csv('train_runhist.csv').iloc[:, 1:]\n",
    "test_runhist = pd.read_csv('test_runhist.csv').iloc[:, 1:]\n",
    "all_runhist = pd.concat([train_runhist, test_runhist], axis = 0)\n",
    "print('\\n', 'train_runhist:', train_runhist.shape, '\\n', 'test_runhist:', test_runhist.shape)"
   ]
  },
  {
   "cell_type": "markdown",
   "metadata": {},
   "source": [
    "#### reverse the one-hot features"
   ]
  },
  {
   "cell_type": "code",
   "execution_count": 10,
   "metadata": {
    "ExecuteTime": {
     "end_time": "2021-08-29T17:19:36.844259Z",
     "start_time": "2021-08-29T17:19:36.788590Z"
    }
   },
   "outputs": [],
   "source": [
    "##### runhist data with features need to be encode #####\n",
    "allcols = train_runhist.columns.to_list()\n",
    "subcols = allcols[:1] + allcols[122:-1]\n",
    "keepcols = allcols[:122] + allcols[-1:]\n",
    "\n",
    "train_undone = train_runhist[subcols]\n",
    "test_undone = test_runhist[subcols]\n",
    "train_keep = train_runhist[keepcols]\n",
    "test_keep = test_runhist[keepcols]"
   ]
  },
  {
   "cell_type": "code",
   "execution_count": 11,
   "metadata": {
    "ExecuteTime": {
     "end_time": "2021-08-29T17:19:55.719565Z",
     "start_time": "2021-08-29T17:19:39.195633Z"
    }
   },
   "outputs": [],
   "source": [
    "train_reverse = reverse_onehot(train_undone, train_keep)\n",
    "test_reverse = reverse_onehot(test_undone, test_keep)"
   ]
  },
  {
   "cell_type": "markdown",
   "metadata": {},
   "source": [
    "#### encoding"
   ]
  },
  {
   "cell_type": "code",
   "execution_count": 12,
   "metadata": {
    "ExecuteTime": {
     "end_time": "2021-08-29T17:20:09.016189Z",
     "start_time": "2021-08-29T17:19:56.470287Z"
    }
   },
   "outputs": [
    {
     "name": "stderr",
     "output_type": "stream",
     "text": [
      "C:\\Users\\user\\anaconda3\\envs\\aging\\lib\\site-packages\\category_encoders\\utils.py:21: FutureWarning: is_categorical is deprecated and will be removed in a future version.  Use is_categorical_dtype instead\n",
      "  elif pd.api.types.is_categorical(cols):\n"
     ]
    }
   ],
   "source": [
    "encode_train, encode_test = supervise_encoder(train_reverse, test_reverse, encoder = 'catboost', column_list = ['value'])\n",
    "\n",
    "encode_train = encode_train.rename(columns = {'value': 'op_catboost'})\n",
    "encode_test = encode_test.rename(columns = {'value': 'op_catboost'})\n",
    "\n",
    "mean_train = encode_train.groupby('id').mean().reset_index()\n",
    "mean_test = encode_test.groupby('id').mean().reset_index()\n",
    "\n",
    "mean_train.to_csv('train_encode.csv')\n",
    "mean_test.to_csv('test_encode.csv')"
   ]
  }
 ],
 "metadata": {
  "hide_input": false,
  "kernelspec": {
   "display_name": "Python [conda env:aging]",
   "language": "python",
   "name": "conda-env-aging-py"
  },
  "language_info": {
   "codemirror_mode": {
    "name": "ipython",
    "version": 3
   },
   "file_extension": ".py",
   "mimetype": "text/x-python",
   "name": "python",
   "nbconvert_exporter": "python",
   "pygments_lexer": "ipython3",
   "version": "3.7.10"
  },
  "toc": {
   "base_numbering": 1,
   "nav_menu": {},
   "number_sections": true,
   "sideBar": true,
   "skip_h1_title": false,
   "title_cell": "Table of Contents",
   "title_sidebar": "Contents",
   "toc_cell": false,
   "toc_position": {},
   "toc_section_display": true,
   "toc_window_display": true
  },
  "varInspector": {
   "cols": {
    "lenName": 16,
    "lenType": 16,
    "lenVar": 40
   },
   "kernels_config": {
    "python": {
     "delete_cmd_postfix": "",
     "delete_cmd_prefix": "del ",
     "library": "var_list.py",
     "varRefreshCmd": "print(var_dic_list())"
    },
    "r": {
     "delete_cmd_postfix": ") ",
     "delete_cmd_prefix": "rm(",
     "library": "var_list.r",
     "varRefreshCmd": "cat(var_dic_list()) "
    }
   },
   "types_to_exclude": [
    "module",
    "function",
    "builtin_function_or_method",
    "instance",
    "_Feature"
   ],
   "window_display": false
  }
 },
 "nbformat": 4,
 "nbformat_minor": 4
}
